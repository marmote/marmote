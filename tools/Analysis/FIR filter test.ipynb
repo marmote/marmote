{
 "metadata": {
  "name": "FIR filter test"
 },
 "nbformat": 3,
 "nbformat_minor": 0,
 "worksheets": [
  {
   "cells": [
    {
     "cell_type": "code",
     "collapsed": false,
     "input": [
      "import numpy as np\n",
      "from numpy import cos, sin, pi, absolute, arange\n",
      "from scipy.signal import kaiserord, lfilter, lfiltic, firwin, freqz\n",
      "from pylab import figure, clf, plot, xlabel, ylabel, xlim, ylim, title, grid, axes, show"
     ],
     "language": "python",
     "metadata": {},
     "outputs": [],
     "prompt_number": 11
    },
    {
     "cell_type": "code",
     "collapsed": false,
     "input": [
      "sample_rate = 750e3\n",
      "nsamples = 400"
     ],
     "language": "python",
     "metadata": {},
     "outputs": [],
     "prompt_number": 12
    },
    {
     "cell_type": "code",
     "collapsed": false,
     "input": [
      "#------------------------------------------------\n",
      "# Create a FIR filter\n",
      "#------------------------------------------------\n",
      "\n",
      "# The Nyquist rate of the signal.\n",
      "nyq_rate = sample_rate / 2.0\n",
      "\n",
      "# The desired width of the transition from pass to stop,\n",
      "# relative to the Nyquist rate.  \n",
      "tran_width = 100e3\n",
      "width = tran_width/nyq_rate\n",
      " \n",
      "# The desired attenuation in the stop band, in dB.\n",
      "ripple_db = 80.0\n",
      " \n",
      "# Compute the order and Kaiser parameter for the FIR filter.\n",
      "N, beta = kaiserord(ripple_db, width)\n",
      " \n",
      "# The cutoff frequency of the filter.\n",
      "cutoff_hz = 100e3\n",
      " \n",
      "# Use firwin with a Kaiser window to create a lowpass FIR filter.\n",
      "taps = firwin(N, cutoff_hz/nyq_rate, window=('kaiser', beta), pass_zero=False)"
     ],
     "language": "python",
     "metadata": {},
     "outputs": [],
     "prompt_number": 13
    },
    {
     "cell_type": "code",
     "collapsed": false,
     "input": [
      "#------------------------------------------------\n",
      "# Plot the FIR filter coefficients.\n",
      "#------------------------------------------------\n",
      " \n",
      "figure(1)\n",
      "plot(taps, 'bo-', linewidth=2)\n",
      "title('Filter Coefficients (%d taps)' % N)\n",
      "grid(True) "
     ],
     "language": "python",
     "metadata": {},
     "outputs": [],
     "prompt_number": 14
    },
    {
     "cell_type": "code",
     "collapsed": false,
     "input": [
      "#------------------------------------------------\n",
      "# Plot the magnitude response of the filter.\n",
      "#------------------------------------------------\n",
      " \n",
      "figure(2)\n",
      "clf()\n",
      "w, h = freqz(taps, worN=8000)\n",
      "plot((w/pi)*nyq_rate, 20*np.log10(absolute(h)), linewidth=2)\n",
      "xlabel('Frequency (Hz)')\n",
      "ylabel('Gain')\n",
      "title('Frequency Response')\n",
      "#ylim(-0.05, 1.05)\n",
      "grid(True)\n",
      " \n",
      "# Upper inset plot.\n",
      "ax1 = axes([0.42, 0.6, .45, .25])\n",
      "plot((w/pi)*nyq_rate, 20*np.log10(absolute(h)), linewidth=2)\n",
      "xlim(0,cutoff_hz-tran_width*0.4)\n",
      "ylim(-ripple_db-20, -ripple_db+5)\n",
      "grid(True)\n",
      " \n",
      "# Lower inset plot\n",
      "ax2 = axes([0.42, 0.25, .45, .25])\n",
      "plot((w/pi)*nyq_rate, 20*np.log10(absolute(h)), linewidth=2)\n",
      "xlim(cutoff_hz+tran_width*0.4, nyq_rate)\n",
      "ylim(-0.002, 0.002)\n",
      "grid(True) "
     ],
     "language": "python",
     "metadata": {},
     "outputs": [],
     "prompt_number": 15
    },
    {
     "cell_type": "code",
     "collapsed": false,
     "input": [
      "#------------------------------------------------\n",
      "# Create a signal for demonstration.\n",
      "#------------------------------------------------\n",
      "from helperfuncs.SignalGenerator import SignalGenerator\n",
      "\n",
      "x = SignalGenerator(N = nsamples, Fs = sample_rate, f_start = 10e3, f_stop = 150e3, f_steps = 3)        "
     ],
     "language": "python",
     "metadata": {},
     "outputs": [],
     "prompt_number": 16
    },
    {
     "cell_type": "code",
     "collapsed": false,
     "input": [
      "# Use lfilter to filter x with the FIR filter.\n",
      "filtered_x = lfilter(taps, 1.0, x) "
     ],
     "language": "python",
     "metadata": {},
     "outputs": [],
     "prompt_number": 17
    },
    {
     "cell_type": "code",
     "collapsed": false,
     "input": [
      "x1 = x[1:150]\n",
      "x2 = x[150:]\n",
      "\n",
      "filtered_x1 = lfilter(taps, 1.0, x1)\n",
      "zi = lfiltic(taps, 1.0, [], x1[-1:-1-len(taps):-1])\n",
      "filtered_x2 = lfilter(taps, 1.0, x2, zi=zi)\n",
      "\n",
      "print len(x)\n",
      "print len(x1)\n",
      "print len(x2)\n",
      "print len(filtered_x1)\n",
      "print len(zi)\n",
      "print len(filtered_x2)\n",
      "\n",
      "\n",
      "filtered_x12 = filtered_x1 + filtered_x2"
     ],
     "language": "python",
     "metadata": {},
     "outputs": [
      {
       "ename": "ValueError",
       "evalue": "operands could not be broadcast together with shapes (149) (2) ",
       "output_type": "pyerr",
       "traceback": [
        "\u001b[1;31m---------------------------------------------------------------------------\u001b[0m\n\u001b[1;31mValueError\u001b[0m                                Traceback (most recent call last)",
        "\u001b[1;32m<ipython-input-26-4e6527ae54a3>\u001b[0m in \u001b[0;36m<module>\u001b[1;34m()\u001b[0m\n\u001b[0;32m     14\u001b[0m \u001b[1;33m\u001b[0m\u001b[0m\n\u001b[0;32m     15\u001b[0m \u001b[1;33m\u001b[0m\u001b[0m\n\u001b[1;32m---> 16\u001b[1;33m \u001b[0mfiltered_x12\u001b[0m \u001b[1;33m=\u001b[0m \u001b[0mfiltered_x1\u001b[0m \u001b[1;33m+\u001b[0m \u001b[0mfiltered_x2\u001b[0m\u001b[1;33m\u001b[0m\u001b[0m\n\u001b[0m",
        "\u001b[1;31mValueError\u001b[0m: operands could not be broadcast together with shapes (149) (2) "
       ]
      },
      {
       "output_type": "stream",
       "stream": "stdout",
       "text": [
        "400\n",
        "149\n",
        "250\n",
        "149\n",
        "38\n",
        "2\n"
       ]
      }
     ],
     "prompt_number": 26
    },
    {
     "cell_type": "code",
     "collapsed": false,
     "input": [
      "#------------------------------------------------\n",
      "# Plot the original and filtered signals.\n",
      "#------------------------------------------------\n",
      "\n",
      "# The phase delay of the filtered signal.\n",
      "delay = 0.5 * (N-1) / sample_rate\n",
      "t = arange(nsamples) / sample_rate\n",
      "\n",
      "figure(3)\n",
      "# Plot the original signal.\n",
      "plot(t, x)\n",
      "# Plot the filtered signal, shifted to compensate for the phase delay.\n",
      "plot(t-delay, filtered_x, 'r-')\n",
      "# Plot just the \"good\" part of the filtered signal.  The first N-1\n",
      "# samples are \"corrupted\" by the initial conditions.\n",
      "plot(t[N-1:]-delay, filtered_x[N-1:], 'g', linewidth=4)\n",
      " \n",
      "xlabel('t')\n",
      "grid(True)\n",
      " \n",
      "show()"
     ],
     "language": "python",
     "metadata": {},
     "outputs": [],
     "prompt_number": 38
    },
    {
     "cell_type": "code",
     "collapsed": false,
     "input": [],
     "language": "python",
     "metadata": {},
     "outputs": []
    }
   ],
   "metadata": {}
  }
 ]
}
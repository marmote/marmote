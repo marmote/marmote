{
 "metadata": {
  "name": ""
 },
 "nbformat": 3,
 "nbformat_minor": 0,
 "worksheets": [
  {
   "cells": [
    {
     "cell_type": "heading",
     "level": 4,
     "metadata": {},
     "source": [
      "License (New 3-Clause BSD):"
     ]
    },
    {
     "cell_type": "markdown",
     "metadata": {},
     "source": [
      "Copyright (c) 2012-2013, <strong>Benjamin Babjak</strong> (babjak.b< at >isis.vanderbilt.edu)\n",
      "\n",
      "All rights reserved.\n",
      "\n",
      "Redistribution and use in source and binary forms, with or without modification, are permitted provided that the following conditions are met:\n",
      "\n",
      "* Redistributions of source code must retain the above copyright notice, this list of conditions and the following disclaimer.\n",
      "\n",
      "* Redistributions in binary form must reproduce the above copyright notice, this list of conditions and the following disclaimer in the documentation and/or other materials provided with the distribution.\n",
      "\n",
      "* Neither the name of the <strong>Institute for Software Integrated Systems, Vanderbilt University</strong> nor the names of its contributors may be used to endorse or promote products derived from this software without specific prior written permission.\n",
      "\n",
      "THIS SOFTWARE IS PROVIDED BY THE COPYRIGHT HOLDERS AND CONTRIBUTORS \"AS IS\" AND ANY EXPRESS OR IMPLIED WARRANTIES, INCLUDING, BUT NOT LIMITED TO, THE IMPLIED WARRANTIES OF MERCHANTABILITY AND FITNESS FOR A PARTICULAR PURPOSE ARE DISCLAIMED. IN NO EVENT SHALL THE COPYRIGHT HOLDER OR CONTRIBUTORS BE LIABLE FOR ANY DIRECT, INDIRECT, INCIDENTAL, SPECIAL, EXEMPLARY, OR CONSEQUENTIAL DAMAGES (INCLUDING, BUT NOT LIMITED TO, PROCUREMENT OF SUBSTITUTE GOODS OR SERVICES; LOSS OF USE, DATA, OR PROFITS; OR BUSINESS INTERRUPTION) HOWEVER CAUSED AND ON ANY THEORY OF LIABILITY, WHETHER IN CONTRACT, STRICT LIABILITY, OR TORT (INCLUDING NEGLIGENCE OR OTHERWISE) ARISING IN ANY WAY OUT OF THE USE OF THIS SOFTWARE, EVEN IF ADVISED OF THE POSSIBILITY OF SUCH DAMAGE."
     ]
    },
    {
     "cell_type": "heading",
     "level": 1,
     "metadata": {},
     "source": [
      "Analysis of acoustic emission events using threshold based onset time picker for the first aluminium break test"
     ]
    },
    {
     "cell_type": "markdown",
     "metadata": {},
     "source": [
      "."
     ]
    },
    {
     "cell_type": "heading",
     "level": 2,
     "metadata": {},
     "source": [
      "Read in preprocessed raw data"
     ]
    },
    {
     "cell_type": "markdown",
     "metadata": {},
     "source": [
      "First let's read in the data from BreakTest_AluminiumBeam measurement. Note that the threshold filter has already filtered out the frames with signals in them."
     ]
    },
    {
     "cell_type": "code",
     "collapsed": false,
     "input": [
      "from helperfuncs.Raw_Data.ReadAEMeas import ReadAEMeas\n",
      "\n",
      "dir = '../../../Measurements/BreakTest_AluminiumBeam/results.enhanced/1-0.5'\n",
      "y_1, y2_1, T_1, fnames_1, start_time_1 = ReadAEMeas(dir)\n",
      "\n",
      "dir = '../../../Measurements/BreakTest_AluminiumBeam/results.enhanced/2-0.75'\n",
      "y_2, y2_2, T_2, fnames_2, start_time_2 = ReadAEMeas(dir)\n",
      "\n",
      "dir = '../../../Measurements/BreakTest_AluminiumBeam/results.enhanced/3-0.8'\n",
      "y_3, y2_3, T_3, fnames_3, start_time_3 = ReadAEMeas(dir)\n",
      "\n",
      "dir = '../../../Measurements/BreakTest_AluminiumBeam/results.enhanced/4-1'\n",
      "y_4, y2_4, T_4, fnames_4, start_time_4 = ReadAEMeas(dir)\n",
      "\n",
      "Fs = 1/T_1\n",
      "#print Fs"
     ],
     "language": "python",
     "metadata": {},
     "outputs": [
      {
       "output_type": "stream",
       "stream": "stdout",
       "text": [
        "Module folder added to system path: /home/ubuntu/Marmote/tools/ControlRecord/ControlRecord\n",
        "Opening file: ../../../Measurements/BreakTest_AluminiumBeam/results.enhanced/1-0.5/collect_0.bin"
       ]
      },
      {
       "output_type": "stream",
       "stream": "stdout",
       "text": [
        "\n",
        "Closed file: ../../../Measurements/BreakTest_AluminiumBeam/results.enhanced/1-0.5/collect_0.bin\n",
        "Opening file: ../../../Measurements/BreakTest_AluminiumBeam/results.enhanced/1-0.5/collect_1.bin\n",
        "Closed file: ../../../Measurements/BreakTest_AluminiumBeam/results.enhanced/1-0.5/collect_1.bin\n",
        "Opening file: ../../../Measurements/BreakTest_AluminiumBeam/results.enhanced/1-0.5/collect_2.bin\n",
        "Closed file: ../../../Measurements/BreakTest_AluminiumBeam/results.enhanced/1-0.5/collect_2.bin\n",
        "Opening file: ../../../Measurements/BreakTest_AluminiumBeam/results.enhanced/1-0.5/collect_3.bin\n",
        "Closed file: ../../../Measurements/BreakTest_AluminiumBeam/results.enhanced/1-0.5/collect_3.bin\n",
        "Opening file: ../../../Measurements/BreakTest_AluminiumBeam/results.enhanced/1-0.5/collect_4.bin\n",
        "Closed file: ../../../Measurements/BreakTest_AluminiumBeam/results.enhanced/1-0.5/collect_4.bin\n",
        "Opening file: ../../../Measurements/BreakTest_AluminiumBeam/results.enhanced/1-0.5/collect_5.bin\n",
        "Closed file: ../../../Measurements/BreakTest_AluminiumBeam/results.enhanced/1-0.5/collect_5.bin\n",
        "Opening file: ../../../Measurements/BreakTest_AluminiumBeam/results.enhanced/1-0.5/collect_6.bin\n",
        "Closed file: ../../../Measurements/BreakTest_AluminiumBeam/results.enhanced/1-0.5/collect_6.bin"
       ]
      },
      {
       "output_type": "stream",
       "stream": "stdout",
       "text": [
        "\n",
        "Opening file: ../../../Measurements/BreakTest_AluminiumBeam/results.enhanced/1-0.5/collect_7.bin\n",
        "Closed file: ../../../Measurements/BreakTest_AluminiumBeam/results.enhanced/1-0.5/collect_7.bin\n",
        "Opening file: ../../../Measurements/BreakTest_AluminiumBeam/results.enhanced/1-0.5/collect_8.bin\n",
        "Closed file: ../../../Measurements/BreakTest_AluminiumBeam/results.enhanced/1-0.5/collect_8.bin\n",
        "Opening file: ../../../Measurements/BreakTest_AluminiumBeam/results.enhanced/1-0.5/collect_9.bin\n",
        "Closed file: ../../../Measurements/BreakTest_AluminiumBeam/results.enhanced/1-0.5/collect_9.bin\n",
        "Opening file: ../../../Measurements/BreakTest_AluminiumBeam/results.enhanced/1-0.5/collect_10.bin\n",
        "Closed file: ../../../Measurements/BreakTest_AluminiumBeam/results.enhanced/1-0.5/collect_10.bin\n",
        "Opening file: ../../../Measurements/BreakTest_AluminiumBeam/results.enhanced/1-0.5/collect_11.bin\n",
        "Closed file: ../../../Measurements/BreakTest_AluminiumBeam/results.enhanced/1-0.5/collect_11.bin\n",
        "Opening file: ../../../Measurements/BreakTest_AluminiumBeam/results.enhanced/1-0.5/collect_12.bin\n",
        "Closed file: ../../../Measurements/BreakTest_AluminiumBeam/results.enhanced/1-0.5/collect_12.bin"
       ]
      },
      {
       "output_type": "stream",
       "stream": "stdout",
       "text": [
        "\n",
        "Opening file: ../../../Measurements/BreakTest_AluminiumBeam/results.enhanced/1-0.5/collect_13.bin\n",
        "Closed file: ../../../Measurements/BreakTest_AluminiumBeam/results.enhanced/1-0.5/collect_13.bin\n",
        "Opening file: ../../../Measurements/BreakTest_AluminiumBeam/results.enhanced/1-0.5/collect_14.bin\n",
        "Closed file: ../../../Measurements/BreakTest_AluminiumBeam/results.enhanced/1-0.5/collect_14.bin\n",
        "Opening file: ../../../Measurements/BreakTest_AluminiumBeam/results.enhanced/1-0.5/collect_15.bin\n",
        "Closed file: ../../../Measurements/BreakTest_AluminiumBeam/results.enhanced/1-0.5/collect_15.bin\n",
        "Opening file: ../../../Measurements/BreakTest_AluminiumBeam/results.enhanced/1-0.5/collect_16.bin\n",
        "Closed file: ../../../Measurements/BreakTest_AluminiumBeam/results.enhanced/1-0.5/collect_16.bin\n",
        "Opening file: ../../../Measurements/BreakTest_AluminiumBeam/results.enhanced/1-0.5/collect_17.bin\n",
        "Closed file: ../../../Measurements/BreakTest_AluminiumBeam/results.enhanced/1-0.5/collect_17.bin\n",
        "Opening file: ../../../Measurements/BreakTest_AluminiumBeam/results.enhanced/1-0.5/collect_18.bin"
       ]
      },
      {
       "output_type": "stream",
       "stream": "stdout",
       "text": [
        "\n",
        "Closed file: ../../../Measurements/BreakTest_AluminiumBeam/results.enhanced/1-0.5/collect_18.bin\n",
        "Opening file: ../../../Measurements/BreakTest_AluminiumBeam/results.enhanced/1-0.5/collect_19.bin\n",
        "Closed file: ../../../Measurements/BreakTest_AluminiumBeam/results.enhanced/1-0.5/collect_19.bin\n",
        "Opening file: ../../../Measurements/BreakTest_AluminiumBeam/results.enhanced/1-0.5/collect_20.bin\n",
        "Closed file: ../../../Measurements/BreakTest_AluminiumBeam/results.enhanced/1-0.5/collect_20.bin\n",
        "Opening file: ../../../Measurements/BreakTest_AluminiumBeam/results.enhanced/1-0.5/collect_21.bin\n",
        "Closed file: ../../../Measurements/BreakTest_AluminiumBeam/results.enhanced/1-0.5/collect_21.bin\n",
        "Opening file: ../../../Measurements/BreakTest_AluminiumBeam/results.enhanced/1-0.5/collect_22.bin\n",
        "Closed file: ../../../Measurements/BreakTest_AluminiumBeam/results.enhanced/1-0.5/collect_22.bin\n",
        "Opening file: ../../../Measurements/BreakTest_AluminiumBeam/results.enhanced/1-0.5/collect_23.bin\n",
        "Closed file: ../../../Measurements/BreakTest_AluminiumBeam/results.enhanced/1-0.5/collect_23.bin"
       ]
      },
      {
       "output_type": "stream",
       "stream": "stdout",
       "text": [
        "\n",
        "Opening file: ../../../Measurements/BreakTest_AluminiumBeam/results.enhanced/1-0.5/collect_24.bin\n",
        "Closed file: ../../../Measurements/BreakTest_AluminiumBeam/results.enhanced/1-0.5/collect_24.bin\n",
        "Opening file: ../../../Measurements/BreakTest_AluminiumBeam/results.enhanced/1-0.5/collect_25.bin\n",
        "Closed file: ../../../Measurements/BreakTest_AluminiumBeam/results.enhanced/1-0.5/collect_25.bin\n",
        "Opening file: ../../../Measurements/BreakTest_AluminiumBeam/results.enhanced/1-0.5/collect_26.bin\n",
        "Closed file: ../../../Measurements/BreakTest_AluminiumBeam/results.enhanced/1-0.5/collect_26.bin\n",
        "Opening file: ../../../Measurements/BreakTest_AluminiumBeam/results.enhanced/1-0.5/collect_27.bin\n",
        "Closed file: ../../../Measurements/BreakTest_AluminiumBeam/results.enhanced/1-0.5/collect_27.bin\n",
        "Opening file: ../../../Measurements/BreakTest_AluminiumBeam/results.enhanced/1-0.5/collect_28.bin\n",
        "Closed file: ../../../Measurements/BreakTest_AluminiumBeam/results.enhanced/1-0.5/collect_28.bin\n",
        "Opening file: ../../../Measurements/BreakTest_AluminiumBeam/results.enhanced/1-0.5/collect_29.bin\n",
        "Closed file: ../../../Measurements/BreakTest_AluminiumBeam/results.enhanced/1-0.5/collect_29.bin"
       ]
      },
      {
       "output_type": "stream",
       "stream": "stdout",
       "text": [
        "\n",
        "Opening file: ../../../Measurements/BreakTest_AluminiumBeam/results.enhanced/1-0.5/collect_30.bin\n",
        "Closed file: ../../../Measurements/BreakTest_AluminiumBeam/results.enhanced/1-0.5/collect_30.bin\n",
        "Opening file: ../../../Measurements/BreakTest_AluminiumBeam/results.enhanced/1-0.5/collect_31.bin\n",
        "Closed file: ../../../Measurements/BreakTest_AluminiumBeam/results.enhanced/1-0.5/collect_31.bin\n",
        "Opening file: ../../../Measurements/BreakTest_AluminiumBeam/results.enhanced/1-0.5/collect_32.bin\n",
        "Closed file: ../../../Measurements/BreakTest_AluminiumBeam/results.enhanced/1-0.5/collect_32.bin\n",
        "Opening file: ../../../Measurements/BreakTest_AluminiumBeam/results.enhanced/1-0.5/collect_33.bin\n",
        "Closed file: ../../../Measurements/BreakTest_AluminiumBeam/results.enhanced/1-0.5/collect_33.bin\n",
        "Opening file: ../../../Measurements/BreakTest_AluminiumBeam/results.enhanced/1-0.5/collect_34.bin\n",
        "Closed file: ../../../Measurements/BreakTest_AluminiumBeam/results.enhanced/1-0.5/collect_34.bin\n",
        "Opening file: ../../../Measurements/BreakTest_AluminiumBeam/results.enhanced/1-0.5/collect_35.bin\n",
        "Closed file: ../../../Measurements/BreakTest_AluminiumBeam/results.enhanced/1-0.5/collect_35.bin\n",
        "Opening file: ../../../Measurements/BreakTest_AluminiumBeam/results.enhanced/1-0.5/collect_36.bin\n",
        "Closed file: ../../../Measurements/BreakTest_AluminiumBeam/results.enhanced/1-0.5/collect_36.bin"
       ]
      },
      {
       "output_type": "stream",
       "stream": "stdout",
       "text": [
        "\n",
        "Opening file: ../../../Measurements/BreakTest_AluminiumBeam/results.enhanced/1-0.5/collect_37.bin\n",
        "Closed file: ../../../Measurements/BreakTest_AluminiumBeam/results.enhanced/1-0.5/collect_37.bin\n",
        "Opening file: ../../../Measurements/BreakTest_AluminiumBeam/results.enhanced/1-0.5/collect_38.bin\n",
        "Closed file: ../../../Measurements/BreakTest_AluminiumBeam/results.enhanced/1-0.5/collect_38.bin\n",
        "Opening file: ../../../Measurements/BreakTest_AluminiumBeam/results.enhanced/1-0.5/collect_39.bin\n",
        "Closed file: ../../../Measurements/BreakTest_AluminiumBeam/results.enhanced/1-0.5/collect_39.bin\n",
        "Opening file: ../../../Measurements/BreakTest_AluminiumBeam/results.enhanced/1-0.5/collect_40.bin\n",
        "Closed file: ../../../Measurements/BreakTest_AluminiumBeam/results.enhanced/1-0.5/collect_40.bin\n",
        "Opening file: ../../../Measurements/BreakTest_AluminiumBeam/results.enhanced/1-0.5/collect_41.bin\n",
        "Closed file: ../../../Measurements/BreakTest_AluminiumBeam/results.enhanced/1-0.5/collect_41.bin\n",
        "Opening file: ../../../Measurements/BreakTest_AluminiumBeam/results.enhanced/1-0.5/collect_42.bin\n",
        "Closed file: ../../../Measurements/BreakTest_AluminiumBeam/results.enhanced/1-0.5/collect_42.bin\n",
        "Opening file: ../../../Measurements/BreakTest_AluminiumBeam/results.enhanced/1-0.5/collect_43.bin\n",
        "Closed file: ../../../Measurements/BreakTest_AluminiumBeam/results.enhanced/1-0.5/collect_43.bin"
       ]
      },
      {
       "output_type": "stream",
       "stream": "stdout",
       "text": [
        "\n",
        "Opening file: ../../../Measurements/BreakTest_AluminiumBeam/results.enhanced/1-0.5/collect_44.bin\n",
        "Closed file: ../../../Measurements/BreakTest_AluminiumBeam/results.enhanced/1-0.5/collect_44.bin\n",
        "Opening file: ../../../Measurements/BreakTest_AluminiumBeam/results.enhanced/1-0.5/collect_45.bin\n",
        "Closed file: ../../../Measurements/BreakTest_AluminiumBeam/results.enhanced/1-0.5/collect_45.bin\n",
        "Opening file: ../../../Measurements/BreakTest_AluminiumBeam/results.enhanced/1-0.5/collect_46.bin\n",
        "Closed file: ../../../Measurements/BreakTest_AluminiumBeam/results.enhanced/1-0.5/collect_46.bin\n",
        "Opening file: ../../../Measurements/BreakTest_AluminiumBeam/results.enhanced/1-0.5/collect_47.bin\n",
        "Closed file: ../../../Measurements/BreakTest_AluminiumBeam/results.enhanced/1-0.5/collect_47.bin\n",
        "Opening file: ../../../Measurements/BreakTest_AluminiumBeam/results.enhanced/1-0.5/collect_48.bin\n",
        "Closed file: ../../../Measurements/BreakTest_AluminiumBeam/results.enhanced/1-0.5/collect_48.bin\n",
        "Opening file: ../../../Measurements/BreakTest_AluminiumBeam/results.enhanced/1-0.5/collect_49.bin\n",
        "Closed file: ../../../Measurements/BreakTest_AluminiumBeam/results.enhanced/1-0.5/collect_49.bin\n",
        "Opening file: ../../../Measurements/BreakTest_AluminiumBeam/results.enhanced/1-0.5/collect_50.bin"
       ]
      },
      {
       "output_type": "stream",
       "stream": "stdout",
       "text": [
        "\n",
        "Closed file: ../../../Measurements/BreakTest_AluminiumBeam/results.enhanced/1-0.5/collect_50.bin\n",
        "Opening file: ../../../Measurements/BreakTest_AluminiumBeam/results.enhanced/1-0.5/collect_51.bin\n",
        "Closed file: ../../../Measurements/BreakTest_AluminiumBeam/results.enhanced/1-0.5/collect_51.bin\n",
        "Opening file: ../../../Measurements/BreakTest_AluminiumBeam/results.enhanced/1-0.5/collect_52.bin\n",
        "Closed file: ../../../Measurements/BreakTest_AluminiumBeam/results.enhanced/1-0.5/collect_52.bin\n",
        "Opening file: ../../../Measurements/BreakTest_AluminiumBeam/results.enhanced/1-0.5/collect_53.bin\n",
        "Closed file: ../../../Measurements/BreakTest_AluminiumBeam/results.enhanced/1-0.5/collect_53.bin\n",
        "Opening file: ../../../Measurements/BreakTest_AluminiumBeam/results.enhanced/1-0.5/collect_54.bin\n",
        "Closed file: ../../../Measurements/BreakTest_AluminiumBeam/results.enhanced/1-0.5/collect_54.bin\n",
        "Opening file: ../../../Measurements/BreakTest_AluminiumBeam/results.enhanced/1-0.5/collect_55.bin\n",
        "Closed file: ../../../Measurements/BreakTest_AluminiumBeam/results.enhanced/1-0.5/collect_55.bin\n",
        "Opening file: ../../../Measurements/BreakTest_AluminiumBeam/results.enhanced/1-0.5/collect_56.bin\n",
        "Closed file: ../../../Measurements/BreakTest_AluminiumBeam/results.enhanced/1-0.5/collect_56.bin"
       ]
      },
      {
       "output_type": "stream",
       "stream": "stdout",
       "text": [
        "\n",
        "Opening file: ../../../Measurements/BreakTest_AluminiumBeam/results.enhanced/1-0.5/collect_57.bin\n",
        "Closed file: ../../../Measurements/BreakTest_AluminiumBeam/results.enhanced/1-0.5/collect_57.bin\n",
        "Opening file: ../../../Measurements/BreakTest_AluminiumBeam/results.enhanced/1-0.5/collect_58.bin\n",
        "Closed file: ../../../Measurements/BreakTest_AluminiumBeam/results.enhanced/1-0.5/collect_58.bin\n",
        "Opening file: ../../../Measurements/BreakTest_AluminiumBeam/results.enhanced/1-0.5/collect_59.bin\n",
        "Closed file: ../../../Measurements/BreakTest_AluminiumBeam/results.enhanced/1-0.5/collect_59.bin\n",
        "Opening file: ../../../Measurements/BreakTest_AluminiumBeam/results.enhanced/1-0.5/collect_60.bin\n",
        "Closed file: ../../../Measurements/BreakTest_AluminiumBeam/results.enhanced/1-0.5/collect_60.bin\n",
        "Opening file: ../../../Measurements/BreakTest_AluminiumBeam/results.enhanced/1-0.5/collect_61.bin\n",
        "Closed file: ../../../Measurements/BreakTest_AluminiumBeam/results.enhanced/1-0.5/collect_61.bin"
       ]
      },
      {
       "output_type": "stream",
       "stream": "stdout",
       "text": [
        "\n",
        "Opening file: ../../../Measurements/BreakTest_AluminiumBeam/results.enhanced/1-0.5/collect_62.bin\n",
        "Closed file: ../../../Measurements/BreakTest_AluminiumBeam/results.enhanced/1-0.5/collect_62.bin\n",
        "Opening file: ../../../Measurements/BreakTest_AluminiumBeam/results.enhanced/1-0.5/collect_63.bin\n",
        "Closed file: ../../../Measurements/BreakTest_AluminiumBeam/results.enhanced/1-0.5/collect_63.bin\n",
        "Opening file: ../../../Measurements/BreakTest_AluminiumBeam/results.enhanced/1-0.5/collect_64.bin\n",
        "Closed file: ../../../Measurements/BreakTest_AluminiumBeam/results.enhanced/1-0.5/collect_64.bin\n",
        "Opening file: ../../../Measurements/BreakTest_AluminiumBeam/results.enhanced/1-0.5/collect_65.bin\n",
        "Closed file: ../../../Measurements/BreakTest_AluminiumBeam/results.enhanced/1-0.5/collect_65.bin\n",
        "Opening file: ../../../Measurements/BreakTest_AluminiumBeam/results.enhanced/1-0.5/collect_66.bin"
       ]
      },
      {
       "output_type": "stream",
       "stream": "stdout",
       "text": [
        "\n",
        "Closed file: ../../../Measurements/BreakTest_AluminiumBeam/results.enhanced/1-0.5/collect_66.bin\n",
        "Opening file: ../../../Measurements/BreakTest_AluminiumBeam/results.enhanced/1-0.5/collect_67.bin\n",
        "Closed file: ../../../Measurements/BreakTest_AluminiumBeam/results.enhanced/1-0.5/collect_67.bin\n",
        "Opening file: ../../../Measurements/BreakTest_AluminiumBeam/results.enhanced/1-0.5/collect_68.bin\n",
        "Closed file: ../../../Measurements/BreakTest_AluminiumBeam/results.enhanced/1-0.5/collect_68.bin\n",
        "Opening file: ../../../Measurements/BreakTest_AluminiumBeam/results.enhanced/1-0.5/collect_69.bin\n",
        "Closed file: ../../../Measurements/BreakTest_AluminiumBeam/results.enhanced/1-0.5/collect_69.bin\n",
        "Opening file: ../../../Measurements/BreakTest_AluminiumBeam/results.enhanced/1-0.5/collect_70.bin\n",
        "Closed file: ../../../Measurements/BreakTest_AluminiumBeam/results.enhanced/1-0.5/collect_70.bin\n",
        "Opening file: ../../../Measurements/BreakTest_AluminiumBeam/results.enhanced/1-0.5/collect_71.bin\n",
        "Closed file: ../../../Measurements/BreakTest_AluminiumBeam/results.enhanced/1-0.5/collect_71.bin"
       ]
      },
      {
       "output_type": "stream",
       "stream": "stdout",
       "text": [
        "\n",
        "Opening file: ../../../Measurements/BreakTest_AluminiumBeam/results.enhanced/1-0.5/collect_72.bin\n",
        "Closed file: ../../../Measurements/BreakTest_AluminiumBeam/results.enhanced/1-0.5/collect_72.bin\n",
        "Opening file: ../../../Measurements/BreakTest_AluminiumBeam/results.enhanced/1-0.5/collect_73.bin\n",
        "Closed file: ../../../Measurements/BreakTest_AluminiumBeam/results.enhanced/1-0.5/collect_73.bin\n",
        "Opening file: ../../../Measurements/BreakTest_AluminiumBeam/results.enhanced/1-0.5/collect_74.bin\n",
        "Closed file: ../../../Measurements/BreakTest_AluminiumBeam/results.enhanced/1-0.5/collect_74.bin\n",
        "Opening file: ../../../Measurements/BreakTest_AluminiumBeam/results.enhanced/1-0.5/collect_75.bin\n",
        "Closed file: ../../../Measurements/BreakTest_AluminiumBeam/results.enhanced/1-0.5/collect_75.bin"
       ]
      },
      {
       "output_type": "stream",
       "stream": "stdout",
       "text": [
        "\n",
        "Opening file: ../../../Measurements/BreakTest_AluminiumBeam/results.enhanced/1-0.5/collect_76.bin\n",
        "Closed file: ../../../Measurements/BreakTest_AluminiumBeam/results.enhanced/1-0.5/collect_76.bin\n",
        "Opening file: ../../../Measurements/BreakTest_AluminiumBeam/results.enhanced/1-0.5/collect_77.bin\n",
        "Closed file: ../../../Measurements/BreakTest_AluminiumBeam/results.enhanced/1-0.5/collect_77.bin\n",
        "Opening file: ../../../Measurements/BreakTest_AluminiumBeam/results.enhanced/1-0.5/collect_78.bin\n",
        "Closed file: ../../../Measurements/BreakTest_AluminiumBeam/results.enhanced/1-0.5/collect_78.bin\n",
        "Opening file: ../../../Measurements/BreakTest_AluminiumBeam/results.enhanced/1-0.5/collect_79.bin\n",
        "Closed file: ../../../Measurements/BreakTest_AluminiumBeam/results.enhanced/1-0.5/collect_79.bin"
       ]
      },
      {
       "output_type": "stream",
       "stream": "stdout",
       "text": [
        "\n",
        "Opening file: ../../../Measurements/BreakTest_AluminiumBeam/results.enhanced/1-0.5/collect_80.bin\n",
        "Closed file: ../../../Measurements/BreakTest_AluminiumBeam/results.enhanced/1-0.5/collect_80.bin\n",
        "Opening file: ../../../Measurements/BreakTest_AluminiumBeam/results.enhanced/1-0.5/collect_81.bin\n",
        "Closed file: ../../../Measurements/BreakTest_AluminiumBeam/results.enhanced/1-0.5/collect_81.bin\n",
        "Opening file: ../../../Measurements/BreakTest_AluminiumBeam/results.enhanced/1-0.5/collect_82.bin\n",
        "Closed file: ../../../Measurements/BreakTest_AluminiumBeam/results.enhanced/1-0.5/collect_82.bin\n",
        "Opening file: ../../../Measurements/BreakTest_AluminiumBeam/results.enhanced/1-0.5/collect_83.bin\n",
        "Closed file: ../../../Measurements/BreakTest_AluminiumBeam/results.enhanced/1-0.5/collect_83.bin"
       ]
      },
      {
       "output_type": "stream",
       "stream": "stdout",
       "text": [
        "\n",
        "Opening file: ../../../Measurements/BreakTest_AluminiumBeam/results.enhanced/1-0.5/collect_84.bin\n",
        "Closed file: ../../../Measurements/BreakTest_AluminiumBeam/results.enhanced/1-0.5/collect_84.bin\n",
        "Opening file: ../../../Measurements/BreakTest_AluminiumBeam/results.enhanced/1-0.5/collect_85.bin\n",
        "Closed file: ../../../Measurements/BreakTest_AluminiumBeam/results.enhanced/1-0.5/collect_85.bin\n",
        "Opening file: ../../../Measurements/BreakTest_AluminiumBeam/results.enhanced/1-0.5/collect_86.bin\n",
        "Closed file: ../../../Measurements/BreakTest_AluminiumBeam/results.enhanced/1-0.5/collect_86.bin\n",
        "Opening file: ../../../Measurements/BreakTest_AluminiumBeam/results.enhanced/1-0.5/collect_87.bin\n",
        "Closed file: ../../../Measurements/BreakTest_AluminiumBeam/results.enhanced/1-0.5/collect_87.bin"
       ]
      },
      {
       "output_type": "stream",
       "stream": "stdout",
       "text": [
        "\n",
        "Opening file: ../../../Measurements/BreakTest_AluminiumBeam/results.enhanced/1-0.5/collect_88.bin\n",
        "Closed file: ../../../Measurements/BreakTest_AluminiumBeam/results.enhanced/1-0.5/collect_88.bin\n",
        "Opening file: ../../../Measurements/BreakTest_AluminiumBeam/results.enhanced/1-0.5/collect_89.bin\n",
        "Closed file: ../../../Measurements/BreakTest_AluminiumBeam/results.enhanced/1-0.5/collect_89.bin\n",
        "Opening file: ../../../Measurements/BreakTest_AluminiumBeam/results.enhanced/1-0.5/collect_90.bin\n",
        "Closed file: ../../../Measurements/BreakTest_AluminiumBeam/results.enhanced/1-0.5/collect_90.bin\n",
        "Opening file: ../../../Measurements/BreakTest_AluminiumBeam/results.enhanced/1-0.5/collect_91.bin\n",
        "Closed file: ../../../Measurements/BreakTest_AluminiumBeam/results.enhanced/1-0.5/collect_91.bin"
       ]
      },
      {
       "output_type": "stream",
       "stream": "stdout",
       "text": [
        "\n",
        "Opening file: ../../../Measurements/BreakTest_AluminiumBeam/results.enhanced/1-0.5/collect_92.bin\n",
        "Closed file: ../../../Measurements/BreakTest_AluminiumBeam/results.enhanced/1-0.5/collect_92.bin\n",
        "Opening file: ../../../Measurements/BreakTest_AluminiumBeam/results.enhanced/1-0.5/collect_93.bin\n",
        "Closed file: ../../../Measurements/BreakTest_AluminiumBeam/results.enhanced/1-0.5/collect_93.bin\n",
        "Opening file: ../../../Measurements/BreakTest_AluminiumBeam/results.enhanced/1-0.5/collect_94.bin\n",
        "Closed file: ../../../Measurements/BreakTest_AluminiumBeam/results.enhanced/1-0.5/collect_94.bin"
       ]
      },
      {
       "output_type": "stream",
       "stream": "stdout",
       "text": [
        "\n",
        "Opening file: ../../../Measurements/BreakTest_AluminiumBeam/results.enhanced/1-0.5/collect_95.bin\n",
        "Closed file: ../../../Measurements/BreakTest_AluminiumBeam/results.enhanced/1-0.5/collect_95.bin\n",
        "Opening file: ../../../Measurements/BreakTest_AluminiumBeam/results.enhanced/1-0.5/collect_96.bin\n",
        "Closed file: ../../../Measurements/BreakTest_AluminiumBeam/results.enhanced/1-0.5/collect_96.bin\n",
        "Opening file: ../../../Measurements/BreakTest_AluminiumBeam/results.enhanced/1-0.5/collect_97.bin\n",
        "Closed file: ../../../Measurements/BreakTest_AluminiumBeam/results.enhanced/1-0.5/collect_97.bin\n",
        "Opening file: ../../../Measurements/BreakTest_AluminiumBeam/results.enhanced/1-0.5/collect_98.bin"
       ]
      },
      {
       "output_type": "stream",
       "stream": "stdout",
       "text": [
        "\n",
        "Closed file: ../../../Measurements/BreakTest_AluminiumBeam/results.enhanced/1-0.5/collect_98.bin\n",
        "Opening file: ../../../Measurements/BreakTest_AluminiumBeam/results.enhanced/1-0.5/collect_99.bin\n",
        "Closed file: ../../../Measurements/BreakTest_AluminiumBeam/results.enhanced/1-0.5/collect_99.bin\n",
        "Opening file: ../../../Measurements/BreakTest_AluminiumBeam/results.enhanced/1-0.5/collect_100.bin\n",
        "Closed file: ../../../Measurements/BreakTest_AluminiumBeam/results.enhanced/1-0.5/collect_100.bin"
       ]
      },
      {
       "output_type": "stream",
       "stream": "stdout",
       "text": [
        "\n",
        "Opening file: ../../../Measurements/BreakTest_AluminiumBeam/results.enhanced/1-0.5/collect_101.bin\n",
        "Closed file: ../../../Measurements/BreakTest_AluminiumBeam/results.enhanced/1-0.5/collect_101.bin\n",
        "Opening file: ../../../Measurements/BreakTest_AluminiumBeam/results.enhanced/1-0.5/collect_102.bin\n",
        "Closed file: ../../../Measurements/BreakTest_AluminiumBeam/results.enhanced/1-0.5/collect_102.bin\n",
        "Opening file: ../../../Measurements/BreakTest_AluminiumBeam/results.enhanced/1-0.5/collect_103.bin\n",
        "Closed file: ../../../Measurements/BreakTest_AluminiumBeam/results.enhanced/1-0.5/collect_103.bin\n",
        "Opening file: ../../../Measurements/BreakTest_AluminiumBeam/results.enhanced/1-0.5/collect_104.bin\n",
        "Closed file: ../../../Measurements/BreakTest_AluminiumBeam/results.enhanced/1-0.5/collect_104.bin\n",
        "Opening file: ../../../Measurements/BreakTest_AluminiumBeam/results.enhanced/1-0.5/collect_105.bin\n",
        "Closed file: ../../../Measurements/BreakTest_AluminiumBeam/results.enhanced/1-0.5/collect_105.bin\n",
        "Opening file: ../../../Measurements/BreakTest_AluminiumBeam/results.enhanced/1-0.5/collect_106.bin"
       ]
      },
      {
       "output_type": "stream",
       "stream": "stdout",
       "text": [
        "\n",
        "Closed file: ../../../Measurements/BreakTest_AluminiumBeam/results.enhanced/1-0.5/collect_106.bin\n",
        "Opening file: ../../../Measurements/BreakTest_AluminiumBeam/results.enhanced/1-0.5/collect_107.bin\n",
        "Closed file: ../../../Measurements/BreakTest_AluminiumBeam/results.enhanced/1-0.5/collect_107.bin\n",
        "Opening file: ../../../Measurements/BreakTest_AluminiumBeam/results.enhanced/1-0.5/collect_108.bin\n",
        "Closed file: ../../../Measurements/BreakTest_AluminiumBeam/results.enhanced/1-0.5/collect_108.bin\n",
        "Opening file: ../../../Measurements/BreakTest_AluminiumBeam/results.enhanced/1-0.5/collect_109.bin\n",
        "Closed file: ../../../Measurements/BreakTest_AluminiumBeam/results.enhanced/1-0.5/collect_109.bin\n",
        "Opening file: ../../../Measurements/BreakTest_AluminiumBeam/results.enhanced/1-0.5/collect_110.bin\n",
        "Closed file: ../../../Measurements/BreakTest_AluminiumBeam/results.enhanced/1-0.5/collect_110.bin\n",
        "Opening file: ../../../Measurements/BreakTest_AluminiumBeam/results.enhanced/1-0.5/collect_111.bin\n",
        "Closed file: ../../../Measurements/BreakTest_AluminiumBeam/results.enhanced/1-0.5/collect_111.bin\n",
        "Opening file: ../../../Measurements/BreakTest_AluminiumBeam/results.enhanced/1-0.5/collect_112.bin\n",
        "Closed file: ../../../Measurements/BreakTest_AluminiumBeam/results.enhanced/1-0.5/collect_112.bin"
       ]
      },
      {
       "output_type": "stream",
       "stream": "stdout",
       "text": [
        "\n",
        "Opening file: ../../../Measurements/BreakTest_AluminiumBeam/results.enhanced/1-0.5/collect_113.bin\n",
        "Closed file: ../../../Measurements/BreakTest_AluminiumBeam/results.enhanced/1-0.5/collect_113.bin\n",
        "Opening file: ../../../Measurements/BreakTest_AluminiumBeam/results.enhanced/1-0.5/collect_114.bin\n",
        "Closed file: ../../../Measurements/BreakTest_AluminiumBeam/results.enhanced/1-0.5/collect_114.bin\n",
        "Opening file: ../../../Measurements/BreakTest_AluminiumBeam/results.enhanced/1-0.5/collect_115.bin\n",
        "Closed file: ../../../Measurements/BreakTest_AluminiumBeam/results.enhanced/1-0.5/collect_115.bin\n",
        "Opening file: ../../../Measurements/BreakTest_AluminiumBeam/results.enhanced/1-0.5/collect_116.bin\n",
        "Closed file: ../../../Measurements/BreakTest_AluminiumBeam/results.enhanced/1-0.5/collect_116.bin\n",
        "Opening file: ../../../Measurements/BreakTest_AluminiumBeam/results.enhanced/1-0.5/collect_117.bin\n",
        "Closed file: ../../../Measurements/BreakTest_AluminiumBeam/results.enhanced/1-0.5/collect_117.bin"
       ]
      },
      {
       "output_type": "stream",
       "stream": "stdout",
       "text": [
        "\n",
        "Opening file: ../../../Measurements/BreakTest_AluminiumBeam/results.enhanced/1-0.5/collect_118.bin\n",
        "Closed file: ../../../Measurements/BreakTest_AluminiumBeam/results.enhanced/1-0.5/collect_118.bin\n",
        "Opening file: ../../../Measurements/BreakTest_AluminiumBeam/results.enhanced/1-0.5/collect_119.bin\n",
        "Closed file: ../../../Measurements/BreakTest_AluminiumBeam/results.enhanced/1-0.5/collect_119.bin\n",
        "Opening file: ../../../Measurements/BreakTest_AluminiumBeam/results.enhanced/1-0.5/collect_120.bin\n",
        "Closed file: ../../../Measurements/BreakTest_AluminiumBeam/results.enhanced/1-0.5/collect_120.bin\n",
        "Opening file: ../../../Measurements/BreakTest_AluminiumBeam/results.enhanced/1-0.5/collect_121.bin\n",
        "Closed file: ../../../Measurements/BreakTest_AluminiumBeam/results.enhanced/1-0.5/collect_121.bin"
       ]
      },
      {
       "output_type": "stream",
       "stream": "stdout",
       "text": [
        "\n",
        "Opening file: ../../../Measurements/BreakTest_AluminiumBeam/results.enhanced/1-0.5/collect_122.bin\n",
        "Closed file: ../../../Measurements/BreakTest_AluminiumBeam/results.enhanced/1-0.5/collect_122.bin\n",
        "Opening file: ../../../Measurements/BreakTest_AluminiumBeam/results.enhanced/1-0.5/collect_123.bin\n",
        "Closed file: ../../../Measurements/BreakTest_AluminiumBeam/results.enhanced/1-0.5/collect_123.bin\n",
        "Opening file: ../../../Measurements/BreakTest_AluminiumBeam/results.enhanced/1-0.5/collect_124.bin\n",
        "Closed file: ../../../Measurements/BreakTest_AluminiumBeam/results.enhanced/1-0.5/collect_124.bin\n",
        "Opening file: ../../../Measurements/BreakTest_AluminiumBeam/results.enhanced/1-0.5/collect_125.bin\n",
        "Closed file: ../../../Measurements/BreakTest_AluminiumBeam/results.enhanced/1-0.5/collect_125.bin"
       ]
      },
      {
       "output_type": "stream",
       "stream": "stdout",
       "text": [
        "\n",
        "Opening file: ../../../Measurements/BreakTest_AluminiumBeam/results.enhanced/1-0.5/collect_126.bin\n",
        "Closed file: ../../../Measurements/BreakTest_AluminiumBeam/results.enhanced/1-0.5/collect_126.bin\n",
        "Opening file: ../../../Measurements/BreakTest_AluminiumBeam/results.enhanced/1-0.5/collect_127.bin\n",
        "Closed file: ../../../Measurements/BreakTest_AluminiumBeam/results.enhanced/1-0.5/collect_127.bin\n",
        "Opening file: ../../../Measurements/BreakTest_AluminiumBeam/results.enhanced/1-0.5/collect_128.bin\n",
        "Closed file: ../../../Measurements/BreakTest_AluminiumBeam/results.enhanced/1-0.5/collect_128.bin\n",
        "Opening file: ../../../Measurements/BreakTest_AluminiumBeam/results.enhanced/1-0.5/collect_129.bin\n",
        "Closed file: ../../../Measurements/BreakTest_AluminiumBeam/results.enhanced/1-0.5/collect_129.bin"
       ]
      },
      {
       "output_type": "stream",
       "stream": "stdout",
       "text": [
        "\n",
        "Opening file: ../../../Measurements/BreakTest_AluminiumBeam/results.enhanced/1-0.5/collect_130.bin\n",
        "Closed file: ../../../Measurements/BreakTest_AluminiumBeam/results.enhanced/1-0.5/collect_130.bin\n",
        "Opening file: ../../../Measurements/BreakTest_AluminiumBeam/results.enhanced/1-0.5/collect_131.bin\n",
        "Closed file: ../../../Measurements/BreakTest_AluminiumBeam/results.enhanced/1-0.5/collect_131.bin\n",
        "Opening file: ../../../Measurements/BreakTest_AluminiumBeam/results.enhanced/1-0.5/collect_132.bin\n",
        "Closed file: ../../../Measurements/BreakTest_AluminiumBeam/results.enhanced/1-0.5/collect_132.bin\n",
        "Opening file: ../../../Measurements/BreakTest_AluminiumBeam/results.enhanced/1-0.5/collect_133.bin\n",
        "Closed file: ../../../Measurements/BreakTest_AluminiumBeam/results.enhanced/1-0.5/collect_133.bin"
       ]
      },
      {
       "output_type": "stream",
       "stream": "stdout",
       "text": [
        "\n",
        "Opening file: ../../../Measurements/BreakTest_AluminiumBeam/results.enhanced/1-0.5/collect_134.bin\n",
        "Closed file: ../../../Measurements/BreakTest_AluminiumBeam/results.enhanced/1-0.5/collect_134.bin\n",
        "Opening file: ../../../Measurements/BreakTest_AluminiumBeam/results.enhanced/1-0.5/collect_135.bin\n",
        "Closed file: ../../../Measurements/BreakTest_AluminiumBeam/results.enhanced/1-0.5/collect_135.bin\n",
        "Opening file: ../../../Measurements/BreakTest_AluminiumBeam/results.enhanced/1-0.5/collect_136.bin\n",
        "Closed file: ../../../Measurements/BreakTest_AluminiumBeam/results.enhanced/1-0.5/collect_136.bin"
       ]
      },
      {
       "output_type": "stream",
       "stream": "stdout",
       "text": [
        "\n",
        "Opening file: ../../../Measurements/BreakTest_AluminiumBeam/results.enhanced/1-0.5/collect_137.bin\n",
        "Closed file: ../../../Measurements/BreakTest_AluminiumBeam/results.enhanced/1-0.5/collect_137.bin\n",
        "Opening file: ../../../Measurements/BreakTest_AluminiumBeam/results.enhanced/1-0.5/collect_138.bin\n",
        "Closed file: ../../../Measurements/BreakTest_AluminiumBeam/results.enhanced/1-0.5/collect_138.bin\n",
        "Opening file: ../../../Measurements/BreakTest_AluminiumBeam/results.enhanced/1-0.5/collect_139.bin\n",
        "Closed file: ../../../Measurements/BreakTest_AluminiumBeam/results.enhanced/1-0.5/collect_139.bin\n",
        "Opening file: ../../../Measurements/BreakTest_AluminiumBeam/results.enhanced/1-0.5/collect_140.bin"
       ]
      },
      {
       "output_type": "stream",
       "stream": "stdout",
       "text": [
        "\n",
        "Closed file: ../../../Measurements/BreakTest_AluminiumBeam/results.enhanced/1-0.5/collect_140.bin\n",
        "Opening file: ../../../Measurements/BreakTest_AluminiumBeam/results.enhanced/1-0.5/collect_141.bin\n",
        "Closed file: ../../../Measurements/BreakTest_AluminiumBeam/results.enhanced/1-0.5/collect_141.bin\n",
        "Opening file: ../../../Measurements/BreakTest_AluminiumBeam/results.enhanced/1-0.5/collect_142.bin\n",
        "Closed file: ../../../Measurements/BreakTest_AluminiumBeam/results.enhanced/1-0.5/collect_142.bin\n",
        "Opening file: ../../../Measurements/BreakTest_AluminiumBeam/results.enhanced/1-0.5/collect_143.bin"
       ]
      },
      {
       "output_type": "stream",
       "stream": "stdout",
       "text": [
        "\n",
        "Closed file: ../../../Measurements/BreakTest_AluminiumBeam/results.enhanced/1-0.5/collect_143.bin\n",
        "Opening file: ../../../Measurements/BreakTest_AluminiumBeam/results.enhanced/1-0.5/collect_144.bin\n",
        "Closed file: ../../../Measurements/BreakTest_AluminiumBeam/results.enhanced/1-0.5/collect_144.bin\n",
        "Opening file: ../../../Measurements/BreakTest_AluminiumBeam/results.enhanced/1-0.5/collect_145.bin\n",
        "Closed file: ../../../Measurements/BreakTest_AluminiumBeam/results.enhanced/1-0.5/collect_145.bin\n",
        "Opening file: ../../../Measurements/BreakTest_AluminiumBeam/results.enhanced/1-0.5/collect_146.bin\n",
        "Closed file: ../../../Measurements/BreakTest_AluminiumBeam/results.enhanced/1-0.5/collect_146.bin\n",
        "Opening file: ../../../Measurements/BreakTest_AluminiumBeam/results.enhanced/1-0.5/collect_147.bin"
       ]
      },
      {
       "output_type": "stream",
       "stream": "stdout",
       "text": [
        "\n",
        "Closed file: ../../../Measurements/BreakTest_AluminiumBeam/results.enhanced/1-0.5/collect_147.bin\n",
        "Opening file: ../../../Measurements/BreakTest_AluminiumBeam/results.enhanced/1-0.5/collect_148.bin\n",
        "Closed file: ../../../Measurements/BreakTest_AluminiumBeam/results.enhanced/1-0.5/collect_148.bin\n",
        "Opening file: ../../../Measurements/BreakTest_AluminiumBeam/results.enhanced/1-0.5/collect_149.bin\n",
        "Closed file: ../../../Measurements/BreakTest_AluminiumBeam/results.enhanced/1-0.5/collect_149.bin\n",
        "Opening file: ../../../Measurements/BreakTest_AluminiumBeam/results.enhanced/1-0.5/collect_150.bin\n",
        "Closed file: ../../../Measurements/BreakTest_AluminiumBeam/results.enhanced/1-0.5/collect_150.bin"
       ]
      },
      {
       "output_type": "stream",
       "stream": "stdout",
       "text": [
        "\n",
        "Opening file: ../../../Measurements/BreakTest_AluminiumBeam/results.enhanced/1-0.5/collect_151.bin\n",
        "Closed file: ../../../Measurements/BreakTest_AluminiumBeam/results.enhanced/1-0.5/collect_151.bin\n",
        "Opening file: ../../../Measurements/BreakTest_AluminiumBeam/results.enhanced/1-0.5/collect_152.bin\n",
        "Closed file: ../../../Measurements/BreakTest_AluminiumBeam/results.enhanced/1-0.5/collect_152.bin\n",
        "Opening file: ../../../Measurements/BreakTest_AluminiumBeam/results.enhanced/1-0.5/collect_153.bin\n",
        "Closed file: ../../../Measurements/BreakTest_AluminiumBeam/results.enhanced/1-0.5/collect_153.bin\n",
        "Opening file: ../../../Measurements/BreakTest_AluminiumBeam/results.enhanced/1-0.5/collect_154.bin\n",
        "Closed file: ../../../Measurements/BreakTest_AluminiumBeam/results.enhanced/1-0.5/collect_154.bin"
       ]
      },
      {
       "output_type": "stream",
       "stream": "stdout",
       "text": [
        "\n",
        "Opening file: ../../../Measurements/BreakTest_AluminiumBeam/results.enhanced/1-0.5/collect_155.bin\n",
        "Closed file: ../../../Measurements/BreakTest_AluminiumBeam/results.enhanced/1-0.5/collect_155.bin\n",
        "Opening file: ../../../Measurements/BreakTest_AluminiumBeam/results.enhanced/1-0.5/collect_156.bin\n",
        "Closed file: ../../../Measurements/BreakTest_AluminiumBeam/results.enhanced/1-0.5/collect_156.bin\n",
        "Opening file: ../../../Measurements/BreakTest_AluminiumBeam/results.enhanced/1-0.5/collect_157.bin\n",
        "Closed file: ../../../Measurements/BreakTest_AluminiumBeam/results.enhanced/1-0.5/collect_157.bin\n",
        "Opening file: ../../../Measurements/BreakTest_AluminiumBeam/results.enhanced/1-0.5/collect_158.bin\n",
        "Closed file: ../../../Measurements/BreakTest_AluminiumBeam/results.enhanced/1-0.5/collect_158.bin\n",
        "Opening file: ../../../Measurements/BreakTest_AluminiumBeam/results.enhanced/1-0.5/collect_159.bin"
       ]
      },
      {
       "output_type": "stream",
       "stream": "stdout",
       "text": [
        "\n",
        "Closed file: ../../../Measurements/BreakTest_AluminiumBeam/results.enhanced/1-0.5/collect_159.bin\n",
        "Opening file: ../../../Measurements/BreakTest_AluminiumBeam/results.enhanced/1-0.5/collect_160.bin\n",
        "Closed file: ../../../Measurements/BreakTest_AluminiumBeam/results.enhanced/1-0.5/collect_160.bin\n",
        "Opening file: ../../../Measurements/BreakTest_AluminiumBeam/results.enhanced/1-0.5/collect_161.bin\n",
        "Closed file: ../../../Measurements/BreakTest_AluminiumBeam/results.enhanced/1-0.5/collect_161.bin\n",
        "Opening file: ../../../Measurements/BreakTest_AluminiumBeam/results.enhanced/1-0.5/collect_162.bin\n",
        "Closed file: ../../../Measurements/BreakTest_AluminiumBeam/results.enhanced/1-0.5/collect_162.bin\n",
        "Opening file: ../../../Measurements/BreakTest_AluminiumBeam/results.enhanced/1-0.5/collect_163.bin"
       ]
      },
      {
       "output_type": "stream",
       "stream": "stdout",
       "text": [
        "\n",
        "Closed file: ../../../Measurements/BreakTest_AluminiumBeam/results.enhanced/1-0.5/collect_163.bin\n",
        "Opening file: ../../../Measurements/BreakTest_AluminiumBeam/results.enhanced/1-0.5/collect_164.bin\n",
        "Closed file: ../../../Measurements/BreakTest_AluminiumBeam/results.enhanced/1-0.5/collect_164.bin\n",
        "Opening file: ../../../Measurements/BreakTest_AluminiumBeam/results.enhanced/1-0.5/collect_165.bin\n",
        "Closed file: ../../../Measurements/BreakTest_AluminiumBeam/results.enhanced/1-0.5/collect_165.bin\n",
        "Opening file: ../../../Measurements/BreakTest_AluminiumBeam/results.enhanced/1-0.5/collect_166.bin\n",
        "Closed file: ../../../Measurements/BreakTest_AluminiumBeam/results.enhanced/1-0.5/collect_166.bin\n",
        "Opening file: ../../../Measurements/BreakTest_AluminiumBeam/results.enhanced/1-0.5/collect_167.bin"
       ]
      },
      {
       "output_type": "stream",
       "stream": "stdout",
       "text": [
        "\n",
        "Closed file: ../../../Measurements/BreakTest_AluminiumBeam/results.enhanced/1-0.5/collect_167.bin\n",
        "Opening file: ../../../Measurements/BreakTest_AluminiumBeam/results.enhanced/1-0.5/collect_168.bin\n",
        "Closed file: ../../../Measurements/BreakTest_AluminiumBeam/results.enhanced/1-0.5/collect_168.bin\n",
        "Opening file: ../../../Measurements/BreakTest_AluminiumBeam/results.enhanced/1-0.5/collect_169.bin\n",
        "Closed file: ../../../Measurements/BreakTest_AluminiumBeam/results.enhanced/1-0.5/collect_169.bin"
       ]
      },
      {
       "output_type": "stream",
       "stream": "stdout",
       "text": [
        "\n",
        "Opening file: ../../../Measurements/BreakTest_AluminiumBeam/results.enhanced/1-0.5/collect_170.bin\n",
        "Closed file: ../../../Measurements/BreakTest_AluminiumBeam/results.enhanced/1-0.5/collect_170.bin\n",
        "Opening file: ../../../Measurements/BreakTest_AluminiumBeam/results.enhanced/1-0.5/collect_171.bin\n",
        "Closed file: ../../../Measurements/BreakTest_AluminiumBeam/results.enhanced/1-0.5/collect_171.bin\n",
        "Opening file: ../../../Measurements/BreakTest_AluminiumBeam/results.enhanced/1-0.5/collect_172.bin"
       ]
      },
      {
       "output_type": "stream",
       "stream": "stdout",
       "text": [
        "\n",
        "Closed file: ../../../Measurements/BreakTest_AluminiumBeam/results.enhanced/1-0.5/collect_172.bin\n",
        "Opening file: ../../../Measurements/BreakTest_AluminiumBeam/results.enhanced/1-0.5/collect_173.bin\n",
        "Closed file: ../../../Measurements/BreakTest_AluminiumBeam/results.enhanced/1-0.5/collect_173.bin\n",
        "Opening file: ../../../Measurements/BreakTest_AluminiumBeam/results.enhanced/1-0.5/collect_174.bin\n",
        "Closed file: ../../../Measurements/BreakTest_AluminiumBeam/results.enhanced/1-0.5/collect_174.bin\n",
        "Opening file: ../../../Measurements/BreakTest_AluminiumBeam/results.enhanced/1-0.5/collect_175.bin\n",
        "Closed file: ../../../Measurements/BreakTest_AluminiumBeam/results.enhanced/1-0.5/collect_175.bin\n",
        "Opening file: ../../../Measurements/BreakTest_AluminiumBeam/results.enhanced/1-0.5/collect_176.bin"
       ]
      },
      {
       "output_type": "stream",
       "stream": "stdout",
       "text": [
        "\n",
        "Closed file: ../../../Measurements/BreakTest_AluminiumBeam/results.enhanced/1-0.5/collect_176.bin\n",
        "Opening file: ../../../Measurements/BreakTest_AluminiumBeam/results.enhanced/1-0.5/collect_177.bin\n",
        "Closed file: ../../../Measurements/BreakTest_AluminiumBeam/results.enhanced/1-0.5/collect_177.bin\n",
        "Opening file: ../../../Measurements/BreakTest_AluminiumBeam/results.enhanced/1-0.5/collect_178.bin\n",
        "Closed file: ../../../Measurements/BreakTest_AluminiumBeam/results.enhanced/1-0.5/collect_178.bin\n",
        "Opening file: ../../../Measurements/BreakTest_AluminiumBeam/results.enhanced/1-0.5/collect_179.bin\n",
        "Closed file: ../../../Measurements/BreakTest_AluminiumBeam/results.enhanced/1-0.5/collect_179.bin\n",
        "Opening file: ../../../Measurements/BreakTest_AluminiumBeam/results.enhanced/1-0.5/collect_180.bin"
       ]
      },
      {
       "output_type": "stream",
       "stream": "stdout",
       "text": [
        "\n",
        "Closed file: ../../../Measurements/BreakTest_AluminiumBeam/results.enhanced/1-0.5/collect_180.bin\n",
        "Opening file: ../../../Measurements/BreakTest_AluminiumBeam/results.enhanced/1-0.5/collect_181.bin\n",
        "Closed file: ../../../Measurements/BreakTest_AluminiumBeam/results.enhanced/1-0.5/collect_181.bin\n",
        "Opening file: ../../../Measurements/BreakTest_AluminiumBeam/results.enhanced/1-0.5/collect_182.bin\n",
        "Closed file: ../../../Measurements/BreakTest_AluminiumBeam/results.enhanced/1-0.5/collect_182.bin\n",
        "Opening file: ../../../Measurements/BreakTest_AluminiumBeam/results.enhanced/1-0.5/collect_183.bin\n",
        "Closed file: ../../../Measurements/BreakTest_AluminiumBeam/results.enhanced/1-0.5/collect_183.bin"
       ]
      },
      {
       "output_type": "stream",
       "stream": "stdout",
       "text": [
        "\n",
        "Opening file: ../../../Measurements/BreakTest_AluminiumBeam/results.enhanced/2-0.75/collect_0.bin"
       ]
      },
      {
       "output_type": "stream",
       "stream": "stdout",
       "text": [
        "\n",
        "Closed file: ../../../Measurements/BreakTest_AluminiumBeam/results.enhanced/2-0.75/collect_0.bin\n",
        "Opening file: ../../../Measurements/BreakTest_AluminiumBeam/results.enhanced/2-0.75/collect_1.bin\n",
        "Closed file: ../../../Measurements/BreakTest_AluminiumBeam/results.enhanced/2-0.75/collect_1.bin\n",
        "Opening file: ../../../Measurements/BreakTest_AluminiumBeam/results.enhanced/2-0.75/collect_2.bin\n",
        "Closed file: ../../../Measurements/BreakTest_AluminiumBeam/results.enhanced/2-0.75/collect_2.bin\n",
        "Opening file: ../../../Measurements/BreakTest_AluminiumBeam/results.enhanced/2-0.75/collect_3.bin\n",
        "Closed file: ../../../Measurements/BreakTest_AluminiumBeam/results.enhanced/2-0.75/collect_3.bin"
       ]
      },
      {
       "output_type": "stream",
       "stream": "stdout",
       "text": [
        "\n",
        "Opening file: ../../../Measurements/BreakTest_AluminiumBeam/results.enhanced/2-0.75/collect_4.bin\n",
        "Closed file: ../../../Measurements/BreakTest_AluminiumBeam/results.enhanced/2-0.75/collect_4.bin\n",
        "Opening file: ../../../Measurements/BreakTest_AluminiumBeam/results.enhanced/2-0.75/collect_5.bin\n",
        "Closed file: ../../../Measurements/BreakTest_AluminiumBeam/results.enhanced/2-0.75/collect_5.bin\n",
        "Opening file: ../../../Measurements/BreakTest_AluminiumBeam/results.enhanced/2-0.75/collect_6.bin\n",
        "Closed file: ../../../Measurements/BreakTest_AluminiumBeam/results.enhanced/2-0.75/collect_6.bin\n",
        "Opening file: ../../../Measurements/BreakTest_AluminiumBeam/results.enhanced/2-0.75/collect_7.bin\n",
        "Closed file: ../../../Measurements/BreakTest_AluminiumBeam/results.enhanced/2-0.75/collect_7.bin"
       ]
      },
      {
       "output_type": "stream",
       "stream": "stdout",
       "text": [
        "\n",
        "Opening file: ../../../Measurements/BreakTest_AluminiumBeam/results.enhanced/2-0.75/collect_8.bin\n",
        "Closed file: ../../../Measurements/BreakTest_AluminiumBeam/results.enhanced/2-0.75/collect_8.bin\n",
        "Opening file: ../../../Measurements/BreakTest_AluminiumBeam/results.enhanced/2-0.75/collect_9.bin\n",
        "Closed file: ../../../Measurements/BreakTest_AluminiumBeam/results.enhanced/2-0.75/collect_9.bin\n",
        "Opening file: ../../../Measurements/BreakTest_AluminiumBeam/results.enhanced/2-0.75/collect_10.bin\n",
        "Closed file: ../../../Measurements/BreakTest_AluminiumBeam/results.enhanced/2-0.75/collect_10.bin\n",
        "Opening file: ../../../Measurements/BreakTest_AluminiumBeam/results.enhanced/2-0.75/collect_11.bin\n",
        "Closed file: ../../../Measurements/BreakTest_AluminiumBeam/results.enhanced/2-0.75/collect_11.bin\n",
        "Opening file: ../../../Measurements/BreakTest_AluminiumBeam/results.enhanced/2-0.75/collect_12.bin"
       ]
      },
      {
       "output_type": "stream",
       "stream": "stdout",
       "text": [
        "\n",
        "Closed file: ../../../Measurements/BreakTest_AluminiumBeam/results.enhanced/2-0.75/collect_12.bin\n",
        "Opening file: ../../../Measurements/BreakTest_AluminiumBeam/results.enhanced/2-0.75/collect_13.bin\n",
        "Closed file: ../../../Measurements/BreakTest_AluminiumBeam/results.enhanced/2-0.75/collect_13.bin\n",
        "Opening file: ../../../Measurements/BreakTest_AluminiumBeam/results.enhanced/2-0.75/collect_14.bin\n",
        "Closed file: ../../../Measurements/BreakTest_AluminiumBeam/results.enhanced/2-0.75/collect_14.bin\n",
        "Opening file: ../../../Measurements/BreakTest_AluminiumBeam/results.enhanced/2-0.75/collect_15.bin\n",
        "Closed file: ../../../Measurements/BreakTest_AluminiumBeam/results.enhanced/2-0.75/collect_15.bin"
       ]
      },
      {
       "output_type": "stream",
       "stream": "stdout",
       "text": [
        "\n",
        "Opening file: ../../../Measurements/BreakTest_AluminiumBeam/results.enhanced/2-0.75/collect_16.bin\n",
        "Closed file: ../../../Measurements/BreakTest_AluminiumBeam/results.enhanced/2-0.75/collect_16.bin\n",
        "Opening file: ../../../Measurements/BreakTest_AluminiumBeam/results.enhanced/2-0.75/collect_17.bin\n",
        "Closed file: ../../../Measurements/BreakTest_AluminiumBeam/results.enhanced/2-0.75/collect_17.bin\n",
        "Opening file: ../../../Measurements/BreakTest_AluminiumBeam/results.enhanced/2-0.75/collect_18.bin\n",
        "Closed file: ../../../Measurements/BreakTest_AluminiumBeam/results.enhanced/2-0.75/collect_18.bin\n",
        "Opening file: ../../../Measurements/BreakTest_AluminiumBeam/results.enhanced/2-0.75/collect_19.bin\n",
        "Closed file: ../../../Measurements/BreakTest_AluminiumBeam/results.enhanced/2-0.75/collect_19.bin"
       ]
      },
      {
       "output_type": "stream",
       "stream": "stdout",
       "text": [
        "\n",
        "Opening file: ../../../Measurements/BreakTest_AluminiumBeam/results.enhanced/2-0.75/collect_20.bin\n",
        "Closed file: ../../../Measurements/BreakTest_AluminiumBeam/results.enhanced/2-0.75/collect_20.bin\n",
        "Opening file: ../../../Measurements/BreakTest_AluminiumBeam/results.enhanced/2-0.75/collect_21.bin\n",
        "Closed file: ../../../Measurements/BreakTest_AluminiumBeam/results.enhanced/2-0.75/collect_21.bin\n",
        "Opening file: ../../../Measurements/BreakTest_AluminiumBeam/results.enhanced/2-0.75/collect_22.bin\n",
        "Closed file: ../../../Measurements/BreakTest_AluminiumBeam/results.enhanced/2-0.75/collect_22.bin\n",
        "Opening file: ../../../Measurements/BreakTest_AluminiumBeam/results.enhanced/2-0.75/collect_23.bin\n",
        "Closed file: ../../../Measurements/BreakTest_AluminiumBeam/results.enhanced/2-0.75/collect_23.bin\n",
        "Opening file: ../../../Measurements/BreakTest_AluminiumBeam/results.enhanced/2-0.75/collect_24.bin\n",
        "Closed file: ../../../Measurements/BreakTest_AluminiumBeam/results.enhanced/2-0.75/collect_24.bin\n",
        "Opening file: ../../../Measurements/BreakTest_AluminiumBeam/results.enhanced/2-0.75/collect_25.bin"
       ]
      },
      {
       "output_type": "stream",
       "stream": "stdout",
       "text": [
        "\n",
        "Closed file: ../../../Measurements/BreakTest_AluminiumBeam/results.enhanced/2-0.75/collect_25.bin\n",
        "Opening file: ../../../Measurements/BreakTest_AluminiumBeam/results.enhanced/2-0.75/collect_26.bin\n",
        "Closed file: ../../../Measurements/BreakTest_AluminiumBeam/results.enhanced/2-0.75/collect_26.bin\n",
        "Opening file: ../../../Measurements/BreakTest_AluminiumBeam/results.enhanced/2-0.75/collect_27.bin\n",
        "Closed file: ../../../Measurements/BreakTest_AluminiumBeam/results.enhanced/2-0.75/collect_27.bin\n",
        "Opening file: ../../../Measurements/BreakTest_AluminiumBeam/results.enhanced/2-0.75/collect_28.bin\n",
        "Closed file: ../../../Measurements/BreakTest_AluminiumBeam/results.enhanced/2-0.75/collect_28.bin\n",
        "Opening file: ../../../Measurements/BreakTest_AluminiumBeam/results.enhanced/2-0.75/collect_29.bin\n",
        "Closed file: ../../../Measurements/BreakTest_AluminiumBeam/results.enhanced/2-0.75/collect_29.bin\n",
        "Opening file: ../../../Measurements/BreakTest_AluminiumBeam/results.enhanced/2-0.75/collect_30.bin\n",
        "Closed file: ../../../Measurements/BreakTest_AluminiumBeam/results.enhanced/2-0.75/collect_30.bin"
       ]
      },
      {
       "output_type": "stream",
       "stream": "stdout",
       "text": [
        "\n",
        "Opening file: ../../../Measurements/BreakTest_AluminiumBeam/results.enhanced/2-0.75/collect_31.bin\n",
        "Closed file: ../../../Measurements/BreakTest_AluminiumBeam/results.enhanced/2-0.75/collect_31.bin\n",
        "Opening file: ../../../Measurements/BreakTest_AluminiumBeam/results.enhanced/2-0.75/collect_32.bin\n",
        "Closed file: ../../../Measurements/BreakTest_AluminiumBeam/results.enhanced/2-0.75/collect_32.bin\n",
        "Opening file: ../../../Measurements/BreakTest_AluminiumBeam/results.enhanced/2-0.75/collect_33.bin\n",
        "Closed file: ../../../Measurements/BreakTest_AluminiumBeam/results.enhanced/2-0.75/collect_33.bin\n",
        "Opening file: ../../../Measurements/BreakTest_AluminiumBeam/results.enhanced/2-0.75/collect_34.bin\n",
        "Closed file: ../../../Measurements/BreakTest_AluminiumBeam/results.enhanced/2-0.75/collect_34.bin\n",
        "Opening file: ../../../Measurements/BreakTest_AluminiumBeam/results.enhanced/2-0.75/collect_35.bin\n",
        "Closed file: ../../../Measurements/BreakTest_AluminiumBeam/results.enhanced/2-0.75/collect_35.bin"
       ]
      },
      {
       "output_type": "stream",
       "stream": "stdout",
       "text": [
        "\n",
        "Opening file: ../../../Measurements/BreakTest_AluminiumBeam/results.enhanced/2-0.75/collect_36.bin\n",
        "Closed file: ../../../Measurements/BreakTest_AluminiumBeam/results.enhanced/2-0.75/collect_36.bin\n",
        "Opening file: ../../../Measurements/BreakTest_AluminiumBeam/results.enhanced/2-0.75/collect_37.bin\n",
        "Closed file: ../../../Measurements/BreakTest_AluminiumBeam/results.enhanced/2-0.75/collect_37.bin\n",
        "Opening file: ../../../Measurements/BreakTest_AluminiumBeam/results.enhanced/2-0.75/collect_38.bin\n",
        "Closed file: ../../../Measurements/BreakTest_AluminiumBeam/results.enhanced/2-0.75/collect_38.bin\n",
        "Opening file: ../../../Measurements/BreakTest_AluminiumBeam/results.enhanced/2-0.75/collect_39.bin\n",
        "Closed file: ../../../Measurements/BreakTest_AluminiumBeam/results.enhanced/2-0.75/collect_39.bin\n",
        "Opening file: ../../../Measurements/BreakTest_AluminiumBeam/results.enhanced/2-0.75/collect_40.bin\n",
        "Closed file: ../../../Measurements/BreakTest_AluminiumBeam/results.enhanced/2-0.75/collect_40.bin\n",
        "Opening file: ../../../Measurements/BreakTest_AluminiumBeam/results.enhanced/2-0.75/collect_41.bin\n",
        "Closed file: ../../../Measurements/BreakTest_AluminiumBeam/results.enhanced/2-0.75/collect_41.bin"
       ]
      },
      {
       "output_type": "stream",
       "stream": "stdout",
       "text": [
        "\n",
        "Opening file: ../../../Measurements/BreakTest_AluminiumBeam/results.enhanced/2-0.75/collect_42.bin\n",
        "Closed file: ../../../Measurements/BreakTest_AluminiumBeam/results.enhanced/2-0.75/collect_42.bin\n",
        "Opening file: ../../../Measurements/BreakTest_AluminiumBeam/results.enhanced/2-0.75/collect_43.bin\n",
        "Closed file: ../../../Measurements/BreakTest_AluminiumBeam/results.enhanced/2-0.75/collect_43.bin\n",
        "Opening file: ../../../Measurements/BreakTest_AluminiumBeam/results.enhanced/2-0.75/collect_44.bin\n",
        "Closed file: ../../../Measurements/BreakTest_AluminiumBeam/results.enhanced/2-0.75/collect_44.bin\n",
        "Opening file: ../../../Measurements/BreakTest_AluminiumBeam/results.enhanced/2-0.75/collect_45.bin\n",
        "Closed file: ../../../Measurements/BreakTest_AluminiumBeam/results.enhanced/2-0.75/collect_45.bin\n",
        "Opening file: ../../../Measurements/BreakTest_AluminiumBeam/results.enhanced/2-0.75/collect_46.bin\n",
        "Closed file: ../../../Measurements/BreakTest_AluminiumBeam/results.enhanced/2-0.75/collect_46.bin"
       ]
      },
      {
       "output_type": "stream",
       "stream": "stdout",
       "text": [
        "\n",
        "Opening file: ../../../Measurements/BreakTest_AluminiumBeam/results.enhanced/2-0.75/collect_47.bin\n",
        "Closed file: ../../../Measurements/BreakTest_AluminiumBeam/results.enhanced/2-0.75/collect_47.bin\n",
        "Opening file: ../../../Measurements/BreakTest_AluminiumBeam/results.enhanced/2-0.75/collect_48.bin\n",
        "Closed file: ../../../Measurements/BreakTest_AluminiumBeam/results.enhanced/2-0.75/collect_48.bin\n",
        "Opening file: ../../../Measurements/BreakTest_AluminiumBeam/results.enhanced/2-0.75/collect_49.bin\n",
        "Closed file: ../../../Measurements/BreakTest_AluminiumBeam/results.enhanced/2-0.75/collect_49.bin\n",
        "Opening file: ../../../Measurements/BreakTest_AluminiumBeam/results.enhanced/2-0.75/collect_50.bin\n",
        "Closed file: ../../../Measurements/BreakTest_AluminiumBeam/results.enhanced/2-0.75/collect_50.bin\n",
        "Opening file: ../../../Measurements/BreakTest_AluminiumBeam/results.enhanced/2-0.75/collect_51.bin\n",
        "Closed file: ../../../Measurements/BreakTest_AluminiumBeam/results.enhanced/2-0.75/collect_51.bin\n",
        "Opening file: ../../../Measurements/BreakTest_AluminiumBeam/results.enhanced/2-0.75/collect_52.bin"
       ]
      },
      {
       "output_type": "stream",
       "stream": "stdout",
       "text": [
        "\n",
        "Closed file: ../../../Measurements/BreakTest_AluminiumBeam/results.enhanced/2-0.75/collect_52.bin\n",
        "Opening file: ../../../Measurements/BreakTest_AluminiumBeam/results.enhanced/2-0.75/collect_53.bin\n",
        "Closed file: ../../../Measurements/BreakTest_AluminiumBeam/results.enhanced/2-0.75/collect_53.bin\n",
        "Opening file: ../../../Measurements/BreakTest_AluminiumBeam/results.enhanced/2-0.75/collect_54.bin\n",
        "Closed file: ../../../Measurements/BreakTest_AluminiumBeam/results.enhanced/2-0.75/collect_54.bin\n",
        "Opening file: ../../../Measurements/BreakTest_AluminiumBeam/results.enhanced/2-0.75/collect_55.bin\n",
        "Closed file: ../../../Measurements/BreakTest_AluminiumBeam/results.enhanced/2-0.75/collect_55.bin\n",
        "Opening file: ../../../Measurements/BreakTest_AluminiumBeam/results.enhanced/2-0.75/collect_56.bin\n",
        "Closed file: ../../../Measurements/BreakTest_AluminiumBeam/results.enhanced/2-0.75/collect_56.bin\n",
        "Opening file: ../../../Measurements/BreakTest_AluminiumBeam/results.enhanced/2-0.75/collect_57.bin\n",
        "Closed file: ../../../Measurements/BreakTest_AluminiumBeam/results.enhanced/2-0.75/collect_57.bin\n",
        "Opening file: ../../../Measurements/BreakTest_AluminiumBeam/results.enhanced/2-0.75/collect_58.bin"
       ]
      },
      {
       "output_type": "stream",
       "stream": "stdout",
       "text": [
        "\n",
        "Closed file: ../../../Measurements/BreakTest_AluminiumBeam/results.enhanced/2-0.75/collect_58.bin\n",
        "Opening file: ../../../Measurements/BreakTest_AluminiumBeam/results.enhanced/2-0.75/collect_59.bin\n",
        "Closed file: ../../../Measurements/BreakTest_AluminiumBeam/results.enhanced/2-0.75/collect_59.bin\n",
        "Opening file: ../../../Measurements/BreakTest_AluminiumBeam/results.enhanced/2-0.75/collect_60.bin\n",
        "Closed file: ../../../Measurements/BreakTest_AluminiumBeam/results.enhanced/2-0.75/collect_60.bin\n",
        "Opening file: ../../../Measurements/BreakTest_AluminiumBeam/results.enhanced/2-0.75/collect_61.bin\n",
        "Closed file: ../../../Measurements/BreakTest_AluminiumBeam/results.enhanced/2-0.75/collect_61.bin\n",
        "Opening file: ../../../Measurements/BreakTest_AluminiumBeam/results.enhanced/2-0.75/collect_62.bin\n",
        "Closed file: ../../../Measurements/BreakTest_AluminiumBeam/results.enhanced/2-0.75/collect_62.bin\n",
        "Opening file: ../../../Measurements/BreakTest_AluminiumBeam/results.enhanced/2-0.75/collect_63.bin\n",
        "Closed file: ../../../Measurements/BreakTest_AluminiumBeam/results.enhanced/2-0.75/collect_63.bin\n",
        "Opening file: ../../../Measurements/BreakTest_AluminiumBeam/results.enhanced/2-0.75/collect_64.bin\n",
        "Closed file: ../../../Measurements/BreakTest_AluminiumBeam/results.enhanced/2-0.75/collect_64.bin"
       ]
      },
      {
       "output_type": "stream",
       "stream": "stdout",
       "text": [
        "\n",
        "Opening file: ../../../Measurements/BreakTest_AluminiumBeam/results.enhanced/2-0.75/collect_65.bin\n",
        "Closed file: ../../../Measurements/BreakTest_AluminiumBeam/results.enhanced/2-0.75/collect_65.bin\n",
        "Opening file: ../../../Measurements/BreakTest_AluminiumBeam/results.enhanced/2-0.75/collect_66.bin\n",
        "Closed file: ../../../Measurements/BreakTest_AluminiumBeam/results.enhanced/2-0.75/collect_66.bin\n",
        "Opening file: ../../../Measurements/BreakTest_AluminiumBeam/results.enhanced/2-0.75/collect_67.bin\n",
        "Closed file: ../../../Measurements/BreakTest_AluminiumBeam/results.enhanced/2-0.75/collect_67.bin\n",
        "Opening file: ../../../Measurements/BreakTest_AluminiumBeam/results.enhanced/2-0.75/collect_68.bin\n",
        "Closed file: ../../../Measurements/BreakTest_AluminiumBeam/results.enhanced/2-0.75/collect_68.bin\n",
        "Opening file: ../../../Measurements/BreakTest_AluminiumBeam/results.enhanced/2-0.75/collect_69.bin\n",
        "Closed file: ../../../Measurements/BreakTest_AluminiumBeam/results.enhanced/2-0.75/collect_69.bin\n",
        "Opening file: ../../../Measurements/BreakTest_AluminiumBeam/results.enhanced/2-0.75/collect_70.bin\n",
        "Closed file: ../../../Measurements/BreakTest_AluminiumBeam/results.enhanced/2-0.75/collect_70.bin\n",
        "Opening file: ../../../Measurements/BreakTest_AluminiumBeam/results.enhanced/2-0.75/collect_71.bin\n",
        "Closed file: ../../../Measurements/BreakTest_AluminiumBeam/results.enhanced/2-0.75/collect_71.bin"
       ]
      },
      {
       "output_type": "stream",
       "stream": "stdout",
       "text": [
        "\n",
        "Opening file: ../../../Measurements/BreakTest_AluminiumBeam/results.enhanced/2-0.75/collect_72.bin\n",
        "Closed file: ../../../Measurements/BreakTest_AluminiumBeam/results.enhanced/2-0.75/collect_72.bin\n",
        "Opening file: ../../../Measurements/BreakTest_AluminiumBeam/results.enhanced/2-0.75/collect_73.bin\n",
        "Closed file: ../../../Measurements/BreakTest_AluminiumBeam/results.enhanced/2-0.75/collect_73.bin\n",
        "Opening file: ../../../Measurements/BreakTest_AluminiumBeam/results.enhanced/2-0.75/collect_74.bin\n",
        "Closed file: ../../../Measurements/BreakTest_AluminiumBeam/results.enhanced/2-0.75/collect_74.bin\n",
        "Opening file: ../../../Measurements/BreakTest_AluminiumBeam/results.enhanced/2-0.75/collect_75.bin\n",
        "Closed file: ../../../Measurements/BreakTest_AluminiumBeam/results.enhanced/2-0.75/collect_75.bin\n",
        "Opening file: ../../../Measurements/BreakTest_AluminiumBeam/results.enhanced/2-0.75/collect_76.bin\n",
        "Closed file: ../../../Measurements/BreakTest_AluminiumBeam/results.enhanced/2-0.75/collect_76.bin\n",
        "Opening file: ../../../Measurements/BreakTest_AluminiumBeam/results.enhanced/2-0.75/collect_77.bin\n",
        "Closed file: ../../../Measurements/BreakTest_AluminiumBeam/results.enhanced/2-0.75/collect_77.bin"
       ]
      },
      {
       "output_type": "stream",
       "stream": "stdout",
       "text": [
        "\n",
        "Opening file: ../../../Measurements/BreakTest_AluminiumBeam/results.enhanced/2-0.75/collect_78.bin\n",
        "Closed file: ../../../Measurements/BreakTest_AluminiumBeam/results.enhanced/2-0.75/collect_78.bin\n",
        "Opening file: ../../../Measurements/BreakTest_AluminiumBeam/results.enhanced/2-0.75/collect_79.bin\n",
        "Closed file: ../../../Measurements/BreakTest_AluminiumBeam/results.enhanced/2-0.75/collect_79.bin\n",
        "Opening file: ../../../Measurements/BreakTest_AluminiumBeam/results.enhanced/2-0.75/collect_80.bin\n",
        "Closed file: ../../../Measurements/BreakTest_AluminiumBeam/results.enhanced/2-0.75/collect_80.bin\n",
        "Opening file: ../../../Measurements/BreakTest_AluminiumBeam/results.enhanced/2-0.75/collect_81.bin\n",
        "Closed file: ../../../Measurements/BreakTest_AluminiumBeam/results.enhanced/2-0.75/collect_81.bin\n",
        "Opening file: ../../../Measurements/BreakTest_AluminiumBeam/results.enhanced/2-0.75/collect_82.bin\n",
        "Closed file: ../../../Measurements/BreakTest_AluminiumBeam/results.enhanced/2-0.75/collect_82.bin\n",
        "Opening file: ../../../Measurements/BreakTest_AluminiumBeam/results.enhanced/2-0.75/collect_83.bin\n",
        "Closed file: ../../../Measurements/BreakTest_AluminiumBeam/results.enhanced/2-0.75/collect_83.bin"
       ]
      },
      {
       "output_type": "stream",
       "stream": "stdout",
       "text": [
        "\n",
        "Opening file: ../../../Measurements/BreakTest_AluminiumBeam/results.enhanced/2-0.75/collect_84.bin\n",
        "Closed file: ../../../Measurements/BreakTest_AluminiumBeam/results.enhanced/2-0.75/collect_84.bin\n",
        "Opening file: ../../../Measurements/BreakTest_AluminiumBeam/results.enhanced/2-0.75/collect_85.bin\n",
        "Closed file: ../../../Measurements/BreakTest_AluminiumBeam/results.enhanced/2-0.75/collect_85.bin\n",
        "Opening file: ../../../Measurements/BreakTest_AluminiumBeam/results.enhanced/2-0.75/collect_86.bin\n",
        "Closed file: ../../../Measurements/BreakTest_AluminiumBeam/results.enhanced/2-0.75/collect_86.bin\n",
        "Opening file: ../../../Measurements/BreakTest_AluminiumBeam/results.enhanced/2-0.75/collect_87.bin\n",
        "Closed file: ../../../Measurements/BreakTest_AluminiumBeam/results.enhanced/2-0.75/collect_87.bin\n",
        "Opening file: ../../../Measurements/BreakTest_AluminiumBeam/results.enhanced/2-0.75/collect_88.bin\n",
        "Closed file: ../../../Measurements/BreakTest_AluminiumBeam/results.enhanced/2-0.75/collect_88.bin\n",
        "Opening file: ../../../Measurements/BreakTest_AluminiumBeam/results.enhanced/2-0.75/collect_89.bin\n",
        "Closed file: ../../../Measurements/BreakTest_AluminiumBeam/results.enhanced/2-0.75/collect_89.bin"
       ]
      },
      {
       "output_type": "stream",
       "stream": "stdout",
       "text": [
        "\n",
        "Opening file: ../../../Measurements/BreakTest_AluminiumBeam/results.enhanced/2-0.75/collect_90.bin\n",
        "Closed file: ../../../Measurements/BreakTest_AluminiumBeam/results.enhanced/2-0.75/collect_90.bin\n",
        "Opening file: ../../../Measurements/BreakTest_AluminiumBeam/results.enhanced/2-0.75/collect_91.bin\n",
        "Closed file: ../../../Measurements/BreakTest_AluminiumBeam/results.enhanced/2-0.75/collect_91.bin\n",
        "Opening file: ../../../Measurements/BreakTest_AluminiumBeam/results.enhanced/2-0.75/collect_92.bin\n",
        "Closed file: ../../../Measurements/BreakTest_AluminiumBeam/results.enhanced/2-0.75/collect_92.bin\n",
        "Opening file: ../../../Measurements/BreakTest_AluminiumBeam/results.enhanced/2-0.75/collect_93.bin\n",
        "Closed file: ../../../Measurements/BreakTest_AluminiumBeam/results.enhanced/2-0.75/collect_93.bin\n",
        "Opening file: ../../../Measurements/BreakTest_AluminiumBeam/results.enhanced/2-0.75/collect_94.bin\n",
        "Closed file: ../../../Measurements/BreakTest_AluminiumBeam/results.enhanced/2-0.75/collect_94.bin\n",
        "Opening file: ../../../Measurements/BreakTest_AluminiumBeam/results.enhanced/2-0.75/collect_95.bin\n",
        "Closed file: ../../../Measurements/BreakTest_AluminiumBeam/results.enhanced/2-0.75/collect_95.bin"
       ]
      },
      {
       "output_type": "stream",
       "stream": "stdout",
       "text": [
        "\n",
        "Opening file: ../../../Measurements/BreakTest_AluminiumBeam/results.enhanced/2-0.75/collect_96.bin\n",
        "Closed file: ../../../Measurements/BreakTest_AluminiumBeam/results.enhanced/2-0.75/collect_96.bin\n",
        "Opening file: ../../../Measurements/BreakTest_AluminiumBeam/results.enhanced/2-0.75/collect_97.bin\n",
        "Closed file: ../../../Measurements/BreakTest_AluminiumBeam/results.enhanced/2-0.75/collect_97.bin\n",
        "Opening file: ../../../Measurements/BreakTest_AluminiumBeam/results.enhanced/2-0.75/collect_98.bin\n",
        "Closed file: ../../../Measurements/BreakTest_AluminiumBeam/results.enhanced/2-0.75/collect_98.bin\n",
        "Opening file: ../../../Measurements/BreakTest_AluminiumBeam/results.enhanced/2-0.75/collect_99.bin\n",
        "Closed file: ../../../Measurements/BreakTest_AluminiumBeam/results.enhanced/2-0.75/collect_99.bin\n",
        "Opening file: ../../../Measurements/BreakTest_AluminiumBeam/results.enhanced/2-0.75/collect_100.bin\n",
        "Closed file: ../../../Measurements/BreakTest_AluminiumBeam/results.enhanced/2-0.75/collect_100.bin"
       ]
      },
      {
       "output_type": "stream",
       "stream": "stdout",
       "text": [
        "\n",
        "Opening file: ../../../Measurements/BreakTest_AluminiumBeam/results.enhanced/2-0.75/collect_101.bin\n",
        "Closed file: ../../../Measurements/BreakTest_AluminiumBeam/results.enhanced/2-0.75/collect_101.bin\n",
        "Opening file: ../../../Measurements/BreakTest_AluminiumBeam/results.enhanced/2-0.75/collect_102.bin\n",
        "Closed file: ../../../Measurements/BreakTest_AluminiumBeam/results.enhanced/2-0.75/collect_102.bin\n",
        "Opening file: ../../../Measurements/BreakTest_AluminiumBeam/results.enhanced/2-0.75/collect_103.bin\n",
        "Closed file: ../../../Measurements/BreakTest_AluminiumBeam/results.enhanced/2-0.75/collect_103.bin\n",
        "Opening file: ../../../Measurements/BreakTest_AluminiumBeam/results.enhanced/2-0.75/collect_104.bin\n",
        "Closed file: ../../../Measurements/BreakTest_AluminiumBeam/results.enhanced/2-0.75/collect_104.bin\n",
        "Opening file: ../../../Measurements/BreakTest_AluminiumBeam/results.enhanced/2-0.75/collect_105.bin\n",
        "Closed file: ../../../Measurements/BreakTest_AluminiumBeam/results.enhanced/2-0.75/collect_105.bin"
       ]
      },
      {
       "output_type": "stream",
       "stream": "stdout",
       "text": [
        "\n",
        "Opening file: ../../../Measurements/BreakTest_AluminiumBeam/results.enhanced/2-0.75/collect_106.bin\n",
        "Closed file: ../../../Measurements/BreakTest_AluminiumBeam/results.enhanced/2-0.75/collect_106.bin\n",
        "Opening file: ../../../Measurements/BreakTest_AluminiumBeam/results.enhanced/2-0.75/collect_107.bin\n",
        "Closed file: ../../../Measurements/BreakTest_AluminiumBeam/results.enhanced/2-0.75/collect_107.bin\n",
        "Opening file: ../../../Measurements/BreakTest_AluminiumBeam/results.enhanced/2-0.75/collect_108.bin\n",
        "Closed file: ../../../Measurements/BreakTest_AluminiumBeam/results.enhanced/2-0.75/collect_108.bin\n",
        "Opening file: ../../../Measurements/BreakTest_AluminiumBeam/results.enhanced/2-0.75/collect_109.bin\n",
        "Closed file: ../../../Measurements/BreakTest_AluminiumBeam/results.enhanced/2-0.75/collect_109.bin\n",
        "Opening file: ../../../Measurements/BreakTest_AluminiumBeam/results.enhanced/2-0.75/collect_110.bin\n",
        "Closed file: ../../../Measurements/BreakTest_AluminiumBeam/results.enhanced/2-0.75/collect_110.bin"
       ]
      },
      {
       "output_type": "stream",
       "stream": "stdout",
       "text": [
        "\n",
        "Opening file: ../../../Measurements/BreakTest_AluminiumBeam/results.enhanced/2-0.75/collect_111.bin\n",
        "Closed file: ../../../Measurements/BreakTest_AluminiumBeam/results.enhanced/2-0.75/collect_111.bin\n",
        "Opening file: ../../../Measurements/BreakTest_AluminiumBeam/results.enhanced/2-0.75/collect_112.bin\n",
        "Closed file: ../../../Measurements/BreakTest_AluminiumBeam/results.enhanced/2-0.75/collect_112.bin\n",
        "Opening file: ../../../Measurements/BreakTest_AluminiumBeam/results.enhanced/2-0.75/collect_113.bin\n",
        "Closed file: ../../../Measurements/BreakTest_AluminiumBeam/results.enhanced/2-0.75/collect_113.bin\n",
        "Opening file: ../../../Measurements/BreakTest_AluminiumBeam/results.enhanced/2-0.75/collect_114.bin\n",
        "Closed file: ../../../Measurements/BreakTest_AluminiumBeam/results.enhanced/2-0.75/collect_114.bin\n",
        "Opening file: ../../../Measurements/BreakTest_AluminiumBeam/results.enhanced/2-0.75/collect_115.bin\n",
        "Closed file: ../../../Measurements/BreakTest_AluminiumBeam/results.enhanced/2-0.75/collect_115.bin"
       ]
      },
      {
       "output_type": "stream",
       "stream": "stdout",
       "text": [
        "\n",
        "Opening file: ../../../Measurements/BreakTest_AluminiumBeam/results.enhanced/2-0.75/collect_116.bin\n",
        "Closed file: ../../../Measurements/BreakTest_AluminiumBeam/results.enhanced/2-0.75/collect_116.bin\n",
        "Opening file: ../../../Measurements/BreakTest_AluminiumBeam/results.enhanced/2-0.75/collect_117.bin\n",
        "Closed file: ../../../Measurements/BreakTest_AluminiumBeam/results.enhanced/2-0.75/collect_117.bin\n",
        "Opening file: ../../../Measurements/BreakTest_AluminiumBeam/results.enhanced/2-0.75/collect_118.bin\n",
        "Closed file: ../../../Measurements/BreakTest_AluminiumBeam/results.enhanced/2-0.75/collect_118.bin\n",
        "Opening file: ../../../Measurements/BreakTest_AluminiumBeam/results.enhanced/2-0.75/collect_119.bin\n",
        "Closed file: ../../../Measurements/BreakTest_AluminiumBeam/results.enhanced/2-0.75/collect_119.bin\n",
        "Opening file: ../../../Measurements/BreakTest_AluminiumBeam/results.enhanced/2-0.75/collect_120.bin\n",
        "Closed file: ../../../Measurements/BreakTest_AluminiumBeam/results.enhanced/2-0.75/collect_120.bin\n",
        "Opening file: ../../../Measurements/BreakTest_AluminiumBeam/results.enhanced/2-0.75/collect_121.bin\n",
        "Closed file: ../../../Measurements/BreakTest_AluminiumBeam/results.enhanced/2-0.75/collect_121.bin"
       ]
      },
      {
       "output_type": "stream",
       "stream": "stdout",
       "text": [
        "\n",
        "Opening file: ../../../Measurements/BreakTest_AluminiumBeam/results.enhanced/2-0.75/collect_122.bin\n",
        "Closed file: ../../../Measurements/BreakTest_AluminiumBeam/results.enhanced/2-0.75/collect_122.bin\n",
        "Opening file: ../../../Measurements/BreakTest_AluminiumBeam/results.enhanced/2-0.75/collect_123.bin\n",
        "Closed file: ../../../Measurements/BreakTest_AluminiumBeam/results.enhanced/2-0.75/collect_123.bin\n",
        "Opening file: ../../../Measurements/BreakTest_AluminiumBeam/results.enhanced/2-0.75/collect_124.bin\n",
        "Closed file: ../../../Measurements/BreakTest_AluminiumBeam/results.enhanced/2-0.75/collect_124.bin\n",
        "Opening file: ../../../Measurements/BreakTest_AluminiumBeam/results.enhanced/2-0.75/collect_125.bin\n",
        "Closed file: ../../../Measurements/BreakTest_AluminiumBeam/results.enhanced/2-0.75/collect_125.bin\n",
        "Opening file: ../../../Measurements/BreakTest_AluminiumBeam/results.enhanced/2-0.75/collect_126.bin\n",
        "Closed file: ../../../Measurements/BreakTest_AluminiumBeam/results.enhanced/2-0.75/collect_126.bin\n",
        "Opening file: ../../../Measurements/BreakTest_AluminiumBeam/results.enhanced/2-0.75/collect_127.bin\n",
        "Closed file: ../../../Measurements/BreakTest_AluminiumBeam/results.enhanced/2-0.75/collect_127.bin"
       ]
      },
      {
       "output_type": "stream",
       "stream": "stdout",
       "text": [
        "\n",
        "Opening file: ../../../Measurements/BreakTest_AluminiumBeam/results.enhanced/2-0.75/collect_128.bin\n",
        "Closed file: ../../../Measurements/BreakTest_AluminiumBeam/results.enhanced/2-0.75/collect_128.bin\n",
        "Opening file: ../../../Measurements/BreakTest_AluminiumBeam/results.enhanced/2-0.75/collect_129.bin\n",
        "Closed file: ../../../Measurements/BreakTest_AluminiumBeam/results.enhanced/2-0.75/collect_129.bin\n",
        "Opening file: ../../../Measurements/BreakTest_AluminiumBeam/results.enhanced/2-0.75/collect_130.bin\n",
        "Closed file: ../../../Measurements/BreakTest_AluminiumBeam/results.enhanced/2-0.75/collect_130.bin\n",
        "Opening file: ../../../Measurements/BreakTest_AluminiumBeam/results.enhanced/2-0.75/collect_131.bin\n",
        "Closed file: ../../../Measurements/BreakTest_AluminiumBeam/results.enhanced/2-0.75/collect_131.bin\n",
        "Opening file: ../../../Measurements/BreakTest_AluminiumBeam/results.enhanced/2-0.75/collect_132.bin\n",
        "Closed file: ../../../Measurements/BreakTest_AluminiumBeam/results.enhanced/2-0.75/collect_132.bin"
       ]
      },
      {
       "output_type": "stream",
       "stream": "stdout",
       "text": [
        "\n",
        "Opening file: ../../../Measurements/BreakTest_AluminiumBeam/results.enhanced/2-0.75/collect_133.bin\n",
        "Closed file: ../../../Measurements/BreakTest_AluminiumBeam/results.enhanced/2-0.75/collect_133.bin\n",
        "Opening file: ../../../Measurements/BreakTest_AluminiumBeam/results.enhanced/2-0.75/collect_134.bin\n",
        "Closed file: ../../../Measurements/BreakTest_AluminiumBeam/results.enhanced/2-0.75/collect_134.bin\n",
        "Opening file: ../../../Measurements/BreakTest_AluminiumBeam/results.enhanced/2-0.75/collect_135.bin\n",
        "Closed file: ../../../Measurements/BreakTest_AluminiumBeam/results.enhanced/2-0.75/collect_135.bin\n",
        "Opening file: ../../../Measurements/BreakTest_AluminiumBeam/results.enhanced/2-0.75/collect_136.bin\n",
        "Closed file: ../../../Measurements/BreakTest_AluminiumBeam/results.enhanced/2-0.75/collect_136.bin\n",
        "Opening file: ../../../Measurements/BreakTest_AluminiumBeam/results.enhanced/2-0.75/collect_137.bin\n",
        "Closed file: ../../../Measurements/BreakTest_AluminiumBeam/results.enhanced/2-0.75/collect_137.bin\n",
        "Opening file: ../../../Measurements/BreakTest_AluminiumBeam/results.enhanced/2-0.75/collect_138.bin\n",
        "Closed file: ../../../Measurements/BreakTest_AluminiumBeam/results.enhanced/2-0.75/collect_138.bin\n",
        "Opening file: ../../../Measurements/BreakTest_AluminiumBeam/results.enhanced/2-0.75/collect_139.bin"
       ]
      },
      {
       "output_type": "stream",
       "stream": "stdout",
       "text": [
        "\n",
        "Closed file: ../../../Measurements/BreakTest_AluminiumBeam/results.enhanced/2-0.75/collect_139.bin\n",
        "Opening file: ../../../Measurements/BreakTest_AluminiumBeam/results.enhanced/2-0.75/collect_140.bin\n",
        "Closed file: ../../../Measurements/BreakTest_AluminiumBeam/results.enhanced/2-0.75/collect_140.bin\n",
        "Opening file: ../../../Measurements/BreakTest_AluminiumBeam/results.enhanced/2-0.75/collect_141.bin\n",
        "Closed file: ../../../Measurements/BreakTest_AluminiumBeam/results.enhanced/2-0.75/collect_141.bin\n",
        "Opening file: ../../../Measurements/BreakTest_AluminiumBeam/results.enhanced/2-0.75/collect_142.bin\n",
        "Closed file: ../../../Measurements/BreakTest_AluminiumBeam/results.enhanced/2-0.75/collect_142.bin\n",
        "Opening file: ../../../Measurements/BreakTest_AluminiumBeam/results.enhanced/2-0.75/collect_143.bin\n",
        "Closed file: ../../../Measurements/BreakTest_AluminiumBeam/results.enhanced/2-0.75/collect_143.bin\n",
        "Opening file: ../../../Measurements/BreakTest_AluminiumBeam/results.enhanced/2-0.75/collect_144.bin\n",
        "Closed file: ../../../Measurements/BreakTest_AluminiumBeam/results.enhanced/2-0.75/collect_144.bin\n",
        "Opening file: ../../../Measurements/BreakTest_AluminiumBeam/results.enhanced/2-0.75/collect_145.bin"
       ]
      },
      {
       "output_type": "stream",
       "stream": "stdout",
       "text": [
        "\n",
        "Closed file: ../../../Measurements/BreakTest_AluminiumBeam/results.enhanced/2-0.75/collect_145.bin\n",
        "Opening file: ../../../Measurements/BreakTest_AluminiumBeam/results.enhanced/2-0.75/collect_146.bin\n",
        "Closed file: ../../../Measurements/BreakTest_AluminiumBeam/results.enhanced/2-0.75/collect_146.bin\n",
        "Opening file: ../../../Measurements/BreakTest_AluminiumBeam/results.enhanced/2-0.75/collect_147.bin\n",
        "Closed file: ../../../Measurements/BreakTest_AluminiumBeam/results.enhanced/2-0.75/collect_147.bin\n",
        "Opening file: ../../../Measurements/BreakTest_AluminiumBeam/results.enhanced/2-0.75/collect_148.bin\n",
        "Closed file: ../../../Measurements/BreakTest_AluminiumBeam/results.enhanced/2-0.75/collect_148.bin\n",
        "Opening file: ../../../Measurements/BreakTest_AluminiumBeam/results.enhanced/2-0.75/collect_149.bin\n",
        "Closed file: ../../../Measurements/BreakTest_AluminiumBeam/results.enhanced/2-0.75/collect_149.bin"
       ]
      },
      {
       "output_type": "stream",
       "stream": "stdout",
       "text": [
        "\n",
        "Opening file: ../../../Measurements/BreakTest_AluminiumBeam/results.enhanced/2-0.75/collect_150.bin\n",
        "Closed file: ../../../Measurements/BreakTest_AluminiumBeam/results.enhanced/2-0.75/collect_150.bin\n",
        "Opening file: ../../../Measurements/BreakTest_AluminiumBeam/results.enhanced/2-0.75/collect_151.bin\n",
        "Closed file: ../../../Measurements/BreakTest_AluminiumBeam/results.enhanced/2-0.75/collect_151.bin\n",
        "Opening file: ../../../Measurements/BreakTest_AluminiumBeam/results.enhanced/2-0.75/collect_152.bin\n",
        "Closed file: ../../../Measurements/BreakTest_AluminiumBeam/results.enhanced/2-0.75/collect_152.bin\n",
        "Opening file: ../../../Measurements/BreakTest_AluminiumBeam/results.enhanced/2-0.75/collect_153.bin\n",
        "Closed file: ../../../Measurements/BreakTest_AluminiumBeam/results.enhanced/2-0.75/collect_153.bin\n",
        "Opening file: ../../../Measurements/BreakTest_AluminiumBeam/results.enhanced/2-0.75/collect_154.bin\n",
        "Closed file: ../../../Measurements/BreakTest_AluminiumBeam/results.enhanced/2-0.75/collect_154.bin\n",
        "Opening file: ../../../Measurements/BreakTest_AluminiumBeam/results.enhanced/2-0.75/collect_155.bin\n",
        "Closed file: ../../../Measurements/BreakTest_AluminiumBeam/results.enhanced/2-0.75/collect_155.bin\n",
        "Opening file: ../../../Measurements/BreakTest_AluminiumBeam/results.enhanced/2-0.75/collect_156.bin"
       ]
      },
      {
       "output_type": "stream",
       "stream": "stdout",
       "text": [
        "\n",
        "Closed file: ../../../Measurements/BreakTest_AluminiumBeam/results.enhanced/2-0.75/collect_156.bin\n",
        "Opening file: ../../../Measurements/BreakTest_AluminiumBeam/results.enhanced/2-0.75/collect_157.bin\n",
        "Closed file: ../../../Measurements/BreakTest_AluminiumBeam/results.enhanced/2-0.75/collect_157.bin\n",
        "Opening file: ../../../Measurements/BreakTest_AluminiumBeam/results.enhanced/2-0.75/collect_158.bin\n",
        "Closed file: ../../../Measurements/BreakTest_AluminiumBeam/results.enhanced/2-0.75/collect_158.bin\n",
        "Opening file: ../../../Measurements/BreakTest_AluminiumBeam/results.enhanced/2-0.75/collect_159.bin\n",
        "Closed file: ../../../Measurements/BreakTest_AluminiumBeam/results.enhanced/2-0.75/collect_159.bin\n",
        "Opening file: ../../../Measurements/BreakTest_AluminiumBeam/results.enhanced/2-0.75/collect_160.bin\n",
        "Closed file: ../../../Measurements/BreakTest_AluminiumBeam/results.enhanced/2-0.75/collect_160.bin\n",
        "Opening file: ../../../Measurements/BreakTest_AluminiumBeam/results.enhanced/2-0.75/collect_161.bin\n",
        "Closed file: ../../../Measurements/BreakTest_AluminiumBeam/results.enhanced/2-0.75/collect_161.bin\n",
        "Opening file: ../../../Measurements/BreakTest_AluminiumBeam/results.enhanced/2-0.75/collect_162.bin\n",
        "Closed file: ../../../Measurements/BreakTest_AluminiumBeam/results.enhanced/2-0.75/collect_162.bin"
       ]
      },
      {
       "output_type": "stream",
       "stream": "stdout",
       "text": [
        "\n",
        "Opening file: ../../../Measurements/BreakTest_AluminiumBeam/results.enhanced/2-0.75/collect_163.bin\n",
        "Closed file: ../../../Measurements/BreakTest_AluminiumBeam/results.enhanced/2-0.75/collect_163.bin\n",
        "Opening file: ../../../Measurements/BreakTest_AluminiumBeam/results.enhanced/2-0.75/collect_164.bin\n",
        "Closed file: ../../../Measurements/BreakTest_AluminiumBeam/results.enhanced/2-0.75/collect_164.bin\n",
        "Opening file: ../../../Measurements/BreakTest_AluminiumBeam/results.enhanced/2-0.75/collect_165.bin\n",
        "Closed file: ../../../Measurements/BreakTest_AluminiumBeam/results.enhanced/2-0.75/collect_165.bin\n",
        "Opening file: ../../../Measurements/BreakTest_AluminiumBeam/results.enhanced/2-0.75/collect_166.bin\n",
        "Closed file: ../../../Measurements/BreakTest_AluminiumBeam/results.enhanced/2-0.75/collect_166.bin\n",
        "Opening file: ../../../Measurements/BreakTest_AluminiumBeam/results.enhanced/2-0.75/collect_167.bin\n",
        "Closed file: ../../../Measurements/BreakTest_AluminiumBeam/results.enhanced/2-0.75/collect_167.bin\n",
        "Opening file: ../../../Measurements/BreakTest_AluminiumBeam/results.enhanced/2-0.75/collect_168.bin\n",
        "Closed file: ../../../Measurements/BreakTest_AluminiumBeam/results.enhanced/2-0.75/collect_168.bin\n",
        "Opening file: ../../../Measurements/BreakTest_AluminiumBeam/results.enhanced/2-0.75/collect_169.bin"
       ]
      },
      {
       "output_type": "stream",
       "stream": "stdout",
       "text": [
        "\n",
        "Closed file: ../../../Measurements/BreakTest_AluminiumBeam/results.enhanced/2-0.75/collect_169.bin\n",
        "Opening file: ../../../Measurements/BreakTest_AluminiumBeam/results.enhanced/2-0.75/collect_170.bin\n",
        "Closed file: ../../../Measurements/BreakTest_AluminiumBeam/results.enhanced/2-0.75/collect_170.bin\n",
        "Opening file: ../../../Measurements/BreakTest_AluminiumBeam/results.enhanced/2-0.75/collect_171.bin\n",
        "Closed file: ../../../Measurements/BreakTest_AluminiumBeam/results.enhanced/2-0.75/collect_171.bin\n",
        "Opening file: ../../../Measurements/BreakTest_AluminiumBeam/results.enhanced/2-0.75/collect_172.bin\n",
        "Closed file: ../../../Measurements/BreakTest_AluminiumBeam/results.enhanced/2-0.75/collect_172.bin\n",
        "Opening file: ../../../Measurements/BreakTest_AluminiumBeam/results.enhanced/2-0.75/collect_173.bin\n",
        "Closed file: ../../../Measurements/BreakTest_AluminiumBeam/results.enhanced/2-0.75/collect_173.bin\n",
        "Opening file: ../../../Measurements/BreakTest_AluminiumBeam/results.enhanced/2-0.75/collect_174.bin\n",
        "Closed file: ../../../Measurements/BreakTest_AluminiumBeam/results.enhanced/2-0.75/collect_174.bin\n",
        "Opening file: ../../../Measurements/BreakTest_AluminiumBeam/results.enhanced/2-0.75/collect_175.bin\n",
        "Closed file: ../../../Measurements/BreakTest_AluminiumBeam/results.enhanced/2-0.75/collect_175.bin"
       ]
      },
      {
       "output_type": "stream",
       "stream": "stdout",
       "text": [
        "\n",
        "Opening file: ../../../Measurements/BreakTest_AluminiumBeam/results.enhanced/3-0.8/collect_0.bin\n",
        "Closed file: ../../../Measurements/BreakTest_AluminiumBeam/results.enhanced/3-0.8/collect_0.bin\n",
        "Opening file: ../../../Measurements/BreakTest_AluminiumBeam/results.enhanced/3-0.8/collect_1.bin"
       ]
      },
      {
       "output_type": "stream",
       "stream": "stdout",
       "text": [
        "\n",
        "Closed file: ../../../Measurements/BreakTest_AluminiumBeam/results.enhanced/3-0.8/collect_1.bin\n",
        "Opening file: ../../../Measurements/BreakTest_AluminiumBeam/results.enhanced/3-0.8/collect_2.bin\n",
        "Closed file: ../../../Measurements/BreakTest_AluminiumBeam/results.enhanced/3-0.8/collect_2.bin\n",
        "Opening file: ../../../Measurements/BreakTest_AluminiumBeam/results.enhanced/3-0.8/collect_3.bin\n",
        "Closed file: ../../../Measurements/BreakTest_AluminiumBeam/results.enhanced/3-0.8/collect_3.bin\n",
        "Opening file: ../../../Measurements/BreakTest_AluminiumBeam/results.enhanced/3-0.8/collect_4.bin\n",
        "Closed file: ../../../Measurements/BreakTest_AluminiumBeam/results.enhanced/3-0.8/collect_4.bin"
       ]
      },
      {
       "output_type": "stream",
       "stream": "stdout",
       "text": [
        "\n",
        "Opening file: ../../../Measurements/BreakTest_AluminiumBeam/results.enhanced/3-0.8/collect_5.bin\n",
        "Closed file: ../../../Measurements/BreakTest_AluminiumBeam/results.enhanced/3-0.8/collect_5.bin\n",
        "Opening file: ../../../Measurements/BreakTest_AluminiumBeam/results.enhanced/3-0.8/collect_6.bin\n",
        "Closed file: ../../../Measurements/BreakTest_AluminiumBeam/results.enhanced/3-0.8/collect_6.bin\n",
        "Opening file: ../../../Measurements/BreakTest_AluminiumBeam/results.enhanced/3-0.8/collect_7.bin\n",
        "Closed file: ../../../Measurements/BreakTest_AluminiumBeam/results.enhanced/3-0.8/collect_7.bin\n",
        "Opening file: ../../../Measurements/BreakTest_AluminiumBeam/results.enhanced/3-0.8/collect_8.bin"
       ]
      },
      {
       "output_type": "stream",
       "stream": "stdout",
       "text": [
        "\n",
        "Closed file: ../../../Measurements/BreakTest_AluminiumBeam/results.enhanced/3-0.8/collect_8.bin\n",
        "Opening file: ../../../Measurements/BreakTest_AluminiumBeam/results.enhanced/3-0.8/collect_9.bin\n",
        "Closed file: ../../../Measurements/BreakTest_AluminiumBeam/results.enhanced/3-0.8/collect_9.bin\n",
        "Opening file: ../../../Measurements/BreakTest_AluminiumBeam/results.enhanced/3-0.8/collect_10.bin\n",
        "Closed file: ../../../Measurements/BreakTest_AluminiumBeam/results.enhanced/3-0.8/collect_10.bin\n",
        "Opening file: ../../../Measurements/BreakTest_AluminiumBeam/results.enhanced/3-0.8/collect_11.bin\n",
        "Closed file: ../../../Measurements/BreakTest_AluminiumBeam/results.enhanced/3-0.8/collect_11.bin"
       ]
      },
      {
       "output_type": "stream",
       "stream": "stdout",
       "text": [
        "\n",
        "Opening file: ../../../Measurements/BreakTest_AluminiumBeam/results.enhanced/3-0.8/collect_12.bin\n",
        "Closed file: ../../../Measurements/BreakTest_AluminiumBeam/results.enhanced/3-0.8/collect_12.bin\n",
        "Opening file: ../../../Measurements/BreakTest_AluminiumBeam/results.enhanced/3-0.8/collect_13.bin\n",
        "Closed file: ../../../Measurements/BreakTest_AluminiumBeam/results.enhanced/3-0.8/collect_13.bin\n",
        "Opening file: ../../../Measurements/BreakTest_AluminiumBeam/results.enhanced/3-0.8/collect_14.bin\n",
        "Closed file: ../../../Measurements/BreakTest_AluminiumBeam/results.enhanced/3-0.8/collect_14.bin"
       ]
      },
      {
       "output_type": "stream",
       "stream": "stdout",
       "text": [
        "\n",
        "Opening file: ../../../Measurements/BreakTest_AluminiumBeam/results.enhanced/3-0.8/collect_15.bin\n",
        "Closed file: ../../../Measurements/BreakTest_AluminiumBeam/results.enhanced/3-0.8/collect_15.bin\n",
        "Opening file: ../../../Measurements/BreakTest_AluminiumBeam/results.enhanced/3-0.8/collect_16.bin\n",
        "Closed file: ../../../Measurements/BreakTest_AluminiumBeam/results.enhanced/3-0.8/collect_16.bin\n",
        "Opening file: ../../../Measurements/BreakTest_AluminiumBeam/results.enhanced/3-0.8/collect_17.bin\n",
        "Closed file: ../../../Measurements/BreakTest_AluminiumBeam/results.enhanced/3-0.8/collect_17.bin\n",
        "Opening file: ../../../Measurements/BreakTest_AluminiumBeam/results.enhanced/3-0.8/collect_18.bin\n",
        "Closed file: ../../../Measurements/BreakTest_AluminiumBeam/results.enhanced/3-0.8/collect_18.bin\n",
        "Opening file: ../../../Measurements/BreakTest_AluminiumBeam/results.enhanced/3-0.8/collect_19.bin"
       ]
      },
      {
       "output_type": "stream",
       "stream": "stdout",
       "text": [
        "\n",
        "Closed file: ../../../Measurements/BreakTest_AluminiumBeam/results.enhanced/3-0.8/collect_19.bin\n",
        "Opening file: ../../../Measurements/BreakTest_AluminiumBeam/results.enhanced/3-0.8/collect_20.bin\n",
        "Closed file: ../../../Measurements/BreakTest_AluminiumBeam/results.enhanced/3-0.8/collect_20.bin\n",
        "Opening file: ../../../Measurements/BreakTest_AluminiumBeam/results.enhanced/3-0.8/collect_21.bin"
       ]
      },
      {
       "output_type": "stream",
       "stream": "stdout",
       "text": [
        "\n",
        "Closed file: ../../../Measurements/BreakTest_AluminiumBeam/results.enhanced/3-0.8/collect_21.bin\n",
        "Opening file: ../../../Measurements/BreakTest_AluminiumBeam/results.enhanced/3-0.8/collect_22.bin\n",
        "Closed file: ../../../Measurements/BreakTest_AluminiumBeam/results.enhanced/3-0.8/collect_22.bin"
       ]
      },
      {
       "output_type": "stream",
       "stream": "stdout",
       "text": [
        "\n",
        "Opening file: ../../../Measurements/BreakTest_AluminiumBeam/results.enhanced/3-0.8/collect_23.bin\n",
        "Closed file: ../../../Measurements/BreakTest_AluminiumBeam/results.enhanced/3-0.8/collect_23.bin\n",
        "Opening file: ../../../Measurements/BreakTest_AluminiumBeam/results.enhanced/3-0.8/collect_24.bin\n",
        "Closed file: ../../../Measurements/BreakTest_AluminiumBeam/results.enhanced/3-0.8/collect_24.bin\n",
        "Opening file: ../../../Measurements/BreakTest_AluminiumBeam/results.enhanced/3-0.8/collect_25.bin\n",
        "Closed file: ../../../Measurements/BreakTest_AluminiumBeam/results.enhanced/3-0.8/collect_25.bin\n",
        "Opening file: ../../../Measurements/BreakTest_AluminiumBeam/results.enhanced/3-0.8/collect_26.bin\n",
        "Closed file: ../../../Measurements/BreakTest_AluminiumBeam/results.enhanced/3-0.8/collect_26.bin"
       ]
      },
      {
       "output_type": "stream",
       "stream": "stdout",
       "text": [
        "\n",
        "Opening file: ../../../Measurements/BreakTest_AluminiumBeam/results.enhanced/3-0.8/collect_27.bin\n",
        "Closed file: ../../../Measurements/BreakTest_AluminiumBeam/results.enhanced/3-0.8/collect_27.bin\n",
        "Opening file: ../../../Measurements/BreakTest_AluminiumBeam/results.enhanced/3-0.8/collect_28.bin\n",
        "Closed file: ../../../Measurements/BreakTest_AluminiumBeam/results.enhanced/3-0.8/collect_28.bin\n",
        "Opening file: ../../../Measurements/BreakTest_AluminiumBeam/results.enhanced/3-0.8/collect_29.bin\n",
        "Closed file: ../../../Measurements/BreakTest_AluminiumBeam/results.enhanced/3-0.8/collect_29.bin\n",
        "Opening file: ../../../Measurements/BreakTest_AluminiumBeam/results.enhanced/3-0.8/collect_30.bin\n",
        "Closed file: ../../../Measurements/BreakTest_AluminiumBeam/results.enhanced/3-0.8/collect_30.bin"
       ]
      },
      {
       "output_type": "stream",
       "stream": "stdout",
       "text": [
        "\n",
        "Opening file: ../../../Measurements/BreakTest_AluminiumBeam/results.enhanced/3-0.8/collect_31.bin\n",
        "Closed file: ../../../Measurements/BreakTest_AluminiumBeam/results.enhanced/3-0.8/collect_31.bin\n",
        "Opening file: ../../../Measurements/BreakTest_AluminiumBeam/results.enhanced/3-0.8/collect_32.bin\n",
        "Closed file: ../../../Measurements/BreakTest_AluminiumBeam/results.enhanced/3-0.8/collect_32.bin\n",
        "Opening file: ../../../Measurements/BreakTest_AluminiumBeam/results.enhanced/3-0.8/collect_33.bin\n",
        "Closed file: ../../../Measurements/BreakTest_AluminiumBeam/results.enhanced/3-0.8/collect_33.bin\n",
        "Opening file: ../../../Measurements/BreakTest_AluminiumBeam/results.enhanced/3-0.8/collect_34.bin\n",
        "Closed file: ../../../Measurements/BreakTest_AluminiumBeam/results.enhanced/3-0.8/collect_34.bin\n",
        "Opening file: ../../../Measurements/BreakTest_AluminiumBeam/results.enhanced/3-0.8/collect_35.bin\n",
        "Closed file: ../../../Measurements/BreakTest_AluminiumBeam/results.enhanced/3-0.8/collect_35.bin\n",
        "Opening file: ../../../Measurements/BreakTest_AluminiumBeam/results.enhanced/3-0.8/collect_36.bin"
       ]
      },
      {
       "output_type": "stream",
       "stream": "stdout",
       "text": [
        "\n",
        "Closed file: ../../../Measurements/BreakTest_AluminiumBeam/results.enhanced/3-0.8/collect_36.bin\n",
        "Opening file: ../../../Measurements/BreakTest_AluminiumBeam/results.enhanced/3-0.8/collect_37.bin\n",
        "Closed file: ../../../Measurements/BreakTest_AluminiumBeam/results.enhanced/3-0.8/collect_37.bin\n",
        "Opening file: ../../../Measurements/BreakTest_AluminiumBeam/results.enhanced/3-0.8/collect_38.bin\n",
        "Closed file: ../../../Measurements/BreakTest_AluminiumBeam/results.enhanced/3-0.8/collect_38.bin\n",
        "Opening file: ../../../Measurements/BreakTest_AluminiumBeam/results.enhanced/3-0.8/collect_39.bin\n",
        "Closed file: ../../../Measurements/BreakTest_AluminiumBeam/results.enhanced/3-0.8/collect_39.bin\n",
        "Opening file: ../../../Measurements/BreakTest_AluminiumBeam/results.enhanced/3-0.8/collect_40.bin\n",
        "Closed file: ../../../Measurements/BreakTest_AluminiumBeam/results.enhanced/3-0.8/collect_40.bin\n",
        "Opening file: ../../../Measurements/BreakTest_AluminiumBeam/results.enhanced/3-0.8/collect_41.bin\n",
        "Closed file: ../../../Measurements/BreakTest_AluminiumBeam/results.enhanced/3-0.8/collect_41.bin"
       ]
      },
      {
       "output_type": "stream",
       "stream": "stdout",
       "text": [
        "\n",
        "Opening file: ../../../Measurements/BreakTest_AluminiumBeam/results.enhanced/3-0.8/collect_42.bin\n",
        "Closed file: ../../../Measurements/BreakTest_AluminiumBeam/results.enhanced/3-0.8/collect_42.bin\n",
        "Opening file: ../../../Measurements/BreakTest_AluminiumBeam/results.enhanced/3-0.8/collect_43.bin\n",
        "Closed file: ../../../Measurements/BreakTest_AluminiumBeam/results.enhanced/3-0.8/collect_43.bin\n",
        "Opening file: ../../../Measurements/BreakTest_AluminiumBeam/results.enhanced/3-0.8/collect_44.bin\n",
        "Closed file: ../../../Measurements/BreakTest_AluminiumBeam/results.enhanced/3-0.8/collect_44.bin\n",
        "Opening file: ../../../Measurements/BreakTest_AluminiumBeam/results.enhanced/3-0.8/collect_45.bin\n",
        "Closed file: ../../../Measurements/BreakTest_AluminiumBeam/results.enhanced/3-0.8/collect_45.bin\n",
        "Opening file: ../../../Measurements/BreakTest_AluminiumBeam/results.enhanced/3-0.8/collect_46.bin\n",
        "Closed file: ../../../Measurements/BreakTest_AluminiumBeam/results.enhanced/3-0.8/collect_46.bin\n",
        "Opening file: ../../../Measurements/BreakTest_AluminiumBeam/results.enhanced/3-0.8/collect_47.bin\n",
        "Closed file: ../../../Measurements/BreakTest_AluminiumBeam/results.enhanced/3-0.8/collect_47.bin"
       ]
      },
      {
       "output_type": "stream",
       "stream": "stdout",
       "text": [
        "\n",
        "Opening file: ../../../Measurements/BreakTest_AluminiumBeam/results.enhanced/3-0.8/collect_48.bin\n",
        "Closed file: ../../../Measurements/BreakTest_AluminiumBeam/results.enhanced/3-0.8/collect_48.bin\n",
        "Opening file: ../../../Measurements/BreakTest_AluminiumBeam/results.enhanced/3-0.8/collect_49.bin\n",
        "Closed file: ../../../Measurements/BreakTest_AluminiumBeam/results.enhanced/3-0.8/collect_49.bin\n",
        "Opening file: ../../../Measurements/BreakTest_AluminiumBeam/results.enhanced/3-0.8/collect_50.bin\n",
        "Closed file: ../../../Measurements/BreakTest_AluminiumBeam/results.enhanced/3-0.8/collect_50.bin\n",
        "Opening file: ../../../Measurements/BreakTest_AluminiumBeam/results.enhanced/3-0.8/collect_51.bin\n",
        "Closed file: ../../../Measurements/BreakTest_AluminiumBeam/results.enhanced/3-0.8/collect_51.bin\n",
        "Opening file: ../../../Measurements/BreakTest_AluminiumBeam/results.enhanced/3-0.8/collect_52.bin\n",
        "Closed file: ../../../Measurements/BreakTest_AluminiumBeam/results.enhanced/3-0.8/collect_52.bin"
       ]
      },
      {
       "output_type": "stream",
       "stream": "stdout",
       "text": [
        "\n",
        "Opening file: ../../../Measurements/BreakTest_AluminiumBeam/results.enhanced/3-0.8/collect_53.bin\n",
        "Closed file: ../../../Measurements/BreakTest_AluminiumBeam/results.enhanced/3-0.8/collect_53.bin\n",
        "Opening file: ../../../Measurements/BreakTest_AluminiumBeam/results.enhanced/3-0.8/collect_54.bin\n",
        "Closed file: ../../../Measurements/BreakTest_AluminiumBeam/results.enhanced/3-0.8/collect_54.bin\n",
        "Opening file: ../../../Measurements/BreakTest_AluminiumBeam/results.enhanced/3-0.8/collect_55.bin\n",
        "Closed file: ../../../Measurements/BreakTest_AluminiumBeam/results.enhanced/3-0.8/collect_55.bin\n",
        "Opening file: ../../../Measurements/BreakTest_AluminiumBeam/results.enhanced/3-0.8/collect_56.bin\n",
        "Closed file: ../../../Measurements/BreakTest_AluminiumBeam/results.enhanced/3-0.8/collect_56.bin\n",
        "Opening file: ../../../Measurements/BreakTest_AluminiumBeam/results.enhanced/3-0.8/collect_57.bin\n",
        "Closed file: ../../../Measurements/BreakTest_AluminiumBeam/results.enhanced/3-0.8/collect_57.bin"
       ]
      },
      {
       "output_type": "stream",
       "stream": "stdout",
       "text": [
        "\n",
        "Opening file: ../../../Measurements/BreakTest_AluminiumBeam/results.enhanced/3-0.8/collect_58.bin\n",
        "Closed file: ../../../Measurements/BreakTest_AluminiumBeam/results.enhanced/3-0.8/collect_58.bin\n",
        "Opening file: ../../../Measurements/BreakTest_AluminiumBeam/results.enhanced/3-0.8/collect_59.bin\n",
        "Closed file: ../../../Measurements/BreakTest_AluminiumBeam/results.enhanced/3-0.8/collect_59.bin\n",
        "Opening file: ../../../Measurements/BreakTest_AluminiumBeam/results.enhanced/3-0.8/collect_60.bin\n",
        "Closed file: ../../../Measurements/BreakTest_AluminiumBeam/results.enhanced/3-0.8/collect_60.bin\n",
        "Opening file: ../../../Measurements/BreakTest_AluminiumBeam/results.enhanced/3-0.8/collect_61.bin\n",
        "Closed file: ../../../Measurements/BreakTest_AluminiumBeam/results.enhanced/3-0.8/collect_61.bin\n",
        "Opening file: ../../../Measurements/BreakTest_AluminiumBeam/results.enhanced/3-0.8/collect_62.bin\n",
        "Closed file: ../../../Measurements/BreakTest_AluminiumBeam/results.enhanced/3-0.8/collect_62.bin\n",
        "Opening file: ../../../Measurements/BreakTest_AluminiumBeam/results.enhanced/3-0.8/collect_63.bin\n",
        "Closed file: ../../../Measurements/BreakTest_AluminiumBeam/results.enhanced/3-0.8/collect_63.bin"
       ]
      },
      {
       "output_type": "stream",
       "stream": "stdout",
       "text": [
        "\n",
        "Opening file: ../../../Measurements/BreakTest_AluminiumBeam/results.enhanced/3-0.8/collect_64.bin\n",
        "Closed file: ../../../Measurements/BreakTest_AluminiumBeam/results.enhanced/3-0.8/collect_64.bin\n",
        "Opening file: ../../../Measurements/BreakTest_AluminiumBeam/results.enhanced/3-0.8/collect_65.bin\n",
        "Closed file: ../../../Measurements/BreakTest_AluminiumBeam/results.enhanced/3-0.8/collect_65.bin\n",
        "Opening file: ../../../Measurements/BreakTest_AluminiumBeam/results.enhanced/3-0.8/collect_66.bin\n",
        "Closed file: ../../../Measurements/BreakTest_AluminiumBeam/results.enhanced/3-0.8/collect_66.bin\n",
        "Opening file: ../../../Measurements/BreakTest_AluminiumBeam/results.enhanced/3-0.8/collect_67.bin\n",
        "Closed file: ../../../Measurements/BreakTest_AluminiumBeam/results.enhanced/3-0.8/collect_67.bin\n",
        "Opening file: ../../../Measurements/BreakTest_AluminiumBeam/results.enhanced/3-0.8/collect_68.bin\n",
        "Closed file: ../../../Measurements/BreakTest_AluminiumBeam/results.enhanced/3-0.8/collect_68.bin"
       ]
      },
      {
       "output_type": "stream",
       "stream": "stdout",
       "text": [
        "\n",
        "Opening file: ../../../Measurements/BreakTest_AluminiumBeam/results.enhanced/3-0.8/collect_69.bin\n",
        "Closed file: ../../../Measurements/BreakTest_AluminiumBeam/results.enhanced/3-0.8/collect_69.bin\n",
        "Opening file: ../../../Measurements/BreakTest_AluminiumBeam/results.enhanced/3-0.8/collect_70.bin\n",
        "Closed file: ../../../Measurements/BreakTest_AluminiumBeam/results.enhanced/3-0.8/collect_70.bin\n",
        "Opening file: ../../../Measurements/BreakTest_AluminiumBeam/results.enhanced/3-0.8/collect_71.bin\n",
        "Closed file: ../../../Measurements/BreakTest_AluminiumBeam/results.enhanced/3-0.8/collect_71.bin\n",
        "Opening file: ../../../Measurements/BreakTest_AluminiumBeam/results.enhanced/3-0.8/collect_72.bin\n",
        "Closed file: ../../../Measurements/BreakTest_AluminiumBeam/results.enhanced/3-0.8/collect_72.bin\n",
        "Opening file: ../../../Measurements/BreakTest_AluminiumBeam/results.enhanced/3-0.8/collect_73.bin\n",
        "Closed file: ../../../Measurements/BreakTest_AluminiumBeam/results.enhanced/3-0.8/collect_73.bin\n",
        "Opening file: ../../../Measurements/BreakTest_AluminiumBeam/results.enhanced/3-0.8/collect_74.bin\n",
        "Closed file: ../../../Measurements/BreakTest_AluminiumBeam/results.enhanced/3-0.8/collect_74.bin\n",
        "Opening file: ../../../Measurements/BreakTest_AluminiumBeam/results.enhanced/3-0.8/collect_75.bin"
       ]
      },
      {
       "output_type": "stream",
       "stream": "stdout",
       "text": [
        "\n",
        "Closed file: ../../../Measurements/BreakTest_AluminiumBeam/results.enhanced/3-0.8/collect_75.bin\n",
        "Opening file: ../../../Measurements/BreakTest_AluminiumBeam/results.enhanced/3-0.8/collect_76.bin\n",
        "Closed file: ../../../Measurements/BreakTest_AluminiumBeam/results.enhanced/3-0.8/collect_76.bin\n",
        "Opening file: ../../../Measurements/BreakTest_AluminiumBeam/results.enhanced/3-0.8/collect_77.bin\n",
        "Closed file: ../../../Measurements/BreakTest_AluminiumBeam/results.enhanced/3-0.8/collect_77.bin\n",
        "Opening file: ../../../Measurements/BreakTest_AluminiumBeam/results.enhanced/3-0.8/collect_78.bin\n",
        "Closed file: ../../../Measurements/BreakTest_AluminiumBeam/results.enhanced/3-0.8/collect_78.bin\n",
        "Opening file: ../../../Measurements/BreakTest_AluminiumBeam/results.enhanced/3-0.8/collect_79.bin\n",
        "Closed file: ../../../Measurements/BreakTest_AluminiumBeam/results.enhanced/3-0.8/collect_79.bin\n",
        "Opening file: ../../../Measurements/BreakTest_AluminiumBeam/results.enhanced/3-0.8/collect_80.bin\n",
        "Closed file: ../../../Measurements/BreakTest_AluminiumBeam/results.enhanced/3-0.8/collect_80.bin"
       ]
      },
      {
       "output_type": "stream",
       "stream": "stdout",
       "text": [
        "\n",
        "Opening file: ../../../Measurements/BreakTest_AluminiumBeam/results.enhanced/3-0.8/collect_81.bin\n",
        "Closed file: ../../../Measurements/BreakTest_AluminiumBeam/results.enhanced/3-0.8/collect_81.bin\n",
        "Opening file: ../../../Measurements/BreakTest_AluminiumBeam/results.enhanced/3-0.8/collect_82.bin\n",
        "Closed file: ../../../Measurements/BreakTest_AluminiumBeam/results.enhanced/3-0.8/collect_82.bin\n",
        "Opening file: ../../../Measurements/BreakTest_AluminiumBeam/results.enhanced/3-0.8/collect_83.bin\n",
        "Closed file: ../../../Measurements/BreakTest_AluminiumBeam/results.enhanced/3-0.8/collect_83.bin\n",
        "Opening file: ../../../Measurements/BreakTest_AluminiumBeam/results.enhanced/3-0.8/collect_84.bin\n",
        "Closed file: ../../../Measurements/BreakTest_AluminiumBeam/results.enhanced/3-0.8/collect_84.bin\n",
        "Opening file: ../../../Measurements/BreakTest_AluminiumBeam/results.enhanced/3-0.8/collect_85.bin\n",
        "Closed file: ../../../Measurements/BreakTest_AluminiumBeam/results.enhanced/3-0.8/collect_85.bin\n",
        "Opening file: ../../../Measurements/BreakTest_AluminiumBeam/results.enhanced/3-0.8/collect_86.bin\n",
        "Closed file: ../../../Measurements/BreakTest_AluminiumBeam/results.enhanced/3-0.8/collect_86.bin"
       ]
      },
      {
       "output_type": "stream",
       "stream": "stdout",
       "text": [
        "\n",
        "Opening file: ../../../Measurements/BreakTest_AluminiumBeam/results.enhanced/3-0.8/collect_87.bin\n",
        "Closed file: ../../../Measurements/BreakTest_AluminiumBeam/results.enhanced/3-0.8/collect_87.bin\n",
        "Opening file: ../../../Measurements/BreakTest_AluminiumBeam/results.enhanced/3-0.8/collect_88.bin\n",
        "Closed file: ../../../Measurements/BreakTest_AluminiumBeam/results.enhanced/3-0.8/collect_88.bin\n",
        "Opening file: ../../../Measurements/BreakTest_AluminiumBeam/results.enhanced/3-0.8/collect_89.bin\n",
        "Closed file: ../../../Measurements/BreakTest_AluminiumBeam/results.enhanced/3-0.8/collect_89.bin\n",
        "Opening file: ../../../Measurements/BreakTest_AluminiumBeam/results.enhanced/3-0.8/collect_90.bin\n",
        "Closed file: ../../../Measurements/BreakTest_AluminiumBeam/results.enhanced/3-0.8/collect_90.bin\n",
        "Opening file: ../../../Measurements/BreakTest_AluminiumBeam/results.enhanced/3-0.8/collect_91.bin\n",
        "Closed file: ../../../Measurements/BreakTest_AluminiumBeam/results.enhanced/3-0.8/collect_91.bin\n",
        "Opening file: ../../../Measurements/BreakTest_AluminiumBeam/results.enhanced/3-0.8/collect_92.bin\n",
        "Closed file: ../../../Measurements/BreakTest_AluminiumBeam/results.enhanced/3-0.8/collect_92.bin"
       ]
      },
      {
       "output_type": "stream",
       "stream": "stdout",
       "text": [
        "\n",
        "Opening file: ../../../Measurements/BreakTest_AluminiumBeam/results.enhanced/3-0.8/collect_93.bin\n",
        "Closed file: ../../../Measurements/BreakTest_AluminiumBeam/results.enhanced/3-0.8/collect_93.bin\n",
        "Opening file: ../../../Measurements/BreakTest_AluminiumBeam/results.enhanced/3-0.8/collect_94.bin\n",
        "Closed file: ../../../Measurements/BreakTest_AluminiumBeam/results.enhanced/3-0.8/collect_94.bin\n",
        "Opening file: ../../../Measurements/BreakTest_AluminiumBeam/results.enhanced/3-0.8/collect_95.bin\n",
        "Closed file: ../../../Measurements/BreakTest_AluminiumBeam/results.enhanced/3-0.8/collect_95.bin\n",
        "Opening file: ../../../Measurements/BreakTest_AluminiumBeam/results.enhanced/3-0.8/collect_96.bin\n",
        "Closed file: ../../../Measurements/BreakTest_AluminiumBeam/results.enhanced/3-0.8/collect_96.bin\n",
        "Opening file: ../../../Measurements/BreakTest_AluminiumBeam/results.enhanced/3-0.8/collect_97.bin\n",
        "Closed file: ../../../Measurements/BreakTest_AluminiumBeam/results.enhanced/3-0.8/collect_97.bin\n",
        "Opening file: ../../../Measurements/BreakTest_AluminiumBeam/results.enhanced/3-0.8/collect_98.bin\n",
        "Closed file: ../../../Measurements/BreakTest_AluminiumBeam/results.enhanced/3-0.8/collect_98.bin\n",
        "Opening file: ../../../Measurements/BreakTest_AluminiumBeam/results.enhanced/3-0.8/collect_99.bin\n",
        "Closed file: ../../../Measurements/BreakTest_AluminiumBeam/results.enhanced/3-0.8/collect_99.bin"
       ]
      },
      {
       "output_type": "stream",
       "stream": "stdout",
       "text": [
        "\n",
        "Opening file: ../../../Measurements/BreakTest_AluminiumBeam/results.enhanced/3-0.8/collect_100.bin\n",
        "Closed file: ../../../Measurements/BreakTest_AluminiumBeam/results.enhanced/3-0.8/collect_100.bin\n",
        "Opening file: ../../../Measurements/BreakTest_AluminiumBeam/results.enhanced/3-0.8/collect_101.bin\n",
        "Closed file: ../../../Measurements/BreakTest_AluminiumBeam/results.enhanced/3-0.8/collect_101.bin\n",
        "Opening file: ../../../Measurements/BreakTest_AluminiumBeam/results.enhanced/3-0.8/collect_102.bin\n",
        "Closed file: ../../../Measurements/BreakTest_AluminiumBeam/results.enhanced/3-0.8/collect_102.bin\n",
        "Opening file: ../../../Measurements/BreakTest_AluminiumBeam/results.enhanced/3-0.8/collect_103.bin\n",
        "Closed file: ../../../Measurements/BreakTest_AluminiumBeam/results.enhanced/3-0.8/collect_103.bin\n",
        "Opening file: ../../../Measurements/BreakTest_AluminiumBeam/results.enhanced/3-0.8/collect_104.bin\n",
        "Closed file: ../../../Measurements/BreakTest_AluminiumBeam/results.enhanced/3-0.8/collect_104.bin"
       ]
      },
      {
       "output_type": "stream",
       "stream": "stdout",
       "text": [
        "\n",
        "Opening file: ../../../Measurements/BreakTest_AluminiumBeam/results.enhanced/3-0.8/collect_105.bin\n",
        "Closed file: ../../../Measurements/BreakTest_AluminiumBeam/results.enhanced/3-0.8/collect_105.bin\n",
        "Opening file: ../../../Measurements/BreakTest_AluminiumBeam/results.enhanced/3-0.8/collect_106.bin\n",
        "Closed file: ../../../Measurements/BreakTest_AluminiumBeam/results.enhanced/3-0.8/collect_106.bin\n",
        "Opening file: ../../../Measurements/BreakTest_AluminiumBeam/results.enhanced/3-0.8/collect_107.bin\n",
        "Closed file: ../../../Measurements/BreakTest_AluminiumBeam/results.enhanced/3-0.8/collect_107.bin\n",
        "Opening file: ../../../Measurements/BreakTest_AluminiumBeam/results.enhanced/3-0.8/collect_108.bin\n",
        "Closed file: ../../../Measurements/BreakTest_AluminiumBeam/results.enhanced/3-0.8/collect_108.bin\n",
        "Opening file: ../../../Measurements/BreakTest_AluminiumBeam/results.enhanced/3-0.8/collect_109.bin\n",
        "Closed file: ../../../Measurements/BreakTest_AluminiumBeam/results.enhanced/3-0.8/collect_109.bin"
       ]
      },
      {
       "output_type": "stream",
       "stream": "stdout",
       "text": [
        "\n",
        "Opening file: ../../../Measurements/BreakTest_AluminiumBeam/results.enhanced/3-0.8/collect_110.bin\n",
        "Closed file: ../../../Measurements/BreakTest_AluminiumBeam/results.enhanced/3-0.8/collect_110.bin\n",
        "Opening file: ../../../Measurements/BreakTest_AluminiumBeam/results.enhanced/3-0.8/collect_111.bin\n",
        "Closed file: ../../../Measurements/BreakTest_AluminiumBeam/results.enhanced/3-0.8/collect_111.bin\n",
        "Opening file: ../../../Measurements/BreakTest_AluminiumBeam/results.enhanced/3-0.8/collect_112.bin\n",
        "Closed file: ../../../Measurements/BreakTest_AluminiumBeam/results.enhanced/3-0.8/collect_112.bin\n",
        "Opening file: ../../../Measurements/BreakTest_AluminiumBeam/results.enhanced/3-0.8/collect_113.bin\n",
        "Closed file: ../../../Measurements/BreakTest_AluminiumBeam/results.enhanced/3-0.8/collect_113.bin\n",
        "Opening file: ../../../Measurements/BreakTest_AluminiumBeam/results.enhanced/3-0.8/collect_114.bin\n",
        "Closed file: ../../../Measurements/BreakTest_AluminiumBeam/results.enhanced/3-0.8/collect_114.bin"
       ]
      },
      {
       "output_type": "stream",
       "stream": "stdout",
       "text": [
        "\n",
        "Opening file: ../../../Measurements/BreakTest_AluminiumBeam/results.enhanced/3-0.8/collect_115.bin\n",
        "Closed file: ../../../Measurements/BreakTest_AluminiumBeam/results.enhanced/3-0.8/collect_115.bin\n",
        "Opening file: ../../../Measurements/BreakTest_AluminiumBeam/results.enhanced/3-0.8/collect_116.bin\n",
        "Closed file: ../../../Measurements/BreakTest_AluminiumBeam/results.enhanced/3-0.8/collect_116.bin\n",
        "Opening file: ../../../Measurements/BreakTest_AluminiumBeam/results.enhanced/3-0.8/collect_117.bin\n",
        "Closed file: ../../../Measurements/BreakTest_AluminiumBeam/results.enhanced/3-0.8/collect_117.bin\n",
        "Opening file: ../../../Measurements/BreakTest_AluminiumBeam/results.enhanced/3-0.8/collect_118.bin\n",
        "Closed file: ../../../Measurements/BreakTest_AluminiumBeam/results.enhanced/3-0.8/collect_118.bin\n",
        "Opening file: ../../../Measurements/BreakTest_AluminiumBeam/results.enhanced/3-0.8/collect_119.bin\n",
        "Closed file: ../../../Measurements/BreakTest_AluminiumBeam/results.enhanced/3-0.8/collect_119.bin\n",
        "Opening file: ../../../Measurements/BreakTest_AluminiumBeam/results.enhanced/3-0.8/collect_120.bin\n",
        "Closed file: ../../../Measurements/BreakTest_AluminiumBeam/results.enhanced/3-0.8/collect_120.bin"
       ]
      },
      {
       "output_type": "stream",
       "stream": "stdout",
       "text": [
        "\n",
        "Opening file: ../../../Measurements/BreakTest_AluminiumBeam/results.enhanced/3-0.8/collect_121.bin\n",
        "Closed file: ../../../Measurements/BreakTest_AluminiumBeam/results.enhanced/3-0.8/collect_121.bin\n",
        "Opening file: ../../../Measurements/BreakTest_AluminiumBeam/results.enhanced/3-0.8/collect_122.bin\n",
        "Closed file: ../../../Measurements/BreakTest_AluminiumBeam/results.enhanced/3-0.8/collect_122.bin\n",
        "Opening file: ../../../Measurements/BreakTest_AluminiumBeam/results.enhanced/3-0.8/collect_123.bin\n",
        "Closed file: ../../../Measurements/BreakTest_AluminiumBeam/results.enhanced/3-0.8/collect_123.bin\n",
        "Opening file: ../../../Measurements/BreakTest_AluminiumBeam/results.enhanced/3-0.8/collect_124.bin\n",
        "Closed file: ../../../Measurements/BreakTest_AluminiumBeam/results.enhanced/3-0.8/collect_124.bin\n",
        "Opening file: ../../../Measurements/BreakTest_AluminiumBeam/results.enhanced/3-0.8/collect_125.bin\n",
        "Closed file: ../../../Measurements/BreakTest_AluminiumBeam/results.enhanced/3-0.8/collect_125.bin\n",
        "Opening file: ../../../Measurements/BreakTest_AluminiumBeam/results.enhanced/3-0.8/collect_126.bin\n",
        "Closed file: ../../../Measurements/BreakTest_AluminiumBeam/results.enhanced/3-0.8/collect_126.bin\n",
        "Opening file: ../../../Measurements/BreakTest_AluminiumBeam/results.enhanced/3-0.8/collect_127.bin"
       ]
      },
      {
       "output_type": "stream",
       "stream": "stdout",
       "text": [
        "\n",
        "Closed file: ../../../Measurements/BreakTest_AluminiumBeam/results.enhanced/3-0.8/collect_127.bin\n",
        "Opening file: ../../../Measurements/BreakTest_AluminiumBeam/results.enhanced/3-0.8/collect_128.bin\n",
        "Closed file: ../../../Measurements/BreakTest_AluminiumBeam/results.enhanced/3-0.8/collect_128.bin\n",
        "Opening file: ../../../Measurements/BreakTest_AluminiumBeam/results.enhanced/3-0.8/collect_129.bin\n",
        "Closed file: ../../../Measurements/BreakTest_AluminiumBeam/results.enhanced/3-0.8/collect_129.bin\n",
        "Opening file: ../../../Measurements/BreakTest_AluminiumBeam/results.enhanced/3-0.8/collect_130.bin\n",
        "Closed file: ../../../Measurements/BreakTest_AluminiumBeam/results.enhanced/3-0.8/collect_130.bin\n",
        "Opening file: ../../../Measurements/BreakTest_AluminiumBeam/results.enhanced/3-0.8/collect_131.bin\n",
        "Closed file: ../../../Measurements/BreakTest_AluminiumBeam/results.enhanced/3-0.8/collect_131.bin\n",
        "Opening file: ../../../Measurements/BreakTest_AluminiumBeam/results.enhanced/3-0.8/collect_132.bin\n",
        "Closed file: ../../../Measurements/BreakTest_AluminiumBeam/results.enhanced/3-0.8/collect_132.bin\n",
        "Opening file: ../../../Measurements/BreakTest_AluminiumBeam/results.enhanced/3-0.8/collect_133.bin"
       ]
      },
      {
       "output_type": "stream",
       "stream": "stdout",
       "text": [
        "\n",
        "Closed file: ../../../Measurements/BreakTest_AluminiumBeam/results.enhanced/3-0.8/collect_133.bin\n",
        "Opening file: ../../../Measurements/BreakTest_AluminiumBeam/results.enhanced/3-0.8/collect_134.bin\n",
        "Closed file: ../../../Measurements/BreakTest_AluminiumBeam/results.enhanced/3-0.8/collect_134.bin\n",
        "Opening file: ../../../Measurements/BreakTest_AluminiumBeam/results.enhanced/3-0.8/collect_135.bin\n",
        "Closed file: ../../../Measurements/BreakTest_AluminiumBeam/results.enhanced/3-0.8/collect_135.bin\n",
        "Opening file: ../../../Measurements/BreakTest_AluminiumBeam/results.enhanced/3-0.8/collect_136.bin\n",
        "Closed file: ../../../Measurements/BreakTest_AluminiumBeam/results.enhanced/3-0.8/collect_136.bin\n",
        "Opening file: ../../../Measurements/BreakTest_AluminiumBeam/results.enhanced/3-0.8/collect_137.bin\n",
        "Closed file: ../../../Measurements/BreakTest_AluminiumBeam/results.enhanced/3-0.8/collect_137.bin\n",
        "Opening file: ../../../Measurements/BreakTest_AluminiumBeam/results.enhanced/3-0.8/collect_138.bin\n",
        "Closed file: ../../../Measurements/BreakTest_AluminiumBeam/results.enhanced/3-0.8/collect_138.bin\n",
        "Opening file: ../../../Measurements/BreakTest_AluminiumBeam/results.enhanced/3-0.8/collect_139.bin\n",
        "Closed file: ../../../Measurements/BreakTest_AluminiumBeam/results.enhanced/3-0.8/collect_139.bin"
       ]
      },
      {
       "output_type": "stream",
       "stream": "stdout",
       "text": [
        "\n",
        "Opening file: ../../../Measurements/BreakTest_AluminiumBeam/results.enhanced/3-0.8/collect_140.bin\n",
        "Closed file: ../../../Measurements/BreakTest_AluminiumBeam/results.enhanced/3-0.8/collect_140.bin\n",
        "Opening file: ../../../Measurements/BreakTest_AluminiumBeam/results.enhanced/3-0.8/collect_141.bin\n",
        "Closed file: ../../../Measurements/BreakTest_AluminiumBeam/results.enhanced/3-0.8/collect_141.bin\n",
        "Opening file: ../../../Measurements/BreakTest_AluminiumBeam/results.enhanced/3-0.8/collect_142.bin\n",
        "Closed file: ../../../Measurements/BreakTest_AluminiumBeam/results.enhanced/3-0.8/collect_142.bin\n",
        "Opening file: ../../../Measurements/BreakTest_AluminiumBeam/results.enhanced/3-0.8/collect_143.bin\n",
        "Closed file: ../../../Measurements/BreakTest_AluminiumBeam/results.enhanced/3-0.8/collect_143.bin\n",
        "Opening file: ../../../Measurements/BreakTest_AluminiumBeam/results.enhanced/3-0.8/collect_144.bin\n",
        "Closed file: ../../../Measurements/BreakTest_AluminiumBeam/results.enhanced/3-0.8/collect_144.bin\n",
        "Opening file: ../../../Measurements/BreakTest_AluminiumBeam/results.enhanced/3-0.8/collect_145.bin\n",
        "Closed file: ../../../Measurements/BreakTest_AluminiumBeam/results.enhanced/3-0.8/collect_145.bin"
       ]
      },
      {
       "output_type": "stream",
       "stream": "stdout",
       "text": [
        "\n",
        "Opening file: ../../../Measurements/BreakTest_AluminiumBeam/results.enhanced/3-0.8/collect_146.bin\n",
        "Closed file: ../../../Measurements/BreakTest_AluminiumBeam/results.enhanced/3-0.8/collect_146.bin\n",
        "Opening file: ../../../Measurements/BreakTest_AluminiumBeam/results.enhanced/3-0.8/collect_147.bin\n",
        "Closed file: ../../../Measurements/BreakTest_AluminiumBeam/results.enhanced/3-0.8/collect_147.bin\n",
        "Opening file: ../../../Measurements/BreakTest_AluminiumBeam/results.enhanced/3-0.8/collect_148.bin\n",
        "Closed file: ../../../Measurements/BreakTest_AluminiumBeam/results.enhanced/3-0.8/collect_148.bin\n",
        "Opening file: ../../../Measurements/BreakTest_AluminiumBeam/results.enhanced/3-0.8/collect_149.bin\n",
        "Closed file: ../../../Measurements/BreakTest_AluminiumBeam/results.enhanced/3-0.8/collect_149.bin\n",
        "Opening file: ../../../Measurements/BreakTest_AluminiumBeam/results.enhanced/3-0.8/collect_150.bin"
       ]
      },
      {
       "output_type": "stream",
       "stream": "stdout",
       "text": [
        "\n",
        "Closed file: ../../../Measurements/BreakTest_AluminiumBeam/results.enhanced/3-0.8/collect_150.bin\n",
        "Opening file: ../../../Measurements/BreakTest_AluminiumBeam/results.enhanced/3-0.8/collect_151.bin\n",
        "Closed file: ../../../Measurements/BreakTest_AluminiumBeam/results.enhanced/3-0.8/collect_151.bin\n",
        "Opening file: ../../../Measurements/BreakTest_AluminiumBeam/results.enhanced/3-0.8/collect_152.bin\n",
        "Closed file: ../../../Measurements/BreakTest_AluminiumBeam/results.enhanced/3-0.8/collect_152.bin\n",
        "Opening file: ../../../Measurements/BreakTest_AluminiumBeam/results.enhanced/3-0.8/collect_153.bin\n",
        "Closed file: ../../../Measurements/BreakTest_AluminiumBeam/results.enhanced/3-0.8/collect_153.bin\n",
        "Opening file: ../../../Measurements/BreakTest_AluminiumBeam/results.enhanced/3-0.8/collect_154.bin\n",
        "Closed file: ../../../Measurements/BreakTest_AluminiumBeam/results.enhanced/3-0.8/collect_154.bin\n",
        "Opening file: ../../../Measurements/BreakTest_AluminiumBeam/results.enhanced/3-0.8/collect_155.bin\n",
        "Closed file: ../../../Measurements/BreakTest_AluminiumBeam/results.enhanced/3-0.8/collect_155.bin"
       ]
      },
      {
       "output_type": "stream",
       "stream": "stdout",
       "text": [
        "\n",
        "Opening file: ../../../Measurements/BreakTest_AluminiumBeam/results.enhanced/3-0.8/collect_156.bin\n",
        "Closed file: ../../../Measurements/BreakTest_AluminiumBeam/results.enhanced/3-0.8/collect_156.bin\n",
        "Opening file: ../../../Measurements/BreakTest_AluminiumBeam/results.enhanced/3-0.8/collect_157.bin\n",
        "Closed file: ../../../Measurements/BreakTest_AluminiumBeam/results.enhanced/3-0.8/collect_157.bin\n",
        "Opening file: ../../../Measurements/BreakTest_AluminiumBeam/results.enhanced/3-0.8/collect_158.bin\n",
        "Closed file: ../../../Measurements/BreakTest_AluminiumBeam/results.enhanced/3-0.8/collect_158.bin"
       ]
      },
      {
       "output_type": "stream",
       "stream": "stdout",
       "text": [
        "\n",
        "Opening file: ../../../Measurements/BreakTest_AluminiumBeam/results.enhanced/3-0.8/collect_159.bin\n",
        "Closed file: ../../../Measurements/BreakTest_AluminiumBeam/results.enhanced/3-0.8/collect_159.bin\n",
        "Opening file: ../../../Measurements/BreakTest_AluminiumBeam/results.enhanced/3-0.8/collect_160.bin\n",
        "Closed file: ../../../Measurements/BreakTest_AluminiumBeam/results.enhanced/3-0.8/collect_160.bin\n",
        "Opening file: ../../../Measurements/BreakTest_AluminiumBeam/results.enhanced/3-0.8/collect_161.bin\n",
        "Closed file: ../../../Measurements/BreakTest_AluminiumBeam/results.enhanced/3-0.8/collect_161.bin\n",
        "Opening file: ../../../Measurements/BreakTest_AluminiumBeam/results.enhanced/3-0.8/collect_162.bin\n",
        "Closed file: ../../../Measurements/BreakTest_AluminiumBeam/results.enhanced/3-0.8/collect_162.bin\n",
        "Opening file: ../../../Measurements/BreakTest_AluminiumBeam/results.enhanced/3-0.8/collect_163.bin\n",
        "Closed file: ../../../Measurements/BreakTest_AluminiumBeam/results.enhanced/3-0.8/collect_163.bin\n",
        "Opening file: ../../../Measurements/BreakTest_AluminiumBeam/results.enhanced/4-1/collect_0.bin"
       ]
      },
      {
       "output_type": "stream",
       "stream": "stdout",
       "text": [
        "\n",
        "Closed file: ../../../Measurements/BreakTest_AluminiumBeam/results.enhanced/4-1/collect_0.bin\n",
        "Opening file: ../../../Measurements/BreakTest_AluminiumBeam/results.enhanced/4-1/collect_1.bin\n",
        "Closed file: ../../../Measurements/BreakTest_AluminiumBeam/results.enhanced/4-1/collect_1.bin\n",
        "Opening file: ../../../Measurements/BreakTest_AluminiumBeam/results.enhanced/4-1/collect_2.bin\n",
        "Closed file: ../../../Measurements/BreakTest_AluminiumBeam/results.enhanced/4-1/collect_2.bin\n",
        "Opening file: ../../../Measurements/BreakTest_AluminiumBeam/results.enhanced/4-1/collect_3.bin\n",
        "Closed file: ../../../Measurements/BreakTest_AluminiumBeam/results.enhanced/4-1/collect_3.bin\n",
        "Opening file: ../../../Measurements/BreakTest_AluminiumBeam/results.enhanced/4-1/collect_4.bin\n",
        "Closed file: ../../../Measurements/BreakTest_AluminiumBeam/results.enhanced/4-1/collect_4.bin\n",
        "Opening file: ../../../Measurements/BreakTest_AluminiumBeam/results.enhanced/4-1/collect_5.bin\n",
        "Closed file: ../../../Measurements/BreakTest_AluminiumBeam/results.enhanced/4-1/collect_5.bin"
       ]
      },
      {
       "output_type": "stream",
       "stream": "stdout",
       "text": [
        "\n",
        "Opening file: ../../../Measurements/BreakTest_AluminiumBeam/results.enhanced/4-1/collect_6.bin\n",
        "Closed file: ../../../Measurements/BreakTest_AluminiumBeam/results.enhanced/4-1/collect_6.bin\n",
        "Opening file: ../../../Measurements/BreakTest_AluminiumBeam/results.enhanced/4-1/collect_7.bin\n",
        "Closed file: ../../../Measurements/BreakTest_AluminiumBeam/results.enhanced/4-1/collect_7.bin\n",
        "Opening file: ../../../Measurements/BreakTest_AluminiumBeam/results.enhanced/4-1/collect_8.bin\n",
        "Closed file: ../../../Measurements/BreakTest_AluminiumBeam/results.enhanced/4-1/collect_8.bin\n",
        "Opening file: ../../../Measurements/BreakTest_AluminiumBeam/results.enhanced/4-1/collect_9.bin\n",
        "Closed file: ../../../Measurements/BreakTest_AluminiumBeam/results.enhanced/4-1/collect_9.bin\n",
        "Opening file: ../../../Measurements/BreakTest_AluminiumBeam/results.enhanced/4-1/collect_10.bin\n",
        "Closed file: ../../../Measurements/BreakTest_AluminiumBeam/results.enhanced/4-1/collect_10.bin\n",
        "Opening file: ../../../Measurements/BreakTest_AluminiumBeam/results.enhanced/4-1/collect_11.bin"
       ]
      },
      {
       "output_type": "stream",
       "stream": "stdout",
       "text": [
        "\n",
        "Closed file: ../../../Measurements/BreakTest_AluminiumBeam/results.enhanced/4-1/collect_11.bin\n",
        "Opening file: ../../../Measurements/BreakTest_AluminiumBeam/results.enhanced/4-1/collect_12.bin\n",
        "Closed file: ../../../Measurements/BreakTest_AluminiumBeam/results.enhanced/4-1/collect_12.bin\n",
        "Opening file: ../../../Measurements/BreakTest_AluminiumBeam/results.enhanced/4-1/collect_13.bin\n",
        "Closed file: ../../../Measurements/BreakTest_AluminiumBeam/results.enhanced/4-1/collect_13.bin\n",
        "Opening file: ../../../Measurements/BreakTest_AluminiumBeam/results.enhanced/4-1/collect_14.bin\n",
        "Closed file: ../../../Measurements/BreakTest_AluminiumBeam/results.enhanced/4-1/collect_14.bin\n",
        "Opening file: ../../../Measurements/BreakTest_AluminiumBeam/results.enhanced/4-1/collect_15.bin\n",
        "Closed file: ../../../Measurements/BreakTest_AluminiumBeam/results.enhanced/4-1/collect_15.bin\n",
        "Opening file: ../../../Measurements/BreakTest_AluminiumBeam/results.enhanced/4-1/collect_16.bin\n",
        "Closed file: ../../../Measurements/BreakTest_AluminiumBeam/results.enhanced/4-1/collect_16.bin\n",
        "Opening file: ../../../Measurements/BreakTest_AluminiumBeam/results.enhanced/4-1/collect_17.bin\n",
        "Closed file: ../../../Measurements/BreakTest_AluminiumBeam/results.enhanced/4-1/collect_17.bin"
       ]
      },
      {
       "output_type": "stream",
       "stream": "stdout",
       "text": [
        "\n",
        "Opening file: ../../../Measurements/BreakTest_AluminiumBeam/results.enhanced/4-1/collect_18.bin\n",
        "Closed file: ../../../Measurements/BreakTest_AluminiumBeam/results.enhanced/4-1/collect_18.bin\n",
        "Opening file: ../../../Measurements/BreakTest_AluminiumBeam/results.enhanced/4-1/collect_19.bin\n",
        "Closed file: ../../../Measurements/BreakTest_AluminiumBeam/results.enhanced/4-1/collect_19.bin\n",
        "Opening file: ../../../Measurements/BreakTest_AluminiumBeam/results.enhanced/4-1/collect_20.bin\n",
        "Closed file: ../../../Measurements/BreakTest_AluminiumBeam/results.enhanced/4-1/collect_20.bin\n",
        "Opening file: ../../../Measurements/BreakTest_AluminiumBeam/results.enhanced/4-1/collect_21.bin\n",
        "Closed file: ../../../Measurements/BreakTest_AluminiumBeam/results.enhanced/4-1/collect_21.bin\n",
        "Opening file: ../../../Measurements/BreakTest_AluminiumBeam/results.enhanced/4-1/collect_22.bin\n",
        "Closed file: ../../../Measurements/BreakTest_AluminiumBeam/results.enhanced/4-1/collect_22.bin\n",
        "Opening file: ../../../Measurements/BreakTest_AluminiumBeam/results.enhanced/4-1/collect_23.bin\n",
        "Closed file: ../../../Measurements/BreakTest_AluminiumBeam/results.enhanced/4-1/collect_23.bin\n",
        "Opening file: ../../../Measurements/BreakTest_AluminiumBeam/results.enhanced/4-1/collect_24.bin"
       ]
      },
      {
       "output_type": "stream",
       "stream": "stdout",
       "text": [
        "\n",
        "Closed file: ../../../Measurements/BreakTest_AluminiumBeam/results.enhanced/4-1/collect_24.bin\n",
        "Opening file: ../../../Measurements/BreakTest_AluminiumBeam/results.enhanced/4-1/collect_25.bin\n",
        "Closed file: ../../../Measurements/BreakTest_AluminiumBeam/results.enhanced/4-1/collect_25.bin\n",
        "Opening file: ../../../Measurements/BreakTest_AluminiumBeam/results.enhanced/4-1/collect_26.bin\n",
        "Closed file: ../../../Measurements/BreakTest_AluminiumBeam/results.enhanced/4-1/collect_26.bin\n",
        "Opening file: ../../../Measurements/BreakTest_AluminiumBeam/results.enhanced/4-1/collect_27.bin\n",
        "Closed file: ../../../Measurements/BreakTest_AluminiumBeam/results.enhanced/4-1/collect_27.bin\n",
        "Opening file: ../../../Measurements/BreakTest_AluminiumBeam/results.enhanced/4-1/collect_28.bin\n",
        "Closed file: ../../../Measurements/BreakTest_AluminiumBeam/results.enhanced/4-1/collect_28.bin\n",
        "Opening file: ../../../Measurements/BreakTest_AluminiumBeam/results.enhanced/4-1/collect_29.bin\n",
        "Closed file: ../../../Measurements/BreakTest_AluminiumBeam/results.enhanced/4-1/collect_29.bin"
       ]
      },
      {
       "output_type": "stream",
       "stream": "stdout",
       "text": [
        "\n",
        "Opening file: ../../../Measurements/BreakTest_AluminiumBeam/results.enhanced/4-1/collect_30.bin\n",
        "Closed file: ../../../Measurements/BreakTest_AluminiumBeam/results.enhanced/4-1/collect_30.bin\n",
        "Opening file: ../../../Measurements/BreakTest_AluminiumBeam/results.enhanced/4-1/collect_31.bin\n",
        "Closed file: ../../../Measurements/BreakTest_AluminiumBeam/results.enhanced/4-1/collect_31.bin\n",
        "Opening file: ../../../Measurements/BreakTest_AluminiumBeam/results.enhanced/4-1/collect_32.bin\n",
        "Closed file: ../../../Measurements/BreakTest_AluminiumBeam/results.enhanced/4-1/collect_32.bin\n",
        "Opening file: ../../../Measurements/BreakTest_AluminiumBeam/results.enhanced/4-1/collect_33.bin\n",
        "Closed file: ../../../Measurements/BreakTest_AluminiumBeam/results.enhanced/4-1/collect_33.bin\n",
        "Opening file: ../../../Measurements/BreakTest_AluminiumBeam/results.enhanced/4-1/collect_34.bin\n",
        "Closed file: ../../../Measurements/BreakTest_AluminiumBeam/results.enhanced/4-1/collect_34.bin"
       ]
      },
      {
       "output_type": "stream",
       "stream": "stdout",
       "text": [
        "\n",
        "Opening file: ../../../Measurements/BreakTest_AluminiumBeam/results.enhanced/4-1/collect_35.bin\n",
        "Closed file: ../../../Measurements/BreakTest_AluminiumBeam/results.enhanced/4-1/collect_35.bin\n",
        "Opening file: ../../../Measurements/BreakTest_AluminiumBeam/results.enhanced/4-1/collect_36.bin\n",
        "Closed file: ../../../Measurements/BreakTest_AluminiumBeam/results.enhanced/4-1/collect_36.bin\n",
        "Opening file: ../../../Measurements/BreakTest_AluminiumBeam/results.enhanced/4-1/collect_37.bin\n",
        "Closed file: ../../../Measurements/BreakTest_AluminiumBeam/results.enhanced/4-1/collect_37.bin\n",
        "Opening file: ../../../Measurements/BreakTest_AluminiumBeam/results.enhanced/4-1/collect_38.bin\n",
        "Closed file: ../../../Measurements/BreakTest_AluminiumBeam/results.enhanced/4-1/collect_38.bin\n",
        "Opening file: ../../../Measurements/BreakTest_AluminiumBeam/results.enhanced/4-1/collect_39.bin\n",
        "Closed file: ../../../Measurements/BreakTest_AluminiumBeam/results.enhanced/4-1/collect_39.bin\n",
        "Opening file: ../../../Measurements/BreakTest_AluminiumBeam/results.enhanced/4-1/collect_40.bin\n",
        "Closed file: ../../../Measurements/BreakTest_AluminiumBeam/results.enhanced/4-1/collect_40.bin"
       ]
      },
      {
       "output_type": "stream",
       "stream": "stdout",
       "text": [
        "\n",
        "Opening file: ../../../Measurements/BreakTest_AluminiumBeam/results.enhanced/4-1/collect_41.bin\n",
        "Closed file: ../../../Measurements/BreakTest_AluminiumBeam/results.enhanced/4-1/collect_41.bin\n",
        "Opening file: ../../../Measurements/BreakTest_AluminiumBeam/results.enhanced/4-1/collect_42.bin\n",
        "Closed file: ../../../Measurements/BreakTest_AluminiumBeam/results.enhanced/4-1/collect_42.bin\n",
        "Opening file: ../../../Measurements/BreakTest_AluminiumBeam/results.enhanced/4-1/collect_43.bin\n",
        "Closed file: ../../../Measurements/BreakTest_AluminiumBeam/results.enhanced/4-1/collect_43.bin\n",
        "Opening file: ../../../Measurements/BreakTest_AluminiumBeam/results.enhanced/4-1/collect_44.bin\n",
        "Closed file: ../../../Measurements/BreakTest_AluminiumBeam/results.enhanced/4-1/collect_44.bin\n",
        "Opening file: ../../../Measurements/BreakTest_AluminiumBeam/results.enhanced/4-1/collect_45.bin"
       ]
      },
      {
       "output_type": "stream",
       "stream": "stdout",
       "text": [
        "\n",
        "Closed file: ../../../Measurements/BreakTest_AluminiumBeam/results.enhanced/4-1/collect_45.bin\n",
        "Opening file: ../../../Measurements/BreakTest_AluminiumBeam/results.enhanced/4-1/collect_46.bin\n",
        "Closed file: ../../../Measurements/BreakTest_AluminiumBeam/results.enhanced/4-1/collect_46.bin\n",
        "Opening file: ../../../Measurements/BreakTest_AluminiumBeam/results.enhanced/4-1/collect_47.bin\n",
        "Closed file: ../../../Measurements/BreakTest_AluminiumBeam/results.enhanced/4-1/collect_47.bin\n",
        "Opening file: ../../../Measurements/BreakTest_AluminiumBeam/results.enhanced/4-1/collect_48.bin\n",
        "Closed file: ../../../Measurements/BreakTest_AluminiumBeam/results.enhanced/4-1/collect_48.bin\n",
        "Opening file: ../../../Measurements/BreakTest_AluminiumBeam/results.enhanced/4-1/collect_49.bin\n",
        "Closed file: ../../../Measurements/BreakTest_AluminiumBeam/results.enhanced/4-1/collect_49.bin"
       ]
      },
      {
       "output_type": "stream",
       "stream": "stdout",
       "text": [
        "\n",
        "Opening file: ../../../Measurements/BreakTest_AluminiumBeam/results.enhanced/4-1/collect_50.bin\n",
        "Closed file: ../../../Measurements/BreakTest_AluminiumBeam/results.enhanced/4-1/collect_50.bin\n",
        "Opening file: ../../../Measurements/BreakTest_AluminiumBeam/results.enhanced/4-1/collect_51.bin\n",
        "Closed file: ../../../Measurements/BreakTest_AluminiumBeam/results.enhanced/4-1/collect_51.bin\n",
        "Opening file: ../../../Measurements/BreakTest_AluminiumBeam/results.enhanced/4-1/collect_52.bin\n",
        "Closed file: ../../../Measurements/BreakTest_AluminiumBeam/results.enhanced/4-1/collect_52.bin\n",
        "Opening file: ../../../Measurements/BreakTest_AluminiumBeam/results.enhanced/4-1/collect_53.bin\n",
        "Closed file: ../../../Measurements/BreakTest_AluminiumBeam/results.enhanced/4-1/collect_53.bin"
       ]
      },
      {
       "output_type": "stream",
       "stream": "stdout",
       "text": [
        "\n",
        "Opening file: ../../../Measurements/BreakTest_AluminiumBeam/results.enhanced/4-1/collect_54.bin\n",
        "Closed file: ../../../Measurements/BreakTest_AluminiumBeam/results.enhanced/4-1/collect_54.bin\n",
        "Opening file: ../../../Measurements/BreakTest_AluminiumBeam/results.enhanced/4-1/collect_55.bin\n",
        "Closed file: ../../../Measurements/BreakTest_AluminiumBeam/results.enhanced/4-1/collect_55.bin\n",
        "Opening file: ../../../Measurements/BreakTest_AluminiumBeam/results.enhanced/4-1/collect_56.bin\n",
        "Closed file: ../../../Measurements/BreakTest_AluminiumBeam/results.enhanced/4-1/collect_56.bin\n",
        "Opening file: ../../../Measurements/BreakTest_AluminiumBeam/results.enhanced/4-1/collect_57.bin\n",
        "Closed file: ../../../Measurements/BreakTest_AluminiumBeam/results.enhanced/4-1/collect_57.bin\n",
        "Opening file: ../../../Measurements/BreakTest_AluminiumBeam/results.enhanced/4-1/collect_58.bin\n",
        "Closed file: ../../../Measurements/BreakTest_AluminiumBeam/results.enhanced/4-1/collect_58.bin\n",
        "Opening file: ../../../Measurements/BreakTest_AluminiumBeam/results.enhanced/4-1/collect_59.bin\n",
        "Closed file: ../../../Measurements/BreakTest_AluminiumBeam/results.enhanced/4-1/collect_59.bin"
       ]
      },
      {
       "output_type": "stream",
       "stream": "stdout",
       "text": [
        "\n",
        "Opening file: ../../../Measurements/BreakTest_AluminiumBeam/results.enhanced/4-1/collect_60.bin\n",
        "Closed file: ../../../Measurements/BreakTest_AluminiumBeam/results.enhanced/4-1/collect_60.bin\n",
        "Opening file: ../../../Measurements/BreakTest_AluminiumBeam/results.enhanced/4-1/collect_61.bin\n",
        "Closed file: ../../../Measurements/BreakTest_AluminiumBeam/results.enhanced/4-1/collect_61.bin\n",
        "Opening file: ../../../Measurements/BreakTest_AluminiumBeam/results.enhanced/4-1/collect_62.bin\n",
        "Closed file: ../../../Measurements/BreakTest_AluminiumBeam/results.enhanced/4-1/collect_62.bin\n",
        "Opening file: ../../../Measurements/BreakTest_AluminiumBeam/results.enhanced/4-1/collect_63.bin\n",
        "Closed file: ../../../Measurements/BreakTest_AluminiumBeam/results.enhanced/4-1/collect_63.bin\n",
        "Opening file: ../../../Measurements/BreakTest_AluminiumBeam/results.enhanced/4-1/collect_64.bin\n",
        "Closed file: ../../../Measurements/BreakTest_AluminiumBeam/results.enhanced/4-1/collect_64.bin\n",
        "Opening file: ../../../Measurements/BreakTest_AluminiumBeam/results.enhanced/4-1/collect_65.bin\n",
        "Closed file: ../../../Measurements/BreakTest_AluminiumBeam/results.enhanced/4-1/collect_65.bin"
       ]
      },
      {
       "output_type": "stream",
       "stream": "stdout",
       "text": [
        "\n",
        "Opening file: ../../../Measurements/BreakTest_AluminiumBeam/results.enhanced/4-1/collect_66.bin\n",
        "Closed file: ../../../Measurements/BreakTest_AluminiumBeam/results.enhanced/4-1/collect_66.bin\n",
        "Opening file: ../../../Measurements/BreakTest_AluminiumBeam/results.enhanced/4-1/collect_67.bin\n",
        "Closed file: ../../../Measurements/BreakTest_AluminiumBeam/results.enhanced/4-1/collect_67.bin\n",
        "Opening file: ../../../Measurements/BreakTest_AluminiumBeam/results.enhanced/4-1/collect_68.bin\n",
        "Closed file: ../../../Measurements/BreakTest_AluminiumBeam/results.enhanced/4-1/collect_68.bin\n",
        "Opening file: ../../../Measurements/BreakTest_AluminiumBeam/results.enhanced/4-1/collect_69.bin\n",
        "Closed file: ../../../Measurements/BreakTest_AluminiumBeam/results.enhanced/4-1/collect_69.bin\n",
        "Opening file: ../../../Measurements/BreakTest_AluminiumBeam/results.enhanced/4-1/collect_70.bin\n",
        "Closed file: ../../../Measurements/BreakTest_AluminiumBeam/results.enhanced/4-1/collect_70.bin\n",
        "Opening file: ../../../Measurements/BreakTest_AluminiumBeam/results.enhanced/4-1/collect_71.bin\n",
        "Closed file: ../../../Measurements/BreakTest_AluminiumBeam/results.enhanced/4-1/collect_71.bin"
       ]
      },
      {
       "output_type": "stream",
       "stream": "stdout",
       "text": [
        "\n",
        "Opening file: ../../../Measurements/BreakTest_AluminiumBeam/results.enhanced/4-1/collect_72.bin\n",
        "Closed file: ../../../Measurements/BreakTest_AluminiumBeam/results.enhanced/4-1/collect_72.bin\n",
        "Opening file: ../../../Measurements/BreakTest_AluminiumBeam/results.enhanced/4-1/collect_73.bin\n",
        "Closed file: ../../../Measurements/BreakTest_AluminiumBeam/results.enhanced/4-1/collect_73.bin\n",
        "Opening file: ../../../Measurements/BreakTest_AluminiumBeam/results.enhanced/4-1/collect_74.bin\n",
        "Closed file: ../../../Measurements/BreakTest_AluminiumBeam/results.enhanced/4-1/collect_74.bin\n",
        "Opening file: ../../../Measurements/BreakTest_AluminiumBeam/results.enhanced/4-1/collect_75.bin\n",
        "Closed file: ../../../Measurements/BreakTest_AluminiumBeam/results.enhanced/4-1/collect_75.bin\n",
        "Opening file: ../../../Measurements/BreakTest_AluminiumBeam/results.enhanced/4-1/collect_76.bin\n",
        "Closed file: ../../../Measurements/BreakTest_AluminiumBeam/results.enhanced/4-1/collect_76.bin\n",
        "Opening file: ../../../Measurements/BreakTest_AluminiumBeam/results.enhanced/4-1/collect_77.bin\n",
        "Closed file: ../../../Measurements/BreakTest_AluminiumBeam/results.enhanced/4-1/collect_77.bin"
       ]
      },
      {
       "output_type": "stream",
       "stream": "stdout",
       "text": [
        "\n",
        "Opening file: ../../../Measurements/BreakTest_AluminiumBeam/results.enhanced/4-1/collect_78.bin\n",
        "Closed file: ../../../Measurements/BreakTest_AluminiumBeam/results.enhanced/4-1/collect_78.bin\n",
        "Opening file: ../../../Measurements/BreakTest_AluminiumBeam/results.enhanced/4-1/collect_79.bin\n",
        "Closed file: ../../../Measurements/BreakTest_AluminiumBeam/results.enhanced/4-1/collect_79.bin\n",
        "Opening file: ../../../Measurements/BreakTest_AluminiumBeam/results.enhanced/4-1/collect_80.bin\n",
        "Closed file: ../../../Measurements/BreakTest_AluminiumBeam/results.enhanced/4-1/collect_80.bin\n",
        "Opening file: ../../../Measurements/BreakTest_AluminiumBeam/results.enhanced/4-1/collect_81.bin\n",
        "Closed file: ../../../Measurements/BreakTest_AluminiumBeam/results.enhanced/4-1/collect_81.bin\n",
        "Opening file: ../../../Measurements/BreakTest_AluminiumBeam/results.enhanced/4-1/collect_82.bin\n",
        "Closed file: ../../../Measurements/BreakTest_AluminiumBeam/results.enhanced/4-1/collect_82.bin\n",
        "Opening file: ../../../Measurements/BreakTest_AluminiumBeam/results.enhanced/4-1/collect_83.bin\n",
        "Closed file: ../../../Measurements/BreakTest_AluminiumBeam/results.enhanced/4-1/collect_83.bin"
       ]
      },
      {
       "output_type": "stream",
       "stream": "stdout",
       "text": [
        "\n",
        "Opening file: ../../../Measurements/BreakTest_AluminiumBeam/results.enhanced/4-1/collect_84.bin\n",
        "Closed file: ../../../Measurements/BreakTest_AluminiumBeam/results.enhanced/4-1/collect_84.bin\n",
        "Opening file: ../../../Measurements/BreakTest_AluminiumBeam/results.enhanced/4-1/collect_85.bin\n",
        "Closed file: ../../../Measurements/BreakTest_AluminiumBeam/results.enhanced/4-1/collect_85.bin\n",
        "Opening file: ../../../Measurements/BreakTest_AluminiumBeam/results.enhanced/4-1/collect_86.bin\n",
        "Closed file: ../../../Measurements/BreakTest_AluminiumBeam/results.enhanced/4-1/collect_86.bin\n",
        "Opening file: ../../../Measurements/BreakTest_AluminiumBeam/results.enhanced/4-1/collect_87.bin\n",
        "Closed file: ../../../Measurements/BreakTest_AluminiumBeam/results.enhanced/4-1/collect_87.bin\n",
        "Opening file: ../../../Measurements/BreakTest_AluminiumBeam/results.enhanced/4-1/collect_88.bin\n",
        "Closed file: ../../../Measurements/BreakTest_AluminiumBeam/results.enhanced/4-1/collect_88.bin\n",
        "Opening file: ../../../Measurements/BreakTest_AluminiumBeam/results.enhanced/4-1/collect_89.bin\n",
        "Closed file: ../../../Measurements/BreakTest_AluminiumBeam/results.enhanced/4-1/collect_89.bin\n",
        "Opening file: ../../../Measurements/BreakTest_AluminiumBeam/results.enhanced/4-1/collect_90.bin\n",
        "Closed file: ../../../Measurements/BreakTest_AluminiumBeam/results.enhanced/4-1/collect_90.bin"
       ]
      },
      {
       "output_type": "stream",
       "stream": "stdout",
       "text": [
        "\n",
        "Opening file: ../../../Measurements/BreakTest_AluminiumBeam/results.enhanced/4-1/collect_91.bin\n",
        "Closed file: ../../../Measurements/BreakTest_AluminiumBeam/results.enhanced/4-1/collect_91.bin"
       ]
      },
      {
       "output_type": "stream",
       "stream": "stdout",
       "text": [
        "\n",
        "Opening file: ../../../Measurements/BreakTest_AluminiumBeam/results.enhanced/4-1/collect_92.bin\n",
        "Closed file: ../../../Measurements/BreakTest_AluminiumBeam/results.enhanced/4-1/collect_92.bin\n",
        "Opening file: ../../../Measurements/BreakTest_AluminiumBeam/results.enhanced/4-1/collect_93.bin\n",
        "Closed file: ../../../Measurements/BreakTest_AluminiumBeam/results.enhanced/4-1/collect_93.bin\n",
        "Opening file: ../../../Measurements/BreakTest_AluminiumBeam/results.enhanced/4-1/collect_94.bin\n",
        "Closed file: ../../../Measurements/BreakTest_AluminiumBeam/results.enhanced/4-1/collect_94.bin\n",
        "Opening file: ../../../Measurements/BreakTest_AluminiumBeam/results.enhanced/4-1/collect_95.bin\n",
        "Closed file: ../../../Measurements/BreakTest_AluminiumBeam/results.enhanced/4-1/collect_95.bin\n",
        "Opening file: ../../../Measurements/BreakTest_AluminiumBeam/results.enhanced/4-1/collect_96.bin\n",
        "Closed file: ../../../Measurements/BreakTest_AluminiumBeam/results.enhanced/4-1/collect_96.bin\n",
        "Opening file: ../../../Measurements/BreakTest_AluminiumBeam/results.enhanced/4-1/collect_97.bin\n",
        "Closed file: ../../../Measurements/BreakTest_AluminiumBeam/results.enhanced/4-1/collect_97.bin\n",
        "Opening file: ../../../Measurements/BreakTest_AluminiumBeam/results.enhanced/4-1/collect_98.bin\n",
        "Closed file: ../../../Measurements/BreakTest_AluminiumBeam/results.enhanced/4-1/collect_98.bin"
       ]
      },
      {
       "output_type": "stream",
       "stream": "stdout",
       "text": [
        "\n",
        "Opening file: ../../../Measurements/BreakTest_AluminiumBeam/results.enhanced/4-1/collect_99.bin\n",
        "Closed file: ../../../Measurements/BreakTest_AluminiumBeam/results.enhanced/4-1/collect_99.bin\n",
        "Opening file: ../../../Measurements/BreakTest_AluminiumBeam/results.enhanced/4-1/collect_100.bin\n",
        "Closed file: ../../../Measurements/BreakTest_AluminiumBeam/results.enhanced/4-1/collect_100.bin\n",
        "Opening file: ../../../Measurements/BreakTest_AluminiumBeam/results.enhanced/4-1/collect_101.bin\n",
        "Closed file: ../../../Measurements/BreakTest_AluminiumBeam/results.enhanced/4-1/collect_101.bin\n",
        "Opening file: ../../../Measurements/BreakTest_AluminiumBeam/results.enhanced/4-1/collect_102.bin"
       ]
      },
      {
       "output_type": "stream",
       "stream": "stdout",
       "text": [
        "\n",
        "Closed file: ../../../Measurements/BreakTest_AluminiumBeam/results.enhanced/4-1/collect_102.bin\n",
        "Opening file: ../../../Measurements/BreakTest_AluminiumBeam/results.enhanced/4-1/collect_103.bin\n",
        "Closed file: ../../../Measurements/BreakTest_AluminiumBeam/results.enhanced/4-1/collect_103.bin\n",
        "Opening file: ../../../Measurements/BreakTest_AluminiumBeam/results.enhanced/4-1/collect_104.bin\n",
        "Closed file: ../../../Measurements/BreakTest_AluminiumBeam/results.enhanced/4-1/collect_104.bin\n",
        "Opening file: ../../../Measurements/BreakTest_AluminiumBeam/results.enhanced/4-1/collect_105.bin\n",
        "Closed file: ../../../Measurements/BreakTest_AluminiumBeam/results.enhanced/4-1/collect_105.bin\n",
        "Opening file: ../../../Measurements/BreakTest_AluminiumBeam/results.enhanced/4-1/collect_106.bin\n",
        "Closed file: ../../../Measurements/BreakTest_AluminiumBeam/results.enhanced/4-1/collect_106.bin\n",
        "Opening file: ../../../Measurements/BreakTest_AluminiumBeam/results.enhanced/4-1/collect_107.bin\n",
        "Closed file: ../../../Measurements/BreakTest_AluminiumBeam/results.enhanced/4-1/collect_107.bin"
       ]
      },
      {
       "output_type": "stream",
       "stream": "stdout",
       "text": [
        "\n",
        "Opening file: ../../../Measurements/BreakTest_AluminiumBeam/results.enhanced/4-1/collect_108.bin\n",
        "Closed file: ../../../Measurements/BreakTest_AluminiumBeam/results.enhanced/4-1/collect_108.bin\n",
        "Opening file: ../../../Measurements/BreakTest_AluminiumBeam/results.enhanced/4-1/collect_109.bin\n",
        "Closed file: ../../../Measurements/BreakTest_AluminiumBeam/results.enhanced/4-1/collect_109.bin\n",
        "Opening file: ../../../Measurements/BreakTest_AluminiumBeam/results.enhanced/4-1/collect_110.bin\n",
        "Closed file: ../../../Measurements/BreakTest_AluminiumBeam/results.enhanced/4-1/collect_110.bin\n",
        "Opening file: ../../../Measurements/BreakTest_AluminiumBeam/results.enhanced/4-1/collect_111.bin\n",
        "Closed file: ../../../Measurements/BreakTest_AluminiumBeam/results.enhanced/4-1/collect_111.bin\n",
        "Opening file: ../../../Measurements/BreakTest_AluminiumBeam/results.enhanced/4-1/collect_112.bin\n",
        "Closed file: ../../../Measurements/BreakTest_AluminiumBeam/results.enhanced/4-1/collect_112.bin\n",
        "Opening file: ../../../Measurements/BreakTest_AluminiumBeam/results.enhanced/4-1/collect_113.bin\n",
        "Closed file: ../../../Measurements/BreakTest_AluminiumBeam/results.enhanced/4-1/collect_113.bin"
       ]
      },
      {
       "output_type": "stream",
       "stream": "stdout",
       "text": [
        "\n",
        "Opening file: ../../../Measurements/BreakTest_AluminiumBeam/results.enhanced/4-1/collect_114.bin\n",
        "Closed file: ../../../Measurements/BreakTest_AluminiumBeam/results.enhanced/4-1/collect_114.bin\n",
        "Opening file: ../../../Measurements/BreakTest_AluminiumBeam/results.enhanced/4-1/collect_115.bin\n",
        "Closed file: ../../../Measurements/BreakTest_AluminiumBeam/results.enhanced/4-1/collect_115.bin\n",
        "Opening file: ../../../Measurements/BreakTest_AluminiumBeam/results.enhanced/4-1/collect_116.bin\n",
        "Closed file: ../../../Measurements/BreakTest_AluminiumBeam/results.enhanced/4-1/collect_116.bin"
       ]
      },
      {
       "output_type": "stream",
       "stream": "stdout",
       "text": [
        "\n",
        "Opening file: ../../../Measurements/BreakTest_AluminiumBeam/results.enhanced/4-1/collect_117.bin\n",
        "Closed file: ../../../Measurements/BreakTest_AluminiumBeam/results.enhanced/4-1/collect_117.bin\n",
        "Opening file: ../../../Measurements/BreakTest_AluminiumBeam/results.enhanced/4-1/collect_118.bin\n",
        "Closed file: ../../../Measurements/BreakTest_AluminiumBeam/results.enhanced/4-1/collect_118.bin\n",
        "Opening file: ../../../Measurements/BreakTest_AluminiumBeam/results.enhanced/4-1/collect_119.bin\n",
        "Closed file: ../../../Measurements/BreakTest_AluminiumBeam/results.enhanced/4-1/collect_119.bin\n",
        "Opening file: ../../../Measurements/BreakTest_AluminiumBeam/results.enhanced/4-1/collect_120.bin\n",
        "Closed file: ../../../Measurements/BreakTest_AluminiumBeam/results.enhanced/4-1/collect_120.bin\n",
        "Opening file: ../../../Measurements/BreakTest_AluminiumBeam/results.enhanced/4-1/collect_121.bin\n",
        "Closed file: ../../../Measurements/BreakTest_AluminiumBeam/results.enhanced/4-1/collect_121.bin\n",
        "Opening file: ../../../Measurements/BreakTest_AluminiumBeam/results.enhanced/4-1/collect_122.bin\n",
        "Closed file: ../../../Measurements/BreakTest_AluminiumBeam/results.enhanced/4-1/collect_122.bin"
       ]
      },
      {
       "output_type": "stream",
       "stream": "stdout",
       "text": [
        "\n",
        "Opening file: ../../../Measurements/BreakTest_AluminiumBeam/results.enhanced/4-1/collect_123.bin\n",
        "Closed file: ../../../Measurements/BreakTest_AluminiumBeam/results.enhanced/4-1/collect_123.bin\n",
        "Opening file: ../../../Measurements/BreakTest_AluminiumBeam/results.enhanced/4-1/collect_124.bin\n",
        "Closed file: ../../../Measurements/BreakTest_AluminiumBeam/results.enhanced/4-1/collect_124.bin\n",
        "Opening file: ../../../Measurements/BreakTest_AluminiumBeam/results.enhanced/4-1/collect_125.bin\n",
        "Closed file: ../../../Measurements/BreakTest_AluminiumBeam/results.enhanced/4-1/collect_125.bin\n",
        "Opening file: ../../../Measurements/BreakTest_AluminiumBeam/results.enhanced/4-1/collect_126.bin\n",
        "Closed file: ../../../Measurements/BreakTest_AluminiumBeam/results.enhanced/4-1/collect_126.bin\n",
        "Opening file: ../../../Measurements/BreakTest_AluminiumBeam/results.enhanced/4-1/collect_127.bin\n",
        "Closed file: ../../../Measurements/BreakTest_AluminiumBeam/results.enhanced/4-1/collect_127.bin\n",
        "Opening file: ../../../Measurements/BreakTest_AluminiumBeam/results.enhanced/4-1/collect_128.bin\n",
        "Closed file: ../../../Measurements/BreakTest_AluminiumBeam/results.enhanced/4-1/collect_128.bin"
       ]
      },
      {
       "output_type": "stream",
       "stream": "stdout",
       "text": [
        "\n",
        "Opening file: ../../../Measurements/BreakTest_AluminiumBeam/results.enhanced/4-1/collect_129.bin\n",
        "Closed file: ../../../Measurements/BreakTest_AluminiumBeam/results.enhanced/4-1/collect_129.bin\n",
        "Opening file: ../../../Measurements/BreakTest_AluminiumBeam/results.enhanced/4-1/collect_130.bin\n",
        "Closed file: ../../../Measurements/BreakTest_AluminiumBeam/results.enhanced/4-1/collect_130.bin\n",
        "Opening file: ../../../Measurements/BreakTest_AluminiumBeam/results.enhanced/4-1/collect_131.bin\n",
        "Closed file: ../../../Measurements/BreakTest_AluminiumBeam/results.enhanced/4-1/collect_131.bin\n",
        "Opening file: ../../../Measurements/BreakTest_AluminiumBeam/results.enhanced/4-1/collect_132.bin\n",
        "Closed file: ../../../Measurements/BreakTest_AluminiumBeam/results.enhanced/4-1/collect_132.bin\n",
        "Opening file: ../../../Measurements/BreakTest_AluminiumBeam/results.enhanced/4-1/collect_133.bin\n",
        "Closed file: ../../../Measurements/BreakTest_AluminiumBeam/results.enhanced/4-1/collect_133.bin\n",
        "Opening file: ../../../Measurements/BreakTest_AluminiumBeam/results.enhanced/4-1/collect_134.bin\n",
        "Closed file: ../../../Measurements/BreakTest_AluminiumBeam/results.enhanced/4-1/collect_134.bin"
       ]
      },
      {
       "output_type": "stream",
       "stream": "stdout",
       "text": [
        "\n",
        "Opening file: ../../../Measurements/BreakTest_AluminiumBeam/results.enhanced/4-1/collect_135.bin\n",
        "Closed file: ../../../Measurements/BreakTest_AluminiumBeam/results.enhanced/4-1/collect_135.bin\n",
        "Opening file: ../../../Measurements/BreakTest_AluminiumBeam/results.enhanced/4-1/collect_136.bin\n",
        "Closed file: ../../../Measurements/BreakTest_AluminiumBeam/results.enhanced/4-1/collect_136.bin\n",
        "Opening file: ../../../Measurements/BreakTest_AluminiumBeam/results.enhanced/4-1/collect_137.bin\n",
        "Closed file: ../../../Measurements/BreakTest_AluminiumBeam/results.enhanced/4-1/collect_137.bin\n",
        "Opening file: ../../../Measurements/BreakTest_AluminiumBeam/results.enhanced/4-1/collect_138.bin\n",
        "Closed file: ../../../Measurements/BreakTest_AluminiumBeam/results.enhanced/4-1/collect_138.bin"
       ]
      },
      {
       "output_type": "stream",
       "stream": "stdout",
       "text": [
        "\n",
        "Opening file: ../../../Measurements/BreakTest_AluminiumBeam/results.enhanced/4-1/collect_139.bin\n",
        "Closed file: ../../../Measurements/BreakTest_AluminiumBeam/results.enhanced/4-1/collect_139.bin\n",
        "Opening file: ../../../Measurements/BreakTest_AluminiumBeam/results.enhanced/4-1/collect_140.bin\n",
        "Closed file: ../../../Measurements/BreakTest_AluminiumBeam/results.enhanced/4-1/collect_140.bin\n",
        "Opening file: ../../../Measurements/BreakTest_AluminiumBeam/results.enhanced/4-1/collect_141.bin\n",
        "Closed file: ../../../Measurements/BreakTest_AluminiumBeam/results.enhanced/4-1/collect_141.bin\n",
        "Opening file: ../../../Measurements/BreakTest_AluminiumBeam/results.enhanced/4-1/collect_142.bin\n",
        "Closed file: ../../../Measurements/BreakTest_AluminiumBeam/results.enhanced/4-1/collect_142.bin"
       ]
      },
      {
       "output_type": "stream",
       "stream": "stdout",
       "text": [
        "\n",
        "Opening file: ../../../Measurements/BreakTest_AluminiumBeam/results.enhanced/4-1/collect_143.bin\n",
        "Closed file: ../../../Measurements/BreakTest_AluminiumBeam/results.enhanced/4-1/collect_143.bin\n",
        "Opening file: ../../../Measurements/BreakTest_AluminiumBeam/results.enhanced/4-1/collect_144.bin\n",
        "Closed file: ../../../Measurements/BreakTest_AluminiumBeam/results.enhanced/4-1/collect_144.bin\n",
        "Opening file: ../../../Measurements/BreakTest_AluminiumBeam/results.enhanced/4-1/collect_145.bin\n",
        "Closed file: ../../../Measurements/BreakTest_AluminiumBeam/results.enhanced/4-1/collect_145.bin\n",
        "Opening file: ../../../Measurements/BreakTest_AluminiumBeam/results.enhanced/4-1/collect_146.bin\n",
        "Closed file: ../../../Measurements/BreakTest_AluminiumBeam/results.enhanced/4-1/collect_146.bin\n",
        "Opening file: ../../../Measurements/BreakTest_AluminiumBeam/results.enhanced/4-1/collect_147.bin\n",
        "Closed file: ../../../Measurements/BreakTest_AluminiumBeam/results.enhanced/4-1/collect_147.bin"
       ]
      },
      {
       "output_type": "stream",
       "stream": "stdout",
       "text": [
        "\n",
        "Opening file: ../../../Measurements/BreakTest_AluminiumBeam/results.enhanced/4-1/collect_148.bin\n",
        "Closed file: ../../../Measurements/BreakTest_AluminiumBeam/results.enhanced/4-1/collect_148.bin\n",
        "Opening file: ../../../Measurements/BreakTest_AluminiumBeam/results.enhanced/4-1/collect_149.bin\n",
        "Closed file: ../../../Measurements/BreakTest_AluminiumBeam/results.enhanced/4-1/collect_149.bin\n",
        "Opening file: ../../../Measurements/BreakTest_AluminiumBeam/results.enhanced/4-1/collect_150.bin\n",
        "Closed file: ../../../Measurements/BreakTest_AluminiumBeam/results.enhanced/4-1/collect_150.bin\n",
        "Opening file: ../../../Measurements/BreakTest_AluminiumBeam/results.enhanced/4-1/collect_151.bin\n",
        "Closed file: ../../../Measurements/BreakTest_AluminiumBeam/results.enhanced/4-1/collect_151.bin"
       ]
      },
      {
       "output_type": "stream",
       "stream": "stdout",
       "text": [
        "\n",
        "Opening file: ../../../Measurements/BreakTest_AluminiumBeam/results.enhanced/4-1/collect_152.bin\n",
        "Closed file: ../../../Measurements/BreakTest_AluminiumBeam/results.enhanced/4-1/collect_152.bin\n",
        "Opening file: ../../../Measurements/BreakTest_AluminiumBeam/results.enhanced/4-1/collect_153.bin\n",
        "Closed file: ../../../Measurements/BreakTest_AluminiumBeam/results.enhanced/4-1/collect_153.bin\n",
        "Opening file: ../../../Measurements/BreakTest_AluminiumBeam/results.enhanced/4-1/collect_154.bin\n",
        "Closed file: ../../../Measurements/BreakTest_AluminiumBeam/results.enhanced/4-1/collect_154.bin\n",
        "Opening file: ../../../Measurements/BreakTest_AluminiumBeam/results.enhanced/4-1/collect_155.bin\n",
        "Closed file: ../../../Measurements/BreakTest_AluminiumBeam/results.enhanced/4-1/collect_155.bin\n",
        "Opening file: ../../../Measurements/BreakTest_AluminiumBeam/results.enhanced/4-1/collect_156.bin\n",
        "Closed file: ../../../Measurements/BreakTest_AluminiumBeam/results.enhanced/4-1/collect_156.bin\n",
        "Opening file: ../../../Measurements/BreakTest_AluminiumBeam/results.enhanced/4-1/collect_157.bin\n",
        "Closed file: ../../../Measurements/BreakTest_AluminiumBeam/results.enhanced/4-1/collect_157.bin\n",
        "Opening file: ../../../Measurements/BreakTest_AluminiumBeam/results.enhanced/4-1/collect_158.bin\n",
        "Closed file: ../../../Measurements/BreakTest_AluminiumBeam/results.enhanced/4-1/collect_158.bin"
       ]
      },
      {
       "output_type": "stream",
       "stream": "stdout",
       "text": [
        "\n",
        "Opening file: ../../../Measurements/BreakTest_AluminiumBeam/results.enhanced/4-1/collect_159.bin\n",
        "Closed file: ../../../Measurements/BreakTest_AluminiumBeam/results.enhanced/4-1/collect_159.bin\n",
        "Opening file: ../../../Measurements/BreakTest_AluminiumBeam/results.enhanced/4-1/collect_160.bin\n",
        "Closed file: ../../../Measurements/BreakTest_AluminiumBeam/results.enhanced/4-1/collect_160.bin\n",
        "Opening file: ../../../Measurements/BreakTest_AluminiumBeam/results.enhanced/4-1/collect_161.bin\n",
        "Closed file: ../../../Measurements/BreakTest_AluminiumBeam/results.enhanced/4-1/collect_161.bin\n",
        "Opening file: ../../../Measurements/BreakTest_AluminiumBeam/results.enhanced/4-1/collect_162.bin\n",
        "Closed file: ../../../Measurements/BreakTest_AluminiumBeam/results.enhanced/4-1/collect_162.bin"
       ]
      },
      {
       "output_type": "stream",
       "stream": "stdout",
       "text": [
        "\n",
        "Opening file: ../../../Measurements/BreakTest_AluminiumBeam/results.enhanced/4-1/collect_163.bin\n",
        "Closed file: ../../../Measurements/BreakTest_AluminiumBeam/results.enhanced/4-1/collect_163.bin\n",
        "Opening file: ../../../Measurements/BreakTest_AluminiumBeam/results.enhanced/4-1/collect_164.bin\n",
        "Closed file: ../../../Measurements/BreakTest_AluminiumBeam/results.enhanced/4-1/collect_164.bin\n",
        "Opening file: ../../../Measurements/BreakTest_AluminiumBeam/results.enhanced/4-1/collect_165.bin\n",
        "Closed file: ../../../Measurements/BreakTest_AluminiumBeam/results.enhanced/4-1/collect_165.bin\n",
        "Opening file: ../../../Measurements/BreakTest_AluminiumBeam/results.enhanced/4-1/collect_166.bin\n",
        "Closed file: ../../../Measurements/BreakTest_AluminiumBeam/results.enhanced/4-1/collect_166.bin\n",
        "Opening file: ../../../Measurements/BreakTest_AluminiumBeam/results.enhanced/4-1/collect_167.bin\n",
        "Closed file: ../../../Measurements/BreakTest_AluminiumBeam/results.enhanced/4-1/collect_167.bin"
       ]
      },
      {
       "output_type": "stream",
       "stream": "stdout",
       "text": [
        "\n",
        "Opening file: ../../../Measurements/BreakTest_AluminiumBeam/results.enhanced/4-1/collect_168.bin\n",
        "Closed file: ../../../Measurements/BreakTest_AluminiumBeam/results.enhanced/4-1/collect_168.bin\n",
        "Opening file: ../../../Measurements/BreakTest_AluminiumBeam/results.enhanced/4-1/collect_169.bin\n",
        "Closed file: ../../../Measurements/BreakTest_AluminiumBeam/results.enhanced/4-1/collect_169.bin\n",
        "Opening file: ../../../Measurements/BreakTest_AluminiumBeam/results.enhanced/4-1/collect_170.bin\n",
        "Closed file: ../../../Measurements/BreakTest_AluminiumBeam/results.enhanced/4-1/collect_170.bin\n",
        "Opening file: ../../../Measurements/BreakTest_AluminiumBeam/results.enhanced/4-1/collect_171.bin"
       ]
      },
      {
       "output_type": "stream",
       "stream": "stdout",
       "text": [
        "\n",
        "Closed file: ../../../Measurements/BreakTest_AluminiumBeam/results.enhanced/4-1/collect_171.bin\n",
        "Opening file: ../../../Measurements/BreakTest_AluminiumBeam/results.enhanced/4-1/collect_172.bin\n",
        "Closed file: ../../../Measurements/BreakTest_AluminiumBeam/results.enhanced/4-1/collect_172.bin\n",
        "Opening file: ../../../Measurements/BreakTest_AluminiumBeam/results.enhanced/4-1/collect_173.bin\n",
        "Closed file: ../../../Measurements/BreakTest_AluminiumBeam/results.enhanced/4-1/collect_173.bin\n",
        "Opening file: ../../../Measurements/BreakTest_AluminiumBeam/results.enhanced/4-1/collect_174.bin\n",
        "Closed file: ../../../Measurements/BreakTest_AluminiumBeam/results.enhanced/4-1/collect_174.bin\n",
        "Opening file: ../../../Measurements/BreakTest_AluminiumBeam/results.enhanced/4-1/collect_175.bin\n",
        "Closed file: ../../../Measurements/BreakTest_AluminiumBeam/results.enhanced/4-1/collect_175.bin\n",
        "Opening file: ../../../Measurements/BreakTest_AluminiumBeam/results.enhanced/4-1/collect_176.bin\n",
        "Closed file: ../../../Measurements/BreakTest_AluminiumBeam/results.enhanced/4-1/collect_176.bin"
       ]
      },
      {
       "output_type": "stream",
       "stream": "stdout",
       "text": [
        "\n",
        "Opening file: ../../../Measurements/BreakTest_AluminiumBeam/results.enhanced/4-1/collect_177.bin\n",
        "Closed file: ../../../Measurements/BreakTest_AluminiumBeam/results.enhanced/4-1/collect_177.bin\n",
        "Opening file: ../../../Measurements/BreakTest_AluminiumBeam/results.enhanced/4-1/collect_178.bin\n",
        "Closed file: ../../../Measurements/BreakTest_AluminiumBeam/results.enhanced/4-1/collect_178.bin\n",
        "Opening file: ../../../Measurements/BreakTest_AluminiumBeam/results.enhanced/4-1/collect_179.bin\n",
        "Closed file: ../../../Measurements/BreakTest_AluminiumBeam/results.enhanced/4-1/collect_179.bin\n",
        "Opening file: ../../../Measurements/BreakTest_AluminiumBeam/results.enhanced/4-1/collect_180.bin\n",
        "Closed file: ../../../Measurements/BreakTest_AluminiumBeam/results.enhanced/4-1/collect_180.bin\n",
        "Opening file: ../../../Measurements/BreakTest_AluminiumBeam/results.enhanced/4-1/collect_181.bin\n",
        "Closed file: ../../../Measurements/BreakTest_AluminiumBeam/results.enhanced/4-1/collect_181.bin"
       ]
      },
      {
       "output_type": "stream",
       "stream": "stdout",
       "text": [
        "\n",
        "Opening file: ../../../Measurements/BreakTest_AluminiumBeam/results.enhanced/4-1/collect_182.bin\n",
        "Closed file: ../../../Measurements/BreakTest_AluminiumBeam/results.enhanced/4-1/collect_182.bin\n",
        "Opening file: ../../../Measurements/BreakTest_AluminiumBeam/results.enhanced/4-1/collect_183.bin\n",
        "Closed file: ../../../Measurements/BreakTest_AluminiumBeam/results.enhanced/4-1/collect_183.bin\n",
        "Opening file: ../../../Measurements/BreakTest_AluminiumBeam/results.enhanced/4-1/collect_184.bin\n",
        "Closed file: ../../../Measurements/BreakTest_AluminiumBeam/results.enhanced/4-1/collect_184.bin"
       ]
      },
      {
       "output_type": "stream",
       "stream": "stdout",
       "text": [
        "\n",
        "Opening file: ../../../Measurements/BreakTest_AluminiumBeam/results.enhanced/4-1/collect_185.bin\n",
        "Closed file: ../../../Measurements/BreakTest_AluminiumBeam/results.enhanced/4-1/collect_185.bin\n",
        "Opening file: ../../../Measurements/BreakTest_AluminiumBeam/results.enhanced/4-1/collect_186.bin\n",
        "Closed file: ../../../Measurements/BreakTest_AluminiumBeam/results.enhanced/4-1/collect_186.bin\n",
        "Opening file: ../../../Measurements/BreakTest_AluminiumBeam/results.enhanced/4-1/collect_187.bin\n",
        "Closed file: ../../../Measurements/BreakTest_AluminiumBeam/results.enhanced/4-1/collect_187.bin\n",
        "Opening file: ../../../Measurements/BreakTest_AluminiumBeam/results.enhanced/4-1/collect_188.bin\n",
        "Closed file: ../../../Measurements/BreakTest_AluminiumBeam/results.enhanced/4-1/collect_188.bin\n",
        "Opening file: ../../../Measurements/BreakTest_AluminiumBeam/results.enhanced/4-1/collect_189.bin\n",
        "Closed file: ../../../Measurements/BreakTest_AluminiumBeam/results.enhanced/4-1/collect_189.bin\n",
        "Opening file: ../../../Measurements/BreakTest_AluminiumBeam/results.enhanced/4-1/collect_190.bin\n",
        "Closed file: ../../../Measurements/BreakTest_AluminiumBeam/results.enhanced/4-1/collect_190.bin"
       ]
      },
      {
       "output_type": "stream",
       "stream": "stdout",
       "text": [
        "\n",
        "Opening file: ../../../Measurements/BreakTest_AluminiumBeam/results.enhanced/4-1/collect_191.bin\n",
        "Closed file: ../../../Measurements/BreakTest_AluminiumBeam/results.enhanced/4-1/collect_191.bin\n",
        "Opening file: ../../../Measurements/BreakTest_AluminiumBeam/results.enhanced/4-1/collect_192.bin\n",
        "Closed file: ../../../Measurements/BreakTest_AluminiumBeam/results.enhanced/4-1/collect_192.bin\n",
        "Opening file: ../../../Measurements/BreakTest_AluminiumBeam/results.enhanced/4-1/collect_193.bin\n",
        "Closed file: ../../../Measurements/BreakTest_AluminiumBeam/results.enhanced/4-1/collect_193.bin\n",
        "Opening file: ../../../Measurements/BreakTest_AluminiumBeam/results.enhanced/4-1/collect_194.bin\n",
        "Closed file: ../../../Measurements/BreakTest_AluminiumBeam/results.enhanced/4-1/collect_194.bin\n",
        "Opening file: ../../../Measurements/BreakTest_AluminiumBeam/results.enhanced/4-1/collect_195.bin\n",
        "Closed file: ../../../Measurements/BreakTest_AluminiumBeam/results.enhanced/4-1/collect_195.bin"
       ]
      },
      {
       "output_type": "stream",
       "stream": "stdout",
       "text": [
        "\n",
        "Opening file: ../../../Measurements/BreakTest_AluminiumBeam/results.enhanced/4-1/collect_196.bin\n",
        "Closed file: ../../../Measurements/BreakTest_AluminiumBeam/results.enhanced/4-1/collect_196.bin\n",
        "Opening file: ../../../Measurements/BreakTest_AluminiumBeam/results.enhanced/4-1/collect_197.bin\n",
        "Closed file: ../../../Measurements/BreakTest_AluminiumBeam/results.enhanced/4-1/collect_197.bin\n",
        "Opening file: ../../../Measurements/BreakTest_AluminiumBeam/results.enhanced/4-1/collect_198.bin\n",
        "Closed file: ../../../Measurements/BreakTest_AluminiumBeam/results.enhanced/4-1/collect_198.bin\n",
        "Opening file: ../../../Measurements/BreakTest_AluminiumBeam/results.enhanced/4-1/collect_199.bin\n",
        "Closed file: ../../../Measurements/BreakTest_AluminiumBeam/results.enhanced/4-1/collect_199.bin\n",
        "Opening file: ../../../Measurements/BreakTest_AluminiumBeam/results.enhanced/4-1/collect_200.bin\n",
        "Closed file: ../../../Measurements/BreakTest_AluminiumBeam/results.enhanced/4-1/collect_200.bin\n",
        "Opening file: ../../../Measurements/BreakTest_AluminiumBeam/results.enhanced/4-1/collect_201.bin\n",
        "Closed file: ../../../Measurements/BreakTest_AluminiumBeam/results.enhanced/4-1/collect_201.bin"
       ]
      },
      {
       "output_type": "stream",
       "stream": "stdout",
       "text": [
        "\n",
        "Opening file: ../../../Measurements/BreakTest_AluminiumBeam/results.enhanced/4-1/collect_202.bin\n",
        "Closed file: ../../../Measurements/BreakTest_AluminiumBeam/results.enhanced/4-1/collect_202.bin\n",
        "Opening file: ../../../Measurements/BreakTest_AluminiumBeam/results.enhanced/4-1/collect_203.bin\n",
        "Closed file: ../../../Measurements/BreakTest_AluminiumBeam/results.enhanced/4-1/collect_203.bin\n",
        "Opening file: ../../../Measurements/BreakTest_AluminiumBeam/results.enhanced/4-1/collect_204.bin\n",
        "Closed file: ../../../Measurements/BreakTest_AluminiumBeam/results.enhanced/4-1/collect_204.bin\n",
        "Opening file: ../../../Measurements/BreakTest_AluminiumBeam/results.enhanced/4-1/collect_205.bin"
       ]
      },
      {
       "output_type": "stream",
       "stream": "stdout",
       "text": [
        "\n",
        "Closed file: ../../../Measurements/BreakTest_AluminiumBeam/results.enhanced/4-1/collect_205.bin\n",
        "Opening file: ../../../Measurements/BreakTest_AluminiumBeam/results.enhanced/4-1/collect_206.bin\n",
        "Closed file: ../../../Measurements/BreakTest_AluminiumBeam/results.enhanced/4-1/collect_206.bin\n",
        "Opening file: ../../../Measurements/BreakTest_AluminiumBeam/results.enhanced/4-1/collect_207.bin\n",
        "Closed file: ../../../Measurements/BreakTest_AluminiumBeam/results.enhanced/4-1/collect_207.bin\n",
        "Opening file: ../../../Measurements/BreakTest_AluminiumBeam/results.enhanced/4-1/collect_208.bin\n",
        "Closed file: ../../../Measurements/BreakTest_AluminiumBeam/results.enhanced/4-1/collect_208.bin"
       ]
      },
      {
       "output_type": "stream",
       "stream": "stdout",
       "text": [
        "\n",
        "Opening file: ../../../Measurements/BreakTest_AluminiumBeam/results.enhanced/4-1/collect_209.bin\n",
        "Closed file: ../../../Measurements/BreakTest_AluminiumBeam/results.enhanced/4-1/collect_209.bin\n",
        "Opening file: ../../../Measurements/BreakTest_AluminiumBeam/results.enhanced/4-1/collect_210.bin\n",
        "Closed file: ../../../Measurements/BreakTest_AluminiumBeam/results.enhanced/4-1/collect_210.bin\n",
        "Opening file: ../../../Measurements/BreakTest_AluminiumBeam/results.enhanced/4-1/collect_211.bin\n",
        "Closed file: ../../../Measurements/BreakTest_AluminiumBeam/results.enhanced/4-1/collect_211.bin\n",
        "Opening file: ../../../Measurements/BreakTest_AluminiumBeam/results.enhanced/4-1/collect_212.bin\n",
        "Closed file: ../../../Measurements/BreakTest_AluminiumBeam/results.enhanced/4-1/collect_212.bin\n",
        "Opening file: ../../../Measurements/BreakTest_AluminiumBeam/results.enhanced/4-1/collect_213.bin\n",
        "Closed file: ../../../Measurements/BreakTest_AluminiumBeam/results.enhanced/4-1/collect_213.bin\n",
        "Opening file: ../../../Measurements/BreakTest_AluminiumBeam/results.enhanced/4-1/collect_214.bin"
       ]
      },
      {
       "output_type": "stream",
       "stream": "stdout",
       "text": [
        "\n",
        "Closed file: ../../../Measurements/BreakTest_AluminiumBeam/results.enhanced/4-1/collect_214.bin\n",
        "Opening file: ../../../Measurements/BreakTest_AluminiumBeam/results.enhanced/4-1/collect_215.bin\n",
        "Closed file: ../../../Measurements/BreakTest_AluminiumBeam/results.enhanced/4-1/collect_215.bin\n",
        "Opening file: ../../../Measurements/BreakTest_AluminiumBeam/results.enhanced/4-1/collect_216.bin\n",
        "Closed file: ../../../Measurements/BreakTest_AluminiumBeam/results.enhanced/4-1/collect_216.bin\n",
        "Opening file: ../../../Measurements/BreakTest_AluminiumBeam/results.enhanced/4-1/collect_217.bin\n",
        "Closed file: ../../../Measurements/BreakTest_AluminiumBeam/results.enhanced/4-1/collect_217.bin\n",
        "Opening file: ../../../Measurements/BreakTest_AluminiumBeam/results.enhanced/4-1/collect_218.bin\n",
        "Closed file: ../../../Measurements/BreakTest_AluminiumBeam/results.enhanced/4-1/collect_218.bin"
       ]
      },
      {
       "output_type": "stream",
       "stream": "stdout",
       "text": [
        "\n",
        "Opening file: ../../../Measurements/BreakTest_AluminiumBeam/results.enhanced/4-1/collect_219.bin\n",
        "Closed file: ../../../Measurements/BreakTest_AluminiumBeam/results.enhanced/4-1/collect_219.bin\n",
        "Opening file: ../../../Measurements/BreakTest_AluminiumBeam/results.enhanced/4-1/collect_220.bin\n",
        "Closed file: ../../../Measurements/BreakTest_AluminiumBeam/results.enhanced/4-1/collect_220.bin\n",
        "Opening file: ../../../Measurements/BreakTest_AluminiumBeam/results.enhanced/4-1/collect_221.bin\n",
        "Closed file: ../../../Measurements/BreakTest_AluminiumBeam/results.enhanced/4-1/collect_221.bin\n",
        "Opening file: ../../../Measurements/BreakTest_AluminiumBeam/results.enhanced/4-1/collect_222.bin\n",
        "Closed file: ../../../Measurements/BreakTest_AluminiumBeam/results.enhanced/4-1/collect_222.bin\n",
        "Opening file: ../../../Measurements/BreakTest_AluminiumBeam/results.enhanced/4-1/collect_223.bin\n",
        "Closed file: ../../../Measurements/BreakTest_AluminiumBeam/results.enhanced/4-1/collect_223.bin"
       ]
      },
      {
       "output_type": "stream",
       "stream": "stdout",
       "text": [
        "\n",
        "Opening file: ../../../Measurements/BreakTest_AluminiumBeam/results.enhanced/4-1/collect_224.bin\n",
        "Closed file: ../../../Measurements/BreakTest_AluminiumBeam/results.enhanced/4-1/collect_224.bin\n",
        "Opening file: ../../../Measurements/BreakTest_AluminiumBeam/results.enhanced/4-1/collect_225.bin\n",
        "Closed file: ../../../Measurements/BreakTest_AluminiumBeam/results.enhanced/4-1/collect_225.bin\n",
        "Opening file: ../../../Measurements/BreakTest_AluminiumBeam/results.enhanced/4-1/collect_226.bin\n",
        "Closed file: ../../../Measurements/BreakTest_AluminiumBeam/results.enhanced/4-1/collect_226.bin\n",
        "Opening file: ../../../Measurements/BreakTest_AluminiumBeam/results.enhanced/4-1/collect_227.bin\n",
        "Closed file: ../../../Measurements/BreakTest_AluminiumBeam/results.enhanced/4-1/collect_227.bin\n",
        "Opening file: ../../../Measurements/BreakTest_AluminiumBeam/results.enhanced/4-1/collect_228.bin\n",
        "Closed file: ../../../Measurements/BreakTest_AluminiumBeam/results.enhanced/4-1/collect_228.bin"
       ]
      },
      {
       "output_type": "stream",
       "stream": "stdout",
       "text": [
        "\n",
        "Opening file: ../../../Measurements/BreakTest_AluminiumBeam/results.enhanced/4-1/collect_229.bin\n",
        "Closed file: ../../../Measurements/BreakTest_AluminiumBeam/results.enhanced/4-1/collect_229.bin\n",
        "Opening file: ../../../Measurements/BreakTest_AluminiumBeam/results.enhanced/4-1/collect_230.bin\n",
        "Closed file: ../../../Measurements/BreakTest_AluminiumBeam/results.enhanced/4-1/collect_230.bin\n",
        "Opening file: ../../../Measurements/BreakTest_AluminiumBeam/results.enhanced/4-1/collect_231.bin\n",
        "Closed file: ../../../Measurements/BreakTest_AluminiumBeam/results.enhanced/4-1/collect_231.bin\n",
        "Opening file: ../../../Measurements/BreakTest_AluminiumBeam/results.enhanced/4-1/collect_232.bin\n",
        "Closed file: ../../../Measurements/BreakTest_AluminiumBeam/results.enhanced/4-1/collect_232.bin"
       ]
      },
      {
       "output_type": "stream",
       "stream": "stdout",
       "text": [
        "\n",
        "Opening file: ../../../Measurements/BreakTest_AluminiumBeam/results.enhanced/4-1/collect_233.bin\n",
        "Closed file: ../../../Measurements/BreakTest_AluminiumBeam/results.enhanced/4-1/collect_233.bin\n",
        "Opening file: ../../../Measurements/BreakTest_AluminiumBeam/results.enhanced/4-1/collect_234.bin\n",
        "Closed file: ../../../Measurements/BreakTest_AluminiumBeam/results.enhanced/4-1/collect_234.bin\n",
        "Opening file: ../../../Measurements/BreakTest_AluminiumBeam/results.enhanced/4-1/collect_235.bin\n",
        "Closed file: ../../../Measurements/BreakTest_AluminiumBeam/results.enhanced/4-1/collect_235.bin\n",
        "Opening file: ../../../Measurements/BreakTest_AluminiumBeam/results.enhanced/4-1/collect_236.bin\n",
        "Closed file: ../../../Measurements/BreakTest_AluminiumBeam/results.enhanced/4-1/collect_236.bin"
       ]
      },
      {
       "output_type": "stream",
       "stream": "stdout",
       "text": [
        "\n",
        "Opening file: ../../../Measurements/BreakTest_AluminiumBeam/results.enhanced/4-1/collect_237.bin\n",
        "Closed file: ../../../Measurements/BreakTest_AluminiumBeam/results.enhanced/4-1/collect_237.bin\n",
        "Opening file: ../../../Measurements/BreakTest_AluminiumBeam/results.enhanced/4-1/collect_238.bin\n",
        "Closed file: ../../../Measurements/BreakTest_AluminiumBeam/results.enhanced/4-1/collect_238.bin\n",
        "Opening file: ../../../Measurements/BreakTest_AluminiumBeam/results.enhanced/4-1/collect_239.bin\n",
        "Closed file: ../../../Measurements/BreakTest_AluminiumBeam/results.enhanced/4-1/collect_239.bin\n",
        "Opening file: ../../../Measurements/BreakTest_AluminiumBeam/results.enhanced/4-1/collect_240.bin\n",
        "Closed file: ../../../Measurements/BreakTest_AluminiumBeam/results.enhanced/4-1/collect_240.bin"
       ]
      },
      {
       "output_type": "stream",
       "stream": "stdout",
       "text": [
        "\n",
        "Opening file: ../../../Measurements/BreakTest_AluminiumBeam/results.enhanced/4-1/collect_241.bin\n",
        "Closed file: ../../../Measurements/BreakTest_AluminiumBeam/results.enhanced/4-1/collect_241.bin\n",
        "Opening file: ../../../Measurements/BreakTest_AluminiumBeam/results.enhanced/4-1/collect_242.bin\n",
        "Closed file: ../../../Measurements/BreakTest_AluminiumBeam/results.enhanced/4-1/collect_242.bin\n",
        "Opening file: ../../../Measurements/BreakTest_AluminiumBeam/results.enhanced/4-1/collect_243.bin\n",
        "Closed file: ../../../Measurements/BreakTest_AluminiumBeam/results.enhanced/4-1/collect_243.bin\n",
        "Opening file: ../../../Measurements/BreakTest_AluminiumBeam/results.enhanced/4-1/collect_244.bin\n",
        "Closed file: ../../../Measurements/BreakTest_AluminiumBeam/results.enhanced/4-1/collect_244.bin\n",
        "Opening file: ../../../Measurements/BreakTest_AluminiumBeam/results.enhanced/4-1/collect_245.bin\n",
        "Closed file: ../../../Measurements/BreakTest_AluminiumBeam/results.enhanced/4-1/collect_245.bin\n",
        "Opening file: ../../../Measurements/BreakTest_AluminiumBeam/results.enhanced/4-1/collect_246.bin\n",
        "Closed file: ../../../Measurements/BreakTest_AluminiumBeam/results.enhanced/4-1/collect_246.bin"
       ]
      },
      {
       "output_type": "stream",
       "stream": "stdout",
       "text": [
        "\n",
        "Opening file: ../../../Measurements/BreakTest_AluminiumBeam/results.enhanced/4-1/collect_247.bin\n",
        "Closed file: ../../../Measurements/BreakTest_AluminiumBeam/results.enhanced/4-1/collect_247.bin\n",
        "Opening file: ../../../Measurements/BreakTest_AluminiumBeam/results.enhanced/4-1/collect_248.bin\n",
        "Closed file: ../../../Measurements/BreakTest_AluminiumBeam/results.enhanced/4-1/collect_248.bin\n",
        "Opening file: ../../../Measurements/BreakTest_AluminiumBeam/results.enhanced/4-1/collect_249.bin\n",
        "Closed file: ../../../Measurements/BreakTest_AluminiumBeam/results.enhanced/4-1/collect_249.bin\n",
        "Opening file: ../../../Measurements/BreakTest_AluminiumBeam/results.enhanced/4-1/collect_250.bin\n",
        "Closed file: ../../../Measurements/BreakTest_AluminiumBeam/results.enhanced/4-1/collect_250.bin\n",
        "Opening file: ../../../Measurements/BreakTest_AluminiumBeam/results.enhanced/4-1/collect_251.bin\n",
        "Closed file: ../../../Measurements/BreakTest_AluminiumBeam/results.enhanced/4-1/collect_251.bin"
       ]
      },
      {
       "output_type": "stream",
       "stream": "stdout",
       "text": [
        "\n",
        "Opening file: ../../../Measurements/BreakTest_AluminiumBeam/results.enhanced/4-1/collect_252.bin\n",
        "Closed file: ../../../Measurements/BreakTest_AluminiumBeam/results.enhanced/4-1/collect_252.bin\n",
        "Opening file: ../../../Measurements/BreakTest_AluminiumBeam/results.enhanced/4-1/collect_253.bin\n",
        "Closed file: ../../../Measurements/BreakTest_AluminiumBeam/results.enhanced/4-1/collect_253.bin\n",
        "Opening file: ../../../Measurements/BreakTest_AluminiumBeam/results.enhanced/4-1/collect_254.bin\n",
        "Closed file: ../../../Measurements/BreakTest_AluminiumBeam/results.enhanced/4-1/collect_254.bin\n",
        "Opening file: ../../../Measurements/BreakTest_AluminiumBeam/results.enhanced/4-1/collect_255.bin\n",
        "Closed file: ../../../Measurements/BreakTest_AluminiumBeam/results.enhanced/4-1/collect_255.bin\n",
        "Opening file: ../../../Measurements/BreakTest_AluminiumBeam/results.enhanced/4-1/collect_256.bin\n",
        "Closed file: ../../../Measurements/BreakTest_AluminiumBeam/results.enhanced/4-1/collect_256.bin"
       ]
      },
      {
       "output_type": "stream",
       "stream": "stdout",
       "text": [
        "\n",
        "Opening file: ../../../Measurements/BreakTest_AluminiumBeam/results.enhanced/4-1/collect_257.bin\n",
        "Closed file: ../../../Measurements/BreakTest_AluminiumBeam/results.enhanced/4-1/collect_257.bin\n",
        "Opening file: ../../../Measurements/BreakTest_AluminiumBeam/results.enhanced/4-1/collect_258.bin\n",
        "Closed file: ../../../Measurements/BreakTest_AluminiumBeam/results.enhanced/4-1/collect_258.bin\n",
        "Opening file: ../../../Measurements/BreakTest_AluminiumBeam/results.enhanced/4-1/collect_259.bin\n",
        "Closed file: ../../../Measurements/BreakTest_AluminiumBeam/results.enhanced/4-1/collect_259.bin\n",
        "Opening file: ../../../Measurements/BreakTest_AluminiumBeam/results.enhanced/4-1/collect_260.bin"
       ]
      },
      {
       "output_type": "stream",
       "stream": "stdout",
       "text": [
        "\n",
        "Closed file: ../../../Measurements/BreakTest_AluminiumBeam/results.enhanced/4-1/collect_260.bin\n",
        "Opening file: ../../../Measurements/BreakTest_AluminiumBeam/results.enhanced/4-1/collect_261.bin\n",
        "Closed file: ../../../Measurements/BreakTest_AluminiumBeam/results.enhanced/4-1/collect_261.bin\n",
        "Opening file: ../../../Measurements/BreakTest_AluminiumBeam/results.enhanced/4-1/collect_262.bin\n",
        "Closed file: ../../../Measurements/BreakTest_AluminiumBeam/results.enhanced/4-1/collect_262.bin\n",
        "Opening file: ../../../Measurements/BreakTest_AluminiumBeam/results.enhanced/4-1/collect_263.bin\n",
        "Closed file: ../../../Measurements/BreakTest_AluminiumBeam/results.enhanced/4-1/collect_263.bin\n",
        "Opening file: ../../../Measurements/BreakTest_AluminiumBeam/results.enhanced/4-1/collect_264.bin\n",
        "Closed file: ../../../Measurements/BreakTest_AluminiumBeam/results.enhanced/4-1/collect_264.bin\n",
        "Opening file: ../../../Measurements/BreakTest_AluminiumBeam/results.enhanced/4-1/collect_265.bin\n",
        "Closed file: ../../../Measurements/BreakTest_AluminiumBeam/results.enhanced/4-1/collect_265.bin"
       ]
      },
      {
       "output_type": "stream",
       "stream": "stdout",
       "text": [
        "\n",
        "Opening file: ../../../Measurements/BreakTest_AluminiumBeam/results.enhanced/4-1/collect_266.bin\n",
        "Closed file: ../../../Measurements/BreakTest_AluminiumBeam/results.enhanced/4-1/collect_266.bin\n",
        "Opening file: ../../../Measurements/BreakTest_AluminiumBeam/results.enhanced/4-1/collect_267.bin\n",
        "Closed file: ../../../Measurements/BreakTest_AluminiumBeam/results.enhanced/4-1/collect_267.bin\n",
        "Opening file: ../../../Measurements/BreakTest_AluminiumBeam/results.enhanced/4-1/collect_268.bin\n",
        "Closed file: ../../../Measurements/BreakTest_AluminiumBeam/results.enhanced/4-1/collect_268.bin\n",
        "Opening file: ../../../Measurements/BreakTest_AluminiumBeam/results.enhanced/4-1/collect_269.bin\n",
        "Closed file: ../../../Measurements/BreakTest_AluminiumBeam/results.enhanced/4-1/collect_269.bin\n",
        "Opening file: ../../../Measurements/BreakTest_AluminiumBeam/results.enhanced/4-1/collect_270.bin\n",
        "Closed file: ../../../Measurements/BreakTest_AluminiumBeam/results.enhanced/4-1/collect_270.bin\n",
        "Opening file: ../../../Measurements/BreakTest_AluminiumBeam/results.enhanced/4-1/collect_271.bin"
       ]
      },
      {
       "output_type": "stream",
       "stream": "stdout",
       "text": [
        "\n",
        "Closed file: ../../../Measurements/BreakTest_AluminiumBeam/results.enhanced/4-1/collect_271.bin\n",
        "Opening file: ../../../Measurements/BreakTest_AluminiumBeam/results.enhanced/4-1/collect_272.bin\n",
        "Closed file: ../../../Measurements/BreakTest_AluminiumBeam/results.enhanced/4-1/collect_272.bin\n",
        "Opening file: ../../../Measurements/BreakTest_AluminiumBeam/results.enhanced/4-1/collect_273.bin\n",
        "Closed file: ../../../Measurements/BreakTest_AluminiumBeam/results.enhanced/4-1/collect_273.bin\n",
        "Opening file: ../../../Measurements/BreakTest_AluminiumBeam/results.enhanced/4-1/collect_274.bin\n",
        "Closed file: ../../../Measurements/BreakTest_AluminiumBeam/results.enhanced/4-1/collect_274.bin\n",
        "Opening file: ../../../Measurements/BreakTest_AluminiumBeam/results.enhanced/4-1/collect_275.bin\n",
        "Closed file: ../../../Measurements/BreakTest_AluminiumBeam/results.enhanced/4-1/collect_275.bin"
       ]
      },
      {
       "output_type": "stream",
       "stream": "stdout",
       "text": [
        "\n",
        "Opening file: ../../../Measurements/BreakTest_AluminiumBeam/results.enhanced/4-1/collect_276.bin\n",
        "Closed file: ../../../Measurements/BreakTest_AluminiumBeam/results.enhanced/4-1/collect_276.bin\n",
        "Opening file: ../../../Measurements/BreakTest_AluminiumBeam/results.enhanced/4-1/collect_277.bin\n",
        "Closed file: ../../../Measurements/BreakTest_AluminiumBeam/results.enhanced/4-1/collect_277.bin\n",
        "Opening file: ../../../Measurements/BreakTest_AluminiumBeam/results.enhanced/4-1/collect_278.bin\n",
        "Closed file: ../../../Measurements/BreakTest_AluminiumBeam/results.enhanced/4-1/collect_278.bin\n",
        "Opening file: ../../../Measurements/BreakTest_AluminiumBeam/results.enhanced/4-1/collect_279.bin\n",
        "Closed file: ../../../Measurements/BreakTest_AluminiumBeam/results.enhanced/4-1/collect_279.bin"
       ]
      },
      {
       "output_type": "stream",
       "stream": "stdout",
       "text": [
        "\n",
        "Opening file: ../../../Measurements/BreakTest_AluminiumBeam/results.enhanced/4-1/collect_280.bin\n",
        "Closed file: ../../../Measurements/BreakTest_AluminiumBeam/results.enhanced/4-1/collect_280.bin\n",
        "Opening file: ../../../Measurements/BreakTest_AluminiumBeam/results.enhanced/4-1/collect_281.bin\n",
        "Closed file: ../../../Measurements/BreakTest_AluminiumBeam/results.enhanced/4-1/collect_281.bin\n",
        "Opening file: ../../../Measurements/BreakTest_AluminiumBeam/results.enhanced/4-1/collect_282.bin\n",
        "Closed file: ../../../Measurements/BreakTest_AluminiumBeam/results.enhanced/4-1/collect_282.bin\n",
        "Opening file: ../../../Measurements/BreakTest_AluminiumBeam/results.enhanced/4-1/collect_283.bin\n",
        "Closed file: ../../../Measurements/BreakTest_AluminiumBeam/results.enhanced/4-1/collect_283.bin"
       ]
      },
      {
       "output_type": "stream",
       "stream": "stdout",
       "text": [
        "\n",
        "Opening file: ../../../Measurements/BreakTest_AluminiumBeam/results.enhanced/4-1/collect_284.bin\n",
        "Closed file: ../../../Measurements/BreakTest_AluminiumBeam/results.enhanced/4-1/collect_284.bin\n",
        "Opening file: ../../../Measurements/BreakTest_AluminiumBeam/results.enhanced/4-1/collect_285.bin\n",
        "Closed file: ../../../Measurements/BreakTest_AluminiumBeam/results.enhanced/4-1/collect_285.bin\n",
        "Opening file: ../../../Measurements/BreakTest_AluminiumBeam/results.enhanced/4-1/collect_286.bin\n",
        "Closed file: ../../../Measurements/BreakTest_AluminiumBeam/results.enhanced/4-1/collect_286.bin\n",
        "Opening file: ../../../Measurements/BreakTest_AluminiumBeam/results.enhanced/4-1/collect_287.bin\n",
        "Closed file: ../../../Measurements/BreakTest_AluminiumBeam/results.enhanced/4-1/collect_287.bin\n",
        "Opening file: ../../../Measurements/BreakTest_AluminiumBeam/results.enhanced/4-1/collect_288.bin\n",
        "Closed file: ../../../Measurements/BreakTest_AluminiumBeam/results.enhanced/4-1/collect_288.bin"
       ]
      },
      {
       "output_type": "stream",
       "stream": "stdout",
       "text": [
        "\n",
        "Opening file: ../../../Measurements/BreakTest_AluminiumBeam/results.enhanced/4-1/collect_289.bin\n",
        "Closed file: ../../../Measurements/BreakTest_AluminiumBeam/results.enhanced/4-1/collect_289.bin\n",
        "Opening file: ../../../Measurements/BreakTest_AluminiumBeam/results.enhanced/4-1/collect_290.bin\n",
        "Closed file: ../../../Measurements/BreakTest_AluminiumBeam/results.enhanced/4-1/collect_290.bin\n",
        "Opening file: ../../../Measurements/BreakTest_AluminiumBeam/results.enhanced/4-1/collect_291.bin\n",
        "Closed file: ../../../Measurements/BreakTest_AluminiumBeam/results.enhanced/4-1/collect_291.bin\n",
        "Opening file: ../../../Measurements/BreakTest_AluminiumBeam/results.enhanced/4-1/collect_292.bin\n",
        "Closed file: ../../../Measurements/BreakTest_AluminiumBeam/results.enhanced/4-1/collect_292.bin\n",
        "Opening file: ../../../Measurements/BreakTest_AluminiumBeam/results.enhanced/4-1/collect_293.bin\n",
        "Closed file: ../../../Measurements/BreakTest_AluminiumBeam/results.enhanced/4-1/collect_293.bin"
       ]
      },
      {
       "output_type": "stream",
       "stream": "stdout",
       "text": [
        "\n",
        "Opening file: ../../../Measurements/BreakTest_AluminiumBeam/results.enhanced/4-1/collect_294.bin\n",
        "Closed file: ../../../Measurements/BreakTest_AluminiumBeam/results.enhanced/4-1/collect_294.bin\n",
        "Opening file: ../../../Measurements/BreakTest_AluminiumBeam/results.enhanced/4-1/collect_295.bin\n",
        "Closed file: ../../../Measurements/BreakTest_AluminiumBeam/results.enhanced/4-1/collect_295.bin\n",
        "Opening file: ../../../Measurements/BreakTest_AluminiumBeam/results.enhanced/4-1/collect_296.bin\n",
        "Closed file: ../../../Measurements/BreakTest_AluminiumBeam/results.enhanced/4-1/collect_296.bin\n",
        "Opening file: ../../../Measurements/BreakTest_AluminiumBeam/results.enhanced/4-1/collect_297.bin\n",
        "Closed file: ../../../Measurements/BreakTest_AluminiumBeam/results.enhanced/4-1/collect_297.bin\n",
        "Opening file: ../../../Measurements/BreakTest_AluminiumBeam/results.enhanced/4-1/collect_298.bin\n",
        "Closed file: ../../../Measurements/BreakTest_AluminiumBeam/results.enhanced/4-1/collect_298.bin"
       ]
      },
      {
       "output_type": "stream",
       "stream": "stdout",
       "text": [
        "\n",
        "Opening file: ../../../Measurements/BreakTest_AluminiumBeam/results.enhanced/4-1/collect_299.bin\n",
        "Closed file: ../../../Measurements/BreakTest_AluminiumBeam/results.enhanced/4-1/collect_299.bin\n",
        "Opening file: ../../../Measurements/BreakTest_AluminiumBeam/results.enhanced/4-1/collect_300.bin\n",
        "Closed file: ../../../Measurements/BreakTest_AluminiumBeam/results.enhanced/4-1/collect_300.bin\n",
        "Opening file: ../../../Measurements/BreakTest_AluminiumBeam/results.enhanced/4-1/collect_301.bin\n",
        "Closed file: ../../../Measurements/BreakTest_AluminiumBeam/results.enhanced/4-1/collect_301.bin\n",
        "Opening file: ../../../Measurements/BreakTest_AluminiumBeam/results.enhanced/4-1/collect_302.bin\n",
        "Closed file: ../../../Measurements/BreakTest_AluminiumBeam/results.enhanced/4-1/collect_302.bin\n",
        "Opening file: ../../../Measurements/BreakTest_AluminiumBeam/results.enhanced/4-1/collect_303.bin\n",
        "Closed file: ../../../Measurements/BreakTest_AluminiumBeam/results.enhanced/4-1/collect_303.bin"
       ]
      },
      {
       "output_type": "stream",
       "stream": "stdout",
       "text": [
        "\n",
        "Opening file: ../../../Measurements/BreakTest_AluminiumBeam/results.enhanced/4-1/collect_304.bin\n",
        "Closed file: ../../../Measurements/BreakTest_AluminiumBeam/results.enhanced/4-1/collect_304.bin\n",
        "Opening file: ../../../Measurements/BreakTest_AluminiumBeam/results.enhanced/4-1/collect_305.bin\n",
        "Closed file: ../../../Measurements/BreakTest_AluminiumBeam/results.enhanced/4-1/collect_305.bin\n",
        "Opening file: ../../../Measurements/BreakTest_AluminiumBeam/results.enhanced/4-1/collect_306.bin\n",
        "Closed file: ../../../Measurements/BreakTest_AluminiumBeam/results.enhanced/4-1/collect_306.bin\n",
        "Opening file: ../../../Measurements/BreakTest_AluminiumBeam/results.enhanced/4-1/collect_307.bin\n",
        "Closed file: ../../../Measurements/BreakTest_AluminiumBeam/results.enhanced/4-1/collect_307.bin\n",
        "Opening file: ../../../Measurements/BreakTest_AluminiumBeam/results.enhanced/4-1/collect_308.bin\n",
        "Closed file: ../../../Measurements/BreakTest_AluminiumBeam/results.enhanced/4-1/collect_308.bin"
       ]
      },
      {
       "output_type": "stream",
       "stream": "stdout",
       "text": [
        "\n",
        "Opening file: ../../../Measurements/BreakTest_AluminiumBeam/results.enhanced/4-1/collect_309.bin\n",
        "Closed file: ../../../Measurements/BreakTest_AluminiumBeam/results.enhanced/4-1/collect_309.bin\n",
        "Opening file: ../../../Measurements/BreakTest_AluminiumBeam/results.enhanced/4-1/collect_310.bin\n",
        "Closed file: ../../../Measurements/BreakTest_AluminiumBeam/results.enhanced/4-1/collect_310.bin\n",
        "Opening file: ../../../Measurements/BreakTest_AluminiumBeam/results.enhanced/4-1/collect_311.bin\n",
        "Closed file: ../../../Measurements/BreakTest_AluminiumBeam/results.enhanced/4-1/collect_311.bin\n",
        "Opening file: ../../../Measurements/BreakTest_AluminiumBeam/results.enhanced/4-1/collect_312.bin\n",
        "Closed file: ../../../Measurements/BreakTest_AluminiumBeam/results.enhanced/4-1/collect_312.bin"
       ]
      },
      {
       "output_type": "stream",
       "stream": "stdout",
       "text": [
        "\n",
        "Opening file: ../../../Measurements/BreakTest_AluminiumBeam/results.enhanced/4-1/collect_313.bin\n",
        "Closed file: ../../../Measurements/BreakTest_AluminiumBeam/results.enhanced/4-1/collect_313.bin\n",
        "Opening file: ../../../Measurements/BreakTest_AluminiumBeam/results.enhanced/4-1/collect_314.bin\n",
        "Closed file: ../../../Measurements/BreakTest_AluminiumBeam/results.enhanced/4-1/collect_314.bin\n",
        "Opening file: ../../../Measurements/BreakTest_AluminiumBeam/results.enhanced/4-1/collect_315.bin\n",
        "Closed file: ../../../Measurements/BreakTest_AluminiumBeam/results.enhanced/4-1/collect_315.bin\n",
        "Opening file: ../../../Measurements/BreakTest_AluminiumBeam/results.enhanced/4-1/collect_316.bin\n",
        "Closed file: ../../../Measurements/BreakTest_AluminiumBeam/results.enhanced/4-1/collect_316.bin\n",
        "Opening file: ../../../Measurements/BreakTest_AluminiumBeam/results.enhanced/4-1/collect_317.bin\n",
        "Closed file: ../../../Measurements/BreakTest_AluminiumBeam/results.enhanced/4-1/collect_317.bin\n",
        "Opening file: ../../../Measurements/BreakTest_AluminiumBeam/results.enhanced/4-1/collect_318.bin\n",
        "Closed file: ../../../Measurements/BreakTest_AluminiumBeam/results.enhanced/4-1/collect_318.bin\n",
        "Opening file: ../../../Measurements/BreakTest_AluminiumBeam/results.enhanced/4-1/collect_319.bin"
       ]
      },
      {
       "output_type": "stream",
       "stream": "stdout",
       "text": [
        "\n",
        "Closed file: ../../../Measurements/BreakTest_AluminiumBeam/results.enhanced/4-1/collect_319.bin\n",
        "Opening file: ../../../Measurements/BreakTest_AluminiumBeam/results.enhanced/4-1/collect_320.bin\n",
        "Closed file: ../../../Measurements/BreakTest_AluminiumBeam/results.enhanced/4-1/collect_320.bin\n",
        "Opening file: ../../../Measurements/BreakTest_AluminiumBeam/results.enhanced/4-1/collect_321.bin\n",
        "Closed file: ../../../Measurements/BreakTest_AluminiumBeam/results.enhanced/4-1/collect_321.bin\n",
        "Opening file: ../../../Measurements/BreakTest_AluminiumBeam/results.enhanced/4-1/collect_322.bin\n",
        "Closed file: ../../../Measurements/BreakTest_AluminiumBeam/results.enhanced/4-1/collect_322.bin\n",
        "Opening file: ../../../Measurements/BreakTest_AluminiumBeam/results.enhanced/4-1/collect_323.bin\n",
        "Closed file: ../../../Measurements/BreakTest_AluminiumBeam/results.enhanced/4-1/collect_323.bin"
       ]
      },
      {
       "output_type": "stream",
       "stream": "stdout",
       "text": [
        "\n",
        "Opening file: ../../../Measurements/BreakTest_AluminiumBeam/results.enhanced/4-1/collect_324.bin\n",
        "Closed file: ../../../Measurements/BreakTest_AluminiumBeam/results.enhanced/4-1/collect_324.bin\n",
        "Opening file: ../../../Measurements/BreakTest_AluminiumBeam/results.enhanced/4-1/collect_325.bin\n",
        "Closed file: ../../../Measurements/BreakTest_AluminiumBeam/results.enhanced/4-1/collect_325.bin\n",
        "Opening file: ../../../Measurements/BreakTest_AluminiumBeam/results.enhanced/4-1/collect_326.bin\n",
        "Closed file: ../../../Measurements/BreakTest_AluminiumBeam/results.enhanced/4-1/collect_326.bin\n",
        "Opening file: ../../../Measurements/BreakTest_AluminiumBeam/results.enhanced/4-1/collect_327.bin\n",
        "Closed file: ../../../Measurements/BreakTest_AluminiumBeam/results.enhanced/4-1/collect_327.bin\n",
        "Opening file: ../../../Measurements/BreakTest_AluminiumBeam/results.enhanced/4-1/collect_328.bin\n",
        "Closed file: ../../../Measurements/BreakTest_AluminiumBeam/results.enhanced/4-1/collect_328.bin\n",
        "Opening file: ../../../Measurements/BreakTest_AluminiumBeam/results.enhanced/4-1/collect_329.bin\n",
        "Closed file: ../../../Measurements/BreakTest_AluminiumBeam/results.enhanced/4-1/collect_329.bin"
       ]
      },
      {
       "output_type": "stream",
       "stream": "stdout",
       "text": [
        "\n",
        "Opening file: ../../../Measurements/BreakTest_AluminiumBeam/results.enhanced/4-1/collect_330.bin\n",
        "Closed file: ../../../Measurements/BreakTest_AluminiumBeam/results.enhanced/4-1/collect_330.bin\n",
        "Opening file: ../../../Measurements/BreakTest_AluminiumBeam/results.enhanced/4-1/collect_331.bin\n",
        "Closed file: ../../../Measurements/BreakTest_AluminiumBeam/results.enhanced/4-1/collect_331.bin\n",
        "Opening file: ../../../Measurements/BreakTest_AluminiumBeam/results.enhanced/4-1/collect_332.bin\n",
        "Closed file: ../../../Measurements/BreakTest_AluminiumBeam/results.enhanced/4-1/collect_332.bin\n",
        "Opening file: ../../../Measurements/BreakTest_AluminiumBeam/results.enhanced/4-1/collect_333.bin\n",
        "Closed file: ../../../Measurements/BreakTest_AluminiumBeam/results.enhanced/4-1/collect_333.bin\n",
        "Opening file: ../../../Measurements/BreakTest_AluminiumBeam/results.enhanced/4-1/collect_334.bin\n",
        "Closed file: ../../../Measurements/BreakTest_AluminiumBeam/results.enhanced/4-1/collect_334.bin"
       ]
      },
      {
       "output_type": "stream",
       "stream": "stdout",
       "text": [
        "\n",
        "Opening file: ../../../Measurements/BreakTest_AluminiumBeam/results.enhanced/4-1/collect_335.bin\n",
        "Closed file: ../../../Measurements/BreakTest_AluminiumBeam/results.enhanced/4-1/collect_335.bin\n",
        "Opening file: ../../../Measurements/BreakTest_AluminiumBeam/results.enhanced/4-1/collect_336.bin\n",
        "Closed file: ../../../Measurements/BreakTest_AluminiumBeam/results.enhanced/4-1/collect_336.bin\n",
        "Opening file: ../../../Measurements/BreakTest_AluminiumBeam/results.enhanced/4-1/collect_337.bin\n",
        "Closed file: ../../../Measurements/BreakTest_AluminiumBeam/results.enhanced/4-1/collect_337.bin\n",
        "Opening file: ../../../Measurements/BreakTest_AluminiumBeam/results.enhanced/4-1/collect_338.bin\n",
        "Closed file: ../../../Measurements/BreakTest_AluminiumBeam/results.enhanced/4-1/collect_338.bin\n",
        "Opening file: ../../../Measurements/BreakTest_AluminiumBeam/results.enhanced/4-1/collect_339.bin\n",
        "Closed file: ../../../Measurements/BreakTest_AluminiumBeam/results.enhanced/4-1/collect_339.bin\n",
        "Opening file: ../../../Measurements/BreakTest_AluminiumBeam/results.enhanced/4-1/collect_340.bin\n",
        "Closed file: ../../../Measurements/BreakTest_AluminiumBeam/results.enhanced/4-1/collect_340.bin"
       ]
      },
      {
       "output_type": "stream",
       "stream": "stdout",
       "text": [
        "\n",
        "Opening file: ../../../Measurements/BreakTest_AluminiumBeam/results.enhanced/4-1/collect_341.bin\n",
        "Closed file: ../../../Measurements/BreakTest_AluminiumBeam/results.enhanced/4-1/collect_341.bin\n",
        "Opening file: ../../../Measurements/BreakTest_AluminiumBeam/results.enhanced/4-1/collect_342.bin\n",
        "Closed file: ../../../Measurements/BreakTest_AluminiumBeam/results.enhanced/4-1/collect_342.bin\n",
        "Opening file: ../../../Measurements/BreakTest_AluminiumBeam/results.enhanced/4-1/collect_343.bin\n",
        "Closed file: ../../../Measurements/BreakTest_AluminiumBeam/results.enhanced/4-1/collect_343.bin\n",
        "Opening file: ../../../Measurements/BreakTest_AluminiumBeam/results.enhanced/4-1/collect_344.bin\n",
        "Closed file: ../../../Measurements/BreakTest_AluminiumBeam/results.enhanced/4-1/collect_344.bin\n",
        "Opening file: ../../../Measurements/BreakTest_AluminiumBeam/results.enhanced/4-1/collect_345.bin\n",
        "Closed file: ../../../Measurements/BreakTest_AluminiumBeam/results.enhanced/4-1/collect_345.bin"
       ]
      },
      {
       "output_type": "stream",
       "stream": "stdout",
       "text": [
        "\n",
        "Opening file: ../../../Measurements/BreakTest_AluminiumBeam/results.enhanced/4-1/collect_346.bin\n",
        "Closed file: ../../../Measurements/BreakTest_AluminiumBeam/results.enhanced/4-1/collect_346.bin\n",
        "Opening file: ../../../Measurements/BreakTest_AluminiumBeam/results.enhanced/4-1/collect_347.bin\n",
        "Closed file: ../../../Measurements/BreakTest_AluminiumBeam/results.enhanced/4-1/collect_347.bin\n",
        "Opening file: ../../../Measurements/BreakTest_AluminiumBeam/results.enhanced/4-1/collect_348.bin\n",
        "Closed file: ../../../Measurements/BreakTest_AluminiumBeam/results.enhanced/4-1/collect_348.bin\n",
        "Opening file: ../../../Measurements/BreakTest_AluminiumBeam/results.enhanced/4-1/collect_349.bin\n",
        "Closed file: ../../../Measurements/BreakTest_AluminiumBeam/results.enhanced/4-1/collect_349.bin"
       ]
      },
      {
       "output_type": "stream",
       "stream": "stdout",
       "text": [
        "\n",
        "Opening file: ../../../Measurements/BreakTest_AluminiumBeam/results.enhanced/4-1/collect_350.bin\n",
        "Closed file: ../../../Measurements/BreakTest_AluminiumBeam/results.enhanced/4-1/collect_350.bin\n",
        "Opening file: ../../../Measurements/BreakTest_AluminiumBeam/results.enhanced/4-1/collect_351.bin\n",
        "Closed file: ../../../Measurements/BreakTest_AluminiumBeam/results.enhanced/4-1/collect_351.bin\n",
        "Opening file: ../../../Measurements/BreakTest_AluminiumBeam/results.enhanced/4-1/collect_352.bin\n",
        "Closed file: ../../../Measurements/BreakTest_AluminiumBeam/results.enhanced/4-1/collect_352.bin\n",
        "Opening file: ../../../Measurements/BreakTest_AluminiumBeam/results.enhanced/4-1/collect_353.bin"
       ]
      },
      {
       "output_type": "stream",
       "stream": "stdout",
       "text": [
        "\n",
        "Closed file: ../../../Measurements/BreakTest_AluminiumBeam/results.enhanced/4-1/collect_353.bin\n",
        "Opening file: ../../../Measurements/BreakTest_AluminiumBeam/results.enhanced/4-1/collect_354.bin\n",
        "Closed file: ../../../Measurements/BreakTest_AluminiumBeam/results.enhanced/4-1/collect_354.bin\n",
        "Opening file: ../../../Measurements/BreakTest_AluminiumBeam/results.enhanced/4-1/collect_355.bin\n",
        "Closed file: ../../../Measurements/BreakTest_AluminiumBeam/results.enhanced/4-1/collect_355.bin\n",
        "Opening file: ../../../Measurements/BreakTest_AluminiumBeam/results.enhanced/4-1/collect_356.bin\n",
        "Closed file: ../../../Measurements/BreakTest_AluminiumBeam/results.enhanced/4-1/collect_356.bin\n",
        "Opening file: ../../../Measurements/BreakTest_AluminiumBeam/results.enhanced/4-1/collect_357.bin\n",
        "Closed file: ../../../Measurements/BreakTest_AluminiumBeam/results.enhanced/4-1/collect_357.bin\n",
        "Opening file: ../../../Measurements/BreakTest_AluminiumBeam/results.enhanced/4-1/collect_358.bin\n",
        "Closed file: ../../../Measurements/BreakTest_AluminiumBeam/results.enhanced/4-1/collect_358.bin"
       ]
      },
      {
       "output_type": "stream",
       "stream": "stdout",
       "text": [
        "\n",
        "Opening file: ../../../Measurements/BreakTest_AluminiumBeam/results.enhanced/4-1/collect_359.bin\n",
        "Closed file: ../../../Measurements/BreakTest_AluminiumBeam/results.enhanced/4-1/collect_359.bin\n",
        "Opening file: ../../../Measurements/BreakTest_AluminiumBeam/results.enhanced/4-1/collect_360.bin\n",
        "Closed file: ../../../Measurements/BreakTest_AluminiumBeam/results.enhanced/4-1/collect_360.bin\n",
        "Opening file: ../../../Measurements/BreakTest_AluminiumBeam/results.enhanced/4-1/collect_361.bin\n",
        "Closed file: ../../../Measurements/BreakTest_AluminiumBeam/results.enhanced/4-1/collect_361.bin\n",
        "Opening file: ../../../Measurements/BreakTest_AluminiumBeam/results.enhanced/4-1/collect_362.bin\n",
        "Closed file: ../../../Measurements/BreakTest_AluminiumBeam/results.enhanced/4-1/collect_362.bin\n",
        "Opening file: ../../../Measurements/BreakTest_AluminiumBeam/results.enhanced/4-1/collect_363.bin\n",
        "Closed file: ../../../Measurements/BreakTest_AluminiumBeam/results.enhanced/4-1/collect_363.bin\n",
        "Opening file: ../../../Measurements/BreakTest_AluminiumBeam/results.enhanced/4-1/collect_364.bin"
       ]
      },
      {
       "output_type": "stream",
       "stream": "stdout",
       "text": [
        "\n",
        "Closed file: ../../../Measurements/BreakTest_AluminiumBeam/results.enhanced/4-1/collect_364.bin\n",
        "Opening file: ../../../Measurements/BreakTest_AluminiumBeam/results.enhanced/4-1/collect_365.bin\n",
        "Closed file: ../../../Measurements/BreakTest_AluminiumBeam/results.enhanced/4-1/collect_365.bin\n",
        "Opening file: ../../../Measurements/BreakTest_AluminiumBeam/results.enhanced/4-1/collect_366.bin\n",
        "Closed file: ../../../Measurements/BreakTest_AluminiumBeam/results.enhanced/4-1/collect_366.bin\n",
        "Opening file: ../../../Measurements/BreakTest_AluminiumBeam/results.enhanced/4-1/collect_367.bin\n",
        "Closed file: ../../../Measurements/BreakTest_AluminiumBeam/results.enhanced/4-1/collect_367.bin\n",
        "Opening file: ../../../Measurements/BreakTest_AluminiumBeam/results.enhanced/4-1/collect_368.bin\n",
        "Closed file: ../../../Measurements/BreakTest_AluminiumBeam/results.enhanced/4-1/collect_368.bin"
       ]
      },
      {
       "output_type": "stream",
       "stream": "stdout",
       "text": [
        "\n",
        "Opening file: ../../../Measurements/BreakTest_AluminiumBeam/results.enhanced/4-1/collect_369.bin\n",
        "Closed file: ../../../Measurements/BreakTest_AluminiumBeam/results.enhanced/4-1/collect_369.bin\n",
        "Opening file: ../../../Measurements/BreakTest_AluminiumBeam/results.enhanced/4-1/collect_370.bin\n",
        "Closed file: ../../../Measurements/BreakTest_AluminiumBeam/results.enhanced/4-1/collect_370.bin\n",
        "Opening file: ../../../Measurements/BreakTest_AluminiumBeam/results.enhanced/4-1/collect_371.bin\n",
        "Closed file: ../../../Measurements/BreakTest_AluminiumBeam/results.enhanced/4-1/collect_371.bin\n",
        "Opening file: ../../../Measurements/BreakTest_AluminiumBeam/results.enhanced/4-1/collect_372.bin\n",
        "Closed file: ../../../Measurements/BreakTest_AluminiumBeam/results.enhanced/4-1/collect_372.bin\n",
        "Opening file: ../../../Measurements/BreakTest_AluminiumBeam/results.enhanced/4-1/collect_373.bin\n",
        "Closed file: ../../../Measurements/BreakTest_AluminiumBeam/results.enhanced/4-1/collect_373.bin\n",
        "Opening file: ../../../Measurements/BreakTest_AluminiumBeam/results.enhanced/4-1/collect_374.bin\n",
        "Closed file: ../../../Measurements/BreakTest_AluminiumBeam/results.enhanced/4-1/collect_374.bin"
       ]
      },
      {
       "output_type": "stream",
       "stream": "stdout",
       "text": [
        "\n",
        "Opening file: ../../../Measurements/BreakTest_AluminiumBeam/results.enhanced/4-1/collect_375.bin\n",
        "Closed file: ../../../Measurements/BreakTest_AluminiumBeam/results.enhanced/4-1/collect_375.bin\n",
        "Opening file: ../../../Measurements/BreakTest_AluminiumBeam/results.enhanced/4-1/collect_376.bin\n",
        "Closed file: ../../../Measurements/BreakTest_AluminiumBeam/results.enhanced/4-1/collect_376.bin\n",
        "Opening file: ../../../Measurements/BreakTest_AluminiumBeam/results.enhanced/4-1/collect_377.bin\n",
        "Closed file: ../../../Measurements/BreakTest_AluminiumBeam/results.enhanced/4-1/collect_377.bin\n",
        "Opening file: ../../../Measurements/BreakTest_AluminiumBeam/results.enhanced/4-1/collect_378.bin\n",
        "Closed file: ../../../Measurements/BreakTest_AluminiumBeam/results.enhanced/4-1/collect_378.bin\n",
        "Opening file: ../../../Measurements/BreakTest_AluminiumBeam/results.enhanced/4-1/collect_379.bin\n",
        "Closed file: ../../../Measurements/BreakTest_AluminiumBeam/results.enhanced/4-1/collect_379.bin"
       ]
      },
      {
       "output_type": "stream",
       "stream": "stdout",
       "text": [
        "\n",
        "Opening file: ../../../Measurements/BreakTest_AluminiumBeam/results.enhanced/4-1/collect_380.bin\n",
        "Closed file: ../../../Measurements/BreakTest_AluminiumBeam/results.enhanced/4-1/collect_380.bin\n",
        "Opening file: ../../../Measurements/BreakTest_AluminiumBeam/results.enhanced/4-1/collect_381.bin\n",
        "Closed file: ../../../Measurements/BreakTest_AluminiumBeam/results.enhanced/4-1/collect_381.bin\n",
        "Opening file: ../../../Measurements/BreakTest_AluminiumBeam/results.enhanced/4-1/collect_382.bin\n",
        "Closed file: ../../../Measurements/BreakTest_AluminiumBeam/results.enhanced/4-1/collect_382.bin\n",
        "Opening file: ../../../Measurements/BreakTest_AluminiumBeam/results.enhanced/4-1/collect_383.bin\n",
        "Closed file: ../../../Measurements/BreakTest_AluminiumBeam/results.enhanced/4-1/collect_383.bin\n",
        "Opening file: ../../../Measurements/BreakTest_AluminiumBeam/results.enhanced/4-1/collect_384.bin\n",
        "Closed file: ../../../Measurements/BreakTest_AluminiumBeam/results.enhanced/4-1/collect_384.bin\n",
        "Opening file: ../../../Measurements/BreakTest_AluminiumBeam/results.enhanced/4-1/collect_385.bin"
       ]
      },
      {
       "output_type": "stream",
       "stream": "stdout",
       "text": [
        "\n",
        "Closed file: ../../../Measurements/BreakTest_AluminiumBeam/results.enhanced/4-1/collect_385.bin\n",
        "Opening file: ../../../Measurements/BreakTest_AluminiumBeam/results.enhanced/4-1/collect_386.bin\n",
        "Closed file: ../../../Measurements/BreakTest_AluminiumBeam/results.enhanced/4-1/collect_386.bin\n",
        "Opening file: ../../../Measurements/BreakTest_AluminiumBeam/results.enhanced/4-1/collect_387.bin\n",
        "Closed file: ../../../Measurements/BreakTest_AluminiumBeam/results.enhanced/4-1/collect_387.bin\n",
        "Opening file: ../../../Measurements/BreakTest_AluminiumBeam/results.enhanced/4-1/collect_388.bin\n",
        "Closed file: ../../../Measurements/BreakTest_AluminiumBeam/results.enhanced/4-1/collect_388.bin\n",
        "Opening file: ../../../Measurements/BreakTest_AluminiumBeam/results.enhanced/4-1/collect_389.bin"
       ]
      },
      {
       "output_type": "stream",
       "stream": "stdout",
       "text": [
        "\n",
        "Closed file: ../../../Measurements/BreakTest_AluminiumBeam/results.enhanced/4-1/collect_389.bin\n",
        "Opening file: ../../../Measurements/BreakTest_AluminiumBeam/results.enhanced/4-1/collect_390.bin\n",
        "Closed file: ../../../Measurements/BreakTest_AluminiumBeam/results.enhanced/4-1/collect_390.bin\n",
        "Opening file: ../../../Measurements/BreakTest_AluminiumBeam/results.enhanced/4-1/collect_391.bin\n",
        "Closed file: ../../../Measurements/BreakTest_AluminiumBeam/results.enhanced/4-1/collect_391.bin\n",
        "Opening file: ../../../Measurements/BreakTest_AluminiumBeam/results.enhanced/4-1/collect_392.bin\n",
        "Closed file: ../../../Measurements/BreakTest_AluminiumBeam/results.enhanced/4-1/collect_392.bin\n",
        "Opening file: ../../../Measurements/BreakTest_AluminiumBeam/results.enhanced/4-1/collect_393.bin\n",
        "Closed file: ../../../Measurements/BreakTest_AluminiumBeam/results.enhanced/4-1/collect_393.bin"
       ]
      },
      {
       "output_type": "stream",
       "stream": "stdout",
       "text": [
        "\n",
        "Opening file: ../../../Measurements/BreakTest_AluminiumBeam/results.enhanced/4-1/collect_394.bin\n",
        "Closed file: ../../../Measurements/BreakTest_AluminiumBeam/results.enhanced/4-1/collect_394.bin\n",
        "Opening file: ../../../Measurements/BreakTest_AluminiumBeam/results.enhanced/4-1/collect_395.bin\n",
        "Closed file: ../../../Measurements/BreakTest_AluminiumBeam/results.enhanced/4-1/collect_395.bin\n",
        "Opening file: ../../../Measurements/BreakTest_AluminiumBeam/results.enhanced/4-1/collect_396.bin\n",
        "Closed file: ../../../Measurements/BreakTest_AluminiumBeam/results.enhanced/4-1/collect_396.bin\n",
        "Opening file: ../../../Measurements/BreakTest_AluminiumBeam/results.enhanced/4-1/collect_397.bin\n",
        "Closed file: ../../../Measurements/BreakTest_AluminiumBeam/results.enhanced/4-1/collect_397.bin"
       ]
      },
      {
       "output_type": "stream",
       "stream": "stdout",
       "text": [
        "\n",
        "Opening file: ../../../Measurements/BreakTest_AluminiumBeam/results.enhanced/4-1/collect_398.bin\n",
        "Closed file: ../../../Measurements/BreakTest_AluminiumBeam/results.enhanced/4-1/collect_398.bin\n",
        "Opening file: ../../../Measurements/BreakTest_AluminiumBeam/results.enhanced/4-1/collect_399.bin\n",
        "Closed file: ../../../Measurements/BreakTest_AluminiumBeam/results.enhanced/4-1/collect_399.bin\n",
        "Opening file: ../../../Measurements/BreakTest_AluminiumBeam/results.enhanced/4-1/collect_400.bin\n",
        "Closed file: ../../../Measurements/BreakTest_AluminiumBeam/results.enhanced/4-1/collect_400.bin\n",
        "Opening file: ../../../Measurements/BreakTest_AluminiumBeam/results.enhanced/4-1/collect_401.bin\n",
        "Closed file: ../../../Measurements/BreakTest_AluminiumBeam/results.enhanced/4-1/collect_401.bin\n",
        "Opening file: ../../../Measurements/BreakTest_AluminiumBeam/results.enhanced/4-1/collect_402.bin\n",
        "Closed file: ../../../Measurements/BreakTest_AluminiumBeam/results.enhanced/4-1/collect_402.bin\n",
        "Opening file: ../../../Measurements/BreakTest_AluminiumBeam/results.enhanced/4-1/collect_403.bin\n",
        "Closed file: ../../../Measurements/BreakTest_AluminiumBeam/results.enhanced/4-1/collect_403.bin"
       ]
      },
      {
       "output_type": "stream",
       "stream": "stdout",
       "text": [
        "\n",
        "Opening file: ../../../Measurements/BreakTest_AluminiumBeam/results.enhanced/4-1/collect_404.bin\n",
        "Closed file: ../../../Measurements/BreakTest_AluminiumBeam/results.enhanced/4-1/collect_404.bin\n",
        "Opening file: ../../../Measurements/BreakTest_AluminiumBeam/results.enhanced/4-1/collect_405.bin\n",
        "Closed file: ../../../Measurements/BreakTest_AluminiumBeam/results.enhanced/4-1/collect_405.bin\n",
        "Opening file: ../../../Measurements/BreakTest_AluminiumBeam/results.enhanced/4-1/collect_406.bin\n",
        "Closed file: ../../../Measurements/BreakTest_AluminiumBeam/results.enhanced/4-1/collect_406.bin\n",
        "Opening file: ../../../Measurements/BreakTest_AluminiumBeam/results.enhanced/4-1/collect_407.bin\n",
        "Closed file: ../../../Measurements/BreakTest_AluminiumBeam/results.enhanced/4-1/collect_407.bin\n",
        "Opening file: ../../../Measurements/BreakTest_AluminiumBeam/results.enhanced/4-1/collect_408.bin\n",
        "Closed file: ../../../Measurements/BreakTest_AluminiumBeam/results.enhanced/4-1/collect_408.bin\n",
        "Opening file: ../../../Measurements/BreakTest_AluminiumBeam/results.enhanced/4-1/collect_409.bin\n",
        "Closed file: ../../../Measurements/BreakTest_AluminiumBeam/results.enhanced/4-1/collect_409.bin"
       ]
      },
      {
       "output_type": "stream",
       "stream": "stdout",
       "text": [
        "\n",
        "Opening file: ../../../Measurements/BreakTest_AluminiumBeam/results.enhanced/4-1/collect_410.bin\n",
        "Closed file: ../../../Measurements/BreakTest_AluminiumBeam/results.enhanced/4-1/collect_410.bin\n",
        "Opening file: ../../../Measurements/BreakTest_AluminiumBeam/results.enhanced/4-1/collect_411.bin\n",
        "Closed file: ../../../Measurements/BreakTest_AluminiumBeam/results.enhanced/4-1/collect_411.bin\n",
        "Opening file: ../../../Measurements/BreakTest_AluminiumBeam/results.enhanced/4-1/collect_412.bin\n",
        "Closed file: ../../../Measurements/BreakTest_AluminiumBeam/results.enhanced/4-1/collect_412.bin\n",
        "Opening file: ../../../Measurements/BreakTest_AluminiumBeam/results.enhanced/4-1/collect_413.bin\n",
        "Closed file: ../../../Measurements/BreakTest_AluminiumBeam/results.enhanced/4-1/collect_413.bin\n",
        "Opening file: ../../../Measurements/BreakTest_AluminiumBeam/results.enhanced/4-1/collect_414.bin\n",
        "Closed file: ../../../Measurements/BreakTest_AluminiumBeam/results.enhanced/4-1/collect_414.bin\n",
        "Opening file: ../../../Measurements/BreakTest_AluminiumBeam/results.enhanced/4-1/collect_415.bin\n",
        "Closed file: ../../../Measurements/BreakTest_AluminiumBeam/results.enhanced/4-1/collect_415.bin"
       ]
      },
      {
       "output_type": "stream",
       "stream": "stdout",
       "text": [
        "\n",
        "Opening file: ../../../Measurements/BreakTest_AluminiumBeam/results.enhanced/4-1/collect_416.bin\n",
        "Closed file: ../../../Measurements/BreakTest_AluminiumBeam/results.enhanced/4-1/collect_416.bin\n",
        "Opening file: ../../../Measurements/BreakTest_AluminiumBeam/results.enhanced/4-1/collect_417.bin\n",
        "Closed file: ../../../Measurements/BreakTest_AluminiumBeam/results.enhanced/4-1/collect_417.bin\n",
        "Opening file: ../../../Measurements/BreakTest_AluminiumBeam/results.enhanced/4-1/collect_418.bin\n",
        "Closed file: ../../../Measurements/BreakTest_AluminiumBeam/results.enhanced/4-1/collect_418.bin\n",
        "Opening file: ../../../Measurements/BreakTest_AluminiumBeam/results.enhanced/4-1/collect_419.bin\n",
        "Closed file: ../../../Measurements/BreakTest_AluminiumBeam/results.enhanced/4-1/collect_419.bin\n",
        "Opening file: ../../../Measurements/BreakTest_AluminiumBeam/results.enhanced/4-1/collect_420.bin\n",
        "Closed file: ../../../Measurements/BreakTest_AluminiumBeam/results.enhanced/4-1/collect_420.bin\n",
        "Opening file: ../../../Measurements/BreakTest_AluminiumBeam/results.enhanced/4-1/collect_421.bin\n",
        "Closed file: ../../../Measurements/BreakTest_AluminiumBeam/results.enhanced/4-1/collect_421.bin\n",
        "Opening file: ../../../Measurements/BreakTest_AluminiumBeam/results.enhanced/4-1/collect_422.bin\n",
        "Closed file: ../../../Measurements/BreakTest_AluminiumBeam/results.enhanced/4-1/collect_422.bin"
       ]
      },
      {
       "output_type": "stream",
       "stream": "stdout",
       "text": [
        "\n",
        "Opening file: ../../../Measurements/BreakTest_AluminiumBeam/results.enhanced/4-1/collect_423.bin\n",
        "Closed file: ../../../Measurements/BreakTest_AluminiumBeam/results.enhanced/4-1/collect_423.bin\n",
        "Opening file: ../../../Measurements/BreakTest_AluminiumBeam/results.enhanced/4-1/collect_424.bin\n",
        "Closed file: ../../../Measurements/BreakTest_AluminiumBeam/results.enhanced/4-1/collect_424.bin\n",
        "Opening file: ../../../Measurements/BreakTest_AluminiumBeam/results.enhanced/4-1/collect_425.bin\n",
        "Closed file: ../../../Measurements/BreakTest_AluminiumBeam/results.enhanced/4-1/collect_425.bin\n",
        "Opening file: ../../../Measurements/BreakTest_AluminiumBeam/results.enhanced/4-1/collect_426.bin\n",
        "Closed file: ../../../Measurements/BreakTest_AluminiumBeam/results.enhanced/4-1/collect_426.bin\n",
        "Opening file: ../../../Measurements/BreakTest_AluminiumBeam/results.enhanced/4-1/collect_427.bin\n",
        "Closed file: ../../../Measurements/BreakTest_AluminiumBeam/results.enhanced/4-1/collect_427.bin\n",
        "Opening file: ../../../Measurements/BreakTest_AluminiumBeam/results.enhanced/4-1/collect_428.bin\n",
        "Closed file: ../../../Measurements/BreakTest_AluminiumBeam/results.enhanced/4-1/collect_428.bin"
       ]
      },
      {
       "output_type": "stream",
       "stream": "stdout",
       "text": [
        "\n",
        "Opening file: ../../../Measurements/BreakTest_AluminiumBeam/results.enhanced/4-1/collect_429.bin\n",
        "Closed file: ../../../Measurements/BreakTest_AluminiumBeam/results.enhanced/4-1/collect_429.bin\n",
        "Opening file: ../../../Measurements/BreakTest_AluminiumBeam/results.enhanced/4-1/collect_430.bin\n",
        "Closed file: ../../../Measurements/BreakTest_AluminiumBeam/results.enhanced/4-1/collect_430.bin\n",
        "Opening file: ../../../Measurements/BreakTest_AluminiumBeam/results.enhanced/4-1/collect_431.bin\n",
        "Closed file: ../../../Measurements/BreakTest_AluminiumBeam/results.enhanced/4-1/collect_431.bin\n",
        "Opening file: ../../../Measurements/BreakTest_AluminiumBeam/results.enhanced/4-1/collect_432.bin\n",
        "Closed file: ../../../Measurements/BreakTest_AluminiumBeam/results.enhanced/4-1/collect_432.bin"
       ]
      },
      {
       "output_type": "stream",
       "stream": "stdout",
       "text": [
        "\n",
        "Opening file: ../../../Measurements/BreakTest_AluminiumBeam/results.enhanced/4-1/collect_433.bin\n",
        "Closed file: ../../../Measurements/BreakTest_AluminiumBeam/results.enhanced/4-1/collect_433.bin\n",
        "Opening file: ../../../Measurements/BreakTest_AluminiumBeam/results.enhanced/4-1/collect_434.bin\n",
        "Closed file: ../../../Measurements/BreakTest_AluminiumBeam/results.enhanced/4-1/collect_434.bin\n",
        "Opening file: ../../../Measurements/BreakTest_AluminiumBeam/results.enhanced/4-1/collect_435.bin\n",
        "Closed file: ../../../Measurements/BreakTest_AluminiumBeam/results.enhanced/4-1/collect_435.bin\n",
        "Opening file: ../../../Measurements/BreakTest_AluminiumBeam/results.enhanced/4-1/collect_436.bin\n",
        "Closed file: ../../../Measurements/BreakTest_AluminiumBeam/results.enhanced/4-1/collect_436.bin\n",
        "Opening file: ../../../Measurements/BreakTest_AluminiumBeam/results.enhanced/4-1/collect_437.bin\n",
        "Closed file: ../../../Measurements/BreakTest_AluminiumBeam/results.enhanced/4-1/collect_437.bin\n",
        "Opening file: ../../../Measurements/BreakTest_AluminiumBeam/results.enhanced/4-1/collect_438.bin\n",
        "Closed file: ../../../Measurements/BreakTest_AluminiumBeam/results.enhanced/4-1/collect_438.bin"
       ]
      },
      {
       "output_type": "stream",
       "stream": "stdout",
       "text": [
        "\n",
        "Opening file: ../../../Measurements/BreakTest_AluminiumBeam/results.enhanced/4-1/collect_439.bin\n",
        "Closed file: ../../../Measurements/BreakTest_AluminiumBeam/results.enhanced/4-1/collect_439.bin\n",
        "Opening file: ../../../Measurements/BreakTest_AluminiumBeam/results.enhanced/4-1/collect_440.bin\n",
        "Closed file: ../../../Measurements/BreakTest_AluminiumBeam/results.enhanced/4-1/collect_440.bin\n",
        "Opening file: ../../../Measurements/BreakTest_AluminiumBeam/results.enhanced/4-1/collect_441.bin\n",
        "Closed file: ../../../Measurements/BreakTest_AluminiumBeam/results.enhanced/4-1/collect_441.bin\n",
        "Opening file: ../../../Measurements/BreakTest_AluminiumBeam/results.enhanced/4-1/collect_442.bin\n",
        "Closed file: ../../../Measurements/BreakTest_AluminiumBeam/results.enhanced/4-1/collect_442.bin\n",
        "Opening file: ../../../Measurements/BreakTest_AluminiumBeam/results.enhanced/4-1/collect_443.bin\n",
        "Closed file: ../../../Measurements/BreakTest_AluminiumBeam/results.enhanced/4-1/collect_443.bin\n",
        "Opening file: ../../../Measurements/BreakTest_AluminiumBeam/results.enhanced/4-1/collect_444.bin"
       ]
      },
      {
       "output_type": "stream",
       "stream": "stdout",
       "text": [
        "\n",
        "Closed file: ../../../Measurements/BreakTest_AluminiumBeam/results.enhanced/4-1/collect_444.bin\n",
        "Opening file: ../../../Measurements/BreakTest_AluminiumBeam/results.enhanced/4-1/collect_445.bin\n",
        "Closed file: ../../../Measurements/BreakTest_AluminiumBeam/results.enhanced/4-1/collect_445.bin\n",
        "Opening file: ../../../Measurements/BreakTest_AluminiumBeam/results.enhanced/4-1/collect_446.bin\n",
        "Closed file: ../../../Measurements/BreakTest_AluminiumBeam/results.enhanced/4-1/collect_446.bin\n",
        "Opening file: ../../../Measurements/BreakTest_AluminiumBeam/results.enhanced/4-1/collect_447.bin\n",
        "Closed file: ../../../Measurements/BreakTest_AluminiumBeam/results.enhanced/4-1/collect_447.bin\n",
        "Opening file: ../../../Measurements/BreakTest_AluminiumBeam/results.enhanced/4-1/collect_448.bin\n",
        "Closed file: ../../../Measurements/BreakTest_AluminiumBeam/results.enhanced/4-1/collect_448.bin\n",
        "Opening file: ../../../Measurements/BreakTest_AluminiumBeam/results.enhanced/4-1/collect_449.bin\n",
        "Closed file: ../../../Measurements/BreakTest_AluminiumBeam/results.enhanced/4-1/collect_449.bin\n",
        "Opening file: ../../../Measurements/BreakTest_AluminiumBeam/results.enhanced/4-1/collect_450.bin"
       ]
      },
      {
       "output_type": "stream",
       "stream": "stdout",
       "text": [
        "\n",
        "Closed file: ../../../Measurements/BreakTest_AluminiumBeam/results.enhanced/4-1/collect_450.bin\n",
        "Opening file: ../../../Measurements/BreakTest_AluminiumBeam/results.enhanced/4-1/collect_451.bin\n",
        "Closed file: ../../../Measurements/BreakTest_AluminiumBeam/results.enhanced/4-1/collect_451.bin\n",
        "Opening file: ../../../Measurements/BreakTest_AluminiumBeam/results.enhanced/4-1/collect_452.bin\n",
        "Closed file: ../../../Measurements/BreakTest_AluminiumBeam/results.enhanced/4-1/collect_452.bin\n",
        "Opening file: ../../../Measurements/BreakTest_AluminiumBeam/results.enhanced/4-1/collect_453.bin\n",
        "Closed file: ../../../Measurements/BreakTest_AluminiumBeam/results.enhanced/4-1/collect_453.bin\n",
        "Opening file: ../../../Measurements/BreakTest_AluminiumBeam/results.enhanced/4-1/collect_454.bin\n",
        "Closed file: ../../../Measurements/BreakTest_AluminiumBeam/results.enhanced/4-1/collect_454.bin\n",
        "Opening file: ../../../Measurements/BreakTest_AluminiumBeam/results.enhanced/4-1/collect_455.bin\n",
        "Closed file: ../../../Measurements/BreakTest_AluminiumBeam/results.enhanced/4-1/collect_455.bin"
       ]
      },
      {
       "output_type": "stream",
       "stream": "stdout",
       "text": [
        "\n",
        "Opening file: ../../../Measurements/BreakTest_AluminiumBeam/results.enhanced/4-1/collect_456.bin\n",
        "Closed file: ../../../Measurements/BreakTest_AluminiumBeam/results.enhanced/4-1/collect_456.bin\n",
        "Opening file: ../../../Measurements/BreakTest_AluminiumBeam/results.enhanced/4-1/collect_457.bin\n",
        "Closed file: ../../../Measurements/BreakTest_AluminiumBeam/results.enhanced/4-1/collect_457.bin\n",
        "Opening file: ../../../Measurements/BreakTest_AluminiumBeam/results.enhanced/4-1/collect_458.bin\n",
        "Closed file: ../../../Measurements/BreakTest_AluminiumBeam/results.enhanced/4-1/collect_458.bin\n",
        "Opening file: ../../../Measurements/BreakTest_AluminiumBeam/results.enhanced/4-1/collect_459.bin\n",
        "Closed file: ../../../Measurements/BreakTest_AluminiumBeam/results.enhanced/4-1/collect_459.bin"
       ]
      },
      {
       "output_type": "stream",
       "stream": "stdout",
       "text": [
        "\n",
        "Opening file: ../../../Measurements/BreakTest_AluminiumBeam/results.enhanced/4-1/collect_460.bin\n",
        "Closed file: ../../../Measurements/BreakTest_AluminiumBeam/results.enhanced/4-1/collect_460.bin\n",
        "Opening file: ../../../Measurements/BreakTest_AluminiumBeam/results.enhanced/4-1/collect_461.bin\n",
        "Closed file: ../../../Measurements/BreakTest_AluminiumBeam/results.enhanced/4-1/collect_461.bin\n",
        "Opening file: ../../../Measurements/BreakTest_AluminiumBeam/results.enhanced/4-1/collect_462.bin\n",
        "Closed file: ../../../Measurements/BreakTest_AluminiumBeam/results.enhanced/4-1/collect_462.bin\n",
        "Opening file: ../../../Measurements/BreakTest_AluminiumBeam/results.enhanced/4-1/collect_463.bin\n",
        "Closed file: ../../../Measurements/BreakTest_AluminiumBeam/results.enhanced/4-1/collect_463.bin\n",
        "Opening file: ../../../Measurements/BreakTest_AluminiumBeam/results.enhanced/4-1/collect_464.bin\n",
        "Closed file: ../../../Measurements/BreakTest_AluminiumBeam/results.enhanced/4-1/collect_464.bin\n",
        "Opening file: ../../../Measurements/BreakTest_AluminiumBeam/results.enhanced/4-1/collect_465.bin"
       ]
      },
      {
       "output_type": "stream",
       "stream": "stdout",
       "text": [
        "\n",
        "Closed file: ../../../Measurements/BreakTest_AluminiumBeam/results.enhanced/4-1/collect_465.bin\n",
        "Opening file: ../../../Measurements/BreakTest_AluminiumBeam/results.enhanced/4-1/collect_466.bin\n",
        "Closed file: ../../../Measurements/BreakTest_AluminiumBeam/results.enhanced/4-1/collect_466.bin\n"
       ]
      }
     ],
     "prompt_number": 1
    },
    {
     "cell_type": "code",
     "collapsed": false,
     "input": [
      "from helperfuncs.Raw_Data.removeDC import removeDC\n",
      "\n",
      "y_1 = removeDC(y_1)\n",
      "y2_1 = removeDC(y2_1)\n",
      "y_2 = removeDC(y_2)\n",
      "y2_2 = removeDC(y2_2)\n",
      "y_3 = removeDC(y_3)\n",
      "y2_3 = removeDC(y2_3)\n",
      "y_4 = removeDC(y_4)\n",
      "y2_4 = removeDC(y2_4)"
     ],
     "language": "python",
     "metadata": {},
     "outputs": [],
     "prompt_number": 2
    },
    {
     "cell_type": "heading",
     "level": 2,
     "metadata": {},
     "source": [
      "Spectrogram of one measurement"
     ]
    },
    {
     "cell_type": "code",
     "collapsed": false,
     "input": [
      "from helperfuncs.Wavelet.PlotSpecgram import PlotSpecgram\n",
      "\n",
      "y = y2_1[3]\n",
      "\n",
      "PlotSpecgram(y, Fs)"
     ],
     "language": "python",
     "metadata": {},
     "outputs": [
      {
       "metadata": {},
       "output_type": "display_data",
       "png": "[encoded data removed]",
       "text": [
        "<matplotlib.figure.Figure at 0x4447390>"
       ]
      },
      {
       "metadata": {},
       "output_type": "display_data",
       "png": "[encoded data removed]",
       "text": [
        "<matplotlib.figure.Figure at 0x5803590>"
       ]
      }
     ],
     "prompt_number": 3
    },
    {
     "cell_type": "heading",
     "level": 2,
     "metadata": {},
     "source": [
      "Time Difference of Arrival (TDOA)"
     ]
    },
    {
     "cell_type": "markdown",
     "metadata": {},
     "source": [
      "Theoretical value of TD."
     ]
    },
    {
     "cell_type": "code",
     "collapsed": false,
     "input": [
      "v = 3909.49 #m/s - sound speed in aluminium\n",
      "dist_diff = 33*0.0254 #m - distance difference of sensors\n",
      "\n",
      "TD = dist_diff/v #s - theoretical TD\n",
      "print 'Theoretical time difference: %.2f us' % (TD*1000000)\n",
      "print 'Distance traveled in 810.7 usec: %.2f m' % (810.7e-6*v)\n",
      "print 'Distance traveled in 213 usec: %.2f m' % (213e-6*v)\n",
      "print 'Distance traveled in 500 usec: %.2f m' % (500e-6*v)"
     ],
     "language": "python",
     "metadata": {},
     "outputs": [
      {
       "output_type": "stream",
       "stream": "stdout",
       "text": [
        "Theoretical time difference: 214.40 us\n",
        "Distance traveled in 810.7 usec: 3.17 m\n",
        "Distance traveled in 213 usec: 0.83 m\n",
        "Distance traveled in 500 usec: 1.95 m\n"
       ]
      }
     ],
     "prompt_number": 4
    },
    {
     "cell_type": "heading",
     "level": 3,
     "metadata": {},
     "source": [
      "Simple threshold onset time picker"
     ]
    },
    {
     "cell_type": "markdown",
     "metadata": {},
     "source": [
      "Calculate TDOA with simple threshold crossing method."
     ]
    },
    {
     "cell_type": "code",
     "collapsed": false,
     "input": [
      "from helperfuncs.Onset_Time.CalculateTDOA import CalculateTDOA\n",
      "from helperfuncs.Onset_Time.Onset_Threshold import Onset_Threshold\n",
      "\n",
      "AE_start_th1, AE_start2_th1, TD_meas_th1, dummy, dummy = CalculateTDOA(y_1, y2_1, T_1, Onset_Threshold)\n",
      "AE_start_th2, AE_start2_th2, TD_meas_th2, dummy, dummy = CalculateTDOA(y_2, y2_2, T_2, Onset_Threshold)\n",
      "AE_start_th3, AE_start2_th3, TD_meas_th3, dummy, dummy = CalculateTDOA(y_3, y2_3, T_3, Onset_Threshold)\n",
      "AE_start_th4, AE_start2_th4, TD_meas_th4, dummy, dummy = CalculateTDOA(y_4, y2_4, T_4, Onset_Threshold)"
     ],
     "language": "python",
     "metadata": {},
     "outputs": [
      {
       "output_type": "stream",
       "stream": "stdout",
       "text": [
        "0.00%\n",
        "0.54%\n",
        "1.09%\n",
        "1.63%\n",
        "2.17%\n",
        "2.72%\n",
        "3.26%\n",
        "3.80%\n",
        "4.35%\n",
        "4.89%\n",
        "5.43%\n",
        "5.98%\n",
        "6.52%\n",
        "7.07%\n",
        "7.61%\n",
        "8.15%\n",
        "8.70%\n",
        "9.24%\n",
        "9.78%\n",
        "10.33%\n",
        "10.87%\n",
        "11.41%\n",
        "11.96%\n",
        "12.50%\n",
        "13.04%\n",
        "13.59%\n",
        "14.13%\n",
        "14.67%\n",
        "15.22%\n",
        "15.76%\n",
        "16.30%\n",
        "16.85%\n",
        "17.39%\n",
        "17.93%\n",
        "18.48%\n",
        "19.02%\n",
        "19.57%\n",
        "20.11%\n",
        "20.65%\n",
        "21.20%\n",
        "21.74%\n",
        "22.28%\n",
        "22.83%\n",
        "23.37%\n",
        "23.91%\n",
        "24.46%\n",
        "25.00%\n",
        "25.54%\n",
        "26.09%\n",
        "26.63%\n",
        "27.17%\n",
        "27.72%\n",
        "28.26%\n",
        "28.80%\n",
        "29.35%\n",
        "29.89%\n",
        "30.43%\n",
        "30.98%\n",
        "31.52%\n",
        "32.07%\n",
        "32.61%\n",
        "33.15%\n",
        "33.70%\n",
        "34.24%\n",
        "34.78%\n",
        "35.33%\n",
        "35.87%\n",
        "36.41%\n",
        "36.96%\n",
        "37.50%\n",
        "38.04%\n",
        "38.59%\n",
        "39.13%\n",
        "39.67%\n",
        "40.22%\n",
        "40.76%\n",
        "41.30%\n",
        "41.85%\n",
        "42.39%\n",
        "42.93%\n",
        "43.48%\n",
        "44.02%\n",
        "44.57%\n",
        "45.11%\n",
        "45.65%\n",
        "46.20%\n",
        "46.74%\n",
        "47.28%\n",
        "47.83%\n",
        "48.37%\n",
        "48.91%\n",
        "49.46%\n",
        "50.00%\n",
        "50.54%\n",
        "51.09%"
       ]
      },
      {
       "output_type": "stream",
       "stream": "stdout",
       "text": [
        "\n",
        "51.63%\n",
        "52.17%\n",
        "52.72%\n",
        "53.26%\n",
        "53.80%\n",
        "54.35%\n",
        "54.89%\n",
        "55.43%\n",
        "55.98%\n",
        "56.52%\n",
        "57.07%\n",
        "57.61%\n",
        "58.15%\n",
        "58.70%\n",
        "59.24%\n",
        "59.78%\n",
        "60.33%\n",
        "60.87%\n",
        "61.41%\n",
        "61.96%\n",
        "62.50%\n",
        "63.04%\n",
        "63.59%\n",
        "64.13%\n",
        "64.67%\n",
        "65.22%\n",
        "65.76%\n",
        "66.30%\n",
        "66.85%\n",
        "67.39%\n",
        "67.93%\n",
        "68.48%\n",
        "69.02%\n",
        "69.57%\n",
        "70.11%\n",
        "70.65%\n",
        "71.20%\n",
        "71.74%\n",
        "72.28%\n",
        "72.83%\n",
        "73.37%\n",
        "73.91%\n",
        "74.46%\n",
        "75.00%\n",
        "75.54%\n",
        "76.09%\n",
        "76.63%\n",
        "77.17%\n",
        "77.72%\n",
        "78.26%\n",
        "78.80%\n",
        "79.35%\n",
        "79.89%\n",
        "80.43%\n",
        "80.98%\n",
        "81.52%\n",
        "82.07%\n",
        "82.61%\n",
        "83.15%\n",
        "83.70%\n",
        "84.24%"
       ]
      },
      {
       "output_type": "stream",
       "stream": "stdout",
       "text": [
        "\n",
        "84.78%\n",
        "85.33%\n",
        "85.87%\n",
        "86.41%\n",
        "86.96%\n",
        "87.50%\n",
        "88.04%\n",
        "88.59%\n",
        "89.13%\n",
        "89.67%\n",
        "90.22%\n",
        "90.76%\n",
        "91.30%\n",
        "91.85%\n",
        "92.39%\n",
        "92.93%\n",
        "93.48%\n",
        "94.02%\n",
        "94.57%\n",
        "95.11%\n",
        "95.65%\n",
        "96.20%\n",
        "96.74%\n",
        "97.28%\n",
        "97.83%\n",
        "98.37%\n",
        "98.91%\n",
        "99.46%\n",
        "0.00%\n",
        "0.57%\n",
        "1.14%\n",
        "1.70%\n",
        "2.27%\n",
        "2.84%\n",
        "3.41%\n",
        "3.98%\n",
        "4.55%\n",
        "5.11%\n",
        "5.68%\n",
        "6.25%\n",
        "6.82%\n",
        "7.39%\n",
        "7.95%\n",
        "8.52%\n",
        "9.09%\n",
        "9.66%\n",
        "10.23%\n",
        "10.80%\n",
        "11.36%\n",
        "11.93%\n",
        "12.50%\n",
        "13.07%\n",
        "13.64%\n",
        "14.20%\n",
        "14.77%\n",
        "15.34%\n",
        "15.91%\n",
        "16.48%\n",
        "17.05%\n",
        "17.61%\n",
        "18.18%\n",
        "18.75%\n",
        "19.32%\n",
        "19.89%\n",
        "20.45%\n",
        "21.02%\n",
        "21.59%\n",
        "22.16%\n",
        "22.73%\n",
        "23.30%\n",
        "23.86%\n",
        "24.43%\n",
        "25.00%\n",
        "25.57%\n",
        "26.14%\n",
        "26.70%\n",
        "27.27%\n",
        "27.84%\n",
        "28.41%\n",
        "28.98%\n",
        "29.55%\n",
        "30.11%\n",
        "30.68%\n",
        "31.25%\n",
        "31.82%\n",
        "32.39%\n",
        "32.95%\n",
        "33.52%\n",
        "34.09%\n",
        "34.66%\n",
        "35.23%\n",
        "35.80%\n",
        "36.36%\n",
        "36.93%\n",
        "37.50%\n",
        "38.07%\n",
        "38.64%"
       ]
      },
      {
       "output_type": "stream",
       "stream": "stdout",
       "text": [
        "\n",
        "39.20%\n",
        "39.77%\n",
        "40.34%\n",
        "40.91%\n",
        "41.48%\n",
        "42.05%\n",
        "42.61%\n",
        "43.18%\n",
        "43.75%\n",
        "44.32%\n",
        "44.89%\n",
        "45.45%\n",
        "46.02%\n",
        "46.59%\n",
        "47.16%\n",
        "47.73%\n",
        "48.30%\n",
        "48.86%\n",
        "49.43%\n",
        "50.00%\n",
        "50.57%\n",
        "51.14%\n",
        "51.70%\n",
        "52.27%\n",
        "52.84%\n",
        "53.41%\n",
        "53.98%\n",
        "54.55%\n",
        "55.11%\n",
        "55.68%\n",
        "56.25%\n",
        "56.82%\n",
        "57.39%\n",
        "57.95%\n",
        "58.52%\n",
        "59.09%\n",
        "59.66%\n",
        "60.23%\n",
        "60.80%\n",
        "61.36%\n",
        "61.93%\n",
        "62.50%\n",
        "63.07%\n",
        "63.64%\n",
        "64.20%\n",
        "64.77%\n",
        "65.34%\n",
        "65.91%\n",
        "66.48%\n",
        "67.05%\n",
        "67.61%\n",
        "68.18%\n",
        "68.75%\n",
        "69.32%\n",
        "69.89%\n",
        "70.45%\n",
        "71.02%\n",
        "71.59%\n",
        "72.16%\n",
        "72.73%\n",
        "73.30%\n",
        "73.86%\n",
        "74.43%\n",
        "75.00%\n",
        "75.57%\n",
        "76.14%\n",
        "76.70%\n",
        "77.27%\n",
        "77.84%"
       ]
      },
      {
       "output_type": "stream",
       "stream": "stdout",
       "text": [
        "\n",
        "78.41%\n",
        "78.98%\n",
        "79.55%\n",
        "80.11%\n",
        "80.68%\n",
        "81.25%\n",
        "81.82%\n",
        "82.39%\n",
        "82.95%\n",
        "83.52%\n",
        "84.09%\n",
        "84.66%\n",
        "85.23%\n",
        "85.80%\n",
        "86.36%\n",
        "86.93%\n",
        "87.50%\n",
        "88.07%\n",
        "88.64%\n",
        "89.20%\n",
        "89.77%\n",
        "90.34%\n",
        "90.91%\n",
        "91.48%\n",
        "92.05%\n",
        "92.61%\n",
        "93.18%\n",
        "93.75%\n",
        "94.32%\n",
        "94.89%\n",
        "95.45%\n",
        "96.02%\n",
        "96.59%\n",
        "97.16%\n",
        "97.73%\n",
        "98.30%\n",
        "98.86%\n",
        "99.43%\n",
        "0.00%\n",
        "0.61%\n",
        "1.22%\n",
        "1.83%\n",
        "2.44%\n",
        "3.05%\n",
        "3.66%\n",
        "4.27%\n",
        "4.88%\n",
        "5.49%\n",
        "6.10%\n",
        "6.71%\n",
        "7.32%\n",
        "7.93%\n",
        "8.54%\n",
        "9.15%\n",
        "9.76%\n",
        "10.37%\n",
        "10.98%\n",
        "11.59%\n",
        "12.20%\n",
        "12.80%\n",
        "13.41%\n",
        "14.02%\n",
        "14.63%\n",
        "15.24%\n",
        "15.85%\n",
        "16.46%\n",
        "17.07%\n",
        "17.68%\n",
        "18.29%\n",
        "18.90%\n",
        "19.51%\n",
        "20.12%\n",
        "20.73%\n",
        "21.34%\n",
        "21.95%\n",
        "22.56%\n",
        "23.17%\n",
        "23.78%\n",
        "24.39%\n",
        "25.00%\n",
        "25.61%\n",
        "26.22%\n",
        "26.83%\n",
        "27.44%"
       ]
      },
      {
       "output_type": "stream",
       "stream": "stdout",
       "text": [
        "\n",
        "28.05%\n",
        "28.66%\n",
        "29.27%\n",
        "29.88%\n",
        "30.49%\n",
        "31.10%\n",
        "31.71%\n",
        "32.32%\n",
        "32.93%\n",
        "33.54%\n",
        "34.15%\n",
        "34.76%\n",
        "35.37%\n",
        "35.98%\n",
        "36.59%\n",
        "37.20%\n",
        "37.80%\n",
        "38.41%\n",
        "39.02%\n",
        "39.63%\n",
        "40.24%\n",
        "40.85%\n",
        "41.46%\n",
        "42.07%\n",
        "42.68%\n",
        "43.29%\n",
        "43.90%\n",
        "44.51%\n",
        "45.12%\n",
        "45.73%\n",
        "46.34%\n",
        "46.95%\n",
        "47.56%\n",
        "48.17%\n",
        "48.78%\n",
        "49.39%\n",
        "50.00%\n",
        "50.61%\n",
        "51.22%\n",
        "51.83%\n",
        "52.44%\n",
        "53.05%\n",
        "53.66%\n",
        "54.27%\n",
        "54.88%\n",
        "55.49%\n",
        "56.10%\n",
        "56.71%\n",
        "57.32%\n",
        "57.93%\n",
        "58.54%\n",
        "59.15%\n",
        "59.76%\n",
        "60.37%\n",
        "60.98%\n",
        "61.59%\n",
        "62.20%\n",
        "62.80%\n",
        "63.41%\n",
        "64.02%\n",
        "64.63%\n",
        "65.24%\n",
        "65.85%\n",
        "66.46%\n",
        "67.07%\n",
        "67.68%\n",
        "68.29%\n",
        "68.90%\n",
        "69.51%\n",
        "70.12%\n",
        "70.73%\n",
        "71.34%\n",
        "71.95%\n",
        "72.56%\n",
        "73.17%\n",
        "73.78%\n",
        "74.39%\n",
        "75.00%\n",
        "75.61%\n",
        "76.22%\n",
        "76.83%\n",
        "77.44%\n",
        "78.05%\n",
        "78.66%\n",
        "79.27%\n",
        "79.88%\n",
        "80.49%\n",
        "81.10%\n",
        "81.71%\n",
        "82.32%\n",
        "82.93%\n",
        "83.54%\n",
        "84.15%\n",
        "84.76%"
       ]
      },
      {
       "output_type": "stream",
       "stream": "stdout",
       "text": [
        "\n",
        "85.37%\n",
        "85.98%\n",
        "86.59%\n",
        "87.20%\n",
        "87.80%\n",
        "88.41%\n",
        "89.02%\n",
        "89.63%\n",
        "90.24%\n",
        "90.85%\n",
        "91.46%\n",
        "92.07%\n",
        "92.68%\n",
        "93.29%\n",
        "93.90%\n",
        "94.51%\n",
        "95.12%\n",
        "95.73%\n",
        "96.34%\n",
        "96.95%\n",
        "97.56%\n",
        "98.17%\n",
        "98.78%\n",
        "99.39%\n",
        "0.00%\n",
        "0.21%\n",
        "0.43%\n",
        "0.64%\n",
        "0.86%\n",
        "1.07%\n",
        "1.28%\n",
        "1.50%\n",
        "1.71%\n",
        "1.93%\n",
        "2.14%\n",
        "2.36%"
       ]
      },
      {
       "output_type": "stream",
       "stream": "stdout",
       "text": [
        "\n",
        "2.57%\n",
        "2.78%\n",
        "3.00%\n",
        "3.21%\n",
        "3.43%\n",
        "3.64%\n",
        "3.85%\n",
        "4.07%\n",
        "4.28%\n",
        "4.50%\n",
        "4.71%\n",
        "4.93%\n",
        "5.14%\n",
        "5.35%\n",
        "5.57%\n",
        "5.78%\n",
        "6.00%\n",
        "6.21%\n",
        "6.42%\n",
        "6.64%\n",
        "6.85%\n",
        "7.07%\n",
        "7.28%\n",
        "7.49%\n",
        "7.71%\n",
        "7.92%\n",
        "8.14%\n",
        "8.35%\n",
        "8.57%\n",
        "8.78%\n",
        "8.99%\n",
        "9.21%\n",
        "9.42%\n",
        "9.64%\n",
        "9.85%\n",
        "10.06%\n",
        "10.28%\n",
        "10.49%\n",
        "10.71%\n",
        "10.92%\n",
        "11.13%\n",
        "11.35%\n",
        "11.56%\n",
        "11.78%\n",
        "11.99%\n",
        "12.21%\n",
        "12.42%\n",
        "12.63%\n",
        "12.85%\n",
        "13.06%"
       ]
      },
      {
       "output_type": "stream",
       "stream": "stdout",
       "text": [
        "\n",
        "13.28%\n",
        "13.49%\n",
        "13.70%\n",
        "13.92%\n",
        "14.13%\n",
        "14.35%\n",
        "14.56%\n",
        "14.78%\n",
        "14.99%\n",
        "15.20%\n",
        "15.42%\n",
        "15.63%\n",
        "15.85%\n",
        "16.06%\n",
        "16.27%\n",
        "16.49%\n",
        "16.70%\n",
        "16.92%\n",
        "17.13%\n",
        "17.34%\n",
        "17.56%\n",
        "17.77%\n",
        "17.99%\n",
        "18.20%\n",
        "18.42%\n",
        "18.63%\n",
        "18.84%\n",
        "19.06%\n",
        "19.27%\n",
        "19.49%\n",
        "19.70%\n",
        "19.91%\n",
        "20.13%\n",
        "20.34%\n",
        "20.56%\n",
        "20.77%\n",
        "20.99%\n",
        "21.20%\n",
        "21.41%\n",
        "21.63%\n",
        "21.84%\n",
        "22.06%\n",
        "22.27%\n",
        "22.48%\n",
        "22.70%\n",
        "22.91%\n",
        "23.13%\n",
        "23.34%\n",
        "23.55%\n",
        "23.77%\n",
        "23.98%\n",
        "24.20%\n",
        "24.41%\n",
        "24.63%\n",
        "24.84%"
       ]
      },
      {
       "output_type": "stream",
       "stream": "stdout",
       "text": [
        "\n",
        "25.05%\n",
        "25.27%\n",
        "25.48%\n",
        "25.70%\n",
        "25.91%\n",
        "26.12%\n",
        "26.34%\n",
        "26.55%\n",
        "26.77%\n",
        "26.98%\n",
        "27.19%\n",
        "27.41%\n",
        "27.62%\n",
        "27.84%\n",
        "28.05%\n",
        "28.27%\n",
        "28.48%\n",
        "28.69%\n",
        "28.91%\n",
        "29.12%\n",
        "29.34%\n",
        "29.55%\n",
        "29.76%\n",
        "29.98%\n",
        "30.19%\n",
        "30.41%\n",
        "30.62%\n",
        "30.84%\n",
        "31.05%\n",
        "31.26%\n",
        "31.48%\n",
        "31.69%\n",
        "31.91%"
       ]
      },
      {
       "output_type": "stream",
       "stream": "stdout",
       "text": [
        "\n",
        "32.12%\n",
        "32.33%\n",
        "32.55%\n",
        "32.76%\n",
        "32.98%\n",
        "33.19%\n",
        "33.40%\n",
        "33.62%\n",
        "33.83%\n",
        "34.05%\n",
        "34.26%\n",
        "34.48%\n",
        "34.69%\n",
        "34.90%\n",
        "35.12%\n",
        "35.33%\n",
        "35.55%\n",
        "35.76%\n",
        "35.97%\n",
        "36.19%\n",
        "36.40%\n",
        "36.62%\n",
        "36.83%\n",
        "37.04%\n",
        "37.26%\n",
        "37.47%\n",
        "37.69%\n",
        "37.90%\n",
        "38.12%\n",
        "38.33%\n",
        "38.54%\n",
        "38.76%\n",
        "38.97%\n",
        "39.19%\n",
        "39.40%\n",
        "39.61%\n",
        "39.83%"
       ]
      },
      {
       "output_type": "stream",
       "stream": "stdout",
       "text": [
        "\n",
        "40.04%\n",
        "40.26%\n",
        "40.47%\n",
        "40.69%\n",
        "40.90%\n",
        "41.11%\n",
        "41.33%\n",
        "41.54%\n",
        "41.76%\n",
        "41.97%\n",
        "42.18%\n",
        "42.40%\n",
        "42.61%\n",
        "42.83%\n",
        "43.04%\n",
        "43.25%\n",
        "43.47%\n",
        "43.68%\n",
        "43.90%\n",
        "44.11%\n",
        "44.33%\n",
        "44.54%\n",
        "44.75%\n",
        "44.97%\n",
        "45.18%\n",
        "45.40%\n",
        "45.61%\n",
        "45.82%\n",
        "46.04%\n",
        "46.25%\n",
        "46.47%\n",
        "46.68%\n",
        "46.90%\n",
        "47.11%\n",
        "47.32%\n",
        "47.54%\n",
        "47.75%\n",
        "47.97%\n",
        "48.18%\n",
        "48.39%\n",
        "48.61%\n",
        "48.82%"
       ]
      },
      {
       "output_type": "stream",
       "stream": "stdout",
       "text": [
        "\n",
        "49.04%\n",
        "49.25%\n",
        "49.46%\n",
        "49.68%\n",
        "49.89%\n",
        "50.11%\n",
        "50.32%\n",
        "50.54%\n",
        "50.75%\n",
        "50.96%\n",
        "51.18%\n",
        "51.39%\n",
        "51.61%\n",
        "51.82%\n",
        "52.03%\n",
        "52.25%\n",
        "52.46%\n",
        "52.68%\n",
        "52.89%\n",
        "53.10%\n",
        "53.32%\n",
        "53.53%\n",
        "53.75%\n",
        "53.96%\n",
        "54.18%\n",
        "54.39%\n",
        "54.60%\n",
        "54.82%\n",
        "55.03%\n",
        "55.25%\n",
        "55.46%\n",
        "55.67%\n",
        "55.89%\n",
        "56.10%\n",
        "56.32%\n",
        "56.53%\n",
        "56.75%"
       ]
      },
      {
       "output_type": "stream",
       "stream": "stdout",
       "text": [
        "\n",
        "56.96%\n",
        "57.17%\n",
        "57.39%\n",
        "57.60%\n",
        "57.82%\n",
        "58.03%\n",
        "58.24%\n",
        "58.46%\n",
        "58.67%\n",
        "58.89%\n",
        "59.10%\n",
        "59.31%\n",
        "59.53%\n",
        "59.74%\n",
        "59.96%\n",
        "60.17%\n",
        "60.39%\n",
        "60.60%\n",
        "60.81%\n",
        "61.03%\n",
        "61.24%\n",
        "61.46%\n",
        "61.67%\n",
        "61.88%\n",
        "62.10%"
       ]
      },
      {
       "output_type": "stream",
       "stream": "stdout",
       "text": [
        "\n",
        "62.31%\n",
        "62.53%\n",
        "62.74%\n",
        "62.96%\n",
        "63.17%\n",
        "63.38%\n",
        "63.60%\n",
        "63.81%\n",
        "64.03%\n",
        "64.24%\n",
        "64.45%\n",
        "64.67%\n",
        "64.88%\n",
        "65.10%\n",
        "65.31%\n",
        "65.52%\n",
        "65.74%\n",
        "65.95%\n",
        "66.17%\n",
        "66.38%\n",
        "66.60%\n",
        "66.81%\n",
        "67.02%\n",
        "67.24%\n",
        "67.45%\n",
        "67.67%\n",
        "67.88%\n",
        "68.09%\n",
        "68.31%\n",
        "68.52%\n",
        "68.74%\n",
        "68.95%\n",
        "69.16%\n",
        "69.38%"
       ]
      },
      {
       "output_type": "stream",
       "stream": "stdout",
       "text": [
        "\n",
        "69.59%\n",
        "69.81%\n",
        "70.02%\n",
        "70.24%\n",
        "70.45%\n",
        "70.66%\n",
        "70.88%\n",
        "71.09%\n",
        "71.31%\n",
        "71.52%\n",
        "71.73%\n",
        "71.95%\n",
        "72.16%\n",
        "72.38%\n",
        "72.59%\n",
        "72.81%\n",
        "73.02%\n",
        "73.23%\n",
        "73.45%\n",
        "73.66%\n",
        "73.88%\n",
        "74.09%\n",
        "74.30%\n",
        "74.52%\n",
        "74.73%\n",
        "74.95%\n",
        "75.16%\n",
        "75.37%\n",
        "75.59%\n",
        "75.80%\n",
        "76.02%\n",
        "76.23%\n",
        "76.45%"
       ]
      },
      {
       "output_type": "stream",
       "stream": "stdout",
       "text": [
        "\n",
        "76.66%\n",
        "76.87%\n",
        "77.09%\n",
        "77.30%\n",
        "77.52%\n",
        "77.73%\n",
        "77.94%\n",
        "78.16%\n",
        "78.37%\n",
        "78.59%\n",
        "78.80%\n",
        "79.01%\n",
        "79.23%\n",
        "79.44%\n",
        "79.66%\n",
        "79.87%\n",
        "80.09%\n",
        "80.30%\n",
        "80.51%\n",
        "80.73%\n",
        "80.94%\n",
        "81.16%\n",
        "81.37%\n",
        "81.58%\n",
        "81.80%\n",
        "82.01%\n",
        "82.23%\n",
        "82.44%\n",
        "82.66%\n",
        "82.87%\n",
        "83.08%\n",
        "83.30%\n",
        "83.51%\n",
        "83.73%\n",
        "83.94%\n",
        "84.15%\n",
        "84.37%\n",
        "84.58%\n",
        "84.80%\n",
        "85.01%\n",
        "85.22%"
       ]
      },
      {
       "output_type": "stream",
       "stream": "stdout",
       "text": [
        "\n",
        "85.44%\n",
        "85.65%\n",
        "85.87%\n",
        "86.08%\n",
        "86.30%\n",
        "86.51%\n",
        "86.72%\n",
        "86.94%\n",
        "87.15%\n",
        "87.37%\n",
        "87.58%\n",
        "87.79%\n",
        "88.01%\n",
        "88.22%\n",
        "88.44%\n",
        "88.65%\n",
        "88.87%\n",
        "89.08%\n",
        "89.29%\n",
        "89.51%\n",
        "89.72%\n",
        "89.94%\n",
        "90.15%\n",
        "90.36%\n",
        "90.58%\n",
        "90.79%\n",
        "91.01%\n",
        "91.22%\n",
        "91.43%\n",
        "91.65%\n",
        "91.86%\n",
        "92.08%\n",
        "92.29%\n",
        "92.51%\n",
        "92.72%\n",
        "92.93%\n",
        "93.15%\n",
        "93.36%\n",
        "93.58%\n",
        "93.79%\n",
        "94.00%\n",
        "94.22%\n",
        "94.43%\n",
        "94.65%\n",
        "94.86%\n",
        "95.07%\n",
        "95.29%\n",
        "95.50%\n",
        "95.72%\n",
        "95.93%\n",
        "96.15%\n",
        "96.36%\n",
        "96.57%\n",
        "96.79%\n",
        "97.00%\n",
        "97.22%\n",
        "97.43%\n",
        "97.64%"
       ]
      },
      {
       "output_type": "stream",
       "stream": "stdout",
       "text": [
        "\n",
        "97.86%\n",
        "98.07%\n",
        "98.29%\n",
        "98.50%\n",
        "98.72%\n",
        "98.93%\n",
        "99.14%\n",
        "99.36%\n",
        "99.57%\n",
        "99.79%\n"
       ]
      }
     ],
     "prompt_number": 5
    },
    {
     "cell_type": "markdown",
     "metadata": {},
     "source": [
      "Plot AE data in separate axes."
     ]
    },
    {
     "cell_type": "code",
     "collapsed": false,
     "input": [
      "from helperfuncs.Onset_Time.PlotAEMeas import PlotAEMeas\n",
      "\n",
      "PlotAEMeas(y_1,   y2_1,   AE_start_th1,   AE_start2_th1,   T_1)"
     ],
     "language": "python",
     "metadata": {},
     "outputs": [
      {
       "metadata": {},
       "output_type": "display_data",
       "png": "[encoded data removed]",
       "text": [
        "<matplotlib.figure.Figure at 0x5b767d0>"
       ]
      }
     ],
     "prompt_number": 6
    },
    {
     "cell_type": "heading",
     "level": 4,
     "metadata": {},
     "source": [
      "Measurement 1. - 0.5 inch"
     ]
    },
    {
     "cell_type": "code",
     "collapsed": false,
     "input": [
      "from helperfuncs.Statistics.GMM_estimate_EM import GMM_estimate_EM\n",
      "import numpy as np\n",
      "\n",
      "alpha_th1, mu_th1, sigma_th1 = GMM_estimate_EM(TD_meas_th1*1e3, \n",
      "                                               alpha = np.array([0.5, 0.5]), \n",
      "                                               mu = np.array([0.2, -0.2]), \n",
      "                                               sigma = np.array([[[0.5]], [[0.5]]]))\n",
      "mu_th1 = mu_th1.flatten()\n",
      "sigma_th1 = np.sqrt(sigma_th1.flatten())"
     ],
     "language": "python",
     "metadata": {},
     "outputs": [
      {
       "output_type": "stream",
       "stream": "stdout",
       "text": [
        "Iterations left: 10\n",
        "alpha: "
       ]
      },
      {
       "output_type": "stream",
       "stream": "stdout",
       "text": [
        "\n",
        "[ 0.48887948  0.51112052]\n",
        "mu: \n",
        "[[-0.03304186]\n",
        " [-0.07578999]]\n",
        "sigma: \n",
        "[[[ 0.06313551]]\n",
        "\n",
        " [[ 0.04515209]]]\n",
        "Likelihood: 11.12\n",
        "change: 1201.08%\n",
        "Iterations left: 10"
       ]
      },
      {
       "output_type": "stream",
       "stream": "stdout",
       "text": [
        "\n",
        "alpha: "
       ]
      },
      {
       "output_type": "stream",
       "stream": "stdout",
       "text": [
        "\n",
        "[ 0.48030258  0.51969742]\n",
        "mu: \n",
        "[[-0.01180599]\n",
        " [-0.0947106 ]]\n",
        "sigma: \n",
        "[[[ 0.08028871]]\n",
        "\n",
        " [[ 0.02717339]]]\n",
        "Likelihood: 24.19\n",
        "change: 54.05%\n",
        "Iterations left: 10"
       ]
      },
      {
       "output_type": "stream",
       "stream": "stdout",
       "text": [
        "\n",
        "alpha: "
       ]
      },
      {
       "output_type": "stream",
       "stream": "stdout",
       "text": [
        "\n",
        "[ 0.43779185  0.56220815]\n",
        "mu: \n",
        "[[ 0.01453206]\n",
        " [-0.10895133]]\n",
        "sigma: \n",
        "[[[ 0.09083256]]\n",
        "\n",
        " [[ 0.01935522]]]\n",
        "Likelihood: 31.52\n",
        "change: 23.26%\n",
        "Iterations left: 10"
       ]
      },
      {
       "output_type": "stream",
       "stream": "stdout",
       "text": [
        "\n",
        "alpha: "
       ]
      },
      {
       "output_type": "stream",
       "stream": "stdout",
       "text": [
        "\n",
        "[ 0.38972953  0.61027047]\n",
        "mu: \n",
        "[[ 0.04375931]\n",
        " [-0.11789134]]\n",
        "sigma: \n",
        "[[[ 0.09781372]]\n",
        "\n",
        " [[ 0.01649196]]]\n",
        "Likelihood: 35.35\n",
        "change: 10.84%\n",
        "Iterations left: 10"
       ]
      },
      {
       "output_type": "stream",
       "stream": "stdout",
       "text": [
        "\n",
        "alpha: "
       ]
      },
      {
       "output_type": "stream",
       "stream": "stdout",
       "text": [
        "\n",
        "[ 0.34675535  0.65324465]\n",
        "mu: \n",
        "[[ 0.07296869]\n",
        " [-0.12276195]]\n",
        "sigma: \n",
        "[[[ 0.10265164]]\n",
        "\n",
        " [[ 0.01550338]]]\n",
        "Likelihood: 37.54\n",
        "change: 5.84%\n",
        "Iterations left: 10"
       ]
      },
      {
       "output_type": "stream",
       "stream": "stdout",
       "text": [
        "\n",
        "alpha: "
       ]
      },
      {
       "output_type": "stream",
       "stream": "stdout",
       "text": [
        "\n",
        "[ 0.31075453  0.68924547]\n",
        "mu: \n",
        "[[ 0.10061763]\n",
        " [-0.12500436]]\n",
        "sigma: \n",
        "[[[ 0.10596538]]\n",
        "\n",
        " [[ 0.01533273]]]\n",
        "Likelihood: 38.97\n",
        "change: 3.67%\n",
        "Iterations left: 10"
       ]
      },
      {
       "output_type": "stream",
       "stream": "stdout",
       "text": [
        "\n",
        "alpha: "
       ]
      },
      {
       "output_type": "stream",
       "stream": "stdout",
       "text": [
        "\n",
        "[ 0.28127247  0.71872753]\n",
        "mu: \n",
        "[[ 0.12616764]\n",
        " [-0.12574833]]\n",
        "sigma: \n",
        "[[[ 0.10824514]]\n",
        "\n",
        " [[ 0.01547842]]]\n",
        "Likelihood: 39.98\n",
        "change: 2.52%\n",
        "Iterations left: 10"
       ]
      },
      {
       "output_type": "stream",
       "stream": "stdout",
       "text": [
        "\n",
        "alpha: "
       ]
      },
      {
       "output_type": "stream",
       "stream": "stdout",
       "text": [
        "\n",
        "[ 0.25739414  0.74260586]\n",
        "mu: \n",
        "[[ 0.14933592]\n",
        " [-0.12567837]]\n",
        "sigma: \n",
        "[[[ 0.10978913]]\n",
        "\n",
        " [[ 0.01573475]]]\n",
        "Likelihood: 40.70\n",
        "change: 1.77%\n",
        "Iterations left: 10"
       ]
      },
      {
       "output_type": "stream",
       "stream": "stdout",
       "text": [
        "\n",
        "alpha: "
       ]
      },
      {
       "output_type": "stream",
       "stream": "stdout",
       "text": [
        "\n",
        "[ 0.23814534  0.76185466]\n",
        "mu: \n",
        "[[ 0.16996351]\n",
        " [-0.12517784]]\n",
        "sigma: \n",
        "[[[ 0.11079412]]\n",
        "\n",
        " [[ 0.01602809]]]\n",
        "Likelihood: 41.21\n",
        "change: 1.25%\n",
        "Iterations left: 10"
       ]
      },
      {
       "output_type": "stream",
       "stream": "stdout",
       "text": [
        "\n",
        "alpha: "
       ]
      },
      {
       "output_type": "stream",
       "stream": "stdout",
       "text": [
        "\n",
        "[ 0.22259168  0.77740832]\n",
        "mu: \n",
        "[[ 0.18805158]\n",
        " [-0.124452  ]]\n",
        "sigma: \n",
        "[[[ 0.11143375]]\n",
        "\n",
        " [[ 0.0163324 ]]]\n",
        "Likelihood: 41.58\n",
        "change: 0.89%\n"
       ]
      }
     ],
     "prompt_number": 7
    },
    {
     "cell_type": "code",
     "collapsed": false,
     "input": [
      "from helperfuncs.Statistics.Plot_Hist import Plot_Hist\n",
      "\n",
      "Plot_Hist(TD_meas_th1*1e3, \n",
      "          'Histogram of TD', 'Time differences [msec]' , 'Probability',\n",
      "          fitcurve=True, alpha=alpha_th1, mu=mu_th1, sigma=sigma_th1)"
     ],
     "language": "python",
     "metadata": {},
     "outputs": [
      {
       "metadata": {},
       "output_type": "display_data",
       "png": "[encoded data removed]",
       "text": [
        "<matplotlib.figure.Figure at 0x4447750>"
       ]
      }
     ],
     "prompt_number": 8
    },
    {
     "cell_type": "heading",
     "level": 4,
     "metadata": {},
     "source": [
      "Measurement 2. - 0.75 inch"
     ]
    },
    {
     "cell_type": "code",
     "collapsed": false,
     "input": [
      "from helperfuncs.Statistics.GMM_estimate_EM import GMM_estimate_EM\n",
      "import numpy as np\n",
      "\n",
      "alpha_th2, mu_th2, sigma_th2 = GMM_estimate_EM(TD_meas_th2*1e3, \n",
      "                                               alpha = np.array([0.5, 0.5]), \n",
      "                                               mu = np.array([0.2, 0.8]), \n",
      "                                               sigma = np.array([[[0.5]], [[0.5]]]))\n",
      "mu_th2 = mu_th2.flatten()\n",
      "sigma_th2 = np.sqrt(sigma_th2.flatten())"
     ],
     "language": "python",
     "metadata": {},
     "outputs": [
      {
       "output_type": "stream",
       "stream": "stdout",
       "text": [
        "Iterations left: 10\n",
        "alpha: "
       ]
      },
      {
       "output_type": "stream",
       "stream": "stdout",
       "text": [
        "\n",
        "[ 0.65925601  0.34074399]\n",
        "mu: \n",
        "[[-0.08993061]\n",
        " [-0.00024628]]\n",
        "sigma: \n",
        "[[[ 0.05286109]]\n",
        "\n",
        " [[ 0.10184448]]]\n",
        "Likelihood: -2.99\n",
        "change: 5673.44%\n",
        "Iterations left: 10\n",
        "alpha: "
       ]
      },
      {
       "output_type": "stream",
       "stream": "stdout",
       "text": [
        "\n",
        "[ 0.67590209  0.32409791]\n",
        "mu: \n",
        "[[-0.12314712]\n",
        " [ 0.07363264]]\n",
        "sigma: \n",
        "[[[ 0.0210097 ]]\n",
        "\n",
        " [[ 0.15018846]]]\n",
        "Likelihood: 33.54\n",
        "change: 108.90%\n",
        "Iterations left: 10"
       ]
      },
      {
       "output_type": "stream",
       "stream": "stdout",
       "text": [
        "\n",
        "alpha: "
       ]
      },
      {
       "output_type": "stream",
       "stream": "stdout",
       "text": [
        "\n",
        "[ 0.75083349  0.24916651]\n",
        "mu: \n",
        "[[-0.13062197]\n",
        " [ 0.15533443]]\n",
        "sigma: \n",
        "[[[ 0.01578465]]\n",
        "\n",
        " [[ 0.17742802]]]\n",
        "Likelihood: 43.04\n",
        "change: 22.08%\n",
        "Iterations left: 10"
       ]
      },
      {
       "output_type": "stream",
       "stream": "stdout",
       "text": [
        "\n",
        "alpha: "
       ]
      },
      {
       "output_type": "stream",
       "stream": "stdout",
       "text": [
        "\n",
        "[ 0.80867241  0.19132759]\n",
        "mu: \n",
        "[[-0.13175702]\n",
        " [ 0.24657737]]\n",
        "sigma: \n",
        "[[[ 0.01557686]]\n",
        "\n",
        " [[ 0.19137748]]]\n",
        "Likelihood: 47.42\n",
        "change: 9.22%\n",
        "Iterations left: 10\n",
        "alpha: "
       ]
      },
      {
       "output_type": "stream",
       "stream": "stdout",
       "text": [
        "\n",
        "[ 0.84743407  0.15256593]\n",
        "mu: \n",
        "[[-0.13149798]\n",
        " [ 0.34126003]]\n",
        "sigma: \n",
        "[[[ 0.01582008]]\n",
        "\n",
        " [[ 0.19044879]]]\n",
        "Likelihood: 50.08\n",
        "change: 5.31%\n",
        "Iterations left: 10"
       ]
      },
      {
       "output_type": "stream",
       "stream": "stdout",
       "text": [
        "\n",
        "alpha: "
       ]
      },
      {
       "output_type": "stream",
       "stream": "stdout",
       "text": [
        "\n",
        "[ 0.87223757  0.12776243]\n",
        "mu: \n",
        "[[-0.13094975]\n",
        " [ 0.42929741]]\n",
        "sigma: \n",
        "[[[ 0.01605781]]\n",
        "\n",
        " [[ 0.17512425]]]\n",
        "Likelihood: 51.73\n",
        "change: 3.20%\n",
        "Iterations left: 10\n",
        "alpha: "
       ]
      },
      {
       "output_type": "stream",
       "stream": "stdout",
       "text": [
        "\n",
        "[ 0.88841963  0.11158037]\n",
        "mu: \n",
        "[[-0.13040165]\n",
        " [ 0.50618378]]\n",
        "sigma: \n",
        "[[[ 0.01624671]]\n",
        "\n",
        " [[ 0.15014459]]]\n",
        "Likelihood: 52.95\n",
        "change: 2.30%\n",
        "Iterations left: 10\n",
        "alpha: "
       ]
      },
      {
       "output_type": "stream",
       "stream": "stdout",
       "text": [
        "\n",
        "[ 0.89992559  0.10007441]\n",
        "mu: \n",
        "[[-0.12983263]\n",
        " [ 0.57425763]]\n",
        "sigma: \n",
        "[[[ 0.01640087]]\n",
        "\n",
        " [[ 0.11943866]]]\n",
        "Likelihood: 54.15\n",
        "change: 2.21%\n",
        "Iterations left: 10\n",
        "alpha: "
       ]
      },
      {
       "output_type": "stream",
       "stream": "stdout",
       "text": [
        "\n",
        "[ 0.90908342  0.09091658]\n",
        "mu: \n",
        "[[-0.12910195]\n",
        " [ 0.63787296]]\n",
        "sigma: \n",
        "[[[ 0.01655302]]\n",
        "\n",
        " [[ 0.0845971 ]]]\n",
        "Likelihood: 55.76\n",
        "change: 2.89%\n",
        "Iterations left: 10\n",
        "alpha: "
       ]
      },
      {
       "output_type": "stream",
       "stream": "stdout",
       "text": [
        "\n",
        "[ 0.91687931  0.08312069]\n",
        "mu: \n",
        "[[-0.12800204]\n",
        " [ 0.69767485]]\n",
        "sigma: \n",
        "[[[ 0.01676403]]\n",
        "\n",
        " [[ 0.04850071]]]\n",
        "Likelihood: 58.42\n",
        "change: 4.57%\n",
        "Iterations left: 10\n",
        "alpha: "
       ]
      },
      {
       "output_type": "stream",
       "stream": "stdout",
       "text": [
        "\n",
        "[ 0.9231159  0.0768841]\n",
        "mu: \n",
        "[[-0.12641334]\n",
        " [ 0.74557608]]\n",
        "sigma: \n",
        "[[[ 0.01714605]]\n",
        "\n",
        " [[ 0.02036237]]]\n",
        "Likelihood: 62.50\n",
        "change: 6.52%\n",
        "Iterations left: 10\n",
        "alpha: "
       ]
      },
      {
       "output_type": "stream",
       "stream": "stdout",
       "text": [
        "\n",
        "[ 0.92606134  0.07393866]\n",
        "mu: \n",
        "[[-0.1253384 ]\n",
        " [ 0.76684958]]\n",
        "sigma: \n",
        "[[[ 0.01746919]]\n",
        "\n",
        " [[ 0.00916581]]]\n",
        "Likelihood: 64.39\n",
        "change: 2.94%\n",
        "Iterations left: 10\n",
        "alpha: "
       ]
      },
      {
       "output_type": "stream",
       "stream": "stdout",
       "text": [
        "\n",
        "[ 0.92614119  0.07385881]\n",
        "mu: \n",
        "[[-0.12530537]\n",
        " [ 0.76739999]]\n",
        "sigma: \n",
        "[[[ 0.01748071]]\n",
        "\n",
        " [[ 0.00889041]]]\n",
        "Likelihood: 64.40\n",
        "change: 0.01%\n"
       ]
      }
     ],
     "prompt_number": 9
    },
    {
     "cell_type": "code",
     "collapsed": false,
     "input": [
      "from helperfuncs.Statistics.Plot_Hist import Plot_Hist\n",
      "\n",
      "Plot_Hist(TD_meas_th2*1e3, \n",
      "          'Histogram of TD', 'Time differences [msec]' , 'Probability',\n",
      "          fitcurve=True, alpha=alpha_th2, mu=mu_th2, sigma=sigma_th2)"
     ],
     "language": "python",
     "metadata": {},
     "outputs": [
      {
       "metadata": {},
       "output_type": "display_data",
       "png": "[encoded data removed]",
       "text": [
        "<matplotlib.figure.Figure at 0x14f30d90>"
       ]
      }
     ],
     "prompt_number": 10
    },
    {
     "cell_type": "heading",
     "level": 4,
     "metadata": {},
     "source": [
      "Measurement 3. - 0.8 inch"
     ]
    },
    {
     "cell_type": "code",
     "collapsed": false,
     "input": [
      "from helperfuncs.Statistics.GMM_estimate_EM import GMM_estimate_EM\n",
      "import numpy as np\n",
      "\n",
      "alpha_th3, mu_th3, sigma_th3 = GMM_estimate_EM(TD_meas_th3*1e3, \n",
      "                                               alpha = np.array([0.5, 0.5]), \n",
      "                                               mu = np.array([0.2, 0.8]), \n",
      "                                               sigma = np.array([[[0.5]], [[0.5]]]))\n",
      "mu_th3 = mu_th3.flatten()\n",
      "sigma_th3 = np.sqrt(sigma_th3.flatten())"
     ],
     "language": "python",
     "metadata": {},
     "outputs": [
      {
       "output_type": "stream",
       "stream": "stdout",
       "text": [
        "Iterations left: 10\n",
        "alpha: "
       ]
      },
      {
       "output_type": "stream",
       "stream": "stdout",
       "text": [
        "\n",
        "[ 0.65746073  0.34253927]\n",
        "mu: \n",
        "[[-0.08689446]\n",
        " [ 0.01084564]]\n",
        "sigma: \n",
        "[[[ 0.05828918]]\n",
        "\n",
        " [[ 0.11146328]]]\n",
        "Likelihood: -10.99\n",
        "change: 1362.42%\n",
        "Iterations left: 10\n",
        "alpha: "
       ]
      },
      {
       "output_type": "stream",
       "stream": "stdout",
       "text": [
        "\n",
        "[ 0.67374212  0.32625788]\n",
        "mu: \n",
        "[[-0.11576017]\n",
        " [ 0.07533264]]\n",
        "sigma: \n",
        "[[[ 0.02343373]]\n",
        "\n",
        " [[ 0.16808702]]]\n",
        "Likelihood: 25.22\n",
        "change: 143.57%\n",
        "Iterations left: 10\n",
        "alpha: "
       ]
      },
      {
       "output_type": "stream",
       "stream": "stdout",
       "text": [
        "\n",
        "[ 0.74606405  0.25393595]\n",
        "mu: \n",
        "[[-0.12361208]\n",
        " [ 0.15282553]]\n",
        "sigma: \n",
        "[[[ 0.01472047]]\n",
        "\n",
        " [[ 0.20948146]]]\n",
        "Likelihood: 37.73\n",
        "change: 33.16%\n",
        "Iterations left: 10\n",
        "alpha: "
       ]
      },
      {
       "output_type": "stream",
       "stream": "stdout",
       "text": [
        "\n",
        "[ 0.80178447  0.19821553]\n",
        "mu: \n",
        "[[-0.12462134]\n",
        " [ 0.23461746]]\n",
        "sigma: \n",
        "[[[ 0.01421254]]\n",
        "\n",
        " [[ 0.23585243]]]\n",
        "Likelihood: 41.19\n",
        "change: 8.39%\n",
        "Iterations left: 10\n",
        "alpha: "
       ]
      },
      {
       "output_type": "stream",
       "stream": "stdout",
       "text": [
        "\n",
        "[ 0.83566596  0.16433404]\n",
        "mu: \n",
        "[[-0.12472133]\n",
        " [ 0.30919176]]\n",
        "sigma: \n",
        "[[[ 0.01439351]]\n",
        "\n",
        " [[ 0.24809463]]]\n",
        "Likelihood: 42.75\n",
        "change: 3.64%\n",
        "Iterations left: 10\n",
        "alpha: "
       ]
      },
      {
       "output_type": "stream",
       "stream": "stdout",
       "text": [
        "\n",
        "[ 0.85490838  0.14509162]\n",
        "mu: \n",
        "[[-0.12460198]\n",
        " [ 0.3660352 ]]\n",
        "sigma: \n",
        "[[[ 0.01456862]]\n",
        "\n",
        " [[ 0.25046563]]]\n",
        "Likelihood: 43.36\n",
        "change: 1.42%\n",
        "Iterations left: 10\n",
        "alpha: "
       ]
      },
      {
       "output_type": "stream",
       "stream": "stdout",
       "text": [
        "\n",
        "[ 0.8654663  0.1345337]\n",
        "mu: \n",
        "[[-0.12445606]\n",
        " [ 0.40360068]]\n",
        "sigma: \n",
        "[[[ 0.01468421]]\n",
        "\n",
        " [[ 0.24885296]]]\n",
        "Likelihood: 43.58\n",
        "change: 0.50%\n"
       ]
      }
     ],
     "prompt_number": 11
    },
    {
     "cell_type": "code",
     "collapsed": false,
     "input": [
      "from helperfuncs.Statistics.Plot_Hist import Plot_Hist\n",
      "\n",
      "Plot_Hist(TD_meas_th3*1e3, \n",
      "          'Histogram of TD', 'Time differences [msec]' , 'Probability',\n",
      "          fitcurve=True, alpha=alpha_th3, mu=mu_th3, sigma=sigma_th3)"
     ],
     "language": "python",
     "metadata": {},
     "outputs": [
      {
       "metadata": {},
       "output_type": "display_data",
       "png": "[encoded data removed]",
       "text": [
        "<matplotlib.figure.Figure at 0x1472c750>"
       ]
      }
     ],
     "prompt_number": 12
    },
    {
     "cell_type": "heading",
     "level": 4,
     "metadata": {},
     "source": [
      "Measurement 4. - 1 inch"
     ]
    },
    {
     "cell_type": "code",
     "collapsed": false,
     "input": [
      "from helperfuncs.Statistics.GMM_estimate_EM import GMM_estimate_EM\n",
      "import numpy as np\n",
      "\n",
      "alpha_th4, mu_th4, sigma_th4 = GMM_estimate_EM(TD_meas_th4*1e3, \n",
      "                                               alpha = np.array([0.5, 0.5]), \n",
      "                                               mu = np.array([0.2, 0.8]), \n",
      "                                               sigma = np.array([[[0.5]], [[0.5]]]))\n",
      "mu_th4 = mu_th4.flatten()\n",
      "sigma_th4 = np.sqrt(sigma_th4.flatten())"
     ],
     "language": "python",
     "metadata": {},
     "outputs": [
      {
       "output_type": "stream",
       "stream": "stdout",
       "text": [
        "Iterations left: 10\n",
        "alpha: "
       ]
      },
      {
       "output_type": "stream",
       "stream": "stdout",
       "text": [
        "\n",
        "[ 0.62936884  0.37063116]\n",
        "mu: \n",
        "[[-0.00365708]\n",
        " [ 0.13457879]]\n",
        "sigma: \n",
        "[[[ 0.08338331]]\n",
        "\n",
        " [[ 0.14980465]]]\n",
        "Likelihood: -128.84\n",
        "change: 234.83%\n",
        "Iterations left: 10"
       ]
      },
      {
       "output_type": "stream",
       "stream": "stdout",
       "text": [
        "\n",
        "alpha: "
       ]
      },
      {
       "output_type": "stream",
       "stream": "stdout",
       "text": [
        "\n",
        "[ 0.63225083  0.36774917]\n",
        "mu: \n",
        "[[-0.04812504]\n",
        " [ 0.21211344]]\n",
        "sigma: \n",
        "[[[ 0.04564588]]\n",
        "\n",
        " [[ 0.18450742]]]\n",
        "Likelihood: -56.77\n",
        "change: 126.95%\n",
        "Iterations left: 10"
       ]
      },
      {
       "output_type": "stream",
       "stream": "stdout",
       "text": [
        "\n",
        "alpha: "
       ]
      },
      {
       "output_type": "stream",
       "stream": "stdout",
       "text": [
        "\n",
        "[ 0.67070215  0.32929785]\n",
        "mu: \n",
        "[[-0.08472014]\n",
        " [ 0.31703646]]\n",
        "sigma: \n",
        "[[[ 0.01739094]]\n",
        "\n",
        " [[ 0.1978321 ]]]\n",
        "Likelihood: 35.03\n",
        "change: 262.07%\n",
        "Iterations left: 10"
       ]
      },
      {
       "output_type": "stream",
       "stream": "stdout",
       "text": [
        "\n",
        "alpha: "
       ]
      },
      {
       "output_type": "stream",
       "stream": "stdout",
       "text": [
        "\n",
        "[ 0.72099649  0.27900351]\n",
        "mu: \n",
        "[[-0.09412881]\n",
        " [ 0.41377254]]\n",
        "sigma: \n",
        "[[[ 0.01295539]]\n",
        "\n",
        " [[ 0.18360227]]]\n",
        "Likelihood: 53.79\n",
        "change: 34.88%\n",
        "Iterations left: 10"
       ]
      },
      {
       "output_type": "stream",
       "stream": "stdout",
       "text": [
        "\n",
        "alpha: "
       ]
      },
      {
       "output_type": "stream",
       "stream": "stdout",
       "text": [
        "\n",
        "[ 0.74963455  0.25036545]\n",
        "mu: \n",
        "[[-0.09699698]\n",
        " [ 0.48045659]]\n",
        "sigma: \n",
        "[[[ 0.01242094]]\n",
        "\n",
        " [[ 0.1620199 ]]]\n",
        "Likelihood: 58.98\n",
        "change: 8.80%\n",
        "Iterations left: 10"
       ]
      },
      {
       "output_type": "stream",
       "stream": "stdout",
       "text": [
        "\n",
        "alpha: "
       ]
      },
      {
       "output_type": "stream",
       "stream": "stdout",
       "text": [
        "\n",
        "[ 0.76900518  0.23099482]\n",
        "mu: \n",
        "[[-0.0979281 ]\n",
        " [ 0.53198016]]\n",
        "sigma: \n",
        "[[[ 0.01260436]]\n",
        "\n",
        " [[ 0.13975424]]]\n",
        "Likelihood: 62.63\n",
        "change: 5.82%\n",
        "Iterations left: 10"
       ]
      },
      {
       "output_type": "stream",
       "stream": "stdout",
       "text": [
        "\n",
        "alpha: "
       ]
      },
      {
       "output_type": "stream",
       "stream": "stdout",
       "text": [
        "\n",
        "[ 0.78427738  0.21572262]\n",
        "mu: \n",
        "[[-0.0979656 ]\n",
        " [ 0.57671122]]\n",
        "sigma: \n",
        "[[[ 0.01286776]]\n",
        "\n",
        " [[ 0.11753506]]]\n",
        "Likelihood: 66.06\n",
        "change: 5.19%\n",
        "Iterations left: 10"
       ]
      },
      {
       "output_type": "stream",
       "stream": "stdout",
       "text": [
        "\n",
        "alpha: "
       ]
      },
      {
       "output_type": "stream",
       "stream": "stdout",
       "text": [
        "\n",
        "[ 0.79703933  0.20296067]\n",
        "mu: \n",
        "[[-0.0974154 ]\n",
        " [ 0.61697348]]\n",
        "sigma: \n",
        "[[[ 0.01311524]]\n",
        "\n",
        " [[ 0.09581603]]]\n",
        "Likelihood: 69.61\n",
        "change: 5.11%\n",
        "Iterations left: 10"
       ]
      },
      {
       "output_type": "stream",
       "stream": "stdout",
       "text": [
        "\n",
        "alpha: "
       ]
      },
      {
       "output_type": "stream",
       "stream": "stdout",
       "text": [
        "\n",
        "[ 0.80775301  0.19224699]\n",
        "mu: \n",
        "[[-0.09636718]\n",
        " [ 0.65238119]]\n",
        "sigma: \n",
        "[[[ 0.01336768]]\n",
        "\n",
        " [[ 0.07595735]]]\n",
        "Likelihood: 73.22\n",
        "change: 4.93%\n",
        "Iterations left: 10"
       ]
      },
      {
       "output_type": "stream",
       "stream": "stdout",
       "text": [
        "\n",
        "alpha: "
       ]
      },
      {
       "output_type": "stream",
       "stream": "stdout",
       "text": [
        "\n",
        "[ 0.8164065  0.1835935]\n",
        "mu: \n",
        "[[-0.0948926]\n",
        " [ 0.6811155]]\n",
        "sigma: \n",
        "[[[ 0.01367796]]\n",
        "\n",
        " [[ 0.06008727]]]\n",
        "Likelihood: 76.36\n",
        "change: 4.11%\n",
        "Iterations left: 10"
       ]
      },
      {
       "output_type": "stream",
       "stream": "stdout",
       "text": [
        "\n",
        "alpha: "
       ]
      },
      {
       "output_type": "stream",
       "stream": "stdout",
       "text": [
        "\n",
        "[ 0.82312379  0.17687621]\n",
        "mu: \n",
        "[[-0.0931446 ]\n",
        " [ 0.70245162]]\n",
        "sigma: \n",
        "[[[ 0.01409117]]\n",
        "\n",
        " [[ 0.0492129 ]]]\n",
        "Likelihood: 78.64\n",
        "change: 2.90%\n",
        "Iterations left: 10"
       ]
      },
      {
       "output_type": "stream",
       "stream": "stdout",
       "text": [
        "\n",
        "alpha: "
       ]
      },
      {
       "output_type": "stream",
       "stream": "stdout",
       "text": [
        "\n",
        "[ 0.82848397  0.17151603]\n",
        "mu: \n",
        "[[-0.09131151]\n",
        " [ 0.71846093]]\n",
        "sigma: \n",
        "[[[ 0.01459102]]\n",
        "\n",
        " [[ 0.04193115]]]\n",
        "Likelihood: 80.32\n",
        "change: 2.09%\n",
        "Iterations left: 10"
       ]
      },
      {
       "output_type": "stream",
       "stream": "stdout",
       "text": [
        "\n",
        "alpha: "
       ]
      },
      {
       "output_type": "stream",
       "stream": "stdout",
       "text": [
        "\n",
        "[ 0.83307091  0.16692909]\n",
        "mu: \n",
        "[[-0.08952008]\n",
        " [ 0.73177189]]\n",
        "sigma: \n",
        "[[[ 0.01512369]]\n",
        "\n",
        " [[ 0.03629167]]]\n",
        "Likelihood: 81.78\n",
        "change: 1.79%\n",
        "Iterations left: 10"
       ]
      },
      {
       "output_type": "stream",
       "stream": "stdout",
       "text": [
        "\n",
        "alpha: "
       ]
      },
      {
       "output_type": "stream",
       "stream": "stdout",
       "text": [
        "\n",
        "[ 0.83723826  0.16276174]\n",
        "mu: \n",
        "[[-0.08778585]\n",
        " [ 0.7438795 ]]\n",
        "sigma: \n",
        "[[[ 0.01566694]]\n",
        "\n",
        " [[ 0.0312598 ]]]\n",
        "Likelihood: 83.28\n",
        "change: 1.79%\n",
        "Iterations left: 10"
       ]
      },
      {
       "output_type": "stream",
       "stream": "stdout",
       "text": [
        "\n",
        "alpha: "
       ]
      },
      {
       "output_type": "stream",
       "stream": "stdout",
       "text": [
        "\n",
        "[ 0.84117725  0.15882275]\n",
        "mu: \n",
        "[[-0.08607494]\n",
        " [ 0.75544422]]\n",
        "sigma: \n",
        "[[[ 0.01622666]]\n",
        "\n",
        " [[ 0.02645102]]]\n",
        "Likelihood: 84.96\n",
        "change: 1.98%\n",
        "Iterations left: 10"
       ]
      },
      {
       "output_type": "stream",
       "stream": "stdout",
       "text": [
        "\n",
        "alpha: "
       ]
      },
      {
       "output_type": "stream",
       "stream": "stdout",
       "text": [
        "\n",
        "[ 0.84491441  0.15508559]\n",
        "mu: \n",
        "[[-0.08438952]\n",
        " [ 0.76654037]]\n",
        "sigma: \n",
        "[[[ 0.01680185]]\n",
        "\n",
        " [[ 0.02181456]]]\n",
        "Likelihood: 86.88\n",
        "change: 2.21%\n",
        "Iterations left: 10"
       ]
      },
      {
       "output_type": "stream",
       "stream": "stdout",
       "text": [
        "\n",
        "alpha: "
       ]
      },
      {
       "output_type": "stream",
       "stream": "stdout",
       "text": [
        "\n",
        "[ 0.84810196  0.15189804]\n",
        "mu: \n",
        "[[-0.08290162]\n",
        " [ 0.77608951]]\n",
        "sigma: \n",
        "[[[ 0.01733092]]\n",
        "\n",
        " [[ 0.01780561]]]\n",
        "Likelihood: 88.56\n",
        "change: 1.90%\n",
        "Iterations left: 10"
       ]
      },
      {
       "output_type": "stream",
       "stream": "stdout",
       "text": [
        "\n",
        "alpha: "
       ]
      },
      {
       "output_type": "stream",
       "stream": "stdout",
       "text": [
        "\n",
        "[ 0.85011998  0.14988002]\n",
        "mu: \n",
        "[[-0.0819155 ]\n",
        " [ 0.78206185]]\n",
        "sigma: \n",
        "[[[ 0.01770297]]\n",
        "\n",
        " [[ 0.01533494]]]\n",
        "Likelihood: 89.32\n",
        "change: 0.85%\n"
       ]
      }
     ],
     "prompt_number": 13
    },
    {
     "cell_type": "code",
     "collapsed": false,
     "input": [
      "from helperfuncs.Statistics.Plot_Hist import Plot_Hist\n",
      "\n",
      "Plot_Hist(TD_meas_th4*1e3, \n",
      "          'Histogram of TD', 'Time differences [msec]' , 'Probability',\n",
      "          fitcurve=True, alpha=alpha_th4, mu=mu_th4, sigma=sigma_th4)"
     ],
     "language": "python",
     "metadata": {},
     "outputs": [
      {
       "metadata": {},
       "output_type": "display_data",
       "png": "[encoded data removed]",
       "text": [
        "<matplotlib.figure.Figure at 0x14f2dfd0>"
       ]
      }
     ],
     "prompt_number": 14
    }
   ],
   "metadata": {}
  }
 ]
}
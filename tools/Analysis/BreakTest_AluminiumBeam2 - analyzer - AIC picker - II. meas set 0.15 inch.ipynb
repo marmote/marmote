{
 "metadata": {
  "name": "BreakTest_AluminiumBeam2 - analyzer - AIC picker - II. meas set 0.15 inch"
 },
 "nbformat": 3,
 "nbformat_minor": 0,
 "worksheets": [
  {
   "cells": [
    {
     "cell_type": "heading",
     "level": 1,
     "metadata": {},
     "source": [
      "Read in preprocessed raw data"
     ]
    },
    {
     "cell_type": "markdown",
     "metadata": {},
     "source": [
      "First let's read in the data from BreakTest_AluminiumBeam measurement. Note that the threshold filter has already filtered out the frames with signals in them."
     ]
    },
    {
     "cell_type": "code",
     "collapsed": false,
     "input": [
      "from helperfuncs.ReadAEMeas import ReadAEMeas\n",
      "\n",
      "dir = '../../../Measurements/BreakTest_AluminiumBeam2/results2/2-0.15'\n",
      "y, y2, T, fnames, start_time = ReadAEMeas(dir)\n",
      "\n",
      "Fs = 1/T\n",
      "#print Fs"
     ],
     "language": "python",
     "metadata": {},
     "outputs": [
      {
       "output_type": "stream",
       "stream": "stdout",
       "text": [
        "Module folder added to system path: /home/ubuntu/Marmote/tools/ControlRecord/ControlRecord\n",
        "Opening file: ../../../Measurements/BreakTest_AluminiumBeam2/results2/2-0.15/collect_0.bin"
       ]
      },
      {
       "output_type": "stream",
       "stream": "stdout",
       "text": [
        "\n",
        "Closed file: ../../../Measurements/BreakTest_AluminiumBeam2/results2/2-0.15/collect_0.bin\n",
        "Opening file: ../../../Measurements/BreakTest_AluminiumBeam2/results2/2-0.15/collect_1.bin\n",
        "Closed file: ../../../Measurements/BreakTest_AluminiumBeam2/results2/2-0.15/collect_1.bin"
       ]
      },
      {
       "output_type": "stream",
       "stream": "stdout",
       "text": [
        "\n",
        "Opening file: ../../../Measurements/BreakTest_AluminiumBeam2/results2/2-0.15/collect_2.bin\n",
        "Closed file: ../../../Measurements/BreakTest_AluminiumBeam2/results2/2-0.15/collect_2.bin"
       ]
      },
      {
       "output_type": "stream",
       "stream": "stdout",
       "text": [
        "\n",
        "Opening file: ../../../Measurements/BreakTest_AluminiumBeam2/results2/2-0.15/collect_3.bin\n",
        "Closed file: ../../../Measurements/BreakTest_AluminiumBeam2/results2/2-0.15/collect_3.bin\n",
        "Opening file: ../../../Measurements/BreakTest_AluminiumBeam2/results2/2-0.15/collect_4.bin\n",
        "Closed file: ../../../Measurements/BreakTest_AluminiumBeam2/results2/2-0.15/collect_4.bin\n",
        "Opening file: ../../../Measurements/BreakTest_AluminiumBeam2/results2/2-0.15/collect_5.bin\n",
        "Closed file: ../../../Measurements/BreakTest_AluminiumBeam2/results2/2-0.15/collect_5.bin\n",
        "Opening file: ../../../Measurements/BreakTest_AluminiumBeam2/results2/2-0.15/collect_6.bin"
       ]
      },
      {
       "output_type": "stream",
       "stream": "stdout",
       "text": [
        "\n",
        "Closed file: ../../../Measurements/BreakTest_AluminiumBeam2/results2/2-0.15/collect_6.bin\n",
        "Opening file: ../../../Measurements/BreakTest_AluminiumBeam2/results2/2-0.15/collect_7.bin\n",
        "Closed file: ../../../Measurements/BreakTest_AluminiumBeam2/results2/2-0.15/collect_7.bin\n",
        "Opening file: ../../../Measurements/BreakTest_AluminiumBeam2/results2/2-0.15/collect_8.bin\n",
        "Closed file: ../../../Measurements/BreakTest_AluminiumBeam2/results2/2-0.15/collect_8.bin\n",
        "Opening file: ../../../Measurements/BreakTest_AluminiumBeam2/results2/2-0.15/collect_9.bin"
       ]
      },
      {
       "output_type": "stream",
       "stream": "stdout",
       "text": [
        "\n",
        "Closed file: ../../../Measurements/BreakTest_AluminiumBeam2/results2/2-0.15/collect_9.bin\n",
        "Opening file: ../../../Measurements/BreakTest_AluminiumBeam2/results2/2-0.15/collect_10.bin\n",
        "Closed file: ../../../Measurements/BreakTest_AluminiumBeam2/results2/2-0.15/collect_10.bin\n",
        "Opening file: ../../../Measurements/BreakTest_AluminiumBeam2/results2/2-0.15/collect_11.bin\n",
        "Closed file: ../../../Measurements/BreakTest_AluminiumBeam2/results2/2-0.15/collect_11.bin\n",
        "Opening file: ../../../Measurements/BreakTest_AluminiumBeam2/results2/2-0.15/collect_12.bin\n",
        "Closed file: ../../../Measurements/BreakTest_AluminiumBeam2/results2/2-0.15/collect_12.bin"
       ]
      },
      {
       "output_type": "stream",
       "stream": "stdout",
       "text": [
        "\n",
        "Opening file: ../../../Measurements/BreakTest_AluminiumBeam2/results2/2-0.15/collect_13.bin\n",
        "Closed file: ../../../Measurements/BreakTest_AluminiumBeam2/results2/2-0.15/collect_13.bin\n",
        "Opening file: ../../../Measurements/BreakTest_AluminiumBeam2/results2/2-0.15/collect_14.bin\n",
        "Closed file: ../../../Measurements/BreakTest_AluminiumBeam2/results2/2-0.15/collect_14.bin\n",
        "Opening file: ../../../Measurements/BreakTest_AluminiumBeam2/results2/2-0.15/collect_15.bin\n",
        "Closed file: ../../../Measurements/BreakTest_AluminiumBeam2/results2/2-0.15/collect_15.bin"
       ]
      },
      {
       "output_type": "stream",
       "stream": "stdout",
       "text": [
        "\n",
        "Opening file: ../../../Measurements/BreakTest_AluminiumBeam2/results2/2-0.15/collect_16.bin\n",
        "Closed file: ../../../Measurements/BreakTest_AluminiumBeam2/results2/2-0.15/collect_16.bin\n",
        "Opening file: ../../../Measurements/BreakTest_AluminiumBeam2/results2/2-0.15/collect_17.bin\n",
        "Closed file: ../../../Measurements/BreakTest_AluminiumBeam2/results2/2-0.15/collect_17.bin\n",
        "Opening file: ../../../Measurements/BreakTest_AluminiumBeam2/results2/2-0.15/collect_18.bin\n",
        "Closed file: ../../../Measurements/BreakTest_AluminiumBeam2/results2/2-0.15/collect_18.bin"
       ]
      },
      {
       "output_type": "stream",
       "stream": "stdout",
       "text": [
        "\n",
        "Opening file: ../../../Measurements/BreakTest_AluminiumBeam2/results2/2-0.15/collect_19.bin\n",
        "Closed file: ../../../Measurements/BreakTest_AluminiumBeam2/results2/2-0.15/collect_19.bin\n",
        "Opening file: ../../../Measurements/BreakTest_AluminiumBeam2/results2/2-0.15/collect_20.bin\n",
        "Closed file: ../../../Measurements/BreakTest_AluminiumBeam2/results2/2-0.15/collect_20.bin\n",
        "Opening file: ../../../Measurements/BreakTest_AluminiumBeam2/results2/2-0.15/collect_21.bin\n",
        "Closed file: ../../../Measurements/BreakTest_AluminiumBeam2/results2/2-0.15/collect_21.bin\n",
        "Opening file: ../../../Measurements/BreakTest_AluminiumBeam2/results2/2-0.15/collect_22.bin"
       ]
      },
      {
       "output_type": "stream",
       "stream": "stdout",
       "text": [
        "\n",
        "Closed file: ../../../Measurements/BreakTest_AluminiumBeam2/results2/2-0.15/collect_22.bin\n",
        "Opening file: ../../../Measurements/BreakTest_AluminiumBeam2/results2/2-0.15/collect_23.bin\n",
        "Closed file: ../../../Measurements/BreakTest_AluminiumBeam2/results2/2-0.15/collect_23.bin\n",
        "Opening file: ../../../Measurements/BreakTest_AluminiumBeam2/results2/2-0.15/collect_24.bin\n",
        "Closed file: ../../../Measurements/BreakTest_AluminiumBeam2/results2/2-0.15/collect_24.bin\n",
        "Opening file: ../../../Measurements/BreakTest_AluminiumBeam2/results2/2-0.15/collect_25.bin\n",
        "Closed file: ../../../Measurements/BreakTest_AluminiumBeam2/results2/2-0.15/collect_25.bin"
       ]
      },
      {
       "output_type": "stream",
       "stream": "stdout",
       "text": [
        "\n",
        "Opening file: ../../../Measurements/BreakTest_AluminiumBeam2/results2/2-0.15/collect_26.bin\n",
        "Closed file: ../../../Measurements/BreakTest_AluminiumBeam2/results2/2-0.15/collect_26.bin\n",
        "Opening file: ../../../Measurements/BreakTest_AluminiumBeam2/results2/2-0.15/collect_27.bin\n",
        "Closed file: ../../../Measurements/BreakTest_AluminiumBeam2/results2/2-0.15/collect_27.bin\n",
        "Opening file: ../../../Measurements/BreakTest_AluminiumBeam2/results2/2-0.15/collect_28.bin\n",
        "Closed file: ../../../Measurements/BreakTest_AluminiumBeam2/results2/2-0.15/collect_28.bin\n",
        "Opening file: ../../../Measurements/BreakTest_AluminiumBeam2/results2/2-0.15/collect_29.bin\n",
        "Closed file: ../../../Measurements/BreakTest_AluminiumBeam2/results2/2-0.15/collect_29.bin"
       ]
      },
      {
       "output_type": "stream",
       "stream": "stdout",
       "text": [
        "\n",
        "Opening file: ../../../Measurements/BreakTest_AluminiumBeam2/results2/2-0.15/collect_30.bin\n",
        "Closed file: ../../../Measurements/BreakTest_AluminiumBeam2/results2/2-0.15/collect_30.bin\n",
        "Opening file: ../../../Measurements/BreakTest_AluminiumBeam2/results2/2-0.15/collect_31.bin\n",
        "Closed file: ../../../Measurements/BreakTest_AluminiumBeam2/results2/2-0.15/collect_31.bin\n",
        "Opening file: ../../../Measurements/BreakTest_AluminiumBeam2/results2/2-0.15/collect_32.bin\n",
        "Closed file: ../../../Measurements/BreakTest_AluminiumBeam2/results2/2-0.15/collect_32.bin"
       ]
      },
      {
       "output_type": "stream",
       "stream": "stdout",
       "text": [
        "\n",
        "Opening file: ../../../Measurements/BreakTest_AluminiumBeam2/results2/2-0.15/collect_33.bin\n",
        "Closed file: ../../../Measurements/BreakTest_AluminiumBeam2/results2/2-0.15/collect_33.bin\n",
        "Opening file: ../../../Measurements/BreakTest_AluminiumBeam2/results2/2-0.15/collect_34.bin\n",
        "Closed file: ../../../Measurements/BreakTest_AluminiumBeam2/results2/2-0.15/collect_34.bin\n",
        "Opening file: ../../../Measurements/BreakTest_AluminiumBeam2/results2/2-0.15/collect_35.bin\n",
        "Closed file: ../../../Measurements/BreakTest_AluminiumBeam2/results2/2-0.15/collect_35.bin\n",
        "Opening file: ../../../Measurements/BreakTest_AluminiumBeam2/results2/2-0.15/collect_36.bin\n",
        "Closed file: ../../../Measurements/BreakTest_AluminiumBeam2/results2/2-0.15/collect_36.bin"
       ]
      },
      {
       "output_type": "stream",
       "stream": "stdout",
       "text": [
        "\n",
        "Opening file: ../../../Measurements/BreakTest_AluminiumBeam2/results2/2-0.15/collect_37.bin\n",
        "Closed file: ../../../Measurements/BreakTest_AluminiumBeam2/results2/2-0.15/collect_37.bin\n",
        "Opening file: ../../../Measurements/BreakTest_AluminiumBeam2/results2/2-0.15/collect_38.bin\n",
        "Closed file: ../../../Measurements/BreakTest_AluminiumBeam2/results2/2-0.15/collect_38.bin\n",
        "Opening file: ../../../Measurements/BreakTest_AluminiumBeam2/results2/2-0.15/collect_39.bin\n",
        "Closed file: ../../../Measurements/BreakTest_AluminiumBeam2/results2/2-0.15/collect_39.bin"
       ]
      },
      {
       "output_type": "stream",
       "stream": "stdout",
       "text": [
        "\n",
        "Opening file: ../../../Measurements/BreakTest_AluminiumBeam2/results2/2-0.15/collect_40.bin\n",
        "Closed file: ../../../Measurements/BreakTest_AluminiumBeam2/results2/2-0.15/collect_40.bin\n",
        "Opening file: ../../../Measurements/BreakTest_AluminiumBeam2/results2/2-0.15/collect_41.bin\n",
        "Closed file: ../../../Measurements/BreakTest_AluminiumBeam2/results2/2-0.15/collect_41.bin\n",
        "Opening file: ../../../Measurements/BreakTest_AluminiumBeam2/results2/2-0.15/collect_42.bin\n",
        "Closed file: ../../../Measurements/BreakTest_AluminiumBeam2/results2/2-0.15/collect_42.bin\n",
        "Opening file: ../../../Measurements/BreakTest_AluminiumBeam2/results2/2-0.15/collect_43.bin\n",
        "Closed file: ../../../Measurements/BreakTest_AluminiumBeam2/results2/2-0.15/collect_43.bin"
       ]
      },
      {
       "output_type": "stream",
       "stream": "stdout",
       "text": [
        "\n",
        "Opening file: ../../../Measurements/BreakTest_AluminiumBeam2/results2/2-0.15/collect_44.bin\n",
        "Closed file: ../../../Measurements/BreakTest_AluminiumBeam2/results2/2-0.15/collect_44.bin\n",
        "Opening file: ../../../Measurements/BreakTest_AluminiumBeam2/results2/2-0.15/collect_45.bin\n",
        "Closed file: ../../../Measurements/BreakTest_AluminiumBeam2/results2/2-0.15/collect_45.bin\n",
        "Opening file: ../../../Measurements/BreakTest_AluminiumBeam2/results2/2-0.15/collect_46.bin\n",
        "Closed file: ../../../Measurements/BreakTest_AluminiumBeam2/results2/2-0.15/collect_46.bin\n",
        "Opening file: ../../../Measurements/BreakTest_AluminiumBeam2/results2/2-0.15/collect_47.bin\n",
        "Closed file: ../../../Measurements/BreakTest_AluminiumBeam2/results2/2-0.15/collect_47.bin"
       ]
      },
      {
       "output_type": "stream",
       "stream": "stdout",
       "text": [
        "\n",
        "Opening file: ../../../Measurements/BreakTest_AluminiumBeam2/results2/2-0.15/collect_48.bin\n",
        "Closed file: ../../../Measurements/BreakTest_AluminiumBeam2/results2/2-0.15/collect_48.bin\n",
        "Opening file: ../../../Measurements/BreakTest_AluminiumBeam2/results2/2-0.15/collect_49.bin\n",
        "Closed file: ../../../Measurements/BreakTest_AluminiumBeam2/results2/2-0.15/collect_49.bin\n",
        "Opening file: ../../../Measurements/BreakTest_AluminiumBeam2/results2/2-0.15/collect_50.bin\n",
        "Closed file: ../../../Measurements/BreakTest_AluminiumBeam2/results2/2-0.15/collect_50.bin\n",
        "Opening file: ../../../Measurements/BreakTest_AluminiumBeam2/results2/2-0.15/collect_51.bin\n",
        "Closed file: ../../../Measurements/BreakTest_AluminiumBeam2/results2/2-0.15/collect_51.bin"
       ]
      },
      {
       "output_type": "stream",
       "stream": "stdout",
       "text": [
        "\n",
        "Opening file: ../../../Measurements/BreakTest_AluminiumBeam2/results2/2-0.15/collect_52.bin\n",
        "Closed file: ../../../Measurements/BreakTest_AluminiumBeam2/results2/2-0.15/collect_52.bin\n",
        "Opening file: ../../../Measurements/BreakTest_AluminiumBeam2/results2/2-0.15/collect_53.bin\n",
        "Closed file: ../../../Measurements/BreakTest_AluminiumBeam2/results2/2-0.15/collect_53.bin\n",
        "Opening file: ../../../Measurements/BreakTest_AluminiumBeam2/results2/2-0.15/collect_54.bin\n",
        "Closed file: ../../../Measurements/BreakTest_AluminiumBeam2/results2/2-0.15/collect_54.bin\n",
        "Opening file: ../../../Measurements/BreakTest_AluminiumBeam2/results2/2-0.15/collect_55.bin\n",
        "Closed file: ../../../Measurements/BreakTest_AluminiumBeam2/results2/2-0.15/collect_55.bin"
       ]
      },
      {
       "output_type": "stream",
       "stream": "stdout",
       "text": [
        "\n",
        "Opening file: ../../../Measurements/BreakTest_AluminiumBeam2/results2/2-0.15/collect_56.bin\n",
        "Closed file: ../../../Measurements/BreakTest_AluminiumBeam2/results2/2-0.15/collect_56.bin\n",
        "Opening file: ../../../Measurements/BreakTest_AluminiumBeam2/results2/2-0.15/collect_57.bin\n",
        "Closed file: ../../../Measurements/BreakTest_AluminiumBeam2/results2/2-0.15/collect_57.bin\n",
        "Opening file: ../../../Measurements/BreakTest_AluminiumBeam2/results2/2-0.15/collect_58.bin\n",
        "Closed file: ../../../Measurements/BreakTest_AluminiumBeam2/results2/2-0.15/collect_58.bin\n",
        "Opening file: ../../../Measurements/BreakTest_AluminiumBeam2/results2/2-0.15/collect_59.bin"
       ]
      },
      {
       "output_type": "stream",
       "stream": "stdout",
       "text": [
        "\n",
        "Closed file: ../../../Measurements/BreakTest_AluminiumBeam2/results2/2-0.15/collect_59.bin\n",
        "Opening file: ../../../Measurements/BreakTest_AluminiumBeam2/results2/2-0.15/collect_60.bin\n",
        "Closed file: ../../../Measurements/BreakTest_AluminiumBeam2/results2/2-0.15/collect_60.bin\n",
        "Opening file: ../../../Measurements/BreakTest_AluminiumBeam2/results2/2-0.15/collect_61.bin\n",
        "Closed file: ../../../Measurements/BreakTest_AluminiumBeam2/results2/2-0.15/collect_61.bin\n",
        "Opening file: ../../../Measurements/BreakTest_AluminiumBeam2/results2/2-0.15/collect_62.bin"
       ]
      },
      {
       "output_type": "stream",
       "stream": "stdout",
       "text": [
        "\n",
        "Closed file: ../../../Measurements/BreakTest_AluminiumBeam2/results2/2-0.15/collect_62.bin\n",
        "Opening file: ../../../Measurements/BreakTest_AluminiumBeam2/results2/2-0.15/collect_63.bin\n",
        "Closed file: ../../../Measurements/BreakTest_AluminiumBeam2/results2/2-0.15/collect_63.bin\n",
        "Opening file: ../../../Measurements/BreakTest_AluminiumBeam2/results2/2-0.15/collect_64.bin\n",
        "Closed file: ../../../Measurements/BreakTest_AluminiumBeam2/results2/2-0.15/collect_64.bin\n",
        "Opening file: ../../../Measurements/BreakTest_AluminiumBeam2/results2/2-0.15/collect_65.bin\n",
        "Closed file: ../../../Measurements/BreakTest_AluminiumBeam2/results2/2-0.15/collect_65.bin"
       ]
      },
      {
       "output_type": "stream",
       "stream": "stdout",
       "text": [
        "\n",
        "Opening file: ../../../Measurements/BreakTest_AluminiumBeam2/results2/2-0.15/collect_66.bin\n",
        "Closed file: ../../../Measurements/BreakTest_AluminiumBeam2/results2/2-0.15/collect_66.bin\n",
        "Opening file: ../../../Measurements/BreakTest_AluminiumBeam2/results2/2-0.15/collect_67.bin\n",
        "Closed file: ../../../Measurements/BreakTest_AluminiumBeam2/results2/2-0.15/collect_67.bin\n",
        "Opening file: ../../../Measurements/BreakTest_AluminiumBeam2/results2/2-0.15/collect_68.bin\n",
        "Closed file: ../../../Measurements/BreakTest_AluminiumBeam2/results2/2-0.15/collect_68.bin\n",
        "Opening file: ../../../Measurements/BreakTest_AluminiumBeam2/results2/2-0.15/collect_69.bin\n",
        "Closed file: ../../../Measurements/BreakTest_AluminiumBeam2/results2/2-0.15/collect_69.bin"
       ]
      },
      {
       "output_type": "stream",
       "stream": "stdout",
       "text": [
        "\n",
        "Opening file: ../../../Measurements/BreakTest_AluminiumBeam2/results2/2-0.15/collect_70.bin\n",
        "Closed file: ../../../Measurements/BreakTest_AluminiumBeam2/results2/2-0.15/collect_70.bin\n",
        "Opening file: ../../../Measurements/BreakTest_AluminiumBeam2/results2/2-0.15/collect_71.bin\n",
        "Closed file: ../../../Measurements/BreakTest_AluminiumBeam2/results2/2-0.15/collect_71.bin\n",
        "Opening file: ../../../Measurements/BreakTest_AluminiumBeam2/results2/2-0.15/collect_72.bin\n",
        "Closed file: ../../../Measurements/BreakTest_AluminiumBeam2/results2/2-0.15/collect_72.bin"
       ]
      },
      {
       "output_type": "stream",
       "stream": "stdout",
       "text": [
        "\n",
        "Opening file: ../../../Measurements/BreakTest_AluminiumBeam2/results2/2-0.15/collect_73.bin\n",
        "Closed file: ../../../Measurements/BreakTest_AluminiumBeam2/results2/2-0.15/collect_73.bin\n",
        "Opening file: ../../../Measurements/BreakTest_AluminiumBeam2/results2/2-0.15/collect_74.bin\n",
        "Closed file: ../../../Measurements/BreakTest_AluminiumBeam2/results2/2-0.15/collect_74.bin\n",
        "Opening file: ../../../Measurements/BreakTest_AluminiumBeam2/results2/2-0.15/collect_75.bin\n",
        "Closed file: ../../../Measurements/BreakTest_AluminiumBeam2/results2/2-0.15/collect_75.bin"
       ]
      },
      {
       "output_type": "stream",
       "stream": "stdout",
       "text": [
        "\n",
        "Opening file: ../../../Measurements/BreakTest_AluminiumBeam2/results2/2-0.15/collect_76.bin\n",
        "Closed file: ../../../Measurements/BreakTest_AluminiumBeam2/results2/2-0.15/collect_76.bin\n",
        "Opening file: ../../../Measurements/BreakTest_AluminiumBeam2/results2/2-0.15/collect_77.bin\n",
        "Closed file: ../../../Measurements/BreakTest_AluminiumBeam2/results2/2-0.15/collect_77.bin\n",
        "Opening file: ../../../Measurements/BreakTest_AluminiumBeam2/results2/2-0.15/collect_78.bin\n",
        "Closed file: ../../../Measurements/BreakTest_AluminiumBeam2/results2/2-0.15/collect_78.bin\n",
        "Opening file: ../../../Measurements/BreakTest_AluminiumBeam2/results2/2-0.15/collect_79.bin"
       ]
      },
      {
       "output_type": "stream",
       "stream": "stdout",
       "text": [
        "\n",
        "Closed file: ../../../Measurements/BreakTest_AluminiumBeam2/results2/2-0.15/collect_79.bin\n",
        "Opening file: ../../../Measurements/BreakTest_AluminiumBeam2/results2/2-0.15/collect_80.bin\n",
        "Closed file: ../../../Measurements/BreakTest_AluminiumBeam2/results2/2-0.15/collect_80.bin\n",
        "Opening file: ../../../Measurements/BreakTest_AluminiumBeam2/results2/2-0.15/collect_81.bin\n",
        "Closed file: ../../../Measurements/BreakTest_AluminiumBeam2/results2/2-0.15/collect_81.bin\n",
        "Opening file: ../../../Measurements/BreakTest_AluminiumBeam2/results2/2-0.15/collect_82.bin\n",
        "Closed file: ../../../Measurements/BreakTest_AluminiumBeam2/results2/2-0.15/collect_82.bin"
       ]
      },
      {
       "output_type": "stream",
       "stream": "stdout",
       "text": [
        "\n",
        "Opening file: ../../../Measurements/BreakTest_AluminiumBeam2/results2/2-0.15/collect_83.bin\n",
        "Closed file: ../../../Measurements/BreakTest_AluminiumBeam2/results2/2-0.15/collect_83.bin\n",
        "Opening file: ../../../Measurements/BreakTest_AluminiumBeam2/results2/2-0.15/collect_84.bin\n",
        "Closed file: ../../../Measurements/BreakTest_AluminiumBeam2/results2/2-0.15/collect_84.bin\n",
        "Opening file: ../../../Measurements/BreakTest_AluminiumBeam2/results2/2-0.15/collect_85.bin\n",
        "Closed file: ../../../Measurements/BreakTest_AluminiumBeam2/results2/2-0.15/collect_85.bin\n",
        "Opening file: ../../../Measurements/BreakTest_AluminiumBeam2/results2/2-0.15/collect_86.bin\n",
        "Closed file: ../../../Measurements/BreakTest_AluminiumBeam2/results2/2-0.15/collect_86.bin"
       ]
      },
      {
       "output_type": "stream",
       "stream": "stdout",
       "text": [
        "\n",
        "Opening file: ../../../Measurements/BreakTest_AluminiumBeam2/results2/2-0.15/collect_87.bin\n",
        "Closed file: ../../../Measurements/BreakTest_AluminiumBeam2/results2/2-0.15/collect_87.bin\n",
        "Opening file: ../../../Measurements/BreakTest_AluminiumBeam2/results2/2-0.15/collect_88.bin\n",
        "Closed file: ../../../Measurements/BreakTest_AluminiumBeam2/results2/2-0.15/collect_88.bin\n",
        "Opening file: ../../../Measurements/BreakTest_AluminiumBeam2/results2/2-0.15/collect_89.bin\n",
        "Closed file: ../../../Measurements/BreakTest_AluminiumBeam2/results2/2-0.15/collect_89.bin"
       ]
      },
      {
       "output_type": "stream",
       "stream": "stdout",
       "text": [
        "\n",
        "Opening file: ../../../Measurements/BreakTest_AluminiumBeam2/results2/2-0.15/collect_90.bin\n",
        "Closed file: ../../../Measurements/BreakTest_AluminiumBeam2/results2/2-0.15/collect_90.bin\n",
        "Opening file: ../../../Measurements/BreakTest_AluminiumBeam2/results2/2-0.15/collect_91.bin\n",
        "Closed file: ../../../Measurements/BreakTest_AluminiumBeam2/results2/2-0.15/collect_91.bin"
       ]
      },
      {
       "output_type": "stream",
       "stream": "stdout",
       "text": [
        "\n",
        "Opening file: ../../../Measurements/BreakTest_AluminiumBeam2/results2/2-0.15/collect_92.bin\n",
        "Closed file: ../../../Measurements/BreakTest_AluminiumBeam2/results2/2-0.15/collect_92.bin\n",
        "Opening file: ../../../Measurements/BreakTest_AluminiumBeam2/results2/2-0.15/collect_93.bin\n",
        "Closed file: ../../../Measurements/BreakTest_AluminiumBeam2/results2/2-0.15/collect_93.bin"
       ]
      },
      {
       "output_type": "stream",
       "stream": "stdout",
       "text": [
        "\n",
        "Opening file: ../../../Measurements/BreakTest_AluminiumBeam2/results2/2-0.15/collect_94.bin\n",
        "Closed file: ../../../Measurements/BreakTest_AluminiumBeam2/results2/2-0.15/collect_94.bin\n",
        "Opening file: ../../../Measurements/BreakTest_AluminiumBeam2/results2/2-0.15/collect_95.bin\n",
        "Closed file: ../../../Measurements/BreakTest_AluminiumBeam2/results2/2-0.15/collect_95.bin\n",
        "Opening file: ../../../Measurements/BreakTest_AluminiumBeam2/results2/2-0.15/collect_96.bin"
       ]
      },
      {
       "output_type": "stream",
       "stream": "stdout",
       "text": [
        "\n",
        "Closed file: ../../../Measurements/BreakTest_AluminiumBeam2/results2/2-0.15/collect_96.bin\n",
        "Opening file: ../../../Measurements/BreakTest_AluminiumBeam2/results2/2-0.15/collect_97.bin\n",
        "Closed file: ../../../Measurements/BreakTest_AluminiumBeam2/results2/2-0.15/collect_97.bin\n",
        "Opening file: ../../../Measurements/BreakTest_AluminiumBeam2/results2/2-0.15/collect_98.bin\n",
        "Closed file: ../../../Measurements/BreakTest_AluminiumBeam2/results2/2-0.15/collect_98.bin"
       ]
      },
      {
       "output_type": "stream",
       "stream": "stdout",
       "text": [
        "\n",
        "Opening file: ../../../Measurements/BreakTest_AluminiumBeam2/results2/2-0.15/collect_99.bin\n",
        "Closed file: ../../../Measurements/BreakTest_AluminiumBeam2/results2/2-0.15/collect_99.bin\n",
        "Opening file: ../../../Measurements/BreakTest_AluminiumBeam2/results2/2-0.15/collect_100.bin\n",
        "Closed file: ../../../Measurements/BreakTest_AluminiumBeam2/results2/2-0.15/collect_100.bin\n",
        "Opening file: ../../../Measurements/BreakTest_AluminiumBeam2/results2/2-0.15/collect_101.bin"
       ]
      },
      {
       "output_type": "stream",
       "stream": "stdout",
       "text": [
        "\n",
        "Closed file: ../../../Measurements/BreakTest_AluminiumBeam2/results2/2-0.15/collect_101.bin\n",
        "Opening file: ../../../Measurements/BreakTest_AluminiumBeam2/results2/2-0.15/collect_102.bin\n",
        "Closed file: ../../../Measurements/BreakTest_AluminiumBeam2/results2/2-0.15/collect_102.bin\n",
        "Opening file: ../../../Measurements/BreakTest_AluminiumBeam2/results2/2-0.15/collect_103.bin\n",
        "Closed file: ../../../Measurements/BreakTest_AluminiumBeam2/results2/2-0.15/collect_103.bin"
       ]
      },
      {
       "output_type": "stream",
       "stream": "stdout",
       "text": [
        "\n",
        "Opening file: ../../../Measurements/BreakTest_AluminiumBeam2/results2/2-0.15/collect_104.bin\n",
        "Closed file: ../../../Measurements/BreakTest_AluminiumBeam2/results2/2-0.15/collect_104.bin\n",
        "Opening file: ../../../Measurements/BreakTest_AluminiumBeam2/results2/2-0.15/collect_105.bin\n",
        "Closed file: ../../../Measurements/BreakTest_AluminiumBeam2/results2/2-0.15/collect_105.bin"
       ]
      },
      {
       "output_type": "stream",
       "stream": "stdout",
       "text": [
        "\n",
        "Opening file: ../../../Measurements/BreakTest_AluminiumBeam2/results2/2-0.15/collect_106.bin\n",
        "Closed file: ../../../Measurements/BreakTest_AluminiumBeam2/results2/2-0.15/collect_106.bin\n",
        "Opening file: ../../../Measurements/BreakTest_AluminiumBeam2/results2/2-0.15/collect_107.bin\n",
        "Closed file: ../../../Measurements/BreakTest_AluminiumBeam2/results2/2-0.15/collect_107.bin"
       ]
      },
      {
       "output_type": "stream",
       "stream": "stdout",
       "text": [
        "\n",
        "Opening file: ../../../Measurements/BreakTest_AluminiumBeam2/results2/2-0.15/collect_108.bin\n",
        "Closed file: ../../../Measurements/BreakTest_AluminiumBeam2/results2/2-0.15/collect_108.bin\n",
        "Opening file: ../../../Measurements/BreakTest_AluminiumBeam2/results2/2-0.15/collect_109.bin\n",
        "Closed file: ../../../Measurements/BreakTest_AluminiumBeam2/results2/2-0.15/collect_109.bin"
       ]
      },
      {
       "output_type": "stream",
       "stream": "stdout",
       "text": [
        "\n",
        "Opening file: ../../../Measurements/BreakTest_AluminiumBeam2/results2/2-0.15/collect_110.bin\n",
        "Closed file: ../../../Measurements/BreakTest_AluminiumBeam2/results2/2-0.15/collect_110.bin\n",
        "Opening file: ../../../Measurements/BreakTest_AluminiumBeam2/results2/2-0.15/collect_111.bin\n",
        "Closed file: ../../../Measurements/BreakTest_AluminiumBeam2/results2/2-0.15/collect_111.bin\n",
        "Opening file: ../../../Measurements/BreakTest_AluminiumBeam2/results2/2-0.15/collect_112.bin"
       ]
      },
      {
       "output_type": "stream",
       "stream": "stdout",
       "text": [
        "\n",
        "Closed file: ../../../Measurements/BreakTest_AluminiumBeam2/results2/2-0.15/collect_112.bin\n",
        "Opening file: ../../../Measurements/BreakTest_AluminiumBeam2/results2/2-0.15/collect_113.bin\n",
        "Closed file: ../../../Measurements/BreakTest_AluminiumBeam2/results2/2-0.15/collect_113.bin\n",
        "Opening file: ../../../Measurements/BreakTest_AluminiumBeam2/results2/2-0.15/collect_114.bin\n",
        "Closed file: ../../../Measurements/BreakTest_AluminiumBeam2/results2/2-0.15/collect_114.bin"
       ]
      },
      {
       "output_type": "stream",
       "stream": "stdout",
       "text": [
        "\n",
        "Opening file: ../../../Measurements/BreakTest_AluminiumBeam2/results2/2-0.15/collect_115.bin\n",
        "Closed file: ../../../Measurements/BreakTest_AluminiumBeam2/results2/2-0.15/collect_115.bin\n",
        "Opening file: ../../../Measurements/BreakTest_AluminiumBeam2/results2/2-0.15/collect_116.bin\n",
        "Closed file: ../../../Measurements/BreakTest_AluminiumBeam2/results2/2-0.15/collect_116.bin"
       ]
      },
      {
       "output_type": "stream",
       "stream": "stdout",
       "text": [
        "\n",
        "Opening file: ../../../Measurements/BreakTest_AluminiumBeam2/results2/2-0.15/collect_117.bin\n",
        "Closed file: ../../../Measurements/BreakTest_AluminiumBeam2/results2/2-0.15/collect_117.bin\n",
        "Opening file: ../../../Measurements/BreakTest_AluminiumBeam2/results2/2-0.15/collect_118.bin\n",
        "Closed file: ../../../Measurements/BreakTest_AluminiumBeam2/results2/2-0.15/collect_118.bin\n",
        "Opening file: ../../../Measurements/BreakTest_AluminiumBeam2/results2/2-0.15/collect_119.bin"
       ]
      },
      {
       "output_type": "stream",
       "stream": "stdout",
       "text": [
        "\n",
        "Closed file: ../../../Measurements/BreakTest_AluminiumBeam2/results2/2-0.15/collect_119.bin\n",
        "Opening file: ../../../Measurements/BreakTest_AluminiumBeam2/results2/2-0.15/collect_120.bin\n",
        "Closed file: ../../../Measurements/BreakTest_AluminiumBeam2/results2/2-0.15/collect_120.bin\n",
        "Opening file: ../../../Measurements/BreakTest_AluminiumBeam2/results2/2-0.15/collect_121.bin\n",
        "Closed file: ../../../Measurements/BreakTest_AluminiumBeam2/results2/2-0.15/collect_121.bin"
       ]
      },
      {
       "output_type": "stream",
       "stream": "stdout",
       "text": [
        "\n",
        "Opening file: ../../../Measurements/BreakTest_AluminiumBeam2/results2/2-0.15/collect_122.bin\n",
        "Closed file: ../../../Measurements/BreakTest_AluminiumBeam2/results2/2-0.15/collect_122.bin\n",
        "Opening file: ../../../Measurements/BreakTest_AluminiumBeam2/results2/2-0.15/collect_123.bin\n",
        "Closed file: ../../../Measurements/BreakTest_AluminiumBeam2/results2/2-0.15/collect_123.bin\n",
        "Opening file: ../../../Measurements/BreakTest_AluminiumBeam2/results2/2-0.15/collect_124.bin"
       ]
      },
      {
       "output_type": "stream",
       "stream": "stdout",
       "text": [
        "\n",
        "Closed file: ../../../Measurements/BreakTest_AluminiumBeam2/results2/2-0.15/collect_124.bin\n",
        "Opening file: ../../../Measurements/BreakTest_AluminiumBeam2/results2/2-0.15/collect_125.bin\n",
        "Closed file: ../../../Measurements/BreakTest_AluminiumBeam2/results2/2-0.15/collect_125.bin\n",
        "Opening file: ../../../Measurements/BreakTest_AluminiumBeam2/results2/2-0.15/collect_126.bin\n",
        "Closed file: ../../../Measurements/BreakTest_AluminiumBeam2/results2/2-0.15/collect_126.bin"
       ]
      },
      {
       "output_type": "stream",
       "stream": "stdout",
       "text": [
        "\n",
        "Opening file: ../../../Measurements/BreakTest_AluminiumBeam2/results2/2-0.15/collect_127.bin\n",
        "Closed file: ../../../Measurements/BreakTest_AluminiumBeam2/results2/2-0.15/collect_127.bin\n",
        "Opening file: ../../../Measurements/BreakTest_AluminiumBeam2/results2/2-0.15/collect_128.bin\n",
        "Closed file: ../../../Measurements/BreakTest_AluminiumBeam2/results2/2-0.15/collect_128.bin"
       ]
      },
      {
       "output_type": "stream",
       "stream": "stdout",
       "text": [
        "\n",
        "Opening file: ../../../Measurements/BreakTest_AluminiumBeam2/results2/2-0.15/collect_129.bin\n",
        "Closed file: ../../../Measurements/BreakTest_AluminiumBeam2/results2/2-0.15/collect_129.bin\n",
        "Opening file: ../../../Measurements/BreakTest_AluminiumBeam2/results2/2-0.15/collect_130.bin\n",
        "Closed file: ../../../Measurements/BreakTest_AluminiumBeam2/results2/2-0.15/collect_130.bin\n",
        "Opening file: ../../../Measurements/BreakTest_AluminiumBeam2/results2/2-0.15/collect_131.bin"
       ]
      },
      {
       "output_type": "stream",
       "stream": "stdout",
       "text": [
        "\n",
        "Closed file: ../../../Measurements/BreakTest_AluminiumBeam2/results2/2-0.15/collect_131.bin\n",
        "Opening file: ../../../Measurements/BreakTest_AluminiumBeam2/results2/2-0.15/collect_132.bin\n",
        "Closed file: ../../../Measurements/BreakTest_AluminiumBeam2/results2/2-0.15/collect_132.bin\n",
        "Opening file: ../../../Measurements/BreakTest_AluminiumBeam2/results2/2-0.15/collect_133.bin\n",
        "Closed file: ../../../Measurements/BreakTest_AluminiumBeam2/results2/2-0.15/collect_133.bin"
       ]
      },
      {
       "output_type": "stream",
       "stream": "stdout",
       "text": [
        "\n",
        "Opening file: ../../../Measurements/BreakTest_AluminiumBeam2/results2/2-0.15/collect_134.bin\n",
        "Closed file: ../../../Measurements/BreakTest_AluminiumBeam2/results2/2-0.15/collect_134.bin\n",
        "Opening file: ../../../Measurements/BreakTest_AluminiumBeam2/results2/2-0.15/collect_135.bin\n",
        "Closed file: ../../../Measurements/BreakTest_AluminiumBeam2/results2/2-0.15/collect_135.bin"
       ]
      },
      {
       "output_type": "stream",
       "stream": "stdout",
       "text": [
        "\n",
        "Opening file: ../../../Measurements/BreakTest_AluminiumBeam2/results2/2-0.15/collect_136.bin\n",
        "Closed file: ../../../Measurements/BreakTest_AluminiumBeam2/results2/2-0.15/collect_136.bin\n",
        "Opening file: ../../../Measurements/BreakTest_AluminiumBeam2/results2/2-0.15/collect_137.bin\n",
        "Closed file: ../../../Measurements/BreakTest_AluminiumBeam2/results2/2-0.15/collect_137.bin\n",
        "Opening file: ../../../Measurements/BreakTest_AluminiumBeam2/results2/2-0.15/collect_138.bin"
       ]
      },
      {
       "output_type": "stream",
       "stream": "stdout",
       "text": [
        "\n",
        "Closed file: ../../../Measurements/BreakTest_AluminiumBeam2/results2/2-0.15/collect_138.bin\n",
        "Opening file: ../../../Measurements/BreakTest_AluminiumBeam2/results2/2-0.15/collect_139.bin\n",
        "Closed file: ../../../Measurements/BreakTest_AluminiumBeam2/results2/2-0.15/collect_139.bin\n",
        "Opening file: ../../../Measurements/BreakTest_AluminiumBeam2/results2/2-0.15/collect_140.bin"
       ]
      },
      {
       "output_type": "stream",
       "stream": "stdout",
       "text": [
        "\n",
        "Closed file: ../../../Measurements/BreakTest_AluminiumBeam2/results2/2-0.15/collect_140.bin\n",
        "Opening file: ../../../Measurements/BreakTest_AluminiumBeam2/results2/2-0.15/collect_141.bin\n",
        "Closed file: ../../../Measurements/BreakTest_AluminiumBeam2/results2/2-0.15/collect_141.bin\n",
        "Opening file: ../../../Measurements/BreakTest_AluminiumBeam2/results2/2-0.15/collect_142.bin\n",
        "Closed file: ../../../Measurements/BreakTest_AluminiumBeam2/results2/2-0.15/collect_142.bin"
       ]
      },
      {
       "output_type": "stream",
       "stream": "stdout",
       "text": [
        "\n",
        "Opening file: ../../../Measurements/BreakTest_AluminiumBeam2/results2/2-0.15/collect_143.bin\n",
        "Closed file: ../../../Measurements/BreakTest_AluminiumBeam2/results2/2-0.15/collect_143.bin\n",
        "Opening file: ../../../Measurements/BreakTest_AluminiumBeam2/results2/2-0.15/collect_144.bin\n",
        "Closed file: ../../../Measurements/BreakTest_AluminiumBeam2/results2/2-0.15/collect_144.bin"
       ]
      },
      {
       "output_type": "stream",
       "stream": "stdout",
       "text": [
        "\n",
        "Opening file: ../../../Measurements/BreakTest_AluminiumBeam2/results2/2-0.15/collect_145.bin\n",
        "Closed file: ../../../Measurements/BreakTest_AluminiumBeam2/results2/2-0.15/collect_145.bin\n",
        "Opening file: ../../../Measurements/BreakTest_AluminiumBeam2/results2/2-0.15/collect_146.bin\n",
        "Closed file: ../../../Measurements/BreakTest_AluminiumBeam2/results2/2-0.15/collect_146.bin\n",
        "Opening file: ../../../Measurements/BreakTest_AluminiumBeam2/results2/2-0.15/collect_147.bin"
       ]
      },
      {
       "output_type": "stream",
       "stream": "stdout",
       "text": [
        "\n",
        "Closed file: ../../../Measurements/BreakTest_AluminiumBeam2/results2/2-0.15/collect_147.bin\n",
        "Opening file: ../../../Measurements/BreakTest_AluminiumBeam2/results2/2-0.15/collect_148.bin\n",
        "Closed file: ../../../Measurements/BreakTest_AluminiumBeam2/results2/2-0.15/collect_148.bin\n",
        "Opening file: ../../../Measurements/BreakTest_AluminiumBeam2/results2/2-0.15/collect_149.bin\n",
        "Closed file: ../../../Measurements/BreakTest_AluminiumBeam2/results2/2-0.15/collect_149.bin"
       ]
      },
      {
       "output_type": "stream",
       "stream": "stdout",
       "text": [
        "\n",
        "Opening file: ../../../Measurements/BreakTest_AluminiumBeam2/results2/2-0.15/collect_150.bin\n",
        "Closed file: ../../../Measurements/BreakTest_AluminiumBeam2/results2/2-0.15/collect_150.bin\n",
        "Opening file: ../../../Measurements/BreakTest_AluminiumBeam2/results2/2-0.15/collect_151.bin\n",
        "Closed file: ../../../Measurements/BreakTest_AluminiumBeam2/results2/2-0.15/collect_151.bin\n",
        "Opening file: ../../../Measurements/BreakTest_AluminiumBeam2/results2/2-0.15/collect_152.bin\n",
        "Closed file: ../../../Measurements/BreakTest_AluminiumBeam2/results2/2-0.15/collect_152.bin"
       ]
      },
      {
       "output_type": "stream",
       "stream": "stdout",
       "text": [
        "\n",
        "Opening file: ../../../Measurements/BreakTest_AluminiumBeam2/results2/2-0.15/collect_153.bin\n",
        "Closed file: ../../../Measurements/BreakTest_AluminiumBeam2/results2/2-0.15/collect_153.bin\n",
        "Opening file: ../../../Measurements/BreakTest_AluminiumBeam2/results2/2-0.15/collect_154.bin\n",
        "Closed file: ../../../Measurements/BreakTest_AluminiumBeam2/results2/2-0.15/collect_154.bin"
       ]
      },
      {
       "output_type": "stream",
       "stream": "stdout",
       "text": [
        "\n",
        "Opening file: ../../../Measurements/BreakTest_AluminiumBeam2/results2/2-0.15/collect_155.bin\n",
        "Closed file: ../../../Measurements/BreakTest_AluminiumBeam2/results2/2-0.15/collect_155.bin\n",
        "Opening file: ../../../Measurements/BreakTest_AluminiumBeam2/results2/2-0.15/collect_156.bin\n",
        "Closed file: ../../../Measurements/BreakTest_AluminiumBeam2/results2/2-0.15/collect_156.bin\n",
        "Opening file: ../../../Measurements/BreakTest_AluminiumBeam2/results2/2-0.15/collect_157.bin\n",
        "Closed file: ../../../Measurements/BreakTest_AluminiumBeam2/results2/2-0.15/collect_157.bin"
       ]
      },
      {
       "output_type": "stream",
       "stream": "stdout",
       "text": [
        "\n",
        "Opening file: ../../../Measurements/BreakTest_AluminiumBeam2/results2/2-0.15/collect_158.bin\n",
        "Closed file: ../../../Measurements/BreakTest_AluminiumBeam2/results2/2-0.15/collect_158.bin\n",
        "Opening file: ../../../Measurements/BreakTest_AluminiumBeam2/results2/2-0.15/collect_159.bin\n",
        "Closed file: ../../../Measurements/BreakTest_AluminiumBeam2/results2/2-0.15/collect_159.bin\n",
        "Opening file: ../../../Measurements/BreakTest_AluminiumBeam2/results2/2-0.15/collect_160.bin\n",
        "Closed file: ../../../Measurements/BreakTest_AluminiumBeam2/results2/2-0.15/collect_160.bin"
       ]
      },
      {
       "output_type": "stream",
       "stream": "stdout",
       "text": [
        "\n",
        "Opening file: ../../../Measurements/BreakTest_AluminiumBeam2/results2/2-0.15/collect_161.bin\n",
        "Closed file: ../../../Measurements/BreakTest_AluminiumBeam2/results2/2-0.15/collect_161.bin\n",
        "Opening file: ../../../Measurements/BreakTest_AluminiumBeam2/results2/2-0.15/collect_162.bin\n",
        "Closed file: ../../../Measurements/BreakTest_AluminiumBeam2/results2/2-0.15/collect_162.bin\n",
        "Opening file: ../../../Measurements/BreakTest_AluminiumBeam2/results2/2-0.15/collect_163.bin"
       ]
      },
      {
       "output_type": "stream",
       "stream": "stdout",
       "text": [
        "\n",
        "Closed file: ../../../Measurements/BreakTest_AluminiumBeam2/results2/2-0.15/collect_163.bin\n",
        "Opening file: ../../../Measurements/BreakTest_AluminiumBeam2/results2/2-0.15/collect_164.bin\n",
        "Closed file: ../../../Measurements/BreakTest_AluminiumBeam2/results2/2-0.15/collect_164.bin\n",
        "Opening file: ../../../Measurements/BreakTest_AluminiumBeam2/results2/2-0.15/collect_165.bin\n",
        "Closed file: ../../../Measurements/BreakTest_AluminiumBeam2/results2/2-0.15/collect_165.bin"
       ]
      },
      {
       "output_type": "stream",
       "stream": "stdout",
       "text": [
        "\n",
        "Opening file: ../../../Measurements/BreakTest_AluminiumBeam2/results2/2-0.15/collect_166.bin\n",
        "Closed file: ../../../Measurements/BreakTest_AluminiumBeam2/results2/2-0.15/collect_166.bin\n",
        "Opening file: ../../../Measurements/BreakTest_AluminiumBeam2/results2/2-0.15/collect_167.bin\n",
        "Closed file: ../../../Measurements/BreakTest_AluminiumBeam2/results2/2-0.15/collect_167.bin"
       ]
      },
      {
       "output_type": "stream",
       "stream": "stdout",
       "text": [
        "\n",
        "Opening file: ../../../Measurements/BreakTest_AluminiumBeam2/results2/2-0.15/collect_168.bin\n",
        "Closed file: ../../../Measurements/BreakTest_AluminiumBeam2/results2/2-0.15/collect_168.bin\n",
        "Opening file: ../../../Measurements/BreakTest_AluminiumBeam2/results2/2-0.15/collect_169.bin\n",
        "Closed file: ../../../Measurements/BreakTest_AluminiumBeam2/results2/2-0.15/collect_169.bin\n",
        "Opening file: ../../../Measurements/BreakTest_AluminiumBeam2/results2/2-0.15/collect_170.bin"
       ]
      },
      {
       "output_type": "stream",
       "stream": "stdout",
       "text": [
        "\n",
        "Closed file: ../../../Measurements/BreakTest_AluminiumBeam2/results2/2-0.15/collect_170.bin\n",
        "Opening file: ../../../Measurements/BreakTest_AluminiumBeam2/results2/2-0.15/collect_171.bin\n",
        "Closed file: ../../../Measurements/BreakTest_AluminiumBeam2/results2/2-0.15/collect_171.bin\n",
        "Opening file: ../../../Measurements/BreakTest_AluminiumBeam2/results2/2-0.15/collect_172.bin\n",
        "Closed file: ../../../Measurements/BreakTest_AluminiumBeam2/results2/2-0.15/collect_172.bin"
       ]
      },
      {
       "output_type": "stream",
       "stream": "stdout",
       "text": [
        "\n",
        "Opening file: ../../../Measurements/BreakTest_AluminiumBeam2/results2/2-0.15/collect_173.bin\n",
        "Closed file: ../../../Measurements/BreakTest_AluminiumBeam2/results2/2-0.15/collect_173.bin\n",
        "Opening file: ../../../Measurements/BreakTest_AluminiumBeam2/results2/2-0.15/collect_174.bin\n",
        "Closed file: ../../../Measurements/BreakTest_AluminiumBeam2/results2/2-0.15/collect_174.bin\n",
        "Opening file: ../../../Measurements/BreakTest_AluminiumBeam2/results2/2-0.15/collect_175.bin"
       ]
      },
      {
       "output_type": "stream",
       "stream": "stdout",
       "text": [
        "\n",
        "Closed file: ../../../Measurements/BreakTest_AluminiumBeam2/results2/2-0.15/collect_175.bin\n",
        "Opening file: ../../../Measurements/BreakTest_AluminiumBeam2/results2/2-0.15/collect_176.bin\n",
        "Closed file: ../../../Measurements/BreakTest_AluminiumBeam2/results2/2-0.15/collect_176.bin\n",
        "Opening file: ../../../Measurements/BreakTest_AluminiumBeam2/results2/2-0.15/collect_177.bin\n",
        "Closed file: ../../../Measurements/BreakTest_AluminiumBeam2/results2/2-0.15/collect_177.bin"
       ]
      },
      {
       "output_type": "stream",
       "stream": "stdout",
       "text": [
        "\n",
        "Opening file: ../../../Measurements/BreakTest_AluminiumBeam2/results2/2-0.15/collect_178.bin\n",
        "Closed file: ../../../Measurements/BreakTest_AluminiumBeam2/results2/2-0.15/collect_178.bin\n",
        "Opening file: ../../../Measurements/BreakTest_AluminiumBeam2/results2/2-0.15/collect_179.bin\n",
        "Closed file: ../../../Measurements/BreakTest_AluminiumBeam2/results2/2-0.15/collect_179.bin\n",
        "Opening file: ../../../Measurements/BreakTest_AluminiumBeam2/results2/2-0.15/collect_180.bin\n",
        "Closed file: ../../../Measurements/BreakTest_AluminiumBeam2/results2/2-0.15/collect_180.bin"
       ]
      },
      {
       "output_type": "stream",
       "stream": "stdout",
       "text": [
        "\n",
        "Opening file: ../../../Measurements/BreakTest_AluminiumBeam2/results2/2-0.15/collect_181.bin\n",
        "Closed file: ../../../Measurements/BreakTest_AluminiumBeam2/results2/2-0.15/collect_181.bin\n",
        "Opening file: ../../../Measurements/BreakTest_AluminiumBeam2/results2/2-0.15/collect_182.bin\n",
        "Closed file: ../../../Measurements/BreakTest_AluminiumBeam2/results2/2-0.15/collect_182.bin\n",
        "Opening file: ../../../Measurements/BreakTest_AluminiumBeam2/results2/2-0.15/collect_183.bin\n",
        "Closed file: ../../../Measurements/BreakTest_AluminiumBeam2/results2/2-0.15/collect_183.bin"
       ]
      },
      {
       "output_type": "stream",
       "stream": "stdout",
       "text": [
        "\n",
        "Opening file: ../../../Measurements/BreakTest_AluminiumBeam2/results2/2-0.15/collect_184.bin\n",
        "Closed file: ../../../Measurements/BreakTest_AluminiumBeam2/results2/2-0.15/collect_184.bin\n",
        "Opening file: ../../../Measurements/BreakTest_AluminiumBeam2/results2/2-0.15/collect_185.bin\n",
        "Closed file: ../../../Measurements/BreakTest_AluminiumBeam2/results2/2-0.15/collect_185.bin\n",
        "Opening file: ../../../Measurements/BreakTest_AluminiumBeam2/results2/2-0.15/collect_186.bin\n",
        "Closed file: ../../../Measurements/BreakTest_AluminiumBeam2/results2/2-0.15/collect_186.bin"
       ]
      },
      {
       "output_type": "stream",
       "stream": "stdout",
       "text": [
        "\n",
        "Opening file: ../../../Measurements/BreakTest_AluminiumBeam2/results2/2-0.15/collect_187.bin\n",
        "Closed file: ../../../Measurements/BreakTest_AluminiumBeam2/results2/2-0.15/collect_187.bin\n",
        "Opening file: ../../../Measurements/BreakTest_AluminiumBeam2/results2/2-0.15/collect_188.bin\n",
        "Closed file: ../../../Measurements/BreakTest_AluminiumBeam2/results2/2-0.15/collect_188.bin\n",
        "Opening file: ../../../Measurements/BreakTest_AluminiumBeam2/results2/2-0.15/collect_189.bin\n",
        "Closed file: ../../../Measurements/BreakTest_AluminiumBeam2/results2/2-0.15/collect_189.bin"
       ]
      },
      {
       "output_type": "stream",
       "stream": "stdout",
       "text": [
        "\n",
        "Opening file: ../../../Measurements/BreakTest_AluminiumBeam2/results2/2-0.15/collect_190.bin\n",
        "Closed file: ../../../Measurements/BreakTest_AluminiumBeam2/results2/2-0.15/collect_190.bin\n",
        "Opening file: ../../../Measurements/BreakTest_AluminiumBeam2/results2/2-0.15/collect_191.bin\n",
        "Closed file: ../../../Measurements/BreakTest_AluminiumBeam2/results2/2-0.15/collect_191.bin\n",
        "Opening file: ../../../Measurements/BreakTest_AluminiumBeam2/results2/2-0.15/collect_192.bin\n",
        "Closed file: ../../../Measurements/BreakTest_AluminiumBeam2/results2/2-0.15/collect_192.bin"
       ]
      },
      {
       "output_type": "stream",
       "stream": "stdout",
       "text": [
        "\n",
        "Opening file: ../../../Measurements/BreakTest_AluminiumBeam2/results2/2-0.15/collect_193.bin\n",
        "Closed file: ../../../Measurements/BreakTest_AluminiumBeam2/results2/2-0.15/collect_193.bin\n",
        "Opening file: ../../../Measurements/BreakTest_AluminiumBeam2/results2/2-0.15/collect_194.bin\n",
        "Closed file: ../../../Measurements/BreakTest_AluminiumBeam2/results2/2-0.15/collect_194.bin\n",
        "Opening file: ../../../Measurements/BreakTest_AluminiumBeam2/results2/2-0.15/collect_195.bin\n",
        "Closed file: ../../../Measurements/BreakTest_AluminiumBeam2/results2/2-0.15/collect_195.bin"
       ]
      },
      {
       "output_type": "stream",
       "stream": "stdout",
       "text": [
        "\n",
        "Opening file: ../../../Measurements/BreakTest_AluminiumBeam2/results2/2-0.15/collect_196.bin\n",
        "Closed file: ../../../Measurements/BreakTest_AluminiumBeam2/results2/2-0.15/collect_196.bin\n",
        "Opening file: ../../../Measurements/BreakTest_AluminiumBeam2/results2/2-0.15/collect_197.bin\n",
        "Closed file: ../../../Measurements/BreakTest_AluminiumBeam2/results2/2-0.15/collect_197.bin\n",
        "Opening file: ../../../Measurements/BreakTest_AluminiumBeam2/results2/2-0.15/collect_198.bin\n",
        "Closed file: ../../../Measurements/BreakTest_AluminiumBeam2/results2/2-0.15/collect_198.bin"
       ]
      },
      {
       "output_type": "stream",
       "stream": "stdout",
       "text": [
        "\n",
        "Opening file: ../../../Measurements/BreakTest_AluminiumBeam2/results2/2-0.15/collect_199.bin\n",
        "Closed file: ../../../Measurements/BreakTest_AluminiumBeam2/results2/2-0.15/collect_199.bin\n",
        "Opening file: ../../../Measurements/BreakTest_AluminiumBeam2/results2/2-0.15/collect_200.bin\n",
        "Closed file: ../../../Measurements/BreakTest_AluminiumBeam2/results2/2-0.15/collect_200.bin\n",
        "Opening file: ../../../Measurements/BreakTest_AluminiumBeam2/results2/2-0.15/collect_201.bin"
       ]
      },
      {
       "output_type": "stream",
       "stream": "stdout",
       "text": [
        "\n",
        "Closed file: ../../../Measurements/BreakTest_AluminiumBeam2/results2/2-0.15/collect_201.bin\n",
        "Opening file: ../../../Measurements/BreakTest_AluminiumBeam2/results2/2-0.15/collect_202.bin\n",
        "Closed file: ../../../Measurements/BreakTest_AluminiumBeam2/results2/2-0.15/collect_202.bin\n",
        "Opening file: ../../../Measurements/BreakTest_AluminiumBeam2/results2/2-0.15/collect_203.bin\n",
        "Closed file: ../../../Measurements/BreakTest_AluminiumBeam2/results2/2-0.15/collect_203.bin"
       ]
      },
      {
       "output_type": "stream",
       "stream": "stdout",
       "text": [
        "\n",
        "Opening file: ../../../Measurements/BreakTest_AluminiumBeam2/results2/2-0.15/collect_204.bin\n",
        "Closed file: ../../../Measurements/BreakTest_AluminiumBeam2/results2/2-0.15/collect_204.bin\n",
        "Opening file: ../../../Measurements/BreakTest_AluminiumBeam2/results2/2-0.15/collect_205.bin\n",
        "Closed file: ../../../Measurements/BreakTest_AluminiumBeam2/results2/2-0.15/collect_205.bin\n",
        "Opening file: ../../../Measurements/BreakTest_AluminiumBeam2/results2/2-0.15/collect_206.bin\n",
        "Closed file: ../../../Measurements/BreakTest_AluminiumBeam2/results2/2-0.15/collect_206.bin"
       ]
      },
      {
       "output_type": "stream",
       "stream": "stdout",
       "text": [
        "\n",
        "Opening file: ../../../Measurements/BreakTest_AluminiumBeam2/results2/2-0.15/collect_207.bin\n",
        "Closed file: ../../../Measurements/BreakTest_AluminiumBeam2/results2/2-0.15/collect_207.bin\n",
        "Opening file: ../../../Measurements/BreakTest_AluminiumBeam2/results2/2-0.15/collect_208.bin\n",
        "Closed file: ../../../Measurements/BreakTest_AluminiumBeam2/results2/2-0.15/collect_208.bin\n",
        "Opening file: ../../../Measurements/BreakTest_AluminiumBeam2/results2/2-0.15/collect_209.bin\n",
        "Closed file: ../../../Measurements/BreakTest_AluminiumBeam2/results2/2-0.15/collect_209.bin"
       ]
      },
      {
       "output_type": "stream",
       "stream": "stdout",
       "text": [
        "\n",
        "Opening file: ../../../Measurements/BreakTest_AluminiumBeam2/results2/2-0.15/collect_210.bin\n",
        "Closed file: ../../../Measurements/BreakTest_AluminiumBeam2/results2/2-0.15/collect_210.bin\n",
        "Opening file: ../../../Measurements/BreakTest_AluminiumBeam2/results2/2-0.15/collect_211.bin\n",
        "Closed file: ../../../Measurements/BreakTest_AluminiumBeam2/results2/2-0.15/collect_211.bin\n",
        "Opening file: ../../../Measurements/BreakTest_AluminiumBeam2/results2/2-0.15/collect_212.bin\n",
        "Closed file: ../../../Measurements/BreakTest_AluminiumBeam2/results2/2-0.15/collect_212.bin"
       ]
      },
      {
       "output_type": "stream",
       "stream": "stdout",
       "text": [
        "\n",
        "Opening file: ../../../Measurements/BreakTest_AluminiumBeam2/results2/2-0.15/collect_213.bin\n",
        "Closed file: ../../../Measurements/BreakTest_AluminiumBeam2/results2/2-0.15/collect_213.bin\n",
        "Opening file: ../../../Measurements/BreakTest_AluminiumBeam2/results2/2-0.15/collect_214.bin\n",
        "Closed file: ../../../Measurements/BreakTest_AluminiumBeam2/results2/2-0.15/collect_214.bin\n",
        "Opening file: ../../../Measurements/BreakTest_AluminiumBeam2/results2/2-0.15/collect_215.bin\n",
        "Closed file: ../../../Measurements/BreakTest_AluminiumBeam2/results2/2-0.15/collect_215.bin"
       ]
      },
      {
       "output_type": "stream",
       "stream": "stdout",
       "text": [
        "\n",
        "Opening file: ../../../Measurements/BreakTest_AluminiumBeam2/results2/2-0.15/collect_216.bin\n",
        "Closed file: ../../../Measurements/BreakTest_AluminiumBeam2/results2/2-0.15/collect_216.bin\n",
        "Opening file: ../../../Measurements/BreakTest_AluminiumBeam2/results2/2-0.15/collect_217.bin\n",
        "Closed file: ../../../Measurements/BreakTest_AluminiumBeam2/results2/2-0.15/collect_217.bin\n",
        "Opening file: ../../../Measurements/BreakTest_AluminiumBeam2/results2/2-0.15/collect_218.bin\n",
        "Closed file: ../../../Measurements/BreakTest_AluminiumBeam2/results2/2-0.15/collect_218.bin"
       ]
      },
      {
       "output_type": "stream",
       "stream": "stdout",
       "text": [
        "\n",
        "Opening file: ../../../Measurements/BreakTest_AluminiumBeam2/results2/2-0.15/collect_219.bin\n",
        "Closed file: ../../../Measurements/BreakTest_AluminiumBeam2/results2/2-0.15/collect_219.bin\n",
        "Opening file: ../../../Measurements/BreakTest_AluminiumBeam2/results2/2-0.15/collect_220.bin\n",
        "Closed file: ../../../Measurements/BreakTest_AluminiumBeam2/results2/2-0.15/collect_220.bin\n",
        "Opening file: ../../../Measurements/BreakTest_AluminiumBeam2/results2/2-0.15/collect_221.bin\n",
        "Closed file: ../../../Measurements/BreakTest_AluminiumBeam2/results2/2-0.15/collect_221.bin"
       ]
      },
      {
       "output_type": "stream",
       "stream": "stdout",
       "text": [
        "\n",
        "Opening file: ../../../Measurements/BreakTest_AluminiumBeam2/results2/2-0.15/collect_222.bin\n",
        "Closed file: ../../../Measurements/BreakTest_AluminiumBeam2/results2/2-0.15/collect_222.bin\n",
        "Opening file: ../../../Measurements/BreakTest_AluminiumBeam2/results2/2-0.15/collect_223.bin\n",
        "Closed file: ../../../Measurements/BreakTest_AluminiumBeam2/results2/2-0.15/collect_223.bin\n",
        "Opening file: ../../../Measurements/BreakTest_AluminiumBeam2/results2/2-0.15/collect_224.bin\n",
        "Closed file: ../../../Measurements/BreakTest_AluminiumBeam2/results2/2-0.15/collect_224.bin"
       ]
      },
      {
       "output_type": "stream",
       "stream": "stdout",
       "text": [
        "\n",
        "Opening file: ../../../Measurements/BreakTest_AluminiumBeam2/results2/2-0.15/collect_225.bin\n",
        "Closed file: ../../../Measurements/BreakTest_AluminiumBeam2/results2/2-0.15/collect_225.bin\n",
        "Opening file: ../../../Measurements/BreakTest_AluminiumBeam2/results2/2-0.15/collect_226.bin\n",
        "Closed file: ../../../Measurements/BreakTest_AluminiumBeam2/results2/2-0.15/collect_226.bin\n",
        "Opening file: ../../../Measurements/BreakTest_AluminiumBeam2/results2/2-0.15/collect_227.bin\n",
        "Closed file: ../../../Measurements/BreakTest_AluminiumBeam2/results2/2-0.15/collect_227.bin"
       ]
      },
      {
       "output_type": "stream",
       "stream": "stdout",
       "text": [
        "\n",
        "Opening file: ../../../Measurements/BreakTest_AluminiumBeam2/results2/2-0.15/collect_228.bin\n",
        "Closed file: ../../../Measurements/BreakTest_AluminiumBeam2/results2/2-0.15/collect_228.bin\n",
        "Opening file: ../../../Measurements/BreakTest_AluminiumBeam2/results2/2-0.15/collect_229.bin\n",
        "Closed file: ../../../Measurements/BreakTest_AluminiumBeam2/results2/2-0.15/collect_229.bin\n",
        "Opening file: ../../../Measurements/BreakTest_AluminiumBeam2/results2/2-0.15/collect_230.bin\n",
        "Closed file: ../../../Measurements/BreakTest_AluminiumBeam2/results2/2-0.15/collect_230.bin"
       ]
      },
      {
       "output_type": "stream",
       "stream": "stdout",
       "text": [
        "\n",
        "Opening file: ../../../Measurements/BreakTest_AluminiumBeam2/results2/2-0.15/collect_231.bin\n",
        "Closed file: ../../../Measurements/BreakTest_AluminiumBeam2/results2/2-0.15/collect_231.bin\n",
        "Opening file: ../../../Measurements/BreakTest_AluminiumBeam2/results2/2-0.15/collect_232.bin\n",
        "Closed file: ../../../Measurements/BreakTest_AluminiumBeam2/results2/2-0.15/collect_232.bin\n",
        "Opening file: ../../../Measurements/BreakTest_AluminiumBeam2/results2/2-0.15/collect_233.bin\n",
        "Closed file: ../../../Measurements/BreakTest_AluminiumBeam2/results2/2-0.15/collect_233.bin"
       ]
      },
      {
       "output_type": "stream",
       "stream": "stdout",
       "text": [
        "\n",
        "Opening file: ../../../Measurements/BreakTest_AluminiumBeam2/results2/2-0.15/collect_234.bin\n",
        "Closed file: ../../../Measurements/BreakTest_AluminiumBeam2/results2/2-0.15/collect_234.bin\n",
        "Opening file: ../../../Measurements/BreakTest_AluminiumBeam2/results2/2-0.15/collect_235.bin\n",
        "Closed file: ../../../Measurements/BreakTest_AluminiumBeam2/results2/2-0.15/collect_235.bin\n",
        "Opening file: ../../../Measurements/BreakTest_AluminiumBeam2/results2/2-0.15/collect_236.bin\n",
        "Closed file: ../../../Measurements/BreakTest_AluminiumBeam2/results2/2-0.15/collect_236.bin"
       ]
      },
      {
       "output_type": "stream",
       "stream": "stdout",
       "text": [
        "\n",
        "Opening file: ../../../Measurements/BreakTest_AluminiumBeam2/results2/2-0.15/collect_237.bin\n",
        "Closed file: ../../../Measurements/BreakTest_AluminiumBeam2/results2/2-0.15/collect_237.bin\n",
        "Opening file: ../../../Measurements/BreakTest_AluminiumBeam2/results2/2-0.15/collect_238.bin\n",
        "Closed file: ../../../Measurements/BreakTest_AluminiumBeam2/results2/2-0.15/collect_238.bin\n",
        "Opening file: ../../../Measurements/BreakTest_AluminiumBeam2/results2/2-0.15/collect_239.bin\n",
        "Closed file: ../../../Measurements/BreakTest_AluminiumBeam2/results2/2-0.15/collect_239.bin"
       ]
      },
      {
       "output_type": "stream",
       "stream": "stdout",
       "text": [
        "\n",
        "Opening file: ../../../Measurements/BreakTest_AluminiumBeam2/results2/2-0.15/collect_240.bin\n",
        "Closed file: ../../../Measurements/BreakTest_AluminiumBeam2/results2/2-0.15/collect_240.bin\n",
        "Opening file: ../../../Measurements/BreakTest_AluminiumBeam2/results2/2-0.15/collect_241.bin\n",
        "Closed file: ../../../Measurements/BreakTest_AluminiumBeam2/results2/2-0.15/collect_241.bin\n",
        "Opening file: ../../../Measurements/BreakTest_AluminiumBeam2/results2/2-0.15/collect_242.bin\n",
        "Closed file: ../../../Measurements/BreakTest_AluminiumBeam2/results2/2-0.15/collect_242.bin"
       ]
      },
      {
       "output_type": "stream",
       "stream": "stdout",
       "text": [
        "\n",
        "Opening file: ../../../Measurements/BreakTest_AluminiumBeam2/results2/2-0.15/collect_243.bin\n",
        "Closed file: ../../../Measurements/BreakTest_AluminiumBeam2/results2/2-0.15/collect_243.bin\n",
        "Opening file: ../../../Measurements/BreakTest_AluminiumBeam2/results2/2-0.15/collect_244.bin\n",
        "Closed file: ../../../Measurements/BreakTest_AluminiumBeam2/results2/2-0.15/collect_244.bin"
       ]
      },
      {
       "output_type": "stream",
       "stream": "stdout",
       "text": [
        "\n",
        "Opening file: ../../../Measurements/BreakTest_AluminiumBeam2/results2/2-0.15/collect_245.bin\n",
        "Closed file: ../../../Measurements/BreakTest_AluminiumBeam2/results2/2-0.15/collect_245.bin\n",
        "Opening file: ../../../Measurements/BreakTest_AluminiumBeam2/results2/2-0.15/collect_246.bin\n",
        "Closed file: ../../../Measurements/BreakTest_AluminiumBeam2/results2/2-0.15/collect_246.bin\n",
        "Opening file: ../../../Measurements/BreakTest_AluminiumBeam2/results2/2-0.15/collect_247.bin\n",
        "Closed file: ../../../Measurements/BreakTest_AluminiumBeam2/results2/2-0.15/collect_247.bin"
       ]
      },
      {
       "output_type": "stream",
       "stream": "stdout",
       "text": [
        "\n",
        "Opening file: ../../../Measurements/BreakTest_AluminiumBeam2/results2/2-0.15/collect_248.bin\n",
        "Closed file: ../../../Measurements/BreakTest_AluminiumBeam2/results2/2-0.15/collect_248.bin\n",
        "Opening file: ../../../Measurements/BreakTest_AluminiumBeam2/results2/2-0.15/collect_249.bin\n",
        "Closed file: ../../../Measurements/BreakTest_AluminiumBeam2/results2/2-0.15/collect_249.bin\n",
        "Opening file: ../../../Measurements/BreakTest_AluminiumBeam2/results2/2-0.15/collect_250.bin\n",
        "Closed file: ../../../Measurements/BreakTest_AluminiumBeam2/results2/2-0.15/collect_250.bin"
       ]
      },
      {
       "output_type": "stream",
       "stream": "stdout",
       "text": [
        "\n",
        "Opening file: ../../../Measurements/BreakTest_AluminiumBeam2/results2/2-0.15/collect_251.bin\n",
        "Closed file: ../../../Measurements/BreakTest_AluminiumBeam2/results2/2-0.15/collect_251.bin\n",
        "Opening file: ../../../Measurements/BreakTest_AluminiumBeam2/results2/2-0.15/collect_252.bin\n",
        "Closed file: ../../../Measurements/BreakTest_AluminiumBeam2/results2/2-0.15/collect_252.bin\n",
        "Opening file: ../../../Measurements/BreakTest_AluminiumBeam2/results2/2-0.15/collect_253.bin\n",
        "Closed file: ../../../Measurements/BreakTest_AluminiumBeam2/results2/2-0.15/collect_253.bin"
       ]
      },
      {
       "output_type": "stream",
       "stream": "stdout",
       "text": [
        "\n",
        "Opening file: ../../../Measurements/BreakTest_AluminiumBeam2/results2/2-0.15/collect_254.bin\n",
        "Closed file: ../../../Measurements/BreakTest_AluminiumBeam2/results2/2-0.15/collect_254.bin\n",
        "Opening file: ../../../Measurements/BreakTest_AluminiumBeam2/results2/2-0.15/collect_255.bin\n",
        "Closed file: ../../../Measurements/BreakTest_AluminiumBeam2/results2/2-0.15/collect_255.bin\n",
        "Opening file: ../../../Measurements/BreakTest_AluminiumBeam2/results2/2-0.15/collect_256.bin\n",
        "Closed file: ../../../Measurements/BreakTest_AluminiumBeam2/results2/2-0.15/collect_256.bin"
       ]
      },
      {
       "output_type": "stream",
       "stream": "stdout",
       "text": [
        "\n",
        "Opening file: ../../../Measurements/BreakTest_AluminiumBeam2/results2/2-0.15/collect_257.bin\n",
        "Closed file: ../../../Measurements/BreakTest_AluminiumBeam2/results2/2-0.15/collect_257.bin\n",
        "Opening file: ../../../Measurements/BreakTest_AluminiumBeam2/results2/2-0.15/collect_258.bin\n",
        "Closed file: ../../../Measurements/BreakTest_AluminiumBeam2/results2/2-0.15/collect_258.bin\n",
        "Opening file: ../../../Measurements/BreakTest_AluminiumBeam2/results2/2-0.15/collect_259.bin\n",
        "Closed file: ../../../Measurements/BreakTest_AluminiumBeam2/results2/2-0.15/collect_259.bin"
       ]
      },
      {
       "output_type": "stream",
       "stream": "stdout",
       "text": [
        "\n",
        "Opening file: ../../../Measurements/BreakTest_AluminiumBeam2/results2/2-0.15/collect_260.bin\n",
        "Closed file: ../../../Measurements/BreakTest_AluminiumBeam2/results2/2-0.15/collect_260.bin\n",
        "Opening file: ../../../Measurements/BreakTest_AluminiumBeam2/results2/2-0.15/collect_261.bin\n",
        "Closed file: ../../../Measurements/BreakTest_AluminiumBeam2/results2/2-0.15/collect_261.bin\n",
        "Opening file: ../../../Measurements/BreakTest_AluminiumBeam2/results2/2-0.15/collect_262.bin\n",
        "Closed file: ../../../Measurements/BreakTest_AluminiumBeam2/results2/2-0.15/collect_262.bin"
       ]
      },
      {
       "output_type": "stream",
       "stream": "stdout",
       "text": [
        "\n",
        "Opening file: ../../../Measurements/BreakTest_AluminiumBeam2/results2/2-0.15/collect_263.bin\n",
        "Closed file: ../../../Measurements/BreakTest_AluminiumBeam2/results2/2-0.15/collect_263.bin\n",
        "Opening file: ../../../Measurements/BreakTest_AluminiumBeam2/results2/2-0.15/collect_264.bin\n",
        "Closed file: ../../../Measurements/BreakTest_AluminiumBeam2/results2/2-0.15/collect_264.bin\n",
        "Opening file: ../../../Measurements/BreakTest_AluminiumBeam2/results2/2-0.15/collect_265.bin\n",
        "Closed file: ../../../Measurements/BreakTest_AluminiumBeam2/results2/2-0.15/collect_265.bin"
       ]
      },
      {
       "output_type": "stream",
       "stream": "stdout",
       "text": [
        "\n",
        "Opening file: ../../../Measurements/BreakTest_AluminiumBeam2/results2/2-0.15/collect_266.bin\n",
        "Closed file: ../../../Measurements/BreakTest_AluminiumBeam2/results2/2-0.15/collect_266.bin\n",
        "Opening file: ../../../Measurements/BreakTest_AluminiumBeam2/results2/2-0.15/collect_267.bin\n",
        "Closed file: ../../../Measurements/BreakTest_AluminiumBeam2/results2/2-0.15/collect_267.bin\n",
        "Opening file: ../../../Measurements/BreakTest_AluminiumBeam2/results2/2-0.15/collect_268.bin\n",
        "Closed file: ../../../Measurements/BreakTest_AluminiumBeam2/results2/2-0.15/collect_268.bin"
       ]
      },
      {
       "output_type": "stream",
       "stream": "stdout",
       "text": [
        "\n",
        "Opening file: ../../../Measurements/BreakTest_AluminiumBeam2/results2/2-0.15/collect_269.bin\n",
        "Closed file: ../../../Measurements/BreakTest_AluminiumBeam2/results2/2-0.15/collect_269.bin\n",
        "Opening file: ../../../Measurements/BreakTest_AluminiumBeam2/results2/2-0.15/collect_270.bin\n",
        "Closed file: ../../../Measurements/BreakTest_AluminiumBeam2/results2/2-0.15/collect_270.bin\n",
        "Opening file: ../../../Measurements/BreakTest_AluminiumBeam2/results2/2-0.15/collect_271.bin\n",
        "Closed file: ../../../Measurements/BreakTest_AluminiumBeam2/results2/2-0.15/collect_271.bin"
       ]
      },
      {
       "output_type": "stream",
       "stream": "stdout",
       "text": [
        "\n",
        "Opening file: ../../../Measurements/BreakTest_AluminiumBeam2/results2/2-0.15/collect_272.bin\n",
        "Closed file: ../../../Measurements/BreakTest_AluminiumBeam2/results2/2-0.15/collect_272.bin\n",
        "Opening file: ../../../Measurements/BreakTest_AluminiumBeam2/results2/2-0.15/collect_273.bin\n",
        "Closed file: ../../../Measurements/BreakTest_AluminiumBeam2/results2/2-0.15/collect_273.bin\n",
        "Opening file: ../../../Measurements/BreakTest_AluminiumBeam2/results2/2-0.15/collect_274.bin\n",
        "Closed file: ../../../Measurements/BreakTest_AluminiumBeam2/results2/2-0.15/collect_274.bin"
       ]
      },
      {
       "output_type": "stream",
       "stream": "stdout",
       "text": [
        "\n",
        "Opening file: ../../../Measurements/BreakTest_AluminiumBeam2/results2/2-0.15/collect_275.bin\n",
        "Closed file: ../../../Measurements/BreakTest_AluminiumBeam2/results2/2-0.15/collect_275.bin\n",
        "Opening file: ../../../Measurements/BreakTest_AluminiumBeam2/results2/2-0.15/collect_276.bin\n",
        "Closed file: ../../../Measurements/BreakTest_AluminiumBeam2/results2/2-0.15/collect_276.bin\n",
        "Opening file: ../../../Measurements/BreakTest_AluminiumBeam2/results2/2-0.15/collect_277.bin\n",
        "Closed file: ../../../Measurements/BreakTest_AluminiumBeam2/results2/2-0.15/collect_277.bin"
       ]
      },
      {
       "output_type": "stream",
       "stream": "stdout",
       "text": [
        "\n",
        "Opening file: ../../../Measurements/BreakTest_AluminiumBeam2/results2/2-0.15/collect_278.bin\n",
        "Closed file: ../../../Measurements/BreakTest_AluminiumBeam2/results2/2-0.15/collect_278.bin\n",
        "Opening file: ../../../Measurements/BreakTest_AluminiumBeam2/results2/2-0.15/collect_279.bin\n",
        "Closed file: ../../../Measurements/BreakTest_AluminiumBeam2/results2/2-0.15/collect_279.bin\n",
        "Opening file: ../../../Measurements/BreakTest_AluminiumBeam2/results2/2-0.15/collect_280.bin"
       ]
      },
      {
       "output_type": "stream",
       "stream": "stdout",
       "text": [
        "\n",
        "Closed file: ../../../Measurements/BreakTest_AluminiumBeam2/results2/2-0.15/collect_280.bin\n",
        "Opening file: ../../../Measurements/BreakTest_AluminiumBeam2/results2/2-0.15/collect_281.bin\n",
        "Closed file: ../../../Measurements/BreakTest_AluminiumBeam2/results2/2-0.15/collect_281.bin\n",
        "Opening file: ../../../Measurements/BreakTest_AluminiumBeam2/results2/2-0.15/collect_282.bin\n",
        "Closed file: ../../../Measurements/BreakTest_AluminiumBeam2/results2/2-0.15/collect_282.bin"
       ]
      },
      {
       "output_type": "stream",
       "stream": "stdout",
       "text": [
        "\n",
        "Opening file: ../../../Measurements/BreakTest_AluminiumBeam2/results2/2-0.15/collect_283.bin\n",
        "Closed file: ../../../Measurements/BreakTest_AluminiumBeam2/results2/2-0.15/collect_283.bin\n",
        "Opening file: ../../../Measurements/BreakTest_AluminiumBeam2/results2/2-0.15/collect_284.bin\n",
        "Closed file: ../../../Measurements/BreakTest_AluminiumBeam2/results2/2-0.15/collect_284.bin\n",
        "Opening file: ../../../Measurements/BreakTest_AluminiumBeam2/results2/2-0.15/collect_285.bin\n",
        "Closed file: ../../../Measurements/BreakTest_AluminiumBeam2/results2/2-0.15/collect_285.bin"
       ]
      },
      {
       "output_type": "stream",
       "stream": "stdout",
       "text": [
        "\n",
        "Opening file: ../../../Measurements/BreakTest_AluminiumBeam2/results2/2-0.15/collect_286.bin\n",
        "Closed file: ../../../Measurements/BreakTest_AluminiumBeam2/results2/2-0.15/collect_286.bin\n",
        "Opening file: ../../../Measurements/BreakTest_AluminiumBeam2/results2/2-0.15/collect_287.bin\n",
        "Closed file: ../../../Measurements/BreakTest_AluminiumBeam2/results2/2-0.15/collect_287.bin\n",
        "Opening file: ../../../Measurements/BreakTest_AluminiumBeam2/results2/2-0.15/collect_288.bin\n",
        "Closed file: ../../../Measurements/BreakTest_AluminiumBeam2/results2/2-0.15/collect_288.bin"
       ]
      },
      {
       "output_type": "stream",
       "stream": "stdout",
       "text": [
        "\n",
        "Opening file: ../../../Measurements/BreakTest_AluminiumBeam2/results2/2-0.15/collect_289.bin\n",
        "Closed file: ../../../Measurements/BreakTest_AluminiumBeam2/results2/2-0.15/collect_289.bin\n",
        "Opening file: ../../../Measurements/BreakTest_AluminiumBeam2/results2/2-0.15/collect_290.bin\n",
        "Closed file: ../../../Measurements/BreakTest_AluminiumBeam2/results2/2-0.15/collect_290.bin\n",
        "Opening file: ../../../Measurements/BreakTest_AluminiumBeam2/results2/2-0.15/collect_291.bin\n",
        "Closed file: ../../../Measurements/BreakTest_AluminiumBeam2/results2/2-0.15/collect_291.bin"
       ]
      },
      {
       "output_type": "stream",
       "stream": "stdout",
       "text": [
        "\n",
        "Opening file: ../../../Measurements/BreakTest_AluminiumBeam2/results2/2-0.15/collect_292.bin\n",
        "Closed file: ../../../Measurements/BreakTest_AluminiumBeam2/results2/2-0.15/collect_292.bin\n",
        "Opening file: ../../../Measurements/BreakTest_AluminiumBeam2/results2/2-0.15/collect_293.bin\n",
        "Closed file: ../../../Measurements/BreakTest_AluminiumBeam2/results2/2-0.15/collect_293.bin\n",
        "Opening file: ../../../Measurements/BreakTest_AluminiumBeam2/results2/2-0.15/collect_294.bin\n",
        "Closed file: ../../../Measurements/BreakTest_AluminiumBeam2/results2/2-0.15/collect_294.bin"
       ]
      },
      {
       "output_type": "stream",
       "stream": "stdout",
       "text": [
        "\n",
        "Opening file: ../../../Measurements/BreakTest_AluminiumBeam2/results2/2-0.15/collect_295.bin\n",
        "Closed file: ../../../Measurements/BreakTest_AluminiumBeam2/results2/2-0.15/collect_295.bin\n",
        "Opening file: ../../../Measurements/BreakTest_AluminiumBeam2/results2/2-0.15/collect_296.bin\n",
        "Closed file: ../../../Measurements/BreakTest_AluminiumBeam2/results2/2-0.15/collect_296.bin\n",
        "Opening file: ../../../Measurements/BreakTest_AluminiumBeam2/results2/2-0.15/collect_297.bin\n",
        "Closed file: ../../../Measurements/BreakTest_AluminiumBeam2/results2/2-0.15/collect_297.bin"
       ]
      },
      {
       "output_type": "stream",
       "stream": "stdout",
       "text": [
        "\n",
        "Opening file: ../../../Measurements/BreakTest_AluminiumBeam2/results2/2-0.15/collect_298.bin\n",
        "Closed file: ../../../Measurements/BreakTest_AluminiumBeam2/results2/2-0.15/collect_298.bin\n",
        "Opening file: ../../../Measurements/BreakTest_AluminiumBeam2/results2/2-0.15/collect_299.bin\n",
        "Closed file: ../../../Measurements/BreakTest_AluminiumBeam2/results2/2-0.15/collect_299.bin\n",
        "Opening file: ../../../Measurements/BreakTest_AluminiumBeam2/results2/2-0.15/collect_300.bin\n",
        "Closed file: ../../../Measurements/BreakTest_AluminiumBeam2/results2/2-0.15/collect_300.bin"
       ]
      },
      {
       "output_type": "stream",
       "stream": "stdout",
       "text": [
        "\n",
        "Opening file: ../../../Measurements/BreakTest_AluminiumBeam2/results2/2-0.15/collect_301.bin\n",
        "Closed file: ../../../Measurements/BreakTest_AluminiumBeam2/results2/2-0.15/collect_301.bin\n",
        "Opening file: ../../../Measurements/BreakTest_AluminiumBeam2/results2/2-0.15/collect_302.bin\n",
        "Closed file: ../../../Measurements/BreakTest_AluminiumBeam2/results2/2-0.15/collect_302.bin\n",
        "Opening file: ../../../Measurements/BreakTest_AluminiumBeam2/results2/2-0.15/collect_303.bin\n",
        "Closed file: ../../../Measurements/BreakTest_AluminiumBeam2/results2/2-0.15/collect_303.bin"
       ]
      },
      {
       "output_type": "stream",
       "stream": "stdout",
       "text": [
        "\n",
        "Opening file: ../../../Measurements/BreakTest_AluminiumBeam2/results2/2-0.15/collect_304.bin\n",
        "Closed file: ../../../Measurements/BreakTest_AluminiumBeam2/results2/2-0.15/collect_304.bin\n",
        "Opening file: ../../../Measurements/BreakTest_AluminiumBeam2/results2/2-0.15/collect_305.bin\n",
        "Closed file: ../../../Measurements/BreakTest_AluminiumBeam2/results2/2-0.15/collect_305.bin\n",
        "Opening file: ../../../Measurements/BreakTest_AluminiumBeam2/results2/2-0.15/collect_306.bin\n",
        "Closed file: ../../../Measurements/BreakTest_AluminiumBeam2/results2/2-0.15/collect_306.bin"
       ]
      },
      {
       "output_type": "stream",
       "stream": "stdout",
       "text": [
        "\n",
        "Opening file: ../../../Measurements/BreakTest_AluminiumBeam2/results2/2-0.15/collect_307.bin\n",
        "Closed file: ../../../Measurements/BreakTest_AluminiumBeam2/results2/2-0.15/collect_307.bin\n",
        "Opening file: ../../../Measurements/BreakTest_AluminiumBeam2/results2/2-0.15/collect_308.bin\n",
        "Closed file: ../../../Measurements/BreakTest_AluminiumBeam2/results2/2-0.15/collect_308.bin"
       ]
      },
      {
       "output_type": "stream",
       "stream": "stdout",
       "text": [
        "\n",
        "Opening file: ../../../Measurements/BreakTest_AluminiumBeam2/results2/2-0.15/collect_309.bin\n",
        "Closed file: ../../../Measurements/BreakTest_AluminiumBeam2/results2/2-0.15/collect_309.bin\n",
        "Opening file: ../../../Measurements/BreakTest_AluminiumBeam2/results2/2-0.15/collect_310.bin\n",
        "Closed file: ../../../Measurements/BreakTest_AluminiumBeam2/results2/2-0.15/collect_310.bin\n",
        "Opening file: ../../../Measurements/BreakTest_AluminiumBeam2/results2/2-0.15/collect_311.bin\n",
        "Closed file: ../../../Measurements/BreakTest_AluminiumBeam2/results2/2-0.15/collect_311.bin\n",
        "Opening file: ../../../Measurements/BreakTest_AluminiumBeam2/results2/2-0.15/collect_312.bin"
       ]
      },
      {
       "output_type": "stream",
       "stream": "stdout",
       "text": [
        "\n",
        "Closed file: ../../../Measurements/BreakTest_AluminiumBeam2/results2/2-0.15/collect_312.bin\n",
        "Opening file: ../../../Measurements/BreakTest_AluminiumBeam2/results2/2-0.15/collect_313.bin\n",
        "Closed file: ../../../Measurements/BreakTest_AluminiumBeam2/results2/2-0.15/collect_313.bin\n",
        "Opening file: ../../../Measurements/BreakTest_AluminiumBeam2/results2/2-0.15/collect_314.bin\n",
        "Closed file: ../../../Measurements/BreakTest_AluminiumBeam2/results2/2-0.15/collect_314.bin\n",
        "Opening file: ../../../Measurements/BreakTest_AluminiumBeam2/results2/2-0.15/collect_315.bin\n",
        "Closed file: ../../../Measurements/BreakTest_AluminiumBeam2/results2/2-0.15/collect_315.bin"
       ]
      },
      {
       "output_type": "stream",
       "stream": "stdout",
       "text": [
        "\n",
        "Opening file: ../../../Measurements/BreakTest_AluminiumBeam2/results2/2-0.15/collect_316.bin\n",
        "Closed file: ../../../Measurements/BreakTest_AluminiumBeam2/results2/2-0.15/collect_316.bin\n",
        "Opening file: ../../../Measurements/BreakTest_AluminiumBeam2/results2/2-0.15/collect_317.bin\n",
        "Closed file: ../../../Measurements/BreakTest_AluminiumBeam2/results2/2-0.15/collect_317.bin\n",
        "Opening file: ../../../Measurements/BreakTest_AluminiumBeam2/results2/2-0.15/collect_318.bin\n",
        "Closed file: ../../../Measurements/BreakTest_AluminiumBeam2/results2/2-0.15/collect_318.bin"
       ]
      },
      {
       "output_type": "stream",
       "stream": "stdout",
       "text": [
        "\n",
        "Opening file: ../../../Measurements/BreakTest_AluminiumBeam2/results2/2-0.15/collect_319.bin\n",
        "Closed file: ../../../Measurements/BreakTest_AluminiumBeam2/results2/2-0.15/collect_319.bin\n",
        "Opening file: ../../../Measurements/BreakTest_AluminiumBeam2/results2/2-0.15/collect_320.bin\n",
        "Closed file: ../../../Measurements/BreakTest_AluminiumBeam2/results2/2-0.15/collect_320.bin\n",
        "Opening file: ../../../Measurements/BreakTest_AluminiumBeam2/results2/2-0.15/collect_321.bin\n",
        "Closed file: ../../../Measurements/BreakTest_AluminiumBeam2/results2/2-0.15/collect_321.bin"
       ]
      },
      {
       "output_type": "stream",
       "stream": "stdout",
       "text": [
        "\n",
        "Opening file: ../../../Measurements/BreakTest_AluminiumBeam2/results2/2-0.15/collect_322.bin\n",
        "Closed file: ../../../Measurements/BreakTest_AluminiumBeam2/results2/2-0.15/collect_322.bin\n",
        "Opening file: ../../../Measurements/BreakTest_AluminiumBeam2/results2/2-0.15/collect_323.bin\n",
        "Closed file: ../../../Measurements/BreakTest_AluminiumBeam2/results2/2-0.15/collect_323.bin\n",
        "Opening file: ../../../Measurements/BreakTest_AluminiumBeam2/results2/2-0.15/collect_324.bin\n",
        "Closed file: ../../../Measurements/BreakTest_AluminiumBeam2/results2/2-0.15/collect_324.bin\n",
        "Opening file: ../../../Measurements/BreakTest_AluminiumBeam2/results2/2-0.15/collect_325.bin"
       ]
      },
      {
       "output_type": "stream",
       "stream": "stdout",
       "text": [
        "\n",
        "Closed file: ../../../Measurements/BreakTest_AluminiumBeam2/results2/2-0.15/collect_325.bin\n",
        "Opening file: ../../../Measurements/BreakTest_AluminiumBeam2/results2/2-0.15/collect_326.bin\n",
        "Closed file: ../../../Measurements/BreakTest_AluminiumBeam2/results2/2-0.15/collect_326.bin\n",
        "Opening file: ../../../Measurements/BreakTest_AluminiumBeam2/results2/2-0.15/collect_327.bin\n",
        "Closed file: ../../../Measurements/BreakTest_AluminiumBeam2/results2/2-0.15/collect_327.bin\n",
        "Opening file: ../../../Measurements/BreakTest_AluminiumBeam2/results2/2-0.15/collect_328.bin\n",
        "Closed file: ../../../Measurements/BreakTest_AluminiumBeam2/results2/2-0.15/collect_328.bin"
       ]
      },
      {
       "output_type": "stream",
       "stream": "stdout",
       "text": [
        "\n",
        "Opening file: ../../../Measurements/BreakTest_AluminiumBeam2/results2/2-0.15/collect_329.bin\n",
        "Closed file: ../../../Measurements/BreakTest_AluminiumBeam2/results2/2-0.15/collect_329.bin\n",
        "Opening file: ../../../Measurements/BreakTest_AluminiumBeam2/results2/2-0.15/collect_330.bin\n",
        "Closed file: ../../../Measurements/BreakTest_AluminiumBeam2/results2/2-0.15/collect_330.bin\n",
        "Opening file: ../../../Measurements/BreakTest_AluminiumBeam2/results2/2-0.15/collect_331.bin\n",
        "Closed file: ../../../Measurements/BreakTest_AluminiumBeam2/results2/2-0.15/collect_331.bin"
       ]
      },
      {
       "output_type": "stream",
       "stream": "stdout",
       "text": [
        "\n",
        "Opening file: ../../../Measurements/BreakTest_AluminiumBeam2/results2/2-0.15/collect_332.bin\n",
        "Closed file: ../../../Measurements/BreakTest_AluminiumBeam2/results2/2-0.15/collect_332.bin\n",
        "Opening file: ../../../Measurements/BreakTest_AluminiumBeam2/results2/2-0.15/collect_333.bin\n",
        "Closed file: ../../../Measurements/BreakTest_AluminiumBeam2/results2/2-0.15/collect_333.bin\n",
        "Opening file: ../../../Measurements/BreakTest_AluminiumBeam2/results2/2-0.15/collect_334.bin\n",
        "Closed file: ../../../Measurements/BreakTest_AluminiumBeam2/results2/2-0.15/collect_334.bin"
       ]
      },
      {
       "output_type": "stream",
       "stream": "stdout",
       "text": [
        "\n",
        "Opening file: ../../../Measurements/BreakTest_AluminiumBeam2/results2/2-0.15/collect_335.bin\n",
        "Closed file: ../../../Measurements/BreakTest_AluminiumBeam2/results2/2-0.15/collect_335.bin\n",
        "Opening file: ../../../Measurements/BreakTest_AluminiumBeam2/results2/2-0.15/collect_336.bin\n",
        "Closed file: ../../../Measurements/BreakTest_AluminiumBeam2/results2/2-0.15/collect_336.bin\n",
        "Opening file: ../../../Measurements/BreakTest_AluminiumBeam2/results2/2-0.15/collect_337.bin\n",
        "Closed file: ../../../Measurements/BreakTest_AluminiumBeam2/results2/2-0.15/collect_337.bin"
       ]
      },
      {
       "output_type": "stream",
       "stream": "stdout",
       "text": [
        "\n",
        "Opening file: ../../../Measurements/BreakTest_AluminiumBeam2/results2/2-0.15/collect_338.bin\n",
        "Closed file: ../../../Measurements/BreakTest_AluminiumBeam2/results2/2-0.15/collect_338.bin\n",
        "Opening file: ../../../Measurements/BreakTest_AluminiumBeam2/results2/2-0.15/collect_339.bin\n",
        "Closed file: ../../../Measurements/BreakTest_AluminiumBeam2/results2/2-0.15/collect_339.bin\n",
        "Opening file: ../../../Measurements/BreakTest_AluminiumBeam2/results2/2-0.15/collect_340.bin\n",
        "Closed file: ../../../Measurements/BreakTest_AluminiumBeam2/results2/2-0.15/collect_340.bin\n",
        "Opening file: ../../../Measurements/BreakTest_AluminiumBeam2/results2/2-0.15/collect_341.bin\n",
        "Closed file: ../../../Measurements/BreakTest_AluminiumBeam2/results2/2-0.15/collect_341.bin"
       ]
      },
      {
       "output_type": "stream",
       "stream": "stdout",
       "text": [
        "\n",
        "Opening file: ../../../Measurements/BreakTest_AluminiumBeam2/results2/2-0.15/collect_342.bin\n",
        "Closed file: ../../../Measurements/BreakTest_AluminiumBeam2/results2/2-0.15/collect_342.bin\n",
        "Opening file: ../../../Measurements/BreakTest_AluminiumBeam2/results2/2-0.15/collect_343.bin\n",
        "Closed file: ../../../Measurements/BreakTest_AluminiumBeam2/results2/2-0.15/collect_343.bin\n",
        "Opening file: ../../../Measurements/BreakTest_AluminiumBeam2/results2/2-0.15/collect_344.bin\n",
        "Closed file: ../../../Measurements/BreakTest_AluminiumBeam2/results2/2-0.15/collect_344.bin\n",
        "Opening file: ../../../Measurements/BreakTest_AluminiumBeam2/results2/2-0.15/collect_345.bin"
       ]
      },
      {
       "output_type": "stream",
       "stream": "stdout",
       "text": [
        "\n",
        "Closed file: ../../../Measurements/BreakTest_AluminiumBeam2/results2/2-0.15/collect_345.bin\n",
        "Opening file: ../../../Measurements/BreakTest_AluminiumBeam2/results2/2-0.15/collect_346.bin\n",
        "Closed file: ../../../Measurements/BreakTest_AluminiumBeam2/results2/2-0.15/collect_346.bin\n",
        "Opening file: ../../../Measurements/BreakTest_AluminiumBeam2/results2/2-0.15/collect_347.bin\n",
        "Closed file: ../../../Measurements/BreakTest_AluminiumBeam2/results2/2-0.15/collect_347.bin\n",
        "Opening file: ../../../Measurements/BreakTest_AluminiumBeam2/results2/2-0.15/collect_348.bin"
       ]
      },
      {
       "output_type": "stream",
       "stream": "stdout",
       "text": [
        "\n",
        "Closed file: ../../../Measurements/BreakTest_AluminiumBeam2/results2/2-0.15/collect_348.bin\n",
        "Opening file: ../../../Measurements/BreakTest_AluminiumBeam2/results2/2-0.15/collect_349.bin\n",
        "Closed file: ../../../Measurements/BreakTest_AluminiumBeam2/results2/2-0.15/collect_349.bin\n",
        "Opening file: ../../../Measurements/BreakTest_AluminiumBeam2/results2/2-0.15/collect_350.bin\n",
        "Closed file: ../../../Measurements/BreakTest_AluminiumBeam2/results2/2-0.15/collect_350.bin\n",
        "Opening file: ../../../Measurements/BreakTest_AluminiumBeam2/results2/2-0.15/collect_351.bin"
       ]
      },
      {
       "output_type": "stream",
       "stream": "stdout",
       "text": [
        "\n",
        "Closed file: ../../../Measurements/BreakTest_AluminiumBeam2/results2/2-0.15/collect_351.bin\n",
        "Opening file: ../../../Measurements/BreakTest_AluminiumBeam2/results2/2-0.15/collect_352.bin\n",
        "Closed file: ../../../Measurements/BreakTest_AluminiumBeam2/results2/2-0.15/collect_352.bin\n",
        "Opening file: ../../../Measurements/BreakTest_AluminiumBeam2/results2/2-0.15/collect_353.bin\n",
        "Closed file: ../../../Measurements/BreakTest_AluminiumBeam2/results2/2-0.15/collect_353.bin\n",
        "Opening file: ../../../Measurements/BreakTest_AluminiumBeam2/results2/2-0.15/collect_354.bin"
       ]
      },
      {
       "output_type": "stream",
       "stream": "stdout",
       "text": [
        "\n",
        "Closed file: ../../../Measurements/BreakTest_AluminiumBeam2/results2/2-0.15/collect_354.bin\n",
        "Opening file: ../../../Measurements/BreakTest_AluminiumBeam2/results2/2-0.15/collect_355.bin\n",
        "Closed file: ../../../Measurements/BreakTest_AluminiumBeam2/results2/2-0.15/collect_355.bin\n",
        "Opening file: ../../../Measurements/BreakTest_AluminiumBeam2/results2/2-0.15/collect_356.bin\n",
        "Closed file: ../../../Measurements/BreakTest_AluminiumBeam2/results2/2-0.15/collect_356.bin\n",
        "Opening file: ../../../Measurements/BreakTest_AluminiumBeam2/results2/2-0.15/collect_357.bin"
       ]
      },
      {
       "output_type": "stream",
       "stream": "stdout",
       "text": [
        "\n",
        "Closed file: ../../../Measurements/BreakTest_AluminiumBeam2/results2/2-0.15/collect_357.bin\n",
        "Opening file: ../../../Measurements/BreakTest_AluminiumBeam2/results2/2-0.15/collect_358.bin\n",
        "Closed file: ../../../Measurements/BreakTest_AluminiumBeam2/results2/2-0.15/collect_358.bin\n",
        "Opening file: ../../../Measurements/BreakTest_AluminiumBeam2/results2/2-0.15/collect_359.bin\n",
        "Closed file: ../../../Measurements/BreakTest_AluminiumBeam2/results2/2-0.15/collect_359.bin\n",
        "Opening file: ../../../Measurements/BreakTest_AluminiumBeam2/results2/2-0.15/collect_360.bin\n",
        "Closed file: ../../../Measurements/BreakTest_AluminiumBeam2/results2/2-0.15/collect_360.bin"
       ]
      },
      {
       "output_type": "stream",
       "stream": "stdout",
       "text": [
        "\n",
        "Opening file: ../../../Measurements/BreakTest_AluminiumBeam2/results2/2-0.15/collect_361.bin\n",
        "Closed file: ../../../Measurements/BreakTest_AluminiumBeam2/results2/2-0.15/collect_361.bin\n",
        "Opening file: ../../../Measurements/BreakTest_AluminiumBeam2/results2/2-0.15/collect_362.bin\n",
        "Closed file: ../../../Measurements/BreakTest_AluminiumBeam2/results2/2-0.15/collect_362.bin\n",
        "Opening file: ../../../Measurements/BreakTest_AluminiumBeam2/results2/2-0.15/collect_363.bin\n",
        "Closed file: ../../../Measurements/BreakTest_AluminiumBeam2/results2/2-0.15/collect_363.bin\n",
        "Opening file: ../../../Measurements/BreakTest_AluminiumBeam2/results2/2-0.15/collect_364.bin"
       ]
      },
      {
       "output_type": "stream",
       "stream": "stdout",
       "text": [
        "\n",
        "Closed file: ../../../Measurements/BreakTest_AluminiumBeam2/results2/2-0.15/collect_364.bin\n",
        "Opening file: ../../../Measurements/BreakTest_AluminiumBeam2/results2/2-0.15/collect_365.bin\n",
        "Closed file: ../../../Measurements/BreakTest_AluminiumBeam2/results2/2-0.15/collect_365.bin\n",
        "Opening file: ../../../Measurements/BreakTest_AluminiumBeam2/results2/2-0.15/collect_366.bin\n",
        "Closed file: ../../../Measurements/BreakTest_AluminiumBeam2/results2/2-0.15/collect_366.bin"
       ]
      },
      {
       "output_type": "stream",
       "stream": "stdout",
       "text": [
        "\n",
        "Opening file: ../../../Measurements/BreakTest_AluminiumBeam2/results2/2-0.15/collect_367.bin\n",
        "Closed file: ../../../Measurements/BreakTest_AluminiumBeam2/results2/2-0.15/collect_367.bin\n",
        "Opening file: ../../../Measurements/BreakTest_AluminiumBeam2/results2/2-0.15/collect_368.bin\n",
        "Closed file: ../../../Measurements/BreakTest_AluminiumBeam2/results2/2-0.15/collect_368.bin"
       ]
      },
      {
       "output_type": "stream",
       "stream": "stdout",
       "text": [
        "\n",
        "Opening file: ../../../Measurements/BreakTest_AluminiumBeam2/results2/2-0.15/collect_369.bin\n",
        "Closed file: ../../../Measurements/BreakTest_AluminiumBeam2/results2/2-0.15/collect_369.bin\n",
        "Opening file: ../../../Measurements/BreakTest_AluminiumBeam2/results2/2-0.15/collect_370.bin\n",
        "Closed file: ../../../Measurements/BreakTest_AluminiumBeam2/results2/2-0.15/collect_370.bin"
       ]
      },
      {
       "output_type": "stream",
       "stream": "stdout",
       "text": [
        "\n",
        "Opening file: ../../../Measurements/BreakTest_AluminiumBeam2/results2/2-0.15/collect_371.bin\n",
        "Closed file: ../../../Measurements/BreakTest_AluminiumBeam2/results2/2-0.15/collect_371.bin\n",
        "Opening file: ../../../Measurements/BreakTest_AluminiumBeam2/results2/2-0.15/collect_372.bin\n",
        "Closed file: ../../../Measurements/BreakTest_AluminiumBeam2/results2/2-0.15/collect_372.bin"
       ]
      },
      {
       "output_type": "stream",
       "stream": "stdout",
       "text": [
        "\n",
        "Opening file: ../../../Measurements/BreakTest_AluminiumBeam2/results2/2-0.15/collect_373.bin\n",
        "Closed file: ../../../Measurements/BreakTest_AluminiumBeam2/results2/2-0.15/collect_373.bin\n",
        "Opening file: ../../../Measurements/BreakTest_AluminiumBeam2/results2/2-0.15/collect_374.bin\n",
        "Closed file: ../../../Measurements/BreakTest_AluminiumBeam2/results2/2-0.15/collect_374.bin\n",
        "Opening file: ../../../Measurements/BreakTest_AluminiumBeam2/results2/2-0.15/collect_375.bin\n",
        "Closed file: ../../../Measurements/BreakTest_AluminiumBeam2/results2/2-0.15/collect_375.bin"
       ]
      },
      {
       "output_type": "stream",
       "stream": "stdout",
       "text": [
        "\n",
        "Opening file: ../../../Measurements/BreakTest_AluminiumBeam2/results2/2-0.15/collect_376.bin\n",
        "Closed file: ../../../Measurements/BreakTest_AluminiumBeam2/results2/2-0.15/collect_376.bin\n",
        "Opening file: ../../../Measurements/BreakTest_AluminiumBeam2/results2/2-0.15/collect_377.bin\n",
        "Closed file: ../../../Measurements/BreakTest_AluminiumBeam2/results2/2-0.15/collect_377.bin"
       ]
      },
      {
       "output_type": "stream",
       "stream": "stdout",
       "text": [
        "\n",
        "Opening file: ../../../Measurements/BreakTest_AluminiumBeam2/results2/2-0.15/collect_378.bin\n",
        "Closed file: ../../../Measurements/BreakTest_AluminiumBeam2/results2/2-0.15/collect_378.bin\n",
        "Opening file: ../../../Measurements/BreakTest_AluminiumBeam2/results2/2-0.15/collect_379.bin\n",
        "Closed file: ../../../Measurements/BreakTest_AluminiumBeam2/results2/2-0.15/collect_379.bin"
       ]
      },
      {
       "output_type": "stream",
       "stream": "stdout",
       "text": [
        "\n",
        "Opening file: ../../../Measurements/BreakTest_AluminiumBeam2/results2/2-0.15/collect_380.bin\n",
        "Closed file: ../../../Measurements/BreakTest_AluminiumBeam2/results2/2-0.15/collect_380.bin\n",
        "Opening file: ../../../Measurements/BreakTest_AluminiumBeam2/results2/2-0.15/collect_381.bin\n",
        "Closed file: ../../../Measurements/BreakTest_AluminiumBeam2/results2/2-0.15/collect_381.bin"
       ]
      },
      {
       "output_type": "stream",
       "stream": "stdout",
       "text": [
        "\n",
        "Opening file: ../../../Measurements/BreakTest_AluminiumBeam2/results2/2-0.15/collect_382.bin\n",
        "Closed file: ../../../Measurements/BreakTest_AluminiumBeam2/results2/2-0.15/collect_382.bin\n",
        "Opening file: ../../../Measurements/BreakTest_AluminiumBeam2/results2/2-0.15/collect_383.bin\n",
        "Closed file: ../../../Measurements/BreakTest_AluminiumBeam2/results2/2-0.15/collect_383.bin"
       ]
      },
      {
       "output_type": "stream",
       "stream": "stdout",
       "text": [
        "\n",
        "Opening file: ../../../Measurements/BreakTest_AluminiumBeam2/results2/2-0.15/collect_384.bin\n",
        "Closed file: ../../../Measurements/BreakTest_AluminiumBeam2/results2/2-0.15/collect_384.bin\n",
        "Opening file: ../../../Measurements/BreakTest_AluminiumBeam2/results2/2-0.15/collect_385.bin\n",
        "Closed file: ../../../Measurements/BreakTest_AluminiumBeam2/results2/2-0.15/collect_385.bin"
       ]
      },
      {
       "output_type": "stream",
       "stream": "stdout",
       "text": [
        "\n",
        "Opening file: ../../../Measurements/BreakTest_AluminiumBeam2/results2/2-0.15/collect_386.bin\n",
        "Closed file: ../../../Measurements/BreakTest_AluminiumBeam2/results2/2-0.15/collect_386.bin\n",
        "Opening file: ../../../Measurements/BreakTest_AluminiumBeam2/results2/2-0.15/collect_387.bin\n",
        "Closed file: ../../../Measurements/BreakTest_AluminiumBeam2/results2/2-0.15/collect_387.bin"
       ]
      },
      {
       "output_type": "stream",
       "stream": "stdout",
       "text": [
        "\n",
        "Opening file: ../../../Measurements/BreakTest_AluminiumBeam2/results2/2-0.15/collect_388.bin\n",
        "Closed file: ../../../Measurements/BreakTest_AluminiumBeam2/results2/2-0.15/collect_388.bin\n",
        "Opening file: ../../../Measurements/BreakTest_AluminiumBeam2/results2/2-0.15/collect_389.bin"
       ]
      },
      {
       "output_type": "stream",
       "stream": "stdout",
       "text": [
        "\n",
        "Closed file: ../../../Measurements/BreakTest_AluminiumBeam2/results2/2-0.15/collect_389.bin\n",
        "Opening file: ../../../Measurements/BreakTest_AluminiumBeam2/results2/2-0.15/collect_390.bin\n",
        "Closed file: ../../../Measurements/BreakTest_AluminiumBeam2/results2/2-0.15/collect_390.bin"
       ]
      },
      {
       "output_type": "stream",
       "stream": "stdout",
       "text": [
        "\n",
        "Opening file: ../../../Measurements/BreakTest_AluminiumBeam2/results2/2-0.15/collect_391.bin\n",
        "Closed file: ../../../Measurements/BreakTest_AluminiumBeam2/results2/2-0.15/collect_391.bin\n",
        "Opening file: ../../../Measurements/BreakTest_AluminiumBeam2/results2/2-0.15/collect_392.bin\n",
        "Closed file: ../../../Measurements/BreakTest_AluminiumBeam2/results2/2-0.15/collect_392.bin"
       ]
      },
      {
       "output_type": "stream",
       "stream": "stdout",
       "text": [
        "\n",
        "Opening file: ../../../Measurements/BreakTest_AluminiumBeam2/results2/2-0.15/collect_393.bin\n",
        "Closed file: ../../../Measurements/BreakTest_AluminiumBeam2/results2/2-0.15/collect_393.bin\n",
        "Opening file: ../../../Measurements/BreakTest_AluminiumBeam2/results2/2-0.15/collect_394.bin\n",
        "Closed file: ../../../Measurements/BreakTest_AluminiumBeam2/results2/2-0.15/collect_394.bin"
       ]
      },
      {
       "output_type": "stream",
       "stream": "stdout",
       "text": [
        "\n",
        "Opening file: ../../../Measurements/BreakTest_AluminiumBeam2/results2/2-0.15/collect_395.bin\n",
        "Closed file: ../../../Measurements/BreakTest_AluminiumBeam2/results2/2-0.15/collect_395.bin\n",
        "Opening file: ../../../Measurements/BreakTest_AluminiumBeam2/results2/2-0.15/collect_396.bin\n",
        "Closed file: ../../../Measurements/BreakTest_AluminiumBeam2/results2/2-0.15/collect_396.bin"
       ]
      },
      {
       "output_type": "stream",
       "stream": "stdout",
       "text": [
        "\n",
        "Opening file: ../../../Measurements/BreakTest_AluminiumBeam2/results2/2-0.15/collect_397.bin\n",
        "Closed file: ../../../Measurements/BreakTest_AluminiumBeam2/results2/2-0.15/collect_397.bin\n",
        "Opening file: ../../../Measurements/BreakTest_AluminiumBeam2/results2/2-0.15/collect_398.bin\n",
        "Closed file: ../../../Measurements/BreakTest_AluminiumBeam2/results2/2-0.15/collect_398.bin\n",
        "Opening file: ../../../Measurements/BreakTest_AluminiumBeam2/results2/2-0.15/collect_399.bin\n",
        "Closed file: ../../../Measurements/BreakTest_AluminiumBeam2/results2/2-0.15/collect_399.bin"
       ]
      },
      {
       "output_type": "stream",
       "stream": "stdout",
       "text": [
        "\n",
        "Opening file: ../../../Measurements/BreakTest_AluminiumBeam2/results2/2-0.15/collect_400.bin\n",
        "Closed file: ../../../Measurements/BreakTest_AluminiumBeam2/results2/2-0.15/collect_400.bin\n",
        "Opening file: ../../../Measurements/BreakTest_AluminiumBeam2/results2/2-0.15/collect_401.bin\n",
        "Closed file: ../../../Measurements/BreakTest_AluminiumBeam2/results2/2-0.15/collect_401.bin"
       ]
      },
      {
       "output_type": "stream",
       "stream": "stdout",
       "text": [
        "\n",
        "Opening file: ../../../Measurements/BreakTest_AluminiumBeam2/results2/2-0.15/collect_402.bin\n",
        "Closed file: ../../../Measurements/BreakTest_AluminiumBeam2/results2/2-0.15/collect_402.bin\n",
        "Opening file: ../../../Measurements/BreakTest_AluminiumBeam2/results2/2-0.15/collect_403.bin\n",
        "Closed file: ../../../Measurements/BreakTest_AluminiumBeam2/results2/2-0.15/collect_403.bin\n",
        "Opening file: ../../../Measurements/BreakTest_AluminiumBeam2/results2/2-0.15/collect_404.bin\n",
        "Closed file: ../../../Measurements/BreakTest_AluminiumBeam2/results2/2-0.15/collect_404.bin"
       ]
      },
      {
       "output_type": "stream",
       "stream": "stdout",
       "text": [
        "\n",
        "Opening file: ../../../Measurements/BreakTest_AluminiumBeam2/results2/2-0.15/collect_405.bin\n",
        "Closed file: ../../../Measurements/BreakTest_AluminiumBeam2/results2/2-0.15/collect_405.bin\n",
        "Opening file: ../../../Measurements/BreakTest_AluminiumBeam2/results2/2-0.15/collect_406.bin\n",
        "Closed file: ../../../Measurements/BreakTest_AluminiumBeam2/results2/2-0.15/collect_406.bin\n",
        "Opening file: ../../../Measurements/BreakTest_AluminiumBeam2/results2/2-0.15/collect_407.bin\n",
        "Closed file: ../../../Measurements/BreakTest_AluminiumBeam2/results2/2-0.15/collect_407.bin\n",
        "Opening file: ../../../Measurements/BreakTest_AluminiumBeam2/results2/2-0.15/collect_408.bin\n",
        "Closed file: ../../../Measurements/BreakTest_AluminiumBeam2/results2/2-0.15/collect_408.bin"
       ]
      },
      {
       "output_type": "stream",
       "stream": "stdout",
       "text": [
        "\n",
        "Opening file: ../../../Measurements/BreakTest_AluminiumBeam2/results2/2-0.15/collect_409.bin\n",
        "Closed file: ../../../Measurements/BreakTest_AluminiumBeam2/results2/2-0.15/collect_409.bin\n",
        "Opening file: ../../../Measurements/BreakTest_AluminiumBeam2/results2/2-0.15/collect_410.bin\n",
        "Closed file: ../../../Measurements/BreakTest_AluminiumBeam2/results2/2-0.15/collect_410.bin\n",
        "Opening file: ../../../Measurements/BreakTest_AluminiumBeam2/results2/2-0.15/collect_411.bin\n",
        "Closed file: ../../../Measurements/BreakTest_AluminiumBeam2/results2/2-0.15/collect_411.bin\n",
        "Opening file: ../../../Measurements/BreakTest_AluminiumBeam2/results2/2-0.15/collect_412.bin"
       ]
      },
      {
       "output_type": "stream",
       "stream": "stdout",
       "text": [
        "\n",
        "Closed file: ../../../Measurements/BreakTest_AluminiumBeam2/results2/2-0.15/collect_412.bin\n",
        "Opening file: ../../../Measurements/BreakTest_AluminiumBeam2/results2/2-0.15/collect_413.bin\n",
        "Closed file: ../../../Measurements/BreakTest_AluminiumBeam2/results2/2-0.15/collect_413.bin\n",
        "Opening file: ../../../Measurements/BreakTest_AluminiumBeam2/results2/2-0.15/collect_414.bin\n",
        "Closed file: ../../../Measurements/BreakTest_AluminiumBeam2/results2/2-0.15/collect_414.bin\n",
        "Opening file: ../../../Measurements/BreakTest_AluminiumBeam2/results2/2-0.15/collect_415.bin\n",
        "Closed file: ../../../Measurements/BreakTest_AluminiumBeam2/results2/2-0.15/collect_415.bin"
       ]
      },
      {
       "output_type": "stream",
       "stream": "stdout",
       "text": [
        "\n",
        "Opening file: ../../../Measurements/BreakTest_AluminiumBeam2/results2/2-0.15/collect_416.bin\n",
        "Closed file: ../../../Measurements/BreakTest_AluminiumBeam2/results2/2-0.15/collect_416.bin\n",
        "Opening file: ../../../Measurements/BreakTest_AluminiumBeam2/results2/2-0.15/collect_417.bin\n",
        "Closed file: ../../../Measurements/BreakTest_AluminiumBeam2/results2/2-0.15/collect_417.bin\n",
        "Opening file: ../../../Measurements/BreakTest_AluminiumBeam2/results2/2-0.15/collect_418.bin\n",
        "Closed file: ../../../Measurements/BreakTest_AluminiumBeam2/results2/2-0.15/collect_418.bin\n",
        "Opening file: ../../../Measurements/BreakTest_AluminiumBeam2/results2/2-0.15/collect_419.bin\n",
        "Closed file: ../../../Measurements/BreakTest_AluminiumBeam2/results2/2-0.15/collect_419.bin"
       ]
      },
      {
       "output_type": "stream",
       "stream": "stdout",
       "text": [
        "\n",
        "Opening file: ../../../Measurements/BreakTest_AluminiumBeam2/results2/2-0.15/collect_420.bin\n",
        "Closed file: ../../../Measurements/BreakTest_AluminiumBeam2/results2/2-0.15/collect_420.bin\n",
        "Opening file: ../../../Measurements/BreakTest_AluminiumBeam2/results2/2-0.15/collect_421.bin\n",
        "Closed file: ../../../Measurements/BreakTest_AluminiumBeam2/results2/2-0.15/collect_421.bin\n",
        "Opening file: ../../../Measurements/BreakTest_AluminiumBeam2/results2/2-0.15/collect_422.bin\n",
        "Closed file: ../../../Measurements/BreakTest_AluminiumBeam2/results2/2-0.15/collect_422.bin\n",
        "Opening file: ../../../Measurements/BreakTest_AluminiumBeam2/results2/2-0.15/collect_423.bin\n",
        "Closed file: ../../../Measurements/BreakTest_AluminiumBeam2/results2/2-0.15/collect_423.bin"
       ]
      },
      {
       "output_type": "stream",
       "stream": "stdout",
       "text": [
        "\n",
        "Opening file: ../../../Measurements/BreakTest_AluminiumBeam2/results2/2-0.15/collect_424.bin\n",
        "Closed file: ../../../Measurements/BreakTest_AluminiumBeam2/results2/2-0.15/collect_424.bin\n",
        "Opening file: ../../../Measurements/BreakTest_AluminiumBeam2/results2/2-0.15/collect_425.bin\n",
        "Closed file: ../../../Measurements/BreakTest_AluminiumBeam2/results2/2-0.15/collect_425.bin\n",
        "Opening file: ../../../Measurements/BreakTest_AluminiumBeam2/results2/2-0.15/collect_426.bin\n",
        "Closed file: ../../../Measurements/BreakTest_AluminiumBeam2/results2/2-0.15/collect_426.bin\n",
        "Opening file: ../../../Measurements/BreakTest_AluminiumBeam2/results2/2-0.15/collect_427.bin\n",
        "Closed file: ../../../Measurements/BreakTest_AluminiumBeam2/results2/2-0.15/collect_427.bin"
       ]
      },
      {
       "output_type": "stream",
       "stream": "stdout",
       "text": [
        "\n",
        "Opening file: ../../../Measurements/BreakTest_AluminiumBeam2/results2/2-0.15/collect_428.bin\n",
        "Closed file: ../../../Measurements/BreakTest_AluminiumBeam2/results2/2-0.15/collect_428.bin\n",
        "Opening file: ../../../Measurements/BreakTest_AluminiumBeam2/results2/2-0.15/collect_429.bin\n",
        "Closed file: ../../../Measurements/BreakTest_AluminiumBeam2/results2/2-0.15/collect_429.bin\n",
        "Opening file: ../../../Measurements/BreakTest_AluminiumBeam2/results2/2-0.15/collect_430.bin\n",
        "Closed file: ../../../Measurements/BreakTest_AluminiumBeam2/results2/2-0.15/collect_430.bin\n",
        "Opening file: ../../../Measurements/BreakTest_AluminiumBeam2/results2/2-0.15/collect_431.bin"
       ]
      },
      {
       "output_type": "stream",
       "stream": "stdout",
       "text": [
        "\n",
        "Closed file: ../../../Measurements/BreakTest_AluminiumBeam2/results2/2-0.15/collect_431.bin\n",
        "Opening file: ../../../Measurements/BreakTest_AluminiumBeam2/results2/2-0.15/collect_432.bin\n",
        "Closed file: ../../../Measurements/BreakTest_AluminiumBeam2/results2/2-0.15/collect_432.bin\n",
        "Opening file: ../../../Measurements/BreakTest_AluminiumBeam2/results2/2-0.15/collect_433.bin\n",
        "Closed file: ../../../Measurements/BreakTest_AluminiumBeam2/results2/2-0.15/collect_433.bin"
       ]
      },
      {
       "output_type": "stream",
       "stream": "stdout",
       "text": [
        "\n",
        "Opening file: ../../../Measurements/BreakTest_AluminiumBeam2/results2/2-0.15/collect_434.bin\n",
        "Closed file: ../../../Measurements/BreakTest_AluminiumBeam2/results2/2-0.15/collect_434.bin\n",
        "Opening file: ../../../Measurements/BreakTest_AluminiumBeam2/results2/2-0.15/collect_435.bin\n",
        "Closed file: ../../../Measurements/BreakTest_AluminiumBeam2/results2/2-0.15/collect_435.bin\n",
        "Opening file: ../../../Measurements/BreakTest_AluminiumBeam2/results2/2-0.15/collect_436.bin\n",
        "Closed file: ../../../Measurements/BreakTest_AluminiumBeam2/results2/2-0.15/collect_436.bin"
       ]
      },
      {
       "output_type": "stream",
       "stream": "stdout",
       "text": [
        "\n",
        "Opening file: ../../../Measurements/BreakTest_AluminiumBeam2/results2/2-0.15/collect_437.bin\n",
        "Closed file: ../../../Measurements/BreakTest_AluminiumBeam2/results2/2-0.15/collect_437.bin\n",
        "Opening file: ../../../Measurements/BreakTest_AluminiumBeam2/results2/2-0.15/collect_438.bin\n",
        "Closed file: ../../../Measurements/BreakTest_AluminiumBeam2/results2/2-0.15/collect_438.bin\n",
        "Opening file: ../../../Measurements/BreakTest_AluminiumBeam2/results2/2-0.15/collect_439.bin\n",
        "Closed file: ../../../Measurements/BreakTest_AluminiumBeam2/results2/2-0.15/collect_439.bin"
       ]
      },
      {
       "output_type": "stream",
       "stream": "stdout",
       "text": [
        "\n",
        "Opening file: ../../../Measurements/BreakTest_AluminiumBeam2/results2/2-0.15/collect_440.bin\n",
        "Closed file: ../../../Measurements/BreakTest_AluminiumBeam2/results2/2-0.15/collect_440.bin\n",
        "Opening file: ../../../Measurements/BreakTest_AluminiumBeam2/results2/2-0.15/collect_441.bin\n",
        "Closed file: ../../../Measurements/BreakTest_AluminiumBeam2/results2/2-0.15/collect_441.bin\n",
        "Opening file: ../../../Measurements/BreakTest_AluminiumBeam2/results2/2-0.15/collect_442.bin\n",
        "Closed file: ../../../Measurements/BreakTest_AluminiumBeam2/results2/2-0.15/collect_442.bin"
       ]
      },
      {
       "output_type": "stream",
       "stream": "stdout",
       "text": [
        "\n",
        "Opening file: ../../../Measurements/BreakTest_AluminiumBeam2/results2/2-0.15/collect_443.bin\n",
        "Closed file: ../../../Measurements/BreakTest_AluminiumBeam2/results2/2-0.15/collect_443.bin\n",
        "Opening file: ../../../Measurements/BreakTest_AluminiumBeam2/results2/2-0.15/collect_444.bin\n",
        "Closed file: ../../../Measurements/BreakTest_AluminiumBeam2/results2/2-0.15/collect_444.bin\n",
        "Opening file: ../../../Measurements/BreakTest_AluminiumBeam2/results2/2-0.15/collect_445.bin\n",
        "Closed file: ../../../Measurements/BreakTest_AluminiumBeam2/results2/2-0.15/collect_445.bin"
       ]
      },
      {
       "output_type": "stream",
       "stream": "stdout",
       "text": [
        "\n",
        "Opening file: ../../../Measurements/BreakTest_AluminiumBeam2/results2/2-0.15/collect_446.bin\n",
        "Closed file: ../../../Measurements/BreakTest_AluminiumBeam2/results2/2-0.15/collect_446.bin\n",
        "Opening file: ../../../Measurements/BreakTest_AluminiumBeam2/results2/2-0.15/collect_447.bin\n",
        "Closed file: ../../../Measurements/BreakTest_AluminiumBeam2/results2/2-0.15/collect_447.bin\n",
        "Opening file: ../../../Measurements/BreakTest_AluminiumBeam2/results2/2-0.15/collect_448.bin\n",
        "Closed file: ../../../Measurements/BreakTest_AluminiumBeam2/results2/2-0.15/collect_448.bin"
       ]
      },
      {
       "output_type": "stream",
       "stream": "stdout",
       "text": [
        "\n",
        "Opening file: ../../../Measurements/BreakTest_AluminiumBeam2/results2/2-0.15/collect_449.bin\n",
        "Closed file: ../../../Measurements/BreakTest_AluminiumBeam2/results2/2-0.15/collect_449.bin\n",
        "Opening file: ../../../Measurements/BreakTest_AluminiumBeam2/results2/2-0.15/collect_450.bin\n",
        "Closed file: ../../../Measurements/BreakTest_AluminiumBeam2/results2/2-0.15/collect_450.bin\n",
        "Opening file: ../../../Measurements/BreakTest_AluminiumBeam2/results2/2-0.15/collect_451.bin\n",
        "Closed file: ../../../Measurements/BreakTest_AluminiumBeam2/results2/2-0.15/collect_451.bin"
       ]
      },
      {
       "output_type": "stream",
       "stream": "stdout",
       "text": [
        "\n",
        "Opening file: ../../../Measurements/BreakTest_AluminiumBeam2/results2/2-0.15/collect_452.bin\n",
        "Closed file: ../../../Measurements/BreakTest_AluminiumBeam2/results2/2-0.15/collect_452.bin"
       ]
      },
      {
       "output_type": "stream",
       "stream": "stdout",
       "text": [
        "\n",
        "Opening file: ../../../Measurements/BreakTest_AluminiumBeam2/results2/2-0.15/collect_453.bin\n",
        "Closed file: ../../../Measurements/BreakTest_AluminiumBeam2/results2/2-0.15/collect_453.bin\n",
        "Opening file: ../../../Measurements/BreakTest_AluminiumBeam2/results2/2-0.15/collect_454.bin\n",
        "Closed file: ../../../Measurements/BreakTest_AluminiumBeam2/results2/2-0.15/collect_454.bin\n",
        "Opening file: ../../../Measurements/BreakTest_AluminiumBeam2/results2/2-0.15/collect_455.bin\n",
        "Closed file: ../../../Measurements/BreakTest_AluminiumBeam2/results2/2-0.15/collect_455.bin"
       ]
      },
      {
       "output_type": "stream",
       "stream": "stdout",
       "text": [
        "\n",
        "Opening file: ../../../Measurements/BreakTest_AluminiumBeam2/results2/2-0.15/collect_456.bin\n",
        "Closed file: ../../../Measurements/BreakTest_AluminiumBeam2/results2/2-0.15/collect_456.bin\n",
        "Opening file: ../../../Measurements/BreakTest_AluminiumBeam2/results2/2-0.15/collect_457.bin\n",
        "Closed file: ../../../Measurements/BreakTest_AluminiumBeam2/results2/2-0.15/collect_457.bin\n",
        "Opening file: ../../../Measurements/BreakTest_AluminiumBeam2/results2/2-0.15/collect_458.bin\n",
        "Closed file: ../../../Measurements/BreakTest_AluminiumBeam2/results2/2-0.15/collect_458.bin"
       ]
      },
      {
       "output_type": "stream",
       "stream": "stdout",
       "text": [
        "\n",
        "Opening file: ../../../Measurements/BreakTest_AluminiumBeam2/results2/2-0.15/collect_459.bin\n",
        "Closed file: ../../../Measurements/BreakTest_AluminiumBeam2/results2/2-0.15/collect_459.bin\n",
        "Opening file: ../../../Measurements/BreakTest_AluminiumBeam2/results2/2-0.15/collect_460.bin\n",
        "Closed file: ../../../Measurements/BreakTest_AluminiumBeam2/results2/2-0.15/collect_460.bin\n",
        "Opening file: ../../../Measurements/BreakTest_AluminiumBeam2/results2/2-0.15/collect_461.bin\n",
        "Closed file: ../../../Measurements/BreakTest_AluminiumBeam2/results2/2-0.15/collect_461.bin"
       ]
      },
      {
       "output_type": "stream",
       "stream": "stdout",
       "text": [
        "\n",
        "Opening file: ../../../Measurements/BreakTest_AluminiumBeam2/results2/2-0.15/collect_462.bin\n",
        "Closed file: ../../../Measurements/BreakTest_AluminiumBeam2/results2/2-0.15/collect_462.bin\n",
        "Opening file: ../../../Measurements/BreakTest_AluminiumBeam2/results2/2-0.15/collect_463.bin\n",
        "Closed file: ../../../Measurements/BreakTest_AluminiumBeam2/results2/2-0.15/collect_463.bin"
       ]
      },
      {
       "output_type": "stream",
       "stream": "stdout",
       "text": [
        "\n",
        "Opening file: ../../../Measurements/BreakTest_AluminiumBeam2/results2/2-0.15/collect_464.bin\n",
        "Closed file: ../../../Measurements/BreakTest_AluminiumBeam2/results2/2-0.15/collect_464.bin\n",
        "Opening file: ../../../Measurements/BreakTest_AluminiumBeam2/results2/2-0.15/collect_465.bin\n",
        "Closed file: ../../../Measurements/BreakTest_AluminiumBeam2/results2/2-0.15/collect_465.bin"
       ]
      },
      {
       "output_type": "stream",
       "stream": "stdout",
       "text": [
        "\n",
        "Opening file: ../../../Measurements/BreakTest_AluminiumBeam2/results2/2-0.15/collect_466.bin\n",
        "Closed file: ../../../Measurements/BreakTest_AluminiumBeam2/results2/2-0.15/collect_466.bin\n",
        "Opening file: ../../../Measurements/BreakTest_AluminiumBeam2/results2/2-0.15/collect_467.bin\n",
        "Closed file: ../../../Measurements/BreakTest_AluminiumBeam2/results2/2-0.15/collect_467.bin"
       ]
      },
      {
       "output_type": "stream",
       "stream": "stdout",
       "text": [
        "\n",
        "Opening file: ../../../Measurements/BreakTest_AluminiumBeam2/results2/2-0.15/collect_468.bin\n",
        "Closed file: ../../../Measurements/BreakTest_AluminiumBeam2/results2/2-0.15/collect_468.bin\n",
        "Opening file: ../../../Measurements/BreakTest_AluminiumBeam2/results2/2-0.15/collect_469.bin\n",
        "Closed file: ../../../Measurements/BreakTest_AluminiumBeam2/results2/2-0.15/collect_469.bin"
       ]
      },
      {
       "output_type": "stream",
       "stream": "stdout",
       "text": [
        "\n",
        "Opening file: ../../../Measurements/BreakTest_AluminiumBeam2/results2/2-0.15/collect_470.bin\n",
        "Closed file: ../../../Measurements/BreakTest_AluminiumBeam2/results2/2-0.15/collect_470.bin\n",
        "Opening file: ../../../Measurements/BreakTest_AluminiumBeam2/results2/2-0.15/collect_471.bin\n",
        "Closed file: ../../../Measurements/BreakTest_AluminiumBeam2/results2/2-0.15/collect_471.bin\n",
        "Opening file: ../../../Measurements/BreakTest_AluminiumBeam2/results2/2-0.15/collect_472.bin"
       ]
      },
      {
       "output_type": "stream",
       "stream": "stdout",
       "text": [
        "\n",
        "Closed file: ../../../Measurements/BreakTest_AluminiumBeam2/results2/2-0.15/collect_472.bin\n",
        "Opening file: ../../../Measurements/BreakTest_AluminiumBeam2/results2/2-0.15/collect_473.bin\n",
        "Closed file: ../../../Measurements/BreakTest_AluminiumBeam2/results2/2-0.15/collect_473.bin"
       ]
      },
      {
       "output_type": "stream",
       "stream": "stdout",
       "text": [
        "\n",
        "Opening file: ../../../Measurements/BreakTest_AluminiumBeam2/results2/2-0.15/collect_474.bin\n",
        "Closed file: ../../../Measurements/BreakTest_AluminiumBeam2/results2/2-0.15/collect_474.bin\n",
        "Opening file: ../../../Measurements/BreakTest_AluminiumBeam2/results2/2-0.15/collect_475.bin\n",
        "Closed file: ../../../Measurements/BreakTest_AluminiumBeam2/results2/2-0.15/collect_475.bin\n",
        "Opening file: ../../../Measurements/BreakTest_AluminiumBeam2/results2/2-0.15/collect_476.bin\n",
        "Closed file: ../../../Measurements/BreakTest_AluminiumBeam2/results2/2-0.15/collect_476.bin"
       ]
      },
      {
       "output_type": "stream",
       "stream": "stdout",
       "text": [
        "\n",
        "Opening file: ../../../Measurements/BreakTest_AluminiumBeam2/results2/2-0.15/collect_477.bin\n",
        "Closed file: ../../../Measurements/BreakTest_AluminiumBeam2/results2/2-0.15/collect_477.bin\n",
        "Opening file: ../../../Measurements/BreakTest_AluminiumBeam2/results2/2-0.15/collect_478.bin\n",
        "Closed file: ../../../Measurements/BreakTest_AluminiumBeam2/results2/2-0.15/collect_478.bin"
       ]
      },
      {
       "output_type": "stream",
       "stream": "stdout",
       "text": [
        "\n",
        "Opening file: ../../../Measurements/BreakTest_AluminiumBeam2/results2/2-0.15/collect_479.bin\n",
        "Closed file: ../../../Measurements/BreakTest_AluminiumBeam2/results2/2-0.15/collect_479.bin\n",
        "Opening file: ../../../Measurements/BreakTest_AluminiumBeam2/results2/2-0.15/collect_480.bin\n",
        "Closed file: ../../../Measurements/BreakTest_AluminiumBeam2/results2/2-0.15/collect_480.bin\n",
        "Opening file: ../../../Measurements/BreakTest_AluminiumBeam2/results2/2-0.15/collect_481.bin\n",
        "Closed file: ../../../Measurements/BreakTest_AluminiumBeam2/results2/2-0.15/collect_481.bin"
       ]
      },
      {
       "output_type": "stream",
       "stream": "stdout",
       "text": [
        "\n",
        "Opening file: ../../../Measurements/BreakTest_AluminiumBeam2/results2/2-0.15/collect_482.bin\n",
        "Closed file: ../../../Measurements/BreakTest_AluminiumBeam2/results2/2-0.15/collect_482.bin\n",
        "Opening file: ../../../Measurements/BreakTest_AluminiumBeam2/results2/2-0.15/collect_483.bin\n",
        "Closed file: ../../../Measurements/BreakTest_AluminiumBeam2/results2/2-0.15/collect_483.bin\n",
        "Opening file: ../../../Measurements/BreakTest_AluminiumBeam2/results2/2-0.15/collect_484.bin"
       ]
      },
      {
       "output_type": "stream",
       "stream": "stdout",
       "text": [
        "\n",
        "Closed file: ../../../Measurements/BreakTest_AluminiumBeam2/results2/2-0.15/collect_484.bin\n",
        "Opening file: ../../../Measurements/BreakTest_AluminiumBeam2/results2/2-0.15/collect_485.bin\n",
        "Closed file: ../../../Measurements/BreakTest_AluminiumBeam2/results2/2-0.15/collect_485.bin\n",
        "Opening file: ../../../Measurements/BreakTest_AluminiumBeam2/results2/2-0.15/collect_486.bin"
       ]
      },
      {
       "output_type": "stream",
       "stream": "stdout",
       "text": [
        "\n",
        "Closed file: ../../../Measurements/BreakTest_AluminiumBeam2/results2/2-0.15/collect_486.bin\n",
        "Opening file: ../../../Measurements/BreakTest_AluminiumBeam2/results2/2-0.15/collect_487.bin\n",
        "Closed file: ../../../Measurements/BreakTest_AluminiumBeam2/results2/2-0.15/collect_487.bin\n",
        "Opening file: ../../../Measurements/BreakTest_AluminiumBeam2/results2/2-0.15/collect_488.bin"
       ]
      },
      {
       "output_type": "stream",
       "stream": "stdout",
       "text": [
        "\n",
        "Closed file: ../../../Measurements/BreakTest_AluminiumBeam2/results2/2-0.15/collect_488.bin\n",
        "Opening file: ../../../Measurements/BreakTest_AluminiumBeam2/results2/2-0.15/collect_489.bin\n",
        "Closed file: ../../../Measurements/BreakTest_AluminiumBeam2/results2/2-0.15/collect_489.bin\n",
        "Opening file: ../../../Measurements/BreakTest_AluminiumBeam2/results2/2-0.15/collect_490.bin\n",
        "Closed file: ../../../Measurements/BreakTest_AluminiumBeam2/results2/2-0.15/collect_490.bin"
       ]
      },
      {
       "output_type": "stream",
       "stream": "stdout",
       "text": [
        "\n",
        "Opening file: ../../../Measurements/BreakTest_AluminiumBeam2/results2/2-0.15/collect_491.bin\n",
        "Closed file: ../../../Measurements/BreakTest_AluminiumBeam2/results2/2-0.15/collect_491.bin\n",
        "Opening file: ../../../Measurements/BreakTest_AluminiumBeam2/results2/2-0.15/collect_492.bin\n",
        "Closed file: ../../../Measurements/BreakTest_AluminiumBeam2/results2/2-0.15/collect_492.bin\n",
        "Opening file: ../../../Measurements/BreakTest_AluminiumBeam2/results2/2-0.15/collect_493.bin"
       ]
      },
      {
       "output_type": "stream",
       "stream": "stdout",
       "text": [
        "\n",
        "Closed file: ../../../Measurements/BreakTest_AluminiumBeam2/results2/2-0.15/collect_493.bin\n",
        "Opening file: ../../../Measurements/BreakTest_AluminiumBeam2/results2/2-0.15/collect_494.bin\n",
        "Closed file: ../../../Measurements/BreakTest_AluminiumBeam2/results2/2-0.15/collect_494.bin\n",
        "Opening file: ../../../Measurements/BreakTest_AluminiumBeam2/results2/2-0.15/collect_495.bin"
       ]
      },
      {
       "output_type": "stream",
       "stream": "stdout",
       "text": [
        "\n",
        "Closed file: ../../../Measurements/BreakTest_AluminiumBeam2/results2/2-0.15/collect_495.bin\n",
        "Opening file: ../../../Measurements/BreakTest_AluminiumBeam2/results2/2-0.15/collect_496.bin\n",
        "Closed file: ../../../Measurements/BreakTest_AluminiumBeam2/results2/2-0.15/collect_496.bin\n",
        "Opening file: ../../../Measurements/BreakTest_AluminiumBeam2/results2/2-0.15/collect_497.bin\n",
        "Closed file: ../../../Measurements/BreakTest_AluminiumBeam2/results2/2-0.15/collect_497.bin"
       ]
      },
      {
       "output_type": "stream",
       "stream": "stdout",
       "text": [
        "\n",
        "Opening file: ../../../Measurements/BreakTest_AluminiumBeam2/results2/2-0.15/collect_498.bin\n",
        "Closed file: ../../../Measurements/BreakTest_AluminiumBeam2/results2/2-0.15/collect_498.bin\n",
        "Opening file: ../../../Measurements/BreakTest_AluminiumBeam2/results2/2-0.15/collect_499.bin\n",
        "Closed file: ../../../Measurements/BreakTest_AluminiumBeam2/results2/2-0.15/collect_499.bin"
       ]
      },
      {
       "output_type": "stream",
       "stream": "stdout",
       "text": [
        "\n",
        "Opening file: ../../../Measurements/BreakTest_AluminiumBeam2/results2/2-0.15/collect_500.bin\n",
        "Closed file: ../../../Measurements/BreakTest_AluminiumBeam2/results2/2-0.15/collect_500.bin\n",
        "Opening file: ../../../Measurements/BreakTest_AluminiumBeam2/results2/2-0.15/collect_501.bin\n",
        "Closed file: ../../../Measurements/BreakTest_AluminiumBeam2/results2/2-0.15/collect_501.bin\n",
        "Opening file: ../../../Measurements/BreakTest_AluminiumBeam2/results2/2-0.15/collect_502.bin\n",
        "Closed file: ../../../Measurements/BreakTest_AluminiumBeam2/results2/2-0.15/collect_502.bin"
       ]
      },
      {
       "output_type": "stream",
       "stream": "stdout",
       "text": [
        "\n",
        "Opening file: ../../../Measurements/BreakTest_AluminiumBeam2/results2/2-0.15/collect_503.bin\n",
        "Closed file: ../../../Measurements/BreakTest_AluminiumBeam2/results2/2-0.15/collect_503.bin\n",
        "Opening file: ../../../Measurements/BreakTest_AluminiumBeam2/results2/2-0.15/collect_504.bin\n",
        "Closed file: ../../../Measurements/BreakTest_AluminiumBeam2/results2/2-0.15/collect_504.bin"
       ]
      },
      {
       "output_type": "stream",
       "stream": "stdout",
       "text": [
        "\n",
        "Opening file: ../../../Measurements/BreakTest_AluminiumBeam2/results2/2-0.15/collect_505.bin\n",
        "Closed file: ../../../Measurements/BreakTest_AluminiumBeam2/results2/2-0.15/collect_505.bin\n",
        "Opening file: ../../../Measurements/BreakTest_AluminiumBeam2/results2/2-0.15/collect_506.bin\n",
        "Closed file: ../../../Measurements/BreakTest_AluminiumBeam2/results2/2-0.15/collect_506.bin\n",
        "Opening file: ../../../Measurements/BreakTest_AluminiumBeam2/results2/2-0.15/collect_507.bin"
       ]
      },
      {
       "output_type": "stream",
       "stream": "stdout",
       "text": [
        "\n",
        "Closed file: ../../../Measurements/BreakTest_AluminiumBeam2/results2/2-0.15/collect_507.bin\n",
        "Opening file: ../../../Measurements/BreakTest_AluminiumBeam2/results2/2-0.15/collect_508.bin\n",
        "Closed file: ../../../Measurements/BreakTest_AluminiumBeam2/results2/2-0.15/collect_508.bin\n",
        "Opening file: ../../../Measurements/BreakTest_AluminiumBeam2/results2/2-0.15/collect_509.bin"
       ]
      },
      {
       "output_type": "stream",
       "stream": "stdout",
       "text": [
        "\n",
        "Closed file: ../../../Measurements/BreakTest_AluminiumBeam2/results2/2-0.15/collect_509.bin\n",
        "Opening file: ../../../Measurements/BreakTest_AluminiumBeam2/results2/2-0.15/collect_510.bin\n",
        "Closed file: ../../../Measurements/BreakTest_AluminiumBeam2/results2/2-0.15/collect_510.bin\n",
        "Opening file: ../../../Measurements/BreakTest_AluminiumBeam2/results2/2-0.15/collect_511.bin\n",
        "Closed file: ../../../Measurements/BreakTest_AluminiumBeam2/results2/2-0.15/collect_511.bin"
       ]
      },
      {
       "output_type": "stream",
       "stream": "stdout",
       "text": [
        "\n",
        "Opening file: ../../../Measurements/BreakTest_AluminiumBeam2/results2/2-0.15/collect_512.bin\n",
        "Closed file: ../../../Measurements/BreakTest_AluminiumBeam2/results2/2-0.15/collect_512.bin\n",
        "Opening file: ../../../Measurements/BreakTest_AluminiumBeam2/results2/2-0.15/collect_513.bin\n",
        "Closed file: ../../../Measurements/BreakTest_AluminiumBeam2/results2/2-0.15/collect_513.bin\n",
        "Opening file: ../../../Measurements/BreakTest_AluminiumBeam2/results2/2-0.15/collect_514.bin\n",
        "Closed file: ../../../Measurements/BreakTest_AluminiumBeam2/results2/2-0.15/collect_514.bin"
       ]
      },
      {
       "output_type": "stream",
       "stream": "stdout",
       "text": [
        "\n",
        "Opening file: ../../../Measurements/BreakTest_AluminiumBeam2/results2/2-0.15/collect_515.bin\n",
        "Closed file: ../../../Measurements/BreakTest_AluminiumBeam2/results2/2-0.15/collect_515.bin\n",
        "Opening file: ../../../Measurements/BreakTest_AluminiumBeam2/results2/2-0.15/collect_516.bin\n",
        "Closed file: ../../../Measurements/BreakTest_AluminiumBeam2/results2/2-0.15/collect_516.bin"
       ]
      },
      {
       "output_type": "stream",
       "stream": "stdout",
       "text": [
        "\n",
        "Opening file: ../../../Measurements/BreakTest_AluminiumBeam2/results2/2-0.15/collect_517.bin\n",
        "Closed file: ../../../Measurements/BreakTest_AluminiumBeam2/results2/2-0.15/collect_517.bin\n",
        "Opening file: ../../../Measurements/BreakTest_AluminiumBeam2/results2/2-0.15/collect_518.bin\n",
        "Closed file: ../../../Measurements/BreakTest_AluminiumBeam2/results2/2-0.15/collect_518.bin\n",
        "Opening file: ../../../Measurements/BreakTest_AluminiumBeam2/results2/2-0.15/collect_519.bin\n",
        "Closed file: ../../../Measurements/BreakTest_AluminiumBeam2/results2/2-0.15/collect_519.bin"
       ]
      },
      {
       "output_type": "stream",
       "stream": "stdout",
       "text": [
        "\n",
        "Opening file: ../../../Measurements/BreakTest_AluminiumBeam2/results2/2-0.15/collect_520.bin\n",
        "Closed file: ../../../Measurements/BreakTest_AluminiumBeam2/results2/2-0.15/collect_520.bin\n",
        "Opening file: ../../../Measurements/BreakTest_AluminiumBeam2/results2/2-0.15/collect_521.bin\n",
        "Closed file: ../../../Measurements/BreakTest_AluminiumBeam2/results2/2-0.15/collect_521.bin\n",
        "Opening file: ../../../Measurements/BreakTest_AluminiumBeam2/results2/2-0.15/collect_522.bin\n",
        "Closed file: ../../../Measurements/BreakTest_AluminiumBeam2/results2/2-0.15/collect_522.bin"
       ]
      },
      {
       "output_type": "stream",
       "stream": "stdout",
       "text": [
        "\n",
        "Opening file: ../../../Measurements/BreakTest_AluminiumBeam2/results2/2-0.15/collect_523.bin\n",
        "Closed file: ../../../Measurements/BreakTest_AluminiumBeam2/results2/2-0.15/collect_523.bin\n",
        "Opening file: ../../../Measurements/BreakTest_AluminiumBeam2/results2/2-0.15/collect_524.bin\n",
        "Closed file: ../../../Measurements/BreakTest_AluminiumBeam2/results2/2-0.15/collect_524.bin\n",
        "Opening file: ../../../Measurements/BreakTest_AluminiumBeam2/results2/2-0.15/collect_525.bin\n",
        "Closed file: ../../../Measurements/BreakTest_AluminiumBeam2/results2/2-0.15/collect_525.bin"
       ]
      },
      {
       "output_type": "stream",
       "stream": "stdout",
       "text": [
        "\n",
        "Opening file: ../../../Measurements/BreakTest_AluminiumBeam2/results2/2-0.15/collect_526.bin\n",
        "Closed file: ../../../Measurements/BreakTest_AluminiumBeam2/results2/2-0.15/collect_526.bin\n",
        "Opening file: ../../../Measurements/BreakTest_AluminiumBeam2/results2/2-0.15/collect_527.bin\n",
        "Closed file: ../../../Measurements/BreakTest_AluminiumBeam2/results2/2-0.15/collect_527.bin"
       ]
      },
      {
       "output_type": "stream",
       "stream": "stdout",
       "text": [
        "\n",
        "Opening file: ../../../Measurements/BreakTest_AluminiumBeam2/results2/2-0.15/collect_528.bin\n",
        "Closed file: ../../../Measurements/BreakTest_AluminiumBeam2/results2/2-0.15/collect_528.bin\n",
        "Opening file: ../../../Measurements/BreakTest_AluminiumBeam2/results2/2-0.15/collect_529.bin\n",
        "Closed file: ../../../Measurements/BreakTest_AluminiumBeam2/results2/2-0.15/collect_529.bin\n",
        "Opening file: ../../../Measurements/BreakTest_AluminiumBeam2/results2/2-0.15/collect_530.bin\n",
        "Closed file: ../../../Measurements/BreakTest_AluminiumBeam2/results2/2-0.15/collect_530.bin"
       ]
      },
      {
       "output_type": "stream",
       "stream": "stdout",
       "text": [
        "\n",
        "Opening file: ../../../Measurements/BreakTest_AluminiumBeam2/results2/2-0.15/collect_531.bin\n",
        "Closed file: ../../../Measurements/BreakTest_AluminiumBeam2/results2/2-0.15/collect_531.bin\n",
        "Opening file: ../../../Measurements/BreakTest_AluminiumBeam2/results2/2-0.15/collect_532.bin\n",
        "Closed file: ../../../Measurements/BreakTest_AluminiumBeam2/results2/2-0.15/collect_532.bin\n",
        "Opening file: ../../../Measurements/BreakTest_AluminiumBeam2/results2/2-0.15/collect_533.bin\n",
        "Closed file: ../../../Measurements/BreakTest_AluminiumBeam2/results2/2-0.15/collect_533.bin"
       ]
      },
      {
       "output_type": "stream",
       "stream": "stdout",
       "text": [
        "\n",
        "Opening file: ../../../Measurements/BreakTest_AluminiumBeam2/results2/2-0.15/collect_534.bin\n",
        "Closed file: ../../../Measurements/BreakTest_AluminiumBeam2/results2/2-0.15/collect_534.bin\n",
        "Opening file: ../../../Measurements/BreakTest_AluminiumBeam2/results2/2-0.15/collect_535.bin\n",
        "Closed file: ../../../Measurements/BreakTest_AluminiumBeam2/results2/2-0.15/collect_535.bin"
       ]
      },
      {
       "output_type": "stream",
       "stream": "stdout",
       "text": [
        "\n",
        "Opening file: ../../../Measurements/BreakTest_AluminiumBeam2/results2/2-0.15/collect_536.bin\n",
        "Closed file: ../../../Measurements/BreakTest_AluminiumBeam2/results2/2-0.15/collect_536.bin\n",
        "Opening file: ../../../Measurements/BreakTest_AluminiumBeam2/results2/2-0.15/collect_537.bin\n",
        "Closed file: ../../../Measurements/BreakTest_AluminiumBeam2/results2/2-0.15/collect_537.bin"
       ]
      },
      {
       "output_type": "stream",
       "stream": "stdout",
       "text": [
        "\n",
        "Opening file: ../../../Measurements/BreakTest_AluminiumBeam2/results2/2-0.15/collect_538.bin\n",
        "Closed file: ../../../Measurements/BreakTest_AluminiumBeam2/results2/2-0.15/collect_538.bin\n",
        "Opening file: ../../../Measurements/BreakTest_AluminiumBeam2/results2/2-0.15/collect_539.bin\n",
        "Closed file: ../../../Measurements/BreakTest_AluminiumBeam2/results2/2-0.15/collect_539.bin\n",
        "Opening file: ../../../Measurements/BreakTest_AluminiumBeam2/results2/2-0.15/collect_540.bin"
       ]
      },
      {
       "output_type": "stream",
       "stream": "stdout",
       "text": [
        "\n",
        "Closed file: ../../../Measurements/BreakTest_AluminiumBeam2/results2/2-0.15/collect_540.bin\n",
        "Opening file: ../../../Measurements/BreakTest_AluminiumBeam2/results2/2-0.15/collect_541.bin\n",
        "Closed file: ../../../Measurements/BreakTest_AluminiumBeam2/results2/2-0.15/collect_541.bin\n",
        "Opening file: ../../../Measurements/BreakTest_AluminiumBeam2/results2/2-0.15/collect_542.bin\n"
       ]
      },
      {
       "output_type": "stream",
       "stream": "stdout",
       "text": [
        "Closed file: ../../../Measurements/BreakTest_AluminiumBeam2/results2/2-0.15/collect_542.bin\n",
        "Opening file: ../../../Measurements/BreakTest_AluminiumBeam2/results2/2-0.15/collect_543.bin\n",
        "Closed file: ../../../Measurements/BreakTest_AluminiumBeam2/results2/2-0.15/collect_543.bin\n",
        "Opening file: ../../../Measurements/BreakTest_AluminiumBeam2/results2/2-0.15/collect_544.bin\n",
        "Closed file: ../../../Measurements/BreakTest_AluminiumBeam2/results2/2-0.15/collect_544.bin"
       ]
      },
      {
       "output_type": "stream",
       "stream": "stdout",
       "text": [
        "\n",
        "Opening file: ../../../Measurements/BreakTest_AluminiumBeam2/results2/2-0.15/collect_545.bin\n",
        "Closed file: ../../../Measurements/BreakTest_AluminiumBeam2/results2/2-0.15/collect_545.bin\n",
        "Opening file: ../../../Measurements/BreakTest_AluminiumBeam2/results2/2-0.15/collect_546.bin\n",
        "Closed file: ../../../Measurements/BreakTest_AluminiumBeam2/results2/2-0.15/collect_546.bin"
       ]
      },
      {
       "output_type": "stream",
       "stream": "stdout",
       "text": [
        "\n",
        "Opening file: ../../../Measurements/BreakTest_AluminiumBeam2/results2/2-0.15/collect_547.bin\n",
        "Closed file: ../../../Measurements/BreakTest_AluminiumBeam2/results2/2-0.15/collect_547.bin\n",
        "Opening file: ../../../Measurements/BreakTest_AluminiumBeam2/results2/2-0.15/collect_548.bin\n",
        "Closed file: ../../../Measurements/BreakTest_AluminiumBeam2/results2/2-0.15/collect_548.bin"
       ]
      },
      {
       "output_type": "stream",
       "stream": "stdout",
       "text": [
        "\n",
        "Opening file: ../../../Measurements/BreakTest_AluminiumBeam2/results2/2-0.15/collect_549.bin\n",
        "Closed file: ../../../Measurements/BreakTest_AluminiumBeam2/results2/2-0.15/collect_549.bin\n",
        "Opening file: ../../../Measurements/BreakTest_AluminiumBeam2/results2/2-0.15/collect_550.bin\n",
        "Closed file: ../../../Measurements/BreakTest_AluminiumBeam2/results2/2-0.15/collect_550.bin"
       ]
      },
      {
       "output_type": "stream",
       "stream": "stdout",
       "text": [
        "\n",
        "Opening file: ../../../Measurements/BreakTest_AluminiumBeam2/results2/2-0.15/collect_551.bin\n",
        "Closed file: ../../../Measurements/BreakTest_AluminiumBeam2/results2/2-0.15/collect_551.bin\n",
        "Opening file: ../../../Measurements/BreakTest_AluminiumBeam2/results2/2-0.15/collect_552.bin\n",
        "Closed file: ../../../Measurements/BreakTest_AluminiumBeam2/results2/2-0.15/collect_552.bin"
       ]
      },
      {
       "output_type": "stream",
       "stream": "stdout",
       "text": [
        "\n",
        "Opening file: ../../../Measurements/BreakTest_AluminiumBeam2/results2/2-0.15/collect_553.bin\n",
        "Closed file: ../../../Measurements/BreakTest_AluminiumBeam2/results2/2-0.15/collect_553.bin\n",
        "Opening file: ../../../Measurements/BreakTest_AluminiumBeam2/results2/2-0.15/collect_554.bin\n",
        "Closed file: ../../../Measurements/BreakTest_AluminiumBeam2/results2/2-0.15/collect_554.bin"
       ]
      },
      {
       "output_type": "stream",
       "stream": "stdout",
       "text": [
        "\n",
        "Opening file: ../../../Measurements/BreakTest_AluminiumBeam2/results2/2-0.15/collect_555.bin\n",
        "Closed file: ../../../Measurements/BreakTest_AluminiumBeam2/results2/2-0.15/collect_555.bin\n",
        "Opening file: ../../../Measurements/BreakTest_AluminiumBeam2/results2/2-0.15/collect_556.bin\n",
        "Closed file: ../../../Measurements/BreakTest_AluminiumBeam2/results2/2-0.15/collect_556.bin"
       ]
      },
      {
       "output_type": "stream",
       "stream": "stdout",
       "text": [
        "\n",
        "Opening file: ../../../Measurements/BreakTest_AluminiumBeam2/results2/2-0.15/collect_557.bin\n",
        "Closed file: ../../../Measurements/BreakTest_AluminiumBeam2/results2/2-0.15/collect_557.bin\n",
        "Opening file: ../../../Measurements/BreakTest_AluminiumBeam2/results2/2-0.15/collect_558.bin\n",
        "Closed file: ../../../Measurements/BreakTest_AluminiumBeam2/results2/2-0.15/collect_558.bin"
       ]
      },
      {
       "output_type": "stream",
       "stream": "stdout",
       "text": [
        "\n",
        "Opening file: ../../../Measurements/BreakTest_AluminiumBeam2/results2/2-0.15/collect_559.bin\n",
        "Closed file: ../../../Measurements/BreakTest_AluminiumBeam2/results2/2-0.15/collect_559.bin\n",
        "Opening file: ../../../Measurements/BreakTest_AluminiumBeam2/results2/2-0.15/collect_560.bin\n",
        "Closed file: ../../../Measurements/BreakTest_AluminiumBeam2/results2/2-0.15/collect_560.bin"
       ]
      },
      {
       "output_type": "stream",
       "stream": "stdout",
       "text": [
        "\n",
        "Opening file: ../../../Measurements/BreakTest_AluminiumBeam2/results2/2-0.15/collect_561.bin\n",
        "Closed file: ../../../Measurements/BreakTest_AluminiumBeam2/results2/2-0.15/collect_561.bin\n",
        "Opening file: ../../../Measurements/BreakTest_AluminiumBeam2/results2/2-0.15/collect_562.bin\n",
        "Closed file: ../../../Measurements/BreakTest_AluminiumBeam2/results2/2-0.15/collect_562.bin"
       ]
      },
      {
       "output_type": "stream",
       "stream": "stdout",
       "text": [
        "\n",
        "Opening file: ../../../Measurements/BreakTest_AluminiumBeam2/results2/2-0.15/collect_563.bin\n",
        "Closed file: ../../../Measurements/BreakTest_AluminiumBeam2/results2/2-0.15/collect_563.bin\n",
        "Opening file: ../../../Measurements/BreakTest_AluminiumBeam2/results2/2-0.15/collect_564.bin"
       ]
      },
      {
       "output_type": "stream",
       "stream": "stdout",
       "text": [
        "\n",
        "Closed file: ../../../Measurements/BreakTest_AluminiumBeam2/results2/2-0.15/collect_564.bin\n",
        "Opening file: ../../../Measurements/BreakTest_AluminiumBeam2/results2/2-0.15/collect_565.bin\n",
        "Closed file: ../../../Measurements/BreakTest_AluminiumBeam2/results2/2-0.15/collect_565.bin\n",
        "Opening file: ../../../Measurements/BreakTest_AluminiumBeam2/results2/2-0.15/collect_566.bin"
       ]
      },
      {
       "output_type": "stream",
       "stream": "stdout",
       "text": [
        "\n",
        "Closed file: ../../../Measurements/BreakTest_AluminiumBeam2/results2/2-0.15/collect_566.bin\n",
        "Opening file: ../../../Measurements/BreakTest_AluminiumBeam2/results2/2-0.15/collect_567.bin\n",
        "Closed file: ../../../Measurements/BreakTest_AluminiumBeam2/results2/2-0.15/collect_567.bin"
       ]
      },
      {
       "output_type": "stream",
       "stream": "stdout",
       "text": [
        "\n",
        "Opening file: ../../../Measurements/BreakTest_AluminiumBeam2/results2/2-0.15/collect_568.bin\n",
        "Closed file: ../../../Measurements/BreakTest_AluminiumBeam2/results2/2-0.15/collect_568.bin\n",
        "Opening file: ../../../Measurements/BreakTest_AluminiumBeam2/results2/2-0.15/collect_569.bin\n",
        "Closed file: ../../../Measurements/BreakTest_AluminiumBeam2/results2/2-0.15/collect_569.bin"
       ]
      },
      {
       "output_type": "stream",
       "stream": "stdout",
       "text": [
        "\n",
        "Opening file: ../../../Measurements/BreakTest_AluminiumBeam2/results2/2-0.15/collect_570.bin\n",
        "Closed file: ../../../Measurements/BreakTest_AluminiumBeam2/results2/2-0.15/collect_570.bin\n",
        "Opening file: ../../../Measurements/BreakTest_AluminiumBeam2/results2/2-0.15/collect_571.bin\n",
        "Closed file: ../../../Measurements/BreakTest_AluminiumBeam2/results2/2-0.15/collect_571.bin"
       ]
      },
      {
       "output_type": "stream",
       "stream": "stdout",
       "text": [
        "\n",
        "Opening file: ../../../Measurements/BreakTest_AluminiumBeam2/results2/2-0.15/collect_572.bin\n",
        "Closed file: ../../../Measurements/BreakTest_AluminiumBeam2/results2/2-0.15/collect_572.bin\n",
        "Opening file: ../../../Measurements/BreakTest_AluminiumBeam2/results2/2-0.15/collect_573.bin\n",
        "Closed file: ../../../Measurements/BreakTest_AluminiumBeam2/results2/2-0.15/collect_573.bin\n",
        "Opening file: ../../../Measurements/BreakTest_AluminiumBeam2/results2/2-0.15/collect_574.bin\n",
        "Closed file: ../../../Measurements/BreakTest_AluminiumBeam2/results2/2-0.15/collect_574.bin"
       ]
      },
      {
       "output_type": "stream",
       "stream": "stdout",
       "text": [
        "\n",
        "Opening file: ../../../Measurements/BreakTest_AluminiumBeam2/results2/2-0.15/collect_575.bin\n",
        "Closed file: ../../../Measurements/BreakTest_AluminiumBeam2/results2/2-0.15/collect_575.bin\n",
        "Opening file: ../../../Measurements/BreakTest_AluminiumBeam2/results2/2-0.15/collect_576.bin\n",
        "Closed file: ../../../Measurements/BreakTest_AluminiumBeam2/results2/2-0.15/collect_576.bin"
       ]
      },
      {
       "output_type": "stream",
       "stream": "stdout",
       "text": [
        "\n",
        "Opening file: ../../../Measurements/BreakTest_AluminiumBeam2/results2/2-0.15/collect_577.bin\n",
        "Closed file: ../../../Measurements/BreakTest_AluminiumBeam2/results2/2-0.15/collect_577.bin\n",
        "Opening file: ../../../Measurements/BreakTest_AluminiumBeam2/results2/2-0.15/collect_578.bin\n",
        "Closed file: ../../../Measurements/BreakTest_AluminiumBeam2/results2/2-0.15/collect_578.bin\n",
        "Opening file: ../../../Measurements/BreakTest_AluminiumBeam2/results2/2-0.15/collect_579.bin"
       ]
      },
      {
       "output_type": "stream",
       "stream": "stdout",
       "text": [
        "\n",
        "Closed file: ../../../Measurements/BreakTest_AluminiumBeam2/results2/2-0.15/collect_579.bin\n",
        "Opening file: ../../../Measurements/BreakTest_AluminiumBeam2/results2/2-0.15/collect_580.bin\n",
        "Closed file: ../../../Measurements/BreakTest_AluminiumBeam2/results2/2-0.15/collect_580.bin"
       ]
      },
      {
       "output_type": "stream",
       "stream": "stdout",
       "text": [
        "\n",
        "Opening file: ../../../Measurements/BreakTest_AluminiumBeam2/results2/2-0.15/collect_581.bin\n",
        "Closed file: ../../../Measurements/BreakTest_AluminiumBeam2/results2/2-0.15/collect_581.bin\n",
        "Opening file: ../../../Measurements/BreakTest_AluminiumBeam2/results2/2-0.15/collect_582.bin\n",
        "Closed file: ../../../Measurements/BreakTest_AluminiumBeam2/results2/2-0.15/collect_582.bin"
       ]
      },
      {
       "output_type": "stream",
       "stream": "stdout",
       "text": [
        "\n",
        "Opening file: ../../../Measurements/BreakTest_AluminiumBeam2/results2/2-0.15/collect_583.bin\n",
        "Closed file: ../../../Measurements/BreakTest_AluminiumBeam2/results2/2-0.15/collect_583.bin\n",
        "Opening file: ../../../Measurements/BreakTest_AluminiumBeam2/results2/2-0.15/collect_584.bin"
       ]
      },
      {
       "output_type": "stream",
       "stream": "stdout",
       "text": [
        "\n",
        "Closed file: ../../../Measurements/BreakTest_AluminiumBeam2/results2/2-0.15/collect_584.bin\n",
        "Opening file: ../../../Measurements/BreakTest_AluminiumBeam2/results2/2-0.15/collect_585.bin\n",
        "Closed file: ../../../Measurements/BreakTest_AluminiumBeam2/results2/2-0.15/collect_585.bin\n",
        "Opening file: ../../../Measurements/BreakTest_AluminiumBeam2/results2/2-0.15/collect_586.bin"
       ]
      },
      {
       "output_type": "stream",
       "stream": "stdout",
       "text": [
        "\n",
        "Closed file: ../../../Measurements/BreakTest_AluminiumBeam2/results2/2-0.15/collect_586.bin\n",
        "Opening file: ../../../Measurements/BreakTest_AluminiumBeam2/results2/2-0.15/collect_587.bin\n",
        "Closed file: ../../../Measurements/BreakTest_AluminiumBeam2/results2/2-0.15/collect_587.bin\n",
        "Opening file: ../../../Measurements/BreakTest_AluminiumBeam2/results2/2-0.15/collect_588.bin"
       ]
      },
      {
       "output_type": "stream",
       "stream": "stdout",
       "text": [
        "\n",
        "Closed file: ../../../Measurements/BreakTest_AluminiumBeam2/results2/2-0.15/collect_588.bin\n",
        "Opening file: ../../../Measurements/BreakTest_AluminiumBeam2/results2/2-0.15/collect_589.bin\n",
        "Closed file: ../../../Measurements/BreakTest_AluminiumBeam2/results2/2-0.15/collect_589.bin"
       ]
      },
      {
       "output_type": "stream",
       "stream": "stdout",
       "text": [
        "\n",
        "Opening file: ../../../Measurements/BreakTest_AluminiumBeam2/results2/2-0.15/collect_590.bin\n",
        "Closed file: ../../../Measurements/BreakTest_AluminiumBeam2/results2/2-0.15/collect_590.bin\n",
        "Opening file: ../../../Measurements/BreakTest_AluminiumBeam2/results2/2-0.15/collect_591.bin\n",
        "Closed file: ../../../Measurements/BreakTest_AluminiumBeam2/results2/2-0.15/collect_591.bin\n",
        "Opening file: ../../../Measurements/BreakTest_AluminiumBeam2/results2/2-0.15/collect_592.bin"
       ]
      },
      {
       "output_type": "stream",
       "stream": "stdout",
       "text": [
        "\n",
        "Closed file: ../../../Measurements/BreakTest_AluminiumBeam2/results2/2-0.15/collect_592.bin\n",
        "Opening file: ../../../Measurements/BreakTest_AluminiumBeam2/results2/2-0.15/collect_593.bin\n",
        "Closed file: ../../../Measurements/BreakTest_AluminiumBeam2/results2/2-0.15/collect_593.bin\n",
        "Opening file: ../../../Measurements/BreakTest_AluminiumBeam2/results2/2-0.15/collect_594.bin"
       ]
      },
      {
       "output_type": "stream",
       "stream": "stdout",
       "text": [
        "\n",
        "Closed file: ../../../Measurements/BreakTest_AluminiumBeam2/results2/2-0.15/collect_594.bin\n",
        "Opening file: ../../../Measurements/BreakTest_AluminiumBeam2/results2/2-0.15/collect_595.bin\n",
        "Closed file: ../../../Measurements/BreakTest_AluminiumBeam2/results2/2-0.15/collect_595.bin\n",
        "Opening file: ../../../Measurements/BreakTest_AluminiumBeam2/results2/2-0.15/collect_596.bin\n",
        "Closed file: ../../../Measurements/BreakTest_AluminiumBeam2/results2/2-0.15/collect_596.bin"
       ]
      },
      {
       "output_type": "stream",
       "stream": "stdout",
       "text": [
        "\n",
        "Opening file: ../../../Measurements/BreakTest_AluminiumBeam2/results2/2-0.15/collect_597.bin\n",
        "Closed file: ../../../Measurements/BreakTest_AluminiumBeam2/results2/2-0.15/collect_597.bin\n",
        "Opening file: ../../../Measurements/BreakTest_AluminiumBeam2/results2/2-0.15/collect_598.bin\n",
        "Closed file: ../../../Measurements/BreakTest_AluminiumBeam2/results2/2-0.15/collect_598.bin"
       ]
      },
      {
       "output_type": "stream",
       "stream": "stdout",
       "text": [
        "\n",
        "Opening file: ../../../Measurements/BreakTest_AluminiumBeam2/results2/2-0.15/collect_599.bin\n",
        "Closed file: ../../../Measurements/BreakTest_AluminiumBeam2/results2/2-0.15/collect_599.bin\n",
        "Opening file: ../../../Measurements/BreakTest_AluminiumBeam2/results2/2-0.15/collect_600.bin\n",
        "Closed file: ../../../Measurements/BreakTest_AluminiumBeam2/results2/2-0.15/collect_600.bin"
       ]
      },
      {
       "output_type": "stream",
       "stream": "stdout",
       "text": [
        "\n",
        "Opening file: ../../../Measurements/BreakTest_AluminiumBeam2/results2/2-0.15/collect_601.bin\n",
        "Closed file: ../../../Measurements/BreakTest_AluminiumBeam2/results2/2-0.15/collect_601.bin\n",
        "Opening file: ../../../Measurements/BreakTest_AluminiumBeam2/results2/2-0.15/collect_602.bin\n",
        "Closed file: ../../../Measurements/BreakTest_AluminiumBeam2/results2/2-0.15/collect_602.bin"
       ]
      },
      {
       "output_type": "stream",
       "stream": "stdout",
       "text": [
        "\n",
        "Opening file: ../../../Measurements/BreakTest_AluminiumBeam2/results2/2-0.15/collect_603.bin\n",
        "Closed file: ../../../Measurements/BreakTest_AluminiumBeam2/results2/2-0.15/collect_603.bin\n",
        "Opening file: ../../../Measurements/BreakTest_AluminiumBeam2/results2/2-0.15/collect_604.bin\n",
        "Closed file: ../../../Measurements/BreakTest_AluminiumBeam2/results2/2-0.15/collect_604.bin"
       ]
      },
      {
       "output_type": "stream",
       "stream": "stdout",
       "text": [
        "\n",
        "Opening file: ../../../Measurements/BreakTest_AluminiumBeam2/results2/2-0.15/collect_605.bin\n",
        "Closed file: ../../../Measurements/BreakTest_AluminiumBeam2/results2/2-0.15/collect_605.bin\n",
        "Opening file: ../../../Measurements/BreakTest_AluminiumBeam2/results2/2-0.15/collect_606.bin\n",
        "Closed file: ../../../Measurements/BreakTest_AluminiumBeam2/results2/2-0.15/collect_606.bin"
       ]
      },
      {
       "output_type": "stream",
       "stream": "stdout",
       "text": [
        "\n",
        "Opening file: ../../../Measurements/BreakTest_AluminiumBeam2/results2/2-0.15/collect_607.bin\n",
        "Closed file: ../../../Measurements/BreakTest_AluminiumBeam2/results2/2-0.15/collect_607.bin\n",
        "Opening file: ../../../Measurements/BreakTest_AluminiumBeam2/results2/2-0.15/collect_608.bin\n",
        "Closed file: ../../../Measurements/BreakTest_AluminiumBeam2/results2/2-0.15/collect_608.bin"
       ]
      },
      {
       "output_type": "stream",
       "stream": "stdout",
       "text": [
        "\n",
        "Opening file: ../../../Measurements/BreakTest_AluminiumBeam2/results2/2-0.15/collect_609.bin\n",
        "Closed file: ../../../Measurements/BreakTest_AluminiumBeam2/results2/2-0.15/collect_609.bin\n",
        "Opening file: ../../../Measurements/BreakTest_AluminiumBeam2/results2/2-0.15/collect_610.bin\n",
        "Closed file: ../../../Measurements/BreakTest_AluminiumBeam2/results2/2-0.15/collect_610.bin"
       ]
      },
      {
       "output_type": "stream",
       "stream": "stdout",
       "text": [
        "\n",
        "Opening file: ../../../Measurements/BreakTest_AluminiumBeam2/results2/2-0.15/collect_611.bin\n",
        "Closed file: ../../../Measurements/BreakTest_AluminiumBeam2/results2/2-0.15/collect_611.bin\n",
        "Opening file: ../../../Measurements/BreakTest_AluminiumBeam2/results2/2-0.15/collect_612.bin\n",
        "Closed file: ../../../Measurements/BreakTest_AluminiumBeam2/results2/2-0.15/collect_612.bin"
       ]
      },
      {
       "output_type": "stream",
       "stream": "stdout",
       "text": [
        "\n",
        "Opening file: ../../../Measurements/BreakTest_AluminiumBeam2/results2/2-0.15/collect_613.bin\n",
        "Closed file: ../../../Measurements/BreakTest_AluminiumBeam2/results2/2-0.15/collect_613.bin\n",
        "Opening file: ../../../Measurements/BreakTest_AluminiumBeam2/results2/2-0.15/collect_614.bin"
       ]
      },
      {
       "output_type": "stream",
       "stream": "stdout",
       "text": [
        "\n",
        "Closed file: ../../../Measurements/BreakTest_AluminiumBeam2/results2/2-0.15/collect_614.bin\n",
        "Opening file: ../../../Measurements/BreakTest_AluminiumBeam2/results2/2-0.15/collect_615.bin\n",
        "Closed file: ../../../Measurements/BreakTest_AluminiumBeam2/results2/2-0.15/collect_615.bin\n",
        "Opening file: ../../../Measurements/BreakTest_AluminiumBeam2/results2/2-0.15/collect_616.bin"
       ]
      },
      {
       "output_type": "stream",
       "stream": "stdout",
       "text": [
        "\n",
        "Closed file: ../../../Measurements/BreakTest_AluminiumBeam2/results2/2-0.15/collect_616.bin\n",
        "Opening file: ../../../Measurements/BreakTest_AluminiumBeam2/results2/2-0.15/collect_617.bin\n",
        "Closed file: ../../../Measurements/BreakTest_AluminiumBeam2/results2/2-0.15/collect_617.bin"
       ]
      },
      {
       "output_type": "stream",
       "stream": "stdout",
       "text": [
        "\n",
        "Opening file: ../../../Measurements/BreakTest_AluminiumBeam2/results2/2-0.15/collect_618.bin\n",
        "Closed file: ../../../Measurements/BreakTest_AluminiumBeam2/results2/2-0.15/collect_618.bin\n",
        "Opening file: ../../../Measurements/BreakTest_AluminiumBeam2/results2/2-0.15/collect_619.bin\n",
        "Closed file: ../../../Measurements/BreakTest_AluminiumBeam2/results2/2-0.15/collect_619.bin"
       ]
      },
      {
       "output_type": "stream",
       "stream": "stdout",
       "text": [
        "\n",
        "Opening file: ../../../Measurements/BreakTest_AluminiumBeam2/results2/2-0.15/collect_620.bin\n",
        "Closed file: ../../../Measurements/BreakTest_AluminiumBeam2/results2/2-0.15/collect_620.bin\n",
        "Opening file: ../../../Measurements/BreakTest_AluminiumBeam2/results2/2-0.15/collect_621.bin\n",
        "Closed file: ../../../Measurements/BreakTest_AluminiumBeam2/results2/2-0.15/collect_621.bin"
       ]
      },
      {
       "output_type": "stream",
       "stream": "stdout",
       "text": [
        "\n",
        "Opening file: ../../../Measurements/BreakTest_AluminiumBeam2/results2/2-0.15/collect_622.bin\n",
        "Closed file: ../../../Measurements/BreakTest_AluminiumBeam2/results2/2-0.15/collect_622.bin\n",
        "Opening file: ../../../Measurements/BreakTest_AluminiumBeam2/results2/2-0.15/collect_623.bin\n",
        "Closed file: ../../../Measurements/BreakTest_AluminiumBeam2/results2/2-0.15/collect_623.bin\n",
        "Opening file: ../../../Measurements/BreakTest_AluminiumBeam2/results2/2-0.15/collect_624.bin\n",
        "Closed file: ../../../Measurements/BreakTest_AluminiumBeam2/results2/2-0.15/collect_624.bin"
       ]
      },
      {
       "output_type": "stream",
       "stream": "stdout",
       "text": [
        "\n",
        "Opening file: ../../../Measurements/BreakTest_AluminiumBeam2/results2/2-0.15/collect_625.bin\n",
        "Closed file: ../../../Measurements/BreakTest_AluminiumBeam2/results2/2-0.15/collect_625.bin\n",
        "Opening file: ../../../Measurements/BreakTest_AluminiumBeam2/results2/2-0.15/collect_626.bin\n",
        "Closed file: ../../../Measurements/BreakTest_AluminiumBeam2/results2/2-0.15/collect_626.bin"
       ]
      },
      {
       "output_type": "stream",
       "stream": "stdout",
       "text": [
        "\n",
        "Opening file: ../../../Measurements/BreakTest_AluminiumBeam2/results2/2-0.15/collect_627.bin\n",
        "Closed file: ../../../Measurements/BreakTest_AluminiumBeam2/results2/2-0.15/collect_627.bin\n",
        "Opening file: ../../../Measurements/BreakTest_AluminiumBeam2/results2/2-0.15/collect_628.bin\n",
        "Closed file: ../../../Measurements/BreakTest_AluminiumBeam2/results2/2-0.15/collect_628.bin"
       ]
      },
      {
       "output_type": "stream",
       "stream": "stdout",
       "text": [
        "\n",
        "Opening file: ../../../Measurements/BreakTest_AluminiumBeam2/results2/2-0.15/collect_629.bin\n",
        "Closed file: ../../../Measurements/BreakTest_AluminiumBeam2/results2/2-0.15/collect_629.bin\n",
        "Opening file: ../../../Measurements/BreakTest_AluminiumBeam2/results2/2-0.15/collect_630.bin\n",
        "Closed file: ../../../Measurements/BreakTest_AluminiumBeam2/results2/2-0.15/collect_630.bin"
       ]
      },
      {
       "output_type": "stream",
       "stream": "stdout",
       "text": [
        "\n",
        "Opening file: ../../../Measurements/BreakTest_AluminiumBeam2/results2/2-0.15/collect_631.bin\n",
        "Closed file: ../../../Measurements/BreakTest_AluminiumBeam2/results2/2-0.15/collect_631.bin\n",
        "Opening file: ../../../Measurements/BreakTest_AluminiumBeam2/results2/2-0.15/collect_632.bin\n",
        "Closed file: ../../../Measurements/BreakTest_AluminiumBeam2/results2/2-0.15/collect_632.bin"
       ]
      },
      {
       "output_type": "stream",
       "stream": "stdout",
       "text": [
        "\n",
        "Opening file: ../../../Measurements/BreakTest_AluminiumBeam2/results2/2-0.15/collect_633.bin\n",
        "Closed file: ../../../Measurements/BreakTest_AluminiumBeam2/results2/2-0.15/collect_633.bin\n",
        "Opening file: ../../../Measurements/BreakTest_AluminiumBeam2/results2/2-0.15/collect_634.bin\n",
        "Closed file: ../../../Measurements/BreakTest_AluminiumBeam2/results2/2-0.15/collect_634.bin"
       ]
      },
      {
       "output_type": "stream",
       "stream": "stdout",
       "text": [
        "\n",
        "Opening file: ../../../Measurements/BreakTest_AluminiumBeam2/results2/2-0.15/collect_635.bin\n",
        "Closed file: ../../../Measurements/BreakTest_AluminiumBeam2/results2/2-0.15/collect_635.bin\n",
        "Opening file: ../../../Measurements/BreakTest_AluminiumBeam2/results2/2-0.15/collect_636.bin\n",
        "Closed file: ../../../Measurements/BreakTest_AluminiumBeam2/results2/2-0.15/collect_636.bin\n",
        "Opening file: ../../../Measurements/BreakTest_AluminiumBeam2/results2/2-0.15/collect_637.bin"
       ]
      },
      {
       "output_type": "stream",
       "stream": "stdout",
       "text": [
        "\n",
        "Closed file: ../../../Measurements/BreakTest_AluminiumBeam2/results2/2-0.15/collect_637.bin"
       ]
      },
      {
       "output_type": "stream",
       "stream": "stdout",
       "text": [
        "\n",
        "Opening file: ../../../Measurements/BreakTest_AluminiumBeam2/results2/2-0.15/collect_638.bin\n",
        "Closed file: ../../../Measurements/BreakTest_AluminiumBeam2/results2/2-0.15/collect_638.bin"
       ]
      },
      {
       "output_type": "stream",
       "stream": "stdout",
       "text": [
        "\n",
        "Opening file: ../../../Measurements/BreakTest_AluminiumBeam2/results2/2-0.15/collect_639.bin\n",
        "Closed file: ../../../Measurements/BreakTest_AluminiumBeam2/results2/2-0.15/collect_639.bin\n",
        "Opening file: ../../../Measurements/BreakTest_AluminiumBeam2/results2/2-0.15/collect_640.bin\n",
        "Closed file: ../../../Measurements/BreakTest_AluminiumBeam2/results2/2-0.15/collect_640.bin"
       ]
      },
      {
       "output_type": "stream",
       "stream": "stdout",
       "text": [
        "\n",
        "Opening file: ../../../Measurements/BreakTest_AluminiumBeam2/results2/2-0.15/collect_641.bin\n",
        "Closed file: ../../../Measurements/BreakTest_AluminiumBeam2/results2/2-0.15/collect_641.bin\n",
        "Opening file: ../../../Measurements/BreakTest_AluminiumBeam2/results2/2-0.15/collect_642.bin\n",
        "Closed file: ../../../Measurements/BreakTest_AluminiumBeam2/results2/2-0.15/collect_642.bin"
       ]
      },
      {
       "output_type": "stream",
       "stream": "stdout",
       "text": [
        "\n",
        "Opening file: ../../../Measurements/BreakTest_AluminiumBeam2/results2/2-0.15/collect_643.bin\n",
        "Closed file: ../../../Measurements/BreakTest_AluminiumBeam2/results2/2-0.15/collect_643.bin\n",
        "Opening file: ../../../Measurements/BreakTest_AluminiumBeam2/results2/2-0.15/collect_644.bin\n",
        "Closed file: ../../../Measurements/BreakTest_AluminiumBeam2/results2/2-0.15/collect_644.bin"
       ]
      },
      {
       "output_type": "stream",
       "stream": "stdout",
       "text": [
        "\n",
        "Opening file: ../../../Measurements/BreakTest_AluminiumBeam2/results2/2-0.15/collect_645.bin\n",
        "Closed file: ../../../Measurements/BreakTest_AluminiumBeam2/results2/2-0.15/collect_645.bin\n",
        "Opening file: ../../../Measurements/BreakTest_AluminiumBeam2/results2/2-0.15/collect_646.bin\n",
        "Closed file: ../../../Measurements/BreakTest_AluminiumBeam2/results2/2-0.15/collect_646.bin"
       ]
      },
      {
       "output_type": "stream",
       "stream": "stdout",
       "text": [
        "\n",
        "Opening file: ../../../Measurements/BreakTest_AluminiumBeam2/results2/2-0.15/collect_647.bin\n",
        "Closed file: ../../../Measurements/BreakTest_AluminiumBeam2/results2/2-0.15/collect_647.bin\n",
        "Opening file: ../../../Measurements/BreakTest_AluminiumBeam2/results2/2-0.15/collect_648.bin"
       ]
      },
      {
       "output_type": "stream",
       "stream": "stdout",
       "text": [
        "\n",
        "Closed file: ../../../Measurements/BreakTest_AluminiumBeam2/results2/2-0.15/collect_648.bin\n",
        "Opening file: ../../../Measurements/BreakTest_AluminiumBeam2/results2/2-0.15/collect_649.bin\n",
        "Closed file: ../../../Measurements/BreakTest_AluminiumBeam2/results2/2-0.15/collect_649.bin\n",
        "Opening file: ../../../Measurements/BreakTest_AluminiumBeam2/results2/2-0.15/collect_650.bin"
       ]
      },
      {
       "output_type": "stream",
       "stream": "stdout",
       "text": [
        "\n",
        "Closed file: ../../../Measurements/BreakTest_AluminiumBeam2/results2/2-0.15/collect_650.bin\n",
        "Opening file: ../../../Measurements/BreakTest_AluminiumBeam2/results2/2-0.15/collect_651.bin\n",
        "Closed file: ../../../Measurements/BreakTest_AluminiumBeam2/results2/2-0.15/collect_651.bin\n",
        "Opening file: ../../../Measurements/BreakTest_AluminiumBeam2/results2/2-0.15/collect_652.bin"
       ]
      },
      {
       "output_type": "stream",
       "stream": "stdout",
       "text": [
        "\n",
        "Closed file: ../../../Measurements/BreakTest_AluminiumBeam2/results2/2-0.15/collect_652.bin\n",
        "Opening file: ../../../Measurements/BreakTest_AluminiumBeam2/results2/2-0.15/collect_653.bin\n",
        "Closed file: ../../../Measurements/BreakTest_AluminiumBeam2/results2/2-0.15/collect_653.bin\n",
        "Opening file: ../../../Measurements/BreakTest_AluminiumBeam2/results2/2-0.15/collect_654.bin"
       ]
      },
      {
       "output_type": "stream",
       "stream": "stdout",
       "text": [
        "\n",
        "Closed file: ../../../Measurements/BreakTest_AluminiumBeam2/results2/2-0.15/collect_654.bin\n",
        "Opening file: ../../../Measurements/BreakTest_AluminiumBeam2/results2/2-0.15/collect_655.bin\n",
        "Closed file: ../../../Measurements/BreakTest_AluminiumBeam2/results2/2-0.15/collect_655.bin\n",
        "Opening file: ../../../Measurements/BreakTest_AluminiumBeam2/results2/2-0.15/collect_656.bin\n",
        "Closed file: ../../../Measurements/BreakTest_AluminiumBeam2/results2/2-0.15/collect_656.bin"
       ]
      },
      {
       "output_type": "stream",
       "stream": "stdout",
       "text": [
        "\n",
        "Opening file: ../../../Measurements/BreakTest_AluminiumBeam2/results2/2-0.15/collect_657.bin\n",
        "Closed file: ../../../Measurements/BreakTest_AluminiumBeam2/results2/2-0.15/collect_657.bin\n",
        "Opening file: ../../../Measurements/BreakTest_AluminiumBeam2/results2/2-0.15/collect_658.bin\n",
        "Closed file: ../../../Measurements/BreakTest_AluminiumBeam2/results2/2-0.15/collect_658.bin\n",
        "Opening file: ../../../Measurements/BreakTest_AluminiumBeam2/results2/2-0.15/collect_659.bin\n",
        "Closed file: ../../../Measurements/BreakTest_AluminiumBeam2/results2/2-0.15/collect_659.bin"
       ]
      },
      {
       "output_type": "stream",
       "stream": "stdout",
       "text": [
        "\n",
        "Opening file: ../../../Measurements/BreakTest_AluminiumBeam2/results2/2-0.15/collect_660.bin\n",
        "Closed file: ../../../Measurements/BreakTest_AluminiumBeam2/results2/2-0.15/collect_660.bin\n",
        "Opening file: ../../../Measurements/BreakTest_AluminiumBeam2/results2/2-0.15/collect_661.bin\n",
        "Closed file: ../../../Measurements/BreakTest_AluminiumBeam2/results2/2-0.15/collect_661.bin"
       ]
      },
      {
       "output_type": "stream",
       "stream": "stdout",
       "text": [
        "\n",
        "Opening file: ../../../Measurements/BreakTest_AluminiumBeam2/results2/2-0.15/collect_662.bin\n",
        "Closed file: ../../../Measurements/BreakTest_AluminiumBeam2/results2/2-0.15/collect_662.bin\n",
        "Opening file: ../../../Measurements/BreakTest_AluminiumBeam2/results2/2-0.15/collect_663.bin\n",
        "Closed file: ../../../Measurements/BreakTest_AluminiumBeam2/results2/2-0.15/collect_663.bin"
       ]
      },
      {
       "output_type": "stream",
       "stream": "stdout",
       "text": [
        "\n",
        "Opening file: ../../../Measurements/BreakTest_AluminiumBeam2/results2/2-0.15/collect_664.bin\n",
        "Closed file: ../../../Measurements/BreakTest_AluminiumBeam2/results2/2-0.15/collect_664.bin\n",
        "Opening file: ../../../Measurements/BreakTest_AluminiumBeam2/results2/2-0.15/collect_665.bin\n",
        "Closed file: ../../../Measurements/BreakTest_AluminiumBeam2/results2/2-0.15/collect_665.bin"
       ]
      },
      {
       "output_type": "stream",
       "stream": "stdout",
       "text": [
        "\n",
        "Opening file: ../../../Measurements/BreakTest_AluminiumBeam2/results2/2-0.15/collect_666.bin\n",
        "Closed file: ../../../Measurements/BreakTest_AluminiumBeam2/results2/2-0.15/collect_666.bin\n",
        "Opening file: ../../../Measurements/BreakTest_AluminiumBeam2/results2/2-0.15/collect_667.bin\n",
        "Closed file: ../../../Measurements/BreakTest_AluminiumBeam2/results2/2-0.15/collect_667.bin"
       ]
      },
      {
       "output_type": "stream",
       "stream": "stdout",
       "text": [
        "\n",
        "Opening file: ../../../Measurements/BreakTest_AluminiumBeam2/results2/2-0.15/collect_668.bin\n",
        "Closed file: ../../../Measurements/BreakTest_AluminiumBeam2/results2/2-0.15/collect_668.bin\n",
        "Opening file: ../../../Measurements/BreakTest_AluminiumBeam2/results2/2-0.15/collect_669.bin\n",
        "Closed file: ../../../Measurements/BreakTest_AluminiumBeam2/results2/2-0.15/collect_669.bin"
       ]
      },
      {
       "output_type": "stream",
       "stream": "stdout",
       "text": [
        "\n",
        "Opening file: ../../../Measurements/BreakTest_AluminiumBeam2/results2/2-0.15/collect_670.bin\n",
        "Closed file: ../../../Measurements/BreakTest_AluminiumBeam2/results2/2-0.15/collect_670.bin\n",
        "Opening file: ../../../Measurements/BreakTest_AluminiumBeam2/results2/2-0.15/collect_671.bin\n",
        "Closed file: ../../../Measurements/BreakTest_AluminiumBeam2/results2/2-0.15/collect_671.bin"
       ]
      },
      {
       "output_type": "stream",
       "stream": "stdout",
       "text": [
        "\n",
        "Opening file: ../../../Measurements/BreakTest_AluminiumBeam2/results2/2-0.15/collect_672.bin\n",
        "Closed file: ../../../Measurements/BreakTest_AluminiumBeam2/results2/2-0.15/collect_672.bin\n",
        "Opening file: ../../../Measurements/BreakTest_AluminiumBeam2/results2/2-0.15/collect_673.bin\n",
        "Closed file: ../../../Measurements/BreakTest_AluminiumBeam2/results2/2-0.15/collect_673.bin\n",
        "Opening file: ../../../Measurements/BreakTest_AluminiumBeam2/results2/2-0.15/collect_674.bin\n",
        "Closed file: ../../../Measurements/BreakTest_AluminiumBeam2/results2/2-0.15/collect_674.bin"
       ]
      },
      {
       "output_type": "stream",
       "stream": "stdout",
       "text": [
        "\n",
        "Opening file: ../../../Measurements/BreakTest_AluminiumBeam2/results2/2-0.15/collect_675.bin\n",
        "Closed file: ../../../Measurements/BreakTest_AluminiumBeam2/results2/2-0.15/collect_675.bin\n",
        "Opening file: ../../../Measurements/BreakTest_AluminiumBeam2/results2/2-0.15/collect_676.bin\n",
        "Closed file: ../../../Measurements/BreakTest_AluminiumBeam2/results2/2-0.15/collect_676.bin"
       ]
      },
      {
       "output_type": "stream",
       "stream": "stdout",
       "text": [
        "\n",
        "Opening file: ../../../Measurements/BreakTest_AluminiumBeam2/results2/2-0.15/collect_677.bin\n",
        "Closed file: ../../../Measurements/BreakTest_AluminiumBeam2/results2/2-0.15/collect_677.bin\n",
        "Opening file: ../../../Measurements/BreakTest_AluminiumBeam2/results2/2-0.15/collect_678.bin\n",
        "Closed file: ../../../Measurements/BreakTest_AluminiumBeam2/results2/2-0.15/collect_678.bin\n",
        "Opening file: ../../../Measurements/BreakTest_AluminiumBeam2/results2/2-0.15/collect_679.bin\n",
        "Closed file: ../../../Measurements/BreakTest_AluminiumBeam2/results2/2-0.15/collect_679.bin"
       ]
      },
      {
       "output_type": "stream",
       "stream": "stdout",
       "text": [
        "\n",
        "Opening file: ../../../Measurements/BreakTest_AluminiumBeam2/results2/2-0.15/collect_680.bin\n",
        "Closed file: ../../../Measurements/BreakTest_AluminiumBeam2/results2/2-0.15/collect_680.bin\n",
        "Opening file: ../../../Measurements/BreakTest_AluminiumBeam2/results2/2-0.15/collect_681.bin\n",
        "Closed file: ../../../Measurements/BreakTest_AluminiumBeam2/results2/2-0.15/collect_681.bin\n",
        "Opening file: ../../../Measurements/BreakTest_AluminiumBeam2/results2/2-0.15/collect_682.bin"
       ]
      },
      {
       "output_type": "stream",
       "stream": "stdout",
       "text": [
        "\n",
        "Closed file: ../../../Measurements/BreakTest_AluminiumBeam2/results2/2-0.15/collect_682.bin\n",
        "Opening file: ../../../Measurements/BreakTest_AluminiumBeam2/results2/2-0.15/collect_683.bin\n",
        "Closed file: ../../../Measurements/BreakTest_AluminiumBeam2/results2/2-0.15/collect_683.bin\n",
        "Opening file: ../../../Measurements/BreakTest_AluminiumBeam2/results2/2-0.15/collect_684.bin\n",
        "Closed file: ../../../Measurements/BreakTest_AluminiumBeam2/results2/2-0.15/collect_684.bin"
       ]
      },
      {
       "output_type": "stream",
       "stream": "stdout",
       "text": [
        "\n",
        "Opening file: ../../../Measurements/BreakTest_AluminiumBeam2/results2/2-0.15/collect_685.bin\n",
        "Closed file: ../../../Measurements/BreakTest_AluminiumBeam2/results2/2-0.15/collect_685.bin\n",
        "Opening file: ../../../Measurements/BreakTest_AluminiumBeam2/results2/2-0.15/collect_686.bin\n",
        "Closed file: ../../../Measurements/BreakTest_AluminiumBeam2/results2/2-0.15/collect_686.bin\n",
        "Opening file: ../../../Measurements/BreakTest_AluminiumBeam2/results2/2-0.15/collect_687.bin\n",
        "Closed file: ../../../Measurements/BreakTest_AluminiumBeam2/results2/2-0.15/collect_687.bin"
       ]
      },
      {
       "output_type": "stream",
       "stream": "stdout",
       "text": [
        "\n",
        "Opening file: ../../../Measurements/BreakTest_AluminiumBeam2/results2/2-0.15/collect_688.bin\n",
        "Closed file: ../../../Measurements/BreakTest_AluminiumBeam2/results2/2-0.15/collect_688.bin\n",
        "Opening file: ../../../Measurements/BreakTest_AluminiumBeam2/results2/2-0.15/collect_689.bin\n",
        "Closed file: ../../../Measurements/BreakTest_AluminiumBeam2/results2/2-0.15/collect_689.bin\n",
        "Opening file: ../../../Measurements/BreakTest_AluminiumBeam2/results2/2-0.15/collect_690.bin\n",
        "Closed file: ../../../Measurements/BreakTest_AluminiumBeam2/results2/2-0.15/collect_690.bin"
       ]
      },
      {
       "output_type": "stream",
       "stream": "stdout",
       "text": [
        "\n",
        "Opening file: ../../../Measurements/BreakTest_AluminiumBeam2/results2/2-0.15/collect_691.bin\n",
        "Closed file: ../../../Measurements/BreakTest_AluminiumBeam2/results2/2-0.15/collect_691.bin\n",
        "Opening file: ../../../Measurements/BreakTest_AluminiumBeam2/results2/2-0.15/collect_692.bin\n",
        "Closed file: ../../../Measurements/BreakTest_AluminiumBeam2/results2/2-0.15/collect_692.bin"
       ]
      },
      {
       "output_type": "stream",
       "stream": "stdout",
       "text": [
        "\n",
        "Opening file: ../../../Measurements/BreakTest_AluminiumBeam2/results2/2-0.15/collect_693.bin\n",
        "Closed file: ../../../Measurements/BreakTest_AluminiumBeam2/results2/2-0.15/collect_693.bin\n",
        "Opening file: ../../../Measurements/BreakTest_AluminiumBeam2/results2/2-0.15/collect_694.bin\n",
        "Closed file: ../../../Measurements/BreakTest_AluminiumBeam2/results2/2-0.15/collect_694.bin"
       ]
      },
      {
       "output_type": "stream",
       "stream": "stdout",
       "text": [
        "\n",
        "Opening file: ../../../Measurements/BreakTest_AluminiumBeam2/results2/2-0.15/collect_695.bin\n",
        "Closed file: ../../../Measurements/BreakTest_AluminiumBeam2/results2/2-0.15/collect_695.bin\n",
        "Opening file: ../../../Measurements/BreakTest_AluminiumBeam2/results2/2-0.15/collect_696.bin\n",
        "Closed file: ../../../Measurements/BreakTest_AluminiumBeam2/results2/2-0.15/collect_696.bin\n",
        "Opening file: ../../../Measurements/BreakTest_AluminiumBeam2/results2/2-0.15/collect_697.bin\n",
        "Closed file: ../../../Measurements/BreakTest_AluminiumBeam2/results2/2-0.15/collect_697.bin"
       ]
      },
      {
       "output_type": "stream",
       "stream": "stdout",
       "text": [
        "\n",
        "Opening file: ../../../Measurements/BreakTest_AluminiumBeam2/results2/2-0.15/collect_698.bin\n",
        "Closed file: ../../../Measurements/BreakTest_AluminiumBeam2/results2/2-0.15/collect_698.bin\n",
        "Opening file: ../../../Measurements/BreakTest_AluminiumBeam2/results2/2-0.15/collect_699.bin\n",
        "Closed file: ../../../Measurements/BreakTest_AluminiumBeam2/results2/2-0.15/collect_699.bin\n",
        "Opening file: ../../../Measurements/BreakTest_AluminiumBeam2/results2/2-0.15/collect_700.bin\n",
        "Closed file: ../../../Measurements/BreakTest_AluminiumBeam2/results2/2-0.15/collect_700.bin"
       ]
      },
      {
       "output_type": "stream",
       "stream": "stdout",
       "text": [
        "\n",
        "Opening file: ../../../Measurements/BreakTest_AluminiumBeam2/results2/2-0.15/collect_701.bin\n",
        "Closed file: ../../../Measurements/BreakTest_AluminiumBeam2/results2/2-0.15/collect_701.bin\n",
        "Opening file: ../../../Measurements/BreakTest_AluminiumBeam2/results2/2-0.15/collect_702.bin\n",
        "Closed file: ../../../Measurements/BreakTest_AluminiumBeam2/results2/2-0.15/collect_702.bin"
       ]
      },
      {
       "output_type": "stream",
       "stream": "stdout",
       "text": [
        "\n",
        "Opening file: ../../../Measurements/BreakTest_AluminiumBeam2/results2/2-0.15/collect_703.bin\n",
        "Closed file: ../../../Measurements/BreakTest_AluminiumBeam2/results2/2-0.15/collect_703.bin\n",
        "Opening file: ../../../Measurements/BreakTest_AluminiumBeam2/results2/2-0.15/collect_704.bin\n",
        "Closed file: ../../../Measurements/BreakTest_AluminiumBeam2/results2/2-0.15/collect_704.bin\n",
        "Opening file: ../../../Measurements/BreakTest_AluminiumBeam2/results2/2-0.15/collect_705.bin\n",
        "Closed file: ../../../Measurements/BreakTest_AluminiumBeam2/results2/2-0.15/collect_705.bin"
       ]
      },
      {
       "output_type": "stream",
       "stream": "stdout",
       "text": [
        "\n",
        "Opening file: ../../../Measurements/BreakTest_AluminiumBeam2/results2/2-0.15/collect_706.bin\n",
        "Closed file: ../../../Measurements/BreakTest_AluminiumBeam2/results2/2-0.15/collect_706.bin\n",
        "Opening file: ../../../Measurements/BreakTest_AluminiumBeam2/results2/2-0.15/collect_707.bin\n",
        "Closed file: ../../../Measurements/BreakTest_AluminiumBeam2/results2/2-0.15/collect_707.bin\n",
        "Opening file: ../../../Measurements/BreakTest_AluminiumBeam2/results2/2-0.15/collect_708.bin"
       ]
      },
      {
       "output_type": "stream",
       "stream": "stdout",
       "text": [
        "\n",
        "Closed file: ../../../Measurements/BreakTest_AluminiumBeam2/results2/2-0.15/collect_708.bin\n",
        "Opening file: ../../../Measurements/BreakTest_AluminiumBeam2/results2/2-0.15/collect_709.bin\n",
        "Closed file: ../../../Measurements/BreakTest_AluminiumBeam2/results2/2-0.15/collect_709.bin\n",
        "Opening file: ../../../Measurements/BreakTest_AluminiumBeam2/results2/2-0.15/collect_710.bin\n",
        "Closed file: ../../../Measurements/BreakTest_AluminiumBeam2/results2/2-0.15/collect_710.bin"
       ]
      },
      {
       "output_type": "stream",
       "stream": "stdout",
       "text": [
        "\n",
        "Opening file: ../../../Measurements/BreakTest_AluminiumBeam2/results2/2-0.15/collect_711.bin\n",
        "Closed file: ../../../Measurements/BreakTest_AluminiumBeam2/results2/2-0.15/collect_711.bin\n",
        "Opening file: ../../../Measurements/BreakTest_AluminiumBeam2/results2/2-0.15/collect_712.bin\n",
        "Closed file: ../../../Measurements/BreakTest_AluminiumBeam2/results2/2-0.15/collect_712.bin\n",
        "Opening file: ../../../Measurements/BreakTest_AluminiumBeam2/results2/2-0.15/collect_713.bin\n",
        "Closed file: ../../../Measurements/BreakTest_AluminiumBeam2/results2/2-0.15/collect_713.bin"
       ]
      },
      {
       "output_type": "stream",
       "stream": "stdout",
       "text": [
        "\n",
        "Opening file: ../../../Measurements/BreakTest_AluminiumBeam2/results2/2-0.15/collect_714.bin\n",
        "Closed file: ../../../Measurements/BreakTest_AluminiumBeam2/results2/2-0.15/collect_714.bin\n",
        "Opening file: ../../../Measurements/BreakTest_AluminiumBeam2/results2/2-0.15/collect_715.bin\n",
        "Closed file: ../../../Measurements/BreakTest_AluminiumBeam2/results2/2-0.15/collect_715.bin\n",
        "Opening file: ../../../Measurements/BreakTest_AluminiumBeam2/results2/2-0.15/collect_716.bin\n",
        "Closed file: ../../../Measurements/BreakTest_AluminiumBeam2/results2/2-0.15/collect_716.bin"
       ]
      },
      {
       "output_type": "stream",
       "stream": "stdout",
       "text": [
        "\n",
        "Opening file: ../../../Measurements/BreakTest_AluminiumBeam2/results2/2-0.15/collect_717.bin\n",
        "Closed file: ../../../Measurements/BreakTest_AluminiumBeam2/results2/2-0.15/collect_717.bin\n",
        "Opening file: ../../../Measurements/BreakTest_AluminiumBeam2/results2/2-0.15/collect_718.bin\n",
        "Closed file: ../../../Measurements/BreakTest_AluminiumBeam2/results2/2-0.15/collect_718.bin\n",
        "Opening file: ../../../Measurements/BreakTest_AluminiumBeam2/results2/2-0.15/collect_719.bin\n",
        "Closed file: ../../../Measurements/BreakTest_AluminiumBeam2/results2/2-0.15/collect_719.bin"
       ]
      },
      {
       "output_type": "stream",
       "stream": "stdout",
       "text": [
        "\n",
        "Opening file: ../../../Measurements/BreakTest_AluminiumBeam2/results2/2-0.15/collect_720.bin\n",
        "Closed file: ../../../Measurements/BreakTest_AluminiumBeam2/results2/2-0.15/collect_720.bin\n",
        "Opening file: ../../../Measurements/BreakTest_AluminiumBeam2/results2/2-0.15/collect_721.bin\n",
        "Closed file: ../../../Measurements/BreakTest_AluminiumBeam2/results2/2-0.15/collect_721.bin\n",
        "Opening file: ../../../Measurements/BreakTest_AluminiumBeam2/results2/2-0.15/collect_722.bin\n",
        "Closed file: ../../../Measurements/BreakTest_AluminiumBeam2/results2/2-0.15/collect_722.bin"
       ]
      },
      {
       "output_type": "stream",
       "stream": "stdout",
       "text": [
        "\n",
        "Opening file: ../../../Measurements/BreakTest_AluminiumBeam2/results2/2-0.15/collect_723.bin\n",
        "Closed file: ../../../Measurements/BreakTest_AluminiumBeam2/results2/2-0.15/collect_723.bin\n",
        "Opening file: ../../../Measurements/BreakTest_AluminiumBeam2/results2/2-0.15/collect_724.bin"
       ]
      },
      {
       "output_type": "stream",
       "stream": "stdout",
       "text": [
        "\n",
        "Closed file: ../../../Measurements/BreakTest_AluminiumBeam2/results2/2-0.15/collect_724.bin\n",
        "Opening file: ../../../Measurements/BreakTest_AluminiumBeam2/results2/2-0.15/collect_725.bin\n",
        "Closed file: ../../../Measurements/BreakTest_AluminiumBeam2/results2/2-0.15/collect_725.bin\n",
        "Opening file: ../../../Measurements/BreakTest_AluminiumBeam2/results2/2-0.15/collect_726.bin\n",
        "Closed file: ../../../Measurements/BreakTest_AluminiumBeam2/results2/2-0.15/collect_726.bin"
       ]
      },
      {
       "output_type": "stream",
       "stream": "stdout",
       "text": [
        "\n",
        "Opening file: ../../../Measurements/BreakTest_AluminiumBeam2/results2/2-0.15/collect_727.bin\n",
        "Closed file: ../../../Measurements/BreakTest_AluminiumBeam2/results2/2-0.15/collect_727.bin\n",
        "Opening file: ../../../Measurements/BreakTest_AluminiumBeam2/results2/2-0.15/collect_728.bin\n",
        "Closed file: ../../../Measurements/BreakTest_AluminiumBeam2/results2/2-0.15/collect_728.bin\n",
        "Opening file: ../../../Measurements/BreakTest_AluminiumBeam2/results2/2-0.15/collect_729.bin\n",
        "Closed file: ../../../Measurements/BreakTest_AluminiumBeam2/results2/2-0.15/collect_729.bin"
       ]
      },
      {
       "output_type": "stream",
       "stream": "stdout",
       "text": [
        "\n",
        "Opening file: ../../../Measurements/BreakTest_AluminiumBeam2/results2/2-0.15/collect_730.bin\n",
        "Closed file: ../../../Measurements/BreakTest_AluminiumBeam2/results2/2-0.15/collect_730.bin\n",
        "Opening file: ../../../Measurements/BreakTest_AluminiumBeam2/results2/2-0.15/collect_731.bin\n",
        "Closed file: ../../../Measurements/BreakTest_AluminiumBeam2/results2/2-0.15/collect_731.bin\n",
        "Opening file: ../../../Measurements/BreakTest_AluminiumBeam2/results2/2-0.15/collect_732.bin\n",
        "Closed file: ../../../Measurements/BreakTest_AluminiumBeam2/results2/2-0.15/collect_732.bin"
       ]
      },
      {
       "output_type": "stream",
       "stream": "stdout",
       "text": [
        "\n",
        "Opening file: ../../../Measurements/BreakTest_AluminiumBeam2/results2/2-0.15/collect_733.bin\n",
        "Closed file: ../../../Measurements/BreakTest_AluminiumBeam2/results2/2-0.15/collect_733.bin\n",
        "Opening file: ../../../Measurements/BreakTest_AluminiumBeam2/results2/2-0.15/collect_734.bin\n",
        "Closed file: ../../../Measurements/BreakTest_AluminiumBeam2/results2/2-0.15/collect_734.bin\n",
        "Opening file: ../../../Measurements/BreakTest_AluminiumBeam2/results2/2-0.15/collect_735.bin\n",
        "Closed file: ../../../Measurements/BreakTest_AluminiumBeam2/results2/2-0.15/collect_735.bin"
       ]
      },
      {
       "output_type": "stream",
       "stream": "stdout",
       "text": [
        "\n",
        "Opening file: ../../../Measurements/BreakTest_AluminiumBeam2/results2/2-0.15/collect_736.bin\n",
        "Closed file: ../../../Measurements/BreakTest_AluminiumBeam2/results2/2-0.15/collect_736.bin\n",
        "Opening file: ../../../Measurements/BreakTest_AluminiumBeam2/results2/2-0.15/collect_737.bin\n",
        "Closed file: ../../../Measurements/BreakTest_AluminiumBeam2/results2/2-0.15/collect_737.bin"
       ]
      },
      {
       "output_type": "stream",
       "stream": "stdout",
       "text": [
        "\n",
        "Opening file: ../../../Measurements/BreakTest_AluminiumBeam2/results2/2-0.15/collect_738.bin\n",
        "Closed file: ../../../Measurements/BreakTest_AluminiumBeam2/results2/2-0.15/collect_738.bin\n",
        "Opening file: ../../../Measurements/BreakTest_AluminiumBeam2/results2/2-0.15/collect_739.bin\n",
        "Closed file: ../../../Measurements/BreakTest_AluminiumBeam2/results2/2-0.15/collect_739.bin\n",
        "Opening file: ../../../Measurements/BreakTest_AluminiumBeam2/results2/2-0.15/collect_740.bin\n",
        "Closed file: ../../../Measurements/BreakTest_AluminiumBeam2/results2/2-0.15/collect_740.bin"
       ]
      },
      {
       "output_type": "stream",
       "stream": "stdout",
       "text": [
        "\n",
        "Opening file: ../../../Measurements/BreakTest_AluminiumBeam2/results2/2-0.15/collect_741.bin\n",
        "Closed file: ../../../Measurements/BreakTest_AluminiumBeam2/results2/2-0.15/collect_741.bin\n",
        "Opening file: ../../../Measurements/BreakTest_AluminiumBeam2/results2/2-0.15/collect_742.bin\n",
        "Closed file: ../../../Measurements/BreakTest_AluminiumBeam2/results2/2-0.15/collect_742.bin\n",
        "Opening file: ../../../Measurements/BreakTest_AluminiumBeam2/results2/2-0.15/collect_743.bin"
       ]
      },
      {
       "output_type": "stream",
       "stream": "stdout",
       "text": [
        "\n",
        "Closed file: ../../../Measurements/BreakTest_AluminiumBeam2/results2/2-0.15/collect_743.bin\n",
        "Opening file: ../../../Measurements/BreakTest_AluminiumBeam2/results2/2-0.15/collect_744.bin\n",
        "Closed file: ../../../Measurements/BreakTest_AluminiumBeam2/results2/2-0.15/collect_744.bin\n",
        "Opening file: ../../../Measurements/BreakTest_AluminiumBeam2/results2/2-0.15/collect_745.bin\n",
        "Closed file: ../../../Measurements/BreakTest_AluminiumBeam2/results2/2-0.15/collect_745.bin"
       ]
      },
      {
       "output_type": "stream",
       "stream": "stdout",
       "text": [
        "\n",
        "Opening file: ../../../Measurements/BreakTest_AluminiumBeam2/results2/2-0.15/collect_746.bin\n",
        "Closed file: ../../../Measurements/BreakTest_AluminiumBeam2/results2/2-0.15/collect_746.bin\n",
        "Opening file: ../../../Measurements/BreakTest_AluminiumBeam2/results2/2-0.15/collect_747.bin\n",
        "Closed file: ../../../Measurements/BreakTest_AluminiumBeam2/results2/2-0.15/collect_747.bin"
       ]
      },
      {
       "output_type": "stream",
       "stream": "stdout",
       "text": [
        "\n",
        "Opening file: ../../../Measurements/BreakTest_AluminiumBeam2/results2/2-0.15/collect_748.bin\n",
        "Closed file: ../../../Measurements/BreakTest_AluminiumBeam2/results2/2-0.15/collect_748.bin\n",
        "Opening file: ../../../Measurements/BreakTest_AluminiumBeam2/results2/2-0.15/collect_749.bin\n",
        "Closed file: ../../../Measurements/BreakTest_AluminiumBeam2/results2/2-0.15/collect_749.bin\n",
        "Opening file: ../../../Measurements/BreakTest_AluminiumBeam2/results2/2-0.15/collect_750.bin"
       ]
      },
      {
       "output_type": "stream",
       "stream": "stdout",
       "text": [
        "\n",
        "Closed file: ../../../Measurements/BreakTest_AluminiumBeam2/results2/2-0.15/collect_750.bin\n",
        "Opening file: ../../../Measurements/BreakTest_AluminiumBeam2/results2/2-0.15/collect_751.bin\n",
        "Closed file: ../../../Measurements/BreakTest_AluminiumBeam2/results2/2-0.15/collect_751.bin\n",
        "Opening file: ../../../Measurements/BreakTest_AluminiumBeam2/results2/2-0.15/collect_752.bin"
       ]
      },
      {
       "output_type": "stream",
       "stream": "stdout",
       "text": [
        "\n",
        "Closed file: ../../../Measurements/BreakTest_AluminiumBeam2/results2/2-0.15/collect_752.bin\n",
        "Opening file: ../../../Measurements/BreakTest_AluminiumBeam2/results2/2-0.15/collect_753.bin\n",
        "Closed file: ../../../Measurements/BreakTest_AluminiumBeam2/results2/2-0.15/collect_753.bin\n",
        "Opening file: ../../../Measurements/BreakTest_AluminiumBeam2/results2/2-0.15/collect_754.bin"
       ]
      },
      {
       "output_type": "stream",
       "stream": "stdout",
       "text": [
        "\n",
        "Closed file: ../../../Measurements/BreakTest_AluminiumBeam2/results2/2-0.15/collect_754.bin\n",
        "Opening file: ../../../Measurements/BreakTest_AluminiumBeam2/results2/2-0.15/collect_755.bin\n",
        "Closed file: ../../../Measurements/BreakTest_AluminiumBeam2/results2/2-0.15/collect_755.bin"
       ]
      },
      {
       "output_type": "stream",
       "stream": "stdout",
       "text": [
        "\n",
        "Opening file: ../../../Measurements/BreakTest_AluminiumBeam2/results2/2-0.15/collect_756.bin\n",
        "Closed file: ../../../Measurements/BreakTest_AluminiumBeam2/results2/2-0.15/collect_756.bin\n",
        "Opening file: ../../../Measurements/BreakTest_AluminiumBeam2/results2/2-0.15/collect_757.bin\n",
        "Closed file: ../../../Measurements/BreakTest_AluminiumBeam2/results2/2-0.15/collect_757.bin"
       ]
      },
      {
       "output_type": "stream",
       "stream": "stdout",
       "text": [
        "\n",
        "Opening file: ../../../Measurements/BreakTest_AluminiumBeam2/results2/2-0.15/collect_758.bin\n",
        "Closed file: ../../../Measurements/BreakTest_AluminiumBeam2/results2/2-0.15/collect_758.bin"
       ]
      },
      {
       "output_type": "stream",
       "stream": "stdout",
       "text": [
        "\n",
        "Opening file: ../../../Measurements/BreakTest_AluminiumBeam2/results2/2-0.15/collect_759.bin\n",
        "Closed file: ../../../Measurements/BreakTest_AluminiumBeam2/results2/2-0.15/collect_759.bin\n",
        "Opening file: ../../../Measurements/BreakTest_AluminiumBeam2/results2/2-0.15/collect_760.bin\n",
        "Closed file: ../../../Measurements/BreakTest_AluminiumBeam2/results2/2-0.15/collect_760.bin"
       ]
      },
      {
       "output_type": "stream",
       "stream": "stdout",
       "text": [
        "\n",
        "Opening file: ../../../Measurements/BreakTest_AluminiumBeam2/results2/2-0.15/collect_761.bin\n",
        "Closed file: ../../../Measurements/BreakTest_AluminiumBeam2/results2/2-0.15/collect_761.bin\n",
        "Opening file: ../../../Measurements/BreakTest_AluminiumBeam2/results2/2-0.15/collect_762.bin\n",
        "Closed file: ../../../Measurements/BreakTest_AluminiumBeam2/results2/2-0.15/collect_762.bin"
       ]
      },
      {
       "output_type": "stream",
       "stream": "stdout",
       "text": [
        "\n",
        "Opening file: ../../../Measurements/BreakTest_AluminiumBeam2/results2/2-0.15/collect_763.bin\n",
        "Closed file: ../../../Measurements/BreakTest_AluminiumBeam2/results2/2-0.15/collect_763.bin\n",
        "Opening file: ../../../Measurements/BreakTest_AluminiumBeam2/results2/2-0.15/collect_764.bin\n",
        "Closed file: ../../../Measurements/BreakTest_AluminiumBeam2/results2/2-0.15/collect_764.bin\n",
        "Opening file: ../../../Measurements/BreakTest_AluminiumBeam2/results2/2-0.15/collect_765.bin"
       ]
      },
      {
       "output_type": "stream",
       "stream": "stdout",
       "text": [
        "\n",
        "Closed file: ../../../Measurements/BreakTest_AluminiumBeam2/results2/2-0.15/collect_765.bin\n",
        "Opening file: ../../../Measurements/BreakTest_AluminiumBeam2/results2/2-0.15/collect_766.bin\n",
        "Closed file: ../../../Measurements/BreakTest_AluminiumBeam2/results2/2-0.15/collect_766.bin\n",
        "Opening file: ../../../Measurements/BreakTest_AluminiumBeam2/results2/2-0.15/collect_767.bin"
       ]
      },
      {
       "output_type": "stream",
       "stream": "stdout",
       "text": [
        "\n",
        "Closed file: ../../../Measurements/BreakTest_AluminiumBeam2/results2/2-0.15/collect_767.bin\n",
        "Opening file: ../../../Measurements/BreakTest_AluminiumBeam2/results2/2-0.15/collect_768.bin\n",
        "Closed file: ../../../Measurements/BreakTest_AluminiumBeam2/results2/2-0.15/collect_768.bin\n",
        "Opening file: ../../../Measurements/BreakTest_AluminiumBeam2/results2/2-0.15/collect_769.bin"
       ]
      },
      {
       "output_type": "stream",
       "stream": "stdout",
       "text": [
        "\n",
        "Closed file: ../../../Measurements/BreakTest_AluminiumBeam2/results2/2-0.15/collect_769.bin\n",
        "Opening file: ../../../Measurements/BreakTest_AluminiumBeam2/results2/2-0.15/collect_770.bin\n",
        "Closed file: ../../../Measurements/BreakTest_AluminiumBeam2/results2/2-0.15/collect_770.bin"
       ]
      },
      {
       "output_type": "stream",
       "stream": "stdout",
       "text": [
        "\n",
        "Opening file: ../../../Measurements/BreakTest_AluminiumBeam2/results2/2-0.15/collect_771.bin\n",
        "Closed file: ../../../Measurements/BreakTest_AluminiumBeam2/results2/2-0.15/collect_771.bin\n",
        "Opening file: ../../../Measurements/BreakTest_AluminiumBeam2/results2/2-0.15/collect_772.bin\n",
        "Closed file: ../../../Measurements/BreakTest_AluminiumBeam2/results2/2-0.15/collect_772.bin"
       ]
      },
      {
       "output_type": "stream",
       "stream": "stdout",
       "text": [
        "\n",
        "Opening file: ../../../Measurements/BreakTest_AluminiumBeam2/results2/2-0.15/collect_773.bin\n",
        "Closed file: ../../../Measurements/BreakTest_AluminiumBeam2/results2/2-0.15/collect_773.bin\n",
        "Opening file: ../../../Measurements/BreakTest_AluminiumBeam2/results2/2-0.15/collect_774.bin\n",
        "Closed file: ../../../Measurements/BreakTest_AluminiumBeam2/results2/2-0.15/collect_774.bin\n",
        "Opening file: ../../../Measurements/BreakTest_AluminiumBeam2/results2/2-0.15/collect_775.bin"
       ]
      },
      {
       "output_type": "stream",
       "stream": "stdout",
       "text": [
        "\n",
        "Closed file: ../../../Measurements/BreakTest_AluminiumBeam2/results2/2-0.15/collect_775.bin\n",
        "Opening file: ../../../Measurements/BreakTest_AluminiumBeam2/results2/2-0.15/collect_776.bin\n",
        "Closed file: ../../../Measurements/BreakTest_AluminiumBeam2/results2/2-0.15/collect_776.bin"
       ]
      },
      {
       "output_type": "stream",
       "stream": "stdout",
       "text": [
        "\n",
        "Opening file: ../../../Measurements/BreakTest_AluminiumBeam2/results2/2-0.15/collect_777.bin\n",
        "Closed file: ../../../Measurements/BreakTest_AluminiumBeam2/results2/2-0.15/collect_777.bin\n",
        "Opening file: ../../../Measurements/BreakTest_AluminiumBeam2/results2/2-0.15/collect_778.bin\n",
        "Closed file: ../../../Measurements/BreakTest_AluminiumBeam2/results2/2-0.15/collect_778.bin"
       ]
      },
      {
       "output_type": "stream",
       "stream": "stdout",
       "text": [
        "\n",
        "Opening file: ../../../Measurements/BreakTest_AluminiumBeam2/results2/2-0.15/collect_779.bin\n",
        "Closed file: ../../../Measurements/BreakTest_AluminiumBeam2/results2/2-0.15/collect_779.bin\n",
        "Opening file: ../../../Measurements/BreakTest_AluminiumBeam2/results2/2-0.15/collect_780.bin\n",
        "Closed file: ../../../Measurements/BreakTest_AluminiumBeam2/results2/2-0.15/collect_780.bin"
       ]
      },
      {
       "output_type": "stream",
       "stream": "stdout",
       "text": [
        "\n",
        "Opening file: ../../../Measurements/BreakTest_AluminiumBeam2/results2/2-0.15/collect_781.bin\n",
        "Closed file: ../../../Measurements/BreakTest_AluminiumBeam2/results2/2-0.15/collect_781.bin\n",
        "Opening file: ../../../Measurements/BreakTest_AluminiumBeam2/results2/2-0.15/collect_782.bin"
       ]
      },
      {
       "output_type": "stream",
       "stream": "stdout",
       "text": [
        "\n",
        "Closed file: ../../../Measurements/BreakTest_AluminiumBeam2/results2/2-0.15/collect_782.bin\n",
        "Opening file: ../../../Measurements/BreakTest_AluminiumBeam2/results2/2-0.15/collect_783.bin\n",
        "Closed file: ../../../Measurements/BreakTest_AluminiumBeam2/results2/2-0.15/collect_783.bin"
       ]
      },
      {
       "output_type": "stream",
       "stream": "stdout",
       "text": [
        "\n",
        "Opening file: ../../../Measurements/BreakTest_AluminiumBeam2/results2/2-0.15/collect_784.bin\n",
        "Closed file: ../../../Measurements/BreakTest_AluminiumBeam2/results2/2-0.15/collect_784.bin\n",
        "Opening file: ../../../Measurements/BreakTest_AluminiumBeam2/results2/2-0.15/collect_785.bin\n",
        "Closed file: ../../../Measurements/BreakTest_AluminiumBeam2/results2/2-0.15/collect_785.bin"
       ]
      },
      {
       "output_type": "stream",
       "stream": "stdout",
       "text": [
        "\n",
        "Opening file: ../../../Measurements/BreakTest_AluminiumBeam2/results2/2-0.15/collect_786.bin\n",
        "Closed file: ../../../Measurements/BreakTest_AluminiumBeam2/results2/2-0.15/collect_786.bin\n",
        "Opening file: ../../../Measurements/BreakTest_AluminiumBeam2/results2/2-0.15/collect_787.bin\n",
        "Closed file: ../../../Measurements/BreakTest_AluminiumBeam2/results2/2-0.15/collect_787.bin"
       ]
      },
      {
       "output_type": "stream",
       "stream": "stdout",
       "text": [
        "\n",
        "Opening file: ../../../Measurements/BreakTest_AluminiumBeam2/results2/2-0.15/collect_788.bin\n",
        "Closed file: ../../../Measurements/BreakTest_AluminiumBeam2/results2/2-0.15/collect_788.bin\n",
        "Opening file: ../../../Measurements/BreakTest_AluminiumBeam2/results2/2-0.15/collect_789.bin\n",
        "Closed file: ../../../Measurements/BreakTest_AluminiumBeam2/results2/2-0.15/collect_789.bin"
       ]
      },
      {
       "output_type": "stream",
       "stream": "stdout",
       "text": [
        "\n",
        "Opening file: ../../../Measurements/BreakTest_AluminiumBeam2/results2/2-0.15/collect_790.bin\n",
        "Closed file: ../../../Measurements/BreakTest_AluminiumBeam2/results2/2-0.15/collect_790.bin\n",
        "Opening file: ../../../Measurements/BreakTest_AluminiumBeam2/results2/2-0.15/collect_791.bin\n",
        "Closed file: ../../../Measurements/BreakTest_AluminiumBeam2/results2/2-0.15/collect_791.bin"
       ]
      },
      {
       "output_type": "stream",
       "stream": "stdout",
       "text": [
        "\n",
        "Opening file: ../../../Measurements/BreakTest_AluminiumBeam2/results2/2-0.15/collect_792.bin\n",
        "Closed file: ../../../Measurements/BreakTest_AluminiumBeam2/results2/2-0.15/collect_792.bin"
       ]
      },
      {
       "output_type": "stream",
       "stream": "stdout",
       "text": [
        "\n",
        "Opening file: ../../../Measurements/BreakTest_AluminiumBeam2/results2/2-0.15/collect_793.bin\n",
        "Closed file: ../../../Measurements/BreakTest_AluminiumBeam2/results2/2-0.15/collect_793.bin\n",
        "Opening file: ../../../Measurements/BreakTest_AluminiumBeam2/results2/2-0.15/collect_794.bin\n",
        "Closed file: ../../../Measurements/BreakTest_AluminiumBeam2/results2/2-0.15/collect_794.bin"
       ]
      },
      {
       "output_type": "stream",
       "stream": "stdout",
       "text": [
        "\n",
        "Opening file: ../../../Measurements/BreakTest_AluminiumBeam2/results2/2-0.15/collect_795.bin\n",
        "Closed file: ../../../Measurements/BreakTest_AluminiumBeam2/results2/2-0.15/collect_795.bin\n",
        "Opening file: ../../../Measurements/BreakTest_AluminiumBeam2/results2/2-0.15/collect_796.bin"
       ]
      },
      {
       "output_type": "stream",
       "stream": "stdout",
       "text": [
        "\n",
        "Closed file: ../../../Measurements/BreakTest_AluminiumBeam2/results2/2-0.15/collect_796.bin\n",
        "Opening file: ../../../Measurements/BreakTest_AluminiumBeam2/results2/2-0.15/collect_797.bin\n",
        "Closed file: ../../../Measurements/BreakTest_AluminiumBeam2/results2/2-0.15/collect_797.bin\n",
        "Opening file: ../../../Measurements/BreakTest_AluminiumBeam2/results2/2-0.15/collect_798.bin\n",
        "Closed file: ../../../Measurements/BreakTest_AluminiumBeam2/results2/2-0.15/collect_798.bin"
       ]
      },
      {
       "output_type": "stream",
       "stream": "stdout",
       "text": [
        "\n",
        "Opening file: ../../../Measurements/BreakTest_AluminiumBeam2/results2/2-0.15/collect_799.bin\n",
        "Closed file: ../../../Measurements/BreakTest_AluminiumBeam2/results2/2-0.15/collect_799.bin\n",
        "Opening file: ../../../Measurements/BreakTest_AluminiumBeam2/results2/2-0.15/collect_800.bin\n",
        "Closed file: ../../../Measurements/BreakTest_AluminiumBeam2/results2/2-0.15/collect_800.bin"
       ]
      },
      {
       "output_type": "stream",
       "stream": "stdout",
       "text": [
        "\n",
        "Opening file: ../../../Measurements/BreakTest_AluminiumBeam2/results2/2-0.15/collect_801.bin\n",
        "Closed file: ../../../Measurements/BreakTest_AluminiumBeam2/results2/2-0.15/collect_801.bin\n",
        "Opening file: ../../../Measurements/BreakTest_AluminiumBeam2/results2/2-0.15/collect_802.bin\n",
        "Closed file: ../../../Measurements/BreakTest_AluminiumBeam2/results2/2-0.15/collect_802.bin"
       ]
      },
      {
       "output_type": "stream",
       "stream": "stdout",
       "text": [
        "\n",
        "Opening file: ../../../Measurements/BreakTest_AluminiumBeam2/results2/2-0.15/collect_803.bin\n",
        "Closed file: ../../../Measurements/BreakTest_AluminiumBeam2/results2/2-0.15/collect_803.bin\n",
        "Opening file: ../../../Measurements/BreakTest_AluminiumBeam2/results2/2-0.15/collect_804.bin\n",
        "Closed file: ../../../Measurements/BreakTest_AluminiumBeam2/results2/2-0.15/collect_804.bin"
       ]
      },
      {
       "output_type": "stream",
       "stream": "stdout",
       "text": [
        "\n",
        "Opening file: ../../../Measurements/BreakTest_AluminiumBeam2/results2/2-0.15/collect_805.bin\n",
        "Closed file: ../../../Measurements/BreakTest_AluminiumBeam2/results2/2-0.15/collect_805.bin\n",
        "Opening file: ../../../Measurements/BreakTest_AluminiumBeam2/results2/2-0.15/collect_806.bin\n",
        "Closed file: ../../../Measurements/BreakTest_AluminiumBeam2/results2/2-0.15/collect_806.bin"
       ]
      },
      {
       "output_type": "stream",
       "stream": "stdout",
       "text": [
        "\n",
        "Opening file: ../../../Measurements/BreakTest_AluminiumBeam2/results2/2-0.15/collect_807.bin\n",
        "Closed file: ../../../Measurements/BreakTest_AluminiumBeam2/results2/2-0.15/collect_807.bin\n",
        "Opening file: ../../../Measurements/BreakTest_AluminiumBeam2/results2/2-0.15/collect_808.bin\n",
        "Closed file: ../../../Measurements/BreakTest_AluminiumBeam2/results2/2-0.15/collect_808.bin\n",
        "Opening file: ../../../Measurements/BreakTest_AluminiumBeam2/results2/2-0.15/collect_809.bin"
       ]
      },
      {
       "output_type": "stream",
       "stream": "stdout",
       "text": [
        "\n",
        "Closed file: ../../../Measurements/BreakTest_AluminiumBeam2/results2/2-0.15/collect_809.bin\n",
        "Opening file: ../../../Measurements/BreakTest_AluminiumBeam2/results2/2-0.15/collect_810.bin\n",
        "Closed file: ../../../Measurements/BreakTest_AluminiumBeam2/results2/2-0.15/collect_810.bin"
       ]
      },
      {
       "output_type": "stream",
       "stream": "stdout",
       "text": [
        "\n",
        "Opening file: ../../../Measurements/BreakTest_AluminiumBeam2/results2/2-0.15/collect_811.bin\n",
        "Closed file: ../../../Measurements/BreakTest_AluminiumBeam2/results2/2-0.15/collect_811.bin\n",
        "Opening file: ../../../Measurements/BreakTest_AluminiumBeam2/results2/2-0.15/collect_812.bin"
       ]
      },
      {
       "output_type": "stream",
       "stream": "stdout",
       "text": [
        "\n",
        "Closed file: ../../../Measurements/BreakTest_AluminiumBeam2/results2/2-0.15/collect_812.bin\n",
        "Opening file: ../../../Measurements/BreakTest_AluminiumBeam2/results2/2-0.15/collect_813.bin\n",
        "Closed file: ../../../Measurements/BreakTest_AluminiumBeam2/results2/2-0.15/collect_813.bin"
       ]
      },
      {
       "output_type": "stream",
       "stream": "stdout",
       "text": [
        "\n",
        "Opening file: ../../../Measurements/BreakTest_AluminiumBeam2/results2/2-0.15/collect_814.bin\n",
        "Closed file: ../../../Measurements/BreakTest_AluminiumBeam2/results2/2-0.15/collect_814.bin\n",
        "Opening file: ../../../Measurements/BreakTest_AluminiumBeam2/results2/2-0.15/collect_815.bin\n",
        "Closed file: ../../../Measurements/BreakTest_AluminiumBeam2/results2/2-0.15/collect_815.bin"
       ]
      },
      {
       "output_type": "stream",
       "stream": "stdout",
       "text": [
        "\n",
        "Opening file: ../../../Measurements/BreakTest_AluminiumBeam2/results2/2-0.15/collect_816.bin\n",
        "Closed file: ../../../Measurements/BreakTest_AluminiumBeam2/results2/2-0.15/collect_816.bin\n",
        "Opening file: ../../../Measurements/BreakTest_AluminiumBeam2/results2/2-0.15/collect_817.bin\n",
        "Closed file: ../../../Measurements/BreakTest_AluminiumBeam2/results2/2-0.15/collect_817.bin"
       ]
      },
      {
       "output_type": "stream",
       "stream": "stdout",
       "text": [
        "\n",
        "Opening file: ../../../Measurements/BreakTest_AluminiumBeam2/results2/2-0.15/collect_818.bin\n",
        "Closed file: ../../../Measurements/BreakTest_AluminiumBeam2/results2/2-0.15/collect_818.bin\n",
        "Opening file: ../../../Measurements/BreakTest_AluminiumBeam2/results2/2-0.15/collect_819.bin\n",
        "Closed file: ../../../Measurements/BreakTest_AluminiumBeam2/results2/2-0.15/collect_819.bin"
       ]
      },
      {
       "output_type": "stream",
       "stream": "stdout",
       "text": [
        "\n",
        "Opening file: ../../../Measurements/BreakTest_AluminiumBeam2/results2/2-0.15/collect_820.bin\n",
        "Closed file: ../../../Measurements/BreakTest_AluminiumBeam2/results2/2-0.15/collect_820.bin\n",
        "Opening file: ../../../Measurements/BreakTest_AluminiumBeam2/results2/2-0.15/collect_821.bin\n",
        "Closed file: ../../../Measurements/BreakTest_AluminiumBeam2/results2/2-0.15/collect_821.bin\n",
        "Opening file: ../../../Measurements/BreakTest_AluminiumBeam2/results2/2-0.15/collect_822.bin"
       ]
      },
      {
       "output_type": "stream",
       "stream": "stdout",
       "text": [
        "\n",
        "Closed file: ../../../Measurements/BreakTest_AluminiumBeam2/results2/2-0.15/collect_822.bin\n",
        "Opening file: ../../../Measurements/BreakTest_AluminiumBeam2/results2/2-0.15/collect_823.bin\n",
        "Closed file: ../../../Measurements/BreakTest_AluminiumBeam2/results2/2-0.15/collect_823.bin\n",
        "Opening file: ../../../Measurements/BreakTest_AluminiumBeam2/results2/2-0.15/collect_824.bin"
       ]
      },
      {
       "output_type": "stream",
       "stream": "stdout",
       "text": [
        "\n",
        "Closed file: ../../../Measurements/BreakTest_AluminiumBeam2/results2/2-0.15/collect_824.bin\n",
        "Opening file: ../../../Measurements/BreakTest_AluminiumBeam2/results2/2-0.15/collect_825.bin\n",
        "Closed file: ../../../Measurements/BreakTest_AluminiumBeam2/results2/2-0.15/collect_825.bin\n",
        "Opening file: ../../../Measurements/BreakTest_AluminiumBeam2/results2/2-0.15/collect_826.bin\n",
        "Closed file: ../../../Measurements/BreakTest_AluminiumBeam2/results2/2-0.15/collect_826.bin"
       ]
      },
      {
       "output_type": "stream",
       "stream": "stdout",
       "text": [
        "\n",
        "Opening file: ../../../Measurements/BreakTest_AluminiumBeam2/results2/2-0.15/collect_827.bin\n",
        "Closed file: ../../../Measurements/BreakTest_AluminiumBeam2/results2/2-0.15/collect_827.bin\n",
        "Opening file: ../../../Measurements/BreakTest_AluminiumBeam2/results2/2-0.15/collect_828.bin\n",
        "Closed file: ../../../Measurements/BreakTest_AluminiumBeam2/results2/2-0.15/collect_828.bin\n",
        "Opening file: ../../../Measurements/BreakTest_AluminiumBeam2/results2/2-0.15/collect_829.bin"
       ]
      },
      {
       "output_type": "stream",
       "stream": "stdout",
       "text": [
        "\n",
        "Closed file: ../../../Measurements/BreakTest_AluminiumBeam2/results2/2-0.15/collect_829.bin\n",
        "Opening file: ../../../Measurements/BreakTest_AluminiumBeam2/results2/2-0.15/collect_830.bin\n",
        "Closed file: ../../../Measurements/BreakTest_AluminiumBeam2/results2/2-0.15/collect_830.bin\n",
        "Opening file: ../../../Measurements/BreakTest_AluminiumBeam2/results2/2-0.15/collect_831.bin\n",
        "Closed file: ../../../Measurements/BreakTest_AluminiumBeam2/results2/2-0.15/collect_831.bin"
       ]
      },
      {
       "output_type": "stream",
       "stream": "stdout",
       "text": [
        "\n",
        "Opening file: ../../../Measurements/BreakTest_AluminiumBeam2/results2/2-0.15/collect_832.bin\n",
        "Closed file: ../../../Measurements/BreakTest_AluminiumBeam2/results2/2-0.15/collect_832.bin"
       ]
      },
      {
       "output_type": "stream",
       "stream": "stdout",
       "text": [
        "\n",
        "Opening file: ../../../Measurements/BreakTest_AluminiumBeam2/results2/2-0.15/collect_833.bin\n",
        "Closed file: ../../../Measurements/BreakTest_AluminiumBeam2/results2/2-0.15/collect_833.bin\n",
        "Opening file: ../../../Measurements/BreakTest_AluminiumBeam2/results2/2-0.15/collect_834.bin"
       ]
      },
      {
       "output_type": "stream",
       "stream": "stdout",
       "text": [
        "\n",
        "Closed file: ../../../Measurements/BreakTest_AluminiumBeam2/results2/2-0.15/collect_834.bin\n",
        "Opening file: ../../../Measurements/BreakTest_AluminiumBeam2/results2/2-0.15/collect_835.bin\n",
        "Closed file: ../../../Measurements/BreakTest_AluminiumBeam2/results2/2-0.15/collect_835.bin"
       ]
      },
      {
       "output_type": "stream",
       "stream": "stdout",
       "text": [
        "\n",
        "Opening file: ../../../Measurements/BreakTest_AluminiumBeam2/results2/2-0.15/collect_836.bin\n",
        "Closed file: ../../../Measurements/BreakTest_AluminiumBeam2/results2/2-0.15/collect_836.bin\n",
        "Opening file: ../../../Measurements/BreakTest_AluminiumBeam2/results2/2-0.15/collect_837.bin\n",
        "Closed file: ../../../Measurements/BreakTest_AluminiumBeam2/results2/2-0.15/collect_837.bin"
       ]
      },
      {
       "output_type": "stream",
       "stream": "stdout",
       "text": [
        "\n",
        "Opening file: ../../../Measurements/BreakTest_AluminiumBeam2/results2/2-0.15/collect_838.bin\n",
        "Closed file: ../../../Measurements/BreakTest_AluminiumBeam2/results2/2-0.15/collect_838.bin\n",
        "Opening file: ../../../Measurements/BreakTest_AluminiumBeam2/results2/2-0.15/collect_839.bin\n",
        "Closed file: ../../../Measurements/BreakTest_AluminiumBeam2/results2/2-0.15/collect_839.bin"
       ]
      },
      {
       "output_type": "stream",
       "stream": "stdout",
       "text": [
        "\n",
        "Opening file: ../../../Measurements/BreakTest_AluminiumBeam2/results2/2-0.15/collect_840.bin\n",
        "Closed file: ../../../Measurements/BreakTest_AluminiumBeam2/results2/2-0.15/collect_840.bin\n",
        "Opening file: ../../../Measurements/BreakTest_AluminiumBeam2/results2/2-0.15/collect_841.bin\n",
        "Closed file: ../../../Measurements/BreakTest_AluminiumBeam2/results2/2-0.15/collect_841.bin"
       ]
      },
      {
       "output_type": "stream",
       "stream": "stdout",
       "text": [
        "\n",
        "Opening file: ../../../Measurements/BreakTest_AluminiumBeam2/results2/2-0.15/collect_842.bin\n",
        "Closed file: ../../../Measurements/BreakTest_AluminiumBeam2/results2/2-0.15/collect_842.bin\n",
        "Opening file: ../../../Measurements/BreakTest_AluminiumBeam2/results2/2-0.15/collect_843.bin\n",
        "Closed file: ../../../Measurements/BreakTest_AluminiumBeam2/results2/2-0.15/collect_843.bin"
       ]
      },
      {
       "output_type": "stream",
       "stream": "stdout",
       "text": [
        "\n",
        "Opening file: ../../../Measurements/BreakTest_AluminiumBeam2/results2/2-0.15/collect_844.bin\n",
        "Closed file: ../../../Measurements/BreakTest_AluminiumBeam2/results2/2-0.15/collect_844.bin\n",
        "Opening file: ../../../Measurements/BreakTest_AluminiumBeam2/results2/2-0.15/collect_845.bin\n",
        "Closed file: ../../../Measurements/BreakTest_AluminiumBeam2/results2/2-0.15/collect_845.bin"
       ]
      },
      {
       "output_type": "stream",
       "stream": "stdout",
       "text": [
        "\n",
        "Opening file: ../../../Measurements/BreakTest_AluminiumBeam2/results2/2-0.15/collect_846.bin\n",
        "Closed file: ../../../Measurements/BreakTest_AluminiumBeam2/results2/2-0.15/collect_846.bin\n",
        "Opening file: ../../../Measurements/BreakTest_AluminiumBeam2/results2/2-0.15/collect_847.bin\n",
        "Closed file: ../../../Measurements/BreakTest_AluminiumBeam2/results2/2-0.15/collect_847.bin"
       ]
      },
      {
       "output_type": "stream",
       "stream": "stdout",
       "text": [
        "\n",
        "Opening file: ../../../Measurements/BreakTest_AluminiumBeam2/results2/2-0.15/collect_848.bin\n",
        "Closed file: ../../../Measurements/BreakTest_AluminiumBeam2/results2/2-0.15/collect_848.bin\n",
        "Opening file: ../../../Measurements/BreakTest_AluminiumBeam2/results2/2-0.15/collect_849.bin\n",
        "Closed file: ../../../Measurements/BreakTest_AluminiumBeam2/results2/2-0.15/collect_849.bin"
       ]
      },
      {
       "output_type": "stream",
       "stream": "stdout",
       "text": [
        "\n",
        "Opening file: ../../../Measurements/BreakTest_AluminiumBeam2/results2/2-0.15/collect_850.bin\n",
        "Closed file: ../../../Measurements/BreakTest_AluminiumBeam2/results2/2-0.15/collect_850.bin\n",
        "Opening file: ../../../Measurements/BreakTest_AluminiumBeam2/results2/2-0.15/collect_851.bin\n",
        "Closed file: ../../../Measurements/BreakTest_AluminiumBeam2/results2/2-0.15/collect_851.bin"
       ]
      },
      {
       "output_type": "stream",
       "stream": "stdout",
       "text": [
        "\n",
        "Opening file: ../../../Measurements/BreakTest_AluminiumBeam2/results2/2-0.15/collect_852.bin\n",
        "Closed file: ../../../Measurements/BreakTest_AluminiumBeam2/results2/2-0.15/collect_852.bin\n",
        "Opening file: ../../../Measurements/BreakTest_AluminiumBeam2/results2/2-0.15/collect_853.bin\n",
        "Closed file: ../../../Measurements/BreakTest_AluminiumBeam2/results2/2-0.15/collect_853.bin"
       ]
      },
      {
       "output_type": "stream",
       "stream": "stdout",
       "text": [
        "\n",
        "Opening file: ../../../Measurements/BreakTest_AluminiumBeam2/results2/2-0.15/collect_854.bin\n",
        "Closed file: ../../../Measurements/BreakTest_AluminiumBeam2/results2/2-0.15/collect_854.bin\n",
        "Opening file: ../../../Measurements/BreakTest_AluminiumBeam2/results2/2-0.15/collect_855.bin\n",
        "Closed file: ../../../Measurements/BreakTest_AluminiumBeam2/results2/2-0.15/collect_855.bin\n",
        "Opening file: ../../../Measurements/BreakTest_AluminiumBeam2/results2/2-0.15/collect_856.bin"
       ]
      },
      {
       "output_type": "stream",
       "stream": "stdout",
       "text": [
        "\n",
        "Closed file: ../../../Measurements/BreakTest_AluminiumBeam2/results2/2-0.15/collect_856.bin\n",
        "Opening file: ../../../Measurements/BreakTest_AluminiumBeam2/results2/2-0.15/collect_857.bin\n",
        "Closed file: ../../../Measurements/BreakTest_AluminiumBeam2/results2/2-0.15/collect_857.bin"
       ]
      },
      {
       "output_type": "stream",
       "stream": "stdout",
       "text": [
        "\n",
        "Opening file: ../../../Measurements/BreakTest_AluminiumBeam2/results2/2-0.15/collect_858.bin\n",
        "Closed file: ../../../Measurements/BreakTest_AluminiumBeam2/results2/2-0.15/collect_858.bin\n",
        "Opening file: ../../../Measurements/BreakTest_AluminiumBeam2/results2/2-0.15/collect_859.bin\n",
        "Closed file: ../../../Measurements/BreakTest_AluminiumBeam2/results2/2-0.15/collect_859.bin"
       ]
      },
      {
       "output_type": "stream",
       "stream": "stdout",
       "text": [
        "\n",
        "Opening file: ../../../Measurements/BreakTest_AluminiumBeam2/results2/2-0.15/collect_860.bin\n",
        "Closed file: ../../../Measurements/BreakTest_AluminiumBeam2/results2/2-0.15/collect_860.bin\n",
        "Opening file: ../../../Measurements/BreakTest_AluminiumBeam2/results2/2-0.15/collect_861.bin\n",
        "Closed file: ../../../Measurements/BreakTest_AluminiumBeam2/results2/2-0.15/collect_861.bin"
       ]
      },
      {
       "output_type": "stream",
       "stream": "stdout",
       "text": [
        "\n",
        "Opening file: ../../../Measurements/BreakTest_AluminiumBeam2/results2/2-0.15/collect_862.bin\n",
        "Closed file: ../../../Measurements/BreakTest_AluminiumBeam2/results2/2-0.15/collect_862.bin\n",
        "Opening file: ../../../Measurements/BreakTest_AluminiumBeam2/results2/2-0.15/collect_863.bin\n",
        "Closed file: ../../../Measurements/BreakTest_AluminiumBeam2/results2/2-0.15/collect_863.bin"
       ]
      },
      {
       "output_type": "stream",
       "stream": "stdout",
       "text": [
        "\n",
        "Opening file: ../../../Measurements/BreakTest_AluminiumBeam2/results2/2-0.15/collect_864.bin\n",
        "Closed file: ../../../Measurements/BreakTest_AluminiumBeam2/results2/2-0.15/collect_864.bin\n",
        "Opening file: ../../../Measurements/BreakTest_AluminiumBeam2/results2/2-0.15/collect_865.bin"
       ]
      },
      {
       "output_type": "stream",
       "stream": "stdout",
       "text": [
        "\n",
        "Closed file: ../../../Measurements/BreakTest_AluminiumBeam2/results2/2-0.15/collect_865.bin\n",
        "Opening file: ../../../Measurements/BreakTest_AluminiumBeam2/results2/2-0.15/collect_866.bin\n",
        "Closed file: ../../../Measurements/BreakTest_AluminiumBeam2/results2/2-0.15/collect_866.bin"
       ]
      },
      {
       "output_type": "stream",
       "stream": "stdout",
       "text": [
        "\n",
        "Opening file: ../../../Measurements/BreakTest_AluminiumBeam2/results2/2-0.15/collect_867.bin\n",
        "Closed file: ../../../Measurements/BreakTest_AluminiumBeam2/results2/2-0.15/collect_867.bin\n",
        "Opening file: ../../../Measurements/BreakTest_AluminiumBeam2/results2/2-0.15/collect_868.bin\n",
        "Closed file: ../../../Measurements/BreakTest_AluminiumBeam2/results2/2-0.15/collect_868.bin\n",
        "Opening file: ../../../Measurements/BreakTest_AluminiumBeam2/results2/2-0.15/collect_869.bin"
       ]
      },
      {
       "output_type": "stream",
       "stream": "stdout",
       "text": [
        "\n",
        "Closed file: ../../../Measurements/BreakTest_AluminiumBeam2/results2/2-0.15/collect_869.bin\n",
        "Opening file: ../../../Measurements/BreakTest_AluminiumBeam2/results2/2-0.15/collect_870.bin\n",
        "Closed file: ../../../Measurements/BreakTest_AluminiumBeam2/results2/2-0.15/collect_870.bin"
       ]
      },
      {
       "output_type": "stream",
       "stream": "stdout",
       "text": [
        "\n",
        "Opening file: ../../../Measurements/BreakTest_AluminiumBeam2/results2/2-0.15/collect_871.bin\n",
        "Closed file: ../../../Measurements/BreakTest_AluminiumBeam2/results2/2-0.15/collect_871.bin\n",
        "Opening file: ../../../Measurements/BreakTest_AluminiumBeam2/results2/2-0.15/collect_872.bin\n",
        "Closed file: ../../../Measurements/BreakTest_AluminiumBeam2/results2/2-0.15/collect_872.bin\n",
        "Opening file: ../../../Measurements/BreakTest_AluminiumBeam2/results2/2-0.15/collect_873.bin"
       ]
      },
      {
       "output_type": "stream",
       "stream": "stdout",
       "text": [
        "\n",
        "Closed file: ../../../Measurements/BreakTest_AluminiumBeam2/results2/2-0.15/collect_873.bin\n",
        "Opening file: ../../../Measurements/BreakTest_AluminiumBeam2/results2/2-0.15/collect_874.bin\n",
        "Closed file: ../../../Measurements/BreakTest_AluminiumBeam2/results2/2-0.15/collect_874.bin"
       ]
      },
      {
       "output_type": "stream",
       "stream": "stdout",
       "text": [
        "\n",
        "Opening file: ../../../Measurements/BreakTest_AluminiumBeam2/results2/2-0.15/collect_875.bin\n",
        "Closed file: ../../../Measurements/BreakTest_AluminiumBeam2/results2/2-0.15/collect_875.bin\n",
        "Opening file: ../../../Measurements/BreakTest_AluminiumBeam2/results2/2-0.15/collect_876.bin\n",
        "Closed file: ../../../Measurements/BreakTest_AluminiumBeam2/results2/2-0.15/collect_876.bin"
       ]
      },
      {
       "output_type": "stream",
       "stream": "stdout",
       "text": [
        "\n",
        "Opening file: ../../../Measurements/BreakTest_AluminiumBeam2/results2/2-0.15/collect_877.bin\n",
        "Closed file: ../../../Measurements/BreakTest_AluminiumBeam2/results2/2-0.15/collect_877.bin\n",
        "Opening file: ../../../Measurements/BreakTest_AluminiumBeam2/results2/2-0.15/collect_878.bin\n",
        "Closed file: ../../../Measurements/BreakTest_AluminiumBeam2/results2/2-0.15/collect_878.bin\n",
        "Opening file: ../../../Measurements/BreakTest_AluminiumBeam2/results2/2-0.15/collect_879.bin"
       ]
      },
      {
       "output_type": "stream",
       "stream": "stdout",
       "text": [
        "\n",
        "Closed file: ../../../Measurements/BreakTest_AluminiumBeam2/results2/2-0.15/collect_879.bin\n",
        "Opening file: ../../../Measurements/BreakTest_AluminiumBeam2/results2/2-0.15/collect_880.bin\n",
        "Closed file: ../../../Measurements/BreakTest_AluminiumBeam2/results2/2-0.15/collect_880.bin\n",
        "Opening file: ../../../Measurements/BreakTest_AluminiumBeam2/results2/2-0.15/collect_881.bin\n",
        "Closed file: ../../../Measurements/BreakTest_AluminiumBeam2/results2/2-0.15/collect_881.bin"
       ]
      },
      {
       "output_type": "stream",
       "stream": "stdout",
       "text": [
        "\n",
        "Opening file: ../../../Measurements/BreakTest_AluminiumBeam2/results2/2-0.15/collect_882.bin\n",
        "Closed file: ../../../Measurements/BreakTest_AluminiumBeam2/results2/2-0.15/collect_882.bin\n",
        "Opening file: ../../../Measurements/BreakTest_AluminiumBeam2/results2/2-0.15/collect_883.bin\n",
        "Closed file: ../../../Measurements/BreakTest_AluminiumBeam2/results2/2-0.15/collect_883.bin"
       ]
      },
      {
       "output_type": "stream",
       "stream": "stdout",
       "text": [
        "\n",
        "Opening file: ../../../Measurements/BreakTest_AluminiumBeam2/results2/2-0.15/collect_884.bin\n",
        "Closed file: ../../../Measurements/BreakTest_AluminiumBeam2/results2/2-0.15/collect_884.bin\n",
        "Opening file: ../../../Measurements/BreakTest_AluminiumBeam2/results2/2-0.15/collect_885.bin\n",
        "Closed file: ../../../Measurements/BreakTest_AluminiumBeam2/results2/2-0.15/collect_885.bin"
       ]
      },
      {
       "output_type": "stream",
       "stream": "stdout",
       "text": [
        "\n",
        "Opening file: ../../../Measurements/BreakTest_AluminiumBeam2/results2/2-0.15/collect_886.bin\n",
        "Closed file: ../../../Measurements/BreakTest_AluminiumBeam2/results2/2-0.15/collect_886.bin\n",
        "Opening file: ../../../Measurements/BreakTest_AluminiumBeam2/results2/2-0.15/collect_887.bin\n",
        "Closed file: ../../../Measurements/BreakTest_AluminiumBeam2/results2/2-0.15/collect_887.bin"
       ]
      },
      {
       "output_type": "stream",
       "stream": "stdout",
       "text": [
        "\n",
        "Opening file: ../../../Measurements/BreakTest_AluminiumBeam2/results2/2-0.15/collect_888.bin\n",
        "Closed file: ../../../Measurements/BreakTest_AluminiumBeam2/results2/2-0.15/collect_888.bin\n",
        "Opening file: ../../../Measurements/BreakTest_AluminiumBeam2/results2/2-0.15/collect_889.bin\n",
        "Closed file: ../../../Measurements/BreakTest_AluminiumBeam2/results2/2-0.15/collect_889.bin"
       ]
      },
      {
       "output_type": "stream",
       "stream": "stdout",
       "text": [
        "\n",
        "Opening file: ../../../Measurements/BreakTest_AluminiumBeam2/results2/2-0.15/collect_890.bin\n",
        "Closed file: ../../../Measurements/BreakTest_AluminiumBeam2/results2/2-0.15/collect_890.bin\n",
        "Opening file: ../../../Measurements/BreakTest_AluminiumBeam2/results2/2-0.15/collect_891.bin\n",
        "Closed file: ../../../Measurements/BreakTest_AluminiumBeam2/results2/2-0.15/collect_891.bin"
       ]
      },
      {
       "output_type": "stream",
       "stream": "stdout",
       "text": [
        "\n",
        "Opening file: ../../../Measurements/BreakTest_AluminiumBeam2/results2/2-0.15/collect_892.bin\n",
        "Closed file: ../../../Measurements/BreakTest_AluminiumBeam2/results2/2-0.15/collect_892.bin\n",
        "Opening file: ../../../Measurements/BreakTest_AluminiumBeam2/results2/2-0.15/collect_893.bin\n",
        "Closed file: ../../../Measurements/BreakTest_AluminiumBeam2/results2/2-0.15/collect_893.bin"
       ]
      },
      {
       "output_type": "stream",
       "stream": "stdout",
       "text": [
        "\n",
        "Opening file: ../../../Measurements/BreakTest_AluminiumBeam2/results2/2-0.15/collect_894.bin\n",
        "Closed file: ../../../Measurements/BreakTest_AluminiumBeam2/results2/2-0.15/collect_894.bin\n",
        "Opening file: ../../../Measurements/BreakTest_AluminiumBeam2/results2/2-0.15/collect_895.bin\n",
        "Closed file: ../../../Measurements/BreakTest_AluminiumBeam2/results2/2-0.15/collect_895.bin"
       ]
      },
      {
       "output_type": "stream",
       "stream": "stdout",
       "text": [
        "\n",
        "Opening file: ../../../Measurements/BreakTest_AluminiumBeam2/results2/2-0.15/collect_896.bin\n",
        "Closed file: ../../../Measurements/BreakTest_AluminiumBeam2/results2/2-0.15/collect_896.bin\n",
        "Opening file: ../../../Measurements/BreakTest_AluminiumBeam2/results2/2-0.15/collect_897.bin\n",
        "Closed file: ../../../Measurements/BreakTest_AluminiumBeam2/results2/2-0.15/collect_897.bin\n",
        "Opening file: ../../../Measurements/BreakTest_AluminiumBeam2/results2/2-0.15/collect_898.bin\n",
        "Closed file: ../../../Measurements/BreakTest_AluminiumBeam2/results2/2-0.15/collect_898.bin"
       ]
      },
      {
       "output_type": "stream",
       "stream": "stdout",
       "text": [
        "\n",
        "Opening file: ../../../Measurements/BreakTest_AluminiumBeam2/results2/2-0.15/collect_899.bin\n",
        "Closed file: ../../../Measurements/BreakTest_AluminiumBeam2/results2/2-0.15/collect_899.bin\n",
        "Opening file: ../../../Measurements/BreakTest_AluminiumBeam2/results2/2-0.15/collect_900.bin\n",
        "Closed file: ../../../Measurements/BreakTest_AluminiumBeam2/results2/2-0.15/collect_900.bin\n",
        "Opening file: ../../../Measurements/BreakTest_AluminiumBeam2/results2/2-0.15/collect_901.bin\n",
        "Closed file: ../../../Measurements/BreakTest_AluminiumBeam2/results2/2-0.15/collect_901.bin"
       ]
      },
      {
       "output_type": "stream",
       "stream": "stdout",
       "text": [
        "\n",
        "Opening file: ../../../Measurements/BreakTest_AluminiumBeam2/results2/2-0.15/collect_902.bin\n",
        "Closed file: ../../../Measurements/BreakTest_AluminiumBeam2/results2/2-0.15/collect_902.bin\n",
        "Opening file: ../../../Measurements/BreakTest_AluminiumBeam2/results2/2-0.15/collect_903.bin\n",
        "Closed file: ../../../Measurements/BreakTest_AluminiumBeam2/results2/2-0.15/collect_903.bin"
       ]
      },
      {
       "output_type": "stream",
       "stream": "stdout",
       "text": [
        "\n",
        "Opening file: ../../../Measurements/BreakTest_AluminiumBeam2/results2/2-0.15/collect_904.bin\n",
        "Closed file: ../../../Measurements/BreakTest_AluminiumBeam2/results2/2-0.15/collect_904.bin\n",
        "Opening file: ../../../Measurements/BreakTest_AluminiumBeam2/results2/2-0.15/collect_905.bin\n",
        "Closed file: ../../../Measurements/BreakTest_AluminiumBeam2/results2/2-0.15/collect_905.bin\n",
        "Opening file: ../../../Measurements/BreakTest_AluminiumBeam2/results2/2-0.15/collect_906.bin\n",
        "Closed file: ../../../Measurements/BreakTest_AluminiumBeam2/results2/2-0.15/collect_906.bin"
       ]
      },
      {
       "output_type": "stream",
       "stream": "stdout",
       "text": [
        "\n",
        "Opening file: ../../../Measurements/BreakTest_AluminiumBeam2/results2/2-0.15/collect_907.bin\n",
        "Closed file: ../../../Measurements/BreakTest_AluminiumBeam2/results2/2-0.15/collect_907.bin\n",
        "Opening file: ../../../Measurements/BreakTest_AluminiumBeam2/results2/2-0.15/collect_908.bin\n",
        "Closed file: ../../../Measurements/BreakTest_AluminiumBeam2/results2/2-0.15/collect_908.bin\n",
        "Opening file: ../../../Measurements/BreakTest_AluminiumBeam2/results2/2-0.15/collect_909.bin\n",
        "Closed file: ../../../Measurements/BreakTest_AluminiumBeam2/results2/2-0.15/collect_909.bin\n",
        "Opening file: ../../../Measurements/BreakTest_AluminiumBeam2/results2/2-0.15/collect_910.bin\n",
        "Closed file: ../../../Measurements/BreakTest_AluminiumBeam2/results2/2-0.15/collect_910.bin"
       ]
      },
      {
       "output_type": "stream",
       "stream": "stdout",
       "text": [
        "\n",
        "Opening file: ../../../Measurements/BreakTest_AluminiumBeam2/results2/2-0.15/collect_911.bin\n",
        "Closed file: ../../../Measurements/BreakTest_AluminiumBeam2/results2/2-0.15/collect_911.bin\n",
        "Opening file: ../../../Measurements/BreakTest_AluminiumBeam2/results2/2-0.15/collect_912.bin\n",
        "Closed file: ../../../Measurements/BreakTest_AluminiumBeam2/results2/2-0.15/collect_912.bin\n",
        "Opening file: ../../../Measurements/BreakTest_AluminiumBeam2/results2/2-0.15/collect_913.bin\n",
        "Closed file: ../../../Measurements/BreakTest_AluminiumBeam2/results2/2-0.15/collect_913.bin\n",
        "Opening file: ../../../Measurements/BreakTest_AluminiumBeam2/results2/2-0.15/collect_914.bin\n",
        "Closed file: ../../../Measurements/BreakTest_AluminiumBeam2/results2/2-0.15/collect_914.bin"
       ]
      },
      {
       "output_type": "stream",
       "stream": "stdout",
       "text": [
        "\n",
        "Opening file: ../../../Measurements/BreakTest_AluminiumBeam2/results2/2-0.15/collect_915.bin\n",
        "Closed file: ../../../Measurements/BreakTest_AluminiumBeam2/results2/2-0.15/collect_915.bin\n",
        "Opening file: ../../../Measurements/BreakTest_AluminiumBeam2/results2/2-0.15/collect_916.bin\n",
        "Closed file: ../../../Measurements/BreakTest_AluminiumBeam2/results2/2-0.15/collect_916.bin\n",
        "Opening file: ../../../Measurements/BreakTest_AluminiumBeam2/results2/2-0.15/collect_917.bin\n",
        "Closed file: ../../../Measurements/BreakTest_AluminiumBeam2/results2/2-0.15/collect_917.bin"
       ]
      },
      {
       "output_type": "stream",
       "stream": "stdout",
       "text": [
        "\n",
        "Opening file: ../../../Measurements/BreakTest_AluminiumBeam2/results2/2-0.15/collect_918.bin\n",
        "Closed file: ../../../Measurements/BreakTest_AluminiumBeam2/results2/2-0.15/collect_918.bin\n",
        "Opening file: ../../../Measurements/BreakTest_AluminiumBeam2/results2/2-0.15/collect_919.bin\n",
        "Closed file: ../../../Measurements/BreakTest_AluminiumBeam2/results2/2-0.15/collect_919.bin\n",
        "Opening file: ../../../Measurements/BreakTest_AluminiumBeam2/results2/2-0.15/collect_920.bin"
       ]
      },
      {
       "output_type": "stream",
       "stream": "stdout",
       "text": [
        "\n",
        "Closed file: ../../../Measurements/BreakTest_AluminiumBeam2/results2/2-0.15/collect_920.bin\n",
        "Opening file: ../../../Measurements/BreakTest_AluminiumBeam2/results2/2-0.15/collect_921.bin\n",
        "Closed file: ../../../Measurements/BreakTest_AluminiumBeam2/results2/2-0.15/collect_921.bin\n",
        "Opening file: ../../../Measurements/BreakTest_AluminiumBeam2/results2/2-0.15/collect_922.bin\n",
        "Closed file: ../../../Measurements/BreakTest_AluminiumBeam2/results2/2-0.15/collect_922.bin"
       ]
      },
      {
       "output_type": "stream",
       "stream": "stdout",
       "text": [
        "\n",
        "Opening file: ../../../Measurements/BreakTest_AluminiumBeam2/results2/2-0.15/collect_923.bin\n",
        "Closed file: ../../../Measurements/BreakTest_AluminiumBeam2/results2/2-0.15/collect_923.bin\n",
        "Opening file: ../../../Measurements/BreakTest_AluminiumBeam2/results2/2-0.15/collect_924.bin\n",
        "Closed file: ../../../Measurements/BreakTest_AluminiumBeam2/results2/2-0.15/collect_924.bin\n",
        "Opening file: ../../../Measurements/BreakTest_AluminiumBeam2/results2/2-0.15/collect_925.bin\n",
        "Closed file: ../../../Measurements/BreakTest_AluminiumBeam2/results2/2-0.15/collect_925.bin"
       ]
      },
      {
       "output_type": "stream",
       "stream": "stdout",
       "text": [
        "\n",
        "Opening file: ../../../Measurements/BreakTest_AluminiumBeam2/results2/2-0.15/collect_926.bin\n",
        "Closed file: ../../../Measurements/BreakTest_AluminiumBeam2/results2/2-0.15/collect_926.bin\n",
        "Opening file: ../../../Measurements/BreakTest_AluminiumBeam2/results2/2-0.15/collect_927.bin\n",
        "Closed file: ../../../Measurements/BreakTest_AluminiumBeam2/results2/2-0.15/collect_927.bin\n",
        "Opening file: ../../../Measurements/BreakTest_AluminiumBeam2/results2/2-0.15/collect_928.bin\n",
        "Closed file: ../../../Measurements/BreakTest_AluminiumBeam2/results2/2-0.15/collect_928.bin"
       ]
      },
      {
       "output_type": "stream",
       "stream": "stdout",
       "text": [
        "\n",
        "Opening file: ../../../Measurements/BreakTest_AluminiumBeam2/results2/2-0.15/collect_929.bin\n",
        "Closed file: ../../../Measurements/BreakTest_AluminiumBeam2/results2/2-0.15/collect_929.bin\n",
        "Opening file: ../../../Measurements/BreakTest_AluminiumBeam2/results2/2-0.15/collect_930.bin\n",
        "Closed file: ../../../Measurements/BreakTest_AluminiumBeam2/results2/2-0.15/collect_930.bin\n",
        "Opening file: ../../../Measurements/BreakTest_AluminiumBeam2/results2/2-0.15/collect_931.bin\n",
        "Closed file: ../../../Measurements/BreakTest_AluminiumBeam2/results2/2-0.15/collect_931.bin"
       ]
      },
      {
       "output_type": "stream",
       "stream": "stdout",
       "text": [
        "\n",
        "Opening file: ../../../Measurements/BreakTest_AluminiumBeam2/results2/2-0.15/collect_932.bin\n",
        "Closed file: ../../../Measurements/BreakTest_AluminiumBeam2/results2/2-0.15/collect_932.bin\n",
        "Opening file: ../../../Measurements/BreakTest_AluminiumBeam2/results2/2-0.15/collect_933.bin\n",
        "Closed file: ../../../Measurements/BreakTest_AluminiumBeam2/results2/2-0.15/collect_933.bin\n",
        "Opening file: ../../../Measurements/BreakTest_AluminiumBeam2/results2/2-0.15/collect_934.bin\n",
        "Closed file: ../../../Measurements/BreakTest_AluminiumBeam2/results2/2-0.15/collect_934.bin\n",
        "Opening file: ../../../Measurements/BreakTest_AluminiumBeam2/results2/2-0.15/collect_935.bin"
       ]
      },
      {
       "output_type": "stream",
       "stream": "stdout",
       "text": [
        "\n",
        "Closed file: ../../../Measurements/BreakTest_AluminiumBeam2/results2/2-0.15/collect_935.bin\n",
        "Opening file: ../../../Measurements/BreakTest_AluminiumBeam2/results2/2-0.15/collect_936.bin\n",
        "Closed file: ../../../Measurements/BreakTest_AluminiumBeam2/results2/2-0.15/collect_936.bin\n",
        "Opening file: ../../../Measurements/BreakTest_AluminiumBeam2/results2/2-0.15/collect_937.bin\n",
        "Closed file: ../../../Measurements/BreakTest_AluminiumBeam2/results2/2-0.15/collect_937.bin\n",
        "Opening file: ../../../Measurements/BreakTest_AluminiumBeam2/results2/2-0.15/collect_938.bin\n",
        "Closed file: ../../../Measurements/BreakTest_AluminiumBeam2/results2/2-0.15/collect_938.bin"
       ]
      },
      {
       "output_type": "stream",
       "stream": "stdout",
       "text": [
        "\n",
        "Opening file: ../../../Measurements/BreakTest_AluminiumBeam2/results2/2-0.15/collect_939.bin\n",
        "Closed file: ../../../Measurements/BreakTest_AluminiumBeam2/results2/2-0.15/collect_939.bin\n",
        "Opening file: ../../../Measurements/BreakTest_AluminiumBeam2/results2/2-0.15/collect_940.bin\n",
        "Closed file: ../../../Measurements/BreakTest_AluminiumBeam2/results2/2-0.15/collect_940.bin\n",
        "Opening file: ../../../Measurements/BreakTest_AluminiumBeam2/results2/2-0.15/collect_941.bin\n",
        "Closed file: ../../../Measurements/BreakTest_AluminiumBeam2/results2/2-0.15/collect_941.bin"
       ]
      },
      {
       "output_type": "stream",
       "stream": "stdout",
       "text": [
        "\n",
        "Opening file: ../../../Measurements/BreakTest_AluminiumBeam2/results2/2-0.15/collect_942.bin\n",
        "Closed file: ../../../Measurements/BreakTest_AluminiumBeam2/results2/2-0.15/collect_942.bin\n",
        "Opening file: ../../../Measurements/BreakTest_AluminiumBeam2/results2/2-0.15/collect_943.bin\n",
        "Closed file: ../../../Measurements/BreakTest_AluminiumBeam2/results2/2-0.15/collect_943.bin\n",
        "Opening file: ../../../Measurements/BreakTest_AluminiumBeam2/results2/2-0.15/collect_944.bin\n",
        "Closed file: ../../../Measurements/BreakTest_AluminiumBeam2/results2/2-0.15/collect_944.bin"
       ]
      },
      {
       "output_type": "stream",
       "stream": "stdout",
       "text": [
        "\n",
        "Opening file: ../../../Measurements/BreakTest_AluminiumBeam2/results2/2-0.15/collect_945.bin\n",
        "Closed file: ../../../Measurements/BreakTest_AluminiumBeam2/results2/2-0.15/collect_945.bin\n",
        "Opening file: ../../../Measurements/BreakTest_AluminiumBeam2/results2/2-0.15/collect_946.bin\n",
        "Closed file: ../../../Measurements/BreakTest_AluminiumBeam2/results2/2-0.15/collect_946.bin\n",
        "Opening file: ../../../Measurements/BreakTest_AluminiumBeam2/results2/2-0.15/collect_947.bin\n",
        "Closed file: ../../../Measurements/BreakTest_AluminiumBeam2/results2/2-0.15/collect_947.bin\n",
        "Opening file: ../../../Measurements/BreakTest_AluminiumBeam2/results2/2-0.15/collect_948.bin"
       ]
      },
      {
       "output_type": "stream",
       "stream": "stdout",
       "text": [
        "\n",
        "Closed file: ../../../Measurements/BreakTest_AluminiumBeam2/results2/2-0.15/collect_948.bin\n",
        "Opening file: ../../../Measurements/BreakTest_AluminiumBeam2/results2/2-0.15/collect_949.bin\n",
        "Closed file: ../../../Measurements/BreakTest_AluminiumBeam2/results2/2-0.15/collect_949.bin\n",
        "Opening file: ../../../Measurements/BreakTest_AluminiumBeam2/results2/2-0.15/collect_950.bin\n",
        "Closed file: ../../../Measurements/BreakTest_AluminiumBeam2/results2/2-0.15/collect_950.bin\n",
        "Opening file: ../../../Measurements/BreakTest_AluminiumBeam2/results2/2-0.15/collect_951.bin"
       ]
      },
      {
       "output_type": "stream",
       "stream": "stdout",
       "text": [
        "\n",
        "Closed file: ../../../Measurements/BreakTest_AluminiumBeam2/results2/2-0.15/collect_951.bin\n",
        "Opening file: ../../../Measurements/BreakTest_AluminiumBeam2/results2/2-0.15/collect_952.bin\n",
        "Closed file: ../../../Measurements/BreakTest_AluminiumBeam2/results2/2-0.15/collect_952.bin\n",
        "Opening file: ../../../Measurements/BreakTest_AluminiumBeam2/results2/2-0.15/collect_953.bin\n",
        "Closed file: ../../../Measurements/BreakTest_AluminiumBeam2/results2/2-0.15/collect_953.bin\n",
        "Opening file: ../../../Measurements/BreakTest_AluminiumBeam2/results2/2-0.15/collect_954.bin\n",
        "Closed file: ../../../Measurements/BreakTest_AluminiumBeam2/results2/2-0.15/collect_954.bin"
       ]
      },
      {
       "output_type": "stream",
       "stream": "stdout",
       "text": [
        "\n",
        "Opening file: ../../../Measurements/BreakTest_AluminiumBeam2/results2/2-0.15/collect_955.bin\n",
        "Closed file: ../../../Measurements/BreakTest_AluminiumBeam2/results2/2-0.15/collect_955.bin\n",
        "Opening file: ../../../Measurements/BreakTest_AluminiumBeam2/results2/2-0.15/collect_956.bin\n",
        "Closed file: ../../../Measurements/BreakTest_AluminiumBeam2/results2/2-0.15/collect_956.bin\n",
        "Opening file: ../../../Measurements/BreakTest_AluminiumBeam2/results2/2-0.15/collect_957.bin\n",
        "Closed file: ../../../Measurements/BreakTest_AluminiumBeam2/results2/2-0.15/collect_957.bin\n",
        "Opening file: ../../../Measurements/BreakTest_AluminiumBeam2/results2/2-0.15/collect_958.bin\n",
        "Closed file: ../../../Measurements/BreakTest_AluminiumBeam2/results2/2-0.15/collect_958.bin"
       ]
      },
      {
       "output_type": "stream",
       "stream": "stdout",
       "text": [
        "\n",
        "Opening file: ../../../Measurements/BreakTest_AluminiumBeam2/results2/2-0.15/collect_959.bin\n",
        "Closed file: ../../../Measurements/BreakTest_AluminiumBeam2/results2/2-0.15/collect_959.bin\n",
        "Opening file: ../../../Measurements/BreakTest_AluminiumBeam2/results2/2-0.15/collect_960.bin\n",
        "Closed file: ../../../Measurements/BreakTest_AluminiumBeam2/results2/2-0.15/collect_960.bin\n",
        "Opening file: ../../../Measurements/BreakTest_AluminiumBeam2/results2/2-0.15/collect_961.bin\n",
        "Closed file: ../../../Measurements/BreakTest_AluminiumBeam2/results2/2-0.15/collect_961.bin\n",
        "Opening file: ../../../Measurements/BreakTest_AluminiumBeam2/results2/2-0.15/collect_962.bin"
       ]
      },
      {
       "output_type": "stream",
       "stream": "stdout",
       "text": [
        "\n",
        "Closed file: ../../../Measurements/BreakTest_AluminiumBeam2/results2/2-0.15/collect_962.bin\n",
        "Opening file: ../../../Measurements/BreakTest_AluminiumBeam2/results2/2-0.15/collect_963.bin\n",
        "Closed file: ../../../Measurements/BreakTest_AluminiumBeam2/results2/2-0.15/collect_963.bin\n",
        "Opening file: ../../../Measurements/BreakTest_AluminiumBeam2/results2/2-0.15/collect_964.bin\n",
        "Closed file: ../../../Measurements/BreakTest_AluminiumBeam2/results2/2-0.15/collect_964.bin"
       ]
      },
      {
       "output_type": "stream",
       "stream": "stdout",
       "text": [
        "\n",
        "Opening file: ../../../Measurements/BreakTest_AluminiumBeam2/results2/2-0.15/collect_965.bin\n",
        "Closed file: ../../../Measurements/BreakTest_AluminiumBeam2/results2/2-0.15/collect_965.bin\n",
        "Opening file: ../../../Measurements/BreakTest_AluminiumBeam2/results2/2-0.15/collect_966.bin\n",
        "Closed file: ../../../Measurements/BreakTest_AluminiumBeam2/results2/2-0.15/collect_966.bin\n",
        "Opening file: ../../../Measurements/BreakTest_AluminiumBeam2/results2/2-0.15/collect_967.bin\n",
        "Closed file: ../../../Measurements/BreakTest_AluminiumBeam2/results2/2-0.15/collect_967.bin\n",
        "Opening file: ../../../Measurements/BreakTest_AluminiumBeam2/results2/2-0.15/collect_968.bin"
       ]
      },
      {
       "output_type": "stream",
       "stream": "stdout",
       "text": [
        "\n",
        "Closed file: ../../../Measurements/BreakTest_AluminiumBeam2/results2/2-0.15/collect_968.bin\n",
        "Opening file: ../../../Measurements/BreakTest_AluminiumBeam2/results2/2-0.15/collect_969.bin\n",
        "Closed file: ../../../Measurements/BreakTest_AluminiumBeam2/results2/2-0.15/collect_969.bin\n",
        "Opening file: ../../../Measurements/BreakTest_AluminiumBeam2/results2/2-0.15/collect_970.bin\n",
        "Closed file: ../../../Measurements/BreakTest_AluminiumBeam2/results2/2-0.15/collect_970.bin\n",
        "Opening file: ../../../Measurements/BreakTest_AluminiumBeam2/results2/2-0.15/collect_971.bin\n",
        "Closed file: ../../../Measurements/BreakTest_AluminiumBeam2/results2/2-0.15/collect_971.bin"
       ]
      },
      {
       "output_type": "stream",
       "stream": "stdout",
       "text": [
        "\n",
        "Opening file: ../../../Measurements/BreakTest_AluminiumBeam2/results2/2-0.15/collect_972.bin\n",
        "Closed file: ../../../Measurements/BreakTest_AluminiumBeam2/results2/2-0.15/collect_972.bin\n",
        "Opening file: ../../../Measurements/BreakTest_AluminiumBeam2/results2/2-0.15/collect_973.bin\n",
        "Closed file: ../../../Measurements/BreakTest_AluminiumBeam2/results2/2-0.15/collect_973.bin\n",
        "Opening file: ../../../Measurements/BreakTest_AluminiumBeam2/results2/2-0.15/collect_974.bin"
       ]
      },
      {
       "output_type": "stream",
       "stream": "stdout",
       "text": [
        "\n",
        "Closed file: ../../../Measurements/BreakTest_AluminiumBeam2/results2/2-0.15/collect_974.bin\n",
        "Opening file: ../../../Measurements/BreakTest_AluminiumBeam2/results2/2-0.15/collect_975.bin\n",
        "Closed file: ../../../Measurements/BreakTest_AluminiumBeam2/results2/2-0.15/collect_975.bin"
       ]
      },
      {
       "output_type": "stream",
       "stream": "stdout",
       "text": [
        "\n",
        "Opening file: ../../../Measurements/BreakTest_AluminiumBeam2/results2/2-0.15/collect_976.bin\n",
        "Closed file: ../../../Measurements/BreakTest_AluminiumBeam2/results2/2-0.15/collect_976.bin\n",
        "Opening file: ../../../Measurements/BreakTest_AluminiumBeam2/results2/2-0.15/collect_977.bin\n",
        "Closed file: ../../../Measurements/BreakTest_AluminiumBeam2/results2/2-0.15/collect_977.bin\n",
        "Opening file: ../../../Measurements/BreakTest_AluminiumBeam2/results2/2-0.15/collect_978.bin\n",
        "Closed file: ../../../Measurements/BreakTest_AluminiumBeam2/results2/2-0.15/collect_978.bin"
       ]
      },
      {
       "output_type": "stream",
       "stream": "stdout",
       "text": [
        "\n",
        "Opening file: ../../../Measurements/BreakTest_AluminiumBeam2/results2/2-0.15/collect_979.bin\n",
        "Closed file: ../../../Measurements/BreakTest_AluminiumBeam2/results2/2-0.15/collect_979.bin\n",
        "Opening file: ../../../Measurements/BreakTest_AluminiumBeam2/results2/2-0.15/collect_980.bin\n",
        "Closed file: ../../../Measurements/BreakTest_AluminiumBeam2/results2/2-0.15/collect_980.bin\n",
        "Opening file: ../../../Measurements/BreakTest_AluminiumBeam2/results2/2-0.15/collect_981.bin\n",
        "Closed file: ../../../Measurements/BreakTest_AluminiumBeam2/results2/2-0.15/collect_981.bin"
       ]
      },
      {
       "output_type": "stream",
       "stream": "stdout",
       "text": [
        "\n",
        "Opening file: ../../../Measurements/BreakTest_AluminiumBeam2/results2/2-0.15/collect_982.bin\n",
        "Closed file: ../../../Measurements/BreakTest_AluminiumBeam2/results2/2-0.15/collect_982.bin\n",
        "Opening file: ../../../Measurements/BreakTest_AluminiumBeam2/results2/2-0.15/collect_983.bin\n",
        "Closed file: ../../../Measurements/BreakTest_AluminiumBeam2/results2/2-0.15/collect_983.bin"
       ]
      },
      {
       "output_type": "stream",
       "stream": "stdout",
       "text": [
        "\n",
        "Opening file: ../../../Measurements/BreakTest_AluminiumBeam2/results2/2-0.15/collect_984.bin\n",
        "Closed file: ../../../Measurements/BreakTest_AluminiumBeam2/results2/2-0.15/collect_984.bin\n",
        "Opening file: ../../../Measurements/BreakTest_AluminiumBeam2/results2/2-0.15/collect_985.bin\n",
        "Closed file: ../../../Measurements/BreakTest_AluminiumBeam2/results2/2-0.15/collect_985.bin"
       ]
      },
      {
       "output_type": "stream",
       "stream": "stdout",
       "text": [
        "\n",
        "Opening file: ../../../Measurements/BreakTest_AluminiumBeam2/results2/2-0.15/collect_986.bin\n",
        "Closed file: ../../../Measurements/BreakTest_AluminiumBeam2/results2/2-0.15/collect_986.bin\n",
        "Opening file: ../../../Measurements/BreakTest_AluminiumBeam2/results2/2-0.15/collect_987.bin\n",
        "Closed file: ../../../Measurements/BreakTest_AluminiumBeam2/results2/2-0.15/collect_987.bin"
       ]
      },
      {
       "output_type": "stream",
       "stream": "stdout",
       "text": [
        "\n",
        "Opening file: ../../../Measurements/BreakTest_AluminiumBeam2/results2/2-0.15/collect_988.bin\n",
        "Closed file: ../../../Measurements/BreakTest_AluminiumBeam2/results2/2-0.15/collect_988.bin\n",
        "Opening file: ../../../Measurements/BreakTest_AluminiumBeam2/results2/2-0.15/collect_989.bin\n",
        "Closed file: ../../../Measurements/BreakTest_AluminiumBeam2/results2/2-0.15/collect_989.bin"
       ]
      },
      {
       "output_type": "stream",
       "stream": "stdout",
       "text": [
        "\n",
        "Opening file: ../../../Measurements/BreakTest_AluminiumBeam2/results2/2-0.15/collect_990.bin\n",
        "Closed file: ../../../Measurements/BreakTest_AluminiumBeam2/results2/2-0.15/collect_990.bin\n",
        "Opening file: ../../../Measurements/BreakTest_AluminiumBeam2/results2/2-0.15/collect_991.bin\n",
        "Closed file: ../../../Measurements/BreakTest_AluminiumBeam2/results2/2-0.15/collect_991.bin"
       ]
      },
      {
       "output_type": "stream",
       "stream": "stdout",
       "text": [
        "\n",
        "Opening file: ../../../Measurements/BreakTest_AluminiumBeam2/results2/2-0.15/collect_992.bin\n",
        "Closed file: ../../../Measurements/BreakTest_AluminiumBeam2/results2/2-0.15/collect_992.bin\n",
        "Opening file: ../../../Measurements/BreakTest_AluminiumBeam2/results2/2-0.15/collect_993.bin\n",
        "Closed file: ../../../Measurements/BreakTest_AluminiumBeam2/results2/2-0.15/collect_993.bin"
       ]
      },
      {
       "output_type": "stream",
       "stream": "stdout",
       "text": [
        "\n",
        "Opening file: ../../../Measurements/BreakTest_AluminiumBeam2/results2/2-0.15/collect_994.bin\n",
        "Closed file: ../../../Measurements/BreakTest_AluminiumBeam2/results2/2-0.15/collect_994.bin\n",
        "Opening file: ../../../Measurements/BreakTest_AluminiumBeam2/results2/2-0.15/collect_995.bin\n",
        "Closed file: ../../../Measurements/BreakTest_AluminiumBeam2/results2/2-0.15/collect_995.bin"
       ]
      },
      {
       "output_type": "stream",
       "stream": "stdout",
       "text": [
        "\n",
        "Opening file: ../../../Measurements/BreakTest_AluminiumBeam2/results2/2-0.15/collect_996.bin\n",
        "Closed file: ../../../Measurements/BreakTest_AluminiumBeam2/results2/2-0.15/collect_996.bin\n",
        "Opening file: ../../../Measurements/BreakTest_AluminiumBeam2/results2/2-0.15/collect_997.bin\n",
        "Closed file: ../../../Measurements/BreakTest_AluminiumBeam2/results2/2-0.15/collect_997.bin"
       ]
      },
      {
       "output_type": "stream",
       "stream": "stdout",
       "text": [
        "\n",
        "Opening file: ../../../Measurements/BreakTest_AluminiumBeam2/results2/2-0.15/collect_998.bin\n",
        "Closed file: ../../../Measurements/BreakTest_AluminiumBeam2/results2/2-0.15/collect_998.bin\n",
        "Opening file: ../../../Measurements/BreakTest_AluminiumBeam2/results2/2-0.15/collect_999.bin\n",
        "Closed file: ../../../Measurements/BreakTest_AluminiumBeam2/results2/2-0.15/collect_999.bin"
       ]
      },
      {
       "output_type": "stream",
       "stream": "stdout",
       "text": [
        "\n",
        "Opening file: ../../../Measurements/BreakTest_AluminiumBeam2/results2/2-0.15/collect_1000.bin\n",
        "Closed file: ../../../Measurements/BreakTest_AluminiumBeam2/results2/2-0.15/collect_1000.bin\n",
        "Opening file: ../../../Measurements/BreakTest_AluminiumBeam2/results2/2-0.15/collect_1001.bin\n",
        "Closed file: ../../../Measurements/BreakTest_AluminiumBeam2/results2/2-0.15/collect_1001.bin\n",
        "Opening file: ../../../Measurements/BreakTest_AluminiumBeam2/results2/2-0.15/collect_1002.bin"
       ]
      },
      {
       "output_type": "stream",
       "stream": "stdout",
       "text": [
        "\n",
        "Closed file: ../../../Measurements/BreakTest_AluminiumBeam2/results2/2-0.15/collect_1002.bin\n",
        "Opening file: ../../../Measurements/BreakTest_AluminiumBeam2/results2/2-0.15/collect_1003.bin\n",
        "Closed file: ../../../Measurements/BreakTest_AluminiumBeam2/results2/2-0.15/collect_1003.bin\n",
        "Opening file: ../../../Measurements/BreakTest_AluminiumBeam2/results2/2-0.15/collect_1004.bin"
       ]
      },
      {
       "output_type": "stream",
       "stream": "stdout",
       "text": [
        "\n",
        "Closed file: ../../../Measurements/BreakTest_AluminiumBeam2/results2/2-0.15/collect_1004.bin\n",
        "Opening file: ../../../Measurements/BreakTest_AluminiumBeam2/results2/2-0.15/collect_1005.bin\n",
        "Closed file: ../../../Measurements/BreakTest_AluminiumBeam2/results2/2-0.15/collect_1005.bin\n",
        "Opening file: ../../../Measurements/BreakTest_AluminiumBeam2/results2/2-0.15/collect_1006.bin\n",
        "Closed file: ../../../Measurements/BreakTest_AluminiumBeam2/results2/2-0.15/collect_1006.bin"
       ]
      },
      {
       "output_type": "stream",
       "stream": "stdout",
       "text": [
        "\n",
        "Opening file: ../../../Measurements/BreakTest_AluminiumBeam2/results2/2-0.15/collect_1007.bin\n",
        "Closed file: ../../../Measurements/BreakTest_AluminiumBeam2/results2/2-0.15/collect_1007.bin\n",
        "Opening file: ../../../Measurements/BreakTest_AluminiumBeam2/results2/2-0.15/collect_1008.bin\n",
        "Closed file: ../../../Measurements/BreakTest_AluminiumBeam2/results2/2-0.15/collect_1008.bin\n",
        "Opening file: ../../../Measurements/BreakTest_AluminiumBeam2/results2/2-0.15/collect_1009.bin"
       ]
      },
      {
       "output_type": "stream",
       "stream": "stdout",
       "text": [
        "\n",
        "Closed file: ../../../Measurements/BreakTest_AluminiumBeam2/results2/2-0.15/collect_1009.bin\n",
        "Opening file: ../../../Measurements/BreakTest_AluminiumBeam2/results2/2-0.15/collect_1010.bin\n",
        "Closed file: ../../../Measurements/BreakTest_AluminiumBeam2/results2/2-0.15/collect_1010.bin\n",
        "Opening file: ../../../Measurements/BreakTest_AluminiumBeam2/results2/2-0.15/collect_1011.bin\n",
        "Closed file: ../../../Measurements/BreakTest_AluminiumBeam2/results2/2-0.15/collect_1011.bin"
       ]
      },
      {
       "output_type": "stream",
       "stream": "stdout",
       "text": [
        "\n",
        "Opening file: ../../../Measurements/BreakTest_AluminiumBeam2/results2/2-0.15/collect_1012.bin\n",
        "Closed file: ../../../Measurements/BreakTest_AluminiumBeam2/results2/2-0.15/collect_1012.bin\n",
        "Opening file: ../../../Measurements/BreakTest_AluminiumBeam2/results2/2-0.15/collect_1013.bin\n",
        "Closed file: ../../../Measurements/BreakTest_AluminiumBeam2/results2/2-0.15/collect_1013.bin"
       ]
      },
      {
       "output_type": "stream",
       "stream": "stdout",
       "text": [
        "\n",
        "Opening file: ../../../Measurements/BreakTest_AluminiumBeam2/results2/2-0.15/collect_1014.bin\n",
        "Closed file: ../../../Measurements/BreakTest_AluminiumBeam2/results2/2-0.15/collect_1014.bin\n",
        "Opening file: ../../../Measurements/BreakTest_AluminiumBeam2/results2/2-0.15/collect_1015.bin\n",
        "Closed file: ../../../Measurements/BreakTest_AluminiumBeam2/results2/2-0.15/collect_1015.bin"
       ]
      },
      {
       "output_type": "stream",
       "stream": "stdout",
       "text": [
        "\n",
        "Opening file: ../../../Measurements/BreakTest_AluminiumBeam2/results2/2-0.15/collect_1016.bin\n",
        "Closed file: ../../../Measurements/BreakTest_AluminiumBeam2/results2/2-0.15/collect_1016.bin\n",
        "Opening file: ../../../Measurements/BreakTest_AluminiumBeam2/results2/2-0.15/collect_1017.bin\n",
        "Closed file: ../../../Measurements/BreakTest_AluminiumBeam2/results2/2-0.15/collect_1017.bin"
       ]
      },
      {
       "output_type": "stream",
       "stream": "stdout",
       "text": [
        "\n",
        "Opening file: ../../../Measurements/BreakTest_AluminiumBeam2/results2/2-0.15/collect_1018.bin\n",
        "Closed file: ../../../Measurements/BreakTest_AluminiumBeam2/results2/2-0.15/collect_1018.bin\n",
        "Opening file: ../../../Measurements/BreakTest_AluminiumBeam2/results2/2-0.15/collect_1019.bin\n",
        "Closed file: ../../../Measurements/BreakTest_AluminiumBeam2/results2/2-0.15/collect_1019.bin"
       ]
      },
      {
       "output_type": "stream",
       "stream": "stdout",
       "text": [
        "\n",
        "Opening file: ../../../Measurements/BreakTest_AluminiumBeam2/results2/2-0.15/collect_1020.bin\n",
        "Closed file: ../../../Measurements/BreakTest_AluminiumBeam2/results2/2-0.15/collect_1020.bin\n",
        "Opening file: ../../../Measurements/BreakTest_AluminiumBeam2/results2/2-0.15/collect_1021.bin\n",
        "Closed file: ../../../Measurements/BreakTest_AluminiumBeam2/results2/2-0.15/collect_1021.bin"
       ]
      },
      {
       "output_type": "stream",
       "stream": "stdout",
       "text": [
        "\n",
        "Opening file: ../../../Measurements/BreakTest_AluminiumBeam2/results2/2-0.15/collect_1022.bin\n",
        "Closed file: ../../../Measurements/BreakTest_AluminiumBeam2/results2/2-0.15/collect_1022.bin\n",
        "Opening file: ../../../Measurements/BreakTest_AluminiumBeam2/results2/2-0.15/collect_1023.bin\n",
        "Closed file: ../../../Measurements/BreakTest_AluminiumBeam2/results2/2-0.15/collect_1023.bin"
       ]
      },
      {
       "output_type": "stream",
       "stream": "stdout",
       "text": [
        "\n",
        "Opening file: ../../../Measurements/BreakTest_AluminiumBeam2/results2/2-0.15/collect_1024.bin\n",
        "Closed file: ../../../Measurements/BreakTest_AluminiumBeam2/results2/2-0.15/collect_1024.bin\n",
        "Opening file: ../../../Measurements/BreakTest_AluminiumBeam2/results2/2-0.15/collect_1025.bin\n",
        "Closed file: ../../../Measurements/BreakTest_AluminiumBeam2/results2/2-0.15/collect_1025.bin"
       ]
      },
      {
       "output_type": "stream",
       "stream": "stdout",
       "text": [
        "\n",
        "Opening file: ../../../Measurements/BreakTest_AluminiumBeam2/results2/2-0.15/collect_1026.bin\n",
        "Closed file: ../../../Measurements/BreakTest_AluminiumBeam2/results2/2-0.15/collect_1026.bin\n",
        "Opening file: ../../../Measurements/BreakTest_AluminiumBeam2/results2/2-0.15/collect_1027.bin\n",
        "Closed file: ../../../Measurements/BreakTest_AluminiumBeam2/results2/2-0.15/collect_1027.bin"
       ]
      },
      {
       "output_type": "stream",
       "stream": "stdout",
       "text": [
        "\n",
        "Opening file: ../../../Measurements/BreakTest_AluminiumBeam2/results2/2-0.15/collect_1028.bin\n",
        "Closed file: ../../../Measurements/BreakTest_AluminiumBeam2/results2/2-0.15/collect_1028.bin\n",
        "Opening file: ../../../Measurements/BreakTest_AluminiumBeam2/results2/2-0.15/collect_1029.bin\n",
        "Closed file: ../../../Measurements/BreakTest_AluminiumBeam2/results2/2-0.15/collect_1029.bin"
       ]
      },
      {
       "output_type": "stream",
       "stream": "stdout",
       "text": [
        "\n",
        "Opening file: ../../../Measurements/BreakTest_AluminiumBeam2/results2/2-0.15/collect_1030.bin\n",
        "Closed file: ../../../Measurements/BreakTest_AluminiumBeam2/results2/2-0.15/collect_1030.bin\n",
        "Opening file: ../../../Measurements/BreakTest_AluminiumBeam2/results2/2-0.15/collect_1031.bin\n",
        "Closed file: ../../../Measurements/BreakTest_AluminiumBeam2/results2/2-0.15/collect_1031.bin"
       ]
      },
      {
       "output_type": "stream",
       "stream": "stdout",
       "text": [
        "\n",
        "Opening file: ../../../Measurements/BreakTest_AluminiumBeam2/results2/2-0.15/collect_1032.bin\n",
        "Closed file: ../../../Measurements/BreakTest_AluminiumBeam2/results2/2-0.15/collect_1032.bin\n",
        "Opening file: ../../../Measurements/BreakTest_AluminiumBeam2/results2/2-0.15/collect_1033.bin\n",
        "Closed file: ../../../Measurements/BreakTest_AluminiumBeam2/results2/2-0.15/collect_1033.bin\n",
        "Opening file: ../../../Measurements/BreakTest_AluminiumBeam2/results2/2-0.15/collect_1034.bin"
       ]
      },
      {
       "output_type": "stream",
       "stream": "stdout",
       "text": [
        "\n",
        "Closed file: ../../../Measurements/BreakTest_AluminiumBeam2/results2/2-0.15/collect_1034.bin\n",
        "Opening file: ../../../Measurements/BreakTest_AluminiumBeam2/results2/2-0.15/collect_1035.bin\n",
        "Closed file: ../../../Measurements/BreakTest_AluminiumBeam2/results2/2-0.15/collect_1035.bin\n",
        "Opening file: ../../../Measurements/BreakTest_AluminiumBeam2/results2/2-0.15/collect_1036.bin\n",
        "Closed file: ../../../Measurements/BreakTest_AluminiumBeam2/results2/2-0.15/collect_1036.bin\n",
        "Opening file: ../../../Measurements/BreakTest_AluminiumBeam2/results2/2-0.15/collect_1037.bin\n",
        "Closed file: ../../../Measurements/BreakTest_AluminiumBeam2/results2/2-0.15/collect_1037.bin"
       ]
      },
      {
       "output_type": "stream",
       "stream": "stdout",
       "text": [
        "\n",
        "Opening file: ../../../Measurements/BreakTest_AluminiumBeam2/results2/2-0.15/collect_1038.bin\n",
        "Closed file: ../../../Measurements/BreakTest_AluminiumBeam2/results2/2-0.15/collect_1038.bin\n",
        "Opening file: ../../../Measurements/BreakTest_AluminiumBeam2/results2/2-0.15/collect_1039.bin\n",
        "Closed file: ../../../Measurements/BreakTest_AluminiumBeam2/results2/2-0.15/collect_1039.bin\n",
        "Opening file: ../../../Measurements/BreakTest_AluminiumBeam2/results2/2-0.15/collect_1040.bin\n",
        "Closed file: ../../../Measurements/BreakTest_AluminiumBeam2/results2/2-0.15/collect_1040.bin"
       ]
      },
      {
       "output_type": "stream",
       "stream": "stdout",
       "text": [
        "\n",
        "Opening file: ../../../Measurements/BreakTest_AluminiumBeam2/results2/2-0.15/collect_1041.bin\n",
        "Closed file: ../../../Measurements/BreakTest_AluminiumBeam2/results2/2-0.15/collect_1041.bin\n",
        "Opening file: ../../../Measurements/BreakTest_AluminiumBeam2/results2/2-0.15/collect_1042.bin\n",
        "Closed file: ../../../Measurements/BreakTest_AluminiumBeam2/results2/2-0.15/collect_1042.bin\n",
        "Opening file: ../../../Measurements/BreakTest_AluminiumBeam2/results2/2-0.15/collect_1043.bin\n",
        "Closed file: ../../../Measurements/BreakTest_AluminiumBeam2/results2/2-0.15/collect_1043.bin"
       ]
      },
      {
       "output_type": "stream",
       "stream": "stdout",
       "text": [
        "\n",
        "Opening file: ../../../Measurements/BreakTest_AluminiumBeam2/results2/2-0.15/collect_1044.bin\n",
        "Closed file: ../../../Measurements/BreakTest_AluminiumBeam2/results2/2-0.15/collect_1044.bin\n",
        "Opening file: ../../../Measurements/BreakTest_AluminiumBeam2/results2/2-0.15/collect_1045.bin\n",
        "Closed file: ../../../Measurements/BreakTest_AluminiumBeam2/results2/2-0.15/collect_1045.bin\n",
        "Opening file: ../../../Measurements/BreakTest_AluminiumBeam2/results2/2-0.15/collect_1046.bin\n",
        "Closed file: ../../../Measurements/BreakTest_AluminiumBeam2/results2/2-0.15/collect_1046.bin"
       ]
      },
      {
       "output_type": "stream",
       "stream": "stdout",
       "text": [
        "\n",
        "Opening file: ../../../Measurements/BreakTest_AluminiumBeam2/results2/2-0.15/collect_1047.bin\n",
        "Closed file: ../../../Measurements/BreakTest_AluminiumBeam2/results2/2-0.15/collect_1047.bin\n",
        "Opening file: ../../../Measurements/BreakTest_AluminiumBeam2/results2/2-0.15/collect_1048.bin\n",
        "Closed file: ../../../Measurements/BreakTest_AluminiumBeam2/results2/2-0.15/collect_1048.bin\n",
        "Opening file: ../../../Measurements/BreakTest_AluminiumBeam2/results2/2-0.15/collect_1049.bin\n",
        "Closed file: ../../../Measurements/BreakTest_AluminiumBeam2/results2/2-0.15/collect_1049.bin\n",
        "Opening file: ../../../Measurements/BreakTest_AluminiumBeam2/results2/2-0.15/collect_1050.bin"
       ]
      },
      {
       "output_type": "stream",
       "stream": "stdout",
       "text": [
        "\n",
        "Closed file: ../../../Measurements/BreakTest_AluminiumBeam2/results2/2-0.15/collect_1050.bin\n",
        "Opening file: ../../../Measurements/BreakTest_AluminiumBeam2/results2/2-0.15/collect_1051.bin\n",
        "Closed file: ../../../Measurements/BreakTest_AluminiumBeam2/results2/2-0.15/collect_1051.bin\n",
        "Opening file: ../../../Measurements/BreakTest_AluminiumBeam2/results2/2-0.15/collect_1052.bin\n",
        "Closed file: ../../../Measurements/BreakTest_AluminiumBeam2/results2/2-0.15/collect_1052.bin"
       ]
      },
      {
       "output_type": "stream",
       "stream": "stdout",
       "text": [
        "\n",
        "Opening file: ../../../Measurements/BreakTest_AluminiumBeam2/results2/2-0.15/collect_1053.bin\n",
        "Closed file: ../../../Measurements/BreakTest_AluminiumBeam2/results2/2-0.15/collect_1053.bin\n",
        "Opening file: ../../../Measurements/BreakTest_AluminiumBeam2/results2/2-0.15/collect_1054.bin\n",
        "Closed file: ../../../Measurements/BreakTest_AluminiumBeam2/results2/2-0.15/collect_1054.bin\n",
        "Opening file: ../../../Measurements/BreakTest_AluminiumBeam2/results2/2-0.15/collect_1055.bin\n",
        "Closed file: ../../../Measurements/BreakTest_AluminiumBeam2/results2/2-0.15/collect_1055.bin"
       ]
      },
      {
       "output_type": "stream",
       "stream": "stdout",
       "text": [
        "\n",
        "Opening file: ../../../Measurements/BreakTest_AluminiumBeam2/results2/2-0.15/collect_1056.bin\n",
        "Closed file: ../../../Measurements/BreakTest_AluminiumBeam2/results2/2-0.15/collect_1056.bin\n",
        "Opening file: ../../../Measurements/BreakTest_AluminiumBeam2/results2/2-0.15/collect_1057.bin\n",
        "Closed file: ../../../Measurements/BreakTest_AluminiumBeam2/results2/2-0.15/collect_1057.bin\n",
        "Opening file: ../../../Measurements/BreakTest_AluminiumBeam2/results2/2-0.15/collect_1058.bin\n",
        "Closed file: ../../../Measurements/BreakTest_AluminiumBeam2/results2/2-0.15/collect_1058.bin\n",
        "Opening file: ../../../Measurements/BreakTest_AluminiumBeam2/results2/2-0.15/collect_1059.bin\n",
        "Closed file: ../../../Measurements/BreakTest_AluminiumBeam2/results2/2-0.15/collect_1059.bin"
       ]
      },
      {
       "output_type": "stream",
       "stream": "stdout",
       "text": [
        "\n",
        "Opening file: ../../../Measurements/BreakTest_AluminiumBeam2/results2/2-0.15/collect_1060.bin\n",
        "Closed file: ../../../Measurements/BreakTest_AluminiumBeam2/results2/2-0.15/collect_1060.bin\n",
        "Opening file: ../../../Measurements/BreakTest_AluminiumBeam2/results2/2-0.15/collect_1061.bin\n",
        "Closed file: ../../../Measurements/BreakTest_AluminiumBeam2/results2/2-0.15/collect_1061.bin\n",
        "Opening file: ../../../Measurements/BreakTest_AluminiumBeam2/results2/2-0.15/collect_1062.bin\n",
        "Closed file: ../../../Measurements/BreakTest_AluminiumBeam2/results2/2-0.15/collect_1062.bin\n",
        "Opening file: ../../../Measurements/BreakTest_AluminiumBeam2/results2/2-0.15/collect_1063.bin\n",
        "Closed file: ../../../Measurements/BreakTest_AluminiumBeam2/results2/2-0.15/collect_1063.bin"
       ]
      },
      {
       "output_type": "stream",
       "stream": "stdout",
       "text": [
        "\n",
        "Opening file: ../../../Measurements/BreakTest_AluminiumBeam2/results2/2-0.15/collect_1064.bin\n",
        "Closed file: ../../../Measurements/BreakTest_AluminiumBeam2/results2/2-0.15/collect_1064.bin\n",
        "Opening file: ../../../Measurements/BreakTest_AluminiumBeam2/results2/2-0.15/collect_1065.bin\n",
        "Closed file: ../../../Measurements/BreakTest_AluminiumBeam2/results2/2-0.15/collect_1065.bin\n",
        "Opening file: ../../../Measurements/BreakTest_AluminiumBeam2/results2/2-0.15/collect_1066.bin\n",
        "Closed file: ../../../Measurements/BreakTest_AluminiumBeam2/results2/2-0.15/collect_1066.bin"
       ]
      },
      {
       "output_type": "stream",
       "stream": "stdout",
       "text": [
        "\n",
        "Opening file: ../../../Measurements/BreakTest_AluminiumBeam2/results2/2-0.15/collect_1067.bin\n",
        "Closed file: ../../../Measurements/BreakTest_AluminiumBeam2/results2/2-0.15/collect_1067.bin\n",
        "Opening file: ../../../Measurements/BreakTest_AluminiumBeam2/results2/2-0.15/collect_1068.bin\n",
        "Closed file: ../../../Measurements/BreakTest_AluminiumBeam2/results2/2-0.15/collect_1068.bin\n",
        "Opening file: ../../../Measurements/BreakTest_AluminiumBeam2/results2/2-0.15/collect_1069.bin"
       ]
      },
      {
       "output_type": "stream",
       "stream": "stdout",
       "text": [
        "\n",
        "Closed file: ../../../Measurements/BreakTest_AluminiumBeam2/results2/2-0.15/collect_1069.bin\n",
        "Opening file: ../../../Measurements/BreakTest_AluminiumBeam2/results2/2-0.15/collect_1070.bin\n",
        "Closed file: ../../../Measurements/BreakTest_AluminiumBeam2/results2/2-0.15/collect_1070.bin"
       ]
      },
      {
       "output_type": "stream",
       "stream": "stdout",
       "text": [
        "\n",
        "Opening file: ../../../Measurements/BreakTest_AluminiumBeam2/results2/2-0.15/collect_1071.bin\n",
        "Closed file: ../../../Measurements/BreakTest_AluminiumBeam2/results2/2-0.15/collect_1071.bin\n",
        "Opening file: ../../../Measurements/BreakTest_AluminiumBeam2/results2/2-0.15/collect_1072.bin\n",
        "Closed file: ../../../Measurements/BreakTest_AluminiumBeam2/results2/2-0.15/collect_1072.bin\n",
        "Opening file: ../../../Measurements/BreakTest_AluminiumBeam2/results2/2-0.15/collect_1073.bin\n",
        "Closed file: ../../../Measurements/BreakTest_AluminiumBeam2/results2/2-0.15/collect_1073.bin"
       ]
      },
      {
       "output_type": "stream",
       "stream": "stdout",
       "text": [
        "\n",
        "Opening file: ../../../Measurements/BreakTest_AluminiumBeam2/results2/2-0.15/collect_1074.bin\n",
        "Closed file: ../../../Measurements/BreakTest_AluminiumBeam2/results2/2-0.15/collect_1074.bin\n",
        "Opening file: ../../../Measurements/BreakTest_AluminiumBeam2/results2/2-0.15/collect_1075.bin\n",
        "Closed file: ../../../Measurements/BreakTest_AluminiumBeam2/results2/2-0.15/collect_1075.bin"
       ]
      },
      {
       "output_type": "stream",
       "stream": "stdout",
       "text": [
        "\n",
        "Opening file: ../../../Measurements/BreakTest_AluminiumBeam2/results2/2-0.15/collect_1076.bin\n",
        "Closed file: ../../../Measurements/BreakTest_AluminiumBeam2/results2/2-0.15/collect_1076.bin\n",
        "Opening file: ../../../Measurements/BreakTest_AluminiumBeam2/results2/2-0.15/collect_1077.bin\n",
        "Closed file: ../../../Measurements/BreakTest_AluminiumBeam2/results2/2-0.15/collect_1077.bin"
       ]
      },
      {
       "output_type": "stream",
       "stream": "stdout",
       "text": [
        "\n",
        "Opening file: ../../../Measurements/BreakTest_AluminiumBeam2/results2/2-0.15/collect_1078.bin\n",
        "Closed file: ../../../Measurements/BreakTest_AluminiumBeam2/results2/2-0.15/collect_1078.bin\n",
        "Opening file: ../../../Measurements/BreakTest_AluminiumBeam2/results2/2-0.15/collect_1079.bin\n",
        "Closed file: ../../../Measurements/BreakTest_AluminiumBeam2/results2/2-0.15/collect_1079.bin\n",
        "Opening file: ../../../Measurements/BreakTest_AluminiumBeam2/results2/2-0.15/collect_1080.bin"
       ]
      },
      {
       "output_type": "stream",
       "stream": "stdout",
       "text": [
        "\n",
        "Closed file: ../../../Measurements/BreakTest_AluminiumBeam2/results2/2-0.15/collect_1080.bin\n",
        "Opening file: ../../../Measurements/BreakTest_AluminiumBeam2/results2/2-0.15/collect_1081.bin\n",
        "Closed file: ../../../Measurements/BreakTest_AluminiumBeam2/results2/2-0.15/collect_1081.bin"
       ]
      },
      {
       "output_type": "stream",
       "stream": "stdout",
       "text": [
        "\n",
        "Opening file: ../../../Measurements/BreakTest_AluminiumBeam2/results2/2-0.15/collect_1082.bin\n",
        "Closed file: ../../../Measurements/BreakTest_AluminiumBeam2/results2/2-0.15/collect_1082.bin\n",
        "Opening file: ../../../Measurements/BreakTest_AluminiumBeam2/results2/2-0.15/collect_1083.bin\n",
        "Closed file: ../../../Measurements/BreakTest_AluminiumBeam2/results2/2-0.15/collect_1083.bin\n",
        "Opening file: ../../../Measurements/BreakTest_AluminiumBeam2/results2/2-0.15/collect_1084.bin"
       ]
      },
      {
       "output_type": "stream",
       "stream": "stdout",
       "text": [
        "\n",
        "Closed file: ../../../Measurements/BreakTest_AluminiumBeam2/results2/2-0.15/collect_1084.bin\n",
        "Opening file: ../../../Measurements/BreakTest_AluminiumBeam2/results2/2-0.15/collect_1085.bin\n",
        "Closed file: ../../../Measurements/BreakTest_AluminiumBeam2/results2/2-0.15/collect_1085.bin\n",
        "Opening file: ../../../Measurements/BreakTest_AluminiumBeam2/results2/2-0.15/collect_1086.bin"
       ]
      },
      {
       "output_type": "stream",
       "stream": "stdout",
       "text": [
        "\n",
        "Closed file: ../../../Measurements/BreakTest_AluminiumBeam2/results2/2-0.15/collect_1086.bin\n",
        "Opening file: ../../../Measurements/BreakTest_AluminiumBeam2/results2/2-0.15/collect_1087.bin\n",
        "Closed file: ../../../Measurements/BreakTest_AluminiumBeam2/results2/2-0.15/collect_1087.bin"
       ]
      },
      {
       "output_type": "stream",
       "stream": "stdout",
       "text": [
        "\n",
        "Opening file: ../../../Measurements/BreakTest_AluminiumBeam2/results2/2-0.15/collect_1088.bin\n",
        "Closed file: ../../../Measurements/BreakTest_AluminiumBeam2/results2/2-0.15/collect_1088.bin\n",
        "Opening file: ../../../Measurements/BreakTest_AluminiumBeam2/results2/2-0.15/collect_1089.bin\n",
        "Closed file: ../../../Measurements/BreakTest_AluminiumBeam2/results2/2-0.15/collect_1089.bin"
       ]
      },
      {
       "output_type": "stream",
       "stream": "stdout",
       "text": [
        "\n",
        "Opening file: ../../../Measurements/BreakTest_AluminiumBeam2/results2/2-0.15/collect_1090.bin\n",
        "Closed file: ../../../Measurements/BreakTest_AluminiumBeam2/results2/2-0.15/collect_1090.bin\n",
        "Opening file: ../../../Measurements/BreakTest_AluminiumBeam2/results2/2-0.15/collect_1091.bin\n",
        "Closed file: ../../../Measurements/BreakTest_AluminiumBeam2/results2/2-0.15/collect_1091.bin"
       ]
      },
      {
       "output_type": "stream",
       "stream": "stdout",
       "text": [
        "\n",
        "Opening file: ../../../Measurements/BreakTest_AluminiumBeam2/results2/2-0.15/collect_1092.bin\n",
        "Closed file: ../../../Measurements/BreakTest_AluminiumBeam2/results2/2-0.15/collect_1092.bin\n",
        "Opening file: ../../../Measurements/BreakTest_AluminiumBeam2/results2/2-0.15/collect_1093.bin"
       ]
      },
      {
       "output_type": "stream",
       "stream": "stdout",
       "text": [
        "\n",
        "Closed file: ../../../Measurements/BreakTest_AluminiumBeam2/results2/2-0.15/collect_1093.bin\n",
        "Opening file: ../../../Measurements/BreakTest_AluminiumBeam2/results2/2-0.15/collect_1094.bin\n",
        "Closed file: ../../../Measurements/BreakTest_AluminiumBeam2/results2/2-0.15/collect_1094.bin"
       ]
      },
      {
       "output_type": "stream",
       "stream": "stdout",
       "text": [
        "\n",
        "Opening file: ../../../Measurements/BreakTest_AluminiumBeam2/results2/2-0.15/collect_1095.bin\n",
        "Closed file: ../../../Measurements/BreakTest_AluminiumBeam2/results2/2-0.15/collect_1095.bin\n",
        "Opening file: ../../../Measurements/BreakTest_AluminiumBeam2/results2/2-0.15/collect_1096.bin"
       ]
      },
      {
       "output_type": "stream",
       "stream": "stdout",
       "text": [
        "\n",
        "Closed file: ../../../Measurements/BreakTest_AluminiumBeam2/results2/2-0.15/collect_1096.bin\n",
        "Opening file: ../../../Measurements/BreakTest_AluminiumBeam2/results2/2-0.15/collect_1097.bin\n",
        "Closed file: ../../../Measurements/BreakTest_AluminiumBeam2/results2/2-0.15/collect_1097.bin"
       ]
      },
      {
       "output_type": "stream",
       "stream": "stdout",
       "text": [
        "\n",
        "Opening file: ../../../Measurements/BreakTest_AluminiumBeam2/results2/2-0.15/collect_1098.bin\n",
        "Closed file: ../../../Measurements/BreakTest_AluminiumBeam2/results2/2-0.15/collect_1098.bin\n",
        "Opening file: ../../../Measurements/BreakTest_AluminiumBeam2/results2/2-0.15/collect_1099.bin\n",
        "Closed file: ../../../Measurements/BreakTest_AluminiumBeam2/results2/2-0.15/collect_1099.bin"
       ]
      },
      {
       "output_type": "stream",
       "stream": "stdout",
       "text": [
        "\n",
        "Opening file: ../../../Measurements/BreakTest_AluminiumBeam2/results2/2-0.15/collect_1100.bin\n",
        "Closed file: ../../../Measurements/BreakTest_AluminiumBeam2/results2/2-0.15/collect_1100.bin\n",
        "Opening file: ../../../Measurements/BreakTest_AluminiumBeam2/results2/2-0.15/collect_1101.bin\n",
        "Closed file: ../../../Measurements/BreakTest_AluminiumBeam2/results2/2-0.15/collect_1101.bin"
       ]
      },
      {
       "output_type": "stream",
       "stream": "stdout",
       "text": [
        "\n",
        "Opening file: ../../../Measurements/BreakTest_AluminiumBeam2/results2/2-0.15/collect_1102.bin\n",
        "Closed file: ../../../Measurements/BreakTest_AluminiumBeam2/results2/2-0.15/collect_1102.bin\n",
        "Opening file: ../../../Measurements/BreakTest_AluminiumBeam2/results2/2-0.15/collect_1103.bin\n",
        "Closed file: ../../../Measurements/BreakTest_AluminiumBeam2/results2/2-0.15/collect_1103.bin"
       ]
      },
      {
       "output_type": "stream",
       "stream": "stdout",
       "text": [
        "\n",
        "Opening file: ../../../Measurements/BreakTest_AluminiumBeam2/results2/2-0.15/collect_1104.bin\n",
        "Closed file: ../../../Measurements/BreakTest_AluminiumBeam2/results2/2-0.15/collect_1104.bin\n",
        "Opening file: ../../../Measurements/BreakTest_AluminiumBeam2/results2/2-0.15/collect_1105.bin\n",
        "Closed file: ../../../Measurements/BreakTest_AluminiumBeam2/results2/2-0.15/collect_1105.bin"
       ]
      },
      {
       "output_type": "stream",
       "stream": "stdout",
       "text": [
        "\n",
        "Opening file: ../../../Measurements/BreakTest_AluminiumBeam2/results2/2-0.15/collect_1106.bin\n",
        "Closed file: ../../../Measurements/BreakTest_AluminiumBeam2/results2/2-0.15/collect_1106.bin\n",
        "Opening file: ../../../Measurements/BreakTest_AluminiumBeam2/results2/2-0.15/collect_1107.bin\n",
        "Closed file: ../../../Measurements/BreakTest_AluminiumBeam2/results2/2-0.15/collect_1107.bin"
       ]
      },
      {
       "output_type": "stream",
       "stream": "stdout",
       "text": [
        "\n",
        "Opening file: ../../../Measurements/BreakTest_AluminiumBeam2/results2/2-0.15/collect_1108.bin\n",
        "Closed file: ../../../Measurements/BreakTest_AluminiumBeam2/results2/2-0.15/collect_1108.bin\n",
        "Opening file: ../../../Measurements/BreakTest_AluminiumBeam2/results2/2-0.15/collect_1109.bin\n",
        "Closed file: ../../../Measurements/BreakTest_AluminiumBeam2/results2/2-0.15/collect_1109.bin"
       ]
      },
      {
       "output_type": "stream",
       "stream": "stdout",
       "text": [
        "\n",
        "Opening file: ../../../Measurements/BreakTest_AluminiumBeam2/results2/2-0.15/collect_1110.bin\n",
        "Closed file: ../../../Measurements/BreakTest_AluminiumBeam2/results2/2-0.15/collect_1110.bin\n",
        "Opening file: ../../../Measurements/BreakTest_AluminiumBeam2/results2/2-0.15/collect_1111.bin\n",
        "Closed file: ../../../Measurements/BreakTest_AluminiumBeam2/results2/2-0.15/collect_1111.bin"
       ]
      },
      {
       "output_type": "stream",
       "stream": "stdout",
       "text": [
        "\n",
        "Opening file: ../../../Measurements/BreakTest_AluminiumBeam2/results2/2-0.15/collect_1112.bin\n",
        "Closed file: ../../../Measurements/BreakTest_AluminiumBeam2/results2/2-0.15/collect_1112.bin\n",
        "Opening file: ../../../Measurements/BreakTest_AluminiumBeam2/results2/2-0.15/collect_1113.bin\n",
        "Closed file: ../../../Measurements/BreakTest_AluminiumBeam2/results2/2-0.15/collect_1113.bin"
       ]
      },
      {
       "output_type": "stream",
       "stream": "stdout",
       "text": [
        "\n",
        "Opening file: ../../../Measurements/BreakTest_AluminiumBeam2/results2/2-0.15/collect_1114.bin\n",
        "Closed file: ../../../Measurements/BreakTest_AluminiumBeam2/results2/2-0.15/collect_1114.bin\n",
        "Opening file: ../../../Measurements/BreakTest_AluminiumBeam2/results2/2-0.15/collect_1115.bin\n",
        "Closed file: ../../../Measurements/BreakTest_AluminiumBeam2/results2/2-0.15/collect_1115.bin"
       ]
      },
      {
       "output_type": "stream",
       "stream": "stdout",
       "text": [
        "\n",
        "Opening file: ../../../Measurements/BreakTest_AluminiumBeam2/results2/2-0.15/collect_1116.bin\n",
        "Closed file: ../../../Measurements/BreakTest_AluminiumBeam2/results2/2-0.15/collect_1116.bin\n",
        "Opening file: ../../../Measurements/BreakTest_AluminiumBeam2/results2/2-0.15/collect_1117.bin\n",
        "Closed file: ../../../Measurements/BreakTest_AluminiumBeam2/results2/2-0.15/collect_1117.bin"
       ]
      },
      {
       "output_type": "stream",
       "stream": "stdout",
       "text": [
        "\n",
        "Opening file: ../../../Measurements/BreakTest_AluminiumBeam2/results2/2-0.15/collect_1118.bin\n",
        "Closed file: ../../../Measurements/BreakTest_AluminiumBeam2/results2/2-0.15/collect_1118.bin\n",
        "Opening file: ../../../Measurements/BreakTest_AluminiumBeam2/results2/2-0.15/collect_1119.bin\n",
        "Closed file: ../../../Measurements/BreakTest_AluminiumBeam2/results2/2-0.15/collect_1119.bin"
       ]
      },
      {
       "output_type": "stream",
       "stream": "stdout",
       "text": [
        "\n",
        "Opening file: ../../../Measurements/BreakTest_AluminiumBeam2/results2/2-0.15/collect_1120.bin\n",
        "Closed file: ../../../Measurements/BreakTest_AluminiumBeam2/results2/2-0.15/collect_1120.bin\n",
        "Opening file: ../../../Measurements/BreakTest_AluminiumBeam2/results2/2-0.15/collect_1121.bin\n",
        "Closed file: ../../../Measurements/BreakTest_AluminiumBeam2/results2/2-0.15/collect_1121.bin"
       ]
      },
      {
       "output_type": "stream",
       "stream": "stdout",
       "text": [
        "\n",
        "Opening file: ../../../Measurements/BreakTest_AluminiumBeam2/results2/2-0.15/collect_1122.bin\n",
        "Closed file: ../../../Measurements/BreakTest_AluminiumBeam2/results2/2-0.15/collect_1122.bin\n",
        "Opening file: ../../../Measurements/BreakTest_AluminiumBeam2/results2/2-0.15/collect_1123.bin\n",
        "Closed file: ../../../Measurements/BreakTest_AluminiumBeam2/results2/2-0.15/collect_1123.bin"
       ]
      },
      {
       "output_type": "stream",
       "stream": "stdout",
       "text": [
        "\n",
        "Opening file: ../../../Measurements/BreakTest_AluminiumBeam2/results2/2-0.15/collect_1124.bin\n",
        "Closed file: ../../../Measurements/BreakTest_AluminiumBeam2/results2/2-0.15/collect_1124.bin\n",
        "Opening file: ../../../Measurements/BreakTest_AluminiumBeam2/results2/2-0.15/collect_1125.bin\n",
        "Closed file: ../../../Measurements/BreakTest_AluminiumBeam2/results2/2-0.15/collect_1125.bin"
       ]
      },
      {
       "output_type": "stream",
       "stream": "stdout",
       "text": [
        "\n",
        "Opening file: ../../../Measurements/BreakTest_AluminiumBeam2/results2/2-0.15/collect_1126.bin\n",
        "Closed file: ../../../Measurements/BreakTest_AluminiumBeam2/results2/2-0.15/collect_1126.bin\n",
        "Opening file: ../../../Measurements/BreakTest_AluminiumBeam2/results2/2-0.15/collect_1127.bin\n",
        "Closed file: ../../../Measurements/BreakTest_AluminiumBeam2/results2/2-0.15/collect_1127.bin"
       ]
      },
      {
       "output_type": "stream",
       "stream": "stdout",
       "text": [
        "\n",
        "Opening file: ../../../Measurements/BreakTest_AluminiumBeam2/results2/2-0.15/collect_1128.bin\n",
        "Closed file: ../../../Measurements/BreakTest_AluminiumBeam2/results2/2-0.15/collect_1128.bin\n",
        "Opening file: ../../../Measurements/BreakTest_AluminiumBeam2/results2/2-0.15/collect_1129.bin\n",
        "Closed file: ../../../Measurements/BreakTest_AluminiumBeam2/results2/2-0.15/collect_1129.bin"
       ]
      },
      {
       "output_type": "stream",
       "stream": "stdout",
       "text": [
        "\n",
        "Opening file: ../../../Measurements/BreakTest_AluminiumBeam2/results2/2-0.15/collect_1130.bin\n",
        "Closed file: ../../../Measurements/BreakTest_AluminiumBeam2/results2/2-0.15/collect_1130.bin\n",
        "Opening file: ../../../Measurements/BreakTest_AluminiumBeam2/results2/2-0.15/collect_1131.bin\n",
        "Closed file: ../../../Measurements/BreakTest_AluminiumBeam2/results2/2-0.15/collect_1131.bin"
       ]
      },
      {
       "output_type": "stream",
       "stream": "stdout",
       "text": [
        "\n",
        "Opening file: ../../../Measurements/BreakTest_AluminiumBeam2/results2/2-0.15/collect_1132.bin\n",
        "Closed file: ../../../Measurements/BreakTest_AluminiumBeam2/results2/2-0.15/collect_1132.bin\n",
        "Opening file: ../../../Measurements/BreakTest_AluminiumBeam2/results2/2-0.15/collect_1133.bin\n",
        "Closed file: ../../../Measurements/BreakTest_AluminiumBeam2/results2/2-0.15/collect_1133.bin"
       ]
      },
      {
       "output_type": "stream",
       "stream": "stdout",
       "text": [
        "\n",
        "Opening file: ../../../Measurements/BreakTest_AluminiumBeam2/results2/2-0.15/collect_1134.bin\n",
        "Closed file: ../../../Measurements/BreakTest_AluminiumBeam2/results2/2-0.15/collect_1134.bin\n",
        "Opening file: ../../../Measurements/BreakTest_AluminiumBeam2/results2/2-0.15/collect_1135.bin\n",
        "Closed file: ../../../Measurements/BreakTest_AluminiumBeam2/results2/2-0.15/collect_1135.bin"
       ]
      },
      {
       "output_type": "stream",
       "stream": "stdout",
       "text": [
        "\n",
        "Opening file: ../../../Measurements/BreakTest_AluminiumBeam2/results2/2-0.15/collect_1136.bin\n",
        "Closed file: ../../../Measurements/BreakTest_AluminiumBeam2/results2/2-0.15/collect_1136.bin\n",
        "Opening file: ../../../Measurements/BreakTest_AluminiumBeam2/results2/2-0.15/collect_1137.bin\n",
        "Closed file: ../../../Measurements/BreakTest_AluminiumBeam2/results2/2-0.15/collect_1137.bin"
       ]
      },
      {
       "output_type": "stream",
       "stream": "stdout",
       "text": [
        "\n",
        "Opening file: ../../../Measurements/BreakTest_AluminiumBeam2/results2/2-0.15/collect_1138.bin\n",
        "Closed file: ../../../Measurements/BreakTest_AluminiumBeam2/results2/2-0.15/collect_1138.bin\n",
        "Opening file: ../../../Measurements/BreakTest_AluminiumBeam2/results2/2-0.15/collect_1139.bin\n",
        "Closed file: ../../../Measurements/BreakTest_AluminiumBeam2/results2/2-0.15/collect_1139.bin"
       ]
      },
      {
       "output_type": "stream",
       "stream": "stdout",
       "text": [
        "\n",
        "Opening file: ../../../Measurements/BreakTest_AluminiumBeam2/results2/2-0.15/collect_1140.bin\n",
        "Closed file: ../../../Measurements/BreakTest_AluminiumBeam2/results2/2-0.15/collect_1140.bin\n",
        "Opening file: ../../../Measurements/BreakTest_AluminiumBeam2/results2/2-0.15/collect_1141.bin\n",
        "Closed file: ../../../Measurements/BreakTest_AluminiumBeam2/results2/2-0.15/collect_1141.bin"
       ]
      },
      {
       "output_type": "stream",
       "stream": "stdout",
       "text": [
        "\n",
        "Opening file: ../../../Measurements/BreakTest_AluminiumBeam2/results2/2-0.15/collect_1142.bin\n",
        "Closed file: ../../../Measurements/BreakTest_AluminiumBeam2/results2/2-0.15/collect_1142.bin\n",
        "Opening file: ../../../Measurements/BreakTest_AluminiumBeam2/results2/2-0.15/collect_1143.bin\n",
        "Closed file: ../../../Measurements/BreakTest_AluminiumBeam2/results2/2-0.15/collect_1143.bin"
       ]
      },
      {
       "output_type": "stream",
       "stream": "stdout",
       "text": [
        "\n",
        "Opening file: ../../../Measurements/BreakTest_AluminiumBeam2/results2/2-0.15/collect_1144.bin\n",
        "Closed file: ../../../Measurements/BreakTest_AluminiumBeam2/results2/2-0.15/collect_1144.bin\n",
        "Opening file: ../../../Measurements/BreakTest_AluminiumBeam2/results2/2-0.15/collect_1145.bin\n",
        "Closed file: ../../../Measurements/BreakTest_AluminiumBeam2/results2/2-0.15/collect_1145.bin"
       ]
      },
      {
       "output_type": "stream",
       "stream": "stdout",
       "text": [
        "\n",
        "Opening file: ../../../Measurements/BreakTest_AluminiumBeam2/results2/2-0.15/collect_1146.bin\n",
        "Closed file: ../../../Measurements/BreakTest_AluminiumBeam2/results2/2-0.15/collect_1146.bin\n",
        "Opening file: ../../../Measurements/BreakTest_AluminiumBeam2/results2/2-0.15/collect_1147.bin\n",
        "Closed file: ../../../Measurements/BreakTest_AluminiumBeam2/results2/2-0.15/collect_1147.bin"
       ]
      },
      {
       "output_type": "stream",
       "stream": "stdout",
       "text": [
        "\n",
        "Opening file: ../../../Measurements/BreakTest_AluminiumBeam2/results2/2-0.15/collect_1148.bin\n",
        "Closed file: ../../../Measurements/BreakTest_AluminiumBeam2/results2/2-0.15/collect_1148.bin\n",
        "Opening file: ../../../Measurements/BreakTest_AluminiumBeam2/results2/2-0.15/collect_1149.bin\n",
        "Closed file: ../../../Measurements/BreakTest_AluminiumBeam2/results2/2-0.15/collect_1149.bin"
       ]
      },
      {
       "output_type": "stream",
       "stream": "stdout",
       "text": [
        "\n",
        "Opening file: ../../../Measurements/BreakTest_AluminiumBeam2/results2/2-0.15/collect_1150.bin\n",
        "Closed file: ../../../Measurements/BreakTest_AluminiumBeam2/results2/2-0.15/collect_1150.bin\n",
        "Opening file: ../../../Measurements/BreakTest_AluminiumBeam2/results2/2-0.15/collect_1151.bin\n",
        "Closed file: ../../../Measurements/BreakTest_AluminiumBeam2/results2/2-0.15/collect_1151.bin"
       ]
      },
      {
       "output_type": "stream",
       "stream": "stdout",
       "text": [
        "\n",
        "Opening file: ../../../Measurements/BreakTest_AluminiumBeam2/results2/2-0.15/collect_1152.bin\n",
        "Closed file: ../../../Measurements/BreakTest_AluminiumBeam2/results2/2-0.15/collect_1152.bin\n",
        "Opening file: ../../../Measurements/BreakTest_AluminiumBeam2/results2/2-0.15/collect_1153.bin\n",
        "Closed file: ../../../Measurements/BreakTest_AluminiumBeam2/results2/2-0.15/collect_1153.bin"
       ]
      },
      {
       "output_type": "stream",
       "stream": "stdout",
       "text": [
        "\n",
        "Opening file: ../../../Measurements/BreakTest_AluminiumBeam2/results2/2-0.15/collect_1154.bin\n",
        "Closed file: ../../../Measurements/BreakTest_AluminiumBeam2/results2/2-0.15/collect_1154.bin\n",
        "Opening file: ../../../Measurements/BreakTest_AluminiumBeam2/results2/2-0.15/collect_1155.bin\n",
        "Closed file: ../../../Measurements/BreakTest_AluminiumBeam2/results2/2-0.15/collect_1155.bin\n",
        "Opening file: ../../../Measurements/BreakTest_AluminiumBeam2/results2/2-0.15/collect_1156.bin"
       ]
      },
      {
       "output_type": "stream",
       "stream": "stdout",
       "text": [
        "\n",
        "Closed file: ../../../Measurements/BreakTest_AluminiumBeam2/results2/2-0.15/collect_1156.bin\n",
        "Opening file: ../../../Measurements/BreakTest_AluminiumBeam2/results2/2-0.15/collect_1157.bin\n",
        "Closed file: ../../../Measurements/BreakTest_AluminiumBeam2/results2/2-0.15/collect_1157.bin\n",
        "Opening file: ../../../Measurements/BreakTest_AluminiumBeam2/results2/2-0.15/collect_1158.bin\n",
        "Closed file: ../../../Measurements/BreakTest_AluminiumBeam2/results2/2-0.15/collect_1158.bin"
       ]
      },
      {
       "output_type": "stream",
       "stream": "stdout",
       "text": [
        "\n",
        "Opening file: ../../../Measurements/BreakTest_AluminiumBeam2/results2/2-0.15/collect_1159.bin\n",
        "Closed file: ../../../Measurements/BreakTest_AluminiumBeam2/results2/2-0.15/collect_1159.bin\n",
        "Opening file: ../../../Measurements/BreakTest_AluminiumBeam2/results2/2-0.15/collect_1160.bin\n",
        "Closed file: ../../../Measurements/BreakTest_AluminiumBeam2/results2/2-0.15/collect_1160.bin\n",
        "Opening file: ../../../Measurements/BreakTest_AluminiumBeam2/results2/2-0.15/collect_1161.bin\n",
        "Closed file: ../../../Measurements/BreakTest_AluminiumBeam2/results2/2-0.15/collect_1161.bin"
       ]
      },
      {
       "output_type": "stream",
       "stream": "stdout",
       "text": [
        "\n",
        "Opening file: ../../../Measurements/BreakTest_AluminiumBeam2/results2/2-0.15/collect_1162.bin\n",
        "Closed file: ../../../Measurements/BreakTest_AluminiumBeam2/results2/2-0.15/collect_1162.bin\n",
        "Opening file: ../../../Measurements/BreakTest_AluminiumBeam2/results2/2-0.15/collect_1163.bin\n",
        "Closed file: ../../../Measurements/BreakTest_AluminiumBeam2/results2/2-0.15/collect_1163.bin"
       ]
      },
      {
       "output_type": "stream",
       "stream": "stdout",
       "text": [
        "\n",
        "Opening file: ../../../Measurements/BreakTest_AluminiumBeam2/results2/2-0.15/collect_1164.bin\n",
        "Closed file: ../../../Measurements/BreakTest_AluminiumBeam2/results2/2-0.15/collect_1164.bin\n",
        "Opening file: ../../../Measurements/BreakTest_AluminiumBeam2/results2/2-0.15/collect_1165.bin\n",
        "Closed file: ../../../Measurements/BreakTest_AluminiumBeam2/results2/2-0.15/collect_1165.bin\n",
        "Opening file: ../../../Measurements/BreakTest_AluminiumBeam2/results2/2-0.15/collect_1166.bin\n",
        "Closed file: ../../../Measurements/BreakTest_AluminiumBeam2/results2/2-0.15/collect_1166.bin"
       ]
      },
      {
       "output_type": "stream",
       "stream": "stdout",
       "text": [
        "\n",
        "Opening file: ../../../Measurements/BreakTest_AluminiumBeam2/results2/2-0.15/collect_1167.bin\n",
        "Closed file: ../../../Measurements/BreakTest_AluminiumBeam2/results2/2-0.15/collect_1167.bin\n",
        "Opening file: ../../../Measurements/BreakTest_AluminiumBeam2/results2/2-0.15/collect_1168.bin\n",
        "Closed file: ../../../Measurements/BreakTest_AluminiumBeam2/results2/2-0.15/collect_1168.bin\n",
        "Opening file: ../../../Measurements/BreakTest_AluminiumBeam2/results2/2-0.15/collect_1169.bin\n",
        "Closed file: ../../../Measurements/BreakTest_AluminiumBeam2/results2/2-0.15/collect_1169.bin"
       ]
      },
      {
       "output_type": "stream",
       "stream": "stdout",
       "text": [
        "\n",
        "Opening file: ../../../Measurements/BreakTest_AluminiumBeam2/results2/2-0.15/collect_1170.bin\n",
        "Closed file: ../../../Measurements/BreakTest_AluminiumBeam2/results2/2-0.15/collect_1170.bin\n",
        "Opening file: ../../../Measurements/BreakTest_AluminiumBeam2/results2/2-0.15/collect_1171.bin\n",
        "Closed file: ../../../Measurements/BreakTest_AluminiumBeam2/results2/2-0.15/collect_1171.bin\n",
        "Opening file: ../../../Measurements/BreakTest_AluminiumBeam2/results2/2-0.15/collect_1172.bin\n",
        "Closed file: ../../../Measurements/BreakTest_AluminiumBeam2/results2/2-0.15/collect_1172.bin\n",
        "Opening file: ../../../Measurements/BreakTest_AluminiumBeam2/results2/2-0.15/collect_1173.bin"
       ]
      },
      {
       "output_type": "stream",
       "stream": "stdout",
       "text": [
        "\n",
        "Closed file: ../../../Measurements/BreakTest_AluminiumBeam2/results2/2-0.15/collect_1173.bin\n",
        "Opening file: ../../../Measurements/BreakTest_AluminiumBeam2/results2/2-0.15/collect_1174.bin\n",
        "Closed file: ../../../Measurements/BreakTest_AluminiumBeam2/results2/2-0.15/collect_1174.bin\n",
        "Opening file: ../../../Measurements/BreakTest_AluminiumBeam2/results2/2-0.15/collect_1175.bin\n",
        "Closed file: ../../../Measurements/BreakTest_AluminiumBeam2/results2/2-0.15/collect_1175.bin"
       ]
      },
      {
       "output_type": "stream",
       "stream": "stdout",
       "text": [
        "\n",
        "Opening file: ../../../Measurements/BreakTest_AluminiumBeam2/results2/2-0.15/collect_1176.bin\n",
        "Closed file: ../../../Measurements/BreakTest_AluminiumBeam2/results2/2-0.15/collect_1176.bin\n",
        "Opening file: ../../../Measurements/BreakTest_AluminiumBeam2/results2/2-0.15/collect_1177.bin\n",
        "Closed file: ../../../Measurements/BreakTest_AluminiumBeam2/results2/2-0.15/collect_1177.bin\n",
        "Opening file: ../../../Measurements/BreakTest_AluminiumBeam2/results2/2-0.15/collect_1178.bin\n",
        "Closed file: ../../../Measurements/BreakTest_AluminiumBeam2/results2/2-0.15/collect_1178.bin\n",
        "Opening file: ../../../Measurements/BreakTest_AluminiumBeam2/results2/2-0.15/collect_1179.bin"
       ]
      },
      {
       "output_type": "stream",
       "stream": "stdout",
       "text": [
        "\n",
        "Closed file: ../../../Measurements/BreakTest_AluminiumBeam2/results2/2-0.15/collect_1179.bin\n",
        "Opening file: ../../../Measurements/BreakTest_AluminiumBeam2/results2/2-0.15/collect_1180.bin\n",
        "Closed file: ../../../Measurements/BreakTest_AluminiumBeam2/results2/2-0.15/collect_1180.bin\n",
        "Opening file: ../../../Measurements/BreakTest_AluminiumBeam2/results2/2-0.15/collect_1181.bin\n",
        "Closed file: ../../../Measurements/BreakTest_AluminiumBeam2/results2/2-0.15/collect_1181.bin\n",
        "Opening file: ../../../Measurements/BreakTest_AluminiumBeam2/results2/2-0.15/collect_1182.bin\n",
        "Closed file: ../../../Measurements/BreakTest_AluminiumBeam2/results2/2-0.15/collect_1182.bin"
       ]
      },
      {
       "output_type": "stream",
       "stream": "stdout",
       "text": [
        "\n",
        "Opening file: ../../../Measurements/BreakTest_AluminiumBeam2/results2/2-0.15/collect_1183.bin\n",
        "Closed file: ../../../Measurements/BreakTest_AluminiumBeam2/results2/2-0.15/collect_1183.bin\n",
        "Opening file: ../../../Measurements/BreakTest_AluminiumBeam2/results2/2-0.15/collect_1184.bin\n",
        "Closed file: ../../../Measurements/BreakTest_AluminiumBeam2/results2/2-0.15/collect_1184.bin\n",
        "Opening file: ../../../Measurements/BreakTest_AluminiumBeam2/results2/2-0.15/collect_1185.bin"
       ]
      },
      {
       "output_type": "stream",
       "stream": "stdout",
       "text": [
        "\n",
        "Closed file: ../../../Measurements/BreakTest_AluminiumBeam2/results2/2-0.15/collect_1185.bin\n",
        "Opening file: ../../../Measurements/BreakTest_AluminiumBeam2/results2/2-0.15/collect_1186.bin\n",
        "Closed file: ../../../Measurements/BreakTest_AluminiumBeam2/results2/2-0.15/collect_1186.bin\n",
        "Opening file: ../../../Measurements/BreakTest_AluminiumBeam2/results2/2-0.15/collect_1187.bin\n",
        "Closed file: ../../../Measurements/BreakTest_AluminiumBeam2/results2/2-0.15/collect_1187.bin\n",
        "Opening file: ../../../Measurements/BreakTest_AluminiumBeam2/results2/2-0.15/collect_1188.bin\n",
        "Closed file: ../../../Measurements/BreakTest_AluminiumBeam2/results2/2-0.15/collect_1188.bin"
       ]
      },
      {
       "output_type": "stream",
       "stream": "stdout",
       "text": [
        "\n",
        "Opening file: ../../../Measurements/BreakTest_AluminiumBeam2/results2/2-0.15/collect_1189.bin\n",
        "Closed file: ../../../Measurements/BreakTest_AluminiumBeam2/results2/2-0.15/collect_1189.bin\n",
        "Opening file: ../../../Measurements/BreakTest_AluminiumBeam2/results2/2-0.15/collect_1190.bin\n",
        "Closed file: ../../../Measurements/BreakTest_AluminiumBeam2/results2/2-0.15/collect_1190.bin\n",
        "Opening file: ../../../Measurements/BreakTest_AluminiumBeam2/results2/2-0.15/collect_1191.bin\n",
        "Closed file: ../../../Measurements/BreakTest_AluminiumBeam2/results2/2-0.15/collect_1191.bin"
       ]
      },
      {
       "output_type": "stream",
       "stream": "stdout",
       "text": [
        "\n",
        "Opening file: ../../../Measurements/BreakTest_AluminiumBeam2/results2/2-0.15/collect_1192.bin\n",
        "Closed file: ../../../Measurements/BreakTest_AluminiumBeam2/results2/2-0.15/collect_1192.bin\n",
        "Opening file: ../../../Measurements/BreakTest_AluminiumBeam2/results2/2-0.15/collect_1193.bin\n",
        "Closed file: ../../../Measurements/BreakTest_AluminiumBeam2/results2/2-0.15/collect_1193.bin\n",
        "Opening file: ../../../Measurements/BreakTest_AluminiumBeam2/results2/2-0.15/collect_1194.bin\n",
        "Closed file: ../../../Measurements/BreakTest_AluminiumBeam2/results2/2-0.15/collect_1194.bin\n",
        "Opening file: ../../../Measurements/BreakTest_AluminiumBeam2/results2/2-0.15/collect_1195.bin"
       ]
      },
      {
       "output_type": "stream",
       "stream": "stdout",
       "text": [
        "\n",
        "Closed file: ../../../Measurements/BreakTest_AluminiumBeam2/results2/2-0.15/collect_1195.bin\n",
        "Opening file: ../../../Measurements/BreakTest_AluminiumBeam2/results2/2-0.15/collect_1196.bin\n",
        "Closed file: ../../../Measurements/BreakTest_AluminiumBeam2/results2/2-0.15/collect_1196.bin\n",
        "Opening file: ../../../Measurements/BreakTest_AluminiumBeam2/results2/2-0.15/collect_1197.bin\n",
        "Closed file: ../../../Measurements/BreakTest_AluminiumBeam2/results2/2-0.15/collect_1197.bin\n",
        "Opening file: ../../../Measurements/BreakTest_AluminiumBeam2/results2/2-0.15/collect_1198.bin"
       ]
      },
      {
       "output_type": "stream",
       "stream": "stdout",
       "text": [
        "\n",
        "Closed file: ../../../Measurements/BreakTest_AluminiumBeam2/results2/2-0.15/collect_1198.bin\n",
        "Opening file: ../../../Measurements/BreakTest_AluminiumBeam2/results2/2-0.15/collect_1199.bin\n",
        "Closed file: ../../../Measurements/BreakTest_AluminiumBeam2/results2/2-0.15/collect_1199.bin\n",
        "Opening file: ../../../Measurements/BreakTest_AluminiumBeam2/results2/2-0.15/collect_1200.bin\n",
        "Closed file: ../../../Measurements/BreakTest_AluminiumBeam2/results2/2-0.15/collect_1200.bin\n",
        "Opening file: ../../../Measurements/BreakTest_AluminiumBeam2/results2/2-0.15/collect_1201.bin\n",
        "Closed file: ../../../Measurements/BreakTest_AluminiumBeam2/results2/2-0.15/collect_1201.bin"
       ]
      },
      {
       "output_type": "stream",
       "stream": "stdout",
       "text": [
        "\n",
        "Opening file: ../../../Measurements/BreakTest_AluminiumBeam2/results2/2-0.15/collect_1202.bin\n",
        "Closed file: ../../../Measurements/BreakTest_AluminiumBeam2/results2/2-0.15/collect_1202.bin\n",
        "Opening file: ../../../Measurements/BreakTest_AluminiumBeam2/results2/2-0.15/collect_1203.bin\n",
        "Closed file: ../../../Measurements/BreakTest_AluminiumBeam2/results2/2-0.15/collect_1203.bin\n",
        "Opening file: ../../../Measurements/BreakTest_AluminiumBeam2/results2/2-0.15/collect_1204.bin\n",
        "Closed file: ../../../Measurements/BreakTest_AluminiumBeam2/results2/2-0.15/collect_1204.bin\n",
        "Opening file: ../../../Measurements/BreakTest_AluminiumBeam2/results2/2-0.15/collect_1205.bin"
       ]
      },
      {
       "output_type": "stream",
       "stream": "stdout",
       "text": [
        "\n",
        "Closed file: ../../../Measurements/BreakTest_AluminiumBeam2/results2/2-0.15/collect_1205.bin\n",
        "Opening file: ../../../Measurements/BreakTest_AluminiumBeam2/results2/2-0.15/collect_1206.bin\n",
        "Closed file: ../../../Measurements/BreakTest_AluminiumBeam2/results2/2-0.15/collect_1206.bin\n",
        "Opening file: ../../../Measurements/BreakTest_AluminiumBeam2/results2/2-0.15/collect_1207.bin\n",
        "Closed file: ../../../Measurements/BreakTest_AluminiumBeam2/results2/2-0.15/collect_1207.bin"
       ]
      },
      {
       "output_type": "stream",
       "stream": "stdout",
       "text": [
        "\n",
        "Opening file: ../../../Measurements/BreakTest_AluminiumBeam2/results2/2-0.15/collect_1208.bin\n",
        "Closed file: ../../../Measurements/BreakTest_AluminiumBeam2/results2/2-0.15/collect_1208.bin\n",
        "Opening file: ../../../Measurements/BreakTest_AluminiumBeam2/results2/2-0.15/collect_1209.bin\n",
        "Closed file: ../../../Measurements/BreakTest_AluminiumBeam2/results2/2-0.15/collect_1209.bin\n",
        "Opening file: ../../../Measurements/BreakTest_AluminiumBeam2/results2/2-0.15/collect_1210.bin\n",
        "Closed file: ../../../Measurements/BreakTest_AluminiumBeam2/results2/2-0.15/collect_1210.bin"
       ]
      },
      {
       "output_type": "stream",
       "stream": "stdout",
       "text": [
        "\n",
        "Opening file: ../../../Measurements/BreakTest_AluminiumBeam2/results2/2-0.15/collect_1211.bin\n",
        "Closed file: ../../../Measurements/BreakTest_AluminiumBeam2/results2/2-0.15/collect_1211.bin\n",
        "Opening file: ../../../Measurements/BreakTest_AluminiumBeam2/results2/2-0.15/collect_1212.bin\n",
        "Closed file: ../../../Measurements/BreakTest_AluminiumBeam2/results2/2-0.15/collect_1212.bin\n",
        "Opening file: ../../../Measurements/BreakTest_AluminiumBeam2/results2/2-0.15/collect_1213.bin\n",
        "Closed file: ../../../Measurements/BreakTest_AluminiumBeam2/results2/2-0.15/collect_1213.bin"
       ]
      },
      {
       "output_type": "stream",
       "stream": "stdout",
       "text": [
        "\n",
        "Opening file: ../../../Measurements/BreakTest_AluminiumBeam2/results2/2-0.15/collect_1214.bin\n",
        "Closed file: ../../../Measurements/BreakTest_AluminiumBeam2/results2/2-0.15/collect_1214.bin\n",
        "Opening file: ../../../Measurements/BreakTest_AluminiumBeam2/results2/2-0.15/collect_1215.bin\n",
        "Closed file: ../../../Measurements/BreakTest_AluminiumBeam2/results2/2-0.15/collect_1215.bin\n",
        "Opening file: ../../../Measurements/BreakTest_AluminiumBeam2/results2/2-0.15/collect_1216.bin\n",
        "Closed file: ../../../Measurements/BreakTest_AluminiumBeam2/results2/2-0.15/collect_1216.bin\n",
        "Opening file: ../../../Measurements/BreakTest_AluminiumBeam2/results2/2-0.15/collect_1217.bin\n",
        "Closed file: ../../../Measurements/BreakTest_AluminiumBeam2/results2/2-0.15/collect_1217.bin"
       ]
      },
      {
       "output_type": "stream",
       "stream": "stdout",
       "text": [
        "\n",
        "Opening file: ../../../Measurements/BreakTest_AluminiumBeam2/results2/2-0.15/collect_1218.bin\n",
        "Closed file: ../../../Measurements/BreakTest_AluminiumBeam2/results2/2-0.15/collect_1218.bin\n",
        "Opening file: ../../../Measurements/BreakTest_AluminiumBeam2/results2/2-0.15/collect_1219.bin\n",
        "Closed file: ../../../Measurements/BreakTest_AluminiumBeam2/results2/2-0.15/collect_1219.bin\n",
        "Opening file: ../../../Measurements/BreakTest_AluminiumBeam2/results2/2-0.15/collect_1220.bin\n",
        "Closed file: ../../../Measurements/BreakTest_AluminiumBeam2/results2/2-0.15/collect_1220.bin"
       ]
      },
      {
       "output_type": "stream",
       "stream": "stdout",
       "text": [
        "\n",
        "Opening file: ../../../Measurements/BreakTest_AluminiumBeam2/results2/2-0.15/collect_1221.bin\n",
        "Closed file: ../../../Measurements/BreakTest_AluminiumBeam2/results2/2-0.15/collect_1221.bin\n",
        "Opening file: ../../../Measurements/BreakTest_AluminiumBeam2/results2/2-0.15/collect_1222.bin\n",
        "Closed file: ../../../Measurements/BreakTest_AluminiumBeam2/results2/2-0.15/collect_1222.bin\n",
        "Opening file: ../../../Measurements/BreakTest_AluminiumBeam2/results2/2-0.15/collect_1223.bin\n",
        "Closed file: ../../../Measurements/BreakTest_AluminiumBeam2/results2/2-0.15/collect_1223.bin\n",
        "Opening file: ../../../Measurements/BreakTest_AluminiumBeam2/results2/2-0.15/collect_1224.bin\n",
        "Closed file: ../../../Measurements/BreakTest_AluminiumBeam2/results2/2-0.15/collect_1224.bin"
       ]
      },
      {
       "output_type": "stream",
       "stream": "stdout",
       "text": [
        "\n",
        "Opening file: ../../../Measurements/BreakTest_AluminiumBeam2/results2/2-0.15/collect_1225.bin\n",
        "Closed file: ../../../Measurements/BreakTest_AluminiumBeam2/results2/2-0.15/collect_1225.bin\n",
        "Opening file: ../../../Measurements/BreakTest_AluminiumBeam2/results2/2-0.15/collect_1226.bin\n",
        "Closed file: ../../../Measurements/BreakTest_AluminiumBeam2/results2/2-0.15/collect_1226.bin\n",
        "Opening file: ../../../Measurements/BreakTest_AluminiumBeam2/results2/2-0.15/collect_1227.bin\n",
        "Closed file: ../../../Measurements/BreakTest_AluminiumBeam2/results2/2-0.15/collect_1227.bin"
       ]
      },
      {
       "output_type": "stream",
       "stream": "stdout",
       "text": [
        "\n",
        "Opening file: ../../../Measurements/BreakTest_AluminiumBeam2/results2/2-0.15/collect_1228.bin\n",
        "Closed file: ../../../Measurements/BreakTest_AluminiumBeam2/results2/2-0.15/collect_1228.bin\n",
        "Opening file: ../../../Measurements/BreakTest_AluminiumBeam2/results2/2-0.15/collect_1229.bin\n",
        "Closed file: ../../../Measurements/BreakTest_AluminiumBeam2/results2/2-0.15/collect_1229.bin\n",
        "Opening file: ../../../Measurements/BreakTest_AluminiumBeam2/results2/2-0.15/collect_1230.bin\n",
        "Closed file: ../../../Measurements/BreakTest_AluminiumBeam2/results2/2-0.15/collect_1230.bin"
       ]
      },
      {
       "output_type": "stream",
       "stream": "stdout",
       "text": [
        "\n",
        "Opening file: ../../../Measurements/BreakTest_AluminiumBeam2/results2/2-0.15/collect_1231.bin\n",
        "Closed file: ../../../Measurements/BreakTest_AluminiumBeam2/results2/2-0.15/collect_1231.bin\n",
        "Opening file: ../../../Measurements/BreakTest_AluminiumBeam2/results2/2-0.15/collect_1232.bin\n",
        "Closed file: ../../../Measurements/BreakTest_AluminiumBeam2/results2/2-0.15/collect_1232.bin\n",
        "Opening file: ../../../Measurements/BreakTest_AluminiumBeam2/results2/2-0.15/collect_1233.bin\n",
        "Closed file: ../../../Measurements/BreakTest_AluminiumBeam2/results2/2-0.15/collect_1233.bin\n",
        "Opening file: ../../../Measurements/BreakTest_AluminiumBeam2/results2/2-0.15/collect_1234.bin\n",
        "Closed file: ../../../Measurements/BreakTest_AluminiumBeam2/results2/2-0.15/collect_1234.bin"
       ]
      },
      {
       "output_type": "stream",
       "stream": "stdout",
       "text": [
        "\n",
        "Opening file: ../../../Measurements/BreakTest_AluminiumBeam2/results2/2-0.15/collect_1235.bin\n",
        "Closed file: ../../../Measurements/BreakTest_AluminiumBeam2/results2/2-0.15/collect_1235.bin\n",
        "Opening file: ../../../Measurements/BreakTest_AluminiumBeam2/results2/2-0.15/collect_1236.bin\n",
        "Closed file: ../../../Measurements/BreakTest_AluminiumBeam2/results2/2-0.15/collect_1236.bin\n",
        "Opening file: ../../../Measurements/BreakTest_AluminiumBeam2/results2/2-0.15/collect_1237.bin\n",
        "Closed file: ../../../Measurements/BreakTest_AluminiumBeam2/results2/2-0.15/collect_1237.bin\n",
        "Opening file: ../../../Measurements/BreakTest_AluminiumBeam2/results2/2-0.15/collect_1238.bin"
       ]
      },
      {
       "output_type": "stream",
       "stream": "stdout",
       "text": [
        "\n",
        "Closed file: ../../../Measurements/BreakTest_AluminiumBeam2/results2/2-0.15/collect_1238.bin\n",
        "Opening file: ../../../Measurements/BreakTest_AluminiumBeam2/results2/2-0.15/collect_1239.bin\n",
        "Closed file: ../../../Measurements/BreakTest_AluminiumBeam2/results2/2-0.15/collect_1239.bin\n",
        "Opening file: ../../../Measurements/BreakTest_AluminiumBeam2/results2/2-0.15/collect_1240.bin\n",
        "Closed file: ../../../Measurements/BreakTest_AluminiumBeam2/results2/2-0.15/collect_1240.bin"
       ]
      },
      {
       "output_type": "stream",
       "stream": "stdout",
       "text": [
        "\n",
        "Opening file: ../../../Measurements/BreakTest_AluminiumBeam2/results2/2-0.15/collect_1241.bin\n",
        "Closed file: ../../../Measurements/BreakTest_AluminiumBeam2/results2/2-0.15/collect_1241.bin\n",
        "Opening file: ../../../Measurements/BreakTest_AluminiumBeam2/results2/2-0.15/collect_1242.bin\n",
        "Closed file: ../../../Measurements/BreakTest_AluminiumBeam2/results2/2-0.15/collect_1242.bin\n",
        "Opening file: ../../../Measurements/BreakTest_AluminiumBeam2/results2/2-0.15/collect_1243.bin"
       ]
      },
      {
       "output_type": "stream",
       "stream": "stdout",
       "text": [
        "\n",
        "Closed file: ../../../Measurements/BreakTest_AluminiumBeam2/results2/2-0.15/collect_1243.bin\n",
        "Opening file: ../../../Measurements/BreakTest_AluminiumBeam2/results2/2-0.15/collect_1244.bin\n",
        "Closed file: ../../../Measurements/BreakTest_AluminiumBeam2/results2/2-0.15/collect_1244.bin\n",
        "Opening file: ../../../Measurements/BreakTest_AluminiumBeam2/results2/2-0.15/collect_1245.bin\n",
        "Closed file: ../../../Measurements/BreakTest_AluminiumBeam2/results2/2-0.15/collect_1245.bin\n",
        "Opening file: ../../../Measurements/BreakTest_AluminiumBeam2/results2/2-0.15/collect_1246.bin\n",
        "Closed file: ../../../Measurements/BreakTest_AluminiumBeam2/results2/2-0.15/collect_1246.bin"
       ]
      },
      {
       "output_type": "stream",
       "stream": "stdout",
       "text": [
        "\n",
        "Opening file: ../../../Measurements/BreakTest_AluminiumBeam2/results2/2-0.15/collect_1247.bin\n",
        "Closed file: ../../../Measurements/BreakTest_AluminiumBeam2/results2/2-0.15/collect_1247.bin\n",
        "Opening file: ../../../Measurements/BreakTest_AluminiumBeam2/results2/2-0.15/collect_1248.bin\n",
        "Closed file: ../../../Measurements/BreakTest_AluminiumBeam2/results2/2-0.15/collect_1248.bin\n",
        "Opening file: ../../../Measurements/BreakTest_AluminiumBeam2/results2/2-0.15/collect_1249.bin\n",
        "Closed file: ../../../Measurements/BreakTest_AluminiumBeam2/results2/2-0.15/collect_1249.bin\n",
        "Opening file: ../../../Measurements/BreakTest_AluminiumBeam2/results2/2-0.15/collect_1250.bin\n",
        "Closed file: ../../../Measurements/BreakTest_AluminiumBeam2/results2/2-0.15/collect_1250.bin"
       ]
      },
      {
       "output_type": "stream",
       "stream": "stdout",
       "text": [
        "\n",
        "Opening file: ../../../Measurements/BreakTest_AluminiumBeam2/results2/2-0.15/collect_1251.bin\n",
        "Closed file: ../../../Measurements/BreakTest_AluminiumBeam2/results2/2-0.15/collect_1251.bin\n",
        "Opening file: ../../../Measurements/BreakTest_AluminiumBeam2/results2/2-0.15/collect_1252.bin\n",
        "Closed file: ../../../Measurements/BreakTest_AluminiumBeam2/results2/2-0.15/collect_1252.bin\n",
        "Opening file: ../../../Measurements/BreakTest_AluminiumBeam2/results2/2-0.15/collect_1253.bin\n",
        "Closed file: ../../../Measurements/BreakTest_AluminiumBeam2/results2/2-0.15/collect_1253.bin\n",
        "Opening file: ../../../Measurements/BreakTest_AluminiumBeam2/results2/2-0.15/collect_1254.bin\n",
        "Closed file: ../../../Measurements/BreakTest_AluminiumBeam2/results2/2-0.15/collect_1254.bin"
       ]
      },
      {
       "output_type": "stream",
       "stream": "stdout",
       "text": [
        "\n",
        "Opening file: ../../../Measurements/BreakTest_AluminiumBeam2/results2/2-0.15/collect_1255.bin\n",
        "Closed file: ../../../Measurements/BreakTest_AluminiumBeam2/results2/2-0.15/collect_1255.bin\n",
        "Opening file: ../../../Measurements/BreakTest_AluminiumBeam2/results2/2-0.15/collect_1256.bin\n",
        "Closed file: ../../../Measurements/BreakTest_AluminiumBeam2/results2/2-0.15/collect_1256.bin"
       ]
      },
      {
       "output_type": "stream",
       "stream": "stdout",
       "text": [
        "\n",
        "Opening file: ../../../Measurements/BreakTest_AluminiumBeam2/results2/2-0.15/collect_1257.bin\n",
        "Closed file: ../../../Measurements/BreakTest_AluminiumBeam2/results2/2-0.15/collect_1257.bin\n",
        "Opening file: ../../../Measurements/BreakTest_AluminiumBeam2/results2/2-0.15/collect_1258.bin\n",
        "Closed file: ../../../Measurements/BreakTest_AluminiumBeam2/results2/2-0.15/collect_1258.bin\n",
        "Opening file: ../../../Measurements/BreakTest_AluminiumBeam2/results2/2-0.15/collect_1259.bin\n",
        "Closed file: ../../../Measurements/BreakTest_AluminiumBeam2/results2/2-0.15/collect_1259.bin\n",
        "Opening file: ../../../Measurements/BreakTest_AluminiumBeam2/results2/2-0.15/collect_1260.bin"
       ]
      },
      {
       "output_type": "stream",
       "stream": "stdout",
       "text": [
        "\n",
        "Closed file: ../../../Measurements/BreakTest_AluminiumBeam2/results2/2-0.15/collect_1260.bin\n",
        "Opening file: ../../../Measurements/BreakTest_AluminiumBeam2/results2/2-0.15/collect_1261.bin\n",
        "Closed file: ../../../Measurements/BreakTest_AluminiumBeam2/results2/2-0.15/collect_1261.bin\n",
        "Opening file: ../../../Measurements/BreakTest_AluminiumBeam2/results2/2-0.15/collect_1262.bin\n",
        "Closed file: ../../../Measurements/BreakTest_AluminiumBeam2/results2/2-0.15/collect_1262.bin\n",
        "Opening file: ../../../Measurements/BreakTest_AluminiumBeam2/results2/2-0.15/collect_1263.bin\n",
        "Closed file: ../../../Measurements/BreakTest_AluminiumBeam2/results2/2-0.15/collect_1263.bin"
       ]
      },
      {
       "output_type": "stream",
       "stream": "stdout",
       "text": [
        "\n",
        "Opening file: ../../../Measurements/BreakTest_AluminiumBeam2/results2/2-0.15/collect_1264.bin\n",
        "Closed file: ../../../Measurements/BreakTest_AluminiumBeam2/results2/2-0.15/collect_1264.bin\n",
        "Opening file: ../../../Measurements/BreakTest_AluminiumBeam2/results2/2-0.15/collect_1265.bin\n",
        "Closed file: ../../../Measurements/BreakTest_AluminiumBeam2/results2/2-0.15/collect_1265.bin\n",
        "Opening file: ../../../Measurements/BreakTest_AluminiumBeam2/results2/2-0.15/collect_1266.bin\n",
        "Closed file: ../../../Measurements/BreakTest_AluminiumBeam2/results2/2-0.15/collect_1266.bin\n",
        "Opening file: ../../../Measurements/BreakTest_AluminiumBeam2/results2/2-0.15/collect_1267.bin\n",
        "Closed file: ../../../Measurements/BreakTest_AluminiumBeam2/results2/2-0.15/collect_1267.bin"
       ]
      },
      {
       "output_type": "stream",
       "stream": "stdout",
       "text": [
        "\n",
        "Opening file: ../../../Measurements/BreakTest_AluminiumBeam2/results2/2-0.15/collect_1268.bin\n",
        "Closed file: ../../../Measurements/BreakTest_AluminiumBeam2/results2/2-0.15/collect_1268.bin\n",
        "Opening file: ../../../Measurements/BreakTest_AluminiumBeam2/results2/2-0.15/collect_1269.bin\n",
        "Closed file: ../../../Measurements/BreakTest_AluminiumBeam2/results2/2-0.15/collect_1269.bin\n",
        "Opening file: ../../../Measurements/BreakTest_AluminiumBeam2/results2/2-0.15/collect_1270.bin\n",
        "Closed file: ../../../Measurements/BreakTest_AluminiumBeam2/results2/2-0.15/collect_1270.bin\n",
        "Opening file: ../../../Measurements/BreakTest_AluminiumBeam2/results2/2-0.15/collect_1271.bin\n",
        "Closed file: ../../../Measurements/BreakTest_AluminiumBeam2/results2/2-0.15/collect_1271.bin"
       ]
      },
      {
       "output_type": "stream",
       "stream": "stdout",
       "text": [
        "\n",
        "Opening file: ../../../Measurements/BreakTest_AluminiumBeam2/results2/2-0.15/collect_1272.bin\n",
        "Closed file: ../../../Measurements/BreakTest_AluminiumBeam2/results2/2-0.15/collect_1272.bin\n",
        "Opening file: ../../../Measurements/BreakTest_AluminiumBeam2/results2/2-0.15/collect_1273.bin\n",
        "Closed file: ../../../Measurements/BreakTest_AluminiumBeam2/results2/2-0.15/collect_1273.bin\n",
        "Opening file: ../../../Measurements/BreakTest_AluminiumBeam2/results2/2-0.15/collect_1274.bin\n",
        "Closed file: ../../../Measurements/BreakTest_AluminiumBeam2/results2/2-0.15/collect_1274.bin\n",
        "Opening file: ../../../Measurements/BreakTest_AluminiumBeam2/results2/2-0.15/collect_1275.bin\n",
        "Closed file: ../../../Measurements/BreakTest_AluminiumBeam2/results2/2-0.15/collect_1275.bin"
       ]
      },
      {
       "output_type": "stream",
       "stream": "stdout",
       "text": [
        "\n",
        "Opening file: ../../../Measurements/BreakTest_AluminiumBeam2/results2/2-0.15/collect_1276.bin\n",
        "Closed file: ../../../Measurements/BreakTest_AluminiumBeam2/results2/2-0.15/collect_1276.bin\n",
        "Opening file: ../../../Measurements/BreakTest_AluminiumBeam2/results2/2-0.15/collect_1277.bin\n",
        "Closed file: ../../../Measurements/BreakTest_AluminiumBeam2/results2/2-0.15/collect_1277.bin\n",
        "Opening file: ../../../Measurements/BreakTest_AluminiumBeam2/results2/2-0.15/collect_1278.bin\n",
        "Closed file: ../../../Measurements/BreakTest_AluminiumBeam2/results2/2-0.15/collect_1278.bin\n",
        "Opening file: ../../../Measurements/BreakTest_AluminiumBeam2/results2/2-0.15/collect_1279.bin\n",
        "Closed file: ../../../Measurements/BreakTest_AluminiumBeam2/results2/2-0.15/collect_1279.bin"
       ]
      },
      {
       "output_type": "stream",
       "stream": "stdout",
       "text": [
        "\n",
        "Opening file: ../../../Measurements/BreakTest_AluminiumBeam2/results2/2-0.15/collect_1280.bin\n",
        "Closed file: ../../../Measurements/BreakTest_AluminiumBeam2/results2/2-0.15/collect_1280.bin\n",
        "Opening file: ../../../Measurements/BreakTest_AluminiumBeam2/results2/2-0.15/collect_1281.bin\n",
        "Closed file: ../../../Measurements/BreakTest_AluminiumBeam2/results2/2-0.15/collect_1281.bin\n",
        "Opening file: ../../../Measurements/BreakTest_AluminiumBeam2/results2/2-0.15/collect_1282.bin\n",
        "Closed file: ../../../Measurements/BreakTest_AluminiumBeam2/results2/2-0.15/collect_1282.bin\n",
        "Opening file: ../../../Measurements/BreakTest_AluminiumBeam2/results2/2-0.15/collect_1283.bin\n",
        "Closed file: ../../../Measurements/BreakTest_AluminiumBeam2/results2/2-0.15/collect_1283.bin"
       ]
      },
      {
       "output_type": "stream",
       "stream": "stdout",
       "text": [
        "\n",
        "Opening file: ../../../Measurements/BreakTest_AluminiumBeam2/results2/2-0.15/collect_1284.bin\n",
        "Closed file: ../../../Measurements/BreakTest_AluminiumBeam2/results2/2-0.15/collect_1284.bin\n",
        "Opening file: ../../../Measurements/BreakTest_AluminiumBeam2/results2/2-0.15/collect_1285.bin\n",
        "Closed file: ../../../Measurements/BreakTest_AluminiumBeam2/results2/2-0.15/collect_1285.bin"
       ]
      },
      {
       "output_type": "stream",
       "stream": "stdout",
       "text": [
        "\n",
        "Opening file: ../../../Measurements/BreakTest_AluminiumBeam2/results2/2-0.15/collect_1286.bin\n",
        "Closed file: ../../../Measurements/BreakTest_AluminiumBeam2/results2/2-0.15/collect_1286.bin\n",
        "Opening file: ../../../Measurements/BreakTest_AluminiumBeam2/results2/2-0.15/collect_1287.bin\n",
        "Closed file: ../../../Measurements/BreakTest_AluminiumBeam2/results2/2-0.15/collect_1287.bin"
       ]
      },
      {
       "output_type": "stream",
       "stream": "stdout",
       "text": [
        "\n",
        "Opening file: ../../../Measurements/BreakTest_AluminiumBeam2/results2/2-0.15/collect_1288.bin\n",
        "Closed file: ../../../Measurements/BreakTest_AluminiumBeam2/results2/2-0.15/collect_1288.bin\n",
        "Opening file: ../../../Measurements/BreakTest_AluminiumBeam2/results2/2-0.15/collect_1289.bin\n",
        "Closed file: ../../../Measurements/BreakTest_AluminiumBeam2/results2/2-0.15/collect_1289.bin\n",
        "Opening file: ../../../Measurements/BreakTest_AluminiumBeam2/results2/2-0.15/collect_1290.bin\n",
        "Closed file: ../../../Measurements/BreakTest_AluminiumBeam2/results2/2-0.15/collect_1290.bin"
       ]
      },
      {
       "output_type": "stream",
       "stream": "stdout",
       "text": [
        "\n",
        "Opening file: ../../../Measurements/BreakTest_AluminiumBeam2/results2/2-0.15/collect_1291.bin\n",
        "Closed file: ../../../Measurements/BreakTest_AluminiumBeam2/results2/2-0.15/collect_1291.bin\n",
        "Opening file: ../../../Measurements/BreakTest_AluminiumBeam2/results2/2-0.15/collect_1292.bin\n",
        "Closed file: ../../../Measurements/BreakTest_AluminiumBeam2/results2/2-0.15/collect_1292.bin\n",
        "Opening file: ../../../Measurements/BreakTest_AluminiumBeam2/results2/2-0.15/collect_1293.bin"
       ]
      },
      {
       "output_type": "stream",
       "stream": "stdout",
       "text": [
        "\n",
        "Closed file: ../../../Measurements/BreakTest_AluminiumBeam2/results2/2-0.15/collect_1293.bin\n",
        "Opening file: ../../../Measurements/BreakTest_AluminiumBeam2/results2/2-0.15/collect_1294.bin\n",
        "Closed file: ../../../Measurements/BreakTest_AluminiumBeam2/results2/2-0.15/collect_1294.bin\n",
        "Opening file: ../../../Measurements/BreakTest_AluminiumBeam2/results2/2-0.15/collect_1295.bin"
       ]
      },
      {
       "output_type": "stream",
       "stream": "stdout",
       "text": [
        "\n",
        "Closed file: ../../../Measurements/BreakTest_AluminiumBeam2/results2/2-0.15/collect_1295.bin\n",
        "Opening file: ../../../Measurements/BreakTest_AluminiumBeam2/results2/2-0.15/collect_1296.bin\n",
        "Closed file: ../../../Measurements/BreakTest_AluminiumBeam2/results2/2-0.15/collect_1296.bin\n",
        "Opening file: ../../../Measurements/BreakTest_AluminiumBeam2/results2/2-0.15/collect_1297.bin"
       ]
      },
      {
       "output_type": "stream",
       "stream": "stdout",
       "text": [
        "\n",
        "Closed file: ../../../Measurements/BreakTest_AluminiumBeam2/results2/2-0.15/collect_1297.bin\n",
        "Opening file: ../../../Measurements/BreakTest_AluminiumBeam2/results2/2-0.15/collect_1298.bin\n",
        "Closed file: ../../../Measurements/BreakTest_AluminiumBeam2/results2/2-0.15/collect_1298.bin\n",
        "Opening file: ../../../Measurements/BreakTest_AluminiumBeam2/results2/2-0.15/collect_1299.bin\n",
        "Closed file: ../../../Measurements/BreakTest_AluminiumBeam2/results2/2-0.15/collect_1299.bin"
       ]
      },
      {
       "output_type": "stream",
       "stream": "stdout",
       "text": [
        "\n",
        "Opening file: ../../../Measurements/BreakTest_AluminiumBeam2/results2/2-0.15/collect_1300.bin\n",
        "Closed file: ../../../Measurements/BreakTest_AluminiumBeam2/results2/2-0.15/collect_1300.bin\n",
        "Opening file: ../../../Measurements/BreakTest_AluminiumBeam2/results2/2-0.15/collect_1301.bin\n",
        "Closed file: ../../../Measurements/BreakTest_AluminiumBeam2/results2/2-0.15/collect_1301.bin"
       ]
      },
      {
       "output_type": "stream",
       "stream": "stdout",
       "text": [
        "\n",
        "Opening file: ../../../Measurements/BreakTest_AluminiumBeam2/results2/2-0.15/collect_1302.bin\n",
        "Closed file: ../../../Measurements/BreakTest_AluminiumBeam2/results2/2-0.15/collect_1302.bin\n",
        "Opening file: ../../../Measurements/BreakTest_AluminiumBeam2/results2/2-0.15/collect_1303.bin\n",
        "Closed file: ../../../Measurements/BreakTest_AluminiumBeam2/results2/2-0.15/collect_1303.bin\n",
        "Opening file: ../../../Measurements/BreakTest_AluminiumBeam2/results2/2-0.15/collect_1304.bin\n",
        "Closed file: ../../../Measurements/BreakTest_AluminiumBeam2/results2/2-0.15/collect_1304.bin"
       ]
      },
      {
       "output_type": "stream",
       "stream": "stdout",
       "text": [
        "\n",
        "Opening file: ../../../Measurements/BreakTest_AluminiumBeam2/results2/2-0.15/collect_1305.bin\n",
        "Closed file: ../../../Measurements/BreakTest_AluminiumBeam2/results2/2-0.15/collect_1305.bin\n",
        "Opening file: ../../../Measurements/BreakTest_AluminiumBeam2/results2/2-0.15/collect_1306.bin\n",
        "Closed file: ../../../Measurements/BreakTest_AluminiumBeam2/results2/2-0.15/collect_1306.bin"
       ]
      },
      {
       "output_type": "stream",
       "stream": "stdout",
       "text": [
        "\n",
        "Opening file: ../../../Measurements/BreakTest_AluminiumBeam2/results2/2-0.15/collect_1307.bin\n",
        "Closed file: ../../../Measurements/BreakTest_AluminiumBeam2/results2/2-0.15/collect_1307.bin\n",
        "Opening file: ../../../Measurements/BreakTest_AluminiumBeam2/results2/2-0.15/collect_1308.bin\n",
        "Closed file: ../../../Measurements/BreakTest_AluminiumBeam2/results2/2-0.15/collect_1308.bin\n",
        "Opening file: ../../../Measurements/BreakTest_AluminiumBeam2/results2/2-0.15/collect_1309.bin\n",
        "Closed file: ../../../Measurements/BreakTest_AluminiumBeam2/results2/2-0.15/collect_1309.bin"
       ]
      },
      {
       "output_type": "stream",
       "stream": "stdout",
       "text": [
        "\n",
        "Opening file: ../../../Measurements/BreakTest_AluminiumBeam2/results2/2-0.15/collect_1310.bin\n",
        "Closed file: ../../../Measurements/BreakTest_AluminiumBeam2/results2/2-0.15/collect_1310.bin\n",
        "Opening file: ../../../Measurements/BreakTest_AluminiumBeam2/results2/2-0.15/collect_1311.bin\n",
        "Closed file: ../../../Measurements/BreakTest_AluminiumBeam2/results2/2-0.15/collect_1311.bin\n",
        "Opening file: ../../../Measurements/BreakTest_AluminiumBeam2/results2/2-0.15/collect_1312.bin\n",
        "Closed file: ../../../Measurements/BreakTest_AluminiumBeam2/results2/2-0.15/collect_1312.bin"
       ]
      },
      {
       "output_type": "stream",
       "stream": "stdout",
       "text": [
        "\n",
        "Opening file: ../../../Measurements/BreakTest_AluminiumBeam2/results2/2-0.15/collect_1313.bin\n",
        "Closed file: ../../../Measurements/BreakTest_AluminiumBeam2/results2/2-0.15/collect_1313.bin\n",
        "Opening file: ../../../Measurements/BreakTest_AluminiumBeam2/results2/2-0.15/collect_1314.bin\n",
        "Closed file: ../../../Measurements/BreakTest_AluminiumBeam2/results2/2-0.15/collect_1314.bin"
       ]
      },
      {
       "output_type": "stream",
       "stream": "stdout",
       "text": [
        "\n",
        "Opening file: ../../../Measurements/BreakTest_AluminiumBeam2/results2/2-0.15/collect_1315.bin\n",
        "Closed file: ../../../Measurements/BreakTest_AluminiumBeam2/results2/2-0.15/collect_1315.bin\n",
        "Opening file: ../../../Measurements/BreakTest_AluminiumBeam2/results2/2-0.15/collect_1316.bin\n",
        "Closed file: ../../../Measurements/BreakTest_AluminiumBeam2/results2/2-0.15/collect_1316.bin"
       ]
      },
      {
       "output_type": "stream",
       "stream": "stdout",
       "text": [
        "\n",
        "Opening file: ../../../Measurements/BreakTest_AluminiumBeam2/results2/2-0.15/collect_1317.bin\n",
        "Closed file: ../../../Measurements/BreakTest_AluminiumBeam2/results2/2-0.15/collect_1317.bin\n",
        "Opening file: ../../../Measurements/BreakTest_AluminiumBeam2/results2/2-0.15/collect_1318.bin\n",
        "Closed file: ../../../Measurements/BreakTest_AluminiumBeam2/results2/2-0.15/collect_1318.bin\n",
        "Opening file: ../../../Measurements/BreakTest_AluminiumBeam2/results2/2-0.15/collect_1319.bin\n",
        "Closed file: ../../../Measurements/BreakTest_AluminiumBeam2/results2/2-0.15/collect_1319.bin"
       ]
      },
      {
       "output_type": "stream",
       "stream": "stdout",
       "text": [
        "\n",
        "Opening file: ../../../Measurements/BreakTest_AluminiumBeam2/results2/2-0.15/collect_1320.bin\n",
        "Closed file: ../../../Measurements/BreakTest_AluminiumBeam2/results2/2-0.15/collect_1320.bin\n",
        "Opening file: ../../../Measurements/BreakTest_AluminiumBeam2/results2/2-0.15/collect_1321.bin\n",
        "Closed file: ../../../Measurements/BreakTest_AluminiumBeam2/results2/2-0.15/collect_1321.bin\n",
        "Opening file: ../../../Measurements/BreakTest_AluminiumBeam2/results2/2-0.15/collect_1322.bin"
       ]
      },
      {
       "output_type": "stream",
       "stream": "stdout",
       "text": [
        "\n",
        "Closed file: ../../../Measurements/BreakTest_AluminiumBeam2/results2/2-0.15/collect_1322.bin\n",
        "Opening file: ../../../Measurements/BreakTest_AluminiumBeam2/results2/2-0.15/collect_1323.bin\n",
        "Closed file: ../../../Measurements/BreakTest_AluminiumBeam2/results2/2-0.15/collect_1323.bin\n",
        "Opening file: ../../../Measurements/BreakTest_AluminiumBeam2/results2/2-0.15/collect_1324.bin\n",
        "Closed file: ../../../Measurements/BreakTest_AluminiumBeam2/results2/2-0.15/collect_1324.bin"
       ]
      },
      {
       "output_type": "stream",
       "stream": "stdout",
       "text": [
        "\n",
        "Opening file: ../../../Measurements/BreakTest_AluminiumBeam2/results2/2-0.15/collect_1325.bin\n",
        "Closed file: ../../../Measurements/BreakTest_AluminiumBeam2/results2/2-0.15/collect_1325.bin\n",
        "Opening file: ../../../Measurements/BreakTest_AluminiumBeam2/results2/2-0.15/collect_1326.bin\n",
        "Closed file: ../../../Measurements/BreakTest_AluminiumBeam2/results2/2-0.15/collect_1326.bin\n",
        "Opening file: ../../../Measurements/BreakTest_AluminiumBeam2/results2/2-0.15/collect_1327.bin\n",
        "Closed file: ../../../Measurements/BreakTest_AluminiumBeam2/results2/2-0.15/collect_1327.bin"
       ]
      },
      {
       "output_type": "stream",
       "stream": "stdout",
       "text": [
        "\n",
        "Opening file: ../../../Measurements/BreakTest_AluminiumBeam2/results2/2-0.15/collect_1328.bin\n",
        "Closed file: ../../../Measurements/BreakTest_AluminiumBeam2/results2/2-0.15/collect_1328.bin\n",
        "Opening file: ../../../Measurements/BreakTest_AluminiumBeam2/results2/2-0.15/collect_1329.bin\n",
        "Closed file: ../../../Measurements/BreakTest_AluminiumBeam2/results2/2-0.15/collect_1329.bin"
       ]
      },
      {
       "output_type": "stream",
       "stream": "stdout",
       "text": [
        "\n",
        "Opening file: ../../../Measurements/BreakTest_AluminiumBeam2/results2/2-0.15/collect_1330.bin\n",
        "Closed file: ../../../Measurements/BreakTest_AluminiumBeam2/results2/2-0.15/collect_1330.bin\n",
        "Opening file: ../../../Measurements/BreakTest_AluminiumBeam2/results2/2-0.15/collect_1331.bin\n",
        "Closed file: ../../../Measurements/BreakTest_AluminiumBeam2/results2/2-0.15/collect_1331.bin"
       ]
      },
      {
       "output_type": "stream",
       "stream": "stdout",
       "text": [
        "\n",
        "Opening file: ../../../Measurements/BreakTest_AluminiumBeam2/results2/2-0.15/collect_1332.bin\n",
        "Closed file: ../../../Measurements/BreakTest_AluminiumBeam2/results2/2-0.15/collect_1332.bin\n",
        "Opening file: ../../../Measurements/BreakTest_AluminiumBeam2/results2/2-0.15/collect_1333.bin\n",
        "Closed file: ../../../Measurements/BreakTest_AluminiumBeam2/results2/2-0.15/collect_1333.bin"
       ]
      },
      {
       "output_type": "stream",
       "stream": "stdout",
       "text": [
        "\n",
        "Opening file: ../../../Measurements/BreakTest_AluminiumBeam2/results2/2-0.15/collect_1334.bin\n",
        "Closed file: ../../../Measurements/BreakTest_AluminiumBeam2/results2/2-0.15/collect_1334.bin\n",
        "Opening file: ../../../Measurements/BreakTest_AluminiumBeam2/results2/2-0.15/collect_1335.bin"
       ]
      },
      {
       "output_type": "stream",
       "stream": "stdout",
       "text": [
        "\n",
        "Closed file: ../../../Measurements/BreakTest_AluminiumBeam2/results2/2-0.15/collect_1335.bin\n",
        "Opening file: ../../../Measurements/BreakTest_AluminiumBeam2/results2/2-0.15/collect_1336.bin\n",
        "Closed file: ../../../Measurements/BreakTest_AluminiumBeam2/results2/2-0.15/collect_1336.bin\n",
        "Opening file: ../../../Measurements/BreakTest_AluminiumBeam2/results2/2-0.15/collect_1337.bin\n",
        "Closed file: ../../../Measurements/BreakTest_AluminiumBeam2/results2/2-0.15/collect_1337.bin"
       ]
      },
      {
       "output_type": "stream",
       "stream": "stdout",
       "text": [
        "\n",
        "Opening file: ../../../Measurements/BreakTest_AluminiumBeam2/results2/2-0.15/collect_1338.bin\n",
        "Closed file: ../../../Measurements/BreakTest_AluminiumBeam2/results2/2-0.15/collect_1338.bin\n",
        "Opening file: ../../../Measurements/BreakTest_AluminiumBeam2/results2/2-0.15/collect_1339.bin\n",
        "Closed file: ../../../Measurements/BreakTest_AluminiumBeam2/results2/2-0.15/collect_1339.bin"
       ]
      },
      {
       "output_type": "stream",
       "stream": "stdout",
       "text": [
        "\n",
        "Opening file: ../../../Measurements/BreakTest_AluminiumBeam2/results2/2-0.15/collect_1340.bin\n",
        "Closed file: ../../../Measurements/BreakTest_AluminiumBeam2/results2/2-0.15/collect_1340.bin\n",
        "Opening file: ../../../Measurements/BreakTest_AluminiumBeam2/results2/2-0.15/collect_1341.bin\n",
        "Closed file: ../../../Measurements/BreakTest_AluminiumBeam2/results2/2-0.15/collect_1341.bin"
       ]
      },
      {
       "output_type": "stream",
       "stream": "stdout",
       "text": [
        "\n",
        "Opening file: ../../../Measurements/BreakTest_AluminiumBeam2/results2/2-0.15/collect_1342.bin\n",
        "Closed file: ../../../Measurements/BreakTest_AluminiumBeam2/results2/2-0.15/collect_1342.bin\n",
        "Opening file: ../../../Measurements/BreakTest_AluminiumBeam2/results2/2-0.15/collect_1343.bin\n",
        "Closed file: ../../../Measurements/BreakTest_AluminiumBeam2/results2/2-0.15/collect_1343.bin"
       ]
      },
      {
       "output_type": "stream",
       "stream": "stdout",
       "text": [
        "\n",
        "Opening file: ../../../Measurements/BreakTest_AluminiumBeam2/results2/2-0.15/collect_1344.bin\n",
        "Closed file: ../../../Measurements/BreakTest_AluminiumBeam2/results2/2-0.15/collect_1344.bin\n",
        "Opening file: ../../../Measurements/BreakTest_AluminiumBeam2/results2/2-0.15/collect_1345.bin\n",
        "Closed file: ../../../Measurements/BreakTest_AluminiumBeam2/results2/2-0.15/collect_1345.bin"
       ]
      },
      {
       "output_type": "stream",
       "stream": "stdout",
       "text": [
        "\n",
        "Opening file: ../../../Measurements/BreakTest_AluminiumBeam2/results2/2-0.15/collect_1346.bin\n",
        "Closed file: ../../../Measurements/BreakTest_AluminiumBeam2/results2/2-0.15/collect_1346.bin"
       ]
      },
      {
       "output_type": "stream",
       "stream": "stdout",
       "text": [
        "\n",
        "Opening file: ../../../Measurements/BreakTest_AluminiumBeam2/results2/2-0.15/collect_1347.bin\n",
        "Closed file: ../../../Measurements/BreakTest_AluminiumBeam2/results2/2-0.15/collect_1347.bin\n",
        "Opening file: ../../../Measurements/BreakTest_AluminiumBeam2/results2/2-0.15/collect_1348.bin\n",
        "Closed file: ../../../Measurements/BreakTest_AluminiumBeam2/results2/2-0.15/collect_1348.bin"
       ]
      },
      {
       "output_type": "stream",
       "stream": "stdout",
       "text": [
        "\n",
        "Opening file: ../../../Measurements/BreakTest_AluminiumBeam2/results2/2-0.15/collect_1349.bin\n",
        "Closed file: ../../../Measurements/BreakTest_AluminiumBeam2/results2/2-0.15/collect_1349.bin\n",
        "Opening file: ../../../Measurements/BreakTest_AluminiumBeam2/results2/2-0.15/collect_1350.bin\n",
        "Closed file: ../../../Measurements/BreakTest_AluminiumBeam2/results2/2-0.15/collect_1350.bin\n",
        "Opening file: ../../../Measurements/BreakTest_AluminiumBeam2/results2/2-0.15/collect_1351.bin\n",
        "Closed file: ../../../Measurements/BreakTest_AluminiumBeam2/results2/2-0.15/collect_1351.bin"
       ]
      },
      {
       "output_type": "stream",
       "stream": "stdout",
       "text": [
        "\n",
        "Opening file: ../../../Measurements/BreakTest_AluminiumBeam2/results2/2-0.15/collect_1352.bin\n",
        "Closed file: ../../../Measurements/BreakTest_AluminiumBeam2/results2/2-0.15/collect_1352.bin\n",
        "Opening file: ../../../Measurements/BreakTest_AluminiumBeam2/results2/2-0.15/collect_1353.bin\n",
        "Closed file: ../../../Measurements/BreakTest_AluminiumBeam2/results2/2-0.15/collect_1353.bin\n",
        "Opening file: ../../../Measurements/BreakTest_AluminiumBeam2/results2/2-0.15/collect_1354.bin\n",
        "Closed file: ../../../Measurements/BreakTest_AluminiumBeam2/results2/2-0.15/collect_1354.bin"
       ]
      },
      {
       "output_type": "stream",
       "stream": "stdout",
       "text": [
        "\n",
        "Opening file: ../../../Measurements/BreakTest_AluminiumBeam2/results2/2-0.15/collect_1355.bin\n",
        "Closed file: ../../../Measurements/BreakTest_AluminiumBeam2/results2/2-0.15/collect_1355.bin\n",
        "Opening file: ../../../Measurements/BreakTest_AluminiumBeam2/results2/2-0.15/collect_1356.bin\n",
        "Closed file: ../../../Measurements/BreakTest_AluminiumBeam2/results2/2-0.15/collect_1356.bin\n",
        "Opening file: ../../../Measurements/BreakTest_AluminiumBeam2/results2/2-0.15/collect_1357.bin\n",
        "Closed file: ../../../Measurements/BreakTest_AluminiumBeam2/results2/2-0.15/collect_1357.bin"
       ]
      },
      {
       "output_type": "stream",
       "stream": "stdout",
       "text": [
        "\n",
        "Opening file: ../../../Measurements/BreakTest_AluminiumBeam2/results2/2-0.15/collect_1358.bin\n",
        "Closed file: ../../../Measurements/BreakTest_AluminiumBeam2/results2/2-0.15/collect_1358.bin\n",
        "Opening file: ../../../Measurements/BreakTest_AluminiumBeam2/results2/2-0.15/collect_1359.bin\n",
        "Closed file: ../../../Measurements/BreakTest_AluminiumBeam2/results2/2-0.15/collect_1359.bin\n",
        "Opening file: ../../../Measurements/BreakTest_AluminiumBeam2/results2/2-0.15/collect_1360.bin\n",
        "Closed file: ../../../Measurements/BreakTest_AluminiumBeam2/results2/2-0.15/collect_1360.bin"
       ]
      },
      {
       "output_type": "stream",
       "stream": "stdout",
       "text": [
        "\n",
        "Opening file: ../../../Measurements/BreakTest_AluminiumBeam2/results2/2-0.15/collect_1361.bin\n",
        "Closed file: ../../../Measurements/BreakTest_AluminiumBeam2/results2/2-0.15/collect_1361.bin\n",
        "Opening file: ../../../Measurements/BreakTest_AluminiumBeam2/results2/2-0.15/collect_1362.bin\n",
        "Closed file: ../../../Measurements/BreakTest_AluminiumBeam2/results2/2-0.15/collect_1362.bin"
       ]
      },
      {
       "output_type": "stream",
       "stream": "stdout",
       "text": [
        "\n",
        "Opening file: ../../../Measurements/BreakTest_AluminiumBeam2/results2/2-0.15/collect_1363.bin\n",
        "Closed file: ../../../Measurements/BreakTest_AluminiumBeam2/results2/2-0.15/collect_1363.bin\n",
        "Opening file: ../../../Measurements/BreakTest_AluminiumBeam2/results2/2-0.15/collect_1364.bin\n",
        "Closed file: ../../../Measurements/BreakTest_AluminiumBeam2/results2/2-0.15/collect_1364.bin\n",
        "Opening file: ../../../Measurements/BreakTest_AluminiumBeam2/results2/2-0.15/collect_1365.bin"
       ]
      },
      {
       "output_type": "stream",
       "stream": "stdout",
       "text": [
        "\n",
        "Closed file: ../../../Measurements/BreakTest_AluminiumBeam2/results2/2-0.15/collect_1365.bin\n",
        "Opening file: ../../../Measurements/BreakTest_AluminiumBeam2/results2/2-0.15/collect_1366.bin\n",
        "Closed file: ../../../Measurements/BreakTest_AluminiumBeam2/results2/2-0.15/collect_1366.bin"
       ]
      },
      {
       "output_type": "stream",
       "stream": "stdout",
       "text": [
        "\n",
        "Opening file: ../../../Measurements/BreakTest_AluminiumBeam2/results2/2-0.15/collect_1367.bin\n",
        "Closed file: ../../../Measurements/BreakTest_AluminiumBeam2/results2/2-0.15/collect_1367.bin\n",
        "Opening file: ../../../Measurements/BreakTest_AluminiumBeam2/results2/2-0.15/collect_1368.bin\n",
        "Closed file: ../../../Measurements/BreakTest_AluminiumBeam2/results2/2-0.15/collect_1368.bin"
       ]
      },
      {
       "output_type": "stream",
       "stream": "stdout",
       "text": [
        "\n",
        "Opening file: ../../../Measurements/BreakTest_AluminiumBeam2/results2/2-0.15/collect_1369.bin\n",
        "Closed file: ../../../Measurements/BreakTest_AluminiumBeam2/results2/2-0.15/collect_1369.bin\n",
        "Opening file: ../../../Measurements/BreakTest_AluminiumBeam2/results2/2-0.15/collect_1370.bin\n",
        "Closed file: ../../../Measurements/BreakTest_AluminiumBeam2/results2/2-0.15/collect_1370.bin\n",
        "Opening file: ../../../Measurements/BreakTest_AluminiumBeam2/results2/2-0.15/collect_1371.bin"
       ]
      },
      {
       "output_type": "stream",
       "stream": "stdout",
       "text": [
        "\n",
        "Closed file: ../../../Measurements/BreakTest_AluminiumBeam2/results2/2-0.15/collect_1371.bin\n",
        "Opening file: ../../../Measurements/BreakTest_AluminiumBeam2/results2/2-0.15/collect_1372.bin\n",
        "Closed file: ../../../Measurements/BreakTest_AluminiumBeam2/results2/2-0.15/collect_1372.bin"
       ]
      },
      {
       "output_type": "stream",
       "stream": "stdout",
       "text": [
        "\n",
        "Opening file: ../../../Measurements/BreakTest_AluminiumBeam2/results2/2-0.15/collect_1373.bin\n",
        "Closed file: ../../../Measurements/BreakTest_AluminiumBeam2/results2/2-0.15/collect_1373.bin\n",
        "Opening file: ../../../Measurements/BreakTest_AluminiumBeam2/results2/2-0.15/collect_1374.bin\n",
        "Closed file: ../../../Measurements/BreakTest_AluminiumBeam2/results2/2-0.15/collect_1374.bin"
       ]
      },
      {
       "output_type": "stream",
       "stream": "stdout",
       "text": [
        "\n",
        "Opening file: ../../../Measurements/BreakTest_AluminiumBeam2/results2/2-0.15/collect_1375.bin\n",
        "Closed file: ../../../Measurements/BreakTest_AluminiumBeam2/results2/2-0.15/collect_1375.bin\n",
        "Opening file: ../../../Measurements/BreakTest_AluminiumBeam2/results2/2-0.15/collect_1376.bin\n",
        "Closed file: ../../../Measurements/BreakTest_AluminiumBeam2/results2/2-0.15/collect_1376.bin"
       ]
      },
      {
       "output_type": "stream",
       "stream": "stdout",
       "text": [
        "\n",
        "Opening file: ../../../Measurements/BreakTest_AluminiumBeam2/results2/2-0.15/collect_1377.bin\n",
        "Closed file: ../../../Measurements/BreakTest_AluminiumBeam2/results2/2-0.15/collect_1377.bin\n",
        "Opening file: ../../../Measurements/BreakTest_AluminiumBeam2/results2/2-0.15/collect_1378.bin\n",
        "Closed file: ../../../Measurements/BreakTest_AluminiumBeam2/results2/2-0.15/collect_1378.bin"
       ]
      },
      {
       "output_type": "stream",
       "stream": "stdout",
       "text": [
        "\n",
        "Opening file: ../../../Measurements/BreakTest_AluminiumBeam2/results2/2-0.15/collect_1379.bin\n",
        "Closed file: ../../../Measurements/BreakTest_AluminiumBeam2/results2/2-0.15/collect_1379.bin\n",
        "Opening file: ../../../Measurements/BreakTest_AluminiumBeam2/results2/2-0.15/collect_1380.bin\n",
        "Closed file: ../../../Measurements/BreakTest_AluminiumBeam2/results2/2-0.15/collect_1380.bin\n",
        "Opening file: ../../../Measurements/BreakTest_AluminiumBeam2/results2/2-0.15/collect_1381.bin\n",
        "Closed file: ../../../Measurements/BreakTest_AluminiumBeam2/results2/2-0.15/collect_1381.bin"
       ]
      },
      {
       "output_type": "stream",
       "stream": "stdout",
       "text": [
        "\n",
        "Opening file: ../../../Measurements/BreakTest_AluminiumBeam2/results2/2-0.15/collect_1382.bin\n",
        "Closed file: ../../../Measurements/BreakTest_AluminiumBeam2/results2/2-0.15/collect_1382.bin\n",
        "Opening file: ../../../Measurements/BreakTest_AluminiumBeam2/results2/2-0.15/collect_1383.bin\n",
        "Closed file: ../../../Measurements/BreakTest_AluminiumBeam2/results2/2-0.15/collect_1383.bin"
       ]
      },
      {
       "output_type": "stream",
       "stream": "stdout",
       "text": [
        "\n",
        "Opening file: ../../../Measurements/BreakTest_AluminiumBeam2/results2/2-0.15/collect_1384.bin\n",
        "Closed file: ../../../Measurements/BreakTest_AluminiumBeam2/results2/2-0.15/collect_1384.bin\n",
        "Opening file: ../../../Measurements/BreakTest_AluminiumBeam2/results2/2-0.15/collect_1385.bin\n",
        "Closed file: ../../../Measurements/BreakTest_AluminiumBeam2/results2/2-0.15/collect_1385.bin\n",
        "Opening file: ../../../Measurements/BreakTest_AluminiumBeam2/results2/2-0.15/collect_1386.bin"
       ]
      },
      {
       "output_type": "stream",
       "stream": "stdout",
       "text": [
        "\n",
        "Closed file: ../../../Measurements/BreakTest_AluminiumBeam2/results2/2-0.15/collect_1386.bin\n",
        "Opening file: ../../../Measurements/BreakTest_AluminiumBeam2/results2/2-0.15/collect_1387.bin\n",
        "Closed file: ../../../Measurements/BreakTest_AluminiumBeam2/results2/2-0.15/collect_1387.bin"
       ]
      },
      {
       "output_type": "stream",
       "stream": "stdout",
       "text": [
        "\n",
        "Opening file: ../../../Measurements/BreakTest_AluminiumBeam2/results2/2-0.15/collect_1388.bin\n",
        "Closed file: ../../../Measurements/BreakTest_AluminiumBeam2/results2/2-0.15/collect_1388.bin\n",
        "Opening file: ../../../Measurements/BreakTest_AluminiumBeam2/results2/2-0.15/collect_1389.bin\n",
        "Closed file: ../../../Measurements/BreakTest_AluminiumBeam2/results2/2-0.15/collect_1389.bin"
       ]
      },
      {
       "output_type": "stream",
       "stream": "stdout",
       "text": [
        "\n",
        "Opening file: ../../../Measurements/BreakTest_AluminiumBeam2/results2/2-0.15/collect_1390.bin\n",
        "Closed file: ../../../Measurements/BreakTest_AluminiumBeam2/results2/2-0.15/collect_1390.bin\n",
        "Opening file: ../../../Measurements/BreakTest_AluminiumBeam2/results2/2-0.15/collect_1391.bin\n",
        "Closed file: ../../../Measurements/BreakTest_AluminiumBeam2/results2/2-0.15/collect_1391.bin"
       ]
      },
      {
       "output_type": "stream",
       "stream": "stdout",
       "text": [
        "\n",
        "Opening file: ../../../Measurements/BreakTest_AluminiumBeam2/results2/2-0.15/collect_1392.bin\n",
        "Closed file: ../../../Measurements/BreakTest_AluminiumBeam2/results2/2-0.15/collect_1392.bin\n",
        "Opening file: ../../../Measurements/BreakTest_AluminiumBeam2/results2/2-0.15/collect_1393.bin\n",
        "Closed file: ../../../Measurements/BreakTest_AluminiumBeam2/results2/2-0.15/collect_1393.bin"
       ]
      },
      {
       "output_type": "stream",
       "stream": "stdout",
       "text": [
        "\n",
        "Opening file: ../../../Measurements/BreakTest_AluminiumBeam2/results2/2-0.15/collect_1394.bin\n",
        "Closed file: ../../../Measurements/BreakTest_AluminiumBeam2/results2/2-0.15/collect_1394.bin\n",
        "Opening file: ../../../Measurements/BreakTest_AluminiumBeam2/results2/2-0.15/collect_1395.bin\n",
        "Closed file: ../../../Measurements/BreakTest_AluminiumBeam2/results2/2-0.15/collect_1395.bin\n",
        "Opening file: ../../../Measurements/BreakTest_AluminiumBeam2/results2/2-0.15/collect_1396.bin"
       ]
      },
      {
       "output_type": "stream",
       "stream": "stdout",
       "text": [
        "\n",
        "Closed file: ../../../Measurements/BreakTest_AluminiumBeam2/results2/2-0.15/collect_1396.bin\n",
        "Opening file: ../../../Measurements/BreakTest_AluminiumBeam2/results2/2-0.15/collect_1397.bin\n",
        "Closed file: ../../../Measurements/BreakTest_AluminiumBeam2/results2/2-0.15/collect_1397.bin\n",
        "Opening file: ../../../Measurements/BreakTest_AluminiumBeam2/results2/2-0.15/collect_1398.bin\n",
        "Closed file: ../../../Measurements/BreakTest_AluminiumBeam2/results2/2-0.15/collect_1398.bin\n",
        "Opening file: ../../../Measurements/BreakTest_AluminiumBeam2/results2/2-0.15/collect_1399.bin\n",
        "Closed file: ../../../Measurements/BreakTest_AluminiumBeam2/results2/2-0.15/collect_1399.bin"
       ]
      },
      {
       "output_type": "stream",
       "stream": "stdout",
       "text": [
        "\n",
        "Opening file: ../../../Measurements/BreakTest_AluminiumBeam2/results2/2-0.15/collect_1400.bin\n",
        "Closed file: ../../../Measurements/BreakTest_AluminiumBeam2/results2/2-0.15/collect_1400.bin\n",
        "Opening file: ../../../Measurements/BreakTest_AluminiumBeam2/results2/2-0.15/collect_1401.bin\n",
        "Closed file: ../../../Measurements/BreakTest_AluminiumBeam2/results2/2-0.15/collect_1401.bin\n",
        "Opening file: ../../../Measurements/BreakTest_AluminiumBeam2/results2/2-0.15/collect_1402.bin\n",
        "Closed file: ../../../Measurements/BreakTest_AluminiumBeam2/results2/2-0.15/collect_1402.bin\n",
        "Opening file: ../../../Measurements/BreakTest_AluminiumBeam2/results2/2-0.15/collect_1403.bin"
       ]
      },
      {
       "output_type": "stream",
       "stream": "stdout",
       "text": [
        "\n",
        "Closed file: ../../../Measurements/BreakTest_AluminiumBeam2/results2/2-0.15/collect_1403.bin\n",
        "Opening file: ../../../Measurements/BreakTest_AluminiumBeam2/results2/2-0.15/collect_1404.bin\n",
        "Closed file: ../../../Measurements/BreakTest_AluminiumBeam2/results2/2-0.15/collect_1404.bin\n",
        "Opening file: ../../../Measurements/BreakTest_AluminiumBeam2/results2/2-0.15/collect_1405.bin\n",
        "Closed file: ../../../Measurements/BreakTest_AluminiumBeam2/results2/2-0.15/collect_1405.bin\n",
        "Opening file: ../../../Measurements/BreakTest_AluminiumBeam2/results2/2-0.15/collect_1406.bin\n",
        "Closed file: ../../../Measurements/BreakTest_AluminiumBeam2/results2/2-0.15/collect_1406.bin"
       ]
      },
      {
       "output_type": "stream",
       "stream": "stdout",
       "text": [
        "\n",
        "Opening file: ../../../Measurements/BreakTest_AluminiumBeam2/results2/2-0.15/collect_1407.bin\n",
        "Closed file: ../../../Measurements/BreakTest_AluminiumBeam2/results2/2-0.15/collect_1407.bin\n",
        "Opening file: ../../../Measurements/BreakTest_AluminiumBeam2/results2/2-0.15/collect_1408.bin\n",
        "Closed file: ../../../Measurements/BreakTest_AluminiumBeam2/results2/2-0.15/collect_1408.bin\n",
        "Opening file: ../../../Measurements/BreakTest_AluminiumBeam2/results2/2-0.15/collect_1409.bin\n",
        "Closed file: ../../../Measurements/BreakTest_AluminiumBeam2/results2/2-0.15/collect_1409.bin"
       ]
      },
      {
       "output_type": "stream",
       "stream": "stdout",
       "text": [
        "\n",
        "Opening file: ../../../Measurements/BreakTest_AluminiumBeam2/results2/2-0.15/collect_1410.bin\n",
        "Closed file: ../../../Measurements/BreakTest_AluminiumBeam2/results2/2-0.15/collect_1410.bin\n",
        "Opening file: ../../../Measurements/BreakTest_AluminiumBeam2/results2/2-0.15/collect_1411.bin\n",
        "Closed file: ../../../Measurements/BreakTest_AluminiumBeam2/results2/2-0.15/collect_1411.bin\n",
        "Opening file: ../../../Measurements/BreakTest_AluminiumBeam2/results2/2-0.15/collect_1412.bin\n",
        "Closed file: ../../../Measurements/BreakTest_AluminiumBeam2/results2/2-0.15/collect_1412.bin\n",
        "Opening file: ../../../Measurements/BreakTest_AluminiumBeam2/results2/2-0.15/collect_1413.bin\n",
        "Closed file: ../../../Measurements/BreakTest_AluminiumBeam2/results2/2-0.15/collect_1413.bin"
       ]
      },
      {
       "output_type": "stream",
       "stream": "stdout",
       "text": [
        "\n",
        "Opening file: ../../../Measurements/BreakTest_AluminiumBeam2/results2/2-0.15/collect_1414.bin\n",
        "Closed file: ../../../Measurements/BreakTest_AluminiumBeam2/results2/2-0.15/collect_1414.bin\n",
        "Opening file: ../../../Measurements/BreakTest_AluminiumBeam2/results2/2-0.15/collect_1415.bin\n",
        "Closed file: ../../../Measurements/BreakTest_AluminiumBeam2/results2/2-0.15/collect_1415.bin\n",
        "Opening file: ../../../Measurements/BreakTest_AluminiumBeam2/results2/2-0.15/collect_1416.bin\n",
        "Closed file: ../../../Measurements/BreakTest_AluminiumBeam2/results2/2-0.15/collect_1416.bin"
       ]
      },
      {
       "output_type": "stream",
       "stream": "stdout",
       "text": [
        "\n",
        "Opening file: ../../../Measurements/BreakTest_AluminiumBeam2/results2/2-0.15/collect_1417.bin\n",
        "Closed file: ../../../Measurements/BreakTest_AluminiumBeam2/results2/2-0.15/collect_1417.bin\n",
        "Opening file: ../../../Measurements/BreakTest_AluminiumBeam2/results2/2-0.15/collect_1418.bin\n",
        "Closed file: ../../../Measurements/BreakTest_AluminiumBeam2/results2/2-0.15/collect_1418.bin\n",
        "Opening file: ../../../Measurements/BreakTest_AluminiumBeam2/results2/2-0.15/collect_1419.bin\n",
        "Closed file: ../../../Measurements/BreakTest_AluminiumBeam2/results2/2-0.15/collect_1419.bin"
       ]
      },
      {
       "output_type": "stream",
       "stream": "stdout",
       "text": [
        "\n",
        "Opening file: ../../../Measurements/BreakTest_AluminiumBeam2/results2/2-0.15/collect_1420.bin\n",
        "Closed file: ../../../Measurements/BreakTest_AluminiumBeam2/results2/2-0.15/collect_1420.bin\n",
        "Opening file: ../../../Measurements/BreakTest_AluminiumBeam2/results2/2-0.15/collect_1421.bin\n",
        "Closed file: ../../../Measurements/BreakTest_AluminiumBeam2/results2/2-0.15/collect_1421.bin\n",
        "Opening file: ../../../Measurements/BreakTest_AluminiumBeam2/results2/2-0.15/collect_1422.bin\n",
        "Closed file: ../../../Measurements/BreakTest_AluminiumBeam2/results2/2-0.15/collect_1422.bin"
       ]
      },
      {
       "output_type": "stream",
       "stream": "stdout",
       "text": [
        "\n",
        "Opening file: ../../../Measurements/BreakTest_AluminiumBeam2/results2/2-0.15/collect_1423.bin\n",
        "Closed file: ../../../Measurements/BreakTest_AluminiumBeam2/results2/2-0.15/collect_1423.bin\n",
        "Opening file: ../../../Measurements/BreakTest_AluminiumBeam2/results2/2-0.15/collect_1424.bin\n",
        "Closed file: ../../../Measurements/BreakTest_AluminiumBeam2/results2/2-0.15/collect_1424.bin\n",
        "Opening file: ../../../Measurements/BreakTest_AluminiumBeam2/results2/2-0.15/collect_1425.bin\n",
        "Closed file: ../../../Measurements/BreakTest_AluminiumBeam2/results2/2-0.15/collect_1425.bin"
       ]
      },
      {
       "output_type": "stream",
       "stream": "stdout",
       "text": [
        "\n",
        "Opening file: ../../../Measurements/BreakTest_AluminiumBeam2/results2/2-0.15/collect_1426.bin\n",
        "Closed file: ../../../Measurements/BreakTest_AluminiumBeam2/results2/2-0.15/collect_1426.bin\n",
        "Opening file: ../../../Measurements/BreakTest_AluminiumBeam2/results2/2-0.15/collect_1427.bin\n",
        "Closed file: ../../../Measurements/BreakTest_AluminiumBeam2/results2/2-0.15/collect_1427.bin\n",
        "Opening file: ../../../Measurements/BreakTest_AluminiumBeam2/results2/2-0.15/collect_1428.bin\n",
        "Closed file: ../../../Measurements/BreakTest_AluminiumBeam2/results2/2-0.15/collect_1428.bin"
       ]
      },
      {
       "output_type": "stream",
       "stream": "stdout",
       "text": [
        "\n",
        "Opening file: ../../../Measurements/BreakTest_AluminiumBeam2/results2/2-0.15/collect_1429.bin\n",
        "Closed file: ../../../Measurements/BreakTest_AluminiumBeam2/results2/2-0.15/collect_1429.bin\n",
        "Opening file: ../../../Measurements/BreakTest_AluminiumBeam2/results2/2-0.15/collect_1430.bin\n",
        "Closed file: ../../../Measurements/BreakTest_AluminiumBeam2/results2/2-0.15/collect_1430.bin\n",
        "Opening file: ../../../Measurements/BreakTest_AluminiumBeam2/results2/2-0.15/collect_1431.bin\n",
        "Closed file: ../../../Measurements/BreakTest_AluminiumBeam2/results2/2-0.15/collect_1431.bin"
       ]
      },
      {
       "output_type": "stream",
       "stream": "stdout",
       "text": [
        "\n",
        "Opening file: ../../../Measurements/BreakTest_AluminiumBeam2/results2/2-0.15/collect_1432.bin\n",
        "Closed file: ../../../Measurements/BreakTest_AluminiumBeam2/results2/2-0.15/collect_1432.bin\n",
        "Opening file: ../../../Measurements/BreakTest_AluminiumBeam2/results2/2-0.15/collect_1433.bin\n",
        "Closed file: ../../../Measurements/BreakTest_AluminiumBeam2/results2/2-0.15/collect_1433.bin\n",
        "Opening file: ../../../Measurements/BreakTest_AluminiumBeam2/results2/2-0.15/collect_1434.bin\n",
        "Closed file: ../../../Measurements/BreakTest_AluminiumBeam2/results2/2-0.15/collect_1434.bin\n",
        "Opening file: ../../../Measurements/BreakTest_AluminiumBeam2/results2/2-0.15/collect_1435.bin\n",
        "Closed file: ../../../Measurements/BreakTest_AluminiumBeam2/results2/2-0.15/collect_1435.bin"
       ]
      },
      {
       "output_type": "stream",
       "stream": "stdout",
       "text": [
        "\n",
        "Opening file: ../../../Measurements/BreakTest_AluminiumBeam2/results2/2-0.15/collect_1436.bin\n",
        "Closed file: ../../../Measurements/BreakTest_AluminiumBeam2/results2/2-0.15/collect_1436.bin\n",
        "Opening file: ../../../Measurements/BreakTest_AluminiumBeam2/results2/2-0.15/collect_1437.bin\n",
        "Closed file: ../../../Measurements/BreakTest_AluminiumBeam2/results2/2-0.15/collect_1437.bin\n",
        "Opening file: ../../../Measurements/BreakTest_AluminiumBeam2/results2/2-0.15/collect_1438.bin\n",
        "Closed file: ../../../Measurements/BreakTest_AluminiumBeam2/results2/2-0.15/collect_1438.bin\n",
        "Opening file: ../../../Measurements/BreakTest_AluminiumBeam2/results2/2-0.15/collect_1439.bin"
       ]
      },
      {
       "output_type": "stream",
       "stream": "stdout",
       "text": [
        "\n",
        "Closed file: ../../../Measurements/BreakTest_AluminiumBeam2/results2/2-0.15/collect_1439.bin\n",
        "Opening file: ../../../Measurements/BreakTest_AluminiumBeam2/results2/2-0.15/collect_1440.bin\n",
        "Closed file: ../../../Measurements/BreakTest_AluminiumBeam2/results2/2-0.15/collect_1440.bin\n",
        "Opening file: ../../../Measurements/BreakTest_AluminiumBeam2/results2/2-0.15/collect_1441.bin\n",
        "Closed file: ../../../Measurements/BreakTest_AluminiumBeam2/results2/2-0.15/collect_1441.bin"
       ]
      },
      {
       "output_type": "stream",
       "stream": "stdout",
       "text": [
        "\n",
        "Opening file: ../../../Measurements/BreakTest_AluminiumBeam2/results2/2-0.15/collect_1442.bin\n",
        "Closed file: ../../../Measurements/BreakTest_AluminiumBeam2/results2/2-0.15/collect_1442.bin\n",
        "Opening file: ../../../Measurements/BreakTest_AluminiumBeam2/results2/2-0.15/collect_1443.bin\n",
        "Closed file: ../../../Measurements/BreakTest_AluminiumBeam2/results2/2-0.15/collect_1443.bin\n",
        "Opening file: ../../../Measurements/BreakTest_AluminiumBeam2/results2/2-0.15/collect_1444.bin\n",
        "Closed file: ../../../Measurements/BreakTest_AluminiumBeam2/results2/2-0.15/collect_1444.bin"
       ]
      },
      {
       "output_type": "stream",
       "stream": "stdout",
       "text": [
        "\n",
        "Opening file: ../../../Measurements/BreakTest_AluminiumBeam2/results2/2-0.15/collect_1445.bin\n",
        "Closed file: ../../../Measurements/BreakTest_AluminiumBeam2/results2/2-0.15/collect_1445.bin\n",
        "Opening file: ../../../Measurements/BreakTest_AluminiumBeam2/results2/2-0.15/collect_1446.bin\n",
        "Closed file: ../../../Measurements/BreakTest_AluminiumBeam2/results2/2-0.15/collect_1446.bin\n",
        "Opening file: ../../../Measurements/BreakTest_AluminiumBeam2/results2/2-0.15/collect_1447.bin\n",
        "Closed file: ../../../Measurements/BreakTest_AluminiumBeam2/results2/2-0.15/collect_1447.bin\n",
        "Opening file: ../../../Measurements/BreakTest_AluminiumBeam2/results2/2-0.15/collect_1448.bin"
       ]
      },
      {
       "output_type": "stream",
       "stream": "stdout",
       "text": [
        "\n",
        "Closed file: ../../../Measurements/BreakTest_AluminiumBeam2/results2/2-0.15/collect_1448.bin\n",
        "Opening file: ../../../Measurements/BreakTest_AluminiumBeam2/results2/2-0.15/collect_1449.bin\n",
        "Closed file: ../../../Measurements/BreakTest_AluminiumBeam2/results2/2-0.15/collect_1449.bin\n",
        "Opening file: ../../../Measurements/BreakTest_AluminiumBeam2/results2/2-0.15/collect_1450.bin\n",
        "Closed file: ../../../Measurements/BreakTest_AluminiumBeam2/results2/2-0.15/collect_1450.bin"
       ]
      },
      {
       "output_type": "stream",
       "stream": "stdout",
       "text": [
        "\n",
        "Opening file: ../../../Measurements/BreakTest_AluminiumBeam2/results2/2-0.15/collect_1451.bin\n",
        "Closed file: ../../../Measurements/BreakTest_AluminiumBeam2/results2/2-0.15/collect_1451.bin\n",
        "Opening file: ../../../Measurements/BreakTest_AluminiumBeam2/results2/2-0.15/collect_1452.bin\n",
        "Closed file: ../../../Measurements/BreakTest_AluminiumBeam2/results2/2-0.15/collect_1452.bin\n",
        "Opening file: ../../../Measurements/BreakTest_AluminiumBeam2/results2/2-0.15/collect_1453.bin\n",
        "Closed file: ../../../Measurements/BreakTest_AluminiumBeam2/results2/2-0.15/collect_1453.bin\n",
        "Opening file: ../../../Measurements/BreakTest_AluminiumBeam2/results2/2-0.15/collect_1454.bin\n",
        "Closed file: ../../../Measurements/BreakTest_AluminiumBeam2/results2/2-0.15/collect_1454.bin"
       ]
      },
      {
       "output_type": "stream",
       "stream": "stdout",
       "text": [
        "\n",
        "Opening file: ../../../Measurements/BreakTest_AluminiumBeam2/results2/2-0.15/collect_1455.bin\n",
        "Closed file: ../../../Measurements/BreakTest_AluminiumBeam2/results2/2-0.15/collect_1455.bin\n",
        "Opening file: ../../../Measurements/BreakTest_AluminiumBeam2/results2/2-0.15/collect_1456.bin\n",
        "Closed file: ../../../Measurements/BreakTest_AluminiumBeam2/results2/2-0.15/collect_1456.bin\n",
        "Opening file: ../../../Measurements/BreakTest_AluminiumBeam2/results2/2-0.15/collect_1457.bin"
       ]
      },
      {
       "output_type": "stream",
       "stream": "stdout",
       "text": [
        "\n",
        "Closed file: ../../../Measurements/BreakTest_AluminiumBeam2/results2/2-0.15/collect_1457.bin\n",
        "Opening file: ../../../Measurements/BreakTest_AluminiumBeam2/results2/2-0.15/collect_1458.bin\n",
        "Closed file: ../../../Measurements/BreakTest_AluminiumBeam2/results2/2-0.15/collect_1458.bin\n",
        "Opening file: ../../../Measurements/BreakTest_AluminiumBeam2/results2/2-0.15/collect_1459.bin\n",
        "Closed file: ../../../Measurements/BreakTest_AluminiumBeam2/results2/2-0.15/collect_1459.bin\n",
        "Opening file: ../../../Measurements/BreakTest_AluminiumBeam2/results2/2-0.15/collect_1460.bin\n",
        "Closed file: ../../../Measurements/BreakTest_AluminiumBeam2/results2/2-0.15/collect_1460.bin"
       ]
      },
      {
       "output_type": "stream",
       "stream": "stdout",
       "text": [
        "\n",
        "Opening file: ../../../Measurements/BreakTest_AluminiumBeam2/results2/2-0.15/collect_1461.bin\n",
        "Closed file: ../../../Measurements/BreakTest_AluminiumBeam2/results2/2-0.15/collect_1461.bin\n"
       ]
      }
     ],
     "prompt_number": 1
    },
    {
     "cell_type": "code",
     "collapsed": false,
     "input": [
      "import numpy as np\n",
      "\n",
      "def removeDC(ys):\n",
      "    for ii in xrange(len(ys)):\n",
      "        ys[ii] -= np.mean(ys[ii])\n",
      "    return ys\n",
      "\n",
      "def trimlength(ys):\n",
      "    for ii in xrange(len(ys)):\n",
      "        ys[ii] = ys[ii][:600]\n",
      "    return ys"
     ],
     "language": "python",
     "metadata": {},
     "outputs": [],
     "prompt_number": 2
    },
    {
     "cell_type": "code",
     "collapsed": false,
     "input": [
      "y = trimlength(removeDC(y))\n",
      "y2 = trimlength(removeDC(y2))"
     ],
     "language": "python",
     "metadata": {},
     "outputs": [],
     "prompt_number": 3
    },
    {
     "cell_type": "heading",
     "level": 1,
     "metadata": {},
     "source": [
      "Time Difference of Arrival (TDOA)"
     ]
    },
    {
     "cell_type": "markdown",
     "metadata": {},
     "source": [
      "Theoretical value of TD."
     ]
    },
    {
     "cell_type": "code",
     "collapsed": false,
     "input": [
      "v = 3909.49 #m/s - sound speed in aluminium\n",
      "dist_diff = (35.5-17.3)*0.0254 #m - distance difference of sensors\n",
      "\n",
      "TD = dist_diff/v #s - theoretical TD\n",
      "print 'Theoretical time difference: %.2f us' % (TD*1000000)\n",
      "#print 'Distance traveled in 810.7 usec: %.2f m' % (810.7e-6*v)"
     ],
     "language": "python",
     "metadata": {},
     "outputs": [
      {
       "output_type": "stream",
       "stream": "stdout",
       "text": [
        "Theoretical time difference: 118.25 us\n"
       ]
      }
     ],
     "prompt_number": 34
    },
    {
     "cell_type": "heading",
     "level": 2,
     "metadata": {},
     "source": [
      "Akaike Information Criterion (AIC)"
     ]
    },
    {
     "cell_type": "markdown",
     "metadata": {},
     "source": [
      "Calculate TDOA using the Akaike Information Criterion (AIC) as onset picker."
     ]
    },
    {
     "cell_type": "code",
     "collapsed": false,
     "input": [
      "from helperfuncs.CalculateTDOA_AIC_method import CalculateTDOA_AIC_method\n",
      "\n",
      "AE_start, AE_start2, TD_meas, qty1, qty2 = CalculateTDOA_AIC_method(y, y2, T)\n",
      "qty_min = np.minimum(qty1, qty2)\n",
      "qty_max = np.maximum(qty1, qty2)"
     ],
     "language": "python",
     "metadata": {},
     "outputs": [
      {
       "output_type": "stream",
       "stream": "stdout",
       "text": [
        "0.00%\n",
        "0.07%"
       ]
      },
      {
       "output_type": "stream",
       "stream": "stdout",
       "text": [
        "\n",
        "0.14%"
       ]
      },
      {
       "output_type": "stream",
       "stream": "stdout",
       "text": [
        "\n",
        "0.21%"
       ]
      },
      {
       "output_type": "stream",
       "stream": "stdout",
       "text": [
        "\n",
        "0.27%"
       ]
      },
      {
       "output_type": "stream",
       "stream": "stdout",
       "text": [
        "\n",
        "0.34%"
       ]
      },
      {
       "output_type": "stream",
       "stream": "stdout",
       "text": [
        "\n",
        "0.41%"
       ]
      },
      {
       "output_type": "stream",
       "stream": "stdout",
       "text": [
        "\n",
        "0.48%"
       ]
      },
      {
       "output_type": "stream",
       "stream": "stdout",
       "text": [
        "\n",
        "0.55%"
       ]
      },
      {
       "output_type": "stream",
       "stream": "stdout",
       "text": [
        "\n",
        "0.62%"
       ]
      },
      {
       "output_type": "stream",
       "stream": "stdout",
       "text": [
        "\n",
        "0.68%"
       ]
      },
      {
       "output_type": "stream",
       "stream": "stdout",
       "text": [
        "\n",
        "0.75%"
       ]
      },
      {
       "output_type": "stream",
       "stream": "stdout",
       "text": [
        "\n",
        "0.82%"
       ]
      },
      {
       "output_type": "stream",
       "stream": "stdout",
       "text": [
        "\n",
        "0.89%"
       ]
      },
      {
       "output_type": "stream",
       "stream": "stdout",
       "text": [
        "\n",
        "0.96%"
       ]
      },
      {
       "output_type": "stream",
       "stream": "stdout",
       "text": [
        "\n",
        "1.03%"
       ]
      },
      {
       "output_type": "stream",
       "stream": "stdout",
       "text": [
        "\n",
        "1.09%"
       ]
      },
      {
       "output_type": "stream",
       "stream": "stdout",
       "text": [
        "\n",
        "1.16%"
       ]
      },
      {
       "output_type": "stream",
       "stream": "stdout",
       "text": [
        "\n",
        "1.23%"
       ]
      },
      {
       "output_type": "stream",
       "stream": "stdout",
       "text": [
        "\n",
        "1.30%"
       ]
      },
      {
       "output_type": "stream",
       "stream": "stdout",
       "text": [
        "\n",
        "1.37%"
       ]
      },
      {
       "output_type": "stream",
       "stream": "stdout",
       "text": [
        "\n",
        "1.44%"
       ]
      },
      {
       "output_type": "stream",
       "stream": "stdout",
       "text": [
        "\n",
        "1.50%"
       ]
      },
      {
       "output_type": "stream",
       "stream": "stdout",
       "text": [
        "\n",
        "1.57%"
       ]
      },
      {
       "output_type": "stream",
       "stream": "stdout",
       "text": [
        "\n",
        "1.64%"
       ]
      },
      {
       "output_type": "stream",
       "stream": "stdout",
       "text": [
        "\n",
        "1.71%"
       ]
      },
      {
       "output_type": "stream",
       "stream": "stdout",
       "text": [
        "\n",
        "1.78%"
       ]
      },
      {
       "output_type": "stream",
       "stream": "stdout",
       "text": [
        "\n",
        "1.85%"
       ]
      },
      {
       "output_type": "stream",
       "stream": "stdout",
       "text": [
        "\n",
        "1.92%"
       ]
      },
      {
       "output_type": "stream",
       "stream": "stdout",
       "text": [
        "\n",
        "1.98%"
       ]
      },
      {
       "output_type": "stream",
       "stream": "stdout",
       "text": [
        "\n",
        "2.05%"
       ]
      },
      {
       "output_type": "stream",
       "stream": "stdout",
       "text": [
        "\n",
        "2.12%"
       ]
      },
      {
       "output_type": "stream",
       "stream": "stdout",
       "text": [
        "\n",
        "2.19%"
       ]
      },
      {
       "output_type": "stream",
       "stream": "stdout",
       "text": [
        "\n",
        "2.26%"
       ]
      },
      {
       "output_type": "stream",
       "stream": "stdout",
       "text": [
        "\n",
        "2.33%"
       ]
      },
      {
       "output_type": "stream",
       "stream": "stdout",
       "text": [
        "\n",
        "2.39%"
       ]
      },
      {
       "output_type": "stream",
       "stream": "stdout",
       "text": [
        "\n",
        "2.46%"
       ]
      },
      {
       "output_type": "stream",
       "stream": "stdout",
       "text": [
        "\n",
        "2.53%"
       ]
      },
      {
       "output_type": "stream",
       "stream": "stdout",
       "text": [
        "\n",
        "2.60%"
       ]
      },
      {
       "output_type": "stream",
       "stream": "stdout",
       "text": [
        "\n",
        "2.67%"
       ]
      },
      {
       "output_type": "stream",
       "stream": "stdout",
       "text": [
        "\n",
        "2.74%"
       ]
      },
      {
       "output_type": "stream",
       "stream": "stdout",
       "text": [
        "\n",
        "2.80%"
       ]
      },
      {
       "output_type": "stream",
       "stream": "stdout",
       "text": [
        "\n",
        "2.87%"
       ]
      },
      {
       "output_type": "stream",
       "stream": "stdout",
       "text": [
        "\n",
        "2.94%"
       ]
      },
      {
       "output_type": "stream",
       "stream": "stdout",
       "text": [
        "\n",
        "3.01%"
       ]
      },
      {
       "output_type": "stream",
       "stream": "stdout",
       "text": [
        "\n",
        "3.08%"
       ]
      },
      {
       "output_type": "stream",
       "stream": "stdout",
       "text": [
        "\n",
        "3.15%"
       ]
      },
      {
       "output_type": "stream",
       "stream": "stdout",
       "text": [
        "\n",
        "3.21%"
       ]
      },
      {
       "output_type": "stream",
       "stream": "stdout",
       "text": [
        "\n",
        "3.28%"
       ]
      },
      {
       "output_type": "stream",
       "stream": "stdout",
       "text": [
        "\n",
        "3.35%"
       ]
      },
      {
       "output_type": "stream",
       "stream": "stdout",
       "text": [
        "\n",
        "3.42%"
       ]
      },
      {
       "output_type": "stream",
       "stream": "stdout",
       "text": [
        "\n",
        "3.49%"
       ]
      },
      {
       "output_type": "stream",
       "stream": "stdout",
       "text": [
        "\n",
        "3.56%"
       ]
      },
      {
       "output_type": "stream",
       "stream": "stdout",
       "text": [
        "\n",
        "3.63%"
       ]
      },
      {
       "output_type": "stream",
       "stream": "stdout",
       "text": [
        "\n",
        "3.69%"
       ]
      },
      {
       "output_type": "stream",
       "stream": "stdout",
       "text": [
        "\n",
        "3.76%"
       ]
      },
      {
       "output_type": "stream",
       "stream": "stdout",
       "text": [
        "\n",
        "3.83%"
       ]
      },
      {
       "output_type": "stream",
       "stream": "stdout",
       "text": [
        "\n",
        "3.90%"
       ]
      },
      {
       "output_type": "stream",
       "stream": "stdout",
       "text": [
        "\n",
        "3.97%"
       ]
      },
      {
       "output_type": "stream",
       "stream": "stdout",
       "text": [
        "\n",
        "4.04%"
       ]
      },
      {
       "output_type": "stream",
       "stream": "stdout",
       "text": [
        "\n",
        "4.10%"
       ]
      },
      {
       "output_type": "stream",
       "stream": "stdout",
       "text": [
        "\n",
        "4.17%"
       ]
      },
      {
       "output_type": "stream",
       "stream": "stdout",
       "text": [
        "\n",
        "4.24%"
       ]
      },
      {
       "output_type": "stream",
       "stream": "stdout",
       "text": [
        "\n",
        "4.31%"
       ]
      },
      {
       "output_type": "stream",
       "stream": "stdout",
       "text": [
        "\n",
        "4.38%"
       ]
      },
      {
       "output_type": "stream",
       "stream": "stdout",
       "text": [
        "\n",
        "4.45%"
       ]
      },
      {
       "output_type": "stream",
       "stream": "stdout",
       "text": [
        "\n",
        "4.51%"
       ]
      },
      {
       "output_type": "stream",
       "stream": "stdout",
       "text": [
        "\n",
        "4.58%"
       ]
      },
      {
       "output_type": "stream",
       "stream": "stdout",
       "text": [
        "\n",
        "4.65%"
       ]
      },
      {
       "output_type": "stream",
       "stream": "stdout",
       "text": [
        "\n",
        "4.72%"
       ]
      },
      {
       "output_type": "stream",
       "stream": "stdout",
       "text": [
        "\n",
        "4.79%"
       ]
      },
      {
       "output_type": "stream",
       "stream": "stdout",
       "text": [
        "\n",
        "4.86%"
       ]
      },
      {
       "output_type": "stream",
       "stream": "stdout",
       "text": [
        "\n",
        "4.92%"
       ]
      },
      {
       "output_type": "stream",
       "stream": "stdout",
       "text": [
        "\n",
        "4.99%"
       ]
      },
      {
       "output_type": "stream",
       "stream": "stdout",
       "text": [
        "\n",
        "5.06%"
       ]
      },
      {
       "output_type": "stream",
       "stream": "stdout",
       "text": [
        "\n",
        "5.13%"
       ]
      },
      {
       "output_type": "stream",
       "stream": "stdout",
       "text": [
        "\n",
        "5.20%"
       ]
      },
      {
       "output_type": "stream",
       "stream": "stdout",
       "text": [
        "\n",
        "5.27%"
       ]
      },
      {
       "output_type": "stream",
       "stream": "stdout",
       "text": [
        "\n",
        "5.34%"
       ]
      },
      {
       "output_type": "stream",
       "stream": "stdout",
       "text": [
        "\n",
        "5.40%"
       ]
      },
      {
       "output_type": "stream",
       "stream": "stdout",
       "text": [
        "\n",
        "5.47%"
       ]
      },
      {
       "output_type": "stream",
       "stream": "stdout",
       "text": [
        "\n",
        "5.54%"
       ]
      },
      {
       "output_type": "stream",
       "stream": "stdout",
       "text": [
        "\n",
        "5.61%"
       ]
      },
      {
       "output_type": "stream",
       "stream": "stdout",
       "text": [
        "\n",
        "5.68%"
       ]
      },
      {
       "output_type": "stream",
       "stream": "stdout",
       "text": [
        "\n",
        "5.75%"
       ]
      },
      {
       "output_type": "stream",
       "stream": "stdout",
       "text": [
        "\n",
        "5.81%"
       ]
      },
      {
       "output_type": "stream",
       "stream": "stdout",
       "text": [
        "\n",
        "5.88%"
       ]
      },
      {
       "output_type": "stream",
       "stream": "stdout",
       "text": [
        "\n",
        "5.95%"
       ]
      },
      {
       "output_type": "stream",
       "stream": "stdout",
       "text": [
        "\n",
        "6.02%"
       ]
      },
      {
       "output_type": "stream",
       "stream": "stdout",
       "text": [
        "\n",
        "6.09%"
       ]
      },
      {
       "output_type": "stream",
       "stream": "stdout",
       "text": [
        "\n",
        "6.16%"
       ]
      },
      {
       "output_type": "stream",
       "stream": "stdout",
       "text": [
        "\n",
        "6.22%"
       ]
      },
      {
       "output_type": "stream",
       "stream": "stdout",
       "text": [
        "\n",
        "6.29%"
       ]
      },
      {
       "output_type": "stream",
       "stream": "stdout",
       "text": [
        "\n",
        "6.36%"
       ]
      },
      {
       "output_type": "stream",
       "stream": "stdout",
       "text": [
        "\n",
        "6.43%"
       ]
      },
      {
       "output_type": "stream",
       "stream": "stdout",
       "text": [
        "\n",
        "6.50%"
       ]
      },
      {
       "output_type": "stream",
       "stream": "stdout",
       "text": [
        "\n",
        "6.57%"
       ]
      },
      {
       "output_type": "stream",
       "stream": "stdout",
       "text": [
        "\n",
        "6.63%"
       ]
      },
      {
       "output_type": "stream",
       "stream": "stdout",
       "text": [
        "\n",
        "6.70%"
       ]
      },
      {
       "output_type": "stream",
       "stream": "stdout",
       "text": [
        "\n",
        "6.77%"
       ]
      },
      {
       "output_type": "stream",
       "stream": "stdout",
       "text": [
        "\n",
        "6.84%"
       ]
      },
      {
       "output_type": "stream",
       "stream": "stdout",
       "text": [
        "\n",
        "6.91%"
       ]
      },
      {
       "output_type": "stream",
       "stream": "stdout",
       "text": [
        "\n",
        "6.98%"
       ]
      },
      {
       "output_type": "stream",
       "stream": "stdout",
       "text": [
        "\n",
        "7.05%"
       ]
      },
      {
       "output_type": "stream",
       "stream": "stdout",
       "text": [
        "\n",
        "7.11%"
       ]
      },
      {
       "output_type": "stream",
       "stream": "stdout",
       "text": [
        "\n",
        "7.18%"
       ]
      },
      {
       "output_type": "stream",
       "stream": "stdout",
       "text": [
        "\n",
        "7.25%"
       ]
      },
      {
       "output_type": "stream",
       "stream": "stdout",
       "text": [
        "\n",
        "7.32%"
       ]
      },
      {
       "output_type": "stream",
       "stream": "stdout",
       "text": [
        "\n",
        "7.39%"
       ]
      },
      {
       "output_type": "stream",
       "stream": "stdout",
       "text": [
        "\n",
        "7.46%"
       ]
      },
      {
       "output_type": "stream",
       "stream": "stdout",
       "text": [
        "\n",
        "7.52%"
       ]
      },
      {
       "output_type": "stream",
       "stream": "stdout",
       "text": [
        "\n",
        "7.59%"
       ]
      },
      {
       "output_type": "stream",
       "stream": "stdout",
       "text": [
        "\n",
        "7.66%"
       ]
      },
      {
       "output_type": "stream",
       "stream": "stdout",
       "text": [
        "\n",
        "7.73%"
       ]
      },
      {
       "output_type": "stream",
       "stream": "stdout",
       "text": [
        "\n",
        "7.80%"
       ]
      },
      {
       "output_type": "stream",
       "stream": "stdout",
       "text": [
        "\n",
        "7.87%"
       ]
      },
      {
       "output_type": "stream",
       "stream": "stdout",
       "text": [
        "\n",
        "7.93%"
       ]
      },
      {
       "output_type": "stream",
       "stream": "stdout",
       "text": [
        "\n",
        "8.00%"
       ]
      },
      {
       "output_type": "stream",
       "stream": "stdout",
       "text": [
        "\n",
        "8.07%"
       ]
      },
      {
       "output_type": "stream",
       "stream": "stdout",
       "text": [
        "\n",
        "8.14%"
       ]
      },
      {
       "output_type": "stream",
       "stream": "stdout",
       "text": [
        "\n",
        "8.21%"
       ]
      },
      {
       "output_type": "stream",
       "stream": "stdout",
       "text": [
        "\n",
        "8.28%"
       ]
      },
      {
       "output_type": "stream",
       "stream": "stdout",
       "text": [
        "\n",
        "8.34%"
       ]
      },
      {
       "output_type": "stream",
       "stream": "stdout",
       "text": [
        "\n",
        "8.41%"
       ]
      },
      {
       "output_type": "stream",
       "stream": "stdout",
       "text": [
        "\n",
        "8.48%"
       ]
      },
      {
       "output_type": "stream",
       "stream": "stdout",
       "text": [
        "\n",
        "8.55%"
       ]
      },
      {
       "output_type": "stream",
       "stream": "stdout",
       "text": [
        "\n",
        "8.62%"
       ]
      },
      {
       "output_type": "stream",
       "stream": "stdout",
       "text": [
        "\n",
        "8.69%"
       ]
      },
      {
       "output_type": "stream",
       "stream": "stdout",
       "text": [
        "\n",
        "8.76%"
       ]
      },
      {
       "output_type": "stream",
       "stream": "stdout",
       "text": [
        "\n",
        "8.82%"
       ]
      },
      {
       "output_type": "stream",
       "stream": "stdout",
       "text": [
        "\n",
        "8.89%"
       ]
      },
      {
       "output_type": "stream",
       "stream": "stdout",
       "text": [
        "\n",
        "8.96%"
       ]
      },
      {
       "output_type": "stream",
       "stream": "stdout",
       "text": [
        "\n",
        "9.03%"
       ]
      },
      {
       "output_type": "stream",
       "stream": "stdout",
       "text": [
        "\n",
        "9.10%"
       ]
      },
      {
       "output_type": "stream",
       "stream": "stdout",
       "text": [
        "\n",
        "9.17%"
       ]
      },
      {
       "output_type": "stream",
       "stream": "stdout",
       "text": [
        "\n",
        "9.23%"
       ]
      },
      {
       "output_type": "stream",
       "stream": "stdout",
       "text": [
        "\n",
        "9.30%"
       ]
      },
      {
       "output_type": "stream",
       "stream": "stdout",
       "text": [
        "\n",
        "9.37%"
       ]
      },
      {
       "output_type": "stream",
       "stream": "stdout",
       "text": [
        "\n",
        "9.44%"
       ]
      },
      {
       "output_type": "stream",
       "stream": "stdout",
       "text": [
        "\n",
        "9.51%"
       ]
      },
      {
       "output_type": "stream",
       "stream": "stdout",
       "text": [
        "\n",
        "9.58%"
       ]
      },
      {
       "output_type": "stream",
       "stream": "stdout",
       "text": [
        "\n",
        "9.64%"
       ]
      },
      {
       "output_type": "stream",
       "stream": "stdout",
       "text": [
        "\n",
        "9.71%"
       ]
      },
      {
       "output_type": "stream",
       "stream": "stdout",
       "text": [
        "\n",
        "9.78%"
       ]
      },
      {
       "output_type": "stream",
       "stream": "stdout",
       "text": [
        "\n",
        "9.85%"
       ]
      },
      {
       "output_type": "stream",
       "stream": "stdout",
       "text": [
        "\n",
        "9.92%"
       ]
      },
      {
       "output_type": "stream",
       "stream": "stdout",
       "text": [
        "\n",
        "9.99%"
       ]
      },
      {
       "output_type": "stream",
       "stream": "stdout",
       "text": [
        "\n",
        "10.05%"
       ]
      },
      {
       "output_type": "stream",
       "stream": "stdout",
       "text": [
        "\n",
        "10.12%"
       ]
      },
      {
       "output_type": "stream",
       "stream": "stdout",
       "text": [
        "\n",
        "10.19%"
       ]
      },
      {
       "output_type": "stream",
       "stream": "stdout",
       "text": [
        "\n",
        "10.26%"
       ]
      },
      {
       "output_type": "stream",
       "stream": "stdout",
       "text": [
        "\n",
        "10.33%"
       ]
      },
      {
       "output_type": "stream",
       "stream": "stdout",
       "text": [
        "\n",
        "10.40%"
       ]
      },
      {
       "output_type": "stream",
       "stream": "stdout",
       "text": [
        "\n",
        "10.47%"
       ]
      },
      {
       "output_type": "stream",
       "stream": "stdout",
       "text": [
        "\n",
        "10.53%"
       ]
      },
      {
       "output_type": "stream",
       "stream": "stdout",
       "text": [
        "\n",
        "10.60%"
       ]
      },
      {
       "output_type": "stream",
       "stream": "stdout",
       "text": [
        "\n",
        "10.67%"
       ]
      },
      {
       "output_type": "stream",
       "stream": "stdout",
       "text": [
        "\n",
        "10.74%"
       ]
      },
      {
       "output_type": "stream",
       "stream": "stdout",
       "text": [
        "\n",
        "10.81%"
       ]
      },
      {
       "output_type": "stream",
       "stream": "stdout",
       "text": [
        "\n",
        "10.88%"
       ]
      },
      {
       "output_type": "stream",
       "stream": "stdout",
       "text": [
        "\n",
        "10.94%"
       ]
      },
      {
       "output_type": "stream",
       "stream": "stdout",
       "text": [
        "\n",
        "11.01%"
       ]
      },
      {
       "output_type": "stream",
       "stream": "stdout",
       "text": [
        "\n",
        "11.08%"
       ]
      },
      {
       "output_type": "stream",
       "stream": "stdout",
       "text": [
        "\n",
        "11.15%"
       ]
      },
      {
       "output_type": "stream",
       "stream": "stdout",
       "text": [
        "\n",
        "11.22%"
       ]
      },
      {
       "output_type": "stream",
       "stream": "stdout",
       "text": [
        "\n",
        "11.29%"
       ]
      },
      {
       "output_type": "stream",
       "stream": "stdout",
       "text": [
        "\n",
        "11.35%"
       ]
      },
      {
       "output_type": "stream",
       "stream": "stdout",
       "text": [
        "\n",
        "11.42%"
       ]
      },
      {
       "output_type": "stream",
       "stream": "stdout",
       "text": [
        "\n",
        "11.49%"
       ]
      },
      {
       "output_type": "stream",
       "stream": "stdout",
       "text": [
        "\n",
        "11.56%"
       ]
      },
      {
       "output_type": "stream",
       "stream": "stdout",
       "text": [
        "\n",
        "11.63%"
       ]
      },
      {
       "output_type": "stream",
       "stream": "stdout",
       "text": [
        "\n",
        "11.70%"
       ]
      },
      {
       "output_type": "stream",
       "stream": "stdout",
       "text": [
        "\n",
        "11.76%"
       ]
      },
      {
       "output_type": "stream",
       "stream": "stdout",
       "text": [
        "\n",
        "11.83%"
       ]
      },
      {
       "output_type": "stream",
       "stream": "stdout",
       "text": [
        "\n",
        "11.90%"
       ]
      },
      {
       "output_type": "stream",
       "stream": "stdout",
       "text": [
        "\n",
        "11.97%"
       ]
      },
      {
       "output_type": "stream",
       "stream": "stdout",
       "text": [
        "\n",
        "12.04%"
       ]
      },
      {
       "output_type": "stream",
       "stream": "stdout",
       "text": [
        "\n",
        "12.11%"
       ]
      },
      {
       "output_type": "stream",
       "stream": "stdout",
       "text": [
        "\n",
        "12.18%"
       ]
      },
      {
       "output_type": "stream",
       "stream": "stdout",
       "text": [
        "\n",
        "12.24%"
       ]
      },
      {
       "output_type": "stream",
       "stream": "stdout",
       "text": [
        "\n",
        "12.31%"
       ]
      },
      {
       "output_type": "stream",
       "stream": "stdout",
       "text": [
        "\n",
        "12.38%"
       ]
      },
      {
       "output_type": "stream",
       "stream": "stdout",
       "text": [
        "\n",
        "12.45%"
       ]
      },
      {
       "output_type": "stream",
       "stream": "stdout",
       "text": [
        "\n",
        "12.52%"
       ]
      },
      {
       "output_type": "stream",
       "stream": "stdout",
       "text": [
        "\n",
        "12.59%"
       ]
      },
      {
       "output_type": "stream",
       "stream": "stdout",
       "text": [
        "\n",
        "12.65%"
       ]
      },
      {
       "output_type": "stream",
       "stream": "stdout",
       "text": [
        "\n",
        "12.72%"
       ]
      },
      {
       "output_type": "stream",
       "stream": "stdout",
       "text": [
        "\n",
        "12.79%"
       ]
      },
      {
       "output_type": "stream",
       "stream": "stdout",
       "text": [
        "\n",
        "12.86%"
       ]
      },
      {
       "output_type": "stream",
       "stream": "stdout",
       "text": [
        "\n",
        "12.93%"
       ]
      },
      {
       "output_type": "stream",
       "stream": "stdout",
       "text": [
        "\n",
        "13.00%"
       ]
      },
      {
       "output_type": "stream",
       "stream": "stdout",
       "text": [
        "\n",
        "13.06%"
       ]
      },
      {
       "output_type": "stream",
       "stream": "stdout",
       "text": [
        "\n",
        "13.13%"
       ]
      },
      {
       "output_type": "stream",
       "stream": "stdout",
       "text": [
        "\n",
        "13.20%"
       ]
      },
      {
       "output_type": "stream",
       "stream": "stdout",
       "text": [
        "\n",
        "13.27%"
       ]
      },
      {
       "output_type": "stream",
       "stream": "stdout",
       "text": [
        "\n",
        "13.34%"
       ]
      },
      {
       "output_type": "stream",
       "stream": "stdout",
       "text": [
        "\n",
        "13.41%"
       ]
      },
      {
       "output_type": "stream",
       "stream": "stdout",
       "text": [
        "\n",
        "13.47%"
       ]
      },
      {
       "output_type": "stream",
       "stream": "stdout",
       "text": [
        "\n",
        "13.54%"
       ]
      },
      {
       "output_type": "stream",
       "stream": "stdout",
       "text": [
        "\n",
        "13.61%"
       ]
      },
      {
       "output_type": "stream",
       "stream": "stdout",
       "text": [
        "\n",
        "13.68%"
       ]
      },
      {
       "output_type": "stream",
       "stream": "stdout",
       "text": [
        "\n",
        "13.75%"
       ]
      },
      {
       "output_type": "stream",
       "stream": "stdout",
       "text": [
        "\n",
        "13.82%"
       ]
      },
      {
       "output_type": "stream",
       "stream": "stdout",
       "text": [
        "\n",
        "13.89%"
       ]
      },
      {
       "output_type": "stream",
       "stream": "stdout",
       "text": [
        "\n",
        "13.95%"
       ]
      },
      {
       "output_type": "stream",
       "stream": "stdout",
       "text": [
        "\n",
        "14.02%"
       ]
      },
      {
       "output_type": "stream",
       "stream": "stdout",
       "text": [
        "\n",
        "14.09%"
       ]
      },
      {
       "output_type": "stream",
       "stream": "stdout",
       "text": [
        "\n",
        "14.16%"
       ]
      },
      {
       "output_type": "stream",
       "stream": "stdout",
       "text": [
        "\n",
        "14.23%"
       ]
      },
      {
       "output_type": "stream",
       "stream": "stdout",
       "text": [
        "\n",
        "14.30%"
       ]
      },
      {
       "output_type": "stream",
       "stream": "stdout",
       "text": [
        "\n",
        "14.36%"
       ]
      },
      {
       "output_type": "stream",
       "stream": "stdout",
       "text": [
        "\n",
        "14.43%"
       ]
      },
      {
       "output_type": "stream",
       "stream": "stdout",
       "text": [
        "\n",
        "14.50%"
       ]
      },
      {
       "output_type": "stream",
       "stream": "stdout",
       "text": [
        "\n",
        "14.57%"
       ]
      },
      {
       "output_type": "stream",
       "stream": "stdout",
       "text": [
        "\n",
        "14.64%"
       ]
      },
      {
       "output_type": "stream",
       "stream": "stdout",
       "text": [
        "\n",
        "14.71%"
       ]
      },
      {
       "output_type": "stream",
       "stream": "stdout",
       "text": [
        "\n",
        "14.77%"
       ]
      },
      {
       "output_type": "stream",
       "stream": "stdout",
       "text": [
        "\n",
        "14.84%"
       ]
      },
      {
       "output_type": "stream",
       "stream": "stdout",
       "text": [
        "\n",
        "14.91%"
       ]
      },
      {
       "output_type": "stream",
       "stream": "stdout",
       "text": [
        "\n",
        "14.98%"
       ]
      },
      {
       "output_type": "stream",
       "stream": "stdout",
       "text": [
        "\n",
        "15.05%"
       ]
      },
      {
       "output_type": "stream",
       "stream": "stdout",
       "text": [
        "\n",
        "15.12%"
       ]
      },
      {
       "output_type": "stream",
       "stream": "stdout",
       "text": [
        "\n",
        "15.18%"
       ]
      },
      {
       "output_type": "stream",
       "stream": "stdout",
       "text": [
        "\n",
        "15.25%"
       ]
      },
      {
       "output_type": "stream",
       "stream": "stdout",
       "text": [
        "\n",
        "15.32%"
       ]
      },
      {
       "output_type": "stream",
       "stream": "stdout",
       "text": [
        "\n",
        "15.39%"
       ]
      },
      {
       "output_type": "stream",
       "stream": "stdout",
       "text": [
        "\n",
        "15.46%"
       ]
      },
      {
       "output_type": "stream",
       "stream": "stdout",
       "text": [
        "\n",
        "15.53%"
       ]
      },
      {
       "output_type": "stream",
       "stream": "stdout",
       "text": [
        "\n",
        "15.60%"
       ]
      },
      {
       "output_type": "stream",
       "stream": "stdout",
       "text": [
        "\n",
        "15.66%"
       ]
      },
      {
       "output_type": "stream",
       "stream": "stdout",
       "text": [
        "\n",
        "15.73%"
       ]
      },
      {
       "output_type": "stream",
       "stream": "stdout",
       "text": [
        "\n",
        "15.80%"
       ]
      },
      {
       "output_type": "stream",
       "stream": "stdout",
       "text": [
        "\n",
        "15.87%"
       ]
      },
      {
       "output_type": "stream",
       "stream": "stdout",
       "text": [
        "\n",
        "15.94%"
       ]
      },
      {
       "output_type": "stream",
       "stream": "stdout",
       "text": [
        "\n",
        "16.01%"
       ]
      },
      {
       "output_type": "stream",
       "stream": "stdout",
       "text": [
        "\n",
        "16.07%"
       ]
      },
      {
       "output_type": "stream",
       "stream": "stdout",
       "text": [
        "\n",
        "16.14%"
       ]
      },
      {
       "output_type": "stream",
       "stream": "stdout",
       "text": [
        "\n",
        "16.21%"
       ]
      },
      {
       "output_type": "stream",
       "stream": "stdout",
       "text": [
        "\n",
        "16.28%"
       ]
      },
      {
       "output_type": "stream",
       "stream": "stdout",
       "text": [
        "\n",
        "16.35%"
       ]
      },
      {
       "output_type": "stream",
       "stream": "stdout",
       "text": [
        "\n",
        "16.42%"
       ]
      },
      {
       "output_type": "stream",
       "stream": "stdout",
       "text": [
        "\n",
        "16.48%"
       ]
      },
      {
       "output_type": "stream",
       "stream": "stdout",
       "text": [
        "\n",
        "16.55%"
       ]
      },
      {
       "output_type": "stream",
       "stream": "stdout",
       "text": [
        "\n",
        "16.62%"
       ]
      },
      {
       "output_type": "stream",
       "stream": "stdout",
       "text": [
        "\n",
        "16.69%"
       ]
      },
      {
       "output_type": "stream",
       "stream": "stdout",
       "text": [
        "\n",
        "16.76%"
       ]
      },
      {
       "output_type": "stream",
       "stream": "stdout",
       "text": [
        "\n",
        "16.83%"
       ]
      },
      {
       "output_type": "stream",
       "stream": "stdout",
       "text": [
        "\n",
        "16.89%"
       ]
      },
      {
       "output_type": "stream",
       "stream": "stdout",
       "text": [
        "\n",
        "16.96%"
       ]
      },
      {
       "output_type": "stream",
       "stream": "stdout",
       "text": [
        "\n",
        "17.03%"
       ]
      },
      {
       "output_type": "stream",
       "stream": "stdout",
       "text": [
        "\n",
        "17.10%"
       ]
      },
      {
       "output_type": "stream",
       "stream": "stdout",
       "text": [
        "\n",
        "17.17%"
       ]
      },
      {
       "output_type": "stream",
       "stream": "stdout",
       "text": [
        "\n",
        "17.24%"
       ]
      },
      {
       "output_type": "stream",
       "stream": "stdout",
       "text": [
        "\n",
        "17.31%"
       ]
      },
      {
       "output_type": "stream",
       "stream": "stdout",
       "text": [
        "\n",
        "17.37%"
       ]
      },
      {
       "output_type": "stream",
       "stream": "stdout",
       "text": [
        "\n",
        "17.44%"
       ]
      },
      {
       "output_type": "stream",
       "stream": "stdout",
       "text": [
        "\n",
        "17.51%"
       ]
      },
      {
       "output_type": "stream",
       "stream": "stdout",
       "text": [
        "\n",
        "17.58%"
       ]
      },
      {
       "output_type": "stream",
       "stream": "stdout",
       "text": [
        "\n",
        "17.65%"
       ]
      },
      {
       "output_type": "stream",
       "stream": "stdout",
       "text": [
        "\n",
        "17.72%"
       ]
      },
      {
       "output_type": "stream",
       "stream": "stdout",
       "text": [
        "\n",
        "17.78%"
       ]
      },
      {
       "output_type": "stream",
       "stream": "stdout",
       "text": [
        "\n",
        "17.85%"
       ]
      },
      {
       "output_type": "stream",
       "stream": "stdout",
       "text": [
        "\n",
        "17.92%"
       ]
      },
      {
       "output_type": "stream",
       "stream": "stdout",
       "text": [
        "\n",
        "17.99%"
       ]
      },
      {
       "output_type": "stream",
       "stream": "stdout",
       "text": [
        "\n",
        "18.06%"
       ]
      },
      {
       "output_type": "stream",
       "stream": "stdout",
       "text": [
        "\n",
        "18.13%"
       ]
      },
      {
       "output_type": "stream",
       "stream": "stdout",
       "text": [
        "\n",
        "18.19%"
       ]
      },
      {
       "output_type": "stream",
       "stream": "stdout",
       "text": [
        "\n",
        "18.26%"
       ]
      },
      {
       "output_type": "stream",
       "stream": "stdout",
       "text": [
        "\n",
        "18.33%"
       ]
      },
      {
       "output_type": "stream",
       "stream": "stdout",
       "text": [
        "\n",
        "18.40%"
       ]
      },
      {
       "output_type": "stream",
       "stream": "stdout",
       "text": [
        "\n",
        "18.47%"
       ]
      },
      {
       "output_type": "stream",
       "stream": "stdout",
       "text": [
        "\n",
        "18.54%"
       ]
      },
      {
       "output_type": "stream",
       "stream": "stdout",
       "text": [
        "\n",
        "18.60%"
       ]
      },
      {
       "output_type": "stream",
       "stream": "stdout",
       "text": [
        "\n",
        "18.67%"
       ]
      },
      {
       "output_type": "stream",
       "stream": "stdout",
       "text": [
        "\n",
        "18.74%"
       ]
      },
      {
       "output_type": "stream",
       "stream": "stdout",
       "text": [
        "\n",
        "18.81%"
       ]
      },
      {
       "output_type": "stream",
       "stream": "stdout",
       "text": [
        "\n",
        "18.88%"
       ]
      },
      {
       "output_type": "stream",
       "stream": "stdout",
       "text": [
        "\n",
        "18.95%"
       ]
      },
      {
       "output_type": "stream",
       "stream": "stdout",
       "text": [
        "\n",
        "19.02%"
       ]
      },
      {
       "output_type": "stream",
       "stream": "stdout",
       "text": [
        "\n",
        "19.08%"
       ]
      },
      {
       "output_type": "stream",
       "stream": "stdout",
       "text": [
        "\n",
        "19.15%"
       ]
      },
      {
       "output_type": "stream",
       "stream": "stdout",
       "text": [
        "\n",
        "19.22%"
       ]
      },
      {
       "output_type": "stream",
       "stream": "stdout",
       "text": [
        "\n",
        "19.29%"
       ]
      },
      {
       "output_type": "stream",
       "stream": "stdout",
       "text": [
        "\n",
        "19.36%"
       ]
      },
      {
       "output_type": "stream",
       "stream": "stdout",
       "text": [
        "\n",
        "19.43%"
       ]
      },
      {
       "output_type": "stream",
       "stream": "stdout",
       "text": [
        "\n",
        "19.49%"
       ]
      },
      {
       "output_type": "stream",
       "stream": "stdout",
       "text": [
        "\n",
        "19.56%"
       ]
      },
      {
       "output_type": "stream",
       "stream": "stdout",
       "text": [
        "\n",
        "19.63%"
       ]
      },
      {
       "output_type": "stream",
       "stream": "stdout",
       "text": [
        "\n",
        "19.70%"
       ]
      },
      {
       "output_type": "stream",
       "stream": "stdout",
       "text": [
        "\n",
        "19.77%"
       ]
      },
      {
       "output_type": "stream",
       "stream": "stdout",
       "text": [
        "\n",
        "19.84%"
       ]
      },
      {
       "output_type": "stream",
       "stream": "stdout",
       "text": [
        "\n",
        "19.90%"
       ]
      },
      {
       "output_type": "stream",
       "stream": "stdout",
       "text": [
        "\n",
        "19.97%"
       ]
      },
      {
       "output_type": "stream",
       "stream": "stdout",
       "text": [
        "\n",
        "20.04%"
       ]
      },
      {
       "output_type": "stream",
       "stream": "stdout",
       "text": [
        "\n",
        "20.11%"
       ]
      },
      {
       "output_type": "stream",
       "stream": "stdout",
       "text": [
        "\n",
        "20.18%"
       ]
      },
      {
       "output_type": "stream",
       "stream": "stdout",
       "text": [
        "\n",
        "20.25%"
       ]
      },
      {
       "output_type": "stream",
       "stream": "stdout",
       "text": [
        "\n",
        "20.31%"
       ]
      },
      {
       "output_type": "stream",
       "stream": "stdout",
       "text": [
        "\n",
        "20.38%"
       ]
      },
      {
       "output_type": "stream",
       "stream": "stdout",
       "text": [
        "\n",
        "20.45%"
       ]
      },
      {
       "output_type": "stream",
       "stream": "stdout",
       "text": [
        "\n",
        "20.52%"
       ]
      },
      {
       "output_type": "stream",
       "stream": "stdout",
       "text": [
        "\n",
        "20.59%"
       ]
      },
      {
       "output_type": "stream",
       "stream": "stdout",
       "text": [
        "\n",
        "20.66%"
       ]
      },
      {
       "output_type": "stream",
       "stream": "stdout",
       "text": [
        "\n",
        "20.73%"
       ]
      },
      {
       "output_type": "stream",
       "stream": "stdout",
       "text": [
        "\n",
        "20.79%"
       ]
      },
      {
       "output_type": "stream",
       "stream": "stdout",
       "text": [
        "\n",
        "20.86%"
       ]
      },
      {
       "output_type": "stream",
       "stream": "stdout",
       "text": [
        "\n",
        "20.93%"
       ]
      },
      {
       "output_type": "stream",
       "stream": "stdout",
       "text": [
        "\n",
        "21.00%"
       ]
      },
      {
       "output_type": "stream",
       "stream": "stdout",
       "text": [
        "\n",
        "21.07%"
       ]
      },
      {
       "output_type": "stream",
       "stream": "stdout",
       "text": [
        "\n",
        "21.14%"
       ]
      },
      {
       "output_type": "stream",
       "stream": "stdout",
       "text": [
        "\n",
        "21.20%"
       ]
      },
      {
       "output_type": "stream",
       "stream": "stdout",
       "text": [
        "\n",
        "21.27%"
       ]
      },
      {
       "output_type": "stream",
       "stream": "stdout",
       "text": [
        "\n",
        "21.34%"
       ]
      },
      {
       "output_type": "stream",
       "stream": "stdout",
       "text": [
        "\n",
        "21.41%"
       ]
      },
      {
       "output_type": "stream",
       "stream": "stdout",
       "text": [
        "\n",
        "21.48%"
       ]
      },
      {
       "output_type": "stream",
       "stream": "stdout",
       "text": [
        "\n",
        "21.55%"
       ]
      },
      {
       "output_type": "stream",
       "stream": "stdout",
       "text": [
        "\n",
        "21.61%"
       ]
      },
      {
       "output_type": "stream",
       "stream": "stdout",
       "text": [
        "\n",
        "21.68%"
       ]
      },
      {
       "output_type": "stream",
       "stream": "stdout",
       "text": [
        "\n",
        "21.75%"
       ]
      },
      {
       "output_type": "stream",
       "stream": "stdout",
       "text": [
        "\n",
        "21.82%"
       ]
      },
      {
       "output_type": "stream",
       "stream": "stdout",
       "text": [
        "\n",
        "21.89%"
       ]
      },
      {
       "output_type": "stream",
       "stream": "stdout",
       "text": [
        "\n",
        "21.96%"
       ]
      },
      {
       "output_type": "stream",
       "stream": "stdout",
       "text": [
        "\n",
        "22.02%"
       ]
      },
      {
       "output_type": "stream",
       "stream": "stdout",
       "text": [
        "\n",
        "22.09%"
       ]
      },
      {
       "output_type": "stream",
       "stream": "stdout",
       "text": [
        "\n",
        "22.16%"
       ]
      },
      {
       "output_type": "stream",
       "stream": "stdout",
       "text": [
        "\n",
        "22.23%"
       ]
      },
      {
       "output_type": "stream",
       "stream": "stdout",
       "text": [
        "\n",
        "22.30%"
       ]
      },
      {
       "output_type": "stream",
       "stream": "stdout",
       "text": [
        "\n",
        "22.37%"
       ]
      },
      {
       "output_type": "stream",
       "stream": "stdout",
       "text": [
        "\n",
        "22.44%"
       ]
      },
      {
       "output_type": "stream",
       "stream": "stdout",
       "text": [
        "\n",
        "22.50%"
       ]
      },
      {
       "output_type": "stream",
       "stream": "stdout",
       "text": [
        "\n",
        "22.57%"
       ]
      },
      {
       "output_type": "stream",
       "stream": "stdout",
       "text": [
        "\n",
        "22.64%"
       ]
      },
      {
       "output_type": "stream",
       "stream": "stdout",
       "text": [
        "\n",
        "22.71%"
       ]
      },
      {
       "output_type": "stream",
       "stream": "stdout",
       "text": [
        "\n",
        "22.78%"
       ]
      },
      {
       "output_type": "stream",
       "stream": "stdout",
       "text": [
        "\n",
        "22.85%"
       ]
      },
      {
       "output_type": "stream",
       "stream": "stdout",
       "text": [
        "\n",
        "22.91%"
       ]
      },
      {
       "output_type": "stream",
       "stream": "stdout",
       "text": [
        "\n",
        "22.98%"
       ]
      },
      {
       "output_type": "stream",
       "stream": "stdout",
       "text": [
        "\n",
        "23.05%"
       ]
      },
      {
       "output_type": "stream",
       "stream": "stdout",
       "text": [
        "\n",
        "23.12%"
       ]
      },
      {
       "output_type": "stream",
       "stream": "stdout",
       "text": [
        "\n",
        "23.19%"
       ]
      },
      {
       "output_type": "stream",
       "stream": "stdout",
       "text": [
        "\n",
        "23.26%"
       ]
      },
      {
       "output_type": "stream",
       "stream": "stdout",
       "text": [
        "\n",
        "23.32%"
       ]
      },
      {
       "output_type": "stream",
       "stream": "stdout",
       "text": [
        "\n",
        "23.39%"
       ]
      },
      {
       "output_type": "stream",
       "stream": "stdout",
       "text": [
        "\n",
        "23.46%"
       ]
      },
      {
       "output_type": "stream",
       "stream": "stdout",
       "text": [
        "\n",
        "23.53%"
       ]
      },
      {
       "output_type": "stream",
       "stream": "stdout",
       "text": [
        "\n",
        "23.60%"
       ]
      },
      {
       "output_type": "stream",
       "stream": "stdout",
       "text": [
        "\n",
        "23.67%"
       ]
      },
      {
       "output_type": "stream",
       "stream": "stdout",
       "text": [
        "\n",
        "23.73%"
       ]
      },
      {
       "output_type": "stream",
       "stream": "stdout",
       "text": [
        "\n",
        "23.80%"
       ]
      },
      {
       "output_type": "stream",
       "stream": "stdout",
       "text": [
        "\n",
        "23.87%"
       ]
      },
      {
       "output_type": "stream",
       "stream": "stdout",
       "text": [
        "\n",
        "23.94%"
       ]
      },
      {
       "output_type": "stream",
       "stream": "stdout",
       "text": [
        "\n",
        "24.01%"
       ]
      },
      {
       "output_type": "stream",
       "stream": "stdout",
       "text": [
        "\n",
        "24.08%"
       ]
      },
      {
       "output_type": "stream",
       "stream": "stdout",
       "text": [
        "\n",
        "24.15%"
       ]
      },
      {
       "output_type": "stream",
       "stream": "stdout",
       "text": [
        "\n",
        "24.21%"
       ]
      },
      {
       "output_type": "stream",
       "stream": "stdout",
       "text": [
        "\n",
        "24.28%"
       ]
      },
      {
       "output_type": "stream",
       "stream": "stdout",
       "text": [
        "\n",
        "24.35%"
       ]
      },
      {
       "output_type": "stream",
       "stream": "stdout",
       "text": [
        "\n",
        "24.42%"
       ]
      },
      {
       "output_type": "stream",
       "stream": "stdout",
       "text": [
        "\n",
        "24.49%"
       ]
      },
      {
       "output_type": "stream",
       "stream": "stdout",
       "text": [
        "\n",
        "24.56%"
       ]
      },
      {
       "output_type": "stream",
       "stream": "stdout",
       "text": [
        "\n",
        "24.62%"
       ]
      },
      {
       "output_type": "stream",
       "stream": "stdout",
       "text": [
        "\n",
        "24.69%"
       ]
      },
      {
       "output_type": "stream",
       "stream": "stdout",
       "text": [
        "\n",
        "24.76%"
       ]
      },
      {
       "output_type": "stream",
       "stream": "stdout",
       "text": [
        "\n",
        "24.83%"
       ]
      },
      {
       "output_type": "stream",
       "stream": "stdout",
       "text": [
        "\n",
        "24.90%"
       ]
      },
      {
       "output_type": "stream",
       "stream": "stdout",
       "text": [
        "\n",
        "24.97%"
       ]
      },
      {
       "output_type": "stream",
       "stream": "stdout",
       "text": [
        "\n",
        "25.03%"
       ]
      },
      {
       "output_type": "stream",
       "stream": "stdout",
       "text": [
        "\n",
        "25.10%"
       ]
      },
      {
       "output_type": "stream",
       "stream": "stdout",
       "text": [
        "\n",
        "25.17%"
       ]
      },
      {
       "output_type": "stream",
       "stream": "stdout",
       "text": [
        "\n",
        "25.24%"
       ]
      },
      {
       "output_type": "stream",
       "stream": "stdout",
       "text": [
        "\n",
        "25.31%"
       ]
      },
      {
       "output_type": "stream",
       "stream": "stdout",
       "text": [
        "\n",
        "25.38%"
       ]
      },
      {
       "output_type": "stream",
       "stream": "stdout",
       "text": [
        "\n",
        "25.44%"
       ]
      },
      {
       "output_type": "stream",
       "stream": "stdout",
       "text": [
        "\n",
        "25.51%"
       ]
      },
      {
       "output_type": "stream",
       "stream": "stdout",
       "text": [
        "\n",
        "25.58%"
       ]
      },
      {
       "output_type": "stream",
       "stream": "stdout",
       "text": [
        "\n",
        "25.65%"
       ]
      },
      {
       "output_type": "stream",
       "stream": "stdout",
       "text": [
        "\n",
        "25.72%"
       ]
      },
      {
       "output_type": "stream",
       "stream": "stdout",
       "text": [
        "\n",
        "25.79%"
       ]
      },
      {
       "output_type": "stream",
       "stream": "stdout",
       "text": [
        "\n",
        "25.85%"
       ]
      },
      {
       "output_type": "stream",
       "stream": "stdout",
       "text": [
        "\n",
        "25.92%"
       ]
      },
      {
       "output_type": "stream",
       "stream": "stdout",
       "text": [
        "\n",
        "25.99%"
       ]
      },
      {
       "output_type": "stream",
       "stream": "stdout",
       "text": [
        "\n",
        "26.06%"
       ]
      },
      {
       "output_type": "stream",
       "stream": "stdout",
       "text": [
        "\n",
        "26.13%"
       ]
      },
      {
       "output_type": "stream",
       "stream": "stdout",
       "text": [
        "\n",
        "26.20%"
       ]
      },
      {
       "output_type": "stream",
       "stream": "stdout",
       "text": [
        "\n",
        "26.27%"
       ]
      },
      {
       "output_type": "stream",
       "stream": "stdout",
       "text": [
        "\n",
        "26.33%"
       ]
      },
      {
       "output_type": "stream",
       "stream": "stdout",
       "text": [
        "\n",
        "26.40%"
       ]
      },
      {
       "output_type": "stream",
       "stream": "stdout",
       "text": [
        "\n",
        "26.47%"
       ]
      },
      {
       "output_type": "stream",
       "stream": "stdout",
       "text": [
        "\n",
        "26.54%"
       ]
      },
      {
       "output_type": "stream",
       "stream": "stdout",
       "text": [
        "\n",
        "26.61%"
       ]
      },
      {
       "output_type": "stream",
       "stream": "stdout",
       "text": [
        "\n",
        "26.68%"
       ]
      },
      {
       "output_type": "stream",
       "stream": "stdout",
       "text": [
        "\n",
        "26.74%"
       ]
      },
      {
       "output_type": "stream",
       "stream": "stdout",
       "text": [
        "\n",
        "26.81%"
       ]
      },
      {
       "output_type": "stream",
       "stream": "stdout",
       "text": [
        "\n",
        "26.88%"
       ]
      },
      {
       "output_type": "stream",
       "stream": "stdout",
       "text": [
        "\n",
        "26.95%"
       ]
      },
      {
       "output_type": "stream",
       "stream": "stdout",
       "text": [
        "\n",
        "27.02%"
       ]
      },
      {
       "output_type": "stream",
       "stream": "stdout",
       "text": [
        "\n",
        "27.09%"
       ]
      },
      {
       "output_type": "stream",
       "stream": "stdout",
       "text": [
        "\n",
        "27.15%"
       ]
      },
      {
       "output_type": "stream",
       "stream": "stdout",
       "text": [
        "\n",
        "27.22%"
       ]
      },
      {
       "output_type": "stream",
       "stream": "stdout",
       "text": [
        "\n",
        "27.29%"
       ]
      },
      {
       "output_type": "stream",
       "stream": "stdout",
       "text": [
        "\n",
        "27.36%"
       ]
      },
      {
       "output_type": "stream",
       "stream": "stdout",
       "text": [
        "\n",
        "27.43%"
       ]
      },
      {
       "output_type": "stream",
       "stream": "stdout",
       "text": [
        "\n",
        "27.50%"
       ]
      },
      {
       "output_type": "stream",
       "stream": "stdout",
       "text": [
        "\n",
        "27.56%"
       ]
      },
      {
       "output_type": "stream",
       "stream": "stdout",
       "text": [
        "\n",
        "27.63%"
       ]
      },
      {
       "output_type": "stream",
       "stream": "stdout",
       "text": [
        "\n",
        "27.70%"
       ]
      },
      {
       "output_type": "stream",
       "stream": "stdout",
       "text": [
        "\n",
        "27.77%"
       ]
      },
      {
       "output_type": "stream",
       "stream": "stdout",
       "text": [
        "\n",
        "27.84%"
       ]
      },
      {
       "output_type": "stream",
       "stream": "stdout",
       "text": [
        "\n",
        "27.91%"
       ]
      },
      {
       "output_type": "stream",
       "stream": "stdout",
       "text": [
        "\n",
        "27.98%"
       ]
      },
      {
       "output_type": "stream",
       "stream": "stdout",
       "text": [
        "\n",
        "28.04%"
       ]
      },
      {
       "output_type": "stream",
       "stream": "stdout",
       "text": [
        "\n",
        "28.11%"
       ]
      },
      {
       "output_type": "stream",
       "stream": "stdout",
       "text": [
        "\n",
        "28.18%"
       ]
      },
      {
       "output_type": "stream",
       "stream": "stdout",
       "text": [
        "\n",
        "28.25%"
       ]
      },
      {
       "output_type": "stream",
       "stream": "stdout",
       "text": [
        "\n",
        "28.32%"
       ]
      },
      {
       "output_type": "stream",
       "stream": "stdout",
       "text": [
        "\n",
        "28.39%"
       ]
      },
      {
       "output_type": "stream",
       "stream": "stdout",
       "text": [
        "\n",
        "28.45%"
       ]
      },
      {
       "output_type": "stream",
       "stream": "stdout",
       "text": [
        "\n",
        "28.52%"
       ]
      },
      {
       "output_type": "stream",
       "stream": "stdout",
       "text": [
        "\n",
        "28.59%"
       ]
      },
      {
       "output_type": "stream",
       "stream": "stdout",
       "text": [
        "\n",
        "28.66%"
       ]
      },
      {
       "output_type": "stream",
       "stream": "stdout",
       "text": [
        "\n",
        "28.73%"
       ]
      },
      {
       "output_type": "stream",
       "stream": "stdout",
       "text": [
        "\n",
        "28.80%"
       ]
      },
      {
       "output_type": "stream",
       "stream": "stdout",
       "text": [
        "\n",
        "28.86%"
       ]
      },
      {
       "output_type": "stream",
       "stream": "stdout",
       "text": [
        "\n",
        "28.93%"
       ]
      },
      {
       "output_type": "stream",
       "stream": "stdout",
       "text": [
        "\n",
        "29.00%"
       ]
      },
      {
       "output_type": "stream",
       "stream": "stdout",
       "text": [
        "\n",
        "29.07%"
       ]
      },
      {
       "output_type": "stream",
       "stream": "stdout",
       "text": [
        "\n",
        "29.14%"
       ]
      },
      {
       "output_type": "stream",
       "stream": "stdout",
       "text": [
        "\n",
        "29.21%"
       ]
      },
      {
       "output_type": "stream",
       "stream": "stdout",
       "text": [
        "\n",
        "29.27%"
       ]
      },
      {
       "output_type": "stream",
       "stream": "stdout",
       "text": [
        "\n",
        "29.34%"
       ]
      },
      {
       "output_type": "stream",
       "stream": "stdout",
       "text": [
        "\n",
        "29.41%"
       ]
      },
      {
       "output_type": "stream",
       "stream": "stdout",
       "text": [
        "\n",
        "29.48%"
       ]
      },
      {
       "output_type": "stream",
       "stream": "stdout",
       "text": [
        "\n",
        "29.55%"
       ]
      },
      {
       "output_type": "stream",
       "stream": "stdout",
       "text": [
        "\n",
        "29.62%"
       ]
      },
      {
       "output_type": "stream",
       "stream": "stdout",
       "text": [
        "\n",
        "29.69%"
       ]
      },
      {
       "output_type": "stream",
       "stream": "stdout",
       "text": [
        "\n",
        "29.75%"
       ]
      },
      {
       "output_type": "stream",
       "stream": "stdout",
       "text": [
        "\n",
        "29.82%"
       ]
      },
      {
       "output_type": "stream",
       "stream": "stdout",
       "text": [
        "\n",
        "29.89%"
       ]
      },
      {
       "output_type": "stream",
       "stream": "stdout",
       "text": [
        "\n",
        "29.96%"
       ]
      },
      {
       "output_type": "stream",
       "stream": "stdout",
       "text": [
        "\n",
        "30.03%"
       ]
      },
      {
       "output_type": "stream",
       "stream": "stdout",
       "text": [
        "\n",
        "30.10%"
       ]
      },
      {
       "output_type": "stream",
       "stream": "stdout",
       "text": [
        "\n",
        "30.16%"
       ]
      },
      {
       "output_type": "stream",
       "stream": "stdout",
       "text": [
        "\n",
        "30.23%"
       ]
      },
      {
       "output_type": "stream",
       "stream": "stdout",
       "text": [
        "\n",
        "30.30%"
       ]
      },
      {
       "output_type": "stream",
       "stream": "stdout",
       "text": [
        "\n",
        "30.37%"
       ]
      },
      {
       "output_type": "stream",
       "stream": "stdout",
       "text": [
        "\n",
        "30.44%"
       ]
      },
      {
       "output_type": "stream",
       "stream": "stdout",
       "text": [
        "\n",
        "30.51%"
       ]
      },
      {
       "output_type": "stream",
       "stream": "stdout",
       "text": [
        "\n",
        "30.57%"
       ]
      },
      {
       "output_type": "stream",
       "stream": "stdout",
       "text": [
        "\n",
        "30.64%"
       ]
      },
      {
       "output_type": "stream",
       "stream": "stdout",
       "text": [
        "\n",
        "30.71%"
       ]
      },
      {
       "output_type": "stream",
       "stream": "stdout",
       "text": [
        "\n",
        "30.78%"
       ]
      },
      {
       "output_type": "stream",
       "stream": "stdout",
       "text": [
        "\n",
        "30.85%"
       ]
      },
      {
       "output_type": "stream",
       "stream": "stdout",
       "text": [
        "\n",
        "30.92%"
       ]
      },
      {
       "output_type": "stream",
       "stream": "stdout",
       "text": [
        "\n",
        "30.98%"
       ]
      },
      {
       "output_type": "stream",
       "stream": "stdout",
       "text": [
        "\n",
        "31.05%"
       ]
      },
      {
       "output_type": "stream",
       "stream": "stdout",
       "text": [
        "\n",
        "31.12%"
       ]
      },
      {
       "output_type": "stream",
       "stream": "stdout",
       "text": [
        "\n",
        "31.19%"
       ]
      },
      {
       "output_type": "stream",
       "stream": "stdout",
       "text": [
        "\n",
        "31.26%"
       ]
      },
      {
       "output_type": "stream",
       "stream": "stdout",
       "text": [
        "\n",
        "31.33%"
       ]
      },
      {
       "output_type": "stream",
       "stream": "stdout",
       "text": [
        "\n",
        "31.40%"
       ]
      },
      {
       "output_type": "stream",
       "stream": "stdout",
       "text": [
        "\n",
        "31.46%"
       ]
      },
      {
       "output_type": "stream",
       "stream": "stdout",
       "text": [
        "\n",
        "31.53%"
       ]
      },
      {
       "output_type": "stream",
       "stream": "stdout",
       "text": [
        "\n",
        "31.60%"
       ]
      },
      {
       "output_type": "stream",
       "stream": "stdout",
       "text": [
        "\n",
        "31.67%"
       ]
      },
      {
       "output_type": "stream",
       "stream": "stdout",
       "text": [
        "\n",
        "31.74%"
       ]
      },
      {
       "output_type": "stream",
       "stream": "stdout",
       "text": [
        "\n",
        "31.81%"
       ]
      },
      {
       "output_type": "stream",
       "stream": "stdout",
       "text": [
        "\n",
        "31.87%"
       ]
      },
      {
       "output_type": "stream",
       "stream": "stdout",
       "text": [
        "\n",
        "31.94%"
       ]
      },
      {
       "output_type": "stream",
       "stream": "stdout",
       "text": [
        "\n",
        "32.01%"
       ]
      },
      {
       "output_type": "stream",
       "stream": "stdout",
       "text": [
        "\n",
        "32.08%"
       ]
      },
      {
       "output_type": "stream",
       "stream": "stdout",
       "text": [
        "\n",
        "32.15%"
       ]
      },
      {
       "output_type": "stream",
       "stream": "stdout",
       "text": [
        "\n",
        "32.22%"
       ]
      },
      {
       "output_type": "stream",
       "stream": "stdout",
       "text": [
        "\n",
        "32.28%"
       ]
      },
      {
       "output_type": "stream",
       "stream": "stdout",
       "text": [
        "\n",
        "32.35%"
       ]
      },
      {
       "output_type": "stream",
       "stream": "stdout",
       "text": [
        "\n",
        "32.42%"
       ]
      },
      {
       "output_type": "stream",
       "stream": "stdout",
       "text": [
        "\n",
        "32.49%"
       ]
      },
      {
       "output_type": "stream",
       "stream": "stdout",
       "text": [
        "\n",
        "32.56%"
       ]
      },
      {
       "output_type": "stream",
       "stream": "stdout",
       "text": [
        "\n",
        "32.63%"
       ]
      },
      {
       "output_type": "stream",
       "stream": "stdout",
       "text": [
        "\n",
        "32.69%"
       ]
      },
      {
       "output_type": "stream",
       "stream": "stdout",
       "text": [
        "\n",
        "32.76%"
       ]
      },
      {
       "output_type": "stream",
       "stream": "stdout",
       "text": [
        "\n",
        "32.83%"
       ]
      },
      {
       "output_type": "stream",
       "stream": "stdout",
       "text": [
        "\n",
        "32.90%"
       ]
      },
      {
       "output_type": "stream",
       "stream": "stdout",
       "text": [
        "\n",
        "32.97%"
       ]
      },
      {
       "output_type": "stream",
       "stream": "stdout",
       "text": [
        "\n",
        "33.04%"
       ]
      },
      {
       "output_type": "stream",
       "stream": "stdout",
       "text": [
        "\n",
        "33.11%"
       ]
      },
      {
       "output_type": "stream",
       "stream": "stdout",
       "text": [
        "\n",
        "33.17%"
       ]
      },
      {
       "output_type": "stream",
       "stream": "stdout",
       "text": [
        "\n",
        "33.24%"
       ]
      },
      {
       "output_type": "stream",
       "stream": "stdout",
       "text": [
        "\n",
        "33.31%"
       ]
      },
      {
       "output_type": "stream",
       "stream": "stdout",
       "text": [
        "\n",
        "33.38%"
       ]
      },
      {
       "output_type": "stream",
       "stream": "stdout",
       "text": [
        "\n",
        "33.45%"
       ]
      },
      {
       "output_type": "stream",
       "stream": "stdout",
       "text": [
        "\n",
        "33.52%"
       ]
      },
      {
       "output_type": "stream",
       "stream": "stdout",
       "text": [
        "\n",
        "33.58%"
       ]
      },
      {
       "output_type": "stream",
       "stream": "stdout",
       "text": [
        "\n",
        "33.65%"
       ]
      },
      {
       "output_type": "stream",
       "stream": "stdout",
       "text": [
        "\n",
        "33.72%"
       ]
      },
      {
       "output_type": "stream",
       "stream": "stdout",
       "text": [
        "\n",
        "33.79%"
       ]
      },
      {
       "output_type": "stream",
       "stream": "stdout",
       "text": [
        "\n",
        "33.86%"
       ]
      },
      {
       "output_type": "stream",
       "stream": "stdout",
       "text": [
        "\n",
        "33.93%"
       ]
      },
      {
       "output_type": "stream",
       "stream": "stdout",
       "text": [
        "\n",
        "33.99%"
       ]
      },
      {
       "output_type": "stream",
       "stream": "stdout",
       "text": [
        "\n",
        "34.06%"
       ]
      },
      {
       "output_type": "stream",
       "stream": "stdout",
       "text": [
        "\n",
        "34.13%"
       ]
      },
      {
       "output_type": "stream",
       "stream": "stdout",
       "text": [
        "\n",
        "34.20%"
       ]
      },
      {
       "output_type": "stream",
       "stream": "stdout",
       "text": [
        "\n",
        "34.27%"
       ]
      },
      {
       "output_type": "stream",
       "stream": "stdout",
       "text": [
        "\n",
        "34.34%"
       ]
      },
      {
       "output_type": "stream",
       "stream": "stdout",
       "text": [
        "\n",
        "34.40%"
       ]
      },
      {
       "output_type": "stream",
       "stream": "stdout",
       "text": [
        "\n",
        "34.47%"
       ]
      },
      {
       "output_type": "stream",
       "stream": "stdout",
       "text": [
        "\n",
        "34.54%"
       ]
      },
      {
       "output_type": "stream",
       "stream": "stdout",
       "text": [
        "\n",
        "34.61%"
       ]
      },
      {
       "output_type": "stream",
       "stream": "stdout",
       "text": [
        "\n",
        "34.68%"
       ]
      },
      {
       "output_type": "stream",
       "stream": "stdout",
       "text": [
        "\n",
        "34.75%"
       ]
      },
      {
       "output_type": "stream",
       "stream": "stdout",
       "text": [
        "\n",
        "34.82%"
       ]
      },
      {
       "output_type": "stream",
       "stream": "stdout",
       "text": [
        "\n",
        "34.88%"
       ]
      },
      {
       "output_type": "stream",
       "stream": "stdout",
       "text": [
        "\n",
        "34.95%"
       ]
      },
      {
       "output_type": "stream",
       "stream": "stdout",
       "text": [
        "\n",
        "35.02%"
       ]
      },
      {
       "output_type": "stream",
       "stream": "stdout",
       "text": [
        "\n",
        "35.09%"
       ]
      },
      {
       "output_type": "stream",
       "stream": "stdout",
       "text": [
        "\n",
        "35.16%"
       ]
      },
      {
       "output_type": "stream",
       "stream": "stdout",
       "text": [
        "\n",
        "35.23%"
       ]
      },
      {
       "output_type": "stream",
       "stream": "stdout",
       "text": [
        "\n",
        "35.29%"
       ]
      },
      {
       "output_type": "stream",
       "stream": "stdout",
       "text": [
        "\n",
        "35.36%"
       ]
      },
      {
       "output_type": "stream",
       "stream": "stdout",
       "text": [
        "\n",
        "35.43%"
       ]
      },
      {
       "output_type": "stream",
       "stream": "stdout",
       "text": [
        "\n",
        "35.50%"
       ]
      },
      {
       "output_type": "stream",
       "stream": "stdout",
       "text": [
        "\n",
        "35.57%"
       ]
      },
      {
       "output_type": "stream",
       "stream": "stdout",
       "text": [
        "\n",
        "35.64%"
       ]
      },
      {
       "output_type": "stream",
       "stream": "stdout",
       "text": [
        "\n",
        "35.70%"
       ]
      },
      {
       "output_type": "stream",
       "stream": "stdout",
       "text": [
        "\n",
        "35.77%"
       ]
      },
      {
       "output_type": "stream",
       "stream": "stdout",
       "text": [
        "\n",
        "35.84%"
       ]
      },
      {
       "output_type": "stream",
       "stream": "stdout",
       "text": [
        "\n",
        "35.91%"
       ]
      },
      {
       "output_type": "stream",
       "stream": "stdout",
       "text": [
        "\n",
        "35.98%"
       ]
      },
      {
       "output_type": "stream",
       "stream": "stdout",
       "text": [
        "\n",
        "36.05%"
       ]
      },
      {
       "output_type": "stream",
       "stream": "stdout",
       "text": [
        "\n",
        "36.11%"
       ]
      },
      {
       "output_type": "stream",
       "stream": "stdout",
       "text": [
        "\n",
        "36.18%"
       ]
      },
      {
       "output_type": "stream",
       "stream": "stdout",
       "text": [
        "\n",
        "36.25%"
       ]
      },
      {
       "output_type": "stream",
       "stream": "stdout",
       "text": [
        "\n",
        "36.32%"
       ]
      },
      {
       "output_type": "stream",
       "stream": "stdout",
       "text": [
        "\n",
        "36.39%"
       ]
      },
      {
       "output_type": "stream",
       "stream": "stdout",
       "text": [
        "\n",
        "36.46%"
       ]
      },
      {
       "output_type": "stream",
       "stream": "stdout",
       "text": [
        "\n",
        "36.53%"
       ]
      },
      {
       "output_type": "stream",
       "stream": "stdout",
       "text": [
        "\n",
        "36.59%"
       ]
      },
      {
       "output_type": "stream",
       "stream": "stdout",
       "text": [
        "\n",
        "36.66%"
       ]
      },
      {
       "output_type": "stream",
       "stream": "stdout",
       "text": [
        "\n",
        "36.73%"
       ]
      },
      {
       "output_type": "stream",
       "stream": "stdout",
       "text": [
        "\n",
        "36.80%"
       ]
      },
      {
       "output_type": "stream",
       "stream": "stdout",
       "text": [
        "\n",
        "36.87%"
       ]
      },
      {
       "output_type": "stream",
       "stream": "stdout",
       "text": [
        "\n",
        "36.94%"
       ]
      },
      {
       "output_type": "stream",
       "stream": "stdout",
       "text": [
        "\n",
        "37.00%"
       ]
      },
      {
       "output_type": "stream",
       "stream": "stdout",
       "text": [
        "\n",
        "37.07%"
       ]
      },
      {
       "output_type": "stream",
       "stream": "stdout",
       "text": [
        "\n",
        "37.14%"
       ]
      },
      {
       "output_type": "stream",
       "stream": "stdout",
       "text": [
        "\n",
        "37.21%"
       ]
      },
      {
       "output_type": "stream",
       "stream": "stdout",
       "text": [
        "\n",
        "37.28%"
       ]
      },
      {
       "output_type": "stream",
       "stream": "stdout",
       "text": [
        "\n",
        "37.35%"
       ]
      },
      {
       "output_type": "stream",
       "stream": "stdout",
       "text": [
        "\n",
        "37.41%"
       ]
      },
      {
       "output_type": "stream",
       "stream": "stdout",
       "text": [
        "\n",
        "37.48%"
       ]
      },
      {
       "output_type": "stream",
       "stream": "stdout",
       "text": [
        "\n",
        "37.55%"
       ]
      },
      {
       "output_type": "stream",
       "stream": "stdout",
       "text": [
        "\n",
        "37.62%"
       ]
      },
      {
       "output_type": "stream",
       "stream": "stdout",
       "text": [
        "\n",
        "37.69%"
       ]
      },
      {
       "output_type": "stream",
       "stream": "stdout",
       "text": [
        "\n",
        "37.76%"
       ]
      },
      {
       "output_type": "stream",
       "stream": "stdout",
       "text": [
        "\n",
        "37.82%"
       ]
      },
      {
       "output_type": "stream",
       "stream": "stdout",
       "text": [
        "\n",
        "37.89%"
       ]
      },
      {
       "output_type": "stream",
       "stream": "stdout",
       "text": [
        "\n",
        "37.96%"
       ]
      },
      {
       "output_type": "stream",
       "stream": "stdout",
       "text": [
        "\n",
        "38.03%"
       ]
      },
      {
       "output_type": "stream",
       "stream": "stdout",
       "text": [
        "\n",
        "38.10%"
       ]
      },
      {
       "output_type": "stream",
       "stream": "stdout",
       "text": [
        "\n",
        "38.17%"
       ]
      },
      {
       "output_type": "stream",
       "stream": "stdout",
       "text": [
        "\n",
        "38.24%"
       ]
      },
      {
       "output_type": "stream",
       "stream": "stdout",
       "text": [
        "\n",
        "38.30%"
       ]
      },
      {
       "output_type": "stream",
       "stream": "stdout",
       "text": [
        "\n",
        "38.37%"
       ]
      },
      {
       "output_type": "stream",
       "stream": "stdout",
       "text": [
        "\n",
        "38.44%"
       ]
      },
      {
       "output_type": "stream",
       "stream": "stdout",
       "text": [
        "\n",
        "38.51%"
       ]
      },
      {
       "output_type": "stream",
       "stream": "stdout",
       "text": [
        "\n",
        "38.58%"
       ]
      },
      {
       "output_type": "stream",
       "stream": "stdout",
       "text": [
        "\n",
        "38.65%"
       ]
      },
      {
       "output_type": "stream",
       "stream": "stdout",
       "text": [
        "\n",
        "38.71%"
       ]
      },
      {
       "output_type": "stream",
       "stream": "stdout",
       "text": [
        "\n",
        "38.78%"
       ]
      },
      {
       "output_type": "stream",
       "stream": "stdout",
       "text": [
        "\n",
        "38.85%"
       ]
      },
      {
       "output_type": "stream",
       "stream": "stdout",
       "text": [
        "\n",
        "38.92%"
       ]
      },
      {
       "output_type": "stream",
       "stream": "stdout",
       "text": [
        "\n",
        "38.99%"
       ]
      },
      {
       "output_type": "stream",
       "stream": "stdout",
       "text": [
        "\n",
        "39.06%"
       ]
      },
      {
       "output_type": "stream",
       "stream": "stdout",
       "text": [
        "\n",
        "39.12%"
       ]
      },
      {
       "output_type": "stream",
       "stream": "stdout",
       "text": [
        "\n",
        "39.19%"
       ]
      },
      {
       "output_type": "stream",
       "stream": "stdout",
       "text": [
        "\n",
        "39.26%"
       ]
      },
      {
       "output_type": "stream",
       "stream": "stdout",
       "text": [
        "\n",
        "39.33%"
       ]
      },
      {
       "output_type": "stream",
       "stream": "stdout",
       "text": [
        "\n",
        "39.40%"
       ]
      },
      {
       "output_type": "stream",
       "stream": "stdout",
       "text": [
        "\n",
        "39.47%"
       ]
      },
      {
       "output_type": "stream",
       "stream": "stdout",
       "text": [
        "\n",
        "39.53%"
       ]
      },
      {
       "output_type": "stream",
       "stream": "stdout",
       "text": [
        "\n",
        "39.60%"
       ]
      },
      {
       "output_type": "stream",
       "stream": "stdout",
       "text": [
        "\n",
        "39.67%"
       ]
      },
      {
       "output_type": "stream",
       "stream": "stdout",
       "text": [
        "\n",
        "39.74%"
       ]
      },
      {
       "output_type": "stream",
       "stream": "stdout",
       "text": [
        "\n",
        "39.81%"
       ]
      },
      {
       "output_type": "stream",
       "stream": "stdout",
       "text": [
        "\n",
        "39.88%"
       ]
      },
      {
       "output_type": "stream",
       "stream": "stdout",
       "text": [
        "\n",
        "39.95%"
       ]
      },
      {
       "output_type": "stream",
       "stream": "stdout",
       "text": [
        "\n",
        "40.01%"
       ]
      },
      {
       "output_type": "stream",
       "stream": "stdout",
       "text": [
        "\n",
        "40.08%"
       ]
      },
      {
       "output_type": "stream",
       "stream": "stdout",
       "text": [
        "\n",
        "40.15%"
       ]
      },
      {
       "output_type": "stream",
       "stream": "stdout",
       "text": [
        "\n",
        "40.22%"
       ]
      },
      {
       "output_type": "stream",
       "stream": "stdout",
       "text": [
        "\n",
        "40.29%"
       ]
      },
      {
       "output_type": "stream",
       "stream": "stdout",
       "text": [
        "\n",
        "40.36%"
       ]
      },
      {
       "output_type": "stream",
       "stream": "stdout",
       "text": [
        "\n",
        "40.42%"
       ]
      },
      {
       "output_type": "stream",
       "stream": "stdout",
       "text": [
        "\n",
        "40.49%"
       ]
      },
      {
       "output_type": "stream",
       "stream": "stdout",
       "text": [
        "\n",
        "40.56%"
       ]
      },
      {
       "output_type": "stream",
       "stream": "stdout",
       "text": [
        "\n",
        "40.63%"
       ]
      },
      {
       "output_type": "stream",
       "stream": "stdout",
       "text": [
        "\n",
        "40.70%"
       ]
      },
      {
       "output_type": "stream",
       "stream": "stdout",
       "text": [
        "\n",
        "40.77%"
       ]
      },
      {
       "output_type": "stream",
       "stream": "stdout",
       "text": [
        "\n",
        "40.83%"
       ]
      },
      {
       "output_type": "stream",
       "stream": "stdout",
       "text": [
        "\n",
        "40.90%"
       ]
      },
      {
       "output_type": "stream",
       "stream": "stdout",
       "text": [
        "\n",
        "40.97%"
       ]
      },
      {
       "output_type": "stream",
       "stream": "stdout",
       "text": [
        "\n",
        "41.04%"
       ]
      },
      {
       "output_type": "stream",
       "stream": "stdout",
       "text": [
        "\n",
        "41.11%"
       ]
      },
      {
       "output_type": "stream",
       "stream": "stdout",
       "text": [
        "\n",
        "41.18%"
       ]
      },
      {
       "output_type": "stream",
       "stream": "stdout",
       "text": [
        "\n",
        "41.24%"
       ]
      },
      {
       "output_type": "stream",
       "stream": "stdout",
       "text": [
        "\n",
        "41.31%"
       ]
      },
      {
       "output_type": "stream",
       "stream": "stdout",
       "text": [
        "\n",
        "41.38%"
       ]
      },
      {
       "output_type": "stream",
       "stream": "stdout",
       "text": [
        "\n",
        "41.45%"
       ]
      },
      {
       "output_type": "stream",
       "stream": "stdout",
       "text": [
        "\n",
        "41.52%"
       ]
      },
      {
       "output_type": "stream",
       "stream": "stdout",
       "text": [
        "\n",
        "41.59%"
       ]
      },
      {
       "output_type": "stream",
       "stream": "stdout",
       "text": [
        "\n",
        "41.66%"
       ]
      },
      {
       "output_type": "stream",
       "stream": "stdout",
       "text": [
        "\n",
        "41.72%"
       ]
      },
      {
       "output_type": "stream",
       "stream": "stdout",
       "text": [
        "\n",
        "41.79%"
       ]
      },
      {
       "output_type": "stream",
       "stream": "stdout",
       "text": [
        "\n",
        "41.86%"
       ]
      },
      {
       "output_type": "stream",
       "stream": "stdout",
       "text": [
        "\n",
        "41.93%"
       ]
      },
      {
       "output_type": "stream",
       "stream": "stdout",
       "text": [
        "\n",
        "42.00%"
       ]
      },
      {
       "output_type": "stream",
       "stream": "stdout",
       "text": [
        "\n",
        "42.07%"
       ]
      },
      {
       "output_type": "stream",
       "stream": "stdout",
       "text": [
        "\n",
        "42.13%"
       ]
      },
      {
       "output_type": "stream",
       "stream": "stdout",
       "text": [
        "\n",
        "42.20%"
       ]
      },
      {
       "output_type": "stream",
       "stream": "stdout",
       "text": [
        "\n",
        "42.27%"
       ]
      },
      {
       "output_type": "stream",
       "stream": "stdout",
       "text": [
        "\n",
        "42.34%"
       ]
      },
      {
       "output_type": "stream",
       "stream": "stdout",
       "text": [
        "\n",
        "42.41%"
       ]
      },
      {
       "output_type": "stream",
       "stream": "stdout",
       "text": [
        "\n",
        "42.48%"
       ]
      },
      {
       "output_type": "stream",
       "stream": "stdout",
       "text": [
        "\n",
        "42.54%"
       ]
      },
      {
       "output_type": "stream",
       "stream": "stdout",
       "text": [
        "\n",
        "42.61%"
       ]
      },
      {
       "output_type": "stream",
       "stream": "stdout",
       "text": [
        "\n",
        "42.68%"
       ]
      },
      {
       "output_type": "stream",
       "stream": "stdout",
       "text": [
        "\n",
        "42.75%"
       ]
      },
      {
       "output_type": "stream",
       "stream": "stdout",
       "text": [
        "\n",
        "42.82%"
       ]
      },
      {
       "output_type": "stream",
       "stream": "stdout",
       "text": [
        "\n",
        "42.89%"
       ]
      },
      {
       "output_type": "stream",
       "stream": "stdout",
       "text": [
        "\n",
        "42.95%"
       ]
      },
      {
       "output_type": "stream",
       "stream": "stdout",
       "text": [
        "\n",
        "43.02%"
       ]
      },
      {
       "output_type": "stream",
       "stream": "stdout",
       "text": [
        "\n",
        "43.09%"
       ]
      },
      {
       "output_type": "stream",
       "stream": "stdout",
       "text": [
        "\n",
        "43.16%"
       ]
      },
      {
       "output_type": "stream",
       "stream": "stdout",
       "text": [
        "\n",
        "43.23%"
       ]
      },
      {
       "output_type": "stream",
       "stream": "stdout",
       "text": [
        "\n",
        "43.30%"
       ]
      },
      {
       "output_type": "stream",
       "stream": "stdout",
       "text": [
        "\n",
        "43.37%"
       ]
      },
      {
       "output_type": "stream",
       "stream": "stdout",
       "text": [
        "\n",
        "43.43%"
       ]
      },
      {
       "output_type": "stream",
       "stream": "stdout",
       "text": [
        "\n",
        "43.50%"
       ]
      },
      {
       "output_type": "stream",
       "stream": "stdout",
       "text": [
        "\n",
        "43.57%"
       ]
      },
      {
       "output_type": "stream",
       "stream": "stdout",
       "text": [
        "\n",
        "43.64%"
       ]
      },
      {
       "output_type": "stream",
       "stream": "stdout",
       "text": [
        "\n",
        "43.71%"
       ]
      },
      {
       "output_type": "stream",
       "stream": "stdout",
       "text": [
        "\n",
        "43.78%"
       ]
      },
      {
       "output_type": "stream",
       "stream": "stdout",
       "text": [
        "\n",
        "43.84%"
       ]
      },
      {
       "output_type": "stream",
       "stream": "stdout",
       "text": [
        "\n",
        "43.91%"
       ]
      },
      {
       "output_type": "stream",
       "stream": "stdout",
       "text": [
        "\n",
        "43.98%"
       ]
      },
      {
       "output_type": "stream",
       "stream": "stdout",
       "text": [
        "\n",
        "44.05%"
       ]
      },
      {
       "output_type": "stream",
       "stream": "stdout",
       "text": [
        "\n",
        "44.12%"
       ]
      },
      {
       "output_type": "stream",
       "stream": "stdout",
       "text": [
        "\n",
        "44.19%"
       ]
      },
      {
       "output_type": "stream",
       "stream": "stdout",
       "text": [
        "\n",
        "44.25%"
       ]
      },
      {
       "output_type": "stream",
       "stream": "stdout",
       "text": [
        "\n",
        "44.32%"
       ]
      },
      {
       "output_type": "stream",
       "stream": "stdout",
       "text": [
        "\n",
        "44.39%"
       ]
      },
      {
       "output_type": "stream",
       "stream": "stdout",
       "text": [
        "\n",
        "44.46%"
       ]
      },
      {
       "output_type": "stream",
       "stream": "stdout",
       "text": [
        "\n",
        "44.53%"
       ]
      },
      {
       "output_type": "stream",
       "stream": "stdout",
       "text": [
        "\n",
        "44.60%"
       ]
      },
      {
       "output_type": "stream",
       "stream": "stdout",
       "text": [
        "\n",
        "44.66%"
       ]
      },
      {
       "output_type": "stream",
       "stream": "stdout",
       "text": [
        "\n",
        "44.73%"
       ]
      },
      {
       "output_type": "stream",
       "stream": "stdout",
       "text": [
        "\n",
        "44.80%"
       ]
      },
      {
       "output_type": "stream",
       "stream": "stdout",
       "text": [
        "\n",
        "44.87%"
       ]
      },
      {
       "output_type": "stream",
       "stream": "stdout",
       "text": [
        "\n",
        "44.94%"
       ]
      },
      {
       "output_type": "stream",
       "stream": "stdout",
       "text": [
        "\n",
        "45.01%"
       ]
      },
      {
       "output_type": "stream",
       "stream": "stdout",
       "text": [
        "\n",
        "45.08%"
       ]
      },
      {
       "output_type": "stream",
       "stream": "stdout",
       "text": [
        "\n",
        "45.14%"
       ]
      },
      {
       "output_type": "stream",
       "stream": "stdout",
       "text": [
        "\n",
        "45.21%"
       ]
      },
      {
       "output_type": "stream",
       "stream": "stdout",
       "text": [
        "\n",
        "45.28%"
       ]
      },
      {
       "output_type": "stream",
       "stream": "stdout",
       "text": [
        "\n",
        "45.35%"
       ]
      },
      {
       "output_type": "stream",
       "stream": "stdout",
       "text": [
        "\n",
        "45.42%"
       ]
      },
      {
       "output_type": "stream",
       "stream": "stdout",
       "text": [
        "\n",
        "45.49%"
       ]
      },
      {
       "output_type": "stream",
       "stream": "stdout",
       "text": [
        "\n",
        "45.55%"
       ]
      },
      {
       "output_type": "stream",
       "stream": "stdout",
       "text": [
        "\n",
        "45.62%"
       ]
      },
      {
       "output_type": "stream",
       "stream": "stdout",
       "text": [
        "\n",
        "45.69%"
       ]
      },
      {
       "output_type": "stream",
       "stream": "stdout",
       "text": [
        "\n",
        "45.76%"
       ]
      },
      {
       "output_type": "stream",
       "stream": "stdout",
       "text": [
        "\n",
        "45.83%"
       ]
      },
      {
       "output_type": "stream",
       "stream": "stdout",
       "text": [
        "\n",
        "45.90%"
       ]
      },
      {
       "output_type": "stream",
       "stream": "stdout",
       "text": [
        "\n",
        "45.96%"
       ]
      },
      {
       "output_type": "stream",
       "stream": "stdout",
       "text": [
        "\n",
        "46.03%"
       ]
      },
      {
       "output_type": "stream",
       "stream": "stdout",
       "text": [
        "\n",
        "46.10%"
       ]
      },
      {
       "output_type": "stream",
       "stream": "stdout",
       "text": [
        "\n",
        "46.17%"
       ]
      },
      {
       "output_type": "stream",
       "stream": "stdout",
       "text": [
        "\n",
        "46.24%"
       ]
      },
      {
       "output_type": "stream",
       "stream": "stdout",
       "text": [
        "\n",
        "46.31%"
       ]
      },
      {
       "output_type": "stream",
       "stream": "stdout",
       "text": [
        "\n",
        "46.37%"
       ]
      },
      {
       "output_type": "stream",
       "stream": "stdout",
       "text": [
        "\n",
        "46.44%"
       ]
      },
      {
       "output_type": "stream",
       "stream": "stdout",
       "text": [
        "\n",
        "46.51%"
       ]
      },
      {
       "output_type": "stream",
       "stream": "stdout",
       "text": [
        "\n",
        "46.58%"
       ]
      },
      {
       "output_type": "stream",
       "stream": "stdout",
       "text": [
        "\n",
        "46.65%"
       ]
      },
      {
       "output_type": "stream",
       "stream": "stdout",
       "text": [
        "\n",
        "46.72%"
       ]
      },
      {
       "output_type": "stream",
       "stream": "stdout",
       "text": [
        "\n",
        "46.79%"
       ]
      },
      {
       "output_type": "stream",
       "stream": "stdout",
       "text": [
        "\n",
        "46.85%"
       ]
      },
      {
       "output_type": "stream",
       "stream": "stdout",
       "text": [
        "\n",
        "46.92%"
       ]
      },
      {
       "output_type": "stream",
       "stream": "stdout",
       "text": [
        "\n",
        "46.99%"
       ]
      },
      {
       "output_type": "stream",
       "stream": "stdout",
       "text": [
        "\n",
        "47.06%"
       ]
      },
      {
       "output_type": "stream",
       "stream": "stdout",
       "text": [
        "\n",
        "47.13%"
       ]
      },
      {
       "output_type": "stream",
       "stream": "stdout",
       "text": [
        "\n",
        "47.20%"
       ]
      },
      {
       "output_type": "stream",
       "stream": "stdout",
       "text": [
        "\n",
        "47.26%"
       ]
      },
      {
       "output_type": "stream",
       "stream": "stdout",
       "text": [
        "\n",
        "47.33%"
       ]
      },
      {
       "output_type": "stream",
       "stream": "stdout",
       "text": [
        "\n",
        "47.40%"
       ]
      },
      {
       "output_type": "stream",
       "stream": "stdout",
       "text": [
        "\n",
        "47.47%"
       ]
      },
      {
       "output_type": "stream",
       "stream": "stdout",
       "text": [
        "\n",
        "47.54%"
       ]
      },
      {
       "output_type": "stream",
       "stream": "stdout",
       "text": [
        "\n",
        "47.61%"
       ]
      },
      {
       "output_type": "stream",
       "stream": "stdout",
       "text": [
        "\n",
        "47.67%"
       ]
      },
      {
       "output_type": "stream",
       "stream": "stdout",
       "text": [
        "\n",
        "47.74%"
       ]
      },
      {
       "output_type": "stream",
       "stream": "stdout",
       "text": [
        "\n",
        "47.81%"
       ]
      },
      {
       "output_type": "stream",
       "stream": "stdout",
       "text": [
        "\n",
        "47.88%"
       ]
      },
      {
       "output_type": "stream",
       "stream": "stdout",
       "text": [
        "\n",
        "47.95%"
       ]
      },
      {
       "output_type": "stream",
       "stream": "stdout",
       "text": [
        "\n",
        "48.02%"
       ]
      },
      {
       "output_type": "stream",
       "stream": "stdout",
       "text": [
        "\n",
        "48.08%"
       ]
      },
      {
       "output_type": "stream",
       "stream": "stdout",
       "text": [
        "\n",
        "48.15%"
       ]
      },
      {
       "output_type": "stream",
       "stream": "stdout",
       "text": [
        "\n",
        "48.22%"
       ]
      },
      {
       "output_type": "stream",
       "stream": "stdout",
       "text": [
        "\n",
        "48.29%"
       ]
      },
      {
       "output_type": "stream",
       "stream": "stdout",
       "text": [
        "\n",
        "48.36%"
       ]
      },
      {
       "output_type": "stream",
       "stream": "stdout",
       "text": [
        "\n",
        "48.43%"
       ]
      },
      {
       "output_type": "stream",
       "stream": "stdout",
       "text": [
        "\n",
        "48.50%"
       ]
      },
      {
       "output_type": "stream",
       "stream": "stdout",
       "text": [
        "\n",
        "48.56%"
       ]
      },
      {
       "output_type": "stream",
       "stream": "stdout",
       "text": [
        "\n",
        "48.63%"
       ]
      },
      {
       "output_type": "stream",
       "stream": "stdout",
       "text": [
        "\n",
        "48.70%"
       ]
      },
      {
       "output_type": "stream",
       "stream": "stdout",
       "text": [
        "\n",
        "48.77%"
       ]
      },
      {
       "output_type": "stream",
       "stream": "stdout",
       "text": [
        "\n",
        "48.84%"
       ]
      },
      {
       "output_type": "stream",
       "stream": "stdout",
       "text": [
        "\n",
        "48.91%"
       ]
      },
      {
       "output_type": "stream",
       "stream": "stdout",
       "text": [
        "\n",
        "48.97%"
       ]
      },
      {
       "output_type": "stream",
       "stream": "stdout",
       "text": [
        "\n",
        "49.04%"
       ]
      },
      {
       "output_type": "stream",
       "stream": "stdout",
       "text": [
        "\n",
        "49.11%"
       ]
      },
      {
       "output_type": "stream",
       "stream": "stdout",
       "text": [
        "\n",
        "49.18%"
       ]
      },
      {
       "output_type": "stream",
       "stream": "stdout",
       "text": [
        "\n",
        "49.25%"
       ]
      },
      {
       "output_type": "stream",
       "stream": "stdout",
       "text": [
        "\n",
        "49.32%"
       ]
      },
      {
       "output_type": "stream",
       "stream": "stdout",
       "text": [
        "\n",
        "49.38%"
       ]
      },
      {
       "output_type": "stream",
       "stream": "stdout",
       "text": [
        "\n",
        "49.45%"
       ]
      },
      {
       "output_type": "stream",
       "stream": "stdout",
       "text": [
        "\n",
        "49.52%"
       ]
      },
      {
       "output_type": "stream",
       "stream": "stdout",
       "text": [
        "\n",
        "49.59%"
       ]
      },
      {
       "output_type": "stream",
       "stream": "stdout",
       "text": [
        "\n",
        "49.66%"
       ]
      },
      {
       "output_type": "stream",
       "stream": "stdout",
       "text": [
        "\n",
        "49.73%"
       ]
      },
      {
       "output_type": "stream",
       "stream": "stdout",
       "text": [
        "\n",
        "49.79%"
       ]
      },
      {
       "output_type": "stream",
       "stream": "stdout",
       "text": [
        "\n",
        "49.86%"
       ]
      },
      {
       "output_type": "stream",
       "stream": "stdout",
       "text": [
        "\n",
        "49.93%"
       ]
      },
      {
       "output_type": "stream",
       "stream": "stdout",
       "text": [
        "\n",
        "50.00%"
       ]
      },
      {
       "output_type": "stream",
       "stream": "stdout",
       "text": [
        "\n",
        "50.07%"
       ]
      },
      {
       "output_type": "stream",
       "stream": "stdout",
       "text": [
        "\n",
        "50.14%"
       ]
      },
      {
       "output_type": "stream",
       "stream": "stdout",
       "text": [
        "\n",
        "50.21%"
       ]
      },
      {
       "output_type": "stream",
       "stream": "stdout",
       "text": [
        "\n",
        "50.27%"
       ]
      },
      {
       "output_type": "stream",
       "stream": "stdout",
       "text": [
        "\n",
        "50.34%"
       ]
      },
      {
       "output_type": "stream",
       "stream": "stdout",
       "text": [
        "\n",
        "50.41%"
       ]
      },
      {
       "output_type": "stream",
       "stream": "stdout",
       "text": [
        "\n",
        "50.48%"
       ]
      },
      {
       "output_type": "stream",
       "stream": "stdout",
       "text": [
        "\n",
        "50.55%"
       ]
      },
      {
       "output_type": "stream",
       "stream": "stdout",
       "text": [
        "\n",
        "50.62%"
       ]
      },
      {
       "output_type": "stream",
       "stream": "stdout",
       "text": [
        "\n",
        "50.68%"
       ]
      },
      {
       "output_type": "stream",
       "stream": "stdout",
       "text": [
        "\n",
        "50.75%"
       ]
      },
      {
       "output_type": "stream",
       "stream": "stdout",
       "text": [
        "\n",
        "50.82%"
       ]
      },
      {
       "output_type": "stream",
       "stream": "stdout",
       "text": [
        "\n",
        "50.89%"
       ]
      },
      {
       "output_type": "stream",
       "stream": "stdout",
       "text": [
        "\n",
        "50.96%"
       ]
      },
      {
       "output_type": "stream",
       "stream": "stdout",
       "text": [
        "\n",
        "51.03%"
       ]
      },
      {
       "output_type": "stream",
       "stream": "stdout",
       "text": [
        "\n",
        "51.09%"
       ]
      },
      {
       "output_type": "stream",
       "stream": "stdout",
       "text": [
        "\n",
        "51.16%"
       ]
      },
      {
       "output_type": "stream",
       "stream": "stdout",
       "text": [
        "\n",
        "51.23%"
       ]
      },
      {
       "output_type": "stream",
       "stream": "stdout",
       "text": [
        "\n",
        "51.30%"
       ]
      },
      {
       "output_type": "stream",
       "stream": "stdout",
       "text": [
        "\n",
        "51.37%"
       ]
      },
      {
       "output_type": "stream",
       "stream": "stdout",
       "text": [
        "\n",
        "51.44%"
       ]
      },
      {
       "output_type": "stream",
       "stream": "stdout",
       "text": [
        "\n",
        "51.50%"
       ]
      },
      {
       "output_type": "stream",
       "stream": "stdout",
       "text": [
        "\n",
        "51.57%"
       ]
      },
      {
       "output_type": "stream",
       "stream": "stdout",
       "text": [
        "\n",
        "51.64%"
       ]
      },
      {
       "output_type": "stream",
       "stream": "stdout",
       "text": [
        "\n",
        "51.71%"
       ]
      },
      {
       "output_type": "stream",
       "stream": "stdout",
       "text": [
        "\n",
        "51.78%"
       ]
      },
      {
       "output_type": "stream",
       "stream": "stdout",
       "text": [
        "\n",
        "51.85%"
       ]
      },
      {
       "output_type": "stream",
       "stream": "stdout",
       "text": [
        "\n",
        "51.92%"
       ]
      },
      {
       "output_type": "stream",
       "stream": "stdout",
       "text": [
        "\n",
        "51.98%"
       ]
      },
      {
       "output_type": "stream",
       "stream": "stdout",
       "text": [
        "\n",
        "52.05%"
       ]
      },
      {
       "output_type": "stream",
       "stream": "stdout",
       "text": [
        "\n",
        "52.12%"
       ]
      },
      {
       "output_type": "stream",
       "stream": "stdout",
       "text": [
        "\n",
        "52.19%"
       ]
      },
      {
       "output_type": "stream",
       "stream": "stdout",
       "text": [
        "\n",
        "52.26%"
       ]
      },
      {
       "output_type": "stream",
       "stream": "stdout",
       "text": [
        "\n",
        "52.33%"
       ]
      },
      {
       "output_type": "stream",
       "stream": "stdout",
       "text": [
        "\n",
        "52.39%"
       ]
      },
      {
       "output_type": "stream",
       "stream": "stdout",
       "text": [
        "\n",
        "52.46%"
       ]
      },
      {
       "output_type": "stream",
       "stream": "stdout",
       "text": [
        "\n",
        "52.53%"
       ]
      },
      {
       "output_type": "stream",
       "stream": "stdout",
       "text": [
        "\n",
        "52.60%"
       ]
      },
      {
       "output_type": "stream",
       "stream": "stdout",
       "text": [
        "\n",
        "52.67%"
       ]
      },
      {
       "output_type": "stream",
       "stream": "stdout",
       "text": [
        "\n",
        "52.74%"
       ]
      },
      {
       "output_type": "stream",
       "stream": "stdout",
       "text": [
        "\n",
        "52.80%"
       ]
      },
      {
       "output_type": "stream",
       "stream": "stdout",
       "text": [
        "\n",
        "52.87%"
       ]
      },
      {
       "output_type": "stream",
       "stream": "stdout",
       "text": [
        "\n",
        "52.94%"
       ]
      },
      {
       "output_type": "stream",
       "stream": "stdout",
       "text": [
        "\n",
        "53.01%"
       ]
      },
      {
       "output_type": "stream",
       "stream": "stdout",
       "text": [
        "\n",
        "53.08%"
       ]
      },
      {
       "output_type": "stream",
       "stream": "stdout",
       "text": [
        "\n",
        "53.15%"
       ]
      },
      {
       "output_type": "stream",
       "stream": "stdout",
       "text": [
        "\n",
        "53.21%"
       ]
      },
      {
       "output_type": "stream",
       "stream": "stdout",
       "text": [
        "\n",
        "53.28%"
       ]
      },
      {
       "output_type": "stream",
       "stream": "stdout",
       "text": [
        "\n",
        "53.35%"
       ]
      },
      {
       "output_type": "stream",
       "stream": "stdout",
       "text": [
        "\n",
        "53.42%"
       ]
      },
      {
       "output_type": "stream",
       "stream": "stdout",
       "text": [
        "\n",
        "53.49%"
       ]
      },
      {
       "output_type": "stream",
       "stream": "stdout",
       "text": [
        "\n",
        "53.56%"
       ]
      },
      {
       "output_type": "stream",
       "stream": "stdout",
       "text": [
        "\n",
        "53.63%"
       ]
      },
      {
       "output_type": "stream",
       "stream": "stdout",
       "text": [
        "\n",
        "53.69%"
       ]
      },
      {
       "output_type": "stream",
       "stream": "stdout",
       "text": [
        "\n",
        "53.76%"
       ]
      },
      {
       "output_type": "stream",
       "stream": "stdout",
       "text": [
        "\n",
        "53.83%"
       ]
      },
      {
       "output_type": "stream",
       "stream": "stdout",
       "text": [
        "\n",
        "53.90%"
       ]
      },
      {
       "output_type": "stream",
       "stream": "stdout",
       "text": [
        "\n",
        "53.97%"
       ]
      },
      {
       "output_type": "stream",
       "stream": "stdout",
       "text": [
        "\n",
        "54.04%"
       ]
      },
      {
       "output_type": "stream",
       "stream": "stdout",
       "text": [
        "\n",
        "54.10%"
       ]
      },
      {
       "output_type": "stream",
       "stream": "stdout",
       "text": [
        "\n",
        "54.17%"
       ]
      },
      {
       "output_type": "stream",
       "stream": "stdout",
       "text": [
        "\n",
        "54.24%"
       ]
      },
      {
       "output_type": "stream",
       "stream": "stdout",
       "text": [
        "\n",
        "54.31%"
       ]
      },
      {
       "output_type": "stream",
       "stream": "stdout",
       "text": [
        "\n",
        "54.38%"
       ]
      },
      {
       "output_type": "stream",
       "stream": "stdout",
       "text": [
        "\n",
        "54.45%"
       ]
      },
      {
       "output_type": "stream",
       "stream": "stdout",
       "text": [
        "\n",
        "54.51%"
       ]
      },
      {
       "output_type": "stream",
       "stream": "stdout",
       "text": [
        "\n",
        "54.58%"
       ]
      },
      {
       "output_type": "stream",
       "stream": "stdout",
       "text": [
        "\n",
        "54.65%"
       ]
      },
      {
       "output_type": "stream",
       "stream": "stdout",
       "text": [
        "\n",
        "54.72%"
       ]
      },
      {
       "output_type": "stream",
       "stream": "stdout",
       "text": [
        "\n",
        "54.79%"
       ]
      },
      {
       "output_type": "stream",
       "stream": "stdout",
       "text": [
        "\n",
        "54.86%"
       ]
      },
      {
       "output_type": "stream",
       "stream": "stdout",
       "text": [
        "\n",
        "54.92%"
       ]
      },
      {
       "output_type": "stream",
       "stream": "stdout",
       "text": [
        "\n",
        "54.99%"
       ]
      },
      {
       "output_type": "stream",
       "stream": "stdout",
       "text": [
        "\n",
        "55.06%"
       ]
      },
      {
       "output_type": "stream",
       "stream": "stdout",
       "text": [
        "\n",
        "55.13%"
       ]
      },
      {
       "output_type": "stream",
       "stream": "stdout",
       "text": [
        "\n",
        "55.20%"
       ]
      },
      {
       "output_type": "stream",
       "stream": "stdout",
       "text": [
        "\n",
        "55.27%"
       ]
      },
      {
       "output_type": "stream",
       "stream": "stdout",
       "text": [
        "\n",
        "55.34%"
       ]
      },
      {
       "output_type": "stream",
       "stream": "stdout",
       "text": [
        "\n",
        "55.40%"
       ]
      },
      {
       "output_type": "stream",
       "stream": "stdout",
       "text": [
        "\n",
        "55.47%"
       ]
      },
      {
       "output_type": "stream",
       "stream": "stdout",
       "text": [
        "\n",
        "55.54%"
       ]
      },
      {
       "output_type": "stream",
       "stream": "stdout",
       "text": [
        "\n",
        "55.61%"
       ]
      },
      {
       "output_type": "stream",
       "stream": "stdout",
       "text": [
        "\n",
        "55.68%"
       ]
      },
      {
       "output_type": "stream",
       "stream": "stdout",
       "text": [
        "\n",
        "55.75%"
       ]
      },
      {
       "output_type": "stream",
       "stream": "stdout",
       "text": [
        "\n",
        "55.81%"
       ]
      },
      {
       "output_type": "stream",
       "stream": "stdout",
       "text": [
        "\n",
        "55.88%"
       ]
      },
      {
       "output_type": "stream",
       "stream": "stdout",
       "text": [
        "\n",
        "55.95%"
       ]
      },
      {
       "output_type": "stream",
       "stream": "stdout",
       "text": [
        "\n",
        "56.02%"
       ]
      },
      {
       "output_type": "stream",
       "stream": "stdout",
       "text": [
        "\n",
        "56.09%"
       ]
      },
      {
       "output_type": "stream",
       "stream": "stdout",
       "text": [
        "\n",
        "56.16%"
       ]
      },
      {
       "output_type": "stream",
       "stream": "stdout",
       "text": [
        "\n",
        "56.22%"
       ]
      },
      {
       "output_type": "stream",
       "stream": "stdout",
       "text": [
        "\n",
        "56.29%"
       ]
      },
      {
       "output_type": "stream",
       "stream": "stdout",
       "text": [
        "\n",
        "56.36%"
       ]
      },
      {
       "output_type": "stream",
       "stream": "stdout",
       "text": [
        "\n",
        "56.43%"
       ]
      },
      {
       "output_type": "stream",
       "stream": "stdout",
       "text": [
        "\n",
        "56.50%"
       ]
      },
      {
       "output_type": "stream",
       "stream": "stdout",
       "text": [
        "\n",
        "56.57%"
       ]
      },
      {
       "output_type": "stream",
       "stream": "stdout",
       "text": [
        "\n",
        "56.63%"
       ]
      },
      {
       "output_type": "stream",
       "stream": "stdout",
       "text": [
        "\n",
        "56.70%"
       ]
      },
      {
       "output_type": "stream",
       "stream": "stdout",
       "text": [
        "\n",
        "56.77%"
       ]
      },
      {
       "output_type": "stream",
       "stream": "stdout",
       "text": [
        "\n",
        "56.84%"
       ]
      },
      {
       "output_type": "stream",
       "stream": "stdout",
       "text": [
        "\n",
        "56.91%"
       ]
      },
      {
       "output_type": "stream",
       "stream": "stdout",
       "text": [
        "\n",
        "56.98%"
       ]
      },
      {
       "output_type": "stream",
       "stream": "stdout",
       "text": [
        "\n",
        "57.05%"
       ]
      },
      {
       "output_type": "stream",
       "stream": "stdout",
       "text": [
        "\n",
        "57.11%"
       ]
      },
      {
       "output_type": "stream",
       "stream": "stdout",
       "text": [
        "\n",
        "57.18%"
       ]
      },
      {
       "output_type": "stream",
       "stream": "stdout",
       "text": [
        "\n",
        "57.25%"
       ]
      },
      {
       "output_type": "stream",
       "stream": "stdout",
       "text": [
        "\n",
        "57.32%"
       ]
      },
      {
       "output_type": "stream",
       "stream": "stdout",
       "text": [
        "\n",
        "57.39%"
       ]
      },
      {
       "output_type": "stream",
       "stream": "stdout",
       "text": [
        "\n",
        "57.46%"
       ]
      },
      {
       "output_type": "stream",
       "stream": "stdout",
       "text": [
        "\n",
        "57.52%"
       ]
      },
      {
       "output_type": "stream",
       "stream": "stdout",
       "text": [
        "\n",
        "57.59%"
       ]
      },
      {
       "output_type": "stream",
       "stream": "stdout",
       "text": [
        "\n",
        "57.66%"
       ]
      },
      {
       "output_type": "stream",
       "stream": "stdout",
       "text": [
        "\n",
        "57.73%"
       ]
      },
      {
       "output_type": "stream",
       "stream": "stdout",
       "text": [
        "\n",
        "57.80%"
       ]
      },
      {
       "output_type": "stream",
       "stream": "stdout",
       "text": [
        "\n",
        "57.87%"
       ]
      },
      {
       "output_type": "stream",
       "stream": "stdout",
       "text": [
        "\n",
        "57.93%"
       ]
      },
      {
       "output_type": "stream",
       "stream": "stdout",
       "text": [
        "\n",
        "58.00%"
       ]
      },
      {
       "output_type": "stream",
       "stream": "stdout",
       "text": [
        "\n",
        "58.07%"
       ]
      },
      {
       "output_type": "stream",
       "stream": "stdout",
       "text": [
        "\n",
        "58.14%"
       ]
      },
      {
       "output_type": "stream",
       "stream": "stdout",
       "text": [
        "\n",
        "58.21%"
       ]
      },
      {
       "output_type": "stream",
       "stream": "stdout",
       "text": [
        "\n",
        "58.28%"
       ]
      },
      {
       "output_type": "stream",
       "stream": "stdout",
       "text": [
        "\n",
        "58.34%"
       ]
      },
      {
       "output_type": "stream",
       "stream": "stdout",
       "text": [
        "\n",
        "58.41%"
       ]
      },
      {
       "output_type": "stream",
       "stream": "stdout",
       "text": [
        "\n",
        "58.48%"
       ]
      },
      {
       "output_type": "stream",
       "stream": "stdout",
       "text": [
        "\n",
        "58.55%"
       ]
      },
      {
       "output_type": "stream",
       "stream": "stdout",
       "text": [
        "\n",
        "58.62%"
       ]
      },
      {
       "output_type": "stream",
       "stream": "stdout",
       "text": [
        "\n",
        "58.69%"
       ]
      },
      {
       "output_type": "stream",
       "stream": "stdout",
       "text": [
        "\n",
        "58.76%"
       ]
      },
      {
       "output_type": "stream",
       "stream": "stdout",
       "text": [
        "\n",
        "58.82%"
       ]
      },
      {
       "output_type": "stream",
       "stream": "stdout",
       "text": [
        "\n",
        "58.89%"
       ]
      },
      {
       "output_type": "stream",
       "stream": "stdout",
       "text": [
        "\n",
        "58.96%"
       ]
      },
      {
       "output_type": "stream",
       "stream": "stdout",
       "text": [
        "\n",
        "59.03%"
       ]
      },
      {
       "output_type": "stream",
       "stream": "stdout",
       "text": [
        "\n",
        "59.10%"
       ]
      },
      {
       "output_type": "stream",
       "stream": "stdout",
       "text": [
        "\n",
        "59.17%"
       ]
      },
      {
       "output_type": "stream",
       "stream": "stdout",
       "text": [
        "\n",
        "59.23%"
       ]
      },
      {
       "output_type": "stream",
       "stream": "stdout",
       "text": [
        "\n",
        "59.30%"
       ]
      },
      {
       "output_type": "stream",
       "stream": "stdout",
       "text": [
        "\n",
        "59.37%"
       ]
      },
      {
       "output_type": "stream",
       "stream": "stdout",
       "text": [
        "\n",
        "59.44%"
       ]
      },
      {
       "output_type": "stream",
       "stream": "stdout",
       "text": [
        "\n",
        "59.51%"
       ]
      },
      {
       "output_type": "stream",
       "stream": "stdout",
       "text": [
        "\n",
        "59.58%"
       ]
      },
      {
       "output_type": "stream",
       "stream": "stdout",
       "text": [
        "\n",
        "59.64%"
       ]
      },
      {
       "output_type": "stream",
       "stream": "stdout",
       "text": [
        "\n",
        "59.71%"
       ]
      },
      {
       "output_type": "stream",
       "stream": "stdout",
       "text": [
        "\n",
        "59.78%"
       ]
      },
      {
       "output_type": "stream",
       "stream": "stdout",
       "text": [
        "\n",
        "59.85%"
       ]
      },
      {
       "output_type": "stream",
       "stream": "stdout",
       "text": [
        "\n",
        "59.92%"
       ]
      },
      {
       "output_type": "stream",
       "stream": "stdout",
       "text": [
        "\n",
        "59.99%"
       ]
      },
      {
       "output_type": "stream",
       "stream": "stdout",
       "text": [
        "\n",
        "60.05%"
       ]
      },
      {
       "output_type": "stream",
       "stream": "stdout",
       "text": [
        "\n",
        "60.12%"
       ]
      },
      {
       "output_type": "stream",
       "stream": "stdout",
       "text": [
        "\n",
        "60.19%"
       ]
      },
      {
       "output_type": "stream",
       "stream": "stdout",
       "text": [
        "\n",
        "60.26%"
       ]
      },
      {
       "output_type": "stream",
       "stream": "stdout",
       "text": [
        "\n",
        "60.33%"
       ]
      },
      {
       "output_type": "stream",
       "stream": "stdout",
       "text": [
        "\n",
        "60.40%"
       ]
      },
      {
       "output_type": "stream",
       "stream": "stdout",
       "text": [
        "\n",
        "60.47%"
       ]
      },
      {
       "output_type": "stream",
       "stream": "stdout",
       "text": [
        "\n",
        "60.53%"
       ]
      },
      {
       "output_type": "stream",
       "stream": "stdout",
       "text": [
        "\n",
        "60.60%"
       ]
      },
      {
       "output_type": "stream",
       "stream": "stdout",
       "text": [
        "\n",
        "60.67%"
       ]
      },
      {
       "output_type": "stream",
       "stream": "stdout",
       "text": [
        "\n",
        "60.74%"
       ]
      },
      {
       "output_type": "stream",
       "stream": "stdout",
       "text": [
        "\n",
        "60.81%"
       ]
      },
      {
       "output_type": "stream",
       "stream": "stdout",
       "text": [
        "\n",
        "60.88%"
       ]
      },
      {
       "output_type": "stream",
       "stream": "stdout",
       "text": [
        "\n",
        "60.94%"
       ]
      },
      {
       "output_type": "stream",
       "stream": "stdout",
       "text": [
        "\n",
        "61.01%"
       ]
      },
      {
       "output_type": "stream",
       "stream": "stdout",
       "text": [
        "\n",
        "61.08%"
       ]
      },
      {
       "output_type": "stream",
       "stream": "stdout",
       "text": [
        "\n",
        "61.15%"
       ]
      },
      {
       "output_type": "stream",
       "stream": "stdout",
       "text": [
        "\n",
        "61.22%"
       ]
      },
      {
       "output_type": "stream",
       "stream": "stdout",
       "text": [
        "\n",
        "61.29%"
       ]
      },
      {
       "output_type": "stream",
       "stream": "stdout",
       "text": [
        "\n",
        "61.35%"
       ]
      },
      {
       "output_type": "stream",
       "stream": "stdout",
       "text": [
        "\n",
        "61.42%"
       ]
      },
      {
       "output_type": "stream",
       "stream": "stdout",
       "text": [
        "\n",
        "61.49%"
       ]
      },
      {
       "output_type": "stream",
       "stream": "stdout",
       "text": [
        "\n",
        "61.56%"
       ]
      },
      {
       "output_type": "stream",
       "stream": "stdout",
       "text": [
        "\n",
        "61.63%"
       ]
      },
      {
       "output_type": "stream",
       "stream": "stdout",
       "text": [
        "\n",
        "61.70%"
       ]
      },
      {
       "output_type": "stream",
       "stream": "stdout",
       "text": [
        "\n",
        "61.76%"
       ]
      },
      {
       "output_type": "stream",
       "stream": "stdout",
       "text": [
        "\n",
        "61.83%"
       ]
      },
      {
       "output_type": "stream",
       "stream": "stdout",
       "text": [
        "\n",
        "61.90%"
       ]
      },
      {
       "output_type": "stream",
       "stream": "stdout",
       "text": [
        "\n",
        "61.97%"
       ]
      },
      {
       "output_type": "stream",
       "stream": "stdout",
       "text": [
        "\n",
        "62.04%"
       ]
      },
      {
       "output_type": "stream",
       "stream": "stdout",
       "text": [
        "\n",
        "62.11%"
       ]
      },
      {
       "output_type": "stream",
       "stream": "stdout",
       "text": [
        "\n",
        "62.18%"
       ]
      },
      {
       "output_type": "stream",
       "stream": "stdout",
       "text": [
        "\n",
        "62.24%"
       ]
      },
      {
       "output_type": "stream",
       "stream": "stdout",
       "text": [
        "\n",
        "62.31%"
       ]
      },
      {
       "output_type": "stream",
       "stream": "stdout",
       "text": [
        "\n",
        "62.38%"
       ]
      },
      {
       "output_type": "stream",
       "stream": "stdout",
       "text": [
        "\n",
        "62.45%"
       ]
      },
      {
       "output_type": "stream",
       "stream": "stdout",
       "text": [
        "\n",
        "62.52%"
       ]
      },
      {
       "output_type": "stream",
       "stream": "stdout",
       "text": [
        "\n",
        "62.59%"
       ]
      },
      {
       "output_type": "stream",
       "stream": "stdout",
       "text": [
        "\n",
        "62.65%"
       ]
      },
      {
       "output_type": "stream",
       "stream": "stdout",
       "text": [
        "\n",
        "62.72%"
       ]
      },
      {
       "output_type": "stream",
       "stream": "stdout",
       "text": [
        "\n",
        "62.79%"
       ]
      },
      {
       "output_type": "stream",
       "stream": "stdout",
       "text": [
        "\n",
        "62.86%"
       ]
      },
      {
       "output_type": "stream",
       "stream": "stdout",
       "text": [
        "\n",
        "62.93%"
       ]
      },
      {
       "output_type": "stream",
       "stream": "stdout",
       "text": [
        "\n",
        "63.00%"
       ]
      },
      {
       "output_type": "stream",
       "stream": "stdout",
       "text": [
        "\n",
        "63.06%"
       ]
      },
      {
       "output_type": "stream",
       "stream": "stdout",
       "text": [
        "\n",
        "63.13%"
       ]
      },
      {
       "output_type": "stream",
       "stream": "stdout",
       "text": [
        "\n",
        "63.20%"
       ]
      },
      {
       "output_type": "stream",
       "stream": "stdout",
       "text": [
        "\n",
        "63.27%"
       ]
      },
      {
       "output_type": "stream",
       "stream": "stdout",
       "text": [
        "\n",
        "63.34%"
       ]
      },
      {
       "output_type": "stream",
       "stream": "stdout",
       "text": [
        "\n",
        "63.41%"
       ]
      },
      {
       "output_type": "stream",
       "stream": "stdout",
       "text": [
        "\n",
        "63.47%"
       ]
      },
      {
       "output_type": "stream",
       "stream": "stdout",
       "text": [
        "\n",
        "63.54%"
       ]
      },
      {
       "output_type": "stream",
       "stream": "stdout",
       "text": [
        "\n",
        "63.61%"
       ]
      },
      {
       "output_type": "stream",
       "stream": "stdout",
       "text": [
        "\n",
        "63.68%"
       ]
      },
      {
       "output_type": "stream",
       "stream": "stdout",
       "text": [
        "\n",
        "63.75%"
       ]
      },
      {
       "output_type": "stream",
       "stream": "stdout",
       "text": [
        "\n",
        "63.82%"
       ]
      },
      {
       "output_type": "stream",
       "stream": "stdout",
       "text": [
        "\n",
        "63.89%"
       ]
      },
      {
       "output_type": "stream",
       "stream": "stdout",
       "text": [
        "\n",
        "63.95%"
       ]
      },
      {
       "output_type": "stream",
       "stream": "stdout",
       "text": [
        "\n",
        "64.02%"
       ]
      },
      {
       "output_type": "stream",
       "stream": "stdout",
       "text": [
        "\n",
        "64.09%"
       ]
      },
      {
       "output_type": "stream",
       "stream": "stdout",
       "text": [
        "\n",
        "64.16%"
       ]
      },
      {
       "output_type": "stream",
       "stream": "stdout",
       "text": [
        "\n",
        "64.23%"
       ]
      },
      {
       "output_type": "stream",
       "stream": "stdout",
       "text": [
        "\n",
        "64.30%"
       ]
      },
      {
       "output_type": "stream",
       "stream": "stdout",
       "text": [
        "\n",
        "64.36%"
       ]
      },
      {
       "output_type": "stream",
       "stream": "stdout",
       "text": [
        "\n",
        "64.43%"
       ]
      },
      {
       "output_type": "stream",
       "stream": "stdout",
       "text": [
        "\n",
        "64.50%"
       ]
      },
      {
       "output_type": "stream",
       "stream": "stdout",
       "text": [
        "\n",
        "64.57%"
       ]
      },
      {
       "output_type": "stream",
       "stream": "stdout",
       "text": [
        "\n",
        "64.64%"
       ]
      },
      {
       "output_type": "stream",
       "stream": "stdout",
       "text": [
        "\n",
        "64.71%"
       ]
      },
      {
       "output_type": "stream",
       "stream": "stdout",
       "text": [
        "\n",
        "64.77%"
       ]
      },
      {
       "output_type": "stream",
       "stream": "stdout",
       "text": [
        "\n",
        "64.84%"
       ]
      },
      {
       "output_type": "stream",
       "stream": "stdout",
       "text": [
        "\n",
        "64.91%"
       ]
      },
      {
       "output_type": "stream",
       "stream": "stdout",
       "text": [
        "\n",
        "64.98%"
       ]
      },
      {
       "output_type": "stream",
       "stream": "stdout",
       "text": [
        "\n",
        "65.05%"
       ]
      },
      {
       "output_type": "stream",
       "stream": "stdout",
       "text": [
        "\n",
        "65.12%"
       ]
      },
      {
       "output_type": "stream",
       "stream": "stdout",
       "text": [
        "\n",
        "65.18%"
       ]
      },
      {
       "output_type": "stream",
       "stream": "stdout",
       "text": [
        "\n",
        "65.25%"
       ]
      },
      {
       "output_type": "stream",
       "stream": "stdout",
       "text": [
        "\n",
        "65.32%"
       ]
      },
      {
       "output_type": "stream",
       "stream": "stdout",
       "text": [
        "\n",
        "65.39%"
       ]
      },
      {
       "output_type": "stream",
       "stream": "stdout",
       "text": [
        "\n",
        "65.46%"
       ]
      },
      {
       "output_type": "stream",
       "stream": "stdout",
       "text": [
        "\n",
        "65.53%"
       ]
      },
      {
       "output_type": "stream",
       "stream": "stdout",
       "text": [
        "\n",
        "65.60%"
       ]
      },
      {
       "output_type": "stream",
       "stream": "stdout",
       "text": [
        "\n",
        "65.66%"
       ]
      },
      {
       "output_type": "stream",
       "stream": "stdout",
       "text": [
        "\n",
        "65.73%"
       ]
      },
      {
       "output_type": "stream",
       "stream": "stdout",
       "text": [
        "\n",
        "65.80%"
       ]
      },
      {
       "output_type": "stream",
       "stream": "stdout",
       "text": [
        "\n",
        "65.87%"
       ]
      },
      {
       "output_type": "stream",
       "stream": "stdout",
       "text": [
        "\n",
        "65.94%"
       ]
      },
      {
       "output_type": "stream",
       "stream": "stdout",
       "text": [
        "\n",
        "66.01%"
       ]
      },
      {
       "output_type": "stream",
       "stream": "stdout",
       "text": [
        "\n",
        "66.07%"
       ]
      },
      {
       "output_type": "stream",
       "stream": "stdout",
       "text": [
        "\n",
        "66.14%"
       ]
      },
      {
       "output_type": "stream",
       "stream": "stdout",
       "text": [
        "\n",
        "66.21%"
       ]
      },
      {
       "output_type": "stream",
       "stream": "stdout",
       "text": [
        "\n",
        "66.28%"
       ]
      },
      {
       "output_type": "stream",
       "stream": "stdout",
       "text": [
        "\n",
        "66.35%"
       ]
      },
      {
       "output_type": "stream",
       "stream": "stdout",
       "text": [
        "\n",
        "66.42%"
       ]
      },
      {
       "output_type": "stream",
       "stream": "stdout",
       "text": [
        "\n",
        "66.48%"
       ]
      },
      {
       "output_type": "stream",
       "stream": "stdout",
       "text": [
        "\n",
        "66.55%"
       ]
      },
      {
       "output_type": "stream",
       "stream": "stdout",
       "text": [
        "\n",
        "66.62%"
       ]
      },
      {
       "output_type": "stream",
       "stream": "stdout",
       "text": [
        "\n",
        "66.69%"
       ]
      },
      {
       "output_type": "stream",
       "stream": "stdout",
       "text": [
        "\n",
        "66.76%"
       ]
      },
      {
       "output_type": "stream",
       "stream": "stdout",
       "text": [
        "\n",
        "66.83%"
       ]
      },
      {
       "output_type": "stream",
       "stream": "stdout",
       "text": [
        "\n",
        "66.89%"
       ]
      },
      {
       "output_type": "stream",
       "stream": "stdout",
       "text": [
        "\n",
        "66.96%"
       ]
      },
      {
       "output_type": "stream",
       "stream": "stdout",
       "text": [
        "\n",
        "67.03%"
       ]
      },
      {
       "output_type": "stream",
       "stream": "stdout",
       "text": [
        "\n",
        "67.10%"
       ]
      },
      {
       "output_type": "stream",
       "stream": "stdout",
       "text": [
        "\n",
        "67.17%"
       ]
      },
      {
       "output_type": "stream",
       "stream": "stdout",
       "text": [
        "\n",
        "67.24%"
       ]
      },
      {
       "output_type": "stream",
       "stream": "stdout",
       "text": [
        "\n",
        "67.31%"
       ]
      },
      {
       "output_type": "stream",
       "stream": "stdout",
       "text": [
        "\n",
        "67.37%"
       ]
      },
      {
       "output_type": "stream",
       "stream": "stdout",
       "text": [
        "\n",
        "67.44%"
       ]
      },
      {
       "output_type": "stream",
       "stream": "stdout",
       "text": [
        "\n",
        "67.51%"
       ]
      },
      {
       "output_type": "stream",
       "stream": "stdout",
       "text": [
        "\n",
        "67.58%"
       ]
      },
      {
       "output_type": "stream",
       "stream": "stdout",
       "text": [
        "\n",
        "67.65%"
       ]
      },
      {
       "output_type": "stream",
       "stream": "stdout",
       "text": [
        "\n",
        "67.72%"
       ]
      },
      {
       "output_type": "stream",
       "stream": "stdout",
       "text": [
        "\n",
        "67.78%"
       ]
      },
      {
       "output_type": "stream",
       "stream": "stdout",
       "text": [
        "\n",
        "67.85%"
       ]
      },
      {
       "output_type": "stream",
       "stream": "stdout",
       "text": [
        "\n",
        "67.92%"
       ]
      },
      {
       "output_type": "stream",
       "stream": "stdout",
       "text": [
        "\n",
        "67.99%"
       ]
      },
      {
       "output_type": "stream",
       "stream": "stdout",
       "text": [
        "\n",
        "68.06%"
       ]
      },
      {
       "output_type": "stream",
       "stream": "stdout",
       "text": [
        "\n",
        "68.13%"
       ]
      },
      {
       "output_type": "stream",
       "stream": "stdout",
       "text": [
        "\n",
        "68.19%"
       ]
      },
      {
       "output_type": "stream",
       "stream": "stdout",
       "text": [
        "\n",
        "68.26%"
       ]
      },
      {
       "output_type": "stream",
       "stream": "stdout",
       "text": [
        "\n",
        "68.33%"
       ]
      },
      {
       "output_type": "stream",
       "stream": "stdout",
       "text": [
        "\n",
        "68.40%"
       ]
      },
      {
       "output_type": "stream",
       "stream": "stdout",
       "text": [
        "\n",
        "68.47%"
       ]
      },
      {
       "output_type": "stream",
       "stream": "stdout",
       "text": [
        "\n",
        "68.54%"
       ]
      },
      {
       "output_type": "stream",
       "stream": "stdout",
       "text": [
        "\n",
        "68.60%"
       ]
      },
      {
       "output_type": "stream",
       "stream": "stdout",
       "text": [
        "\n",
        "68.67%"
       ]
      },
      {
       "output_type": "stream",
       "stream": "stdout",
       "text": [
        "\n",
        "68.74%"
       ]
      },
      {
       "output_type": "stream",
       "stream": "stdout",
       "text": [
        "\n",
        "68.81%"
       ]
      },
      {
       "output_type": "stream",
       "stream": "stdout",
       "text": [
        "\n",
        "68.88%"
       ]
      },
      {
       "output_type": "stream",
       "stream": "stdout",
       "text": [
        "\n",
        "68.95%"
       ]
      },
      {
       "output_type": "stream",
       "stream": "stdout",
       "text": [
        "\n",
        "69.02%"
       ]
      },
      {
       "output_type": "stream",
       "stream": "stdout",
       "text": [
        "\n",
        "69.08%"
       ]
      },
      {
       "output_type": "stream",
       "stream": "stdout",
       "text": [
        "\n",
        "69.15%"
       ]
      },
      {
       "output_type": "stream",
       "stream": "stdout",
       "text": [
        "\n",
        "69.22%"
       ]
      },
      {
       "output_type": "stream",
       "stream": "stdout",
       "text": [
        "\n",
        "69.29%"
       ]
      },
      {
       "output_type": "stream",
       "stream": "stdout",
       "text": [
        "\n",
        "69.36%"
       ]
      },
      {
       "output_type": "stream",
       "stream": "stdout",
       "text": [
        "\n",
        "69.43%"
       ]
      },
      {
       "output_type": "stream",
       "stream": "stdout",
       "text": [
        "\n",
        "69.49%"
       ]
      },
      {
       "output_type": "stream",
       "stream": "stdout",
       "text": [
        "\n",
        "69.56%"
       ]
      },
      {
       "output_type": "stream",
       "stream": "stdout",
       "text": [
        "\n",
        "69.63%"
       ]
      },
      {
       "output_type": "stream",
       "stream": "stdout",
       "text": [
        "\n",
        "69.70%"
       ]
      },
      {
       "output_type": "stream",
       "stream": "stdout",
       "text": [
        "\n",
        "69.77%"
       ]
      },
      {
       "output_type": "stream",
       "stream": "stdout",
       "text": [
        "\n",
        "69.84%"
       ]
      },
      {
       "output_type": "stream",
       "stream": "stdout",
       "text": [
        "\n",
        "69.90%"
       ]
      },
      {
       "output_type": "stream",
       "stream": "stdout",
       "text": [
        "\n",
        "69.97%"
       ]
      },
      {
       "output_type": "stream",
       "stream": "stdout",
       "text": [
        "\n",
        "70.04%"
       ]
      },
      {
       "output_type": "stream",
       "stream": "stdout",
       "text": [
        "\n",
        "70.11%"
       ]
      },
      {
       "output_type": "stream",
       "stream": "stdout",
       "text": [
        "\n",
        "70.18%"
       ]
      },
      {
       "output_type": "stream",
       "stream": "stdout",
       "text": [
        "\n",
        "70.25%"
       ]
      },
      {
       "output_type": "stream",
       "stream": "stdout",
       "text": [
        "\n",
        "70.31%"
       ]
      },
      {
       "output_type": "stream",
       "stream": "stdout",
       "text": [
        "\n",
        "70.38%"
       ]
      },
      {
       "output_type": "stream",
       "stream": "stdout",
       "text": [
        "\n",
        "70.45%"
       ]
      },
      {
       "output_type": "stream",
       "stream": "stdout",
       "text": [
        "\n",
        "70.52%"
       ]
      },
      {
       "output_type": "stream",
       "stream": "stdout",
       "text": [
        "\n",
        "70.59%"
       ]
      },
      {
       "output_type": "stream",
       "stream": "stdout",
       "text": [
        "\n",
        "70.66%"
       ]
      },
      {
       "output_type": "stream",
       "stream": "stdout",
       "text": [
        "\n",
        "70.73%"
       ]
      },
      {
       "output_type": "stream",
       "stream": "stdout",
       "text": [
        "\n",
        "70.79%"
       ]
      },
      {
       "output_type": "stream",
       "stream": "stdout",
       "text": [
        "\n",
        "70.86%"
       ]
      },
      {
       "output_type": "stream",
       "stream": "stdout",
       "text": [
        "\n",
        "70.93%"
       ]
      },
      {
       "output_type": "stream",
       "stream": "stdout",
       "text": [
        "\n",
        "71.00%"
       ]
      },
      {
       "output_type": "stream",
       "stream": "stdout",
       "text": [
        "\n",
        "71.07%"
       ]
      },
      {
       "output_type": "stream",
       "stream": "stdout",
       "text": [
        "\n",
        "71.14%"
       ]
      },
      {
       "output_type": "stream",
       "stream": "stdout",
       "text": [
        "\n",
        "71.20%"
       ]
      },
      {
       "output_type": "stream",
       "stream": "stdout",
       "text": [
        "\n",
        "71.27%"
       ]
      },
      {
       "output_type": "stream",
       "stream": "stdout",
       "text": [
        "\n",
        "71.34%"
       ]
      },
      {
       "output_type": "stream",
       "stream": "stdout",
       "text": [
        "\n",
        "71.41%"
       ]
      },
      {
       "output_type": "stream",
       "stream": "stdout",
       "text": [
        "\n",
        "71.48%"
       ]
      },
      {
       "output_type": "stream",
       "stream": "stdout",
       "text": [
        "\n",
        "71.55%"
       ]
      },
      {
       "output_type": "stream",
       "stream": "stdout",
       "text": [
        "\n",
        "71.61%"
       ]
      },
      {
       "output_type": "stream",
       "stream": "stdout",
       "text": [
        "\n",
        "71.68%"
       ]
      },
      {
       "output_type": "stream",
       "stream": "stdout",
       "text": [
        "\n",
        "71.75%"
       ]
      },
      {
       "output_type": "stream",
       "stream": "stdout",
       "text": [
        "\n",
        "71.82%"
       ]
      },
      {
       "output_type": "stream",
       "stream": "stdout",
       "text": [
        "\n",
        "71.89%"
       ]
      },
      {
       "output_type": "stream",
       "stream": "stdout",
       "text": [
        "\n",
        "71.96%"
       ]
      },
      {
       "output_type": "stream",
       "stream": "stdout",
       "text": [
        "\n",
        "72.02%"
       ]
      },
      {
       "output_type": "stream",
       "stream": "stdout",
       "text": [
        "\n",
        "72.09%"
       ]
      },
      {
       "output_type": "stream",
       "stream": "stdout",
       "text": [
        "\n",
        "72.16%"
       ]
      },
      {
       "output_type": "stream",
       "stream": "stdout",
       "text": [
        "\n",
        "72.23%"
       ]
      },
      {
       "output_type": "stream",
       "stream": "stdout",
       "text": [
        "\n",
        "72.30%"
       ]
      },
      {
       "output_type": "stream",
       "stream": "stdout",
       "text": [
        "\n",
        "72.37%"
       ]
      },
      {
       "output_type": "stream",
       "stream": "stdout",
       "text": [
        "\n",
        "72.44%"
       ]
      },
      {
       "output_type": "stream",
       "stream": "stdout",
       "text": [
        "\n",
        "72.50%"
       ]
      },
      {
       "output_type": "stream",
       "stream": "stdout",
       "text": [
        "\n",
        "72.57%"
       ]
      },
      {
       "output_type": "stream",
       "stream": "stdout",
       "text": [
        "\n",
        "72.64%"
       ]
      },
      {
       "output_type": "stream",
       "stream": "stdout",
       "text": [
        "\n",
        "72.71%"
       ]
      },
      {
       "output_type": "stream",
       "stream": "stdout",
       "text": [
        "\n",
        "72.78%"
       ]
      },
      {
       "output_type": "stream",
       "stream": "stdout",
       "text": [
        "\n",
        "72.85%"
       ]
      },
      {
       "output_type": "stream",
       "stream": "stdout",
       "text": [
        "\n",
        "72.91%"
       ]
      },
      {
       "output_type": "stream",
       "stream": "stdout",
       "text": [
        "\n",
        "72.98%"
       ]
      },
      {
       "output_type": "stream",
       "stream": "stdout",
       "text": [
        "\n",
        "73.05%"
       ]
      },
      {
       "output_type": "stream",
       "stream": "stdout",
       "text": [
        "\n",
        "73.12%"
       ]
      },
      {
       "output_type": "stream",
       "stream": "stdout",
       "text": [
        "\n",
        "73.19%"
       ]
      },
      {
       "output_type": "stream",
       "stream": "stdout",
       "text": [
        "\n",
        "73.26%"
       ]
      },
      {
       "output_type": "stream",
       "stream": "stdout",
       "text": [
        "\n",
        "73.32%"
       ]
      },
      {
       "output_type": "stream",
       "stream": "stdout",
       "text": [
        "\n",
        "73.39%"
       ]
      },
      {
       "output_type": "stream",
       "stream": "stdout",
       "text": [
        "\n",
        "73.46%"
       ]
      },
      {
       "output_type": "stream",
       "stream": "stdout",
       "text": [
        "\n",
        "73.53%"
       ]
      },
      {
       "output_type": "stream",
       "stream": "stdout",
       "text": [
        "\n",
        "73.60%"
       ]
      },
      {
       "output_type": "stream",
       "stream": "stdout",
       "text": [
        "\n",
        "73.67%"
       ]
      },
      {
       "output_type": "stream",
       "stream": "stdout",
       "text": [
        "\n",
        "73.73%"
       ]
      },
      {
       "output_type": "stream",
       "stream": "stdout",
       "text": [
        "\n",
        "73.80%"
       ]
      },
      {
       "output_type": "stream",
       "stream": "stdout",
       "text": [
        "\n",
        "73.87%"
       ]
      },
      {
       "output_type": "stream",
       "stream": "stdout",
       "text": [
        "\n",
        "73.94%"
       ]
      },
      {
       "output_type": "stream",
       "stream": "stdout",
       "text": [
        "\n",
        "74.01%"
       ]
      },
      {
       "output_type": "stream",
       "stream": "stdout",
       "text": [
        "\n",
        "74.08%"
       ]
      },
      {
       "output_type": "stream",
       "stream": "stdout",
       "text": [
        "\n",
        "74.15%"
       ]
      },
      {
       "output_type": "stream",
       "stream": "stdout",
       "text": [
        "\n",
        "74.21%"
       ]
      },
      {
       "output_type": "stream",
       "stream": "stdout",
       "text": [
        "\n",
        "74.28%"
       ]
      },
      {
       "output_type": "stream",
       "stream": "stdout",
       "text": [
        "\n",
        "74.35%"
       ]
      },
      {
       "output_type": "stream",
       "stream": "stdout",
       "text": [
        "\n",
        "74.42%"
       ]
      },
      {
       "output_type": "stream",
       "stream": "stdout",
       "text": [
        "\n",
        "74.49%"
       ]
      },
      {
       "output_type": "stream",
       "stream": "stdout",
       "text": [
        "\n",
        "74.56%"
       ]
      },
      {
       "output_type": "stream",
       "stream": "stdout",
       "text": [
        "\n",
        "74.62%"
       ]
      },
      {
       "output_type": "stream",
       "stream": "stdout",
       "text": [
        "\n",
        "74.69%"
       ]
      },
      {
       "output_type": "stream",
       "stream": "stdout",
       "text": [
        "\n",
        "74.76%"
       ]
      },
      {
       "output_type": "stream",
       "stream": "stdout",
       "text": [
        "\n",
        "74.83%"
       ]
      },
      {
       "output_type": "stream",
       "stream": "stdout",
       "text": [
        "\n",
        "74.90%"
       ]
      },
      {
       "output_type": "stream",
       "stream": "stdout",
       "text": [
        "\n",
        "74.97%"
       ]
      },
      {
       "output_type": "stream",
       "stream": "stdout",
       "text": [
        "\n",
        "75.03%"
       ]
      },
      {
       "output_type": "stream",
       "stream": "stdout",
       "text": [
        "\n",
        "75.10%"
       ]
      },
      {
       "output_type": "stream",
       "stream": "stdout",
       "text": [
        "\n",
        "75.17%"
       ]
      },
      {
       "output_type": "stream",
       "stream": "stdout",
       "text": [
        "\n",
        "75.24%"
       ]
      },
      {
       "output_type": "stream",
       "stream": "stdout",
       "text": [
        "\n",
        "75.31%"
       ]
      },
      {
       "output_type": "stream",
       "stream": "stdout",
       "text": [
        "\n",
        "75.38%"
       ]
      },
      {
       "output_type": "stream",
       "stream": "stdout",
       "text": [
        "\n",
        "75.44%"
       ]
      },
      {
       "output_type": "stream",
       "stream": "stdout",
       "text": [
        "\n",
        "75.51%"
       ]
      },
      {
       "output_type": "stream",
       "stream": "stdout",
       "text": [
        "\n",
        "75.58%"
       ]
      },
      {
       "output_type": "stream",
       "stream": "stdout",
       "text": [
        "\n",
        "75.65%"
       ]
      },
      {
       "output_type": "stream",
       "stream": "stdout",
       "text": [
        "\n",
        "75.72%"
       ]
      },
      {
       "output_type": "stream",
       "stream": "stdout",
       "text": [
        "\n",
        "75.79%"
       ]
      },
      {
       "output_type": "stream",
       "stream": "stdout",
       "text": [
        "\n",
        "75.85%"
       ]
      },
      {
       "output_type": "stream",
       "stream": "stdout",
       "text": [
        "\n",
        "75.92%"
       ]
      },
      {
       "output_type": "stream",
       "stream": "stdout",
       "text": [
        "\n",
        "75.99%"
       ]
      },
      {
       "output_type": "stream",
       "stream": "stdout",
       "text": [
        "\n",
        "76.06%"
       ]
      },
      {
       "output_type": "stream",
       "stream": "stdout",
       "text": [
        "\n",
        "76.13%"
       ]
      },
      {
       "output_type": "stream",
       "stream": "stdout",
       "text": [
        "\n",
        "76.20%"
       ]
      },
      {
       "output_type": "stream",
       "stream": "stdout",
       "text": [
        "\n",
        "76.27%"
       ]
      },
      {
       "output_type": "stream",
       "stream": "stdout",
       "text": [
        "\n",
        "76.33%"
       ]
      },
      {
       "output_type": "stream",
       "stream": "stdout",
       "text": [
        "\n",
        "76.40%"
       ]
      },
      {
       "output_type": "stream",
       "stream": "stdout",
       "text": [
        "\n",
        "76.47%"
       ]
      },
      {
       "output_type": "stream",
       "stream": "stdout",
       "text": [
        "\n",
        "76.54%"
       ]
      },
      {
       "output_type": "stream",
       "stream": "stdout",
       "text": [
        "\n",
        "76.61%"
       ]
      },
      {
       "output_type": "stream",
       "stream": "stdout",
       "text": [
        "\n",
        "76.68%"
       ]
      },
      {
       "output_type": "stream",
       "stream": "stdout",
       "text": [
        "\n",
        "76.74%"
       ]
      },
      {
       "output_type": "stream",
       "stream": "stdout",
       "text": [
        "\n",
        "76.81%"
       ]
      },
      {
       "output_type": "stream",
       "stream": "stdout",
       "text": [
        "\n",
        "76.88%"
       ]
      },
      {
       "output_type": "stream",
       "stream": "stdout",
       "text": [
        "\n",
        "76.95%"
       ]
      },
      {
       "output_type": "stream",
       "stream": "stdout",
       "text": [
        "\n",
        "77.02%"
       ]
      },
      {
       "output_type": "stream",
       "stream": "stdout",
       "text": [
        "\n",
        "77.09%"
       ]
      },
      {
       "output_type": "stream",
       "stream": "stdout",
       "text": [
        "\n",
        "77.15%"
       ]
      },
      {
       "output_type": "stream",
       "stream": "stdout",
       "text": [
        "\n",
        "77.22%"
       ]
      },
      {
       "output_type": "stream",
       "stream": "stdout",
       "text": [
        "\n",
        "77.29%"
       ]
      },
      {
       "output_type": "stream",
       "stream": "stdout",
       "text": [
        "\n",
        "77.36%"
       ]
      },
      {
       "output_type": "stream",
       "stream": "stdout",
       "text": [
        "\n",
        "77.43%"
       ]
      },
      {
       "output_type": "stream",
       "stream": "stdout",
       "text": [
        "\n",
        "77.50%"
       ]
      },
      {
       "output_type": "stream",
       "stream": "stdout",
       "text": [
        "\n",
        "77.56%"
       ]
      },
      {
       "output_type": "stream",
       "stream": "stdout",
       "text": [
        "\n",
        "77.63%"
       ]
      },
      {
       "output_type": "stream",
       "stream": "stdout",
       "text": [
        "\n",
        "77.70%"
       ]
      },
      {
       "output_type": "stream",
       "stream": "stdout",
       "text": [
        "\n",
        "77.77%"
       ]
      },
      {
       "output_type": "stream",
       "stream": "stdout",
       "text": [
        "\n",
        "77.84%"
       ]
      },
      {
       "output_type": "stream",
       "stream": "stdout",
       "text": [
        "\n",
        "77.91%"
       ]
      },
      {
       "output_type": "stream",
       "stream": "stdout",
       "text": [
        "\n",
        "77.98%"
       ]
      },
      {
       "output_type": "stream",
       "stream": "stdout",
       "text": [
        "\n",
        "78.04%"
       ]
      },
      {
       "output_type": "stream",
       "stream": "stdout",
       "text": [
        "\n",
        "78.11%"
       ]
      },
      {
       "output_type": "stream",
       "stream": "stdout",
       "text": [
        "\n",
        "78.18%"
       ]
      },
      {
       "output_type": "stream",
       "stream": "stdout",
       "text": [
        "\n",
        "78.25%"
       ]
      },
      {
       "output_type": "stream",
       "stream": "stdout",
       "text": [
        "\n",
        "78.32%"
       ]
      },
      {
       "output_type": "stream",
       "stream": "stdout",
       "text": [
        "\n",
        "78.39%"
       ]
      },
      {
       "output_type": "stream",
       "stream": "stdout",
       "text": [
        "\n",
        "78.45%"
       ]
      },
      {
       "output_type": "stream",
       "stream": "stdout",
       "text": [
        "\n",
        "78.52%"
       ]
      },
      {
       "output_type": "stream",
       "stream": "stdout",
       "text": [
        "\n",
        "78.59%"
       ]
      },
      {
       "output_type": "stream",
       "stream": "stdout",
       "text": [
        "\n",
        "78.66%"
       ]
      },
      {
       "output_type": "stream",
       "stream": "stdout",
       "text": [
        "\n",
        "78.73%"
       ]
      },
      {
       "output_type": "stream",
       "stream": "stdout",
       "text": [
        "\n",
        "78.80%"
       ]
      },
      {
       "output_type": "stream",
       "stream": "stdout",
       "text": [
        "\n",
        "78.86%"
       ]
      },
      {
       "output_type": "stream",
       "stream": "stdout",
       "text": [
        "\n",
        "78.93%"
       ]
      },
      {
       "output_type": "stream",
       "stream": "stdout",
       "text": [
        "\n",
        "79.00%"
       ]
      },
      {
       "output_type": "stream",
       "stream": "stdout",
       "text": [
        "\n",
        "79.07%"
       ]
      },
      {
       "output_type": "stream",
       "stream": "stdout",
       "text": [
        "\n",
        "79.14%"
       ]
      },
      {
       "output_type": "stream",
       "stream": "stdout",
       "text": [
        "\n",
        "79.21%"
       ]
      },
      {
       "output_type": "stream",
       "stream": "stdout",
       "text": [
        "\n",
        "79.27%"
       ]
      },
      {
       "output_type": "stream",
       "stream": "stdout",
       "text": [
        "\n",
        "79.34%"
       ]
      },
      {
       "output_type": "stream",
       "stream": "stdout",
       "text": [
        "\n",
        "79.41%"
       ]
      },
      {
       "output_type": "stream",
       "stream": "stdout",
       "text": [
        "\n",
        "79.48%"
       ]
      },
      {
       "output_type": "stream",
       "stream": "stdout",
       "text": [
        "\n",
        "79.55%"
       ]
      },
      {
       "output_type": "stream",
       "stream": "stdout",
       "text": [
        "\n",
        "79.62%"
       ]
      },
      {
       "output_type": "stream",
       "stream": "stdout",
       "text": [
        "\n",
        "79.69%"
       ]
      },
      {
       "output_type": "stream",
       "stream": "stdout",
       "text": [
        "\n",
        "79.75%"
       ]
      },
      {
       "output_type": "stream",
       "stream": "stdout",
       "text": [
        "\n",
        "79.82%"
       ]
      },
      {
       "output_type": "stream",
       "stream": "stdout",
       "text": [
        "\n",
        "79.89%"
       ]
      },
      {
       "output_type": "stream",
       "stream": "stdout",
       "text": [
        "\n",
        "79.96%"
       ]
      },
      {
       "output_type": "stream",
       "stream": "stdout",
       "text": [
        "\n",
        "80.03%"
       ]
      },
      {
       "output_type": "stream",
       "stream": "stdout",
       "text": [
        "\n",
        "80.10%"
       ]
      },
      {
       "output_type": "stream",
       "stream": "stdout",
       "text": [
        "\n",
        "80.16%"
       ]
      },
      {
       "output_type": "stream",
       "stream": "stdout",
       "text": [
        "\n",
        "80.23%"
       ]
      },
      {
       "output_type": "stream",
       "stream": "stdout",
       "text": [
        "\n",
        "80.30%"
       ]
      },
      {
       "output_type": "stream",
       "stream": "stdout",
       "text": [
        "\n",
        "80.37%"
       ]
      },
      {
       "output_type": "stream",
       "stream": "stdout",
       "text": [
        "\n",
        "80.44%"
       ]
      },
      {
       "output_type": "stream",
       "stream": "stdout",
       "text": [
        "\n",
        "80.51%"
       ]
      },
      {
       "output_type": "stream",
       "stream": "stdout",
       "text": [
        "\n",
        "80.57%"
       ]
      },
      {
       "output_type": "stream",
       "stream": "stdout",
       "text": [
        "\n",
        "80.64%"
       ]
      },
      {
       "output_type": "stream",
       "stream": "stdout",
       "text": [
        "\n",
        "80.71%"
       ]
      },
      {
       "output_type": "stream",
       "stream": "stdout",
       "text": [
        "\n",
        "80.78%"
       ]
      },
      {
       "output_type": "stream",
       "stream": "stdout",
       "text": [
        "\n",
        "80.85%"
       ]
      },
      {
       "output_type": "stream",
       "stream": "stdout",
       "text": [
        "\n",
        "80.92%"
       ]
      },
      {
       "output_type": "stream",
       "stream": "stdout",
       "text": [
        "\n",
        "80.98%"
       ]
      },
      {
       "output_type": "stream",
       "stream": "stdout",
       "text": [
        "\n",
        "81.05%"
       ]
      },
      {
       "output_type": "stream",
       "stream": "stdout",
       "text": [
        "\n",
        "81.12%"
       ]
      },
      {
       "output_type": "stream",
       "stream": "stdout",
       "text": [
        "\n",
        "81.19%"
       ]
      },
      {
       "output_type": "stream",
       "stream": "stdout",
       "text": [
        "\n",
        "81.26%"
       ]
      },
      {
       "output_type": "stream",
       "stream": "stdout",
       "text": [
        "\n",
        "81.33%"
       ]
      },
      {
       "output_type": "stream",
       "stream": "stdout",
       "text": [
        "\n",
        "81.40%"
       ]
      },
      {
       "output_type": "stream",
       "stream": "stdout",
       "text": [
        "\n",
        "81.46%"
       ]
      },
      {
       "output_type": "stream",
       "stream": "stdout",
       "text": [
        "\n",
        "81.53%"
       ]
      },
      {
       "output_type": "stream",
       "stream": "stdout",
       "text": [
        "\n",
        "81.60%"
       ]
      },
      {
       "output_type": "stream",
       "stream": "stdout",
       "text": [
        "\n",
        "81.67%"
       ]
      },
      {
       "output_type": "stream",
       "stream": "stdout",
       "text": [
        "\n",
        "81.74%"
       ]
      },
      {
       "output_type": "stream",
       "stream": "stdout",
       "text": [
        "\n",
        "81.81%"
       ]
      },
      {
       "output_type": "stream",
       "stream": "stdout",
       "text": [
        "\n",
        "81.87%"
       ]
      },
      {
       "output_type": "stream",
       "stream": "stdout",
       "text": [
        "\n",
        "81.94%"
       ]
      },
      {
       "output_type": "stream",
       "stream": "stdout",
       "text": [
        "\n",
        "82.01%"
       ]
      },
      {
       "output_type": "stream",
       "stream": "stdout",
       "text": [
        "\n",
        "82.08%"
       ]
      },
      {
       "output_type": "stream",
       "stream": "stdout",
       "text": [
        "\n",
        "82.15%"
       ]
      },
      {
       "output_type": "stream",
       "stream": "stdout",
       "text": [
        "\n",
        "82.22%"
       ]
      },
      {
       "output_type": "stream",
       "stream": "stdout",
       "text": [
        "\n",
        "82.28%"
       ]
      },
      {
       "output_type": "stream",
       "stream": "stdout",
       "text": [
        "\n",
        "82.35%"
       ]
      },
      {
       "output_type": "stream",
       "stream": "stdout",
       "text": [
        "\n",
        "82.42%"
       ]
      },
      {
       "output_type": "stream",
       "stream": "stdout",
       "text": [
        "\n",
        "82.49%"
       ]
      },
      {
       "output_type": "stream",
       "stream": "stdout",
       "text": [
        "\n",
        "82.56%"
       ]
      },
      {
       "output_type": "stream",
       "stream": "stdout",
       "text": [
        "\n",
        "82.63%"
       ]
      },
      {
       "output_type": "stream",
       "stream": "stdout",
       "text": [
        "\n",
        "82.69%"
       ]
      },
      {
       "output_type": "stream",
       "stream": "stdout",
       "text": [
        "\n",
        "82.76%"
       ]
      },
      {
       "output_type": "stream",
       "stream": "stdout",
       "text": [
        "\n",
        "82.83%"
       ]
      },
      {
       "output_type": "stream",
       "stream": "stdout",
       "text": [
        "\n",
        "82.90%"
       ]
      },
      {
       "output_type": "stream",
       "stream": "stdout",
       "text": [
        "\n",
        "82.97%"
       ]
      },
      {
       "output_type": "stream",
       "stream": "stdout",
       "text": [
        "\n",
        "83.04%"
       ]
      },
      {
       "output_type": "stream",
       "stream": "stdout",
       "text": [
        "\n",
        "83.11%"
       ]
      },
      {
       "output_type": "stream",
       "stream": "stdout",
       "text": [
        "\n",
        "83.17%"
       ]
      },
      {
       "output_type": "stream",
       "stream": "stdout",
       "text": [
        "\n",
        "83.24%"
       ]
      },
      {
       "output_type": "stream",
       "stream": "stdout",
       "text": [
        "\n",
        "83.31%"
       ]
      },
      {
       "output_type": "stream",
       "stream": "stdout",
       "text": [
        "\n",
        "83.38%"
       ]
      },
      {
       "output_type": "stream",
       "stream": "stdout",
       "text": [
        "\n",
        "83.45%"
       ]
      },
      {
       "output_type": "stream",
       "stream": "stdout",
       "text": [
        "\n",
        "83.52%"
       ]
      },
      {
       "output_type": "stream",
       "stream": "stdout",
       "text": [
        "\n",
        "83.58%"
       ]
      },
      {
       "output_type": "stream",
       "stream": "stdout",
       "text": [
        "\n",
        "83.65%"
       ]
      },
      {
       "output_type": "stream",
       "stream": "stdout",
       "text": [
        "\n",
        "83.72%"
       ]
      },
      {
       "output_type": "stream",
       "stream": "stdout",
       "text": [
        "\n",
        "83.79%"
       ]
      },
      {
       "output_type": "stream",
       "stream": "stdout",
       "text": [
        "\n",
        "83.86%"
       ]
      },
      {
       "output_type": "stream",
       "stream": "stdout",
       "text": [
        "\n",
        "83.93%"
       ]
      },
      {
       "output_type": "stream",
       "stream": "stdout",
       "text": [
        "\n",
        "83.99%"
       ]
      },
      {
       "output_type": "stream",
       "stream": "stdout",
       "text": [
        "\n",
        "84.06%"
       ]
      },
      {
       "output_type": "stream",
       "stream": "stdout",
       "text": [
        "\n",
        "84.13%"
       ]
      },
      {
       "output_type": "stream",
       "stream": "stdout",
       "text": [
        "\n",
        "84.20%"
       ]
      },
      {
       "output_type": "stream",
       "stream": "stdout",
       "text": [
        "\n",
        "84.27%"
       ]
      },
      {
       "output_type": "stream",
       "stream": "stdout",
       "text": [
        "\n",
        "84.34%"
       ]
      },
      {
       "output_type": "stream",
       "stream": "stdout",
       "text": [
        "\n",
        "84.40%"
       ]
      },
      {
       "output_type": "stream",
       "stream": "stdout",
       "text": [
        "\n",
        "84.47%"
       ]
      },
      {
       "output_type": "stream",
       "stream": "stdout",
       "text": [
        "\n",
        "84.54%"
       ]
      },
      {
       "output_type": "stream",
       "stream": "stdout",
       "text": [
        "\n",
        "84.61%"
       ]
      },
      {
       "output_type": "stream",
       "stream": "stdout",
       "text": [
        "\n",
        "84.68%"
       ]
      },
      {
       "output_type": "stream",
       "stream": "stdout",
       "text": [
        "\n",
        "84.75%"
       ]
      },
      {
       "output_type": "stream",
       "stream": "stdout",
       "text": [
        "\n",
        "84.82%"
       ]
      },
      {
       "output_type": "stream",
       "stream": "stdout",
       "text": [
        "\n",
        "84.88%"
       ]
      },
      {
       "output_type": "stream",
       "stream": "stdout",
       "text": [
        "\n",
        "84.95%"
       ]
      },
      {
       "output_type": "stream",
       "stream": "stdout",
       "text": [
        "\n",
        "85.02%"
       ]
      },
      {
       "output_type": "stream",
       "stream": "stdout",
       "text": [
        "\n",
        "85.09%"
       ]
      },
      {
       "output_type": "stream",
       "stream": "stdout",
       "text": [
        "\n",
        "85.16%"
       ]
      },
      {
       "output_type": "stream",
       "stream": "stdout",
       "text": [
        "\n",
        "85.23%"
       ]
      },
      {
       "output_type": "stream",
       "stream": "stdout",
       "text": [
        "\n",
        "85.29%"
       ]
      },
      {
       "output_type": "stream",
       "stream": "stdout",
       "text": [
        "\n",
        "85.36%"
       ]
      },
      {
       "output_type": "stream",
       "stream": "stdout",
       "text": [
        "\n",
        "85.43%"
       ]
      },
      {
       "output_type": "stream",
       "stream": "stdout",
       "text": [
        "\n",
        "85.50%"
       ]
      },
      {
       "output_type": "stream",
       "stream": "stdout",
       "text": [
        "\n",
        "85.57%"
       ]
      },
      {
       "output_type": "stream",
       "stream": "stdout",
       "text": [
        "\n",
        "85.64%"
       ]
      },
      {
       "output_type": "stream",
       "stream": "stdout",
       "text": [
        "\n",
        "85.70%"
       ]
      },
      {
       "output_type": "stream",
       "stream": "stdout",
       "text": [
        "\n",
        "85.77%"
       ]
      },
      {
       "output_type": "stream",
       "stream": "stdout",
       "text": [
        "\n",
        "85.84%"
       ]
      },
      {
       "output_type": "stream",
       "stream": "stdout",
       "text": [
        "\n",
        "85.91%"
       ]
      },
      {
       "output_type": "stream",
       "stream": "stdout",
       "text": [
        "\n",
        "85.98%"
       ]
      },
      {
       "output_type": "stream",
       "stream": "stdout",
       "text": [
        "\n",
        "86.05%"
       ]
      },
      {
       "output_type": "stream",
       "stream": "stdout",
       "text": [
        "\n",
        "86.11%"
       ]
      },
      {
       "output_type": "stream",
       "stream": "stdout",
       "text": [
        "\n",
        "86.18%"
       ]
      },
      {
       "output_type": "stream",
       "stream": "stdout",
       "text": [
        "\n",
        "86.25%"
       ]
      },
      {
       "output_type": "stream",
       "stream": "stdout",
       "text": [
        "\n",
        "86.32%"
       ]
      },
      {
       "output_type": "stream",
       "stream": "stdout",
       "text": [
        "\n",
        "86.39%"
       ]
      },
      {
       "output_type": "stream",
       "stream": "stdout",
       "text": [
        "\n",
        "86.46%"
       ]
      },
      {
       "output_type": "stream",
       "stream": "stdout",
       "text": [
        "\n",
        "86.53%"
       ]
      },
      {
       "output_type": "stream",
       "stream": "stdout",
       "text": [
        "\n",
        "86.59%"
       ]
      },
      {
       "output_type": "stream",
       "stream": "stdout",
       "text": [
        "\n",
        "86.66%"
       ]
      },
      {
       "output_type": "stream",
       "stream": "stdout",
       "text": [
        "\n",
        "86.73%"
       ]
      },
      {
       "output_type": "stream",
       "stream": "stdout",
       "text": [
        "\n",
        "86.80%"
       ]
      },
      {
       "output_type": "stream",
       "stream": "stdout",
       "text": [
        "\n",
        "86.87%"
       ]
      },
      {
       "output_type": "stream",
       "stream": "stdout",
       "text": [
        "\n",
        "86.94%"
       ]
      },
      {
       "output_type": "stream",
       "stream": "stdout",
       "text": [
        "\n",
        "87.00%"
       ]
      },
      {
       "output_type": "stream",
       "stream": "stdout",
       "text": [
        "\n",
        "87.07%"
       ]
      },
      {
       "output_type": "stream",
       "stream": "stdout",
       "text": [
        "\n",
        "87.14%"
       ]
      },
      {
       "output_type": "stream",
       "stream": "stdout",
       "text": [
        "\n",
        "87.21%"
       ]
      },
      {
       "output_type": "stream",
       "stream": "stdout",
       "text": [
        "\n",
        "87.28%"
       ]
      },
      {
       "output_type": "stream",
       "stream": "stdout",
       "text": [
        "\n",
        "87.35%"
       ]
      },
      {
       "output_type": "stream",
       "stream": "stdout",
       "text": [
        "\n",
        "87.41%"
       ]
      },
      {
       "output_type": "stream",
       "stream": "stdout",
       "text": [
        "\n",
        "87.48%"
       ]
      },
      {
       "output_type": "stream",
       "stream": "stdout",
       "text": [
        "\n",
        "87.55%"
       ]
      },
      {
       "output_type": "stream",
       "stream": "stdout",
       "text": [
        "\n",
        "87.62%"
       ]
      },
      {
       "output_type": "stream",
       "stream": "stdout",
       "text": [
        "\n",
        "87.69%"
       ]
      },
      {
       "output_type": "stream",
       "stream": "stdout",
       "text": [
        "\n",
        "87.76%"
       ]
      },
      {
       "output_type": "stream",
       "stream": "stdout",
       "text": [
        "\n",
        "87.82%"
       ]
      },
      {
       "output_type": "stream",
       "stream": "stdout",
       "text": [
        "\n",
        "87.89%"
       ]
      },
      {
       "output_type": "stream",
       "stream": "stdout",
       "text": [
        "\n",
        "87.96%"
       ]
      },
      {
       "output_type": "stream",
       "stream": "stdout",
       "text": [
        "\n",
        "88.03%"
       ]
      },
      {
       "output_type": "stream",
       "stream": "stdout",
       "text": [
        "\n",
        "88.10%"
       ]
      },
      {
       "output_type": "stream",
       "stream": "stdout",
       "text": [
        "\n",
        "88.17%"
       ]
      },
      {
       "output_type": "stream",
       "stream": "stdout",
       "text": [
        "\n",
        "88.24%"
       ]
      },
      {
       "output_type": "stream",
       "stream": "stdout",
       "text": [
        "\n",
        "88.30%"
       ]
      },
      {
       "output_type": "stream",
       "stream": "stdout",
       "text": [
        "\n",
        "88.37%"
       ]
      },
      {
       "output_type": "stream",
       "stream": "stdout",
       "text": [
        "\n",
        "88.44%"
       ]
      },
      {
       "output_type": "stream",
       "stream": "stdout",
       "text": [
        "\n",
        "88.51%"
       ]
      },
      {
       "output_type": "stream",
       "stream": "stdout",
       "text": [
        "\n",
        "88.58%"
       ]
      },
      {
       "output_type": "stream",
       "stream": "stdout",
       "text": [
        "\n",
        "88.65%"
       ]
      },
      {
       "output_type": "stream",
       "stream": "stdout",
       "text": [
        "\n",
        "88.71%"
       ]
      },
      {
       "output_type": "stream",
       "stream": "stdout",
       "text": [
        "\n",
        "88.78%"
       ]
      },
      {
       "output_type": "stream",
       "stream": "stdout",
       "text": [
        "\n",
        "88.85%"
       ]
      },
      {
       "output_type": "stream",
       "stream": "stdout",
       "text": [
        "\n",
        "88.92%"
       ]
      },
      {
       "output_type": "stream",
       "stream": "stdout",
       "text": [
        "\n",
        "88.99%"
       ]
      },
      {
       "output_type": "stream",
       "stream": "stdout",
       "text": [
        "\n",
        "89.06%"
       ]
      },
      {
       "output_type": "stream",
       "stream": "stdout",
       "text": [
        "\n",
        "89.12%"
       ]
      },
      {
       "output_type": "stream",
       "stream": "stdout",
       "text": [
        "\n",
        "89.19%"
       ]
      },
      {
       "output_type": "stream",
       "stream": "stdout",
       "text": [
        "\n",
        "89.26%"
       ]
      },
      {
       "output_type": "stream",
       "stream": "stdout",
       "text": [
        "\n",
        "89.33%"
       ]
      },
      {
       "output_type": "stream",
       "stream": "stdout",
       "text": [
        "\n",
        "89.40%"
       ]
      },
      {
       "output_type": "stream",
       "stream": "stdout",
       "text": [
        "\n",
        "89.47%"
       ]
      },
      {
       "output_type": "stream",
       "stream": "stdout",
       "text": [
        "\n",
        "89.53%"
       ]
      },
      {
       "output_type": "stream",
       "stream": "stdout",
       "text": [
        "\n",
        "89.60%"
       ]
      },
      {
       "output_type": "stream",
       "stream": "stdout",
       "text": [
        "\n",
        "89.67%"
       ]
      },
      {
       "output_type": "stream",
       "stream": "stdout",
       "text": [
        "\n",
        "89.74%"
       ]
      },
      {
       "output_type": "stream",
       "stream": "stdout",
       "text": [
        "\n",
        "89.81%"
       ]
      },
      {
       "output_type": "stream",
       "stream": "stdout",
       "text": [
        "\n",
        "89.88%"
       ]
      },
      {
       "output_type": "stream",
       "stream": "stdout",
       "text": [
        "\n",
        "89.95%"
       ]
      },
      {
       "output_type": "stream",
       "stream": "stdout",
       "text": [
        "\n",
        "90.01%"
       ]
      },
      {
       "output_type": "stream",
       "stream": "stdout",
       "text": [
        "\n",
        "90.08%"
       ]
      },
      {
       "output_type": "stream",
       "stream": "stdout",
       "text": [
        "\n",
        "90.15%"
       ]
      },
      {
       "output_type": "stream",
       "stream": "stdout",
       "text": [
        "\n",
        "90.22%"
       ]
      },
      {
       "output_type": "stream",
       "stream": "stdout",
       "text": [
        "\n",
        "90.29%"
       ]
      },
      {
       "output_type": "stream",
       "stream": "stdout",
       "text": [
        "\n",
        "90.36%"
       ]
      },
      {
       "output_type": "stream",
       "stream": "stdout",
       "text": [
        "\n",
        "90.42%"
       ]
      },
      {
       "output_type": "stream",
       "stream": "stdout",
       "text": [
        "\n",
        "90.49%"
       ]
      },
      {
       "output_type": "stream",
       "stream": "stdout",
       "text": [
        "\n",
        "90.56%"
       ]
      },
      {
       "output_type": "stream",
       "stream": "stdout",
       "text": [
        "\n",
        "90.63%"
       ]
      },
      {
       "output_type": "stream",
       "stream": "stdout",
       "text": [
        "\n",
        "90.70%"
       ]
      },
      {
       "output_type": "stream",
       "stream": "stdout",
       "text": [
        "\n",
        "90.77%"
       ]
      },
      {
       "output_type": "stream",
       "stream": "stdout",
       "text": [
        "\n",
        "90.83%"
       ]
      },
      {
       "output_type": "stream",
       "stream": "stdout",
       "text": [
        "\n",
        "90.90%"
       ]
      },
      {
       "output_type": "stream",
       "stream": "stdout",
       "text": [
        "\n",
        "90.97%"
       ]
      },
      {
       "output_type": "stream",
       "stream": "stdout",
       "text": [
        "\n",
        "91.04%"
       ]
      },
      {
       "output_type": "stream",
       "stream": "stdout",
       "text": [
        "\n",
        "91.11%"
       ]
      },
      {
       "output_type": "stream",
       "stream": "stdout",
       "text": [
        "\n",
        "91.18%"
       ]
      },
      {
       "output_type": "stream",
       "stream": "stdout",
       "text": [
        "\n",
        "91.24%"
       ]
      },
      {
       "output_type": "stream",
       "stream": "stdout",
       "text": [
        "\n",
        "91.31%"
       ]
      },
      {
       "output_type": "stream",
       "stream": "stdout",
       "text": [
        "\n",
        "91.38%"
       ]
      },
      {
       "output_type": "stream",
       "stream": "stdout",
       "text": [
        "\n",
        "91.45%"
       ]
      },
      {
       "output_type": "stream",
       "stream": "stdout",
       "text": [
        "\n",
        "91.52%"
       ]
      },
      {
       "output_type": "stream",
       "stream": "stdout",
       "text": [
        "\n",
        "91.59%"
       ]
      },
      {
       "output_type": "stream",
       "stream": "stdout",
       "text": [
        "\n",
        "91.66%"
       ]
      },
      {
       "output_type": "stream",
       "stream": "stdout",
       "text": [
        "\n",
        "91.72%"
       ]
      },
      {
       "output_type": "stream",
       "stream": "stdout",
       "text": [
        "\n",
        "91.79%"
       ]
      },
      {
       "output_type": "stream",
       "stream": "stdout",
       "text": [
        "\n",
        "91.86%"
       ]
      },
      {
       "output_type": "stream",
       "stream": "stdout",
       "text": [
        "\n",
        "91.93%"
       ]
      },
      {
       "output_type": "stream",
       "stream": "stdout",
       "text": [
        "\n",
        "92.00%"
       ]
      },
      {
       "output_type": "stream",
       "stream": "stdout",
       "text": [
        "\n",
        "92.07%"
       ]
      },
      {
       "output_type": "stream",
       "stream": "stdout",
       "text": [
        "\n",
        "92.13%"
       ]
      },
      {
       "output_type": "stream",
       "stream": "stdout",
       "text": [
        "\n",
        "92.20%"
       ]
      },
      {
       "output_type": "stream",
       "stream": "stdout",
       "text": [
        "\n",
        "92.27%"
       ]
      },
      {
       "output_type": "stream",
       "stream": "stdout",
       "text": [
        "\n",
        "92.34%"
       ]
      },
      {
       "output_type": "stream",
       "stream": "stdout",
       "text": [
        "\n",
        "92.41%"
       ]
      },
      {
       "output_type": "stream",
       "stream": "stdout",
       "text": [
        "\n",
        "92.48%"
       ]
      },
      {
       "output_type": "stream",
       "stream": "stdout",
       "text": [
        "\n",
        "92.54%"
       ]
      },
      {
       "output_type": "stream",
       "stream": "stdout",
       "text": [
        "\n",
        "92.61%"
       ]
      },
      {
       "output_type": "stream",
       "stream": "stdout",
       "text": [
        "\n",
        "92.68%"
       ]
      },
      {
       "output_type": "stream",
       "stream": "stdout",
       "text": [
        "\n",
        "92.75%"
       ]
      },
      {
       "output_type": "stream",
       "stream": "stdout",
       "text": [
        "\n",
        "92.82%"
       ]
      },
      {
       "output_type": "stream",
       "stream": "stdout",
       "text": [
        "\n",
        "92.89%"
       ]
      },
      {
       "output_type": "stream",
       "stream": "stdout",
       "text": [
        "\n",
        "92.95%"
       ]
      },
      {
       "output_type": "stream",
       "stream": "stdout",
       "text": [
        "\n",
        "93.02%"
       ]
      },
      {
       "output_type": "stream",
       "stream": "stdout",
       "text": [
        "\n",
        "93.09%"
       ]
      },
      {
       "output_type": "stream",
       "stream": "stdout",
       "text": [
        "\n",
        "93.16%"
       ]
      },
      {
       "output_type": "stream",
       "stream": "stdout",
       "text": [
        "\n",
        "93.23%"
       ]
      },
      {
       "output_type": "stream",
       "stream": "stdout",
       "text": [
        "\n",
        "93.30%"
       ]
      },
      {
       "output_type": "stream",
       "stream": "stdout",
       "text": [
        "\n",
        "93.37%"
       ]
      },
      {
       "output_type": "stream",
       "stream": "stdout",
       "text": [
        "\n",
        "93.43%"
       ]
      },
      {
       "output_type": "stream",
       "stream": "stdout",
       "text": [
        "\n",
        "93.50%"
       ]
      },
      {
       "output_type": "stream",
       "stream": "stdout",
       "text": [
        "\n",
        "93.57%"
       ]
      },
      {
       "output_type": "stream",
       "stream": "stdout",
       "text": [
        "\n",
        "93.64%"
       ]
      },
      {
       "output_type": "stream",
       "stream": "stdout",
       "text": [
        "\n",
        "93.71%"
       ]
      },
      {
       "output_type": "stream",
       "stream": "stdout",
       "text": [
        "\n",
        "93.78%"
       ]
      },
      {
       "output_type": "stream",
       "stream": "stdout",
       "text": [
        "\n",
        "93.84%"
       ]
      },
      {
       "output_type": "stream",
       "stream": "stdout",
       "text": [
        "\n",
        "93.91%"
       ]
      },
      {
       "output_type": "stream",
       "stream": "stdout",
       "text": [
        "\n",
        "93.98%"
       ]
      },
      {
       "output_type": "stream",
       "stream": "stdout",
       "text": [
        "\n",
        "94.05%"
       ]
      },
      {
       "output_type": "stream",
       "stream": "stdout",
       "text": [
        "\n",
        "94.12%"
       ]
      },
      {
       "output_type": "stream",
       "stream": "stdout",
       "text": [
        "\n",
        "94.19%"
       ]
      },
      {
       "output_type": "stream",
       "stream": "stdout",
       "text": [
        "\n",
        "94.25%"
       ]
      },
      {
       "output_type": "stream",
       "stream": "stdout",
       "text": [
        "\n",
        "94.32%"
       ]
      },
      {
       "output_type": "stream",
       "stream": "stdout",
       "text": [
        "\n",
        "94.39%"
       ]
      },
      {
       "output_type": "stream",
       "stream": "stdout",
       "text": [
        "\n",
        "94.46%"
       ]
      },
      {
       "output_type": "stream",
       "stream": "stdout",
       "text": [
        "\n",
        "94.53%"
       ]
      },
      {
       "output_type": "stream",
       "stream": "stdout",
       "text": [
        "\n",
        "94.60%"
       ]
      },
      {
       "output_type": "stream",
       "stream": "stdout",
       "text": [
        "\n",
        "94.66%"
       ]
      },
      {
       "output_type": "stream",
       "stream": "stdout",
       "text": [
        "\n",
        "94.73%"
       ]
      },
      {
       "output_type": "stream",
       "stream": "stdout",
       "text": [
        "\n",
        "94.80%"
       ]
      },
      {
       "output_type": "stream",
       "stream": "stdout",
       "text": [
        "\n",
        "94.87%"
       ]
      },
      {
       "output_type": "stream",
       "stream": "stdout",
       "text": [
        "\n",
        "94.94%"
       ]
      },
      {
       "output_type": "stream",
       "stream": "stdout",
       "text": [
        "\n",
        "95.01%"
       ]
      },
      {
       "output_type": "stream",
       "stream": "stdout",
       "text": [
        "\n",
        "95.08%"
       ]
      },
      {
       "output_type": "stream",
       "stream": "stdout",
       "text": [
        "\n",
        "95.14%"
       ]
      },
      {
       "output_type": "stream",
       "stream": "stdout",
       "text": [
        "\n",
        "95.21%"
       ]
      },
      {
       "output_type": "stream",
       "stream": "stdout",
       "text": [
        "\n",
        "95.28%"
       ]
      },
      {
       "output_type": "stream",
       "stream": "stdout",
       "text": [
        "\n",
        "95.35%"
       ]
      },
      {
       "output_type": "stream",
       "stream": "stdout",
       "text": [
        "\n",
        "95.42%"
       ]
      },
      {
       "output_type": "stream",
       "stream": "stdout",
       "text": [
        "\n",
        "95.49%"
       ]
      },
      {
       "output_type": "stream",
       "stream": "stdout",
       "text": [
        "\n",
        "95.55%"
       ]
      },
      {
       "output_type": "stream",
       "stream": "stdout",
       "text": [
        "\n",
        "95.62%"
       ]
      },
      {
       "output_type": "stream",
       "stream": "stdout",
       "text": [
        "\n",
        "95.69%"
       ]
      },
      {
       "output_type": "stream",
       "stream": "stdout",
       "text": [
        "\n",
        "95.76%"
       ]
      },
      {
       "output_type": "stream",
       "stream": "stdout",
       "text": [
        "\n",
        "95.83%"
       ]
      },
      {
       "output_type": "stream",
       "stream": "stdout",
       "text": [
        "\n",
        "95.90%"
       ]
      },
      {
       "output_type": "stream",
       "stream": "stdout",
       "text": [
        "\n",
        "95.96%"
       ]
      },
      {
       "output_type": "stream",
       "stream": "stdout",
       "text": [
        "\n",
        "96.03%"
       ]
      },
      {
       "output_type": "stream",
       "stream": "stdout",
       "text": [
        "\n",
        "96.10%"
       ]
      },
      {
       "output_type": "stream",
       "stream": "stdout",
       "text": [
        "\n",
        "96.17%"
       ]
      },
      {
       "output_type": "stream",
       "stream": "stdout",
       "text": [
        "\n",
        "96.24%"
       ]
      },
      {
       "output_type": "stream",
       "stream": "stdout",
       "text": [
        "\n",
        "96.31%"
       ]
      },
      {
       "output_type": "stream",
       "stream": "stdout",
       "text": [
        "\n",
        "96.37%"
       ]
      },
      {
       "output_type": "stream",
       "stream": "stdout",
       "text": [
        "\n",
        "96.44%"
       ]
      },
      {
       "output_type": "stream",
       "stream": "stdout",
       "text": [
        "\n",
        "96.51%"
       ]
      },
      {
       "output_type": "stream",
       "stream": "stdout",
       "text": [
        "\n",
        "96.58%"
       ]
      },
      {
       "output_type": "stream",
       "stream": "stdout",
       "text": [
        "\n",
        "96.65%"
       ]
      },
      {
       "output_type": "stream",
       "stream": "stdout",
       "text": [
        "\n",
        "96.72%"
       ]
      },
      {
       "output_type": "stream",
       "stream": "stdout",
       "text": [
        "\n",
        "96.79%"
       ]
      },
      {
       "output_type": "stream",
       "stream": "stdout",
       "text": [
        "\n",
        "96.85%"
       ]
      },
      {
       "output_type": "stream",
       "stream": "stdout",
       "text": [
        "\n",
        "96.92%"
       ]
      },
      {
       "output_type": "stream",
       "stream": "stdout",
       "text": [
        "\n",
        "96.99%"
       ]
      },
      {
       "output_type": "stream",
       "stream": "stdout",
       "text": [
        "\n",
        "97.06%"
       ]
      },
      {
       "output_type": "stream",
       "stream": "stdout",
       "text": [
        "\n",
        "97.13%"
       ]
      },
      {
       "output_type": "stream",
       "stream": "stdout",
       "text": [
        "\n",
        "97.20%"
       ]
      },
      {
       "output_type": "stream",
       "stream": "stdout",
       "text": [
        "\n",
        "97.26%"
       ]
      },
      {
       "output_type": "stream",
       "stream": "stdout",
       "text": [
        "\n",
        "97.33%"
       ]
      },
      {
       "output_type": "stream",
       "stream": "stdout",
       "text": [
        "\n",
        "97.40%"
       ]
      },
      {
       "output_type": "stream",
       "stream": "stdout",
       "text": [
        "\n",
        "97.47%"
       ]
      },
      {
       "output_type": "stream",
       "stream": "stdout",
       "text": [
        "\n",
        "97.54%"
       ]
      },
      {
       "output_type": "stream",
       "stream": "stdout",
       "text": [
        "\n",
        "97.61%"
       ]
      },
      {
       "output_type": "stream",
       "stream": "stdout",
       "text": [
        "\n",
        "97.67%"
       ]
      },
      {
       "output_type": "stream",
       "stream": "stdout",
       "text": [
        "\n",
        "97.74%"
       ]
      },
      {
       "output_type": "stream",
       "stream": "stdout",
       "text": [
        "\n",
        "97.81%"
       ]
      },
      {
       "output_type": "stream",
       "stream": "stdout",
       "text": [
        "\n",
        "97.88%"
       ]
      },
      {
       "output_type": "stream",
       "stream": "stdout",
       "text": [
        "\n",
        "97.95%"
       ]
      },
      {
       "output_type": "stream",
       "stream": "stdout",
       "text": [
        "\n",
        "98.02%"
       ]
      },
      {
       "output_type": "stream",
       "stream": "stdout",
       "text": [
        "\n",
        "98.08%"
       ]
      },
      {
       "output_type": "stream",
       "stream": "stdout",
       "text": [
        "\n",
        "98.15%"
       ]
      },
      {
       "output_type": "stream",
       "stream": "stdout",
       "text": [
        "\n",
        "98.22%"
       ]
      },
      {
       "output_type": "stream",
       "stream": "stdout",
       "text": [
        "\n",
        "98.29%"
       ]
      },
      {
       "output_type": "stream",
       "stream": "stdout",
       "text": [
        "\n",
        "98.36%"
       ]
      },
      {
       "output_type": "stream",
       "stream": "stdout",
       "text": [
        "\n",
        "98.43%"
       ]
      },
      {
       "output_type": "stream",
       "stream": "stdout",
       "text": [
        "\n",
        "98.50%"
       ]
      },
      {
       "output_type": "stream",
       "stream": "stdout",
       "text": [
        "\n",
        "98.56%"
       ]
      },
      {
       "output_type": "stream",
       "stream": "stdout",
       "text": [
        "\n",
        "98.63%"
       ]
      },
      {
       "output_type": "stream",
       "stream": "stdout",
       "text": [
        "\n",
        "98.70%"
       ]
      },
      {
       "output_type": "stream",
       "stream": "stdout",
       "text": [
        "\n",
        "98.77%"
       ]
      },
      {
       "output_type": "stream",
       "stream": "stdout",
       "text": [
        "\n",
        "98.84%"
       ]
      },
      {
       "output_type": "stream",
       "stream": "stdout",
       "text": [
        "\n",
        "98.91%"
       ]
      },
      {
       "output_type": "stream",
       "stream": "stdout",
       "text": [
        "\n",
        "98.97%"
       ]
      },
      {
       "output_type": "stream",
       "stream": "stdout",
       "text": [
        "\n",
        "99.04%"
       ]
      },
      {
       "output_type": "stream",
       "stream": "stdout",
       "text": [
        "\n",
        "99.11%"
       ]
      },
      {
       "output_type": "stream",
       "stream": "stdout",
       "text": [
        "\n",
        "99.18%"
       ]
      },
      {
       "output_type": "stream",
       "stream": "stdout",
       "text": [
        "\n",
        "99.25%"
       ]
      },
      {
       "output_type": "stream",
       "stream": "stdout",
       "text": [
        "\n",
        "99.32%"
       ]
      },
      {
       "output_type": "stream",
       "stream": "stdout",
       "text": [
        "\n",
        "99.38%"
       ]
      },
      {
       "output_type": "stream",
       "stream": "stdout",
       "text": [
        "\n",
        "99.45%"
       ]
      },
      {
       "output_type": "stream",
       "stream": "stdout",
       "text": [
        "\n",
        "99.52%"
       ]
      },
      {
       "output_type": "stream",
       "stream": "stdout",
       "text": [
        "\n",
        "99.59%"
       ]
      },
      {
       "output_type": "stream",
       "stream": "stdout",
       "text": [
        "\n",
        "99.66%"
       ]
      },
      {
       "output_type": "stream",
       "stream": "stdout",
       "text": [
        "\n",
        "99.73%"
       ]
      },
      {
       "output_type": "stream",
       "stream": "stdout",
       "text": [
        "\n",
        "99.79%"
       ]
      },
      {
       "output_type": "stream",
       "stream": "stdout",
       "text": [
        "\n",
        "99.86%"
       ]
      },
      {
       "output_type": "stream",
       "stream": "stdout",
       "text": [
        "\n",
        "99.93%"
       ]
      },
      {
       "output_type": "stream",
       "stream": "stdout",
       "text": [
        "\n"
       ]
      }
     ],
     "prompt_number": 5
    },
    {
     "cell_type": "heading",
     "level": 1,
     "metadata": {},
     "source": [
      "Time history"
     ]
    },
    {
     "cell_type": "code",
     "collapsed": false,
     "input": [
      "print 'From %.2f to %.2f, altogether %.2f sec.' % (start_time[0], start_time[-1], start_time[-1]-start_time[0])"
     ],
     "language": "python",
     "metadata": {},
     "outputs": [
      {
       "output_type": "stream",
       "stream": "stdout",
       "text": [
        "From 3366.01 to 4648.63, altogether 1282.61 sec.\n"
       ]
      }
     ],
     "prompt_number": 6
    },
    {
     "cell_type": "code",
     "collapsed": false,
     "input": [
      "from helperfuncs.PlotHistory import PlotHistory\n",
      "\n",
      "PlotHistory(qty_min, 0, qty_max, TD_meas, -1, 1, start_time, 0, start_time[-1]-start_time[0], 0, 40, \"Measurements\\nmin and max quality idx\")\n",
      "PlotHistory(qty2, 0, qty1, TD_meas, -1, 1, start_time, 0, start_time[-1]-start_time[0], 0, 40, \"Measurements\\nchannel 1 and 2 quality idx\")"
     ],
     "language": "python",
     "metadata": {},
     "outputs": [
      {
       "output_type": "display_data",
       "png": "[encoded data removed]"
      },
      {
       "output_type": "display_data",
       "png": "[encoded data removed]"
      }
     ],
     "prompt_number": 18
    },
    {
     "cell_type": "code",
     "collapsed": false,
     "input": [
      "from helperfuncs.PlotHistory import PlotHistory\n",
      "\n",
      "PlotHistory(qty_min, 0, qty_max, TD_meas, -1, 1, start_time, 0, start_time[-1]-start_time[0], 0, 40, \"Measurements\\nmin and max quality idx\")\n",
      "PlotHistory(qty_min, 0, qty_max, TD_meas, -0.14e-3, -0.06e-3, start_time, 0, start_time[-1]-start_time[0], 0, 40, \"Measurements\\nmin and max quality idx for -0.14<TD<-0.06\")\n",
      "PlotHistory(qty_min, 0, qty_max, TD_meas, 0.06e-3, 0.14e-3, start_time, 0, start_time[-1]-start_time[0], 0, 40, \"Measurements\\nmin and max quality idx for 0.06<TD<0.14\")"
     ],
     "language": "python",
     "metadata": {},
     "outputs": [
      {
       "output_type": "display_data",
       "png": "[encoded data removed]"
      },
      {
       "output_type": "display_data",
       "png": "[encoded data removed]"
      },
      {
       "output_type": "display_data",
       "png": "[encoded data removed]"
      }
     ],
     "prompt_number": 36
    },
    {
     "cell_type": "heading",
     "level": 1,
     "metadata": {},
     "source": [
      "GMM model estimate with EM"
     ]
    },
    {
     "cell_type": "heading",
     "level": 2,
     "metadata": {},
     "source": [
      "1D: TD"
     ]
    },
    {
     "cell_type": "code",
     "collapsed": false,
     "input": [
      "from helperfuncs.PlotTDHist import PlotTDHist\n",
      "\n",
      "PlotTDHist(TD_meas*1e3, fitcurve=False, x_lim_min=-0.4, x_lim_max=0.4, alpha=None, mu=None, sigma=None)"
     ],
     "language": "python",
     "metadata": {},
     "outputs": [
      {
       "output_type": "display_data",
       "png": "[encoded data removed]"
      }
     ],
     "prompt_number": 23
    },
    {
     "cell_type": "code",
     "collapsed": false,
     "input": [
      "from helperfuncs.GMM_estimate_EM import GMM_estimate_EM\n",
      "import numpy as np\n",
      "\n",
      "alpha_1, mu_1, sigma_1 = GMM_estimate_EM(TD_meas*1e3, alpha = np.array([1.0, 1.0]), mu = np.array([-0.14, 0.1]), sigma = np.array([[[0.005, 0.005]]]))\n",
      "mu_1 = mu_1.flatten()\n",
      "sigma_1 = np.sqrt(sigma_1.flatten())"
     ],
     "language": "python",
     "metadata": {},
     "outputs": [
      {
       "output_type": "stream",
       "stream": "stdout",
       "text": [
        "Iterations left: 10\n",
        "alpha: "
       ]
      },
      {
       "output_type": "stream",
       "stream": "stdout",
       "text": [
        "\n",
        "[ 0.57913601  0.42086399]\n",
        "mu: \n",
        "[[-0.10334179]\n",
        " [ 0.09474219]]\n",
        "sigma: \n",
        "[[[ 0.00059764  0.00254839]]]\n",
        "Likelihood: 2196.73\n",
        "change: 39.83%\n",
        "Iterations left: 10"
       ]
      },
      {
       "output_type": "stream",
       "stream": "stdout",
       "text": [
        "\n",
        "alpha: "
       ]
      },
      {
       "output_type": "stream",
       "stream": "stdout",
       "text": [
        "\n",
        "[ 0.57829906  0.42170094]\n",
        "mu: \n",
        "[[-0.10530297]\n",
        " [ 0.09703852]]\n",
        "sigma: \n",
        "[[[ 0.00031152  0.00193873]]]\n",
        "Likelihood: 2324.24\n",
        "change: 5.49%\n",
        "Iterations left: 10"
       ]
      },
      {
       "output_type": "stream",
       "stream": "stdout",
       "text": [
        "\n",
        "alpha: "
       ]
      },
      {
       "output_type": "stream",
       "stream": "stdout",
       "text": [
        "\n",
        "[ 0.57201216  0.42798784]\n",
        "mu: \n",
        "[[-0.10520157]\n",
        " [ 0.09393071]]\n",
        "sigma: \n",
        "[[[ 0.00016803  0.00275319]]]\n",
        "Likelihood: 2450.32\n",
        "change: 5.15%\n",
        "Iterations left: 10"
       ]
      },
      {
       "output_type": "stream",
       "stream": "stdout",
       "text": [
        "\n",
        "alpha: "
       ]
      },
      {
       "output_type": "stream",
       "stream": "stdout",
       "text": [
        "\n",
        "[ 0.56684562  0.43315438]\n",
        "mu: \n",
        "[[-0.105612  ]\n",
        " [ 0.09209263]]\n",
        "sigma: \n",
        "[[[ 0.00013512  0.00302089]]]\n",
        "Likelihood: 2463.63\n",
        "change: 0.54%\n"
       ]
      }
     ],
     "prompt_number": 21
    },
    {
     "cell_type": "code",
     "collapsed": false,
     "input": [
      "from helperfuncs.PlotTDHist import PlotTDHist\n",
      "\n",
      "PlotTDHist(TD_meas*1e3, fitcurve=True, x_lim_min=-0.4, x_lim_max=0.4, alpha=alpha_1, mu=mu_1, sigma=sigma_1)"
     ],
     "language": "python",
     "metadata": {},
     "outputs": [
      {
       "output_type": "display_data",
       "png": "[encoded data removed]"
      }
     ],
     "prompt_number": 24
    },
    {
     "cell_type": "code",
     "collapsed": false,
     "input": [
      "import numpy as np\n",
      "\n",
      "pickbest = 400\n",
      "TD_meas_p = (np.array(TD_meas)[np.argsort(qty_min)])[-pickbest:]\n",
      "alpha_1p, mu_1p, sigma_1p = GMM_estimate_EM(TD_meas_p*1e3, alpha = np.array([1.0, 1.0]), mu = np.array([-0.14, 0.1]), sigma = np.array([[[0.005, 0.005]]]))\n",
      "mu_1p = mu_1p.flatten()\n",
      "sigma_1p = np.sqrt(sigma_1p.flatten())"
     ],
     "language": "python",
     "metadata": {},
     "outputs": [
      {
       "output_type": "stream",
       "stream": "stdout",
       "text": [
        "Iterations left: 10\n",
        "alpha: "
       ]
      },
      {
       "output_type": "stream",
       "stream": "stdout",
       "text": [
        "\n",
        "[ 0.60388717  0.39611283]\n",
        "mu: \n",
        "[[-0.11363368]\n",
        " [ 0.10969583]]\n",
        "sigma: \n",
        "[[[  6.56132106e-05   8.69336926e-04]]]\n",
        "Likelihood: 1067.77\n",
        "change: 62.73%\n",
        "Iterations left: 10"
       ]
      },
      {
       "output_type": "stream",
       "stream": "stdout",
       "text": [
        "\n",
        "alpha: "
       ]
      },
      {
       "output_type": "stream",
       "stream": "stdout",
       "text": [
        "\n",
        "[ 0.61  0.39]\n",
        "mu: \n",
        "[[-0.11386885]\n",
        " [ 0.1135641 ]]\n",
        "sigma: \n",
        "[[[  1.06858968e-05   6.75016714e-06]]]\n",
        "Likelihood: 1490.07\n",
        "change: 28.34%\n",
        "Iterations left: 10"
       ]
      },
      {
       "output_type": "stream",
       "stream": "stdout",
       "text": [
        "\n",
        "alpha: "
       ]
      },
      {
       "output_type": "stream",
       "stream": "stdout",
       "text": [
        "\n",
        "[ 0.61  0.39]\n",
        "mu: \n",
        "[[-0.11386885]\n",
        " [ 0.1135641 ]]\n",
        "sigma: \n",
        "[[[  1.06858969e-05   6.75016437e-06]]]\n",
        "Likelihood: 1490.07\n",
        "change: 0.00%\n"
       ]
      }
     ],
     "prompt_number": 27
    },
    {
     "cell_type": "code",
     "collapsed": false,
     "input": [
      "from helperfuncs.PlotTDHist import PlotTDHist\n",
      "\n",
      "PlotTDHist(TD_meas_p*1e3, fitcurve=True, x_lim_min=-0.4, x_lim_max=0.4, alpha=alpha_1p, mu=mu_1p, sigma=sigma_1p)"
     ],
     "language": "python",
     "metadata": {},
     "outputs": [
      {
       "output_type": "display_data",
       "png": "[encoded data removed]"
      }
     ],
     "prompt_number": 28
    },
    {
     "cell_type": "heading",
     "level": 2,
     "metadata": {},
     "source": [
      "2D: TD and quality idx"
     ]
    },
    {
     "cell_type": "code",
     "collapsed": false,
     "input": [
      "from helperfuncs.GMM_estimate_EM import GMM_estimate_EM\n",
      "import numpy as np\n",
      "\n",
      "alpha0 = np.array([1.0, 1.0, 1.0])\n",
      "mu0 = np.array([ [-0.14, 1.0], [0.1, 1.0], [0.0, -1.0]])\n",
      "sigma0 = np.array( [[[0.005, 0.005, 0.005],[0.0, 0.0, 0.0]], [[0.0, 0.0, 0.0],[0.005, 0.005, 0.005]]] )\n",
      "x1 = TD_meas*1e3\n",
      "x2 = np.log10(qty_min)\n",
      "x = np.concatenate((np.reshape(x1, (x1.shape[0],-1)),np.reshape(x2, (x2.shape[0],-1))), axis=1)\n",
      "\n",
      "alpha_1, mu_1, sigma_1 = GMM_estimate_EM( x, alpha = alpha0, mu = mu0, sigma = sigma0 )"
     ],
     "language": "python",
     "metadata": {},
     "outputs": [
      {
       "output_type": "stream",
       "stream": "stdout",
       "text": [
        "Iterations left: 10\n",
        "alpha: "
       ]
      },
      {
       "output_type": "stream",
       "stream": "stdout",
       "text": [
        "\n",
        "[ 0.55336929  0.36865533  0.07797538]\n",
        "mu: \n",
        "[[-0.10562753  1.06472413]\n",
        " [ 0.10091904  1.0637503 ]\n",
        " [ 0.01630409 -0.88995605]]\n",
        "sigma: \n",
        "[[[ 0.00020099  0.00134837  0.01056162]\n",
        "  [-0.00167306  0.00224233  0.00207575]]\n",
        "\n",
        " [[-0.00167306  0.00224233  0.00207575]\n",
        "  [ 0.03261772  0.03211339  0.02379409]]]\n",
        "Likelihood: 3331.09\n",
        "change: 163.29%\n",
        "Iterations left: 10"
       ]
      },
      {
       "output_type": "stream",
       "stream": "stdout",
       "text": [
        "\n",
        "alpha: "
       ]
      },
      {
       "output_type": "stream",
       "stream": "stdout",
       "text": [
        "\n",
        "[ 0.56292641  0.35909821  0.07797538]\n",
        "mu: \n",
        "[[-0.1058583   1.06296595]\n",
        " [ 0.10677786  1.06648052]\n",
        " [ 0.01630409 -0.88995605]]\n",
        "sigma: \n",
        "[[[ 0.00012673  0.00017608  0.01056162]\n",
        "  [-0.00167201  0.00176469  0.00207575]]\n",
        "\n",
        " [[-0.00167201  0.00176469  0.00207575]\n",
        "  [ 0.03302252  0.03145844  0.02379409]]]\n",
        "Likelihood: 3967.16\n",
        "change: 16.03%\n",
        "Iterations left: 10"
       ]
      },
      {
       "output_type": "stream",
       "stream": "stdout",
       "text": [
        "\n",
        "alpha: "
       ]
      },
      {
       "output_type": "stream",
       "stream": "stdout",
       "text": [
        "\n",
        "[ 0.5629275   0.35909713  0.07797538]\n",
        "mu: \n",
        "[[-0.10585824  1.06296521]\n",
        " [ 0.10677841  1.06648169]\n",
        " [ 0.01630409 -0.88995605]]\n",
        "sigma: \n",
        "[[[ 0.00012673  0.00017598  0.01056162]\n",
        "  [-0.00167203  0.00176448  0.00207575]]\n",
        "\n",
        " [[-0.00167203  0.00176448  0.00207575]\n",
        "  [ 0.03302275  0.03145807  0.02379409]]]\n",
        "Likelihood: 3967.16\n",
        "change: 0.00%\n"
       ]
      }
     ],
     "prompt_number": 30
    },
    {
     "cell_type": "code",
     "collapsed": false,
     "input": [
      "from helperfuncs.PlotScatter2Dhist import PlotScatter2Dhist\n",
      "\n",
      "PlotScatter2Dhist(TD_meas*1e3, qty_min, 'time diff [msec]', 'quality idx []', ylim_min=0, ylim_max=30, xlim_min=-0.4, xlim_max=0.4)\n",
      "PlotScatter2Dhist(TD_meas*1e3, np.log10(qty_min), 'time diff [msec]', 'log10(quality idx) []', ylim_min=-2, ylim_max=2, xlim_min=-0.4, xlim_max=0.4, fitcurve=True, alpha=alpha_1, mu=mu_1, sigma=sigma_1)"
     ],
     "language": "python",
     "metadata": {},
     "outputs": [
      {
       "output_type": "display_data",
       "png": "[encoded data removed]"
      },
      {
       "output_type": "display_data",
       "png": "[encoded data removed]"
      }
     ],
     "prompt_number": 32
    },
    {
     "cell_type": "code",
     "collapsed": false,
     "input": [],
     "language": "python",
     "metadata": {},
     "outputs": [],
     "prompt_number": 15
    }
   ],
   "metadata": {}
  }
 ]
}
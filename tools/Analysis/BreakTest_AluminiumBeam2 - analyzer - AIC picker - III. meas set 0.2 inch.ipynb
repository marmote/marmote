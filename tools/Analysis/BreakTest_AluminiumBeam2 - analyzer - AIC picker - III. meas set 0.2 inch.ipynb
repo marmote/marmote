{
 "metadata": {
  "name": "BreakTest_AluminiumBeam2 - analyzer - AIC picker - III. meas set 0.2 inch"
 },
 "nbformat": 3,
 "nbformat_minor": 0,
 "worksheets": [
  {
   "cells": [
    {
     "cell_type": "heading",
     "level": 1,
     "metadata": {},
     "source": [
      "Read in preprocessed raw data"
     ]
    },
    {
     "cell_type": "markdown",
     "metadata": {},
     "source": [
      "First let's read in the data from BreakTest_AluminiumBeam measurement. Note that the threshold filter has already filtered out the frames with signals in them."
     ]
    },
    {
     "cell_type": "code",
     "collapsed": false,
     "input": [
      "from helperfuncs.ReadAEMeas import ReadAEMeas\n",
      "\n",
      "dir = '../../../Measurements/BreakTest_AluminiumBeam2/results2/3-0.2'\n",
      "y, y2, T, fnames, start_time = ReadAEMeas(dir)\n",
      "\n",
      "Fs = 1/T\n",
      "#print Fs"
     ],
     "language": "python",
     "metadata": {},
     "outputs": [
      {
       "output_type": "stream",
       "stream": "stdout",
       "text": [
        "Module folder added to system path: /home/ubuntu/Marmote/tools/ControlRecord/ControlRecord\n",
        "Opening file: ../../../Measurements/BreakTest_AluminiumBeam2/results2/3-0.2/collect_0.bin"
       ]
      },
      {
       "output_type": "stream",
       "stream": "stdout",
       "text": [
        "\n",
        "Closed file: ../../../Measurements/BreakTest_AluminiumBeam2/results2/3-0.2/collect_0.bin"
       ]
      },
      {
       "output_type": "stream",
       "stream": "stdout",
       "text": [
        "\n",
        "Opening file: ../../../Measurements/BreakTest_AluminiumBeam2/results2/3-0.2/collect_1.bin"
       ]
      },
      {
       "output_type": "stream",
       "stream": "stdout",
       "text": [
        "\n",
        "Closed file: ../../../Measurements/BreakTest_AluminiumBeam2/results2/3-0.2/collect_1.bin\n",
        "Opening file: ../../../Measurements/BreakTest_AluminiumBeam2/results2/3-0.2/collect_2.bin\n",
        "Closed file: ../../../Measurements/BreakTest_AluminiumBeam2/results2/3-0.2/collect_2.bin"
       ]
      },
      {
       "output_type": "stream",
       "stream": "stdout",
       "text": [
        "\n",
        "Opening file: ../../../Measurements/BreakTest_AluminiumBeam2/results2/3-0.2/collect_3.bin\n",
        "Closed file: ../../../Measurements/BreakTest_AluminiumBeam2/results2/3-0.2/collect_3.bin\n",
        "Opening file: ../../../Measurements/BreakTest_AluminiumBeam2/results2/3-0.2/collect_4.bin\n",
        "Closed file: ../../../Measurements/BreakTest_AluminiumBeam2/results2/3-0.2/collect_4.bin\n",
        "Opening file: ../../../Measurements/BreakTest_AluminiumBeam2/results2/3-0.2/collect_5.bin\n",
        "Closed file: ../../../Measurements/BreakTest_AluminiumBeam2/results2/3-0.2/collect_5.bin\n",
        "Opening file: ../../../Measurements/BreakTest_AluminiumBeam2/results2/3-0.2/collect_6.bin\n",
        "Closed file: ../../../Measurements/BreakTest_AluminiumBeam2/results2/3-0.2/collect_6.bin"
       ]
      },
      {
       "output_type": "stream",
       "stream": "stdout",
       "text": [
        "\n",
        "Opening file: ../../../Measurements/BreakTest_AluminiumBeam2/results2/3-0.2/collect_7.bin\n",
        "Closed file: ../../../Measurements/BreakTest_AluminiumBeam2/results2/3-0.2/collect_7.bin\n",
        "Opening file: ../../../Measurements/BreakTest_AluminiumBeam2/results2/3-0.2/collect_8.bin\n",
        "Closed file: ../../../Measurements/BreakTest_AluminiumBeam2/results2/3-0.2/collect_8.bin\n",
        "Opening file: ../../../Measurements/BreakTest_AluminiumBeam2/results2/3-0.2/collect_9.bin"
       ]
      },
      {
       "output_type": "stream",
       "stream": "stdout",
       "text": [
        "\n",
        "Closed file: ../../../Measurements/BreakTest_AluminiumBeam2/results2/3-0.2/collect_9.bin\n",
        "Opening file: ../../../Measurements/BreakTest_AluminiumBeam2/results2/3-0.2/collect_10.bin\n",
        "Closed file: ../../../Measurements/BreakTest_AluminiumBeam2/results2/3-0.2/collect_10.bin\n",
        "Opening file: ../../../Measurements/BreakTest_AluminiumBeam2/results2/3-0.2/collect_11.bin\n",
        "Closed file: ../../../Measurements/BreakTest_AluminiumBeam2/results2/3-0.2/collect_11.bin\n",
        "Opening file: ../../../Measurements/BreakTest_AluminiumBeam2/results2/3-0.2/collect_12.bin\n",
        "Closed file: ../../../Measurements/BreakTest_AluminiumBeam2/results2/3-0.2/collect_12.bin"
       ]
      },
      {
       "output_type": "stream",
       "stream": "stdout",
       "text": [
        "\n",
        "Opening file: ../../../Measurements/BreakTest_AluminiumBeam2/results2/3-0.2/collect_13.bin\n",
        "Closed file: ../../../Measurements/BreakTest_AluminiumBeam2/results2/3-0.2/collect_13.bin\n",
        "Opening file: ../../../Measurements/BreakTest_AluminiumBeam2/results2/3-0.2/collect_14.bin\n",
        "Closed file: ../../../Measurements/BreakTest_AluminiumBeam2/results2/3-0.2/collect_14.bin\n",
        "Opening file: ../../../Measurements/BreakTest_AluminiumBeam2/results2/3-0.2/collect_15.bin\n",
        "Closed file: ../../../Measurements/BreakTest_AluminiumBeam2/results2/3-0.2/collect_15.bin\n",
        "Opening file: ../../../Measurements/BreakTest_AluminiumBeam2/results2/3-0.2/collect_16.bin\n",
        "Closed file: ../../../Measurements/BreakTest_AluminiumBeam2/results2/3-0.2/collect_16.bin"
       ]
      },
      {
       "output_type": "stream",
       "stream": "stdout",
       "text": [
        "\n",
        "Opening file: ../../../Measurements/BreakTest_AluminiumBeam2/results2/3-0.2/collect_17.bin\n",
        "Closed file: ../../../Measurements/BreakTest_AluminiumBeam2/results2/3-0.2/collect_17.bin\n",
        "Opening file: ../../../Measurements/BreakTest_AluminiumBeam2/results2/3-0.2/collect_18.bin\n",
        "Closed file: ../../../Measurements/BreakTest_AluminiumBeam2/results2/3-0.2/collect_18.bin\n",
        "Opening file: ../../../Measurements/BreakTest_AluminiumBeam2/results2/3-0.2/collect_19.bin\n",
        "Closed file: ../../../Measurements/BreakTest_AluminiumBeam2/results2/3-0.2/collect_19.bin\n",
        "Opening file: ../../../Measurements/BreakTest_AluminiumBeam2/results2/3-0.2/collect_20.bin\n",
        "Closed file: ../../../Measurements/BreakTest_AluminiumBeam2/results2/3-0.2/collect_20.bin"
       ]
      },
      {
       "output_type": "stream",
       "stream": "stdout",
       "text": [
        "\n",
        "Opening file: ../../../Measurements/BreakTest_AluminiumBeam2/results2/3-0.2/collect_21.bin\n",
        "Closed file: ../../../Measurements/BreakTest_AluminiumBeam2/results2/3-0.2/collect_21.bin\n",
        "Opening file: ../../../Measurements/BreakTest_AluminiumBeam2/results2/3-0.2/collect_22.bin\n",
        "Closed file: ../../../Measurements/BreakTest_AluminiumBeam2/results2/3-0.2/collect_22.bin\n",
        "Opening file: ../../../Measurements/BreakTest_AluminiumBeam2/results2/3-0.2/collect_23.bin\n",
        "Closed file: ../../../Measurements/BreakTest_AluminiumBeam2/results2/3-0.2/collect_23.bin\n",
        "Opening file: ../../../Measurements/BreakTest_AluminiumBeam2/results2/3-0.2/collect_24.bin\n",
        "Closed file: ../../../Measurements/BreakTest_AluminiumBeam2/results2/3-0.2/collect_24.bin"
       ]
      },
      {
       "output_type": "stream",
       "stream": "stdout",
       "text": [
        "\n",
        "Opening file: ../../../Measurements/BreakTest_AluminiumBeam2/results2/3-0.2/collect_25.bin\n",
        "Closed file: ../../../Measurements/BreakTest_AluminiumBeam2/results2/3-0.2/collect_25.bin\n",
        "Opening file: ../../../Measurements/BreakTest_AluminiumBeam2/results2/3-0.2/collect_26.bin\n",
        "Closed file: ../../../Measurements/BreakTest_AluminiumBeam2/results2/3-0.2/collect_26.bin\n",
        "Opening file: ../../../Measurements/BreakTest_AluminiumBeam2/results2/3-0.2/collect_27.bin\n",
        "Closed file: ../../../Measurements/BreakTest_AluminiumBeam2/results2/3-0.2/collect_27.bin\n",
        "Opening file: ../../../Measurements/BreakTest_AluminiumBeam2/results2/3-0.2/collect_28.bin"
       ]
      },
      {
       "output_type": "stream",
       "stream": "stdout",
       "text": [
        "\n",
        "Closed file: ../../../Measurements/BreakTest_AluminiumBeam2/results2/3-0.2/collect_28.bin\n",
        "Opening file: ../../../Measurements/BreakTest_AluminiumBeam2/results2/3-0.2/collect_29.bin\n",
        "Closed file: ../../../Measurements/BreakTest_AluminiumBeam2/results2/3-0.2/collect_29.bin\n",
        "Opening file: ../../../Measurements/BreakTest_AluminiumBeam2/results2/3-0.2/collect_30.bin\n",
        "Closed file: ../../../Measurements/BreakTest_AluminiumBeam2/results2/3-0.2/collect_30.bin\n",
        "Opening file: ../../../Measurements/BreakTest_AluminiumBeam2/results2/3-0.2/collect_31.bin\n",
        "Closed file: ../../../Measurements/BreakTest_AluminiumBeam2/results2/3-0.2/collect_31.bin"
       ]
      },
      {
       "output_type": "stream",
       "stream": "stdout",
       "text": [
        "\n",
        "Opening file: ../../../Measurements/BreakTest_AluminiumBeam2/results2/3-0.2/collect_32.bin\n",
        "Closed file: ../../../Measurements/BreakTest_AluminiumBeam2/results2/3-0.2/collect_32.bin\n",
        "Opening file: ../../../Measurements/BreakTest_AluminiumBeam2/results2/3-0.2/collect_33.bin\n",
        "Closed file: ../../../Measurements/BreakTest_AluminiumBeam2/results2/3-0.2/collect_33.bin\n",
        "Opening file: ../../../Measurements/BreakTest_AluminiumBeam2/results2/3-0.2/collect_34.bin\n",
        "Closed file: ../../../Measurements/BreakTest_AluminiumBeam2/results2/3-0.2/collect_34.bin\n",
        "Opening file: ../../../Measurements/BreakTest_AluminiumBeam2/results2/3-0.2/collect_35.bin\n",
        "Closed file: ../../../Measurements/BreakTest_AluminiumBeam2/results2/3-0.2/collect_35.bin"
       ]
      },
      {
       "output_type": "stream",
       "stream": "stdout",
       "text": [
        "\n",
        "Opening file: ../../../Measurements/BreakTest_AluminiumBeam2/results2/3-0.2/collect_36.bin\n",
        "Closed file: ../../../Measurements/BreakTest_AluminiumBeam2/results2/3-0.2/collect_36.bin\n",
        "Opening file: ../../../Measurements/BreakTest_AluminiumBeam2/results2/3-0.2/collect_37.bin\n",
        "Closed file: ../../../Measurements/BreakTest_AluminiumBeam2/results2/3-0.2/collect_37.bin\n",
        "Opening file: ../../../Measurements/BreakTest_AluminiumBeam2/results2/3-0.2/collect_38.bin\n",
        "Closed file: ../../../Measurements/BreakTest_AluminiumBeam2/results2/3-0.2/collect_38.bin"
       ]
      },
      {
       "output_type": "stream",
       "stream": "stdout",
       "text": [
        "\n",
        "Opening file: ../../../Measurements/BreakTest_AluminiumBeam2/results2/3-0.2/collect_39.bin\n",
        "Closed file: ../../../Measurements/BreakTest_AluminiumBeam2/results2/3-0.2/collect_39.bin\n",
        "Opening file: ../../../Measurements/BreakTest_AluminiumBeam2/results2/3-0.2/collect_40.bin\n",
        "Closed file: ../../../Measurements/BreakTest_AluminiumBeam2/results2/3-0.2/collect_40.bin\n",
        "Opening file: ../../../Measurements/BreakTest_AluminiumBeam2/results2/3-0.2/collect_41.bin\n",
        "Closed file: ../../../Measurements/BreakTest_AluminiumBeam2/results2/3-0.2/collect_41.bin\n",
        "Opening file: ../../../Measurements/BreakTest_AluminiumBeam2/results2/3-0.2/collect_42.bin\n",
        "Closed file: ../../../Measurements/BreakTest_AluminiumBeam2/results2/3-0.2/collect_42.bin"
       ]
      },
      {
       "output_type": "stream",
       "stream": "stdout",
       "text": [
        "\n",
        "Opening file: ../../../Measurements/BreakTest_AluminiumBeam2/results2/3-0.2/collect_43.bin\n",
        "Closed file: ../../../Measurements/BreakTest_AluminiumBeam2/results2/3-0.2/collect_43.bin\n",
        "Opening file: ../../../Measurements/BreakTest_AluminiumBeam2/results2/3-0.2/collect_44.bin\n",
        "Closed file: ../../../Measurements/BreakTest_AluminiumBeam2/results2/3-0.2/collect_44.bin\n",
        "Opening file: ../../../Measurements/BreakTest_AluminiumBeam2/results2/3-0.2/collect_45.bin\n",
        "Closed file: ../../../Measurements/BreakTest_AluminiumBeam2/results2/3-0.2/collect_45.bin"
       ]
      },
      {
       "output_type": "stream",
       "stream": "stdout",
       "text": [
        "\n",
        "Opening file: ../../../Measurements/BreakTest_AluminiumBeam2/results2/3-0.2/collect_46.bin\n",
        "Closed file: ../../../Measurements/BreakTest_AluminiumBeam2/results2/3-0.2/collect_46.bin\n",
        "Opening file: ../../../Measurements/BreakTest_AluminiumBeam2/results2/3-0.2/collect_47.bin\n",
        "Closed file: ../../../Measurements/BreakTest_AluminiumBeam2/results2/3-0.2/collect_47.bin\n",
        "Opening file: ../../../Measurements/BreakTest_AluminiumBeam2/results2/3-0.2/collect_48.bin\n",
        "Closed file: ../../../Measurements/BreakTest_AluminiumBeam2/results2/3-0.2/collect_48.bin\n",
        "Opening file: ../../../Measurements/BreakTest_AluminiumBeam2/results2/3-0.2/collect_49.bin\n",
        "Closed file: ../../../Measurements/BreakTest_AluminiumBeam2/results2/3-0.2/collect_49.bin"
       ]
      },
      {
       "output_type": "stream",
       "stream": "stdout",
       "text": [
        "\n"
       ]
      }
     ],
     "prompt_number": 1
    },
    {
     "cell_type": "code",
     "collapsed": false,
     "input": [
      "import numpy as np\n",
      "\n",
      "def removeDC(ys):\n",
      "    for ii in xrange(len(ys)):\n",
      "        ys[ii] -= np.mean(ys[ii])\n",
      "    return ys\n",
      "\n",
      "def trimlength(ys):\n",
      "    for ii in xrange(len(ys)):\n",
      "        ys[ii] = ys[ii][:1000]\n",
      "    return ys"
     ],
     "language": "python",
     "metadata": {},
     "outputs": [],
     "prompt_number": 2
    },
    {
     "cell_type": "code",
     "collapsed": false,
     "input": [
      "y = trimlength(removeDC(y))\n",
      "y2 = trimlength(removeDC(y2))"
     ],
     "language": "python",
     "metadata": {},
     "outputs": [],
     "prompt_number": 3
    },
    {
     "cell_type": "heading",
     "level": 1,
     "metadata": {},
     "source": [
      "Time Difference of Arrival (TDOA)"
     ]
    },
    {
     "cell_type": "markdown",
     "metadata": {},
     "source": [
      "Theoretical value of TD."
     ]
    },
    {
     "cell_type": "code",
     "collapsed": false,
     "input": [
      "v = 3909.49 #m/s - sound speed in aluminium\n",
      "dist_diff = (35.5-17.3)*0.0254 #m - distance difference of sensors\n",
      "\n",
      "TD = dist_diff/v #s - theoretical TD\n",
      "print 'Theoretical time difference: %.2f us' % (TD*1000000)\n",
      "#print 'Distance traveled in 810.7 usec: %.2f m' % (810.7e-6*v)"
     ],
     "language": "python",
     "metadata": {},
     "outputs": [
      {
       "output_type": "stream",
       "stream": "stdout",
       "text": [
        "Theoretical time difference: 118.25 us\n"
       ]
      }
     ],
     "prompt_number": 4
    },
    {
     "cell_type": "heading",
     "level": 2,
     "metadata": {},
     "source": [
      "Akaike Information Criterion (AIC)"
     ]
    },
    {
     "cell_type": "markdown",
     "metadata": {},
     "source": [
      "Calculate TDOA using the Akaike Information Criterion (AIC) as onset picker."
     ]
    },
    {
     "cell_type": "code",
     "collapsed": false,
     "input": [
      "from helperfuncs.CalculateTDOA import CalculateTDOA\n",
      "from helperfuncs.Onset_AIC import Onset_AIC\n",
      "\n",
      "AE_start, AE_start2, TD_meas, qty1, qty2 = CalculateTDOA(y, y2, T, Onset_AIC)\n",
      "qty_min = np.minimum(qty1, qty2)\n",
      "qty_max = np.maximum(qty1, qty2)"
     ],
     "language": "python",
     "metadata": {},
     "outputs": [
      {
       "output_type": "stream",
       "stream": "stdout",
       "text": [
        "0.00%\n",
        "2.00%"
       ]
      },
      {
       "output_type": "stream",
       "stream": "stdout",
       "text": [
        "\n",
        "4.00%"
       ]
      },
      {
       "output_type": "stream",
       "stream": "stdout",
       "text": [
        "\n",
        "6.00%"
       ]
      },
      {
       "output_type": "stream",
       "stream": "stdout",
       "text": [
        "\n",
        "8.00%"
       ]
      },
      {
       "output_type": "stream",
       "stream": "stdout",
       "text": [
        "\n",
        "10.00%"
       ]
      },
      {
       "output_type": "stream",
       "stream": "stdout",
       "text": [
        "\n",
        "12.00%"
       ]
      },
      {
       "output_type": "stream",
       "stream": "stdout",
       "text": [
        "\n",
        "14.00%"
       ]
      },
      {
       "output_type": "stream",
       "stream": "stdout",
       "text": [
        "\n",
        "16.00%"
       ]
      },
      {
       "output_type": "stream",
       "stream": "stdout",
       "text": [
        "\n",
        "18.00%"
       ]
      },
      {
       "output_type": "stream",
       "stream": "stdout",
       "text": [
        "\n",
        "20.00%"
       ]
      },
      {
       "output_type": "stream",
       "stream": "stdout",
       "text": [
        "\n",
        "22.00%"
       ]
      },
      {
       "output_type": "stream",
       "stream": "stdout",
       "text": [
        "\n",
        "24.00%"
       ]
      },
      {
       "output_type": "stream",
       "stream": "stdout",
       "text": [
        "\n",
        "26.00%"
       ]
      },
      {
       "output_type": "stream",
       "stream": "stdout",
       "text": [
        "\n",
        "28.00%"
       ]
      },
      {
       "output_type": "stream",
       "stream": "stdout",
       "text": [
        "\n",
        "30.00%"
       ]
      },
      {
       "output_type": "stream",
       "stream": "stdout",
       "text": [
        "\n",
        "32.00%"
       ]
      },
      {
       "output_type": "stream",
       "stream": "stdout",
       "text": [
        "\n",
        "34.00%"
       ]
      },
      {
       "output_type": "stream",
       "stream": "stdout",
       "text": [
        "\n",
        "36.00%"
       ]
      },
      {
       "output_type": "stream",
       "stream": "stdout",
       "text": [
        "\n",
        "38.00%"
       ]
      },
      {
       "output_type": "stream",
       "stream": "stdout",
       "text": [
        "\n",
        "40.00%"
       ]
      },
      {
       "output_type": "stream",
       "stream": "stdout",
       "text": [
        "\n",
        "42.00%"
       ]
      },
      {
       "output_type": "stream",
       "stream": "stdout",
       "text": [
        "\n",
        "44.00%"
       ]
      },
      {
       "output_type": "stream",
       "stream": "stdout",
       "text": [
        "\n",
        "46.00%"
       ]
      },
      {
       "output_type": "stream",
       "stream": "stdout",
       "text": [
        "\n",
        "48.00%"
       ]
      },
      {
       "output_type": "stream",
       "stream": "stdout",
       "text": [
        "\n",
        "50.00%"
       ]
      },
      {
       "output_type": "stream",
       "stream": "stdout",
       "text": [
        "\n",
        "52.00%"
       ]
      },
      {
       "output_type": "stream",
       "stream": "stdout",
       "text": [
        "\n",
        "54.00%"
       ]
      },
      {
       "output_type": "stream",
       "stream": "stdout",
       "text": [
        "\n",
        "56.00%"
       ]
      },
      {
       "output_type": "stream",
       "stream": "stdout",
       "text": [
        "\n",
        "58.00%"
       ]
      },
      {
       "output_type": "stream",
       "stream": "stdout",
       "text": [
        "\n",
        "60.00%"
       ]
      },
      {
       "output_type": "stream",
       "stream": "stdout",
       "text": [
        "\n",
        "62.00%"
       ]
      },
      {
       "output_type": "stream",
       "stream": "stdout",
       "text": [
        "\n",
        "64.00%"
       ]
      },
      {
       "output_type": "stream",
       "stream": "stdout",
       "text": [
        "\n",
        "66.00%"
       ]
      },
      {
       "output_type": "stream",
       "stream": "stdout",
       "text": [
        "\n",
        "68.00%"
       ]
      },
      {
       "output_type": "stream",
       "stream": "stdout",
       "text": [
        "\n",
        "70.00%"
       ]
      },
      {
       "output_type": "stream",
       "stream": "stdout",
       "text": [
        "\n",
        "72.00%"
       ]
      },
      {
       "output_type": "stream",
       "stream": "stdout",
       "text": [
        "\n",
        "74.00%"
       ]
      },
      {
       "output_type": "stream",
       "stream": "stdout",
       "text": [
        "\n",
        "76.00%"
       ]
      },
      {
       "output_type": "stream",
       "stream": "stdout",
       "text": [
        "\n",
        "78.00%"
       ]
      },
      {
       "output_type": "stream",
       "stream": "stdout",
       "text": [
        "\n",
        "80.00%"
       ]
      },
      {
       "output_type": "stream",
       "stream": "stdout",
       "text": [
        "\n",
        "82.00%"
       ]
      },
      {
       "output_type": "stream",
       "stream": "stdout",
       "text": [
        "\n",
        "84.00%"
       ]
      },
      {
       "output_type": "stream",
       "stream": "stdout",
       "text": [
        "\n",
        "86.00%"
       ]
      },
      {
       "output_type": "stream",
       "stream": "stdout",
       "text": [
        "\n",
        "88.00%"
       ]
      },
      {
       "output_type": "stream",
       "stream": "stdout",
       "text": [
        "\n",
        "90.00%"
       ]
      },
      {
       "output_type": "stream",
       "stream": "stdout",
       "text": [
        "\n",
        "92.00%"
       ]
      },
      {
       "output_type": "stream",
       "stream": "stdout",
       "text": [
        "\n",
        "94.00%"
       ]
      },
      {
       "output_type": "stream",
       "stream": "stdout",
       "text": [
        "\n",
        "96.00%"
       ]
      },
      {
       "output_type": "stream",
       "stream": "stdout",
       "text": [
        "\n",
        "98.00%"
       ]
      },
      {
       "output_type": "stream",
       "stream": "stdout",
       "text": [
        "\n"
       ]
      }
     ],
     "prompt_number": 5
    },
    {
     "cell_type": "heading",
     "level": 1,
     "metadata": {},
     "source": [
      "Time history"
     ]
    },
    {
     "cell_type": "code",
     "collapsed": false,
     "input": [
      "print 'From %.2f to %.2f, altogether %.2f sec.' % (start_time[0], start_time[-1], start_time[-1]-start_time[0])"
     ],
     "language": "python",
     "metadata": {},
     "outputs": [
      {
       "output_type": "stream",
       "stream": "stdout",
       "text": [
        "From 6930.77 to 7532.25, altogether 601.48 sec.\n"
       ]
      }
     ],
     "prompt_number": 6
    },
    {
     "cell_type": "code",
     "collapsed": false,
     "input": [
      "from helperfuncs.PlotHistory import PlotHistory\n",
      "\n",
      "PlotHistory(qty_min, 0, qty_max, TD_meas, -1, 1, start_time, 0, start_time[-1]-start_time[0], 0, 40, \"Measurements\\nmin and max quality idx\")\n",
      "PlotHistory(qty2, 0, qty1, TD_meas, -1, 1, start_time, 0, start_time[-1]-start_time[0], 0, 40, \"Measurements\\nchannel 1 and 2 quality idx\")"
     ],
     "language": "python",
     "metadata": {},
     "outputs": [
      {
       "output_type": "display_data",
       "png": "[encoded data removed]"
      },
      {
       "output_type": "display_data",
       "png": "[encoded data removed]"
      }
     ],
     "prompt_number": 7
    },
    {
     "cell_type": "code",
     "collapsed": false,
     "input": [
      "from helperfuncs.PlotHistory import PlotHistory\n",
      "\n",
      "PlotHistory(qty_min, 0, qty_max, TD_meas, -1, 1, start_time, 0, start_time[-1]-start_time[0], 0, 40, \"Measurements\\nmin and max quality idx\")\n",
      "PlotHistory(qty_min, 0, qty_max, TD_meas, -0.14e-3, -0.06e-3, start_time, 0, start_time[-1]-start_time[0], 0, 40, \"Measurements\\nmin and max quality idx for -0.14<TD<-0.06\")\n",
      "#PlotHistory(qty_min, 0, qty_max, TD_meas, 0.06e-3, 0.14e-3, start_time, 0, start_time[-1]-start_time[0], 0, 40, \"Measurements\\nmin and max quality idx for 0.06<TD<0.14\")"
     ],
     "language": "python",
     "metadata": {},
     "outputs": [
      {
       "output_type": "display_data",
       "png": "[encoded data removed]"
      },
      {
       "output_type": "display_data",
       "png": "[encoded data removed]"
      }
     ],
     "prompt_number": 8
    },
    {
     "cell_type": "heading",
     "level": 1,
     "metadata": {},
     "source": [
      "GMM model estimate with EM"
     ]
    },
    {
     "cell_type": "heading",
     "level": 2,
     "metadata": {},
     "source": [
      "1D: TD"
     ]
    },
    {
     "cell_type": "code",
     "collapsed": false,
     "input": [
      "from helperfuncs.PlotTDHist import PlotTDHist\n",
      "\n",
      "PlotTDHist(TD_meas*1e3, fitcurve=False, x_lim_min=-1.5, x_lim_max=1.5, alpha=None, mu=None, sigma=None)"
     ],
     "language": "python",
     "metadata": {},
     "outputs": [
      {
       "output_type": "display_data",
       "png": "[encoded data removed]"
      }
     ],
     "prompt_number": 9
    },
    {
     "cell_type": "code",
     "collapsed": false,
     "input": [
      "from helperfuncs.GMM_estimate_EM import GMM_estimate_EM\n",
      "import numpy as np\n",
      "\n",
      "alpha_1, mu_1, sigma_1 = GMM_estimate_EM(TD_meas*1e3, alpha = np.array([1.0, 1.0]), mu = np.array([-0.14, 0.0]), sigma = np.array([[[0.005, 0.1]]]))\n",
      "mu_1 = mu_1.flatten()\n",
      "sigma_1 = np.sqrt(sigma_1.flatten())"
     ],
     "language": "python",
     "metadata": {},
     "outputs": [
      {
       "output_type": "stream",
       "stream": "stdout",
       "text": [
        "Iterations left: 10\n",
        "alpha: "
       ]
      },
      {
       "output_type": "stream",
       "stream": "stdout",
       "text": [
        "\n",
        "[ 0.7600111  0.2399889]\n",
        "mu: \n",
        "[[-0.1443045]\n",
        " [-0.0050293]]\n",
        "sigma: \n",
        "[[[ 0.000401    0.28360581]]]\n",
        "Likelihood: 91.18\n",
        "change: 59.97%\n",
        "Iterations left: 10\n",
        "alpha: "
       ]
      },
      {
       "output_type": "stream",
       "stream": "stdout",
       "text": [
        "\n",
        "[ 0.88367609  0.11632391]\n",
        "mu: \n",
        "[[-0.14553584]\n",
        " [ 0.15238949]]\n",
        "sigma: \n",
        "[[[  3.28669442e-04   5.37213367e-01]]]\n",
        "Likelihood: 95.53\n",
        "change: 4.56%\n",
        "Iterations left: 10\n",
        "alpha: "
       ]
      },
      {
       "output_type": "stream",
       "stream": "stdout",
       "text": [
        "\n",
        "[ 0.89578906  0.10421094]\n",
        "mu: \n",
        "[[-0.14544962]\n",
        " [ 0.18627769]]\n",
        "sigma: \n",
        "[[[  3.32745900e-04   5.88559348e-01]]]\n",
        "Likelihood: 95.60\n",
        "change: 0.07%\n"
       ]
      }
     ],
     "prompt_number": 10
    },
    {
     "cell_type": "code",
     "collapsed": false,
     "input": [
      "from helperfuncs.PlotTDHist import PlotTDHist\n",
      "\n",
      "PlotTDHist(TD_meas*1e3, fitcurve=True, x_lim_min=-1.5, x_lim_max=1.5, alpha=alpha_1, mu=mu_1, sigma=sigma_1)"
     ],
     "language": "python",
     "metadata": {},
     "outputs": [
      {
       "output_type": "display_data",
       "png": "[encoded data removed]"
      }
     ],
     "prompt_number": 11
    },
    {
     "cell_type": "code",
     "collapsed": false,
     "input": [
      "import numpy as np\n",
      "\n",
      "pickbest = 12\n",
      "TD_meas_p = (np.array(TD_meas)[np.argsort(qty_min)])[-pickbest:]\n",
      "alpha_1p, mu_1p, sigma_1p = GMM_estimate_EM(TD_meas_p*1e3, alpha = np.array([1.0]), mu = np.array([-0.14]), sigma = np.array([[[0.005]]]))\n",
      "mu_1p = mu_1p.flatten()\n",
      "sigma_1p = np.sqrt(sigma_1p.flatten())"
     ],
     "language": "python",
     "metadata": {},
     "outputs": [
      {
       "output_type": "stream",
       "stream": "stdout",
       "text": [
        "Iterations left: 10\n",
        "alpha: \n",
        "[ 1.]\n",
        "mu: \n",
        "[[-0.13033333]]\n",
        "sigma: \n",
        "[[[ 0.00057011]]]\n",
        "Likelihood: 27.79\n",
        "change: 28.15%\n",
        "Iterations left: 10\n",
        "alpha: \n",
        "[ 1.]\n",
        "mu: \n",
        "[[-0.13033333]]\n",
        "sigma: \n",
        "[[[ 0.00057011]]]\n",
        "Likelihood: 27.79\n",
        "change: 0.00%\n"
       ]
      }
     ],
     "prompt_number": 12
    },
    {
     "cell_type": "code",
     "collapsed": false,
     "input": [
      "from helperfuncs.PlotTDHist import PlotTDHist\n",
      "\n",
      "PlotTDHist(TD_meas_p*1e3, fitcurve=True, x_lim_min=-0.2, x_lim_max=0.0, alpha=alpha_1p, mu=mu_1p, sigma=sigma_1p)"
     ],
     "language": "python",
     "metadata": {},
     "outputs": [
      {
       "output_type": "display_data",
       "png": "[encoded data removed]"
      }
     ],
     "prompt_number": 13
    },
    {
     "cell_type": "heading",
     "level": 2,
     "metadata": {},
     "source": [
      "2D: TD and quality idx"
     ]
    },
    {
     "cell_type": "code",
     "collapsed": false,
     "input": [
      "from helperfuncs.GMM_estimate_EM import GMM_estimate_EM\n",
      "import numpy as np\n",
      "\n",
      "alpha0 = np.array([1.0, 1.0])\n",
      "mu0 = np.array([ [-0.14, 1.0], [0.0, -1.0] ])\n",
      "sigma0 = np.array( [[[0.005, 0.5],[0.0, 0.0]], [[0.0, 0.0],[0.005, 0.5]]] )\n",
      "x1 = TD_meas*1e3\n",
      "x2 = np.log10(qty_min)\n",
      "x = np.concatenate((np.reshape(x1, (x1.shape[0],-1)),np.reshape(x2, (x2.shape[0],-1))), axis=1)\n",
      "\n",
      "alpha_1, mu_1, sigma_1 = GMM_estimate_EM( x, alpha = alpha0, mu = mu0, sigma = sigma0 )"
     ],
     "language": "python",
     "metadata": {},
     "outputs": [
      {
       "output_type": "stream",
       "stream": "stdout",
       "text": [
        "Iterations left: 10\n",
        "alpha: "
       ]
      },
      {
       "output_type": "stream",
       "stream": "stdout",
       "text": [
        "\n",
        "[ 0.58847848  0.41152152]\n",
        "mu: \n",
        "[[-0.14402708  0.95951043]\n",
        " [-0.06347945  0.32059431]]\n",
        "sigma: \n",
        "[[[  3.95842580e-04   1.70345615e-01]\n",
        "  [  1.14776784e-03  -7.05748168e-02]]\n",
        "\n",
        " [[  1.14776784e-03  -7.05748168e-02]\n",
        "  [  1.80694331e-02   6.49296506e-01]]]\n",
        "Likelihood: 49.77\n",
        "change: 229.84%\n",
        "Iterations left: 10\n",
        "alpha: "
       ]
      },
      {
       "output_type": "stream",
       "stream": "stdout",
       "text": [
        "\n",
        "[ 0.76055727  0.23944273]\n",
        "mu: \n",
        "[[-0.14619454  0.88859571]\n",
        " [ 0.00129184  0.08667949]]\n",
        "sigma: \n",
        "[[[  3.27141645e-04   2.82718597e-01]\n",
        "  [  1.29106399e-03  -8.46716542e-02]]\n",
        "\n",
        " [[  1.29106399e-03  -8.46716542e-02]\n",
        "  [  3.30079968e-02   9.79260916e-01]]]\n",
        "Likelihood: 79.24\n",
        "change: 37.19%\n",
        "Iterations left: 10\n",
        "alpha: "
       ]
      },
      {
       "output_type": "stream",
       "stream": "stdout",
       "text": [
        "\n",
        "[ 0.86635989  0.13364011]\n",
        "mu: \n",
        "[[-0.14600159  0.86358332]\n",
        " [ 0.11680565 -0.3860462 ]]\n",
        "sigma: \n",
        "[[[  3.21927085e-04   4.76125281e-01]\n",
        "  [  1.27542826e-03  -2.92716869e-02]]\n",
        "\n",
        " [[  1.27542826e-03  -2.92716869e-02]\n",
        "  [  4.82057068e-02   1.15330298e+00]]]\n",
        "Likelihood: 86.46\n",
        "change: 8.36%\n",
        "Iterations left: 10\n",
        "alpha: "
       ]
      },
      {
       "output_type": "stream",
       "stream": "stdout",
       "text": [
        "\n",
        "[ 0.88015902  0.11984098]\n",
        "mu: \n",
        "[[-0.14569807  0.86560838]\n",
        " [ 0.14483753 -0.54480798]]\n",
        "sigma: \n",
        "[[[  3.34550875e-04   5.23251476e-01]\n",
        "  [  1.40782751e-03   9.62259247e-03]]\n",
        "\n",
        " [[  1.40782751e-03   9.62259247e-03]\n",
        "  [  5.14206519e-02   1.01472358e+00]]]\n",
        "Likelihood: 86.84\n",
        "change: 0.43%\n"
       ]
      }
     ],
     "prompt_number": 14
    },
    {
     "cell_type": "code",
     "collapsed": false,
     "input": [
      "from helperfuncs.PlotScatter2Dhist import PlotScatter2Dhist\n",
      "\n",
      "PlotScatter2Dhist(TD_meas*1e3, qty_min, 'time diff [msec]', 'quality idx []', ylim_min=0, ylim_max=32, xlim_min=-1.5, xlim_max=1.5)\n",
      "PlotScatter2Dhist(TD_meas*1e3, np.log10(qty_min), 'time diff [msec]', 'log10(quality idx) []', ylim_min=-1.5, ylim_max=2, xlim_min=-1.5, xlim_max=1.5, fitcurve=True, alpha=alpha_1, mu=mu_1, sigma=sigma_1)"
     ],
     "language": "python",
     "metadata": {},
     "outputs": [
      {
       "output_type": "display_data",
       "png": "[encoded data removed]"
      },
      {
       "output_type": "display_data",
       "png": "[encoded data removed]"
      }
     ],
     "prompt_number": 15
    },
    {
     "cell_type": "code",
     "collapsed": false,
     "input": [],
     "language": "python",
     "metadata": {},
     "outputs": [],
     "prompt_number": 15
    }
   ],
   "metadata": {}
  }
 ]
}
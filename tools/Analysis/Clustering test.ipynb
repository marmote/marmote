{
 "metadata": {
  "name": ""
 },
 "nbformat": 3,
 "nbformat_minor": 0,
 "worksheets": [
  {
   "cells": [
    {
     "cell_type": "heading",
     "level": 4,
     "metadata": {},
     "source": [
      "License (New 3-Clause BSD):"
     ]
    },
    {
     "cell_type": "markdown",
     "metadata": {},
     "source": [
      "Copyright (c) 2012-2013, <strong>Benjamin Babjak</strong> (babjak.b< at >isis.vanderbilt.edu)\n",
      "\n",
      "All rights reserved.\n",
      "\n",
      "Redistribution and use in source and binary forms, with or without modification, are permitted provided that the following conditions are met:\n",
      "\n",
      "* Redistributions of source code must retain the above copyright notice, this list of conditions and the following disclaimer.\n",
      "\n",
      "* Redistributions in binary form must reproduce the above copyright notice, this list of conditions and the following disclaimer in the documentation and/or other materials provided with the distribution.\n",
      "\n",
      "* Neither the name of the <strong>Institute for Software Integrated Systems, Vanderbilt University</strong> nor the names of its contributors may be used to endorse or promote products derived from this software without specific prior written permission.\n",
      "\n",
      "THIS SOFTWARE IS PROVIDED BY THE COPYRIGHT HOLDERS AND CONTRIBUTORS \"AS IS\" AND ANY EXPRESS OR IMPLIED WARRANTIES, INCLUDING, BUT NOT LIMITED TO, THE IMPLIED WARRANTIES OF MERCHANTABILITY AND FITNESS FOR A PARTICULAR PURPOSE ARE DISCLAIMED. IN NO EVENT SHALL THE COPYRIGHT HOLDER OR CONTRIBUTORS BE LIABLE FOR ANY DIRECT, INDIRECT, INCIDENTAL, SPECIAL, EXEMPLARY, OR CONSEQUENTIAL DAMAGES (INCLUDING, BUT NOT LIMITED TO, PROCUREMENT OF SUBSTITUTE GOODS OR SERVICES; LOSS OF USE, DATA, OR PROFITS; OR BUSINESS INTERRUPTION) HOWEVER CAUSED AND ON ANY THEORY OF LIABILITY, WHETHER IN CONTRACT, STRICT LIABILITY, OR TORT (INCLUDING NEGLIGENCE OR OTHERWISE) ARISING IN ANY WAY OUT OF THE USE OF THIS SOFTWARE, EVEN IF ADVISED OF THE POSSIBILITY OF SUCH DAMAGE."
     ]
    },
    {
     "cell_type": "heading",
     "level": 1,
     "metadata": {},
     "source": [
      "Clustering test of acoustic emission events using Reciprocal onset time picker for the first aluminium break test with a shaker amplitude at 0.5 inch"
     ]
    },
    {
     "cell_type": "heading",
     "level": 2,
     "metadata": {},
     "source": [
      "Read in preprocessed raw data"
     ]
    },
    {
     "cell_type": "markdown",
     "metadata": {},
     "source": [
      "First let's read in the data from BreakTest_AluminiumBeam measurement. Note that the threshold filter has already filtered out the frames with signals in them."
     ]
    },
    {
     "cell_type": "code",
     "collapsed": false,
     "input": [
      "from helperfuncs.ReadAEMeas import ReadAEMeas\n",
      "\n",
      "dir = '../../../Measurements/BreakTest_AluminiumBeam/results.enhanced/1-0.5'\n",
      "y_1, y2_1, T_1, fnames_1, start_time = ReadAEMeas(dir)\n",
      "\n",
      "Fs = 1/T_1\n",
      "#print Fs"
     ],
     "language": "python",
     "metadata": {},
     "outputs": [
      {
       "output_type": "stream",
       "stream": "stdout",
       "text": [
        "Module folder added to system path: /home/ubuntu/Marmote/tools/ControlRecord/ControlRecord\n",
        "Opening file: ../../../Measurements/BreakTest_AluminiumBeam/results.enhanced/1-0.5/collect_0.bin"
       ]
      },
      {
       "output_type": "stream",
       "stream": "stdout",
       "text": [
        "\n",
        "Closed file: ../../../Measurements/BreakTest_AluminiumBeam/results.enhanced/1-0.5/collect_0.bin\n",
        "Opening file: ../../../Measurements/BreakTest_AluminiumBeam/results.enhanced/1-0.5/collect_1.bin\n",
        "Closed file: ../../../Measurements/BreakTest_AluminiumBeam/results.enhanced/1-0.5/collect_1.bin\n",
        "Opening file: ../../../Measurements/BreakTest_AluminiumBeam/results.enhanced/1-0.5/collect_2.bin\n",
        "Closed file: ../../../Measurements/BreakTest_AluminiumBeam/results.enhanced/1-0.5/collect_2.bin\n",
        "Opening file: ../../../Measurements/BreakTest_AluminiumBeam/results.enhanced/1-0.5/collect_3.bin\n",
        "Closed file: ../../../Measurements/BreakTest_AluminiumBeam/results.enhanced/1-0.5/collect_3.bin\n",
        "Opening file: ../../../Measurements/BreakTest_AluminiumBeam/results.enhanced/1-0.5/collect_4.bin\n",
        "Closed file: ../../../Measurements/BreakTest_AluminiumBeam/results.enhanced/1-0.5/collect_4.bin\n",
        "Opening file: ../../../Measurements/BreakTest_AluminiumBeam/results.enhanced/1-0.5/collect_5.bin\n",
        "Closed file: ../../../Measurements/BreakTest_AluminiumBeam/results.enhanced/1-0.5/collect_5.bin\n",
        "Opening file: ../../../Measurements/BreakTest_AluminiumBeam/results.enhanced/1-0.5/collect_6.bin\n",
        "Closed file: ../../../Measurements/BreakTest_AluminiumBeam/results.enhanced/1-0.5/collect_6.bin"
       ]
      },
      {
       "output_type": "stream",
       "stream": "stdout",
       "text": [
        "\n",
        "Opening file: ../../../Measurements/BreakTest_AluminiumBeam/results.enhanced/1-0.5/collect_7.bin\n",
        "Closed file: ../../../Measurements/BreakTest_AluminiumBeam/results.enhanced/1-0.5/collect_7.bin\n",
        "Opening file: ../../../Measurements/BreakTest_AluminiumBeam/results.enhanced/1-0.5/collect_8.bin\n",
        "Closed file: ../../../Measurements/BreakTest_AluminiumBeam/results.enhanced/1-0.5/collect_8.bin\n",
        "Opening file: ../../../Measurements/BreakTest_AluminiumBeam/results.enhanced/1-0.5/collect_9.bin\n",
        "Closed file: ../../../Measurements/BreakTest_AluminiumBeam/results.enhanced/1-0.5/collect_9.bin\n",
        "Opening file: ../../../Measurements/BreakTest_AluminiumBeam/results.enhanced/1-0.5/collect_10.bin\n",
        "Closed file: ../../../Measurements/BreakTest_AluminiumBeam/results.enhanced/1-0.5/collect_10.bin\n",
        "Opening file: ../../../Measurements/BreakTest_AluminiumBeam/results.enhanced/1-0.5/collect_11.bin\n",
        "Closed file: ../../../Measurements/BreakTest_AluminiumBeam/results.enhanced/1-0.5/collect_11.bin\n",
        "Opening file: ../../../Measurements/BreakTest_AluminiumBeam/results.enhanced/1-0.5/collect_12.bin\n",
        "Closed file: ../../../Measurements/BreakTest_AluminiumBeam/results.enhanced/1-0.5/collect_12.bin"
       ]
      },
      {
       "output_type": "stream",
       "stream": "stdout",
       "text": [
        "\n",
        "Opening file: ../../../Measurements/BreakTest_AluminiumBeam/results.enhanced/1-0.5/collect_13.bin\n",
        "Closed file: ../../../Measurements/BreakTest_AluminiumBeam/results.enhanced/1-0.5/collect_13.bin\n",
        "Opening file: ../../../Measurements/BreakTest_AluminiumBeam/results.enhanced/1-0.5/collect_14.bin\n",
        "Closed file: ../../../Measurements/BreakTest_AluminiumBeam/results.enhanced/1-0.5/collect_14.bin\n",
        "Opening file: ../../../Measurements/BreakTest_AluminiumBeam/results.enhanced/1-0.5/collect_15.bin\n",
        "Closed file: ../../../Measurements/BreakTest_AluminiumBeam/results.enhanced/1-0.5/collect_15.bin\n",
        "Opening file: ../../../Measurements/BreakTest_AluminiumBeam/results.enhanced/1-0.5/collect_16.bin\n",
        "Closed file: ../../../Measurements/BreakTest_AluminiumBeam/results.enhanced/1-0.5/collect_16.bin\n",
        "Opening file: ../../../Measurements/BreakTest_AluminiumBeam/results.enhanced/1-0.5/collect_17.bin\n",
        "Closed file: ../../../Measurements/BreakTest_AluminiumBeam/results.enhanced/1-0.5/collect_17.bin\n",
        "Opening file: ../../../Measurements/BreakTest_AluminiumBeam/results.enhanced/1-0.5/collect_18.bin"
       ]
      },
      {
       "output_type": "stream",
       "stream": "stdout",
       "text": [
        "\n",
        "Closed file: ../../../Measurements/BreakTest_AluminiumBeam/results.enhanced/1-0.5/collect_18.bin\n",
        "Opening file: ../../../Measurements/BreakTest_AluminiumBeam/results.enhanced/1-0.5/collect_19.bin\n",
        "Closed file: ../../../Measurements/BreakTest_AluminiumBeam/results.enhanced/1-0.5/collect_19.bin\n",
        "Opening file: ../../../Measurements/BreakTest_AluminiumBeam/results.enhanced/1-0.5/collect_20.bin\n",
        "Closed file: ../../../Measurements/BreakTest_AluminiumBeam/results.enhanced/1-0.5/collect_20.bin\n",
        "Opening file: ../../../Measurements/BreakTest_AluminiumBeam/results.enhanced/1-0.5/collect_21.bin\n",
        "Closed file: ../../../Measurements/BreakTest_AluminiumBeam/results.enhanced/1-0.5/collect_21.bin\n",
        "Opening file: ../../../Measurements/BreakTest_AluminiumBeam/results.enhanced/1-0.5/collect_22.bin\n",
        "Closed file: ../../../Measurements/BreakTest_AluminiumBeam/results.enhanced/1-0.5/collect_22.bin\n",
        "Opening file: ../../../Measurements/BreakTest_AluminiumBeam/results.enhanced/1-0.5/collect_23.bin"
       ]
      },
      {
       "output_type": "stream",
       "stream": "stdout",
       "text": [
        "\n",
        "Closed file: ../../../Measurements/BreakTest_AluminiumBeam/results.enhanced/1-0.5/collect_23.bin\n",
        "Opening file: ../../../Measurements/BreakTest_AluminiumBeam/results.enhanced/1-0.5/collect_24.bin\n",
        "Closed file: ../../../Measurements/BreakTest_AluminiumBeam/results.enhanced/1-0.5/collect_24.bin\n",
        "Opening file: ../../../Measurements/BreakTest_AluminiumBeam/results.enhanced/1-0.5/collect_25.bin\n",
        "Closed file: ../../../Measurements/BreakTest_AluminiumBeam/results.enhanced/1-0.5/collect_25.bin\n",
        "Opening file: ../../../Measurements/BreakTest_AluminiumBeam/results.enhanced/1-0.5/collect_26.bin\n",
        "Closed file: ../../../Measurements/BreakTest_AluminiumBeam/results.enhanced/1-0.5/collect_26.bin\n",
        "Opening file: ../../../Measurements/BreakTest_AluminiumBeam/results.enhanced/1-0.5/collect_27.bin\n",
        "Closed file: ../../../Measurements/BreakTest_AluminiumBeam/results.enhanced/1-0.5/collect_27.bin\n",
        "Opening file: ../../../Measurements/BreakTest_AluminiumBeam/results.enhanced/1-0.5/collect_28.bin\n",
        "Closed file: ../../../Measurements/BreakTest_AluminiumBeam/results.enhanced/1-0.5/collect_28.bin"
       ]
      },
      {
       "output_type": "stream",
       "stream": "stdout",
       "text": [
        "\n",
        "Opening file: ../../../Measurements/BreakTest_AluminiumBeam/results.enhanced/1-0.5/collect_29.bin\n",
        "Closed file: ../../../Measurements/BreakTest_AluminiumBeam/results.enhanced/1-0.5/collect_29.bin\n",
        "Opening file: ../../../Measurements/BreakTest_AluminiumBeam/results.enhanced/1-0.5/collect_30.bin\n",
        "Closed file: ../../../Measurements/BreakTest_AluminiumBeam/results.enhanced/1-0.5/collect_30.bin\n",
        "Opening file: ../../../Measurements/BreakTest_AluminiumBeam/results.enhanced/1-0.5/collect_31.bin\n",
        "Closed file: ../../../Measurements/BreakTest_AluminiumBeam/results.enhanced/1-0.5/collect_31.bin\n",
        "Opening file: ../../../Measurements/BreakTest_AluminiumBeam/results.enhanced/1-0.5/collect_32.bin\n",
        "Closed file: ../../../Measurements/BreakTest_AluminiumBeam/results.enhanced/1-0.5/collect_32.bin\n",
        "Opening file: ../../../Measurements/BreakTest_AluminiumBeam/results.enhanced/1-0.5/collect_33.bin\n",
        "Closed file: ../../../Measurements/BreakTest_AluminiumBeam/results.enhanced/1-0.5/collect_33.bin\n",
        "Opening file: ../../../Measurements/BreakTest_AluminiumBeam/results.enhanced/1-0.5/collect_34.bin\n",
        "Closed file: ../../../Measurements/BreakTest_AluminiumBeam/results.enhanced/1-0.5/collect_34.bin\n",
        "Opening file: ../../../Measurements/BreakTest_AluminiumBeam/results.enhanced/1-0.5/collect_35.bin"
       ]
      },
      {
       "output_type": "stream",
       "stream": "stdout",
       "text": [
        "\n",
        "Closed file: ../../../Measurements/BreakTest_AluminiumBeam/results.enhanced/1-0.5/collect_35.bin\n",
        "Opening file: ../../../Measurements/BreakTest_AluminiumBeam/results.enhanced/1-0.5/collect_36.bin\n",
        "Closed file: ../../../Measurements/BreakTest_AluminiumBeam/results.enhanced/1-0.5/collect_36.bin\n",
        "Opening file: ../../../Measurements/BreakTest_AluminiumBeam/results.enhanced/1-0.5/collect_37.bin\n",
        "Closed file: ../../../Measurements/BreakTest_AluminiumBeam/results.enhanced/1-0.5/collect_37.bin\n",
        "Opening file: ../../../Measurements/BreakTest_AluminiumBeam/results.enhanced/1-0.5/collect_38.bin\n",
        "Closed file: ../../../Measurements/BreakTest_AluminiumBeam/results.enhanced/1-0.5/collect_38.bin\n",
        "Opening file: ../../../Measurements/BreakTest_AluminiumBeam/results.enhanced/1-0.5/collect_39.bin\n",
        "Closed file: ../../../Measurements/BreakTest_AluminiumBeam/results.enhanced/1-0.5/collect_39.bin\n",
        "Opening file: ../../../Measurements/BreakTest_AluminiumBeam/results.enhanced/1-0.5/collect_40.bin\n",
        "Closed file: ../../../Measurements/BreakTest_AluminiumBeam/results.enhanced/1-0.5/collect_40.bin\n",
        "Opening file: ../../../Measurements/BreakTest_AluminiumBeam/results.enhanced/1-0.5/collect_41.bin\n",
        "Closed file: ../../../Measurements/BreakTest_AluminiumBeam/results.enhanced/1-0.5/collect_41.bin"
       ]
      },
      {
       "output_type": "stream",
       "stream": "stdout",
       "text": [
        "\n",
        "Opening file: ../../../Measurements/BreakTest_AluminiumBeam/results.enhanced/1-0.5/collect_42.bin\n",
        "Closed file: ../../../Measurements/BreakTest_AluminiumBeam/results.enhanced/1-0.5/collect_42.bin\n",
        "Opening file: ../../../Measurements/BreakTest_AluminiumBeam/results.enhanced/1-0.5/collect_43.bin\n",
        "Closed file: ../../../Measurements/BreakTest_AluminiumBeam/results.enhanced/1-0.5/collect_43.bin\n",
        "Opening file: ../../../Measurements/BreakTest_AluminiumBeam/results.enhanced/1-0.5/collect_44.bin\n",
        "Closed file: ../../../Measurements/BreakTest_AluminiumBeam/results.enhanced/1-0.5/collect_44.bin\n",
        "Opening file: ../../../Measurements/BreakTest_AluminiumBeam/results.enhanced/1-0.5/collect_45.bin\n",
        "Closed file: ../../../Measurements/BreakTest_AluminiumBeam/results.enhanced/1-0.5/collect_45.bin"
       ]
      },
      {
       "output_type": "stream",
       "stream": "stdout",
       "text": [
        "\n",
        "Opening file: ../../../Measurements/BreakTest_AluminiumBeam/results.enhanced/1-0.5/collect_46.bin\n",
        "Closed file: ../../../Measurements/BreakTest_AluminiumBeam/results.enhanced/1-0.5/collect_46.bin\n",
        "Opening file: ../../../Measurements/BreakTest_AluminiumBeam/results.enhanced/1-0.5/collect_47.bin\n",
        "Closed file: ../../../Measurements/BreakTest_AluminiumBeam/results.enhanced/1-0.5/collect_47.bin\n",
        "Opening file: ../../../Measurements/BreakTest_AluminiumBeam/results.enhanced/1-0.5/collect_48.bin\n",
        "Closed file: ../../../Measurements/BreakTest_AluminiumBeam/results.enhanced/1-0.5/collect_48.bin\n",
        "Opening file: ../../../Measurements/BreakTest_AluminiumBeam/results.enhanced/1-0.5/collect_49.bin\n",
        "Closed file: ../../../Measurements/BreakTest_AluminiumBeam/results.enhanced/1-0.5/collect_49.bin"
       ]
      },
      {
       "output_type": "stream",
       "stream": "stdout",
       "text": [
        "\n",
        "Opening file: ../../../Measurements/BreakTest_AluminiumBeam/results.enhanced/1-0.5/collect_50.bin\n",
        "Closed file: ../../../Measurements/BreakTest_AluminiumBeam/results.enhanced/1-0.5/collect_50.bin\n",
        "Opening file: ../../../Measurements/BreakTest_AluminiumBeam/results.enhanced/1-0.5/collect_51.bin\n",
        "Closed file: ../../../Measurements/BreakTest_AluminiumBeam/results.enhanced/1-0.5/collect_51.bin\n",
        "Opening file: ../../../Measurements/BreakTest_AluminiumBeam/results.enhanced/1-0.5/collect_52.bin\n",
        "Closed file: ../../../Measurements/BreakTest_AluminiumBeam/results.enhanced/1-0.5/collect_52.bin\n",
        "Opening file: ../../../Measurements/BreakTest_AluminiumBeam/results.enhanced/1-0.5/collect_53.bin\n",
        "Closed file: ../../../Measurements/BreakTest_AluminiumBeam/results.enhanced/1-0.5/collect_53.bin\n",
        "Opening file: ../../../Measurements/BreakTest_AluminiumBeam/results.enhanced/1-0.5/collect_54.bin"
       ]
      },
      {
       "output_type": "stream",
       "stream": "stdout",
       "text": [
        "\n",
        "Closed file: ../../../Measurements/BreakTest_AluminiumBeam/results.enhanced/1-0.5/collect_54.bin\n",
        "Opening file: ../../../Measurements/BreakTest_AluminiumBeam/results.enhanced/1-0.5/collect_55.bin\n",
        "Closed file: ../../../Measurements/BreakTest_AluminiumBeam/results.enhanced/1-0.5/collect_55.bin\n",
        "Opening file: ../../../Measurements/BreakTest_AluminiumBeam/results.enhanced/1-0.5/collect_56.bin\n",
        "Closed file: ../../../Measurements/BreakTest_AluminiumBeam/results.enhanced/1-0.5/collect_56.bin\n",
        "Opening file: ../../../Measurements/BreakTest_AluminiumBeam/results.enhanced/1-0.5/collect_57.bin\n",
        "Closed file: ../../../Measurements/BreakTest_AluminiumBeam/results.enhanced/1-0.5/collect_57.bin"
       ]
      },
      {
       "output_type": "stream",
       "stream": "stdout",
       "text": [
        "\n",
        "Opening file: ../../../Measurements/BreakTest_AluminiumBeam/results.enhanced/1-0.5/collect_58.bin\n",
        "Closed file: ../../../Measurements/BreakTest_AluminiumBeam/results.enhanced/1-0.5/collect_58.bin\n",
        "Opening file: ../../../Measurements/BreakTest_AluminiumBeam/results.enhanced/1-0.5/collect_59.bin\n",
        "Closed file: ../../../Measurements/BreakTest_AluminiumBeam/results.enhanced/1-0.5/collect_59.bin\n",
        "Opening file: ../../../Measurements/BreakTest_AluminiumBeam/results.enhanced/1-0.5/collect_60.bin\n",
        "Closed file: ../../../Measurements/BreakTest_AluminiumBeam/results.enhanced/1-0.5/collect_60.bin\n",
        "Opening file: ../../../Measurements/BreakTest_AluminiumBeam/results.enhanced/1-0.5/collect_61.bin\n",
        "Closed file: ../../../Measurements/BreakTest_AluminiumBeam/results.enhanced/1-0.5/collect_61.bin"
       ]
      },
      {
       "output_type": "stream",
       "stream": "stdout",
       "text": [
        "\n",
        "Opening file: ../../../Measurements/BreakTest_AluminiumBeam/results.enhanced/1-0.5/collect_62.bin\n",
        "Closed file: ../../../Measurements/BreakTest_AluminiumBeam/results.enhanced/1-0.5/collect_62.bin\n",
        "Opening file: ../../../Measurements/BreakTest_AluminiumBeam/results.enhanced/1-0.5/collect_63.bin\n",
        "Closed file: ../../../Measurements/BreakTest_AluminiumBeam/results.enhanced/1-0.5/collect_63.bin\n",
        "Opening file: ../../../Measurements/BreakTest_AluminiumBeam/results.enhanced/1-0.5/collect_64.bin\n",
        "Closed file: ../../../Measurements/BreakTest_AluminiumBeam/results.enhanced/1-0.5/collect_64.bin"
       ]
      },
      {
       "output_type": "stream",
       "stream": "stdout",
       "text": [
        "\n",
        "Opening file: ../../../Measurements/BreakTest_AluminiumBeam/results.enhanced/1-0.5/collect_65.bin\n",
        "Closed file: ../../../Measurements/BreakTest_AluminiumBeam/results.enhanced/1-0.5/collect_65.bin\n",
        "Opening file: ../../../Measurements/BreakTest_AluminiumBeam/results.enhanced/1-0.5/collect_66.bin\n",
        "Closed file: ../../../Measurements/BreakTest_AluminiumBeam/results.enhanced/1-0.5/collect_66.bin\n",
        "Opening file: ../../../Measurements/BreakTest_AluminiumBeam/results.enhanced/1-0.5/collect_67.bin\n",
        "Closed file: ../../../Measurements/BreakTest_AluminiumBeam/results.enhanced/1-0.5/collect_67.bin\n",
        "Opening file: ../../../Measurements/BreakTest_AluminiumBeam/results.enhanced/1-0.5/collect_68.bin\n",
        "Closed file: ../../../Measurements/BreakTest_AluminiumBeam/results.enhanced/1-0.5/collect_68.bin"
       ]
      },
      {
       "output_type": "stream",
       "stream": "stdout",
       "text": [
        "\n",
        "Opening file: ../../../Measurements/BreakTest_AluminiumBeam/results.enhanced/1-0.5/collect_69.bin\n",
        "Closed file: ../../../Measurements/BreakTest_AluminiumBeam/results.enhanced/1-0.5/collect_69.bin\n",
        "Opening file: ../../../Measurements/BreakTest_AluminiumBeam/results.enhanced/1-0.5/collect_70.bin\n",
        "Closed file: ../../../Measurements/BreakTest_AluminiumBeam/results.enhanced/1-0.5/collect_70.bin\n",
        "Opening file: ../../../Measurements/BreakTest_AluminiumBeam/results.enhanced/1-0.5/collect_71.bin\n",
        "Closed file: ../../../Measurements/BreakTest_AluminiumBeam/results.enhanced/1-0.5/collect_71.bin\n",
        "Opening file: ../../../Measurements/BreakTest_AluminiumBeam/results.enhanced/1-0.5/collect_72.bin\n",
        "Closed file: ../../../Measurements/BreakTest_AluminiumBeam/results.enhanced/1-0.5/collect_72.bin"
       ]
      },
      {
       "output_type": "stream",
       "stream": "stdout",
       "text": [
        "\n",
        "Opening file: ../../../Measurements/BreakTest_AluminiumBeam/results.enhanced/1-0.5/collect_73.bin\n",
        "Closed file: ../../../Measurements/BreakTest_AluminiumBeam/results.enhanced/1-0.5/collect_73.bin\n",
        "Opening file: ../../../Measurements/BreakTest_AluminiumBeam/results.enhanced/1-0.5/collect_74.bin\n",
        "Closed file: ../../../Measurements/BreakTest_AluminiumBeam/results.enhanced/1-0.5/collect_74.bin\n",
        "Opening file: ../../../Measurements/BreakTest_AluminiumBeam/results.enhanced/1-0.5/collect_75.bin\n",
        "Closed file: ../../../Measurements/BreakTest_AluminiumBeam/results.enhanced/1-0.5/collect_75.bin\n",
        "Opening file: ../../../Measurements/BreakTest_AluminiumBeam/results.enhanced/1-0.5/collect_76.bin\n",
        "Closed file: ../../../Measurements/BreakTest_AluminiumBeam/results.enhanced/1-0.5/collect_76.bin"
       ]
      },
      {
       "output_type": "stream",
       "stream": "stdout",
       "text": [
        "\n",
        "Opening file: ../../../Measurements/BreakTest_AluminiumBeam/results.enhanced/1-0.5/collect_77.bin\n",
        "Closed file: ../../../Measurements/BreakTest_AluminiumBeam/results.enhanced/1-0.5/collect_77.bin\n",
        "Opening file: ../../../Measurements/BreakTest_AluminiumBeam/results.enhanced/1-0.5/collect_78.bin\n",
        "Closed file: ../../../Measurements/BreakTest_AluminiumBeam/results.enhanced/1-0.5/collect_78.bin\n",
        "Opening file: ../../../Measurements/BreakTest_AluminiumBeam/results.enhanced/1-0.5/collect_79.bin\n",
        "Closed file: ../../../Measurements/BreakTest_AluminiumBeam/results.enhanced/1-0.5/collect_79.bin\n",
        "Opening file: ../../../Measurements/BreakTest_AluminiumBeam/results.enhanced/1-0.5/collect_80.bin\n",
        "Closed file: ../../../Measurements/BreakTest_AluminiumBeam/results.enhanced/1-0.5/collect_80.bin\n",
        "Opening file: ../../../Measurements/BreakTest_AluminiumBeam/results.enhanced/1-0.5/collect_81.bin\n",
        "Closed file: ../../../Measurements/BreakTest_AluminiumBeam/results.enhanced/1-0.5/collect_81.bin"
       ]
      },
      {
       "output_type": "stream",
       "stream": "stdout",
       "text": [
        "\n",
        "Opening file: ../../../Measurements/BreakTest_AluminiumBeam/results.enhanced/1-0.5/collect_82.bin\n",
        "Closed file: ../../../Measurements/BreakTest_AluminiumBeam/results.enhanced/1-0.5/collect_82.bin\n",
        "Opening file: ../../../Measurements/BreakTest_AluminiumBeam/results.enhanced/1-0.5/collect_83.bin\n",
        "Closed file: ../../../Measurements/BreakTest_AluminiumBeam/results.enhanced/1-0.5/collect_83.bin\n",
        "Opening file: ../../../Measurements/BreakTest_AluminiumBeam/results.enhanced/1-0.5/collect_84.bin\n",
        "Closed file: ../../../Measurements/BreakTest_AluminiumBeam/results.enhanced/1-0.5/collect_84.bin\n",
        "Opening file: ../../../Measurements/BreakTest_AluminiumBeam/results.enhanced/1-0.5/collect_85.bin\n",
        "Closed file: ../../../Measurements/BreakTest_AluminiumBeam/results.enhanced/1-0.5/collect_85.bin"
       ]
      },
      {
       "output_type": "stream",
       "stream": "stdout",
       "text": [
        "\n",
        "Opening file: ../../../Measurements/BreakTest_AluminiumBeam/results.enhanced/1-0.5/collect_86.bin\n",
        "Closed file: ../../../Measurements/BreakTest_AluminiumBeam/results.enhanced/1-0.5/collect_86.bin\n",
        "Opening file: ../../../Measurements/BreakTest_AluminiumBeam/results.enhanced/1-0.5/collect_87.bin\n",
        "Closed file: ../../../Measurements/BreakTest_AluminiumBeam/results.enhanced/1-0.5/collect_87.bin\n",
        "Opening file: ../../../Measurements/BreakTest_AluminiumBeam/results.enhanced/1-0.5/collect_88.bin\n",
        "Closed file: ../../../Measurements/BreakTest_AluminiumBeam/results.enhanced/1-0.5/collect_88.bin\n",
        "Opening file: ../../../Measurements/BreakTest_AluminiumBeam/results.enhanced/1-0.5/collect_89.bin\n",
        "Closed file: ../../../Measurements/BreakTest_AluminiumBeam/results.enhanced/1-0.5/collect_89.bin\n",
        "Opening file: ../../../Measurements/BreakTest_AluminiumBeam/results.enhanced/1-0.5/collect_90.bin"
       ]
      },
      {
       "output_type": "stream",
       "stream": "stdout",
       "text": [
        "\n",
        "Closed file: ../../../Measurements/BreakTest_AluminiumBeam/results.enhanced/1-0.5/collect_90.bin\n",
        "Opening file: ../../../Measurements/BreakTest_AluminiumBeam/results.enhanced/1-0.5/collect_91.bin\n",
        "Closed file: ../../../Measurements/BreakTest_AluminiumBeam/results.enhanced/1-0.5/collect_91.bin\n",
        "Opening file: ../../../Measurements/BreakTest_AluminiumBeam/results.enhanced/1-0.5/collect_92.bin\n",
        "Closed file: ../../../Measurements/BreakTest_AluminiumBeam/results.enhanced/1-0.5/collect_92.bin\n",
        "Opening file: ../../../Measurements/BreakTest_AluminiumBeam/results.enhanced/1-0.5/collect_93.bin\n",
        "Closed file: ../../../Measurements/BreakTest_AluminiumBeam/results.enhanced/1-0.5/collect_93.bin"
       ]
      },
      {
       "output_type": "stream",
       "stream": "stdout",
       "text": [
        "\n",
        "Opening file: ../../../Measurements/BreakTest_AluminiumBeam/results.enhanced/1-0.5/collect_94.bin\n",
        "Closed file: ../../../Measurements/BreakTest_AluminiumBeam/results.enhanced/1-0.5/collect_94.bin\n",
        "Opening file: ../../../Measurements/BreakTest_AluminiumBeam/results.enhanced/1-0.5/collect_95.bin\n",
        "Closed file: ../../../Measurements/BreakTest_AluminiumBeam/results.enhanced/1-0.5/collect_95.bin\n",
        "Opening file: ../../../Measurements/BreakTest_AluminiumBeam/results.enhanced/1-0.5/collect_96.bin\n",
        "Closed file: ../../../Measurements/BreakTest_AluminiumBeam/results.enhanced/1-0.5/collect_96.bin"
       ]
      },
      {
       "output_type": "stream",
       "stream": "stdout",
       "text": [
        "\n",
        "Opening file: ../../../Measurements/BreakTest_AluminiumBeam/results.enhanced/1-0.5/collect_97.bin\n",
        "Closed file: ../../../Measurements/BreakTest_AluminiumBeam/results.enhanced/1-0.5/collect_97.bin\n",
        "Opening file: ../../../Measurements/BreakTest_AluminiumBeam/results.enhanced/1-0.5/collect_98.bin\n",
        "Closed file: ../../../Measurements/BreakTest_AluminiumBeam/results.enhanced/1-0.5/collect_98.bin\n",
        "Opening file: ../../../Measurements/BreakTest_AluminiumBeam/results.enhanced/1-0.5/collect_99.bin\n",
        "Closed file: ../../../Measurements/BreakTest_AluminiumBeam/results.enhanced/1-0.5/collect_99.bin"
       ]
      },
      {
       "output_type": "stream",
       "stream": "stdout",
       "text": [
        "\n",
        "Opening file: ../../../Measurements/BreakTest_AluminiumBeam/results.enhanced/1-0.5/collect_100.bin\n",
        "Closed file: ../../../Measurements/BreakTest_AluminiumBeam/results.enhanced/1-0.5/collect_100.bin\n",
        "Opening file: ../../../Measurements/BreakTest_AluminiumBeam/results.enhanced/1-0.5/collect_101.bin\n",
        "Closed file: ../../../Measurements/BreakTest_AluminiumBeam/results.enhanced/1-0.5/collect_101.bin\n",
        "Opening file: ../../../Measurements/BreakTest_AluminiumBeam/results.enhanced/1-0.5/collect_102.bin\n",
        "Closed file: ../../../Measurements/BreakTest_AluminiumBeam/results.enhanced/1-0.5/collect_102.bin"
       ]
      },
      {
       "output_type": "stream",
       "stream": "stdout",
       "text": [
        "\n",
        "Opening file: ../../../Measurements/BreakTest_AluminiumBeam/results.enhanced/1-0.5/collect_103.bin\n",
        "Closed file: ../../../Measurements/BreakTest_AluminiumBeam/results.enhanced/1-0.5/collect_103.bin\n",
        "Opening file: ../../../Measurements/BreakTest_AluminiumBeam/results.enhanced/1-0.5/collect_104.bin\n",
        "Closed file: ../../../Measurements/BreakTest_AluminiumBeam/results.enhanced/1-0.5/collect_104.bin\n",
        "Opening file: ../../../Measurements/BreakTest_AluminiumBeam/results.enhanced/1-0.5/collect_105.bin\n",
        "Closed file: ../../../Measurements/BreakTest_AluminiumBeam/results.enhanced/1-0.5/collect_105.bin\n",
        "Opening file: ../../../Measurements/BreakTest_AluminiumBeam/results.enhanced/1-0.5/collect_106.bin\n",
        "Closed file: ../../../Measurements/BreakTest_AluminiumBeam/results.enhanced/1-0.5/collect_106.bin\n",
        "Opening file: ../../../Measurements/BreakTest_AluminiumBeam/results.enhanced/1-0.5/collect_107.bin"
       ]
      },
      {
       "output_type": "stream",
       "stream": "stdout",
       "text": [
        "\n",
        "Closed file: ../../../Measurements/BreakTest_AluminiumBeam/results.enhanced/1-0.5/collect_107.bin\n",
        "Opening file: ../../../Measurements/BreakTest_AluminiumBeam/results.enhanced/1-0.5/collect_108.bin\n",
        "Closed file: ../../../Measurements/BreakTest_AluminiumBeam/results.enhanced/1-0.5/collect_108.bin\n",
        "Opening file: ../../../Measurements/BreakTest_AluminiumBeam/results.enhanced/1-0.5/collect_109.bin\n",
        "Closed file: ../../../Measurements/BreakTest_AluminiumBeam/results.enhanced/1-0.5/collect_109.bin\n",
        "Opening file: ../../../Measurements/BreakTest_AluminiumBeam/results.enhanced/1-0.5/collect_110.bin\n",
        "Closed file: ../../../Measurements/BreakTest_AluminiumBeam/results.enhanced/1-0.5/collect_110.bin\n",
        "Opening file: ../../../Measurements/BreakTest_AluminiumBeam/results.enhanced/1-0.5/collect_111.bin\n",
        "Closed file: ../../../Measurements/BreakTest_AluminiumBeam/results.enhanced/1-0.5/collect_111.bin\n",
        "Opening file: ../../../Measurements/BreakTest_AluminiumBeam/results.enhanced/1-0.5/collect_112.bin\n",
        "Closed file: ../../../Measurements/BreakTest_AluminiumBeam/results.enhanced/1-0.5/collect_112.bin\n",
        "Opening file: ../../../Measurements/BreakTest_AluminiumBeam/results.enhanced/1-0.5/collect_113.bin"
       ]
      },
      {
       "output_type": "stream",
       "stream": "stdout",
       "text": [
        "\n",
        "Closed file: ../../../Measurements/BreakTest_AluminiumBeam/results.enhanced/1-0.5/collect_113.bin\n",
        "Opening file: ../../../Measurements/BreakTest_AluminiumBeam/results.enhanced/1-0.5/collect_114.bin\n",
        "Closed file: ../../../Measurements/BreakTest_AluminiumBeam/results.enhanced/1-0.5/collect_114.bin\n",
        "Opening file: ../../../Measurements/BreakTest_AluminiumBeam/results.enhanced/1-0.5/collect_115.bin\n",
        "Closed file: ../../../Measurements/BreakTest_AluminiumBeam/results.enhanced/1-0.5/collect_115.bin\n",
        "Opening file: ../../../Measurements/BreakTest_AluminiumBeam/results.enhanced/1-0.5/collect_116.bin\n",
        "Closed file: ../../../Measurements/BreakTest_AluminiumBeam/results.enhanced/1-0.5/collect_116.bin\n",
        "Opening file: ../../../Measurements/BreakTest_AluminiumBeam/results.enhanced/1-0.5/collect_117.bin\n",
        "Closed file: ../../../Measurements/BreakTest_AluminiumBeam/results.enhanced/1-0.5/collect_117.bin\n",
        "Opening file: ../../../Measurements/BreakTest_AluminiumBeam/results.enhanced/1-0.5/collect_118.bin\n",
        "Closed file: ../../../Measurements/BreakTest_AluminiumBeam/results.enhanced/1-0.5/collect_118.bin\n",
        "Opening file: ../../../Measurements/BreakTest_AluminiumBeam/results.enhanced/1-0.5/collect_119.bin"
       ]
      },
      {
       "output_type": "stream",
       "stream": "stdout",
       "text": [
        "\n",
        "Closed file: ../../../Measurements/BreakTest_AluminiumBeam/results.enhanced/1-0.5/collect_119.bin\n",
        "Opening file: ../../../Measurements/BreakTest_AluminiumBeam/results.enhanced/1-0.5/collect_120.bin\n",
        "Closed file: ../../../Measurements/BreakTest_AluminiumBeam/results.enhanced/1-0.5/collect_120.bin\n",
        "Opening file: ../../../Measurements/BreakTest_AluminiumBeam/results.enhanced/1-0.5/collect_121.bin\n",
        "Closed file: ../../../Measurements/BreakTest_AluminiumBeam/results.enhanced/1-0.5/collect_121.bin\n",
        "Opening file: ../../../Measurements/BreakTest_AluminiumBeam/results.enhanced/1-0.5/collect_122.bin\n",
        "Closed file: ../../../Measurements/BreakTest_AluminiumBeam/results.enhanced/1-0.5/collect_122.bin\n",
        "Opening file: ../../../Measurements/BreakTest_AluminiumBeam/results.enhanced/1-0.5/collect_123.bin\n",
        "Closed file: ../../../Measurements/BreakTest_AluminiumBeam/results.enhanced/1-0.5/collect_123.bin\n",
        "Opening file: ../../../Measurements/BreakTest_AluminiumBeam/results.enhanced/1-0.5/collect_124.bin\n",
        "Closed file: ../../../Measurements/BreakTest_AluminiumBeam/results.enhanced/1-0.5/collect_124.bin\n",
        "Opening file: ../../../Measurements/BreakTest_AluminiumBeam/results.enhanced/1-0.5/collect_125.bin\n",
        "Closed file: ../../../Measurements/BreakTest_AluminiumBeam/results.enhanced/1-0.5/collect_125.bin"
       ]
      },
      {
       "output_type": "stream",
       "stream": "stdout",
       "text": [
        "\n",
        "Opening file: ../../../Measurements/BreakTest_AluminiumBeam/results.enhanced/1-0.5/collect_126.bin\n",
        "Closed file: ../../../Measurements/BreakTest_AluminiumBeam/results.enhanced/1-0.5/collect_126.bin\n",
        "Opening file: ../../../Measurements/BreakTest_AluminiumBeam/results.enhanced/1-0.5/collect_127.bin\n",
        "Closed file: ../../../Measurements/BreakTest_AluminiumBeam/results.enhanced/1-0.5/collect_127.bin\n",
        "Opening file: ../../../Measurements/BreakTest_AluminiumBeam/results.enhanced/1-0.5/collect_128.bin\n",
        "Closed file: ../../../Measurements/BreakTest_AluminiumBeam/results.enhanced/1-0.5/collect_128.bin\n",
        "Opening file: ../../../Measurements/BreakTest_AluminiumBeam/results.enhanced/1-0.5/collect_129.bin\n",
        "Closed file: ../../../Measurements/BreakTest_AluminiumBeam/results.enhanced/1-0.5/collect_129.bin\n",
        "Opening file: ../../../Measurements/BreakTest_AluminiumBeam/results.enhanced/1-0.5/collect_130.bin\n",
        "Closed file: ../../../Measurements/BreakTest_AluminiumBeam/results.enhanced/1-0.5/collect_130.bin\n",
        "Opening file: ../../../Measurements/BreakTest_AluminiumBeam/results.enhanced/1-0.5/collect_131.bin\n",
        "Closed file: ../../../Measurements/BreakTest_AluminiumBeam/results.enhanced/1-0.5/collect_131.bin\n",
        "Opening file: ../../../Measurements/BreakTest_AluminiumBeam/results.enhanced/1-0.5/collect_132.bin"
       ]
      },
      {
       "output_type": "stream",
       "stream": "stdout",
       "text": [
        "\n",
        "Closed file: ../../../Measurements/BreakTest_AluminiumBeam/results.enhanced/1-0.5/collect_132.bin\n",
        "Opening file: ../../../Measurements/BreakTest_AluminiumBeam/results.enhanced/1-0.5/collect_133.bin\n",
        "Closed file: ../../../Measurements/BreakTest_AluminiumBeam/results.enhanced/1-0.5/collect_133.bin\n",
        "Opening file: ../../../Measurements/BreakTest_AluminiumBeam/results.enhanced/1-0.5/collect_134.bin\n",
        "Closed file: ../../../Measurements/BreakTest_AluminiumBeam/results.enhanced/1-0.5/collect_134.bin\n",
        "Opening file: ../../../Measurements/BreakTest_AluminiumBeam/results.enhanced/1-0.5/collect_135.bin\n",
        "Closed file: ../../../Measurements/BreakTest_AluminiumBeam/results.enhanced/1-0.5/collect_135.bin"
       ]
      },
      {
       "output_type": "stream",
       "stream": "stdout",
       "text": [
        "\n",
        "Opening file: ../../../Measurements/BreakTest_AluminiumBeam/results.enhanced/1-0.5/collect_136.bin\n",
        "Closed file: ../../../Measurements/BreakTest_AluminiumBeam/results.enhanced/1-0.5/collect_136.bin\n",
        "Opening file: ../../../Measurements/BreakTest_AluminiumBeam/results.enhanced/1-0.5/collect_137.bin\n",
        "Closed file: ../../../Measurements/BreakTest_AluminiumBeam/results.enhanced/1-0.5/collect_137.bin\n",
        "Opening file: ../../../Measurements/BreakTest_AluminiumBeam/results.enhanced/1-0.5/collect_138.bin\n",
        "Closed file: ../../../Measurements/BreakTest_AluminiumBeam/results.enhanced/1-0.5/collect_138.bin\n",
        "Opening file: ../../../Measurements/BreakTest_AluminiumBeam/results.enhanced/1-0.5/collect_139.bin\n",
        "Closed file: ../../../Measurements/BreakTest_AluminiumBeam/results.enhanced/1-0.5/collect_139.bin\n",
        "Opening file: ../../../Measurements/BreakTest_AluminiumBeam/results.enhanced/1-0.5/collect_140.bin\n",
        "Closed file: ../../../Measurements/BreakTest_AluminiumBeam/results.enhanced/1-0.5/collect_140.bin"
       ]
      },
      {
       "output_type": "stream",
       "stream": "stdout",
       "text": [
        "\n",
        "Opening file: ../../../Measurements/BreakTest_AluminiumBeam/results.enhanced/1-0.5/collect_141.bin\n",
        "Closed file: ../../../Measurements/BreakTest_AluminiumBeam/results.enhanced/1-0.5/collect_141.bin\n",
        "Opening file: ../../../Measurements/BreakTest_AluminiumBeam/results.enhanced/1-0.5/collect_142.bin\n",
        "Closed file: ../../../Measurements/BreakTest_AluminiumBeam/results.enhanced/1-0.5/collect_142.bin\n",
        "Opening file: ../../../Measurements/BreakTest_AluminiumBeam/results.enhanced/1-0.5/collect_143.bin\n",
        "Closed file: ../../../Measurements/BreakTest_AluminiumBeam/results.enhanced/1-0.5/collect_143.bin\n",
        "Opening file: ../../../Measurements/BreakTest_AluminiumBeam/results.enhanced/1-0.5/collect_144.bin\n",
        "Closed file: ../../../Measurements/BreakTest_AluminiumBeam/results.enhanced/1-0.5/collect_144.bin\n",
        "Opening file: ../../../Measurements/BreakTest_AluminiumBeam/results.enhanced/1-0.5/collect_145.bin\n",
        "Closed file: ../../../Measurements/BreakTest_AluminiumBeam/results.enhanced/1-0.5/collect_145.bin\n",
        "Opening file: ../../../Measurements/BreakTest_AluminiumBeam/results.enhanced/1-0.5/collect_146.bin\n",
        "Closed file: ../../../Measurements/BreakTest_AluminiumBeam/results.enhanced/1-0.5/collect_146.bin"
       ]
      },
      {
       "output_type": "stream",
       "stream": "stdout",
       "text": [
        "\n",
        "Opening file: ../../../Measurements/BreakTest_AluminiumBeam/results.enhanced/1-0.5/collect_147.bin\n",
        "Closed file: ../../../Measurements/BreakTest_AluminiumBeam/results.enhanced/1-0.5/collect_147.bin\n",
        "Opening file: ../../../Measurements/BreakTest_AluminiumBeam/results.enhanced/1-0.5/collect_148.bin\n",
        "Closed file: ../../../Measurements/BreakTest_AluminiumBeam/results.enhanced/1-0.5/collect_148.bin\n",
        "Opening file: ../../../Measurements/BreakTest_AluminiumBeam/results.enhanced/1-0.5/collect_149.bin\n",
        "Closed file: ../../../Measurements/BreakTest_AluminiumBeam/results.enhanced/1-0.5/collect_149.bin\n",
        "Opening file: ../../../Measurements/BreakTest_AluminiumBeam/results.enhanced/1-0.5/collect_150.bin\n",
        "Closed file: ../../../Measurements/BreakTest_AluminiumBeam/results.enhanced/1-0.5/collect_150.bin\n",
        "Opening file: ../../../Measurements/BreakTest_AluminiumBeam/results.enhanced/1-0.5/collect_151.bin\n",
        "Closed file: ../../../Measurements/BreakTest_AluminiumBeam/results.enhanced/1-0.5/collect_151.bin\n",
        "Opening file: ../../../Measurements/BreakTest_AluminiumBeam/results.enhanced/1-0.5/collect_152.bin\n",
        "Closed file: ../../../Measurements/BreakTest_AluminiumBeam/results.enhanced/1-0.5/collect_152.bin"
       ]
      },
      {
       "output_type": "stream",
       "stream": "stdout",
       "text": [
        "\n",
        "Opening file: ../../../Measurements/BreakTest_AluminiumBeam/results.enhanced/1-0.5/collect_153.bin\n",
        "Closed file: ../../../Measurements/BreakTest_AluminiumBeam/results.enhanced/1-0.5/collect_153.bin\n",
        "Opening file: ../../../Measurements/BreakTest_AluminiumBeam/results.enhanced/1-0.5/collect_154.bin\n",
        "Closed file: ../../../Measurements/BreakTest_AluminiumBeam/results.enhanced/1-0.5/collect_154.bin\n",
        "Opening file: ../../../Measurements/BreakTest_AluminiumBeam/results.enhanced/1-0.5/collect_155.bin\n",
        "Closed file: ../../../Measurements/BreakTest_AluminiumBeam/results.enhanced/1-0.5/collect_155.bin\n",
        "Opening file: ../../../Measurements/BreakTest_AluminiumBeam/results.enhanced/1-0.5/collect_156.bin\n",
        "Closed file: ../../../Measurements/BreakTest_AluminiumBeam/results.enhanced/1-0.5/collect_156.bin\n",
        "Opening file: ../../../Measurements/BreakTest_AluminiumBeam/results.enhanced/1-0.5/collect_157.bin\n",
        "Closed file: ../../../Measurements/BreakTest_AluminiumBeam/results.enhanced/1-0.5/collect_157.bin\n",
        "Opening file: ../../../Measurements/BreakTest_AluminiumBeam/results.enhanced/1-0.5/collect_158.bin\n",
        "Closed file: ../../../Measurements/BreakTest_AluminiumBeam/results.enhanced/1-0.5/collect_158.bin\n",
        "Opening file: ../../../Measurements/BreakTest_AluminiumBeam/results.enhanced/1-0.5/collect_159.bin\n",
        "Closed file: ../../../Measurements/BreakTest_AluminiumBeam/results.enhanced/1-0.5/collect_159.bin"
       ]
      },
      {
       "output_type": "stream",
       "stream": "stdout",
       "text": [
        "\n",
        "Opening file: ../../../Measurements/BreakTest_AluminiumBeam/results.enhanced/1-0.5/collect_160.bin\n",
        "Closed file: ../../../Measurements/BreakTest_AluminiumBeam/results.enhanced/1-0.5/collect_160.bin\n",
        "Opening file: ../../../Measurements/BreakTest_AluminiumBeam/results.enhanced/1-0.5/collect_161.bin\n",
        "Closed file: ../../../Measurements/BreakTest_AluminiumBeam/results.enhanced/1-0.5/collect_161.bin\n",
        "Opening file: ../../../Measurements/BreakTest_AluminiumBeam/results.enhanced/1-0.5/collect_162.bin\n",
        "Closed file: ../../../Measurements/BreakTest_AluminiumBeam/results.enhanced/1-0.5/collect_162.bin\n",
        "Opening file: ../../../Measurements/BreakTest_AluminiumBeam/results.enhanced/1-0.5/collect_163.bin\n",
        "Closed file: ../../../Measurements/BreakTest_AluminiumBeam/results.enhanced/1-0.5/collect_163.bin\n",
        "Opening file: ../../../Measurements/BreakTest_AluminiumBeam/results.enhanced/1-0.5/collect_164.bin\n",
        "Closed file: ../../../Measurements/BreakTest_AluminiumBeam/results.enhanced/1-0.5/collect_164.bin\n",
        "Opening file: ../../../Measurements/BreakTest_AluminiumBeam/results.enhanced/1-0.5/collect_165.bin\n",
        "Closed file: ../../../Measurements/BreakTest_AluminiumBeam/results.enhanced/1-0.5/collect_165.bin\n",
        "Opening file: ../../../Measurements/BreakTest_AluminiumBeam/results.enhanced/1-0.5/collect_166.bin"
       ]
      },
      {
       "output_type": "stream",
       "stream": "stdout",
       "text": [
        "\n",
        "Closed file: ../../../Measurements/BreakTest_AluminiumBeam/results.enhanced/1-0.5/collect_166.bin\n",
        "Opening file: ../../../Measurements/BreakTest_AluminiumBeam/results.enhanced/1-0.5/collect_167.bin\n",
        "Closed file: ../../../Measurements/BreakTest_AluminiumBeam/results.enhanced/1-0.5/collect_167.bin\n",
        "Opening file: ../../../Measurements/BreakTest_AluminiumBeam/results.enhanced/1-0.5/collect_168.bin\n",
        "Closed file: ../../../Measurements/BreakTest_AluminiumBeam/results.enhanced/1-0.5/collect_168.bin\n",
        "Opening file: ../../../Measurements/BreakTest_AluminiumBeam/results.enhanced/1-0.5/collect_169.bin\n",
        "Closed file: ../../../Measurements/BreakTest_AluminiumBeam/results.enhanced/1-0.5/collect_169.bin\n",
        "Opening file: ../../../Measurements/BreakTest_AluminiumBeam/results.enhanced/1-0.5/collect_170.bin\n",
        "Closed file: ../../../Measurements/BreakTest_AluminiumBeam/results.enhanced/1-0.5/collect_170.bin"
       ]
      },
      {
       "output_type": "stream",
       "stream": "stdout",
       "text": [
        "\n",
        "Opening file: ../../../Measurements/BreakTest_AluminiumBeam/results.enhanced/1-0.5/collect_171.bin\n",
        "Closed file: ../../../Measurements/BreakTest_AluminiumBeam/results.enhanced/1-0.5/collect_171.bin\n",
        "Opening file: ../../../Measurements/BreakTest_AluminiumBeam/results.enhanced/1-0.5/collect_172.bin\n",
        "Closed file: ../../../Measurements/BreakTest_AluminiumBeam/results.enhanced/1-0.5/collect_172.bin\n",
        "Opening file: ../../../Measurements/BreakTest_AluminiumBeam/results.enhanced/1-0.5/collect_173.bin\n",
        "Closed file: ../../../Measurements/BreakTest_AluminiumBeam/results.enhanced/1-0.5/collect_173.bin\n",
        "Opening file: ../../../Measurements/BreakTest_AluminiumBeam/results.enhanced/1-0.5/collect_174.bin\n",
        "Closed file: ../../../Measurements/BreakTest_AluminiumBeam/results.enhanced/1-0.5/collect_174.bin\n",
        "Opening file: ../../../Measurements/BreakTest_AluminiumBeam/results.enhanced/1-0.5/collect_175.bin\n",
        "Closed file: ../../../Measurements/BreakTest_AluminiumBeam/results.enhanced/1-0.5/collect_175.bin"
       ]
      },
      {
       "output_type": "stream",
       "stream": "stdout",
       "text": [
        "\n",
        "Opening file: ../../../Measurements/BreakTest_AluminiumBeam/results.enhanced/1-0.5/collect_176.bin\n",
        "Closed file: ../../../Measurements/BreakTest_AluminiumBeam/results.enhanced/1-0.5/collect_176.bin\n",
        "Opening file: ../../../Measurements/BreakTest_AluminiumBeam/results.enhanced/1-0.5/collect_177.bin\n",
        "Closed file: ../../../Measurements/BreakTest_AluminiumBeam/results.enhanced/1-0.5/collect_177.bin\n",
        "Opening file: ../../../Measurements/BreakTest_AluminiumBeam/results.enhanced/1-0.5/collect_178.bin\n",
        "Closed file: ../../../Measurements/BreakTest_AluminiumBeam/results.enhanced/1-0.5/collect_178.bin\n",
        "Opening file: ../../../Measurements/BreakTest_AluminiumBeam/results.enhanced/1-0.5/collect_179.bin\n",
        "Closed file: ../../../Measurements/BreakTest_AluminiumBeam/results.enhanced/1-0.5/collect_179.bin\n",
        "Opening file: ../../../Measurements/BreakTest_AluminiumBeam/results.enhanced/1-0.5/collect_180.bin\n",
        "Closed file: ../../../Measurements/BreakTest_AluminiumBeam/results.enhanced/1-0.5/collect_180.bin\n",
        "Opening file: ../../../Measurements/BreakTest_AluminiumBeam/results.enhanced/1-0.5/collect_181.bin\n",
        "Closed file: ../../../Measurements/BreakTest_AluminiumBeam/results.enhanced/1-0.5/collect_181.bin\n",
        "Opening file: ../../../Measurements/BreakTest_AluminiumBeam/results.enhanced/1-0.5/collect_182.bin\n",
        "Closed file: ../../../Measurements/BreakTest_AluminiumBeam/results.enhanced/1-0.5/collect_182.bin"
       ]
      },
      {
       "output_type": "stream",
       "stream": "stdout",
       "text": [
        "\n",
        "Opening file: ../../../Measurements/BreakTest_AluminiumBeam/results.enhanced/1-0.5/collect_183.bin\n",
        "Closed file: ../../../Measurements/BreakTest_AluminiumBeam/results.enhanced/1-0.5/collect_183.bin\n"
       ]
      }
     ],
     "prompt_number": 1
    },
    {
     "cell_type": "code",
     "collapsed": false,
     "input": [
      "import numpy as np\n",
      "\n",
      "def removeDC(ys):\n",
      "    for ii in xrange(len(ys)):\n",
      "        ys[ii] -= np.mean(ys[ii])\n",
      "    return ys"
     ],
     "language": "python",
     "metadata": {},
     "outputs": [],
     "prompt_number": 2
    },
    {
     "cell_type": "code",
     "collapsed": false,
     "input": [
      "y_1 = removeDC(y_1)\n",
      "y2_1 = removeDC(y2_1)"
     ],
     "language": "python",
     "metadata": {},
     "outputs": [],
     "prompt_number": 3
    },
    {
     "cell_type": "heading",
     "level": 2,
     "metadata": {},
     "source": [
      "Time Difference of Arrival (TDOA)"
     ]
    },
    {
     "cell_type": "heading",
     "level": 3,
     "metadata": {},
     "source": [
      "Reciprocal method onset time picker"
     ]
    },
    {
     "cell_type": "markdown",
     "metadata": {},
     "source": [
      "Calculate TDOA using the reciprocal method as onset picker."
     ]
    },
    {
     "cell_type": "code",
     "collapsed": false,
     "input": [
      "from helperfuncs.CalculateTDOA import CalculateTDOA\n",
      "from helperfuncs.Onset_Reciprocal import Onset_Reciprocal\n",
      "\n",
      "AE_start_1, AE_start2_1, TD_meas, qty1, qty2 = CalculateTDOA(y_1, y2_1, T_1, Onset_Reciprocal)\n",
      "qty_min = np.minimum(qty1, qty2)\n",
      "qty_max = np.maximum(qty1, qty2)"
     ],
     "language": "python",
     "metadata": {},
     "outputs": [
      {
       "output_type": "stream",
       "stream": "stdout",
       "text": [
        "0.00%\n",
        "0.54%\n",
        "1.09%"
       ]
      },
      {
       "output_type": "stream",
       "stream": "stdout",
       "text": [
        "\n",
        "1.63%"
       ]
      },
      {
       "output_type": "stream",
       "stream": "stdout",
       "text": [
        "\n",
        "2.17%"
       ]
      },
      {
       "output_type": "stream",
       "stream": "stdout",
       "text": [
        "\n",
        "2.72%"
       ]
      },
      {
       "output_type": "stream",
       "stream": "stdout",
       "text": [
        "\n",
        "3.26%"
       ]
      },
      {
       "output_type": "stream",
       "stream": "stdout",
       "text": [
        "\n",
        "3.80%"
       ]
      },
      {
       "output_type": "stream",
       "stream": "stdout",
       "text": [
        "\n",
        "4.35%"
       ]
      },
      {
       "output_type": "stream",
       "stream": "stdout",
       "text": [
        "\n",
        "4.89%"
       ]
      },
      {
       "output_type": "stream",
       "stream": "stdout",
       "text": [
        "\n",
        "5.43%"
       ]
      },
      {
       "output_type": "stream",
       "stream": "stdout",
       "text": [
        "\n",
        "5.98%"
       ]
      },
      {
       "output_type": "stream",
       "stream": "stdout",
       "text": [
        "\n",
        "6.52%"
       ]
      },
      {
       "output_type": "stream",
       "stream": "stdout",
       "text": [
        "\n",
        "7.07%"
       ]
      },
      {
       "output_type": "stream",
       "stream": "stdout",
       "text": [
        "\n",
        "7.61%"
       ]
      },
      {
       "output_type": "stream",
       "stream": "stdout",
       "text": [
        "\n",
        "8.15%"
       ]
      },
      {
       "output_type": "stream",
       "stream": "stdout",
       "text": [
        "\n",
        "8.70%"
       ]
      },
      {
       "output_type": "stream",
       "stream": "stdout",
       "text": [
        "\n",
        "9.24%\n",
        "9.78%"
       ]
      },
      {
       "output_type": "stream",
       "stream": "stdout",
       "text": [
        "\n",
        "10.33%"
       ]
      },
      {
       "output_type": "stream",
       "stream": "stdout",
       "text": [
        "\n",
        "10.87%"
       ]
      },
      {
       "output_type": "stream",
       "stream": "stdout",
       "text": [
        "\n",
        "11.41%"
       ]
      },
      {
       "output_type": "stream",
       "stream": "stdout",
       "text": [
        "\n",
        "11.96%"
       ]
      },
      {
       "output_type": "stream",
       "stream": "stdout",
       "text": [
        "\n",
        "12.50%"
       ]
      },
      {
       "output_type": "stream",
       "stream": "stdout",
       "text": [
        "\n",
        "13.04%"
       ]
      },
      {
       "output_type": "stream",
       "stream": "stdout",
       "text": [
        "\n",
        "13.59%"
       ]
      },
      {
       "output_type": "stream",
       "stream": "stdout",
       "text": [
        "\n",
        "14.13%\n",
        "14.67%"
       ]
      },
      {
       "output_type": "stream",
       "stream": "stdout",
       "text": [
        "\n",
        "15.22%"
       ]
      },
      {
       "output_type": "stream",
       "stream": "stdout",
       "text": [
        "\n",
        "15.76%"
       ]
      },
      {
       "output_type": "stream",
       "stream": "stdout",
       "text": [
        "\n",
        "16.30%\n",
        "16.85%"
       ]
      },
      {
       "output_type": "stream",
       "stream": "stdout",
       "text": [
        "\n",
        "17.39%"
       ]
      },
      {
       "output_type": "stream",
       "stream": "stdout",
       "text": [
        "\n",
        "17.93%\n",
        "18.48%"
       ]
      },
      {
       "output_type": "stream",
       "stream": "stdout",
       "text": [
        "\n",
        "19.02%"
       ]
      },
      {
       "output_type": "stream",
       "stream": "stdout",
       "text": [
        "\n",
        "19.57%\n",
        "20.11%"
       ]
      },
      {
       "output_type": "stream",
       "stream": "stdout",
       "text": [
        "\n",
        "20.65%"
       ]
      },
      {
       "output_type": "stream",
       "stream": "stdout",
       "text": [
        "\n",
        "21.20%"
       ]
      },
      {
       "output_type": "stream",
       "stream": "stdout",
       "text": [
        "\n",
        "21.74%\n",
        "22.28%"
       ]
      },
      {
       "output_type": "stream",
       "stream": "stdout",
       "text": [
        "\n",
        "22.83%\n",
        "23.37%"
       ]
      },
      {
       "output_type": "stream",
       "stream": "stdout",
       "text": [
        "\n",
        "23.91%\n",
        "24.46%"
       ]
      },
      {
       "output_type": "stream",
       "stream": "stdout",
       "text": [
        "\n",
        "25.00%\n",
        "25.54%"
       ]
      },
      {
       "output_type": "stream",
       "stream": "stdout",
       "text": [
        "\n",
        "26.09%\n",
        "26.63%"
       ]
      },
      {
       "output_type": "stream",
       "stream": "stdout",
       "text": [
        "\n",
        "27.17%\n",
        "27.72%"
       ]
      },
      {
       "output_type": "stream",
       "stream": "stdout",
       "text": [
        "\n",
        "28.26%\n",
        "28.80%"
       ]
      },
      {
       "output_type": "stream",
       "stream": "stdout",
       "text": [
        "\n",
        "29.35%\n",
        "29.89%"
       ]
      },
      {
       "output_type": "stream",
       "stream": "stdout",
       "text": [
        "\n",
        "30.43%\n",
        "30.98%"
       ]
      },
      {
       "output_type": "stream",
       "stream": "stdout",
       "text": [
        "\n",
        "31.52%\n",
        "32.07%"
       ]
      },
      {
       "output_type": "stream",
       "stream": "stdout",
       "text": [
        "\n",
        "32.61%"
       ]
      },
      {
       "output_type": "stream",
       "stream": "stdout",
       "text": [
        "\n",
        "33.15%"
       ]
      },
      {
       "output_type": "stream",
       "stream": "stdout",
       "text": [
        "\n",
        "33.70%"
       ]
      },
      {
       "output_type": "stream",
       "stream": "stdout",
       "text": [
        "\n",
        "34.24%"
       ]
      },
      {
       "output_type": "stream",
       "stream": "stdout",
       "text": [
        "\n",
        "34.78%"
       ]
      },
      {
       "output_type": "stream",
       "stream": "stdout",
       "text": [
        "\n",
        "35.33%"
       ]
      },
      {
       "output_type": "stream",
       "stream": "stdout",
       "text": [
        "\n",
        "35.87%"
       ]
      },
      {
       "output_type": "stream",
       "stream": "stdout",
       "text": [
        "\n",
        "36.41%\n",
        "36.96%"
       ]
      },
      {
       "output_type": "stream",
       "stream": "stdout",
       "text": [
        "\n",
        "37.50%"
       ]
      },
      {
       "output_type": "stream",
       "stream": "stdout",
       "text": [
        "\n",
        "38.04%\n",
        "38.59%"
       ]
      },
      {
       "output_type": "stream",
       "stream": "stdout",
       "text": [
        "\n",
        "39.13%\n",
        "39.67%"
       ]
      },
      {
       "output_type": "stream",
       "stream": "stdout",
       "text": [
        "\n",
        "40.22%\n",
        "40.76%"
       ]
      },
      {
       "output_type": "stream",
       "stream": "stdout",
       "text": [
        "\n",
        "41.30%\n",
        "41.85%"
       ]
      },
      {
       "output_type": "stream",
       "stream": "stdout",
       "text": [
        "\n",
        "42.39%\n",
        "42.93%"
       ]
      },
      {
       "output_type": "stream",
       "stream": "stdout",
       "text": [
        "\n",
        "43.48%\n",
        "44.02%"
       ]
      },
      {
       "output_type": "stream",
       "stream": "stdout",
       "text": [
        "\n",
        "44.57%"
       ]
      },
      {
       "output_type": "stream",
       "stream": "stdout",
       "text": [
        "\n",
        "45.11%"
       ]
      },
      {
       "output_type": "stream",
       "stream": "stdout",
       "text": [
        "\n",
        "45.65%"
       ]
      },
      {
       "output_type": "stream",
       "stream": "stdout",
       "text": [
        "\n",
        "46.20%"
       ]
      },
      {
       "output_type": "stream",
       "stream": "stdout",
       "text": [
        "\n",
        "46.74%\n",
        "47.28%"
       ]
      },
      {
       "output_type": "stream",
       "stream": "stdout",
       "text": [
        "\n",
        "47.83%\n",
        "48.37%"
       ]
      },
      {
       "output_type": "stream",
       "stream": "stdout",
       "text": [
        "\n",
        "48.91%\n",
        "49.46%"
       ]
      },
      {
       "output_type": "stream",
       "stream": "stdout",
       "text": [
        "\n",
        "50.00%"
       ]
      },
      {
       "output_type": "stream",
       "stream": "stdout",
       "text": [
        "\n",
        "50.54%\n",
        "51.09%"
       ]
      },
      {
       "output_type": "stream",
       "stream": "stdout",
       "text": [
        "\n",
        "51.63%"
       ]
      },
      {
       "output_type": "stream",
       "stream": "stdout",
       "text": [
        "\n",
        "52.17%"
       ]
      },
      {
       "output_type": "stream",
       "stream": "stdout",
       "text": [
        "\n",
        "52.72%"
       ]
      },
      {
       "output_type": "stream",
       "stream": "stdout",
       "text": [
        "\n",
        "53.26%"
       ]
      },
      {
       "output_type": "stream",
       "stream": "stdout",
       "text": [
        "\n",
        "53.80%"
       ]
      },
      {
       "output_type": "stream",
       "stream": "stdout",
       "text": [
        "\n",
        "54.35%"
       ]
      },
      {
       "output_type": "stream",
       "stream": "stdout",
       "text": [
        "\n",
        "54.89%"
       ]
      },
      {
       "output_type": "stream",
       "stream": "stdout",
       "text": [
        "\n",
        "55.43%"
       ]
      },
      {
       "output_type": "stream",
       "stream": "stdout",
       "text": [
        "\n",
        "55.98%"
       ]
      },
      {
       "output_type": "stream",
       "stream": "stdout",
       "text": [
        "\n",
        "56.52%\n",
        "57.07%"
       ]
      },
      {
       "output_type": "stream",
       "stream": "stdout",
       "text": [
        "\n",
        "57.61%\n",
        "58.15%"
       ]
      },
      {
       "output_type": "stream",
       "stream": "stdout",
       "text": [
        "\n",
        "58.70%\n",
        "59.24%"
       ]
      },
      {
       "output_type": "stream",
       "stream": "stdout",
       "text": [
        "\n",
        "59.78%\n",
        "60.33%"
       ]
      },
      {
       "output_type": "stream",
       "stream": "stdout",
       "text": [
        "\n",
        "60.87%\n",
        "61.41%"
       ]
      },
      {
       "output_type": "stream",
       "stream": "stdout",
       "text": [
        "\n",
        "61.96%"
       ]
      },
      {
       "output_type": "stream",
       "stream": "stdout",
       "text": [
        "\n",
        "62.50%\n",
        "63.04%"
       ]
      },
      {
       "output_type": "stream",
       "stream": "stdout",
       "text": [
        "\n",
        "63.59%"
       ]
      },
      {
       "output_type": "stream",
       "stream": "stdout",
       "text": [
        "\n",
        "64.13%"
       ]
      },
      {
       "output_type": "stream",
       "stream": "stdout",
       "text": [
        "\n",
        "64.67%\n",
        "65.22%"
       ]
      },
      {
       "output_type": "stream",
       "stream": "stdout",
       "text": [
        "\n",
        "65.76%"
       ]
      },
      {
       "output_type": "stream",
       "stream": "stdout",
       "text": [
        "\n",
        "66.30%\n",
        "66.85%"
       ]
      },
      {
       "output_type": "stream",
       "stream": "stdout",
       "text": [
        "\n",
        "67.39%"
       ]
      },
      {
       "output_type": "stream",
       "stream": "stdout",
       "text": [
        "\n",
        "67.93%\n",
        "68.48%"
       ]
      },
      {
       "output_type": "stream",
       "stream": "stdout",
       "text": [
        "\n",
        "69.02%\n",
        "69.57%"
       ]
      },
      {
       "output_type": "stream",
       "stream": "stdout",
       "text": [
        "\n",
        "70.11%"
       ]
      },
      {
       "output_type": "stream",
       "stream": "stdout",
       "text": [
        "\n",
        "70.65%"
       ]
      },
      {
       "output_type": "stream",
       "stream": "stdout",
       "text": [
        "\n",
        "71.20%\n",
        "71.74%"
       ]
      },
      {
       "output_type": "stream",
       "stream": "stdout",
       "text": [
        "\n",
        "72.28%"
       ]
      },
      {
       "output_type": "stream",
       "stream": "stdout",
       "text": [
        "\n",
        "72.83%"
       ]
      },
      {
       "output_type": "stream",
       "stream": "stdout",
       "text": [
        "\n",
        "73.37%"
       ]
      },
      {
       "output_type": "stream",
       "stream": "stdout",
       "text": [
        "\n",
        "73.91%"
       ]
      },
      {
       "output_type": "stream",
       "stream": "stdout",
       "text": [
        "\n",
        "74.46%"
       ]
      },
      {
       "output_type": "stream",
       "stream": "stdout",
       "text": [
        "\n",
        "75.00%"
       ]
      },
      {
       "output_type": "stream",
       "stream": "stdout",
       "text": [
        "\n",
        "75.54%"
       ]
      },
      {
       "output_type": "stream",
       "stream": "stdout",
       "text": [
        "\n",
        "76.09%"
       ]
      },
      {
       "output_type": "stream",
       "stream": "stdout",
       "text": [
        "\n",
        "76.63%\n",
        "77.17%"
       ]
      },
      {
       "output_type": "stream",
       "stream": "stdout",
       "text": [
        "\n",
        "77.72%"
       ]
      },
      {
       "output_type": "stream",
       "stream": "stdout",
       "text": [
        "\n",
        "78.26%"
       ]
      },
      {
       "output_type": "stream",
       "stream": "stdout",
       "text": [
        "\n",
        "78.80%\n",
        "79.35%"
       ]
      },
      {
       "output_type": "stream",
       "stream": "stdout",
       "text": [
        "\n",
        "79.89%"
       ]
      },
      {
       "output_type": "stream",
       "stream": "stdout",
       "text": [
        "\n",
        "80.43%"
       ]
      },
      {
       "output_type": "stream",
       "stream": "stdout",
       "text": [
        "\n",
        "80.98%\n",
        "81.52%"
       ]
      },
      {
       "output_type": "stream",
       "stream": "stdout",
       "text": [
        "\n",
        "82.07%"
       ]
      },
      {
       "output_type": "stream",
       "stream": "stdout",
       "text": [
        "\n",
        "82.61%"
       ]
      },
      {
       "output_type": "stream",
       "stream": "stdout",
       "text": [
        "\n",
        "83.15%"
       ]
      },
      {
       "output_type": "stream",
       "stream": "stdout",
       "text": [
        "\n",
        "83.70%\n",
        "84.24%"
       ]
      },
      {
       "output_type": "stream",
       "stream": "stdout",
       "text": [
        "\n",
        "84.78%\n",
        "85.33%"
       ]
      },
      {
       "output_type": "stream",
       "stream": "stdout",
       "text": [
        "\n",
        "85.87%\n",
        "86.41%"
       ]
      },
      {
       "output_type": "stream",
       "stream": "stdout",
       "text": [
        "\n",
        "86.96%\n",
        "87.50%"
       ]
      },
      {
       "output_type": "stream",
       "stream": "stdout",
       "text": [
        "\n",
        "88.04%\n",
        "88.59%"
       ]
      },
      {
       "output_type": "stream",
       "stream": "stdout",
       "text": [
        "\n",
        "89.13%\n",
        "89.67%"
       ]
      },
      {
       "output_type": "stream",
       "stream": "stdout",
       "text": [
        "\n",
        "90.22%"
       ]
      },
      {
       "output_type": "stream",
       "stream": "stdout",
       "text": [
        "\n",
        "90.76%\n",
        "91.30%"
       ]
      },
      {
       "output_type": "stream",
       "stream": "stdout",
       "text": [
        "\n",
        "91.85%"
       ]
      },
      {
       "output_type": "stream",
       "stream": "stdout",
       "text": [
        "\n",
        "92.39%"
       ]
      },
      {
       "output_type": "stream",
       "stream": "stdout",
       "text": [
        "\n",
        "92.93%\n",
        "93.48%"
       ]
      },
      {
       "output_type": "stream",
       "stream": "stdout",
       "text": [
        "\n",
        "94.02%\n",
        "94.57%"
       ]
      },
      {
       "output_type": "stream",
       "stream": "stdout",
       "text": [
        "\n",
        "95.11%\n",
        "95.65%"
       ]
      },
      {
       "output_type": "stream",
       "stream": "stdout",
       "text": [
        "\n",
        "96.20%\n",
        "96.74%"
       ]
      },
      {
       "output_type": "stream",
       "stream": "stdout",
       "text": [
        "\n",
        "97.28%\n",
        "97.83%"
       ]
      },
      {
       "output_type": "stream",
       "stream": "stdout",
       "text": [
        "\n",
        "98.37%\n",
        "98.91%"
       ]
      },
      {
       "output_type": "stream",
       "stream": "stdout",
       "text": [
        "\n",
        "99.46%\n"
       ]
      }
     ],
     "prompt_number": 4
    },
    {
     "cell_type": "heading",
     "level": 2,
     "metadata": {},
     "source": [
      "GMM model estimate with EM"
     ]
    },
    {
     "cell_type": "heading",
     "level": 3,
     "metadata": {},
     "source": [
      "2D: TD and quality idx"
     ]
    },
    {
     "cell_type": "code",
     "collapsed": false,
     "input": [
      "TD_meas = TD_meas[np.log10(qty_min) > -100]\n",
      "qty_min = qty_min[np.log10(qty_min) > -100]"
     ],
     "language": "python",
     "metadata": {},
     "outputs": [],
     "prompt_number": 5
    },
    {
     "cell_type": "code",
     "collapsed": false,
     "input": [
      "from helperfuncs.GMM_estimate_EM import GMM_estimate_EM\n",
      "import numpy as np\n",
      "\n",
      "alpha0 = np.array([0.8, 0.15, 0.1])\n",
      "mu0 = np.array([ [0.1, -4], [0.15, -1.5], [0.8, -1.5] ])\n",
      "sigma0 = np.array( [[[0.2, 0.01, 0.005],[0.0, 0.0, 0.0]], [[0.0, 0.0, 0.0],[0.2, 0.4, 0.005]]] )\n",
      "x1 = TD_meas*1e3\n",
      "x2 = np.log10(qty_min)\n",
      "x = np.concatenate((np.reshape(x1, (x1.shape[0],-1)),np.reshape(x2, (x2.shape[0],-1))), axis=1)\n",
      "\n",
      "alpha_1, mu_1, sigma_1 = GMM_estimate_EM( x, alpha = alpha0, mu = mu0, sigma = sigma0 )"
     ],
     "language": "python",
     "metadata": {},
     "outputs": [
      {
       "output_type": "stream",
       "stream": "stdout",
       "text": [
        "Iterations left: 10\n",
        "alpha: "
       ]
      },
      {
       "output_type": "stream",
       "stream": "stdout",
       "text": [
        "\n",
        "[ 0.8528386   0.11334813  0.03381326]\n",
        "mu: \n",
        "[[ 0.31675307 -4.16983851]\n",
        " [ 0.21751021 -1.67243446]\n",
        " [ 0.90230619 -1.59050322]]\n",
        "sigma: \n",
        "[[[  1.63672716e-01   5.49386674e-03   3.29091735e-04]\n",
        "  [  2.93372839e-02   1.62832999e-02   1.08933976e-04]]\n",
        "\n",
        " [[  2.93372839e-02   1.62832999e-02   1.08933976e-04]\n",
        "  [  5.57716564e-01   1.78518746e-01   1.71581246e-02]]]\n",
        "Likelihood: -294.60\n",
        "change: 45.68%\n",
        "Iterations left: 10"
       ]
      },
      {
       "output_type": "stream",
       "stream": "stdout",
       "text": [
        "\n",
        "alpha: "
       ]
      },
      {
       "output_type": "stream",
       "stream": "stdout",
       "text": [
        "\n",
        "[ 0.86727578  0.09914061  0.03358362]\n",
        "mu: \n",
        "[[ 0.31405204 -4.14353087]\n",
        " [ 0.22845569 -1.53930929]\n",
        " [ 0.90176632 -1.58871125]]\n",
        "sigma: \n",
        "[[[  1.61982682e-01   1.65684156e-03   2.80405409e-04]\n",
        "  [  2.50608362e-02   4.83795328e-03   2.69845623e-04]]\n",
        "\n",
        " [[  2.50608362e-02   4.83795328e-03   2.69845623e-04]\n",
        "  [  5.90378967e-01   5.47057785e-02   1.67624015e-02]]]\n",
        "Likelihood: -276.71\n",
        "change: 6.47%\n",
        "Iterations left: 10"
       ]
      },
      {
       "output_type": "stream",
       "stream": "stdout",
       "text": [
        "\n",
        "alpha: "
       ]
      },
      {
       "output_type": "stream",
       "stream": "stdout",
       "text": [
        "\n",
        "[ 0.87165514  0.09486885  0.03347601]\n",
        "mu: \n",
        "[[ 0.31334385 -4.13522685]\n",
        " [ 0.2318448  -1.49575414]\n",
        " [ 0.90156835 -1.58783743]]\n",
        "sigma: \n",
        "[[[  1.61461784e-01   4.13154984e-04   2.66289806e-04]\n",
        "  [  2.39681006e-02   3.89768597e-04   3.30333282e-04]]\n",
        "\n",
        " [[  2.39681006e-02   3.89768597e-04   3.30333282e-04]\n",
        "  [  6.01299583e-01   1.14925378e-02   1.65501780e-02]]]\n",
        "Likelihood: -265.57\n",
        "change: 4.19%\n",
        "Iterations left: 10"
       ]
      },
      {
       "output_type": "stream",
       "stream": "stdout",
       "text": [
        "\n",
        "alpha: "
       ]
      },
      {
       "output_type": "stream",
       "stream": "stdout",
       "text": [
        "\n",
        "[ 0.87279171  0.09374472  0.03346358]\n",
        "mu: \n",
        "[[ 0.31317399 -4.13205467]\n",
        " [ 0.23253043 -1.49332446]\n",
        " [ 0.90155872 -1.58776686]]\n",
        "sigma: \n",
        "[[[  1.61283169e-01   3.64361969e-04   2.65624850e-04]\n",
        "  [  2.35229677e-02   2.51842863e-04   3.33422355e-04]]\n",
        "\n",
        " [[  2.35229677e-02   2.51842863e-04   3.33422355e-04]\n",
        "  [  6.08233074e-01   1.11428694e-02   1.65362097e-02]]]\n",
        "Likelihood: -265.34\n",
        "change: 0.09%\n"
       ]
      }
     ],
     "prompt_number": 6
    },
    {
     "cell_type": "code",
     "collapsed": false,
     "input": [
      "from helperfuncs.PlotScatter2Dhist import PlotScatter2Dhist\n",
      "\n",
      "PlotScatter2Dhist(TD_meas*1e3, qty_min, 'time diff [msec]', 'quality idx []', ylim_min=0)\n",
      "PlotScatter2Dhist(TD_meas*1e3, np.log10(qty_min), 'time diff [msec]', 'log10(quality idx) []', fitcurve=True, alpha=alpha_1, mu=mu_1, sigma=sigma_1)\n",
      "#PlotScatter2Dhist(TD_meas*1e3, np.log10(qty_min), 'time diff [msec]', 'log10(quality idx) []')"
     ],
     "language": "python",
     "metadata": {},
     "outputs": [
      {
       "metadata": {},
       "output_type": "display_data",
       "png": "[encoded data removed]",
       "text": [
        "<matplotlib.figure.Figure at 0x449ce90>"
       ]
      },
      {
       "metadata": {},
       "output_type": "display_data",
       "png": "[encoded data removed]",
       "text": [
        "<matplotlib.figure.Figure at 0x45110d0>"
       ]
      }
     ],
     "prompt_number": 7
    },
    {
     "cell_type": "heading",
     "level": 2,
     "metadata": {},
     "source": [
      "Clustering"
     ]
    },
    {
     "cell_type": "code",
     "collapsed": false,
     "input": [
      "from helperfuncs.Optics_Clustering import Optics_Clustering\n",
      "\n",
      "OC = Optics_Clustering(data = np.array([TD_meas*1e3, np.log10(qty_min)]), \n",
      "                       epsilon = 0.2, \n",
      "                       min_pts = 5)\n",
      "reach_dist = OC.Generate_Reach_Dist()"
     ],
     "language": "python",
     "metadata": {},
     "outputs": [
      {
       "output_type": "stream",
       "stream": "stdout",
       "text": [
        "Calculating neighbors for  0 , it has  10 neighbors\n",
        "Retrieving neighbors for  0\n",
        "Retrieving neighbors for  0\n",
        "Retrieving neighbors for  0\n",
        "Retrieving neighbors for  0\n",
        "Calculating neighbors for  28 , it has  8 neighbors\n",
        "Retrieving neighbors for  28\n",
        "Retrieving neighbors for  28\n",
        "Retrieving neighbors for  28\n",
        "Retrieving neighbors for  28\n",
        "Calculating neighbors for  34 , it has  9 neighbors\n",
        "Retrieving neighbors for  34\n",
        "Retrieving neighbors for  34\n",
        "Retrieving neighbors for  34\n",
        "Retrieving neighbors for  34\n",
        "Calculating neighbors for  42 , it has  9 neighbors\n",
        "Retrieving neighbors for  42\n",
        "Retrieving neighbors for  42\n",
        "Retrieving neighbors for  42\n",
        "Retrieving neighbors for  42\n",
        "Calculating neighbors for  45 , it has  8 neighbors\n",
        "Retrieving neighbors for  45\n",
        "Retrieving neighbors for  45\n",
        "Retrieving neighbors for  45\n",
        "Retrieving neighbors for  45\n",
        "Calculating neighbors for  159 , it has  11 neighbors\n",
        "Retrieving neighbors for  159\n",
        "Retrieving neighbors for  159\n",
        "Retrieving neighbors for  159\n",
        "Retrieving neighbors for  159\n",
        "Calculating neighbors for  36 , it has  7 neighbors\n",
        "Retrieving neighbors for  36\n",
        "Retrieving neighbors for  36\n",
        "Retrieving neighbors for  36\n",
        "Retrieving neighbors for  36\n",
        "Calculating neighbors for  84 , it has  8 neighbors\n",
        "Retrieving neighbors for  84\n",
        "Retrieving neighbors for  84\n",
        "Retrieving neighbors for  84\n",
        "Retrieving neighbors for  84\n",
        "Calculating neighbors for  166 , it has  8 neighbors\n",
        "Retrieving neighbors for  166\n",
        "Retrieving neighbors for  166\n",
        "Retrieving neighbors for  166\n",
        "Retrieving neighbors for  166\n",
        "Calculating neighbors for  82 , it has  16 neighbors\n",
        "Retrieving neighbors for  82\n",
        "Retrieving neighbors for "
       ]
      },
      {
       "output_type": "stream",
       "stream": "stdout",
       "text": [
        " 82\n",
        "Retrieving neighbors for  82\n",
        "Retrieving neighbors for  82\n",
        "Calculating neighbors for  15 , it has  13 neighbors\n",
        "Retrieving neighbors for  15\n",
        "Retrieving neighbors for  15\n",
        "Retrieving neighbors for  15\n",
        "Retrieving neighbors for  15\n",
        "Calculating neighbors for  24 , it has  13 neighbors\n",
        "Retrieving neighbors for  24\n",
        "Retrieving neighbors for  24\n",
        "Retrieving neighbors for  24\n",
        "Retrieving neighbors for  24\n",
        "Calculating neighbors for  35 , it has  14 neighbors\n",
        "Retrieving neighbors for  35\n",
        "Retrieving neighbors for  35\n",
        "Retrieving neighbors for  35\n",
        "Retrieving neighbors for  35\n",
        "Calculating neighbors for  54 , it has  14 neighbors\n",
        "Retrieving neighbors for  54\n",
        "Retrieving neighbors for  54\n",
        "Retrieving neighbors for  54\n",
        "Retrieving neighbors for  54\n",
        "Calculating neighbors for  56 , it has  14 neighbors\n",
        "Retrieving neighbors for  56\n",
        "Retrieving neighbors for  56\n",
        "Retrieving neighbors for  56\n",
        "Retrieving neighbors for  56\n",
        "Calculating neighbors for  94 , it has  13 neighbors\n",
        "Retrieving neighbors for  94\n",
        "Retrieving neighbors for  94\n",
        "Retrieving neighbors for  94\n",
        "Retrieving neighbors for  94\n",
        "Calculating neighbors for  114 , it has  14 neighbors\n",
        "Retrieving neighbors for  114\n",
        "Retrieving neighbors for  114\n",
        "Retrieving neighbors for  114\n",
        "Retrieving neighbors for  114\n",
        "Calculating neighbors for  115 , it has  12 neighbors\n",
        "Retrieving neighbors for  115\n",
        "Retrieving neighbors for  115\n",
        "Retrieving neighbors for  115\n",
        "Retrieving neighbors for  115\n",
        "Calculating neighbors for "
       ]
      },
      {
       "output_type": "stream",
       "stream": "stdout",
       "text": [
        " 155 , it has  12 neighbors\n",
        "Retrieving neighbors for  155\n",
        "Retrieving neighbors for  155\n",
        "Retrieving neighbors for  155\n",
        "Retrieving neighbors for  155\n",
        "Calculating neighbors for  3 , it has  13 neighbors\n",
        "Retrieving neighbors for  3\n",
        "Retrieving neighbors for  3\n",
        "Retrieving neighbors for  3\n",
        "Retrieving neighbors for  3\n",
        "Calculating neighbors for  101 , it has  11 neighbors\n",
        "Retrieving neighbors for  101\n",
        "Retrieving neighbors for  101\n",
        "Retrieving neighbors for  101\n",
        "Retrieving neighbors for  101\n",
        "Calculating neighbors for  39 , it has  13 neighbors\n",
        "Retrieving neighbors for  39\n",
        "Retrieving neighbors for  39\n",
        "Retrieving neighbors for  39\n",
        "Retrieving neighbors for  39\n",
        "Calculating neighbors for  31 , it has  13 neighbors\n",
        "Retrieving neighbors for  31\n",
        "Retrieving neighbors for  31\n",
        "Retrieving neighbors for  31\n",
        "Retrieving neighbors for  31\n",
        "Calculating neighbors for  68 , it has  12 neighbors\n",
        "Retrieving neighbors for  68\n",
        "Retrieving neighbors for  68\n",
        "Retrieving neighbors for  68\n",
        "Retrieving neighbors for  68\n",
        "Calculating neighbors for  126 , it has  5 neighbors\n",
        "Retrieving neighbors for  126\n",
        "Retrieving neighbors for  126\n",
        "Retrieving neighbors for  126\n",
        "Retrieving neighbors for  126\n",
        "Calculating neighbors for  7 , it has  6 neighbors\n",
        "Retrieving neighbors for  7\n",
        "Retrieving neighbors for  7\n",
        "Retrieving neighbors for  7\n",
        "Retrieving neighbors for  7\n",
        "Calculating neighbors for  66 , it has  3 neighbors\n",
        "Retrieving neighbors for  66\n",
        "Calculating neighbors for  74 , it has  6 neighbors\n",
        "Retrieving neighbors for  74\n",
        "Retrieving neighbors for  74\n",
        "Retrieving neighbors for  74\n",
        "Retrieving neighbors for  74\n",
        "Calculating neighbors for "
       ]
      },
      {
       "output_type": "stream",
       "stream": "stdout",
       "text": [
        " 162 , it has  4 neighbors\n",
        "Retrieving neighbors for  162\n",
        "Calculating neighbors for  103 , it has  8 neighbors\n",
        "Retrieving neighbors for  103\n",
        "Retrieving neighbors for  103\n",
        "Retrieving neighbors for  103\n",
        "Retrieving neighbors for  103\n",
        "Calculating neighbors for  127 , it has  8 neighbors\n",
        "Retrieving neighbors for  127\n",
        "Retrieving neighbors for  127\n",
        "Retrieving neighbors for  127\n",
        "Retrieving neighbors for  127\n",
        "Calculating neighbors for  62 , it has  6 neighbors\n",
        "Retrieving neighbors for  62\n",
        "Retrieving neighbors for  62\n",
        "Retrieving neighbors for  62\n",
        "Retrieving neighbors for  62\n",
        "Calculating neighbors for  69 , it has  11 neighbors\n",
        "Retrieving neighbors for  69\n",
        "Retrieving neighbors for  69\n",
        "Retrieving neighbors for  69\n",
        "Retrieving neighbors for  69\n",
        "Calculating neighbors for  71 , it has  7 neighbors\n",
        "Retrieving neighbors for  71\n",
        "Retrieving neighbors for  71\n",
        "Retrieving neighbors for  71\n",
        "Retrieving neighbors for  71\n",
        "Calculating neighbors for  86 , it has  9 neighbors\n",
        "Retrieving neighbors for  86\n",
        "Retrieving neighbors for  86\n",
        "Retrieving neighbors for  86\n",
        "Retrieving neighbors for  86\n",
        "Calculating neighbors for  150 , it has  6 neighbors\n",
        "Retrieving neighbors for  150\n",
        "Retrieving neighbors for  150\n",
        "Retrieving neighbors for  150\n",
        "Retrieving neighbors for  150\n",
        "Calculating neighbors for  176 , it has  7 neighbors\n",
        "Retrieving neighbors for  176\n",
        "Retrieving neighbors for  176\n",
        "Retrieving neighbors for  176\n",
        "Retrieving neighbors for  176\n",
        "Calculating neighbors for  27 , it has  7 neighbors\n",
        "Retrieving neighbors for  27\n",
        "Retrieving neighbors for  27\n",
        "Retrieving neighbors for  27\n",
        "Retrieving neighbors for  27\n",
        "Calculating neighbors for  120 , it has  8 neighbors\n",
        "Retrieving neighbors for  120\n",
        "Retrieving neighbors for  120\n",
        "Retrieving neighbors for  120\n",
        "Retrieving neighbors for  120\n",
        "Calculating neighbors for  138 , it has  6 neighbors\n",
        "Retrieving neighbors for  138\n",
        "Retrieving neighbors for  138\n",
        "Retrieving neighbors for  138\n",
        "Retrieving neighbors for  138\n",
        "Calculating neighbors for "
       ]
      },
      {
       "output_type": "stream",
       "stream": "stdout",
       "text": [
        " 153 , it has  8 neighbors\n",
        "Retrieving neighbors for  153\n",
        "Retrieving neighbors for  153\n",
        "Retrieving neighbors for  153\n",
        "Retrieving neighbors for  153\n",
        "Calculating neighbors for  175 , it has  5 neighbors\n",
        "Retrieving neighbors for  175\n",
        "Retrieving neighbors for  175\n",
        "Retrieving neighbors for  175\n",
        "Retrieving neighbors for  175\n",
        "Calculating neighbors for  38 , it has  9 neighbors\n",
        "Retrieving neighbors for  38\n",
        "Retrieving neighbors for  38\n",
        "Retrieving neighbors for  38\n",
        "Retrieving neighbors for  38\n",
        "Calculating neighbors for  168 , it has  7 neighbors\n",
        "Retrieving neighbors for  168\n",
        "Retrieving neighbors for  168\n",
        "Retrieving neighbors for  168\n",
        "Retrieving neighbors for  168\n",
        "Calculating neighbors for  121 , it has  6 neighbors\n",
        "Retrieving neighbors for  121\n",
        "Retrieving neighbors for  121\n",
        "Retrieving neighbors for  121\n",
        "Retrieving neighbors for  121\n",
        "Calculating neighbors for  76 , it has  4 neighbors\n",
        "Retrieving neighbors for  76\n",
        "Calculating neighbors for  172 , it has  2 neighbors\n",
        "Retrieving neighbors for  172\n",
        "Calculating neighbors for  145 , it has  4 neighbors\n",
        "Retrieving neighbors for  145\n",
        "Calculating neighbors for  51 , it has  8 neighbors\n",
        "Retrieving neighbors for  51\n",
        "Retrieving neighbors for  51\n",
        "Retrieving neighbors for  51\n",
        "Retrieving neighbors for  51\n",
        "Calculating neighbors for  49 , it has  7 neighbors\n",
        "Retrieving neighbors for  49\n",
        "Retrieving neighbors for  49\n",
        "Retrieving neighbors for  49\n",
        "Retrieving neighbors for  49\n",
        "Calculating neighbors for  72 , it has  9 neighbors\n",
        "Retrieving neighbors for  72\n",
        "Retrieving neighbors for  72\n",
        "Retrieving neighbors for  72\n",
        "Retrieving neighbors for  72\n",
        "Calculating neighbors for  22 , it has  9 neighbors\n",
        "Retrieving neighbors for  22\n",
        "Retrieving neighbors for  22\n",
        "Retrieving neighbors for  22\n",
        "Retrieving neighbors for  22\n",
        "Calculating neighbors for  122 , it has  9 neighbors\n",
        "Retrieving neighbors for  122\n",
        "Retrieving neighbors for  122\n",
        "Retrieving neighbors for  122\n",
        "Retrieving neighbors for  122\n",
        "Calculating neighbors for  158 , it has  10 neighbors\n",
        "Retrieving neighbors for  158\n",
        "Retrieving neighbors for  158\n",
        "Retrieving neighbors for  158\n",
        "Retrieving neighbors for  158\n",
        "Calculating neighbors for  144 , it has  12 neighbors\n",
        "Retrieving neighbors for  144\n",
        "Retrieving neighbors for  144\n",
        "Retrieving neighbors for  144\n",
        "Retrieving neighbors for  144\n",
        "Calculating neighbors for  161 , it has  7 neighbors\n",
        "Retrieving neighbors for  161\n",
        "Retrieving neighbors for  161\n",
        "Retrieving neighbors for  161\n",
        "Retrieving neighbors for  161\n",
        "Calculating neighbors for "
       ]
      },
      {
       "output_type": "stream",
       "stream": "stdout",
       "text": [
        " 2 , it has  14 neighbors\n",
        "Retrieving neighbors for  2\n",
        "Retrieving neighbors for  2\n",
        "Retrieving neighbors for  2\n",
        "Retrieving neighbors for  2\n",
        "Calculating neighbors for  12 , it has  13 neighbors\n",
        "Retrieving neighbors for  12\n",
        "Retrieving neighbors for  12\n",
        "Retrieving neighbors for  12\n",
        "Retrieving neighbors for  12\n",
        "Calculating neighbors for  21 , it has  15 neighbors\n",
        "Retrieving neighbors for  21\n",
        "Retrieving neighbors for  21\n",
        "Retrieving neighbors for  21\n",
        "Retrieving neighbors for  21\n",
        "Calculating neighbors for  55 , it has  13 neighbors\n",
        "Retrieving neighbors for  55\n",
        "Retrieving neighbors for  55\n",
        "Retrieving neighbors for  55\n",
        "Retrieving neighbors for  55\n",
        "Calculating neighbors for  63 , it has  17 neighbors\n",
        "Retrieving neighbors for  63\n",
        "Retrieving neighbors for  63\n",
        "Retrieving neighbors for  63\n",
        "Retrieving neighbors for  63\n",
        "Calculating neighbors for  117 , it has  14 neighbors\n",
        "Retrieving neighbors for  117\n",
        "Retrieving neighbors for  117\n",
        "Retrieving neighbors for  117\n",
        "Retrieving neighbors for  117\n",
        "Calculating neighbors for  148 , it has  12 neighbors\n",
        "Retrieving neighbors for  148\n",
        "Retrieving neighbors for  148\n",
        "Retrieving neighbors for  148\n",
        "Retrieving neighbors for  148\n",
        "Calculating neighbors for  79 , it has  10 neighbors\n",
        "Retrieving neighbors for  79\n",
        "Retrieving neighbors for  79\n",
        "Retrieving neighbors for  79\n",
        "Retrieving neighbors for  79\n",
        "Calculating neighbors for  111 , it has  17 neighbors\n",
        "Retrieving neighbors for  111\n",
        "Retrieving neighbors for  111\n",
        "Retrieving neighbors for  111\n",
        "Retrieving neighbors for  111\n",
        "Calculating neighbors for  4 , it has  17 neighbors\n",
        "Retrieving neighbors for  4\n",
        "Retrieving neighbors for  4\n",
        "Retrieving neighbors for  4\n",
        "Retrieving neighbors for  4\n",
        "Calculating neighbors for  32 , it has  19 neighbors\n",
        "Retrieving neighbors for  32\n",
        "Retrieving neighbors for  32\n",
        "Retrieving neighbors for  32\n",
        "Retrieving neighbors for  32\n",
        "Calculating neighbors for  70 , it has  18 neighbors\n",
        "Retrieving neighbors for  70\n",
        "Retrieving neighbors for  70\n",
        "Retrieving neighbors for  70\n",
        "Retrieving neighbors for  70\n",
        "Calculating neighbors for  128 , it has  15 neighbors\n",
        "Retrieving neighbors for  128\n",
        "Retrieving neighbors for  128\n",
        "Retrieving neighbors for  128\n",
        "Retrieving neighbors for  128\n",
        "Calculating neighbors for  143 , it has  17 neighbors\n",
        "Retrieving neighbors for  143\n",
        "Retrieving neighbors for  143\n",
        "Retrieving neighbors for  143\n",
        "Retrieving neighbors for  143\n",
        "Calculating neighbors for  156 , it has  14 neighbors\n",
        "Retrieving neighbors for  156\n",
        "Retrieving neighbors for  156\n",
        "Retrieving neighbors for  156\n",
        "Retrieving neighbors for  156\n",
        "Calculating neighbors for "
       ]
      },
      {
       "output_type": "stream",
       "stream": "stdout",
       "text": [
        " 73 , it has  16 neighbors\n",
        "Retrieving neighbors for  73\n",
        "Retrieving neighbors for  73\n",
        "Retrieving neighbors for  73\n",
        "Retrieving neighbors for  73\n",
        "Calculating neighbors for  169 , it has  15 neighbors\n",
        "Retrieving neighbors for  169\n",
        "Retrieving neighbors for  169\n",
        "Retrieving neighbors for  169\n",
        "Retrieving neighbors for  169\n",
        "Calculating neighbors for  135 , it has  13 neighbors\n",
        "Retrieving neighbors for  135\n",
        "Retrieving neighbors for  135\n",
        "Retrieving neighbors for  135\n",
        "Retrieving neighbors for  135\n",
        "Calculating neighbors for  48 , it has  18 neighbors\n",
        "Retrieving neighbors for  48\n",
        "Retrieving neighbors for  48\n",
        "Retrieving neighbors for  48\n",
        "Retrieving neighbors for  48\n",
        "Calculating neighbors for  110 , it has  18 neighbors\n",
        "Retrieving neighbors for  110\n",
        "Retrieving neighbors for  110\n",
        "Retrieving neighbors for  110\n",
        "Retrieving neighbors for  110\n",
        "Calculating neighbors for  113 , it has  10 neighbors\n",
        "Retrieving neighbors for  113\n",
        "Retrieving neighbors for  113\n",
        "Retrieving neighbors for  113\n",
        "Retrieving neighbors for  113\n",
        "Calculating neighbors for  40 , it has  17 neighbors\n",
        "Retrieving neighbors for  40\n",
        "Retrieving neighbors for  40\n",
        "Retrieving neighbors for  40\n",
        "Retrieving neighbors for  40\n",
        "Calculating neighbors for  8 , it has  10 neighbors\n",
        "Retrieving neighbors for  8\n",
        "Retrieving neighbors for  8\n",
        "Retrieving neighbors for  8\n",
        "Retrieving neighbors for  8\n",
        "Calculating neighbors for  10 , it has  10 neighbors\n",
        "Retrieving neighbors for  10\n",
        "Retrieving neighbors for  10\n",
        "Retrieving neighbors for  10\n",
        "Retrieving neighbors for  10\n",
        "Calculating neighbors for  11 , it has  10 neighbors\n",
        "Retrieving neighbors for  11\n",
        "Retrieving neighbors for  11\n",
        "Retrieving neighbors for  11\n",
        "Retrieving neighbors for  11\n",
        "Calculating neighbors for  58 , it has  10 neighbors\n",
        "Retrieving neighbors for  58\n",
        "Retrieving neighbors for  58\n",
        "Retrieving neighbors for  58\n",
        "Retrieving neighbors for  58\n",
        "Calculating neighbors for  147 , it has  9 neighbors\n",
        "Retrieving neighbors for  147\n",
        "Retrieving neighbors for  147\n",
        "Retrieving neighbors for  147\n",
        "Retrieving neighbors for  147\n",
        "Calculating neighbors for  170 , it has  11 neighbors\n",
        "Retrieving neighbors for  170\n",
        "Retrieving neighbors for  170\n",
        "Retrieving neighbors for  170\n",
        "Retrieving neighbors for  170\n",
        "Calculating neighbors for  125 , it has  8 neighbors\n",
        "Retrieving neighbors for  125\n",
        "Retrieving neighbors for  125\n",
        "Retrieving neighbors for  125\n",
        "Retrieving neighbors for  125\n",
        "Calculating neighbors for  23 , it has  5 neighbors\n",
        "Retrieving neighbors for  23\n",
        "Retrieving neighbors for  23\n",
        "Retrieving neighbors for  23\n",
        "Retrieving neighbors for  23\n",
        "Calculating neighbors for  112 , it has  10 neighbors\n",
        "Retrieving neighbors for  112\n",
        "Retrieving neighbors for  112\n",
        "Retrieving neighbors for  112\n",
        "Retrieving neighbors for  112\n",
        "Calculating neighbors for "
       ]
      },
      {
       "output_type": "stream",
       "stream": "stdout",
       "text": [
        " 83 , it has  12 neighbors\n",
        "Retrieving neighbors for  83\n",
        "Retrieving neighbors for  83\n",
        "Retrieving neighbors for  83\n",
        "Retrieving neighbors for  83\n",
        "Calculating neighbors for  18 , it has  12 neighbors\n",
        "Retrieving neighbors for  18\n",
        "Retrieving neighbors for  18\n",
        "Retrieving neighbors for  18\n",
        "Retrieving neighbors for  18\n",
        "Calculating neighbors for  29 , it has  9 neighbors\n",
        "Retrieving neighbors for  29\n",
        "Retrieving neighbors for  29\n",
        "Retrieving neighbors for  29\n",
        "Retrieving neighbors for  29\n",
        "Calculating neighbors for  65 , it has  10 neighbors\n",
        "Retrieving neighbors for  65\n",
        "Retrieving neighbors for  65\n",
        "Retrieving neighbors for  65\n",
        "Retrieving neighbors for  65\n",
        "Calculating neighbors for  119 , it has  11 neighbors\n",
        "Retrieving neighbors for  119\n",
        "Retrieving neighbors for  119\n",
        "Retrieving neighbors for  119\n",
        "Retrieving neighbors for  119\n",
        "Calculating neighbors for  75 , it has  8 neighbors\n",
        "Retrieving neighbors for  75\n",
        "Retrieving neighbors for  75\n",
        "Retrieving neighbors for  75\n",
        "Retrieving neighbors for  75\n",
        "Calculating neighbors for  81 , it has  10 neighbors\n",
        "Retrieving neighbors for  81\n",
        "Retrieving neighbors for  81\n",
        "Retrieving neighbors for  81\n",
        "Retrieving neighbors for  81\n",
        "Calculating neighbors for  129 , it has  9 neighbors\n",
        "Retrieving neighbors for  129\n",
        "Retrieving neighbors for  129\n",
        "Retrieving neighbors for  129\n",
        "Retrieving neighbors for  129\n",
        "Calculating neighbors for  142 , it has  10 neighbors\n",
        "Retrieving neighbors for  142\n",
        "Retrieving neighbors for  142\n",
        "Retrieving neighbors for  142\n",
        "Retrieving neighbors for  142\n",
        "Calculating neighbors for  171 , it has  9 neighbors\n",
        "Retrieving neighbors for  171\n",
        "Retrieving neighbors for  171\n",
        "Retrieving neighbors for  171\n",
        "Retrieving neighbors for  171\n",
        "Calculating neighbors for  13 , it has  8 neighbors\n",
        "Retrieving neighbors for  13\n",
        "Retrieving neighbors for  13\n",
        "Retrieving neighbors for  13\n",
        "Retrieving neighbors for  13\n",
        "Calculating neighbors for  44 , it has  4 neighbors\n",
        "Retrieving neighbors for  44\n",
        "Calculating neighbors for  19 , it has  3 neighbors\n",
        "Retrieving neighbors for  19\n",
        "Calculating neighbors for  151 , it has  4 neighbors\n",
        "Retrieving neighbors for  151\n",
        "Calculating neighbors for  134 , it has  3 neighbors\n",
        "Retrieving neighbors for  134\n",
        "Calculating neighbors for  140 , it has  7 neighbors\n",
        "Retrieving neighbors for  140\n",
        "Retrieving neighbors for  140\n",
        "Retrieving neighbors for  140\n",
        "Retrieving neighbors for  140\n",
        "Calculating neighbors for "
       ]
      },
      {
       "output_type": "stream",
       "stream": "stdout",
       "text": [
        " 43 , it has  4 neighbors\n",
        "Retrieving neighbors for  43\n",
        "Calculating neighbors for  6 , it has  6 neighbors\n",
        "Retrieving neighbors for  6\n",
        "Retrieving neighbors for  6\n",
        "Retrieving neighbors for  6\n",
        "Retrieving neighbors for  6\n",
        "Calculating neighbors for  67 , it has  8 neighbors\n",
        "Retrieving neighbors for  67\n",
        "Retrieving neighbors for  67\n",
        "Retrieving neighbors for  67\n",
        "Retrieving neighbors for  67\n",
        "Calculating neighbors for  64 , it has  5 neighbors\n",
        "Retrieving neighbors for  64\n",
        "Retrieving neighbors for  64\n",
        "Retrieving neighbors for  64\n",
        "Retrieving neighbors for  64\n",
        "Calculating neighbors for  139 , it has  6 neighbors\n",
        "Retrieving neighbors for  139\n",
        "Retrieving neighbors for  139\n",
        "Retrieving neighbors for  139\n",
        "Retrieving neighbors for  139\n",
        "Calculating neighbors for  30 , it has  4 neighbors\n",
        "Retrieving neighbors for  30\n",
        "Calculating neighbors for  57 , it has  1 neighbors\n",
        "Retrieving neighbors for  57\n",
        "Calculating neighbors for  80 , it has  2 neighbors\n",
        "Retrieving neighbors for  80\n",
        "Calculating neighbors for  141 , it has  3 neighbors\n",
        "Retrieving neighbors for  141\n",
        "Calculating neighbors for  41 , it has  4 neighbors\n",
        "Retrieving neighbors for  41\n",
        "Calculating neighbors for  152 , it has  5 neighbors\n",
        "Retrieving neighbors for  152\n",
        "Retrieving neighbors for  152\n",
        "Retrieving neighbors for  152\n",
        "Retrieving neighbors for  152\n",
        "Calculating neighbors for  5 , it has  1 neighbors\n",
        "Retrieving neighbors for  5\n",
        "Calculating neighbors for  50 , it has  2 neighbors\n",
        "Retrieving neighbors for  50\n",
        "Calculating neighbors for  124 , it has  2 neighbors\n",
        "Retrieving neighbors for  124\n",
        "Calculating neighbors for  52 , it has  3 neighbors\n",
        "Retrieving neighbors for  52\n",
        "Calculating neighbors for  1 , it has  1 neighbors\n",
        "Retrieving neighbors for  1\n",
        "Calculating neighbors for  9 , it has  0 neighbors\n",
        "Retrieving neighbors for  9\n",
        "Calculating neighbors for "
       ]
      },
      {
       "output_type": "stream",
       "stream": "stdout",
       "text": [
        " 14 , it has  2 neighbors\n",
        "Retrieving neighbors for  14\n",
        "Calculating neighbors for  16 , it has  5 neighbors\n",
        "Retrieving neighbors for  16\n",
        "Retrieving neighbors for  16\n",
        "Retrieving neighbors for  16\n",
        "Retrieving neighbors for  16\n",
        "Calculating neighbors for  26 , it has  1 neighbors\n",
        "Retrieving neighbors for  26\n",
        "Calculating neighbors for  132 , it has  4 neighbors\n",
        "Retrieving neighbors for  132\n",
        "Calculating neighbors for  164 , it has  3 neighbors\n",
        "Retrieving neighbors for  164\n",
        "Calculating neighbors for  165 , it has  4 neighbors\n",
        "Retrieving neighbors for  165\n",
        "Calculating neighbors for  167 , it has  3 neighbors\n",
        "Retrieving neighbors for  167\n",
        "Calculating neighbors for  17 , it has  4 neighbors\n",
        "Retrieving neighbors for  17\n",
        "Calculating neighbors for  20 , it has  2 neighbors\n",
        "Retrieving neighbors for  20\n",
        "Calculating neighbors for  25 , it has  1 neighbors\n",
        "Retrieving neighbors for  25\n",
        "Calculating neighbors for  33 , it has  3 neighbors\n",
        "Retrieving neighbors for  33\n",
        "Calculating neighbors for  37 , it has  1 neighbors\n",
        "Retrieving neighbors for  37\n",
        "Calculating neighbors for  46 , it has  6 neighbors\n",
        "Retrieving neighbors for  46\n",
        "Retrieving neighbors for  46\n",
        "Retrieving neighbors for  46\n",
        "Retrieving neighbors for  46\n",
        "Calculating neighbors for  105 , it has  6 neighbors\n",
        "Retrieving neighbors for  105\n",
        "Retrieving neighbors for  105\n",
        "Retrieving neighbors for  105\n",
        "Retrieving neighbors for  105\n",
        "Calculating neighbors for  109 , it has  7 neighbors\n",
        "Retrieving neighbors for  109\n",
        "Retrieving neighbors for  109\n",
        "Retrieving neighbors for  109\n",
        "Retrieving neighbors for  109\n",
        "Calculating neighbors for  116 , it has  5 neighbors\n",
        "Retrieving neighbors for  116\n",
        "Retrieving neighbors for  116\n",
        "Retrieving neighbors for  116\n",
        "Retrieving neighbors for  116\n",
        "Calculating neighbors for  136 , it has  6 neighbors\n",
        "Retrieving neighbors for  136\n",
        "Retrieving neighbors for  136\n",
        "Retrieving neighbors for  136\n",
        "Retrieving neighbors for  136\n",
        "Calculating neighbors for "
       ]
      },
      {
       "output_type": "stream",
       "stream": "stdout",
       "text": [
        " 174 , it has  6 neighbors\n",
        "Retrieving neighbors for  174\n",
        "Retrieving neighbors for  174\n",
        "Retrieving neighbors for  174\n",
        "Retrieving neighbors for  174\n",
        "Calculating neighbors for  177 , it has  1 neighbors\n",
        "Retrieving neighbors for  177\n",
        "Calculating neighbors for  47 , it has  2 neighbors\n",
        "Retrieving neighbors for  47\n",
        "Calculating neighbors for  53 , it has  2 neighbors\n",
        "Retrieving neighbors for  53\n",
        "Calculating neighbors for  59 , it has  3 neighbors\n",
        "Retrieving neighbors for  59\n",
        "Calculating neighbors for  60 , it has  4 neighbors\n",
        "Retrieving neighbors for  60\n",
        "Calculating neighbors for  61 , it has  2 neighbors\n",
        "Retrieving neighbors for  61\n",
        "Calculating neighbors for  77 , it has  0 neighbors\n",
        "Retrieving neighbors for  77\n",
        "Calculating neighbors for  78 , it has  0 neighbors\n",
        "Retrieving neighbors for  78\n",
        "Calculating neighbors for  85 , it has  3 neighbors\n",
        "Retrieving neighbors for  85\n",
        "Calculating neighbors for  87 , it has  15 neighbors\n",
        "Retrieving neighbors for  87\n",
        "Retrieving neighbors for  87\n",
        "Retrieving neighbors for  87\n",
        "Retrieving neighbors for  87\n",
        "Calculating neighbors for  89 , it has  14 neighbors\n",
        "Retrieving neighbors for  89\n",
        "Retrieving neighbors for  89\n",
        "Retrieving neighbors for  89\n",
        "Retrieving neighbors for  89\n",
        "Calculating neighbors for  95 , it has  12 neighbors\n",
        "Retrieving neighbors for  95\n",
        "Retrieving neighbors for  95\n",
        "Retrieving neighbors for  95\n",
        "Retrieving neighbors for  95\n",
        "Calculating neighbors for  96 , it has  12 neighbors\n",
        "Retrieving neighbors for  96\n",
        "Retrieving neighbors for  96\n",
        "Retrieving neighbors for  96\n",
        "Retrieving neighbors for  96\n",
        "Calculating neighbors for  98 , it has  12 neighbors\n",
        "Retrieving neighbors for  98\n",
        "Retrieving neighbors for  98\n",
        "Retrieving neighbors for  98\n",
        "Retrieving neighbors for  98\n",
        "Calculating neighbors for  102 , it has  9 neighbors\n",
        "Retrieving neighbors for  102\n",
        "Retrieving neighbors for  102\n",
        "Retrieving neighbors for  102\n",
        "Retrieving neighbors for  102\n",
        "Calculating neighbors for "
       ]
      },
      {
       "output_type": "stream",
       "stream": "stdout",
       "text": [
        " 106 , it has  10 neighbors\n",
        "Retrieving neighbors for  106\n",
        "Retrieving neighbors for  106\n",
        "Retrieving neighbors for  106\n",
        "Retrieving neighbors for  106\n",
        "Calculating neighbors for  91 , it has  15 neighbors\n",
        "Retrieving neighbors for  91\n",
        "Retrieving neighbors for  91\n",
        "Retrieving neighbors for  91\n",
        "Retrieving neighbors for  91\n",
        "Calculating neighbors for  88 , it has  15 neighbors\n",
        "Retrieving neighbors for  88\n",
        "Retrieving neighbors for  88\n",
        "Retrieving neighbors for  88\n",
        "Retrieving neighbors for  88\n",
        "Calculating neighbors for  90 , it has  11 neighbors\n",
        "Retrieving neighbors for  90\n",
        "Retrieving neighbors for  90\n",
        "Retrieving neighbors for  90\n",
        "Retrieving neighbors for  90\n",
        "Calculating neighbors for  93 , it has  14 neighbors\n",
        "Retrieving neighbors for  93\n",
        "Retrieving neighbors for  93\n",
        "Retrieving neighbors for  93\n",
        "Retrieving neighbors for  93\n",
        "Calculating neighbors for  97 , it has  11 neighbors\n",
        "Retrieving neighbors for  97\n",
        "Retrieving neighbors for  97\n",
        "Retrieving neighbors for  97\n",
        "Retrieving neighbors for  97\n",
        "Calculating neighbors for  99 , it has  14 neighbors\n",
        "Retrieving neighbors for  99\n",
        "Retrieving neighbors for  99\n",
        "Retrieving neighbors for  99\n",
        "Retrieving neighbors for  99\n",
        "Calculating neighbors for  100 , it has  15 neighbors\n",
        "Retrieving neighbors for  100\n",
        "Retrieving neighbors for  100\n",
        "Retrieving neighbors for  100\n",
        "Retrieving neighbors for  100\n",
        "Calculating neighbors for  104 , it has  15 neighbors\n",
        "Retrieving neighbors for  104\n",
        "Retrieving neighbors for  104\n",
        "Retrieving neighbors for  104\n",
        "Retrieving neighbors for  104\n",
        "Calculating neighbors for  92 , it has  10 neighbors\n",
        "Retrieving neighbors for  92\n",
        "Retrieving neighbors for  92\n",
        "Retrieving neighbors for  92\n",
        "Retrieving neighbors for  92\n",
        "Calculating neighbors for  108 , it has  6 neighbors\n",
        "Retrieving neighbors for  108\n",
        "Retrieving neighbors for  108\n",
        "Retrieving neighbors for  108\n",
        "Retrieving neighbors for  108\n",
        "Calculating neighbors for  107 , it has  2 neighbors\n",
        "Retrieving neighbors for  107\n",
        "Calculating neighbors for  118 , it has  0 neighbors\n",
        "Retrieving neighbors for  118\n",
        "Calculating neighbors for  123 , it has  2 neighbors\n",
        "Retrieving neighbors for  123\n",
        "Calculating neighbors for  130 , it has  4 neighbors\n",
        "Retrieving neighbors for  130\n",
        "Calculating neighbors for  131 , it has  1 neighbors\n",
        "Retrieving neighbors for  131\n",
        "Calculating neighbors for "
       ]
      },
      {
       "output_type": "stream",
       "stream": "stdout",
       "text": [
        " 133 , it has  4 neighbors\n",
        "Retrieving neighbors for  133\n",
        "Calculating neighbors for  137 , it has  2 neighbors\n",
        "Retrieving neighbors for  137\n",
        "Calculating neighbors for  146 , it has  4 neighbors\n",
        "Retrieving neighbors for  146\n",
        "Calculating neighbors for  149 , it has  0 neighbors\n",
        "Retrieving neighbors for  149\n",
        "Calculating neighbors for  154 , it has  2 neighbors\n",
        "Retrieving neighbors for  154\n",
        "Calculating neighbors for  157 , it has  1 neighbors\n",
        "Retrieving neighbors for  157\n",
        "Calculating neighbors for  160 , it has  1 neighbors\n",
        "Retrieving neighbors for  160\n",
        "Calculating neighbors for  163 , it has  0 neighbors\n",
        "Retrieving neighbors for  163\n",
        "Calculating neighbors for  173 , it has  0 neighbors\n",
        "Retrieving neighbors for  173\n",
        "Calculating neighbors for  178 , it has  2 neighbors\n",
        "Retrieving neighbors for  178\n"
       ]
      }
     ],
     "prompt_number": 8
    },
    {
     "cell_type": "code",
     "collapsed": false,
     "input": [
      "from helperfuncs.Plot_Reach_Dist import Plot_Reach_Dist\n",
      "\n",
      "Plot_Reach_Dist(reach_dist)"
     ],
     "language": "python",
     "metadata": {},
     "outputs": [
      {
       "metadata": {},
       "output_type": "display_data",
       "png": "[encoded data removed]",
       "text": [
        "<matplotlib.figure.Figure at 0x52b3550>"
       ]
      }
     ],
     "prompt_number": 9
    },
    {
     "cell_type": "code",
     "collapsed": false,
     "input": [
      "print reach_dist[:50]"
     ],
     "language": "python",
     "metadata": {},
     "outputs": [
      {
       "output_type": "stream",
       "stream": "stdout",
       "text": [
        "[nan, 0.11120380050752748, 0.11120380050752748, 0.11120380050752748, 0.094945403835422382, 0.094945403835422382, 0.11592343719862128, 0.11592343719862128, 0.11693276150521072, 0.12036423511258354, 0.12569718620708539, 0.059440526617649724, 0.045131566180489788, 0.044003548417201492, 0.044003548417201492, 0.044003548417201492, 0.044003548417201492, 0.045131566180489788, 0.045131566180489788, 0.045283096778519091, 0.050339406215339853, 0.094692294321048753, 0.11203780928761205, 0.11854532973976942, 0.11854532973976942, 0.13269730782424882, 0.13269730782424882, 0.13269730782424882, 0.13269730782424882, 0.14135050904036009, 0.16309645235258291, 0.11261540663164137, 0.11261540663164137, 0.11261540663164137, 0.11261540663164137, 0.11993631787114857, 0.11993631787114857, 0.14353030482957041, 0.14353030482957041, 0.13285786625625115, 0.13285786625625115, 0.13285786625625115, 0.13492778461029642, 0.14926223582716633, 0.15682814080666649, 0.16425387397501887, 0.16425387397501887, 0.17193849388336427, 0.1774009714725284, 0.1774009714725284]\n"
       ]
      }
     ],
     "prompt_number": 10
    },
    {
     "cell_type": "code",
     "collapsed": false,
     "input": [
      "from helperfuncs.Plot_Reach_Dist import Plot_Reach_Dist\n",
      "\n",
      "Plot_Reach_Dist(np.array([1,2,3,4,5,5, None, None, None, 6,7,8,5,4,3]))"
     ],
     "language": "python",
     "metadata": {},
     "outputs": [
      {
       "metadata": {},
       "output_type": "display_data",
       "png": "[encoded data removed]",
       "text": [
        "<matplotlib.figure.Figure at 0x4fe0850>"
       ]
      }
     ],
     "prompt_number": 11
    },
    {
     "cell_type": "code",
     "collapsed": false,
     "input": [
      "def Get_Clusters_From_Reach_Dist(reach_dist, threshold):\n",
      "    idxs = []\n",
      "    \n",
      "    collecting_state = False\n",
      "    \n",
      "    for ii in xrange(len(reach_dist)):\n",
      "        dist = reach_dist[ii]\n",
      "        valid_dist = (dist is not None) and (dist <= threshold)\n",
      "\n",
      "        #State transitions\n",
      "        if collecting_state:\n",
      "            if valid_dist == False:\n",
      "                collecting_state = False\n",
      "                \n",
      "                idxs.append((start_idx, ii))\n",
      "           \n",
      "        else:\n",
      "            if valid_dist:\n",
      "                collecting_state = True\n",
      "                \n",
      "                start_idx = ii\n",
      "                \n",
      "    if collecting_state:\n",
      "        idxs.append((start_idx, len(reach_dist)))\n",
      "    \n",
      "    return idxs"
     ],
     "language": "python",
     "metadata": {},
     "outputs": [],
     "prompt_number": 12
    },
    {
     "cell_type": "code",
     "collapsed": false,
     "input": [
      "idxs = Get_Clusters_From_Reach_Dist(reach_dist, 0.19)\n",
      "\n",
      "print idxs    "
     ],
     "language": "python",
     "metadata": {},
     "outputs": [
      {
       "output_type": "stream",
       "stream": "stdout",
       "text": [
        "[(1, 112), (133, 139), (148, 164)]\n"
       ]
      }
     ],
     "prompt_number": 13
    },
    {
     "cell_type": "code",
     "collapsed": false,
     "input": [
      "x = TD_meas*1e3\n",
      "y = np.log10(qty_min)"
     ],
     "language": "python",
     "metadata": {},
     "outputs": [],
     "prompt_number": 14
    },
    {
     "cell_type": "code",
     "collapsed": false,
     "input": [
      "x = [1, 2, 3]\n",
      "y = [1, 2, 3]"
     ],
     "language": "python",
     "metadata": {},
     "outputs": [],
     "prompt_number": 15
    },
    {
     "cell_type": "code",
     "collapsed": false,
     "input": [
      "x = [[1, 2, 3],[4,5,6]]\n",
      "y = [[1, 2, 3],[4,5,6]]"
     ],
     "language": "python",
     "metadata": {},
     "outputs": [],
     "prompt_number": 16
    },
    {
     "cell_type": "code",
     "collapsed": false,
     "input": [
      "fig, ax = plt.subplots(1, 1, sharex=True, sharey=True)\n",
      "ax.scatter([1,2,3], [1,2,3], c='b')\n",
      "ax.scatter([4,5,6], [4,5,6], c='r')\n",
      "#b: blue\n",
      "#g: green\n",
      "#r: red\n",
      "#c: cyan\n",
      "#m: magenta\n",
      "#y: yellow\n",
      "#k: black\n",
      "#w: white"
     ],
     "language": "python",
     "metadata": {},
     "outputs": [
      {
       "metadata": {},
       "output_type": "pyout",
       "prompt_number": 17,
       "text": [
        "<matplotlib.collections.PathCollection at 0x557f7d0>"
       ]
      },
      {
       "metadata": {},
       "output_type": "display_data",
       "png": "[encoded data removed]",
       "text": [
        "<matplotlib.figure.Figure at 0x4e0c550>"
       ]
      }
     ],
     "prompt_number": 17
    },
    {
     "cell_type": "code",
     "collapsed": false,
     "input": [
      "PlotScatter2Dhist(TD_meas*1e3, np.log10(qty_min), \n",
      "                  'time diff [msec]', 'log10(quality idx) []', \n",
      "                  fitcurve=True, alpha=alpha_1, mu=mu_1, sigma=sigma_1, \n",
      "                  clusters_list=idxs)"
     ],
     "language": "python",
     "metadata": {},
     "outputs": [
      {
       "metadata": {},
       "output_type": "display_data",
       "png": "[encoded data removed]",
       "text": [
        "<matplotlib.figure.Figure at 0x5000250>"
       ]
      }
     ],
     "prompt_number": 18
    },
    {
     "cell_type": "code",
     "collapsed": false,
     "input": [
      "x = [1,2,3,1,2,3,1,2,3]\n",
      "y = [1,1,1,2,2,2,3,3,3]"
     ],
     "language": "python",
     "metadata": {},
     "outputs": [],
     "prompt_number": 19
    },
    {
     "cell_type": "code",
     "collapsed": false,
     "input": [
      "from helperfuncs.Optics_Clustering import Optics_Clustering\n",
      "\n",
      "OC = Optics_Clustering(data = np.array([x, y]), \n",
      "                       epsilon = 1.5, \n",
      "                       min_pts = 3)\n",
      "reach_dist = OC.Generate_Reach_Dist()"
     ],
     "language": "python",
     "metadata": {},
     "outputs": [
      {
       "output_type": "stream",
       "stream": "stdout",
       "text": [
        "Calculating neighbors for  0 , it has  3 neighbors\n",
        "Retrieving neighbors for  0\n",
        "Retrieving neighbors for  0\n",
        "Retrieving neighbors for  0\n",
        "Retrieving neighbors for  0\n",
        "Calculating neighbors for  1 , it has  5 neighbors\n",
        "Retrieving neighbors for  1\n",
        "Retrieving neighbors for  1\n",
        "Retrieving neighbors for  1\n",
        "Retrieving neighbors for  1\n",
        "Calculating neighbors for  2 , it has  3 neighbors\n",
        "Retrieving neighbors for  2\n",
        "Retrieving neighbors for  2\n",
        "Retrieving neighbors for  2\n",
        "Retrieving neighbors for  2\n",
        "Calculating neighbors for  4 , it has  8 neighbors\n",
        "Retrieving neighbors for  4\n",
        "Retrieving neighbors for  4\n",
        "Retrieving neighbors for  4\n",
        "Retrieving neighbors for  4\n",
        "Calculating neighbors for  3 , it has  5 neighbors\n",
        "Retrieving neighbors for  3\n",
        "Retrieving neighbors for  3\n",
        "Retrieving neighbors for  3\n",
        "Retrieving neighbors for  3\n",
        "Calculating neighbors for  5 , it has  5 neighbors\n",
        "Retrieving neighbors for  5\n",
        "Retrieving neighbors for  5\n",
        "Retrieving neighbors for  5\n",
        "Retrieving neighbors for  5\n",
        "Calculating neighbors for  6 , it has  3 neighbors\n",
        "Retrieving neighbors for  6\n",
        "Retrieving neighbors for  6\n",
        "Retrieving neighbors for  6\n",
        "Retrieving neighbors for  6\n",
        "Calculating neighbors for  7 , it has  5 neighbors\n",
        "Retrieving neighbors for  7\n",
        "Retrieving neighbors for  7\n",
        "Retrieving neighbors for  7\n",
        "Retrieving neighbors for  7\n",
        "Calculating neighbors for  8 , it has  3 neighbors\n",
        "Retrieving neighbors for  8\n",
        "Retrieving neighbors for  8\n",
        "Retrieving neighbors for  8\n",
        "Retrieving neighbors for  8\n"
       ]
      }
     ],
     "prompt_number": 20
    },
    {
     "cell_type": "code",
     "collapsed": false,
     "input": [
      "from helperfuncs.Plot_Reach_Dist import Plot_Reach_Dist\n",
      "\n",
      "Plot_Reach_Dist(reach_dist)"
     ],
     "language": "python",
     "metadata": {},
     "outputs": [
      {
       "metadata": {},
       "output_type": "display_data",
       "png": "[encoded data removed]",
       "text": [
        "<matplotlib.figure.Figure at 0x4cbcdd0>"
       ]
      }
     ],
     "prompt_number": 21
    },
    {
     "cell_type": "code",
     "collapsed": false,
     "input": [
      "print reach_dist[:50]"
     ],
     "language": "python",
     "metadata": {},
     "outputs": [
      {
       "output_type": "stream",
       "stream": "stdout",
       "text": [
        "[nan, 1.4142135623730951, 1.0, 1.0, 1.0, 1.0, 1.0, 1.0, 1.0]\n"
       ]
      }
     ],
     "prompt_number": 22
    },
    {
     "cell_type": "code",
     "collapsed": false,
     "input": [
      "idxs = Get_Clusters_From_Reach_Dist(reach_dist, 0.19)\n",
      "\n",
      "print idxs  "
     ],
     "language": "python",
     "metadata": {},
     "outputs": [
      {
       "output_type": "stream",
       "stream": "stdout",
       "text": [
        "[]\n"
       ]
      }
     ],
     "prompt_number": 23
    },
    {
     "cell_type": "code",
     "collapsed": false,
     "input": [
      "PlotScatter2Dhist(x, y, \n",
      "                  'time diff [msec]', 'log10(quality idx) []', \n",
      "                  clusters_list=idxs)"
     ],
     "language": "python",
     "metadata": {},
     "outputs": [
      {
       "metadata": {},
       "output_type": "display_data",
       "png": "[encoded data removed]",
       "text": [
        "<matplotlib.figure.Figure at 0x4513590>"
       ]
      }
     ],
     "prompt_number": 24
    },
    {
     "cell_type": "code",
     "collapsed": false,
     "input": [],
     "language": "python",
     "metadata": {},
     "outputs": [],
     "prompt_number": 24
    },
    {
     "cell_type": "code",
     "collapsed": false,
     "input": [],
     "language": "python",
     "metadata": {},
     "outputs": [],
     "prompt_number": 24
    }
   ],
   "metadata": {}
  }
 ]
}
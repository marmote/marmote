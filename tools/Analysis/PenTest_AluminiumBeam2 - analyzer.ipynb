{
 "metadata": {
  "name": "PenTest_AluminiumBeam2 - analyzer"
 },
 "nbformat": 3,
 "nbformat_minor": 0,
 "worksheets": [
  {
   "cells": [
    {
     "cell_type": "heading",
     "level": 1,
     "metadata": {},
     "source": [
      "Read in preprocessed raw data"
     ]
    },
    {
     "cell_type": "markdown",
     "metadata": {},
     "source": [
      "First let's read in the data from PenTest_AluminiumBeam2 measurement. Note that the threshold filter has already filtered out the frames with signals in them."
     ]
    },
    {
     "cell_type": "code",
     "collapsed": false,
     "input": [
      "from helperfuncs.ReadAEMeas import ReadAEMeas\n",
      "\n",
      "dir = '../../../Measurements/PenTest_AluminiumBeam2/ThresholdExtractionResults'\n",
      "y, y2, T, fnames = ReadAEMeas(dir)\n",
      "positions = [1, 2, 3, 4, 5, 6, 7, 8, 9, 10, 11, 12, 13, 14, 15, 16, 18, 19]"
     ],
     "language": "python",
     "metadata": {},
     "outputs": [
      {
       "output_type": "stream",
       "stream": "stdout",
       "text": [
        "Module folder added to system path\n",
        "Opening file: ../../../Measurements/PenTest_AluminiumBeam2/ThresholdExtractionResults/1.bin\n",
        "Closed file: ../../../Measurements/PenTest_AluminiumBeam2/ThresholdExtractionResults/1.bin"
       ]
      },
      {
       "output_type": "stream",
       "stream": "stdout",
       "text": [
        "\n",
        "Opening file: ../../../Measurements/PenTest_AluminiumBeam2/ThresholdExtractionResults/2.bin\n",
        "Closed file: ../../../Measurements/PenTest_AluminiumBeam2/ThresholdExtractionResults/2.bin\n",
        "Opening file: ../../../Measurements/PenTest_AluminiumBeam2/ThresholdExtractionResults/3.bin"
       ]
      },
      {
       "output_type": "stream",
       "stream": "stdout",
       "text": [
        "\n",
        "Closed file: ../../../Measurements/PenTest_AluminiumBeam2/ThresholdExtractionResults/3.bin\n",
        "Opening file: ../../../Measurements/PenTest_AluminiumBeam2/ThresholdExtractionResults/4.bin\n",
        "Closed file: ../../../Measurements/PenTest_AluminiumBeam2/ThresholdExtractionResults/4.bin"
       ]
      },
      {
       "output_type": "stream",
       "stream": "stdout",
       "text": [
        "\n",
        "Opening file: ../../../Measurements/PenTest_AluminiumBeam2/ThresholdExtractionResults/5.bin\n",
        "Closed file: ../../../Measurements/PenTest_AluminiumBeam2/ThresholdExtractionResults/5.bin"
       ]
      },
      {
       "output_type": "stream",
       "stream": "stdout",
       "text": [
        "\n",
        "Opening file: ../../../Measurements/PenTest_AluminiumBeam2/ThresholdExtractionResults/6.bin\n",
        "Closed file: ../../../Measurements/PenTest_AluminiumBeam2/ThresholdExtractionResults/6.bin"
       ]
      },
      {
       "output_type": "stream",
       "stream": "stdout",
       "text": [
        "\n",
        "Opening file: ../../../Measurements/PenTest_AluminiumBeam2/ThresholdExtractionResults/7.bin\n",
        "Closed file: ../../../Measurements/PenTest_AluminiumBeam2/ThresholdExtractionResults/7.bin"
       ]
      },
      {
       "output_type": "stream",
       "stream": "stdout",
       "text": [
        "\n",
        "Opening file: ../../../Measurements/PenTest_AluminiumBeam2/ThresholdExtractionResults/8.bin\n",
        "Closed file: ../../../Measurements/PenTest_AluminiumBeam2/ThresholdExtractionResults/8.bin"
       ]
      },
      {
       "output_type": "stream",
       "stream": "stdout",
       "text": [
        "\n",
        "Opening file: ../../../Measurements/PenTest_AluminiumBeam2/ThresholdExtractionResults/9.bin\n",
        "Closed file: ../../../Measurements/PenTest_AluminiumBeam2/ThresholdExtractionResults/9.bin"
       ]
      },
      {
       "output_type": "stream",
       "stream": "stdout",
       "text": [
        "\n",
        "Opening file: ../../../Measurements/PenTest_AluminiumBeam2/ThresholdExtractionResults/10.bin\n",
        "Closed file: ../../../Measurements/PenTest_AluminiumBeam2/ThresholdExtractionResults/10.bin"
       ]
      },
      {
       "output_type": "stream",
       "stream": "stdout",
       "text": [
        "\n",
        "Opening file: ../../../Measurements/PenTest_AluminiumBeam2/ThresholdExtractionResults/11.bin\n",
        "Closed file: ../../../Measurements/PenTest_AluminiumBeam2/ThresholdExtractionResults/11.bin"
       ]
      },
      {
       "output_type": "stream",
       "stream": "stdout",
       "text": [
        "\n",
        "Opening file: ../../../Measurements/PenTest_AluminiumBeam2/ThresholdExtractionResults/12.bin\n",
        "Closed file: ../../../Measurements/PenTest_AluminiumBeam2/ThresholdExtractionResults/12.bin"
       ]
      },
      {
       "output_type": "stream",
       "stream": "stdout",
       "text": [
        "\n",
        "Opening file: ../../../Measurements/PenTest_AluminiumBeam2/ThresholdExtractionResults/13.bin\n",
        "Closed file: ../../../Measurements/PenTest_AluminiumBeam2/ThresholdExtractionResults/13.bin"
       ]
      },
      {
       "output_type": "stream",
       "stream": "stdout",
       "text": [
        "\n",
        "Opening file: ../../../Measurements/PenTest_AluminiumBeam2/ThresholdExtractionResults/14.bin\n",
        "Closed file: ../../../Measurements/PenTest_AluminiumBeam2/ThresholdExtractionResults/14.bin"
       ]
      },
      {
       "output_type": "stream",
       "stream": "stdout",
       "text": [
        "\n",
        "Opening file: ../../../Measurements/PenTest_AluminiumBeam2/ThresholdExtractionResults/15.bin\n",
        "Closed file: ../../../Measurements/PenTest_AluminiumBeam2/ThresholdExtractionResults/15.bin"
       ]
      },
      {
       "output_type": "stream",
       "stream": "stdout",
       "text": [
        "\n",
        "Opening file: ../../../Measurements/PenTest_AluminiumBeam2/ThresholdExtractionResults/16.bin\n",
        "Closed file: ../../../Measurements/PenTest_AluminiumBeam2/ThresholdExtractionResults/16.bin"
       ]
      },
      {
       "output_type": "stream",
       "stream": "stdout",
       "text": [
        "\n",
        "Opening file: ../../../Measurements/PenTest_AluminiumBeam2/ThresholdExtractionResults/18.bin\n",
        "Closed file: ../../../Measurements/PenTest_AluminiumBeam2/ThresholdExtractionResults/18.bin"
       ]
      },
      {
       "output_type": "stream",
       "stream": "stdout",
       "text": [
        "\n",
        "Opening file: ../../../Measurements/PenTest_AluminiumBeam2/ThresholdExtractionResults/19.bin\n",
        "Closed file: ../../../Measurements/PenTest_AluminiumBeam2/ThresholdExtractionResults/19.bin"
       ]
      },
      {
       "output_type": "stream",
       "stream": "stdout",
       "text": [
        "\n"
       ]
      }
     ],
     "prompt_number": 1
    },
    {
     "cell_type": "heading",
     "level": 1,
     "metadata": {},
     "source": [
      "Plot data"
     ]
    },
    {
     "cell_type": "markdown",
     "metadata": {},
     "source": [
      "Plot all the data in one axes."
     ]
    },
    {
     "cell_type": "code",
     "collapsed": false,
     "input": [
      "import numpy as np\n",
      "import matplotlib.pyplot as plt\n",
      "\n",
      "fig, ax = plt.subplots(1, 1, sharex=True, sharey=True ) \n",
      "ax.hold('on')    \n",
      "    \n",
      "p = []\n",
      "for ii in xrange(len(y)-1,-1,-1) :\n",
      "    N = y[ii].size\n",
      "    time = np.array( arange(N) ) *T\n",
      "    p.append(ax.plot(time,y[ii])[0])\n",
      "    \n",
      "ax.legend(p, fnames)\n",
      "ax.set_title('Time domain')\n",
      "ax.set_xlabel('time [usec]')\n",
      "ax.set_ylabel('Sample []')\n",
      "ax.hold('off')"
     ],
     "language": "python",
     "metadata": {},
     "outputs": [],
     "prompt_number": 2
    },
    {
     "cell_type": "markdown",
     "metadata": {},
     "source": [
      "Plot data in separate axes."
     ]
    },
    {
     "cell_type": "code",
     "collapsed": false,
     "input": [
      "from helperfuncs.PlotAEMeas import PlotAEMeas\n",
      "\n",
      "PlotAEMeas(y, y2, None, None, T, fnames, positions, y_lim_min = -0.4, y_lim_max = 0.4)"
     ],
     "language": "python",
     "metadata": {},
     "outputs": [],
     "prompt_number": 3
    },
    {
     "cell_type": "markdown",
     "metadata": {},
     "source": [
      "Plot measurement 2 for the CPS 2012 PI meeting"
     ]
    },
    {
     "cell_type": "code",
     "collapsed": false,
     "input": [
      "fig, ax = plt.subplots(1, 1, sharex=True, sharey=True ) \n",
      "\n",
      "N = y[2].size\n",
      "time = np.array( arange(N) ) *T\n",
      "ax.plot(time,y[2],'k')[0]\n",
      "    \n",
      "ax.set_xlabel('time [usec]')\n",
      "ax.set_ylabel('Sample []')\n",
      "ax.set_xlim(0,1000)"
     ],
     "language": "python",
     "metadata": {},
     "outputs": [
      {
       "output_type": "pyout",
       "prompt_number": 4,
       "text": [
        "(0, 1000)"
       ]
      }
     ],
     "prompt_number": 4
    },
    {
     "cell_type": "code",
     "collapsed": false,
     "input": [],
     "language": "python",
     "metadata": {},
     "outputs": []
    }
   ],
   "metadata": {}
  }
 ]
}
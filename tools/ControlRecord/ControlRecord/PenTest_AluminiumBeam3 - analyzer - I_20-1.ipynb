{
 "metadata": {
  "name": "PenTest_AluminiumBeam3 - analyzer - I_20-1"
 },
 "nbformat": 3,
 "nbformat_minor": 0,
 "worksheets": [
  {
   "cells": [
    {
     "cell_type": "heading",
     "level": 1,
     "metadata": {},
     "source": [
      "Read in preprocessed raw data"
     ]
    },
    {
     "cell_type": "markdown",
     "metadata": {},
     "source": [
      "First let's read in the data from PenTest_AluminiumBeam3 measurement. Note that the threshold filter has already filtered out the frames with signals in them."
     ]
    },
    {
     "cell_type": "code",
     "collapsed": false,
     "input": [
      "import os\n",
      "import tools.DSPConfig as conf\n",
      "import tools.FileSource as FS\n",
      "import tools.GenerateDisplayData as GDD\n",
      "import tools.SignalProcessing as SP\n",
      "import numpy as np\n",
      "\n",
      "import matplotlib.pyplot as plt\n",
      "\n",
      "\n",
      "DSPconf = conf.DSPconf_t()\n",
      "Display_N = 0\n",
      "MF_hist_len = 4\n",
      "\n",
      "dir = '../../../../Measurements/PenTest_AluminiumBeam3/ThresholdExtractionResults/I_20-1'\n",
      "filelist_in = os.listdir(dir)\n",
      "filepath = []\n",
      "filelist = []\n",
      "\n",
      "for ii in xrange(len(filelist_in)) :\n",
      "    fname = dir + '/' + filelist_in[ii]\n",
      "    if os.path.isfile(fname) :\n",
      "        filepath.append(fname)\n",
      "        filelist.append(filelist_in[ii])\n",
      "\n",
      "def keynat(string):\n",
      "    r'''A natural sort helper function for sort() and sorted()\n",
      "    without using regular expression.\n",
      "\n",
      "    >>> items = ('Z', 'a', '10', '1', '9')\n",
      "    >>> sorted(items)\n",
      "    ['1', '10', '9', 'Z', 'a']\n",
      "    >>> sorted(items, key=keynat)\n",
      "    ['1', '9', '10', 'Z', 'a']\n",
      "    '''\n",
      "    r = []\n",
      "    for c in string:\n",
      "        try:\n",
      "            c = int(c)\n",
      "            try: r[-1] = r[-1] * 10 + c\n",
      "            except: r.append(c)\n",
      "        except:\n",
      "            r.append(c)\n",
      "    return r        \n",
      "        \n",
      "    \n",
      "filepath = sorted(filepath,  key=keynat)        \n",
      "filelist = sorted(filelist,  key=keynat) \n",
      "\n",
      "Fs              = float(DSPconf.Fs)    \n",
      "T               = 1 / Fs * 1e6\n",
      "\n",
      "\n",
      "\n",
      "y = []\n",
      "y2 = []\n",
      "th_cross_level = 0.15\n",
      "th_cross = []\n",
      "th_cross2 = []\n",
      "x = []\n",
      "pl = []\n",
      "\n",
      "for ii in xrange(len(filelist)) :\n",
      "    source = FS.FileSource(filepath[ii])\n",
      "    dg = GDD.DisplayDataGenerator(source, DSPconf, Display_N, MF_hist_len)\n",
      "\n",
      "    dg.GetPreProcessedBuff()\n",
      "\n",
      "    if dg.int_buff.size == 0 :\n",
      "        continue\n",
      "\n",
      "    frame_starts, I_buff, Q_buff, I_spectrum, Q_spectrum, spectrum = SP.SignalProcessing( dg.frame_starts, dg.int_buff, DSPconf )  # Assumes 2 channels !!!\n",
      "\n",
      "    max_val = np.amax(np.absolute(I_buff))\n",
      "    val = 0\n",
      "    for jj in xrange(I_buff.size) :\n",
      "        if I_buff[jj] >= max_val*th_cross_level : \n",
      "            val = jj\n",
      "            break\n",
      "    th_cross.append(val * T )\n",
      "    \n",
      "    max_val2 = np.amax(np.absolute(Q_buff))\n",
      "    val = 0\n",
      "    for jj in xrange(Q_buff.size) :\n",
      "        if Q_buff[jj] >= max_val2*th_cross_level : \n",
      "            val = jj\n",
      "            break\n",
      "    th_cross2.append(val * T )\n",
      "\n",
      "            \n",
      "    N = I_buff.size\n",
      "    time = np.array( xrange(0,N) ) *T\n",
      "    \n",
      "    y.append(I_buff)\n",
      "    y2.append(Q_buff)\n",
      "    x.append(time)\n",
      "    \n",
      "    pl.append(filelist[ii])"
     ],
     "language": "python",
     "metadata": {},
     "outputs": [
      {
       "output_type": "stream",
       "stream": "stdout",
       "text": [
        "Opening file: ../../../../Measurements/PenTest_AluminiumBeam3/ThresholdExtractionResults/I_20-1/1.bin\n",
        "Closed file: ../../../../Measurements/PenTest_AluminiumBeam3/ThresholdExtractionResults/I_20-1/1.bin"
       ]
      },
      {
       "output_type": "stream",
       "stream": "stdout",
       "text": [
        "\n",
        "Opening file: ../../../../Measurements/PenTest_AluminiumBeam3/ThresholdExtractionResults/I_20-1/2.bin\n",
        "Closed file: ../../../../Measurements/PenTest_AluminiumBeam3/ThresholdExtractionResults/I_20-1/2.bin"
       ]
      },
      {
       "output_type": "stream",
       "stream": "stdout",
       "text": [
        "\n",
        "Opening file: ../../../../Measurements/PenTest_AluminiumBeam3/ThresholdExtractionResults/I_20-1/3.bin\n",
        "Closed file: ../../../../Measurements/PenTest_AluminiumBeam3/ThresholdExtractionResults/I_20-1/3.bin"
       ]
      },
      {
       "output_type": "stream",
       "stream": "stdout",
       "text": [
        "\n",
        "Opening file: ../../../../Measurements/PenTest_AluminiumBeam3/ThresholdExtractionResults/I_20-1/4.bin\n",
        "Closed file: ../../../../Measurements/PenTest_AluminiumBeam3/ThresholdExtractionResults/I_20-1/4.bin"
       ]
      },
      {
       "output_type": "stream",
       "stream": "stdout",
       "text": [
        "\n",
        "Opening file: ../../../../Measurements/PenTest_AluminiumBeam3/ThresholdExtractionResults/I_20-1/5.bin\n",
        "Closed file: ../../../../Measurements/PenTest_AluminiumBeam3/ThresholdExtractionResults/I_20-1/5.bin"
       ]
      },
      {
       "output_type": "stream",
       "stream": "stdout",
       "text": [
        "\n",
        "Opening file: ../../../../Measurements/PenTest_AluminiumBeam3/ThresholdExtractionResults/I_20-1/6.bin\n",
        "Closed file: ../../../../Measurements/PenTest_AluminiumBeam3/ThresholdExtractionResults/I_20-1/6.bin"
       ]
      },
      {
       "output_type": "stream",
       "stream": "stdout",
       "text": [
        "\n",
        "Opening file: ../../../../Measurements/PenTest_AluminiumBeam3/ThresholdExtractionResults/I_20-1/7.bin\n",
        "Closed file: ../../../../Measurements/PenTest_AluminiumBeam3/ThresholdExtractionResults/I_20-1/7.bin"
       ]
      },
      {
       "output_type": "stream",
       "stream": "stdout",
       "text": [
        "\n",
        "Opening file: ../../../../Measurements/PenTest_AluminiumBeam3/ThresholdExtractionResults/I_20-1/8.bin\n",
        "Closed file: ../../../../Measurements/PenTest_AluminiumBeam3/ThresholdExtractionResults/I_20-1/8.bin"
       ]
      },
      {
       "output_type": "stream",
       "stream": "stdout",
       "text": [
        "\n",
        "Opening file: ../../../../Measurements/PenTest_AluminiumBeam3/ThresholdExtractionResults/I_20-1/9.bin\n",
        "Closed file: ../../../../Measurements/PenTest_AluminiumBeam3/ThresholdExtractionResults/I_20-1/9.bin"
       ]
      },
      {
       "output_type": "stream",
       "stream": "stdout",
       "text": [
        "\n",
        "Opening file: ../../../../Measurements/PenTest_AluminiumBeam3/ThresholdExtractionResults/I_20-1/10.bin\n",
        "Closed file: ../../../../Measurements/PenTest_AluminiumBeam3/ThresholdExtractionResults/I_20-1/10.bin"
       ]
      },
      {
       "output_type": "stream",
       "stream": "stdout",
       "text": [
        "\n",
        "Opening file: ../../../../Measurements/PenTest_AluminiumBeam3/ThresholdExtractionResults/I_20-1/12.bin\n",
        "Closed file: ../../../../Measurements/PenTest_AluminiumBeam3/ThresholdExtractionResults/I_20-1/12.bin"
       ]
      },
      {
       "output_type": "stream",
       "stream": "stdout",
       "text": [
        "\n",
        "Opening file: ../../../../Measurements/PenTest_AluminiumBeam3/ThresholdExtractionResults/I_20-1/13.bin\n",
        "Closed file: ../../../../Measurements/PenTest_AluminiumBeam3/ThresholdExtractionResults/I_20-1/13.bin"
       ]
      },
      {
       "output_type": "stream",
       "stream": "stdout",
       "text": [
        "\n",
        "Opening file: ../../../../Measurements/PenTest_AluminiumBeam3/ThresholdExtractionResults/I_20-1/14.bin\n",
        "Closed file: ../../../../Measurements/PenTest_AluminiumBeam3/ThresholdExtractionResults/I_20-1/14.bin"
       ]
      },
      {
       "output_type": "stream",
       "stream": "stdout",
       "text": [
        "\n",
        "Opening file: ../../../../Measurements/PenTest_AluminiumBeam3/ThresholdExtractionResults/I_20-1/15.bin\n",
        "Closed file: ../../../../Measurements/PenTest_AluminiumBeam3/ThresholdExtractionResults/I_20-1/15.bin"
       ]
      },
      {
       "output_type": "stream",
       "stream": "stdout",
       "text": [
        "\n",
        "Opening file: ../../../../Measurements/PenTest_AluminiumBeam3/ThresholdExtractionResults/I_20-1/16.bin\n",
        "Closed file: ../../../../Measurements/PenTest_AluminiumBeam3/ThresholdExtractionResults/I_20-1/16.bin"
       ]
      },
      {
       "output_type": "stream",
       "stream": "stdout",
       "text": [
        "\n",
        "Opening file: ../../../../Measurements/PenTest_AluminiumBeam3/ThresholdExtractionResults/I_20-1/17.bin\n",
        "Closed file: ../../../../Measurements/PenTest_AluminiumBeam3/ThresholdExtractionResults/I_20-1/17.bin"
       ]
      },
      {
       "output_type": "stream",
       "stream": "stdout",
       "text": [
        "\n",
        "Opening file: ../../../../Measurements/PenTest_AluminiumBeam3/ThresholdExtractionResults/I_20-1/18.bin\n",
        "Closed file: ../../../../Measurements/PenTest_AluminiumBeam3/ThresholdExtractionResults/I_20-1/18.bin"
       ]
      },
      {
       "output_type": "stream",
       "stream": "stdout",
       "text": [
        "\n",
        "Opening file: ../../../../Measurements/PenTest_AluminiumBeam3/ThresholdExtractionResults/I_20-1/19.bin\n",
        "Closed file: ../../../../Measurements/PenTest_AluminiumBeam3/ThresholdExtractionResults/I_20-1/19.bin"
       ]
      },
      {
       "output_type": "stream",
       "stream": "stdout",
       "text": [
        "\n",
        "Opening file: ../../../../Measurements/PenTest_AluminiumBeam3/ThresholdExtractionResults/I_20-1/20.bin\n",
        "Closed file: ../../../../Measurements/PenTest_AluminiumBeam3/ThresholdExtractionResults/I_20-1/20.bin"
       ]
      },
      {
       "output_type": "stream",
       "stream": "stdout",
       "text": [
        "\n"
       ]
      }
     ],
     "prompt_number": 74
    },
    {
     "cell_type": "heading",
     "level": 1,
     "metadata": {},
     "source": [
      "Plot data"
     ]
    },
    {
     "cell_type": "heading",
     "level": 2,
     "metadata": {},
     "source": [
      "AE measurements"
     ]
    },
    {
     "cell_type": "markdown",
     "metadata": {},
     "source": [
      "Plot AE data in separate axes."
     ]
    },
    {
     "cell_type": "code",
     "collapsed": false,
     "input": [
      "rows = 1\n",
      "cols = 1\n",
      "\n",
      "while rows * cols < len(x) :\n",
      "    if rows < cols :\n",
      "        rows += 1\n",
      "    else :\n",
      "        cols += 1\n",
      "\n",
      "fig, axarr    = plt.subplots(rows, cols, sharex=True, sharey=True )\n",
      "axarr = axarr.flat\n",
      "\n",
      "positions = [20,19,18,17,16,15,14,13,12,11,9,8,7,6,5,4,3,2,1]\n",
      "\n",
      "for ii in xrange(len(x)) :\n",
      "    axarr[ii].hold('on')\n",
      "    \n",
      "    if th_cross[ii] < th_cross2[ii] :\n",
      "        axarr[ii].plot(x[ii], y[ii], 'g')\n",
      "        axarr[ii].plot(x[ii], y2[ii], 'b')\n",
      "    else :\n",
      "        axarr[ii].plot(x[ii], y2[ii], 'b')\n",
      "        axarr[ii].plot(x[ii], y[ii], 'g')\n",
      "        \n",
      "    axarr[ii].plot([th_cross[ii], th_cross[ii]], [-1, 1], 'r')\n",
      "    axarr[ii].plot([th_cross2[ii], th_cross2[ii]], [-1, 1], 'r')\n",
      "    axarr[ii].hold('off')\n",
      "    axarr[ii].locator_params(axis='both', nbins=4)\n",
      "    axarr[ii].ticklabel_format(scilimits=(-3,3))\n",
      "    axarr[ii].set_ylim(-1.1, 1.1)\n",
      "    axarr[ii].set_xlim(0, 1000)\n",
      "    axarr[ii].set_title('%s\\nTD = %.2f\\npos %d' % (pl[ii], th_cross2[ii] - th_cross[ii], positions[ii]))\n",
      "    \n",
      "fig.tight_layout()"
     ],
     "language": "python",
     "metadata": {},
     "outputs": [],
     "prompt_number": 80
    },
    {
     "cell_type": "heading",
     "level": 2,
     "metadata": {},
     "source": [
      "Time Difference of Arrival (TDOA)"
     ]
    },
    {
     "cell_type": "markdown",
     "metadata": {},
     "source": [
      "Plot time difference of arrival with respect to positions."
     ]
    },
    {
     "cell_type": "code",
     "collapsed": false,
     "input": [
      "fig, ax = plt.subplots(1, 1, sharex=True, sharey=True ) \n",
      "    \n",
      "\n",
      "TD_meas = []\n",
      "for ii in xrange(len(th_cross)):\n",
      "    TD_meas.append(th_cross2[ii] - th_cross[ii])\n",
      "    \n",
      "ax.plot(positions, TD_meas, '.-')\n",
      "ax.set_title('TDOA versus position')\n",
      "ax.set_xlabel('position')\n",
      "ax.set_ylabel('time difference of arrival [usec]')"
     ],
     "language": "python",
     "metadata": {},
     "outputs": [
      {
       "output_type": "pyout",
       "prompt_number": 76,
       "text": [
        "<matplotlib.text.Text at 0xc691c70>"
       ]
      }
     ],
     "prompt_number": 76
    },
    {
     "cell_type": "markdown",
     "metadata": {},
     "source": [
      "Plot time difference of arrival with respect to actual distances."
     ]
    },
    {
     "cell_type": "code",
     "collapsed": false,
     "input": [
      "inch = 0.0254\n",
      "tick = 3 * inch\n",
      "\n",
      "distance = np.sqrt(((20 - np.array(positions))*tick)**2 + inch**2)\n",
      "distance2 = np.sqrt(((np.array(positions) - 1)*tick)**2 + inch**2)\n",
      "dist_diff = distance2 - distance #m\n",
      "\n",
      "v_s = 5100 #m/s\n",
      "\n",
      "TD_theory = dist_diff/v_s*1e6"
     ],
     "language": "python",
     "metadata": {},
     "outputs": [],
     "prompt_number": 77
    },
    {
     "cell_type": "code",
     "collapsed": false,
     "input": [
      "fig, ax = plt.subplots(1, 1, sharex=True, sharey=True ) \n",
      "    \n",
      "p = ax.plot(dist_diff*1e3, TD_meas, '.-', dist_diff*1e3, TD_theory, '.-',)\n",
      "ax.legend(p, ['Measured', 'Theoretical'])\n",
      "ax.set_title('TDOA versus distance difference')\n",
      "ax.set_xlabel('distance difference [mm]')\n",
      "ax.set_ylabel('time difference of arrival [usec]')"
     ],
     "language": "python",
     "metadata": {},
     "outputs": [
      {
       "output_type": "pyout",
       "prompt_number": 79,
       "text": [
        "<matplotlib.text.Text at 0xed54190>"
       ]
      }
     ],
     "prompt_number": 79
    },
    {
     "cell_type": "code",
     "collapsed": false,
     "input": [],
     "language": "python",
     "metadata": {},
     "outputs": []
    }
   ],
   "metadata": {}
  }
 ]
}
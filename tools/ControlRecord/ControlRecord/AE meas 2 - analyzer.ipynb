{
 "metadata": {
  "name": "AE meas 2 - analyzer"
 },
 "nbformat": 3,
 "nbformat_minor": 0,
 "worksheets": [
  {
   "cells": [
    {
     "cell_type": "code",
     "collapsed": false,
     "input": [
      "import os\n",
      "import tools.DSPConfig as conf\n",
      "import tools.GenerateDisplayData as GDD\n",
      "import tools.SignalProcessing as SP\n",
      "import numpy as np\n",
      "\n",
      "import matplotlib.pyplot as plt\n",
      "\n",
      "\n",
      "DSPconf = conf.DSPconf_t()\n",
      "Display_N = 0\n",
      "MF_hist_len = 4\n",
      "\n",
      "dir = 'results'\n",
      "filelist_in = os.listdir(dir)\n",
      "filelist = []\n",
      "\n",
      "for ii in xrange(len(filelist_in)) :\n",
      "    fname = dir + '/' + filelist_in[ii]\n",
      "    if os.path.isfile(fname) :\n",
      "        filelist.append(fname)\n",
      "\n",
      "def keynat(string):\n",
      "    r'''A natural sort helper function for sort() and sorted()\n",
      "    without using regular expression.\n",
      "\n",
      "    >>> items = ('Z', 'a', '10', '1', '9')\n",
      "    >>> sorted(items)\n",
      "    ['1', '10', '9', 'Z', 'a']\n",
      "    >>> sorted(items, key=keynat)\n",
      "    ['1', '9', '10', 'Z', 'a']\n",
      "    '''\n",
      "    r = []\n",
      "    for c in string:\n",
      "        try:\n",
      "            c = int(c)\n",
      "            try: r[-1] = r[-1] * 10 + c\n",
      "            except: r.append(c)\n",
      "        except:\n",
      "            r.append(c)\n",
      "    return r        \n",
      "        \n",
      "    \n",
      "filelist = sorted(filelist,  key=keynat)        \n",
      "\n",
      "Fs              = float(DSPconf.Fs)    \n",
      "T               = 1 / Fs * 1e6\n",
      "\n",
      "\n",
      "#for jj in xrange(len(filelist)) :      \n",
      "jj = len(filelist)-1\n",
      "p = []\n",
      "pl = []\n",
      "if (1) :\n",
      "    plt.figure(1);        \n",
      "    plt.hold('on')    \n",
      "   \n",
      "    for ii in xrange(jj-1,-1,-4) :      \n",
      "        dg = GDD.DisplayDataGenerator(filelist[ii], DSPconf, Display_N, MF_hist_len)\n",
      "        pl.append(filelist[ii])\n",
      "\n",
      "        dg.GetPreProcessedBuff()\n",
      "\n",
      "        if dg.int_buff.size == 0 :\n",
      "            continue\n",
      "\n",
      "        frame_starts, I_buff, Q_buff, I_spectrum, Q_spectrum, = SP.SignalProcessing( dg.frame_starts, dg.int_buff, DSPconf )  # Assumes 2 channels !!!\n",
      "\n",
      "        N               = int(I_buff.size)\n",
      "        time = np.array( range(0,N) ) *T\n",
      "    \n",
      "        p.append(plt.plot(time,I_buff)[0])\n",
      "        \n",
      "    \n",
      "    print 'Done'\n",
      "    plt.legend(p, pl)\n",
      "    plt.title('Time domain')\n",
      "    plt.xlabel('time [usec]')\n",
      "    plt.ylabel('Sample []')\n",
      "    plt.hold('off')\n",
      "    plt.show()\n",
      "    "
     ],
     "language": "python",
     "metadata": {},
     "outputs": [
      {
       "output_type": "stream",
       "stream": "stdout",
       "text": [
        "Opening file: results/18.bin\n",
        "Closed file: results/18.bin"
       ]
      },
      {
       "output_type": "stream",
       "stream": "stdout",
       "text": [
        "\n",
        "Opening file: results/13.bin\n",
        "Closed file: results/13.bin"
       ]
      },
      {
       "output_type": "stream",
       "stream": "stdout",
       "text": [
        "\n",
        "Opening file: results/9.bin\n",
        "Closed file: results/9.bin"
       ]
      },
      {
       "output_type": "stream",
       "stream": "stdout",
       "text": [
        "\n",
        "Opening file: results/5.bin\n",
        "Closed file: results/5.bin"
       ]
      },
      {
       "output_type": "stream",
       "stream": "stdout",
       "text": [
        "\n",
        "Opening file: results/1.bin\n",
        "Closed file: results/1.bin"
       ]
      },
      {
       "output_type": "stream",
       "stream": "stdout",
       "text": [
        "\n",
        "Done\n"
       ]
      }
     ],
     "prompt_number": 30
    },
    {
     "cell_type": "code",
     "collapsed": false,
     "input": [],
     "language": "python",
     "metadata": {},
     "outputs": []
    }
   ],
   "metadata": {}
  }
 ]
}
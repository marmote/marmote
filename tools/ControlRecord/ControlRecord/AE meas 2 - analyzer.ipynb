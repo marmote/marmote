{
 "metadata": {
  "name": "AE meas 2 - analyzer"
 },
 "nbformat": 3,
 "nbformat_minor": 0,
 "worksheets": [
  {
   "cells": [
    {
     "cell_type": "code",
     "collapsed": false,
     "input": [
      "import os\n",
      "import tools.DSPConfig as conf\n",
      "import tools.FileSource as FS\n",
      "import tools.GenerateDisplayData as GDD\n",
      "import tools.SignalProcessing as SP\n",
      "import numpy as np\n",
      "\n",
      "import matplotlib.pyplot as plt\n",
      "\n",
      "\n",
      "DSPconf = conf.DSPconf_t()\n",
      "Display_N = 0\n",
      "MF_hist_len = 4\n",
      "\n",
      "dir = 'results'\n",
      "filelist_in = os.listdir(dir)\n",
      "filepath = []\n",
      "filelist = []\n",
      "\n",
      "for ii in xrange(len(filelist_in)) :\n",
      "    fname = dir + '/' + filelist_in[ii]\n",
      "    if os.path.isfile(fname) :\n",
      "        filepath.append(fname)\n",
      "        filelist.append(filelist_in[ii])\n",
      "\n",
      "def keynat(string):\n",
      "    r'''A natural sort helper function for sort() and sorted()\n",
      "    without using regular expression.\n",
      "\n",
      "    >>> items = ('Z', 'a', '10', '1', '9')\n",
      "    >>> sorted(items)\n",
      "    ['1', '10', '9', 'Z', 'a']\n",
      "    >>> sorted(items, key=keynat)\n",
      "    ['1', '9', '10', 'Z', 'a']\n",
      "    '''\n",
      "    r = []\n",
      "    for c in string:\n",
      "        try:\n",
      "            c = int(c)\n",
      "            try: r[-1] = r[-1] * 10 + c\n",
      "            except: r.append(c)\n",
      "        except:\n",
      "            r.append(c)\n",
      "    return r        \n",
      "        \n",
      "    \n",
      "filepath = sorted(filepath,  key=keynat)        \n",
      "filelist = sorted(filelist,  key=keynat) \n",
      "\n",
      "Fs              = float(DSPconf.Fs)    \n",
      "T               = 1 / Fs * 1e6\n",
      "\n",
      "y = []\n",
      "x = []\n",
      "pl = []\n",
      "\n",
      "for ii in xrange(len(filelist)) :\n",
      "    source = FS.FileSource(filepath[ii])\n",
      "    dg = GDD.DisplayDataGenerator(source, DSPconf, Display_N, MF_hist_len)\n",
      "\n",
      "    dg.GetPreProcessedBuff()\n",
      "\n",
      "    if dg.int_buff.size == 0 :\n",
      "        continue\n",
      "\n",
      "    frame_starts, I_buff, Q_buff, I_spectrum, Q_spectrum, = SP.SignalProcessing( dg.frame_starts, dg.int_buff, DSPconf )  # Assumes 2 channels !!!\n",
      "\n",
      "    N = I_buff.size\n",
      "    time = np.array( xrange(0,N) ) *T\n",
      "    \n",
      "    y.append(I_buff)\n",
      "    x.append(time)\n",
      "    \n",
      "    pl.append(filelist[ii])"
     ],
     "language": "python",
     "metadata": {},
     "outputs": [
      {
       "output_type": "stream",
       "stream": "stdout",
       "text": [
        "Opening file: results/1.bin\n",
        "Closed file: results/1.bin"
       ]
      },
      {
       "output_type": "stream",
       "stream": "stdout",
       "text": [
        "\n",
        "Opening file: results/2.bin\n",
        "Closed file: results/2.bin"
       ]
      },
      {
       "output_type": "stream",
       "stream": "stdout",
       "text": [
        "\n",
        "Opening file: results/3.bin\n",
        "Closed file: results/3.bin\n",
        "Opening file: results/4.bin"
       ]
      },
      {
       "output_type": "stream",
       "stream": "stdout",
       "text": [
        "\n",
        "Closed file: results/4.bin"
       ]
      },
      {
       "output_type": "stream",
       "stream": "stdout",
       "text": [
        "\n",
        "Opening file: results/5.bin\n",
        "Closed file: results/5.bin"
       ]
      },
      {
       "output_type": "stream",
       "stream": "stdout",
       "text": [
        "\n",
        "Opening file: results/6.bin\n",
        "Closed file: results/6.bin"
       ]
      },
      {
       "output_type": "stream",
       "stream": "stdout",
       "text": [
        "\n",
        "Opening file: results/7.bin\n",
        "Closed file: results/7.bin"
       ]
      },
      {
       "output_type": "stream",
       "stream": "stdout",
       "text": [
        "\n",
        "Opening file: results/8.bin\n",
        "Closed file: results/8.bin"
       ]
      },
      {
       "output_type": "stream",
       "stream": "stdout",
       "text": [
        "\n",
        "Opening file: results/9.bin\n",
        "Closed file: results/9.bin"
       ]
      },
      {
       "output_type": "stream",
       "stream": "stdout",
       "text": [
        "\n",
        "Opening file: results/10.bin\n",
        "Closed file: results/10.bin"
       ]
      },
      {
       "output_type": "stream",
       "stream": "stdout",
       "text": [
        "\n",
        "Opening file: results/11.bin\n",
        "Closed file: results/11.bin"
       ]
      },
      {
       "output_type": "stream",
       "stream": "stdout",
       "text": [
        "\n",
        "Opening file: results/12.bin\n",
        "Closed file: results/12.bin"
       ]
      },
      {
       "output_type": "stream",
       "stream": "stdout",
       "text": [
        "\n",
        "Opening file: results/13.bin\n",
        "Closed file: results/13.bin"
       ]
      },
      {
       "output_type": "stream",
       "stream": "stdout",
       "text": [
        "\n",
        "Opening file: results/14.bin\n",
        "Closed file: results/14.bin"
       ]
      },
      {
       "output_type": "stream",
       "stream": "stdout",
       "text": [
        "\n",
        "Opening file: results/15.bin\n",
        "Closed file: results/15.bin"
       ]
      },
      {
       "output_type": "stream",
       "stream": "stdout",
       "text": [
        "\n",
        "Opening file: results/16.bin\n",
        "Closed file: results/16.bin"
       ]
      },
      {
       "output_type": "stream",
       "stream": "stdout",
       "text": [
        "\n",
        "Opening file: results/18.bin\n",
        "Closed file: results/18.bin"
       ]
      },
      {
       "output_type": "stream",
       "stream": "stdout",
       "text": [
        "\n",
        "Opening file: results/19.bin\n",
        "Closed file: results/19.bin"
       ]
      },
      {
       "output_type": "stream",
       "stream": "stdout",
       "text": [
        "\n"
       ]
      }
     ],
     "prompt_number": 2
    },
    {
     "cell_type": "code",
     "collapsed": false,
     "input": [
      "fig, ax = plt.subplots(1, 1, sharex=True, sharey=True ) \n",
      "ax.hold('on')    \n",
      "    \n",
      "p = []\n",
      "\n",
      "for ii in xrange(len(x)-1,-1,-1) :      \n",
      "    p.append(ax.plot(x[ii],y[ii])[0])\n",
      "    \n",
      "ax.legend(p, pl)\n",
      "ax.set_title('Time domain')\n",
      "ax.set_xlabel('time [usec]')\n",
      "ax.set_ylabel('Sample []')\n",
      "ax.hold('off')"
     ],
     "language": "python",
     "metadata": {},
     "outputs": [],
     "prompt_number": 3
    },
    {
     "cell_type": "code",
     "collapsed": false,
     "input": [
      "rows = 1\n",
      "cols = 1\n",
      "\n",
      "while rows * cols < len(x) :\n",
      "    if rows < cols :\n",
      "        rows += 1\n",
      "    else :\n",
      "        cols += 1\n",
      "\n",
      "fig, axarr    = plt.subplots(rows, cols, sharex=True, sharey=True )\n",
      "axarr = axarr.flat\n",
      "\n",
      "for ii in xrange(len(x)) :\n",
      "    ptemp = axarr[ii].plot(x[ii], y[ii])\n",
      "    axarr[ii].locator_params(axis='both', nbins=4)\n",
      "    axarr[ii].ticklabel_format(scilimits=(-3,3))\n",
      "    axarr[ii].set_ylim(-0.5,0.5)\n",
      "    axarr[ii].legend(ptemp, [pl[ii]])\n",
      "    \n",
      "fig.tight_layout()"
     ],
     "language": "python",
     "metadata": {},
     "outputs": [],
     "prompt_number": 7
    },
    {
     "cell_type": "code",
     "collapsed": false,
     "input": [
      "fig, ax = plt.subplots(1, 1, sharex=True, sharey=True ) \n",
      "\n",
      "ax.plot(x[2],y[2],'k')[0]\n",
      "    \n",
      "#ax.set_title('Time domain')\n",
      "ax.set_xlabel('time [usec]')\n",
      "ax.set_ylabel('Sample []')\n",
      "ax.set_xlim(0,1000)"
     ],
     "language": "python",
     "metadata": {},
     "outputs": [
      {
       "output_type": "pyout",
       "prompt_number": 10,
       "text": [
        "(0, 1000)"
       ]
      }
     ],
     "prompt_number": 10
    },
    {
     "cell_type": "code",
     "collapsed": false,
     "input": [],
     "language": "python",
     "metadata": {},
     "outputs": []
    }
   ],
   "metadata": {}
  }
 ]
}
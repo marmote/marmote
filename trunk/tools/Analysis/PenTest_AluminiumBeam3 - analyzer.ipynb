{
 "metadata": {
  "name": "PenTest_AluminiumBeam3 - analyzer"
 },
 "nbformat": 3,
 "nbformat_minor": 0,
 "worksheets": [
  {
   "cells": [
    {
     "cell_type": "heading",
     "level": 1,
     "metadata": {},
     "source": [
      "Read in preprocessed raw data"
     ]
    },
    {
     "cell_type": "markdown",
     "metadata": {},
     "source": [
      "First let's read in the data from PenTest_AluminiumBeam3 measurement. Note that the threshold filter has already filtered out the frames with signals in them."
     ]
    },
    {
     "cell_type": "code",
     "collapsed": false,
     "input": [
      "from helperfuncs.ReadAEMeas import ReadAEMeas\n",
      "\n",
      "dir = '../../../Measurements/PenTest_AluminiumBeam3/ThresholdExtractionResults/I_20-1'\n",
      "y_I, y2_I, AE_start_I, AE_start2_I, T_I, fnames_I = ReadAEMeas(dir)\n",
      "positions_I = [20,19,18,17,16,15,14,13,12,11,9,8,7,6,5,4,3,2,1]\n",
      "\n",
      "\n",
      "dir = '../../../Measurements/PenTest_AluminiumBeam3/ThresholdExtractionResults/II_1-20'\n",
      "y_II, y2_II, AE_start_II, AE_start2_II, T_II, fnames_II = ReadAEMeas(dir)\n",
      "positions_II = [1,2,3,4,5,6,7,8,9,10,11,12,13,14,15,16,17,18,19,20]\n",
      "\n",
      "\n",
      "dir = '../../../Measurements/PenTest_AluminiumBeam3/ThresholdExtractionResults/III_20-1'\n",
      "y_III, y2_III, AE_start_III, AE_start2_III, T_III, fnames_III = ReadAEMeas(dir)\n",
      "positions_III = [20,19,18,17,16,15,14,13,12,11,10,9,8,7,6,5,4,3,1]"
     ],
     "language": "python",
     "metadata": {},
     "outputs": [
      {
       "output_type": "stream",
       "stream": "stdout",
       "text": [
        "Opening file: ../../../Measurements/PenTest_AluminiumBeam3/ThresholdExtractionResults/I_20-1/1.bin\n",
        "Closed file: ../../../Measurements/PenTest_AluminiumBeam3/ThresholdExtractionResults/I_20-1/1.bin"
       ]
      },
      {
       "output_type": "stream",
       "stream": "stdout",
       "text": [
        "\n",
        "Opening file: ../../../Measurements/PenTest_AluminiumBeam3/ThresholdExtractionResults/I_20-1/2.bin\n",
        "Closed file: ../../../Measurements/PenTest_AluminiumBeam3/ThresholdExtractionResults/I_20-1/2.bin"
       ]
      },
      {
       "output_type": "stream",
       "stream": "stdout",
       "text": [
        "\n",
        "Opening file: ../../../Measurements/PenTest_AluminiumBeam3/ThresholdExtractionResults/I_20-1/3.bin\n",
        "Closed file: ../../../Measurements/PenTest_AluminiumBeam3/ThresholdExtractionResults/I_20-1/3.bin"
       ]
      },
      {
       "output_type": "stream",
       "stream": "stdout",
       "text": [
        "\n",
        "Opening file: ../../../Measurements/PenTest_AluminiumBeam3/ThresholdExtractionResults/I_20-1/4.bin\n",
        "Closed file: ../../../Measurements/PenTest_AluminiumBeam3/ThresholdExtractionResults/I_20-1/4.bin"
       ]
      },
      {
       "output_type": "stream",
       "stream": "stdout",
       "text": [
        "\n",
        "Opening file: ../../../Measurements/PenTest_AluminiumBeam3/ThresholdExtractionResults/I_20-1/5.bin\n",
        "Closed file: ../../../Measurements/PenTest_AluminiumBeam3/ThresholdExtractionResults/I_20-1/5.bin"
       ]
      },
      {
       "output_type": "stream",
       "stream": "stdout",
       "text": [
        "\n",
        "Opening file: ../../../Measurements/PenTest_AluminiumBeam3/ThresholdExtractionResults/I_20-1/6.bin\n",
        "Closed file: ../../../Measurements/PenTest_AluminiumBeam3/ThresholdExtractionResults/I_20-1/6.bin"
       ]
      },
      {
       "output_type": "stream",
       "stream": "stdout",
       "text": [
        "\n",
        "Opening file: ../../../Measurements/PenTest_AluminiumBeam3/ThresholdExtractionResults/I_20-1/7.bin\n",
        "Closed file: ../../../Measurements/PenTest_AluminiumBeam3/ThresholdExtractionResults/I_20-1/7.bin"
       ]
      },
      {
       "output_type": "stream",
       "stream": "stdout",
       "text": [
        "\n",
        "Opening file: ../../../Measurements/PenTest_AluminiumBeam3/ThresholdExtractionResults/I_20-1/8.bin\n",
        "Closed file: ../../../Measurements/PenTest_AluminiumBeam3/ThresholdExtractionResults/I_20-1/8.bin"
       ]
      },
      {
       "output_type": "stream",
       "stream": "stdout",
       "text": [
        "\n",
        "Opening file: ../../../Measurements/PenTest_AluminiumBeam3/ThresholdExtractionResults/I_20-1/9.bin\n",
        "Closed file: ../../../Measurements/PenTest_AluminiumBeam3/ThresholdExtractionResults/I_20-1/9.bin"
       ]
      },
      {
       "output_type": "stream",
       "stream": "stdout",
       "text": [
        "\n",
        "Opening file: ../../../Measurements/PenTest_AluminiumBeam3/ThresholdExtractionResults/I_20-1/10.bin\n",
        "Closed file: ../../../Measurements/PenTest_AluminiumBeam3/ThresholdExtractionResults/I_20-1/10.bin"
       ]
      },
      {
       "output_type": "stream",
       "stream": "stdout",
       "text": [
        "\n",
        "Opening file: ../../../Measurements/PenTest_AluminiumBeam3/ThresholdExtractionResults/I_20-1/12.bin\n",
        "Closed file: ../../../Measurements/PenTest_AluminiumBeam3/ThresholdExtractionResults/I_20-1/12.bin"
       ]
      },
      {
       "output_type": "stream",
       "stream": "stdout",
       "text": [
        "\n",
        "Opening file: ../../../Measurements/PenTest_AluminiumBeam3/ThresholdExtractionResults/I_20-1/13.bin\n",
        "Closed file: ../../../Measurements/PenTest_AluminiumBeam3/ThresholdExtractionResults/I_20-1/13.bin"
       ]
      },
      {
       "output_type": "stream",
       "stream": "stdout",
       "text": [
        "\n",
        "Opening file: ../../../Measurements/PenTest_AluminiumBeam3/ThresholdExtractionResults/I_20-1/14.bin\n",
        "Closed file: ../../../Measurements/PenTest_AluminiumBeam3/ThresholdExtractionResults/I_20-1/14.bin"
       ]
      },
      {
       "output_type": "stream",
       "stream": "stdout",
       "text": [
        "\n",
        "Opening file: ../../../Measurements/PenTest_AluminiumBeam3/ThresholdExtractionResults/I_20-1/15.bin\n",
        "Closed file: ../../../Measurements/PenTest_AluminiumBeam3/ThresholdExtractionResults/I_20-1/15.bin"
       ]
      },
      {
       "output_type": "stream",
       "stream": "stdout",
       "text": [
        "\n",
        "Opening file: ../../../Measurements/PenTest_AluminiumBeam3/ThresholdExtractionResults/I_20-1/16.bin\n",
        "Closed file: ../../../Measurements/PenTest_AluminiumBeam3/ThresholdExtractionResults/I_20-1/16.bin"
       ]
      },
      {
       "output_type": "stream",
       "stream": "stdout",
       "text": [
        "\n",
        "Opening file: ../../../Measurements/PenTest_AluminiumBeam3/ThresholdExtractionResults/I_20-1/17.bin\n",
        "Closed file: ../../../Measurements/PenTest_AluminiumBeam3/ThresholdExtractionResults/I_20-1/17.bin"
       ]
      },
      {
       "output_type": "stream",
       "stream": "stdout",
       "text": [
        "\n",
        "Opening file: ../../../Measurements/PenTest_AluminiumBeam3/ThresholdExtractionResults/I_20-1/18.bin\n",
        "Closed file: ../../../Measurements/PenTest_AluminiumBeam3/ThresholdExtractionResults/I_20-1/18.bin"
       ]
      },
      {
       "output_type": "stream",
       "stream": "stdout",
       "text": [
        "\n",
        "Opening file: ../../../Measurements/PenTest_AluminiumBeam3/ThresholdExtractionResults/I_20-1/19.bin\n",
        "Closed file: ../../../Measurements/PenTest_AluminiumBeam3/ThresholdExtractionResults/I_20-1/19.bin"
       ]
      },
      {
       "output_type": "stream",
       "stream": "stdout",
       "text": [
        "\n",
        "Opening file: ../../../Measurements/PenTest_AluminiumBeam3/ThresholdExtractionResults/I_20-1/20.bin\n",
        "Closed file: ../../../Measurements/PenTest_AluminiumBeam3/ThresholdExtractionResults/I_20-1/20.bin"
       ]
      },
      {
       "output_type": "stream",
       "stream": "stdout",
       "text": [
        "\n",
        "Opening file: ../../../Measurements/PenTest_AluminiumBeam3/ThresholdExtractionResults/II_1-20/21.bin\n",
        "Closed file: ../../../Measurements/PenTest_AluminiumBeam3/ThresholdExtractionResults/II_1-20/21.bin"
       ]
      },
      {
       "output_type": "stream",
       "stream": "stdout",
       "text": [
        "\n",
        "Opening file: ../../../Measurements/PenTest_AluminiumBeam3/ThresholdExtractionResults/II_1-20/22.bin\n",
        "Closed file: ../../../Measurements/PenTest_AluminiumBeam3/ThresholdExtractionResults/II_1-20/22.bin"
       ]
      },
      {
       "output_type": "stream",
       "stream": "stdout",
       "text": [
        "\n",
        "Opening file: ../../../Measurements/PenTest_AluminiumBeam3/ThresholdExtractionResults/II_1-20/23.bin\n",
        "Closed file: ../../../Measurements/PenTest_AluminiumBeam3/ThresholdExtractionResults/II_1-20/23.bin"
       ]
      },
      {
       "output_type": "stream",
       "stream": "stdout",
       "text": [
        "\n",
        "Opening file: ../../../Measurements/PenTest_AluminiumBeam3/ThresholdExtractionResults/II_1-20/24.bin\n",
        "Closed file: ../../../Measurements/PenTest_AluminiumBeam3/ThresholdExtractionResults/II_1-20/24.bin"
       ]
      },
      {
       "output_type": "stream",
       "stream": "stdout",
       "text": [
        "\n",
        "Opening file: ../../../Measurements/PenTest_AluminiumBeam3/ThresholdExtractionResults/II_1-20/25.bin\n",
        "Closed file: ../../../Measurements/PenTest_AluminiumBeam3/ThresholdExtractionResults/II_1-20/25.bin"
       ]
      },
      {
       "output_type": "stream",
       "stream": "stdout",
       "text": [
        "\n",
        "Opening file: ../../../Measurements/PenTest_AluminiumBeam3/ThresholdExtractionResults/II_1-20/26.bin\n",
        "Closed file: ../../../Measurements/PenTest_AluminiumBeam3/ThresholdExtractionResults/II_1-20/26.bin"
       ]
      },
      {
       "output_type": "stream",
       "stream": "stdout",
       "text": [
        "\n",
        "Opening file: ../../../Measurements/PenTest_AluminiumBeam3/ThresholdExtractionResults/II_1-20/27.bin\n",
        "Closed file: ../../../Measurements/PenTest_AluminiumBeam3/ThresholdExtractionResults/II_1-20/27.bin"
       ]
      },
      {
       "output_type": "stream",
       "stream": "stdout",
       "text": [
        "\n",
        "Opening file: ../../../Measurements/PenTest_AluminiumBeam3/ThresholdExtractionResults/II_1-20/28.bin\n",
        "Closed file: ../../../Measurements/PenTest_AluminiumBeam3/ThresholdExtractionResults/II_1-20/28.bin"
       ]
      },
      {
       "output_type": "stream",
       "stream": "stdout",
       "text": [
        "\n",
        "Opening file: ../../../Measurements/PenTest_AluminiumBeam3/ThresholdExtractionResults/II_1-20/29.bin\n",
        "Closed file: ../../../Measurements/PenTest_AluminiumBeam3/ThresholdExtractionResults/II_1-20/29.bin"
       ]
      },
      {
       "output_type": "stream",
       "stream": "stdout",
       "text": [
        "\n",
        "Opening file: ../../../Measurements/PenTest_AluminiumBeam3/ThresholdExtractionResults/II_1-20/30.bin\n",
        "Closed file: ../../../Measurements/PenTest_AluminiumBeam3/ThresholdExtractionResults/II_1-20/30.bin"
       ]
      },
      {
       "output_type": "stream",
       "stream": "stdout",
       "text": [
        "\n",
        "Opening file: ../../../Measurements/PenTest_AluminiumBeam3/ThresholdExtractionResults/II_1-20/31.bin\n",
        "Closed file: ../../../Measurements/PenTest_AluminiumBeam3/ThresholdExtractionResults/II_1-20/31.bin"
       ]
      },
      {
       "output_type": "stream",
       "stream": "stdout",
       "text": [
        "\n",
        "Opening file: ../../../Measurements/PenTest_AluminiumBeam3/ThresholdExtractionResults/II_1-20/32.bin\n",
        "Closed file: ../../../Measurements/PenTest_AluminiumBeam3/ThresholdExtractionResults/II_1-20/32.bin"
       ]
      },
      {
       "output_type": "stream",
       "stream": "stdout",
       "text": [
        "\n",
        "Opening file: ../../../Measurements/PenTest_AluminiumBeam3/ThresholdExtractionResults/II_1-20/33.bin\n",
        "Closed file: ../../../Measurements/PenTest_AluminiumBeam3/ThresholdExtractionResults/II_1-20/33.bin"
       ]
      },
      {
       "output_type": "stream",
       "stream": "stdout",
       "text": [
        "\n",
        "Opening file: ../../../Measurements/PenTest_AluminiumBeam3/ThresholdExtractionResults/II_1-20/34.bin\n",
        "Closed file: ../../../Measurements/PenTest_AluminiumBeam3/ThresholdExtractionResults/II_1-20/34.bin"
       ]
      },
      {
       "output_type": "stream",
       "stream": "stdout",
       "text": [
        "\n",
        "Opening file: ../../../Measurements/PenTest_AluminiumBeam3/ThresholdExtractionResults/II_1-20/35.bin\n",
        "Closed file: ../../../Measurements/PenTest_AluminiumBeam3/ThresholdExtractionResults/II_1-20/35.bin"
       ]
      },
      {
       "output_type": "stream",
       "stream": "stdout",
       "text": [
        "\n",
        "Opening file: ../../../Measurements/PenTest_AluminiumBeam3/ThresholdExtractionResults/II_1-20/36.bin\n",
        "Closed file: ../../../Measurements/PenTest_AluminiumBeam3/ThresholdExtractionResults/II_1-20/36.bin"
       ]
      },
      {
       "output_type": "stream",
       "stream": "stdout",
       "text": [
        "\n",
        "Opening file: ../../../Measurements/PenTest_AluminiumBeam3/ThresholdExtractionResults/II_1-20/37.bin\n",
        "Closed file: ../../../Measurements/PenTest_AluminiumBeam3/ThresholdExtractionResults/II_1-20/37.bin"
       ]
      },
      {
       "output_type": "stream",
       "stream": "stdout",
       "text": [
        "\n",
        "Opening file: ../../../Measurements/PenTest_AluminiumBeam3/ThresholdExtractionResults/II_1-20/38.bin\n",
        "Closed file: ../../../Measurements/PenTest_AluminiumBeam3/ThresholdExtractionResults/II_1-20/38.bin"
       ]
      },
      {
       "output_type": "stream",
       "stream": "stdout",
       "text": [
        "\n",
        "Opening file: ../../../Measurements/PenTest_AluminiumBeam3/ThresholdExtractionResults/II_1-20/39.bin\n",
        "Closed file: ../../../Measurements/PenTest_AluminiumBeam3/ThresholdExtractionResults/II_1-20/39.bin"
       ]
      },
      {
       "output_type": "stream",
       "stream": "stdout",
       "text": [
        "\n",
        "Opening file: ../../../Measurements/PenTest_AluminiumBeam3/ThresholdExtractionResults/II_1-20/40.bin\n",
        "Closed file: ../../../Measurements/PenTest_AluminiumBeam3/ThresholdExtractionResults/II_1-20/40.bin"
       ]
      },
      {
       "output_type": "stream",
       "stream": "stdout",
       "text": [
        "\n",
        "Opening file: ../../../Measurements/PenTest_AluminiumBeam3/ThresholdExtractionResults/III_20-1/41.bin\n",
        "Closed file: ../../../Measurements/PenTest_AluminiumBeam3/ThresholdExtractionResults/III_20-1/41.bin"
       ]
      },
      {
       "output_type": "stream",
       "stream": "stdout",
       "text": [
        "\n",
        "Opening file: ../../../Measurements/PenTest_AluminiumBeam3/ThresholdExtractionResults/III_20-1/42.bin\n",
        "Closed file: ../../../Measurements/PenTest_AluminiumBeam3/ThresholdExtractionResults/III_20-1/42.bin"
       ]
      },
      {
       "output_type": "stream",
       "stream": "stdout",
       "text": [
        "\n",
        "Opening file: ../../../Measurements/PenTest_AluminiumBeam3/ThresholdExtractionResults/III_20-1/43.bin\n",
        "Closed file: ../../../Measurements/PenTest_AluminiumBeam3/ThresholdExtractionResults/III_20-1/43.bin"
       ]
      },
      {
       "output_type": "stream",
       "stream": "stdout",
       "text": [
        "\n",
        "Opening file: ../../../Measurements/PenTest_AluminiumBeam3/ThresholdExtractionResults/III_20-1/44.bin\n",
        "Closed file: ../../../Measurements/PenTest_AluminiumBeam3/ThresholdExtractionResults/III_20-1/44.bin"
       ]
      },
      {
       "output_type": "stream",
       "stream": "stdout",
       "text": [
        "\n",
        "Opening file: ../../../Measurements/PenTest_AluminiumBeam3/ThresholdExtractionResults/III_20-1/45.bin\n",
        "Closed file: ../../../Measurements/PenTest_AluminiumBeam3/ThresholdExtractionResults/III_20-1/45.bin"
       ]
      },
      {
       "output_type": "stream",
       "stream": "stdout",
       "text": [
        "\n",
        "Opening file: ../../../Measurements/PenTest_AluminiumBeam3/ThresholdExtractionResults/III_20-1/46.bin\n",
        "Closed file: ../../../Measurements/PenTest_AluminiumBeam3/ThresholdExtractionResults/III_20-1/46.bin"
       ]
      },
      {
       "output_type": "stream",
       "stream": "stdout",
       "text": [
        "\n",
        "Opening file: ../../../Measurements/PenTest_AluminiumBeam3/ThresholdExtractionResults/III_20-1/47.bin\n",
        "Closed file: ../../../Measurements/PenTest_AluminiumBeam3/ThresholdExtractionResults/III_20-1/47.bin"
       ]
      },
      {
       "output_type": "stream",
       "stream": "stdout",
       "text": [
        "\n",
        "Opening file: ../../../Measurements/PenTest_AluminiumBeam3/ThresholdExtractionResults/III_20-1/48.bin\n",
        "Closed file: ../../../Measurements/PenTest_AluminiumBeam3/ThresholdExtractionResults/III_20-1/48.bin"
       ]
      },
      {
       "output_type": "stream",
       "stream": "stdout",
       "text": [
        "\n",
        "Opening file: ../../../Measurements/PenTest_AluminiumBeam3/ThresholdExtractionResults/III_20-1/49.bin\n",
        "Closed file: ../../../Measurements/PenTest_AluminiumBeam3/ThresholdExtractionResults/III_20-1/49.bin"
       ]
      },
      {
       "output_type": "stream",
       "stream": "stdout",
       "text": [
        "\n",
        "Opening file: ../../../Measurements/PenTest_AluminiumBeam3/ThresholdExtractionResults/III_20-1/50.bin\n",
        "Closed file: ../../../Measurements/PenTest_AluminiumBeam3/ThresholdExtractionResults/III_20-1/50.bin"
       ]
      },
      {
       "output_type": "stream",
       "stream": "stdout",
       "text": [
        "\n",
        "Opening file: ../../../Measurements/PenTest_AluminiumBeam3/ThresholdExtractionResults/III_20-1/51.bin\n",
        "Closed file: ../../../Measurements/PenTest_AluminiumBeam3/ThresholdExtractionResults/III_20-1/51.bin"
       ]
      },
      {
       "output_type": "stream",
       "stream": "stdout",
       "text": [
        "\n",
        "Opening file: ../../../Measurements/PenTest_AluminiumBeam3/ThresholdExtractionResults/III_20-1/52.bin\n",
        "Closed file: ../../../Measurements/PenTest_AluminiumBeam3/ThresholdExtractionResults/III_20-1/52.bin"
       ]
      },
      {
       "output_type": "stream",
       "stream": "stdout",
       "text": [
        "\n",
        "Opening file: ../../../Measurements/PenTest_AluminiumBeam3/ThresholdExtractionResults/III_20-1/53.bin\n",
        "Closed file: ../../../Measurements/PenTest_AluminiumBeam3/ThresholdExtractionResults/III_20-1/53.bin"
       ]
      },
      {
       "output_type": "stream",
       "stream": "stdout",
       "text": [
        "\n",
        "Opening file: ../../../Measurements/PenTest_AluminiumBeam3/ThresholdExtractionResults/III_20-1/54.bin\n",
        "Closed file: ../../../Measurements/PenTest_AluminiumBeam3/ThresholdExtractionResults/III_20-1/54.bin"
       ]
      },
      {
       "output_type": "stream",
       "stream": "stdout",
       "text": [
        "\n",
        "Opening file: ../../../Measurements/PenTest_AluminiumBeam3/ThresholdExtractionResults/III_20-1/55.bin\n",
        "Closed file: ../../../Measurements/PenTest_AluminiumBeam3/ThresholdExtractionResults/III_20-1/55.bin"
       ]
      },
      {
       "output_type": "stream",
       "stream": "stdout",
       "text": [
        "\n",
        "Opening file: ../../../Measurements/PenTest_AluminiumBeam3/ThresholdExtractionResults/III_20-1/56.bin\n",
        "Closed file: ../../../Measurements/PenTest_AluminiumBeam3/ThresholdExtractionResults/III_20-1/56.bin"
       ]
      },
      {
       "output_type": "stream",
       "stream": "stdout",
       "text": [
        "\n",
        "Opening file: ../../../Measurements/PenTest_AluminiumBeam3/ThresholdExtractionResults/III_20-1/57.bin\n",
        "Closed file: ../../../Measurements/PenTest_AluminiumBeam3/ThresholdExtractionResults/III_20-1/57.bin"
       ]
      },
      {
       "output_type": "stream",
       "stream": "stdout",
       "text": [
        "\n",
        "Opening file: ../../../Measurements/PenTest_AluminiumBeam3/ThresholdExtractionResults/III_20-1/58.bin\n",
        "Closed file: ../../../Measurements/PenTest_AluminiumBeam3/ThresholdExtractionResults/III_20-1/58.bin"
       ]
      },
      {
       "output_type": "stream",
       "stream": "stdout",
       "text": [
        "\n",
        "Opening file: ../../../Measurements/PenTest_AluminiumBeam3/ThresholdExtractionResults/III_20-1/60.bin\n",
        "Closed file: ../../../Measurements/PenTest_AluminiumBeam3/ThresholdExtractionResults/III_20-1/60.bin"
       ]
      },
      {
       "output_type": "stream",
       "stream": "stdout",
       "text": [
        "\n"
       ]
      }
     ],
     "prompt_number": 6
    },
    {
     "cell_type": "heading",
     "level": 1,
     "metadata": {},
     "source": [
      "Plot data"
     ]
    },
    {
     "cell_type": "heading",
     "level": 2,
     "metadata": {},
     "source": [
      "AE measurements"
     ]
    },
    {
     "cell_type": "markdown",
     "metadata": {},
     "source": [
      "Plot AE data in separate axes."
     ]
    },
    {
     "cell_type": "code",
     "collapsed": false,
     "input": [
      "from helperfuncs.PlotAEMeas import PlotAEMeas\n",
      "\n",
      "PlotAEMeas(y_I,   y2_I,   AE_start_I,   AE_start2_I,   T_I,   fnames_I,   positions_I)\n",
      "PlotAEMeas(y_II,  y2_II,  AE_start_II,  AE_start2_II,  T_II,  fnames_II,  positions_II)\n",
      "PlotAEMeas(y_III, y2_III, AE_start_III, AE_start2_III, T_III, fnames_III, positions_III)"
     ],
     "language": "python",
     "metadata": {},
     "outputs": [],
     "prompt_number": 7
    },
    {
     "cell_type": "heading",
     "level": 2,
     "metadata": {},
     "source": [
      "Time Difference of Arrival (TDOA)"
     ]
    },
    {
     "cell_type": "markdown",
     "metadata": {},
     "source": [
      "Plot time difference of arrival with respect to positions."
     ]
    },
    {
     "cell_type": "code",
     "collapsed": false,
     "input": [
      "from helperfuncs.PlotTDOAvsPos import PlotTDOAvsPos\n",
      "\n",
      "PlotTDOAvsPos(AE_start_I,   AE_start2_I,   positions_I)\n",
      "PlotTDOAvsPos(AE_start_II,  AE_start2_II,  positions_II)\n",
      "PlotTDOAvsPos(AE_start_III, AE_start2_III, positions_III)"
     ],
     "language": "python",
     "metadata": {},
     "outputs": [],
     "prompt_number": 8
    },
    {
     "cell_type": "markdown",
     "metadata": {},
     "source": [
      "Plot time difference of arrival with respect to actual distances."
     ]
    },
    {
     "cell_type": "code",
     "collapsed": false,
     "input": [
      "from helperfuncs.CalculateTheoreticalTDOA import CalculateTheoreticalTDOA\n",
      "\n",
      "dist_diff_I,   TD_theory_I,   v_I   = CalculateTheoreticalTDOA(positions_I)\n",
      "dist_diff_II,  TD_theory_II,  v_II  = CalculateTheoreticalTDOA(positions_II)\n",
      "dist_diff_III, TD_theory_III, v_III = CalculateTheoreticalTDOA(positions_III)"
     ],
     "language": "python",
     "metadata": {},
     "outputs": [],
     "prompt_number": 9
    },
    {
     "cell_type": "code",
     "collapsed": false,
     "input": [
      "from helperfuncs.PlotTDOAvsDist import PlotTDOAvsDist\n",
      "\n",
      "PlotTDOAvsDist(AE_start_I,   AE_start2_I,   TD_theory_I,   dist_diff_I,   v_I)\n",
      "PlotTDOAvsDist(AE_start_II,  AE_start2_II,  TD_theory_II,  dist_diff_II,  v_II)\n",
      "PlotTDOAvsDist(AE_start_III, AE_start2_III, TD_theory_III, dist_diff_III, v_III)"
     ],
     "language": "python",
     "metadata": {},
     "outputs": [],
     "prompt_number": 10
    },
    {
     "cell_type": "code",
     "collapsed": false,
     "input": [],
     "language": "python",
     "metadata": {},
     "outputs": []
    }
   ],
   "metadata": {}
  }
 ]
}
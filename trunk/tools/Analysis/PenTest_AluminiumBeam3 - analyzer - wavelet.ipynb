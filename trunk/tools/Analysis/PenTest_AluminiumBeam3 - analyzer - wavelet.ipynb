{
 "metadata": {
  "name": "PenTest_AluminiumBeam3 - analyzer - wavelet"
 },
 "nbformat": 3,
 "nbformat_minor": 0,
 "worksheets": [
  {
   "cells": [
    {
     "cell_type": "heading",
     "level": 1,
     "metadata": {},
     "source": [
      "Read in preprocessed raw data"
     ]
    },
    {
     "cell_type": "markdown",
     "metadata": {},
     "source": [
      "First let's read in the data from PenTest_AluminiumBeam3 measurement. Note that the threshold filter has already filtered out the frames with signals in them."
     ]
    },
    {
     "cell_type": "code",
     "collapsed": false,
     "input": [
      "from helperfuncs.ReadAEMeas import ReadAEMeas\n",
      "\n",
      "dir = '../../../Measurements/PenTest_AluminiumBeam3/ThresholdExtractionResults/I_20-1'\n",
      "y_I, y2_I, T_I, fnames_I = ReadAEMeas(dir)\n",
      "positions_I = [20,19,18,17,16,15,14,13,12,11,9,8,7,6,5,4,3,2,1]\n",
      "\n",
      "\n",
      "dir = '../../../Measurements/PenTest_AluminiumBeam3/ThresholdExtractionResults/II_1-20'\n",
      "y_II, y2_II, T_II, fnames_II = ReadAEMeas(dir)\n",
      "positions_II = [1,2,3,4,5,6,7,8,9,10,11,12,13,14,15,16,17,18,19,20]\n",
      "\n",
      "\n",
      "dir = '../../../Measurements/PenTest_AluminiumBeam3/ThresholdExtractionResults/III_20-1'\n",
      "y_III, y2_III, T_III, fnames_III = ReadAEMeas(dir)\n",
      "positions_III = [20,19,18,17,16,15,14,13,12,11,10,9,8,7,6,5,4,3,1]"
     ],
     "language": "python",
     "metadata": {},
     "outputs": [
      {
       "output_type": "stream",
       "stream": "stdout",
       "text": [
        "Module folder added to system path\n",
        "Opening file: ../../../Measurements/PenTest_AluminiumBeam3/ThresholdExtractionResults/I_20-1/1.bin\n",
        "Closed file: ../../../Measurements/PenTest_AluminiumBeam3/ThresholdExtractionResults/I_20-1/1.bin"
       ]
      },
      {
       "output_type": "stream",
       "stream": "stdout",
       "text": [
        "\n",
        "Opening file: ../../../Measurements/PenTest_AluminiumBeam3/ThresholdExtractionResults/I_20-1/2.bin\n",
        "Closed file: ../../../Measurements/PenTest_AluminiumBeam3/ThresholdExtractionResults/I_20-1/2.bin"
       ]
      },
      {
       "output_type": "stream",
       "stream": "stdout",
       "text": [
        "\n",
        "Opening file: ../../../Measurements/PenTest_AluminiumBeam3/ThresholdExtractionResults/I_20-1/3.bin\n",
        "Closed file: ../../../Measurements/PenTest_AluminiumBeam3/ThresholdExtractionResults/I_20-1/3.bin"
       ]
      },
      {
       "output_type": "stream",
       "stream": "stdout",
       "text": [
        "\n",
        "Opening file: ../../../Measurements/PenTest_AluminiumBeam3/ThresholdExtractionResults/I_20-1/4.bin\n",
        "Closed file: ../../../Measurements/PenTest_AluminiumBeam3/ThresholdExtractionResults/I_20-1/4.bin"
       ]
      },
      {
       "output_type": "stream",
       "stream": "stdout",
       "text": [
        "\n",
        "Opening file: ../../../Measurements/PenTest_AluminiumBeam3/ThresholdExtractionResults/I_20-1/5.bin\n",
        "Closed file: ../../../Measurements/PenTest_AluminiumBeam3/ThresholdExtractionResults/I_20-1/5.bin"
       ]
      },
      {
       "output_type": "stream",
       "stream": "stdout",
       "text": [
        "\n",
        "Opening file: ../../../Measurements/PenTest_AluminiumBeam3/ThresholdExtractionResults/I_20-1/6.bin\n",
        "Closed file: ../../../Measurements/PenTest_AluminiumBeam3/ThresholdExtractionResults/I_20-1/6.bin"
       ]
      },
      {
       "output_type": "stream",
       "stream": "stdout",
       "text": [
        "\n",
        "Opening file: ../../../Measurements/PenTest_AluminiumBeam3/ThresholdExtractionResults/I_20-1/7.bin\n",
        "Closed file: ../../../Measurements/PenTest_AluminiumBeam3/ThresholdExtractionResults/I_20-1/7.bin"
       ]
      },
      {
       "output_type": "stream",
       "stream": "stdout",
       "text": [
        "\n",
        "Opening file: ../../../Measurements/PenTest_AluminiumBeam3/ThresholdExtractionResults/I_20-1/8.bin\n",
        "Closed file: ../../../Measurements/PenTest_AluminiumBeam3/ThresholdExtractionResults/I_20-1/8.bin"
       ]
      },
      {
       "output_type": "stream",
       "stream": "stdout",
       "text": [
        "\n",
        "Opening file: ../../../Measurements/PenTest_AluminiumBeam3/ThresholdExtractionResults/I_20-1/9.bin\n",
        "Closed file: ../../../Measurements/PenTest_AluminiumBeam3/ThresholdExtractionResults/I_20-1/9.bin"
       ]
      },
      {
       "output_type": "stream",
       "stream": "stdout",
       "text": [
        "\n",
        "Opening file: ../../../Measurements/PenTest_AluminiumBeam3/ThresholdExtractionResults/I_20-1/10.bin\n",
        "Closed file: ../../../Measurements/PenTest_AluminiumBeam3/ThresholdExtractionResults/I_20-1/10.bin"
       ]
      },
      {
       "output_type": "stream",
       "stream": "stdout",
       "text": [
        "\n",
        "Opening file: ../../../Measurements/PenTest_AluminiumBeam3/ThresholdExtractionResults/I_20-1/12.bin\n",
        "Closed file: ../../../Measurements/PenTest_AluminiumBeam3/ThresholdExtractionResults/I_20-1/12.bin"
       ]
      },
      {
       "output_type": "stream",
       "stream": "stdout",
       "text": [
        "\n",
        "Opening file: ../../../Measurements/PenTest_AluminiumBeam3/ThresholdExtractionResults/I_20-1/13.bin\n",
        "Closed file: ../../../Measurements/PenTest_AluminiumBeam3/ThresholdExtractionResults/I_20-1/13.bin"
       ]
      },
      {
       "output_type": "stream",
       "stream": "stdout",
       "text": [
        "\n",
        "Opening file: ../../../Measurements/PenTest_AluminiumBeam3/ThresholdExtractionResults/I_20-1/14.bin\n",
        "Closed file: ../../../Measurements/PenTest_AluminiumBeam3/ThresholdExtractionResults/I_20-1/14.bin"
       ]
      },
      {
       "output_type": "stream",
       "stream": "stdout",
       "text": [
        "\n",
        "Opening file: ../../../Measurements/PenTest_AluminiumBeam3/ThresholdExtractionResults/I_20-1/15.bin\n",
        "Closed file: ../../../Measurements/PenTest_AluminiumBeam3/ThresholdExtractionResults/I_20-1/15.bin"
       ]
      },
      {
       "output_type": "stream",
       "stream": "stdout",
       "text": [
        "\n",
        "Opening file: ../../../Measurements/PenTest_AluminiumBeam3/ThresholdExtractionResults/I_20-1/16.bin\n",
        "Closed file: ../../../Measurements/PenTest_AluminiumBeam3/ThresholdExtractionResults/I_20-1/16.bin"
       ]
      },
      {
       "output_type": "stream",
       "stream": "stdout",
       "text": [
        "\n",
        "Opening file: ../../../Measurements/PenTest_AluminiumBeam3/ThresholdExtractionResults/I_20-1/17.bin\n",
        "Closed file: ../../../Measurements/PenTest_AluminiumBeam3/ThresholdExtractionResults/I_20-1/17.bin"
       ]
      },
      {
       "output_type": "stream",
       "stream": "stdout",
       "text": [
        "\n",
        "Opening file: ../../../Measurements/PenTest_AluminiumBeam3/ThresholdExtractionResults/I_20-1/18.bin\n",
        "Closed file: ../../../Measurements/PenTest_AluminiumBeam3/ThresholdExtractionResults/I_20-1/18.bin"
       ]
      },
      {
       "output_type": "stream",
       "stream": "stdout",
       "text": [
        "\n",
        "Opening file: ../../../Measurements/PenTest_AluminiumBeam3/ThresholdExtractionResults/I_20-1/19.bin\n",
        "Closed file: ../../../Measurements/PenTest_AluminiumBeam3/ThresholdExtractionResults/I_20-1/19.bin"
       ]
      },
      {
       "output_type": "stream",
       "stream": "stdout",
       "text": [
        "\n",
        "Opening file: ../../../Measurements/PenTest_AluminiumBeam3/ThresholdExtractionResults/I_20-1/20.bin\n",
        "Closed file: ../../../Measurements/PenTest_AluminiumBeam3/ThresholdExtractionResults/I_20-1/20.bin"
       ]
      },
      {
       "output_type": "stream",
       "stream": "stdout",
       "text": [
        "\n",
        "Opening file: ../../../Measurements/PenTest_AluminiumBeam3/ThresholdExtractionResults/II_1-20/21.bin\n",
        "Closed file: ../../../Measurements/PenTest_AluminiumBeam3/ThresholdExtractionResults/II_1-20/21.bin"
       ]
      },
      {
       "output_type": "stream",
       "stream": "stdout",
       "text": [
        "\n",
        "Opening file: ../../../Measurements/PenTest_AluminiumBeam3/ThresholdExtractionResults/II_1-20/22.bin\n",
        "Closed file: ../../../Measurements/PenTest_AluminiumBeam3/ThresholdExtractionResults/II_1-20/22.bin"
       ]
      },
      {
       "output_type": "stream",
       "stream": "stdout",
       "text": [
        "\n",
        "Opening file: ../../../Measurements/PenTest_AluminiumBeam3/ThresholdExtractionResults/II_1-20/23.bin\n",
        "Closed file: ../../../Measurements/PenTest_AluminiumBeam3/ThresholdExtractionResults/II_1-20/23.bin"
       ]
      },
      {
       "output_type": "stream",
       "stream": "stdout",
       "text": [
        "\n",
        "Opening file: ../../../Measurements/PenTest_AluminiumBeam3/ThresholdExtractionResults/II_1-20/24.bin\n",
        "Closed file: ../../../Measurements/PenTest_AluminiumBeam3/ThresholdExtractionResults/II_1-20/24.bin"
       ]
      },
      {
       "output_type": "stream",
       "stream": "stdout",
       "text": [
        "\n",
        "Opening file: ../../../Measurements/PenTest_AluminiumBeam3/ThresholdExtractionResults/II_1-20/25.bin\n",
        "Closed file: ../../../Measurements/PenTest_AluminiumBeam3/ThresholdExtractionResults/II_1-20/25.bin"
       ]
      },
      {
       "output_type": "stream",
       "stream": "stdout",
       "text": [
        "\n",
        "Opening file: ../../../Measurements/PenTest_AluminiumBeam3/ThresholdExtractionResults/II_1-20/26.bin\n",
        "Closed file: ../../../Measurements/PenTest_AluminiumBeam3/ThresholdExtractionResults/II_1-20/26.bin"
       ]
      },
      {
       "output_type": "stream",
       "stream": "stdout",
       "text": [
        "\n",
        "Opening file: ../../../Measurements/PenTest_AluminiumBeam3/ThresholdExtractionResults/II_1-20/27.bin\n",
        "Closed file: ../../../Measurements/PenTest_AluminiumBeam3/ThresholdExtractionResults/II_1-20/27.bin"
       ]
      },
      {
       "output_type": "stream",
       "stream": "stdout",
       "text": [
        "\n",
        "Opening file: ../../../Measurements/PenTest_AluminiumBeam3/ThresholdExtractionResults/II_1-20/28.bin\n",
        "Closed file: ../../../Measurements/PenTest_AluminiumBeam3/ThresholdExtractionResults/II_1-20/28.bin"
       ]
      },
      {
       "output_type": "stream",
       "stream": "stdout",
       "text": [
        "\n",
        "Opening file: ../../../Measurements/PenTest_AluminiumBeam3/ThresholdExtractionResults/II_1-20/29.bin\n",
        "Closed file: ../../../Measurements/PenTest_AluminiumBeam3/ThresholdExtractionResults/II_1-20/29.bin"
       ]
      },
      {
       "output_type": "stream",
       "stream": "stdout",
       "text": [
        "\n",
        "Opening file: ../../../Measurements/PenTest_AluminiumBeam3/ThresholdExtractionResults/II_1-20/30.bin\n",
        "Closed file: ../../../Measurements/PenTest_AluminiumBeam3/ThresholdExtractionResults/II_1-20/30.bin"
       ]
      },
      {
       "output_type": "stream",
       "stream": "stdout",
       "text": [
        "\n",
        "Opening file: ../../../Measurements/PenTest_AluminiumBeam3/ThresholdExtractionResults/II_1-20/31.bin\n",
        "Closed file: ../../../Measurements/PenTest_AluminiumBeam3/ThresholdExtractionResults/II_1-20/31.bin"
       ]
      },
      {
       "output_type": "stream",
       "stream": "stdout",
       "text": [
        "\n",
        "Opening file: ../../../Measurements/PenTest_AluminiumBeam3/ThresholdExtractionResults/II_1-20/32.bin\n",
        "Closed file: ../../../Measurements/PenTest_AluminiumBeam3/ThresholdExtractionResults/II_1-20/32.bin"
       ]
      },
      {
       "output_type": "stream",
       "stream": "stdout",
       "text": [
        "\n",
        "Opening file: ../../../Measurements/PenTest_AluminiumBeam3/ThresholdExtractionResults/II_1-20/33.bin\n",
        "Closed file: ../../../Measurements/PenTest_AluminiumBeam3/ThresholdExtractionResults/II_1-20/33.bin"
       ]
      },
      {
       "output_type": "stream",
       "stream": "stdout",
       "text": [
        "\n",
        "Opening file: ../../../Measurements/PenTest_AluminiumBeam3/ThresholdExtractionResults/II_1-20/34.bin\n",
        "Closed file: ../../../Measurements/PenTest_AluminiumBeam3/ThresholdExtractionResults/II_1-20/34.bin"
       ]
      },
      {
       "output_type": "stream",
       "stream": "stdout",
       "text": [
        "\n",
        "Opening file: ../../../Measurements/PenTest_AluminiumBeam3/ThresholdExtractionResults/II_1-20/35.bin\n",
        "Closed file: ../../../Measurements/PenTest_AluminiumBeam3/ThresholdExtractionResults/II_1-20/35.bin"
       ]
      },
      {
       "output_type": "stream",
       "stream": "stdout",
       "text": [
        "\n",
        "Opening file: ../../../Measurements/PenTest_AluminiumBeam3/ThresholdExtractionResults/II_1-20/36.bin\n",
        "Closed file: ../../../Measurements/PenTest_AluminiumBeam3/ThresholdExtractionResults/II_1-20/36.bin"
       ]
      },
      {
       "output_type": "stream",
       "stream": "stdout",
       "text": [
        "\n",
        "Opening file: ../../../Measurements/PenTest_AluminiumBeam3/ThresholdExtractionResults/II_1-20/37.bin\n",
        "Closed file: ../../../Measurements/PenTest_AluminiumBeam3/ThresholdExtractionResults/II_1-20/37.bin"
       ]
      },
      {
       "output_type": "stream",
       "stream": "stdout",
       "text": [
        "\n",
        "Opening file: ../../../Measurements/PenTest_AluminiumBeam3/ThresholdExtractionResults/II_1-20/38.bin\n",
        "Closed file: ../../../Measurements/PenTest_AluminiumBeam3/ThresholdExtractionResults/II_1-20/38.bin"
       ]
      },
      {
       "output_type": "stream",
       "stream": "stdout",
       "text": [
        "\n",
        "Opening file: ../../../Measurements/PenTest_AluminiumBeam3/ThresholdExtractionResults/II_1-20/39.bin\n",
        "Closed file: ../../../Measurements/PenTest_AluminiumBeam3/ThresholdExtractionResults/II_1-20/39.bin"
       ]
      },
      {
       "output_type": "stream",
       "stream": "stdout",
       "text": [
        "\n",
        "Opening file: ../../../Measurements/PenTest_AluminiumBeam3/ThresholdExtractionResults/II_1-20/40.bin\n",
        "Closed file: ../../../Measurements/PenTest_AluminiumBeam3/ThresholdExtractionResults/II_1-20/40.bin"
       ]
      },
      {
       "output_type": "stream",
       "stream": "stdout",
       "text": [
        "\n",
        "Opening file: ../../../Measurements/PenTest_AluminiumBeam3/ThresholdExtractionResults/III_20-1/41.bin\n",
        "Closed file: ../../../Measurements/PenTest_AluminiumBeam3/ThresholdExtractionResults/III_20-1/41.bin"
       ]
      },
      {
       "output_type": "stream",
       "stream": "stdout",
       "text": [
        "\n",
        "Opening file: ../../../Measurements/PenTest_AluminiumBeam3/ThresholdExtractionResults/III_20-1/42.bin\n",
        "Closed file: ../../../Measurements/PenTest_AluminiumBeam3/ThresholdExtractionResults/III_20-1/42.bin"
       ]
      },
      {
       "output_type": "stream",
       "stream": "stdout",
       "text": [
        "\n",
        "Opening file: ../../../Measurements/PenTest_AluminiumBeam3/ThresholdExtractionResults/III_20-1/43.bin\n",
        "Closed file: ../../../Measurements/PenTest_AluminiumBeam3/ThresholdExtractionResults/III_20-1/43.bin"
       ]
      },
      {
       "output_type": "stream",
       "stream": "stdout",
       "text": [
        "\n",
        "Opening file: ../../../Measurements/PenTest_AluminiumBeam3/ThresholdExtractionResults/III_20-1/44.bin\n",
        "Closed file: ../../../Measurements/PenTest_AluminiumBeam3/ThresholdExtractionResults/III_20-1/44.bin"
       ]
      },
      {
       "output_type": "stream",
       "stream": "stdout",
       "text": [
        "\n",
        "Opening file: ../../../Measurements/PenTest_AluminiumBeam3/ThresholdExtractionResults/III_20-1/45.bin\n",
        "Closed file: ../../../Measurements/PenTest_AluminiumBeam3/ThresholdExtractionResults/III_20-1/45.bin"
       ]
      },
      {
       "output_type": "stream",
       "stream": "stdout",
       "text": [
        "\n",
        "Opening file: ../../../Measurements/PenTest_AluminiumBeam3/ThresholdExtractionResults/III_20-1/46.bin\n",
        "Closed file: ../../../Measurements/PenTest_AluminiumBeam3/ThresholdExtractionResults/III_20-1/46.bin"
       ]
      },
      {
       "output_type": "stream",
       "stream": "stdout",
       "text": [
        "\n",
        "Opening file: ../../../Measurements/PenTest_AluminiumBeam3/ThresholdExtractionResults/III_20-1/47.bin\n",
        "Closed file: ../../../Measurements/PenTest_AluminiumBeam3/ThresholdExtractionResults/III_20-1/47.bin"
       ]
      },
      {
       "output_type": "stream",
       "stream": "stdout",
       "text": [
        "\n",
        "Opening file: ../../../Measurements/PenTest_AluminiumBeam3/ThresholdExtractionResults/III_20-1/48.bin\n",
        "Closed file: ../../../Measurements/PenTest_AluminiumBeam3/ThresholdExtractionResults/III_20-1/48.bin"
       ]
      },
      {
       "output_type": "stream",
       "stream": "stdout",
       "text": [
        "\n",
        "Opening file: ../../../Measurements/PenTest_AluminiumBeam3/ThresholdExtractionResults/III_20-1/49.bin\n",
        "Closed file: ../../../Measurements/PenTest_AluminiumBeam3/ThresholdExtractionResults/III_20-1/49.bin"
       ]
      },
      {
       "output_type": "stream",
       "stream": "stdout",
       "text": [
        "\n",
        "Opening file: ../../../Measurements/PenTest_AluminiumBeam3/ThresholdExtractionResults/III_20-1/50.bin\n",
        "Closed file: ../../../Measurements/PenTest_AluminiumBeam3/ThresholdExtractionResults/III_20-1/50.bin"
       ]
      },
      {
       "output_type": "stream",
       "stream": "stdout",
       "text": [
        "\n",
        "Opening file: ../../../Measurements/PenTest_AluminiumBeam3/ThresholdExtractionResults/III_20-1/51.bin\n",
        "Closed file: ../../../Measurements/PenTest_AluminiumBeam3/ThresholdExtractionResults/III_20-1/51.bin"
       ]
      },
      {
       "output_type": "stream",
       "stream": "stdout",
       "text": [
        "\n",
        "Opening file: ../../../Measurements/PenTest_AluminiumBeam3/ThresholdExtractionResults/III_20-1/52.bin\n",
        "Closed file: ../../../Measurements/PenTest_AluminiumBeam3/ThresholdExtractionResults/III_20-1/52.bin"
       ]
      },
      {
       "output_type": "stream",
       "stream": "stdout",
       "text": [
        "\n",
        "Opening file: ../../../Measurements/PenTest_AluminiumBeam3/ThresholdExtractionResults/III_20-1/53.bin\n",
        "Closed file: ../../../Measurements/PenTest_AluminiumBeam3/ThresholdExtractionResults/III_20-1/53.bin"
       ]
      },
      {
       "output_type": "stream",
       "stream": "stdout",
       "text": [
        "\n",
        "Opening file: ../../../Measurements/PenTest_AluminiumBeam3/ThresholdExtractionResults/III_20-1/54.bin\n",
        "Closed file: ../../../Measurements/PenTest_AluminiumBeam3/ThresholdExtractionResults/III_20-1/54.bin"
       ]
      },
      {
       "output_type": "stream",
       "stream": "stdout",
       "text": [
        "\n",
        "Opening file: ../../../Measurements/PenTest_AluminiumBeam3/ThresholdExtractionResults/III_20-1/55.bin\n",
        "Closed file: ../../../Measurements/PenTest_AluminiumBeam3/ThresholdExtractionResults/III_20-1/55.bin"
       ]
      },
      {
       "output_type": "stream",
       "stream": "stdout",
       "text": [
        "\n",
        "Opening file: ../../../Measurements/PenTest_AluminiumBeam3/ThresholdExtractionResults/III_20-1/56.bin\n",
        "Closed file: ../../../Measurements/PenTest_AluminiumBeam3/ThresholdExtractionResults/III_20-1/56.bin"
       ]
      },
      {
       "output_type": "stream",
       "stream": "stdout",
       "text": [
        "\n",
        "Opening file: ../../../Measurements/PenTest_AluminiumBeam3/ThresholdExtractionResults/III_20-1/57.bin\n",
        "Closed file: ../../../Measurements/PenTest_AluminiumBeam3/ThresholdExtractionResults/III_20-1/57.bin"
       ]
      },
      {
       "output_type": "stream",
       "stream": "stdout",
       "text": [
        "\n",
        "Opening file: ../../../Measurements/PenTest_AluminiumBeam3/ThresholdExtractionResults/III_20-1/58.bin\n",
        "Closed file: ../../../Measurements/PenTest_AluminiumBeam3/ThresholdExtractionResults/III_20-1/58.bin"
       ]
      },
      {
       "output_type": "stream",
       "stream": "stdout",
       "text": [
        "\n",
        "Opening file: ../../../Measurements/PenTest_AluminiumBeam3/ThresholdExtractionResults/III_20-1/60.bin\n",
        "Closed file: ../../../Measurements/PenTest_AluminiumBeam3/ThresholdExtractionResults/III_20-1/60.bin"
       ]
      },
      {
       "output_type": "stream",
       "stream": "stdout",
       "text": [
        "\n"
       ]
      }
     ],
     "prompt_number": 1
    },
    {
     "cell_type": "heading",
     "level": 1,
     "metadata": {},
     "source": [
      "Spectrogram of one measurement"
     ]
    },
    {
     "cell_type": "code",
     "collapsed": false,
     "input": [
      "from helperfuncs.PlotSpecgram import PlotSpecgram\n",
      "\n",
      "y = y2_I[3]\n",
      "Fs = 750e3\n",
      "\n",
      "PlotSpecgram(y, Fs)"
     ],
     "language": "python",
     "metadata": {},
     "outputs": [],
     "prompt_number": 2
    },
    {
     "cell_type": "heading",
     "level": 1,
     "metadata": {},
     "source": [
      "Wavelet"
     ]
    },
    {
     "cell_type": "markdown",
     "metadata": {},
     "source": [
      "The number of samples should be $2^n$."
     ]
    },
    {
     "cell_type": "code",
     "collapsed": false,
     "input": [
      "ii = 0\n",
      "while 2**ii <= y_I[0].size :\n",
      "    ii = ii+1\n",
      "    \n",
      "new_end = 2**(ii-1)-1\n",
      "\n",
      "y_I[0] = y_I[0][0:new_end]\n",
      "y2_I[0] = y2_I[0][0:new_end]"
     ],
     "language": "python",
     "metadata": {},
     "outputs": [],
     "prompt_number": 2
    },
    {
     "cell_type": "code",
     "collapsed": false,
     "input": [
      "import pywt\n",
      "print pywt.families()\n",
      "\n",
      "w = pywt.Wavelet('haar')\n",
      "\n",
      "c = pywt.wavedec(y_I[0], w, mode='sym')\n",
      "c2 = pywt.wavedec(y2_I[0], w, mode='sym')"
     ],
     "language": "python",
     "metadata": {},
     "outputs": [
      {
       "output_type": "stream",
       "stream": "stdout",
       "text": [
        "['haar', 'db', 'sym', 'coif', 'bior', 'rbio', 'dmey']\n"
       ]
      }
     ],
     "prompt_number": 3
    },
    {
     "cell_type": "code",
     "collapsed": false,
     "input": [
      "import matplotlib.widgets as widgets\n",
      "\n",
      "Ts = 1/750e3 * 1e6\n",
      "\n",
      "fig, axarr = plt.subplots(len(c)+1, 1, sharex=True, sharey=False )\n",
      "\n",
      "time = np.arange(0, y_I[0].size)*Ts  \n",
      "#axarr[0].plot(time, y_I[0], '.-')\n",
      "axarr[0].step(time, y_I[0], where='post')\n",
      "for ii in xrange(len(c)) :\n",
      "    start_t = w.dec_len * Ts / 2\n",
      "    if ii < len(c)-1 :\n",
      "        Ts = Ts*2\n",
      "    time = (np.arange(0, c[-ii-1].size))*Ts #- start_t      \n",
      "    axarr[ii+1].step(time, c[-ii-1], '.-', where='post')\n",
      "axarr[0].set_xlim(0, 1000)\n",
      "\n",
      "multi = widgets.MultiCursor(fig.canvas, axarr, color='red', lw=2)  \n"
     ],
     "language": "python",
     "metadata": {},
     "outputs": [],
     "prompt_number": 4
    },
    {
     "cell_type": "code",
     "collapsed": false,
     "input": [
      "fig, axarr = plt.subplots(len(c2)+1, 1, sharex=True, sharey=True ) \n",
      "\n",
      "time_end = y2_I[0].size * 1/750e3\n",
      "time = np.arange(0, y2_I[0].size)*time_end/y2_I[0].size\n",
      "axarr[0].plot(time, y2_I[0], '.-')\n",
      "for ii in xrange(len(c2)) :\n",
      "    time = np.arange(0, c2[ii].size)*time_end/c2[ii].size \n",
      "    axarr[ii+1].plot(time, c2[ii], '.-')    \n",
      "#xarr[0].set_xlim(0.0002, 0.0008)\n",
      "\n",
      "multi2= widgets.MultiCursor(fig.canvas, axarr, color='red', lw=2)"
     ],
     "language": "python",
     "metadata": {},
     "outputs": [],
     "prompt_number": 5
    },
    {
     "cell_type": "code",
     "collapsed": false,
     "input": [
      "import numpy as np\n",
      "import matplotlib.pyplot as plt\n",
      "\n",
      "def func1(N, c, Fs) :\n",
      "    f = [0]\n",
      "    for ii in xrange(len(c)) :\n",
      "        f.append(f[-1] + Fs * len(c[ii]) / N)\n",
      "                 \n",
      "    t = np.arange(N+1)/Fs\n",
      "    return f, t\n",
      "\n",
      "\n",
      "def func(f, t, c) :\n",
      "    X, Y = np.meshgrid(t, f)\n",
      "    \n",
      "    rows, columns = X.shape\n",
      "    rows = rows - 1\n",
      "    columns = columns - 1\n",
      "    \n",
      "    res = np.zeros( (rows, columns) )\n",
      "        \n",
      "    for row in xrange(rows) :\n",
      "        for column in xrange(columns) :\n",
      "            index = column * len(c[row]) / (len(t)-1)\n",
      "            res[row, column] = np.abs(c[row][index])\n",
      "            \n",
      "    return X, Y, res\n",
      "            \n",
      "\n",
      "f, t = func1(len(y_I[0]), c, 750e6)\n",
      "X, Y, Z = func(f, t, c)\n",
      "\n",
      "plt.figure()\n",
      "plt.pcolor(X, Y, Z, cmap='spectral')\n",
      "plt.colorbar()\n",
      "axis([t[0], t[-1], f[0], f[-1]])\n",
      "plt.show()"
     ],
     "language": "python",
     "metadata": {},
     "outputs": [],
     "prompt_number": 6
    },
    {
     "cell_type": "code",
     "collapsed": false,
     "input": [],
     "language": "python",
     "metadata": {},
     "outputs": []
    }
   ],
   "metadata": {}
  }
 ]
}
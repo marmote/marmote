{
 "metadata": {
  "name": "PenTest_AluminiumBeam3 - analyzer - wavelet"
 },
 "nbformat": 3,
 "nbformat_minor": 0,
 "worksheets": [
  {
   "cells": [
    {
     "cell_type": "heading",
     "level": 1,
     "metadata": {},
     "source": [
      "Read in preprocessed raw data"
     ]
    },
    {
     "cell_type": "markdown",
     "metadata": {},
     "source": [
      "First let's read in the data from PenTest_AluminiumBeam3 measurement. Note that the threshold filter has already filtered out the frames with signals in them."
     ]
    },
    {
     "cell_type": "code",
     "collapsed": false,
     "input": [
      "from helperfuncs.ReadAEMeas import ReadAEMeas\n",
      "\n",
      "dir = '../../../Measurements/PenTest_AluminiumBeam3/ThresholdExtractionResults/I_20-1'\n",
      "y_I, y2_I, T_I, fnames_I = ReadAEMeas(dir)\n",
      "positions_I = [20,19,18,17,16,15,14,13,12,11,9,8,7,6,5,4,3,2,1]\n",
      "\n",
      "\n",
      "dir = '../../../Measurements/PenTest_AluminiumBeam3/ThresholdExtractionResults/II_1-20'\n",
      "y_II, y2_II, T_II, fnames_II = ReadAEMeas(dir)\n",
      "positions_II = [1,2,3,4,5,6,7,8,9,10,11,12,13,14,15,16,17,18,19,20]\n",
      "\n",
      "\n",
      "dir = '../../../Measurements/PenTest_AluminiumBeam3/ThresholdExtractionResults/III_20-1'\n",
      "y_III, y2_III, T_III, fnames_III = ReadAEMeas(dir)\n",
      "positions_III = [20,19,18,17,16,15,14,13,12,11,10,9,8,7,6,5,4,3,1]"
     ],
     "language": "python",
     "metadata": {},
     "outputs": [
      {
       "output_type": "stream",
       "stream": "stdout",
       "text": [
        "Module folder added to system path\n",
        "Opening file: ../../../Measurements/PenTest_AluminiumBeam3/ThresholdExtractionResults/I_20-1/1.bin"
       ]
      },
      {
       "output_type": "stream",
       "stream": "stdout",
       "text": [
        "\n",
        "Closed file: ../../../Measurements/PenTest_AluminiumBeam3/ThresholdExtractionResults/I_20-1/1.bin"
       ]
      },
      {
       "output_type": "stream",
       "stream": "stdout",
       "text": [
        "\n",
        "Opening file: ../../../Measurements/PenTest_AluminiumBeam3/ThresholdExtractionResults/I_20-1/2.bin"
       ]
      },
      {
       "output_type": "stream",
       "stream": "stdout",
       "text": [
        "\n",
        "Closed file: ../../../Measurements/PenTest_AluminiumBeam3/ThresholdExtractionResults/I_20-1/2.bin"
       ]
      },
      {
       "output_type": "stream",
       "stream": "stdout",
       "text": [
        "\n",
        "Opening file: ../../../Measurements/PenTest_AluminiumBeam3/ThresholdExtractionResults/I_20-1/3.bin\n",
        "Closed file: ../../../Measurements/PenTest_AluminiumBeam3/ThresholdExtractionResults/I_20-1/3.bin"
       ]
      },
      {
       "output_type": "stream",
       "stream": "stdout",
       "text": [
        "\n",
        "Opening file: ../../../Measurements/PenTest_AluminiumBeam3/ThresholdExtractionResults/I_20-1/4.bin\n",
        "Closed file: ../../../Measurements/PenTest_AluminiumBeam3/ThresholdExtractionResults/I_20-1/4.bin"
       ]
      },
      {
       "output_type": "stream",
       "stream": "stdout",
       "text": [
        "\n",
        "Opening file: ../../../Measurements/PenTest_AluminiumBeam3/ThresholdExtractionResults/I_20-1/5.bin\n",
        "Closed file: ../../../Measurements/PenTest_AluminiumBeam3/ThresholdExtractionResults/I_20-1/5.bin"
       ]
      },
      {
       "output_type": "stream",
       "stream": "stdout",
       "text": [
        "\n",
        "Opening file: ../../../Measurements/PenTest_AluminiumBeam3/ThresholdExtractionResults/I_20-1/6.bin\n",
        "Closed file: ../../../Measurements/PenTest_AluminiumBeam3/ThresholdExtractionResults/I_20-1/6.bin"
       ]
      },
      {
       "output_type": "stream",
       "stream": "stdout",
       "text": [
        "\n",
        "Opening file: ../../../Measurements/PenTest_AluminiumBeam3/ThresholdExtractionResults/I_20-1/7.bin\n",
        "Closed file: ../../../Measurements/PenTest_AluminiumBeam3/ThresholdExtractionResults/I_20-1/7.bin"
       ]
      },
      {
       "output_type": "stream",
       "stream": "stdout",
       "text": [
        "\n",
        "Opening file: ../../../Measurements/PenTest_AluminiumBeam3/ThresholdExtractionResults/I_20-1/8.bin\n",
        "Closed file: ../../../Measurements/PenTest_AluminiumBeam3/ThresholdExtractionResults/I_20-1/8.bin"
       ]
      },
      {
       "output_type": "stream",
       "stream": "stdout",
       "text": [
        "\n",
        "Opening file: ../../../Measurements/PenTest_AluminiumBeam3/ThresholdExtractionResults/I_20-1/9.bin\n",
        "Closed file: ../../../Measurements/PenTest_AluminiumBeam3/ThresholdExtractionResults/I_20-1/9.bin"
       ]
      },
      {
       "output_type": "stream",
       "stream": "stdout",
       "text": [
        "\n",
        "Opening file: ../../../Measurements/PenTest_AluminiumBeam3/ThresholdExtractionResults/I_20-1/10.bin\n",
        "Closed file: ../../../Measurements/PenTest_AluminiumBeam3/ThresholdExtractionResults/I_20-1/10.bin"
       ]
      },
      {
       "output_type": "stream",
       "stream": "stdout",
       "text": [
        "\n",
        "Opening file: ../../../Measurements/PenTest_AluminiumBeam3/ThresholdExtractionResults/I_20-1/12.bin\n",
        "Closed file: ../../../Measurements/PenTest_AluminiumBeam3/ThresholdExtractionResults/I_20-1/12.bin"
       ]
      },
      {
       "output_type": "stream",
       "stream": "stdout",
       "text": [
        "\n",
        "Opening file: ../../../Measurements/PenTest_AluminiumBeam3/ThresholdExtractionResults/I_20-1/13.bin\n",
        "Closed file: ../../../Measurements/PenTest_AluminiumBeam3/ThresholdExtractionResults/I_20-1/13.bin"
       ]
      },
      {
       "output_type": "stream",
       "stream": "stdout",
       "text": [
        "\n",
        "Opening file: ../../../Measurements/PenTest_AluminiumBeam3/ThresholdExtractionResults/I_20-1/14.bin\n",
        "Closed file: ../../../Measurements/PenTest_AluminiumBeam3/ThresholdExtractionResults/I_20-1/14.bin"
       ]
      },
      {
       "output_type": "stream",
       "stream": "stdout",
       "text": [
        "\n",
        "Opening file: ../../../Measurements/PenTest_AluminiumBeam3/ThresholdExtractionResults/I_20-1/15.bin\n",
        "Closed file: ../../../Measurements/PenTest_AluminiumBeam3/ThresholdExtractionResults/I_20-1/15.bin"
       ]
      },
      {
       "output_type": "stream",
       "stream": "stdout",
       "text": [
        "\n",
        "Opening file: ../../../Measurements/PenTest_AluminiumBeam3/ThresholdExtractionResults/I_20-1/16.bin\n",
        "Closed file: ../../../Measurements/PenTest_AluminiumBeam3/ThresholdExtractionResults/I_20-1/16.bin"
       ]
      },
      {
       "output_type": "stream",
       "stream": "stdout",
       "text": [
        "\n",
        "Opening file: ../../../Measurements/PenTest_AluminiumBeam3/ThresholdExtractionResults/I_20-1/17.bin\n",
        "Closed file: ../../../Measurements/PenTest_AluminiumBeam3/ThresholdExtractionResults/I_20-1/17.bin"
       ]
      },
      {
       "output_type": "stream",
       "stream": "stdout",
       "text": [
        "\n",
        "Opening file: ../../../Measurements/PenTest_AluminiumBeam3/ThresholdExtractionResults/I_20-1/18.bin\n",
        "Closed file: ../../../Measurements/PenTest_AluminiumBeam3/ThresholdExtractionResults/I_20-1/18.bin"
       ]
      },
      {
       "output_type": "stream",
       "stream": "stdout",
       "text": [
        "\n",
        "Opening file: ../../../Measurements/PenTest_AluminiumBeam3/ThresholdExtractionResults/I_20-1/19.bin\n",
        "Closed file: ../../../Measurements/PenTest_AluminiumBeam3/ThresholdExtractionResults/I_20-1/19.bin"
       ]
      },
      {
       "output_type": "stream",
       "stream": "stdout",
       "text": [
        "\n",
        "Opening file: ../../../Measurements/PenTest_AluminiumBeam3/ThresholdExtractionResults/I_20-1/20.bin\n",
        "Closed file: ../../../Measurements/PenTest_AluminiumBeam3/ThresholdExtractionResults/I_20-1/20.bin"
       ]
      },
      {
       "output_type": "stream",
       "stream": "stdout",
       "text": [
        "\n",
        "Opening file: ../../../Measurements/PenTest_AluminiumBeam3/ThresholdExtractionResults/II_1-20/21.bin\n",
        "Closed file: ../../../Measurements/PenTest_AluminiumBeam3/ThresholdExtractionResults/II_1-20/21.bin"
       ]
      },
      {
       "output_type": "stream",
       "stream": "stdout",
       "text": [
        "\n",
        "Opening file: ../../../Measurements/PenTest_AluminiumBeam3/ThresholdExtractionResults/II_1-20/22.bin\n",
        "Closed file: ../../../Measurements/PenTest_AluminiumBeam3/ThresholdExtractionResults/II_1-20/22.bin"
       ]
      },
      {
       "output_type": "stream",
       "stream": "stdout",
       "text": [
        "\n",
        "Opening file: ../../../Measurements/PenTest_AluminiumBeam3/ThresholdExtractionResults/II_1-20/23.bin\n",
        "Closed file: ../../../Measurements/PenTest_AluminiumBeam3/ThresholdExtractionResults/II_1-20/23.bin"
       ]
      },
      {
       "output_type": "stream",
       "stream": "stdout",
       "text": [
        "\n",
        "Opening file: ../../../Measurements/PenTest_AluminiumBeam3/ThresholdExtractionResults/II_1-20/24.bin\n",
        "Closed file: ../../../Measurements/PenTest_AluminiumBeam3/ThresholdExtractionResults/II_1-20/24.bin"
       ]
      },
      {
       "output_type": "stream",
       "stream": "stdout",
       "text": [
        "\n",
        "Opening file: ../../../Measurements/PenTest_AluminiumBeam3/ThresholdExtractionResults/II_1-20/25.bin\n",
        "Closed file: ../../../Measurements/PenTest_AluminiumBeam3/ThresholdExtractionResults/II_1-20/25.bin"
       ]
      },
      {
       "output_type": "stream",
       "stream": "stdout",
       "text": [
        "\n",
        "Opening file: ../../../Measurements/PenTest_AluminiumBeam3/ThresholdExtractionResults/II_1-20/26.bin\n",
        "Closed file: ../../../Measurements/PenTest_AluminiumBeam3/ThresholdExtractionResults/II_1-20/26.bin"
       ]
      },
      {
       "output_type": "stream",
       "stream": "stdout",
       "text": [
        "\n",
        "Opening file: ../../../Measurements/PenTest_AluminiumBeam3/ThresholdExtractionResults/II_1-20/27.bin\n",
        "Closed file: ../../../Measurements/PenTest_AluminiumBeam3/ThresholdExtractionResults/II_1-20/27.bin"
       ]
      },
      {
       "output_type": "stream",
       "stream": "stdout",
       "text": [
        "\n",
        "Opening file: ../../../Measurements/PenTest_AluminiumBeam3/ThresholdExtractionResults/II_1-20/28.bin\n",
        "Closed file: ../../../Measurements/PenTest_AluminiumBeam3/ThresholdExtractionResults/II_1-20/28.bin"
       ]
      },
      {
       "output_type": "stream",
       "stream": "stdout",
       "text": [
        "\n",
        "Opening file: ../../../Measurements/PenTest_AluminiumBeam3/ThresholdExtractionResults/II_1-20/29.bin\n",
        "Closed file: ../../../Measurements/PenTest_AluminiumBeam3/ThresholdExtractionResults/II_1-20/29.bin"
       ]
      },
      {
       "output_type": "stream",
       "stream": "stdout",
       "text": [
        "\n",
        "Opening file: ../../../Measurements/PenTest_AluminiumBeam3/ThresholdExtractionResults/II_1-20/30.bin\n",
        "Closed file: ../../../Measurements/PenTest_AluminiumBeam3/ThresholdExtractionResults/II_1-20/30.bin"
       ]
      },
      {
       "output_type": "stream",
       "stream": "stdout",
       "text": [
        "\n",
        "Opening file: ../../../Measurements/PenTest_AluminiumBeam3/ThresholdExtractionResults/II_1-20/31.bin\n",
        "Closed file: ../../../Measurements/PenTest_AluminiumBeam3/ThresholdExtractionResults/II_1-20/31.bin"
       ]
      },
      {
       "output_type": "stream",
       "stream": "stdout",
       "text": [
        "\n",
        "Opening file: ../../../Measurements/PenTest_AluminiumBeam3/ThresholdExtractionResults/II_1-20/32.bin\n",
        "Closed file: ../../../Measurements/PenTest_AluminiumBeam3/ThresholdExtractionResults/II_1-20/32.bin"
       ]
      },
      {
       "output_type": "stream",
       "stream": "stdout",
       "text": [
        "\n",
        "Opening file: ../../../Measurements/PenTest_AluminiumBeam3/ThresholdExtractionResults/II_1-20/33.bin\n",
        "Closed file: ../../../Measurements/PenTest_AluminiumBeam3/ThresholdExtractionResults/II_1-20/33.bin"
       ]
      },
      {
       "output_type": "stream",
       "stream": "stdout",
       "text": [
        "\n",
        "Opening file: ../../../Measurements/PenTest_AluminiumBeam3/ThresholdExtractionResults/II_1-20/34.bin\n",
        "Closed file: ../../../Measurements/PenTest_AluminiumBeam3/ThresholdExtractionResults/II_1-20/34.bin"
       ]
      },
      {
       "output_type": "stream",
       "stream": "stdout",
       "text": [
        "\n",
        "Opening file: ../../../Measurements/PenTest_AluminiumBeam3/ThresholdExtractionResults/II_1-20/35.bin\n",
        "Closed file: ../../../Measurements/PenTest_AluminiumBeam3/ThresholdExtractionResults/II_1-20/35.bin"
       ]
      },
      {
       "output_type": "stream",
       "stream": "stdout",
       "text": [
        "\n",
        "Opening file: ../../../Measurements/PenTest_AluminiumBeam3/ThresholdExtractionResults/II_1-20/36.bin\n",
        "Closed file: ../../../Measurements/PenTest_AluminiumBeam3/ThresholdExtractionResults/II_1-20/36.bin"
       ]
      },
      {
       "output_type": "stream",
       "stream": "stdout",
       "text": [
        "\n",
        "Opening file: ../../../Measurements/PenTest_AluminiumBeam3/ThresholdExtractionResults/II_1-20/37.bin\n",
        "Closed file: ../../../Measurements/PenTest_AluminiumBeam3/ThresholdExtractionResults/II_1-20/37.bin"
       ]
      },
      {
       "output_type": "stream",
       "stream": "stdout",
       "text": [
        "\n",
        "Opening file: ../../../Measurements/PenTest_AluminiumBeam3/ThresholdExtractionResults/II_1-20/38.bin\n",
        "Closed file: ../../../Measurements/PenTest_AluminiumBeam3/ThresholdExtractionResults/II_1-20/38.bin"
       ]
      },
      {
       "output_type": "stream",
       "stream": "stdout",
       "text": [
        "\n",
        "Opening file: ../../../Measurements/PenTest_AluminiumBeam3/ThresholdExtractionResults/II_1-20/39.bin\n",
        "Closed file: ../../../Measurements/PenTest_AluminiumBeam3/ThresholdExtractionResults/II_1-20/39.bin"
       ]
      },
      {
       "output_type": "stream",
       "stream": "stdout",
       "text": [
        "\n",
        "Opening file: ../../../Measurements/PenTest_AluminiumBeam3/ThresholdExtractionResults/II_1-20/40.bin\n",
        "Closed file: ../../../Measurements/PenTest_AluminiumBeam3/ThresholdExtractionResults/II_1-20/40.bin"
       ]
      },
      {
       "output_type": "stream",
       "stream": "stdout",
       "text": [
        "\n",
        "Opening file: ../../../Measurements/PenTest_AluminiumBeam3/ThresholdExtractionResults/III_20-1/41.bin\n",
        "Closed file: ../../../Measurements/PenTest_AluminiumBeam3/ThresholdExtractionResults/III_20-1/41.bin"
       ]
      },
      {
       "output_type": "stream",
       "stream": "stdout",
       "text": [
        "\n",
        "Opening file: ../../../Measurements/PenTest_AluminiumBeam3/ThresholdExtractionResults/III_20-1/42.bin\n",
        "Closed file: ../../../Measurements/PenTest_AluminiumBeam3/ThresholdExtractionResults/III_20-1/42.bin"
       ]
      },
      {
       "output_type": "stream",
       "stream": "stdout",
       "text": [
        "\n",
        "Opening file: ../../../Measurements/PenTest_AluminiumBeam3/ThresholdExtractionResults/III_20-1/43.bin\n",
        "Closed file: ../../../Measurements/PenTest_AluminiumBeam3/ThresholdExtractionResults/III_20-1/43.bin"
       ]
      },
      {
       "output_type": "stream",
       "stream": "stdout",
       "text": [
        "\n",
        "Opening file: ../../../Measurements/PenTest_AluminiumBeam3/ThresholdExtractionResults/III_20-1/44.bin\n",
        "Closed file: ../../../Measurements/PenTest_AluminiumBeam3/ThresholdExtractionResults/III_20-1/44.bin"
       ]
      },
      {
       "output_type": "stream",
       "stream": "stdout",
       "text": [
        "\n",
        "Opening file: ../../../Measurements/PenTest_AluminiumBeam3/ThresholdExtractionResults/III_20-1/45.bin\n",
        "Closed file: ../../../Measurements/PenTest_AluminiumBeam3/ThresholdExtractionResults/III_20-1/45.bin"
       ]
      },
      {
       "output_type": "stream",
       "stream": "stdout",
       "text": [
        "\n",
        "Opening file: ../../../Measurements/PenTest_AluminiumBeam3/ThresholdExtractionResults/III_20-1/46.bin\n",
        "Closed file: ../../../Measurements/PenTest_AluminiumBeam3/ThresholdExtractionResults/III_20-1/46.bin"
       ]
      },
      {
       "output_type": "stream",
       "stream": "stdout",
       "text": [
        "\n",
        "Opening file: ../../../Measurements/PenTest_AluminiumBeam3/ThresholdExtractionResults/III_20-1/47.bin\n",
        "Closed file: ../../../Measurements/PenTest_AluminiumBeam3/ThresholdExtractionResults/III_20-1/47.bin"
       ]
      },
      {
       "output_type": "stream",
       "stream": "stdout",
       "text": [
        "\n",
        "Opening file: ../../../Measurements/PenTest_AluminiumBeam3/ThresholdExtractionResults/III_20-1/48.bin\n",
        "Closed file: ../../../Measurements/PenTest_AluminiumBeam3/ThresholdExtractionResults/III_20-1/48.bin"
       ]
      },
      {
       "output_type": "stream",
       "stream": "stdout",
       "text": [
        "\n",
        "Opening file: ../../../Measurements/PenTest_AluminiumBeam3/ThresholdExtractionResults/III_20-1/49.bin\n",
        "Closed file: ../../../Measurements/PenTest_AluminiumBeam3/ThresholdExtractionResults/III_20-1/49.bin"
       ]
      },
      {
       "output_type": "stream",
       "stream": "stdout",
       "text": [
        "\n",
        "Opening file: ../../../Measurements/PenTest_AluminiumBeam3/ThresholdExtractionResults/III_20-1/50.bin\n",
        "Closed file: ../../../Measurements/PenTest_AluminiumBeam3/ThresholdExtractionResults/III_20-1/50.bin"
       ]
      },
      {
       "output_type": "stream",
       "stream": "stdout",
       "text": [
        "\n",
        "Opening file: ../../../Measurements/PenTest_AluminiumBeam3/ThresholdExtractionResults/III_20-1/51.bin\n",
        "Closed file: ../../../Measurements/PenTest_AluminiumBeam3/ThresholdExtractionResults/III_20-1/51.bin"
       ]
      },
      {
       "output_type": "stream",
       "stream": "stdout",
       "text": [
        "\n",
        "Opening file: ../../../Measurements/PenTest_AluminiumBeam3/ThresholdExtractionResults/III_20-1/52.bin\n",
        "Closed file: ../../../Measurements/PenTest_AluminiumBeam3/ThresholdExtractionResults/III_20-1/52.bin"
       ]
      },
      {
       "output_type": "stream",
       "stream": "stdout",
       "text": [
        "\n",
        "Opening file: ../../../Measurements/PenTest_AluminiumBeam3/ThresholdExtractionResults/III_20-1/53.bin\n",
        "Closed file: ../../../Measurements/PenTest_AluminiumBeam3/ThresholdExtractionResults/III_20-1/53.bin"
       ]
      },
      {
       "output_type": "stream",
       "stream": "stdout",
       "text": [
        "\n",
        "Opening file: ../../../Measurements/PenTest_AluminiumBeam3/ThresholdExtractionResults/III_20-1/54.bin\n",
        "Closed file: ../../../Measurements/PenTest_AluminiumBeam3/ThresholdExtractionResults/III_20-1/54.bin"
       ]
      },
      {
       "output_type": "stream",
       "stream": "stdout",
       "text": [
        "\n",
        "Opening file: ../../../Measurements/PenTest_AluminiumBeam3/ThresholdExtractionResults/III_20-1/55.bin\n",
        "Closed file: ../../../Measurements/PenTest_AluminiumBeam3/ThresholdExtractionResults/III_20-1/55.bin"
       ]
      },
      {
       "output_type": "stream",
       "stream": "stdout",
       "text": [
        "\n",
        "Opening file: ../../../Measurements/PenTest_AluminiumBeam3/ThresholdExtractionResults/III_20-1/56.bin\n",
        "Closed file: ../../../Measurements/PenTest_AluminiumBeam3/ThresholdExtractionResults/III_20-1/56.bin"
       ]
      },
      {
       "output_type": "stream",
       "stream": "stdout",
       "text": [
        "\n",
        "Opening file: ../../../Measurements/PenTest_AluminiumBeam3/ThresholdExtractionResults/III_20-1/57.bin\n",
        "Closed file: ../../../Measurements/PenTest_AluminiumBeam3/ThresholdExtractionResults/III_20-1/57.bin"
       ]
      },
      {
       "output_type": "stream",
       "stream": "stdout",
       "text": [
        "\n",
        "Opening file: ../../../Measurements/PenTest_AluminiumBeam3/ThresholdExtractionResults/III_20-1/58.bin\n",
        "Closed file: ../../../Measurements/PenTest_AluminiumBeam3/ThresholdExtractionResults/III_20-1/58.bin"
       ]
      },
      {
       "output_type": "stream",
       "stream": "stdout",
       "text": [
        "\n",
        "Opening file: ../../../Measurements/PenTest_AluminiumBeam3/ThresholdExtractionResults/III_20-1/60.bin\n",
        "Closed file: ../../../Measurements/PenTest_AluminiumBeam3/ThresholdExtractionResults/III_20-1/60.bin"
       ]
      },
      {
       "output_type": "stream",
       "stream": "stdout",
       "text": [
        "\n"
       ]
      }
     ],
     "prompt_number": 1
    },
    {
     "cell_type": "heading",
     "level": 1,
     "metadata": {},
     "source": [
      "Spectrogram of one measurement"
     ]
    },
    {
     "cell_type": "code",
     "collapsed": false,
     "input": [
      "from helperfuncs.PlotSpecgram import PlotSpecgram\n",
      "\n",
      "y = y2_I[3]\n",
      "Fs = 750e3\n",
      "\n",
      "PlotSpecgram(y, Fs)"
     ],
     "language": "python",
     "metadata": {},
     "outputs": [],
     "prompt_number": 2
    },
    {
     "cell_type": "heading",
     "level": 1,
     "metadata": {},
     "source": [
      "Wavelet"
     ]
    },
    {
     "cell_type": "markdown",
     "metadata": {},
     "source": [
      "The number of samples should be $2^n$."
     ]
    },
    {
     "cell_type": "code",
     "collapsed": false,
     "input": [
      "from helperfuncs.TrimToPowerof2 import TrimToPowerof2\n",
      "\n",
      "y = TrimToPowerof2(y_I[0])\n",
      "y2 = TrimToPowerof2(y2_I[0])"
     ],
     "language": "python",
     "metadata": {},
     "outputs": [],
     "prompt_number": 3
    },
    {
     "cell_type": "heading",
     "level": 3,
     "metadata": {},
     "source": [
      "Simple DWT"
     ]
    },
    {
     "cell_type": "code",
     "collapsed": false,
     "input": [
      "import pywt\n",
      "print pywt.families()\n",
      "\n",
      "w = pywt.Wavelet('haar')\n",
      "\n",
      "c = pywt.wavedec(y, w, mode='sym')\n",
      "c2 = pywt.wavedec(y2, w, mode='sym')"
     ],
     "language": "python",
     "metadata": {},
     "outputs": [
      {
       "output_type": "stream",
       "stream": "stdout",
       "text": [
        "['haar', 'db', 'sym', 'coif', 'bior', 'rbio', 'dmey']\n"
       ]
      }
     ],
     "prompt_number": 4
    },
    {
     "cell_type": "code",
     "collapsed": false,
     "input": [
      "from helperfuncs.PlotDWT import PlotDWT\n",
      "\n",
      "Ts = 1/750e3 * 1e6\n",
      "\n",
      "PlotDWT(Ts, y, c)"
     ],
     "language": "python",
     "metadata": {},
     "outputs": [],
     "prompt_number": 5
    },
    {
     "cell_type": "code",
     "collapsed": false,
     "input": [
      "from helperfuncs.PlotDWT import PlotDWT\n",
      "\n",
      "Ts = 1/750e3 * 1e6\n",
      "\n",
      "PlotDWT(Ts, y2, c2)"
     ],
     "language": "python",
     "metadata": {},
     "outputs": [],
     "prompt_number": 6
    },
    {
     "cell_type": "code",
     "collapsed": false,
     "input": [
      "from helperfuncs.FancyPlotDWT import FancyPlotDWT\n",
      "\n",
      "Fs = 750e3\n",
      "\n",
      "FancyPlotDWT(y.size, c, Fs)"
     ],
     "language": "python",
     "metadata": {},
     "outputs": [],
     "prompt_number": 7
    },
    {
     "cell_type": "heading",
     "level": 3,
     "metadata": {},
     "source": [
      "Best basis DWT"
     ]
    },
    {
     "cell_type": "code",
     "collapsed": false,
     "input": [
      "y = y[:1024]"
     ],
     "language": "python",
     "metadata": {},
     "outputs": [],
     "prompt_number": 14
    },
    {
     "cell_type": "code",
     "collapsed": false,
     "input": [
      "from helperfuncs.CompleteDWT import CompleteDWT\n",
      "\n",
      "cll = CompleteDWT(y)\n",
      "\n",
      "#print cll"
     ],
     "language": "python",
     "metadata": {},
     "outputs": [],
     "prompt_number": 15
    },
    {
     "cell_type": "code",
     "collapsed": false,
     "input": [
      "from helperfuncs.CalculateCost_ShannonEntropy import CalculateCost_ShannonEntropy\n",
      "\n",
      "cost = CalculateCost_ShannonEntropy(cll)\n",
      "\n",
      "#print cost  "
     ],
     "language": "python",
     "metadata": {},
     "outputs": [],
     "prompt_number": 16
    },
    {
     "cell_type": "code",
     "collapsed": false,
     "input": [
      "from helperfuncs.CalculateTotalCostofEachLevel import CalculateTotalCostofEachLevel\n",
      "\n",
      "line_costs = CalculateTotalCostofEachLevel(cost)\n",
      "    \n",
      "print line_costs"
     ],
     "language": "python",
     "metadata": {},
     "outputs": [
      {
       "output_type": "stream",
       "stream": "stdout",
       "text": [
        "[105.83150315289413, 98.47816378963276, 95.046522405494613, 97.926588313853827, 91.663289183504403, 90.763517623376885, 99.790805727862136, 97.556589102371859, 100.88043855037, 113.94529695562983, 138.70699142035048]\n"
       ]
      }
     ],
     "prompt_number": 17
    },
    {
     "cell_type": "code",
     "collapsed": false,
     "input": [
      "from helperfuncs.FindBestBasis import FindBestBasis\n",
      "\n",
      "val, levels, items = FindBestBasis(cost)\n",
      "\n",
      "print val\n",
      "print levels\n",
      "print items"
     ],
     "language": "python",
     "metadata": {},
     "outputs": [
      {
       "output_type": "stream",
       "stream": "stdout",
       "text": [
        "143.665643096\n",
        "[7, 10, 10, 9, 10, 10, 10, 10, 8, 8, 8, 10, 10, 9, 9, 10, 10, 10, 10, 10, 10, 8, 9, 10, 10, 8, 10, 10, 9, 10, 10, 10, 10, 8, 9, 10, 10, 9, 10, 10, 8, 8, 9, 9, 10, 10, 10, 10, 8, 10, 10, 10, 10, 9, 9, 9, 10, 10, 9, 10, 10, 9, 10, 10, 9, 10, 10, 10, 10, 9, 10, 10, 10, 10, 10, 10, 10, 10, 10, 10, 10, 10, 10, 10, 10, 10, 10, 10, 10, 10, 10, 10, 10, 10, 9, 10, 10, 9, 10, 10, 10, 10, 9, 8, 9, 9, 10, 10, 9, 7, 9, 10, 10, 10, 10, 9, 10, 10, 10, 10, 9, 10, 10, 7, 9, 10, 10, 10, 10, 9, 8, 9, 10, 10, 8, 9, 10, 10, 10, 10, 10, 10, 10, 10, 9, 7, 10, 10, 10, 10, 10, 10, 10, 10, 7, 7, 10, 10, 9, 10, 10, 9, 10, 10, 10, 10, 10, 10, 9, 9, 9, 9, 10, 10, 7, 10, 10, 10, 10, 10, 10, 9, 10, 10, 10, 10, 8, 7, 10, 10, 10, 10, 8, 10, 10, 9, 9, 10, 10, 10, 10, 10, 10, 9, 10, 10, 8, 8, 9, 9, 9, 10, 10, 9, 10, 10, 9, 10, 10, 10, 10, 10, 10, 9, 10, 10, 9, 9, 8, 8, 10, 10, 10, 10, 10, 10, 10, 10, 10, 10, 10, 10, 9, 10, 10, 10, 10, 10, 10, 10, 10, 10, 10, 9, 9, 8, 9, 10, 10, 10, 10, 10, 10, 8, 9, 10, 10, 10, 10, 10, 10, 7, 7, 9, 10, 10, 10, 10, 9, 10, 10, 9, 9, 10, 10, 10, 10, 10, 10, 10, 10, 10, 10, 9, 9, 9, 10, 10, 10, 10, 9, 9, 9, 10, 10, 10, 10, 10, 10, 10, 10, 10, 10, 10, 10, 9, 9, 10, 10, 10, 10, 10, 10, 10, 10, 10, 10, 10, 10, 10, 10, 9, 10, 10, 10, 10, 9, 9, 10, 10, 10, 10, 10, 10, 9, 9, 9, 8, 10, 10, 10, 10, 10, 10, 9, 7, 9, 10, 10, 9, 10, 10, 8, 10, 10, 10, 10, 9, 9, 9, 10, 10, 8, 10, 10, 10, 10, 9, 9, 10, 10, 10, 10, 10, 10, 9, 10, 10, 10, 10, 10, 10, 10, 10, 10, 10, 9, 10, 10, 10, 10, 10, 10, 9, 10, 10, 10, 10, 10, 10, 9, 9, 10, 10, 10, 10, 9, 10, 10, 10, 10, 10, 10, 9, 10, 10, 10, 10, 10, 10, 10, 10, 10, 10, 9, 9, 9, 10, 10, 10, 10, 9, 10, 10, 10, 10, 9, 9, 10, 10, 10, 10, 9, 10, 10, 10, 10, 9, 9, 10, 10, 10, 10, 10, 10, 10, 10, 9, 10, 10, 10, 10, 10, 10, 8, 8, 10, 10, 10, 10, 10, 10, 10, 10, 9, 10, 10, 7, 10, 10, 10, 10, 8, 10, 10, 9, 9, 10, 10, 9, 9, 10, 10, 9, 10, 10, 10, 10, 8, 10, 10, 9, 9, 9, 9, 9, 10, 10, 10, 10, 10, 10, 9, 9, 9, 10, 10, 10, 10, 10, 10, 10, 10, 8, 9, 10, 10, 8, 9, 10, 10, 10, 10, 10, 10, 10, 10, 10, 10, 7, 7, 10, 10, 10, 10, 8, 8, 10, 10, 10, 10, 10, 10, 9, 9, 10, 10, 9, 10, 10, 9, 10, 10, 8, 10, 10, 9, 7, 10, 10, 9, 10, 10, 10, 10, 10, 10, 10, 10, 10, 10, 10, 10, 10, 10, 9, 10, 10, 10, 10, 10, 10, 9, 10, 10, 10, 10, 7, 10, 10, 10, 10, 10, 10, 10, 10, 10, 10, 10, 10, 10, 10, 9, 9, 10, 10, 10, 10, 10, 10, 6, 8, 10, 10, 10, 10, 10, 10, 10, 10, 10, 10, 9, 9, 10, 10, 8, 7, 10, 10, 9, 10, 10, 9, 10, 10, 10, 10, 10, 10, 9]\n",
        "[0, 8, 9, 5, 12, 13, 14, 15, 4, 5, 6, 28, 29, 15, 16, 34, 35, 36, 37, 38, 39, 10, 22, 46, 47, 12, 52, 53, 27, 56, 57, 58, 59, 15, 32, 66, 67, 34, 70, 71, 18, 19, 40, 41, 84, 85, 86, 87, 22, 92, 93, 94, 95, 48, 49, 50, 102, 103, 52, 106, 107, 54, 110, 111, 56, 114, 115, 116, 117, 59, 120, 121, 122, 123, 124, 125, 126, 127, 128, 129, 130, 131, 132, 133, 134, 135, 136, 137, 138, 139, 140, 141, 142, 143, 72, 146, 147, 74, 150, 151, 152, 153, 77, 39, 80, 81, 164, 165, 83, 21, 88, 178, 179, 180, 181, 91, 184, 185, 186, 187, 94, 190, 191, 24, 100, 202, 203, 204, 205, 103, 52, 106, 214, 215, 54, 110, 222, 223, 224, 225, 226, 227, 228, 229, 115, 29, 240, 241, 242, 243, 244, 245, 246, 247, 31, 32, 264, 265, 133, 268, 269, 135, 272, 273, 274, 275, 276, 277, 139, 140, 141, 142, 286, 287, 36, 296, 297, 298, 299, 300, 301, 151, 304, 305, 306, 307, 77, 39, 320, 321, 322, 323, 81, 328, 329, 165, 166, 334, 335, 336, 337, 338, 339, 170, 342, 343, 86, 87, 176, 177, 178, 358, 359, 180, 362, 363, 182, 366, 367, 368, 369, 370, 371, 186, 374, 375, 188, 189, 95, 96, 388, 389, 390, 391, 392, 393, 394, 395, 396, 397, 398, 399, 200, 402, 403, 404, 405, 406, 407, 408, 409, 410, 411, 206, 207, 104, 210, 422, 423, 424, 425, 426, 427, 107, 216, 434, 435, 436, 437, 438, 439, 55, 56, 228, 458, 459, 460, 461, 231, 464, 465, 233, 234, 470, 471, 472, 473, 474, 475, 476, 477, 478, 479, 240, 241, 242, 486, 487, 488, 489, 245, 246, 247, 496, 497, 498, 499, 500, 501, 502, 503, 504, 505, 506, 507, 254, 255, 512, 513, 514, 515, 516, 517, 518, 519, 520, 521, 522, 523, 524, 525, 263, 528, 529, 530, 531, 266, 267, 536, 537, 538, 539, 540, 541, 271, 272, 273, 137, 552, 553, 554, 555, 556, 557, 279, 70, 284, 570, 571, 286, 574, 575, 144, 580, 581, 582, 583, 292, 293, 294, 590, 591, 148, 596, 597, 598, 599, 300, 301, 604, 605, 606, 607, 608, 609, 305, 612, 613, 614, 615, 616, 617, 618, 619, 620, 621, 311, 624, 625, 626, 627, 628, 629, 315, 632, 633, 634, 635, 636, 637, 319, 320, 642, 643, 644, 645, 323, 648, 649, 650, 651, 652, 653, 327, 656, 657, 658, 659, 660, 661, 662, 663, 664, 665, 333, 334, 335, 672, 673, 674, 675, 338, 678, 679, 680, 681, 341, 342, 686, 687, 688, 689, 345, 692, 693, 694, 695, 348, 349, 700, 701, 702, 703, 704, 705, 706, 707, 354, 710, 711, 712, 713, 714, 715, 179, 180, 724, 725, 726, 727, 728, 729, 730, 731, 366, 734, 735, 92, 744, 745, 746, 747, 187, 752, 753, 377, 378, 758, 759, 380, 381, 764, 765, 383, 768, 769, 770, 771, 193, 776, 777, 389, 390, 391, 392, 393, 788, 789, 790, 791, 792, 793, 397, 398, 399, 800, 801, 802, 803, 804, 805, 806, 807, 202, 406, 814, 815, 204, 410, 822, 823, 824, 825, 826, 827, 828, 829, 830, 831, 104, 105, 848, 849, 850, 851, 213, 214, 860, 861, 862, 863, 864, 865, 433, 434, 870, 871, 436, 874, 875, 438, 878, 879, 220, 884, 885, 443, 111, 896, 897, 449, 900, 901, 902, 903, 904, 905, 906, 907, 908, 909, 910, 911, 912, 913, 457, 916, 917, 918, 919, 920, 921, 461, 924, 925, 926, 927, 116, 936, 937, 938, 939, 940, 941, 942, 943, 944, 945, 946, 947, 948, 949, 475, 476, 954, 955, 956, 957, 958, 959, 60, 244, 980, 981, 982, 983, 984, 985, 986, 987, 988, 989, 495, 496, 994, 995, 249, 125, 1008, 1009, 505, 1012, 1013, 507, 1016, 1017, 1018, 1019, 1020, 1021, 511]\n"
       ]
      }
     ],
     "prompt_number": 18
    },
    {
     "cell_type": "code",
     "collapsed": false,
     "input": [
      "from helperfuncs.PickBasisFromCompleteDWT import PickBasisFromCompleteDWT\n",
      "\n",
      "c_bb = PickBasisFromCompleteDWT(cll, levels, items)\n",
      "\n",
      "#print c_bb"
     ],
     "language": "python",
     "metadata": {},
     "outputs": [],
     "prompt_number": 19
    },
    {
     "cell_type": "code",
     "collapsed": false,
     "input": [
      "from helperfuncs.FancyPlotDWT import FancyPlotDWT\n",
      "\n",
      "Fs = 750e3\n",
      "\n",
      "FancyPlotDWT(y.size, c_bb, Fs)"
     ],
     "language": "python",
     "metadata": {},
     "outputs": [
      {
       "ename": "MemoryError",
       "evalue": "",
       "output_type": "pyerr",
       "traceback": [
        "\u001b[1;31m---------------------------------------------------------------------------\u001b[0m\n\u001b[1;31mMemoryError\u001b[0m                               Traceback (most recent call last)",
        "\u001b[1;32m<ipython-input-20-e6df24aa795b>\u001b[0m in \u001b[0;36m<module>\u001b[1;34m()\u001b[0m\n\u001b[0;32m      3\u001b[0m \u001b[0mFs\u001b[0m \u001b[1;33m=\u001b[0m \u001b[1;36m750e3\u001b[0m\u001b[1;33m\u001b[0m\u001b[0m\n\u001b[0;32m      4\u001b[0m \u001b[1;33m\u001b[0m\u001b[0m\n\u001b[1;32m----> 5\u001b[1;33m \u001b[0mFancyPlotDWT\u001b[0m\u001b[1;33m(\u001b[0m\u001b[0my\u001b[0m\u001b[1;33m.\u001b[0m\u001b[0msize\u001b[0m\u001b[1;33m,\u001b[0m \u001b[0mc_bb\u001b[0m\u001b[1;33m,\u001b[0m \u001b[0mFs\u001b[0m\u001b[1;33m)\u001b[0m\u001b[1;33m\u001b[0m\u001b[0m\n\u001b[0m",
        "\u001b[1;32mD:\\Work\\marmote\\tools\\Analysis\\helperfuncs\\FancyPlotDWT.pyc\u001b[0m in \u001b[0;36mFancyPlotDWT\u001b[1;34m(N, c, Fs)\u001b[0m\n\u001b[0;32m     35\u001b[0m \u001b[1;33m\u001b[0m\u001b[0m\n\u001b[0;32m     36\u001b[0m         \u001b[0mplt\u001b[0m\u001b[1;33m.\u001b[0m\u001b[0mfigure\u001b[0m\u001b[1;33m(\u001b[0m\u001b[1;33m)\u001b[0m\u001b[1;33m\u001b[0m\u001b[0m\n\u001b[1;32m---> 37\u001b[1;33m         \u001b[0mplt\u001b[0m\u001b[1;33m.\u001b[0m\u001b[0mpcolor\u001b[0m\u001b[1;33m(\u001b[0m\u001b[0mX\u001b[0m\u001b[1;33m,\u001b[0m \u001b[0mY\u001b[0m\u001b[1;33m,\u001b[0m \u001b[0mZ\u001b[0m\u001b[1;33m,\u001b[0m \u001b[0mcmap\u001b[0m\u001b[1;33m=\u001b[0m\u001b[1;34m'spectral'\u001b[0m\u001b[1;33m)\u001b[0m\u001b[1;33m\u001b[0m\u001b[0m\n\u001b[0m\u001b[0;32m     38\u001b[0m         \u001b[0mplt\u001b[0m\u001b[1;33m.\u001b[0m\u001b[0mcolorbar\u001b[0m\u001b[1;33m(\u001b[0m\u001b[1;33m)\u001b[0m\u001b[1;33m\u001b[0m\u001b[0m\n\u001b[0;32m     39\u001b[0m         \u001b[0mplt\u001b[0m\u001b[1;33m.\u001b[0m\u001b[0maxis\u001b[0m\u001b[1;33m(\u001b[0m\u001b[1;33m[\u001b[0m\u001b[0mt\u001b[0m\u001b[1;33m[\u001b[0m\u001b[1;36m0\u001b[0m\u001b[1;33m]\u001b[0m\u001b[1;33m,\u001b[0m \u001b[0mt\u001b[0m\u001b[1;33m[\u001b[0m\u001b[1;33m-\u001b[0m\u001b[1;36m1\u001b[0m\u001b[1;33m]\u001b[0m\u001b[1;33m,\u001b[0m \u001b[0mf\u001b[0m\u001b[1;33m[\u001b[0m\u001b[1;36m0\u001b[0m\u001b[1;33m]\u001b[0m\u001b[1;33m,\u001b[0m \u001b[0mf\u001b[0m\u001b[1;33m[\u001b[0m\u001b[1;33m-\u001b[0m\u001b[1;36m1\u001b[0m\u001b[1;33m]\u001b[0m\u001b[1;33m]\u001b[0m\u001b[1;33m)\u001b[0m\u001b[1;33m\u001b[0m\u001b[0m\n",
        "\u001b[1;32mC:\\Python27\\lib\\site-packages\\matplotlib\\pyplot.pyc\u001b[0m in \u001b[0;36mpcolor\u001b[1;34m(*args, **kwargs)\u001b[0m\n\u001b[0;32m   2411\u001b[0m         \u001b[0max\u001b[0m\u001b[1;33m.\u001b[0m\u001b[0mhold\u001b[0m\u001b[1;33m(\u001b[0m\u001b[0mhold\u001b[0m\u001b[1;33m)\u001b[0m\u001b[1;33m\u001b[0m\u001b[0m\n\u001b[0;32m   2412\u001b[0m     \u001b[1;32mtry\u001b[0m\u001b[1;33m:\u001b[0m\u001b[1;33m\u001b[0m\u001b[0m\n\u001b[1;32m-> 2413\u001b[1;33m         \u001b[0mret\u001b[0m \u001b[1;33m=\u001b[0m \u001b[0max\u001b[0m\u001b[1;33m.\u001b[0m\u001b[0mpcolor\u001b[0m\u001b[1;33m(\u001b[0m\u001b[1;33m*\u001b[0m\u001b[0margs\u001b[0m\u001b[1;33m,\u001b[0m \u001b[1;33m**\u001b[0m\u001b[0mkwargs\u001b[0m\u001b[1;33m)\u001b[0m\u001b[1;33m\u001b[0m\u001b[0m\n\u001b[0m\u001b[0;32m   2414\u001b[0m         \u001b[0mdraw_if_interactive\u001b[0m\u001b[1;33m(\u001b[0m\u001b[1;33m)\u001b[0m\u001b[1;33m\u001b[0m\u001b[0m\n\u001b[0;32m   2415\u001b[0m     \u001b[1;32mfinally\u001b[0m\u001b[1;33m:\u001b[0m\u001b[1;33m\u001b[0m\u001b[0m\n",
        "\u001b[1;32mC:\\Python27\\lib\\site-packages\\matplotlib\\axes.pyc\u001b[0m in \u001b[0;36mpcolor\u001b[1;34m(self, *args, **kwargs)\u001b[0m\n\u001b[0;32m   7069\u001b[0m         \u001b[0mself\u001b[0m\u001b[1;33m.\u001b[0m\u001b[0mupdate_datalim\u001b[0m\u001b[1;33m(\u001b[0m \u001b[0mcorners\u001b[0m\u001b[1;33m)\u001b[0m\u001b[1;33m\u001b[0m\u001b[0m\n\u001b[0;32m   7070\u001b[0m         \u001b[0mself\u001b[0m\u001b[1;33m.\u001b[0m\u001b[0mautoscale_view\u001b[0m\u001b[1;33m(\u001b[0m\u001b[1;33m)\u001b[0m\u001b[1;33m\u001b[0m\u001b[0m\n\u001b[1;32m-> 7071\u001b[1;33m         \u001b[0mself\u001b[0m\u001b[1;33m.\u001b[0m\u001b[0madd_collection\u001b[0m\u001b[1;33m(\u001b[0m\u001b[0mcollection\u001b[0m\u001b[1;33m)\u001b[0m\u001b[1;33m\u001b[0m\u001b[0m\n\u001b[0m\u001b[0;32m   7072\u001b[0m         \u001b[1;32mreturn\u001b[0m \u001b[0mcollection\u001b[0m\u001b[1;33m\u001b[0m\u001b[0m\n\u001b[0;32m   7073\u001b[0m \u001b[1;33m\u001b[0m\u001b[0m\n",
        "\u001b[1;32mC:\\Python27\\lib\\site-packages\\matplotlib\\axes.pyc\u001b[0m in \u001b[0;36madd_collection\u001b[1;34m(self, collection, autolim)\u001b[0m\n\u001b[0;32m   1443\u001b[0m         \u001b[1;32mif\u001b[0m \u001b[0mautolim\u001b[0m\u001b[1;33m:\u001b[0m\u001b[1;33m\u001b[0m\u001b[0m\n\u001b[0;32m   1444\u001b[0m             \u001b[1;32mif\u001b[0m \u001b[0mcollection\u001b[0m\u001b[1;33m.\u001b[0m\u001b[0m_paths\u001b[0m \u001b[1;32mand\u001b[0m \u001b[0mlen\u001b[0m\u001b[1;33m(\u001b[0m\u001b[0mcollection\u001b[0m\u001b[1;33m.\u001b[0m\u001b[0m_paths\u001b[0m\u001b[1;33m)\u001b[0m\u001b[1;33m:\u001b[0m\u001b[1;33m\u001b[0m\u001b[0m\n\u001b[1;32m-> 1445\u001b[1;33m                 \u001b[0mself\u001b[0m\u001b[1;33m.\u001b[0m\u001b[0mupdate_datalim\u001b[0m\u001b[1;33m(\u001b[0m\u001b[0mcollection\u001b[0m\u001b[1;33m.\u001b[0m\u001b[0mget_datalim\u001b[0m\u001b[1;33m(\u001b[0m\u001b[0mself\u001b[0m\u001b[1;33m.\u001b[0m\u001b[0mtransData\u001b[0m\u001b[1;33m)\u001b[0m\u001b[1;33m)\u001b[0m\u001b[1;33m\u001b[0m\u001b[0m\n\u001b[0m\u001b[0;32m   1446\u001b[0m \u001b[1;33m\u001b[0m\u001b[0m\n\u001b[0;32m   1447\u001b[0m         \u001b[0mcollection\u001b[0m\u001b[1;33m.\u001b[0m\u001b[0m_remove_method\u001b[0m \u001b[1;33m=\u001b[0m \u001b[1;32mlambda\u001b[0m \u001b[0mh\u001b[0m\u001b[1;33m:\u001b[0m \u001b[0mself\u001b[0m\u001b[1;33m.\u001b[0m\u001b[0mcollections\u001b[0m\u001b[1;33m.\u001b[0m\u001b[0mremove\u001b[0m\u001b[1;33m(\u001b[0m\u001b[0mh\u001b[0m\u001b[1;33m)\u001b[0m\u001b[1;33m\u001b[0m\u001b[0m\n",
        "\u001b[1;32mC:\\Python27\\lib\\site-packages\\matplotlib\\collections.pyc\u001b[0m in \u001b[0;36mget_datalim\u001b[1;34m(self, transData)\u001b[0m\n\u001b[0;32m    155\u001b[0m \u001b[1;33m\u001b[0m\u001b[0m\n\u001b[0;32m    156\u001b[0m         \u001b[1;32mif\u001b[0m \u001b[1;32mnot\u001b[0m \u001b[0mtransform\u001b[0m\u001b[1;33m.\u001b[0m\u001b[0mis_affine\u001b[0m\u001b[1;33m:\u001b[0m\u001b[1;33m\u001b[0m\u001b[0m\n\u001b[1;32m--> 157\u001b[1;33m             \u001b[0mpaths\u001b[0m \u001b[1;33m=\u001b[0m \u001b[1;33m[\u001b[0m\u001b[0mtransform\u001b[0m\u001b[1;33m.\u001b[0m\u001b[0mtransform_path_non_affine\u001b[0m\u001b[1;33m(\u001b[0m\u001b[0mp\u001b[0m\u001b[1;33m)\u001b[0m \u001b[1;32mfor\u001b[0m \u001b[0mp\u001b[0m \u001b[1;32min\u001b[0m \u001b[0mpaths\u001b[0m\u001b[1;33m]\u001b[0m\u001b[1;33m\u001b[0m\u001b[0m\n\u001b[0m\u001b[0;32m    158\u001b[0m             \u001b[0mtransform\u001b[0m \u001b[1;33m=\u001b[0m \u001b[0mtransform\u001b[0m\u001b[1;33m.\u001b[0m\u001b[0mget_affine\u001b[0m\u001b[1;33m(\u001b[0m\u001b[1;33m)\u001b[0m\u001b[1;33m\u001b[0m\u001b[0m\n\u001b[0;32m    159\u001b[0m         \u001b[1;32mif\u001b[0m \u001b[1;32mnot\u001b[0m \u001b[0mtransOffset\u001b[0m\u001b[1;33m.\u001b[0m\u001b[0mis_affine\u001b[0m\u001b[1;33m:\u001b[0m\u001b[1;33m\u001b[0m\u001b[0m\n",
        "\u001b[1;31mMemoryError\u001b[0m: "
       ]
      }
     ],
     "prompt_number": 20
    },
    {
     "cell_type": "code",
     "collapsed": false,
     "input": [],
     "language": "python",
     "metadata": {},
     "outputs": []
    }
   ],
   "metadata": {}
  }
 ]
}
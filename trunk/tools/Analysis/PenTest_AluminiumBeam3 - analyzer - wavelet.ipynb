{
 "metadata": {
  "name": "PenTest_AluminiumBeam3 - analyzer - wavelet"
 },
 "nbformat": 3,
 "nbformat_minor": 0,
 "worksheets": [
  {
   "cells": [
    {
     "cell_type": "heading",
     "level": 1,
     "metadata": {},
     "source": [
      "Read in preprocessed raw data"
     ]
    },
    {
     "cell_type": "markdown",
     "metadata": {},
     "source": [
      "First let's read in the data from PenTest_AluminiumBeam3 measurement. Note that the threshold filter has already filtered out the frames with signals in them."
     ]
    },
    {
     "cell_type": "code",
     "collapsed": false,
     "input": [
      "from helperfuncs.ReadAEMeas import ReadAEMeas\n",
      "\n",
      "dir = '../../../Measurements/PenTest_AluminiumBeam3/ThresholdExtractionResults/I_20-1'\n",
      "y_I, y2_I, T_I, fnames_I = ReadAEMeas(dir)\n",
      "positions_I = [20,19,18,17,16,15,14,13,12,11,9,8,7,6,5,4,3,2,1]\n",
      "\n",
      "\n",
      "dir = '../../../Measurements/PenTest_AluminiumBeam3/ThresholdExtractionResults/II_1-20'\n",
      "y_II, y2_II, T_II, fnames_II = ReadAEMeas(dir)\n",
      "positions_II = [1,2,3,4,5,6,7,8,9,10,11,12,13,14,15,16,17,18,19,20]\n",
      "\n",
      "\n",
      "dir = '../../../Measurements/PenTest_AluminiumBeam3/ThresholdExtractionResults/III_20-1'\n",
      "y_III, y2_III, T_III, fnames_III = ReadAEMeas(dir)\n",
      "positions_III = [20,19,18,17,16,15,14,13,12,11,10,9,8,7,6,5,4,3,1]\n",
      "\n",
      "\n",
      "Fs = 750e3"
     ],
     "language": "python",
     "metadata": {},
     "outputs": [
      {
       "output_type": "stream",
       "stream": "stdout",
       "text": [
        "Module folder added to system path\n",
        "Opening file: ../../../Measurements/PenTest_AluminiumBeam3/ThresholdExtractionResults/I_20-1/1.bin"
       ]
      },
      {
       "output_type": "stream",
       "stream": "stdout",
       "text": [
        "\n",
        "Closed file: ../../../Measurements/PenTest_AluminiumBeam3/ThresholdExtractionResults/I_20-1/1.bin"
       ]
      },
      {
       "output_type": "stream",
       "stream": "stdout",
       "text": [
        "\n",
        "Opening file: ../../../Measurements/PenTest_AluminiumBeam3/ThresholdExtractionResults/I_20-1/2.bin\n",
        "Closed file: ../../../Measurements/PenTest_AluminiumBeam3/ThresholdExtractionResults/I_20-1/2.bin"
       ]
      },
      {
       "output_type": "stream",
       "stream": "stdout",
       "text": [
        "\n",
        "Opening file: ../../../Measurements/PenTest_AluminiumBeam3/ThresholdExtractionResults/I_20-1/3.bin\n",
        "Closed file: ../../../Measurements/PenTest_AluminiumBeam3/ThresholdExtractionResults/I_20-1/3.bin"
       ]
      },
      {
       "output_type": "stream",
       "stream": "stdout",
       "text": [
        "\n",
        "Opening file: ../../../Measurements/PenTest_AluminiumBeam3/ThresholdExtractionResults/I_20-1/4.bin\n",
        "Closed file: ../../../Measurements/PenTest_AluminiumBeam3/ThresholdExtractionResults/I_20-1/4.bin"
       ]
      },
      {
       "output_type": "stream",
       "stream": "stdout",
       "text": [
        "\n",
        "Opening file: ../../../Measurements/PenTest_AluminiumBeam3/ThresholdExtractionResults/I_20-1/5.bin\n",
        "Closed file: ../../../Measurements/PenTest_AluminiumBeam3/ThresholdExtractionResults/I_20-1/5.bin"
       ]
      },
      {
       "output_type": "stream",
       "stream": "stdout",
       "text": [
        "\n",
        "Opening file: ../../../Measurements/PenTest_AluminiumBeam3/ThresholdExtractionResults/I_20-1/6.bin\n",
        "Closed file: ../../../Measurements/PenTest_AluminiumBeam3/ThresholdExtractionResults/I_20-1/6.bin"
       ]
      },
      {
       "output_type": "stream",
       "stream": "stdout",
       "text": [
        "\n",
        "Opening file: ../../../Measurements/PenTest_AluminiumBeam3/ThresholdExtractionResults/I_20-1/7.bin\n",
        "Closed file: ../../../Measurements/PenTest_AluminiumBeam3/ThresholdExtractionResults/I_20-1/7.bin"
       ]
      },
      {
       "output_type": "stream",
       "stream": "stdout",
       "text": [
        "\n",
        "Opening file: ../../../Measurements/PenTest_AluminiumBeam3/ThresholdExtractionResults/I_20-1/8.bin\n",
        "Closed file: ../../../Measurements/PenTest_AluminiumBeam3/ThresholdExtractionResults/I_20-1/8.bin"
       ]
      },
      {
       "output_type": "stream",
       "stream": "stdout",
       "text": [
        "\n",
        "Opening file: ../../../Measurements/PenTest_AluminiumBeam3/ThresholdExtractionResults/I_20-1/9.bin\n",
        "Closed file: ../../../Measurements/PenTest_AluminiumBeam3/ThresholdExtractionResults/I_20-1/9.bin"
       ]
      },
      {
       "output_type": "stream",
       "stream": "stdout",
       "text": [
        "\n",
        "Opening file: ../../../Measurements/PenTest_AluminiumBeam3/ThresholdExtractionResults/I_20-1/10.bin\n",
        "Closed file: ../../../Measurements/PenTest_AluminiumBeam3/ThresholdExtractionResults/I_20-1/10.bin"
       ]
      },
      {
       "output_type": "stream",
       "stream": "stdout",
       "text": [
        "\n",
        "Opening file: ../../../Measurements/PenTest_AluminiumBeam3/ThresholdExtractionResults/I_20-1/12.bin\n",
        "Closed file: ../../../Measurements/PenTest_AluminiumBeam3/ThresholdExtractionResults/I_20-1/12.bin"
       ]
      },
      {
       "output_type": "stream",
       "stream": "stdout",
       "text": [
        "\n",
        "Opening file: ../../../Measurements/PenTest_AluminiumBeam3/ThresholdExtractionResults/I_20-1/13.bin\n",
        "Closed file: ../../../Measurements/PenTest_AluminiumBeam3/ThresholdExtractionResults/I_20-1/13.bin"
       ]
      },
      {
       "output_type": "stream",
       "stream": "stdout",
       "text": [
        "\n",
        "Opening file: ../../../Measurements/PenTest_AluminiumBeam3/ThresholdExtractionResults/I_20-1/14.bin\n",
        "Closed file: ../../../Measurements/PenTest_AluminiumBeam3/ThresholdExtractionResults/I_20-1/14.bin"
       ]
      },
      {
       "output_type": "stream",
       "stream": "stdout",
       "text": [
        "\n",
        "Opening file: ../../../Measurements/PenTest_AluminiumBeam3/ThresholdExtractionResults/I_20-1/15.bin\n",
        "Closed file: ../../../Measurements/PenTest_AluminiumBeam3/ThresholdExtractionResults/I_20-1/15.bin"
       ]
      },
      {
       "output_type": "stream",
       "stream": "stdout",
       "text": [
        "\n",
        "Opening file: ../../../Measurements/PenTest_AluminiumBeam3/ThresholdExtractionResults/I_20-1/16.bin\n",
        "Closed file: ../../../Measurements/PenTest_AluminiumBeam3/ThresholdExtractionResults/I_20-1/16.bin"
       ]
      },
      {
       "output_type": "stream",
       "stream": "stdout",
       "text": [
        "\n",
        "Opening file: ../../../Measurements/PenTest_AluminiumBeam3/ThresholdExtractionResults/I_20-1/17.bin\n",
        "Closed file: ../../../Measurements/PenTest_AluminiumBeam3/ThresholdExtractionResults/I_20-1/17.bin"
       ]
      },
      {
       "output_type": "stream",
       "stream": "stdout",
       "text": [
        "\n",
        "Opening file: ../../../Measurements/PenTest_AluminiumBeam3/ThresholdExtractionResults/I_20-1/18.bin\n",
        "Closed file: ../../../Measurements/PenTest_AluminiumBeam3/ThresholdExtractionResults/I_20-1/18.bin"
       ]
      },
      {
       "output_type": "stream",
       "stream": "stdout",
       "text": [
        "\n",
        "Opening file: ../../../Measurements/PenTest_AluminiumBeam3/ThresholdExtractionResults/I_20-1/19.bin\n",
        "Closed file: ../../../Measurements/PenTest_AluminiumBeam3/ThresholdExtractionResults/I_20-1/19.bin"
       ]
      },
      {
       "output_type": "stream",
       "stream": "stdout",
       "text": [
        "\n",
        "Opening file: ../../../Measurements/PenTest_AluminiumBeam3/ThresholdExtractionResults/I_20-1/20.bin\n",
        "Closed file: ../../../Measurements/PenTest_AluminiumBeam3/ThresholdExtractionResults/I_20-1/20.bin"
       ]
      },
      {
       "output_type": "stream",
       "stream": "stdout",
       "text": [
        "\n",
        "Opening file: ../../../Measurements/PenTest_AluminiumBeam3/ThresholdExtractionResults/II_1-20/21.bin\n",
        "Closed file: ../../../Measurements/PenTest_AluminiumBeam3/ThresholdExtractionResults/II_1-20/21.bin"
       ]
      },
      {
       "output_type": "stream",
       "stream": "stdout",
       "text": [
        "\n",
        "Opening file: ../../../Measurements/PenTest_AluminiumBeam3/ThresholdExtractionResults/II_1-20/22.bin\n",
        "Closed file: ../../../Measurements/PenTest_AluminiumBeam3/ThresholdExtractionResults/II_1-20/22.bin"
       ]
      },
      {
       "output_type": "stream",
       "stream": "stdout",
       "text": [
        "\n",
        "Opening file: ../../../Measurements/PenTest_AluminiumBeam3/ThresholdExtractionResults/II_1-20/23.bin\n",
        "Closed file: ../../../Measurements/PenTest_AluminiumBeam3/ThresholdExtractionResults/II_1-20/23.bin"
       ]
      },
      {
       "output_type": "stream",
       "stream": "stdout",
       "text": [
        "\n",
        "Opening file: ../../../Measurements/PenTest_AluminiumBeam3/ThresholdExtractionResults/II_1-20/24.bin\n",
        "Closed file: ../../../Measurements/PenTest_AluminiumBeam3/ThresholdExtractionResults/II_1-20/24.bin"
       ]
      },
      {
       "output_type": "stream",
       "stream": "stdout",
       "text": [
        "\n",
        "Opening file: ../../../Measurements/PenTest_AluminiumBeam3/ThresholdExtractionResults/II_1-20/25.bin\n",
        "Closed file: ../../../Measurements/PenTest_AluminiumBeam3/ThresholdExtractionResults/II_1-20/25.bin"
       ]
      },
      {
       "output_type": "stream",
       "stream": "stdout",
       "text": [
        "\n",
        "Opening file: ../../../Measurements/PenTest_AluminiumBeam3/ThresholdExtractionResults/II_1-20/26.bin\n",
        "Closed file: ../../../Measurements/PenTest_AluminiumBeam3/ThresholdExtractionResults/II_1-20/26.bin"
       ]
      },
      {
       "output_type": "stream",
       "stream": "stdout",
       "text": [
        "\n",
        "Opening file: ../../../Measurements/PenTest_AluminiumBeam3/ThresholdExtractionResults/II_1-20/27.bin\n",
        "Closed file: ../../../Measurements/PenTest_AluminiumBeam3/ThresholdExtractionResults/II_1-20/27.bin"
       ]
      },
      {
       "output_type": "stream",
       "stream": "stdout",
       "text": [
        "\n",
        "Opening file: ../../../Measurements/PenTest_AluminiumBeam3/ThresholdExtractionResults/II_1-20/28.bin\n",
        "Closed file: ../../../Measurements/PenTest_AluminiumBeam3/ThresholdExtractionResults/II_1-20/28.bin"
       ]
      },
      {
       "output_type": "stream",
       "stream": "stdout",
       "text": [
        "\n",
        "Opening file: ../../../Measurements/PenTest_AluminiumBeam3/ThresholdExtractionResults/II_1-20/29.bin\n",
        "Closed file: ../../../Measurements/PenTest_AluminiumBeam3/ThresholdExtractionResults/II_1-20/29.bin"
       ]
      },
      {
       "output_type": "stream",
       "stream": "stdout",
       "text": [
        "\n",
        "Opening file: ../../../Measurements/PenTest_AluminiumBeam3/ThresholdExtractionResults/II_1-20/30.bin\n",
        "Closed file: ../../../Measurements/PenTest_AluminiumBeam3/ThresholdExtractionResults/II_1-20/30.bin"
       ]
      },
      {
       "output_type": "stream",
       "stream": "stdout",
       "text": [
        "\n",
        "Opening file: ../../../Measurements/PenTest_AluminiumBeam3/ThresholdExtractionResults/II_1-20/31.bin\n",
        "Closed file: ../../../Measurements/PenTest_AluminiumBeam3/ThresholdExtractionResults/II_1-20/31.bin"
       ]
      },
      {
       "output_type": "stream",
       "stream": "stdout",
       "text": [
        "\n",
        "Opening file: ../../../Measurements/PenTest_AluminiumBeam3/ThresholdExtractionResults/II_1-20/32.bin\n",
        "Closed file: ../../../Measurements/PenTest_AluminiumBeam3/ThresholdExtractionResults/II_1-20/32.bin"
       ]
      },
      {
       "output_type": "stream",
       "stream": "stdout",
       "text": [
        "\n",
        "Opening file: ../../../Measurements/PenTest_AluminiumBeam3/ThresholdExtractionResults/II_1-20/33.bin\n",
        "Closed file: ../../../Measurements/PenTest_AluminiumBeam3/ThresholdExtractionResults/II_1-20/33.bin"
       ]
      },
      {
       "output_type": "stream",
       "stream": "stdout",
       "text": [
        "\n",
        "Opening file: ../../../Measurements/PenTest_AluminiumBeam3/ThresholdExtractionResults/II_1-20/34.bin\n",
        "Closed file: ../../../Measurements/PenTest_AluminiumBeam3/ThresholdExtractionResults/II_1-20/34.bin"
       ]
      },
      {
       "output_type": "stream",
       "stream": "stdout",
       "text": [
        "\n",
        "Opening file: ../../../Measurements/PenTest_AluminiumBeam3/ThresholdExtractionResults/II_1-20/35.bin\n",
        "Closed file: ../../../Measurements/PenTest_AluminiumBeam3/ThresholdExtractionResults/II_1-20/35.bin"
       ]
      },
      {
       "output_type": "stream",
       "stream": "stdout",
       "text": [
        "\n",
        "Opening file: ../../../Measurements/PenTest_AluminiumBeam3/ThresholdExtractionResults/II_1-20/36.bin\n",
        "Closed file: ../../../Measurements/PenTest_AluminiumBeam3/ThresholdExtractionResults/II_1-20/36.bin"
       ]
      },
      {
       "output_type": "stream",
       "stream": "stdout",
       "text": [
        "\n",
        "Opening file: ../../../Measurements/PenTest_AluminiumBeam3/ThresholdExtractionResults/II_1-20/37.bin\n",
        "Closed file: ../../../Measurements/PenTest_AluminiumBeam3/ThresholdExtractionResults/II_1-20/37.bin"
       ]
      },
      {
       "output_type": "stream",
       "stream": "stdout",
       "text": [
        "\n",
        "Opening file: ../../../Measurements/PenTest_AluminiumBeam3/ThresholdExtractionResults/II_1-20/38.bin\n",
        "Closed file: ../../../Measurements/PenTest_AluminiumBeam3/ThresholdExtractionResults/II_1-20/38.bin"
       ]
      },
      {
       "output_type": "stream",
       "stream": "stdout",
       "text": [
        "\n",
        "Opening file: ../../../Measurements/PenTest_AluminiumBeam3/ThresholdExtractionResults/II_1-20/39.bin\n",
        "Closed file: ../../../Measurements/PenTest_AluminiumBeam3/ThresholdExtractionResults/II_1-20/39.bin"
       ]
      },
      {
       "output_type": "stream",
       "stream": "stdout",
       "text": [
        "\n",
        "Opening file: ../../../Measurements/PenTest_AluminiumBeam3/ThresholdExtractionResults/II_1-20/40.bin\n",
        "Closed file: ../../../Measurements/PenTest_AluminiumBeam3/ThresholdExtractionResults/II_1-20/40.bin"
       ]
      },
      {
       "output_type": "stream",
       "stream": "stdout",
       "text": [
        "\n",
        "Opening file: ../../../Measurements/PenTest_AluminiumBeam3/ThresholdExtractionResults/III_20-1/41.bin\n",
        "Closed file: ../../../Measurements/PenTest_AluminiumBeam3/ThresholdExtractionResults/III_20-1/41.bin"
       ]
      },
      {
       "output_type": "stream",
       "stream": "stdout",
       "text": [
        "\n",
        "Opening file: ../../../Measurements/PenTest_AluminiumBeam3/ThresholdExtractionResults/III_20-1/42.bin\n",
        "Closed file: ../../../Measurements/PenTest_AluminiumBeam3/ThresholdExtractionResults/III_20-1/42.bin"
       ]
      },
      {
       "output_type": "stream",
       "stream": "stdout",
       "text": [
        "\n",
        "Opening file: ../../../Measurements/PenTest_AluminiumBeam3/ThresholdExtractionResults/III_20-1/43.bin\n",
        "Closed file: ../../../Measurements/PenTest_AluminiumBeam3/ThresholdExtractionResults/III_20-1/43.bin"
       ]
      },
      {
       "output_type": "stream",
       "stream": "stdout",
       "text": [
        "\n",
        "Opening file: ../../../Measurements/PenTest_AluminiumBeam3/ThresholdExtractionResults/III_20-1/44.bin\n",
        "Closed file: ../../../Measurements/PenTest_AluminiumBeam3/ThresholdExtractionResults/III_20-1/44.bin"
       ]
      },
      {
       "output_type": "stream",
       "stream": "stdout",
       "text": [
        "\n",
        "Opening file: ../../../Measurements/PenTest_AluminiumBeam3/ThresholdExtractionResults/III_20-1/45.bin\n",
        "Closed file: ../../../Measurements/PenTest_AluminiumBeam3/ThresholdExtractionResults/III_20-1/45.bin"
       ]
      },
      {
       "output_type": "stream",
       "stream": "stdout",
       "text": [
        "\n",
        "Opening file: ../../../Measurements/PenTest_AluminiumBeam3/ThresholdExtractionResults/III_20-1/46.bin\n",
        "Closed file: ../../../Measurements/PenTest_AluminiumBeam3/ThresholdExtractionResults/III_20-1/46.bin"
       ]
      },
      {
       "output_type": "stream",
       "stream": "stdout",
       "text": [
        "\n",
        "Opening file: ../../../Measurements/PenTest_AluminiumBeam3/ThresholdExtractionResults/III_20-1/47.bin\n",
        "Closed file: ../../../Measurements/PenTest_AluminiumBeam3/ThresholdExtractionResults/III_20-1/47.bin"
       ]
      },
      {
       "output_type": "stream",
       "stream": "stdout",
       "text": [
        "\n",
        "Opening file: ../../../Measurements/PenTest_AluminiumBeam3/ThresholdExtractionResults/III_20-1/48.bin\n",
        "Closed file: ../../../Measurements/PenTest_AluminiumBeam3/ThresholdExtractionResults/III_20-1/48.bin"
       ]
      },
      {
       "output_type": "stream",
       "stream": "stdout",
       "text": [
        "\n",
        "Opening file: ../../../Measurements/PenTest_AluminiumBeam3/ThresholdExtractionResults/III_20-1/49.bin\n",
        "Closed file: ../../../Measurements/PenTest_AluminiumBeam3/ThresholdExtractionResults/III_20-1/49.bin"
       ]
      },
      {
       "output_type": "stream",
       "stream": "stdout",
       "text": [
        "\n",
        "Opening file: ../../../Measurements/PenTest_AluminiumBeam3/ThresholdExtractionResults/III_20-1/50.bin\n",
        "Closed file: ../../../Measurements/PenTest_AluminiumBeam3/ThresholdExtractionResults/III_20-1/50.bin"
       ]
      },
      {
       "output_type": "stream",
       "stream": "stdout",
       "text": [
        "\n",
        "Opening file: ../../../Measurements/PenTest_AluminiumBeam3/ThresholdExtractionResults/III_20-1/51.bin\n",
        "Closed file: ../../../Measurements/PenTest_AluminiumBeam3/ThresholdExtractionResults/III_20-1/51.bin"
       ]
      },
      {
       "output_type": "stream",
       "stream": "stdout",
       "text": [
        "\n",
        "Opening file: ../../../Measurements/PenTest_AluminiumBeam3/ThresholdExtractionResults/III_20-1/52.bin\n",
        "Closed file: ../../../Measurements/PenTest_AluminiumBeam3/ThresholdExtractionResults/III_20-1/52.bin"
       ]
      },
      {
       "output_type": "stream",
       "stream": "stdout",
       "text": [
        "\n",
        "Opening file: ../../../Measurements/PenTest_AluminiumBeam3/ThresholdExtractionResults/III_20-1/53.bin\n",
        "Closed file: ../../../Measurements/PenTest_AluminiumBeam3/ThresholdExtractionResults/III_20-1/53.bin"
       ]
      },
      {
       "output_type": "stream",
       "stream": "stdout",
       "text": [
        "\n",
        "Opening file: ../../../Measurements/PenTest_AluminiumBeam3/ThresholdExtractionResults/III_20-1/54.bin\n",
        "Closed file: ../../../Measurements/PenTest_AluminiumBeam3/ThresholdExtractionResults/III_20-1/54.bin"
       ]
      },
      {
       "output_type": "stream",
       "stream": "stdout",
       "text": [
        "\n",
        "Opening file: ../../../Measurements/PenTest_AluminiumBeam3/ThresholdExtractionResults/III_20-1/55.bin\n",
        "Closed file: ../../../Measurements/PenTest_AluminiumBeam3/ThresholdExtractionResults/III_20-1/55.bin"
       ]
      },
      {
       "output_type": "stream",
       "stream": "stdout",
       "text": [
        "\n",
        "Opening file: ../../../Measurements/PenTest_AluminiumBeam3/ThresholdExtractionResults/III_20-1/56.bin\n",
        "Closed file: ../../../Measurements/PenTest_AluminiumBeam3/ThresholdExtractionResults/III_20-1/56.bin"
       ]
      },
      {
       "output_type": "stream",
       "stream": "stdout",
       "text": [
        "\n",
        "Opening file: ../../../Measurements/PenTest_AluminiumBeam3/ThresholdExtractionResults/III_20-1/57.bin\n",
        "Closed file: ../../../Measurements/PenTest_AluminiumBeam3/ThresholdExtractionResults/III_20-1/57.bin"
       ]
      },
      {
       "output_type": "stream",
       "stream": "stdout",
       "text": [
        "\n",
        "Opening file: ../../../Measurements/PenTest_AluminiumBeam3/ThresholdExtractionResults/III_20-1/58.bin\n",
        "Closed file: ../../../Measurements/PenTest_AluminiumBeam3/ThresholdExtractionResults/III_20-1/58.bin"
       ]
      },
      {
       "output_type": "stream",
       "stream": "stdout",
       "text": [
        "\n",
        "Opening file: ../../../Measurements/PenTest_AluminiumBeam3/ThresholdExtractionResults/III_20-1/60.bin\n",
        "Closed file: ../../../Measurements/PenTest_AluminiumBeam3/ThresholdExtractionResults/III_20-1/60.bin"
       ]
      },
      {
       "output_type": "stream",
       "stream": "stdout",
       "text": [
        "\n"
       ]
      }
     ],
     "prompt_number": 1
    },
    {
     "cell_type": "markdown",
     "metadata": {},
     "source": [
      "The number of samples should be $2^n$."
     ]
    },
    {
     "cell_type": "code",
     "collapsed": false,
     "input": [
      "from helperfuncs.TrimToPowerof2 import TrimToPowerof2\n",
      "\n",
      "y = TrimToPowerof2(y2_I[3])"
     ],
     "language": "python",
     "metadata": {},
     "outputs": [],
     "prompt_number": 2
    },
    {
     "cell_type": "code",
     "collapsed": false,
     "input": [
      "N = 2048*2\n",
      "y = y[:N]"
     ],
     "language": "python",
     "metadata": {},
     "outputs": [],
     "prompt_number": 3
    },
    {
     "cell_type": "heading",
     "level": 1,
     "metadata": {},
     "source": [
      "Spectrogram of one measurement"
     ]
    },
    {
     "cell_type": "code",
     "collapsed": false,
     "input": [
      "from helperfuncs.PlotSpecgram import PlotSpecgram\n",
      "\n",
      "PlotSpecgram(y, Fs)"
     ],
     "language": "python",
     "metadata": {},
     "outputs": [],
     "prompt_number": 4
    },
    {
     "cell_type": "heading",
     "level": 1,
     "metadata": {},
     "source": [
      "Discrete Wavelet Transform"
     ]
    },
    {
     "cell_type": "heading",
     "level": 3,
     "metadata": {},
     "source": [
      "Simple DWT - Various plotting"
     ]
    },
    {
     "cell_type": "code",
     "collapsed": false,
     "input": [
      "import pywt\n",
      "print pywt.families()\n",
      "\n",
      "w = pywt.Wavelet('sym20')\n",
      "\n",
      "c = pywt.wavedec(y, w, mode='sym')"
     ],
     "language": "python",
     "metadata": {},
     "outputs": [
      {
       "output_type": "stream",
       "stream": "stdout",
       "text": [
        "['haar', 'db', 'sym', 'coif', 'bior', 'rbio', 'dmey']\n"
       ]
      }
     ],
     "prompt_number": 5
    },
    {
     "cell_type": "code",
     "collapsed": false,
     "input": [
      "from helperfuncs.PlotDWT import PlotDWT\n",
      "\n",
      "Ts = 1/Fs\n",
      "\n",
      "PlotDWT(Ts, y, c, 0, 0.002)"
     ],
     "language": "python",
     "metadata": {},
     "outputs": [],
     "prompt_number": 6
    },
    {
     "cell_type": "code",
     "collapsed": false,
     "input": [
      "from helperfuncs.FancyPlotWavelet_im import FancyPlotWavelet\n",
      "\n",
      "levels = range(len(c)-1,0,-1)\n",
      "levels = [levels[0]] + levels    \n",
      "        \n",
      "FancyPlotWavelet(c, levels, y.size, Fs)"
     ],
     "language": "python",
     "metadata": {},
     "outputs": [
      {
       "output_type": "stream",
       "stream": "stdout",
       "text": [
        "Generated row 100\n",
        "Generated row 200\n",
        "Generated row 300\n",
        "Generated row 400\n",
        "Generated row 500\n",
        "Generated row 600\n",
        "Generated row 700\n",
        "Generated row 800\n",
        "Generated row 900\n",
        "Generated row 1000\n",
        "Generated row 1100"
       ]
      },
      {
       "output_type": "stream",
       "stream": "stdout",
       "text": [
        "\n",
        "Generated row 1200\n",
        "Generated row 1300\n",
        "Generated row 1400\n",
        "Generated row 1500\n",
        "Generated row 1600\n",
        "Generated row 1700\n",
        "Generated row 1800\n",
        "Generated row 1900\n",
        "Generated row 2000\n",
        "Generated row 2100\n",
        "Generated row 2200\n",
        "Generated row 2300\n",
        "Generated row 2400\n",
        "Generated row 2500\n",
        "Generated row 2600\n",
        "Generated row 2700\n",
        "Generated row 2800\n",
        "Generated row 2900\n",
        "Generated row 3000\n",
        "Generated row 3100\n",
        "Generated row 3200\n",
        "Generated row 3300\n",
        "Generated row 3400\n",
        "Generated row 3500\n",
        "Generated row 3600\n",
        "Generated row 3700\n",
        "Generated row 3800\n",
        "Generated row 3900\n",
        "Generated row 4000\n"
       ]
      }
     ],
     "prompt_number": 7
    },
    {
     "cell_type": "heading",
     "level": 3,
     "metadata": {},
     "source": [
      "Wavelet Package Decomposition"
     ]
    },
    {
     "cell_type": "code",
     "collapsed": false,
     "input": [
      "from helperfuncs.FullWPD import FullWPD\n",
      "\n",
      "PacketTable = FullWPD(y, wavelet='rbio6.8')\n",
      "\n",
      "#print PacketTable"
     ],
     "language": "python",
     "metadata": {},
     "outputs": [],
     "prompt_number": 8
    },
    {
     "cell_type": "code",
     "collapsed": false,
     "input": [
      "from helperfuncs.UsablePacketTableLevels import UsablePacketTableLevels\n",
      "\n",
      "start_level, stop_level = UsablePacketTableLevels(32, PacketTable, N)\n",
      "\n",
      "print start_level\n",
      "print stop_level"
     ],
     "language": "python",
     "metadata": {},
     "outputs": [
      {
       "output_type": "stream",
       "stream": "stdout",
       "text": [
        "5\n",
        "7\n"
       ]
      }
     ],
     "prompt_number": 9
    },
    {
     "cell_type": "heading",
     "level": 4,
     "metadata": {},
     "source": [
      "Fixed resolution"
     ]
    },
    {
     "cell_type": "code",
     "collapsed": false,
     "input": [
      "from helperfuncs.FancyPlotWavelet_im import FancyPlotWavelet\n",
      "\n",
      "level_of_interest = int((start_level + stop_level)/2)\n",
      "Levels = np.ones(len(PacketTable[level_of_interest]))*level_of_interest\n",
      "\n",
      "FancyPlotWavelet(PacketTable[level_of_interest], Levels, N, Fs, title='Wavelet Package Decomposition\\nFixed resolution')"
     ],
     "language": "python",
     "metadata": {},
     "outputs": [
      {
       "output_type": "stream",
       "stream": "stdout",
       "text": [
        "Generated row 100\n",
        "Generated row 200\n",
        "Generated row 300"
       ]
      },
      {
       "output_type": "stream",
       "stream": "stdout",
       "text": [
        "\n",
        "Generated row 400\n",
        "Generated row 500"
       ]
      },
      {
       "output_type": "stream",
       "stream": "stdout",
       "text": [
        "\n",
        "Generated row 600\n",
        "Generated row 700"
       ]
      },
      {
       "output_type": "stream",
       "stream": "stdout",
       "text": [
        "\n",
        "Generated row 800\n",
        "Generated row 900"
       ]
      },
      {
       "output_type": "stream",
       "stream": "stdout",
       "text": [
        "\n",
        "Generated row 1000\n",
        "Generated row 1100"
       ]
      },
      {
       "output_type": "stream",
       "stream": "stdout",
       "text": [
        "\n",
        "Generated row 1200\n",
        "Generated row 1300"
       ]
      },
      {
       "output_type": "stream",
       "stream": "stdout",
       "text": [
        "\n",
        "Generated row 1400\n",
        "Generated row 1500"
       ]
      },
      {
       "output_type": "stream",
       "stream": "stdout",
       "text": [
        "\n",
        "Generated row 1600\n",
        "Generated row 1700"
       ]
      },
      {
       "output_type": "stream",
       "stream": "stdout",
       "text": [
        "\n",
        "Generated row 1800\n",
        "Generated row 1900"
       ]
      },
      {
       "output_type": "stream",
       "stream": "stdout",
       "text": [
        "\n",
        "Generated row 2000\n",
        "Generated row 2100"
       ]
      },
      {
       "output_type": "stream",
       "stream": "stdout",
       "text": [
        "\n",
        "Generated row 2200\n",
        "Generated row 2300"
       ]
      },
      {
       "output_type": "stream",
       "stream": "stdout",
       "text": [
        "\n",
        "Generated row 2400\n",
        "Generated row 2500"
       ]
      },
      {
       "output_type": "stream",
       "stream": "stdout",
       "text": [
        "\n",
        "Generated row 2600\n",
        "Generated row 2700"
       ]
      },
      {
       "output_type": "stream",
       "stream": "stdout",
       "text": [
        "\n",
        "Generated row 2800\n",
        "Generated row 2900"
       ]
      },
      {
       "output_type": "stream",
       "stream": "stdout",
       "text": [
        "\n",
        "Generated row 3000\n",
        "Generated row 3100"
       ]
      },
      {
       "output_type": "stream",
       "stream": "stdout",
       "text": [
        "\n",
        "Generated row 3200\n",
        "Generated row 3300"
       ]
      },
      {
       "output_type": "stream",
       "stream": "stdout",
       "text": [
        "\n",
        "Generated row 3400\n",
        "Generated row 3500"
       ]
      },
      {
       "output_type": "stream",
       "stream": "stdout",
       "text": [
        "\n",
        "Generated row 3600\n",
        "Generated row 3700"
       ]
      },
      {
       "output_type": "stream",
       "stream": "stdout",
       "text": [
        "\n",
        "Generated row 3800\n",
        "Generated row 3900"
       ]
      },
      {
       "output_type": "stream",
       "stream": "stdout",
       "text": [
        "\n",
        "Generated row 4000\n"
       ]
      }
     ],
     "prompt_number": 10
    },
    {
     "cell_type": "heading",
     "level": 4,
     "metadata": {},
     "source": [
      "Best basis "
     ]
    },
    {
     "cell_type": "code",
     "collapsed": false,
     "input": [
      "from helperfuncs.CalculateCost_ShannonEntropy import CalculateCost_ShannonEntropy\n",
      "\n",
      "cost = CalculateCost_ShannonEntropy(PacketTable)\n",
      "\n",
      "#print cost "
     ],
     "language": "python",
     "metadata": {},
     "outputs": [],
     "prompt_number": 11
    },
    {
     "cell_type": "code",
     "collapsed": false,
     "input": [
      "from helperfuncs.CalculateTotalCostofEachLevel import CalculateTotalCostofEachLevel\n",
      "\n",
      "line_costs = CalculateTotalCostofEachLevel(cost)\n",
      "    \n",
      "print line_costs"
     ],
     "language": "python",
     "metadata": {},
     "outputs": [
      {
       "output_type": "stream",
       "stream": "stdout",
       "text": [
        "[386.62409616789557, 378.28241045759989, 366.95802204831506, 362.87694477728138, 363.00841565964686, 373.40907970212231, 384.81882630852465, 420.74388802720534, 495.59959875573804, 621.84447292990671, 841.03108182268909, 1306.3728219160196, 2152.8222167841923]\n"
       ]
      }
     ],
     "prompt_number": 12
    },
    {
     "cell_type": "code",
     "collapsed": false,
     "input": [
      "from helperfuncs.BestBasis import BestBasis\n",
      "\n",
      "val, levels, items = BestBasis(cost, start_level, stop_level+1)\n",
      "\n",
      "print val\n",
      "print levels\n",
      "print items"
     ],
     "language": "python",
     "metadata": {},
     "outputs": [
      {
       "output_type": "stream",
       "stream": "stdout",
       "text": [
        "[6.4798067207364642, 3.4165626175987938, 3.407186071165901, 5.654564786128164, 13.059708548031193, 5.8817675236602334, 7.9143360602611326, 8.5708280918595747, 16.609893508187209, 24.04130826879879, 7.7782175188731459, 7.234235974636686, 4.4449589464453965, 8.6646480613689203, 12.445918406006912, 15.549240748171057, 23.165660303205513, 21.132379631864314, 32.248684150733041, 21.90203166736859, 24.028591318303601, 36.54326959486238, 26.951818771922081, 25.819752983601553, 21.980489833915577, 32.12226541822082, 20.153891680135395, 18.160729037454249, 11.403701032099313, 11.669833039928495, 9.7769700550557097, 11.328244739932963]\n",
        "[8, 8, 8, 8, 8, 8, 8, 8, 8, 8, 7, 8, 8, 8, 8, 8, 8, 8, 8, 8, 8, 8, 8, 8, 8, 8, 8, 8, 8, 8, 8, 8, 8, 8, 8, 8, 8, 8, 8, 8, 8, 8, 8, 8, 8, 8, 8, 8, 8, 8, 8, 7, 8, 8, 7, 8, 8, 8, 8, 8, 8, 5, 5, 8, 8, 8, 8, 8, 8, 7, 8, 8, 8, 8, 8, 8, 8, 8, 8, 8, 8, 8, 7, 8, 8, 8, 8, 8, 8, 8, 8, 8, 8, 8, 8, 8, 8, 7, 8, 8, 8, 8, 8, 8, 8, 8, 8, 8, 8, 8, 8, 8, 8, 8, 8, 8, 8, 8, 8, 8, 8, 8, 8, 8, 8, 8, 8, 8, 8, 8, 8, 8, 8, 8, 8, 8, 8, 8, 8, 8, 8, 8, 7, 8, 8, 8, 8, 8, 8, 8, 8, 8, 8, 8, 8, 8, 8, 8, 8, 8, 8, 8, 8, 7, 8, 8, 8, 8, 7, 8, 8, 8, 8, 8, 8, 8, 8, 8, 8, 8, 8, 8, 8, 8, 8, 8, 8, 8, 8, 8, 8, 8, 8, 8, 8, 8, 8, 8, 8, 8, 8, 8, 8, 8, 8, 8, 8, 8, 8, 8, 8, 8, 8, 8, 8, 8, 8, 8, 8, 8, 8, 8, 8, 8, 8, 8, 8, 8, 8, 8, 8, 8, 8]\n",
        "[0, 1, 2, 3, 4, 5, 6, 7, 8, 9, 5, 12, 13, 14, 15, 16, 17, 18, 19, 20, 21, 22, 23, 24, 25, 26, 27, 28, 29, 30, 31, 32, 33, 34, 35, 36, 37, 38, 39, 40, 41, 42, 43, 44, 45, 46, 47, 48, 49, 50, 51, 26, 54, 55, 28, 58, 59, 60, 61, 62, 63, 8, 9, 80, 81, 82, 83, 84, 85, 43, 88, 89, 90, 91, 92, 93, 94, 95, 96, 97, 98, 99, 50, 102, 103, 104, 105, 106, 107, 108, 109, 110, 111, 112, 113, 114, 115, 58, 118, 119, 120, 121, 122, 123, 124, 125, 126, 127, 128, 129, 130, 131, 132, 133, 134, 135, 136, 137, 138, 139, 140, 141, 142, 143, 144, 145, 146, 147, 148, 149, 150, 151, 152, 153, 154, 155, 156, 157, 158, 159, 160, 161, 81, 164, 165, 166, 167, 168, 169, 170, 171, 172, 173, 174, 175, 176, 177, 178, 179, 180, 181, 182, 183, 92, 186, 187, 188, 189, 95, 192, 193, 194, 195, 196, 197, 198, 199, 200, 201, 202, 203, 204, 205, 206, 207, 208, 209, 210, 211, 212, 213, 214, 215, 216, 217, 218, 219, 220, 221, 222, 223, 224, 225, 226, 227, 228, 229, 230, 231, 232, 233, 234, 235, 236, 237, 238, 239, 240, 241, 242, 243, 244, 245, 246, 247, 248, 249, 250, 251, 252, 253, 254, 255]\n"
       ]
      }
     ],
     "prompt_number": 13
    },
    {
     "cell_type": "code",
     "collapsed": false,
     "input": [
      "from helperfuncs.PickBases import PickBases\n",
      "\n",
      "PacketTable_bb = PickBases(PacketTable, levels, items)\n",
      "\n",
      "#print PacketTable_bb"
     ],
     "language": "python",
     "metadata": {},
     "outputs": [],
     "prompt_number": 14
    },
    {
     "cell_type": "code",
     "collapsed": false,
     "input": [
      "from helperfuncs.FancyPlotWavelet_im import FancyPlotWavelet\n",
      "\n",
      "FancyPlotWavelet(PacketTable_bb, levels, N, Fs, title='Wavelet Package Decomposition\\nResolution based on Shannon\\'s entropy')"
     ],
     "language": "python",
     "metadata": {},
     "outputs": [
      {
       "output_type": "stream",
       "stream": "stdout",
       "text": [
        "Generated row 100\n",
        "Generated row 200"
       ]
      },
      {
       "output_type": "stream",
       "stream": "stdout",
       "text": [
        "\n",
        "Generated row 300"
       ]
      },
      {
       "output_type": "stream",
       "stream": "stdout",
       "text": [
        "\n",
        "Generated row 400"
       ]
      },
      {
       "output_type": "stream",
       "stream": "stdout",
       "text": [
        "\n",
        "Generated row 500"
       ]
      },
      {
       "output_type": "stream",
       "stream": "stdout",
       "text": [
        "\n",
        "Generated row 600"
       ]
      },
      {
       "output_type": "stream",
       "stream": "stdout",
       "text": [
        "\n",
        "Generated row 700"
       ]
      },
      {
       "output_type": "stream",
       "stream": "stdout",
       "text": [
        "\n",
        "Generated row 800"
       ]
      },
      {
       "output_type": "stream",
       "stream": "stdout",
       "text": [
        "\n",
        "Generated row 900"
       ]
      },
      {
       "output_type": "stream",
       "stream": "stdout",
       "text": [
        "\n",
        "Generated row 1000"
       ]
      },
      {
       "output_type": "stream",
       "stream": "stdout",
       "text": [
        "\n",
        "Generated row 1100\n",
        "Generated row 1200\n",
        "Generated row 1300"
       ]
      },
      {
       "output_type": "stream",
       "stream": "stdout",
       "text": [
        "\n",
        "Generated row 1400"
       ]
      },
      {
       "output_type": "stream",
       "stream": "stdout",
       "text": [
        "\n",
        "Generated row 1500"
       ]
      },
      {
       "output_type": "stream",
       "stream": "stdout",
       "text": [
        "\n",
        "Generated row 1600"
       ]
      },
      {
       "output_type": "stream",
       "stream": "stdout",
       "text": [
        "\n",
        "Generated row 1700"
       ]
      },
      {
       "output_type": "stream",
       "stream": "stdout",
       "text": [
        "\n",
        "Generated row 1800"
       ]
      },
      {
       "output_type": "stream",
       "stream": "stdout",
       "text": [
        "\n",
        "Generated row 1900"
       ]
      },
      {
       "output_type": "stream",
       "stream": "stdout",
       "text": [
        "\n",
        "Generated row 2000"
       ]
      },
      {
       "output_type": "stream",
       "stream": "stdout",
       "text": [
        "\n",
        "Generated row 2100"
       ]
      },
      {
       "output_type": "stream",
       "stream": "stdout",
       "text": [
        "\n",
        "Generated row 2200"
       ]
      },
      {
       "output_type": "stream",
       "stream": "stdout",
       "text": [
        "\n",
        "Generated row 2300"
       ]
      },
      {
       "output_type": "stream",
       "stream": "stdout",
       "text": [
        "\n",
        "Generated row 2400"
       ]
      },
      {
       "output_type": "stream",
       "stream": "stdout",
       "text": [
        "\n",
        "Generated row 2500"
       ]
      },
      {
       "output_type": "stream",
       "stream": "stdout",
       "text": [
        "\n",
        "Generated row 2600"
       ]
      },
      {
       "output_type": "stream",
       "stream": "stdout",
       "text": [
        "\n",
        "Generated row 2700"
       ]
      },
      {
       "output_type": "stream",
       "stream": "stdout",
       "text": [
        "\n",
        "Generated row 2800"
       ]
      },
      {
       "output_type": "stream",
       "stream": "stdout",
       "text": [
        "\n",
        "Generated row 2900"
       ]
      },
      {
       "output_type": "stream",
       "stream": "stdout",
       "text": [
        "\n",
        "Generated row 3000"
       ]
      },
      {
       "output_type": "stream",
       "stream": "stdout",
       "text": [
        "\n",
        "Generated row 3100"
       ]
      },
      {
       "output_type": "stream",
       "stream": "stdout",
       "text": [
        "\n",
        "Generated row 3200"
       ]
      },
      {
       "output_type": "stream",
       "stream": "stdout",
       "text": [
        "\n",
        "Generated row 3300"
       ]
      },
      {
       "output_type": "stream",
       "stream": "stdout",
       "text": [
        "\n",
        "Generated row 3400"
       ]
      },
      {
       "output_type": "stream",
       "stream": "stdout",
       "text": [
        "\n",
        "Generated row 3500"
       ]
      },
      {
       "output_type": "stream",
       "stream": "stdout",
       "text": [
        "\n",
        "Generated row 3600"
       ]
      },
      {
       "output_type": "stream",
       "stream": "stdout",
       "text": [
        "\n",
        "Generated row 3700"
       ]
      },
      {
       "output_type": "stream",
       "stream": "stdout",
       "text": [
        "\n",
        "Generated row 3800"
       ]
      },
      {
       "output_type": "stream",
       "stream": "stdout",
       "text": [
        "\n",
        "Generated row 3900"
       ]
      },
      {
       "output_type": "stream",
       "stream": "stdout",
       "text": [
        "\n",
        "Generated row 4000"
       ]
      },
      {
       "output_type": "stream",
       "stream": "stdout",
       "text": [
        "\n"
       ]
      }
     ],
     "prompt_number": 15
    },
    {
     "cell_type": "code",
     "collapsed": false,
     "input": [],
     "language": "python",
     "metadata": {},
     "outputs": []
    }
   ],
   "metadata": {}
  }
 ]
}
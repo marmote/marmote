{
 "metadata": {
  "name": "BreakTest_AluminiumBeam - AIC picker 200,800"
 },
 "nbformat": 3,
 "nbformat_minor": 0,
 "worksheets": [
  {
   "cells": [
    {
     "cell_type": "heading",
     "level": 1,
     "metadata": {},
     "source": [
      "Read in preprocessed raw data"
     ]
    },
    {
     "cell_type": "markdown",
     "metadata": {},
     "source": [
      "First let's read in the data from BreakTest_AluminiumBeam measurement. Note that the threshold filter has already filtered out the frames with signals in them."
     ]
    },
    {
     "cell_type": "code",
     "collapsed": false,
     "input": [
      "from helperfuncs.ReadAEMeas import ReadAEMeas\n",
      "\n",
      "dir = '../../../Measurements/BreakTest_AluminiumBeam/results.enhanced/1-0.5'\n",
      "y_1, y2_1, T_1, fnames_1, start_time_1 = ReadAEMeas(dir)\n",
      "\n",
      "Fs = 1/T_1\n",
      "#print Fs"
     ],
     "language": "python",
     "metadata": {},
     "outputs": [
      {
       "output_type": "stream",
       "stream": "stdout",
       "text": [
        "Module folder added to system path: /home/ubuntu/Marmote/tools/ControlRecord/ControlRecord\n",
        "Opening file: ../../../Measurements/BreakTest_AluminiumBeam/results.enhanced/1-0.5/collect_0.bin"
       ]
      },
      {
       "output_type": "stream",
       "stream": "stdout",
       "text": [
        "\n",
        "Closed file: ../../../Measurements/BreakTest_AluminiumBeam/results.enhanced/1-0.5/collect_0.bin\n",
        "Opening file: ../../../Measurements/BreakTest_AluminiumBeam/results.enhanced/1-0.5/collect_1.bin\n",
        "Closed file: ../../../Measurements/BreakTest_AluminiumBeam/results.enhanced/1-0.5/collect_1.bin\n",
        "Opening file: ../../../Measurements/BreakTest_AluminiumBeam/results.enhanced/1-0.5/collect_2.bin\n",
        "Closed file: ../../../Measurements/BreakTest_AluminiumBeam/results.enhanced/1-0.5/collect_2.bin\n",
        "Opening file: ../../../Measurements/BreakTest_AluminiumBeam/results.enhanced/1-0.5/collect_3.bin\n",
        "Closed file: ../../../Measurements/BreakTest_AluminiumBeam/results.enhanced/1-0.5/collect_3.bin\n",
        "Opening file: ../../../Measurements/BreakTest_AluminiumBeam/results.enhanced/1-0.5/collect_4.bin\n",
        "Closed file: ../../../Measurements/BreakTest_AluminiumBeam/results.enhanced/1-0.5/collect_4.bin"
       ]
      },
      {
       "output_type": "stream",
       "stream": "stdout",
       "text": [
        "\n",
        "Opening file: ../../../Measurements/BreakTest_AluminiumBeam/results.enhanced/1-0.5/collect_5.bin\n",
        "Closed file: ../../../Measurements/BreakTest_AluminiumBeam/results.enhanced/1-0.5/collect_5.bin\n",
        "Opening file: ../../../Measurements/BreakTest_AluminiumBeam/results.enhanced/1-0.5/collect_6.bin\n",
        "Closed file: ../../../Measurements/BreakTest_AluminiumBeam/results.enhanced/1-0.5/collect_6.bin\n",
        "Opening file: ../../../Measurements/BreakTest_AluminiumBeam/results.enhanced/1-0.5/collect_7.bin\n",
        "Closed file: ../../../Measurements/BreakTest_AluminiumBeam/results.enhanced/1-0.5/collect_7.bin\n",
        "Opening file: ../../../Measurements/BreakTest_AluminiumBeam/results.enhanced/1-0.5/collect_8.bin\n",
        "Closed file: ../../../Measurements/BreakTest_AluminiumBeam/results.enhanced/1-0.5/collect_8.bin"
       ]
      },
      {
       "output_type": "stream",
       "stream": "stdout",
       "text": [
        "\n",
        "Opening file: ../../../Measurements/BreakTest_AluminiumBeam/results.enhanced/1-0.5/collect_9.bin\n",
        "Closed file: ../../../Measurements/BreakTest_AluminiumBeam/results.enhanced/1-0.5/collect_9.bin\n",
        "Opening file: ../../../Measurements/BreakTest_AluminiumBeam/results.enhanced/1-0.5/collect_10.bin\n",
        "Closed file: ../../../Measurements/BreakTest_AluminiumBeam/results.enhanced/1-0.5/collect_10.bin\n",
        "Opening file: ../../../Measurements/BreakTest_AluminiumBeam/results.enhanced/1-0.5/collect_11.bin\n",
        "Closed file: ../../../Measurements/BreakTest_AluminiumBeam/results.enhanced/1-0.5/collect_11.bin\n",
        "Opening file: ../../../Measurements/BreakTest_AluminiumBeam/results.enhanced/1-0.5/collect_12.bin\n",
        "Closed file: ../../../Measurements/BreakTest_AluminiumBeam/results.enhanced/1-0.5/collect_12.bin"
       ]
      },
      {
       "output_type": "stream",
       "stream": "stdout",
       "text": [
        "\n",
        "Opening file: ../../../Measurements/BreakTest_AluminiumBeam/results.enhanced/1-0.5/collect_13.bin\n",
        "Closed file: ../../../Measurements/BreakTest_AluminiumBeam/results.enhanced/1-0.5/collect_13.bin\n",
        "Opening file: ../../../Measurements/BreakTest_AluminiumBeam/results.enhanced/1-0.5/collect_14.bin\n",
        "Closed file: ../../../Measurements/BreakTest_AluminiumBeam/results.enhanced/1-0.5/collect_14.bin\n",
        "Opening file: ../../../Measurements/BreakTest_AluminiumBeam/results.enhanced/1-0.5/collect_15.bin\n",
        "Closed file: ../../../Measurements/BreakTest_AluminiumBeam/results.enhanced/1-0.5/collect_15.bin\n",
        "Opening file: ../../../Measurements/BreakTest_AluminiumBeam/results.enhanced/1-0.5/collect_16.bin"
       ]
      },
      {
       "output_type": "stream",
       "stream": "stdout",
       "text": [
        "\n",
        "Closed file: ../../../Measurements/BreakTest_AluminiumBeam/results.enhanced/1-0.5/collect_16.bin\n",
        "Opening file: ../../../Measurements/BreakTest_AluminiumBeam/results.enhanced/1-0.5/collect_17.bin\n",
        "Closed file: ../../../Measurements/BreakTest_AluminiumBeam/results.enhanced/1-0.5/collect_17.bin\n",
        "Opening file: ../../../Measurements/BreakTest_AluminiumBeam/results.enhanced/1-0.5/collect_18.bin\n",
        "Closed file: ../../../Measurements/BreakTest_AluminiumBeam/results.enhanced/1-0.5/collect_18.bin\n",
        "Opening file: ../../../Measurements/BreakTest_AluminiumBeam/results.enhanced/1-0.5/collect_19.bin\n",
        "Closed file: ../../../Measurements/BreakTest_AluminiumBeam/results.enhanced/1-0.5/collect_19.bin"
       ]
      },
      {
       "output_type": "stream",
       "stream": "stdout",
       "text": [
        "\n",
        "Opening file: ../../../Measurements/BreakTest_AluminiumBeam/results.enhanced/1-0.5/collect_20.bin\n",
        "Closed file: ../../../Measurements/BreakTest_AluminiumBeam/results.enhanced/1-0.5/collect_20.bin\n",
        "Opening file: ../../../Measurements/BreakTest_AluminiumBeam/results.enhanced/1-0.5/collect_21.bin\n",
        "Closed file: ../../../Measurements/BreakTest_AluminiumBeam/results.enhanced/1-0.5/collect_21.bin\n",
        "Opening file: ../../../Measurements/BreakTest_AluminiumBeam/results.enhanced/1-0.5/collect_22.bin\n",
        "Closed file: ../../../Measurements/BreakTest_AluminiumBeam/results.enhanced/1-0.5/collect_22.bin\n",
        "Opening file: ../../../Measurements/BreakTest_AluminiumBeam/results.enhanced/1-0.5/collect_23.bin"
       ]
      },
      {
       "output_type": "stream",
       "stream": "stdout",
       "text": [
        "\n",
        "Closed file: ../../../Measurements/BreakTest_AluminiumBeam/results.enhanced/1-0.5/collect_23.bin\n",
        "Opening file: ../../../Measurements/BreakTest_AluminiumBeam/results.enhanced/1-0.5/collect_24.bin\n",
        "Closed file: ../../../Measurements/BreakTest_AluminiumBeam/results.enhanced/1-0.5/collect_24.bin\n",
        "Opening file: ../../../Measurements/BreakTest_AluminiumBeam/results.enhanced/1-0.5/collect_25.bin\n",
        "Closed file: ../../../Measurements/BreakTest_AluminiumBeam/results.enhanced/1-0.5/collect_25.bin\n",
        "Opening file: ../../../Measurements/BreakTest_AluminiumBeam/results.enhanced/1-0.5/collect_26.bin\n",
        "Closed file: ../../../Measurements/BreakTest_AluminiumBeam/results.enhanced/1-0.5/collect_26.bin\n",
        "Opening file: ../../../Measurements/BreakTest_AluminiumBeam/results.enhanced/1-0.5/collect_27.bin\n",
        "Closed file: ../../../Measurements/BreakTest_AluminiumBeam/results.enhanced/1-0.5/collect_27.bin"
       ]
      },
      {
       "output_type": "stream",
       "stream": "stdout",
       "text": [
        "\n",
        "Opening file: ../../../Measurements/BreakTest_AluminiumBeam/results.enhanced/1-0.5/collect_28.bin\n",
        "Closed file: ../../../Measurements/BreakTest_AluminiumBeam/results.enhanced/1-0.5/collect_28.bin\n",
        "Opening file: ../../../Measurements/BreakTest_AluminiumBeam/results.enhanced/1-0.5/collect_29.bin\n",
        "Closed file: ../../../Measurements/BreakTest_AluminiumBeam/results.enhanced/1-0.5/collect_29.bin\n",
        "Opening file: ../../../Measurements/BreakTest_AluminiumBeam/results.enhanced/1-0.5/collect_30.bin\n",
        "Closed file: ../../../Measurements/BreakTest_AluminiumBeam/results.enhanced/1-0.5/collect_30.bin\n",
        "Opening file: ../../../Measurements/BreakTest_AluminiumBeam/results.enhanced/1-0.5/collect_31.bin\n",
        "Closed file: ../../../Measurements/BreakTest_AluminiumBeam/results.enhanced/1-0.5/collect_31.bin"
       ]
      },
      {
       "output_type": "stream",
       "stream": "stdout",
       "text": [
        "\n",
        "Opening file: ../../../Measurements/BreakTest_AluminiumBeam/results.enhanced/1-0.5/collect_32.bin\n",
        "Closed file: ../../../Measurements/BreakTest_AluminiumBeam/results.enhanced/1-0.5/collect_32.bin\n",
        "Opening file: ../../../Measurements/BreakTest_AluminiumBeam/results.enhanced/1-0.5/collect_33.bin\n",
        "Closed file: ../../../Measurements/BreakTest_AluminiumBeam/results.enhanced/1-0.5/collect_33.bin\n",
        "Opening file: ../../../Measurements/BreakTest_AluminiumBeam/results.enhanced/1-0.5/collect_34.bin\n",
        "Closed file: ../../../Measurements/BreakTest_AluminiumBeam/results.enhanced/1-0.5/collect_34.bin\n",
        "Opening file: ../../../Measurements/BreakTest_AluminiumBeam/results.enhanced/1-0.5/collect_35.bin\n",
        "Closed file: ../../../Measurements/BreakTest_AluminiumBeam/results.enhanced/1-0.5/collect_35.bin\n",
        "Opening file: ../../../Measurements/BreakTest_AluminiumBeam/results.enhanced/1-0.5/collect_36.bin\n",
        "Closed file: ../../../Measurements/BreakTest_AluminiumBeam/results.enhanced/1-0.5/collect_36.bin\n",
        "Opening file: ../../../Measurements/BreakTest_AluminiumBeam/results.enhanced/1-0.5/collect_37.bin\n",
        "Closed file: ../../../Measurements/BreakTest_AluminiumBeam/results.enhanced/1-0.5/collect_37.bin"
       ]
      },
      {
       "output_type": "stream",
       "stream": "stdout",
       "text": [
        "\n",
        "Opening file: ../../../Measurements/BreakTest_AluminiumBeam/results.enhanced/1-0.5/collect_38.bin\n",
        "Closed file: ../../../Measurements/BreakTest_AluminiumBeam/results.enhanced/1-0.5/collect_38.bin\n",
        "Opening file: ../../../Measurements/BreakTest_AluminiumBeam/results.enhanced/1-0.5/collect_39.bin\n",
        "Closed file: ../../../Measurements/BreakTest_AluminiumBeam/results.enhanced/1-0.5/collect_39.bin\n",
        "Opening file: ../../../Measurements/BreakTest_AluminiumBeam/results.enhanced/1-0.5/collect_40.bin\n",
        "Closed file: ../../../Measurements/BreakTest_AluminiumBeam/results.enhanced/1-0.5/collect_40.bin\n",
        "Opening file: ../../../Measurements/BreakTest_AluminiumBeam/results.enhanced/1-0.5/collect_41.bin\n",
        "Closed file: ../../../Measurements/BreakTest_AluminiumBeam/results.enhanced/1-0.5/collect_41.bin\n",
        "Opening file: ../../../Measurements/BreakTest_AluminiumBeam/results.enhanced/1-0.5/collect_42.bin\n",
        "Closed file: ../../../Measurements/BreakTest_AluminiumBeam/results.enhanced/1-0.5/collect_42.bin\n",
        "Opening file: ../../../Measurements/BreakTest_AluminiumBeam/results.enhanced/1-0.5/collect_43.bin\n",
        "Closed file: ../../../Measurements/BreakTest_AluminiumBeam/results.enhanced/1-0.5/collect_43.bin\n",
        "Opening file: ../../../Measurements/BreakTest_AluminiumBeam/results.enhanced/1-0.5/collect_44.bin\n",
        "Closed file: ../../../Measurements/BreakTest_AluminiumBeam/results.enhanced/1-0.5/collect_44.bin"
       ]
      },
      {
       "output_type": "stream",
       "stream": "stdout",
       "text": [
        "\n",
        "Opening file: ../../../Measurements/BreakTest_AluminiumBeam/results.enhanced/1-0.5/collect_45.bin\n",
        "Closed file: ../../../Measurements/BreakTest_AluminiumBeam/results.enhanced/1-0.5/collect_45.bin\n",
        "Opening file: ../../../Measurements/BreakTest_AluminiumBeam/results.enhanced/1-0.5/collect_46.bin\n",
        "Closed file: ../../../Measurements/BreakTest_AluminiumBeam/results.enhanced/1-0.5/collect_46.bin\n",
        "Opening file: ../../../Measurements/BreakTest_AluminiumBeam/results.enhanced/1-0.5/collect_47.bin\n",
        "Closed file: ../../../Measurements/BreakTest_AluminiumBeam/results.enhanced/1-0.5/collect_47.bin\n",
        "Opening file: ../../../Measurements/BreakTest_AluminiumBeam/results.enhanced/1-0.5/collect_48.bin\n",
        "Closed file: ../../../Measurements/BreakTest_AluminiumBeam/results.enhanced/1-0.5/collect_48.bin\n",
        "Opening file: ../../../Measurements/BreakTest_AluminiumBeam/results.enhanced/1-0.5/collect_49.bin\n",
        "Closed file: ../../../Measurements/BreakTest_AluminiumBeam/results.enhanced/1-0.5/collect_49.bin\n",
        "Opening file: ../../../Measurements/BreakTest_AluminiumBeam/results.enhanced/1-0.5/collect_50.bin\n",
        "Closed file: ../../../Measurements/BreakTest_AluminiumBeam/results.enhanced/1-0.5/collect_50.bin\n",
        "Opening file: ../../../Measurements/BreakTest_AluminiumBeam/results.enhanced/1-0.5/collect_51.bin\n",
        "Closed file: ../../../Measurements/BreakTest_AluminiumBeam/results.enhanced/1-0.5/collect_51.bin"
       ]
      },
      {
       "output_type": "stream",
       "stream": "stdout",
       "text": [
        "\n",
        "Opening file: ../../../Measurements/BreakTest_AluminiumBeam/results.enhanced/1-0.5/collect_52.bin\n",
        "Closed file: ../../../Measurements/BreakTest_AluminiumBeam/results.enhanced/1-0.5/collect_52.bin\n",
        "Opening file: ../../../Measurements/BreakTest_AluminiumBeam/results.enhanced/1-0.5/collect_53.bin\n",
        "Closed file: ../../../Measurements/BreakTest_AluminiumBeam/results.enhanced/1-0.5/collect_53.bin\n",
        "Opening file: ../../../Measurements/BreakTest_AluminiumBeam/results.enhanced/1-0.5/collect_54.bin\n",
        "Closed file: ../../../Measurements/BreakTest_AluminiumBeam/results.enhanced/1-0.5/collect_54.bin\n",
        "Opening file: ../../../Measurements/BreakTest_AluminiumBeam/results.enhanced/1-0.5/collect_55.bin\n",
        "Closed file: ../../../Measurements/BreakTest_AluminiumBeam/results.enhanced/1-0.5/collect_55.bin\n",
        "Opening file: ../../../Measurements/BreakTest_AluminiumBeam/results.enhanced/1-0.5/collect_56.bin\n",
        "Closed file: ../../../Measurements/BreakTest_AluminiumBeam/results.enhanced/1-0.5/collect_56.bin\n",
        "Opening file: ../../../Measurements/BreakTest_AluminiumBeam/results.enhanced/1-0.5/collect_57.bin\n",
        "Closed file: ../../../Measurements/BreakTest_AluminiumBeam/results.enhanced/1-0.5/collect_57.bin\n",
        "Opening file: ../../../Measurements/BreakTest_AluminiumBeam/results.enhanced/1-0.5/collect_58.bin\n",
        "Closed file: ../../../Measurements/BreakTest_AluminiumBeam/results.enhanced/1-0.5/collect_58.bin"
       ]
      },
      {
       "output_type": "stream",
       "stream": "stdout",
       "text": [
        "\n",
        "Opening file: ../../../Measurements/BreakTest_AluminiumBeam/results.enhanced/1-0.5/collect_59.bin\n",
        "Closed file: ../../../Measurements/BreakTest_AluminiumBeam/results.enhanced/1-0.5/collect_59.bin\n",
        "Opening file: ../../../Measurements/BreakTest_AluminiumBeam/results.enhanced/1-0.5/collect_60.bin\n",
        "Closed file: ../../../Measurements/BreakTest_AluminiumBeam/results.enhanced/1-0.5/collect_60.bin\n",
        "Opening file: ../../../Measurements/BreakTest_AluminiumBeam/results.enhanced/1-0.5/collect_61.bin\n",
        "Closed file: ../../../Measurements/BreakTest_AluminiumBeam/results.enhanced/1-0.5/collect_61.bin\n",
        "Opening file: ../../../Measurements/BreakTest_AluminiumBeam/results.enhanced/1-0.5/collect_62.bin\n",
        "Closed file: ../../../Measurements/BreakTest_AluminiumBeam/results.enhanced/1-0.5/collect_62.bin\n",
        "Opening file: ../../../Measurements/BreakTest_AluminiumBeam/results.enhanced/1-0.5/collect_63.bin"
       ]
      },
      {
       "output_type": "stream",
       "stream": "stdout",
       "text": [
        "\n",
        "Closed file: ../../../Measurements/BreakTest_AluminiumBeam/results.enhanced/1-0.5/collect_63.bin\n",
        "Opening file: ../../../Measurements/BreakTest_AluminiumBeam/results.enhanced/1-0.5/collect_64.bin\n",
        "Closed file: ../../../Measurements/BreakTest_AluminiumBeam/results.enhanced/1-0.5/collect_64.bin\n",
        "Opening file: ../../../Measurements/BreakTest_AluminiumBeam/results.enhanced/1-0.5/collect_65.bin\n",
        "Closed file: ../../../Measurements/BreakTest_AluminiumBeam/results.enhanced/1-0.5/collect_65.bin\n",
        "Opening file: ../../../Measurements/BreakTest_AluminiumBeam/results.enhanced/1-0.5/collect_66.bin\n",
        "Closed file: ../../../Measurements/BreakTest_AluminiumBeam/results.enhanced/1-0.5/collect_66.bin\n",
        "Opening file: ../../../Measurements/BreakTest_AluminiumBeam/results.enhanced/1-0.5/collect_67.bin\n",
        "Closed file: ../../../Measurements/BreakTest_AluminiumBeam/results.enhanced/1-0.5/collect_67.bin\n",
        "Opening file: ../../../Measurements/BreakTest_AluminiumBeam/results.enhanced/1-0.5/collect_68.bin\n",
        "Closed file: ../../../Measurements/BreakTest_AluminiumBeam/results.enhanced/1-0.5/collect_68.bin"
       ]
      },
      {
       "output_type": "stream",
       "stream": "stdout",
       "text": [
        "\n",
        "Opening file: ../../../Measurements/BreakTest_AluminiumBeam/results.enhanced/1-0.5/collect_69.bin\n",
        "Closed file: ../../../Measurements/BreakTest_AluminiumBeam/results.enhanced/1-0.5/collect_69.bin\n",
        "Opening file: ../../../Measurements/BreakTest_AluminiumBeam/results.enhanced/1-0.5/collect_70.bin\n",
        "Closed file: ../../../Measurements/BreakTest_AluminiumBeam/results.enhanced/1-0.5/collect_70.bin\n",
        "Opening file: ../../../Measurements/BreakTest_AluminiumBeam/results.enhanced/1-0.5/collect_71.bin\n",
        "Closed file: ../../../Measurements/BreakTest_AluminiumBeam/results.enhanced/1-0.5/collect_71.bin\n",
        "Opening file: ../../../Measurements/BreakTest_AluminiumBeam/results.enhanced/1-0.5/collect_72.bin\n",
        "Closed file: ../../../Measurements/BreakTest_AluminiumBeam/results.enhanced/1-0.5/collect_72.bin\n",
        "Opening file: ../../../Measurements/BreakTest_AluminiumBeam/results.enhanced/1-0.5/collect_73.bin\n",
        "Closed file: ../../../Measurements/BreakTest_AluminiumBeam/results.enhanced/1-0.5/collect_73.bin\n",
        "Opening file: ../../../Measurements/BreakTest_AluminiumBeam/results.enhanced/1-0.5/collect_74.bin\n",
        "Closed file: ../../../Measurements/BreakTest_AluminiumBeam/results.enhanced/1-0.5/collect_74.bin\n",
        "Opening file: ../../../Measurements/BreakTest_AluminiumBeam/results.enhanced/1-0.5/collect_75.bin\n",
        "Closed file: ../../../Measurements/BreakTest_AluminiumBeam/results.enhanced/1-0.5/collect_75.bin"
       ]
      },
      {
       "output_type": "stream",
       "stream": "stdout",
       "text": [
        "\n",
        "Opening file: ../../../Measurements/BreakTest_AluminiumBeam/results.enhanced/1-0.5/collect_76.bin\n",
        "Closed file: ../../../Measurements/BreakTest_AluminiumBeam/results.enhanced/1-0.5/collect_76.bin\n",
        "Opening file: ../../../Measurements/BreakTest_AluminiumBeam/results.enhanced/1-0.5/collect_77.bin\n",
        "Closed file: ../../../Measurements/BreakTest_AluminiumBeam/results.enhanced/1-0.5/collect_77.bin\n",
        "Opening file: ../../../Measurements/BreakTest_AluminiumBeam/results.enhanced/1-0.5/collect_78.bin\n",
        "Closed file: ../../../Measurements/BreakTest_AluminiumBeam/results.enhanced/1-0.5/collect_78.bin\n",
        "Opening file: ../../../Measurements/BreakTest_AluminiumBeam/results.enhanced/1-0.5/collect_79.bin\n",
        "Closed file: ../../../Measurements/BreakTest_AluminiumBeam/results.enhanced/1-0.5/collect_79.bin\n",
        "Opening file: ../../../Measurements/BreakTest_AluminiumBeam/results.enhanced/1-0.5/collect_80.bin\n",
        "Closed file: ../../../Measurements/BreakTest_AluminiumBeam/results.enhanced/1-0.5/collect_80.bin\n",
        "Opening file: ../../../Measurements/BreakTest_AluminiumBeam/results.enhanced/1-0.5/collect_81.bin\n",
        "Closed file: ../../../Measurements/BreakTest_AluminiumBeam/results.enhanced/1-0.5/collect_81.bin\n",
        "Opening file: ../../../Measurements/BreakTest_AluminiumBeam/results.enhanced/1-0.5/collect_82.bin\n",
        "Closed file: ../../../Measurements/BreakTest_AluminiumBeam/results.enhanced/1-0.5/collect_82.bin"
       ]
      },
      {
       "output_type": "stream",
       "stream": "stdout",
       "text": [
        "\n",
        "Opening file: ../../../Measurements/BreakTest_AluminiumBeam/results.enhanced/1-0.5/collect_83.bin\n",
        "Closed file: ../../../Measurements/BreakTest_AluminiumBeam/results.enhanced/1-0.5/collect_83.bin\n",
        "Opening file: ../../../Measurements/BreakTest_AluminiumBeam/results.enhanced/1-0.5/collect_84.bin\n",
        "Closed file: ../../../Measurements/BreakTest_AluminiumBeam/results.enhanced/1-0.5/collect_84.bin\n",
        "Opening file: ../../../Measurements/BreakTest_AluminiumBeam/results.enhanced/1-0.5/collect_85.bin\n",
        "Closed file: ../../../Measurements/BreakTest_AluminiumBeam/results.enhanced/1-0.5/collect_85.bin\n",
        "Opening file: ../../../Measurements/BreakTest_AluminiumBeam/results.enhanced/1-0.5/collect_86.bin\n",
        "Closed file: ../../../Measurements/BreakTest_AluminiumBeam/results.enhanced/1-0.5/collect_86.bin\n",
        "Opening file: ../../../Measurements/BreakTest_AluminiumBeam/results.enhanced/1-0.5/collect_87.bin\n",
        "Closed file: ../../../Measurements/BreakTest_AluminiumBeam/results.enhanced/1-0.5/collect_87.bin\n",
        "Opening file: ../../../Measurements/BreakTest_AluminiumBeam/results.enhanced/1-0.5/collect_88.bin\n",
        "Closed file: ../../../Measurements/BreakTest_AluminiumBeam/results.enhanced/1-0.5/collect_88.bin\n",
        "Opening file: ../../../Measurements/BreakTest_AluminiumBeam/results.enhanced/1-0.5/collect_89.bin"
       ]
      },
      {
       "output_type": "stream",
       "stream": "stdout",
       "text": [
        "\n",
        "Closed file: ../../../Measurements/BreakTest_AluminiumBeam/results.enhanced/1-0.5/collect_89.bin\n",
        "Opening file: ../../../Measurements/BreakTest_AluminiumBeam/results.enhanced/1-0.5/collect_90.bin\n",
        "Closed file: ../../../Measurements/BreakTest_AluminiumBeam/results.enhanced/1-0.5/collect_90.bin\n",
        "Opening file: ../../../Measurements/BreakTest_AluminiumBeam/results.enhanced/1-0.5/collect_91.bin\n",
        "Closed file: ../../../Measurements/BreakTest_AluminiumBeam/results.enhanced/1-0.5/collect_91.bin\n",
        "Opening file: ../../../Measurements/BreakTest_AluminiumBeam/results.enhanced/1-0.5/collect_92.bin\n",
        "Closed file: ../../../Measurements/BreakTest_AluminiumBeam/results.enhanced/1-0.5/collect_92.bin\n",
        "Opening file: ../../../Measurements/BreakTest_AluminiumBeam/results.enhanced/1-0.5/collect_93.bin\n",
        "Closed file: ../../../Measurements/BreakTest_AluminiumBeam/results.enhanced/1-0.5/collect_93.bin\n",
        "Opening file: ../../../Measurements/BreakTest_AluminiumBeam/results.enhanced/1-0.5/collect_94.bin"
       ]
      },
      {
       "output_type": "stream",
       "stream": "stdout",
       "text": [
        "\n",
        "Closed file: ../../../Measurements/BreakTest_AluminiumBeam/results.enhanced/1-0.5/collect_94.bin\n",
        "Opening file: ../../../Measurements/BreakTest_AluminiumBeam/results.enhanced/1-0.5/collect_95.bin\n",
        "Closed file: ../../../Measurements/BreakTest_AluminiumBeam/results.enhanced/1-0.5/collect_95.bin\n",
        "Opening file: ../../../Measurements/BreakTest_AluminiumBeam/results.enhanced/1-0.5/collect_96.bin\n",
        "Closed file: ../../../Measurements/BreakTest_AluminiumBeam/results.enhanced/1-0.5/collect_96.bin\n",
        "Opening file: ../../../Measurements/BreakTest_AluminiumBeam/results.enhanced/1-0.5/collect_97.bin\n",
        "Closed file: ../../../Measurements/BreakTest_AluminiumBeam/results.enhanced/1-0.5/collect_97.bin\n",
        "Opening file: ../../../Measurements/BreakTest_AluminiumBeam/results.enhanced/1-0.5/collect_98.bin\n",
        "Closed file: ../../../Measurements/BreakTest_AluminiumBeam/results.enhanced/1-0.5/collect_98.bin"
       ]
      },
      {
       "output_type": "stream",
       "stream": "stdout",
       "text": [
        "\n",
        "Opening file: ../../../Measurements/BreakTest_AluminiumBeam/results.enhanced/1-0.5/collect_99.bin\n",
        "Closed file: ../../../Measurements/BreakTest_AluminiumBeam/results.enhanced/1-0.5/collect_99.bin\n",
        "Opening file: ../../../Measurements/BreakTest_AluminiumBeam/results.enhanced/1-0.5/collect_100.bin\n",
        "Closed file: ../../../Measurements/BreakTest_AluminiumBeam/results.enhanced/1-0.5/collect_100.bin\n",
        "Opening file: ../../../Measurements/BreakTest_AluminiumBeam/results.enhanced/1-0.5/collect_101.bin\n",
        "Closed file: ../../../Measurements/BreakTest_AluminiumBeam/results.enhanced/1-0.5/collect_101.bin\n",
        "Opening file: ../../../Measurements/BreakTest_AluminiumBeam/results.enhanced/1-0.5/collect_102.bin\n",
        "Closed file: ../../../Measurements/BreakTest_AluminiumBeam/results.enhanced/1-0.5/collect_102.bin"
       ]
      },
      {
       "output_type": "stream",
       "stream": "stdout",
       "text": [
        "\n",
        "Opening file: ../../../Measurements/BreakTest_AluminiumBeam/results.enhanced/1-0.5/collect_103.bin\n",
        "Closed file: ../../../Measurements/BreakTest_AluminiumBeam/results.enhanced/1-0.5/collect_103.bin\n",
        "Opening file: ../../../Measurements/BreakTest_AluminiumBeam/results.enhanced/1-0.5/collect_104.bin\n",
        "Closed file: ../../../Measurements/BreakTest_AluminiumBeam/results.enhanced/1-0.5/collect_104.bin\n",
        "Opening file: ../../../Measurements/BreakTest_AluminiumBeam/results.enhanced/1-0.5/collect_105.bin\n",
        "Closed file: ../../../Measurements/BreakTest_AluminiumBeam/results.enhanced/1-0.5/collect_105.bin\n",
        "Opening file: ../../../Measurements/BreakTest_AluminiumBeam/results.enhanced/1-0.5/collect_106.bin\n",
        "Closed file: ../../../Measurements/BreakTest_AluminiumBeam/results.enhanced/1-0.5/collect_106.bin\n",
        "Opening file: ../../../Measurements/BreakTest_AluminiumBeam/results.enhanced/1-0.5/collect_107.bin\n",
        "Closed file: ../../../Measurements/BreakTest_AluminiumBeam/results.enhanced/1-0.5/collect_107.bin\n",
        "Opening file: ../../../Measurements/BreakTest_AluminiumBeam/results.enhanced/1-0.5/collect_108.bin\n",
        "Closed file: ../../../Measurements/BreakTest_AluminiumBeam/results.enhanced/1-0.5/collect_108.bin\n",
        "Opening file: ../../../Measurements/BreakTest_AluminiumBeam/results.enhanced/1-0.5/collect_109.bin\n",
        "Closed file: ../../../Measurements/BreakTest_AluminiumBeam/results.enhanced/1-0.5/collect_109.bin"
       ]
      },
      {
       "output_type": "stream",
       "stream": "stdout",
       "text": [
        "\n",
        "Opening file: ../../../Measurements/BreakTest_AluminiumBeam/results.enhanced/1-0.5/collect_110.bin\n",
        "Closed file: ../../../Measurements/BreakTest_AluminiumBeam/results.enhanced/1-0.5/collect_110.bin\n",
        "Opening file: ../../../Measurements/BreakTest_AluminiumBeam/results.enhanced/1-0.5/collect_111.bin\n",
        "Closed file: ../../../Measurements/BreakTest_AluminiumBeam/results.enhanced/1-0.5/collect_111.bin\n",
        "Opening file: ../../../Measurements/BreakTest_AluminiumBeam/results.enhanced/1-0.5/collect_112.bin\n",
        "Closed file: ../../../Measurements/BreakTest_AluminiumBeam/results.enhanced/1-0.5/collect_112.bin\n",
        "Opening file: ../../../Measurements/BreakTest_AluminiumBeam/results.enhanced/1-0.5/collect_113.bin\n",
        "Closed file: ../../../Measurements/BreakTest_AluminiumBeam/results.enhanced/1-0.5/collect_113.bin\n",
        "Opening file: ../../../Measurements/BreakTest_AluminiumBeam/results.enhanced/1-0.5/collect_114.bin\n",
        "Closed file: ../../../Measurements/BreakTest_AluminiumBeam/results.enhanced/1-0.5/collect_114.bin\n",
        "Opening file: ../../../Measurements/BreakTest_AluminiumBeam/results.enhanced/1-0.5/collect_115.bin\n",
        "Closed file: ../../../Measurements/BreakTest_AluminiumBeam/results.enhanced/1-0.5/collect_115.bin\n",
        "Opening file: ../../../Measurements/BreakTest_AluminiumBeam/results.enhanced/1-0.5/collect_116.bin\n",
        "Closed file: ../../../Measurements/BreakTest_AluminiumBeam/results.enhanced/1-0.5/collect_116.bin"
       ]
      },
      {
       "output_type": "stream",
       "stream": "stdout",
       "text": [
        "\n",
        "Opening file: ../../../Measurements/BreakTest_AluminiumBeam/results.enhanced/1-0.5/collect_117.bin\n",
        "Closed file: ../../../Measurements/BreakTest_AluminiumBeam/results.enhanced/1-0.5/collect_117.bin\n",
        "Opening file: ../../../Measurements/BreakTest_AluminiumBeam/results.enhanced/1-0.5/collect_118.bin\n",
        "Closed file: ../../../Measurements/BreakTest_AluminiumBeam/results.enhanced/1-0.5/collect_118.bin\n",
        "Opening file: ../../../Measurements/BreakTest_AluminiumBeam/results.enhanced/1-0.5/collect_119.bin\n",
        "Closed file: ../../../Measurements/BreakTest_AluminiumBeam/results.enhanced/1-0.5/collect_119.bin\n",
        "Opening file: ../../../Measurements/BreakTest_AluminiumBeam/results.enhanced/1-0.5/collect_120.bin\n",
        "Closed file: ../../../Measurements/BreakTest_AluminiumBeam/results.enhanced/1-0.5/collect_120.bin\n",
        "Opening file: ../../../Measurements/BreakTest_AluminiumBeam/results.enhanced/1-0.5/collect_121.bin\n",
        "Closed file: ../../../Measurements/BreakTest_AluminiumBeam/results.enhanced/1-0.5/collect_121.bin\n",
        "Opening file: ../../../Measurements/BreakTest_AluminiumBeam/results.enhanced/1-0.5/collect_122.bin\n",
        "Closed file: ../../../Measurements/BreakTest_AluminiumBeam/results.enhanced/1-0.5/collect_122.bin\n",
        "Opening file: ../../../Measurements/BreakTest_AluminiumBeam/results.enhanced/1-0.5/collect_123.bin\n",
        "Closed file: ../../../Measurements/BreakTest_AluminiumBeam/results.enhanced/1-0.5/collect_123.bin"
       ]
      },
      {
       "output_type": "stream",
       "stream": "stdout",
       "text": [
        "\n",
        "Opening file: ../../../Measurements/BreakTest_AluminiumBeam/results.enhanced/1-0.5/collect_124.bin\n",
        "Closed file: ../../../Measurements/BreakTest_AluminiumBeam/results.enhanced/1-0.5/collect_124.bin\n",
        "Opening file: ../../../Measurements/BreakTest_AluminiumBeam/results.enhanced/1-0.5/collect_125.bin\n",
        "Closed file: ../../../Measurements/BreakTest_AluminiumBeam/results.enhanced/1-0.5/collect_125.bin\n",
        "Opening file: ../../../Measurements/BreakTest_AluminiumBeam/results.enhanced/1-0.5/collect_126.bin\n",
        "Closed file: ../../../Measurements/BreakTest_AluminiumBeam/results.enhanced/1-0.5/collect_126.bin\n",
        "Opening file: ../../../Measurements/BreakTest_AluminiumBeam/results.enhanced/1-0.5/collect_127.bin\n",
        "Closed file: ../../../Measurements/BreakTest_AluminiumBeam/results.enhanced/1-0.5/collect_127.bin\n",
        "Opening file: ../../../Measurements/BreakTest_AluminiumBeam/results.enhanced/1-0.5/collect_128.bin\n",
        "Closed file: ../../../Measurements/BreakTest_AluminiumBeam/results.enhanced/1-0.5/collect_128.bin\n",
        "Opening file: ../../../Measurements/BreakTest_AluminiumBeam/results.enhanced/1-0.5/collect_129.bin\n",
        "Closed file: ../../../Measurements/BreakTest_AluminiumBeam/results.enhanced/1-0.5/collect_129.bin\n",
        "Opening file: ../../../Measurements/BreakTest_AluminiumBeam/results.enhanced/1-0.5/collect_130.bin\n",
        "Closed file: ../../../Measurements/BreakTest_AluminiumBeam/results.enhanced/1-0.5/collect_130.bin"
       ]
      },
      {
       "output_type": "stream",
       "stream": "stdout",
       "text": [
        "\n",
        "Opening file: ../../../Measurements/BreakTest_AluminiumBeam/results.enhanced/1-0.5/collect_131.bin\n",
        "Closed file: ../../../Measurements/BreakTest_AluminiumBeam/results.enhanced/1-0.5/collect_131.bin\n",
        "Opening file: ../../../Measurements/BreakTest_AluminiumBeam/results.enhanced/1-0.5/collect_132.bin\n",
        "Closed file: ../../../Measurements/BreakTest_AluminiumBeam/results.enhanced/1-0.5/collect_132.bin\n",
        "Opening file: ../../../Measurements/BreakTest_AluminiumBeam/results.enhanced/1-0.5/collect_133.bin\n",
        "Closed file: ../../../Measurements/BreakTest_AluminiumBeam/results.enhanced/1-0.5/collect_133.bin\n",
        "Opening file: ../../../Measurements/BreakTest_AluminiumBeam/results.enhanced/1-0.5/collect_134.bin\n",
        "Closed file: ../../../Measurements/BreakTest_AluminiumBeam/results.enhanced/1-0.5/collect_134.bin\n",
        "Opening file: ../../../Measurements/BreakTest_AluminiumBeam/results.enhanced/1-0.5/collect_135.bin\n",
        "Closed file: ../../../Measurements/BreakTest_AluminiumBeam/results.enhanced/1-0.5/collect_135.bin"
       ]
      },
      {
       "output_type": "stream",
       "stream": "stdout",
       "text": [
        "\n",
        "Opening file: ../../../Measurements/BreakTest_AluminiumBeam/results.enhanced/1-0.5/collect_136.bin\n",
        "Closed file: ../../../Measurements/BreakTest_AluminiumBeam/results.enhanced/1-0.5/collect_136.bin\n",
        "Opening file: ../../../Measurements/BreakTest_AluminiumBeam/results.enhanced/1-0.5/collect_137.bin\n",
        "Closed file: ../../../Measurements/BreakTest_AluminiumBeam/results.enhanced/1-0.5/collect_137.bin\n",
        "Opening file: ../../../Measurements/BreakTest_AluminiumBeam/results.enhanced/1-0.5/collect_138.bin\n",
        "Closed file: ../../../Measurements/BreakTest_AluminiumBeam/results.enhanced/1-0.5/collect_138.bin\n",
        "Opening file: ../../../Measurements/BreakTest_AluminiumBeam/results.enhanced/1-0.5/collect_139.bin\n",
        "Closed file: ../../../Measurements/BreakTest_AluminiumBeam/results.enhanced/1-0.5/collect_139.bin\n",
        "Opening file: ../../../Measurements/BreakTest_AluminiumBeam/results.enhanced/1-0.5/collect_140.bin\n",
        "Closed file: ../../../Measurements/BreakTest_AluminiumBeam/results.enhanced/1-0.5/collect_140.bin\n",
        "Opening file: ../../../Measurements/BreakTest_AluminiumBeam/results.enhanced/1-0.5/collect_141.bin"
       ]
      },
      {
       "output_type": "stream",
       "stream": "stdout",
       "text": [
        "\n",
        "Closed file: ../../../Measurements/BreakTest_AluminiumBeam/results.enhanced/1-0.5/collect_141.bin\n",
        "Opening file: ../../../Measurements/BreakTest_AluminiumBeam/results.enhanced/1-0.5/collect_142.bin\n",
        "Closed file: ../../../Measurements/BreakTest_AluminiumBeam/results.enhanced/1-0.5/collect_142.bin\n",
        "Opening file: ../../../Measurements/BreakTest_AluminiumBeam/results.enhanced/1-0.5/collect_143.bin\n",
        "Closed file: ../../../Measurements/BreakTest_AluminiumBeam/results.enhanced/1-0.5/collect_143.bin\n",
        "Opening file: ../../../Measurements/BreakTest_AluminiumBeam/results.enhanced/1-0.5/collect_144.bin\n",
        "Closed file: ../../../Measurements/BreakTest_AluminiumBeam/results.enhanced/1-0.5/collect_144.bin\n",
        "Opening file: ../../../Measurements/BreakTest_AluminiumBeam/results.enhanced/1-0.5/collect_145.bin\n",
        "Closed file: ../../../Measurements/BreakTest_AluminiumBeam/results.enhanced/1-0.5/collect_145.bin\n",
        "Opening file: ../../../Measurements/BreakTest_AluminiumBeam/results.enhanced/1-0.5/collect_146.bin\n",
        "Closed file: ../../../Measurements/BreakTest_AluminiumBeam/results.enhanced/1-0.5/collect_146.bin"
       ]
      },
      {
       "output_type": "stream",
       "stream": "stdout",
       "text": [
        "\n",
        "Opening file: ../../../Measurements/BreakTest_AluminiumBeam/results.enhanced/1-0.5/collect_147.bin\n",
        "Closed file: ../../../Measurements/BreakTest_AluminiumBeam/results.enhanced/1-0.5/collect_147.bin\n",
        "Opening file: ../../../Measurements/BreakTest_AluminiumBeam/results.enhanced/1-0.5/collect_148.bin\n",
        "Closed file: ../../../Measurements/BreakTest_AluminiumBeam/results.enhanced/1-0.5/collect_148.bin\n",
        "Opening file: ../../../Measurements/BreakTest_AluminiumBeam/results.enhanced/1-0.5/collect_149.bin\n",
        "Closed file: ../../../Measurements/BreakTest_AluminiumBeam/results.enhanced/1-0.5/collect_149.bin\n",
        "Opening file: ../../../Measurements/BreakTest_AluminiumBeam/results.enhanced/1-0.5/collect_150.bin\n",
        "Closed file: ../../../Measurements/BreakTest_AluminiumBeam/results.enhanced/1-0.5/collect_150.bin\n",
        "Opening file: ../../../Measurements/BreakTest_AluminiumBeam/results.enhanced/1-0.5/collect_151.bin\n",
        "Closed file: ../../../Measurements/BreakTest_AluminiumBeam/results.enhanced/1-0.5/collect_151.bin\n",
        "Opening file: ../../../Measurements/BreakTest_AluminiumBeam/results.enhanced/1-0.5/collect_152.bin\n",
        "Closed file: ../../../Measurements/BreakTest_AluminiumBeam/results.enhanced/1-0.5/collect_152.bin"
       ]
      },
      {
       "output_type": "stream",
       "stream": "stdout",
       "text": [
        "\n",
        "Opening file: ../../../Measurements/BreakTest_AluminiumBeam/results.enhanced/1-0.5/collect_153.bin\n",
        "Closed file: ../../../Measurements/BreakTest_AluminiumBeam/results.enhanced/1-0.5/collect_153.bin\n",
        "Opening file: ../../../Measurements/BreakTest_AluminiumBeam/results.enhanced/1-0.5/collect_154.bin\n",
        "Closed file: ../../../Measurements/BreakTest_AluminiumBeam/results.enhanced/1-0.5/collect_154.bin\n",
        "Opening file: ../../../Measurements/BreakTest_AluminiumBeam/results.enhanced/1-0.5/collect_155.bin\n",
        "Closed file: ../../../Measurements/BreakTest_AluminiumBeam/results.enhanced/1-0.5/collect_155.bin\n",
        "Opening file: ../../../Measurements/BreakTest_AluminiumBeam/results.enhanced/1-0.5/collect_156.bin\n",
        "Closed file: ../../../Measurements/BreakTest_AluminiumBeam/results.enhanced/1-0.5/collect_156.bin\n",
        "Opening file: ../../../Measurements/BreakTest_AluminiumBeam/results.enhanced/1-0.5/collect_157.bin\n",
        "Closed file: ../../../Measurements/BreakTest_AluminiumBeam/results.enhanced/1-0.5/collect_157.bin\n",
        "Opening file: ../../../Measurements/BreakTest_AluminiumBeam/results.enhanced/1-0.5/collect_158.bin\n",
        "Closed file: ../../../Measurements/BreakTest_AluminiumBeam/results.enhanced/1-0.5/collect_158.bin\n",
        "Opening file: ../../../Measurements/BreakTest_AluminiumBeam/results.enhanced/1-0.5/collect_159.bin\n",
        "Closed file: ../../../Measurements/BreakTest_AluminiumBeam/results.enhanced/1-0.5/collect_159.bin"
       ]
      },
      {
       "output_type": "stream",
       "stream": "stdout",
       "text": [
        "\n",
        "Opening file: ../../../Measurements/BreakTest_AluminiumBeam/results.enhanced/1-0.5/collect_160.bin\n",
        "Closed file: ../../../Measurements/BreakTest_AluminiumBeam/results.enhanced/1-0.5/collect_160.bin\n",
        "Opening file: ../../../Measurements/BreakTest_AluminiumBeam/results.enhanced/1-0.5/collect_161.bin\n",
        "Closed file: ../../../Measurements/BreakTest_AluminiumBeam/results.enhanced/1-0.5/collect_161.bin\n",
        "Opening file: ../../../Measurements/BreakTest_AluminiumBeam/results.enhanced/1-0.5/collect_162.bin\n",
        "Closed file: ../../../Measurements/BreakTest_AluminiumBeam/results.enhanced/1-0.5/collect_162.bin\n",
        "Opening file: ../../../Measurements/BreakTest_AluminiumBeam/results.enhanced/1-0.5/collect_163.bin\n",
        "Closed file: ../../../Measurements/BreakTest_AluminiumBeam/results.enhanced/1-0.5/collect_163.bin\n",
        "Opening file: ../../../Measurements/BreakTest_AluminiumBeam/results.enhanced/1-0.5/collect_164.bin\n",
        "Closed file: ../../../Measurements/BreakTest_AluminiumBeam/results.enhanced/1-0.5/collect_164.bin\n",
        "Opening file: ../../../Measurements/BreakTest_AluminiumBeam/results.enhanced/1-0.5/collect_165.bin\n",
        "Closed file: ../../../Measurements/BreakTest_AluminiumBeam/results.enhanced/1-0.5/collect_165.bin\n",
        "Opening file: ../../../Measurements/BreakTest_AluminiumBeam/results.enhanced/1-0.5/collect_166.bin\n",
        "Closed file: ../../../Measurements/BreakTest_AluminiumBeam/results.enhanced/1-0.5/collect_166.bin"
       ]
      },
      {
       "output_type": "stream",
       "stream": "stdout",
       "text": [
        "\n",
        "Opening file: ../../../Measurements/BreakTest_AluminiumBeam/results.enhanced/1-0.5/collect_167.bin\n",
        "Closed file: ../../../Measurements/BreakTest_AluminiumBeam/results.enhanced/1-0.5/collect_167.bin\n",
        "Opening file: ../../../Measurements/BreakTest_AluminiumBeam/results.enhanced/1-0.5/collect_168.bin\n",
        "Closed file: ../../../Measurements/BreakTest_AluminiumBeam/results.enhanced/1-0.5/collect_168.bin\n",
        "Opening file: ../../../Measurements/BreakTest_AluminiumBeam/results.enhanced/1-0.5/collect_169.bin\n",
        "Closed file: ../../../Measurements/BreakTest_AluminiumBeam/results.enhanced/1-0.5/collect_169.bin\n",
        "Opening file: ../../../Measurements/BreakTest_AluminiumBeam/results.enhanced/1-0.5/collect_170.bin\n",
        "Closed file: ../../../Measurements/BreakTest_AluminiumBeam/results.enhanced/1-0.5/collect_170.bin\n",
        "Opening file: ../../../Measurements/BreakTest_AluminiumBeam/results.enhanced/1-0.5/collect_171.bin\n",
        "Closed file: ../../../Measurements/BreakTest_AluminiumBeam/results.enhanced/1-0.5/collect_171.bin"
       ]
      },
      {
       "output_type": "stream",
       "stream": "stdout",
       "text": [
        "\n",
        "Opening file: ../../../Measurements/BreakTest_AluminiumBeam/results.enhanced/1-0.5/collect_172.bin\n",
        "Closed file: ../../../Measurements/BreakTest_AluminiumBeam/results.enhanced/1-0.5/collect_172.bin\n",
        "Opening file: ../../../Measurements/BreakTest_AluminiumBeam/results.enhanced/1-0.5/collect_173.bin\n",
        "Closed file: ../../../Measurements/BreakTest_AluminiumBeam/results.enhanced/1-0.5/collect_173.bin\n",
        "Opening file: ../../../Measurements/BreakTest_AluminiumBeam/results.enhanced/1-0.5/collect_174.bin\n",
        "Closed file: ../../../Measurements/BreakTest_AluminiumBeam/results.enhanced/1-0.5/collect_174.bin\n",
        "Opening file: ../../../Measurements/BreakTest_AluminiumBeam/results.enhanced/1-0.5/collect_175.bin\n",
        "Closed file: ../../../Measurements/BreakTest_AluminiumBeam/results.enhanced/1-0.5/collect_175.bin\n",
        "Opening file: ../../../Measurements/BreakTest_AluminiumBeam/results.enhanced/1-0.5/collect_176.bin\n",
        "Closed file: ../../../Measurements/BreakTest_AluminiumBeam/results.enhanced/1-0.5/collect_176.bin\n",
        "Opening file: ../../../Measurements/BreakTest_AluminiumBeam/results.enhanced/1-0.5/collect_177.bin\n",
        "Closed file: ../../../Measurements/BreakTest_AluminiumBeam/results.enhanced/1-0.5/collect_177.bin\n",
        "Opening file: ../../../Measurements/BreakTest_AluminiumBeam/results.enhanced/1-0.5/collect_178.bin"
       ]
      },
      {
       "output_type": "stream",
       "stream": "stdout",
       "text": [
        "\n",
        "Closed file: ../../../Measurements/BreakTest_AluminiumBeam/results.enhanced/1-0.5/collect_178.bin\n",
        "Opening file: ../../../Measurements/BreakTest_AluminiumBeam/results.enhanced/1-0.5/collect_179.bin\n",
        "Closed file: ../../../Measurements/BreakTest_AluminiumBeam/results.enhanced/1-0.5/collect_179.bin\n",
        "Opening file: ../../../Measurements/BreakTest_AluminiumBeam/results.enhanced/1-0.5/collect_180.bin\n",
        "Closed file: ../../../Measurements/BreakTest_AluminiumBeam/results.enhanced/1-0.5/collect_180.bin\n",
        "Opening file: ../../../Measurements/BreakTest_AluminiumBeam/results.enhanced/1-0.5/collect_181.bin\n",
        "Closed file: ../../../Measurements/BreakTest_AluminiumBeam/results.enhanced/1-0.5/collect_181.bin\n",
        "Opening file: ../../../Measurements/BreakTest_AluminiumBeam/results.enhanced/1-0.5/collect_182.bin\n",
        "Closed file: ../../../Measurements/BreakTest_AluminiumBeam/results.enhanced/1-0.5/collect_182.bin\n",
        "Opening file: ../../../Measurements/BreakTest_AluminiumBeam/results.enhanced/1-0.5/collect_183.bin\n",
        "Closed file: ../../../Measurements/BreakTest_AluminiumBeam/results.enhanced/1-0.5/collect_183.bin\n"
       ]
      }
     ],
     "prompt_number": 1
    },
    {
     "cell_type": "code",
     "collapsed": false,
     "input": [
      "import numpy as np\n",
      "\n",
      "def removeDC(ys):\n",
      "    for ii in xrange(len(ys)):\n",
      "        ys[ii] -= np.mean(ys[ii])\n",
      "    return ys"
     ],
     "language": "python",
     "metadata": {},
     "outputs": [],
     "prompt_number": 2
    },
    {
     "cell_type": "code",
     "collapsed": false,
     "input": [
      "y_1 = removeDC(y_1)\n",
      "y2_1 = removeDC(y2_1)"
     ],
     "language": "python",
     "metadata": {},
     "outputs": [],
     "prompt_number": 3
    },
    {
     "cell_type": "heading",
     "level": 1,
     "metadata": {},
     "source": [
      "Time Difference of Arrival (TDOA)"
     ]
    },
    {
     "cell_type": "markdown",
     "metadata": {},
     "source": [
      "Theoretical value of TD."
     ]
    },
    {
     "cell_type": "code",
     "collapsed": false,
     "input": [
      "v = 3909.49 #m/s - sound speed in aluminium\n",
      "dist_diff = 33*0.0254 #m - distance difference of sensors\n",
      "\n",
      "TD = dist_diff/v #s - theoretical TD\n",
      "print 'Theoretical time difference: %.2f us' % (TD*1000000)\n",
      "print 'Distance traveled in 810.7 usec: %.2f m' % (810.7e-6*v)\n",
      "print 'Distance traveled in 213 usec: %.2f m' % (213e-6*v)\n",
      "print 'Distance traveled in 500 usec: %.2f m' % (500e-6*v)"
     ],
     "language": "python",
     "metadata": {},
     "outputs": [
      {
       "output_type": "stream",
       "stream": "stdout",
       "text": [
        "Theoretical time difference: 214.40 us\n",
        "Distance traveled in 810.7 usec: 3.17 m\n",
        "Distance traveled in 213 usec: 0.83 m\n",
        "Distance traveled in 500 usec: 1.95 m\n"
       ]
      }
     ],
     "prompt_number": 4
    },
    {
     "cell_type": "heading",
     "level": 2,
     "metadata": {},
     "source": [
      "Akaike Information Criterion (AIC)"
     ]
    },
    {
     "cell_type": "code",
     "collapsed": false,
     "input": [
      "from helperfuncs.CalculateTDOA import CalculateTDOA\n",
      "from helperfuncs.Onset_AIC import Onset_AIC\n",
      "\n",
      "AE_start_1, AE_start2_1, TD_meas_1, qty1, qty2 = CalculateTDOA(y_1, y2_1, T_1, Onset_AIC)\n",
      "qty_min = np.minimum(qty1, qty2)"
     ],
     "language": "python",
     "metadata": {},
     "outputs": [
      {
       "output_type": "stream",
       "stream": "stdout",
       "text": [
        "0.00%\n",
        "0.54%"
       ]
      },
      {
       "output_type": "stream",
       "stream": "stdout",
       "text": [
        "\n",
        "1.09%"
       ]
      },
      {
       "output_type": "stream",
       "stream": "stdout",
       "text": [
        "\n",
        "1.63%"
       ]
      },
      {
       "output_type": "stream",
       "stream": "stdout",
       "text": [
        "\n",
        "2.17%"
       ]
      },
      {
       "output_type": "stream",
       "stream": "stdout",
       "text": [
        "\n",
        "2.72%"
       ]
      },
      {
       "output_type": "stream",
       "stream": "stdout",
       "text": [
        "\n",
        "3.26%"
       ]
      },
      {
       "output_type": "stream",
       "stream": "stdout",
       "text": [
        "\n",
        "3.80%"
       ]
      },
      {
       "output_type": "stream",
       "stream": "stdout",
       "text": [
        "\n",
        "4.35%"
       ]
      },
      {
       "output_type": "stream",
       "stream": "stdout",
       "text": [
        "\n",
        "4.89%"
       ]
      },
      {
       "output_type": "stream",
       "stream": "stdout",
       "text": [
        "\n",
        "5.43%"
       ]
      },
      {
       "output_type": "stream",
       "stream": "stdout",
       "text": [
        "\n",
        "5.98%"
       ]
      },
      {
       "output_type": "stream",
       "stream": "stdout",
       "text": [
        "\n",
        "6.52%"
       ]
      },
      {
       "output_type": "stream",
       "stream": "stdout",
       "text": [
        "\n",
        "7.07%"
       ]
      },
      {
       "output_type": "stream",
       "stream": "stdout",
       "text": [
        "\n",
        "7.61%"
       ]
      },
      {
       "output_type": "stream",
       "stream": "stdout",
       "text": [
        "\n",
        "8.15%"
       ]
      },
      {
       "output_type": "stream",
       "stream": "stdout",
       "text": [
        "\n",
        "8.70%"
       ]
      },
      {
       "output_type": "stream",
       "stream": "stdout",
       "text": [
        "\n",
        "9.24%"
       ]
      },
      {
       "output_type": "stream",
       "stream": "stdout",
       "text": [
        "\n",
        "9.78%"
       ]
      },
      {
       "output_type": "stream",
       "stream": "stdout",
       "text": [
        "\n",
        "10.33%"
       ]
      },
      {
       "output_type": "stream",
       "stream": "stdout",
       "text": [
        "\n",
        "10.87%"
       ]
      },
      {
       "output_type": "stream",
       "stream": "stdout",
       "text": [
        "\n",
        "11.41%"
       ]
      },
      {
       "output_type": "stream",
       "stream": "stdout",
       "text": [
        "\n",
        "11.96%"
       ]
      },
      {
       "output_type": "stream",
       "stream": "stdout",
       "text": [
        "\n",
        "12.50%"
       ]
      },
      {
       "output_type": "stream",
       "stream": "stdout",
       "text": [
        "\n",
        "13.04%"
       ]
      },
      {
       "output_type": "stream",
       "stream": "stdout",
       "text": [
        "\n",
        "13.59%"
       ]
      },
      {
       "output_type": "stream",
       "stream": "stdout",
       "text": [
        "\n",
        "14.13%"
       ]
      },
      {
       "output_type": "stream",
       "stream": "stdout",
       "text": [
        "\n",
        "14.67%"
       ]
      },
      {
       "output_type": "stream",
       "stream": "stdout",
       "text": [
        "\n",
        "15.22%"
       ]
      },
      {
       "output_type": "stream",
       "stream": "stdout",
       "text": [
        "\n",
        "15.76%"
       ]
      },
      {
       "output_type": "stream",
       "stream": "stdout",
       "text": [
        "\n",
        "16.30%"
       ]
      },
      {
       "output_type": "stream",
       "stream": "stdout",
       "text": [
        "\n",
        "16.85%"
       ]
      },
      {
       "output_type": "stream",
       "stream": "stdout",
       "text": [
        "\n",
        "17.39%"
       ]
      },
      {
       "output_type": "stream",
       "stream": "stdout",
       "text": [
        "\n",
        "17.93%"
       ]
      },
      {
       "output_type": "stream",
       "stream": "stdout",
       "text": [
        "\n",
        "18.48%"
       ]
      },
      {
       "output_type": "stream",
       "stream": "stdout",
       "text": [
        "\n",
        "19.02%"
       ]
      },
      {
       "output_type": "stream",
       "stream": "stdout",
       "text": [
        "\n",
        "19.57%"
       ]
      },
      {
       "output_type": "stream",
       "stream": "stdout",
       "text": [
        "\n",
        "20.11%"
       ]
      },
      {
       "output_type": "stream",
       "stream": "stdout",
       "text": [
        "\n",
        "20.65%"
       ]
      },
      {
       "output_type": "stream",
       "stream": "stdout",
       "text": [
        "\n",
        "21.20%"
       ]
      },
      {
       "output_type": "stream",
       "stream": "stdout",
       "text": [
        "\n",
        "21.74%"
       ]
      },
      {
       "output_type": "stream",
       "stream": "stdout",
       "text": [
        "\n",
        "22.28%"
       ]
      },
      {
       "output_type": "stream",
       "stream": "stdout",
       "text": [
        "\n",
        "22.83%"
       ]
      },
      {
       "output_type": "stream",
       "stream": "stdout",
       "text": [
        "\n",
        "23.37%"
       ]
      },
      {
       "output_type": "stream",
       "stream": "stdout",
       "text": [
        "\n",
        "23.91%"
       ]
      },
      {
       "output_type": "stream",
       "stream": "stdout",
       "text": [
        "\n",
        "24.46%"
       ]
      },
      {
       "output_type": "stream",
       "stream": "stdout",
       "text": [
        "\n",
        "25.00%"
       ]
      },
      {
       "output_type": "stream",
       "stream": "stdout",
       "text": [
        "\n",
        "25.54%"
       ]
      },
      {
       "output_type": "stream",
       "stream": "stdout",
       "text": [
        "\n",
        "26.09%"
       ]
      },
      {
       "output_type": "stream",
       "stream": "stdout",
       "text": [
        "\n",
        "26.63%"
       ]
      },
      {
       "output_type": "stream",
       "stream": "stdout",
       "text": [
        "\n",
        "27.17%"
       ]
      },
      {
       "output_type": "stream",
       "stream": "stdout",
       "text": [
        "\n",
        "27.72%"
       ]
      },
      {
       "output_type": "stream",
       "stream": "stdout",
       "text": [
        "\n",
        "28.26%"
       ]
      },
      {
       "output_type": "stream",
       "stream": "stdout",
       "text": [
        "\n",
        "28.80%"
       ]
      },
      {
       "output_type": "stream",
       "stream": "stdout",
       "text": [
        "\n",
        "29.35%"
       ]
      },
      {
       "output_type": "stream",
       "stream": "stdout",
       "text": [
        "\n",
        "29.89%"
       ]
      },
      {
       "output_type": "stream",
       "stream": "stdout",
       "text": [
        "\n",
        "30.43%"
       ]
      },
      {
       "output_type": "stream",
       "stream": "stdout",
       "text": [
        "\n",
        "30.98%"
       ]
      },
      {
       "output_type": "stream",
       "stream": "stdout",
       "text": [
        "\n",
        "31.52%"
       ]
      },
      {
       "output_type": "stream",
       "stream": "stdout",
       "text": [
        "\n",
        "32.07%"
       ]
      },
      {
       "output_type": "stream",
       "stream": "stdout",
       "text": [
        "\n",
        "32.61%"
       ]
      },
      {
       "output_type": "stream",
       "stream": "stdout",
       "text": [
        "\n",
        "33.15%"
       ]
      },
      {
       "output_type": "stream",
       "stream": "stdout",
       "text": [
        "\n",
        "33.70%"
       ]
      },
      {
       "output_type": "stream",
       "stream": "stdout",
       "text": [
        "\n",
        "34.24%"
       ]
      },
      {
       "output_type": "stream",
       "stream": "stdout",
       "text": [
        "\n",
        "34.78%"
       ]
      },
      {
       "output_type": "stream",
       "stream": "stdout",
       "text": [
        "\n",
        "35.33%"
       ]
      },
      {
       "output_type": "stream",
       "stream": "stdout",
       "text": [
        "\n",
        "35.87%"
       ]
      },
      {
       "output_type": "stream",
       "stream": "stdout",
       "text": [
        "\n",
        "36.41%"
       ]
      },
      {
       "output_type": "stream",
       "stream": "stdout",
       "text": [
        "\n",
        "36.96%"
       ]
      },
      {
       "output_type": "stream",
       "stream": "stdout",
       "text": [
        "\n",
        "37.50%"
       ]
      },
      {
       "output_type": "stream",
       "stream": "stdout",
       "text": [
        "\n",
        "38.04%"
       ]
      },
      {
       "output_type": "stream",
       "stream": "stdout",
       "text": [
        "\n",
        "38.59%"
       ]
      },
      {
       "output_type": "stream",
       "stream": "stdout",
       "text": [
        "\n",
        "39.13%"
       ]
      },
      {
       "output_type": "stream",
       "stream": "stdout",
       "text": [
        "\n",
        "39.67%"
       ]
      },
      {
       "output_type": "stream",
       "stream": "stdout",
       "text": [
        "\n",
        "40.22%"
       ]
      },
      {
       "output_type": "stream",
       "stream": "stdout",
       "text": [
        "\n",
        "40.76%"
       ]
      },
      {
       "output_type": "stream",
       "stream": "stdout",
       "text": [
        "\n",
        "41.30%"
       ]
      },
      {
       "output_type": "stream",
       "stream": "stdout",
       "text": [
        "\n",
        "41.85%"
       ]
      },
      {
       "output_type": "stream",
       "stream": "stdout",
       "text": [
        "\n",
        "42.39%"
       ]
      },
      {
       "output_type": "stream",
       "stream": "stdout",
       "text": [
        "\n",
        "42.93%"
       ]
      },
      {
       "output_type": "stream",
       "stream": "stdout",
       "text": [
        "\n",
        "43.48%"
       ]
      },
      {
       "output_type": "stream",
       "stream": "stdout",
       "text": [
        "\n",
        "44.02%"
       ]
      },
      {
       "output_type": "stream",
       "stream": "stdout",
       "text": [
        "\n",
        "44.57%"
       ]
      },
      {
       "output_type": "stream",
       "stream": "stdout",
       "text": [
        "\n",
        "45.11%"
       ]
      },
      {
       "output_type": "stream",
       "stream": "stdout",
       "text": [
        "\n",
        "45.65%"
       ]
      },
      {
       "output_type": "stream",
       "stream": "stdout",
       "text": [
        "\n",
        "46.20%"
       ]
      },
      {
       "output_type": "stream",
       "stream": "stdout",
       "text": [
        "\n",
        "46.74%"
       ]
      },
      {
       "output_type": "stream",
       "stream": "stdout",
       "text": [
        "\n",
        "47.28%"
       ]
      },
      {
       "output_type": "stream",
       "stream": "stdout",
       "text": [
        "\n",
        "47.83%"
       ]
      },
      {
       "output_type": "stream",
       "stream": "stdout",
       "text": [
        "\n",
        "48.37%"
       ]
      },
      {
       "output_type": "stream",
       "stream": "stdout",
       "text": [
        "\n",
        "48.91%"
       ]
      },
      {
       "output_type": "stream",
       "stream": "stdout",
       "text": [
        "\n",
        "49.46%"
       ]
      },
      {
       "output_type": "stream",
       "stream": "stdout",
       "text": [
        "\n",
        "50.00%"
       ]
      },
      {
       "output_type": "stream",
       "stream": "stdout",
       "text": [
        "\n",
        "50.54%"
       ]
      },
      {
       "output_type": "stream",
       "stream": "stdout",
       "text": [
        "\n",
        "51.09%"
       ]
      },
      {
       "output_type": "stream",
       "stream": "stdout",
       "text": [
        "\n",
        "51.63%"
       ]
      },
      {
       "output_type": "stream",
       "stream": "stdout",
       "text": [
        "\n",
        "52.17%"
       ]
      },
      {
       "output_type": "stream",
       "stream": "stdout",
       "text": [
        "\n",
        "52.72%"
       ]
      },
      {
       "output_type": "stream",
       "stream": "stdout",
       "text": [
        "\n",
        "53.26%"
       ]
      },
      {
       "output_type": "stream",
       "stream": "stdout",
       "text": [
        "\n",
        "53.80%"
       ]
      },
      {
       "output_type": "stream",
       "stream": "stdout",
       "text": [
        "\n",
        "54.35%"
       ]
      },
      {
       "output_type": "stream",
       "stream": "stdout",
       "text": [
        "\n",
        "54.89%"
       ]
      },
      {
       "output_type": "stream",
       "stream": "stdout",
       "text": [
        "\n",
        "55.43%"
       ]
      },
      {
       "output_type": "stream",
       "stream": "stdout",
       "text": [
        "\n",
        "55.98%"
       ]
      },
      {
       "output_type": "stream",
       "stream": "stdout",
       "text": [
        "\n",
        "56.52%"
       ]
      },
      {
       "output_type": "stream",
       "stream": "stdout",
       "text": [
        "\n",
        "57.07%"
       ]
      },
      {
       "output_type": "stream",
       "stream": "stdout",
       "text": [
        "\n",
        "57.61%"
       ]
      },
      {
       "output_type": "stream",
       "stream": "stdout",
       "text": [
        "\n",
        "58.15%"
       ]
      },
      {
       "output_type": "stream",
       "stream": "stdout",
       "text": [
        "\n",
        "58.70%"
       ]
      },
      {
       "output_type": "stream",
       "stream": "stdout",
       "text": [
        "\n",
        "59.24%"
       ]
      },
      {
       "output_type": "stream",
       "stream": "stdout",
       "text": [
        "\n",
        "59.78%"
       ]
      },
      {
       "output_type": "stream",
       "stream": "stdout",
       "text": [
        "\n",
        "60.33%"
       ]
      },
      {
       "output_type": "stream",
       "stream": "stdout",
       "text": [
        "\n",
        "60.87%"
       ]
      },
      {
       "output_type": "stream",
       "stream": "stdout",
       "text": [
        "\n",
        "61.41%"
       ]
      },
      {
       "output_type": "stream",
       "stream": "stdout",
       "text": [
        "\n",
        "61.96%"
       ]
      },
      {
       "output_type": "stream",
       "stream": "stdout",
       "text": [
        "\n",
        "62.50%"
       ]
      },
      {
       "output_type": "stream",
       "stream": "stdout",
       "text": [
        "\n",
        "63.04%"
       ]
      },
      {
       "output_type": "stream",
       "stream": "stdout",
       "text": [
        "\n",
        "63.59%"
       ]
      },
      {
       "output_type": "stream",
       "stream": "stdout",
       "text": [
        "\n",
        "64.13%"
       ]
      },
      {
       "output_type": "stream",
       "stream": "stdout",
       "text": [
        "\n",
        "64.67%"
       ]
      },
      {
       "output_type": "stream",
       "stream": "stdout",
       "text": [
        "\n",
        "65.22%"
       ]
      },
      {
       "output_type": "stream",
       "stream": "stdout",
       "text": [
        "\n",
        "65.76%"
       ]
      },
      {
       "output_type": "stream",
       "stream": "stdout",
       "text": [
        "\n",
        "66.30%"
       ]
      },
      {
       "output_type": "stream",
       "stream": "stdout",
       "text": [
        "\n",
        "66.85%"
       ]
      },
      {
       "output_type": "stream",
       "stream": "stdout",
       "text": [
        "\n",
        "67.39%"
       ]
      },
      {
       "output_type": "stream",
       "stream": "stdout",
       "text": [
        "\n",
        "67.93%"
       ]
      },
      {
       "output_type": "stream",
       "stream": "stdout",
       "text": [
        "\n",
        "68.48%"
       ]
      },
      {
       "output_type": "stream",
       "stream": "stdout",
       "text": [
        "\n",
        "69.02%"
       ]
      },
      {
       "output_type": "stream",
       "stream": "stdout",
       "text": [
        "\n",
        "69.57%"
       ]
      },
      {
       "output_type": "stream",
       "stream": "stdout",
       "text": [
        "\n",
        "70.11%"
       ]
      },
      {
       "output_type": "stream",
       "stream": "stdout",
       "text": [
        "\n",
        "70.65%"
       ]
      },
      {
       "output_type": "stream",
       "stream": "stdout",
       "text": [
        "\n",
        "71.20%"
       ]
      },
      {
       "output_type": "stream",
       "stream": "stdout",
       "text": [
        "\n",
        "71.74%"
       ]
      },
      {
       "output_type": "stream",
       "stream": "stdout",
       "text": [
        "\n",
        "72.28%"
       ]
      },
      {
       "output_type": "stream",
       "stream": "stdout",
       "text": [
        "\n",
        "72.83%"
       ]
      },
      {
       "output_type": "stream",
       "stream": "stdout",
       "text": [
        "\n",
        "73.37%"
       ]
      },
      {
       "output_type": "stream",
       "stream": "stdout",
       "text": [
        "\n",
        "73.91%"
       ]
      },
      {
       "output_type": "stream",
       "stream": "stdout",
       "text": [
        "\n",
        "74.46%"
       ]
      },
      {
       "output_type": "stream",
       "stream": "stdout",
       "text": [
        "\n",
        "75.00%"
       ]
      },
      {
       "output_type": "stream",
       "stream": "stdout",
       "text": [
        "\n",
        "75.54%"
       ]
      },
      {
       "output_type": "stream",
       "stream": "stdout",
       "text": [
        "\n",
        "76.09%"
       ]
      },
      {
       "output_type": "stream",
       "stream": "stdout",
       "text": [
        "\n",
        "76.63%"
       ]
      },
      {
       "output_type": "stream",
       "stream": "stdout",
       "text": [
        "\n",
        "77.17%"
       ]
      },
      {
       "output_type": "stream",
       "stream": "stdout",
       "text": [
        "\n",
        "77.72%"
       ]
      },
      {
       "output_type": "stream",
       "stream": "stdout",
       "text": [
        "\n",
        "78.26%"
       ]
      },
      {
       "output_type": "stream",
       "stream": "stdout",
       "text": [
        "\n",
        "78.80%"
       ]
      },
      {
       "output_type": "stream",
       "stream": "stdout",
       "text": [
        "\n",
        "79.35%"
       ]
      },
      {
       "output_type": "stream",
       "stream": "stdout",
       "text": [
        "\n",
        "79.89%"
       ]
      },
      {
       "output_type": "stream",
       "stream": "stdout",
       "text": [
        "\n",
        "80.43%"
       ]
      },
      {
       "output_type": "stream",
       "stream": "stdout",
       "text": [
        "\n",
        "80.98%"
       ]
      },
      {
       "output_type": "stream",
       "stream": "stdout",
       "text": [
        "\n",
        "81.52%"
       ]
      },
      {
       "output_type": "stream",
       "stream": "stdout",
       "text": [
        "\n",
        "82.07%"
       ]
      },
      {
       "output_type": "stream",
       "stream": "stdout",
       "text": [
        "\n",
        "82.61%"
       ]
      },
      {
       "output_type": "stream",
       "stream": "stdout",
       "text": [
        "\n",
        "83.15%"
       ]
      },
      {
       "output_type": "stream",
       "stream": "stdout",
       "text": [
        "\n",
        "83.70%"
       ]
      },
      {
       "output_type": "stream",
       "stream": "stdout",
       "text": [
        "\n",
        "84.24%"
       ]
      },
      {
       "output_type": "stream",
       "stream": "stdout",
       "text": [
        "\n",
        "84.78%"
       ]
      },
      {
       "output_type": "stream",
       "stream": "stdout",
       "text": [
        "\n",
        "85.33%"
       ]
      },
      {
       "output_type": "stream",
       "stream": "stdout",
       "text": [
        "\n",
        "85.87%"
       ]
      },
      {
       "output_type": "stream",
       "stream": "stdout",
       "text": [
        "\n",
        "86.41%"
       ]
      },
      {
       "output_type": "stream",
       "stream": "stdout",
       "text": [
        "\n",
        "86.96%"
       ]
      },
      {
       "output_type": "stream",
       "stream": "stdout",
       "text": [
        "\n",
        "87.50%"
       ]
      },
      {
       "output_type": "stream",
       "stream": "stdout",
       "text": [
        "\n",
        "88.04%"
       ]
      },
      {
       "output_type": "stream",
       "stream": "stdout",
       "text": [
        "\n",
        "88.59%"
       ]
      },
      {
       "output_type": "stream",
       "stream": "stdout",
       "text": [
        "\n",
        "89.13%"
       ]
      },
      {
       "output_type": "stream",
       "stream": "stdout",
       "text": [
        "\n",
        "89.67%"
       ]
      },
      {
       "output_type": "stream",
       "stream": "stdout",
       "text": [
        "\n",
        "90.22%"
       ]
      },
      {
       "output_type": "stream",
       "stream": "stdout",
       "text": [
        "\n",
        "90.76%"
       ]
      },
      {
       "output_type": "stream",
       "stream": "stdout",
       "text": [
        "\n",
        "91.30%"
       ]
      },
      {
       "output_type": "stream",
       "stream": "stdout",
       "text": [
        "\n",
        "91.85%"
       ]
      },
      {
       "output_type": "stream",
       "stream": "stdout",
       "text": [
        "\n",
        "92.39%"
       ]
      },
      {
       "output_type": "stream",
       "stream": "stdout",
       "text": [
        "\n",
        "92.93%"
       ]
      },
      {
       "output_type": "stream",
       "stream": "stdout",
       "text": [
        "\n",
        "93.48%"
       ]
      },
      {
       "output_type": "stream",
       "stream": "stdout",
       "text": [
        "\n",
        "94.02%"
       ]
      },
      {
       "output_type": "stream",
       "stream": "stdout",
       "text": [
        "\n",
        "94.57%"
       ]
      },
      {
       "output_type": "stream",
       "stream": "stdout",
       "text": [
        "\n",
        "95.11%"
       ]
      },
      {
       "output_type": "stream",
       "stream": "stdout",
       "text": [
        "\n",
        "95.65%"
       ]
      },
      {
       "output_type": "stream",
       "stream": "stdout",
       "text": [
        "\n",
        "96.20%"
       ]
      },
      {
       "output_type": "stream",
       "stream": "stdout",
       "text": [
        "\n",
        "96.74%"
       ]
      },
      {
       "output_type": "stream",
       "stream": "stdout",
       "text": [
        "\n",
        "97.28%"
       ]
      },
      {
       "output_type": "stream",
       "stream": "stdout",
       "text": [
        "\n",
        "97.83%"
       ]
      },
      {
       "output_type": "stream",
       "stream": "stdout",
       "text": [
        "\n",
        "98.37%"
       ]
      },
      {
       "output_type": "stream",
       "stream": "stdout",
       "text": [
        "\n",
        "98.91%"
       ]
      },
      {
       "output_type": "stream",
       "stream": "stdout",
       "text": [
        "\n",
        "99.46%"
       ]
      },
      {
       "output_type": "stream",
       "stream": "stdout",
       "text": [
        "\n"
       ]
      }
     ],
     "prompt_number": 5
    },
    {
     "cell_type": "heading",
     "level": 3,
     "metadata": {},
     "source": [
      "~800usec"
     ]
    },
    {
     "cell_type": "heading",
     "level": 4,
     "metadata": {},
     "source": [
      "AIC TDOA"
     ]
    },
    {
     "cell_type": "code",
     "collapsed": false,
     "input": [
      "from helperfuncs.Onset_AIC import Onset_AIC\n",
      "from helperfuncs.PlotOnsetTime import PlotOnsetTime\n",
      "\n",
      "ym1 = y_1[np.argsort(qty_min)[-9]]\n",
      "ym1 = ym1[50:50+1024]  \n",
      "onset, dummy, curves = Onset_AIC(ym1, T_1*1e3)\n",
      "\n",
      "PlotOnsetTime(ym1, curves, T_1*1e3, onset)"
     ],
     "language": "python",
     "metadata": {},
     "outputs": [
      {
       "output_type": "display_data",
       "png": "[encoded data removed]"
      }
     ],
     "prompt_number": 6
    },
    {
     "cell_type": "code",
     "collapsed": false,
     "input": [
      "from helperfuncs.Onset_AIC import Onset_AIC\n",
      "from helperfuncs.PlotOnsetTime import PlotOnsetTime\n",
      "\n",
      "ym2 = y2_1[np.argsort(qty_min)[-9]]\n",
      "ym2 = ym2[50:50+1024]  \n",
      "onset, dummy, curves = Onset_AIC(ym2, T_1*1e3)\n",
      "\n",
      "PlotOnsetTime(ym2, curves, T_1*1e3, onset) "
     ],
     "language": "python",
     "metadata": {},
     "outputs": [
      {
       "output_type": "display_data",
       "png": "[encoded data removed]"
      }
     ],
     "prompt_number": 7
    },
    {
     "cell_type": "heading",
     "level": 4,
     "metadata": {},
     "source": [
      "Wavelet"
     ]
    },
    {
     "cell_type": "markdown",
     "metadata": {},
     "source": [
      "Wavelet Package Decomposition"
     ]
    },
    {
     "cell_type": "code",
     "collapsed": false,
     "input": [
      "from helperfuncs.FullWPD import FullWPD\n",
      "\n",
      "PacketTable1 = FullWPD(ym1, wavelet='rbio6.8')\n",
      "PacketTable2 = FullWPD(ym2, wavelet='rbio6.8')"
     ],
     "language": "python",
     "metadata": {},
     "outputs": [],
     "prompt_number": 8
    },
    {
     "cell_type": "code",
     "collapsed": false,
     "input": [
      "from helperfuncs.UsablePacketTableLevels import UsablePacketTableLevels\n",
      "\n",
      "N1 = ym1.size\n",
      "start_level1, stop_level1 = UsablePacketTableLevels(32, PacketTable1, N1)\n",
      "\n",
      "print start_level1\n",
      "print stop_level1\n",
      "\n",
      "N2 = ym2.size\n",
      "start_level2, stop_level2 = UsablePacketTableLevels(32, PacketTable2, N2)\n",
      "\n",
      "print start_level2\n",
      "print stop_level2"
     ],
     "language": "python",
     "metadata": {},
     "outputs": [
      {
       "output_type": "stream",
       "stream": "stdout",
       "text": [
        "5\n",
        "5\n",
        "5\n",
        "5\n"
       ]
      }
     ],
     "prompt_number": 9
    },
    {
     "cell_type": "markdown",
     "metadata": {},
     "source": [
      "Fixed resolution"
     ]
    },
    {
     "cell_type": "code",
     "collapsed": false,
     "input": [
      "from helperfuncs.FancyPlotWavelet_im import FancyPlotWavelet\n",
      "\n",
      "level_of_interest1 = int((start_level1 + stop_level1)/2)\n",
      "Levels1 = np.ones(len(PacketTable1[level_of_interest1]))*level_of_interest1\n",
      "\n",
      "FancyPlotWavelet(PacketTable1[level_of_interest1], Levels1, N1, Fs, title='Wavelet Package Decomposition\\nFixed resolution')\n",
      "\n",
      "level_of_interest2 = int((start_level2 + stop_level2)/2)\n",
      "Levels2 = np.ones(len(PacketTable2[level_of_interest2]))*level_of_interest2\n",
      "\n",
      "FancyPlotWavelet(PacketTable2[level_of_interest2], Levels2, N2, Fs, title='Wavelet Package Decomposition\\nFixed resolution')"
     ],
     "language": "python",
     "metadata": {},
     "outputs": [
      {
       "output_type": "stream",
       "stream": "stdout",
       "text": [
        "Generated row 100\n",
        "Generated row 200\n",
        "Generated row 300\n",
        "Generated row 400"
       ]
      },
      {
       "output_type": "stream",
       "stream": "stdout",
       "text": [
        "\n",
        "Generated row 500\n",
        "Generated row 600\n",
        "Generated row 700"
       ]
      },
      {
       "output_type": "stream",
       "stream": "stdout",
       "text": [
        "\n",
        "Generated row 800\n",
        "Generated row 900\n",
        "Generated row 1000"
       ]
      },
      {
       "output_type": "stream",
       "stream": "stdout",
       "text": [
        "\n",
        "Generated row 100"
       ]
      },
      {
       "output_type": "stream",
       "stream": "stdout",
       "text": [
        "\n",
        "Generated row 200\n",
        "Generated row 300\n",
        "Generated row 400"
       ]
      },
      {
       "output_type": "stream",
       "stream": "stdout",
       "text": [
        "\n",
        "Generated row 500\n",
        "Generated row 600\n",
        "Generated row 700"
       ]
      },
      {
       "output_type": "stream",
       "stream": "stdout",
       "text": [
        "\n",
        "Generated row 800\n",
        "Generated row 900\n",
        "Generated row 1000"
       ]
      },
      {
       "output_type": "stream",
       "stream": "stdout",
       "text": [
        "\n"
       ]
      },
      {
       "output_type": "display_data",
       "png": "[encoded data removed]"
      },
      {
       "output_type": "display_data",
       "png": "[encoded data removed]"
      }
     ],
     "prompt_number": 10
    },
    {
     "cell_type": "heading",
     "level": 3,
     "metadata": {},
     "source": [
      "~200usec"
     ]
    },
    {
     "cell_type": "heading",
     "level": 4,
     "metadata": {},
     "source": [
      "AIC TDOA"
     ]
    },
    {
     "cell_type": "code",
     "collapsed": false,
     "input": [
      "from helperfuncs.Onset_AIC import Onset_AIC\n",
      "from helperfuncs.PlotOnsetTime import PlotOnsetTime\n",
      "\n",
      "ym1 = y_1[np.argsort(qty_min)[-10]]\n",
      "ym1 = ym1[20:20+1024]\n",
      "onset, dummy, curves = Onset_AIC(ym1, T_1*1e3)\n",
      "\n",
      "PlotOnsetTime(ym1, curves, T_1*1e3, onset)"
     ],
     "language": "python",
     "metadata": {},
     "outputs": [
      {
       "output_type": "display_data",
       "png": "[encoded data removed]"
      }
     ],
     "prompt_number": 11
    },
    {
     "cell_type": "code",
     "collapsed": false,
     "input": [
      "from helperfuncs.Onset_AIC import Onset_AIC\n",
      "from helperfuncs.PlotOnsetTime import PlotOnsetTime\n",
      "\n",
      "ym2 = y2_1[np.argsort(qty_min)[-10]]\n",
      "ym2 = ym2[20:20+1024]\n",
      "onset, dummy, curves = Onset_AIC(ym2, T_1*1e3)\n",
      "\n",
      "PlotOnsetTime(ym2, curves, T_1*1e3, onset)"
     ],
     "language": "python",
     "metadata": {},
     "outputs": [
      {
       "output_type": "display_data",
       "png": "[encoded data removed]"
      }
     ],
     "prompt_number": 12
    },
    {
     "cell_type": "heading",
     "level": 4,
     "metadata": {},
     "source": [
      "Wavelet"
     ]
    },
    {
     "cell_type": "markdown",
     "metadata": {},
     "source": [
      "Wavelet Package Decomposition"
     ]
    },
    {
     "cell_type": "code",
     "collapsed": false,
     "input": [
      "from helperfuncs.FullWPD import FullWPD\n",
      "\n",
      "PacketTable1 = FullWPD(ym1, wavelet='rbio6.8')\n",
      "PacketTable2 = FullWPD(ym2, wavelet='rbio6.8')"
     ],
     "language": "python",
     "metadata": {},
     "outputs": [],
     "prompt_number": 13
    },
    {
     "cell_type": "code",
     "collapsed": false,
     "input": [
      "from helperfuncs.UsablePacketTableLevels import UsablePacketTableLevels\n",
      "\n",
      "N1 = ym1.size\n",
      "start_level1, stop_level1 = UsablePacketTableLevels(16, PacketTable1, N1)\n",
      "\n",
      "print start_level1\n",
      "print stop_level1\n",
      "\n",
      "N2 = ym2.size\n",
      "start_level2, stop_level2 = UsablePacketTableLevels(16, PacketTable2, N2)\n",
      "\n",
      "print start_level2\n",
      "print stop_level2"
     ],
     "language": "python",
     "metadata": {},
     "outputs": [
      {
       "output_type": "stream",
       "stream": "stdout",
       "text": [
        "4\n",
        "6\n",
        "4\n",
        "6\n"
       ]
      }
     ],
     "prompt_number": 14
    },
    {
     "cell_type": "markdown",
     "metadata": {},
     "source": [
      "Fixed resolution"
     ]
    },
    {
     "cell_type": "code",
     "collapsed": false,
     "input": [
      "from helperfuncs.FancyPlotWavelet_im import FancyPlotWavelet\n",
      "\n",
      "level_of_interest1 = int((start_level1 + stop_level1)/2)\n",
      "Levels1 = np.ones(len(PacketTable1[level_of_interest1]))*level_of_interest1\n",
      "\n",
      "FancyPlotWavelet(PacketTable1[level_of_interest1], Levels1, N1, Fs, title='Wavelet Package Decomposition\\nFixed resolution')\n",
      "\n",
      "level_of_interest2 = int((start_level2 + stop_level2)/2)\n",
      "Levels2 = np.ones(len(PacketTable2[level_of_interest2]))*level_of_interest2\n",
      "\n",
      "FancyPlotWavelet(PacketTable2[level_of_interest2], Levels2, N2, Fs, title='Wavelet Package Decomposition\\nFixed resolution')"
     ],
     "language": "python",
     "metadata": {},
     "outputs": [
      {
       "output_type": "stream",
       "stream": "stdout",
       "text": [
        "Generated row 100\n",
        "Generated row 200\n",
        "Generated row 300\n",
        "Generated row 400\n",
        "Generated row 500"
       ]
      },
      {
       "output_type": "stream",
       "stream": "stdout",
       "text": [
        "\n",
        "Generated row 600\n",
        "Generated row 700\n",
        "Generated row 800\n",
        "Generated row 900"
       ]
      },
      {
       "output_type": "stream",
       "stream": "stdout",
       "text": [
        "\n",
        "Generated row 1000\n",
        "Generated row 100"
       ]
      },
      {
       "output_type": "stream",
       "stream": "stdout",
       "text": [
        "\n",
        "Generated row 200\n",
        "Generated row 300\n",
        "Generated row 400"
       ]
      },
      {
       "output_type": "stream",
       "stream": "stdout",
       "text": [
        "\n",
        "Generated row 500\n",
        "Generated row 600\n",
        "Generated row 700"
       ]
      },
      {
       "output_type": "stream",
       "stream": "stdout",
       "text": [
        "\n",
        "Generated row 800\n",
        "Generated row 900\n",
        "Generated row 1000"
       ]
      },
      {
       "output_type": "stream",
       "stream": "stdout",
       "text": [
        "\n"
       ]
      },
      {
       "output_type": "display_data",
       "png": "[encoded data removed]"
      },
      {
       "output_type": "display_data",
       "png": "[encoded data removed]"
      }
     ],
     "prompt_number": 15
    }
   ],
   "metadata": {}
  }
 ]
}
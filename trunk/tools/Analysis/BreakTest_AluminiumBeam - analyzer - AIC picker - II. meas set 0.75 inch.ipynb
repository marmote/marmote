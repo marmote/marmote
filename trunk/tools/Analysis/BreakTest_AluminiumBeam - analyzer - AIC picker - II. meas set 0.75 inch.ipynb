{
 "metadata": {
  "name": "BreakTest_AluminiumBeam - analyzer - AIC picker - II. meas set 0.75 inch"
 },
 "nbformat": 3,
 "nbformat_minor": 0,
 "worksheets": [
  {
   "cells": [
    {
     "cell_type": "heading",
     "level": 1,
     "metadata": {},
     "source": [
      "Read in preprocessed raw data"
     ]
    },
    {
     "cell_type": "markdown",
     "metadata": {},
     "source": [
      "First let's read in the data from BreakTest_AluminiumBeam measurement. Note that the threshold filter has already filtered out the frames with signals in them."
     ]
    },
    {
     "cell_type": "code",
     "collapsed": false,
     "input": [
      "from helperfuncs.ReadAEMeas import ReadAEMeas\n",
      "\n",
      "dir = '../../../Measurements/BreakTest_AluminiumBeam/results.enhanced/2-0.75'\n",
      "y_2, y2_2, T_2, fnames_2, start_time_2 = ReadAEMeas(dir)\n",
      "\n",
      "Fs = 1/T_2\n",
      "#print Fs"
     ],
     "language": "python",
     "metadata": {},
     "outputs": [
      {
       "output_type": "stream",
       "stream": "stdout",
       "text": [
        "Module folder added to system path: /home/ubuntu/Marmote/tools/ControlRecord/ControlRecord\n",
        "Opening file: ../../../Measurements/BreakTest_AluminiumBeam/results.enhanced/2-0.75/collect_0.bin"
       ]
      },
      {
       "output_type": "stream",
       "stream": "stdout",
       "text": [
        "\n",
        "Closed file: ../../../Measurements/BreakTest_AluminiumBeam/results.enhanced/2-0.75/collect_0.bin\n",
        "Opening file: ../../../Measurements/BreakTest_AluminiumBeam/results.enhanced/2-0.75/collect_1.bin\n",
        "Closed file: ../../../Measurements/BreakTest_AluminiumBeam/results.enhanced/2-0.75/collect_1.bin\n",
        "Opening file: ../../../Measurements/BreakTest_AluminiumBeam/results.enhanced/2-0.75/collect_2.bin\n",
        "Closed file: ../../../Measurements/BreakTest_AluminiumBeam/results.enhanced/2-0.75/collect_2.bin\n",
        "Opening file: ../../../Measurements/BreakTest_AluminiumBeam/results.enhanced/2-0.75/collect_3.bin"
       ]
      },
      {
       "output_type": "stream",
       "stream": "stdout",
       "text": [
        "\n",
        "Closed file: ../../../Measurements/BreakTest_AluminiumBeam/results.enhanced/2-0.75/collect_3.bin\n",
        "Opening file: ../../../Measurements/BreakTest_AluminiumBeam/results.enhanced/2-0.75/collect_4.bin\n",
        "Closed file: ../../../Measurements/BreakTest_AluminiumBeam/results.enhanced/2-0.75/collect_4.bin\n",
        "Opening file: ../../../Measurements/BreakTest_AluminiumBeam/results.enhanced/2-0.75/collect_5.bin\n",
        "Closed file: ../../../Measurements/BreakTest_AluminiumBeam/results.enhanced/2-0.75/collect_5.bin\n",
        "Opening file: ../../../Measurements/BreakTest_AluminiumBeam/results.enhanced/2-0.75/collect_6.bin"
       ]
      },
      {
       "output_type": "stream",
       "stream": "stdout",
       "text": [
        "\n",
        "Closed file: ../../../Measurements/BreakTest_AluminiumBeam/results.enhanced/2-0.75/collect_6.bin\n",
        "Opening file: ../../../Measurements/BreakTest_AluminiumBeam/results.enhanced/2-0.75/collect_7.bin\n",
        "Closed file: ../../../Measurements/BreakTest_AluminiumBeam/results.enhanced/2-0.75/collect_7.bin\n",
        "Opening file: ../../../Measurements/BreakTest_AluminiumBeam/results.enhanced/2-0.75/collect_8.bin\n",
        "Closed file: ../../../Measurements/BreakTest_AluminiumBeam/results.enhanced/2-0.75/collect_8.bin\n",
        "Opening file: ../../../Measurements/BreakTest_AluminiumBeam/results.enhanced/2-0.75/collect_9.bin\n",
        "Closed file: ../../../Measurements/BreakTest_AluminiumBeam/results.enhanced/2-0.75/collect_9.bin"
       ]
      },
      {
       "output_type": "stream",
       "stream": "stdout",
       "text": [
        "\n",
        "Opening file: ../../../Measurements/BreakTest_AluminiumBeam/results.enhanced/2-0.75/collect_10.bin\n",
        "Closed file: ../../../Measurements/BreakTest_AluminiumBeam/results.enhanced/2-0.75/collect_10.bin\n",
        "Opening file: ../../../Measurements/BreakTest_AluminiumBeam/results.enhanced/2-0.75/collect_11.bin\n",
        "Closed file: ../../../Measurements/BreakTest_AluminiumBeam/results.enhanced/2-0.75/collect_11.bin\n",
        "Opening file: ../../../Measurements/BreakTest_AluminiumBeam/results.enhanced/2-0.75/collect_12.bin\n",
        "Closed file: ../../../Measurements/BreakTest_AluminiumBeam/results.enhanced/2-0.75/collect_12.bin\n",
        "Opening file: ../../../Measurements/BreakTest_AluminiumBeam/results.enhanced/2-0.75/collect_13.bin\n",
        "Closed file: ../../../Measurements/BreakTest_AluminiumBeam/results.enhanced/2-0.75/collect_13.bin"
       ]
      },
      {
       "output_type": "stream",
       "stream": "stdout",
       "text": [
        "\n",
        "Opening file: ../../../Measurements/BreakTest_AluminiumBeam/results.enhanced/2-0.75/collect_14.bin\n",
        "Closed file: ../../../Measurements/BreakTest_AluminiumBeam/results.enhanced/2-0.75/collect_14.bin\n",
        "Opening file: ../../../Measurements/BreakTest_AluminiumBeam/results.enhanced/2-0.75/collect_15.bin\n",
        "Closed file: ../../../Measurements/BreakTest_AluminiumBeam/results.enhanced/2-0.75/collect_15.bin\n",
        "Opening file: ../../../Measurements/BreakTest_AluminiumBeam/results.enhanced/2-0.75/collect_16.bin\n",
        "Closed file: ../../../Measurements/BreakTest_AluminiumBeam/results.enhanced/2-0.75/collect_16.bin"
       ]
      },
      {
       "output_type": "stream",
       "stream": "stdout",
       "text": [
        "\n",
        "Opening file: ../../../Measurements/BreakTest_AluminiumBeam/results.enhanced/2-0.75/collect_17.bin\n",
        "Closed file: ../../../Measurements/BreakTest_AluminiumBeam/results.enhanced/2-0.75/collect_17.bin\n",
        "Opening file: ../../../Measurements/BreakTest_AluminiumBeam/results.enhanced/2-0.75/collect_18.bin\n",
        "Closed file: ../../../Measurements/BreakTest_AluminiumBeam/results.enhanced/2-0.75/collect_18.bin\n",
        "Opening file: ../../../Measurements/BreakTest_AluminiumBeam/results.enhanced/2-0.75/collect_19.bin\n",
        "Closed file: ../../../Measurements/BreakTest_AluminiumBeam/results.enhanced/2-0.75/collect_19.bin\n",
        "Opening file: ../../../Measurements/BreakTest_AluminiumBeam/results.enhanced/2-0.75/collect_20.bin\n",
        "Closed file: ../../../Measurements/BreakTest_AluminiumBeam/results.enhanced/2-0.75/collect_20.bin"
       ]
      },
      {
       "output_type": "stream",
       "stream": "stdout",
       "text": [
        "\n",
        "Opening file: ../../../Measurements/BreakTest_AluminiumBeam/results.enhanced/2-0.75/collect_21.bin\n",
        "Closed file: ../../../Measurements/BreakTest_AluminiumBeam/results.enhanced/2-0.75/collect_21.bin\n",
        "Opening file: ../../../Measurements/BreakTest_AluminiumBeam/results.enhanced/2-0.75/collect_22.bin\n",
        "Closed file: ../../../Measurements/BreakTest_AluminiumBeam/results.enhanced/2-0.75/collect_22.bin\n",
        "Opening file: ../../../Measurements/BreakTest_AluminiumBeam/results.enhanced/2-0.75/collect_23.bin\n",
        "Closed file: ../../../Measurements/BreakTest_AluminiumBeam/results.enhanced/2-0.75/collect_23.bin\n",
        "Opening file: ../../../Measurements/BreakTest_AluminiumBeam/results.enhanced/2-0.75/collect_24.bin\n",
        "Closed file: ../../../Measurements/BreakTest_AluminiumBeam/results.enhanced/2-0.75/collect_24.bin"
       ]
      },
      {
       "output_type": "stream",
       "stream": "stdout",
       "text": [
        "\n",
        "Opening file: ../../../Measurements/BreakTest_AluminiumBeam/results.enhanced/2-0.75/collect_25.bin\n",
        "Closed file: ../../../Measurements/BreakTest_AluminiumBeam/results.enhanced/2-0.75/collect_25.bin\n",
        "Opening file: ../../../Measurements/BreakTest_AluminiumBeam/results.enhanced/2-0.75/collect_26.bin\n",
        "Closed file: ../../../Measurements/BreakTest_AluminiumBeam/results.enhanced/2-0.75/collect_26.bin\n",
        "Opening file: ../../../Measurements/BreakTest_AluminiumBeam/results.enhanced/2-0.75/collect_27.bin\n",
        "Closed file: ../../../Measurements/BreakTest_AluminiumBeam/results.enhanced/2-0.75/collect_27.bin\n",
        "Opening file: ../../../Measurements/BreakTest_AluminiumBeam/results.enhanced/2-0.75/collect_28.bin\n",
        "Closed file: ../../../Measurements/BreakTest_AluminiumBeam/results.enhanced/2-0.75/collect_28.bin"
       ]
      },
      {
       "output_type": "stream",
       "stream": "stdout",
       "text": [
        "\n",
        "Opening file: ../../../Measurements/BreakTest_AluminiumBeam/results.enhanced/2-0.75/collect_29.bin\n",
        "Closed file: ../../../Measurements/BreakTest_AluminiumBeam/results.enhanced/2-0.75/collect_29.bin\n",
        "Opening file: ../../../Measurements/BreakTest_AluminiumBeam/results.enhanced/2-0.75/collect_30.bin\n",
        "Closed file: ../../../Measurements/BreakTest_AluminiumBeam/results.enhanced/2-0.75/collect_30.bin\n",
        "Opening file: ../../../Measurements/BreakTest_AluminiumBeam/results.enhanced/2-0.75/collect_31.bin\n",
        "Closed file: ../../../Measurements/BreakTest_AluminiumBeam/results.enhanced/2-0.75/collect_31.bin\n",
        "Opening file: ../../../Measurements/BreakTest_AluminiumBeam/results.enhanced/2-0.75/collect_32.bin\n",
        "Closed file: ../../../Measurements/BreakTest_AluminiumBeam/results.enhanced/2-0.75/collect_32.bin\n",
        "Opening file: ../../../Measurements/BreakTest_AluminiumBeam/results.enhanced/2-0.75/collect_33.bin\n",
        "Closed file: ../../../Measurements/BreakTest_AluminiumBeam/results.enhanced/2-0.75/collect_33.bin"
       ]
      },
      {
       "output_type": "stream",
       "stream": "stdout",
       "text": [
        "\n",
        "Opening file: ../../../Measurements/BreakTest_AluminiumBeam/results.enhanced/2-0.75/collect_34.bin\n",
        "Closed file: ../../../Measurements/BreakTest_AluminiumBeam/results.enhanced/2-0.75/collect_34.bin\n",
        "Opening file: ../../../Measurements/BreakTest_AluminiumBeam/results.enhanced/2-0.75/collect_35.bin\n",
        "Closed file: ../../../Measurements/BreakTest_AluminiumBeam/results.enhanced/2-0.75/collect_35.bin\n",
        "Opening file: ../../../Measurements/BreakTest_AluminiumBeam/results.enhanced/2-0.75/collect_36.bin\n",
        "Closed file: ../../../Measurements/BreakTest_AluminiumBeam/results.enhanced/2-0.75/collect_36.bin\n",
        "Opening file: ../../../Measurements/BreakTest_AluminiumBeam/results.enhanced/2-0.75/collect_37.bin\n",
        "Closed file: ../../../Measurements/BreakTest_AluminiumBeam/results.enhanced/2-0.75/collect_37.bin"
       ]
      },
      {
       "output_type": "stream",
       "stream": "stdout",
       "text": [
        "\n",
        "Opening file: ../../../Measurements/BreakTest_AluminiumBeam/results.enhanced/2-0.75/collect_38.bin\n",
        "Closed file: ../../../Measurements/BreakTest_AluminiumBeam/results.enhanced/2-0.75/collect_38.bin\n",
        "Opening file: ../../../Measurements/BreakTest_AluminiumBeam/results.enhanced/2-0.75/collect_39.bin\n",
        "Closed file: ../../../Measurements/BreakTest_AluminiumBeam/results.enhanced/2-0.75/collect_39.bin\n",
        "Opening file: ../../../Measurements/BreakTest_AluminiumBeam/results.enhanced/2-0.75/collect_40.bin\n",
        "Closed file: ../../../Measurements/BreakTest_AluminiumBeam/results.enhanced/2-0.75/collect_40.bin\n",
        "Opening file: ../../../Measurements/BreakTest_AluminiumBeam/results.enhanced/2-0.75/collect_41.bin\n",
        "Closed file: ../../../Measurements/BreakTest_AluminiumBeam/results.enhanced/2-0.75/collect_41.bin\n",
        "Opening file: ../../../Measurements/BreakTest_AluminiumBeam/results.enhanced/2-0.75/collect_42.bin\n",
        "Closed file: ../../../Measurements/BreakTest_AluminiumBeam/results.enhanced/2-0.75/collect_42.bin\n",
        "Opening file: ../../../Measurements/BreakTest_AluminiumBeam/results.enhanced/2-0.75/collect_43.bin\n",
        "Closed file: ../../../Measurements/BreakTest_AluminiumBeam/results.enhanced/2-0.75/collect_43.bin"
       ]
      },
      {
       "output_type": "stream",
       "stream": "stdout",
       "text": [
        "\n",
        "Opening file: ../../../Measurements/BreakTest_AluminiumBeam/results.enhanced/2-0.75/collect_44.bin\n",
        "Closed file: ../../../Measurements/BreakTest_AluminiumBeam/results.enhanced/2-0.75/collect_44.bin\n",
        "Opening file: ../../../Measurements/BreakTest_AluminiumBeam/results.enhanced/2-0.75/collect_45.bin\n",
        "Closed file: ../../../Measurements/BreakTest_AluminiumBeam/results.enhanced/2-0.75/collect_45.bin\n",
        "Opening file: ../../../Measurements/BreakTest_AluminiumBeam/results.enhanced/2-0.75/collect_46.bin\n",
        "Closed file: ../../../Measurements/BreakTest_AluminiumBeam/results.enhanced/2-0.75/collect_46.bin\n",
        "Opening file: ../../../Measurements/BreakTest_AluminiumBeam/results.enhanced/2-0.75/collect_47.bin\n",
        "Closed file: ../../../Measurements/BreakTest_AluminiumBeam/results.enhanced/2-0.75/collect_47.bin\n",
        "Opening file: ../../../Measurements/BreakTest_AluminiumBeam/results.enhanced/2-0.75/collect_48.bin\n",
        "Closed file: ../../../Measurements/BreakTest_AluminiumBeam/results.enhanced/2-0.75/collect_48.bin"
       ]
      },
      {
       "output_type": "stream",
       "stream": "stdout",
       "text": [
        "\n",
        "Opening file: ../../../Measurements/BreakTest_AluminiumBeam/results.enhanced/2-0.75/collect_49.bin\n",
        "Closed file: ../../../Measurements/BreakTest_AluminiumBeam/results.enhanced/2-0.75/collect_49.bin\n",
        "Opening file: ../../../Measurements/BreakTest_AluminiumBeam/results.enhanced/2-0.75/collect_50.bin\n",
        "Closed file: ../../../Measurements/BreakTest_AluminiumBeam/results.enhanced/2-0.75/collect_50.bin\n",
        "Opening file: ../../../Measurements/BreakTest_AluminiumBeam/results.enhanced/2-0.75/collect_51.bin\n",
        "Closed file: ../../../Measurements/BreakTest_AluminiumBeam/results.enhanced/2-0.75/collect_51.bin\n",
        "Opening file: ../../../Measurements/BreakTest_AluminiumBeam/results.enhanced/2-0.75/collect_52.bin\n",
        "Closed file: ../../../Measurements/BreakTest_AluminiumBeam/results.enhanced/2-0.75/collect_52.bin\n",
        "Opening file: ../../../Measurements/BreakTest_AluminiumBeam/results.enhanced/2-0.75/collect_53.bin\n",
        "Closed file: ../../../Measurements/BreakTest_AluminiumBeam/results.enhanced/2-0.75/collect_53.bin"
       ]
      },
      {
       "output_type": "stream",
       "stream": "stdout",
       "text": [
        "\n",
        "Opening file: ../../../Measurements/BreakTest_AluminiumBeam/results.enhanced/2-0.75/collect_54.bin\n",
        "Closed file: ../../../Measurements/BreakTest_AluminiumBeam/results.enhanced/2-0.75/collect_54.bin\n",
        "Opening file: ../../../Measurements/BreakTest_AluminiumBeam/results.enhanced/2-0.75/collect_55.bin\n",
        "Closed file: ../../../Measurements/BreakTest_AluminiumBeam/results.enhanced/2-0.75/collect_55.bin\n",
        "Opening file: ../../../Measurements/BreakTest_AluminiumBeam/results.enhanced/2-0.75/collect_56.bin\n",
        "Closed file: ../../../Measurements/BreakTest_AluminiumBeam/results.enhanced/2-0.75/collect_56.bin\n",
        "Opening file: ../../../Measurements/BreakTest_AluminiumBeam/results.enhanced/2-0.75/collect_57.bin\n",
        "Closed file: ../../../Measurements/BreakTest_AluminiumBeam/results.enhanced/2-0.75/collect_57.bin\n",
        "Opening file: ../../../Measurements/BreakTest_AluminiumBeam/results.enhanced/2-0.75/collect_58.bin\n",
        "Closed file: ../../../Measurements/BreakTest_AluminiumBeam/results.enhanced/2-0.75/collect_58.bin\n",
        "Opening file: ../../../Measurements/BreakTest_AluminiumBeam/results.enhanced/2-0.75/collect_59.bin\n",
        "Closed file: ../../../Measurements/BreakTest_AluminiumBeam/results.enhanced/2-0.75/collect_59.bin"
       ]
      },
      {
       "output_type": "stream",
       "stream": "stdout",
       "text": [
        "\n",
        "Opening file: ../../../Measurements/BreakTest_AluminiumBeam/results.enhanced/2-0.75/collect_60.bin\n",
        "Closed file: ../../../Measurements/BreakTest_AluminiumBeam/results.enhanced/2-0.75/collect_60.bin\n",
        "Opening file: ../../../Measurements/BreakTest_AluminiumBeam/results.enhanced/2-0.75/collect_61.bin\n",
        "Closed file: ../../../Measurements/BreakTest_AluminiumBeam/results.enhanced/2-0.75/collect_61.bin\n",
        "Opening file: ../../../Measurements/BreakTest_AluminiumBeam/results.enhanced/2-0.75/collect_62.bin\n",
        "Closed file: ../../../Measurements/BreakTest_AluminiumBeam/results.enhanced/2-0.75/collect_62.bin\n",
        "Opening file: ../../../Measurements/BreakTest_AluminiumBeam/results.enhanced/2-0.75/collect_63.bin\n",
        "Closed file: ../../../Measurements/BreakTest_AluminiumBeam/results.enhanced/2-0.75/collect_63.bin\n",
        "Opening file: ../../../Measurements/BreakTest_AluminiumBeam/results.enhanced/2-0.75/collect_64.bin\n",
        "Closed file: ../../../Measurements/BreakTest_AluminiumBeam/results.enhanced/2-0.75/collect_64.bin\n",
        "Opening file: ../../../Measurements/BreakTest_AluminiumBeam/results.enhanced/2-0.75/collect_65.bin\n",
        "Closed file: ../../../Measurements/BreakTest_AluminiumBeam/results.enhanced/2-0.75/collect_65.bin"
       ]
      },
      {
       "output_type": "stream",
       "stream": "stdout",
       "text": [
        "\n",
        "Opening file: ../../../Measurements/BreakTest_AluminiumBeam/results.enhanced/2-0.75/collect_66.bin\n",
        "Closed file: ../../../Measurements/BreakTest_AluminiumBeam/results.enhanced/2-0.75/collect_66.bin\n",
        "Opening file: ../../../Measurements/BreakTest_AluminiumBeam/results.enhanced/2-0.75/collect_67.bin\n",
        "Closed file: ../../../Measurements/BreakTest_AluminiumBeam/results.enhanced/2-0.75/collect_67.bin\n",
        "Opening file: ../../../Measurements/BreakTest_AluminiumBeam/results.enhanced/2-0.75/collect_68.bin\n",
        "Closed file: ../../../Measurements/BreakTest_AluminiumBeam/results.enhanced/2-0.75/collect_68.bin\n",
        "Opening file: ../../../Measurements/BreakTest_AluminiumBeam/results.enhanced/2-0.75/collect_69.bin\n",
        "Closed file: ../../../Measurements/BreakTest_AluminiumBeam/results.enhanced/2-0.75/collect_69.bin\n",
        "Opening file: ../../../Measurements/BreakTest_AluminiumBeam/results.enhanced/2-0.75/collect_70.bin\n",
        "Closed file: ../../../Measurements/BreakTest_AluminiumBeam/results.enhanced/2-0.75/collect_70.bin\n",
        "Opening file: ../../../Measurements/BreakTest_AluminiumBeam/results.enhanced/2-0.75/collect_71.bin\n",
        "Closed file: ../../../Measurements/BreakTest_AluminiumBeam/results.enhanced/2-0.75/collect_71.bin"
       ]
      },
      {
       "output_type": "stream",
       "stream": "stdout",
       "text": [
        "\n",
        "Opening file: ../../../Measurements/BreakTest_AluminiumBeam/results.enhanced/2-0.75/collect_72.bin\n",
        "Closed file: ../../../Measurements/BreakTest_AluminiumBeam/results.enhanced/2-0.75/collect_72.bin\n",
        "Opening file: ../../../Measurements/BreakTest_AluminiumBeam/results.enhanced/2-0.75/collect_73.bin\n",
        "Closed file: ../../../Measurements/BreakTest_AluminiumBeam/results.enhanced/2-0.75/collect_73.bin\n",
        "Opening file: ../../../Measurements/BreakTest_AluminiumBeam/results.enhanced/2-0.75/collect_74.bin\n",
        "Closed file: ../../../Measurements/BreakTest_AluminiumBeam/results.enhanced/2-0.75/collect_74.bin\n",
        "Opening file: ../../../Measurements/BreakTest_AluminiumBeam/results.enhanced/2-0.75/collect_75.bin\n",
        "Closed file: ../../../Measurements/BreakTest_AluminiumBeam/results.enhanced/2-0.75/collect_75.bin\n",
        "Opening file: ../../../Measurements/BreakTest_AluminiumBeam/results.enhanced/2-0.75/collect_76.bin\n",
        "Closed file: ../../../Measurements/BreakTest_AluminiumBeam/results.enhanced/2-0.75/collect_76.bin\n",
        "Opening file: ../../../Measurements/BreakTest_AluminiumBeam/results.enhanced/2-0.75/collect_77.bin"
       ]
      },
      {
       "output_type": "stream",
       "stream": "stdout",
       "text": [
        "\n",
        "Closed file: ../../../Measurements/BreakTest_AluminiumBeam/results.enhanced/2-0.75/collect_77.bin\n",
        "Opening file: ../../../Measurements/BreakTest_AluminiumBeam/results.enhanced/2-0.75/collect_78.bin\n",
        "Closed file: ../../../Measurements/BreakTest_AluminiumBeam/results.enhanced/2-0.75/collect_78.bin\n",
        "Opening file: ../../../Measurements/BreakTest_AluminiumBeam/results.enhanced/2-0.75/collect_79.bin\n",
        "Closed file: ../../../Measurements/BreakTest_AluminiumBeam/results.enhanced/2-0.75/collect_79.bin\n",
        "Opening file: ../../../Measurements/BreakTest_AluminiumBeam/results.enhanced/2-0.75/collect_80.bin\n",
        "Closed file: ../../../Measurements/BreakTest_AluminiumBeam/results.enhanced/2-0.75/collect_80.bin\n",
        "Opening file: ../../../Measurements/BreakTest_AluminiumBeam/results.enhanced/2-0.75/collect_81.bin\n",
        "Closed file: ../../../Measurements/BreakTest_AluminiumBeam/results.enhanced/2-0.75/collect_81.bin"
       ]
      },
      {
       "output_type": "stream",
       "stream": "stdout",
       "text": [
        "\n",
        "Opening file: ../../../Measurements/BreakTest_AluminiumBeam/results.enhanced/2-0.75/collect_82.bin\n",
        "Closed file: ../../../Measurements/BreakTest_AluminiumBeam/results.enhanced/2-0.75/collect_82.bin\n",
        "Opening file: ../../../Measurements/BreakTest_AluminiumBeam/results.enhanced/2-0.75/collect_83.bin\n",
        "Closed file: ../../../Measurements/BreakTest_AluminiumBeam/results.enhanced/2-0.75/collect_83.bin\n",
        "Opening file: ../../../Measurements/BreakTest_AluminiumBeam/results.enhanced/2-0.75/collect_84.bin\n",
        "Closed file: ../../../Measurements/BreakTest_AluminiumBeam/results.enhanced/2-0.75/collect_84.bin\n",
        "Opening file: ../../../Measurements/BreakTest_AluminiumBeam/results.enhanced/2-0.75/collect_85.bin\n",
        "Closed file: ../../../Measurements/BreakTest_AluminiumBeam/results.enhanced/2-0.75/collect_85.bin"
       ]
      },
      {
       "output_type": "stream",
       "stream": "stdout",
       "text": [
        "\n",
        "Opening file: ../../../Measurements/BreakTest_AluminiumBeam/results.enhanced/2-0.75/collect_86.bin\n",
        "Closed file: ../../../Measurements/BreakTest_AluminiumBeam/results.enhanced/2-0.75/collect_86.bin\n",
        "Opening file: ../../../Measurements/BreakTest_AluminiumBeam/results.enhanced/2-0.75/collect_87.bin\n",
        "Closed file: ../../../Measurements/BreakTest_AluminiumBeam/results.enhanced/2-0.75/collect_87.bin\n",
        "Opening file: ../../../Measurements/BreakTest_AluminiumBeam/results.enhanced/2-0.75/collect_88.bin\n",
        "Closed file: ../../../Measurements/BreakTest_AluminiumBeam/results.enhanced/2-0.75/collect_88.bin\n",
        "Opening file: ../../../Measurements/BreakTest_AluminiumBeam/results.enhanced/2-0.75/collect_89.bin\n",
        "Closed file: ../../../Measurements/BreakTest_AluminiumBeam/results.enhanced/2-0.75/collect_89.bin\n",
        "Opening file: ../../../Measurements/BreakTest_AluminiumBeam/results.enhanced/2-0.75/collect_90.bin\n",
        "Closed file: ../../../Measurements/BreakTest_AluminiumBeam/results.enhanced/2-0.75/collect_90.bin"
       ]
      },
      {
       "output_type": "stream",
       "stream": "stdout",
       "text": [
        "\n",
        "Opening file: ../../../Measurements/BreakTest_AluminiumBeam/results.enhanced/2-0.75/collect_91.bin\n",
        "Closed file: ../../../Measurements/BreakTest_AluminiumBeam/results.enhanced/2-0.75/collect_91.bin\n",
        "Opening file: ../../../Measurements/BreakTest_AluminiumBeam/results.enhanced/2-0.75/collect_92.bin\n",
        "Closed file: ../../../Measurements/BreakTest_AluminiumBeam/results.enhanced/2-0.75/collect_92.bin\n",
        "Opening file: ../../../Measurements/BreakTest_AluminiumBeam/results.enhanced/2-0.75/collect_93.bin\n",
        "Closed file: ../../../Measurements/BreakTest_AluminiumBeam/results.enhanced/2-0.75/collect_93.bin\n",
        "Opening file: ../../../Measurements/BreakTest_AluminiumBeam/results.enhanced/2-0.75/collect_94.bin\n",
        "Closed file: ../../../Measurements/BreakTest_AluminiumBeam/results.enhanced/2-0.75/collect_94.bin\n",
        "Opening file: ../../../Measurements/BreakTest_AluminiumBeam/results.enhanced/2-0.75/collect_95.bin\n",
        "Closed file: ../../../Measurements/BreakTest_AluminiumBeam/results.enhanced/2-0.75/collect_95.bin"
       ]
      },
      {
       "output_type": "stream",
       "stream": "stdout",
       "text": [
        "\n",
        "Opening file: ../../../Measurements/BreakTest_AluminiumBeam/results.enhanced/2-0.75/collect_96.bin\n",
        "Closed file: ../../../Measurements/BreakTest_AluminiumBeam/results.enhanced/2-0.75/collect_96.bin\n",
        "Opening file: ../../../Measurements/BreakTest_AluminiumBeam/results.enhanced/2-0.75/collect_97.bin\n",
        "Closed file: ../../../Measurements/BreakTest_AluminiumBeam/results.enhanced/2-0.75/collect_97.bin\n",
        "Opening file: ../../../Measurements/BreakTest_AluminiumBeam/results.enhanced/2-0.75/collect_98.bin\n",
        "Closed file: ../../../Measurements/BreakTest_AluminiumBeam/results.enhanced/2-0.75/collect_98.bin\n",
        "Opening file: ../../../Measurements/BreakTest_AluminiumBeam/results.enhanced/2-0.75/collect_99.bin\n",
        "Closed file: ../../../Measurements/BreakTest_AluminiumBeam/results.enhanced/2-0.75/collect_99.bin\n",
        "Opening file: ../../../Measurements/BreakTest_AluminiumBeam/results.enhanced/2-0.75/collect_100.bin"
       ]
      },
      {
       "output_type": "stream",
       "stream": "stdout",
       "text": [
        "\n",
        "Closed file: ../../../Measurements/BreakTest_AluminiumBeam/results.enhanced/2-0.75/collect_100.bin\n",
        "Opening file: ../../../Measurements/BreakTest_AluminiumBeam/results.enhanced/2-0.75/collect_101.bin\n",
        "Closed file: ../../../Measurements/BreakTest_AluminiumBeam/results.enhanced/2-0.75/collect_101.bin\n",
        "Opening file: ../../../Measurements/BreakTest_AluminiumBeam/results.enhanced/2-0.75/collect_102.bin\n",
        "Closed file: ../../../Measurements/BreakTest_AluminiumBeam/results.enhanced/2-0.75/collect_102.bin\n",
        "Opening file: ../../../Measurements/BreakTest_AluminiumBeam/results.enhanced/2-0.75/collect_103.bin\n",
        "Closed file: ../../../Measurements/BreakTest_AluminiumBeam/results.enhanced/2-0.75/collect_103.bin\n",
        "Opening file: ../../../Measurements/BreakTest_AluminiumBeam/results.enhanced/2-0.75/collect_104.bin\n",
        "Closed file: ../../../Measurements/BreakTest_AluminiumBeam/results.enhanced/2-0.75/collect_104.bin\n",
        "Opening file: ../../../Measurements/BreakTest_AluminiumBeam/results.enhanced/2-0.75/collect_105.bin"
       ]
      },
      {
       "output_type": "stream",
       "stream": "stdout",
       "text": [
        "\n",
        "Closed file: ../../../Measurements/BreakTest_AluminiumBeam/results.enhanced/2-0.75/collect_105.bin\n",
        "Opening file: ../../../Measurements/BreakTest_AluminiumBeam/results.enhanced/2-0.75/collect_106.bin\n",
        "Closed file: ../../../Measurements/BreakTest_AluminiumBeam/results.enhanced/2-0.75/collect_106.bin\n",
        "Opening file: ../../../Measurements/BreakTest_AluminiumBeam/results.enhanced/2-0.75/collect_107.bin\n",
        "Closed file: ../../../Measurements/BreakTest_AluminiumBeam/results.enhanced/2-0.75/collect_107.bin\n",
        "Opening file: ../../../Measurements/BreakTest_AluminiumBeam/results.enhanced/2-0.75/collect_108.bin\n",
        "Closed file: ../../../Measurements/BreakTest_AluminiumBeam/results.enhanced/2-0.75/collect_108.bin\n",
        "Opening file: ../../../Measurements/BreakTest_AluminiumBeam/results.enhanced/2-0.75/collect_109.bin\n",
        "Closed file: ../../../Measurements/BreakTest_AluminiumBeam/results.enhanced/2-0.75/collect_109.bin"
       ]
      },
      {
       "output_type": "stream",
       "stream": "stdout",
       "text": [
        "\n",
        "Opening file: ../../../Measurements/BreakTest_AluminiumBeam/results.enhanced/2-0.75/collect_110.bin\n",
        "Closed file: ../../../Measurements/BreakTest_AluminiumBeam/results.enhanced/2-0.75/collect_110.bin\n",
        "Opening file: ../../../Measurements/BreakTest_AluminiumBeam/results.enhanced/2-0.75/collect_111.bin\n",
        "Closed file: ../../../Measurements/BreakTest_AluminiumBeam/results.enhanced/2-0.75/collect_111.bin\n",
        "Opening file: ../../../Measurements/BreakTest_AluminiumBeam/results.enhanced/2-0.75/collect_112.bin\n",
        "Closed file: ../../../Measurements/BreakTest_AluminiumBeam/results.enhanced/2-0.75/collect_112.bin\n",
        "Opening file: ../../../Measurements/BreakTest_AluminiumBeam/results.enhanced/2-0.75/collect_113.bin\n",
        "Closed file: ../../../Measurements/BreakTest_AluminiumBeam/results.enhanced/2-0.75/collect_113.bin\n",
        "Opening file: ../../../Measurements/BreakTest_AluminiumBeam/results.enhanced/2-0.75/collect_114.bin"
       ]
      },
      {
       "output_type": "stream",
       "stream": "stdout",
       "text": [
        "\n",
        "Closed file: ../../../Measurements/BreakTest_AluminiumBeam/results.enhanced/2-0.75/collect_114.bin\n",
        "Opening file: ../../../Measurements/BreakTest_AluminiumBeam/results.enhanced/2-0.75/collect_115.bin\n",
        "Closed file: ../../../Measurements/BreakTest_AluminiumBeam/results.enhanced/2-0.75/collect_115.bin\n",
        "Opening file: ../../../Measurements/BreakTest_AluminiumBeam/results.enhanced/2-0.75/collect_116.bin\n",
        "Closed file: ../../../Measurements/BreakTest_AluminiumBeam/results.enhanced/2-0.75/collect_116.bin\n",
        "Opening file: ../../../Measurements/BreakTest_AluminiumBeam/results.enhanced/2-0.75/collect_117.bin\n",
        "Closed file: ../../../Measurements/BreakTest_AluminiumBeam/results.enhanced/2-0.75/collect_117.bin\n",
        "Opening file: ../../../Measurements/BreakTest_AluminiumBeam/results.enhanced/2-0.75/collect_118.bin\n",
        "Closed file: ../../../Measurements/BreakTest_AluminiumBeam/results.enhanced/2-0.75/collect_118.bin"
       ]
      },
      {
       "output_type": "stream",
       "stream": "stdout",
       "text": [
        "\n",
        "Opening file: ../../../Measurements/BreakTest_AluminiumBeam/results.enhanced/2-0.75/collect_119.bin\n",
        "Closed file: ../../../Measurements/BreakTest_AluminiumBeam/results.enhanced/2-0.75/collect_119.bin\n",
        "Opening file: ../../../Measurements/BreakTest_AluminiumBeam/results.enhanced/2-0.75/collect_120.bin\n",
        "Closed file: ../../../Measurements/BreakTest_AluminiumBeam/results.enhanced/2-0.75/collect_120.bin\n",
        "Opening file: ../../../Measurements/BreakTest_AluminiumBeam/results.enhanced/2-0.75/collect_121.bin\n",
        "Closed file: ../../../Measurements/BreakTest_AluminiumBeam/results.enhanced/2-0.75/collect_121.bin\n",
        "Opening file: ../../../Measurements/BreakTest_AluminiumBeam/results.enhanced/2-0.75/collect_122.bin\n",
        "Closed file: ../../../Measurements/BreakTest_AluminiumBeam/results.enhanced/2-0.75/collect_122.bin\n",
        "Opening file: ../../../Measurements/BreakTest_AluminiumBeam/results.enhanced/2-0.75/collect_123.bin\n",
        "Closed file: ../../../Measurements/BreakTest_AluminiumBeam/results.enhanced/2-0.75/collect_123.bin\n",
        "Opening file: ../../../Measurements/BreakTest_AluminiumBeam/results.enhanced/2-0.75/collect_124.bin"
       ]
      },
      {
       "output_type": "stream",
       "stream": "stdout",
       "text": [
        "\n",
        "Closed file: ../../../Measurements/BreakTest_AluminiumBeam/results.enhanced/2-0.75/collect_124.bin\n",
        "Opening file: ../../../Measurements/BreakTest_AluminiumBeam/results.enhanced/2-0.75/collect_125.bin\n",
        "Closed file: ../../../Measurements/BreakTest_AluminiumBeam/results.enhanced/2-0.75/collect_125.bin\n",
        "Opening file: ../../../Measurements/BreakTest_AluminiumBeam/results.enhanced/2-0.75/collect_126.bin\n",
        "Closed file: ../../../Measurements/BreakTest_AluminiumBeam/results.enhanced/2-0.75/collect_126.bin\n",
        "Opening file: ../../../Measurements/BreakTest_AluminiumBeam/results.enhanced/2-0.75/collect_127.bin\n",
        "Closed file: ../../../Measurements/BreakTest_AluminiumBeam/results.enhanced/2-0.75/collect_127.bin\n",
        "Opening file: ../../../Measurements/BreakTest_AluminiumBeam/results.enhanced/2-0.75/collect_128.bin\n",
        "Closed file: ../../../Measurements/BreakTest_AluminiumBeam/results.enhanced/2-0.75/collect_128.bin\n",
        "Opening file: ../../../Measurements/BreakTest_AluminiumBeam/results.enhanced/2-0.75/collect_129.bin\n",
        "Closed file: ../../../Measurements/BreakTest_AluminiumBeam/results.enhanced/2-0.75/collect_129.bin"
       ]
      },
      {
       "output_type": "stream",
       "stream": "stdout",
       "text": [
        "\n",
        "Opening file: ../../../Measurements/BreakTest_AluminiumBeam/results.enhanced/2-0.75/collect_130.bin\n",
        "Closed file: ../../../Measurements/BreakTest_AluminiumBeam/results.enhanced/2-0.75/collect_130.bin\n",
        "Opening file: ../../../Measurements/BreakTest_AluminiumBeam/results.enhanced/2-0.75/collect_131.bin\n",
        "Closed file: ../../../Measurements/BreakTest_AluminiumBeam/results.enhanced/2-0.75/collect_131.bin\n",
        "Opening file: ../../../Measurements/BreakTest_AluminiumBeam/results.enhanced/2-0.75/collect_132.bin\n",
        "Closed file: ../../../Measurements/BreakTest_AluminiumBeam/results.enhanced/2-0.75/collect_132.bin\n",
        "Opening file: ../../../Measurements/BreakTest_AluminiumBeam/results.enhanced/2-0.75/collect_133.bin\n",
        "Closed file: ../../../Measurements/BreakTest_AluminiumBeam/results.enhanced/2-0.75/collect_133.bin\n",
        "Opening file: ../../../Measurements/BreakTest_AluminiumBeam/results.enhanced/2-0.75/collect_134.bin\n",
        "Closed file: ../../../Measurements/BreakTest_AluminiumBeam/results.enhanced/2-0.75/collect_134.bin"
       ]
      },
      {
       "output_type": "stream",
       "stream": "stdout",
       "text": [
        "\n",
        "Opening file: ../../../Measurements/BreakTest_AluminiumBeam/results.enhanced/2-0.75/collect_135.bin\n",
        "Closed file: ../../../Measurements/BreakTest_AluminiumBeam/results.enhanced/2-0.75/collect_135.bin\n",
        "Opening file: ../../../Measurements/BreakTest_AluminiumBeam/results.enhanced/2-0.75/collect_136.bin\n",
        "Closed file: ../../../Measurements/BreakTest_AluminiumBeam/results.enhanced/2-0.75/collect_136.bin\n",
        "Opening file: ../../../Measurements/BreakTest_AluminiumBeam/results.enhanced/2-0.75/collect_137.bin\n",
        "Closed file: ../../../Measurements/BreakTest_AluminiumBeam/results.enhanced/2-0.75/collect_137.bin\n",
        "Opening file: ../../../Measurements/BreakTest_AluminiumBeam/results.enhanced/2-0.75/collect_138.bin\n",
        "Closed file: ../../../Measurements/BreakTest_AluminiumBeam/results.enhanced/2-0.75/collect_138.bin\n",
        "Opening file: ../../../Measurements/BreakTest_AluminiumBeam/results.enhanced/2-0.75/collect_139.bin\n",
        "Closed file: ../../../Measurements/BreakTest_AluminiumBeam/results.enhanced/2-0.75/collect_139.bin\n",
        "Opening file: ../../../Measurements/BreakTest_AluminiumBeam/results.enhanced/2-0.75/collect_140.bin"
       ]
      },
      {
       "output_type": "stream",
       "stream": "stdout",
       "text": [
        "\n",
        "Closed file: ../../../Measurements/BreakTest_AluminiumBeam/results.enhanced/2-0.75/collect_140.bin\n",
        "Opening file: ../../../Measurements/BreakTest_AluminiumBeam/results.enhanced/2-0.75/collect_141.bin\n",
        "Closed file: ../../../Measurements/BreakTest_AluminiumBeam/results.enhanced/2-0.75/collect_141.bin\n",
        "Opening file: ../../../Measurements/BreakTest_AluminiumBeam/results.enhanced/2-0.75/collect_142.bin\n",
        "Closed file: ../../../Measurements/BreakTest_AluminiumBeam/results.enhanced/2-0.75/collect_142.bin\n",
        "Opening file: ../../../Measurements/BreakTest_AluminiumBeam/results.enhanced/2-0.75/collect_143.bin\n",
        "Closed file: ../../../Measurements/BreakTest_AluminiumBeam/results.enhanced/2-0.75/collect_143.bin\n",
        "Opening file: ../../../Measurements/BreakTest_AluminiumBeam/results.enhanced/2-0.75/collect_144.bin\n",
        "Closed file: ../../../Measurements/BreakTest_AluminiumBeam/results.enhanced/2-0.75/collect_144.bin\n",
        "Opening file: ../../../Measurements/BreakTest_AluminiumBeam/results.enhanced/2-0.75/collect_145.bin\n",
        "Closed file: ../../../Measurements/BreakTest_AluminiumBeam/results.enhanced/2-0.75/collect_145.bin"
       ]
      },
      {
       "output_type": "stream",
       "stream": "stdout",
       "text": [
        "\n",
        "Opening file: ../../../Measurements/BreakTest_AluminiumBeam/results.enhanced/2-0.75/collect_146.bin\n",
        "Closed file: ../../../Measurements/BreakTest_AluminiumBeam/results.enhanced/2-0.75/collect_146.bin\n",
        "Opening file: ../../../Measurements/BreakTest_AluminiumBeam/results.enhanced/2-0.75/collect_147.bin\n",
        "Closed file: ../../../Measurements/BreakTest_AluminiumBeam/results.enhanced/2-0.75/collect_147.bin\n",
        "Opening file: ../../../Measurements/BreakTest_AluminiumBeam/results.enhanced/2-0.75/collect_148.bin\n",
        "Closed file: ../../../Measurements/BreakTest_AluminiumBeam/results.enhanced/2-0.75/collect_148.bin\n",
        "Opening file: ../../../Measurements/BreakTest_AluminiumBeam/results.enhanced/2-0.75/collect_149.bin\n",
        "Closed file: ../../../Measurements/BreakTest_AluminiumBeam/results.enhanced/2-0.75/collect_149.bin\n",
        "Opening file: ../../../Measurements/BreakTest_AluminiumBeam/results.enhanced/2-0.75/collect_150.bin\n",
        "Closed file: ../../../Measurements/BreakTest_AluminiumBeam/results.enhanced/2-0.75/collect_150.bin\n",
        "Opening file: ../../../Measurements/BreakTest_AluminiumBeam/results.enhanced/2-0.75/collect_151.bin"
       ]
      },
      {
       "output_type": "stream",
       "stream": "stdout",
       "text": [
        "\n",
        "Closed file: ../../../Measurements/BreakTest_AluminiumBeam/results.enhanced/2-0.75/collect_151.bin\n",
        "Opening file: ../../../Measurements/BreakTest_AluminiumBeam/results.enhanced/2-0.75/collect_152.bin\n",
        "Closed file: ../../../Measurements/BreakTest_AluminiumBeam/results.enhanced/2-0.75/collect_152.bin\n",
        "Opening file: ../../../Measurements/BreakTest_AluminiumBeam/results.enhanced/2-0.75/collect_153.bin\n",
        "Closed file: ../../../Measurements/BreakTest_AluminiumBeam/results.enhanced/2-0.75/collect_153.bin\n",
        "Opening file: ../../../Measurements/BreakTest_AluminiumBeam/results.enhanced/2-0.75/collect_154.bin\n",
        "Closed file: ../../../Measurements/BreakTest_AluminiumBeam/results.enhanced/2-0.75/collect_154.bin\n",
        "Opening file: ../../../Measurements/BreakTest_AluminiumBeam/results.enhanced/2-0.75/collect_155.bin\n",
        "Closed file: ../../../Measurements/BreakTest_AluminiumBeam/results.enhanced/2-0.75/collect_155.bin\n",
        "Opening file: ../../../Measurements/BreakTest_AluminiumBeam/results.enhanced/2-0.75/collect_156.bin\n",
        "Closed file: ../../../Measurements/BreakTest_AluminiumBeam/results.enhanced/2-0.75/collect_156.bin"
       ]
      },
      {
       "output_type": "stream",
       "stream": "stdout",
       "text": [
        "\n",
        "Opening file: ../../../Measurements/BreakTest_AluminiumBeam/results.enhanced/2-0.75/collect_157.bin\n",
        "Closed file: ../../../Measurements/BreakTest_AluminiumBeam/results.enhanced/2-0.75/collect_157.bin\n",
        "Opening file: ../../../Measurements/BreakTest_AluminiumBeam/results.enhanced/2-0.75/collect_158.bin\n",
        "Closed file: ../../../Measurements/BreakTest_AluminiumBeam/results.enhanced/2-0.75/collect_158.bin\n",
        "Opening file: ../../../Measurements/BreakTest_AluminiumBeam/results.enhanced/2-0.75/collect_159.bin\n",
        "Closed file: ../../../Measurements/BreakTest_AluminiumBeam/results.enhanced/2-0.75/collect_159.bin\n",
        "Opening file: ../../../Measurements/BreakTest_AluminiumBeam/results.enhanced/2-0.75/collect_160.bin\n",
        "Closed file: ../../../Measurements/BreakTest_AluminiumBeam/results.enhanced/2-0.75/collect_160.bin\n",
        "Opening file: ../../../Measurements/BreakTest_AluminiumBeam/results.enhanced/2-0.75/collect_161.bin\n",
        "Closed file: ../../../Measurements/BreakTest_AluminiumBeam/results.enhanced/2-0.75/collect_161.bin\n",
        "Opening file: ../../../Measurements/BreakTest_AluminiumBeam/results.enhanced/2-0.75/collect_162.bin\n",
        "Closed file: ../../../Measurements/BreakTest_AluminiumBeam/results.enhanced/2-0.75/collect_162.bin"
       ]
      },
      {
       "output_type": "stream",
       "stream": "stdout",
       "text": [
        "\n",
        "Opening file: ../../../Measurements/BreakTest_AluminiumBeam/results.enhanced/2-0.75/collect_163.bin\n",
        "Closed file: ../../../Measurements/BreakTest_AluminiumBeam/results.enhanced/2-0.75/collect_163.bin\n",
        "Opening file: ../../../Measurements/BreakTest_AluminiumBeam/results.enhanced/2-0.75/collect_164.bin\n",
        "Closed file: ../../../Measurements/BreakTest_AluminiumBeam/results.enhanced/2-0.75/collect_164.bin\n",
        "Opening file: ../../../Measurements/BreakTest_AluminiumBeam/results.enhanced/2-0.75/collect_165.bin\n",
        "Closed file: ../../../Measurements/BreakTest_AluminiumBeam/results.enhanced/2-0.75/collect_165.bin\n",
        "Opening file: ../../../Measurements/BreakTest_AluminiumBeam/results.enhanced/2-0.75/collect_166.bin\n",
        "Closed file: ../../../Measurements/BreakTest_AluminiumBeam/results.enhanced/2-0.75/collect_166.bin\n",
        "Opening file: ../../../Measurements/BreakTest_AluminiumBeam/results.enhanced/2-0.75/collect_167.bin\n",
        "Closed file: ../../../Measurements/BreakTest_AluminiumBeam/results.enhanced/2-0.75/collect_167.bin\n",
        "Opening file: ../../../Measurements/BreakTest_AluminiumBeam/results.enhanced/2-0.75/collect_168.bin\n",
        "Closed file: ../../../Measurements/BreakTest_AluminiumBeam/results.enhanced/2-0.75/collect_168.bin"
       ]
      },
      {
       "output_type": "stream",
       "stream": "stdout",
       "text": [
        "\n",
        "Opening file: ../../../Measurements/BreakTest_AluminiumBeam/results.enhanced/2-0.75/collect_169.bin\n",
        "Closed file: ../../../Measurements/BreakTest_AluminiumBeam/results.enhanced/2-0.75/collect_169.bin\n",
        "Opening file: ../../../Measurements/BreakTest_AluminiumBeam/results.enhanced/2-0.75/collect_170.bin\n",
        "Closed file: ../../../Measurements/BreakTest_AluminiumBeam/results.enhanced/2-0.75/collect_170.bin\n",
        "Opening file: ../../../Measurements/BreakTest_AluminiumBeam/results.enhanced/2-0.75/collect_171.bin\n",
        "Closed file: ../../../Measurements/BreakTest_AluminiumBeam/results.enhanced/2-0.75/collect_171.bin\n",
        "Opening file: ../../../Measurements/BreakTest_AluminiumBeam/results.enhanced/2-0.75/collect_172.bin\n",
        "Closed file: ../../../Measurements/BreakTest_AluminiumBeam/results.enhanced/2-0.75/collect_172.bin\n",
        "Opening file: ../../../Measurements/BreakTest_AluminiumBeam/results.enhanced/2-0.75/collect_173.bin\n",
        "Closed file: ../../../Measurements/BreakTest_AluminiumBeam/results.enhanced/2-0.75/collect_173.bin\n",
        "Opening file: ../../../Measurements/BreakTest_AluminiumBeam/results.enhanced/2-0.75/collect_174.bin"
       ]
      },
      {
       "output_type": "stream",
       "stream": "stdout",
       "text": [
        "\n",
        "Closed file: ../../../Measurements/BreakTest_AluminiumBeam/results.enhanced/2-0.75/collect_174.bin\n",
        "Opening file: ../../../Measurements/BreakTest_AluminiumBeam/results.enhanced/2-0.75/collect_175.bin\n",
        "Closed file: ../../../Measurements/BreakTest_AluminiumBeam/results.enhanced/2-0.75/collect_175.bin\n"
       ]
      }
     ],
     "prompt_number": 1
    },
    {
     "cell_type": "code",
     "collapsed": false,
     "input": [
      "import numpy as np\n",
      "\n",
      "def removeDC(ys):\n",
      "    for ii in xrange(len(ys)):\n",
      "        ys[ii] -= np.mean(ys[ii])\n",
      "    return ys"
     ],
     "language": "python",
     "metadata": {},
     "outputs": [],
     "prompt_number": 2
    },
    {
     "cell_type": "code",
     "collapsed": false,
     "input": [
      "y_2 = removeDC(y_2)\n",
      "y2_2 = removeDC(y2_2)"
     ],
     "language": "python",
     "metadata": {},
     "outputs": [],
     "prompt_number": 3
    },
    {
     "cell_type": "heading",
     "level": 1,
     "metadata": {},
     "source": [
      "Time Difference of Arrival (TDOA)"
     ]
    },
    {
     "cell_type": "markdown",
     "metadata": {},
     "source": [
      "Theoretical value of TD."
     ]
    },
    {
     "cell_type": "code",
     "collapsed": false,
     "input": [
      "v = 3909.49 #m/s - sound speed in aluminium\n",
      "dist_diff = 33*0.0254 #m - distance difference of sensors\n",
      "\n",
      "TD = dist_diff/v #s - theoretical TD\n",
      "print 'Theoretical time difference: %.2f us' % (TD*1000000)\n",
      "print 'Distance traveled in 810.7 usec: %.2f m' % (810.7e-6*v)\n",
      "print 'Distance traveled in 213 usec: %.2f m' % (213e-6*v)\n",
      "print 'Distance traveled in 500 usec: %.2f m' % (500e-6*v)"
     ],
     "language": "python",
     "metadata": {},
     "outputs": [
      {
       "output_type": "stream",
       "stream": "stdout",
       "text": [
        "Theoretical time difference: 214.40 us\n",
        "Distance traveled in 810.7 usec: 3.17 m\n",
        "Distance traveled in 213 usec: 0.83 m\n",
        "Distance traveled in 500 usec: 1.95 m\n"
       ]
      }
     ],
     "prompt_number": 4
    },
    {
     "cell_type": "heading",
     "level": 2,
     "metadata": {},
     "source": [
      "Akaike Information Criterion (AIC)"
     ]
    },
    {
     "cell_type": "markdown",
     "metadata": {},
     "source": [
      "Calculate TDOA using the Akaike Information Criterion (AIC) as onset picker."
     ]
    },
    {
     "cell_type": "code",
     "collapsed": false,
     "input": [
      "from helperfuncs.CalculateTDOA_AIC_method import CalculateTDOA_AIC_method\n",
      "\n",
      "AE_start_2, AE_start2_2, TD_meas_2, qty1, qty2 = CalculateTDOA_AIC_method(y_2, y2_2, T_2)\n",
      "qty_min = np.minimum(qty1, qty2)\n",
      "qty_max = np.maximum(qty1, qty2)"
     ],
     "language": "python",
     "metadata": {},
     "outputs": [
      {
       "output_type": "stream",
       "stream": "stdout",
       "text": [
        "0.00%\n",
        "0.57%"
       ]
      },
      {
       "output_type": "stream",
       "stream": "stdout",
       "text": [
        "\n",
        "1.14%"
       ]
      },
      {
       "output_type": "stream",
       "stream": "stdout",
       "text": [
        "\n",
        "1.70%"
       ]
      },
      {
       "output_type": "stream",
       "stream": "stdout",
       "text": [
        "\n",
        "2.27%"
       ]
      },
      {
       "output_type": "stream",
       "stream": "stdout",
       "text": [
        "\n",
        "2.84%"
       ]
      },
      {
       "output_type": "stream",
       "stream": "stdout",
       "text": [
        "\n",
        "3.41%"
       ]
      },
      {
       "output_type": "stream",
       "stream": "stdout",
       "text": [
        "\n",
        "3.98%"
       ]
      },
      {
       "output_type": "stream",
       "stream": "stdout",
       "text": [
        "\n",
        "4.55%"
       ]
      },
      {
       "output_type": "stream",
       "stream": "stdout",
       "text": [
        "\n",
        "5.11%"
       ]
      },
      {
       "output_type": "stream",
       "stream": "stdout",
       "text": [
        "\n",
        "5.68%"
       ]
      },
      {
       "output_type": "stream",
       "stream": "stdout",
       "text": [
        "\n",
        "6.25%"
       ]
      },
      {
       "output_type": "stream",
       "stream": "stdout",
       "text": [
        "\n",
        "6.82%"
       ]
      },
      {
       "output_type": "stream",
       "stream": "stdout",
       "text": [
        "\n",
        "7.39%"
       ]
      },
      {
       "output_type": "stream",
       "stream": "stdout",
       "text": [
        "\n",
        "7.95%"
       ]
      },
      {
       "output_type": "stream",
       "stream": "stdout",
       "text": [
        "\n",
        "8.52%"
       ]
      },
      {
       "output_type": "stream",
       "stream": "stdout",
       "text": [
        "\n",
        "9.09%"
       ]
      },
      {
       "output_type": "stream",
       "stream": "stdout",
       "text": [
        "\n",
        "9.66%"
       ]
      },
      {
       "output_type": "stream",
       "stream": "stdout",
       "text": [
        "\n",
        "10.23%"
       ]
      },
      {
       "output_type": "stream",
       "stream": "stdout",
       "text": [
        "\n",
        "10.80%"
       ]
      },
      {
       "output_type": "stream",
       "stream": "stdout",
       "text": [
        "\n",
        "11.36%"
       ]
      },
      {
       "output_type": "stream",
       "stream": "stdout",
       "text": [
        "\n",
        "11.93%"
       ]
      },
      {
       "output_type": "stream",
       "stream": "stdout",
       "text": [
        "\n",
        "12.50%"
       ]
      },
      {
       "output_type": "stream",
       "stream": "stdout",
       "text": [
        "\n",
        "13.07%"
       ]
      },
      {
       "output_type": "stream",
       "stream": "stdout",
       "text": [
        "\n",
        "13.64%"
       ]
      },
      {
       "output_type": "stream",
       "stream": "stdout",
       "text": [
        "\n",
        "14.20%"
       ]
      },
      {
       "output_type": "stream",
       "stream": "stdout",
       "text": [
        "\n",
        "14.77%"
       ]
      },
      {
       "output_type": "stream",
       "stream": "stdout",
       "text": [
        "\n",
        "15.34%"
       ]
      },
      {
       "output_type": "stream",
       "stream": "stdout",
       "text": [
        "\n",
        "15.91%"
       ]
      },
      {
       "output_type": "stream",
       "stream": "stdout",
       "text": [
        "\n",
        "16.48%"
       ]
      },
      {
       "output_type": "stream",
       "stream": "stdout",
       "text": [
        "\n",
        "17.05%"
       ]
      },
      {
       "output_type": "stream",
       "stream": "stdout",
       "text": [
        "\n",
        "17.61%"
       ]
      },
      {
       "output_type": "stream",
       "stream": "stdout",
       "text": [
        "\n",
        "18.18%"
       ]
      },
      {
       "output_type": "stream",
       "stream": "stdout",
       "text": [
        "\n",
        "18.75%"
       ]
      },
      {
       "output_type": "stream",
       "stream": "stdout",
       "text": [
        "\n",
        "19.32%"
       ]
      },
      {
       "output_type": "stream",
       "stream": "stdout",
       "text": [
        "\n",
        "19.89%"
       ]
      },
      {
       "output_type": "stream",
       "stream": "stdout",
       "text": [
        "\n",
        "20.45%"
       ]
      },
      {
       "output_type": "stream",
       "stream": "stdout",
       "text": [
        "\n",
        "21.02%"
       ]
      },
      {
       "output_type": "stream",
       "stream": "stdout",
       "text": [
        "\n",
        "21.59%"
       ]
      },
      {
       "output_type": "stream",
       "stream": "stdout",
       "text": [
        "\n",
        "22.16%"
       ]
      },
      {
       "output_type": "stream",
       "stream": "stdout",
       "text": [
        "\n",
        "22.73%"
       ]
      },
      {
       "output_type": "stream",
       "stream": "stdout",
       "text": [
        "\n",
        "23.30%"
       ]
      },
      {
       "output_type": "stream",
       "stream": "stdout",
       "text": [
        "\n",
        "23.86%"
       ]
      },
      {
       "output_type": "stream",
       "stream": "stdout",
       "text": [
        "\n",
        "24.43%"
       ]
      },
      {
       "output_type": "stream",
       "stream": "stdout",
       "text": [
        "\n",
        "25.00%"
       ]
      },
      {
       "output_type": "stream",
       "stream": "stdout",
       "text": [
        "\n",
        "25.57%"
       ]
      },
      {
       "output_type": "stream",
       "stream": "stdout",
       "text": [
        "\n",
        "26.14%"
       ]
      },
      {
       "output_type": "stream",
       "stream": "stdout",
       "text": [
        "\n",
        "26.70%"
       ]
      },
      {
       "output_type": "stream",
       "stream": "stdout",
       "text": [
        "\n",
        "27.27%"
       ]
      },
      {
       "output_type": "stream",
       "stream": "stdout",
       "text": [
        "\n",
        "27.84%"
       ]
      },
      {
       "output_type": "stream",
       "stream": "stdout",
       "text": [
        "\n",
        "28.41%"
       ]
      },
      {
       "output_type": "stream",
       "stream": "stdout",
       "text": [
        "\n",
        "28.98%"
       ]
      },
      {
       "output_type": "stream",
       "stream": "stdout",
       "text": [
        "\n",
        "29.55%"
       ]
      },
      {
       "output_type": "stream",
       "stream": "stdout",
       "text": [
        "\n",
        "30.11%"
       ]
      },
      {
       "output_type": "stream",
       "stream": "stdout",
       "text": [
        "\n",
        "30.68%"
       ]
      },
      {
       "output_type": "stream",
       "stream": "stdout",
       "text": [
        "\n",
        "31.25%"
       ]
      },
      {
       "output_type": "stream",
       "stream": "stdout",
       "text": [
        "\n",
        "31.82%"
       ]
      },
      {
       "output_type": "stream",
       "stream": "stdout",
       "text": [
        "\n",
        "32.39%"
       ]
      },
      {
       "output_type": "stream",
       "stream": "stdout",
       "text": [
        "\n",
        "32.95%"
       ]
      },
      {
       "output_type": "stream",
       "stream": "stdout",
       "text": [
        "\n",
        "33.52%"
       ]
      },
      {
       "output_type": "stream",
       "stream": "stdout",
       "text": [
        "\n",
        "34.09%"
       ]
      },
      {
       "output_type": "stream",
       "stream": "stdout",
       "text": [
        "\n",
        "34.66%"
       ]
      },
      {
       "output_type": "stream",
       "stream": "stdout",
       "text": [
        "\n",
        "35.23%"
       ]
      },
      {
       "output_type": "stream",
       "stream": "stdout",
       "text": [
        "\n",
        "35.80%"
       ]
      },
      {
       "output_type": "stream",
       "stream": "stdout",
       "text": [
        "\n",
        "36.36%"
       ]
      },
      {
       "output_type": "stream",
       "stream": "stdout",
       "text": [
        "\n",
        "36.93%"
       ]
      },
      {
       "output_type": "stream",
       "stream": "stdout",
       "text": [
        "\n",
        "37.50%"
       ]
      },
      {
       "output_type": "stream",
       "stream": "stdout",
       "text": [
        "\n",
        "38.07%"
       ]
      },
      {
       "output_type": "stream",
       "stream": "stdout",
       "text": [
        "\n",
        "38.64%"
       ]
      },
      {
       "output_type": "stream",
       "stream": "stdout",
       "text": [
        "\n",
        "39.20%"
       ]
      },
      {
       "output_type": "stream",
       "stream": "stdout",
       "text": [
        "\n",
        "39.77%"
       ]
      },
      {
       "output_type": "stream",
       "stream": "stdout",
       "text": [
        "\n",
        "40.34%"
       ]
      },
      {
       "output_type": "stream",
       "stream": "stdout",
       "text": [
        "\n",
        "40.91%"
       ]
      },
      {
       "output_type": "stream",
       "stream": "stdout",
       "text": [
        "\n",
        "41.48%"
       ]
      },
      {
       "output_type": "stream",
       "stream": "stdout",
       "text": [
        "\n",
        "42.05%"
       ]
      },
      {
       "output_type": "stream",
       "stream": "stdout",
       "text": [
        "\n",
        "42.61%"
       ]
      },
      {
       "output_type": "stream",
       "stream": "stdout",
       "text": [
        "\n",
        "43.18%"
       ]
      },
      {
       "output_type": "stream",
       "stream": "stdout",
       "text": [
        "\n",
        "43.75%"
       ]
      },
      {
       "output_type": "stream",
       "stream": "stdout",
       "text": [
        "\n",
        "44.32%"
       ]
      },
      {
       "output_type": "stream",
       "stream": "stdout",
       "text": [
        "\n",
        "44.89%"
       ]
      },
      {
       "output_type": "stream",
       "stream": "stdout",
       "text": [
        "\n",
        "45.45%"
       ]
      },
      {
       "output_type": "stream",
       "stream": "stdout",
       "text": [
        "\n",
        "46.02%"
       ]
      },
      {
       "output_type": "stream",
       "stream": "stdout",
       "text": [
        "\n",
        "46.59%"
       ]
      },
      {
       "output_type": "stream",
       "stream": "stdout",
       "text": [
        "\n",
        "47.16%"
       ]
      },
      {
       "output_type": "stream",
       "stream": "stdout",
       "text": [
        "\n",
        "47.73%"
       ]
      },
      {
       "output_type": "stream",
       "stream": "stdout",
       "text": [
        "\n",
        "48.30%"
       ]
      },
      {
       "output_type": "stream",
       "stream": "stdout",
       "text": [
        "\n",
        "48.86%"
       ]
      },
      {
       "output_type": "stream",
       "stream": "stdout",
       "text": [
        "\n",
        "49.43%"
       ]
      },
      {
       "output_type": "stream",
       "stream": "stdout",
       "text": [
        "\n",
        "50.00%"
       ]
      },
      {
       "output_type": "stream",
       "stream": "stdout",
       "text": [
        "\n",
        "50.57%"
       ]
      },
      {
       "output_type": "stream",
       "stream": "stdout",
       "text": [
        "\n",
        "51.14%"
       ]
      },
      {
       "output_type": "stream",
       "stream": "stdout",
       "text": [
        "\n",
        "51.70%"
       ]
      },
      {
       "output_type": "stream",
       "stream": "stdout",
       "text": [
        "\n",
        "52.27%"
       ]
      },
      {
       "output_type": "stream",
       "stream": "stdout",
       "text": [
        "\n",
        "52.84%"
       ]
      },
      {
       "output_type": "stream",
       "stream": "stdout",
       "text": [
        "\n",
        "53.41%"
       ]
      },
      {
       "output_type": "stream",
       "stream": "stdout",
       "text": [
        "\n",
        "53.98%"
       ]
      },
      {
       "output_type": "stream",
       "stream": "stdout",
       "text": [
        "\n",
        "54.55%"
       ]
      },
      {
       "output_type": "stream",
       "stream": "stdout",
       "text": [
        "\n",
        "55.11%"
       ]
      },
      {
       "output_type": "stream",
       "stream": "stdout",
       "text": [
        "\n",
        "55.68%"
       ]
      },
      {
       "output_type": "stream",
       "stream": "stdout",
       "text": [
        "\n",
        "56.25%"
       ]
      },
      {
       "output_type": "stream",
       "stream": "stdout",
       "text": [
        "\n",
        "56.82%"
       ]
      },
      {
       "output_type": "stream",
       "stream": "stdout",
       "text": [
        "\n",
        "57.39%"
       ]
      },
      {
       "output_type": "stream",
       "stream": "stdout",
       "text": [
        "\n",
        "57.95%"
       ]
      },
      {
       "output_type": "stream",
       "stream": "stdout",
       "text": [
        "\n",
        "58.52%"
       ]
      },
      {
       "output_type": "stream",
       "stream": "stdout",
       "text": [
        "\n",
        "59.09%"
       ]
      },
      {
       "output_type": "stream",
       "stream": "stdout",
       "text": [
        "\n",
        "59.66%"
       ]
      },
      {
       "output_type": "stream",
       "stream": "stdout",
       "text": [
        "\n",
        "60.23%"
       ]
      },
      {
       "output_type": "stream",
       "stream": "stdout",
       "text": [
        "\n",
        "60.80%"
       ]
      },
      {
       "output_type": "stream",
       "stream": "stdout",
       "text": [
        "\n",
        "61.36%"
       ]
      },
      {
       "output_type": "stream",
       "stream": "stdout",
       "text": [
        "\n",
        "61.93%"
       ]
      },
      {
       "output_type": "stream",
       "stream": "stdout",
       "text": [
        "\n",
        "62.50%"
       ]
      },
      {
       "output_type": "stream",
       "stream": "stdout",
       "text": [
        "\n",
        "63.07%"
       ]
      },
      {
       "output_type": "stream",
       "stream": "stdout",
       "text": [
        "\n",
        "63.64%"
       ]
      },
      {
       "output_type": "stream",
       "stream": "stdout",
       "text": [
        "\n",
        "64.20%"
       ]
      },
      {
       "output_type": "stream",
       "stream": "stdout",
       "text": [
        "\n",
        "64.77%"
       ]
      },
      {
       "output_type": "stream",
       "stream": "stdout",
       "text": [
        "\n",
        "65.34%"
       ]
      },
      {
       "output_type": "stream",
       "stream": "stdout",
       "text": [
        "\n",
        "65.91%"
       ]
      },
      {
       "output_type": "stream",
       "stream": "stdout",
       "text": [
        "\n",
        "66.48%"
       ]
      },
      {
       "output_type": "stream",
       "stream": "stdout",
       "text": [
        "\n",
        "67.05%"
       ]
      },
      {
       "output_type": "stream",
       "stream": "stdout",
       "text": [
        "\n",
        "67.61%"
       ]
      },
      {
       "output_type": "stream",
       "stream": "stdout",
       "text": [
        "\n",
        "68.18%"
       ]
      },
      {
       "output_type": "stream",
       "stream": "stdout",
       "text": [
        "\n",
        "68.75%"
       ]
      },
      {
       "output_type": "stream",
       "stream": "stdout",
       "text": [
        "\n",
        "69.32%"
       ]
      },
      {
       "output_type": "stream",
       "stream": "stdout",
       "text": [
        "\n",
        "69.89%"
       ]
      },
      {
       "output_type": "stream",
       "stream": "stdout",
       "text": [
        "\n",
        "70.45%"
       ]
      },
      {
       "output_type": "stream",
       "stream": "stdout",
       "text": [
        "\n",
        "71.02%"
       ]
      },
      {
       "output_type": "stream",
       "stream": "stdout",
       "text": [
        "\n",
        "71.59%"
       ]
      },
      {
       "output_type": "stream",
       "stream": "stdout",
       "text": [
        "\n",
        "72.16%"
       ]
      },
      {
       "output_type": "stream",
       "stream": "stdout",
       "text": [
        "\n",
        "72.73%"
       ]
      },
      {
       "output_type": "stream",
       "stream": "stdout",
       "text": [
        "\n",
        "73.30%"
       ]
      },
      {
       "output_type": "stream",
       "stream": "stdout",
       "text": [
        "\n",
        "73.86%"
       ]
      },
      {
       "output_type": "stream",
       "stream": "stdout",
       "text": [
        "\n",
        "74.43%"
       ]
      },
      {
       "output_type": "stream",
       "stream": "stdout",
       "text": [
        "\n",
        "75.00%"
       ]
      },
      {
       "output_type": "stream",
       "stream": "stdout",
       "text": [
        "\n",
        "75.57%"
       ]
      },
      {
       "output_type": "stream",
       "stream": "stdout",
       "text": [
        "\n",
        "76.14%"
       ]
      },
      {
       "output_type": "stream",
       "stream": "stdout",
       "text": [
        "\n",
        "76.70%"
       ]
      },
      {
       "output_type": "stream",
       "stream": "stdout",
       "text": [
        "\n",
        "77.27%"
       ]
      },
      {
       "output_type": "stream",
       "stream": "stdout",
       "text": [
        "\n",
        "77.84%"
       ]
      },
      {
       "output_type": "stream",
       "stream": "stdout",
       "text": [
        "\n",
        "78.41%"
       ]
      },
      {
       "output_type": "stream",
       "stream": "stdout",
       "text": [
        "\n",
        "78.98%"
       ]
      },
      {
       "output_type": "stream",
       "stream": "stdout",
       "text": [
        "\n",
        "79.55%"
       ]
      },
      {
       "output_type": "stream",
       "stream": "stdout",
       "text": [
        "\n",
        "80.11%"
       ]
      },
      {
       "output_type": "stream",
       "stream": "stdout",
       "text": [
        "\n",
        "80.68%"
       ]
      },
      {
       "output_type": "stream",
       "stream": "stdout",
       "text": [
        "\n",
        "81.25%"
       ]
      },
      {
       "output_type": "stream",
       "stream": "stdout",
       "text": [
        "\n",
        "81.82%"
       ]
      },
      {
       "output_type": "stream",
       "stream": "stdout",
       "text": [
        "\n",
        "82.39%"
       ]
      },
      {
       "output_type": "stream",
       "stream": "stdout",
       "text": [
        "\n",
        "82.95%"
       ]
      },
      {
       "output_type": "stream",
       "stream": "stdout",
       "text": [
        "\n",
        "83.52%"
       ]
      },
      {
       "output_type": "stream",
       "stream": "stdout",
       "text": [
        "\n",
        "84.09%"
       ]
      },
      {
       "output_type": "stream",
       "stream": "stdout",
       "text": [
        "\n",
        "84.66%"
       ]
      },
      {
       "output_type": "stream",
       "stream": "stdout",
       "text": [
        "\n",
        "85.23%"
       ]
      },
      {
       "output_type": "stream",
       "stream": "stdout",
       "text": [
        "\n",
        "85.80%"
       ]
      },
      {
       "output_type": "stream",
       "stream": "stdout",
       "text": [
        "\n",
        "86.36%"
       ]
      },
      {
       "output_type": "stream",
       "stream": "stdout",
       "text": [
        "\n",
        "86.93%"
       ]
      },
      {
       "output_type": "stream",
       "stream": "stdout",
       "text": [
        "\n",
        "87.50%"
       ]
      },
      {
       "output_type": "stream",
       "stream": "stdout",
       "text": [
        "\n",
        "88.07%"
       ]
      },
      {
       "output_type": "stream",
       "stream": "stdout",
       "text": [
        "\n",
        "88.64%"
       ]
      },
      {
       "output_type": "stream",
       "stream": "stdout",
       "text": [
        "\n",
        "89.20%"
       ]
      },
      {
       "output_type": "stream",
       "stream": "stdout",
       "text": [
        "\n",
        "89.77%"
       ]
      },
      {
       "output_type": "stream",
       "stream": "stdout",
       "text": [
        "\n",
        "90.34%"
       ]
      },
      {
       "output_type": "stream",
       "stream": "stdout",
       "text": [
        "\n",
        "90.91%"
       ]
      },
      {
       "output_type": "stream",
       "stream": "stdout",
       "text": [
        "\n",
        "91.48%"
       ]
      },
      {
       "output_type": "stream",
       "stream": "stdout",
       "text": [
        "\n",
        "92.05%"
       ]
      },
      {
       "output_type": "stream",
       "stream": "stdout",
       "text": [
        "\n",
        "92.61%"
       ]
      },
      {
       "output_type": "stream",
       "stream": "stdout",
       "text": [
        "\n",
        "93.18%"
       ]
      },
      {
       "output_type": "stream",
       "stream": "stdout",
       "text": [
        "\n",
        "93.75%"
       ]
      },
      {
       "output_type": "stream",
       "stream": "stdout",
       "text": [
        "\n",
        "94.32%"
       ]
      },
      {
       "output_type": "stream",
       "stream": "stdout",
       "text": [
        "\n",
        "94.89%"
       ]
      },
      {
       "output_type": "stream",
       "stream": "stdout",
       "text": [
        "\n",
        "95.45%"
       ]
      },
      {
       "output_type": "stream",
       "stream": "stdout",
       "text": [
        "\n",
        "96.02%"
       ]
      },
      {
       "output_type": "stream",
       "stream": "stdout",
       "text": [
        "\n",
        "96.59%"
       ]
      },
      {
       "output_type": "stream",
       "stream": "stdout",
       "text": [
        "\n",
        "97.16%"
       ]
      },
      {
       "output_type": "stream",
       "stream": "stdout",
       "text": [
        "\n",
        "97.73%"
       ]
      },
      {
       "output_type": "stream",
       "stream": "stdout",
       "text": [
        "\n",
        "98.30%"
       ]
      },
      {
       "output_type": "stream",
       "stream": "stdout",
       "text": [
        "\n",
        "98.86%"
       ]
      },
      {
       "output_type": "stream",
       "stream": "stdout",
       "text": [
        "\n",
        "99.43%"
       ]
      },
      {
       "output_type": "stream",
       "stream": "stdout",
       "text": [
        "\n"
       ]
      }
     ],
     "prompt_number": 5
    },
    {
     "cell_type": "heading",
     "level": 1,
     "metadata": {},
     "source": [
      "Time history"
     ]
    },
    {
     "cell_type": "code",
     "collapsed": false,
     "input": [
      "from helperfuncs.PlotHistory import PlotHistory\n",
      "\n",
      "#From 1300.786704 to 1486.019976\n",
      "PlotHistory(qty_min, 0, qty_max, TD_meas_2, -1, 1, start_time_2, 0, 187, 0, 9, \"Measurements\\nmin and max quality idx\")\n",
      "PlotHistory(qty2, 0, qty1, TD_meas_2, -1, 1, start_time_2, 0, 187, 0, 9, \"Measurements\\nchannel 1 and 2 quality idx\")"
     ],
     "language": "python",
     "metadata": {},
     "outputs": [
      {
       "output_type": "display_data",
       "png": "[encoded data removed]"
      },
      {
       "output_type": "display_data",
       "png": "[encoded data removed]"
      }
     ],
     "prompt_number": 6
    },
    {
     "cell_type": "code",
     "collapsed": false,
     "input": [
      "from helperfuncs.PlotHistory import PlotHistory\n",
      "\n",
      "#From 1300.786704 to 1486.019976\n",
      "PlotHistory(qty_min, 0, qty_max, TD_meas_2, -1, 1, start_time_2, 0, 187, 0, 9, \"Measurements\\nmin and max quality idx\")\n",
      "PlotHistory(qty_min, 0.5, qty_max, TD_meas_2, 0.16*1e-3, 0.24*1e-3, start_time_2, 0, 187, 0, 9, \"Measurements\\nmin and max quality idx for 0.16<TD<0.24\")\n",
      "PlotHistory(qty_min, 0.5, qty_max, TD_meas_2, 0.76*1e-3, 0.84*1e-3, start_time_2, 0, 187, 0, 9, \"Measurements\\nmin and max quality idx for 0.76<TD<0.84\")"
     ],
     "language": "python",
     "metadata": {},
     "outputs": [
      {
       "output_type": "display_data",
       "png": "[encoded data removed]"
      },
      {
       "output_type": "display_data",
       "png": "[encoded data removed]"
      },
      {
       "output_type": "display_data",
       "png": "[encoded data removed]"
      }
     ],
     "prompt_number": 7
    },
    {
     "cell_type": "heading",
     "level": 1,
     "metadata": {},
     "source": [
      "GMM model estimate with EM"
     ]
    },
    {
     "cell_type": "heading",
     "level": 2,
     "metadata": {},
     "source": [
      "1D: TD"
     ]
    },
    {
     "cell_type": "code",
     "collapsed": false,
     "input": [
      "from helperfuncs.GMM_estimate_EM import GMM_estimate_EM\n",
      "import numpy as np\n",
      "\n",
      "alpha_2, mu_2, sigma_2 = GMM_estimate_EM(TD_meas_2*1e3, alpha = np.array([0.5, 0.5]), mu = np.array([0.2, 0.8]), sigma = np.array([[[0.1, 0.1]]]))\n",
      "mu_2 = mu_2.flatten()\n",
      "sigma_2 = np.sqrt(sigma_2.flatten())"
     ],
     "language": "python",
     "metadata": {},
     "outputs": [
      {
       "output_type": "stream",
       "stream": "stdout",
       "text": [
        "Iterations left: 10\n",
        "alpha: "
       ]
      },
      {
       "output_type": "stream",
       "stream": "stdout",
       "text": [
        "\n",
        "[ 0.83108298  0.16891702]\n",
        "mu: \n",
        "[[ 0.11259728]\n",
        " [ 0.43089767]]\n",
        "sigma: \n",
        "[[[ 0.024274    0.09184319]]]\n",
        "Likelihood: 44.47\n",
        "change: 280.19%\n",
        "Iterations left: 10"
       ]
      },
      {
       "output_type": "stream",
       "stream": "stdout",
       "text": [
        "\n",
        "alpha: "
       ]
      },
      {
       "output_type": "stream",
       "stream": "stdout",
       "text": [
        "\n",
        "[ 0.84425927  0.15574073]\n",
        "mu: \n",
        "[[ 0.10802926]\n",
        " [ 0.48259007]]\n",
        "sigma: \n",
        "[[[ 0.01832976  0.10266213]]]\n",
        "Likelihood: 48.38\n",
        "change: 8.08%\n",
        "Iterations left: 10"
       ]
      },
      {
       "output_type": "stream",
       "stream": "stdout",
       "text": [
        "\n",
        "alpha: "
       ]
      },
      {
       "output_type": "stream",
       "stream": "stdout",
       "text": [
        "\n",
        "[ 0.85498632  0.14501368]\n",
        "mu: \n",
        "[[ 0.10713075]\n",
        " [ 0.51559489]]\n",
        "sigma: \n",
        "[[[ 0.01787271  0.09615449]]]\n",
        "Likelihood: 48.85\n",
        "change: 0.96%\n"
       ]
      }
     ],
     "prompt_number": 8
    },
    {
     "cell_type": "code",
     "collapsed": false,
     "input": [
      "from helperfuncs.PlotTDHist import PlotTDHist\n",
      "\n",
      "PlotTDHist(TD_meas_2*1e3, True, -0.5, 1, alpha=alpha_2, mu=mu_2, sigma=sigma_2)"
     ],
     "language": "python",
     "metadata": {},
     "outputs": [
      {
       "output_type": "display_data",
       "png": "[encoded data removed]"
      }
     ],
     "prompt_number": 9
    },
    {
     "cell_type": "code",
     "collapsed": false,
     "input": [
      "import numpy as np\n",
      "\n",
      "pickbest = 20\n",
      "TD_meas_2p = (np.array(TD_meas_2)[np.argsort(qty_min)])[-pickbest:]\n",
      "alpha_2p, mu_2p, sigma_2p = GMM_estimate_EM(TD_meas_2p*1e3, alpha = np.array([0.5, 0.5]), mu = np.array([0.2, 0.8]), sigma = np.array([[[0.1, 0.1]]]))\n",
      "mu_2p = mu_2p.flatten()\n",
      "sigma_2p = np.sqrt(sigma_2p.flatten())"
     ],
     "language": "python",
     "metadata": {},
     "outputs": [
      {
       "output_type": "stream",
       "stream": "stdout",
       "text": [
        "Iterations left: 10\n",
        "alpha: \n",
        "[ 0.37939826  0.62060174]\n",
        "mu: \n",
        "[[ 0.339684  ]\n",
        " [ 0.74796946]]\n",
        "sigma: \n",
        "[[[ 0.08821037  0.02608824]]]"
       ]
      },
      {
       "output_type": "stream",
       "stream": "stdout",
       "text": [
        "\n",
        "Likelihood: -0.04\n",
        "change: 16863.11%\n",
        "Iterations left: 10\n",
        "alpha: "
       ]
      },
      {
       "output_type": "stream",
       "stream": "stdout",
       "text": [
        "\n",
        "[ 0.38627892  0.61372108]\n",
        "mu: \n",
        "[[ 0.2957555]\n",
        " [ 0.7801957]]\n",
        "sigma: \n",
        "[[[ 0.07145916  0.00923585]]]\n",
        "Likelihood: 5.23\n",
        "change: 100.75%\n",
        "Iterations left: 10\n",
        "alpha: "
       ]
      },
      {
       "output_type": "stream",
       "stream": "stdout",
       "text": [
        "\n",
        "[ 0.38393182  0.61606818]\n",
        "mu: \n",
        "[[ 0.26239062]\n",
        " [ 0.79914298]]\n",
        "sigma: \n",
        "[[[ 0.04998576  0.00255057]]]\n",
        "Likelihood: 11.37\n",
        "change: 54.03%\n",
        "Iterations left: 10\n",
        "alpha: "
       ]
      },
      {
       "output_type": "stream",
       "stream": "stdout",
       "text": [
        "\n",
        "[ 0.40096877  0.59903123]\n",
        "mu: \n",
        "[[ 0.26930042]\n",
        " [ 0.8097835 ]]\n",
        "sigma: \n",
        "[[[ 0.04584275  0.00060071]]]\n",
        "Likelihood: 17.24\n",
        "change: 34.08%\n",
        "Iterations left: 10\n",
        "alpha: "
       ]
      },
      {
       "output_type": "stream",
       "stream": "stdout",
       "text": [
        "\n",
        "[ 0.40280986  0.59719014]\n",
        "mu: \n",
        "[[ 0.27012839]\n",
        " [ 0.8108913 ]]\n",
        "sigma: \n",
        "[[[ 0.04549495  0.00039723]]]\n",
        "Likelihood: 17.71\n",
        "change: 2.61%\n",
        "Iterations left: 10\n",
        "alpha: "
       ]
      },
      {
       "output_type": "stream",
       "stream": "stdout",
       "text": [
        "\n",
        "[ 0.40302126  0.59697874]\n",
        "mu: \n",
        "[[ 0.2704302 ]\n",
        " [ 0.81087904]]\n",
        "sigma: \n",
        "[[[ 0.04564546  0.0003964 ]]]\n",
        "Likelihood: 17.71\n",
        "change: 0.00%\n"
       ]
      }
     ],
     "prompt_number": 10
    },
    {
     "cell_type": "code",
     "collapsed": false,
     "input": [
      "from helperfuncs.PlotTDHist import PlotTDHist\n",
      "\n",
      "PlotTDHist(TD_meas_2p*1e3, True, -0.5, 1, alpha=alpha_2p, mu=mu_2p, sigma=sigma_2p)"
     ],
     "language": "python",
     "metadata": {},
     "outputs": [
      {
       "output_type": "display_data",
       "png": "[encoded data removed]"
      }
     ],
     "prompt_number": 11
    },
    {
     "cell_type": "heading",
     "level": 2,
     "metadata": {},
     "source": [
      "2D: TD and quality idx"
     ]
    },
    {
     "cell_type": "code",
     "collapsed": false,
     "input": [
      "from helperfuncs.GMM_estimate_EM import GMM_estimate_EM\n",
      "import numpy as np\n",
      "\n",
      "alpha0 = np.array([0.8, 0.2])\n",
      "mu0 = np.array([ [0.1, -0.75], [0.8, 0.7] ])\n",
      "sigma0 = np.array( [[[0.2, 0.005],[0.0, 0.0]], [[0.0, 0.0],[0.4, 0.3]]] )\n",
      "x1 = TD_meas_2*1e3\n",
      "x2 = np.log10(qty_min)\n",
      "x = np.concatenate((np.reshape(x1, (x1.shape[0],-1)),np.reshape(x2, (x2.shape[0],-1))), axis=1)\n",
      "\n",
      "alpha_2, mu_2, sigma_2 = GMM_estimate_EM( x, alpha = alpha0, mu = mu0, sigma = sigma0 )"
     ],
     "language": "python",
     "metadata": {},
     "outputs": [
      {
       "output_type": "stream",
       "stream": "stdout",
       "text": [
        "Iterations left: 10\n",
        "alpha: "
       ]
      },
      {
       "output_type": "stream",
       "stream": "stdout",
       "text": [
        "\n",
        "[ 0.93705252  0.06294748]\n",
        "mu: \n",
        "[[ 0.12317775 -0.74857881]\n",
        " [ 0.80924005  0.34447524]]\n",
        "sigma: \n",
        "[[[ 0.02358025  0.00081806]\n",
        "  [ 0.00176328  0.00200822]]\n",
        "\n",
        " [[ 0.00176328  0.00200822]\n",
        "  [ 0.08891547  0.11285196]]]\n",
        "Likelihood: 33.12\n",
        "change: 595.32%\n",
        "Iterations left: 10"
       ]
      },
      {
       "output_type": "stream",
       "stream": "stdout",
       "text": [
        "\n",
        "alpha: "
       ]
      },
      {
       "output_type": "stream",
       "stream": "stdout",
       "text": [
        "\n",
        "[ 0.93181984  0.06818016]\n",
        "mu: \n",
        "[[ 0.11920445 -0.75291528]\n",
        " [ 0.81088928  0.31985226]]\n",
        "sigma: \n",
        "[[[ 0.02091409  0.00039818]\n",
        "  [-0.00132008  0.0014717 ]]\n",
        "\n",
        " [[-0.00132008  0.0014717 ]\n",
        "  [ 0.08573325  0.11577565]]]\n",
        "Likelihood: 35.56\n",
        "change: 6.86%\n",
        "Iterations left: 10"
       ]
      },
      {
       "output_type": "stream",
       "stream": "stdout",
       "text": [
        "\n",
        "alpha: "
       ]
      },
      {
       "output_type": "stream",
       "stream": "stdout",
       "text": [
        "\n",
        "[ 0.93181834  0.06818166]\n",
        "mu: \n",
        "[[ 0.11920337 -0.75291628]\n",
        " [ 0.81088893  0.31984234]]\n",
        "sigma: \n",
        "[[[ 0.02091339  0.00039817]\n",
        "  [-0.00132076  0.00147183]]\n",
        "\n",
        " [[-0.00132076  0.00147183]\n",
        "  [ 0.08573276  0.11577767]]]\n",
        "Likelihood: 35.56\n",
        "change: 0.00%\n"
       ]
      }
     ],
     "prompt_number": 12
    },
    {
     "cell_type": "code",
     "collapsed": false,
     "input": [
      "from helperfuncs.PlotScatter2Dhist import PlotScatter2Dhist\n",
      "\n",
      "PlotScatter2Dhist(TD_meas_2*1e3, qty_min, 'time diff [msec]', 'quality idx []', ylim_min=0, ylim_max=10)\n",
      "PlotScatter2Dhist(TD_meas_2*1e3, np.log10(qty_min), 'time diff [msec]', 'log10(quality idx) []', ylim_min=-1.5, ylim_max=1.5, fitcurve=True, alpha=alpha_2, mu=mu_2, sigma=sigma_2)"
     ],
     "language": "python",
     "metadata": {},
     "outputs": [
      {
       "output_type": "display_data",
       "png": "[encoded data removed]"
      },
      {
       "output_type": "display_data",
       "png": "[encoded data removed]"
      }
     ],
     "prompt_number": 13
    }
   ],
   "metadata": {}
  }
 ]
}
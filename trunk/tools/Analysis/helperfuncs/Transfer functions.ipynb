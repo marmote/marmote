{
 "metadata": {
  "name": ""
 },
 "nbformat": 3,
 "nbformat_minor": 0,
 "worksheets": [
  {
   "cells": [
    {
     "cell_type": "heading",
     "level": 4,
     "metadata": {},
     "source": [
      "License (New 3-Clause BSD):"
     ]
    },
    {
     "cell_type": "markdown",
     "metadata": {},
     "source": [
      "Copyright (c) 2012-2013, <strong>Benjamin Babjak</strong> (babjak.b< at >isis.vanderbilt.edu)\n",
      "\n",
      "All rights reserved.\n",
      "\n",
      "Redistribution and use in source and binary forms, with or without modification, are permitted provided that the following conditions are met:\n",
      "\n",
      "* Redistributions of source code must retain the above copyright notice, this list of conditions and the following disclaimer.\n",
      "\n",
      "* Redistributions in binary form must reproduce the above copyright notice, this list of conditions and the following disclaimer in the documentation and/or other materials provided with the distribution.\n",
      "\n",
      "* Neither the name of the <strong>Institute for Software Integrated Systems, Vanderbilt University</strong> nor the names of its contributors may be used to endorse or promote products derived from this software without specific prior written permission.\n",
      "\n",
      "THIS SOFTWARE IS PROVIDED BY THE COPYRIGHT HOLDERS AND CONTRIBUTORS \"AS IS\" AND ANY EXPRESS OR IMPLIED WARRANTIES, INCLUDING, BUT NOT LIMITED TO, THE IMPLIED WARRANTIES OF MERCHANTABILITY AND FITNESS FOR A PARTICULAR PURPOSE ARE DISCLAIMED. IN NO EVENT SHALL THE COPYRIGHT HOLDER OR CONTRIBUTORS BE LIABLE FOR ANY DIRECT, INDIRECT, INCIDENTAL, SPECIAL, EXEMPLARY, OR CONSEQUENTIAL DAMAGES (INCLUDING, BUT NOT LIMITED TO, PROCUREMENT OF SUBSTITUTE GOODS OR SERVICES; LOSS OF USE, DATA, OR PROFITS; OR BUSINESS INTERRUPTION) HOWEVER CAUSED AND ON ANY THEORY OF LIABILITY, WHETHER IN CONTRACT, STRICT LIABILITY, OR TORT (INCLUDING NEGLIGENCE OR OTHERWISE) ARISING IN ANY WAY OUT OF THE USE OF THIS SOFTWARE, EVEN IF ADVISED OF THE POSSIBILITY OF SUCH DAMAGE."
     ]
    },
    {
     "cell_type": "heading",
     "level": 1,
     "metadata": {},
     "source": [
      "Transfer functions"
     ]
    },
    {
     "cell_type": "markdown",
     "metadata": {},
     "source": [
      "."
     ]
    },
    {
     "cell_type": "code",
     "collapsed": false,
     "input": [
      "import numpy as np\n",
      "\n",
      "def get_poles_zeros_for_second_order( zeta = 0.5, f_n = 100 ):\n",
      "    omega_n = 2 * np.pi * f_n\n",
      "\n",
      "    poles = [-zeta * omega_n - omega_n * np.sqrt( zeta**2 - 1 + 1j*0 ), -zeta * omega_n + omega_n * np.sqrt( zeta**2 - 1  + 1j*0 )]\n",
      "    zeros = []\n",
      "    \n",
      "    return poles, zeros"
     ],
     "language": "python",
     "metadata": {},
     "outputs": [],
     "prompt_number": 1
    },
    {
     "cell_type": "code",
     "collapsed": false,
     "input": [
      "import numpy as np\n",
      "import matplotlib.pyplot as plt\n",
      "\n",
      "def pole_zero(poles, zeros):\n",
      "    plt.plot( np.real(poles), np.imag(poles), 'ro', np.real(zeros), np.imag(zeros), 'bx' )\n",
      "    \n",
      "    xlim = plt.xlim()\n",
      "\n",
      "    xlim = ( xlim[0], 0 )\n",
      "    if zeros:\n",
      "        xlim = ( xlim[0], max(xlim[1], np.max( np.real(zeros) ) ) )\n",
      "    if poles:\n",
      "        xlim = ( xlim[0], max(xlim[1], np.max( np.real(poles) ) ) )\n",
      "    plt.xlim( xlim )\n",
      "    plt.ylabel( 'Imaginary' )\n",
      "    plt.xlabel( 'Real' )\n",
      "    plt.grid(True)\n",
      "    plt.show()"
     ],
     "language": "python",
     "metadata": {},
     "outputs": [],
     "prompt_number": 2
    },
    {
     "cell_type": "code",
     "collapsed": false,
     "input": [
      "import math\n",
      "import matplotlib.pyplot as pyplot\n",
      " \n",
      "# frequency in Hz, gain in dB, phase in radians between -pi and pi. They should\n",
      "# all be vectors of the same length.\n",
      "def bode(frequency,gain,phase,frange=None,magrange=None,title=None,**kwargs):\n",
      "    pyplot.figure()\n",
      "    pyplot.subplot(211)\n",
      " \n",
      "    # add title, if given\n",
      "    if (title != None):\n",
      "        pyplot.title(title)\n",
      " \n",
      "    # plot it as a log-scaled graph\n",
      "    pyplot.semilogx(frequency,gain,basex=10,**kwargs)\n",
      " \n",
      "    # update axis ranges\n",
      "    ax = []\n",
      "    ax[0:4] = pyplot.axis()\n",
      "    # check if we were given a frequency range for the plot\n",
      "    if (frange != None):\n",
      "        ax[0:2] = frange\n",
      "    # check if we were given a dB range for the magnitude part of the plot\n",
      "    if (magrange != None):\n",
      "        ax[2:4] = magrange\n",
      "    pyplot.axis(ax)\n",
      " \n",
      "    pyplot.grid(True)\n",
      "    # turn on the minor gridlines to give that awesome log-scaled look\n",
      "    pyplot.grid(True,which='minor')\n",
      "    pyplot.ylabel(\"Gain (dB)\")\n",
      " \n",
      "    pyplot.subplot(212)\n",
      "    pyplot.semilogx(frequency, phase,basex=10,**kwargs)\n",
      " \n",
      "    # update axis ranges, we know the phase is between -pi and pi\n",
      "    ax = pyplot.axis()\n",
      "    if (frange != None):\n",
      "        pyplot.axis(frange + [-math.pi,math.pi])\n",
      "    else:\n",
      "        pyplot.axis([ax[0],ax[1],-math.pi,math.pi])\n",
      " \n",
      "    pyplot.grid(True)\n",
      "    pyplot.grid(True,which='minor')\n",
      "    pyplot.xlabel(\"Frequency (Hz)\")\n",
      "    pyplot.ylabel(\"Phase (rads)\")\n",
      " \n",
      "    # nice LaTeX pi scale for the phase part of the plot\n",
      "    pyplot.yticks((-math.pi,-math.pi/2,0,math.pi/2,math.pi),\n",
      "               (r\"$-\\pi$\",r\"$-\\frac{\\pi}{2}$\",\"0\",r\"$\\frac{\\pi}{2}$\",r\"$\\pi$\"))"
     ],
     "language": "python",
     "metadata": {},
     "outputs": [],
     "prompt_number": 3
    },
    {
     "cell_type": "code",
     "collapsed": false,
     "input": [
      "import numpy as np\n",
      "import matplotlib.pyplot as plt\n",
      "\n",
      "def calculate_bode(poles, zeros, f_start, f_stop, f_step):\n",
      "    f = np.arange(f_start, f_stop, f_step)\n",
      "    gain_dB = []\n",
      "    phase_rad = []\n",
      "\n",
      "    for f1 in f:\n",
      "        s = 1j * 2 * np.pi * f1\n",
      "        gain = 1\n",
      "        phase = 0\n",
      "        if zeros:\n",
      "            gain = np.prod(np.abs(s - np.array(zeros)))\n",
      "            phase = np.sum(np.angle(s - np.array(zeros)))\n",
      "        if poles:\n",
      "            gain /= np.prod(np.abs(s - np.array(poles))) \n",
      "            phase -= np.sum(np.angle(s - np.array(poles)))\n",
      "            \n",
      "        gain_dB.append( 20 * np.log10( gain ) )\n",
      "        phase_rad.append( phase )\n",
      "        \n",
      "    return f, gain_dB, phase_rad"
     ],
     "language": "python",
     "metadata": {},
     "outputs": [],
     "prompt_number": 4
    },
    {
     "cell_type": "code",
     "collapsed": false,
     "input": [
      "zeta = 0.8\n",
      "f_n = 70\n",
      "\n",
      "poles, zeros = get_poles_zeros_for_second_order(zeta, f_n)\n",
      "\n",
      "#print poles\n",
      "#print zeros\n",
      "\n",
      "pole_zero(poles, zeros)\n",
      "\n",
      "\n",
      "import scipy.signal as sp\n",
      "sys = sp.lti(np.array(zeros), np.array(poles), 1)\n",
      "\n",
      "#print sys.poles\n",
      "#print sys.zeros\n",
      "\n",
      "#w, mag, phase = sys.bode()\n",
      "\n",
      "f_start = 0\n",
      "f_stop = 300\n",
      "f_step = 10\n",
      "\n",
      "f, gain_dB, phase_rad = calculate_bode(poles, zeros, f_start, f_stop, f_step)\n",
      "\n",
      "bode(f, gain=gain_dB, phase=phase_rad, frange=[f_start, f_stop])\n",
      "\n",
      "#bode(2*np.pi*w, gain=20*np.log10(mag), phase=phase/180.0*np.pi, frange=[2*np.pi*w[0], 2*np.pi*w[-1]])\n",
      "\n",
      "t, y = sp.step2(sys)\n",
      "\n",
      "#print t\n",
      "#print y\n",
      "\n",
      "fig, axarr = plt.subplots(1, 1, sharex=True)\n",
      "axarr.plot(t, y)\n"
     ],
     "language": "python",
     "metadata": {},
     "outputs": [
      {
       "metadata": {},
       "output_type": "display_data",
       "png": "[encoded data removed]",
       "text": [
        "<matplotlib.figure.Figure at 0x4b2c2d0>"
       ]
      },
      {
       "metadata": {},
       "output_type": "pyout",
       "prompt_number": 6,
       "text": [
        "[<matplotlib.lines.Line2D at 0x3624910>]"
       ]
      },
      {
       "metadata": {},
       "output_type": "display_data",
       "png": "[encoded data removed]",
       "text": [
        "<matplotlib.figure.Figure at 0x3ff16d0>"
       ]
      },
      {
       "metadata": {},
       "output_type": "display_data",
       "png": "[encoded data removed]",
       "text": [
        "<matplotlib.figure.Figure at 0x3586a90>"
       ]
      }
     ],
     "prompt_number": 6
    },
    {
     "cell_type": "code",
     "collapsed": false,
     "input": [],
     "language": "python",
     "metadata": {},
     "outputs": [],
     "prompt_number": 5
    }
   ],
   "metadata": {}
  }
 ]
}
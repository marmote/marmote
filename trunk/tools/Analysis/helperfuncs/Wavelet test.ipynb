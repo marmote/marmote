{
 "metadata": {
  "name": ""
 },
 "nbformat": 3,
 "nbformat_minor": 0,
 "worksheets": [
  {
   "cells": [
    {
     "cell_type": "heading",
     "level": 4,
     "metadata": {},
     "source": [
      "License (New 3-Clause BSD):"
     ]
    },
    {
     "cell_type": "markdown",
     "metadata": {},
     "source": [
      "Copyright (c) 2012-2013, <strong>Benjamin Babjak</strong> (babjak.b< at >isis.vanderbilt.edu)\n",
      "\n",
      "All rights reserved.\n",
      "\n",
      "Redistribution and use in source and binary forms, with or without modification, are permitted provided that the following conditions are met:\n",
      "\n",
      "* Redistributions of source code must retain the above copyright notice, this list of conditions and the following disclaimer.\n",
      "\n",
      "* Redistributions in binary form must reproduce the above copyright notice, this list of conditions and the following disclaimer in the documentation and/or other materials provided with the distribution.\n",
      "\n",
      "* Neither the name of the <strong>Institute for Software Integrated Systems, Vanderbilt University</strong> nor the names of its contributors may be used to endorse or promote products derived from this software without specific prior written permission.\n",
      "\n",
      "THIS SOFTWARE IS PROVIDED BY THE COPYRIGHT HOLDERS AND CONTRIBUTORS \"AS IS\" AND ANY EXPRESS OR IMPLIED WARRANTIES, INCLUDING, BUT NOT LIMITED TO, THE IMPLIED WARRANTIES OF MERCHANTABILITY AND FITNESS FOR A PARTICULAR PURPOSE ARE DISCLAIMED. IN NO EVENT SHALL THE COPYRIGHT HOLDER OR CONTRIBUTORS BE LIABLE FOR ANY DIRECT, INDIRECT, INCIDENTAL, SPECIAL, EXEMPLARY, OR CONSEQUENTIAL DAMAGES (INCLUDING, BUT NOT LIMITED TO, PROCUREMENT OF SUBSTITUTE GOODS OR SERVICES; LOSS OF USE, DATA, OR PROFITS; OR BUSINESS INTERRUPTION) HOWEVER CAUSED AND ON ANY THEORY OF LIABILITY, WHETHER IN CONTRACT, STRICT LIABILITY, OR TORT (INCLUDING NEGLIGENCE OR OTHERWISE) ARISING IN ANY WAY OUT OF THE USE OF THIS SOFTWARE, EVEN IF ADVISED OF THE POSSIBILITY OF SUCH DAMAGE."
     ]
    },
    {
     "cell_type": "heading",
     "level": 1,
     "metadata": {},
     "source": [
      "Discrete Wavelet Transform test"
     ]
    },
    {
     "cell_type": "markdown",
     "metadata": {},
     "source": [
      "."
     ]
    },
    {
     "cell_type": "code",
     "collapsed": false,
     "input": [
      "import pywt\n",
      "#print pywt.families()\n",
      "print pywt.MODES.modes\n",
      "for family in pywt.families():\n",
      "    print \"%s family:\" % family, ', '.join(pywt.wavelist(family))"
     ],
     "language": "python",
     "metadata": {},
     "outputs": [
      {
       "output_type": "stream",
       "stream": "stdout",
       "text": [
        "['zpd', 'cpd', 'sym', 'ppd', 'sp1', 'per']\n",
        "haar family: haar\n",
        "db family: db1, db2, db3, db4, db5, db6, db7, db8, db9, db10, db11, db12, db13, db14, db15, db16, db17, db18, db19, db20\n",
        "sym family: sym2, sym3, sym4, sym5, sym6, sym7, sym8, sym9, sym10, sym11, sym12, sym13, sym14, sym15, sym16, sym17, sym18, sym19, sym20\n",
        "coif family: coif1, coif2, coif3, coif4, coif5\n",
        "bior family: bior1.1, bior1.3, bior1.5, bior2.2, bior2.4, bior2.6, bior2.8, bior3.1, bior3.3, bior3.5, bior3.7, bior3.9, bior4.4, bior5.5, bior6.8\n",
        "rbio family: rbio1.1, rbio1.3, rbio1.5, rbio2.2, rbio2.4, rbio2.6, rbio2.8, rbio3.1, rbio3.3, rbio3.5, rbio3.7, rbio3.9, rbio4.4, rbio5.5, rbio6.8\n",
        "dmey family: dmey\n"
       ]
      }
     ],
     "prompt_number": 1
    },
    {
     "cell_type": "heading",
     "level": 2,
     "metadata": {},
     "source": [
      "Test 1 - Basic DWT test"
     ]
    },
    {
     "cell_type": "code",
     "collapsed": false,
     "input": [
      "import numpy as np\n",
      "x=np.array([56, 40, 8, 24, 48, 48, 40, 16])"
     ],
     "language": "python",
     "metadata": {},
     "outputs": [],
     "prompt_number": 2
    },
    {
     "cell_type": "code",
     "collapsed": false,
     "input": [
      "import pywt\n",
      "w = pywt.Wavelet('sym20')\n",
      "cA, cD = pywt.dwt(x, w)\n",
      "\n",
      "print cA\n",
      "print cD"
     ],
     "language": "python",
     "metadata": {},
     "outputs": [
      {
       "output_type": "stream",
       "stream": "stdout",
       "text": [
        "[ 20.33589261  82.54647227  47.90696564  30.96465852  75.14462514\n",
        "  23.9523957   51.858097    63.27069059  20.33589261  82.54647227\n",
        "  47.90696564  30.96465852  75.14462514  23.9523957   51.858097\n",
        "  63.27069059  20.33589261  82.54647227  47.90696564  30.96465852\n",
        "  75.14462514  23.9523957   51.858097  ]\n",
        "[  7.25610143  -0.27090433 -11.64743499   5.3893351    5.0758063\n",
        "  -2.41508739  -5.63105912   2.243243     7.25610143  -0.27090433\n",
        " -11.64743499   5.3893351    5.0758063   -2.41508739  -5.63105912\n",
        "   2.243243     7.25610143  -0.27090433 -11.64743499   5.3893351\n",
        "   5.0758063   -2.41508739  -5.63105912]\n"
       ]
      }
     ],
     "prompt_number": 3
    },
    {
     "cell_type": "code",
     "collapsed": false,
     "input": [
      "print np.sum(x**2)\n",
      "\n",
      "print np.sum(cA**2)+np.sum(cD**2)\n",
      "\n",
      "El = np.sum(cA**2)\n",
      "Eh = np.sum(cD**2)\n",
      "E = np.sum(x**2)\n",
      "\n",
      "scaling_coef = np.sqrt( E/(El+Eh) )\n",
      "\n",
      "cA *= scaling_coef\n",
      "cD *= scaling_coef\n",
      "\n",
      "print scaling_coef\n",
      "\n",
      "print cA\n",
      "print cD\n",
      "\n",
      "print np.sum(cA**2)\n",
      "print np.sum(cD**2)\n",
      "print np.sum(cA**2) + np.sum(cD**2)\n",
      "print np.sum(x**2)"
     ],
     "language": "python",
     "metadata": {},
     "outputs": [
      {
       "output_type": "stream",
       "stream": "stdout",
       "text": [
        "11840\n",
        "67031.7875725\n",
        "0.420276832681\n",
        "[  8.54670454  34.69236991  20.13418778  13.01372861  31.58154505\n",
        "  10.066637    21.79475675  26.59120544   8.54670454  34.69236991\n",
        "  20.13418778  13.01372861  31.58154505  10.066637    21.79475675\n",
        "  26.59120544   8.54670454  34.69236991  20.13418778  13.01372861\n",
        "  31.58154505  10.066637    21.79475675]\n",
        "[ 3.04957133 -0.11385481 -4.89514709  2.26501268  2.1332438  -1.01500528\n",
        " -2.36660369  0.94278306  3.04957133 -0.11385481 -4.89514709  2.26501268\n",
        "  2.1332438  -1.01500528 -2.36660369  0.94278306  3.04957133 -0.11385481\n",
        " -4.89514709  2.26501268  2.1332438  -1.01500528 -2.36660369]\n",
        "11689.4601997\n",
        "150.53980034\n",
        "11840.0\n",
        "11840\n"
       ]
      }
     ],
     "prompt_number": 4
    },
    {
     "cell_type": "heading",
     "level": 2,
     "metadata": {},
     "source": [
      "Test 2 - Basic DWT test 2., minimal ploting"
     ]
    },
    {
     "cell_type": "code",
     "collapsed": false,
     "input": [
      "import pywt\n",
      "x = [3, 7, 1, 1, -2, 5, 4, 6]\n",
      "cA, cD = pywt.dwt(x, 'db20')"
     ],
     "language": "python",
     "metadata": {},
     "outputs": [],
     "prompt_number": 5
    },
    {
     "cell_type": "code",
     "collapsed": false,
     "input": [
      "import matplotlib.pyplot as plt\n",
      "fig, axarr = plt.subplots(3, 1, sharex=False, sharey=True ) \n",
      "    \n",
      "axarr[0].plot(x, '.-')\n",
      "axarr[1].plot(cA, '.-')\n",
      "axarr[2].plot(cD, '.-')"
     ],
     "language": "python",
     "metadata": {},
     "outputs": [
      {
       "metadata": {},
       "output_type": "pyout",
       "prompt_number": 6,
       "text": [
        "[<matplotlib.lines.Line2D at 0x43948d0>]"
       ]
      },
      {
       "metadata": {},
       "output_type": "display_data",
       "png": "[encoded data removed]",
       "text": [
        "<matplotlib.figure.Figure at 0x4053d50>"
       ]
      }
     ],
     "prompt_number": 6
    },
    {
     "cell_type": "heading",
     "level": 2,
     "metadata": {},
     "source": [
      "Test 3 - Somewhat more complex signal, with more complex ploting"
     ]
    },
    {
     "cell_type": "code",
     "collapsed": false,
     "input": [
      "import numpy as np\n",
      "y = np.array(xrange(64))*0\n",
      "y[40] = 1\n",
      "Fs = 1\n",
      "\n",
      "w = pywt.Wavelet('haar')\n",
      "\n",
      "c = pywt.wavedec(y, w, mode='zpd')"
     ],
     "language": "python",
     "metadata": {},
     "outputs": [],
     "prompt_number": 7
    },
    {
     "cell_type": "code",
     "collapsed": false,
     "input": [
      "print 'Decomposing filter length: %d' % w.dec_len\n",
      "\n",
      "print 'Decomposed signal number of Approximations and Details: %d' % len(c)\n",
      "print 'Decomposed signal Approximations and Details:'\n",
      "print c\n",
      "cum_len = 0\n",
      "for jj in c :\n",
      "    cum_len = cum_len + len(jj)\n",
      "print 'Decomposed signal cumulative length of Approximations and Details: %d' % cum_len"
     ],
     "language": "python",
     "metadata": {},
     "outputs": [
      {
       "output_type": "stream",
       "stream": "stdout",
       "text": [
        "Decomposing filter length: 2\n",
        "Decomposed signal number of Approximations and Details: 7\n",
        "Decomposed signal Approximations and Details:\n",
        "[array([ 0.125]), array([-0.125]), array([ 0.       ,  0.1767767]), array([ 0.  ,  0.  , -0.25,  0.  ]), array([ 0.        ,  0.        ,  0.        ,  0.        ,  0.        ,\n",
        "        0.35355339,  0.        ,  0.        ]), array([ 0. ,  0. ,  0. ,  0. ,  0. ,  0. ,  0. ,  0. ,  0. ,  0. ,  0.5,\n",
        "        0. ,  0. ,  0. ,  0. ,  0. ]), array([ 0.        ,  0.        ,  0.        ,  0.        ,  0.        ,\n",
        "        0.        ,  0.        ,  0.        ,  0.        ,  0.        ,\n",
        "        0.        ,  0.        ,  0.        ,  0.        ,  0.        ,\n",
        "        0.        ,  0.        ,  0.        ,  0.        ,  0.        ,\n",
        "        0.70710678,  0.        ,  0.        ,  0.        ,  0.        ,\n",
        "        0.        ,  0.        ,  0.        ,  0.        ,  0.        ,\n",
        "        0.        ,  0.        ])]\n",
        "Decomposed signal cumulative length of Approximations and Details: 64\n"
       ]
      }
     ],
     "prompt_number": 8
    },
    {
     "cell_type": "code",
     "collapsed": false,
     "input": [
      "from Wavelet.PlotDWT import PlotDWT\n",
      "\n",
      "Ts = 1\n",
      "\n",
      "PlotDWT(Ts, y, c, None, None)"
     ],
     "language": "python",
     "metadata": {},
     "outputs": [
      {
       "metadata": {},
       "output_type": "display_data",
       "png": "[encoded data removed]",
       "text": [
        "<matplotlib.figure.Figure at 0x4053a10>"
       ]
      }
     ],
     "prompt_number": 9
    },
    {
     "cell_type": "code",
     "collapsed": false,
     "input": [
      "from Wavelet.FancyPlotWavelet_im import FancyPlotWavelet\n",
      "\n",
      "levels = range(len(c)-1,0,-1)\n",
      "levels = [levels[0]] + levels    \n",
      "        \n",
      "FancyPlotWavelet(c, levels, y.size, Fs, title='Discrete Wavelet Transfrom')"
     ],
     "language": "python",
     "metadata": {},
     "outputs": [
      {
       "metadata": {},
       "output_type": "display_data",
       "png": "[encoded data removed]",
       "text": [
        "<matplotlib.figure.Figure at 0x4e4cf90>"
       ]
      }
     ],
     "prompt_number": 10
    },
    {
     "cell_type": "heading",
     "level": 2,
     "metadata": {},
     "source": [
      "Test 4 - Full Wavelet Package Decomposition of simple signal"
     ]
    },
    {
     "cell_type": "code",
     "collapsed": false,
     "input": [
      "import numpy as np\n",
      "from Wavelet.FullWPD import FullWPD\n",
      "\n",
      "x = np.array([3, 7, 1, 1, -2, 5, 4, 6, 3, 7, 1, 1, -2, 5, 4, 6])\n",
      "\n",
      "x = np.ones(16)*0.001\n",
      "x[6] = 10\n",
      "\n",
      "PacketTable = FullWPD(x, wavelet='haar')\n",
      "\n",
      "PacketTable"
     ],
     "language": "python",
     "metadata": {},
     "outputs": [
      {
       "metadata": {},
       "output_type": "pyout",
       "prompt_number": 11,
       "text": [
        "[[array([  1.00000000e-03,   1.00000000e-03,   1.00000000e-03,\n",
        "         1.00000000e-03,   1.00000000e-03,   1.00000000e-03,\n",
        "         1.00000000e+01,   1.00000000e-03,   1.00000000e-03,\n",
        "         1.00000000e-03,   1.00000000e-03,   1.00000000e-03,\n",
        "         1.00000000e-03,   1.00000000e-03,   1.00000000e-03,\n",
        "         1.00000000e-03])],\n",
        " [array([  1.41421356e-03,   1.41421356e-03,   1.41421356e-03,\n",
        "         7.07177492e+00,   1.41421356e-03,   1.41421356e-03,\n",
        "         1.41421356e-03,   1.41421356e-03]),\n",
        "  array([ 0.        ,  0.        ,  0.        ,  7.07036071,  0.        ,\n",
        "        0.        ,  0.        ,  0.        ])],\n",
        " [array([  2.00000000e-03,   5.00150000e+00,   2.00000000e-03,\n",
        "         2.00000000e-03]),\n",
        "  array([ 0.    , -4.9995,  0.    ,  0.    ]),\n",
        "  array([ 0.    , -4.9995,  0.    ,  0.    ]),\n",
        "  array([ 0.    ,  4.9995,  0.    ,  0.    ])],\n",
        " [array([  3.53800878e+00,   2.82842712e-03]),\n",
        "  array([-3.53518035,  0.        ]),\n",
        "  array([ 3.53518035,  0.        ]),\n",
        "  array([-3.53518035,  0.        ]),\n",
        "  array([-3.53518035,  0.        ]),\n",
        "  array([ 3.53518035,  0.        ]),\n",
        "  array([-3.53518035,  0.        ]),\n",
        "  array([ 3.53518035,  0.        ])],\n",
        " [array([ 2.50375]),\n",
        "  array([ 2.49975]),\n",
        "  array([-2.49975]),\n",
        "  array([-2.49975]),\n",
        "  array([ 2.49975]),\n",
        "  array([ 2.49975]),\n",
        "  array([-2.49975]),\n",
        "  array([-2.49975]),\n",
        "  array([-2.49975]),\n",
        "  array([-2.49975]),\n",
        "  array([ 2.49975]),\n",
        "  array([ 2.49975]),\n",
        "  array([-2.49975]),\n",
        "  array([-2.49975]),\n",
        "  array([ 2.49975]),\n",
        "  array([ 2.49975])]]"
       ]
      }
     ],
     "prompt_number": 11
    },
    {
     "cell_type": "code",
     "collapsed": false,
     "input": [
      "from Wavelet.CalculateCost_ShannonEntropy import CalculateCost_ShannonEntropy\n",
      "\n",
      "cost = CalculateCost_ShannonEntropy(PacketTable)\n",
      "\n",
      "cost"
     ],
     "language": "python",
     "metadata": {},
     "outputs": [
      {
       "metadata": {},
       "output_type": "pyout",
       "prompt_number": 12,
       "text": [
        "[[4.2027173554125855e-06],\n",
        " [0.49995932764436352, 0.5000442860379819],\n",
        " [0.50008647152701158,\n",
        "  0.49997210802649611,\n",
        "  0.49997210802649611,\n",
        "  0.49997210802649611],\n",
        " [0.37527430381266741,\n",
        "  0.37496103651700075,\n",
        "  0.37496103651700069,\n",
        "  0.37496103651700069,\n",
        "  0.37496103651700069,\n",
        "  0.37496103651700069,\n",
        "  0.37496103651700069,\n",
        "  0.37496103651700069],\n",
        " [0.2504794243340176,\n",
        "  0.24996800951037679,\n",
        "  0.24996800951037679,\n",
        "  0.24996800951037679,\n",
        "  0.2499680095103767,\n",
        "  0.2499680095103767,\n",
        "  0.2499680095103767,\n",
        "  0.2499680095103767,\n",
        "  0.2499680095103767,\n",
        "  0.2499680095103767,\n",
        "  0.2499680095103767,\n",
        "  0.2499680095103767,\n",
        "  0.2499680095103767,\n",
        "  0.2499680095103767,\n",
        "  0.2499680095103767,\n",
        "  0.2499680095103767]]"
       ]
      }
     ],
     "prompt_number": 12
    },
    {
     "cell_type": "code",
     "collapsed": false,
     "input": [
      "from Wavelet.CalculateCost_Threshold import CalculateCost_Threshold\n",
      "\n",
      "cost = CalculateCost_Threshold(PacketTable)\n",
      "\n",
      "cost"
     ],
     "language": "python",
     "metadata": {},
     "outputs": [
      {
       "metadata": {},
       "output_type": "pyout",
       "prompt_number": 13,
       "text": [
        "[[1],\n",
        " [1, 1],\n",
        " [1, 1, 1, 1],\n",
        " [1, 1, 1, 1, 1, 1, 1, 1],\n",
        " [1, 1, 1, 1, 1, 1, 1, 1, 1, 1, 1, 1, 1, 1, 1, 1]]"
       ]
      }
     ],
     "prompt_number": 13
    },
    {
     "cell_type": "code",
     "collapsed": false,
     "input": [
      "from Wavelet.CalculateTotalCostofEachLevel import CalculateTotalCostofEachLevel\n",
      "\n",
      "line_costs = CalculateTotalCostofEachLevel(cost)\n",
      "    \n",
      "line_costs"
     ],
     "language": "python",
     "metadata": {},
     "outputs": [
      {
       "metadata": {},
       "output_type": "pyout",
       "prompt_number": 14,
       "text": [
        "[1, 2, 4, 8, 16]"
       ]
      }
     ],
     "prompt_number": 14
    },
    {
     "cell_type": "code",
     "collapsed": false,
     "input": [
      "from Wavelet.BestBasis import BestBasis\n",
      "\n",
      "start_level = 0\n",
      "stop_level = len(PacketTable)\n",
      "val, levels, items = BestBasis(cost, start_level, stop_level+1)\n",
      "\n",
      "print val\n",
      "print levels\n",
      "print items"
     ],
     "language": "python",
     "metadata": {},
     "outputs": [
      {
       "output_type": "stream",
       "stream": "stdout",
       "text": [
        "[1]\n",
        "[0]\n",
        "[0]\n"
       ]
      }
     ],
     "prompt_number": 15
    },
    {
     "cell_type": "heading",
     "level": 2,
     "metadata": {},
     "source": [
      "Test 5 - Full Wavelet Package Decomposition of a sweeping frequency sin with fancy ploting"
     ]
    },
    {
     "cell_type": "heading",
     "level": 3,
     "metadata": {},
     "source": [
      "Generating sweeping sin signal"
     ]
    },
    {
     "cell_type": "code",
     "collapsed": false,
     "input": [
      "from SignalGenerator import SignalGenerator\n",
      "N = 2048*2\n",
      "Fs = 1e3\n",
      "y, f, fint = SignalGenerator(N = N, Fs = Fs, f_start = 100, f_stop = 300, f_steps = 3)"
     ],
     "language": "python",
     "metadata": {},
     "outputs": [],
     "prompt_number": 16
    },
    {
     "cell_type": "code",
     "collapsed": false,
     "input": [
      "import numpy as np\n",
      "import matplotlib.pyplot as plt\n",
      "\n",
      "#print t\n",
      "#print f\n",
      "#print y\n",
      "\n",
      "fig, axarr = plt.subplots(3, 1, sharex=True)\n",
      "t = np.array(range(N))/Fs\n",
      "axarr[0].plot(t, f)\n",
      "axarr[1].plot(t, 2*np.pi*fint)\n",
      "axarr[2].plot(t, y)"
     ],
     "language": "python",
     "metadata": {},
     "outputs": [
      {
       "metadata": {},
       "output_type": "pyout",
       "prompt_number": 17,
       "text": [
        "[<matplotlib.lines.Line2D at 0x4e49d10>]"
       ]
      },
      {
       "metadata": {},
       "output_type": "display_data",
       "png": "[encoded data removed]",
       "text": [
        "<matplotlib.figure.Figure at 0x4f344d0>"
       ]
      }
     ],
     "prompt_number": 17
    },
    {
     "cell_type": "code",
     "collapsed": false,
     "input": [
      "from Wavelet.TrimToPowerof2 import TrimToPowerof2\n",
      "\n",
      "y = TrimToPowerof2(y)"
     ],
     "language": "python",
     "metadata": {},
     "outputs": [],
     "prompt_number": 18
    },
    {
     "cell_type": "heading",
     "level": 3,
     "metadata": {},
     "source": [
      "Spectrogram"
     ]
    },
    {
     "cell_type": "code",
     "collapsed": false,
     "input": [
      "from Wavelet.PlotSpecgram import PlotSpecgram\n",
      "\n",
      "PlotSpecgram(y, Fs)"
     ],
     "language": "python",
     "metadata": {},
     "outputs": [
      {
       "metadata": {},
       "output_type": "display_data",
       "png": "[encoded data removed]",
       "text": [
        "<matplotlib.figure.Figure at 0x4f36ad0>"
       ]
      },
      {
       "metadata": {},
       "output_type": "display_data",
       "png": "[encoded data removed]",
       "text": [
        "<matplotlib.figure.Figure at 0x4e38d10>"
       ]
      }
     ],
     "prompt_number": 19
    },
    {
     "cell_type": "heading",
     "level": 3,
     "metadata": {},
     "source": [
      "Wavelet Package Decomposition"
     ]
    },
    {
     "cell_type": "code",
     "collapsed": false,
     "input": [
      "from Wavelet.FullWPD import FullWPD\n",
      "\n",
      "#PacketTable = FullWPD(y, wavelet='rbio6.8')\n",
      "PacketTable = FullWPD(y, wavelet='dmey')\n",
      "#PacketTable = FullWPD(y, wavelet='haar')\n",
      "\n",
      "#print PacketTable"
     ],
     "language": "python",
     "metadata": {},
     "outputs": [],
     "prompt_number": 20
    },
    {
     "cell_type": "code",
     "collapsed": false,
     "input": [
      "from Wavelet.UsablePacketTableLevels import UsablePacketTableLevels\n",
      "\n",
      "start_level, stop_level = UsablePacketTableLevels(16, PacketTable, N)\n",
      "\n",
      "print start_level\n",
      "print stop_level"
     ],
     "language": "python",
     "metadata": {},
     "outputs": [
      {
       "output_type": "stream",
       "stream": "stdout",
       "text": [
        "4\n",
        "8\n"
       ]
      }
     ],
     "prompt_number": 21
    },
    {
     "cell_type": "heading",
     "level": 4,
     "metadata": {},
     "source": [
      "Fixed resolution"
     ]
    },
    {
     "cell_type": "code",
     "collapsed": false,
     "input": [
      "from Wavelet.FancyPlotWavelet_im import FancyPlotWavelet\n",
      "\n",
      "level_of_interest = int((start_level + stop_level)/2)\n",
      "Levels = np.ones(len(PacketTable[level_of_interest]))*level_of_interest\n",
      "\n",
      "FancyPlotWavelet(PacketTable[level_of_interest], Levels, N, Fs, title='Wavelet Package Decomposition\\nFixed resolution', perform_log=True)"
     ],
     "language": "python",
     "metadata": {},
     "outputs": [
      {
       "output_type": "stream",
       "stream": "stdout",
       "text": [
        "Generated row 100\n",
        "Generated row 200\n",
        "Generated row 300"
       ]
      },
      {
       "output_type": "stream",
       "stream": "stdout",
       "text": [
        "\n",
        "Generated row 400\n",
        "Generated row 500"
       ]
      },
      {
       "output_type": "stream",
       "stream": "stdout",
       "text": [
        "\n",
        "Generated row 600\n",
        "Generated row 700"
       ]
      },
      {
       "output_type": "stream",
       "stream": "stdout",
       "text": [
        "\n",
        "Generated row 800\n",
        "Generated row 900"
       ]
      },
      {
       "output_type": "stream",
       "stream": "stdout",
       "text": [
        "\n",
        "Generated row 1000\n",
        "Generated row 1100"
       ]
      },
      {
       "output_type": "stream",
       "stream": "stdout",
       "text": [
        "\n",
        "Generated row 1200\n",
        "Generated row 1300"
       ]
      },
      {
       "output_type": "stream",
       "stream": "stdout",
       "text": [
        "\n",
        "Generated row 1400\n",
        "Generated row 1500"
       ]
      },
      {
       "output_type": "stream",
       "stream": "stdout",
       "text": [
        "\n",
        "Generated row 1600\n",
        "Generated row 1700"
       ]
      },
      {
       "output_type": "stream",
       "stream": "stdout",
       "text": [
        "\n",
        "Generated row 1800\n",
        "Generated row 1900"
       ]
      },
      {
       "output_type": "stream",
       "stream": "stdout",
       "text": [
        "\n",
        "Generated row 2000\n",
        "Generated row 2100"
       ]
      },
      {
       "output_type": "stream",
       "stream": "stdout",
       "text": [
        "\n",
        "Generated row 2200\n",
        "Generated row 2300"
       ]
      },
      {
       "output_type": "stream",
       "stream": "stdout",
       "text": [
        "\n",
        "Generated row 2400\n",
        "Generated row 2500"
       ]
      },
      {
       "output_type": "stream",
       "stream": "stdout",
       "text": [
        "\n",
        "Generated row 2600\n",
        "Generated row 2700"
       ]
      },
      {
       "output_type": "stream",
       "stream": "stdout",
       "text": [
        "\n",
        "Generated row 2800\n",
        "Generated row 2900"
       ]
      },
      {
       "output_type": "stream",
       "stream": "stdout",
       "text": [
        "\n",
        "Generated row 3000\n",
        "Generated row 3100"
       ]
      },
      {
       "output_type": "stream",
       "stream": "stdout",
       "text": [
        "\n",
        "Generated row 3200\n",
        "Generated row 3300"
       ]
      },
      {
       "output_type": "stream",
       "stream": "stdout",
       "text": [
        "\n",
        "Generated row 3400\n",
        "Generated row 3500"
       ]
      },
      {
       "output_type": "stream",
       "stream": "stdout",
       "text": [
        "\n",
        "Generated row 3600\n",
        "Generated row 3700"
       ]
      },
      {
       "output_type": "stream",
       "stream": "stdout",
       "text": [
        "\n",
        "Generated row 3800\n",
        "Generated row 3900"
       ]
      },
      {
       "output_type": "stream",
       "stream": "stdout",
       "text": [
        "\n",
        "Generated row 4000\n"
       ]
      },
      {
       "metadata": {},
       "output_type": "display_data",
       "png": "[encoded data removed]",
       "text": [
        "<matplotlib.figure.Figure at 0x509ff90>"
       ]
      }
     ],
     "prompt_number": 22
    },
    {
     "cell_type": "heading",
     "level": 4,
     "metadata": {},
     "source": [
      "Best basis"
     ]
    },
    {
     "cell_type": "heading",
     "level": 5,
     "metadata": {},
     "source": [
      "Shannon's entropy"
     ]
    },
    {
     "cell_type": "code",
     "collapsed": false,
     "input": [
      "from Wavelet.CalculateCost_ShannonEntropy import CalculateCost_ShannonEntropy\n",
      "\n",
      "cost = CalculateCost_ShannonEntropy(PacketTable)\n",
      "\n",
      "#print cost "
     ],
     "language": "python",
     "metadata": {},
     "outputs": [],
     "prompt_number": 23
    },
    {
     "cell_type": "code",
     "collapsed": false,
     "input": [
      "from Wavelet.CalculateTotalCostofEachLevel import CalculateTotalCostofEachLevel\n",
      "\n",
      "line_costs = CalculateTotalCostofEachLevel(cost)\n",
      "    \n",
      "print line_costs"
     ],
     "language": "python",
     "metadata": {},
     "outputs": [
      {
       "output_type": "stream",
       "stream": "stdout",
       "text": [
        "[11.545521374092553, 10.585153625880086, 9.646637630755091, 8.7932662172429232, 8.0733070269084006, 7.5307078208293046, 7.0496796604182732, 6.7709167452377992, 6.747018094172609, 7.1236554383076456, 7.833994665021959, 8.9324845842632126, 10.128416757895996]\n"
       ]
      }
     ],
     "prompt_number": 24
    },
    {
     "cell_type": "code",
     "collapsed": false,
     "input": [
      "from Wavelet.BestBasis import BestBasis\n",
      "\n",
      "val, levels, items = BestBasis(cost, start_level, stop_level+1)\n",
      "\n",
      "print val\n",
      "print levels\n",
      "print items"
     ],
     "language": "python",
     "metadata": {},
     "outputs": [
      {
       "output_type": "stream",
       "stream": "stdout",
       "text": [
        "[0.031414121293461023, 0.048241429658010218, 0.35252586578343675, 1.9330166658287729, 0.06644473460931806, 0.023870998054619421, 1.34479524291282, 0.010304072701932572, 0.055081484196908795, 2.3735174397006364, 0.058562578525215604, 0.0094459624128602759, 0.0026952028544847779, 0.0019407507207946193, 0.0015749388160214164, 0.0014010053107661928]\n",
        "[4, 4, 4, 7, 7, 6, 5, 4, 4, 6, 7, 8, 8, 5, 4, 4, 5, 7, 7, 6, 4, 4, 4, 4, 4, 4]\n",
        "[0, 1, 2, 24, 25, 13, 7, 4, 5, 24, 50, 102, 103, 13, 7, 8, 18, 76, 77, 39, 10, 11, 12, 13, 14, 15]\n"
       ]
      }
     ],
     "prompt_number": 25
    },
    {
     "cell_type": "code",
     "collapsed": false,
     "input": [
      "from Wavelet.PickBases import PickBases\n",
      "\n",
      "PacketTable_bb = PickBases(PacketTable, levels, items)\n",
      "\n",
      "#print PacketTable_bb"
     ],
     "language": "python",
     "metadata": {},
     "outputs": [],
     "prompt_number": 26
    },
    {
     "cell_type": "code",
     "collapsed": false,
     "input": [
      "from Wavelet.FancyPlotWavelet_im import FancyPlotWavelet\n",
      "\n",
      "FancyPlotWavelet(PacketTable_bb, levels, N, Fs, title='Wavelet Package Decomposition\\nResolution based on Shannon\\'s entropy', perform_log=True)"
     ],
     "language": "python",
     "metadata": {},
     "outputs": [
      {
       "output_type": "stream",
       "stream": "stdout",
       "text": [
        "Generated row 100\n",
        "Generated row 200\n",
        "Generated row 300\n",
        "Generated row 400\n",
        "Generated row 500\n",
        "Generated row 600"
       ]
      },
      {
       "output_type": "stream",
       "stream": "stdout",
       "text": [
        "\n",
        "Generated row 700\n",
        "Generated row 800\n",
        "Generated row 900"
       ]
      },
      {
       "output_type": "stream",
       "stream": "stdout",
       "text": [
        "\n",
        "Generated row 1000\n",
        "Generated row 1100\n",
        "Generated row 1200\n",
        "Generated row 1300"
       ]
      },
      {
       "output_type": "stream",
       "stream": "stdout",
       "text": [
        "\n",
        "Generated row 1400\n",
        "Generated row 1500\n",
        "Generated row 1600\n",
        "Generated row 1700"
       ]
      },
      {
       "output_type": "stream",
       "stream": "stdout",
       "text": [
        "\n",
        "Generated row 1800\n",
        "Generated row 1900\n",
        "Generated row 2000\n",
        "Generated row 2100"
       ]
      },
      {
       "output_type": "stream",
       "stream": "stdout",
       "text": [
        "\n",
        "Generated row 2200\n",
        "Generated row 2300\n",
        "Generated row 2400\n",
        "Generated row 2500"
       ]
      },
      {
       "output_type": "stream",
       "stream": "stdout",
       "text": [
        "\n",
        "Generated row 2600\n",
        "Generated row 2700\n",
        "Generated row 2800\n",
        "Generated row 2900"
       ]
      },
      {
       "output_type": "stream",
       "stream": "stdout",
       "text": [
        "\n",
        "Generated row 3000\n",
        "Generated row 3100\n",
        "Generated row 3200\n",
        "Generated row 3300\n",
        "Generated row 3400"
       ]
      },
      {
       "output_type": "stream",
       "stream": "stdout",
       "text": [
        "\n",
        "Generated row 3500\n",
        "Generated row 3600\n",
        "Generated row 3700\n",
        "Generated row 3800\n",
        "Generated row 3900"
       ]
      },
      {
       "output_type": "stream",
       "stream": "stdout",
       "text": [
        "\n",
        "Generated row 4000\n"
       ]
      },
      {
       "metadata": {},
       "output_type": "display_data",
       "png": "[encoded data removed]",
       "text": [
        "<matplotlib.figure.Figure at 0x4e57890>"
       ]
      }
     ],
     "prompt_number": 27
    },
    {
     "cell_type": "heading",
     "level": 5,
     "metadata": {},
     "source": [
      "Threshold"
     ]
    },
    {
     "cell_type": "code",
     "collapsed": false,
     "input": [
      "from Wavelet.CalculateCost_Threshold import CalculateCost_Threshold\n",
      "\n",
      "cost = CalculateCost_Threshold(PacketTable)\n",
      "\n",
      "#cost"
     ],
     "language": "python",
     "metadata": {},
     "outputs": [],
     "prompt_number": 28
    },
    {
     "cell_type": "code",
     "collapsed": false,
     "input": [
      "from Wavelet.CalculateTotalCostofEachLevel import CalculateTotalCostofEachLevel\n",
      "\n",
      "line_costs = CalculateTotalCostofEachLevel(cost)\n",
      "    \n",
      "print line_costs"
     ],
     "language": "python",
     "metadata": {},
     "outputs": [
      {
       "output_type": "stream",
       "stream": "stdout",
       "text": [
        "[3550, 1800, 930, 503, 292, 183, 102, 43, 11, 10, 9, 20, 49]\n"
       ]
      }
     ],
     "prompt_number": 29
    },
    {
     "cell_type": "code",
     "collapsed": false,
     "input": [
      "from Wavelet.BestBasis import BestBasis\n",
      "\n",
      "val, levels, items = BestBasis(cost, start_level, stop_level+1)\n",
      "\n",
      "print val\n",
      "print levels\n",
      "print items"
     ],
     "language": "python",
     "metadata": {},
     "outputs": [
      {
       "output_type": "stream",
       "stream": "stdout",
       "text": [
        "[0, 0, 0, 2, 0, 0, 4, 0, 0, 3, 0, 0, 0, 0, 0, 0]\n",
        "[4, 4, 5, 7, 7, 6, 7, 8, 9, 9, 7, 7, 7, 8, 8, 6, 5, 5, 4, 6, 7, 8, 8, 6, 6, 4, 5, 5, 6, 7, 8, 8, 8, 8, 7, 7, 8, 8, 5, 5, 4, 4, 4, 4, 4]\n",
        "[0, 1, 4, 20, 21, 11, 24, 50, 102, 103, 26, 27, 28, 58, 59, 15, 8, 9, 5, 24, 50, 102, 103, 26, 27, 7, 16, 17, 36, 74, 150, 151, 152, 153, 77, 78, 158, 159, 20, 21, 11, 12, 13, 14, 15]\n"
       ]
      }
     ],
     "prompt_number": 30
    },
    {
     "cell_type": "code",
     "collapsed": false,
     "input": [
      "from Wavelet.PickBases import PickBases\n",
      "\n",
      "PacketTable_bb = PickBases(PacketTable, levels, items)\n",
      "\n",
      "#print PacketTable_bb"
     ],
     "language": "python",
     "metadata": {},
     "outputs": [],
     "prompt_number": 31
    },
    {
     "cell_type": "code",
     "collapsed": false,
     "input": [
      "from Wavelet.FancyPlotWavelet_im import FancyPlotWavelet\n",
      "\n",
      "FancyPlotWavelet(PacketTable_bb, levels, N, Fs, title='Wavelet Package Decomposition\\nResolution based on Threshold', perform_log=True)"
     ],
     "language": "python",
     "metadata": {},
     "outputs": [
      {
       "output_type": "stream",
       "stream": "stdout",
       "text": [
        "Generated row 100\n",
        "Generated row 200\n",
        "Generated row 300\n",
        "Generated row 400\n",
        "Generated row 500\n",
        "Generated row 600"
       ]
      },
      {
       "output_type": "stream",
       "stream": "stdout",
       "text": [
        "\n",
        "Generated row 700"
       ]
      },
      {
       "output_type": "stream",
       "stream": "stdout",
       "text": [
        "\n",
        "Generated row 800\n",
        "Generated row 900"
       ]
      },
      {
       "output_type": "stream",
       "stream": "stdout",
       "text": [
        "\n",
        "Generated row 1000"
       ]
      },
      {
       "output_type": "stream",
       "stream": "stdout",
       "text": [
        "\n",
        "Generated row 1100\n",
        "Generated row 1200\n",
        "Generated row 1300"
       ]
      },
      {
       "output_type": "stream",
       "stream": "stdout",
       "text": [
        "\n",
        "Generated row 1400\n",
        "Generated row 1500\n",
        "Generated row 1600\n",
        "Generated row 1700"
       ]
      },
      {
       "output_type": "stream",
       "stream": "stdout",
       "text": [
        "\n",
        "Generated row 1800\n",
        "Generated row 1900\n",
        "Generated row 2000\n",
        "Generated row 2100\n",
        "Generated row 2200"
       ]
      },
      {
       "output_type": "stream",
       "stream": "stdout",
       "text": [
        "\n",
        "Generated row 2300\n",
        "Generated row 2400\n",
        "Generated row 2500"
       ]
      },
      {
       "output_type": "stream",
       "stream": "stdout",
       "text": [
        "\n",
        "Generated row 2600\n",
        "Generated row 2700"
       ]
      },
      {
       "output_type": "stream",
       "stream": "stdout",
       "text": [
        "\n",
        "Generated row 2800\n",
        "Generated row 2900\n",
        "Generated row 3000\n",
        "Generated row 3100\n",
        "Generated row 3200\n",
        "Generated row 3300\n",
        "Generated row 3400\n",
        "Generated row 3500"
       ]
      },
      {
       "output_type": "stream",
       "stream": "stdout",
       "text": [
        "\n",
        "Generated row 3600\n",
        "Generated row 3700\n",
        "Generated row 3800\n",
        "Generated row 3900\n",
        "Generated row 4000\n"
       ]
      },
      {
       "metadata": {},
       "output_type": "display_data",
       "png": "[encoded data removed]",
       "text": [
        "<matplotlib.figure.Figure at 0x4e57590>"
       ]
      }
     ],
     "prompt_number": 32
    }
   ],
   "metadata": {}
  }
 ]
}
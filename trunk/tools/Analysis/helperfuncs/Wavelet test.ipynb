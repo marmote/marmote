{
 "metadata": {
  "name": ""
 },
 "nbformat": 3,
 "nbformat_minor": 0,
 "worksheets": [
  {
   "cells": [
    {
     "cell_type": "heading",
     "level": 4,
     "metadata": {},
     "source": [
      "License (New 3-Clause BSD):"
     ]
    },
    {
     "cell_type": "markdown",
     "metadata": {},
     "source": [
      "Copyright (c) 2012-2013, <strong>Benjamin Babjak</strong> (babjak.b< at >isis.vanderbilt.edu)\n",
      "\n",
      "All rights reserved.\n",
      "\n",
      "Redistribution and use in source and binary forms, with or without modification, are permitted provided that the following conditions are met:\n",
      "\n",
      "* Redistributions of source code must retain the above copyright notice, this list of conditions and the following disclaimer.\n",
      "\n",
      "* Redistributions in binary form must reproduce the above copyright notice, this list of conditions and the following disclaimer in the documentation and/or other materials provided with the distribution.\n",
      "\n",
      "* Neither the name of the <strong>Institute for Software Integrated Systems, Vanderbilt University</strong> nor the names of its contributors may be used to endorse or promote products derived from this software without specific prior written permission.\n",
      "\n",
      "THIS SOFTWARE IS PROVIDED BY THE COPYRIGHT HOLDERS AND CONTRIBUTORS \"AS IS\" AND ANY EXPRESS OR IMPLIED WARRANTIES, INCLUDING, BUT NOT LIMITED TO, THE IMPLIED WARRANTIES OF MERCHANTABILITY AND FITNESS FOR A PARTICULAR PURPOSE ARE DISCLAIMED. IN NO EVENT SHALL THE COPYRIGHT HOLDER OR CONTRIBUTORS BE LIABLE FOR ANY DIRECT, INDIRECT, INCIDENTAL, SPECIAL, EXEMPLARY, OR CONSEQUENTIAL DAMAGES (INCLUDING, BUT NOT LIMITED TO, PROCUREMENT OF SUBSTITUTE GOODS OR SERVICES; LOSS OF USE, DATA, OR PROFITS; OR BUSINESS INTERRUPTION) HOWEVER CAUSED AND ON ANY THEORY OF LIABILITY, WHETHER IN CONTRACT, STRICT LIABILITY, OR TORT (INCLUDING NEGLIGENCE OR OTHERWISE) ARISING IN ANY WAY OUT OF THE USE OF THIS SOFTWARE, EVEN IF ADVISED OF THE POSSIBILITY OF SUCH DAMAGE."
     ]
    },
    {
     "cell_type": "heading",
     "level": 1,
     "metadata": {},
     "source": [
      "Discrete Wavelet Transform test"
     ]
    },
    {
     "cell_type": "markdown",
     "metadata": {},
     "source": [
      "."
     ]
    },
    {
     "cell_type": "code",
     "collapsed": false,
     "input": [
      "import pywt\n",
      "#print pywt.families()\n",
      "print pywt.MODES.modes\n",
      "for family in pywt.families():\n",
      "    print \"%s family:\" % family, ', '.join(pywt.wavelist(family))"
     ],
     "language": "python",
     "metadata": {},
     "outputs": [
      {
       "output_type": "stream",
       "stream": "stdout",
       "text": [
        "['zpd', 'cpd', 'sym', 'ppd', 'sp1', 'per']\n",
        "haar family: haar\n",
        "db family: db1, db2, db3, db4, db5, db6, db7, db8, db9, db10, db11, db12, db13, db14, db15, db16, db17, db18, db19, db20\n",
        "sym family: sym2, sym3, sym4, sym5, sym6, sym7, sym8, sym9, sym10, sym11, sym12, sym13, sym14, sym15, sym16, sym17, sym18, sym19, sym20\n",
        "coif family: coif1, coif2, coif3, coif4, coif5\n",
        "bior family: bior1.1, bior1.3, bior1.5, bior2.2, bior2.4, bior2.6, bior2.8, bior3.1, bior3.3, bior3.5, bior3.7, bior3.9, bior4.4, bior5.5, bior6.8\n",
        "rbio family: rbio1.1, rbio1.3, rbio1.5, rbio2.2, rbio2.4, rbio2.6, rbio2.8, rbio3.1, rbio3.3, rbio3.5, rbio3.7, rbio3.9, rbio4.4, rbio5.5, rbio6.8\n",
        "dmey family: dmey\n"
       ]
      }
     ],
     "prompt_number": 1
    },
    {
     "cell_type": "heading",
     "level": 2,
     "metadata": {},
     "source": [
      "Test 1 - Basic DWT test"
     ]
    },
    {
     "cell_type": "code",
     "collapsed": false,
     "input": [
      "import numpy as np\n",
      "x=np.array([56, 40, 8, 24, 48, 48, 40, 16])"
     ],
     "language": "python",
     "metadata": {},
     "outputs": [],
     "prompt_number": 2
    },
    {
     "cell_type": "code",
     "collapsed": false,
     "input": [
      "import pywt\n",
      "w = pywt.Wavelet('sym20')\n",
      "cA, cD = pywt.dwt(x, w)\n",
      "\n",
      "print cA\n",
      "print cD"
     ],
     "language": "python",
     "metadata": {},
     "outputs": [
      {
       "output_type": "stream",
       "stream": "stdout",
       "text": [
        "[ 20.33589261  82.54647227  47.90696564  30.96465852  75.14462514\n",
        "  23.9523957   51.858097    63.27069059  20.33589261  82.54647227\n",
        "  47.90696564  30.96465852  75.14462514  23.9523957   51.858097\n",
        "  63.27069059  20.33589261  82.54647227  47.90696564  30.96465852\n",
        "  75.14462514  23.9523957   51.858097  ]\n",
        "[  7.25610143  -0.27090433 -11.64743499   5.3893351    5.0758063\n",
        "  -2.41508739  -5.63105912   2.243243     7.25610143  -0.27090433\n",
        " -11.64743499   5.3893351    5.0758063   -2.41508739  -5.63105912\n",
        "   2.243243     7.25610143  -0.27090433 -11.64743499   5.3893351\n",
        "   5.0758063   -2.41508739  -5.63105912]\n"
       ]
      }
     ],
     "prompt_number": 3
    },
    {
     "cell_type": "code",
     "collapsed": false,
     "input": [
      "print np.sum(x**2)\n",
      "\n",
      "print np.sum(cA**2)+np.sum(cD**2)\n",
      "\n",
      "El = np.sum(cA**2)\n",
      "Eh = np.sum(cD**2)\n",
      "E = np.sum(x**2)\n",
      "\n",
      "scaling_coef = np.sqrt( E/(El+Eh) )\n",
      "\n",
      "cA *= scaling_coef\n",
      "cD *= scaling_coef\n",
      "\n",
      "print scaling_coef\n",
      "\n",
      "print cA\n",
      "print cD\n",
      "\n",
      "print np.sum(cA**2)\n",
      "print np.sum(cD**2)\n",
      "print np.sum(cA**2) + np.sum(cD**2)\n",
      "print np.sum(x**2)"
     ],
     "language": "python",
     "metadata": {},
     "outputs": [
      {
       "output_type": "stream",
       "stream": "stdout",
       "text": [
        "11840\n",
        "67031.7875725\n",
        "0.420276832681\n",
        "[  8.54670454  34.69236991  20.13418778  13.01372861  31.58154505\n",
        "  10.066637    21.79475675  26.59120544   8.54670454  34.69236991\n",
        "  20.13418778  13.01372861  31.58154505  10.066637    21.79475675\n",
        "  26.59120544   8.54670454  34.69236991  20.13418778  13.01372861\n",
        "  31.58154505  10.066637    21.79475675]\n",
        "[ 3.04957133 -0.11385481 -4.89514709  2.26501268  2.1332438  -1.01500528\n",
        " -2.36660369  0.94278306  3.04957133 -0.11385481 -4.89514709  2.26501268\n",
        "  2.1332438  -1.01500528 -2.36660369  0.94278306  3.04957133 -0.11385481\n",
        " -4.89514709  2.26501268  2.1332438  -1.01500528 -2.36660369]\n",
        "11689.4601997\n",
        "150.53980034\n",
        "11840.0\n",
        "11840\n"
       ]
      }
     ],
     "prompt_number": 4
    },
    {
     "cell_type": "heading",
     "level": 2,
     "metadata": {},
     "source": [
      "Test 2 - Basic DWT test 2., minimal ploting"
     ]
    },
    {
     "cell_type": "code",
     "collapsed": false,
     "input": [
      "import pywt\n",
      "x = [3, 7, 1, 1, -2, 5, 4, 6]\n",
      "cA, cD = pywt.dwt(x, 'db20')"
     ],
     "language": "python",
     "metadata": {},
     "outputs": [],
     "prompt_number": 5
    },
    {
     "cell_type": "code",
     "collapsed": false,
     "input": [
      "import matplotlib.pyplot as plt\n",
      "fig, axarr = plt.subplots(3, 1, sharex=False, sharey=True ) \n",
      "    \n",
      "axarr[0].plot(x, '.-')\n",
      "axarr[1].plot(cA, '.-')\n",
      "axarr[2].plot(cD, '.-')"
     ],
     "language": "python",
     "metadata": {},
     "outputs": [
      {
       "metadata": {},
       "output_type": "pyout",
       "prompt_number": 6,
       "text": [
        "[<matplotlib.lines.Line2D at 0x43948d0>]"
       ]
      },
      {
       "metadata": {},
       "output_type": "display_data",
       "png": "iVBORw0KGgoAAAANSUhEUgAAAXMAAAD9CAYAAABOd5eOAAAABHNCSVQICAgIfAhkiAAAAAlwSFlz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\nNYO1KhYAAAAASUVORK5CYII=\n",
       "text": [
        "<matplotlib.figure.Figure at 0x4053d50>"
       ]
      }
     ],
     "prompt_number": 6
    },
    {
     "cell_type": "heading",
     "level": 2,
     "metadata": {},
     "source": [
      "Test 3 - Somewhat more complex signal, with more complex ploting"
     ]
    },
    {
     "cell_type": "code",
     "collapsed": false,
     "input": [
      "import numpy as np\n",
      "y = np.array(xrange(64))*0\n",
      "y[40] = 1\n",
      "Fs = 1\n",
      "\n",
      "w = pywt.Wavelet('haar')\n",
      "\n",
      "c = pywt.wavedec(y, w, mode='zpd')"
     ],
     "language": "python",
     "metadata": {},
     "outputs": [],
     "prompt_number": 7
    },
    {
     "cell_type": "code",
     "collapsed": false,
     "input": [
      "print 'Decomposing filter length: %d' % w.dec_len\n",
      "\n",
      "print 'Decomposed signal number of Approximations and Details: %d' % len(c)\n",
      "print 'Decomposed signal Approximations and Details:'\n",
      "print c\n",
      "cum_len = 0\n",
      "for jj in c :\n",
      "    cum_len = cum_len + len(jj)\n",
      "print 'Decomposed signal cumulative length of Approximations and Details: %d' % cum_len"
     ],
     "language": "python",
     "metadata": {},
     "outputs": [
      {
       "output_type": "stream",
       "stream": "stdout",
       "text": [
        "Decomposing filter length: 2\n",
        "Decomposed signal number of Approximations and Details: 7\n",
        "Decomposed signal Approximations and Details:\n",
        "[array([ 0.125]), array([-0.125]), array([ 0.       ,  0.1767767]), array([ 0.  ,  0.  , -0.25,  0.  ]), array([ 0.        ,  0.        ,  0.        ,  0.        ,  0.        ,\n",
        "        0.35355339,  0.        ,  0.        ]), array([ 0. ,  0. ,  0. ,  0. ,  0. ,  0. ,  0. ,  0. ,  0. ,  0. ,  0.5,\n",
        "        0. ,  0. ,  0. ,  0. ,  0. ]), array([ 0.        ,  0.        ,  0.        ,  0.        ,  0.        ,\n",
        "        0.        ,  0.        ,  0.        ,  0.        ,  0.        ,\n",
        "        0.        ,  0.        ,  0.        ,  0.        ,  0.        ,\n",
        "        0.        ,  0.        ,  0.        ,  0.        ,  0.        ,\n",
        "        0.70710678,  0.        ,  0.        ,  0.        ,  0.        ,\n",
        "        0.        ,  0.        ,  0.        ,  0.        ,  0.        ,\n",
        "        0.        ,  0.        ])]\n",
        "Decomposed signal cumulative length of Approximations and Details: 64\n"
       ]
      }
     ],
     "prompt_number": 8
    },
    {
     "cell_type": "code",
     "collapsed": false,
     "input": [
      "from Wavelet.PlotDWT import PlotDWT\n",
      "\n",
      "Ts = 1\n",
      "\n",
      "PlotDWT(Ts, y, c, None, None)"
     ],
     "language": "python",
     "metadata": {},
     "outputs": [
      {
       "metadata": {},
       "output_type": "display_data",
       "png": "iVBORw0KGgoAAAANSUhEUgAAAYoAAAD9CAYAAACiLjDdAAAABHNCSVQICAgIfAhkiAAAAAlwSFlz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\n",
       "text": [
        "<matplotlib.figure.Figure at 0x4053a10>"
       ]
      }
     ],
     "prompt_number": 9
    },
    {
     "cell_type": "code",
     "collapsed": false,
     "input": [
      "from Wavelet.FancyPlotWavelet_im import FancyPlotWavelet\n",
      "\n",
      "levels = range(len(c)-1,0,-1)\n",
      "levels = [levels[0]] + levels    \n",
      "        \n",
      "FancyPlotWavelet(c, levels, y.size, Fs, title='Discrete Wavelet Transfrom')"
     ],
     "language": "python",
     "metadata": {},
     "outputs": [
      {
       "metadata": {},
       "output_type": "display_data",
       "png": "iVBORw0KGgoAAAANSUhEUgAAAXAAAAEXCAYAAAC06B/dAAAABHNCSVQICAgIfAhkiAAAAAlwSFlz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\nUQAAAABJRU5ErkJggg==\n",
       "text": [
        "<matplotlib.figure.Figure at 0x4e4cf90>"
       ]
      }
     ],
     "prompt_number": 10
    },
    {
     "cell_type": "heading",
     "level": 2,
     "metadata": {},
     "source": [
      "Test 4 - Full Wavelet Package Decomposition of simple signal"
     ]
    },
    {
     "cell_type": "code",
     "collapsed": false,
     "input": [
      "import numpy as np\n",
      "from Wavelet.FullWPD import FullWPD\n",
      "\n",
      "x = np.array([3, 7, 1, 1, -2, 5, 4, 6, 3, 7, 1, 1, -2, 5, 4, 6])\n",
      "\n",
      "x = np.ones(16)*0.001\n",
      "x[6] = 10\n",
      "\n",
      "PacketTable = FullWPD(x, wavelet='haar')\n",
      "\n",
      "PacketTable"
     ],
     "language": "python",
     "metadata": {},
     "outputs": [
      {
       "metadata": {},
       "output_type": "pyout",
       "prompt_number": 11,
       "text": [
        "[[array([  1.00000000e-03,   1.00000000e-03,   1.00000000e-03,\n",
        "         1.00000000e-03,   1.00000000e-03,   1.00000000e-03,\n",
        "         1.00000000e+01,   1.00000000e-03,   1.00000000e-03,\n",
        "         1.00000000e-03,   1.00000000e-03,   1.00000000e-03,\n",
        "         1.00000000e-03,   1.00000000e-03,   1.00000000e-03,\n",
        "         1.00000000e-03])],\n",
        " [array([  1.41421356e-03,   1.41421356e-03,   1.41421356e-03,\n",
        "         7.07177492e+00,   1.41421356e-03,   1.41421356e-03,\n",
        "         1.41421356e-03,   1.41421356e-03]),\n",
        "  array([ 0.        ,  0.        ,  0.        ,  7.07036071,  0.        ,\n",
        "        0.        ,  0.        ,  0.        ])],\n",
        " [array([  2.00000000e-03,   5.00150000e+00,   2.00000000e-03,\n",
        "         2.00000000e-03]),\n",
        "  array([ 0.    , -4.9995,  0.    ,  0.    ]),\n",
        "  array([ 0.    , -4.9995,  0.    ,  0.    ]),\n",
        "  array([ 0.    ,  4.9995,  0.    ,  0.    ])],\n",
        " [array([  3.53800878e+00,   2.82842712e-03]),\n",
        "  array([-3.53518035,  0.        ]),\n",
        "  array([ 3.53518035,  0.        ]),\n",
        "  array([-3.53518035,  0.        ]),\n",
        "  array([-3.53518035,  0.        ]),\n",
        "  array([ 3.53518035,  0.        ]),\n",
        "  array([-3.53518035,  0.        ]),\n",
        "  array([ 3.53518035,  0.        ])],\n",
        " [array([ 2.50375]),\n",
        "  array([ 2.49975]),\n",
        "  array([-2.49975]),\n",
        "  array([-2.49975]),\n",
        "  array([ 2.49975]),\n",
        "  array([ 2.49975]),\n",
        "  array([-2.49975]),\n",
        "  array([-2.49975]),\n",
        "  array([-2.49975]),\n",
        "  array([-2.49975]),\n",
        "  array([ 2.49975]),\n",
        "  array([ 2.49975]),\n",
        "  array([-2.49975]),\n",
        "  array([-2.49975]),\n",
        "  array([ 2.49975]),\n",
        "  array([ 2.49975])]]"
       ]
      }
     ],
     "prompt_number": 11
    },
    {
     "cell_type": "code",
     "collapsed": false,
     "input": [
      "from Wavelet.CalculateCost_ShannonEntropy import CalculateCost_ShannonEntropy\n",
      "\n",
      "cost = CalculateCost_ShannonEntropy(PacketTable)\n",
      "\n",
      "cost"
     ],
     "language": "python",
     "metadata": {},
     "outputs": [
      {
       "metadata": {},
       "output_type": "pyout",
       "prompt_number": 12,
       "text": [
        "[[4.2027173554125855e-06],\n",
        " [0.49995932764436352, 0.5000442860379819],\n",
        " [0.50008647152701158,\n",
        "  0.49997210802649611,\n",
        "  0.49997210802649611,\n",
        "  0.49997210802649611],\n",
        " [0.37527430381266741,\n",
        "  0.37496103651700075,\n",
        "  0.37496103651700069,\n",
        "  0.37496103651700069,\n",
        "  0.37496103651700069,\n",
        "  0.37496103651700069,\n",
        "  0.37496103651700069,\n",
        "  0.37496103651700069],\n",
        " [0.2504794243340176,\n",
        "  0.24996800951037679,\n",
        "  0.24996800951037679,\n",
        "  0.24996800951037679,\n",
        "  0.2499680095103767,\n",
        "  0.2499680095103767,\n",
        "  0.2499680095103767,\n",
        "  0.2499680095103767,\n",
        "  0.2499680095103767,\n",
        "  0.2499680095103767,\n",
        "  0.2499680095103767,\n",
        "  0.2499680095103767,\n",
        "  0.2499680095103767,\n",
        "  0.2499680095103767,\n",
        "  0.2499680095103767,\n",
        "  0.2499680095103767]]"
       ]
      }
     ],
     "prompt_number": 12
    },
    {
     "cell_type": "code",
     "collapsed": false,
     "input": [
      "from Wavelet.CalculateCost_Threshold import CalculateCost_Threshold\n",
      "\n",
      "cost = CalculateCost_Threshold(PacketTable)\n",
      "\n",
      "cost"
     ],
     "language": "python",
     "metadata": {},
     "outputs": [
      {
       "metadata": {},
       "output_type": "pyout",
       "prompt_number": 13,
       "text": [
        "[[1],\n",
        " [1, 1],\n",
        " [1, 1, 1, 1],\n",
        " [1, 1, 1, 1, 1, 1, 1, 1],\n",
        " [1, 1, 1, 1, 1, 1, 1, 1, 1, 1, 1, 1, 1, 1, 1, 1]]"
       ]
      }
     ],
     "prompt_number": 13
    },
    {
     "cell_type": "code",
     "collapsed": false,
     "input": [
      "from Wavelet.CalculateTotalCostofEachLevel import CalculateTotalCostofEachLevel\n",
      "\n",
      "line_costs = CalculateTotalCostofEachLevel(cost)\n",
      "    \n",
      "line_costs"
     ],
     "language": "python",
     "metadata": {},
     "outputs": [
      {
       "metadata": {},
       "output_type": "pyout",
       "prompt_number": 14,
       "text": [
        "[1, 2, 4, 8, 16]"
       ]
      }
     ],
     "prompt_number": 14
    },
    {
     "cell_type": "code",
     "collapsed": false,
     "input": [
      "from Wavelet.BestBasis import BestBasis\n",
      "\n",
      "start_level = 0\n",
      "stop_level = len(PacketTable)\n",
      "val, levels, items = BestBasis(cost, start_level, stop_level+1)\n",
      "\n",
      "print val\n",
      "print levels\n",
      "print items"
     ],
     "language": "python",
     "metadata": {},
     "outputs": [
      {
       "output_type": "stream",
       "stream": "stdout",
       "text": [
        "[1]\n",
        "[0]\n",
        "[0]\n"
       ]
      }
     ],
     "prompt_number": 15
    },
    {
     "cell_type": "heading",
     "level": 2,
     "metadata": {},
     "source": [
      "Test 5 - Full Wavelet Package Decomposition of a sweeping frequency sin with fancy ploting"
     ]
    },
    {
     "cell_type": "heading",
     "level": 3,
     "metadata": {},
     "source": [
      "Generating sweeping sin signal"
     ]
    },
    {
     "cell_type": "code",
     "collapsed": false,
     "input": [
      "from SignalGenerator import SignalGenerator\n",
      "N = 2048*2\n",
      "Fs = 1e3\n",
      "y, f, fint = SignalGenerator(N = N, Fs = Fs, f_start = 100, f_stop = 300, f_steps = 3)"
     ],
     "language": "python",
     "metadata": {},
     "outputs": [],
     "prompt_number": 16
    },
    {
     "cell_type": "code",
     "collapsed": false,
     "input": [
      "import numpy as np\n",
      "import matplotlib.pyplot as plt\n",
      "\n",
      "#print t\n",
      "#print f\n",
      "#print y\n",
      "\n",
      "fig, axarr = plt.subplots(3, 1, sharex=True)\n",
      "t = np.array(range(N))/Fs\n",
      "axarr[0].plot(t, f)\n",
      "axarr[1].plot(t, 2*np.pi*fint)\n",
      "axarr[2].plot(t, y)"
     ],
     "language": "python",
     "metadata": {},
     "outputs": [
      {
       "metadata": {},
       "output_type": "pyout",
       "prompt_number": 17,
       "text": [
        "[<matplotlib.lines.Line2D at 0x4e49d10>]"
       ]
      },
      {
       "metadata": {},
       "output_type": "display_data",
       "png": "iVBORw0KGgoAAAANSUhEUgAAAYAAAAD9CAYAAAC1DKAUAAAABHNCSVQICAgIfAhkiAAAAAlwSFlz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\na
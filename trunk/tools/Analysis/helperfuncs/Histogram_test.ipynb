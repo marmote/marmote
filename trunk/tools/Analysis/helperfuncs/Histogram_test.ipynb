{
 "metadata": {
  "name": ""
 },
 "nbformat": 3,
 "nbformat_minor": 0,
 "worksheets": [
  {
   "cells": [
    {
     "cell_type": "heading",
     "level": 4,
     "metadata": {},
     "source": [
      "License (New 3-Clause BSD):"
     ]
    },
    {
     "cell_type": "markdown",
     "metadata": {},
     "source": [
      "Copyright (c) 2012-2013, <strong>Benjamin Babjak</strong> (babjak.b< at >isis.vanderbilt.edu)\n",
      "\n",
      "All rights reserved.\n",
      "\n",
      "Redistribution and use in source and binary forms, with or without modification, are permitted provided that the following conditions are met:\n",
      "\n",
      "* Redistributions of source code must retain the above copyright notice, this list of conditions and the following disclaimer.\n",
      "\n",
      "* Redistributions in binary form must reproduce the above copyright notice, this list of conditions and the following disclaimer in the documentation and/or other materials provided with the distribution.\n",
      "\n",
      "* Neither the name of the <strong>Institute for Software Integrated Systems, Vanderbilt University</strong> nor the names of its contributors may be used to endorse or promote products derived from this software without specific prior written permission.\n",
      "\n",
      "THIS SOFTWARE IS PROVIDED BY THE COPYRIGHT HOLDERS AND CONTRIBUTORS \"AS IS\" AND ANY EXPRESS OR IMPLIED WARRANTIES, INCLUDING, BUT NOT LIMITED TO, THE IMPLIED WARRANTIES OF MERCHANTABILITY AND FITNESS FOR A PARTICULAR PURPOSE ARE DISCLAIMED. IN NO EVENT SHALL THE COPYRIGHT HOLDER OR CONTRIBUTORS BE LIABLE FOR ANY DIRECT, INDIRECT, INCIDENTAL, SPECIAL, EXEMPLARY, OR CONSEQUENTIAL DAMAGES (INCLUDING, BUT NOT LIMITED TO, PROCUREMENT OF SUBSTITUTE GOODS OR SERVICES; LOSS OF USE, DATA, OR PROFITS; OR BUSINESS INTERRUPTION) HOWEVER CAUSED AND ON ANY THEORY OF LIABILITY, WHETHER IN CONTRACT, STRICT LIABILITY, OR TORT (INCLUDING NEGLIGENCE OR OTHERWISE) ARISING IN ANY WAY OUT OF THE USE OF THIS SOFTWARE, EVEN IF ADVISED OF THE POSSIBILITY OF SUCH DAMAGE."
     ]
    },
    {
     "cell_type": "heading",
     "level": 1,
     "metadata": {},
     "source": [
      "Histogram test"
     ]
    },
    {
     "cell_type": "code",
     "collapsed": false,
     "input": [
      "import matplotlib as mpl\n",
      "import matplotlib.pyplot as plt"
     ],
     "language": "python",
     "metadata": {},
     "outputs": [],
     "prompt_number": 14
    },
    {
     "cell_type": "markdown",
     "metadata": {},
     "source": [
      "Construct a 2D-histogram with variable bin width. First define the bin edges:"
     ]
    },
    {
     "cell_type": "code",
     "collapsed": false,
     "input": [
      "xedges = [0, 1, 1.5, 3, 5]\n",
      "yedges = [0, 2, 3, 4, 6]"
     ],
     "language": "python",
     "metadata": {},
     "outputs": [],
     "prompt_number": 15
    },
    {
     "cell_type": "markdown",
     "metadata": {},
     "source": [
      "Next we create a histogram H with random bin content:"
     ]
    },
    {
     "cell_type": "code",
     "collapsed": false,
     "input": [
      "x = np.random.normal(3, 1, 2)\n",
      "y = np.random.normal(1, 1, 2)"
     ],
     "language": "python",
     "metadata": {},
     "outputs": [],
     "prompt_number": 16
    },
    {
     "cell_type": "code",
     "collapsed": false,
     "input": [
      "print x\n",
      "print y"
     ],
     "language": "python",
     "metadata": {},
     "outputs": [
      {
       "output_type": "stream",
       "stream": "stdout",
       "text": [
        "[ 3.47872526  2.7617336 ]\n",
        "[ 1.91073201 -0.05247831]\n"
       ]
      }
     ],
     "prompt_number": 17
    },
    {
     "cell_type": "code",
     "collapsed": false,
     "input": [
      "H, xedges, yedges = np.histogram2d([x[0]], [y[0]], bins=(xedges, yedges))"
     ],
     "language": "python",
     "metadata": {},
     "outputs": [],
     "prompt_number": 18
    },
    {
     "cell_type": "markdown",
     "metadata": {},
     "source": [
      "Or we fill the histogram H with a determined bin content:"
     ]
    },
    {
     "cell_type": "code",
     "collapsed": false,
     "input": [
      "H = np.ones((4, 4)).cumsum().reshape(4, 4)"
     ],
     "language": "python",
     "metadata": {},
     "outputs": [],
     "prompt_number": 19
    },
    {
     "cell_type": "code",
     "collapsed": false,
     "input": [
      "print H  # This shows the bin content in the order as plotted"
     ],
     "language": "python",
     "metadata": {},
     "outputs": [
      {
       "output_type": "stream",
       "stream": "stdout",
       "text": [
        "[[  1.   2.   3.   4.]\n",
        " [  5.   6.   7.   8.]\n",
        " [  9.  10.  11.  12.]\n",
        " [ 13.  14.  15.  16.]]\n"
       ]
      }
     ],
     "prompt_number": 20
    },
    {
     "cell_type": "code",
     "collapsed": false,
     "input": [
      "H = H.transpose()\n",
      "fig = plt.figure(figsize=(7, 3))\n",
      "\n",
      "#Imshow can only do an equidistant representation of bins:\n",
      "ax = fig.add_subplot(131)\n",
      "ax.set_title('imshow:equidistant')\n",
      "im = plt.imshow(H, interpolation='nearest', origin='low',\n",
      "                    extent=[xedges[0], xedges[-1], yedges[0], yedges[-1]])\n",
      "ax.set_xlabel('x')\n",
      "ax.set_ylabel('y')\n",
      "\n",
      "#pcolormesh can displaying exact bin edges:\n",
      "ax = fig.add_subplot(132)\n",
      "ax.set_title('pcolormesh:exact bin edges')\n",
      "X, Y = np.meshgrid(xedges, yedges)\n",
      "print X\n",
      "print Y\n",
      "ax.pcolormesh(X, Y, H)\n",
      "ax.set_aspect('equal')\n",
      "ax.set_xlabel('x')\n",
      "ax.set_ylabel('y')\n",
      "\n",
      "#NonUniformImage displays exact bin edges with interpolation:\n",
      "ax = fig.add_subplot(133)\n",
      "ax.set_title('NonUniformImage:interpolated')\n",
      "im = mpl.image.NonUniformImage(ax, interpolation='bilinear')\n",
      "xcenters = xedges[:-1] + 0.5 * (xedges[1:] - xedges[:-1])\n",
      "ycenters = yedges[:-1] + 0.5 * (yedges[1:] - yedges[:-1])\n",
      "im.set_data(xcenters, ycenters, H)\n",
      "ax.images.append(im)\n",
      "ax.set_xlim(xedges[0], xedges[-1])\n",
      "ax.set_ylim(yedges[0], yedges[-1])\n",
      "ax.set_aspect('equal')\n",
      "ax.set_xlabel('x')\n",
      "ax.set_ylabel('y')\n",
      "\n",
      "plt.show()"
     ],
     "language": "python",
     "metadata": {},
     "outputs": [
      {
       "output_type": "stream",
       "stream": "stdout",
       "text": [
        "[[ 0.   1.   1.5  3.   5. ]\n",
        " [ 0.   1.   1.5  3.   5. ]\n",
        " [ 0.   1.   1.5  3.   5. ]\n",
        " [ 0.   1.   1.5  3.   5. ]\n",
        " [ 0.   1.   1.5  3.   5. ]]\n",
        "[[ 0.  0.  0.  0.  0.]\n",
        " [ 2.  2.  2.  2.  2.]\n",
        " [ 3.  3.  3.  3.  3.]\n",
        " [ 4.  4.  4.  4.  4.]\n",
        " [ 6.  6.  6.  6.  6.]]\n"
       ]
      },
      {
       "metadata": {},
       "output_type": "display_data",
       "png": "[encoded data removed]",
       "text": [
        "<matplotlib.figure.Figure at 0x4601490>"
       ]
      }
     ],
     "prompt_number": 21
    }
   ],
   "metadata": {}
  }
 ]
}
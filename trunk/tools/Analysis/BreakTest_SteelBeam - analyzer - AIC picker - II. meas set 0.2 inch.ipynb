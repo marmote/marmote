{
 "metadata": {
  "name": "BreakTest_SteelBeam - analyzer - AIC picker - II. meas set 0.2 inch"
 },
 "nbformat": 3,
 "nbformat_minor": 0,
 "worksheets": [
  {
   "cells": [
    {
     "cell_type": "heading",
     "level": 4,
     "metadata": {},
     "source": [
      "License (New 3-Clause BSD):"
     ]
    },
    {
     "cell_type": "markdown",
     "metadata": {},
     "source": [
      "Copyright (c) 2012-2013, <strong>Benjamin Babjak</strong> (babjak.b< at >isis.vanderbilt.edu)\n",
      "\n",
      "All rights reserved.\n",
      "\n",
      "Redistribution and use in source and binary forms, with or without modification, are permitted provided that the following conditions are met:\n",
      "\n",
      "* Redistributions of source code must retain the above copyright notice, this list of conditions and the following disclaimer.\n",
      "\n",
      "* Redistributions in binary form must reproduce the above copyright notice, this list of conditions and the following disclaimer in the documentation and/or other materials provided with the distribution.\n",
      "\n",
      "* Neither the name of the <strong>Institute for Software Integrated Systems, Vanderbilt University</strong> nor the names of its contributors may be used to endorse or promote products derived from this software without specific prior written permission.\n",
      "\n",
      "THIS SOFTWARE IS PROVIDED BY THE COPYRIGHT HOLDERS AND CONTRIBUTORS \"AS IS\" AND ANY EXPRESS OR IMPLIED WARRANTIES, INCLUDING, BUT NOT LIMITED TO, THE IMPLIED WARRANTIES OF MERCHANTABILITY AND FITNESS FOR A PARTICULAR PURPOSE ARE DISCLAIMED. IN NO EVENT SHALL THE COPYRIGHT HOLDER OR CONTRIBUTORS BE LIABLE FOR ANY DIRECT, INDIRECT, INCIDENTAL, SPECIAL, EXEMPLARY, OR CONSEQUENTIAL DAMAGES (INCLUDING, BUT NOT LIMITED TO, PROCUREMENT OF SUBSTITUTE GOODS OR SERVICES; LOSS OF USE, DATA, OR PROFITS; OR BUSINESS INTERRUPTION) HOWEVER CAUSED AND ON ANY THEORY OF LIABILITY, WHETHER IN CONTRACT, STRICT LIABILITY, OR TORT (INCLUDING NEGLIGENCE OR OTHERWISE) ARISING IN ANY WAY OUT OF THE USE OF THIS SOFTWARE, EVEN IF ADVISED OF THE POSSIBILITY OF SUCH DAMAGE."
     ]
    },
    {
     "cell_type": "heading",
     "level": 1,
     "metadata": {},
     "source": [
      "Analysis of acoustic emission events using AIC based onset time picker for the steel break test with a shaker amplitude at 0.2 inch"
     ]
    },
    {
     "cell_type": "markdown",
     "metadata": {},
     "source": [
      "."
     ]
    },
    {
     "cell_type": "heading",
     "level": 2,
     "metadata": {},
     "source": [
      "Read in preprocessed raw data"
     ]
    },
    {
     "cell_type": "markdown",
     "metadata": {},
     "source": [
      "First let's read in the data from measurement. Note that the threshold filter has already filtered out the frames with signals in them."
     ]
    },
    {
     "cell_type": "code",
     "collapsed": false,
     "input": [
      "from helperfuncs.ReadAEMeas import ReadAEMeas\n",
      "\n",
      "dir = '../../../Measurements/BreakTest_SteelBeam/results/2-0.2/'\n",
      "y, y2, T, fnames, start_time = ReadAEMeas(dir)\n",
      "\n",
      "Fs = 1/T\n",
      "#print Fs"
     ],
     "language": "python",
     "metadata": {},
     "outputs": [
      {
       "output_type": "stream",
       "stream": "stdout",
       "text": [
        "Module folder added to system path: /home/ubuntu/Marmote/tools/ControlRecord/ControlRecord\n",
        "Opening file: ../../../Measurements/BreakTest_SteelBeam/results/2-0.2/collect_0.bin"
       ]
      },
      {
       "output_type": "stream",
       "stream": "stdout",
       "text": [
        "\n",
        "Closed file: ../../../Measurements/BreakTest_SteelBeam/results/2-0.2/collect_0.bin\n",
        "Opening file: ../../../Measurements/BreakTest_SteelBeam/results/2-0.2/collect_1.bin\n",
        "Closed file: ../../../Measurements/BreakTest_SteelBeam/results/2-0.2/collect_1.bin\n",
        "Opening file: ../../../Measurements/BreakTest_SteelBeam/results/2-0.2/collect_2.bin"
       ]
      },
      {
       "output_type": "stream",
       "stream": "stdout",
       "text": [
        "\n",
        "Closed file: ../../../Measurements/BreakTest_SteelBeam/results/2-0.2/collect_2.bin\n",
        "Opening file: ../../../Measurements/BreakTest_SteelBeam/results/2-0.2/collect_3.bin\n",
        "Closed file: ../../../Measurements/BreakTest_SteelBeam/results/2-0.2/collect_3.bin"
       ]
      },
      {
       "output_type": "stream",
       "stream": "stdout",
       "text": [
        "\n",
        "Opening file: ../../../Measurements/BreakTest_SteelBeam/results/2-0.2/collect_4.bin\n",
        "Closed file: ../../../Measurements/BreakTest_SteelBeam/results/2-0.2/collect_4.bin\n",
        "Opening file: ../../../Measurements/BreakTest_SteelBeam/results/2-0.2/collect_5.bin\n",
        "Closed file: ../../../Measurements/BreakTest_SteelBeam/results/2-0.2/collect_5.bin"
       ]
      },
      {
       "output_type": "stream",
       "stream": "stdout",
       "text": [
        "\n",
        "Opening file: ../../../Measurements/BreakTest_SteelBeam/results/2-0.2/collect_6.bin\n",
        "Closed file: ../../../Measurements/BreakTest_SteelBeam/results/2-0.2/collect_6.bin\n",
        "Opening file: ../../../Measurements/BreakTest_SteelBeam/results/2-0.2/collect_7.bin\n",
        "Closed file: ../../../Measurements/BreakTest_SteelBeam/results/2-0.2/collect_7.bin"
       ]
      },
      {
       "output_type": "stream",
       "stream": "stdout",
       "text": [
        "\n",
        "Opening file: ../../../Measurements/BreakTest_SteelBeam/results/2-0.2/collect_8.bin\n",
        "Closed file: ../../../Measurements/BreakTest_SteelBeam/results/2-0.2/collect_8.bin\n",
        "Opening file: ../../../Measurements/BreakTest_SteelBeam/results/2-0.2/collect_9.bin\n",
        "Closed file: ../../../Measurements/BreakTest_SteelBeam/results/2-0.2/collect_9.bin"
       ]
      },
      {
       "output_type": "stream",
       "stream": "stdout",
       "text": [
        "\n",
        "Opening file: ../../../Measurements/BreakTest_SteelBeam/results/2-0.2/collect_10.bin\n",
        "Closed file: ../../../Measurements/BreakTest_SteelBeam/results/2-0.2/collect_10.bin\n",
        "Opening file: ../../../Measurements/BreakTest_SteelBeam/results/2-0.2/collect_11.bin\n",
        "Closed file: ../../../Measurements/BreakTest_SteelBeam/results/2-0.2/collect_11.bin"
       ]
      },
      {
       "output_type": "stream",
       "stream": "stdout",
       "text": [
        "\n",
        "Opening file: ../../../Measurements/BreakTest_SteelBeam/results/2-0.2/collect_12.bin\n",
        "Closed file: ../../../Measurements/BreakTest_SteelBeam/results/2-0.2/collect_12.bin\n",
        "Opening file: ../../../Measurements/BreakTest_SteelBeam/results/2-0.2/collect_13.bin\n",
        "Closed file: ../../../Measurements/BreakTest_SteelBeam/results/2-0.2/collect_13.bin"
       ]
      },
      {
       "output_type": "stream",
       "stream": "stdout",
       "text": [
        "\n",
        "Opening file: ../../../Measurements/BreakTest_SteelBeam/results/2-0.2/collect_14.bin\n",
        "Closed file: ../../../Measurements/BreakTest_SteelBeam/results/2-0.2/collect_14.bin\n",
        "Opening file: ../../../Measurements/BreakTest_SteelBeam/results/2-0.2/collect_15.bin\n",
        "Closed file: ../../../Measurements/BreakTest_SteelBeam/results/2-0.2/collect_15.bin\n",
        "Opening file: ../../../Measurements/BreakTest_SteelBeam/results/2-0.2/collect_16.bin"
       ]
      },
      {
       "output_type": "stream",
       "stream": "stdout",
       "text": [
        "\n",
        "Closed file: ../../../Measurements/BreakTest_SteelBeam/results/2-0.2/collect_16.bin\n",
        "Opening file: ../../../Measurements/BreakTest_SteelBeam/results/2-0.2/collect_17.bin\n",
        "Closed file: ../../../Measurements/BreakTest_SteelBeam/results/2-0.2/collect_17.bin"
       ]
      },
      {
       "output_type": "stream",
       "stream": "stdout",
       "text": [
        "\n",
        "Opening file: ../../../Measurements/BreakTest_SteelBeam/results/2-0.2/collect_18.bin\n",
        "Closed file: ../../../Measurements/BreakTest_SteelBeam/results/2-0.2/collect_18.bin"
       ]
      },
      {
       "output_type": "stream",
       "stream": "stdout",
       "text": [
        "\n",
        "Opening file: ../../../Measurements/BreakTest_SteelBeam/results/2-0.2/collect_19.bin\n",
        "Closed file: ../../../Measurements/BreakTest_SteelBeam/results/2-0.2/collect_19.bin\n",
        "Opening file: ../../../Measurements/BreakTest_SteelBeam/results/2-0.2/collect_20.bin\n",
        "Closed file: ../../../Measurements/BreakTest_SteelBeam/results/2-0.2/collect_20.bin"
       ]
      },
      {
       "output_type": "stream",
       "stream": "stdout",
       "text": [
        "\n",
        "Opening file: ../../../Measurements/BreakTest_SteelBeam/results/2-0.2/collect_21.bin\n",
        "Closed file: ../../../Measurements/BreakTest_SteelBeam/results/2-0.2/collect_21.bin\n",
        "Opening file: ../../../Measurements/BreakTest_SteelBeam/results/2-0.2/collect_22.bin\n",
        "Closed file: ../../../Measurements/BreakTest_SteelBeam/results/2-0.2/collect_22.bin"
       ]
      },
      {
       "output_type": "stream",
       "stream": "stdout",
       "text": [
        "\n",
        "Opening file: ../../../Measurements/BreakTest_SteelBeam/results/2-0.2/collect_23.bin\n",
        "Closed file: ../../../Measurements/BreakTest_SteelBeam/results/2-0.2/collect_23.bin\n",
        "Opening file: ../../../Measurements/BreakTest_SteelBeam/results/2-0.2/collect_24.bin\n",
        "Closed file: ../../../Measurements/BreakTest_SteelBeam/results/2-0.2/collect_24.bin"
       ]
      },
      {
       "output_type": "stream",
       "stream": "stdout",
       "text": [
        "\n",
        "Opening file: ../../../Measurements/BreakTest_SteelBeam/results/2-0.2/collect_25.bin\n",
        "Closed file: ../../../Measurements/BreakTest_SteelBeam/results/2-0.2/collect_25.bin\n",
        "Opening file: ../../../Measurements/BreakTest_SteelBeam/results/2-0.2/collect_26.bin\n",
        "Closed file: ../../../Measurements/BreakTest_SteelBeam/results/2-0.2/collect_26.bin"
       ]
      },
      {
       "output_type": "stream",
       "stream": "stdout",
       "text": [
        "\n",
        "Opening file: ../../../Measurements/BreakTest_SteelBeam/results/2-0.2/collect_27.bin\n",
        "Closed file: ../../../Measurements/BreakTest_SteelBeam/results/2-0.2/collect_27.bin\n",
        "Opening file: ../../../Measurements/BreakTest_SteelBeam/results/2-0.2/collect_28.bin\n",
        "Closed file: ../../../Measurements/BreakTest_SteelBeam/results/2-0.2/collect_28.bin"
       ]
      },
      {
       "output_type": "stream",
       "stream": "stdout",
       "text": [
        "\n",
        "Opening file: ../../../Measurements/BreakTest_SteelBeam/results/2-0.2/collect_29.bin\n",
        "Closed file: ../../../Measurements/BreakTest_SteelBeam/results/2-0.2/collect_29.bin\n",
        "Opening file: ../../../Measurements/BreakTest_SteelBeam/results/2-0.2/collect_30.bin\n",
        "Closed file: ../../../Measurements/BreakTest_SteelBeam/results/2-0.2/collect_30.bin"
       ]
      },
      {
       "output_type": "stream",
       "stream": "stdout",
       "text": [
        "\n",
        "Opening file: ../../../Measurements/BreakTest_SteelBeam/results/2-0.2/collect_31.bin\n",
        "Closed file: ../../../Measurements/BreakTest_SteelBeam/results/2-0.2/collect_31.bin"
       ]
      },
      {
       "output_type": "stream",
       "stream": "stdout",
       "text": [
        "\n",
        "Opening file: ../../../Measurements/BreakTest_SteelBeam/results/2-0.2/collect_32.bin\n",
        "Closed file: ../../../Measurements/BreakTest_SteelBeam/results/2-0.2/collect_32.bin\n",
        "Opening file: ../../../Measurements/BreakTest_SteelBeam/results/2-0.2/collect_33.bin\n",
        "Closed file: ../../../Measurements/BreakTest_SteelBeam/results/2-0.2/collect_33.bin"
       ]
      },
      {
       "output_type": "stream",
       "stream": "stdout",
       "text": [
        "\n",
        "Opening file: ../../../Measurements/BreakTest_SteelBeam/results/2-0.2/collect_34.bin\n",
        "Closed file: ../../../Measurements/BreakTest_SteelBeam/results/2-0.2/collect_34.bin\n",
        "Opening file: ../../../Measurements/BreakTest_SteelBeam/results/2-0.2/collect_35.bin\n",
        "Closed file: ../../../Measurements/BreakTest_SteelBeam/results/2-0.2/collect_35.bin"
       ]
      },
      {
       "output_type": "stream",
       "stream": "stdout",
       "text": [
        "\n",
        "Opening file: ../../../Measurements/BreakTest_SteelBeam/results/2-0.2/collect_36.bin\n",
        "Closed file: ../../../Measurements/BreakTest_SteelBeam/results/2-0.2/collect_36.bin"
       ]
      },
      {
       "output_type": "stream",
       "stream": "stdout",
       "text": [
        "\n",
        "Opening file: ../../../Measurements/BreakTest_SteelBeam/results/2-0.2/collect_37.bin\n",
        "Closed file: ../../../Measurements/BreakTest_SteelBeam/results/2-0.2/collect_37.bin\n",
        "Opening file: ../../../Measurements/BreakTest_SteelBeam/results/2-0.2/collect_38.bin\n",
        "Closed file: ../../../Measurements/BreakTest_SteelBeam/results/2-0.2/collect_38.bin"
       ]
      },
      {
       "output_type": "stream",
       "stream": "stdout",
       "text": [
        "\n",
        "Opening file: ../../../Measurements/BreakTest_SteelBeam/results/2-0.2/collect_39.bin\n",
        "Closed file: ../../../Measurements/BreakTest_SteelBeam/results/2-0.2/collect_39.bin\n",
        "Opening file: ../../../Measurements/BreakTest_SteelBeam/results/2-0.2/collect_40.bin\n",
        "Closed file: ../../../Measurements/BreakTest_SteelBeam/results/2-0.2/collect_40.bin"
       ]
      },
      {
       "output_type": "stream",
       "stream": "stdout",
       "text": [
        "\n",
        "Opening file: ../../../Measurements/BreakTest_SteelBeam/results/2-0.2/collect_41.bin\n",
        "Closed file: ../../../Measurements/BreakTest_SteelBeam/results/2-0.2/collect_41.bin\n",
        "Opening file: ../../../Measurements/BreakTest_SteelBeam/results/2-0.2/collect_42.bin\n",
        "Closed file: ../../../Measurements/BreakTest_SteelBeam/results/2-0.2/collect_42.bin"
       ]
      },
      {
       "output_type": "stream",
       "stream": "stdout",
       "text": [
        "\n",
        "Opening file: ../../../Measurements/BreakTest_SteelBeam/results/2-0.2/collect_43.bin\n",
        "Closed file: ../../../Measurements/BreakTest_SteelBeam/results/2-0.2/collect_43.bin\n",
        "Opening file: ../../../Measurements/BreakTest_SteelBeam/results/2-0.2/collect_44.bin\n",
        "Closed file: ../../../Measurements/BreakTest_SteelBeam/results/2-0.2/collect_44.bin"
       ]
      },
      {
       "output_type": "stream",
       "stream": "stdout",
       "text": [
        "\n",
        "Opening file: ../../../Measurements/BreakTest_SteelBeam/results/2-0.2/collect_45.bin\n",
        "Closed file: ../../../Measurements/BreakTest_SteelBeam/results/2-0.2/collect_45.bin\n",
        "Opening file: ../../../Measurements/BreakTest_SteelBeam/results/2-0.2/collect_46.bin\n",
        "Closed file: ../../../Measurements/BreakTest_SteelBeam/results/2-0.2/collect_46.bin"
       ]
      },
      {
       "output_type": "stream",
       "stream": "stdout",
       "text": [
        "\n",
        "Opening file: ../../../Measurements/BreakTest_SteelBeam/results/2-0.2/collect_47.bin\n",
        "Closed file: ../../../Measurements/BreakTest_SteelBeam/results/2-0.2/collect_47.bin\n",
        "Opening file: ../../../Measurements/BreakTest_SteelBeam/results/2-0.2/collect_48.bin\n",
        "Closed file: ../../../Measurements/BreakTest_SteelBeam/results/2-0.2/collect_48.bin"
       ]
      },
      {
       "output_type": "stream",
       "stream": "stdout",
       "text": [
        "\n",
        "Opening file: ../../../Measurements/BreakTest_SteelBeam/results/2-0.2/collect_49.bin\n",
        "Closed file: ../../../Measurements/BreakTest_SteelBeam/results/2-0.2/collect_49.bin\n",
        "Opening file: ../../../Measurements/BreakTest_SteelBeam/results/2-0.2/collect_50.bin\n",
        "Closed file: ../../../Measurements/BreakTest_SteelBeam/results/2-0.2/collect_50.bin"
       ]
      },
      {
       "output_type": "stream",
       "stream": "stdout",
       "text": [
        "\n",
        "Opening file: ../../../Measurements/BreakTest_SteelBeam/results/2-0.2/collect_51.bin\n",
        "Closed file: ../../../Measurements/BreakTest_SteelBeam/results/2-0.2/collect_51.bin\n",
        "Opening file: ../../../Measurements/BreakTest_SteelBeam/results/2-0.2/collect_52.bin\n",
        "Closed file: ../../../Measurements/BreakTest_SteelBeam/results/2-0.2/collect_52.bin"
       ]
      },
      {
       "output_type": "stream",
       "stream": "stdout",
       "text": [
        "\n",
        "Opening file: ../../../Measurements/BreakTest_SteelBeam/results/2-0.2/collect_53.bin\n",
        "Closed file: ../../../Measurements/BreakTest_SteelBeam/results/2-0.2/collect_53.bin\n",
        "Opening file: ../../../Measurements/BreakTest_SteelBeam/results/2-0.2/collect_54.bin\n",
        "Closed file: ../../../Measurements/BreakTest_SteelBeam/results/2-0.2/collect_54.bin"
       ]
      },
      {
       "output_type": "stream",
       "stream": "stdout",
       "text": [
        "\n",
        "Opening file: ../../../Measurements/BreakTest_SteelBeam/results/2-0.2/collect_55.bin\n",
        "Closed file: ../../../Measurements/BreakTest_SteelBeam/results/2-0.2/collect_55.bin\n",
        "Opening file: ../../../Measurements/BreakTest_SteelBeam/results/2-0.2/collect_56.bin\n",
        "Closed file: ../../../Measurements/BreakTest_SteelBeam/results/2-0.2/collect_56.bin"
       ]
      },
      {
       "output_type": "stream",
       "stream": "stdout",
       "text": [
        "\n",
        "Opening file: ../../../Measurements/BreakTest_SteelBeam/results/2-0.2/collect_57.bin\n",
        "Closed file: ../../../Measurements/BreakTest_SteelBeam/results/2-0.2/collect_57.bin\n",
        "Opening file: ../../../Measurements/BreakTest_SteelBeam/results/2-0.2/collect_58.bin\n",
        "Closed file: ../../../Measurements/BreakTest_SteelBeam/results/2-0.2/collect_58.bin"
       ]
      },
      {
       "output_type": "stream",
       "stream": "stdout",
       "text": [
        "\n",
        "Opening file: ../../../Measurements/BreakTest_SteelBeam/results/2-0.2/collect_59.bin\n",
        "Closed file: ../../../Measurements/BreakTest_SteelBeam/results/2-0.2/collect_59.bin\n",
        "Opening file: ../../../Measurements/BreakTest_SteelBeam/results/2-0.2/collect_60.bin\n",
        "Closed file: ../../../Measurements/BreakTest_SteelBeam/results/2-0.2/collect_60.bin"
       ]
      },
      {
       "output_type": "stream",
       "stream": "stdout",
       "text": [
        "\n",
        "Opening file: ../../../Measurements/BreakTest_SteelBeam/results/2-0.2/collect_61.bin\n",
        "Closed file: ../../../Measurements/BreakTest_SteelBeam/results/2-0.2/collect_61.bin\n",
        "Opening file: ../../../Measurements/BreakTest_SteelBeam/results/2-0.2/collect_62.bin\n",
        "Closed file: ../../../Measurements/BreakTest_SteelBeam/results/2-0.2/collect_62.bin"
       ]
      },
      {
       "output_type": "stream",
       "stream": "stdout",
       "text": [
        "\n",
        "Opening file: ../../../Measurements/BreakTest_SteelBeam/results/2-0.2/collect_63.bin\n",
        "Closed file: ../../../Measurements/BreakTest_SteelBeam/results/2-0.2/collect_63.bin\n",
        "Opening file: ../../../Measurements/BreakTest_SteelBeam/results/2-0.2/collect_64.bin\n",
        "Closed file: ../../../Measurements/BreakTest_SteelBeam/results/2-0.2/collect_64.bin"
       ]
      },
      {
       "output_type": "stream",
       "stream": "stdout",
       "text": [
        "\n",
        "Opening file: ../../../Measurements/BreakTest_SteelBeam/results/2-0.2/collect_65.bin\n",
        "Closed file: ../../../Measurements/BreakTest_SteelBeam/results/2-0.2/collect_65.bin\n",
        "Opening file: ../../../Measurements/BreakTest_SteelBeam/results/2-0.2/collect_66.bin\n",
        "Closed file: ../../../Measurements/BreakTest_SteelBeam/results/2-0.2/collect_66.bin"
       ]
      },
      {
       "output_type": "stream",
       "stream": "stdout",
       "text": [
        "\n",
        "Opening file: ../../../Measurements/BreakTest_SteelBeam/results/2-0.2/collect_67.bin\n",
        "Closed file: ../../../Measurements/BreakTest_SteelBeam/results/2-0.2/collect_67.bin\n",
        "Opening file: ../../../Measurements/BreakTest_SteelBeam/results/2-0.2/collect_68.bin\n",
        "Closed file: ../../../Measurements/BreakTest_SteelBeam/results/2-0.2/collect_68.bin"
       ]
      },
      {
       "output_type": "stream",
       "stream": "stdout",
       "text": [
        "\n",
        "Opening file: ../../../Measurements/BreakTest_SteelBeam/results/2-0.2/collect_69.bin\n",
        "Closed file: ../../../Measurements/BreakTest_SteelBeam/results/2-0.2/collect_69.bin\n",
        "Opening file: ../../../Measurements/BreakTest_SteelBeam/results/2-0.2/collect_70.bin\n",
        "Closed file: ../../../Measurements/BreakTest_SteelBeam/results/2-0.2/collect_70.bin"
       ]
      },
      {
       "output_type": "stream",
       "stream": "stdout",
       "text": [
        "\n",
        "Opening file: ../../../Measurements/BreakTest_SteelBeam/results/2-0.2/collect_71.bin\n",
        "Closed file: ../../../Measurements/BreakTest_SteelBeam/results/2-0.2/collect_71.bin\n",
        "Opening file: ../../../Measurements/BreakTest_SteelBeam/results/2-0.2/collect_72.bin\n",
        "Closed file: ../../../Measurements/BreakTest_SteelBeam/results/2-0.2/collect_72.bin"
       ]
      },
      {
       "output_type": "stream",
       "stream": "stdout",
       "text": [
        "\n",
        "Opening file: ../../../Measurements/BreakTest_SteelBeam/results/2-0.2/collect_73.bin\n",
        "Closed file: ../../../Measurements/BreakTest_SteelBeam/results/2-0.2/collect_73.bin\n",
        "Opening file: ../../../Measurements/BreakTest_SteelBeam/results/2-0.2/collect_74.bin\n",
        "Closed file: ../../../Measurements/BreakTest_SteelBeam/results/2-0.2/collect_74.bin\n",
        "Opening file: ../../../Measurements/BreakTest_SteelBeam/results/2-0.2/collect_75.bin\n",
        "Closed file: ../../../Measurements/BreakTest_SteelBeam/results/2-0.2/collect_75.bin"
       ]
      },
      {
       "output_type": "stream",
       "stream": "stdout",
       "text": [
        "\n",
        "Opening file: ../../../Measurements/BreakTest_SteelBeam/results/2-0.2/collect_76.bin\n",
        "Closed file: ../../../Measurements/BreakTest_SteelBeam/results/2-0.2/collect_76.bin\n",
        "Opening file: ../../../Measurements/BreakTest_SteelBeam/results/2-0.2/collect_77.bin\n",
        "Closed file: ../../../Measurements/BreakTest_SteelBeam/results/2-0.2/collect_77.bin\n",
        "Opening file: ../../../Measurements/BreakTest_SteelBeam/results/2-0.2/collect_78.bin\n",
        "Closed file: ../../../Measurements/BreakTest_SteelBeam/results/2-0.2/collect_78.bin"
       ]
      },
      {
       "output_type": "stream",
       "stream": "stdout",
       "text": [
        "\n",
        "Opening file: ../../../Measurements/BreakTest_SteelBeam/results/2-0.2/collect_79.bin\n",
        "Closed file: ../../../Measurements/BreakTest_SteelBeam/results/2-0.2/collect_79.bin\n",
        "Opening file: ../../../Measurements/BreakTest_SteelBeam/results/2-0.2/collect_80.bin\n",
        "Closed file: ../../../Measurements/BreakTest_SteelBeam/results/2-0.2/collect_80.bin\n",
        "Opening file: ../../../Measurements/BreakTest_SteelBeam/results/2-0.2/collect_81.bin\n",
        "Closed file: ../../../Measurements/BreakTest_SteelBeam/results/2-0.2/collect_81.bin"
       ]
      },
      {
       "output_type": "stream",
       "stream": "stdout",
       "text": [
        "\n",
        "Opening file: ../../../Measurements/BreakTest_SteelBeam/results/2-0.2/collect_82.bin\n",
        "Closed file: ../../../Measurements/BreakTest_SteelBeam/results/2-0.2/collect_82.bin\n",
        "Opening file: ../../../Measurements/BreakTest_SteelBeam/results/2-0.2/collect_83.bin\n",
        "Closed file: ../../../Measurements/BreakTest_SteelBeam/results/2-0.2/collect_83.bin\n",
        "Opening file: ../../../Measurements/BreakTest_SteelBeam/results/2-0.2/collect_84.bin\n",
        "Closed file: ../../../Measurements/BreakTest_SteelBeam/results/2-0.2/collect_84.bin"
       ]
      },
      {
       "output_type": "stream",
       "stream": "stdout",
       "text": [
        "\n",
        "Opening file: ../../../Measurements/BreakTest_SteelBeam/results/2-0.2/collect_85.bin\n",
        "Closed file: ../../../Measurements/BreakTest_SteelBeam/results/2-0.2/collect_85.bin\n",
        "Opening file: ../../../Measurements/BreakTest_SteelBeam/results/2-0.2/collect_86.bin\n",
        "Closed file: ../../../Measurements/BreakTest_SteelBeam/results/2-0.2/collect_86.bin\n",
        "Opening file: ../../../Measurements/BreakTest_SteelBeam/results/2-0.2/collect_87.bin\n",
        "Closed file: ../../../Measurements/BreakTest_SteelBeam/results/2-0.2/collect_87.bin"
       ]
      },
      {
       "output_type": "stream",
       "stream": "stdout",
       "text": [
        "\n",
        "Opening file: ../../../Measurements/BreakTest_SteelBeam/results/2-0.2/collect_88.bin\n",
        "Closed file: ../../../Measurements/BreakTest_SteelBeam/results/2-0.2/collect_88.bin\n",
        "Opening file: ../../../Measurements/BreakTest_SteelBeam/results/2-0.2/collect_89.bin\n",
        "Closed file: ../../../Measurements/BreakTest_SteelBeam/results/2-0.2/collect_89.bin\n",
        "Opening file: ../../../Measurements/BreakTest_SteelBeam/results/2-0.2/collect_90.bin\n",
        "Closed file: ../../../Measurements/BreakTest_SteelBeam/results/2-0.2/collect_90.bin"
       ]
      },
      {
       "output_type": "stream",
       "stream": "stdout",
       "text": [
        "\n",
        "Opening file: ../../../Measurements/BreakTest_SteelBeam/results/2-0.2/collect_91.bin\n",
        "Closed file: ../../../Measurements/BreakTest_SteelBeam/results/2-0.2/collect_91.bin\n",
        "Opening file: ../../../Measurements/BreakTest_SteelBeam/results/2-0.2/collect_92.bin\n",
        "Closed file: ../../../Measurements/BreakTest_SteelBeam/results/2-0.2/collect_92.bin\n",
        "Opening file: ../../../Measurements/BreakTest_SteelBeam/results/2-0.2/collect_93.bin\n",
        "Closed file: ../../../Measurements/BreakTest_SteelBeam/results/2-0.2/collect_93.bin"
       ]
      },
      {
       "output_type": "stream",
       "stream": "stdout",
       "text": [
        "\n",
        "Opening file: ../../../Measurements/BreakTest_SteelBeam/results/2-0.2/collect_94.bin\n",
        "Closed file: ../../../Measurements/BreakTest_SteelBeam/results/2-0.2/collect_94.bin\n",
        "Opening file: ../../../Measurements/BreakTest_SteelBeam/results/2-0.2/collect_95.bin\n",
        "Closed file: ../../../Measurements/BreakTest_SteelBeam/results/2-0.2/collect_95.bin\n",
        "Opening file: ../../../Measurements/BreakTest_SteelBeam/results/2-0.2/collect_96.bin\n",
        "Closed file: ../../../Measurements/BreakTest_SteelBeam/results/2-0.2/collect_96.bin"
       ]
      },
      {
       "output_type": "stream",
       "stream": "stdout",
       "text": [
        "\n",
        "Opening file: ../../../Measurements/BreakTest_SteelBeam/results/2-0.2/collect_97.bin\n",
        "Closed file: ../../../Measurements/BreakTest_SteelBeam/results/2-0.2/collect_97.bin\n",
        "Opening file: ../../../Measurements/BreakTest_SteelBeam/results/2-0.2/collect_98.bin\n",
        "Closed file: ../../../Measurements/BreakTest_SteelBeam/results/2-0.2/collect_98.bin\n",
        "Opening file: ../../../Measurements/BreakTest_SteelBeam/results/2-0.2/collect_99.bin\n",
        "Closed file: ../../../Measurements/BreakTest_SteelBeam/results/2-0.2/collect_99.bin"
       ]
      },
      {
       "output_type": "stream",
       "stream": "stdout",
       "text": [
        "\n",
        "Opening file: ../../../Measurements/BreakTest_SteelBeam/results/2-0.2/collect_100.bin\n",
        "Closed file: ../../../Measurements/BreakTest_SteelBeam/results/2-0.2/collect_100.bin\n",
        "Opening file: ../../../Measurements/BreakTest_SteelBeam/results/2-0.2/collect_101.bin\n",
        "Closed file: ../../../Measurements/BreakTest_SteelBeam/results/2-0.2/collect_101.bin\n",
        "Opening file: ../../../Measurements/BreakTest_SteelBeam/results/2-0.2/collect_102.bin\n",
        "Closed file: ../../../Measurements/BreakTest_SteelBeam/results/2-0.2/collect_102.bin"
       ]
      },
      {
       "output_type": "stream",
       "stream": "stdout",
       "text": [
        "\n",
        "Opening file: ../../../Measurements/BreakTest_SteelBeam/results/2-0.2/collect_103.bin\n",
        "Closed file: ../../../Measurements/BreakTest_SteelBeam/results/2-0.2/collect_103.bin\n",
        "Opening file: ../../../Measurements/BreakTest_SteelBeam/results/2-0.2/collect_104.bin\n",
        "Closed file: ../../../Measurements/BreakTest_SteelBeam/results/2-0.2/collect_104.bin\n",
        "Opening file: ../../../Measurements/BreakTest_SteelBeam/results/2-0.2/collect_105.bin\n",
        "Closed file: ../../../Measurements/BreakTest_SteelBeam/results/2-0.2/collect_105.bin"
       ]
      },
      {
       "output_type": "stream",
       "stream": "stdout",
       "text": [
        "\n",
        "Opening file: ../../../Measurements/BreakTest_SteelBeam/results/2-0.2/collect_106.bin\n",
        "Closed file: ../../../Measurements/BreakTest_SteelBeam/results/2-0.2/collect_106.bin\n",
        "Opening file: ../../../Measurements/BreakTest_SteelBeam/results/2-0.2/collect_107.bin\n",
        "Closed file: ../../../Measurements/BreakTest_SteelBeam/results/2-0.2/collect_107.bin"
       ]
      },
      {
       "output_type": "stream",
       "stream": "stdout",
       "text": [
        "\n",
        "Opening file: ../../../Measurements/BreakTest_SteelBeam/results/2-0.2/collect_108.bin\n",
        "Closed file: ../../../Measurements/BreakTest_SteelBeam/results/2-0.2/collect_108.bin\n",
        "Opening file: ../../../Measurements/BreakTest_SteelBeam/results/2-0.2/collect_109.bin\n",
        "Closed file: ../../../Measurements/BreakTest_SteelBeam/results/2-0.2/collect_109.bin"
       ]
      },
      {
       "output_type": "stream",
       "stream": "stdout",
       "text": [
        "\n",
        "Opening file: ../../../Measurements/BreakTest_SteelBeam/results/2-0.2/collect_110.bin\n",
        "Closed file: ../../../Measurements/BreakTest_SteelBeam/results/2-0.2/collect_110.bin\n",
        "Opening file: ../../../Measurements/BreakTest_SteelBeam/results/2-0.2/collect_111.bin\n",
        "Closed file: ../../../Measurements/BreakTest_SteelBeam/results/2-0.2/collect_111.bin\n",
        "Opening file: ../../../Measurements/BreakTest_SteelBeam/results/2-0.2/collect_112.bin\n",
        "Closed file: ../../../Measurements/BreakTest_SteelBeam/results/2-0.2/collect_112.bin"
       ]
      },
      {
       "output_type": "stream",
       "stream": "stdout",
       "text": [
        "\n",
        "Opening file: ../../../Measurements/BreakTest_SteelBeam/results/2-0.2/collect_113.bin\n",
        "Closed file: ../../../Measurements/BreakTest_SteelBeam/results/2-0.2/collect_113.bin\n",
        "Opening file: ../../../Measurements/BreakTest_SteelBeam/results/2-0.2/collect_114.bin\n",
        "Closed file: ../../../Measurements/BreakTest_SteelBeam/results/2-0.2/collect_114.bin\n",
        "Opening file: ../../../Measurements/BreakTest_SteelBeam/results/2-0.2/collect_115.bin"
       ]
      },
      {
       "output_type": "stream",
       "stream": "stdout",
       "text": [
        "\n",
        "Closed file: ../../../Measurements/BreakTest_SteelBeam/results/2-0.2/collect_115.bin\n",
        "Opening file: ../../../Measurements/BreakTest_SteelBeam/results/2-0.2/collect_116.bin\n",
        "Closed file: ../../../Measurements/BreakTest_SteelBeam/results/2-0.2/collect_116.bin\n",
        "Opening file: ../../../Measurements/BreakTest_SteelBeam/results/2-0.2/collect_117.bin\n",
        "Closed file: ../../../Measurements/BreakTest_SteelBeam/results/2-0.2/collect_117.bin"
       ]
      },
      {
       "output_type": "stream",
       "stream": "stdout",
       "text": [
        "\n",
        "Opening file: ../../../Measurements/BreakTest_SteelBeam/results/2-0.2/collect_118.bin\n",
        "Closed file: ../../../Measurements/BreakTest_SteelBeam/results/2-0.2/collect_118.bin\n",
        "Opening file: ../../../Measurements/BreakTest_SteelBeam/results/2-0.2/collect_119.bin\n",
        "Closed file: ../../../Measurements/BreakTest_SteelBeam/results/2-0.2/collect_119.bin"
       ]
      },
      {
       "output_type": "stream",
       "stream": "stdout",
       "text": [
        "\n",
        "Opening file: ../../../Measurements/BreakTest_SteelBeam/results/2-0.2/collect_120.bin\n",
        "Closed file: ../../../Measurements/BreakTest_SteelBeam/results/2-0.2/collect_120.bin\n",
        "Opening file: ../../../Measurements/BreakTest_SteelBeam/results/2-0.2/collect_121.bin\n",
        "Closed file: ../../../Measurements/BreakTest_SteelBeam/results/2-0.2/collect_121.bin\n",
        "Opening file: ../../../Measurements/BreakTest_SteelBeam/results/2-0.2/collect_122.bin\n",
        "Closed file: ../../../Measurements/BreakTest_SteelBeam/results/2-0.2/collect_122.bin"
       ]
      },
      {
       "output_type": "stream",
       "stream": "stdout",
       "text": [
        "\n",
        "Opening file: ../../../Measurements/BreakTest_SteelBeam/results/2-0.2/collect_123.bin\n",
        "Closed file: ../../../Measurements/BreakTest_SteelBeam/results/2-0.2/collect_123.bin\n",
        "Opening file: ../../../Measurements/BreakTest_SteelBeam/results/2-0.2/collect_124.bin\n",
        "Closed file: ../../../Measurements/BreakTest_SteelBeam/results/2-0.2/collect_124.bin\n",
        "Opening file: ../../../Measurements/BreakTest_SteelBeam/results/2-0.2/collect_125.bin\n",
        "Closed file: ../../../Measurements/BreakTest_SteelBeam/results/2-0.2/collect_125.bin\n",
        "Opening file: ../../../Measurements/BreakTest_SteelBeam/results/2-0.2/collect_126.bin"
       ]
      },
      {
       "output_type": "stream",
       "stream": "stdout",
       "text": [
        "\n",
        "Closed file: ../../../Measurements/BreakTest_SteelBeam/results/2-0.2/collect_126.bin\n",
        "Opening file: ../../../Measurements/BreakTest_SteelBeam/results/2-0.2/collect_127.bin\n",
        "Closed file: ../../../Measurements/BreakTest_SteelBeam/results/2-0.2/collect_127.bin\n",
        "Opening file: ../../../Measurements/BreakTest_SteelBeam/results/2-0.2/collect_128.bin\n",
        "Closed file: ../../../Measurements/BreakTest_SteelBeam/results/2-0.2/collect_128.bin"
       ]
      },
      {
       "output_type": "stream",
       "stream": "stdout",
       "text": [
        "\n",
        "Opening file: ../../../Measurements/BreakTest_SteelBeam/results/2-0.2/collect_129.bin\n",
        "Closed file: ../../../Measurements/BreakTest_SteelBeam/results/2-0.2/collect_129.bin\n",
        "Opening file: ../../../Measurements/BreakTest_SteelBeam/results/2-0.2/collect_130.bin\n",
        "Closed file: ../../../Measurements/BreakTest_SteelBeam/results/2-0.2/collect_130.bin\n",
        "Opening file: ../../../Measurements/BreakTest_SteelBeam/results/2-0.2/collect_131.bin\n",
        "Closed file: ../../../Measurements/BreakTest_SteelBeam/results/2-0.2/collect_131.bin"
       ]
      },
      {
       "output_type": "stream",
       "stream": "stdout",
       "text": [
        "\n",
        "Opening file: ../../../Measurements/BreakTest_SteelBeam/results/2-0.2/collect_132.bin\n",
        "Closed file: ../../../Measurements/BreakTest_SteelBeam/results/2-0.2/collect_132.bin\n",
        "Opening file: ../../../Measurements/BreakTest_SteelBeam/results/2-0.2/collect_133.bin\n",
        "Closed file: ../../../Measurements/BreakTest_SteelBeam/results/2-0.2/collect_133.bin\n",
        "Opening file: ../../../Measurements/BreakTest_SteelBeam/results/2-0.2/collect_134.bin\n",
        "Closed file: ../../../Measurements/BreakTest_SteelBeam/results/2-0.2/collect_134.bin\n",
        "Opening file: ../../../Measurements/BreakTest_SteelBeam/results/2-0.2/collect_135.bin\n",
        "Closed file: ../../../Measurements/BreakTest_SteelBeam/results/2-0.2/collect_135.bin"
       ]
      },
      {
       "output_type": "stream",
       "stream": "stdout",
       "text": [
        "\n",
        "Opening file: ../../../Measurements/BreakTest_SteelBeam/results/2-0.2/collect_136.bin\n",
        "Closed file: ../../../Measurements/BreakTest_SteelBeam/results/2-0.2/collect_136.bin\n",
        "Opening file: ../../../Measurements/BreakTest_SteelBeam/results/2-0.2/collect_137.bin\n",
        "Closed file: ../../../Measurements/BreakTest_SteelBeam/results/2-0.2/collect_137.bin\n",
        "Opening file: ../../../Measurements/BreakTest_SteelBeam/results/2-0.2/collect_138.bin\n",
        "Closed file: ../../../Measurements/BreakTest_SteelBeam/results/2-0.2/collect_138.bin\n",
        "Opening file: ../../../Measurements/BreakTest_SteelBeam/results/2-0.2/collect_139.bin"
       ]
      },
      {
       "output_type": "stream",
       "stream": "stdout",
       "text": [
        "\n",
        "Closed file: ../../../Measurements/BreakTest_SteelBeam/results/2-0.2/collect_139.bin\n",
        "Opening file: ../../../Measurements/BreakTest_SteelBeam/results/2-0.2/collect_140.bin\n",
        "Closed file: ../../../Measurements/BreakTest_SteelBeam/results/2-0.2/collect_140.bin\n",
        "Opening file: ../../../Measurements/BreakTest_SteelBeam/results/2-0.2/collect_141.bin\n",
        "Closed file: ../../../Measurements/BreakTest_SteelBeam/results/2-0.2/collect_141.bin"
       ]
      },
      {
       "output_type": "stream",
       "stream": "stdout",
       "text": [
        "\n",
        "Opening file: ../../../Measurements/BreakTest_SteelBeam/results/2-0.2/collect_142.bin\n",
        "Closed file: ../../../Measurements/BreakTest_SteelBeam/results/2-0.2/collect_142.bin\n",
        "Opening file: ../../../Measurements/BreakTest_SteelBeam/results/2-0.2/collect_143.bin\n",
        "Closed file: ../../../Measurements/BreakTest_SteelBeam/results/2-0.2/collect_143.bin\n",
        "Opening file: ../../../Measurements/BreakTest_SteelBeam/results/2-0.2/collect_144.bin\n",
        "Closed file: ../../../Measurements/BreakTest_SteelBeam/results/2-0.2/collect_144.bin"
       ]
      },
      {
       "output_type": "stream",
       "stream": "stdout",
       "text": [
        "\n",
        "Opening file: ../../../Measurements/BreakTest_SteelBeam/results/2-0.2/collect_145.bin\n",
        "Closed file: ../../../Measurements/BreakTest_SteelBeam/results/2-0.2/collect_145.bin\n",
        "Opening file: ../../../Measurements/BreakTest_SteelBeam/results/2-0.2/collect_146.bin\n",
        "Closed file: ../../../Measurements/BreakTest_SteelBeam/results/2-0.2/collect_146.bin\n",
        "Opening file: ../../../Measurements/BreakTest_SteelBeam/results/2-0.2/collect_147.bin\n",
        "Closed file: ../../../Measurements/BreakTest_SteelBeam/results/2-0.2/collect_147.bin"
       ]
      },
      {
       "output_type": "stream",
       "stream": "stdout",
       "text": [
        "\n",
        "Opening file: ../../../Measurements/BreakTest_SteelBeam/results/2-0.2/collect_148.bin\n",
        "Closed file: ../../../Measurements/BreakTest_SteelBeam/results/2-0.2/collect_148.bin\n",
        "Opening file: ../../../Measurements/BreakTest_SteelBeam/results/2-0.2/collect_149.bin\n",
        "Closed file: ../../../Measurements/BreakTest_SteelBeam/results/2-0.2/collect_149.bin"
       ]
      },
      {
       "output_type": "stream",
       "stream": "stdout",
       "text": [
        "\n",
        "Opening file: ../../../Measurements/BreakTest_SteelBeam/results/2-0.2/collect_150.bin\n",
        "Closed file: ../../../Measurements/BreakTest_SteelBeam/results/2-0.2/collect_150.bin\n",
        "Opening file: ../../../Measurements/BreakTest_SteelBeam/results/2-0.2/collect_151.bin\n",
        "Closed file: ../../../Measurements/BreakTest_SteelBeam/results/2-0.2/collect_151.bin"
       ]
      },
      {
       "output_type": "stream",
       "stream": "stdout",
       "text": [
        "\n",
        "Opening file: ../../../Measurements/BreakTest_SteelBeam/results/2-0.2/collect_152.bin\n",
        "Closed file: ../../../Measurements/BreakTest_SteelBeam/results/2-0.2/collect_152.bin\n",
        "Opening file: ../../../Measurements/BreakTest_SteelBeam/results/2-0.2/collect_153.bin\n",
        "Closed file: ../../../Measurements/BreakTest_SteelBeam/results/2-0.2/collect_153.bin"
       ]
      },
      {
       "output_type": "stream",
       "stream": "stdout",
       "text": [
        "\n",
        "Opening file: ../../../Measurements/BreakTest_SteelBeam/results/2-0.2/collect_154.bin\n",
        "Closed file: ../../../Measurements/BreakTest_SteelBeam/results/2-0.2/collect_154.bin\n",
        "Opening file: ../../../Measurements/BreakTest_SteelBeam/results/2-0.2/collect_155.bin\n",
        "Closed file: ../../../Measurements/BreakTest_SteelBeam/results/2-0.2/collect_155.bin"
       ]
      },
      {
       "output_type": "stream",
       "stream": "stdout",
       "text": [
        "\n",
        "Opening file: ../../../Measurements/BreakTest_SteelBeam/results/2-0.2/collect_156.bin\n",
        "Closed file: ../../../Measurements/BreakTest_SteelBeam/results/2-0.2/collect_156.bin\n",
        "Opening file: ../../../Measurements/BreakTest_SteelBeam/results/2-0.2/collect_157.bin\n",
        "Closed file: ../../../Measurements/BreakTest_SteelBeam/results/2-0.2/collect_157.bin\n",
        "Opening file: ../../../Measurements/BreakTest_SteelBeam/results/2-0.2/collect_158.bin"
       ]
      },
      {
       "output_type": "stream",
       "stream": "stdout",
       "text": [
        "\n",
        "Closed file: ../../../Measurements/BreakTest_SteelBeam/results/2-0.2/collect_158.bin\n",
        "Opening file: ../../../Measurements/BreakTest_SteelBeam/results/2-0.2/collect_159.bin\n",
        "Closed file: ../../../Measurements/BreakTest_SteelBeam/results/2-0.2/collect_159.bin"
       ]
      },
      {
       "output_type": "stream",
       "stream": "stdout",
       "text": [
        "\n",
        "Opening file: ../../../Measurements/BreakTest_SteelBeam/results/2-0.2/collect_160.bin\n",
        "Closed file: ../../../Measurements/BreakTest_SteelBeam/results/2-0.2/collect_160.bin\n",
        "Opening file: ../../../Measurements/BreakTest_SteelBeam/results/2-0.2/collect_161.bin\n",
        "Closed file: ../../../Measurements/BreakTest_SteelBeam/results/2-0.2/collect_161.bin"
       ]
      },
      {
       "output_type": "stream",
       "stream": "stdout",
       "text": [
        "\n",
        "Opening file: ../../../Measurements/BreakTest_SteelBeam/results/2-0.2/collect_162.bin\n",
        "Closed file: ../../../Measurements/BreakTest_SteelBeam/results/2-0.2/collect_162.bin\n",
        "Opening file: ../../../Measurements/BreakTest_SteelBeam/results/2-0.2/collect_163.bin\n",
        "Closed file: ../../../Measurements/BreakTest_SteelBeam/results/2-0.2/collect_163.bin"
       ]
      },
      {
       "output_type": "stream",
       "stream": "stdout",
       "text": [
        "\n",
        "Opening file: ../../../Measurements/BreakTest_SteelBeam/results/2-0.2/collect_164.bin\n",
        "Closed file: ../../../Measurements/BreakTest_SteelBeam/results/2-0.2/collect_164.bin\n",
        "Opening file: ../../../Measurements/BreakTest_SteelBeam/results/2-0.2/collect_165.bin\n",
        "Closed file: ../../../Measurements/BreakTest_SteelBeam/results/2-0.2/collect_165.bin"
       ]
      },
      {
       "output_type": "stream",
       "stream": "stdout",
       "text": [
        "\n",
        "Opening file: ../../../Measurements/BreakTest_SteelBeam/results/2-0.2/collect_166.bin\n",
        "Closed file: ../../../Measurements/BreakTest_SteelBeam/results/2-0.2/collect_166.bin\n",
        "Opening file: ../../../Measurements/BreakTest_SteelBeam/results/2-0.2/collect_167.bin\n",
        "Closed file: ../../../Measurements/BreakTest_SteelBeam/results/2-0.2/collect_167.bin\n",
        "Opening file: ../../../Measurements/BreakTest_SteelBeam/results/2-0.2/collect_168.bin\n",
        "Closed file: ../../../Measurements/BreakTest_SteelBeam/results/2-0.2/collect_168.bin"
       ]
      },
      {
       "output_type": "stream",
       "stream": "stdout",
       "text": [
        "\n",
        "Opening file: ../../../Measurements/BreakTest_SteelBeam/results/2-0.2/collect_169.bin\n",
        "Closed file: ../../../Measurements/BreakTest_SteelBeam/results/2-0.2/collect_169.bin\n",
        "Opening file: ../../../Measurements/BreakTest_SteelBeam/results/2-0.2/collect_170.bin\n",
        "Closed file: ../../../Measurements/BreakTest_SteelBeam/results/2-0.2/collect_170.bin\n",
        "Opening file: ../../../Measurements/BreakTest_SteelBeam/results/2-0.2/collect_171.bin\n",
        "Closed file: ../../../Measurements/BreakTest_SteelBeam/results/2-0.2/collect_171.bin\n",
        "Opening file: ../../../Measurements/BreakTest_SteelBeam/results/2-0.2/collect_172.bin"
       ]
      },
      {
       "output_type": "stream",
       "stream": "stdout",
       "text": [
        "\n",
        "Closed file: ../../../Measurements/BreakTest_SteelBeam/results/2-0.2/collect_172.bin\n",
        "Opening file: ../../../Measurements/BreakTest_SteelBeam/results/2-0.2/collect_173.bin\n",
        "Closed file: ../../../Measurements/BreakTest_SteelBeam/results/2-0.2/collect_173.bin\n",
        "Opening file: ../../../Measurements/BreakTest_SteelBeam/results/2-0.2/collect_174.bin\n",
        "Closed file: ../../../Measurements/BreakTest_SteelBeam/results/2-0.2/collect_174.bin\n",
        "Opening file: ../../../Measurements/BreakTest_SteelBeam/results/2-0.2/collect_175.bin\n",
        "Closed file: ../../../Measurements/BreakTest_SteelBeam/results/2-0.2/collect_175.bin"
       ]
      },
      {
       "output_type": "stream",
       "stream": "stdout",
       "text": [
        "\n",
        "Opening file: ../../../Measurements/BreakTest_SteelBeam/results/2-0.2/collect_176.bin\n",
        "Closed file: ../../../Measurements/BreakTest_SteelBeam/results/2-0.2/collect_176.bin\n",
        "Opening file: ../../../Measurements/BreakTest_SteelBeam/results/2-0.2/collect_177.bin\n",
        "Closed file: ../../../Measurements/BreakTest_SteelBeam/results/2-0.2/collect_177.bin\n",
        "Opening file: ../../../Measurements/BreakTest_SteelBeam/results/2-0.2/collect_178.bin\n",
        "Closed file: ../../../Measurements/BreakTest_SteelBeam/results/2-0.2/collect_178.bin\n",
        "Opening file: ../../../Measurements/BreakTest_SteelBeam/results/2-0.2/collect_179.bin"
       ]
      },
      {
       "output_type": "stream",
       "stream": "stdout",
       "text": [
        "\n",
        "Closed file: ../../../Measurements/BreakTest_SteelBeam/results/2-0.2/collect_179.bin\n",
        "Opening file: ../../../Measurements/BreakTest_SteelBeam/results/2-0.2/collect_180.bin\n",
        "Closed file: ../../../Measurements/BreakTest_SteelBeam/results/2-0.2/collect_180.bin\n",
        "Opening file: ../../../Measurements/BreakTest_SteelBeam/results/2-0.2/collect_181.bin\n",
        "Closed file: ../../../Measurements/BreakTest_SteelBeam/results/2-0.2/collect_181.bin\n",
        "Opening file: ../../../Measurements/BreakTest_SteelBeam/results/2-0.2/collect_182.bin\n",
        "Closed file: ../../../Measurements/BreakTest_SteelBeam/results/2-0.2/collect_182.bin"
       ]
      },
      {
       "output_type": "stream",
       "stream": "stdout",
       "text": [
        "\n",
        "Opening file: ../../../Measurements/BreakTest_SteelBeam/results/2-0.2/collect_183.bin\n",
        "Closed file: ../../../Measurements/BreakTest_SteelBeam/results/2-0.2/collect_183.bin\n",
        "Opening file: ../../../Measurements/BreakTest_SteelBeam/results/2-0.2/collect_184.bin\n",
        "Closed file: ../../../Measurements/BreakTest_SteelBeam/results/2-0.2/collect_184.bin\n",
        "Opening file: ../../../Measurements/BreakTest_SteelBeam/results/2-0.2/collect_185.bin\n",
        "Closed file: ../../../Measurements/BreakTest_SteelBeam/results/2-0.2/collect_185.bin\n",
        "Opening file: ../../../Measurements/BreakTest_SteelBeam/results/2-0.2/collect_186.bin"
       ]
      },
      {
       "output_type": "stream",
       "stream": "stdout",
       "text": [
        "\n",
        "Closed file: ../../../Measurements/BreakTest_SteelBeam/results/2-0.2/collect_186.bin\n",
        "Opening file: ../../../Measurements/BreakTest_SteelBeam/results/2-0.2/collect_187.bin\n",
        "Closed file: ../../../Measurements/BreakTest_SteelBeam/results/2-0.2/collect_187.bin\n",
        "Opening file: ../../../Measurements/BreakTest_SteelBeam/results/2-0.2/collect_188.bin\n",
        "Closed file: ../../../Measurements/BreakTest_SteelBeam/results/2-0.2/collect_188.bin\n",
        "Opening file: ../../../Measurements/BreakTest_SteelBeam/results/2-0.2/collect_189.bin\n",
        "Closed file: ../../../Measurements/BreakTest_SteelBeam/results/2-0.2/collect_189.bin"
       ]
      },
      {
       "output_type": "stream",
       "stream": "stdout",
       "text": [
        "\n",
        "Opening file: ../../../Measurements/BreakTest_SteelBeam/results/2-0.2/collect_190.bin\n",
        "Closed file: ../../../Measurements/BreakTest_SteelBeam/results/2-0.2/collect_190.bin\n",
        "Opening file: ../../../Measurements/BreakTest_SteelBeam/results/2-0.2/collect_191.bin\n",
        "Closed file: ../../../Measurements/BreakTest_SteelBeam/results/2-0.2/collect_191.bin\n",
        "Opening file: ../../../Measurements/BreakTest_SteelBeam/results/2-0.2/collect_192.bin\n",
        "Closed file: ../../../Measurements/BreakTest_SteelBeam/results/2-0.2/collect_192.bin\n",
        "Opening file: ../../../Measurements/BreakTest_SteelBeam/results/2-0.2/collect_193.bin"
       ]
      },
      {
       "output_type": "stream",
       "stream": "stdout",
       "text": [
        "\n",
        "Closed file: ../../../Measurements/BreakTest_SteelBeam/results/2-0.2/collect_193.bin\n",
        "Opening file: ../../../Measurements/BreakTest_SteelBeam/results/2-0.2/collect_194.bin\n",
        "Closed file: ../../../Measurements/BreakTest_SteelBeam/results/2-0.2/collect_194.bin\n"
       ]
      }
     ],
     "prompt_number": 1
    },
    {
     "cell_type": "code",
     "collapsed": false,
     "input": [
      "import numpy as np\n",
      "\n",
      "def removeDC(ys):\n",
      "    for ii in xrange(len(ys)):\n",
      "        ys[ii] -= np.mean(ys[ii])\n",
      "    return ys\n",
      "\n",
      "def trimlength(ys):\n",
      "    for ii in xrange(len(ys)):\n",
      "        ys[ii] = ys[ii][:1000]\n",
      "    return ys"
     ],
     "language": "python",
     "metadata": {},
     "outputs": [],
     "prompt_number": 2
    },
    {
     "cell_type": "code",
     "collapsed": false,
     "input": [
      "y = trimlength(removeDC(y))\n",
      "y2 = trimlength(removeDC(y2))"
     ],
     "language": "python",
     "metadata": {},
     "outputs": [],
     "prompt_number": 3
    },
    {
     "cell_type": "heading",
     "level": 2,
     "metadata": {},
     "source": [
      "Time Difference of Arrival (TDOA)"
     ]
    },
    {
     "cell_type": "markdown",
     "metadata": {},
     "source": [
      "Theoretical value of TD."
     ]
    },
    {
     "cell_type": "code",
     "collapsed": false,
     "input": [
      "sensor1_pos = -(10*3 + 1) *0.0254 #[m] crack is at 0\n",
      "sensor2_pos = (20*3 + 1) *0.0254 #[m] crack is at 0\n",
      "\n",
      "v = 3286.59 #m/s - sound speed in steel\n",
      "\n",
      "dist_diff = sensor1_pos + sensor2_pos #m - distance difference of sensors\n",
      "max_dist_diff = (np.abs(sensor1_pos) + np.abs(sensor2_pos)) #m - distance difference of sensors \n",
      "\n",
      "TD = dist_diff/v #s - theoretical TD\n",
      "print 'Theoretical time difference: %.2f us' % (TD*1e6)"
     ],
     "language": "python",
     "metadata": {},
     "outputs": [
      {
       "output_type": "stream",
       "stream": "stdout",
       "text": [
        "Theoretical time difference: 231.85 us\n"
       ]
      }
     ],
     "prompt_number": 4
    },
    {
     "cell_type": "heading",
     "level": 3,
     "metadata": {},
     "source": [
      "Reciprocal method onset time picker"
     ]
    },
    {
     "cell_type": "markdown",
     "metadata": {},
     "source": [
      "Calculate TDOA using the reciprocal method as onset picker."
     ]
    },
    {
     "cell_type": "code",
     "collapsed": false,
     "input": [
      "from helperfuncs.CalculateTDOA import CalculateTDOA\n",
      "from helperfuncs.Onset_AIC import Onset_AIC\n",
      "\n",
      "AE_start, AE_start2, TD_meas, qty1, qty2 = CalculateTDOA(y, y2, T, Onset_AIC)\n",
      "qty_min = np.minimum(qty1, qty2)\n",
      "qty_max = np.maximum(qty1, qty2)"
     ],
     "language": "python",
     "metadata": {},
     "outputs": [
      {
       "output_type": "stream",
       "stream": "stdout",
       "text": [
        "0.00%\n",
        "0.51%"
       ]
      },
      {
       "output_type": "stream",
       "stream": "stdout",
       "text": [
        "\n",
        "1.03%"
       ]
      },
      {
       "output_type": "stream",
       "stream": "stdout",
       "text": [
        "\n",
        "1.54%"
       ]
      },
      {
       "output_type": "stream",
       "stream": "stdout",
       "text": [
        "\n",
        "2.05%"
       ]
      },
      {
       "output_type": "stream",
       "stream": "stdout",
       "text": [
        "\n",
        "2.56%"
       ]
      },
      {
       "output_type": "stream",
       "stream": "stdout",
       "text": [
        "\n",
        "3.08%"
       ]
      },
      {
       "output_type": "stream",
       "stream": "stdout",
       "text": [
        "\n",
        "3.59%"
       ]
      },
      {
       "output_type": "stream",
       "stream": "stdout",
       "text": [
        "\n",
        "4.10%"
       ]
      },
      {
       "output_type": "stream",
       "stream": "stdout",
       "text": [
        "\n",
        "4.62%"
       ]
      },
      {
       "output_type": "stream",
       "stream": "stdout",
       "text": [
        "\n",
        "5.13%"
       ]
      },
      {
       "output_type": "stream",
       "stream": "stdout",
       "text": [
        "\n",
        "5.64%"
       ]
      },
      {
       "output_type": "stream",
       "stream": "stdout",
       "text": [
        "\n",
        "6.15%"
       ]
      },
      {
       "output_type": "stream",
       "stream": "stdout",
       "text": [
        "\n",
        "6.67%"
       ]
      },
      {
       "output_type": "stream",
       "stream": "stdout",
       "text": [
        "\n",
        "7.18%"
       ]
      },
      {
       "output_type": "stream",
       "stream": "stdout",
       "text": [
        "\n",
        "7.69%"
       ]
      },
      {
       "output_type": "stream",
       "stream": "stdout",
       "text": [
        "\n",
        "8.21%"
       ]
      },
      {
       "output_type": "stream",
       "stream": "stdout",
       "text": [
        "\n",
        "8.72%"
       ]
      },
      {
       "output_type": "stream",
       "stream": "stdout",
       "text": [
        "\n",
        "9.23%"
       ]
      },
      {
       "output_type": "stream",
       "stream": "stdout",
       "text": [
        "\n",
        "9.74%"
       ]
      },
      {
       "output_type": "stream",
       "stream": "stdout",
       "text": [
        "\n",
        "10.26%"
       ]
      },
      {
       "output_type": "stream",
       "stream": "stdout",
       "text": [
        "\n",
        "10.77%"
       ]
      },
      {
       "output_type": "stream",
       "stream": "stdout",
       "text": [
        "\n",
        "11.28%"
       ]
      },
      {
       "output_type": "stream",
       "stream": "stdout",
       "text": [
        "\n",
        "11.79%"
       ]
      },
      {
       "output_type": "stream",
       "stream": "stdout",
       "text": [
        "\n",
        "12.31%"
       ]
      },
      {
       "output_type": "stream",
       "stream": "stdout",
       "text": [
        "\n",
        "12.82%"
       ]
      },
      {
       "output_type": "stream",
       "stream": "stdout",
       "text": [
        "\n",
        "13.33%"
       ]
      },
      {
       "output_type": "stream",
       "stream": "stdout",
       "text": [
        "\n",
        "13.85%"
       ]
      },
      {
       "output_type": "stream",
       "stream": "stdout",
       "text": [
        "\n",
        "14.36%"
       ]
      },
      {
       "output_type": "stream",
       "stream": "stdout",
       "text": [
        "\n",
        "14.87%"
       ]
      },
      {
       "output_type": "stream",
       "stream": "stdout",
       "text": [
        "\n",
        "15.38%"
       ]
      },
      {
       "output_type": "stream",
       "stream": "stdout",
       "text": [
        "\n",
        "15.90%"
       ]
      },
      {
       "output_type": "stream",
       "stream": "stdout",
       "text": [
        "\n",
        "16.41%"
       ]
      },
      {
       "output_type": "stream",
       "stream": "stdout",
       "text": [
        "\n",
        "16.92%"
       ]
      },
      {
       "output_type": "stream",
       "stream": "stdout",
       "text": [
        "\n",
        "17.44%"
       ]
      },
      {
       "output_type": "stream",
       "stream": "stdout",
       "text": [
        "\n",
        "17.95%"
       ]
      },
      {
       "output_type": "stream",
       "stream": "stdout",
       "text": [
        "\n",
        "18.46%"
       ]
      },
      {
       "output_type": "stream",
       "stream": "stdout",
       "text": [
        "\n",
        "18.97%"
       ]
      },
      {
       "output_type": "stream",
       "stream": "stdout",
       "text": [
        "\n",
        "19.49%"
       ]
      },
      {
       "output_type": "stream",
       "stream": "stdout",
       "text": [
        "\n",
        "20.00%"
       ]
      },
      {
       "output_type": "stream",
       "stream": "stdout",
       "text": [
        "\n",
        "20.51%"
       ]
      },
      {
       "output_type": "stream",
       "stream": "stdout",
       "text": [
        "\n",
        "21.03%"
       ]
      },
      {
       "output_type": "stream",
       "stream": "stdout",
       "text": [
        "\n",
        "21.54%"
       ]
      },
      {
       "output_type": "stream",
       "stream": "stdout",
       "text": [
        "\n",
        "22.05%"
       ]
      },
      {
       "output_type": "stream",
       "stream": "stdout",
       "text": [
        "\n",
        "22.56%"
       ]
      },
      {
       "output_type": "stream",
       "stream": "stdout",
       "text": [
        "\n",
        "23.08%"
       ]
      },
      {
       "output_type": "stream",
       "stream": "stdout",
       "text": [
        "\n",
        "23.59%"
       ]
      },
      {
       "output_type": "stream",
       "stream": "stdout",
       "text": [
        "\n",
        "24.10%"
       ]
      },
      {
       "output_type": "stream",
       "stream": "stdout",
       "text": [
        "\n",
        "24.62%"
       ]
      },
      {
       "output_type": "stream",
       "stream": "stdout",
       "text": [
        "\n",
        "25.13%"
       ]
      },
      {
       "output_type": "stream",
       "stream": "stdout",
       "text": [
        "\n",
        "25.64%"
       ]
      },
      {
       "output_type": "stream",
       "stream": "stdout",
       "text": [
        "\n",
        "26.15%"
       ]
      },
      {
       "output_type": "stream",
       "stream": "stdout",
       "text": [
        "\n",
        "26.67%"
       ]
      },
      {
       "output_type": "stream",
       "stream": "stdout",
       "text": [
        "\n",
        "27.18%"
       ]
      },
      {
       "output_type": "stream",
       "stream": "stdout",
       "text": [
        "\n",
        "27.69%"
       ]
      },
      {
       "output_type": "stream",
       "stream": "stdout",
       "text": [
        "\n",
        "28.21%"
       ]
      },
      {
       "output_type": "stream",
       "stream": "stdout",
       "text": [
        "\n",
        "28.72%"
       ]
      },
      {
       "output_type": "stream",
       "stream": "stdout",
       "text": [
        "\n",
        "29.23%"
       ]
      },
      {
       "output_type": "stream",
       "stream": "stdout",
       "text": [
        "\n",
        "29.74%"
       ]
      },
      {
       "output_type": "stream",
       "stream": "stdout",
       "text": [
        "\n",
        "30.26%"
       ]
      },
      {
       "output_type": "stream",
       "stream": "stdout",
       "text": [
        "\n",
        "30.77%"
       ]
      },
      {
       "output_type": "stream",
       "stream": "stdout",
       "text": [
        "\n",
        "31.28%"
       ]
      },
      {
       "output_type": "stream",
       "stream": "stdout",
       "text": [
        "\n",
        "31.79%"
       ]
      },
      {
       "output_type": "stream",
       "stream": "stdout",
       "text": [
        "\n",
        "32.31%"
       ]
      },
      {
       "output_type": "stream",
       "stream": "stdout",
       "text": [
        "\n",
        "32.82%"
       ]
      },
      {
       "output_type": "stream",
       "stream": "stdout",
       "text": [
        "\n",
        "33.33%"
       ]
      },
      {
       "output_type": "stream",
       "stream": "stdout",
       "text": [
        "\n",
        "33.85%"
       ]
      },
      {
       "output_type": "stream",
       "stream": "stdout",
       "text": [
        "\n",
        "34.36%"
       ]
      },
      {
       "output_type": "stream",
       "stream": "stdout",
       "text": [
        "\n",
        "34.87%"
       ]
      },
      {
       "output_type": "stream",
       "stream": "stdout",
       "text": [
        "\n",
        "35.38%"
       ]
      },
      {
       "output_type": "stream",
       "stream": "stdout",
       "text": [
        "\n",
        "35.90%"
       ]
      },
      {
       "output_type": "stream",
       "stream": "stdout",
       "text": [
        "\n",
        "36.41%"
       ]
      },
      {
       "output_type": "stream",
       "stream": "stdout",
       "text": [
        "\n",
        "36.92%"
       ]
      },
      {
       "output_type": "stream",
       "stream": "stdout",
       "text": [
        "\n",
        "37.44%"
       ]
      },
      {
       "output_type": "stream",
       "stream": "stdout",
       "text": [
        "\n",
        "37.95%"
       ]
      },
      {
       "output_type": "stream",
       "stream": "stdout",
       "text": [
        "\n",
        "38.46%"
       ]
      },
      {
       "output_type": "stream",
       "stream": "stdout",
       "text": [
        "\n",
        "38.97%"
       ]
      },
      {
       "output_type": "stream",
       "stream": "stdout",
       "text": [
        "\n",
        "39.49%"
       ]
      },
      {
       "output_type": "stream",
       "stream": "stdout",
       "text": [
        "\n",
        "40.00%"
       ]
      },
      {
       "output_type": "stream",
       "stream": "stdout",
       "text": [
        "\n",
        "40.51%"
       ]
      },
      {
       "output_type": "stream",
       "stream": "stdout",
       "text": [
        "\n",
        "41.03%"
       ]
      },
      {
       "output_type": "stream",
       "stream": "stdout",
       "text": [
        "\n",
        "41.54%"
       ]
      },
      {
       "output_type": "stream",
       "stream": "stdout",
       "text": [
        "\n",
        "42.05%"
       ]
      },
      {
       "output_type": "stream",
       "stream": "stdout",
       "text": [
        "\n",
        "42.56%"
       ]
      },
      {
       "output_type": "stream",
       "stream": "stdout",
       "text": [
        "\n",
        "43.08%"
       ]
      },
      {
       "output_type": "stream",
       "stream": "stdout",
       "text": [
        "\n",
        "43.59%"
       ]
      },
      {
       "output_type": "stream",
       "stream": "stdout",
       "text": [
        "\n",
        "44.10%"
       ]
      },
      {
       "output_type": "stream",
       "stream": "stdout",
       "text": [
        "\n",
        "44.62%"
       ]
      },
      {
       "output_type": "stream",
       "stream": "stdout",
       "text": [
        "\n",
        "45.13%"
       ]
      },
      {
       "output_type": "stream",
       "stream": "stdout",
       "text": [
        "\n",
        "45.64%"
       ]
      },
      {
       "output_type": "stream",
       "stream": "stdout",
       "text": [
        "\n",
        "46.15%"
       ]
      },
      {
       "output_type": "stream",
       "stream": "stdout",
       "text": [
        "\n",
        "46.67%"
       ]
      },
      {
       "output_type": "stream",
       "stream": "stdout",
       "text": [
        "\n",
        "47.18%"
       ]
      },
      {
       "output_type": "stream",
       "stream": "stdout",
       "text": [
        "\n",
        "47.69%"
       ]
      },
      {
       "output_type": "stream",
       "stream": "stdout",
       "text": [
        "\n",
        "48.21%"
       ]
      },
      {
       "output_type": "stream",
       "stream": "stdout",
       "text": [
        "\n",
        "48.72%"
       ]
      },
      {
       "output_type": "stream",
       "stream": "stdout",
       "text": [
        "\n",
        "49.23%"
       ]
      },
      {
       "output_type": "stream",
       "stream": "stdout",
       "text": [
        "\n",
        "49.74%"
       ]
      },
      {
       "output_type": "stream",
       "stream": "stdout",
       "text": [
        "\n",
        "50.26%"
       ]
      },
      {
       "output_type": "stream",
       "stream": "stdout",
       "text": [
        "\n",
        "50.77%"
       ]
      },
      {
       "output_type": "stream",
       "stream": "stdout",
       "text": [
        "\n",
        "51.28%"
       ]
      },
      {
       "output_type": "stream",
       "stream": "stdout",
       "text": [
        "\n",
        "51.79%"
       ]
      },
      {
       "output_type": "stream",
       "stream": "stdout",
       "text": [
        "\n",
        "52.31%"
       ]
      },
      {
       "output_type": "stream",
       "stream": "stdout",
       "text": [
        "\n",
        "52.82%"
       ]
      },
      {
       "output_type": "stream",
       "stream": "stdout",
       "text": [
        "\n",
        "53.33%"
       ]
      },
      {
       "output_type": "stream",
       "stream": "stdout",
       "text": [
        "\n",
        "53.85%"
       ]
      },
      {
       "output_type": "stream",
       "stream": "stdout",
       "text": [
        "\n",
        "54.36%"
       ]
      },
      {
       "output_type": "stream",
       "stream": "stdout",
       "text": [
        "\n",
        "54.87%"
       ]
      },
      {
       "output_type": "stream",
       "stream": "stdout",
       "text": [
        "\n",
        "55.38%"
       ]
      },
      {
       "output_type": "stream",
       "stream": "stdout",
       "text": [
        "\n",
        "55.90%"
       ]
      },
      {
       "output_type": "stream",
       "stream": "stdout",
       "text": [
        "\n",
        "56.41%"
       ]
      },
      {
       "output_type": "stream",
       "stream": "stdout",
       "text": [
        "\n",
        "56.92%"
       ]
      },
      {
       "output_type": "stream",
       "stream": "stdout",
       "text": [
        "\n",
        "57.44%"
       ]
      },
      {
       "output_type": "stream",
       "stream": "stdout",
       "text": [
        "\n",
        "57.95%"
       ]
      },
      {
       "output_type": "stream",
       "stream": "stdout",
       "text": [
        "\n",
        "58.46%"
       ]
      },
      {
       "output_type": "stream",
       "stream": "stdout",
       "text": [
        "\n",
        "58.97%"
       ]
      },
      {
       "output_type": "stream",
       "stream": "stdout",
       "text": [
        "\n",
        "59.49%"
       ]
      },
      {
       "output_type": "stream",
       "stream": "stdout",
       "text": [
        "\n",
        "60.00%"
       ]
      },
      {
       "output_type": "stream",
       "stream": "stdout",
       "text": [
        "\n",
        "60.51%"
       ]
      },
      {
       "output_type": "stream",
       "stream": "stdout",
       "text": [
        "\n",
        "61.03%"
       ]
      },
      {
       "output_type": "stream",
       "stream": "stdout",
       "text": [
        "\n",
        "61.54%"
       ]
      },
      {
       "output_type": "stream",
       "stream": "stdout",
       "text": [
        "\n",
        "62.05%"
       ]
      },
      {
       "output_type": "stream",
       "stream": "stdout",
       "text": [
        "\n",
        "62.56%"
       ]
      },
      {
       "output_type": "stream",
       "stream": "stdout",
       "text": [
        "\n",
        "63.08%"
       ]
      },
      {
       "output_type": "stream",
       "stream": "stdout",
       "text": [
        "\n",
        "63.59%"
       ]
      },
      {
       "output_type": "stream",
       "stream": "stdout",
       "text": [
        "\n",
        "64.10%"
       ]
      },
      {
       "output_type": "stream",
       "stream": "stdout",
       "text": [
        "\n",
        "64.62%"
       ]
      },
      {
       "output_type": "stream",
       "stream": "stdout",
       "text": [
        "\n",
        "65.13%"
       ]
      },
      {
       "output_type": "stream",
       "stream": "stdout",
       "text": [
        "\n",
        "65.64%"
       ]
      },
      {
       "output_type": "stream",
       "stream": "stdout",
       "text": [
        "\n",
        "66.15%"
       ]
      },
      {
       "output_type": "stream",
       "stream": "stdout",
       "text": [
        "\n",
        "66.67%"
       ]
      },
      {
       "output_type": "stream",
       "stream": "stdout",
       "text": [
        "\n",
        "67.18%"
       ]
      },
      {
       "output_type": "stream",
       "stream": "stdout",
       "text": [
        "\n",
        "67.69%"
       ]
      },
      {
       "output_type": "stream",
       "stream": "stdout",
       "text": [
        "\n",
        "68.21%"
       ]
      },
      {
       "output_type": "stream",
       "stream": "stdout",
       "text": [
        "\n",
        "68.72%"
       ]
      },
      {
       "output_type": "stream",
       "stream": "stdout",
       "text": [
        "\n",
        "69.23%"
       ]
      },
      {
       "output_type": "stream",
       "stream": "stdout",
       "text": [
        "\n",
        "69.74%"
       ]
      },
      {
       "output_type": "stream",
       "stream": "stdout",
       "text": [
        "\n",
        "70.26%"
       ]
      },
      {
       "output_type": "stream",
       "stream": "stdout",
       "text": [
        "\n",
        "70.77%"
       ]
      },
      {
       "output_type": "stream",
       "stream": "stdout",
       "text": [
        "\n",
        "71.28%"
       ]
      },
      {
       "output_type": "stream",
       "stream": "stdout",
       "text": [
        "\n",
        "71.79%"
       ]
      },
      {
       "output_type": "stream",
       "stream": "stdout",
       "text": [
        "\n",
        "72.31%"
       ]
      },
      {
       "output_type": "stream",
       "stream": "stdout",
       "text": [
        "\n",
        "72.82%"
       ]
      },
      {
       "output_type": "stream",
       "stream": "stdout",
       "text": [
        "\n",
        "73.33%"
       ]
      },
      {
       "output_type": "stream",
       "stream": "stdout",
       "text": [
        "\n",
        "73.85%"
       ]
      },
      {
       "output_type": "stream",
       "stream": "stdout",
       "text": [
        "\n",
        "74.36%"
       ]
      },
      {
       "output_type": "stream",
       "stream": "stdout",
       "text": [
        "\n",
        "74.87%"
       ]
      },
      {
       "output_type": "stream",
       "stream": "stdout",
       "text": [
        "\n",
        "75.38%"
       ]
      },
      {
       "output_type": "stream",
       "stream": "stdout",
       "text": [
        "\n",
        "75.90%"
       ]
      },
      {
       "output_type": "stream",
       "stream": "stdout",
       "text": [
        "\n",
        "76.41%"
       ]
      },
      {
       "output_type": "stream",
       "stream": "stdout",
       "text": [
        "\n",
        "76.92%"
       ]
      },
      {
       "output_type": "stream",
       "stream": "stdout",
       "text": [
        "\n",
        "77.44%"
       ]
      },
      {
       "output_type": "stream",
       "stream": "stdout",
       "text": [
        "\n",
        "77.95%"
       ]
      },
      {
       "output_type": "stream",
       "stream": "stdout",
       "text": [
        "\n",
        "78.46%"
       ]
      },
      {
       "output_type": "stream",
       "stream": "stdout",
       "text": [
        "\n",
        "78.97%"
       ]
      },
      {
       "output_type": "stream",
       "stream": "stdout",
       "text": [
        "\n",
        "79.49%"
       ]
      },
      {
       "output_type": "stream",
       "stream": "stdout",
       "text": [
        "\n",
        "80.00%"
       ]
      },
      {
       "output_type": "stream",
       "stream": "stdout",
       "text": [
        "\n",
        "80.51%"
       ]
      },
      {
       "output_type": "stream",
       "stream": "stdout",
       "text": [
        "\n",
        "81.03%"
       ]
      },
      {
       "output_type": "stream",
       "stream": "stdout",
       "text": [
        "\n",
        "81.54%"
       ]
      },
      {
       "output_type": "stream",
       "stream": "stdout",
       "text": [
        "\n",
        "82.05%"
       ]
      },
      {
       "output_type": "stream",
       "stream": "stdout",
       "text": [
        "\n",
        "82.56%"
       ]
      },
      {
       "output_type": "stream",
       "stream": "stdout",
       "text": [
        "\n",
        "83.08%"
       ]
      },
      {
       "output_type": "stream",
       "stream": "stdout",
       "text": [
        "\n",
        "83.59%"
       ]
      },
      {
       "output_type": "stream",
       "stream": "stdout",
       "text": [
        "\n",
        "84.10%"
       ]
      },
      {
       "output_type": "stream",
       "stream": "stdout",
       "text": [
        "\n",
        "84.62%"
       ]
      },
      {
       "output_type": "stream",
       "stream": "stdout",
       "text": [
        "\n",
        "85.13%"
       ]
      },
      {
       "output_type": "stream",
       "stream": "stdout",
       "text": [
        "\n",
        "85.64%"
       ]
      },
      {
       "output_type": "stream",
       "stream": "stdout",
       "text": [
        "\n",
        "86.15%"
       ]
      },
      {
       "output_type": "stream",
       "stream": "stdout",
       "text": [
        "\n",
        "86.67%"
       ]
      },
      {
       "output_type": "stream",
       "stream": "stdout",
       "text": [
        "\n",
        "87.18%"
       ]
      },
      {
       "output_type": "stream",
       "stream": "stdout",
       "text": [
        "\n",
        "87.69%"
       ]
      },
      {
       "output_type": "stream",
       "stream": "stdout",
       "text": [
        "\n",
        "88.21%"
       ]
      },
      {
       "output_type": "stream",
       "stream": "stdout",
       "text": [
        "\n",
        "88.72%"
       ]
      },
      {
       "output_type": "stream",
       "stream": "stdout",
       "text": [
        "\n",
        "89.23%"
       ]
      },
      {
       "output_type": "stream",
       "stream": "stdout",
       "text": [
        "\n",
        "89.74%"
       ]
      },
      {
       "output_type": "stream",
       "stream": "stdout",
       "text": [
        "\n",
        "90.26%"
       ]
      },
      {
       "output_type": "stream",
       "stream": "stdout",
       "text": [
        "\n",
        "90.77%"
       ]
      },
      {
       "output_type": "stream",
       "stream": "stdout",
       "text": [
        "\n",
        "91.28%"
       ]
      },
      {
       "output_type": "stream",
       "stream": "stdout",
       "text": [
        "\n",
        "91.79%"
       ]
      },
      {
       "output_type": "stream",
       "stream": "stdout",
       "text": [
        "\n",
        "92.31%"
       ]
      },
      {
       "output_type": "stream",
       "stream": "stdout",
       "text": [
        "\n",
        "92.82%"
       ]
      },
      {
       "output_type": "stream",
       "stream": "stdout",
       "text": [
        "\n",
        "93.33%"
       ]
      },
      {
       "output_type": "stream",
       "stream": "stdout",
       "text": [
        "\n",
        "93.85%"
       ]
      },
      {
       "output_type": "stream",
       "stream": "stdout",
       "text": [
        "\n",
        "94.36%"
       ]
      },
      {
       "output_type": "stream",
       "stream": "stdout",
       "text": [
        "\n",
        "94.87%"
       ]
      },
      {
       "output_type": "stream",
       "stream": "stdout",
       "text": [
        "\n",
        "95.38%"
       ]
      },
      {
       "output_type": "stream",
       "stream": "stdout",
       "text": [
        "\n",
        "95.90%"
       ]
      },
      {
       "output_type": "stream",
       "stream": "stdout",
       "text": [
        "\n",
        "96.41%"
       ]
      },
      {
       "output_type": "stream",
       "stream": "stdout",
       "text": [
        "\n",
        "96.92%"
       ]
      },
      {
       "output_type": "stream",
       "stream": "stdout",
       "text": [
        "\n",
        "97.44%"
       ]
      },
      {
       "output_type": "stream",
       "stream": "stdout",
       "text": [
        "\n",
        "97.95%"
       ]
      },
      {
       "output_type": "stream",
       "stream": "stdout",
       "text": [
        "\n",
        "98.46%"
       ]
      },
      {
       "output_type": "stream",
       "stream": "stdout",
       "text": [
        "\n",
        "98.97%"
       ]
      },
      {
       "output_type": "stream",
       "stream": "stdout",
       "text": [
        "\n",
        "99.49%"
       ]
      },
      {
       "output_type": "stream",
       "stream": "stdout",
       "text": [
        "\n"
       ]
      }
     ],
     "prompt_number": 5
    },
    {
     "cell_type": "heading",
     "level": 2,
     "metadata": {},
     "source": [
      "Time history"
     ]
    },
    {
     "cell_type": "code",
     "collapsed": false,
     "input": [
      "print 'From %.2f to %.2f, altogether %.2f sec.' % (start_time[0], start_time[-1], start_time[-1]-start_time[0])"
     ],
     "language": "python",
     "metadata": {},
     "outputs": [
      {
       "output_type": "stream",
       "stream": "stdout",
       "text": [
        "From 2974.52 to 3565.83, altogether 591.31 sec.\n"
       ]
      }
     ],
     "prompt_number": 6
    },
    {
     "cell_type": "code",
     "collapsed": false,
     "input": [
      "from helperfuncs.PlotHistory import PlotHistory\n",
      "\n",
      "end_time_scale = start_time[-1]-start_time[0]\n",
      "\n",
      "PlotHistory(qty_min, 0, qty_max, TD_meas, -1, 1, start_time, 0, end_time_scale, title=\"Measurements\\nmin and max quality idx\")\n",
      "PlotHistory(qty2, 0, qty1, TD_meas, -1, 1, start_time, 0, end_time_scale, title=\"Measurements\\nchannel 1 and 2 quality idx\")"
     ],
     "language": "python",
     "metadata": {},
     "outputs": [
      {
       "output_type": "display_data",
       "png": "[encoded data removed]"
      },
      {
       "output_type": "display_data",
       "png": "[encoded data removed]"
      }
     ],
     "prompt_number": 7
    },
    {
     "cell_type": "code",
     "collapsed": false,
     "input": [
      "from helperfuncs.PlotHistory import PlotHistory\n",
      "\n",
      "PlotHistory(qty_min, 0, qty_max, TD_meas, -1, 1, start_time, 0, end_time_scale, title=\"Measurements\\nmin and max quality idx\")\n",
      "PlotHistory(qty_min, 0, qty_max, TD_meas, -0.14e-3, -0.06e-3, start_time, 0, end_time_scale, title=\"Measurements\\nmin and max quality idx for -0.14<TD<-0.06\")\n",
      "#PlotHistory(qty_min, 0, qty_max, TD_meas, 0.06e-3, 0.14e-3, start_time, 0, end_time_scale, title=\"Measurements\\nmin and max quality idx for 0.06<TD<0.14\")"
     ],
     "language": "python",
     "metadata": {},
     "outputs": [
      {
       "output_type": "display_data",
       "png": "[encoded data removed]"
      },
      {
       "output_type": "display_data",
       "png": "[encoded data removed]"
      }
     ],
     "prompt_number": 8
    },
    {
     "cell_type": "heading",
     "level": 2,
     "metadata": {},
     "source": [
      "GMM model estimate with EM"
     ]
    },
    {
     "cell_type": "heading",
     "level": 3,
     "metadata": {},
     "source": [
      "1D: TD"
     ]
    },
    {
     "cell_type": "code",
     "collapsed": false,
     "input": [
      "from helperfuncs.PlotTDHist import PlotTDHist\n",
      "\n",
      "PlotTDHist(TD_meas*1e3)"
     ],
     "language": "python",
     "metadata": {},
     "outputs": [
      {
       "output_type": "display_data",
       "png": "[encoded data removed]"
      }
     ],
     "prompt_number": 9
    },
    {
     "cell_type": "code",
     "collapsed": false,
     "input": [
      "from helperfuncs.GMM_estimate_EM import GMM_estimate_EM\n",
      "import numpy as np\n",
      "\n",
      "alpha_1, mu_1, sigma_1 = GMM_estimate_EM(TD_meas*1e3, alpha = np.array([1.0, 1.0]), mu = np.array([-0.14, 0.1]), sigma = np.array([[[0.005, 0.5]]]))\n",
      "mu_1 = mu_1.flatten()\n",
      "sigma_1 = np.sqrt(sigma_1.flatten())"
     ],
     "language": "python",
     "metadata": {},
     "outputs": [
      {
       "output_type": "stream",
       "stream": "stdout",
       "text": [
        "Iterations left: 10\n",
        "alpha: "
       ]
      },
      {
       "output_type": "stream",
       "stream": "stdout",
       "text": [
        "\n",
        "[ 0.1482136  0.8517864]\n",
        "mu: \n",
        "[[-0.1540933 ]\n",
        " [-0.06949968]]\n",
        "sigma: \n",
        "[[[ 0.00779302  0.26837355]]]\n",
        "Likelihood: -146.34\n",
        "change: 58.76%\n",
        "Iterations left: 10"
       ]
      },
      {
       "output_type": "stream",
       "stream": "stdout",
       "text": [
        "\n",
        "alpha: "
       ]
      },
      {
       "output_type": "stream",
       "stream": "stdout",
       "text": [
        "\n",
        "[ 0.07718358  0.92281642]\n",
        "mu: \n",
        "[[-0.16271569]\n",
        " [-0.07528976]]\n",
        "sigma: \n",
        "[[[ 0.00755356  0.24872551]]]\n",
        "Likelihood: -138.99\n",
        "change: 5.29%\n",
        "Iterations left: 10"
       ]
      },
      {
       "output_type": "stream",
       "stream": "stdout",
       "text": [
        "\n",
        "alpha: "
       ]
      },
      {
       "output_type": "stream",
       "stream": "stdout",
       "text": [
        "\n",
        "[ 0.04672977  0.95327023]\n",
        "mu: \n",
        "[[-0.16750782]\n",
        " [-0.07784782]]\n",
        "sigma: \n",
        "[[[ 0.00635707  0.24127496]]]\n",
        "Likelihood: -136.44\n",
        "change: 1.87%\n",
        "Iterations left: 10"
       ]
      },
      {
       "output_type": "stream",
       "stream": "stdout",
       "text": [
        "\n",
        "alpha: "
       ]
      },
      {
       "output_type": "stream",
       "stream": "stdout",
       "text": [
        "\n",
        "[ 0.03080689  0.96919311]\n",
        "mu: \n",
        "[[-0.16796432]\n",
        " [-0.07930633]]\n",
        "sigma: \n",
        "[[[ 0.00481333  0.2375919 ]]]\n",
        "Likelihood: -135.19\n",
        "change: 0.92%\n"
       ]
      }
     ],
     "prompt_number": 10
    },
    {
     "cell_type": "code",
     "collapsed": false,
     "input": [
      "from helperfuncs.PlotTDHist import PlotTDHist\n",
      "\n",
      "PlotTDHist(TD_meas*1e3, fitcurve=True, alpha=alpha_1, mu=mu_1, sigma=sigma_1)"
     ],
     "language": "python",
     "metadata": {},
     "outputs": [
      {
       "output_type": "display_data",
       "png": "[encoded data removed]"
      }
     ],
     "prompt_number": 11
    },
    {
     "cell_type": "code",
     "collapsed": false,
     "input": [
      "import numpy as np\n",
      "\n",
      "pickbest = 5\n",
      "TD_meas_p = (np.array(TD_meas)[np.argsort(qty_min)])[-pickbest:]\n",
      "alpha_1p, mu_1p, sigma_1p = GMM_estimate_EM(TD_meas_p*1e3, alpha = np.array([1.0]), mu = np.array([-0.14]), sigma = np.array([[[0.005]]]))\n",
      "mu_1p = mu_1p.flatten()\n",
      "sigma_1p = np.sqrt(sigma_1p.flatten())"
     ],
     "language": "python",
     "metadata": {},
     "outputs": [
      {
       "output_type": "stream",
       "stream": "stdout",
       "text": [
        "Iterations left: 10\n",
        "alpha: \n",
        "[ 1.]\n",
        "mu: \n",
        "[[-0.0816]]\n",
        "sigma: \n",
        "[[[ 0.02274517]]]\n",
        "Likelihood: 2.36\n",
        "change: 287.27%\n",
        "Iterations left: 10\n",
        "alpha: \n",
        "[ 1.]\n",
        "mu: \n",
        "[[-0.0816]]\n",
        "sigma: \n",
        "[[[ 0.02274517]]]\n",
        "Likelihood: 2.36\n",
        "change: 0.00%\n"
       ]
      }
     ],
     "prompt_number": 12
    },
    {
     "cell_type": "code",
     "collapsed": false,
     "input": [
      "from helperfuncs.PlotTDHist import PlotTDHist\n",
      "\n",
      "PlotTDHist(TD_meas_p*1e3, fitcurve=True, alpha=alpha_1p, mu=mu_1p, sigma=sigma_1p)"
     ],
     "language": "python",
     "metadata": {},
     "outputs": [
      {
       "output_type": "display_data",
       "png": "[encoded data removed]"
      }
     ],
     "prompt_number": 13
    },
    {
     "cell_type": "heading",
     "level": 3,
     "metadata": {},
     "source": [
      "2D: TD and quality idx"
     ]
    },
    {
     "cell_type": "code",
     "collapsed": false,
     "input": [
      "TD_meas = TD_meas[np.log10(qty_min) > -100]\n",
      "qty_min = qty_min[np.log10(qty_min) > -100]"
     ],
     "language": "python",
     "metadata": {},
     "outputs": [],
     "prompt_number": 14
    },
    {
     "cell_type": "code",
     "collapsed": false,
     "input": [
      "from helperfuncs.GMM_estimate_EM import GMM_estimate_EM\n",
      "import numpy as np\n",
      "\n",
      "alpha0 = np.array([1.0, 1.0])\n",
      "mu0 = np.array([ [-0.2, -3.5], [0.2, -5] ])\n",
      "sigma0 = np.array( [[[0.005, 0.5],[0.0, 0.0]], [[0.0, 0.0],[0.005, 0.5]]] )\n",
      "x1 = TD_meas*1e3\n",
      "x2 = np.log10(qty_min)\n",
      "x = np.concatenate((np.reshape(x1, (x1.shape[0],-1)),np.reshape(x2, (x2.shape[0],-1))), axis=1)\n",
      "\n",
      "alpha_1, mu_1, sigma_1 = GMM_estimate_EM( x, alpha = alpha0, mu = mu0, sigma = sigma0 )"
     ],
     "language": "python",
     "metadata": {},
     "outputs": [
      {
       "output_type": "stream",
       "stream": "stdout",
       "text": [
        "Iterations left: 10\n",
        "alpha: "
       ]
      },
      {
       "output_type": "stream",
       "stream": "stdout",
       "text": [
        "\n",
        "[ 0.01592387  0.98407613]\n",
        "mu: \n",
        "[[-0.15779426 -3.44327119]\n",
        " [-0.05530197 -5.08759622]]\n",
        "sigma: \n",
        "[[[  5.12830530e-06   2.28490103e-01]\n",
        "  [  1.55939968e-04  -4.96766697e-02]]\n",
        "\n",
        " [[  1.55939968e-04  -4.96766697e-02]\n",
        "  [  1.26358485e-02   1.75406583e-01]]]\n",
        "Likelihood: -213.72\n",
        "change: 97.85%\n",
        "Iterations left: 10"
       ]
      },
      {
       "output_type": "stream",
       "stream": "stdout",
       "text": [
        "\n",
        "alpha: "
       ]
      },
      {
       "output_type": "stream",
       "stream": "stdout",
       "text": [
        "\n",
        "[ 0.02174666  0.97825334]\n",
        "mu: \n",
        "[[-0.15718466 -3.3267075 ]\n",
        " [-0.05470547 -5.09997485]]\n",
        "sigma: \n",
        "[[[  7.26566176e-06   2.29789939e-01]\n",
        "  [  5.06119220e-04  -4.87288338e-02]]\n",
        "\n",
        " [[  5.06119220e-04  -4.87288338e-02]\n",
        "  [  6.27079252e-02   1.50191744e-01]]]\n",
        "Likelihood: -203.13\n",
        "change: 5.21%\n",
        "Iterations left: 10"
       ]
      },
      {
       "output_type": "stream",
       "stream": "stdout",
       "text": [
        "\n",
        "alpha: "
       ]
      },
      {
       "output_type": "stream",
       "stream": "stdout",
       "text": [
        "\n",
        "[ 0.02521383  0.97478617]\n",
        "mu: \n",
        "[[-0.15846602 -3.40146003]\n",
        " [-0.05430782 -5.10434854]]\n",
        "sigma: \n",
        "[[[  1.68299100e-05   2.30562646e-01]\n",
        "  [  1.05819300e-03  -4.84119888e-02]]\n",
        "\n",
        " [[  1.05819300e-03  -4.84119888e-02]\n",
        "  [  9.07832899e-02   1.45286028e-01]]]\n",
        "Likelihood: -200.34\n",
        "change: 1.39%\n",
        "Iterations left: 10"
       ]
      },
      {
       "output_type": "stream",
       "stream": "stdout",
       "text": [
        "\n",
        "alpha: "
       ]
      },
      {
       "output_type": "stream",
       "stream": "stdout",
       "text": [
        "\n",
        "[ 0.02671044  0.97328956]\n",
        "mu: \n",
        "[[-0.15892549 -3.42845088]\n",
        " [-0.05413505 -5.10622632]]\n",
        "sigma: \n",
        "[[[  1.94437457e-05   2.30897736e-01]\n",
        "  [  1.20784063e-03  -4.82751222e-02]]\n",
        "\n",
        " [[  1.20784063e-03  -4.82751222e-02]\n",
        "  [  9.79703897e-02   1.43212793e-01]]]\n",
        "Likelihood: -200.26\n",
        "change: 0.04%\n"
       ]
      }
     ],
     "prompt_number": 15
    },
    {
     "cell_type": "code",
     "collapsed": false,
     "input": [
      "from helperfuncs.PlotScatter2Dhist import PlotScatter2Dhist\n",
      "\n",
      "PlotScatter2Dhist(TD_meas*1e3, qty_min, 'time diff [msec]', 'quality idx []', ylim_min=0)\n",
      "PlotScatter2Dhist(TD_meas*1e3, np.log10(qty_min), 'time diff [msec]', 'log10(quality idx) []', fitcurve=True, alpha=alpha_1, mu=mu_1, sigma=sigma_1)\n",
      "#PlotScatter2Dhist(TD_meas*1e3, np.log10(qty_min), 'time diff [msec]', 'log10(quality idx) []')"
     ],
     "language": "python",
     "metadata": {},
     "outputs": [
      {
       "output_type": "display_data",
       "png": "[encoded data removed]"
      },
      {
       "output_type": "display_data",
       "png": "[encoded data removed]"
      }
     ],
     "prompt_number": 16
    },
    {
     "cell_type": "code",
     "collapsed": false,
     "input": [
      "from helperfuncs.PlotScatter2Dhist import PlotScatter2Dhist\n",
      "\n",
      "PlotScatter2Dhist(TD_meas*v, np.log10(qty_min), 'distance diff [m]', 'log10(quality idx) []', xlim_min = -max_dist_diff, xlim_max = max_dist_diff)\n",
      "PlotScatter2Dhist( (TD_meas*v + sensor1_pos + sensor2_pos)/2, np.log10(qty_min), 'position [m]', 'log10(quality idx) []', xlim_min = min(sensor1_pos, sensor2_pos), xlim_max = max(sensor1_pos, sensor2_pos) )"
     ],
     "language": "python",
     "metadata": {},
     "outputs": [
      {
       "output_type": "display_data",
       "png": "[encoded data removed]"
      },
      {
       "output_type": "display_data",
       "png": "[encoded data removed]"
      }
     ],
     "prompt_number": 17
    }
   ],
   "metadata": {}
  }
 ]
}
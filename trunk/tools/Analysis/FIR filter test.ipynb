{
 "metadata": {
  "name": "FIR filter test"
 },
 "nbformat": 3,
 "nbformat_minor": 0,
 "worksheets": [
  {
   "cells": [
    {
     "cell_type": "code",
     "collapsed": false,
     "input": [
      "import numpy as np\n",
      "import scipy\n",
      "from numpy import cos, sin, pi, absolute, arange\n",
      "from scipy.signal import kaiserord, lfilter, lfiltic, firwin, freqz\n",
      "from pylab import figure, clf, plot, xlabel, ylabel, xlim, ylim, title, grid, axes, show"
     ],
     "language": "python",
     "metadata": {},
     "outputs": [],
     "prompt_number": 1
    },
    {
     "cell_type": "code",
     "collapsed": false,
     "input": [
      "sample_rate = 750e3\n",
      "nsamples = 400"
     ],
     "language": "python",
     "metadata": {},
     "outputs": [],
     "prompt_number": 2
    },
    {
     "cell_type": "code",
     "collapsed": false,
     "input": [
      "print scipy.signal.get_window('boxcar', 5)"
     ],
     "language": "python",
     "metadata": {},
     "outputs": [
      {
       "output_type": "stream",
       "stream": "stdout",
       "text": [
        "[ 1.  1.  1.  1.  1.]\n"
       ]
      }
     ],
     "prompt_number": 3
    },
    {
     "cell_type": "code",
     "collapsed": false,
     "input": [
      "#------------------------------------------------\n",
      "# Create a FIR filter\n",
      "#------------------------------------------------\n",
      "\n",
      "# The Nyquist rate of the signal.\n",
      "nyq_rate = sample_rate / 2.0\n",
      "\n",
      "# The desired width of the transition from pass to stop,\n",
      "# relative to the Nyquist rate.  \n",
      "tran_width = 100e3\n",
      "width = tran_width/nyq_rate\n",
      " \n",
      "# The desired attenuation in the stop band, in dB.\n",
      "ripple_db = 80.0\n",
      " \n",
      "# Compute the order and Kaiser parameter for the FIR filter.\n",
      "N, beta = kaiserord(ripple_db, width)\n",
      "print N\n",
      " \n",
      "# The cutoff frequency of the filter.\n",
      "cutoff_hz = 100e3\n",
      " \n",
      "# Use firwin with a Kaiser window to create a lowpass FIR filter.\n",
      "taps = firwin(N, cutoff_hz/nyq_rate, window=('kaiser', beta), pass_zero=False)\n",
      "#taps = firwin(N, cutoff_hz/nyq_rate, window=('boxcar'), pass_zero=False)"
     ],
     "language": "python",
     "metadata": {},
     "outputs": [
      {
       "output_type": "stream",
       "stream": "stdout",
       "text": [
        "39\n"
       ]
      }
     ],
     "prompt_number": 4
    },
    {
     "cell_type": "code",
     "collapsed": false,
     "input": [
      "#------------------------------------------------\n",
      "# Plot the FIR filter coefficients.\n",
      "#------------------------------------------------\n",
      " \n",
      "figure(1)\n",
      "plot(taps, 'bo-', linewidth=2)\n",
      "title('Filter Coefficients (%d taps)' % N)\n",
      "grid(True) "
     ],
     "language": "python",
     "metadata": {},
     "outputs": [],
     "prompt_number": 5
    },
    {
     "cell_type": "code",
     "collapsed": false,
     "input": [
      "#------------------------------------------------\n",
      "# Plot the magnitude response of the filter.\n",
      "#------------------------------------------------\n",
      " \n",
      "figure(2)\n",
      "clf()\n",
      "w, h = freqz(taps, worN=8000)\n",
      "plot((w/pi)*nyq_rate, 20*np.log10(absolute(h)), linewidth=2)\n",
      "xlabel('Frequency (Hz)')\n",
      "ylabel('Gain')\n",
      "title('Frequency Response')\n",
      "#ylim(-0.05, 1.05)\n",
      "grid(True)\n",
      " \n",
      "# Upper inset plot.\n",
      "ax1 = axes([0.42, 0.6, .45, .25])\n",
      "plot((w/pi)*nyq_rate, 20*np.log10(absolute(h)), linewidth=2)\n",
      "xlim(0,cutoff_hz-tran_width*0.4)\n",
      "ylim(-ripple_db-20, -ripple_db+5)\n",
      "grid(True)\n",
      " \n",
      "# Lower inset plot\n",
      "ax2 = axes([0.42, 0.25, .45, .25])\n",
      "plot((w/pi)*nyq_rate, 20*np.log10(absolute(h)), linewidth=2)\n",
      "xlim(cutoff_hz+tran_width*0.4, nyq_rate)\n",
      "ylim(-0.002, 0.002)\n",
      "grid(True) "
     ],
     "language": "python",
     "metadata": {},
     "outputs": [],
     "prompt_number": 6
    },
    {
     "cell_type": "code",
     "collapsed": false,
     "input": [
      "#------------------------------------------------\n",
      "# Create a signal for demonstration.\n",
      "#------------------------------------------------\n",
      "from helperfuncs.SignalGenerator import SignalGenerator\n",
      "\n",
      "x = SignalGenerator(N = nsamples, Fs = sample_rate, f_start = 10e3, f_stop = 150e3, f_steps = 3)        "
     ],
     "language": "python",
     "metadata": {},
     "outputs": [],
     "prompt_number": 6
    },
    {
     "cell_type": "code",
     "collapsed": false,
     "input": [
      "# Use lfilter to filter x with the FIR filter.\n",
      "filtered_x = lfilter(taps, 1.0, x)\n",
      "print len(filtered_x)"
     ],
     "language": "python",
     "metadata": {},
     "outputs": [
      {
       "output_type": "stream",
       "stream": "stdout",
       "text": [
        "400\n"
       ]
      }
     ],
     "prompt_number": 7
    },
    {
     "cell_type": "code",
     "collapsed": false,
     "input": [
      "# Use convolve for simpler convolution approach.\n",
      "x = np.array(x)\n",
      "x = np.append(np.zeros(len(taps)-1), x)\n",
      "filtered_x3 = scipy.convolve(x, taps, mode='valid')\n",
      "#filtered_x3 = scipy.convolve(x, taps)[0:-len(taps)+1]\n",
      "print len(filtered_x3)\n",
      "print len(taps)"
     ],
     "language": "python",
     "metadata": {},
     "outputs": [
      {
       "output_type": "stream",
       "stream": "stdout",
       "text": [
        "400\n",
        "39\n"
       ]
      }
     ],
     "prompt_number": 19
    },
    {
     "cell_type": "code",
     "collapsed": false,
     "input": [
      "#------------------------------------------------\n",
      "# Plot the original and filtered signals.\n",
      "#------------------------------------------------\n",
      "\n",
      "# The phase delay of the filtered signal.\n",
      "delay = 0.5 * (N-1) / sample_rate\n",
      "#delay = (N-1) / sample_rate\n",
      "print delay\n",
      "t = arange(nsamples) / sample_rate\n",
      "print len(t[N-1:])\n",
      "\n",
      "figure(3)\n",
      "# Plot the original signal.\n",
      "plot(t, x)\n",
      "# Plot the filtered signal, shifted to compensate for the phase delay.\n",
      "plot(t-delay, filtered_x, 'r-')\n",
      "# Plot just the \"good\" part of the filtered signal.  The first N-1\n",
      "# samples are \"corrupted\" by the initial conditions.\n",
      "plot(t[N-1:]-delay, filtered_x[N-1:], 'g', linewidth=4)\n",
      " \n",
      "plot(t[N-1:]-delay, filtered_x3, 'k', linewidth=4)\n",
      "\n",
      "xlabel('t')\n",
      "grid(True)\n",
      " \n",
      "show()"
     ],
     "language": "python",
     "metadata": {},
     "outputs": [
      {
       "output_type": "stream",
       "stream": "stdout",
       "text": [
        "2.53333333333e-05\n",
        "362\n"
       ]
      }
     ],
     "prompt_number": 18
    },
    {
     "cell_type": "code",
     "collapsed": false,
     "input": [],
     "language": "python",
     "metadata": {},
     "outputs": []
    }
   ],
   "metadata": {}
  }
 ]
}
{
 "metadata": {
  "name": ""
 },
 "nbformat": 3,
 "nbformat_minor": 0,
 "worksheets": [
  {
   "cells": [
    {
     "cell_type": "heading",
     "level": 4,
     "metadata": {},
     "source": [
      "License (New 3-Clause BSD):"
     ]
    },
    {
     "cell_type": "markdown",
     "metadata": {},
     "source": [
      "Copyright (c) 2012-2013, <strong>Benjamin Babjak</strong> (babjak.b< at >isis.vanderbilt.edu)\n",
      "\n",
      "All rights reserved.\n",
      "\n",
      "Redistribution and use in source and binary forms, with or without modification, are permitted provided that the following conditions are met:\n",
      "\n",
      "* Redistributions of source code must retain the above copyright notice, this list of conditions and the following disclaimer.\n",
      "\n",
      "* Redistributions in binary form must reproduce the above copyright notice, this list of conditions and the following disclaimer in the documentation and/or other materials provided with the distribution.\n",
      "\n",
      "* Neither the name of the <strong>Institute for Software Integrated Systems, Vanderbilt University</strong> nor the names of its contributors may be used to endorse or promote products derived from this software without specific prior written permission.\n",
      "\n",
      "THIS SOFTWARE IS PROVIDED BY THE COPYRIGHT HOLDERS AND CONTRIBUTORS \"AS IS\" AND ANY EXPRESS OR IMPLIED WARRANTIES, INCLUDING, BUT NOT LIMITED TO, THE IMPLIED WARRANTIES OF MERCHANTABILITY AND FITNESS FOR A PARTICULAR PURPOSE ARE DISCLAIMED. IN NO EVENT SHALL THE COPYRIGHT HOLDER OR CONTRIBUTORS BE LIABLE FOR ANY DIRECT, INDIRECT, INCIDENTAL, SPECIAL, EXEMPLARY, OR CONSEQUENTIAL DAMAGES (INCLUDING, BUT NOT LIMITED TO, PROCUREMENT OF SUBSTITUTE GOODS OR SERVICES; LOSS OF USE, DATA, OR PROFITS; OR BUSINESS INTERRUPTION) HOWEVER CAUSED AND ON ANY THEORY OF LIABILITY, WHETHER IN CONTRACT, STRICT LIABILITY, OR TORT (INCLUDING NEGLIGENCE OR OTHERWISE) ARISING IN ANY WAY OUT OF THE USE OF THIS SOFTWARE, EVEN IF ADVISED OF THE POSSIBILITY OF SUCH DAMAGE."
     ]
    },
    {
     "cell_type": "heading",
     "level": 1,
     "metadata": {},
     "source": [
      "Analysis of acoustic emission events using AIC based onset time picker for the first aluminium break test with a shaker amplitude at 1 inch"
     ]
    },
    {
     "cell_type": "markdown",
     "metadata": {},
     "source": [
      "."
     ]
    },
    {
     "cell_type": "heading",
     "level": 2,
     "metadata": {},
     "source": [
      "Read in preprocessed raw data"
     ]
    },
    {
     "cell_type": "markdown",
     "metadata": {},
     "source": [
      "First let's read in the data from BreakTest_AluminiumBeam measurement. Note that the threshold filter has already filtered out the frames with signals in them."
     ]
    },
    {
     "cell_type": "code",
     "collapsed": false,
     "input": [
      "from helperfuncs.Raw_Data.ReadAEMeas import ReadAEMeas\n",
      "\n",
      "dir = '../../../Measurements/BreakTest_AluminiumBeam/results.enhanced/4-1'\n",
      "y_4, y2_4, T_4, fnames_4, start_time = ReadAEMeas(dir)\n",
      "\n",
      "Fs = 1/T_4\n",
      "#print Fs"
     ],
     "language": "python",
     "metadata": {},
     "outputs": [
      {
       "output_type": "stream",
       "stream": "stdout",
       "text": [
        "Module folder added to system path: /home/ubuntu/Marmote/tools/ControlRecord/ControlRecord\n",
        "Opening file: ../../../Measurements/BreakTest_AluminiumBeam/results.enhanced/4-1/collect_0.bin"
       ]
      },
      {
       "output_type": "stream",
       "stream": "stdout",
       "text": [
        "\n",
        "Closed file: ../../../Measurements/BreakTest_AluminiumBeam/results.enhanced/4-1/collect_0.bin\n",
        "Opening file: ../../../Measurements/BreakTest_AluminiumBeam/results.enhanced/4-1/collect_1.bin\n",
        "Closed file: ../../../Measurements/BreakTest_AluminiumBeam/results.enhanced/4-1/collect_1.bin\n",
        "Opening file: ../../../Measurements/BreakTest_AluminiumBeam/results.enhanced/4-1/collect_2.bin\n",
        "Closed file: ../../../Measurements/BreakTest_AluminiumBeam/results.enhanced/4-1/collect_2.bin\n",
        "Opening file: ../../../Measurements/BreakTest_AluminiumBeam/results.enhanced/4-1/collect_3.bin\n",
        "Closed file: ../../../Measurements/BreakTest_AluminiumBeam/results.enhanced/4-1/collect_3.bin"
       ]
      },
      {
       "output_type": "stream",
       "stream": "stdout",
       "text": [
        "\n",
        "Opening file: ../../../Measurements/BreakTest_AluminiumBeam/results.enhanced/4-1/collect_4.bin\n",
        "Closed file: ../../../Measurements/BreakTest_AluminiumBeam/results.enhanced/4-1/collect_4.bin\n",
        "Opening file: ../../../Measurements/BreakTest_AluminiumBeam/results.enhanced/4-1/collect_5.bin\n",
        "Closed file: ../../../Measurements/BreakTest_AluminiumBeam/results.enhanced/4-1/collect_5.bin\n",
        "Opening file: ../../../Measurements/BreakTest_AluminiumBeam/results.enhanced/4-1/collect_6.bin\n",
        "Closed file: ../../../Measurements/BreakTest_AluminiumBeam/results.enhanced/4-1/collect_6.bin"
       ]
      },
      {
       "output_type": "stream",
       "stream": "stdout",
       "text": [
        "\n",
        "Opening file: ../../../Measurements/BreakTest_AluminiumBeam/results.enhanced/4-1/collect_7.bin\n",
        "Closed file: ../../../Measurements/BreakTest_AluminiumBeam/results.enhanced/4-1/collect_7.bin\n",
        "Opening file: ../../../Measurements/BreakTest_AluminiumBeam/results.enhanced/4-1/collect_8.bin\n",
        "Closed file: ../../../Measurements/BreakTest_AluminiumBeam/results.enhanced/4-1/collect_8.bin\n",
        "Opening file: ../../../Measurements/BreakTest_AluminiumBeam/results.enhanced/4-1/collect_9.bin\n",
        "Closed file: ../../../Measurements/BreakTest_AluminiumBeam/results.enhanced/4-1/collect_9.bin\n",
        "Opening file: ../../../Measurements/BreakTest_AluminiumBeam/results.enhanced/4-1/collect_10.bin"
       ]
      },
      {
       "output_type": "stream",
       "stream": "stdout",
       "text": [
        "\n",
        "Closed file: ../../../Measurements/BreakTest_AluminiumBeam/results.enhanced/4-1/collect_10.bin\n",
        "Opening file: ../../../Measurements/BreakTest_AluminiumBeam/results.enhanced/4-1/collect_11.bin\n",
        "Closed file: ../../../Measurements/BreakTest_AluminiumBeam/results.enhanced/4-1/collect_11.bin\n",
        "Opening file: ../../../Measurements/BreakTest_AluminiumBeam/results.enhanced/4-1/collect_12.bin\n",
        "Closed file: ../../../Measurements/BreakTest_AluminiumBeam/results.enhanced/4-1/collect_12.bin\n",
        "Opening file: ../../../Measurements/BreakTest_AluminiumBeam/results.enhanced/4-1/collect_13.bin\n",
        "Closed file: ../../../Measurements/BreakTest_AluminiumBeam/results.enhanced/4-1/collect_13.bin\n",
        "Opening file: ../../../Measurements/BreakTest_AluminiumBeam/results.enhanced/4-1/collect_14.bin\n",
        "Closed file: ../../../Measurements/BreakTest_AluminiumBeam/results.enhanced/4-1/collect_14.bin\n",
        "Opening file: ../../../Measurements/BreakTest_AluminiumBeam/results.enhanced/4-1/collect_15.bin\n",
        "Closed file: ../../../Measurements/BreakTest_AluminiumBeam/results.enhanced/4-1/collect_15.bin"
       ]
      },
      {
       "output_type": "stream",
       "stream": "stdout",
       "text": [
        "\n",
        "Opening file: ../../../Measurements/BreakTest_AluminiumBeam/results.enhanced/4-1/collect_16.bin\n",
        "Closed file: ../../../Measurements/BreakTest_AluminiumBeam/results.enhanced/4-1/collect_16.bin\n",
        "Opening file: ../../../Measurements/BreakTest_AluminiumBeam/results.enhanced/4-1/collect_17.bin\n",
        "Closed file: ../../../Measurements/BreakTest_AluminiumBeam/results.enhanced/4-1/collect_17.bin\n",
        "Opening file: ../../../Measurements/BreakTest_AluminiumBeam/results.enhanced/4-1/collect_18.bin\n",
        "Closed file: ../../../Measurements/BreakTest_AluminiumBeam/results.enhanced/4-1/collect_18.bin\n",
        "Opening file: ../../../Measurements/BreakTest_AluminiumBeam/results.enhanced/4-1/collect_19.bin\n",
        "Closed file: ../../../Measurements/BreakTest_AluminiumBeam/results.enhanced/4-1/collect_19.bin\n",
        "Opening file: ../../../Measurements/BreakTest_AluminiumBeam/results.enhanced/4-1/collect_20.bin\n",
        "Closed file: ../../../Measurements/BreakTest_AluminiumBeam/results.enhanced/4-1/collect_20.bin\n",
        "Opening file: ../../../Measurements/BreakTest_AluminiumBeam/results.enhanced/4-1/collect_21.bin\n",
        "Closed file: ../../../Measurements/BreakTest_AluminiumBeam/results.enhanced/4-1/collect_21.bin"
       ]
      },
      {
       "output_type": "stream",
       "stream": "stdout",
       "text": [
        "\n",
        "Opening file: ../../../Measurements/BreakTest_AluminiumBeam/results.enhanced/4-1/collect_22.bin\n",
        "Closed file: ../../../Measurements/BreakTest_AluminiumBeam/results.enhanced/4-1/collect_22.bin\n",
        "Opening file: ../../../Measurements/BreakTest_AluminiumBeam/results.enhanced/4-1/collect_23.bin\n",
        "Closed file: ../../../Measurements/BreakTest_AluminiumBeam/results.enhanced/4-1/collect_23.bin\n",
        "Opening file: ../../../Measurements/BreakTest_AluminiumBeam/results.enhanced/4-1/collect_24.bin\n",
        "Closed file: ../../../Measurements/BreakTest_AluminiumBeam/results.enhanced/4-1/collect_24.bin\n",
        "Opening file: ../../../Measurements/BreakTest_AluminiumBeam/results.enhanced/4-1/collect_25.bin\n",
        "Closed file: ../../../Measurements/BreakTest_AluminiumBeam/results.enhanced/4-1/collect_25.bin\n",
        "Opening file: ../../../Measurements/BreakTest_AluminiumBeam/results.enhanced/4-1/collect_26.bin\n",
        "Closed file: ../../../Measurements/BreakTest_AluminiumBeam/results.enhanced/4-1/collect_26.bin\n",
        "Opening file: ../../../Measurements/BreakTest_AluminiumBeam/results.enhanced/4-1/collect_27.bin\n",
        "Closed file: ../../../Measurements/BreakTest_AluminiumBeam/results.enhanced/4-1/collect_27.bin"
       ]
      },
      {
       "output_type": "stream",
       "stream": "stdout",
       "text": [
        "\n",
        "Opening file: ../../../Measurements/BreakTest_AluminiumBeam/results.enhanced/4-1/collect_28.bin\n",
        "Closed file: ../../../Measurements/BreakTest_AluminiumBeam/results.enhanced/4-1/collect_28.bin\n",
        "Opening file: ../../../Measurements/BreakTest_AluminiumBeam/results.enhanced/4-1/collect_29.bin\n",
        "Closed file: ../../../Measurements/BreakTest_AluminiumBeam/results.enhanced/4-1/collect_29.bin\n",
        "Opening file: ../../../Measurements/BreakTest_AluminiumBeam/results.enhanced/4-1/collect_30.bin\n",
        "Closed file: ../../../Measurements/BreakTest_AluminiumBeam/results.enhanced/4-1/collect_30.bin\n",
        "Opening file: ../../../Measurements/BreakTest_AluminiumBeam/results.enhanced/4-1/collect_31.bin\n",
        "Closed file: ../../../Measurements/BreakTest_AluminiumBeam/results.enhanced/4-1/collect_31.bin"
       ]
      },
      {
       "output_type": "stream",
       "stream": "stdout",
       "text": [
        "\n",
        "Opening file: ../../../Measurements/BreakTest_AluminiumBeam/results.enhanced/4-1/collect_32.bin\n",
        "Closed file: ../../../Measurements/BreakTest_AluminiumBeam/results.enhanced/4-1/collect_32.bin\n",
        "Opening file: ../../../Measurements/BreakTest_AluminiumBeam/results.enhanced/4-1/collect_33.bin\n",
        "Closed file: ../../../Measurements/BreakTest_AluminiumBeam/results.enhanced/4-1/collect_33.bin\n",
        "Opening file: ../../../Measurements/BreakTest_AluminiumBeam/results.enhanced/4-1/collect_34.bin\n",
        "Closed file: ../../../Measurements/BreakTest_AluminiumBeam/results.enhanced/4-1/collect_34.bin\n",
        "Opening file: ../../../Measurements/BreakTest_AluminiumBeam/results.enhanced/4-1/collect_35.bin\n",
        "Closed file: ../../../Measurements/BreakTest_AluminiumBeam/results.enhanced/4-1/collect_35.bin\n",
        "Opening file: ../../../Measurements/BreakTest_AluminiumBeam/results.enhanced/4-1/collect_36.bin\n",
        "Closed file: ../../../Measurements/BreakTest_AluminiumBeam/results.enhanced/4-1/collect_36.bin"
       ]
      },
      {
       "output_type": "stream",
       "stream": "stdout",
       "text": [
        "\n",
        "Opening file: ../../../Measurements/BreakTest_AluminiumBeam/results.enhanced/4-1/collect_37.bin\n",
        "Closed file: ../../../Measurements/BreakTest_AluminiumBeam/results.enhanced/4-1/collect_37.bin\n",
        "Opening file: ../../../Measurements/BreakTest_AluminiumBeam/results.enhanced/4-1/collect_38.bin\n",
        "Closed file: ../../../Measurements/BreakTest_AluminiumBeam/results.enhanced/4-1/collect_38.bin\n",
        "Opening file: ../../../Measurements/BreakTest_AluminiumBeam/results.enhanced/4-1/collect_39.bin\n",
        "Closed file: ../../../Measurements/BreakTest_AluminiumBeam/results.enhanced/4-1/collect_39.bin\n",
        "Opening file: ../../../Measurements/BreakTest_AluminiumBeam/results.enhanced/4-1/collect_40.bin\n",
        "Closed file: ../../../Measurements/BreakTest_AluminiumBeam/results.enhanced/4-1/collect_40.bin\n",
        "Opening file: ../../../Measurements/BreakTest_AluminiumBeam/results.enhanced/4-1/collect_41.bin\n",
        "Closed file: ../../../Measurements/BreakTest_AluminiumBeam/results.enhanced/4-1/collect_41.bin\n",
        "Opening file: ../../../Measurements/BreakTest_AluminiumBeam/results.enhanced/4-1/collect_42.bin"
       ]
      },
      {
       "output_type": "stream",
       "stream": "stdout",
       "text": [
        "\n",
        "Closed file: ../../../Measurements/BreakTest_AluminiumBeam/results.enhanced/4-1/collect_42.bin\n",
        "Opening file: ../../../Measurements/BreakTest_AluminiumBeam/results.enhanced/4-1/collect_43.bin\n",
        "Closed file: ../../../Measurements/BreakTest_AluminiumBeam/results.enhanced/4-1/collect_43.bin\n",
        "Opening file: ../../../Measurements/BreakTest_AluminiumBeam/results.enhanced/4-1/collect_44.bin\n",
        "Closed file: ../../../Measurements/BreakTest_AluminiumBeam/results.enhanced/4-1/collect_44.bin\n",
        "Opening file: ../../../Measurements/BreakTest_AluminiumBeam/results.enhanced/4-1/collect_45.bin\n",
        "Closed file: ../../../Measurements/BreakTest_AluminiumBeam/results.enhanced/4-1/collect_45.bin"
       ]
      },
      {
       "output_type": "stream",
       "stream": "stdout",
       "text": [
        "\n",
        "Opening file: ../../../Measurements/BreakTest_AluminiumBeam/results.enhanced/4-1/collect_46.bin\n",
        "Closed file: ../../../Measurements/BreakTest_AluminiumBeam/results.enhanced/4-1/collect_46.bin\n",
        "Opening file: ../../../Measurements/BreakTest_AluminiumBeam/results.enhanced/4-1/collect_47.bin\n",
        "Closed file: ../../../Measurements/BreakTest_AluminiumBeam/results.enhanced/4-1/collect_47.bin\n",
        "Opening file: ../../../Measurements/BreakTest_AluminiumBeam/results.enhanced/4-1/collect_48.bin\n",
        "Closed file: ../../../Measurements/BreakTest_AluminiumBeam/results.enhanced/4-1/collect_48.bin\n",
        "Opening file: ../../../Measurements/BreakTest_AluminiumBeam/results.enhanced/4-1/collect_49.bin\n",
        "Closed file: ../../../Measurements/BreakTest_AluminiumBeam/results.enhanced/4-1/collect_49.bin"
       ]
      },
      {
       "output_type": "stream",
       "stream": "stdout",
       "text": [
        "\n",
        "Opening file: ../../../Measurements/BreakTest_AluminiumBeam/results.enhanced/4-1/collect_50.bin\n",
        "Closed file: ../../../Measurements/BreakTest_AluminiumBeam/results.enhanced/4-1/collect_50.bin\n",
        "Opening file: ../../../Measurements/BreakTest_AluminiumBeam/results.enhanced/4-1/collect_51.bin\n",
        "Closed file: ../../../Measurements/BreakTest_AluminiumBeam/results.enhanced/4-1/collect_51.bin\n",
        "Opening file: ../../../Measurements/BreakTest_AluminiumBeam/results.enhanced/4-1/collect_52.bin\n",
        "Closed file: ../../../Measurements/BreakTest_AluminiumBeam/results.enhanced/4-1/collect_52.bin"
       ]
      },
      {
       "output_type": "stream",
       "stream": "stdout",
       "text": [
        "\n",
        "Opening file: ../../../Measurements/BreakTest_AluminiumBeam/results.enhanced/4-1/collect_53.bin\n",
        "Closed file: ../../../Measurements/BreakTest_AluminiumBeam/results.enhanced/4-1/collect_53.bin\n",
        "Opening file: ../../../Measurements/BreakTest_AluminiumBeam/results.enhanced/4-1/collect_54.bin\n",
        "Closed file: ../../../Measurements/BreakTest_AluminiumBeam/results.enhanced/4-1/collect_54.bin\n",
        "Opening file: ../../../Measurements/BreakTest_AluminiumBeam/results.enhanced/4-1/collect_55.bin\n",
        "Closed file: ../../../Measurements/BreakTest_AluminiumBeam/results.enhanced/4-1/collect_55.bin\n",
        "Opening file: ../../../Measurements/BreakTest_AluminiumBeam/results.enhanced/4-1/collect_56.bin\n",
        "Closed file: ../../../Measurements/BreakTest_AluminiumBeam/results.enhanced/4-1/collect_56.bin\n",
        "Opening file: ../../../Measurements/BreakTest_AluminiumBeam/results.enhanced/4-1/collect_57.bin\n",
        "Closed file: ../../../Measurements/BreakTest_AluminiumBeam/results.enhanced/4-1/collect_57.bin\n",
        "Opening file: ../../../Measurements/BreakTest_AluminiumBeam/results.enhanced/4-1/collect_58.bin\n",
        "Closed file: ../../../Measurements/BreakTest_AluminiumBeam/results.enhanced/4-1/collect_58.bin"
       ]
      },
      {
       "output_type": "stream",
       "stream": "stdout",
       "text": [
        "\n",
        "Opening file: ../../../Measurements/BreakTest_AluminiumBeam/results.enhanced/4-1/collect_59.bin\n",
        "Closed file: ../../../Measurements/BreakTest_AluminiumBeam/results.enhanced/4-1/collect_59.bin\n",
        "Opening file: ../../../Measurements/BreakTest_AluminiumBeam/results.enhanced/4-1/collect_60.bin\n",
        "Closed file: ../../../Measurements/BreakTest_AluminiumBeam/results.enhanced/4-1/collect_60.bin\n",
        "Opening file: ../../../Measurements/BreakTest_AluminiumBeam/results.enhanced/4-1/collect_61.bin\n",
        "Closed file: ../../../Measurements/BreakTest_AluminiumBeam/results.enhanced/4-1/collect_61.bin\n",
        "Opening file: ../../../Measurements/BreakTest_AluminiumBeam/results.enhanced/4-1/collect_62.bin\n",
        "Closed file: ../../../Measurements/BreakTest_AluminiumBeam/results.enhanced/4-1/collect_62.bin\n",
        "Opening file: ../../../Measurements/BreakTest_AluminiumBeam/results.enhanced/4-1/collect_63.bin"
       ]
      },
      {
       "output_type": "stream",
       "stream": "stdout",
       "text": [
        "\n",
        "Closed file: ../../../Measurements/BreakTest_AluminiumBeam/results.enhanced/4-1/collect_63.bin\n",
        "Opening file: ../../../Measurements/BreakTest_AluminiumBeam/results.enhanced/4-1/collect_64.bin\n",
        "Closed file: ../../../Measurements/BreakTest_AluminiumBeam/results.enhanced/4-1/collect_64.bin\n",
        "Opening file: ../../../Measurements/BreakTest_AluminiumBeam/results.enhanced/4-1/collect_65.bin\n",
        "Closed file: ../../../Measurements/BreakTest_AluminiumBeam/results.enhanced/4-1/collect_65.bin\n",
        "Opening file: ../../../Measurements/BreakTest_AluminiumBeam/results.enhanced/4-1/collect_66.bin\n",
        "Closed file: ../../../Measurements/BreakTest_AluminiumBeam/results.enhanced/4-1/collect_66.bin\n",
        "Opening file: ../../../Measurements/BreakTest_AluminiumBeam/results.enhanced/4-1/collect_67.bin\n",
        "Closed file: ../../../Measurements/BreakTest_AluminiumBeam/results.enhanced/4-1/collect_67.bin\n",
        "Opening file: ../../../Measurements/BreakTest_AluminiumBeam/results.enhanced/4-1/collect_68.bin\n",
        "Closed file: ../../../Measurements/BreakTest_AluminiumBeam/results.enhanced/4-1/collect_68.bin"
       ]
      },
      {
       "output_type": "stream",
       "stream": "stdout",
       "text": [
        "\n",
        "Opening file: ../../../Measurements/BreakTest_AluminiumBeam/results.enhanced/4-1/collect_69.bin\n",
        "Closed file: ../../../Measurements/BreakTest_AluminiumBeam/results.enhanced/4-1/collect_69.bin\n",
        "Opening file: ../../../Measurements/BreakTest_AluminiumBeam/results.enhanced/4-1/collect_70.bin\n",
        "Closed file: ../../../Measurements/BreakTest_AluminiumBeam/results.enhanced/4-1/collect_70.bin\n",
        "Opening file: ../../../Measurements/BreakTest_AluminiumBeam/results.enhanced/4-1/collect_71.bin\n",
        "Closed file: ../../../Measurements/BreakTest_AluminiumBeam/results.enhanced/4-1/collect_71.bin\n",
        "Opening file: ../../../Measurements/BreakTest_AluminiumBeam/results.enhanced/4-1/collect_72.bin\n",
        "Closed file: ../../../Measurements/BreakTest_AluminiumBeam/results.enhanced/4-1/collect_72.bin\n",
        "Opening file: ../../../Measurements/BreakTest_AluminiumBeam/results.enhanced/4-1/collect_73.bin\n",
        "Closed file: ../../../Measurements/BreakTest_AluminiumBeam/results.enhanced/4-1/collect_73.bin\n",
        "Opening file: ../../../Measurements/BreakTest_AluminiumBeam/results.enhanced/4-1/collect_74.bin\n",
        "Closed file: ../../../Measurements/BreakTest_AluminiumBeam/results.enhanced/4-1/collect_74.bin"
       ]
      },
      {
       "output_type": "stream",
       "stream": "stdout",
       "text": [
        "\n",
        "Opening file: ../../../Measurements/BreakTest_AluminiumBeam/results.enhanced/4-1/collect_75.bin\n",
        "Closed file: ../../../Measurements/BreakTest_AluminiumBeam/results.enhanced/4-1/collect_75.bin\n",
        "Opening file: ../../../Measurements/BreakTest_AluminiumBeam/results.enhanced/4-1/collect_76.bin\n",
        "Closed file: ../../../Measurements/BreakTest_AluminiumBeam/results.enhanced/4-1/collect_76.bin\n",
        "Opening file: ../../../Measurements/BreakTest_AluminiumBeam/results.enhanced/4-1/collect_77.bin\n",
        "Closed file: ../../../Measurements/BreakTest_AluminiumBeam/results.enhanced/4-1/collect_77.bin\n",
        "Opening file: ../../../Measurements/BreakTest_AluminiumBeam/results.enhanced/4-1/collect_78.bin\n",
        "Closed file: ../../../Measurements/BreakTest_AluminiumBeam/results.enhanced/4-1/collect_78.bin\n",
        "Opening file: ../../../Measurements/BreakTest_AluminiumBeam/results.enhanced/4-1/collect_79.bin\n",
        "Closed file: ../../../Measurements/BreakTest_AluminiumBeam/results.enhanced/4-1/collect_79.bin\n",
        "Opening file: ../../../Measurements/BreakTest_AluminiumBeam/results.enhanced/4-1/collect_80.bin"
       ]
      },
      {
       "output_type": "stream",
       "stream": "stdout",
       "text": [
        "\n",
        "Closed file: ../../../Measurements/BreakTest_AluminiumBeam/results.enhanced/4-1/collect_80.bin\n",
        "Opening file: ../../../Measurements/BreakTest_AluminiumBeam/results.enhanced/4-1/collect_81.bin\n",
        "Closed file: ../../../Measurements/BreakTest_AluminiumBeam/results.enhanced/4-1/collect_81.bin\n",
        "Opening file: ../../../Measurements/BreakTest_AluminiumBeam/results.enhanced/4-1/collect_82.bin\n",
        "Closed file: ../../../Measurements/BreakTest_AluminiumBeam/results.enhanced/4-1/collect_82.bin\n",
        "Opening file: ../../../Measurements/BreakTest_AluminiumBeam/results.enhanced/4-1/collect_83.bin\n",
        "Closed file: ../../../Measurements/BreakTest_AluminiumBeam/results.enhanced/4-1/collect_83.bin\n",
        "Opening file: ../../../Measurements/BreakTest_AluminiumBeam/results.enhanced/4-1/collect_84.bin\n",
        "Closed file: ../../../Measurements/BreakTest_AluminiumBeam/results.enhanced/4-1/collect_84.bin\n",
        "Opening file: ../../../Measurements/BreakTest_AluminiumBeam/results.enhanced/4-1/collect_85.bin"
       ]
      },
      {
       "output_type": "stream",
       "stream": "stdout",
       "text": [
        "\n",
        "Closed file: ../../../Measurements/BreakTest_AluminiumBeam/results.enhanced/4-1/collect_85.bin\n",
        "Opening file: ../../../Measurements/BreakTest_AluminiumBeam/results.enhanced/4-1/collect_86.bin\n",
        "Closed file: ../../../Measurements/BreakTest_AluminiumBeam/results.enhanced/4-1/collect_86.bin\n",
        "Opening file: ../../../Measurements/BreakTest_AluminiumBeam/results.enhanced/4-1/collect_87.bin\n",
        "Closed file: ../../../Measurements/BreakTest_AluminiumBeam/results.enhanced/4-1/collect_87.bin\n",
        "Opening file: ../../../Measurements/BreakTest_AluminiumBeam/results.enhanced/4-1/collect_88.bin\n",
        "Closed file: ../../../Measurements/BreakTest_AluminiumBeam/results.enhanced/4-1/collect_88.bin\n",
        "Opening file: ../../../Measurements/BreakTest_AluminiumBeam/results.enhanced/4-1/collect_89.bin\n",
        "Closed file: ../../../Measurements/BreakTest_AluminiumBeam/results.enhanced/4-1/collect_89.bin\n",
        "Opening file: ../../../Measurements/BreakTest_AluminiumBeam/results.enhanced/4-1/collect_90.bin\n",
        "Closed file: ../../../Measurements/BreakTest_AluminiumBeam/results.enhanced/4-1/collect_90.bin"
       ]
      },
      {
       "output_type": "stream",
       "stream": "stdout",
       "text": [
        "\n",
        "Opening file: ../../../Measurements/BreakTest_AluminiumBeam/results.enhanced/4-1/collect_91.bin\n",
        "Closed file: ../../../Measurements/BreakTest_AluminiumBeam/results.enhanced/4-1/collect_91.bin"
       ]
      },
      {
       "output_type": "stream",
       "stream": "stdout",
       "text": [
        "\n",
        "Opening file: ../../../Measurements/BreakTest_AluminiumBeam/results.enhanced/4-1/collect_92.bin\n",
        "Closed file: ../../../Measurements/BreakTest_AluminiumBeam/results.enhanced/4-1/collect_92.bin\n",
        "Opening file: ../../../Measurements/BreakTest_AluminiumBeam/results.enhanced/4-1/collect_93.bin\n",
        "Closed file: ../../../Measurements/BreakTest_AluminiumBeam/results.enhanced/4-1/collect_93.bin\n",
        "Opening file: ../../../Measurements/BreakTest_AluminiumBeam/results.enhanced/4-1/collect_94.bin\n",
        "Closed file: ../../../Measurements/BreakTest_AluminiumBeam/results.enhanced/4-1/collect_94.bin\n",
        "Opening file: ../../../Measurements/BreakTest_AluminiumBeam/results.enhanced/4-1/collect_95.bin\n",
        "Closed file: ../../../Measurements/BreakTest_AluminiumBeam/results.enhanced/4-1/collect_95.bin\n",
        "Opening file: ../../../Measurements/BreakTest_AluminiumBeam/results.enhanced/4-1/collect_96.bin\n",
        "Closed file: ../../../Measurements/BreakTest_AluminiumBeam/results.enhanced/4-1/collect_96.bin\n",
        "Opening file: ../../../Measurements/BreakTest_AluminiumBeam/results.enhanced/4-1/collect_97.bin\n",
        "Closed file: ../../../Measurements/BreakTest_AluminiumBeam/results.enhanced/4-1/collect_97.bin"
       ]
      },
      {
       "output_type": "stream",
       "stream": "stdout",
       "text": [
        "\n",
        "Opening file: ../../../Measurements/BreakTest_AluminiumBeam/results.enhanced/4-1/collect_98.bin\n",
        "Closed file: ../../../Measurements/BreakTest_AluminiumBeam/results.enhanced/4-1/collect_98.bin\n",
        "Opening file: ../../../Measurements/BreakTest_AluminiumBeam/results.enhanced/4-1/collect_99.bin\n",
        "Closed file: ../../../Measurements/BreakTest_AluminiumBeam/results.enhanced/4-1/collect_99.bin\n",
        "Opening file: ../../../Measurements/BreakTest_AluminiumBeam/results.enhanced/4-1/collect_100.bin\n",
        "Closed file: ../../../Measurements/BreakTest_AluminiumBeam/results.enhanced/4-1/collect_100.bin\n",
        "Opening file: ../../../Measurements/BreakTest_AluminiumBeam/results.enhanced/4-1/collect_101.bin\n",
        "Closed file: ../../../Measurements/BreakTest_AluminiumBeam/results.enhanced/4-1/collect_101.bin"
       ]
      },
      {
       "output_type": "stream",
       "stream": "stdout",
       "text": [
        "\n",
        "Opening file: ../../../Measurements/BreakTest_AluminiumBeam/results.enhanced/4-1/collect_102.bin\n",
        "Closed file: ../../../Measurements/BreakTest_AluminiumBeam/results.enhanced/4-1/collect_102.bin\n",
        "Opening file: ../../../Measurements/BreakTest_AluminiumBeam/results.enhanced/4-1/collect_103.bin\n",
        "Closed file: ../../../Measurements/BreakTest_AluminiumBeam/results.enhanced/4-1/collect_103.bin\n",
        "Opening file: ../../../Measurements/BreakTest_AluminiumBeam/results.enhanced/4-1/collect_104.bin\n",
        "Closed file: ../../../Measurements/BreakTest_AluminiumBeam/results.enhanced/4-1/collect_104.bin"
       ]
      },
      {
       "output_type": "stream",
       "stream": "stdout",
       "text": [
        "\n",
        "Opening file: ../../../Measurements/BreakTest_AluminiumBeam/results.enhanced/4-1/collect_105.bin\n",
        "Closed file: ../../../Measurements/BreakTest_AluminiumBeam/results.enhanced/4-1/collect_105.bin\n",
        "Opening file: ../../../Measurements/BreakTest_AluminiumBeam/results.enhanced/4-1/collect_106.bin\n",
        "Closed file: ../../../Measurements/BreakTest_AluminiumBeam/results.enhanced/4-1/collect_106.bin\n",
        "Opening file: ../../../Measurements/BreakTest_AluminiumBeam/results.enhanced/4-1/collect_107.bin\n",
        "Closed file: ../../../Measurements/BreakTest_AluminiumBeam/results.enhanced/4-1/collect_107.bin\n",
        "Opening file: ../../../Measurements/BreakTest_AluminiumBeam/results.enhanced/4-1/collect_108.bin\n",
        "Closed file: ../../../Measurements/BreakTest_AluminiumBeam/results.enhanced/4-1/collect_108.bin"
       ]
      },
      {
       "output_type": "stream",
       "stream": "stdout",
       "text": [
        "\n",
        "Opening file: ../../../Measurements/BreakTest_AluminiumBeam/results.enhanced/4-1/collect_109.bin\n",
        "Closed file: ../../../Measurements/BreakTest_AluminiumBeam/results.enhanced/4-1/collect_109.bin\n",
        "Opening file: ../../../Measurements/BreakTest_AluminiumBeam/results.enhanced/4-1/collect_110.bin\n",
        "Closed file: ../../../Measurements/BreakTest_AluminiumBeam/results.enhanced/4-1/collect_110.bin\n",
        "Opening file: ../../../Measurements/BreakTest_AluminiumBeam/results.enhanced/4-1/collect_111.bin\n",
        "Closed file: ../../../Measurements/BreakTest_AluminiumBeam/results.enhanced/4-1/collect_111.bin\n",
        "Opening file: ../../../Measurements/BreakTest_AluminiumBeam/results.enhanced/4-1/collect_112.bin\n",
        "Closed file: ../../../Measurements/BreakTest_AluminiumBeam/results.enhanced/4-1/collect_112.bin"
       ]
      },
      {
       "output_type": "stream",
       "stream": "stdout",
       "text": [
        "\n",
        "Opening file: ../../../Measurements/BreakTest_AluminiumBeam/results.enhanced/4-1/collect_113.bin\n",
        "Closed file: ../../../Measurements/BreakTest_AluminiumBeam/results.enhanced/4-1/collect_113.bin\n",
        "Opening file: ../../../Measurements/BreakTest_AluminiumBeam/results.enhanced/4-1/collect_114.bin\n",
        "Closed file: ../../../Measurements/BreakTest_AluminiumBeam/results.enhanced/4-1/collect_114.bin\n",
        "Opening file: ../../../Measurements/BreakTest_AluminiumBeam/results.enhanced/4-1/collect_115.bin\n",
        "Closed file: ../../../Measurements/BreakTest_AluminiumBeam/results.enhanced/4-1/collect_115.bin"
       ]
      },
      {
       "output_type": "stream",
       "stream": "stdout",
       "text": [
        "\n",
        "Opening file: ../../../Measurements/BreakTest_AluminiumBeam/results.enhanced/4-1/collect_116.bin\n",
        "Closed file: ../../../Measurements/BreakTest_AluminiumBeam/results.enhanced/4-1/collect_116.bin\n",
        "Opening file: ../../../Measurements/BreakTest_AluminiumBeam/results.enhanced/4-1/collect_117.bin\n",
        "Closed file: ../../../Measurements/BreakTest_AluminiumBeam/results.enhanced/4-1/collect_117.bin\n",
        "Opening file: ../../../Measurements/BreakTest_AluminiumBeam/results.enhanced/4-1/collect_118.bin\n",
        "Closed file: ../../../Measurements/BreakTest_AluminiumBeam/results.enhanced/4-1/collect_118.bin"
       ]
      },
      {
       "output_type": "stream",
       "stream": "stdout",
       "text": [
        "\n",
        "Opening file: ../../../Measurements/BreakTest_AluminiumBeam/results.enhanced/4-1/collect_119.bin\n",
        "Closed file: ../../../Measurements/BreakTest_AluminiumBeam/results.enhanced/4-1/collect_119.bin\n",
        "Opening file: ../../../Measurements/BreakTest_AluminiumBeam/results.enhanced/4-1/collect_120.bin\n",
        "Closed file: ../../../Measurements/BreakTest_AluminiumBeam/results.enhanced/4-1/collect_120.bin\n",
        "Opening file: ../../../Measurements/BreakTest_AluminiumBeam/results.enhanced/4-1/collect_121.bin\n",
        "Closed file: ../../../Measurements/BreakTest_AluminiumBeam/results.enhanced/4-1/collect_121.bin\n",
        "Opening file: ../../../Measurements/BreakTest_AluminiumBeam/results.enhanced/4-1/collect_122.bin\n",
        "Closed file: ../../../Measurements/BreakTest_AluminiumBeam/results.enhanced/4-1/collect_122.bin"
       ]
      },
      {
       "output_type": "stream",
       "stream": "stdout",
       "text": [
        "\n",
        "Opening file: ../../../Measurements/BreakTest_AluminiumBeam/results.enhanced/4-1/collect_123.bin\n",
        "Closed file: ../../../Measurements/BreakTest_AluminiumBeam/results.enhanced/4-1/collect_123.bin\n",
        "Opening file: ../../../Measurements/BreakTest_AluminiumBeam/results.enhanced/4-1/collect_124.bin\n",
        "Closed file: ../../../Measurements/BreakTest_AluminiumBeam/results.enhanced/4-1/collect_124.bin\n",
        "Opening file: ../../../Measurements/BreakTest_AluminiumBeam/results.enhanced/4-1/collect_125.bin\n",
        "Closed file: ../../../Measurements/BreakTest_AluminiumBeam/results.enhanced/4-1/collect_125.bin\n",
        "Opening file: ../../../Measurements/BreakTest_AluminiumBeam/results.enhanced/4-1/collect_126.bin"
       ]
      },
      {
       "output_type": "stream",
       "stream": "stdout",
       "text": [
        "\n",
        "Closed file: ../../../Measurements/BreakTest_AluminiumBeam/results.enhanced/4-1/collect_126.bin\n",
        "Opening file: ../../../Measurements/BreakTest_AluminiumBeam/results.enhanced/4-1/collect_127.bin\n",
        "Closed file: ../../../Measurements/BreakTest_AluminiumBeam/results.enhanced/4-1/collect_127.bin\n",
        "Opening file: ../../../Measurements/BreakTest_AluminiumBeam/results.enhanced/4-1/collect_128.bin\n",
        "Closed file: ../../../Measurements/BreakTest_AluminiumBeam/results.enhanced/4-1/collect_128.bin"
       ]
      },
      {
       "output_type": "stream",
       "stream": "stdout",
       "text": [
        "\n",
        "Opening file: ../../../Measurements/BreakTest_AluminiumBeam/results.enhanced/4-1/collect_129.bin\n",
        "Closed file: ../../../Measurements/BreakTest_AluminiumBeam/results.enhanced/4-1/collect_129.bin\n",
        "Opening file: ../../../Measurements/BreakTest_AluminiumBeam/results.enhanced/4-1/collect_130.bin\n",
        "Closed file: ../../../Measurements/BreakTest_AluminiumBeam/results.enhanced/4-1/collect_130.bin\n",
        "Opening file: ../../../Measurements/BreakTest_AluminiumBeam/results.enhanced/4-1/collect_131.bin\n",
        "Closed file: ../../../Measurements/BreakTest_AluminiumBeam/results.enhanced/4-1/collect_131.bin\n",
        "Opening file: ../../../Measurements/BreakTest_AluminiumBeam/results.enhanced/4-1/collect_132.bin\n",
        "Closed file: ../../../Measurements/BreakTest_AluminiumBeam/results.enhanced/4-1/collect_132.bin"
       ]
      },
      {
       "output_type": "stream",
       "stream": "stdout",
       "text": [
        "\n",
        "Opening file: ../../../Measurements/BreakTest_AluminiumBeam/results.enhanced/4-1/collect_133.bin\n",
        "Closed file: ../../../Measurements/BreakTest_AluminiumBeam/results.enhanced/4-1/collect_133.bin\n",
        "Opening file: ../../../Measurements/BreakTest_AluminiumBeam/results.enhanced/4-1/collect_134.bin\n",
        "Closed file: ../../../Measurements/BreakTest_AluminiumBeam/results.enhanced/4-1/collect_134.bin\n",
        "Opening file: ../../../Measurements/BreakTest_AluminiumBeam/results.enhanced/4-1/collect_135.bin\n",
        "Closed file: ../../../Measurements/BreakTest_AluminiumBeam/results.enhanced/4-1/collect_135.bin"
       ]
      },
      {
       "output_type": "stream",
       "stream": "stdout",
       "text": [
        "\n",
        "Opening file: ../../../Measurements/BreakTest_AluminiumBeam/results.enhanced/4-1/collect_136.bin\n",
        "Closed file: ../../../Measurements/BreakTest_AluminiumBeam/results.enhanced/4-1/collect_136.bin\n",
        "Opening file: ../../../Measurements/BreakTest_AluminiumBeam/results.enhanced/4-1/collect_137.bin"
       ]
      },
      {
       "output_type": "stream",
       "stream": "stdout",
       "text": [
        "\n",
        "Closed file: ../../../Measurements/BreakTest_AluminiumBeam/results.enhanced/4-1/collect_137.bin\n",
        "Opening file: ../../../Measurements/BreakTest_AluminiumBeam/results.enhanced/4-1/collect_138.bin\n",
        "Closed file: ../../../Measurements/BreakTest_AluminiumBeam/results.enhanced/4-1/collect_138.bin\n",
        "Opening file: ../../../Measurements/BreakTest_AluminiumBeam/results.enhanced/4-1/collect_139.bin\n",
        "Closed file: ../../../Measurements/BreakTest_AluminiumBeam/results.enhanced/4-1/collect_139.bin"
       ]
      },
      {
       "output_type": "stream",
       "stream": "stdout",
       "text": [
        "\n",
        "Opening file: ../../../Measurements/BreakTest_AluminiumBeam/results.enhanced/4-1/collect_140.bin\n",
        "Closed file: ../../../Measurements/BreakTest_AluminiumBeam/results.enhanced/4-1/collect_140.bin\n",
        "Opening file: ../../../Measurements/BreakTest_AluminiumBeam/results.enhanced/4-1/collect_141.bin\n",
        "Closed file: ../../../Measurements/BreakTest_AluminiumBeam/results.enhanced/4-1/collect_141.bin\n",
        "Opening file: ../../../Measurements/BreakTest_AluminiumBeam/results.enhanced/4-1/collect_142.bin\n",
        "Closed file: ../../../Measurements/BreakTest_AluminiumBeam/results.enhanced/4-1/collect_142.bin\n",
        "Opening file: ../../../Measurements/BreakTest_AluminiumBeam/results.enhanced/4-1/collect_143.bin"
       ]
      },
      {
       "output_type": "stream",
       "stream": "stdout",
       "text": [
        "\n",
        "Closed file: ../../../Measurements/BreakTest_AluminiumBeam/results.enhanced/4-1/collect_143.bin\n",
        "Opening file: ../../../Measurements/BreakTest_AluminiumBeam/results.enhanced/4-1/collect_144.bin\n",
        "Closed file: ../../../Measurements/BreakTest_AluminiumBeam/results.enhanced/4-1/collect_144.bin\n",
        "Opening file: ../../../Measurements/BreakTest_AluminiumBeam/results.enhanced/4-1/collect_145.bin\n",
        "Closed file: ../../../Measurements/BreakTest_AluminiumBeam/results.enhanced/4-1/collect_145.bin"
       ]
      },
      {
       "output_type": "stream",
       "stream": "stdout",
       "text": [
        "\n",
        "Opening file: ../../../Measurements/BreakTest_AluminiumBeam/results.enhanced/4-1/collect_146.bin\n",
        "Closed file: ../../../Measurements/BreakTest_AluminiumBeam/results.enhanced/4-1/collect_146.bin\n",
        "Opening file: ../../../Measurements/BreakTest_AluminiumBeam/results.enhanced/4-1/collect_147.bin\n",
        "Closed file: ../../../Measurements/BreakTest_AluminiumBeam/results.enhanced/4-1/collect_147.bin\n",
        "Opening file: ../../../Measurements/BreakTest_AluminiumBeam/results.enhanced/4-1/collect_148.bin\n",
        "Closed file: ../../../Measurements/BreakTest_AluminiumBeam/results.enhanced/4-1/collect_148.bin"
       ]
      },
      {
       "output_type": "stream",
       "stream": "stdout",
       "text": [
        "\n",
        "Opening file: ../../../Measurements/BreakTest_AluminiumBeam/results.enhanced/4-1/collect_149.bin\n",
        "Closed file: ../../../Measurements/BreakTest_AluminiumBeam/results.enhanced/4-1/collect_149.bin\n",
        "Opening file: ../../../Measurements/BreakTest_AluminiumBeam/results.enhanced/4-1/collect_150.bin\n",
        "Closed file: ../../../Measurements/BreakTest_AluminiumBeam/results.enhanced/4-1/collect_150.bin\n",
        "Opening file: ../../../Measurements/BreakTest_AluminiumBeam/results.enhanced/4-1/collect_151.bin\n",
        "Closed file: ../../../Measurements/BreakTest_AluminiumBeam/results.enhanced/4-1/collect_151.bin\n",
        "Opening file: ../../../Measurements/BreakTest_AluminiumBeam/results.enhanced/4-1/collect_152.bin\n",
        "Closed file: ../../../Measurements/BreakTest_AluminiumBeam/results.enhanced/4-1/collect_152.bin\n",
        "Opening file: ../../../Measurements/BreakTest_AluminiumBeam/results.enhanced/4-1/collect_153.bin\n",
        "Closed file: ../../../Measurements/BreakTest_AluminiumBeam/results.enhanced/4-1/collect_153.bin\n",
        "Opening file: ../../../Measurements/BreakTest_AluminiumBeam/results.enhanced/4-1/collect_154.bin"
       ]
      },
      {
       "output_type": "stream",
       "stream": "stdout",
       "text": [
        "\n",
        "Closed file: ../../../Measurements/BreakTest_AluminiumBeam/results.enhanced/4-1/collect_154.bin\n",
        "Opening file: ../../../Measurements/BreakTest_AluminiumBeam/results.enhanced/4-1/collect_155.bin\n",
        "Closed file: ../../../Measurements/BreakTest_AluminiumBeam/results.enhanced/4-1/collect_155.bin\n",
        "Opening file: ../../../Measurements/BreakTest_AluminiumBeam/results.enhanced/4-1/collect_156.bin\n",
        "Closed file: ../../../Measurements/BreakTest_AluminiumBeam/results.enhanced/4-1/collect_156.bin\n",
        "Opening file: ../../../Measurements/BreakTest_AluminiumBeam/results.enhanced/4-1/collect_157.bin\n",
        "Closed file: ../../../Measurements/BreakTest_AluminiumBeam/results.enhanced/4-1/collect_157.bin\n",
        "Opening file: ../../../Measurements/BreakTest_AluminiumBeam/results.enhanced/4-1/collect_158.bin\n",
        "Closed file: ../../../Measurements/BreakTest_AluminiumBeam/results.enhanced/4-1/collect_158.bin\n",
        "Opening file: ../../../Measurements/BreakTest_AluminiumBeam/results.enhanced/4-1/collect_159.bin\n",
        "Closed file: ../../../Measurements/BreakTest_AluminiumBeam/results.enhanced/4-1/collect_159.bin"
       ]
      },
      {
       "output_type": "stream",
       "stream": "stdout",
       "text": [
        "\n",
        "Opening file: ../../../Measurements/BreakTest_AluminiumBeam/results.enhanced/4-1/collect_160.bin\n",
        "Closed file: ../../../Measurements/BreakTest_AluminiumBeam/results.enhanced/4-1/collect_160.bin\n",
        "Opening file: ../../../Measurements/BreakTest_AluminiumBeam/results.enhanced/4-1/collect_161.bin\n",
        "Closed file: ../../../Measurements/BreakTest_AluminiumBeam/results.enhanced/4-1/collect_161.bin\n",
        "Opening file: ../../../Measurements/BreakTest_AluminiumBeam/results.enhanced/4-1/collect_162.bin\n",
        "Closed file: ../../../Measurements/BreakTest_AluminiumBeam/results.enhanced/4-1/collect_162.bin\n",
        "Opening file: ../../../Measurements/BreakTest_AluminiumBeam/results.enhanced/4-1/collect_163.bin\n",
        "Closed file: ../../../Measurements/BreakTest_AluminiumBeam/results.enhanced/4-1/collect_163.bin\n",
        "Opening file: ../../../Measurements/BreakTest_AluminiumBeam/results.enhanced/4-1/collect_164.bin\n",
        "Closed file: ../../../Measurements/BreakTest_AluminiumBeam/results.enhanced/4-1/collect_164.bin"
       ]
      },
      {
       "output_type": "stream",
       "stream": "stdout",
       "text": [
        "\n",
        "Opening file: ../../../Measurements/BreakTest_AluminiumBeam/results.enhanced/4-1/collect_165.bin\n",
        "Closed file: ../../../Measurements/BreakTest_AluminiumBeam/results.enhanced/4-1/collect_165.bin\n",
        "Opening file: ../../../Measurements/BreakTest_AluminiumBeam/results.enhanced/4-1/collect_166.bin\n",
        "Closed file: ../../../Measurements/BreakTest_AluminiumBeam/results.enhanced/4-1/collect_166.bin\n",
        "Opening file: ../../../Measurements/BreakTest_AluminiumBeam/results.enhanced/4-1/collect_167.bin\n",
        "Closed file: ../../../Measurements/BreakTest_AluminiumBeam/results.enhanced/4-1/collect_167.bin\n",
        "Opening file: ../../../Measurements/BreakTest_AluminiumBeam/results.enhanced/4-1/collect_168.bin\n",
        "Closed file: ../../../Measurements/BreakTest_AluminiumBeam/results.enhanced/4-1/collect_168.bin"
       ]
      },
      {
       "output_type": "stream",
       "stream": "stdout",
       "text": [
        "\n",
        "Opening file: ../../../Measurements/BreakTest_AluminiumBeam/results.enhanced/4-1/collect_169.bin\n",
        "Closed file: ../../../Measurements/BreakTest_AluminiumBeam/results.enhanced/4-1/collect_169.bin\n",
        "Opening file: ../../../Measurements/BreakTest_AluminiumBeam/results.enhanced/4-1/collect_170.bin\n",
        "Closed file: ../../../Measurements/BreakTest_AluminiumBeam/results.enhanced/4-1/collect_170.bin\n",
        "Opening file: ../../../Measurements/BreakTest_AluminiumBeam/results.enhanced/4-1/collect_171.bin\n",
        "Closed file: ../../../Measurements/BreakTest_AluminiumBeam/results.enhanced/4-1/collect_171.bin\n",
        "Opening file: ../../../Measurements/BreakTest_AluminiumBeam/results.enhanced/4-1/collect_172.bin\n",
        "Closed file: ../../../Measurements/BreakTest_AluminiumBeam/results.enhanced/4-1/collect_172.bin"
       ]
      },
      {
       "output_type": "stream",
       "stream": "stdout",
       "text": [
        "\n",
        "Opening file: ../../../Measurements/BreakTest_AluminiumBeam/results.enhanced/4-1/collect_173.bin\n",
        "Closed file: ../../../Measurements/BreakTest_AluminiumBeam/results.enhanced/4-1/collect_173.bin\n",
        "Opening file: ../../../Measurements/BreakTest_AluminiumBeam/results.enhanced/4-1/collect_174.bin\n",
        "Closed file: ../../../Measurements/BreakTest_AluminiumBeam/results.enhanced/4-1/collect_174.bin\n",
        "Opening file: ../../../Measurements/BreakTest_AluminiumBeam/results.enhanced/4-1/collect_175.bin\n",
        "Closed file: ../../../Measurements/BreakTest_AluminiumBeam/results.enhanced/4-1/collect_175.bin\n",
        "Opening file: ../../../Measurements/BreakTest_AluminiumBeam/results.enhanced/4-1/collect_176.bin\n",
        "Closed file: ../../../Measurements/BreakTest_AluminiumBeam/results.enhanced/4-1/collect_176.bin\n",
        "Opening file: ../../../Measurements/BreakTest_AluminiumBeam/results.enhanced/4-1/collect_177.bin\n",
        "Closed file: ../../../Measurements/BreakTest_AluminiumBeam/results.enhanced/4-1/collect_177.bin"
       ]
      },
      {
       "output_type": "stream",
       "stream": "stdout",
       "text": [
        "\n",
        "Opening file: ../../../Measurements/BreakTest_AluminiumBeam/results.enhanced/4-1/collect_178.bin\n",
        "Closed file: ../../../Measurements/BreakTest_AluminiumBeam/results.enhanced/4-1/collect_178.bin\n",
        "Opening file: ../../../Measurements/BreakTest_AluminiumBeam/results.enhanced/4-1/collect_179.bin\n",
        "Closed file: ../../../Measurements/BreakTest_AluminiumBeam/results.enhanced/4-1/collect_179.bin\n",
        "Opening file: ../../../Measurements/BreakTest_AluminiumBeam/results.enhanced/4-1/collect_180.bin\n",
        "Closed file: ../../../Measurements/BreakTest_AluminiumBeam/results.enhanced/4-1/collect_180.bin\n",
        "Opening file: ../../../Measurements/BreakTest_AluminiumBeam/results.enhanced/4-1/collect_181.bin\n",
        "Closed file: ../../../Measurements/BreakTest_AluminiumBeam/results.enhanced/4-1/collect_181.bin"
       ]
      },
      {
       "output_type": "stream",
       "stream": "stdout",
       "text": [
        "\n",
        "Opening file: ../../../Measurements/BreakTest_AluminiumBeam/results.enhanced/4-1/collect_182.bin\n",
        "Closed file: ../../../Measurements/BreakTest_AluminiumBeam/results.enhanced/4-1/collect_182.bin\n",
        "Opening file: ../../../Measurements/BreakTest_AluminiumBeam/results.enhanced/4-1/collect_183.bin\n",
        "Closed file: ../../../Measurements/BreakTest_AluminiumBeam/results.enhanced/4-1/collect_183.bin\n",
        "Opening file: ../../../Measurements/BreakTest_AluminiumBeam/results.enhanced/4-1/collect_184.bin\n",
        "Closed file: ../../../Measurements/BreakTest_AluminiumBeam/results.enhanced/4-1/collect_184.bin"
       ]
      },
      {
       "output_type": "stream",
       "stream": "stdout",
       "text": [
        "\n",
        "Opening file: ../../../Measurements/BreakTest_AluminiumBeam/results.enhanced/4-1/collect_185.bin\n",
        "Closed file: ../../../Measurements/BreakTest_AluminiumBeam/results.enhanced/4-1/collect_185.bin\n",
        "Opening file: ../../../Measurements/BreakTest_AluminiumBeam/results.enhanced/4-1/collect_186.bin\n",
        "Closed file: ../../../Measurements/BreakTest_AluminiumBeam/results.enhanced/4-1/collect_186.bin\n",
        "Opening file: ../../../Measurements/BreakTest_AluminiumBeam/results.enhanced/4-1/collect_187.bin\n",
        "Closed file: ../../../Measurements/BreakTest_AluminiumBeam/results.enhanced/4-1/collect_187.bin\n",
        "Opening file: ../../../Measurements/BreakTest_AluminiumBeam/results.enhanced/4-1/collect_188.bin\n",
        "Closed file: ../../../Measurements/BreakTest_AluminiumBeam/results.enhanced/4-1/collect_188.bin\n",
        "Opening file: ../../../Measurements/BreakTest_AluminiumBeam/results.enhanced/4-1/collect_189.bin\n",
        "Closed file: ../../../Measurements/BreakTest_AluminiumBeam/results.enhanced/4-1/collect_189.bin\n",
        "Opening file: ../../../Measurements/BreakTest_AluminiumBeam/results.enhanced/4-1/collect_190.bin\n",
        "Closed file: ../../../Measurements/BreakTest_AluminiumBeam/results.enhanced/4-1/collect_190.bin"
       ]
      },
      {
       "output_type": "stream",
       "stream": "stdout",
       "text": [
        "\n",
        "Opening file: ../../../Measurements/BreakTest_AluminiumBeam/results.enhanced/4-1/collect_191.bin\n",
        "Closed file: ../../../Measurements/BreakTest_AluminiumBeam/results.enhanced/4-1/collect_191.bin\n",
        "Opening file: ../../../Measurements/BreakTest_AluminiumBeam/results.enhanced/4-1/collect_192.bin\n",
        "Closed file: ../../../Measurements/BreakTest_AluminiumBeam/results.enhanced/4-1/collect_192.bin\n",
        "Opening file: ../../../Measurements/BreakTest_AluminiumBeam/results.enhanced/4-1/collect_193.bin\n",
        "Closed file: ../../../Measurements/BreakTest_AluminiumBeam/results.enhanced/4-1/collect_193.bin\n",
        "Opening file: ../../../Measurements/BreakTest_AluminiumBeam/results.enhanced/4-1/collect_194.bin\n",
        "Closed file: ../../../Measurements/BreakTest_AluminiumBeam/results.enhanced/4-1/collect_194.bin\n",
        "Opening file: ../../../Measurements/BreakTest_AluminiumBeam/results.enhanced/4-1/collect_195.bin"
       ]
      },
      {
       "output_type": "stream",
       "stream": "stdout",
       "text": [
        "\n",
        "Closed file: ../../../Measurements/BreakTest_AluminiumBeam/results.enhanced/4-1/collect_195.bin\n",
        "Opening file: ../../../Measurements/BreakTest_AluminiumBeam/results.enhanced/4-1/collect_196.bin\n",
        "Closed file: ../../../Measurements/BreakTest_AluminiumBeam/results.enhanced/4-1/collect_196.bin\n",
        "Opening file: ../../../Measurements/BreakTest_AluminiumBeam/results.enhanced/4-1/collect_197.bin\n",
        "Closed file: ../../../Measurements/BreakTest_AluminiumBeam/results.enhanced/4-1/collect_197.bin\n",
        "Opening file: ../../../Measurements/BreakTest_AluminiumBeam/results.enhanced/4-1/collect_198.bin\n",
        "Closed file: ../../../Measurements/BreakTest_AluminiumBeam/results.enhanced/4-1/collect_198.bin\n",
        "Opening file: ../../../Measurements/BreakTest_AluminiumBeam/results.enhanced/4-1/collect_199.bin\n",
        "Closed file: ../../../Measurements/BreakTest_AluminiumBeam/results.enhanced/4-1/collect_199.bin\n",
        "Opening file: ../../../Measurements/BreakTest_AluminiumBeam/results.enhanced/4-1/collect_200.bin"
       ]
      },
      {
       "output_type": "stream",
       "stream": "stdout",
       "text": [
        "\n",
        "Closed file: ../../../Measurements/BreakTest_AluminiumBeam/results.enhanced/4-1/collect_200.bin\n",
        "Opening file: ../../../Measurements/BreakTest_AluminiumBeam/results.enhanced/4-1/collect_201.bin\n",
        "Closed file: ../../../Measurements/BreakTest_AluminiumBeam/results.enhanced/4-1/collect_201.bin\n",
        "Opening file: ../../../Measurements/BreakTest_AluminiumBeam/results.enhanced/4-1/collect_202.bin\n",
        "Closed file: ../../../Measurements/BreakTest_AluminiumBeam/results.enhanced/4-1/collect_202.bin\n",
        "Opening file: ../../../Measurements/BreakTest_AluminiumBeam/results.enhanced/4-1/collect_203.bin\n",
        "Closed file: ../../../Measurements/BreakTest_AluminiumBeam/results.enhanced/4-1/collect_203.bin\n",
        "Opening file: ../../../Measurements/BreakTest_AluminiumBeam/results.enhanced/4-1/collect_204.bin"
       ]
      },
      {
       "output_type": "stream",
       "stream": "stdout",
       "text": [
        "\n",
        "Closed file: ../../../Measurements/BreakTest_AluminiumBeam/results.enhanced/4-1/collect_204.bin\n",
        "Opening file: ../../../Measurements/BreakTest_AluminiumBeam/results.enhanced/4-1/collect_205.bin\n",
        "Closed file: ../../../Measurements/BreakTest_AluminiumBeam/results.enhanced/4-1/collect_205.bin"
       ]
      },
      {
       "output_type": "stream",
       "stream": "stdout",
       "text": [
        "\n",
        "Opening file: ../../../Measurements/BreakTest_AluminiumBeam/results.enhanced/4-1/collect_206.bin\n",
        "Closed file: ../../../Measurements/BreakTest_AluminiumBeam/results.enhanced/4-1/collect_206.bin\n",
        "Opening file: ../../../Measurements/BreakTest_AluminiumBeam/results.enhanced/4-1/collect_207.bin\n",
        "Closed file: ../../../Measurements/BreakTest_AluminiumBeam/results.enhanced/4-1/collect_207.bin\n",
        "Opening file: ../../../Measurements/BreakTest_AluminiumBeam/results.enhanced/4-1/collect_208.bin\n",
        "Closed file: ../../../Measurements/BreakTest_AluminiumBeam/results.enhanced/4-1/collect_208.bin\n",
        "Opening file: ../../../Measurements/BreakTest_AluminiumBeam/results.enhanced/4-1/collect_209.bin\n",
        "Closed file: ../../../Measurements/BreakTest_AluminiumBeam/results.enhanced/4-1/collect_209.bin\n",
        "Opening file: ../../../Measurements/BreakTest_AluminiumBeam/results.enhanced/4-1/collect_210.bin\n",
        "Closed file: ../../../Measurements/BreakTest_AluminiumBeam/results.enhanced/4-1/collect_210.bin"
       ]
      },
      {
       "output_type": "stream",
       "stream": "stdout",
       "text": [
        "\n",
        "Opening file: ../../../Measurements/BreakTest_AluminiumBeam/results.enhanced/4-1/collect_211.bin\n",
        "Closed file: ../../../Measurements/BreakTest_AluminiumBeam/results.enhanced/4-1/collect_211.bin\n",
        "Opening file: ../../../Measurements/BreakTest_AluminiumBeam/results.enhanced/4-1/collect_212.bin\n",
        "Closed file: ../../../Measurements/BreakTest_AluminiumBeam/results.enhanced/4-1/collect_212.bin\n",
        "Opening file: ../../../Measurements/BreakTest_AluminiumBeam/results.enhanced/4-1/collect_213.bin\n",
        "Closed file: ../../../Measurements/BreakTest_AluminiumBeam/results.enhanced/4-1/collect_213.bin\n",
        "Opening file: ../../../Measurements/BreakTest_AluminiumBeam/results.enhanced/4-1/collect_214.bin\n",
        "Closed file: ../../../Measurements/BreakTest_AluminiumBeam/results.enhanced/4-1/collect_214.bin"
       ]
      },
      {
       "output_type": "stream",
       "stream": "stdout",
       "text": [
        "\n",
        "Opening file: ../../../Measurements/BreakTest_AluminiumBeam/results.enhanced/4-1/collect_215.bin\n",
        "Closed file: ../../../Measurements/BreakTest_AluminiumBeam/results.enhanced/4-1/collect_215.bin\n",
        "Opening file: ../../../Measurements/BreakTest_AluminiumBeam/results.enhanced/4-1/collect_216.bin\n",
        "Closed file: ../../../Measurements/BreakTest_AluminiumBeam/results.enhanced/4-1/collect_216.bin\n",
        "Opening file: ../../../Measurements/BreakTest_AluminiumBeam/results.enhanced/4-1/collect_217.bin\n",
        "Closed file: ../../../Measurements/BreakTest_AluminiumBeam/results.enhanced/4-1/collect_217.bin\n",
        "Opening file: ../../../Measurements/BreakTest_AluminiumBeam/results.enhanced/4-1/collect_218.bin\n",
        "Closed file: ../../../Measurements/BreakTest_AluminiumBeam/results.enhanced/4-1/collect_218.bin"
       ]
      },
      {
       "output_type": "stream",
       "stream": "stdout",
       "text": [
        "\n",
        "Opening file: ../../../Measurements/BreakTest_AluminiumBeam/results.enhanced/4-1/collect_219.bin\n",
        "Closed file: ../../../Measurements/BreakTest_AluminiumBeam/results.enhanced/4-1/collect_219.bin\n",
        "Opening file: ../../../Measurements/BreakTest_AluminiumBeam/results.enhanced/4-1/collect_220.bin\n",
        "Closed file: ../../../Measurements/BreakTest_AluminiumBeam/results.enhanced/4-1/collect_220.bin\n",
        "Opening file: ../../../Measurements/BreakTest_AluminiumBeam/results.enhanced/4-1/collect_221.bin\n",
        "Closed file: ../../../Measurements/BreakTest_AluminiumBeam/results.enhanced/4-1/collect_221.bin\n",
        "Opening file: ../../../Measurements/BreakTest_AluminiumBeam/results.enhanced/4-1/collect_222.bin\n",
        "Closed file: ../../../Measurements/BreakTest_AluminiumBeam/results.enhanced/4-1/collect_222.bin"
       ]
      },
      {
       "output_type": "stream",
       "stream": "stdout",
       "text": [
        "\n",
        "Opening file: ../../../Measurements/BreakTest_AluminiumBeam/results.enhanced/4-1/collect_223.bin\n",
        "Closed file: ../../../Measurements/BreakTest_AluminiumBeam/results.enhanced/4-1/collect_223.bin\n",
        "Opening file: ../../../Measurements/BreakTest_AluminiumBeam/results.enhanced/4-1/collect_224.bin\n",
        "Closed file: ../../../Measurements/BreakTest_AluminiumBeam/results.enhanced/4-1/collect_224.bin\n",
        "Opening file: ../../../Measurements/BreakTest_AluminiumBeam/results.enhanced/4-1/collect_225.bin\n",
        "Closed file: ../../../Measurements/BreakTest_AluminiumBeam/results.enhanced/4-1/collect_225.bin\n",
        "Opening file: ../../../Measurements/BreakTest_AluminiumBeam/results.enhanced/4-1/collect_226.bin\n",
        "Closed file: ../../../Measurements/BreakTest_AluminiumBeam/results.enhanced/4-1/collect_226.bin\n",
        "Opening file: ../../../Measurements/BreakTest_AluminiumBeam/results.enhanced/4-1/collect_227.bin"
       ]
      },
      {
       "output_type": "stream",
       "stream": "stdout",
       "text": [
        "\n",
        "Closed file: ../../../Measurements/BreakTest_AluminiumBeam/results.enhanced/4-1/collect_227.bin\n",
        "Opening file: ../../../Measurements/BreakTest_AluminiumBeam/results.enhanced/4-1/collect_228.bin\n",
        "Closed file: ../../../Measurements/BreakTest_AluminiumBeam/results.enhanced/4-1/collect_228.bin\n",
        "Opening file: ../../../Measurements/BreakTest_AluminiumBeam/results.enhanced/4-1/collect_229.bin\n",
        "Closed file: ../../../Measurements/BreakTest_AluminiumBeam/results.enhanced/4-1/collect_229.bin\n",
        "Opening file: ../../../Measurements/BreakTest_AluminiumBeam/results.enhanced/4-1/collect_230.bin\n",
        "Closed file: ../../../Measurements/BreakTest_AluminiumBeam/results.enhanced/4-1/collect_230.bin\n",
        "Opening file: ../../../Measurements/BreakTest_AluminiumBeam/results.enhanced/4-1/collect_231.bin\n",
        "Closed file: ../../../Measurements/BreakTest_AluminiumBeam/results.enhanced/4-1/collect_231.bin"
       ]
      },
      {
       "output_type": "stream",
       "stream": "stdout",
       "text": [
        "\n",
        "Opening file: ../../../Measurements/BreakTest_AluminiumBeam/results.enhanced/4-1/collect_232.bin\n",
        "Closed file: ../../../Measurements/BreakTest_AluminiumBeam/results.enhanced/4-1/collect_232.bin\n",
        "Opening file: ../../../Measurements/BreakTest_AluminiumBeam/results.enhanced/4-1/collect_233.bin\n",
        "Closed file: ../../../Measurements/BreakTest_AluminiumBeam/results.enhanced/4-1/collect_233.bin\n",
        "Opening file: ../../../Measurements/BreakTest_AluminiumBeam/results.enhanced/4-1/collect_234.bin\n",
        "Closed file: ../../../Measurements/BreakTest_AluminiumBeam/results.enhanced/4-1/collect_234.bin\n",
        "Opening file: ../../../Measurements/BreakTest_AluminiumBeam/results.enhanced/4-1/collect_235.bin\n",
        "Closed file: ../../../Measurements/BreakTest_AluminiumBeam/results.enhanced/4-1/collect_235.bin"
       ]
      },
      {
       "output_type": "stream",
       "stream": "stdout",
       "text": [
        "\n",
        "Opening file: ../../../Measurements/BreakTest_AluminiumBeam/results.enhanced/4-1/collect_236.bin\n",
        "Closed file: ../../../Measurements/BreakTest_AluminiumBeam/results.enhanced/4-1/collect_236.bin\n",
        "Opening file: ../../../Measurements/BreakTest_AluminiumBeam/results.enhanced/4-1/collect_237.bin\n",
        "Closed file: ../../../Measurements/BreakTest_AluminiumBeam/results.enhanced/4-1/collect_237.bin\n",
        "Opening file: ../../../Measurements/BreakTest_AluminiumBeam/results.enhanced/4-1/collect_238.bin\n",
        "Closed file: ../../../Measurements/BreakTest_AluminiumBeam/results.enhanced/4-1/collect_238.bin\n",
        "Opening file: ../../../Measurements/BreakTest_AluminiumBeam/results.enhanced/4-1/collect_239.bin\n",
        "Closed file: ../../../Measurements/BreakTest_AluminiumBeam/results.enhanced/4-1/collect_239.bin\n",
        "Opening file: ../../../Measurements/BreakTest_AluminiumBeam/results.enhanced/4-1/collect_240.bin\n",
        "Closed file: ../../../Measurements/BreakTest_AluminiumBeam/results.enhanced/4-1/collect_240.bin"
       ]
      },
      {
       "output_type": "stream",
       "stream": "stdout",
       "text": [
        "\n",
        "Opening file: ../../../Measurements/BreakTest_AluminiumBeam/results.enhanced/4-1/collect_241.bin\n",
        "Closed file: ../../../Measurements/BreakTest_AluminiumBeam/results.enhanced/4-1/collect_241.bin\n",
        "Opening file: ../../../Measurements/BreakTest_AluminiumBeam/results.enhanced/4-1/collect_242.bin\n",
        "Closed file: ../../../Measurements/BreakTest_AluminiumBeam/results.enhanced/4-1/collect_242.bin\n",
        "Opening file: ../../../Measurements/BreakTest_AluminiumBeam/results.enhanced/4-1/collect_243.bin\n",
        "Closed file: ../../../Measurements/BreakTest_AluminiumBeam/results.enhanced/4-1/collect_243.bin\n",
        "Opening file: ../../../Measurements/BreakTest_AluminiumBeam/results.enhanced/4-1/collect_244.bin\n",
        "Closed file: ../../../Measurements/BreakTest_AluminiumBeam/results.enhanced/4-1/collect_244.bin\n",
        "Opening file: ../../../Measurements/BreakTest_AluminiumBeam/results.enhanced/4-1/collect_245.bin\n",
        "Closed file: ../../../Measurements/BreakTest_AluminiumBeam/results.enhanced/4-1/collect_245.bin\n",
        "Opening file: ../../../Measurements/BreakTest_AluminiumBeam/results.enhanced/4-1/collect_246.bin"
       ]
      },
      {
       "output_type": "stream",
       "stream": "stdout",
       "text": [
        "\n",
        "Closed file: ../../../Measurements/BreakTest_AluminiumBeam/results.enhanced/4-1/collect_246.bin\n",
        "Opening file: ../../../Measurements/BreakTest_AluminiumBeam/results.enhanced/4-1/collect_247.bin\n",
        "Closed file: ../../../Measurements/BreakTest_AluminiumBeam/results.enhanced/4-1/collect_247.bin\n",
        "Opening file: ../../../Measurements/BreakTest_AluminiumBeam/results.enhanced/4-1/collect_248.bin\n",
        "Closed file: ../../../Measurements/BreakTest_AluminiumBeam/results.enhanced/4-1/collect_248.bin\n",
        "Opening file: ../../../Measurements/BreakTest_AluminiumBeam/results.enhanced/4-1/collect_249.bin\n",
        "Closed file: ../../../Measurements/BreakTest_AluminiumBeam/results.enhanced/4-1/collect_249.bin"
       ]
      },
      {
       "output_type": "stream",
       "stream": "stdout",
       "text": [
        "\n",
        "Opening file: ../../../Measurements/BreakTest_AluminiumBeam/results.enhanced/4-1/collect_250.bin\n",
        "Closed file: ../../../Measurements/BreakTest_AluminiumBeam/results.enhanced/4-1/collect_250.bin\n",
        "Opening file: ../../../Measurements/BreakTest_AluminiumBeam/results.enhanced/4-1/collect_251.bin\n",
        "Closed file: ../../../Measurements/BreakTest_AluminiumBeam/results.enhanced/4-1/collect_251.bin\n",
        "Opening file: ../../../Measurements/BreakTest_AluminiumBeam/results.enhanced/4-1/collect_252.bin\n",
        "Closed file: ../../../Measurements/BreakTest_AluminiumBeam/results.enhanced/4-1/collect_252.bin\n",
        "Opening file: ../../../Measurements/BreakTest_AluminiumBeam/results.enhanced/4-1/collect_253.bin\n",
        "Closed file: ../../../Measurements/BreakTest_AluminiumBeam/results.enhanced/4-1/collect_253.bin"
       ]
      },
      {
       "output_type": "stream",
       "stream": "stdout",
       "text": [
        "\n",
        "Opening file: ../../../Measurements/BreakTest_AluminiumBeam/results.enhanced/4-1/collect_254.bin\n",
        "Closed file: ../../../Measurements/BreakTest_AluminiumBeam/results.enhanced/4-1/collect_254.bin\n",
        "Opening file: ../../../Measurements/BreakTest_AluminiumBeam/results.enhanced/4-1/collect_255.bin\n",
        "Closed file: ../../../Measurements/BreakTest_AluminiumBeam/results.enhanced/4-1/collect_255.bin\n",
        "Opening file: ../../../Measurements/BreakTest_AluminiumBeam/results.enhanced/4-1/collect_256.bin\n",
        "Closed file: ../../../Measurements/BreakTest_AluminiumBeam/results.enhanced/4-1/collect_256.bin\n",
        "Opening file: ../../../Measurements/BreakTest_AluminiumBeam/results.enhanced/4-1/collect_257.bin\n",
        "Closed file: ../../../Measurements/BreakTest_AluminiumBeam/results.enhanced/4-1/collect_257.bin"
       ]
      },
      {
       "output_type": "stream",
       "stream": "stdout",
       "text": [
        "\n",
        "Opening file: ../../../Measurements/BreakTest_AluminiumBeam/results.enhanced/4-1/collect_258.bin\n",
        "Closed file: ../../../Measurements/BreakTest_AluminiumBeam/results.enhanced/4-1/collect_258.bin\n",
        "Opening file: ../../../Measurements/BreakTest_AluminiumBeam/results.enhanced/4-1/collect_259.bin\n",
        "Closed file: ../../../Measurements/BreakTest_AluminiumBeam/results.enhanced/4-1/collect_259.bin\n",
        "Opening file: ../../../Measurements/BreakTest_AluminiumBeam/results.enhanced/4-1/collect_260.bin\n",
        "Closed file: ../../../Measurements/BreakTest_AluminiumBeam/results.enhanced/4-1/collect_260.bin\n",
        "Opening file: ../../../Measurements/BreakTest_AluminiumBeam/results.enhanced/4-1/collect_261.bin\n",
        "Closed file: ../../../Measurements/BreakTest_AluminiumBeam/results.enhanced/4-1/collect_261.bin"
       ]
      },
      {
       "output_type": "stream",
       "stream": "stdout",
       "text": [
        "\n",
        "Opening file: ../../../Measurements/BreakTest_AluminiumBeam/results.enhanced/4-1/collect_262.bin\n",
        "Closed file: ../../../Measurements/BreakTest_AluminiumBeam/results.enhanced/4-1/collect_262.bin\n",
        "Opening file: ../../../Measurements/BreakTest_AluminiumBeam/results.enhanced/4-1/collect_263.bin\n",
        "Closed file: ../../../Measurements/BreakTest_AluminiumBeam/results.enhanced/4-1/collect_263.bin\n",
        "Opening file: ../../../Measurements/BreakTest_AluminiumBeam/results.enhanced/4-1/collect_264.bin\n",
        "Closed file: ../../../Measurements/BreakTest_AluminiumBeam/results.enhanced/4-1/collect_264.bin\n",
        "Opening file: ../../../Measurements/BreakTest_AluminiumBeam/results.enhanced/4-1/collect_265.bin\n",
        "Closed file: ../../../Measurements/BreakTest_AluminiumBeam/results.enhanced/4-1/collect_265.bin"
       ]
      },
      {
       "output_type": "stream",
       "stream": "stdout",
       "text": [
        "\n",
        "Opening file: ../../../Measurements/BreakTest_AluminiumBeam/results.enhanced/4-1/collect_266.bin\n",
        "Closed file: ../../../Measurements/BreakTest_AluminiumBeam/results.enhanced/4-1/collect_266.bin\n",
        "Opening file: ../../../Measurements/BreakTest_AluminiumBeam/results.enhanced/4-1/collect_267.bin\n",
        "Closed file: ../../../Measurements/BreakTest_AluminiumBeam/results.enhanced/4-1/collect_267.bin\n",
        "Opening file: ../../../Measurements/BreakTest_AluminiumBeam/results.enhanced/4-1/collect_268.bin\n",
        "Closed file: ../../../Measurements/BreakTest_AluminiumBeam/results.enhanced/4-1/collect_268.bin\n",
        "Opening file: ../../../Measurements/BreakTest_AluminiumBeam/results.enhanced/4-1/collect_269.bin\n",
        "Closed file: ../../../Measurements/BreakTest_AluminiumBeam/results.enhanced/4-1/collect_269.bin\n",
        "Opening file: ../../../Measurements/BreakTest_AluminiumBeam/results.enhanced/4-1/collect_270.bin\n",
        "Closed file: ../../../Measurements/BreakTest_AluminiumBeam/results.enhanced/4-1/collect_270.bin"
       ]
      },
      {
       "output_type": "stream",
       "stream": "stdout",
       "text": [
        "\n",
        "Opening file: ../../../Measurements/BreakTest_AluminiumBeam/results.enhanced/4-1/collect_271.bin\n",
        "Closed file: ../../../Measurements/BreakTest_AluminiumBeam/results.enhanced/4-1/collect_271.bin\n",
        "Opening file: ../../../Measurements/BreakTest_AluminiumBeam/results.enhanced/4-1/collect_272.bin\n",
        "Closed file: ../../../Measurements/BreakTest_AluminiumBeam/results.enhanced/4-1/collect_272.bin\n",
        "Opening file: ../../../Measurements/BreakTest_AluminiumBeam/results.enhanced/4-1/collect_273.bin\n",
        "Closed file: ../../../Measurements/BreakTest_AluminiumBeam/results.enhanced/4-1/collect_273.bin\n",
        "Opening file: ../../../Measurements/BreakTest_AluminiumBeam/results.enhanced/4-1/collect_274.bin\n",
        "Closed file: ../../../Measurements/BreakTest_AluminiumBeam/results.enhanced/4-1/collect_274.bin\n",
        "Opening file: ../../../Measurements/BreakTest_AluminiumBeam/results.enhanced/4-1/collect_275.bin\n",
        "Closed file: ../../../Measurements/BreakTest_AluminiumBeam/results.enhanced/4-1/collect_275.bin"
       ]
      },
      {
       "output_type": "stream",
       "stream": "stdout",
       "text": [
        "\n",
        "Opening file: ../../../Measurements/BreakTest_AluminiumBeam/results.enhanced/4-1/collect_276.bin\n",
        "Closed file: ../../../Measurements/BreakTest_AluminiumBeam/results.enhanced/4-1/collect_276.bin\n",
        "Opening file: ../../../Measurements/BreakTest_AluminiumBeam/results.enhanced/4-1/collect_277.bin\n",
        "Closed file: ../../../Measurements/BreakTest_AluminiumBeam/results.enhanced/4-1/collect_277.bin\n",
        "Opening file: ../../../Measurements/BreakTest_AluminiumBeam/results.enhanced/4-1/collect_278.bin\n",
        "Closed file: ../../../Measurements/BreakTest_AluminiumBeam/results.enhanced/4-1/collect_278.bin\n",
        "Opening file: ../../../Measurements/BreakTest_AluminiumBeam/results.enhanced/4-1/collect_279.bin"
       ]
      },
      {
       "output_type": "stream",
       "stream": "stdout",
       "text": [
        "\n",
        "Closed file: ../../../Measurements/BreakTest_AluminiumBeam/results.enhanced/4-1/collect_279.bin\n",
        "Opening file: ../../../Measurements/BreakTest_AluminiumBeam/results.enhanced/4-1/collect_280.bin\n",
        "Closed file: ../../../Measurements/BreakTest_AluminiumBeam/results.enhanced/4-1/collect_280.bin\n",
        "Opening file: ../../../Measurements/BreakTest_AluminiumBeam/results.enhanced/4-1/collect_281.bin\n",
        "Closed file: ../../../Measurements/BreakTest_AluminiumBeam/results.enhanced/4-1/collect_281.bin\n",
        "Opening file: ../../../Measurements/BreakTest_AluminiumBeam/results.enhanced/4-1/collect_282.bin\n",
        "Closed file: ../../../Measurements/BreakTest_AluminiumBeam/results.enhanced/4-1/collect_282.bin\n",
        "Opening file: ../../../Measurements/BreakTest_AluminiumBeam/results.enhanced/4-1/collect_283.bin\n",
        "Closed file: ../../../Measurements/BreakTest_AluminiumBeam/results.enhanced/4-1/collect_283.bin"
       ]
      },
      {
       "output_type": "stream",
       "stream": "stdout",
       "text": [
        "\n",
        "Opening file: ../../../Measurements/BreakTest_AluminiumBeam/results.enhanced/4-1/collect_284.bin\n",
        "Closed file: ../../../Measurements/BreakTest_AluminiumBeam/results.enhanced/4-1/collect_284.bin\n",
        "Opening file: ../../../Measurements/BreakTest_AluminiumBeam/results.enhanced/4-1/collect_285.bin\n",
        "Closed file: ../../../Measurements/BreakTest_AluminiumBeam/results.enhanced/4-1/collect_285.bin\n",
        "Opening file: ../../../Measurements/BreakTest_AluminiumBeam/results.enhanced/4-1/collect_286.bin\n",
        "Closed file: ../../../Measurements/BreakTest_AluminiumBeam/results.enhanced/4-1/collect_286.bin\n",
        "Opening file: ../../../Measurements/BreakTest_AluminiumBeam/results.enhanced/4-1/collect_287.bin\n",
        "Closed file: ../../../Measurements/BreakTest_AluminiumBeam/results.enhanced/4-1/collect_287.bin\n",
        "Opening file: ../../../Measurements/BreakTest_AluminiumBeam/results.enhanced/4-1/collect_288.bin"
       ]
      },
      {
       "output_type": "stream",
       "stream": "stdout",
       "text": [
        "\n",
        "Closed file: ../../../Measurements/BreakTest_AluminiumBeam/results.enhanced/4-1/collect_288.bin\n",
        "Opening file: ../../../Measurements/BreakTest_AluminiumBeam/results.enhanced/4-1/collect_289.bin\n",
        "Closed file: ../../../Measurements/BreakTest_AluminiumBeam/results.enhanced/4-1/collect_289.bin\n",
        "Opening file: ../../../Measurements/BreakTest_AluminiumBeam/results.enhanced/4-1/collect_290.bin\n",
        "Closed file: ../../../Measurements/BreakTest_AluminiumBeam/results.enhanced/4-1/collect_290.bin\n",
        "Opening file: ../../../Measurements/BreakTest_AluminiumBeam/results.enhanced/4-1/collect_291.bin\n",
        "Closed file: ../../../Measurements/BreakTest_AluminiumBeam/results.enhanced/4-1/collect_291.bin"
       ]
      },
      {
       "output_type": "stream",
       "stream": "stdout",
       "text": [
        "\n",
        "Opening file: ../../../Measurements/BreakTest_AluminiumBeam/results.enhanced/4-1/collect_292.bin\n",
        "Closed file: ../../../Measurements/BreakTest_AluminiumBeam/results.enhanced/4-1/collect_292.bin\n",
        "Opening file: ../../../Measurements/BreakTest_AluminiumBeam/results.enhanced/4-1/collect_293.bin\n",
        "Closed file: ../../../Measurements/BreakTest_AluminiumBeam/results.enhanced/4-1/collect_293.bin\n",
        "Opening file: ../../../Measurements/BreakTest_AluminiumBeam/results.enhanced/4-1/collect_294.bin\n",
        "Closed file: ../../../Measurements/BreakTest_AluminiumBeam/results.enhanced/4-1/collect_294.bin\n",
        "Opening file: ../../../Measurements/BreakTest_AluminiumBeam/results.enhanced/4-1/collect_295.bin\n",
        "Closed file: ../../../Measurements/BreakTest_AluminiumBeam/results.enhanced/4-1/collect_295.bin"
       ]
      },
      {
       "output_type": "stream",
       "stream": "stdout",
       "text": [
        "\n",
        "Opening file: ../../../Measurements/BreakTest_AluminiumBeam/results.enhanced/4-1/collect_296.bin\n",
        "Closed file: ../../../Measurements/BreakTest_AluminiumBeam/results.enhanced/4-1/collect_296.bin\n",
        "Opening file: ../../../Measurements/BreakTest_AluminiumBeam/results.enhanced/4-1/collect_297.bin\n",
        "Closed file: ../../../Measurements/BreakTest_AluminiumBeam/results.enhanced/4-1/collect_297.bin\n",
        "Opening file: ../../../Measurements/BreakTest_AluminiumBeam/results.enhanced/4-1/collect_298.bin\n",
        "Closed file: ../../../Measurements/BreakTest_AluminiumBeam/results.enhanced/4-1/collect_298.bin\n",
        "Opening file: ../../../Measurements/BreakTest_AluminiumBeam/results.enhanced/4-1/collect_299.bin\n",
        "Closed file: ../../../Measurements/BreakTest_AluminiumBeam/results.enhanced/4-1/collect_299.bin"
       ]
      },
      {
       "output_type": "stream",
       "stream": "stdout",
       "text": [
        "\n",
        "Opening file: ../../../Measurements/BreakTest_AluminiumBeam/results.enhanced/4-1/collect_300.bin\n",
        "Closed file: ../../../Measurements/BreakTest_AluminiumBeam/results.enhanced/4-1/collect_300.bin\n",
        "Opening file: ../../../Measurements/BreakTest_AluminiumBeam/results.enhanced/4-1/collect_301.bin\n",
        "Closed file: ../../../Measurements/BreakTest_AluminiumBeam/results.enhanced/4-1/collect_301.bin\n",
        "Opening file: ../../../Measurements/BreakTest_AluminiumBeam/results.enhanced/4-1/collect_302.bin\n",
        "Closed file: ../../../Measurements/BreakTest_AluminiumBeam/results.enhanced/4-1/collect_302.bin\n",
        "Opening file: ../../../Measurements/BreakTest_AluminiumBeam/results.enhanced/4-1/collect_303.bin\n",
        "Closed file: ../../../Measurements/BreakTest_AluminiumBeam/results.enhanced/4-1/collect_303.bin\n",
        "Opening file: ../../../Measurements/BreakTest_AluminiumBeam/results.enhanced/4-1/collect_304.bin\n",
        "Closed file: ../../../Measurements/BreakTest_AluminiumBeam/results.enhanced/4-1/collect_304.bin"
       ]
      },
      {
       "output_type": "stream",
       "stream": "stdout",
       "text": [
        "\n",
        "Opening file: ../../../Measurements/BreakTest_AluminiumBeam/results.enhanced/4-1/collect_305.bin\n",
        "Closed file: ../../../Measurements/BreakTest_AluminiumBeam/results.enhanced/4-1/collect_305.bin\n",
        "Opening file: ../../../Measurements/BreakTest_AluminiumBeam/results.enhanced/4-1/collect_306.bin\n",
        "Closed file: ../../../Measurements/BreakTest_AluminiumBeam/results.enhanced/4-1/collect_306.bin\n",
        "Opening file: ../../../Measurements/BreakTest_AluminiumBeam/results.enhanced/4-1/collect_307.bin\n",
        "Closed file: ../../../Measurements/BreakTest_AluminiumBeam/results.enhanced/4-1/collect_307.bin\n",
        "Opening file: ../../../Measurements/BreakTest_AluminiumBeam/results.enhanced/4-1/collect_308.bin\n",
        "Closed file: ../../../Measurements/BreakTest_AluminiumBeam/results.enhanced/4-1/collect_308.bin\n",
        "Opening file: ../../../Measurements/BreakTest_AluminiumBeam/results.enhanced/4-1/collect_309.bin\n",
        "Closed file: ../../../Measurements/BreakTest_AluminiumBeam/results.enhanced/4-1/collect_309.bin\n",
        "Opening file: ../../../Measurements/BreakTest_AluminiumBeam/results.enhanced/4-1/collect_310.bin\n",
        "Closed file: ../../../Measurements/BreakTest_AluminiumBeam/results.enhanced/4-1/collect_310.bin"
       ]
      },
      {
       "output_type": "stream",
       "stream": "stdout",
       "text": [
        "\n",
        "Opening file: ../../../Measurements/BreakTest_AluminiumBeam/results.enhanced/4-1/collect_311.bin\n",
        "Closed file: ../../../Measurements/BreakTest_AluminiumBeam/results.enhanced/4-1/collect_311.bin\n",
        "Opening file: ../../../Measurements/BreakTest_AluminiumBeam/results.enhanced/4-1/collect_312.bin\n",
        "Closed file: ../../../Measurements/BreakTest_AluminiumBeam/results.enhanced/4-1/collect_312.bin\n",
        "Opening file: ../../../Measurements/BreakTest_AluminiumBeam/results.enhanced/4-1/collect_313.bin\n",
        "Closed file: ../../../Measurements/BreakTest_AluminiumBeam/results.enhanced/4-1/collect_313.bin\n",
        "Opening file: ../../../Measurements/BreakTest_AluminiumBeam/results.enhanced/4-1/collect_314.bin\n",
        "Closed file: ../../../Measurements/BreakTest_AluminiumBeam/results.enhanced/4-1/collect_314.bin"
       ]
      },
      {
       "output_type": "stream",
       "stream": "stdout",
       "text": [
        "\n",
        "Opening file: ../../../Measurements/BreakTest_AluminiumBeam/results.enhanced/4-1/collect_315.bin\n",
        "Closed file: ../../../Measurements/BreakTest_AluminiumBeam/results.enhanced/4-1/collect_315.bin\n",
        "Opening file: ../../../Measurements/BreakTest_AluminiumBeam/results.enhanced/4-1/collect_316.bin\n",
        "Closed file: ../../../Measurements/BreakTest_AluminiumBeam/results.enhanced/4-1/collect_316.bin\n",
        "Opening file: ../../../Measurements/BreakTest_AluminiumBeam/results.enhanced/4-1/collect_317.bin\n",
        "Closed file: ../../../Measurements/BreakTest_AluminiumBeam/results.enhanced/4-1/collect_317.bin\n",
        "Opening file: ../../../Measurements/BreakTest_AluminiumBeam/results.enhanced/4-1/collect_318.bin\n",
        "Closed file: ../../../Measurements/BreakTest_AluminiumBeam/results.enhanced/4-1/collect_318.bin\n",
        "Opening file: ../../../Measurements/BreakTest_AluminiumBeam/results.enhanced/4-1/collect_319.bin\n",
        "Closed file: ../../../Measurements/BreakTest_AluminiumBeam/results.enhanced/4-1/collect_319.bin\n",
        "Opening file: ../../../Measurements/BreakTest_AluminiumBeam/results.enhanced/4-1/collect_320.bin"
       ]
      },
      {
       "output_type": "stream",
       "stream": "stdout",
       "text": [
        "\n",
        "Closed file: ../../../Measurements/BreakTest_AluminiumBeam/results.enhanced/4-1/collect_320.bin\n",
        "Opening file: ../../../Measurements/BreakTest_AluminiumBeam/results.enhanced/4-1/collect_321.bin\n",
        "Closed file: ../../../Measurements/BreakTest_AluminiumBeam/results.enhanced/4-1/collect_321.bin\n",
        "Opening file: ../../../Measurements/BreakTest_AluminiumBeam/results.enhanced/4-1/collect_322.bin\n",
        "Closed file: ../../../Measurements/BreakTest_AluminiumBeam/results.enhanced/4-1/collect_322.bin\n",
        "Opening file: ../../../Measurements/BreakTest_AluminiumBeam/results.enhanced/4-1/collect_323.bin\n",
        "Closed file: ../../../Measurements/BreakTest_AluminiumBeam/results.enhanced/4-1/collect_323.bin"
       ]
      },
      {
       "output_type": "stream",
       "stream": "stdout",
       "text": [
        "\n",
        "Opening file: ../../../Measurements/BreakTest_AluminiumBeam/results.enhanced/4-1/collect_324.bin\n",
        "Closed file: ../../../Measurements/BreakTest_AluminiumBeam/results.enhanced/4-1/collect_324.bin\n",
        "Opening file: ../../../Measurements/BreakTest_AluminiumBeam/results.enhanced/4-1/collect_325.bin\n",
        "Closed file: ../../../Measurements/BreakTest_AluminiumBeam/results.enhanced/4-1/collect_325.bin\n",
        "Opening file: ../../../Measurements/BreakTest_AluminiumBeam/results.enhanced/4-1/collect_326.bin\n",
        "Closed file: ../../../Measurements/BreakTest_AluminiumBeam/results.enhanced/4-1/collect_326.bin\n",
        "Opening file: ../../../Measurements/BreakTest_AluminiumBeam/results.enhanced/4-1/collect_327.bin\n",
        "Closed file: ../../../Measurements/BreakTest_AluminiumBeam/results.enhanced/4-1/collect_327.bin\n",
        "Opening file: ../../../Measurements/BreakTest_AluminiumBeam/results.enhanced/4-1/collect_328.bin\n",
        "Closed file: ../../../Measurements/BreakTest_AluminiumBeam/results.enhanced/4-1/collect_328.bin\n",
        "Opening file: ../../../Measurements/BreakTest_AluminiumBeam/results.enhanced/4-1/collect_329.bin"
       ]
      },
      {
       "output_type": "stream",
       "stream": "stdout",
       "text": [
        "\n",
        "Closed file: ../../../Measurements/BreakTest_AluminiumBeam/results.enhanced/4-1/collect_329.bin\n",
        "Opening file: ../../../Measurements/BreakTest_AluminiumBeam/results.enhanced/4-1/collect_330.bin\n",
        "Closed file: ../../../Measurements/BreakTest_AluminiumBeam/results.enhanced/4-1/collect_330.bin\n",
        "Opening file: ../../../Measurements/BreakTest_AluminiumBeam/results.enhanced/4-1/collect_331.bin\n",
        "Closed file: ../../../Measurements/BreakTest_AluminiumBeam/results.enhanced/4-1/collect_331.bin\n",
        "Opening file: ../../../Measurements/BreakTest_AluminiumBeam/results.enhanced/4-1/collect_332.bin\n",
        "Closed file: ../../../Measurements/BreakTest_AluminiumBeam/results.enhanced/4-1/collect_332.bin\n",
        "Opening file: ../../../Measurements/BreakTest_AluminiumBeam/results.enhanced/4-1/collect_333.bin\n",
        "Closed file: ../../../Measurements/BreakTest_AluminiumBeam/results.enhanced/4-1/collect_333.bin"
       ]
      },
      {
       "output_type": "stream",
       "stream": "stdout",
       "text": [
        "\n",
        "Opening file: ../../../Measurements/BreakTest_AluminiumBeam/results.enhanced/4-1/collect_334.bin\n",
        "Closed file: ../../../Measurements/BreakTest_AluminiumBeam/results.enhanced/4-1/collect_334.bin\n",
        "Opening file: ../../../Measurements/BreakTest_AluminiumBeam/results.enhanced/4-1/collect_335.bin\n",
        "Closed file: ../../../Measurements/BreakTest_AluminiumBeam/results.enhanced/4-1/collect_335.bin\n",
        "Opening file: ../../../Measurements/BreakTest_AluminiumBeam/results.enhanced/4-1/collect_336.bin\n",
        "Closed file: ../../../Measurements/BreakTest_AluminiumBeam/results.enhanced/4-1/collect_336.bin\n",
        "Opening file: ../../../Measurements/BreakTest_AluminiumBeam/results.enhanced/4-1/collect_337.bin\n",
        "Closed file: ../../../Measurements/BreakTest_AluminiumBeam/results.enhanced/4-1/collect_337.bin\n",
        "Opening file: ../../../Measurements/BreakTest_AluminiumBeam/results.enhanced/4-1/collect_338.bin\n",
        "Closed file: ../../../Measurements/BreakTest_AluminiumBeam/results.enhanced/4-1/collect_338.bin\n",
        "Opening file: ../../../Measurements/BreakTest_AluminiumBeam/results.enhanced/4-1/collect_339.bin\n",
        "Closed file: ../../../Measurements/BreakTest_AluminiumBeam/results.enhanced/4-1/collect_339.bin"
       ]
      },
      {
       "output_type": "stream",
       "stream": "stdout",
       "text": [
        "\n",
        "Opening file: ../../../Measurements/BreakTest_AluminiumBeam/results.enhanced/4-1/collect_340.bin\n",
        "Closed file: ../../../Measurements/BreakTest_AluminiumBeam/results.enhanced/4-1/collect_340.bin\n",
        "Opening file: ../../../Measurements/BreakTest_AluminiumBeam/results.enhanced/4-1/collect_341.bin\n",
        "Closed file: ../../../Measurements/BreakTest_AluminiumBeam/results.enhanced/4-1/collect_341.bin\n",
        "Opening file: ../../../Measurements/BreakTest_AluminiumBeam/results.enhanced/4-1/collect_342.bin\n",
        "Closed file: ../../../Measurements/BreakTest_AluminiumBeam/results.enhanced/4-1/collect_342.bin\n",
        "Opening file: ../../../Measurements/BreakTest_AluminiumBeam/results.enhanced/4-1/collect_343.bin\n",
        "Closed file: ../../../Measurements/BreakTest_AluminiumBeam/results.enhanced/4-1/collect_343.bin\n",
        "Opening file: ../../../Measurements/BreakTest_AluminiumBeam/results.enhanced/4-1/collect_344.bin"
       ]
      },
      {
       "output_type": "stream",
       "stream": "stdout",
       "text": [
        "\n",
        "Closed file: ../../../Measurements/BreakTest_AluminiumBeam/results.enhanced/4-1/collect_344.bin\n",
        "Opening file: ../../../Measurements/BreakTest_AluminiumBeam/results.enhanced/4-1/collect_345.bin\n",
        "Closed file: ../../../Measurements/BreakTest_AluminiumBeam/results.enhanced/4-1/collect_345.bin\n",
        "Opening file: ../../../Measurements/BreakTest_AluminiumBeam/results.enhanced/4-1/collect_346.bin\n",
        "Closed file: ../../../Measurements/BreakTest_AluminiumBeam/results.enhanced/4-1/collect_346.bin\n",
        "Opening file: ../../../Measurements/BreakTest_AluminiumBeam/results.enhanced/4-1/collect_347.bin\n",
        "Closed file: ../../../Measurements/BreakTest_AluminiumBeam/results.enhanced/4-1/collect_347.bin"
       ]
      },
      {
       "output_type": "stream",
       "stream": "stdout",
       "text": [
        "\n",
        "Opening file: ../../../Measurements/BreakTest_AluminiumBeam/results.enhanced/4-1/collect_348.bin\n",
        "Closed file: ../../../Measurements/BreakTest_AluminiumBeam/results.enhanced/4-1/collect_348.bin\n",
        "Opening file: ../../../Measurements/BreakTest_AluminiumBeam/results.enhanced/4-1/collect_349.bin\n",
        "Closed file: ../../../Measurements/BreakTest_AluminiumBeam/results.enhanced/4-1/collect_349.bin\n",
        "Opening file: ../../../Measurements/BreakTest_AluminiumBeam/results.enhanced/4-1/collect_350.bin\n",
        "Closed file: ../../../Measurements/BreakTest_AluminiumBeam/results.enhanced/4-1/collect_350.bin\n",
        "Opening file: ../../../Measurements/BreakTest_AluminiumBeam/results.enhanced/4-1/collect_351.bin"
       ]
      },
      {
       "output_type": "stream",
       "stream": "stdout",
       "text": [
        "\n",
        "Closed file: ../../../Measurements/BreakTest_AluminiumBeam/results.enhanced/4-1/collect_351.bin\n",
        "Opening file: ../../../Measurements/BreakTest_AluminiumBeam/results.enhanced/4-1/collect_352.bin\n",
        "Closed file: ../../../Measurements/BreakTest_AluminiumBeam/results.enhanced/4-1/collect_352.bin\n",
        "Opening file: ../../../Measurements/BreakTest_AluminiumBeam/results.enhanced/4-1/collect_353.bin\n",
        "Closed file: ../../../Measurements/BreakTest_AluminiumBeam/results.enhanced/4-1/collect_353.bin\n",
        "Opening file: ../../../Measurements/BreakTest_AluminiumBeam/results.enhanced/4-1/collect_354.bin\n",
        "Closed file: ../../../Measurements/BreakTest_AluminiumBeam/results.enhanced/4-1/collect_354.bin"
       ]
      },
      {
       "output_type": "stream",
       "stream": "stdout",
       "text": [
        "\n",
        "Opening file: ../../../Measurements/BreakTest_AluminiumBeam/results.enhanced/4-1/collect_355.bin\n",
        "Closed file: ../../../Measurements/BreakTest_AluminiumBeam/results.enhanced/4-1/collect_355.bin\n",
        "Opening file: ../../../Measurements/BreakTest_AluminiumBeam/results.enhanced/4-1/collect_356.bin\n",
        "Closed file: ../../../Measurements/BreakTest_AluminiumBeam/results.enhanced/4-1/collect_356.bin\n",
        "Opening file: ../../../Measurements/BreakTest_AluminiumBeam/results.enhanced/4-1/collect_357.bin\n",
        "Closed file: ../../../Measurements/BreakTest_AluminiumBeam/results.enhanced/4-1/collect_357.bin\n",
        "Opening file: ../../../Measurements/BreakTest_AluminiumBeam/results.enhanced/4-1/collect_358.bin\n",
        "Closed file: ../../../Measurements/BreakTest_AluminiumBeam/results.enhanced/4-1/collect_358.bin\n",
        "Opening file: ../../../Measurements/BreakTest_AluminiumBeam/results.enhanced/4-1/collect_359.bin\n",
        "Closed file: ../../../Measurements/BreakTest_AluminiumBeam/results.enhanced/4-1/collect_359.bin\n",
        "Opening file: ../../../Measurements/BreakTest_AluminiumBeam/results.enhanced/4-1/collect_360.bin\n",
        "Closed file: ../../../Measurements/BreakTest_AluminiumBeam/results.enhanced/4-1/collect_360.bin"
       ]
      },
      {
       "output_type": "stream",
       "stream": "stdout",
       "text": [
        "\n",
        "Opening file: ../../../Measurements/BreakTest_AluminiumBeam/results.enhanced/4-1/collect_361.bin\n",
        "Closed file: ../../../Measurements/BreakTest_AluminiumBeam/results.enhanced/4-1/collect_361.bin\n",
        "Opening file: ../../../Measurements/BreakTest_AluminiumBeam/results.enhanced/4-1/collect_362.bin\n",
        "Closed file: ../../../Measurements/BreakTest_AluminiumBeam/results.enhanced/4-1/collect_362.bin\n",
        "Opening file: ../../../Measurements/BreakTest_AluminiumBeam/results.enhanced/4-1/collect_363.bin\n",
        "Closed file: ../../../Measurements/BreakTest_AluminiumBeam/results.enhanced/4-1/collect_363.bin\n",
        "Opening file: ../../../Measurements/BreakTest_AluminiumBeam/results.enhanced/4-1/collect_364.bin\n",
        "Closed file: ../../../Measurements/BreakTest_AluminiumBeam/results.enhanced/4-1/collect_364.bin\n",
        "Opening file: ../../../Measurements/BreakTest_AluminiumBeam/results.enhanced/4-1/collect_365.bin\n",
        "Closed file: ../../../Measurements/BreakTest_AluminiumBeam/results.enhanced/4-1/collect_365.bin"
       ]
      },
      {
       "output_type": "stream",
       "stream": "stdout",
       "text": [
        "\n",
        "Opening file: ../../../Measurements/BreakTest_AluminiumBeam/results.enhanced/4-1/collect_366.bin\n",
        "Closed file: ../../../Measurements/BreakTest_AluminiumBeam/results.enhanced/4-1/collect_366.bin\n",
        "Opening file: ../../../Measurements/BreakTest_AluminiumBeam/results.enhanced/4-1/collect_367.bin\n",
        "Closed file: ../../../Measurements/BreakTest_AluminiumBeam/results.enhanced/4-1/collect_367.bin\n",
        "Opening file: ../../../Measurements/BreakTest_AluminiumBeam/results.enhanced/4-1/collect_368.bin\n",
        "Closed file: ../../../Measurements/BreakTest_AluminiumBeam/results.enhanced/4-1/collect_368.bin\n",
        "Opening file: ../../../Measurements/BreakTest_AluminiumBeam/results.enhanced/4-1/collect_369.bin\n",
        "Closed file: ../../../Measurements/BreakTest_AluminiumBeam/results.enhanced/4-1/collect_369.bin\n",
        "Opening file: ../../../Measurements/BreakTest_AluminiumBeam/results.enhanced/4-1/collect_370.bin"
       ]
      },
      {
       "output_type": "stream",
       "stream": "stdout",
       "text": [
        "\n",
        "Closed file: ../../../Measurements/BreakTest_AluminiumBeam/results.enhanced/4-1/collect_370.bin\n",
        "Opening file: ../../../Measurements/BreakTest_AluminiumBeam/results.enhanced/4-1/collect_371.bin\n",
        "Closed file: ../../../Measurements/BreakTest_AluminiumBeam/results.enhanced/4-1/collect_371.bin\n",
        "Opening file: ../../../Measurements/BreakTest_AluminiumBeam/results.enhanced/4-1/collect_372.bin\n",
        "Closed file: ../../../Measurements/BreakTest_AluminiumBeam/results.enhanced/4-1/collect_372.bin\n",
        "Opening file: ../../../Measurements/BreakTest_AluminiumBeam/results.enhanced/4-1/collect_373.bin\n",
        "Closed file: ../../../Measurements/BreakTest_AluminiumBeam/results.enhanced/4-1/collect_373.bin\n",
        "Opening file: ../../../Measurements/BreakTest_AluminiumBeam/results.enhanced/4-1/collect_374.bin\n",
        "Closed file: ../../../Measurements/BreakTest_AluminiumBeam/results.enhanced/4-1/collect_374.bin\n",
        "Opening file: ../../../Measurements/BreakTest_AluminiumBeam/results.enhanced/4-1/collect_375.bin\n",
        "Closed file: ../../../Measurements/BreakTest_AluminiumBeam/results.enhanced/4-1/collect_375.bin"
       ]
      },
      {
       "output_type": "stream",
       "stream": "stdout",
       "text": [
        "\n",
        "Opening file: ../../../Measurements/BreakTest_AluminiumBeam/results.enhanced/4-1/collect_376.bin\n",
        "Closed file: ../../../Measurements/BreakTest_AluminiumBeam/results.enhanced/4-1/collect_376.bin\n",
        "Opening file: ../../../Measurements/BreakTest_AluminiumBeam/results.enhanced/4-1/collect_377.bin\n",
        "Closed file: ../../../Measurements/BreakTest_AluminiumBeam/results.enhanced/4-1/collect_377.bin\n",
        "Opening file: ../../../Measurements/BreakTest_AluminiumBeam/results.enhanced/4-1/collect_378.bin\n",
        "Closed file: ../../../Measurements/BreakTest_AluminiumBeam/results.enhanced/4-1/collect_378.bin\n",
        "Opening file: ../../../Measurements/BreakTest_AluminiumBeam/results.enhanced/4-1/collect_379.bin\n",
        "Closed file: ../../../Measurements/BreakTest_AluminiumBeam/results.enhanced/4-1/collect_379.bin\n",
        "Opening file: ../../../Measurements/BreakTest_AluminiumBeam/results.enhanced/4-1/collect_380.bin\n",
        "Closed file: ../../../Measurements/BreakTest_AluminiumBeam/results.enhanced/4-1/collect_380.bin\n",
        "Opening file: ../../../Measurements/BreakTest_AluminiumBeam/results.enhanced/4-1/collect_381.bin"
       ]
      },
      {
       "output_type": "stream",
       "stream": "stdout",
       "text": [
        "\n",
        "Closed file: ../../../Measurements/BreakTest_AluminiumBeam/results.enhanced/4-1/collect_381.bin\n",
        "Opening file: ../../../Measurements/BreakTest_AluminiumBeam/results.enhanced/4-1/collect_382.bin\n",
        "Closed file: ../../../Measurements/BreakTest_AluminiumBeam/results.enhanced/4-1/collect_382.bin\n",
        "Opening file: ../../../Measurements/BreakTest_AluminiumBeam/results.enhanced/4-1/collect_383.bin\n",
        "Closed file: ../../../Measurements/BreakTest_AluminiumBeam/results.enhanced/4-1/collect_383.bin\n",
        "Opening file: ../../../Measurements/BreakTest_AluminiumBeam/results.enhanced/4-1/collect_384.bin\n",
        "Closed file: ../../../Measurements/BreakTest_AluminiumBeam/results.enhanced/4-1/collect_384.bin\n",
        "Opening file: ../../../Measurements/BreakTest_AluminiumBeam/results.enhanced/4-1/collect_385.bin\n",
        "Closed file: ../../../Measurements/BreakTest_AluminiumBeam/results.enhanced/4-1/collect_385.bin"
       ]
      },
      {
       "output_type": "stream",
       "stream": "stdout",
       "text": [
        "\n",
        "Opening file: ../../../Measurements/BreakTest_AluminiumBeam/results.enhanced/4-1/collect_386.bin\n",
        "Closed file: ../../../Measurements/BreakTest_AluminiumBeam/results.enhanced/4-1/collect_386.bin\n",
        "Opening file: ../../../Measurements/BreakTest_AluminiumBeam/results.enhanced/4-1/collect_387.bin\n",
        "Closed file: ../../../Measurements/BreakTest_AluminiumBeam/results.enhanced/4-1/collect_387.bin\n",
        "Opening file: ../../../Measurements/BreakTest_AluminiumBeam/results.enhanced/4-1/collect_388.bin\n",
        "Closed file: ../../../Measurements/BreakTest_AluminiumBeam/results.enhanced/4-1/collect_388.bin\n",
        "Opening file: ../../../Measurements/BreakTest_AluminiumBeam/results.enhanced/4-1/collect_389.bin\n",
        "Closed file: ../../../Measurements/BreakTest_AluminiumBeam/results.enhanced/4-1/collect_389.bin\n",
        "Opening file: ../../../Measurements/BreakTest_AluminiumBeam/results.enhanced/4-1/collect_390.bin\n",
        "Closed file: ../../../Measurements/BreakTest_AluminiumBeam/results.enhanced/4-1/collect_390.bin"
       ]
      },
      {
       "output_type": "stream",
       "stream": "stdout",
       "text": [
        "\n",
        "Opening file: ../../../Measurements/BreakTest_AluminiumBeam/results.enhanced/4-1/collect_391.bin\n",
        "Closed file: ../../../Measurements/BreakTest_AluminiumBeam/results.enhanced/4-1/collect_391.bin\n",
        "Opening file: ../../../Measurements/BreakTest_AluminiumBeam/results.enhanced/4-1/collect_392.bin\n",
        "Closed file: ../../../Measurements/BreakTest_AluminiumBeam/results.enhanced/4-1/collect_392.bin\n",
        "Opening file: ../../../Measurements/BreakTest_AluminiumBeam/results.enhanced/4-1/collect_393.bin\n",
        "Closed file: ../../../Measurements/BreakTest_AluminiumBeam/results.enhanced/4-1/collect_393.bin\n",
        "Opening file: ../../../Measurements/BreakTest_AluminiumBeam/results.enhanced/4-1/collect_394.bin\n",
        "Closed file: ../../../Measurements/BreakTest_AluminiumBeam/results.enhanced/4-1/collect_394.bin\n",
        "Opening file: ../../../Measurements/BreakTest_AluminiumBeam/results.enhanced/4-1/collect_395.bin\n",
        "Closed file: ../../../Measurements/BreakTest_AluminiumBeam/results.enhanced/4-1/collect_395.bin"
       ]
      },
      {
       "output_type": "stream",
       "stream": "stdout",
       "text": [
        "\n",
        "Opening file: ../../../Measurements/BreakTest_AluminiumBeam/results.enhanced/4-1/collect_396.bin\n",
        "Closed file: ../../../Measurements/BreakTest_AluminiumBeam/results.enhanced/4-1/collect_396.bin\n",
        "Opening file: ../../../Measurements/BreakTest_AluminiumBeam/results.enhanced/4-1/collect_397.bin\n",
        "Closed file: ../../../Measurements/BreakTest_AluminiumBeam/results.enhanced/4-1/collect_397.bin"
       ]
      },
      {
       "output_type": "stream",
       "stream": "stdout",
       "text": [
        "\n",
        "Opening file: ../../../Measurements/BreakTest_AluminiumBeam/results.enhanced/4-1/collect_398.bin\n",
        "Closed file: ../../../Measurements/BreakTest_AluminiumBeam/results.enhanced/4-1/collect_398.bin\n",
        "Opening file: ../../../Measurements/BreakTest_AluminiumBeam/results.enhanced/4-1/collect_399.bin\n",
        "Closed file: ../../../Measurements/BreakTest_AluminiumBeam/results.enhanced/4-1/collect_399.bin\n",
        "Opening file: ../../../Measurements/BreakTest_AluminiumBeam/results.enhanced/4-1/collect_400.bin\n",
        "Closed file: ../../../Measurements/BreakTest_AluminiumBeam/results.enhanced/4-1/collect_400.bin\n",
        "Opening file: ../../../Measurements/BreakTest_AluminiumBeam/results.enhanced/4-1/collect_401.bin\n",
        "Closed file: ../../../Measurements/BreakTest_AluminiumBeam/results.enhanced/4-1/collect_401.bin\n",
        "Opening file: ../../../Measurements/BreakTest_AluminiumBeam/results.enhanced/4-1/collect_402.bin\n",
        "Closed file: ../../../Measurements/BreakTest_AluminiumBeam/results.enhanced/4-1/collect_402.bin\n",
        "Opening file: ../../../Measurements/BreakTest_AluminiumBeam/results.enhanced/4-1/collect_403.bin"
       ]
      },
      {
       "output_type": "stream",
       "stream": "stdout",
       "text": [
        "\n",
        "Closed file: ../../../Measurements/BreakTest_AluminiumBeam/results.enhanced/4-1/collect_403.bin\n",
        "Opening file: ../../../Measurements/BreakTest_AluminiumBeam/results.enhanced/4-1/collect_404.bin\n",
        "Closed file: ../../../Measurements/BreakTest_AluminiumBeam/results.enhanced/4-1/collect_404.bin\n",
        "Opening file: ../../../Measurements/BreakTest_AluminiumBeam/results.enhanced/4-1/collect_405.bin\n",
        "Closed file: ../../../Measurements/BreakTest_AluminiumBeam/results.enhanced/4-1/collect_405.bin\n",
        "Opening file: ../../../Measurements/BreakTest_AluminiumBeam/results.enhanced/4-1/collect_406.bin\n",
        "Closed file: ../../../Measurements/BreakTest_AluminiumBeam/results.enhanced/4-1/collect_406.bin\n",
        "Opening file: ../../../Measurements/BreakTest_AluminiumBeam/results.enhanced/4-1/collect_407.bin\n",
        "Closed file: ../../../Measurements/BreakTest_AluminiumBeam/results.enhanced/4-1/collect_407.bin\n",
        "Opening file: ../../../Measurements/BreakTest_AluminiumBeam/results.enhanced/4-1/collect_408.bin\n",
        "Closed file: ../../../Measurements/BreakTest_AluminiumBeam/results.enhanced/4-1/collect_408.bin"
       ]
      },
      {
       "output_type": "stream",
       "stream": "stdout",
       "text": [
        "\n",
        "Opening file: ../../../Measurements/BreakTest_AluminiumBeam/results.enhanced/4-1/collect_409.bin\n",
        "Closed file: ../../../Measurements/BreakTest_AluminiumBeam/results.enhanced/4-1/collect_409.bin\n",
        "Opening file: ../../../Measurements/BreakTest_AluminiumBeam/results.enhanced/4-1/collect_410.bin\n",
        "Closed file: ../../../Measurements/BreakTest_AluminiumBeam/results.enhanced/4-1/collect_410.bin\n",
        "Opening file: ../../../Measurements/BreakTest_AluminiumBeam/results.enhanced/4-1/collect_411.bin\n",
        "Closed file: ../../../Measurements/BreakTest_AluminiumBeam/results.enhanced/4-1/collect_411.bin\n",
        "Opening file: ../../../Measurements/BreakTest_AluminiumBeam/results.enhanced/4-1/collect_412.bin\n",
        "Closed file: ../../../Measurements/BreakTest_AluminiumBeam/results.enhanced/4-1/collect_412.bin\n",
        "Opening file: ../../../Measurements/BreakTest_AluminiumBeam/results.enhanced/4-1/collect_413.bin\n",
        "Closed file: ../../../Measurements/BreakTest_AluminiumBeam/results.enhanced/4-1/collect_413.bin\n",
        "Opening file: ../../../Measurements/BreakTest_AluminiumBeam/results.enhanced/4-1/collect_414.bin\n",
        "Closed file: ../../../Measurements/BreakTest_AluminiumBeam/results.enhanced/4-1/collect_414.bin"
       ]
      },
      {
       "output_type": "stream",
       "stream": "stdout",
       "text": [
        "\n",
        "Opening file: ../../../Measurements/BreakTest_AluminiumBeam/results.enhanced/4-1/collect_415.bin\n",
        "Closed file: ../../../Measurements/BreakTest_AluminiumBeam/results.enhanced/4-1/collect_415.bin\n",
        "Opening file: ../../../Measurements/BreakTest_AluminiumBeam/results.enhanced/4-1/collect_416.bin\n",
        "Closed file: ../../../Measurements/BreakTest_AluminiumBeam/results.enhanced/4-1/collect_416.bin\n",
        "Opening file: ../../../Measurements/BreakTest_AluminiumBeam/results.enhanced/4-1/collect_417.bin\n",
        "Closed file: ../../../Measurements/BreakTest_AluminiumBeam/results.enhanced/4-1/collect_417.bin\n",
        "Opening file: ../../../Measurements/BreakTest_AluminiumBeam/results.enhanced/4-1/collect_418.bin\n",
        "Closed file: ../../../Measurements/BreakTest_AluminiumBeam/results.enhanced/4-1/collect_418.bin\n",
        "Opening file: ../../../Measurements/BreakTest_AluminiumBeam/results.enhanced/4-1/collect_419.bin\n",
        "Closed file: ../../../Measurements/BreakTest_AluminiumBeam/results.enhanced/4-1/collect_419.bin\n",
        "Opening file: ../../../Measurements/BreakTest_AluminiumBeam/results.enhanced/4-1/collect_420.bin\n",
        "Closed file: ../../../Measurements/BreakTest_AluminiumBeam/results.enhanced/4-1/collect_420.bin\n",
        "Opening file: ../../../Measurements/BreakTest_AluminiumBeam/results.enhanced/4-1/collect_421.bin\n",
        "Closed file: ../../../Measurements/BreakTest_AluminiumBeam/results.enhanced/4-1/collect_421.bin"
       ]
      },
      {
       "output_type": "stream",
       "stream": "stdout",
       "text": [
        "\n",
        "Opening file: ../../../Measurements/BreakTest_AluminiumBeam/results.enhanced/4-1/collect_422.bin\n",
        "Closed file: ../../../Measurements/BreakTest_AluminiumBeam/results.enhanced/4-1/collect_422.bin\n",
        "Opening file: ../../../Measurements/BreakTest_AluminiumBeam/results.enhanced/4-1/collect_423.bin\n",
        "Closed file: ../../../Measurements/BreakTest_AluminiumBeam/results.enhanced/4-1/collect_423.bin\n",
        "Opening file: ../../../Measurements/BreakTest_AluminiumBeam/results.enhanced/4-1/collect_424.bin\n",
        "Closed file: ../../../Measurements/BreakTest_AluminiumBeam/results.enhanced/4-1/collect_424.bin\n",
        "Opening file: ../../../Measurements/BreakTest_AluminiumBeam/results.enhanced/4-1/collect_425.bin\n",
        "Closed file: ../../../Measurements/BreakTest_AluminiumBeam/results.enhanced/4-1/collect_425.bin\n",
        "Opening file: ../../../Measurements/BreakTest_AluminiumBeam/results.enhanced/4-1/collect_426.bin\n",
        "Closed file: ../../../Measurements/BreakTest_AluminiumBeam/results.enhanced/4-1/collect_426.bin\n",
        "Opening file: ../../../Measurements/BreakTest_AluminiumBeam/results.enhanced/4-1/collect_427.bin\n",
        "Closed file: ../../../Measurements/BreakTest_AluminiumBeam/results.enhanced/4-1/collect_427.bin"
       ]
      },
      {
       "output_type": "stream",
       "stream": "stdout",
       "text": [
        "\n",
        "Opening file: ../../../Measurements/BreakTest_AluminiumBeam/results.enhanced/4-1/collect_428.bin\n",
        "Closed file: ../../../Measurements/BreakTest_AluminiumBeam/results.enhanced/4-1/collect_428.bin\n",
        "Opening file: ../../../Measurements/BreakTest_AluminiumBeam/results.enhanced/4-1/collect_429.bin\n",
        "Closed file: ../../../Measurements/BreakTest_AluminiumBeam/results.enhanced/4-1/collect_429.bin\n",
        "Opening file: ../../../Measurements/BreakTest_AluminiumBeam/results.enhanced/4-1/collect_430.bin\n",
        "Closed file: ../../../Measurements/BreakTest_AluminiumBeam/results.enhanced/4-1/collect_430.bin\n",
        "Opening file: ../../../Measurements/BreakTest_AluminiumBeam/results.enhanced/4-1/collect_431.bin\n",
        "Closed file: ../../../Measurements/BreakTest_AluminiumBeam/results.enhanced/4-1/collect_431.bin"
       ]
      },
      {
       "output_type": "stream",
       "stream": "stdout",
       "text": [
        "\n",
        "Opening file: ../../../Measurements/BreakTest_AluminiumBeam/results.enhanced/4-1/collect_432.bin\n",
        "Closed file: ../../../Measurements/BreakTest_AluminiumBeam/results.enhanced/4-1/collect_432.bin\n",
        "Opening file: ../../../Measurements/BreakTest_AluminiumBeam/results.enhanced/4-1/collect_433.bin\n",
        "Closed file: ../../../Measurements/BreakTest_AluminiumBeam/results.enhanced/4-1/collect_433.bin\n",
        "Opening file: ../../../Measurements/BreakTest_AluminiumBeam/results.enhanced/4-1/collect_434.bin\n",
        "Closed file: ../../../Measurements/BreakTest_AluminiumBeam/results.enhanced/4-1/collect_434.bin\n",
        "Opening file: ../../../Measurements/BreakTest_AluminiumBeam/results.enhanced/4-1/collect_435.bin\n",
        "Closed file: ../../../Measurements/BreakTest_AluminiumBeam/results.enhanced/4-1/collect_435.bin"
       ]
      },
      {
       "output_type": "stream",
       "stream": "stdout",
       "text": [
        "\n",
        "Opening file: ../../../Measurements/BreakTest_AluminiumBeam/results.enhanced/4-1/collect_436.bin\n",
        "Closed file: ../../../Measurements/BreakTest_AluminiumBeam/results.enhanced/4-1/collect_436.bin\n",
        "Opening file: ../../../Measurements/BreakTest_AluminiumBeam/results.enhanced/4-1/collect_437.bin\n",
        "Closed file: ../../../Measurements/BreakTest_AluminiumBeam/results.enhanced/4-1/collect_437.bin\n",
        "Opening file: ../../../Measurements/BreakTest_AluminiumBeam/results.enhanced/4-1/collect_438.bin\n",
        "Closed file: ../../../Measurements/BreakTest_AluminiumBeam/results.enhanced/4-1/collect_438.bin\n",
        "Opening file: ../../../Measurements/BreakTest_AluminiumBeam/results.enhanced/4-1/collect_439.bin\n",
        "Closed file: ../../../Measurements/BreakTest_AluminiumBeam/results.enhanced/4-1/collect_439.bin\n",
        "Opening file: ../../../Measurements/BreakTest_AluminiumBeam/results.enhanced/4-1/collect_440.bin\n",
        "Closed file: ../../../Measurements/BreakTest_AluminiumBeam/results.enhanced/4-1/collect_440.bin\n",
        "Opening file: ../../../Measurements/BreakTest_AluminiumBeam/results.enhanced/4-1/collect_441.bin\n",
        "Closed file: ../../../Measurements/BreakTest_AluminiumBeam/results.enhanced/4-1/collect_441.bin"
       ]
      },
      {
       "output_type": "stream",
       "stream": "stdout",
       "text": [
        "\n",
        "Opening file: ../../../Measurements/BreakTest_AluminiumBeam/results.enhanced/4-1/collect_442.bin\n",
        "Closed file: ../../../Measurements/BreakTest_AluminiumBeam/results.enhanced/4-1/collect_442.bin\n",
        "Opening file: ../../../Measurements/BreakTest_AluminiumBeam/results.enhanced/4-1/collect_443.bin\n",
        "Closed file: ../../../Measurements/BreakTest_AluminiumBeam/results.enhanced/4-1/collect_443.bin\n",
        "Opening file: ../../../Measurements/BreakTest_AluminiumBeam/results.enhanced/4-1/collect_444.bin\n",
        "Closed file: ../../../Measurements/BreakTest_AluminiumBeam/results.enhanced/4-1/collect_444.bin\n",
        "Opening file: ../../../Measurements/BreakTest_AluminiumBeam/results.enhanced/4-1/collect_445.bin\n",
        "Closed file: ../../../Measurements/BreakTest_AluminiumBeam/results.enhanced/4-1/collect_445.bin\n",
        "Opening file: ../../../Measurements/BreakTest_AluminiumBeam/results.enhanced/4-1/collect_446.bin\n",
        "Closed file: ../../../Measurements/BreakTest_AluminiumBeam/results.enhanced/4-1/collect_446.bin"
       ]
      },
      {
       "output_type": "stream",
       "stream": "stdout",
       "text": [
        "\n",
        "Opening file: ../../../Measurements/BreakTest_AluminiumBeam/results.enhanced/4-1/collect_447.bin\n",
        "Closed file: ../../../Measurements/BreakTest_AluminiumBeam/results.enhanced/4-1/collect_447.bin\n",
        "Opening file: ../../../Measurements/BreakTest_AluminiumBeam/results.enhanced/4-1/collect_448.bin\n",
        "Closed file: ../../../Measurements/BreakTest_AluminiumBeam/results.enhanced/4-1/collect_448.bin\n",
        "Opening file: ../../../Measurements/BreakTest_AluminiumBeam/results.enhanced/4-1/collect_449.bin\n",
        "Closed file: ../../../Measurements/BreakTest_AluminiumBeam/results.enhanced/4-1/collect_449.bin\n",
        "Opening file: ../../../Measurements/BreakTest_AluminiumBeam/results.enhanced/4-1/collect_450.bin"
       ]
      },
      {
       "output_type": "stream",
       "stream": "stdout",
       "text": [
        "\n",
        "Closed file: ../../../Measurements/BreakTest_AluminiumBeam/results.enhanced/4-1/collect_450.bin\n",
        "Opening file: ../../../Measurements/BreakTest_AluminiumBeam/results.enhanced/4-1/collect_451.bin\n",
        "Closed file: ../../../Measurements/BreakTest_AluminiumBeam/results.enhanced/4-1/collect_451.bin\n",
        "Opening file: ../../../Measurements/BreakTest_AluminiumBeam/results.enhanced/4-1/collect_452.bin\n",
        "Closed file: ../../../Measurements/BreakTest_AluminiumBeam/results.enhanced/4-1/collect_452.bin"
       ]
      },
      {
       "output_type": "stream",
       "stream": "stdout",
       "text": [
        "\n",
        "Opening file: ../../../Measurements/BreakTest_AluminiumBeam/results.enhanced/4-1/collect_453.bin\n",
        "Closed file: ../../../Measurements/BreakTest_AluminiumBeam/results.enhanced/4-1/collect_453.bin\n",
        "Opening file: ../../../Measurements/BreakTest_AluminiumBeam/results.enhanced/4-1/collect_454.bin\n",
        "Closed file: ../../../Measurements/BreakTest_AluminiumBeam/results.enhanced/4-1/collect_454.bin\n",
        "Opening file: ../../../Measurements/BreakTest_AluminiumBeam/results.enhanced/4-1/collect_455.bin\n",
        "Closed file: ../../../Measurements/BreakTest_AluminiumBeam/results.enhanced/4-1/collect_455.bin\n",
        "Opening file: ../../../Measurements/BreakTest_AluminiumBeam/results.enhanced/4-1/collect_456.bin\n",
        "Closed file: ../../../Measurements/BreakTest_AluminiumBeam/results.enhanced/4-1/collect_456.bin"
       ]
      },
      {
       "output_type": "stream",
       "stream": "stdout",
       "text": [
        "\n",
        "Opening file: ../../../Measurements/BreakTest_AluminiumBeam/results.enhanced/4-1/collect_457.bin\n",
        "Closed file: ../../../Measurements/BreakTest_AluminiumBeam/results.enhanced/4-1/collect_457.bin\n",
        "Opening file: ../../../Measurements/BreakTest_AluminiumBeam/results.enhanced/4-1/collect_458.bin\n",
        "Closed file: ../../../Measurements/BreakTest_AluminiumBeam/results.enhanced/4-1/collect_458.bin\n",
        "Opening file: ../../../Measurements/BreakTest_AluminiumBeam/results.enhanced/4-1/collect_459.bin\n",
        "Closed file: ../../../Measurements/BreakTest_AluminiumBeam/results.enhanced/4-1/collect_459.bin\n",
        "Opening file: ../../../Measurements/BreakTest_AluminiumBeam/results.enhanced/4-1/collect_460.bin\n",
        "Closed file: ../../../Measurements/BreakTest_AluminiumBeam/results.enhanced/4-1/collect_460.bin"
       ]
      },
      {
       "output_type": "stream",
       "stream": "stdout",
       "text": [
        "\n",
        "Opening file: ../../../Measurements/BreakTest_AluminiumBeam/results.enhanced/4-1/collect_461.bin\n",
        "Closed file: ../../../Measurements/BreakTest_AluminiumBeam/results.enhanced/4-1/collect_461.bin\n",
        "Opening file: ../../../Measurements/BreakTest_AluminiumBeam/results.enhanced/4-1/collect_462.bin\n",
        "Closed file: ../../../Measurements/BreakTest_AluminiumBeam/results.enhanced/4-1/collect_462.bin\n",
        "Opening file: ../../../Measurements/BreakTest_AluminiumBeam/results.enhanced/4-1/collect_463.bin\n",
        "Closed file: ../../../Measurements/BreakTest_AluminiumBeam/results.enhanced/4-1/collect_463.bin\n",
        "Opening file: ../../../Measurements/BreakTest_AluminiumBeam/results.enhanced/4-1/collect_464.bin\n",
        "Closed file: ../../../Measurements/BreakTest_AluminiumBeam/results.enhanced/4-1/collect_464.bin\n",
        "Opening file: ../../../Measurements/BreakTest_AluminiumBeam/results.enhanced/4-1/collect_465.bin\n",
        "Closed file: ../../../Measurements/BreakTest_AluminiumBeam/results.enhanced/4-1/collect_465.bin"
       ]
      },
      {
       "output_type": "stream",
       "stream": "stdout",
       "text": [
        "\n",
        "Opening file: ../../../Measurements/BreakTest_AluminiumBeam/results.enhanced/4-1/collect_466.bin\n",
        "Closed file: ../../../Measurements/BreakTest_AluminiumBeam/results.enhanced/4-1/collect_466.bin\n"
       ]
      }
     ],
     "prompt_number": 1
    },
    {
     "cell_type": "code",
     "collapsed": false,
     "input": [
      "from helperfuncs.Raw_Data.removeDC import removeDC\n",
      "\n",
      "y_4 = removeDC(y_4)\n",
      "y2_4 = removeDC(y2_4)"
     ],
     "language": "python",
     "metadata": {},
     "outputs": [],
     "prompt_number": 2
    },
    {
     "cell_type": "heading",
     "level": 2,
     "metadata": {},
     "source": [
      "Time Difference of Arrival (TDOA)"
     ]
    },
    {
     "cell_type": "markdown",
     "metadata": {},
     "source": [
      "Theoretical value of TD."
     ]
    },
    {
     "cell_type": "code",
     "collapsed": false,
     "input": [
      "sensor1_pos = -61 *0.0254 #[m] crack is at 0\n",
      "sensor2_pos = 31 *0.0254 #[m] crack is at 0\n",
      "\n",
      "v = 3881.32 #m/s - sound speed in aluminium\n",
      "dist_diff = sensor1_pos + sensor2_pos #m - distance difference of sensors\n",
      "max_dist_diff = (np.abs(sensor1_pos) + np.abs(sensor2_pos)) #m - distance difference of sensors \n",
      "\n",
      "TD = dist_diff/v #s - theoretical TD\n",
      "print 'Theoretical time difference: %.2f us' % (TD*1e6)\n",
      "print 'Distance traveled in 810.7 usec: %.2f m' % (810.7e-6*v)\n",
      "print 'Distance traveled in 213 usec: %.2f m' % (213e-6*v)\n",
      "print 'Distance traveled in 500 usec: %.2f m' % (500e-6*v)"
     ],
     "language": "python",
     "metadata": {},
     "outputs": [
      {
       "output_type": "stream",
       "stream": "stdout",
       "text": [
        "Theoretical time difference: -196.32 us\n",
        "Distance traveled in 810.7 usec: 3.15 m\n",
        "Distance traveled in 213 usec: 0.83 m\n",
        "Distance traveled in 500 usec: 1.94 m\n"
       ]
      }
     ],
     "prompt_number": 3
    },
    {
     "cell_type": "heading",
     "level": 3,
     "metadata": {},
     "source": [
      "Akaike Information Criterion (AIC) onset time picker"
     ]
    },
    {
     "cell_type": "markdown",
     "metadata": {},
     "source": [
      "Calculate TDOA using the Akaike Information Criterion (AIC) as onset picker."
     ]
    },
    {
     "cell_type": "code",
     "collapsed": false,
     "input": [
      "from helperfuncs.Onset_Time.CalculateTDOA import CalculateTDOA\n",
      "from helperfuncs.Onset_Time.Onset_AIC import Onset_AIC\n",
      "\n",
      "AE_start_4, AE_start2_4, TD_meas, qty1, qty2 = CalculateTDOA(y_4, y2_4, T_4, Onset_AIC)\n",
      "qty_min = np.minimum(qty1, qty2)\n",
      "qty_max = np.maximum(qty1, qty2)"
     ],
     "language": "python",
     "metadata": {},
     "outputs": [
      {
       "output_type": "stream",
       "stream": "stdout",
       "text": [
        "0.00%\n",
        "0.21%"
       ]
      },
      {
       "output_type": "stream",
       "stream": "stdout",
       "text": [
        "\n",
        "0.43%"
       ]
      },
      {
       "output_type": "stream",
       "stream": "stdout",
       "text": [
        "\n",
        "0.64%"
       ]
      },
      {
       "output_type": "stream",
       "stream": "stdout",
       "text": [
        "\n",
        "0.86%"
       ]
      },
      {
       "output_type": "stream",
       "stream": "stdout",
       "text": [
        "\n",
        "1.07%"
       ]
      },
      {
       "output_type": "stream",
       "stream": "stdout",
       "text": [
        "\n",
        "1.28%"
       ]
      },
      {
       "output_type": "stream",
       "stream": "stdout",
       "text": [
        "\n",
        "1.50%"
       ]
      },
      {
       "output_type": "stream",
       "stream": "stdout",
       "text": [
        "\n",
        "1.71%"
       ]
      },
      {
       "output_type": "stream",
       "stream": "stdout",
       "text": [
        "\n",
        "1.93%"
       ]
      },
      {
       "output_type": "stream",
       "stream": "stdout",
       "text": [
        "\n",
        "2.14%"
       ]
      },
      {
       "output_type": "stream",
       "stream": "stdout",
       "text": [
        "\n",
        "2.36%"
       ]
      },
      {
       "output_type": "stream",
       "stream": "stdout",
       "text": [
        "\n",
        "2.57%"
       ]
      },
      {
       "output_type": "stream",
       "stream": "stdout",
       "text": [
        "\n",
        "2.78%"
       ]
      },
      {
       "output_type": "stream",
       "stream": "stdout",
       "text": [
        "\n",
        "3.00%"
       ]
      },
      {
       "output_type": "stream",
       "stream": "stdout",
       "text": [
        "\n",
        "3.21%"
       ]
      },
      {
       "output_type": "stream",
       "stream": "stdout",
       "text": [
        "\n",
        "3.43%"
       ]
      },
      {
       "output_type": "stream",
       "stream": "stdout",
       "text": [
        "\n",
        "3.64%"
       ]
      },
      {
       "output_type": "stream",
       "stream": "stdout",
       "text": [
        "\n",
        "3.85%"
       ]
      },
      {
       "output_type": "stream",
       "stream": "stdout",
       "text": [
        "\n",
        "4.07%"
       ]
      },
      {
       "output_type": "stream",
       "stream": "stdout",
       "text": [
        "\n",
        "4.28%"
       ]
      },
      {
       "output_type": "stream",
       "stream": "stdout",
       "text": [
        "\n",
        "4.50%"
       ]
      },
      {
       "output_type": "stream",
       "stream": "stdout",
       "text": [
        "\n",
        "4.71%"
       ]
      },
      {
       "output_type": "stream",
       "stream": "stdout",
       "text": [
        "\n",
        "4.93%"
       ]
      },
      {
       "output_type": "stream",
       "stream": "stdout",
       "text": [
        "\n",
        "5.14%"
       ]
      },
      {
       "output_type": "stream",
       "stream": "stdout",
       "text": [
        "\n",
        "5.35%"
       ]
      },
      {
       "output_type": "stream",
       "stream": "stdout",
       "text": [
        "\n",
        "5.57%"
       ]
      },
      {
       "output_type": "stream",
       "stream": "stdout",
       "text": [
        "\n",
        "5.78%"
       ]
      },
      {
       "output_type": "stream",
       "stream": "stdout",
       "text": [
        "\n",
        "6.00%"
       ]
      },
      {
       "output_type": "stream",
       "stream": "stdout",
       "text": [
        "\n",
        "6.21%"
       ]
      },
      {
       "output_type": "stream",
       "stream": "stdout",
       "text": [
        "\n",
        "6.42%"
       ]
      },
      {
       "output_type": "stream",
       "stream": "stdout",
       "text": [
        "\n",
        "6.64%"
       ]
      },
      {
       "output_type": "stream",
       "stream": "stdout",
       "text": [
        "\n",
        "6.85%"
       ]
      },
      {
       "output_type": "stream",
       "stream": "stdout",
       "text": [
        "\n",
        "7.07%"
       ]
      },
      {
       "output_type": "stream",
       "stream": "stdout",
       "text": [
        "\n",
        "7.28%"
       ]
      },
      {
       "output_type": "stream",
       "stream": "stdout",
       "text": [
        "\n",
        "7.49%"
       ]
      },
      {
       "output_type": "stream",
       "stream": "stdout",
       "text": [
        "\n",
        "7.71%"
       ]
      },
      {
       "output_type": "stream",
       "stream": "stdout",
       "text": [
        "\n",
        "7.92%"
       ]
      },
      {
       "output_type": "stream",
       "stream": "stdout",
       "text": [
        "\n",
        "8.14%"
       ]
      },
      {
       "output_type": "stream",
       "stream": "stdout",
       "text": [
        "\n",
        "8.35%"
       ]
      },
      {
       "output_type": "stream",
       "stream": "stdout",
       "text": [
        "\n",
        "8.57%"
       ]
      },
      {
       "output_type": "stream",
       "stream": "stdout",
       "text": [
        "\n",
        "8.78%"
       ]
      },
      {
       "output_type": "stream",
       "stream": "stdout",
       "text": [
        "\n",
        "8.99%"
       ]
      },
      {
       "output_type": "stream",
       "stream": "stdout",
       "text": [
        "\n",
        "9.21%"
       ]
      },
      {
       "output_type": "stream",
       "stream": "stdout",
       "text": [
        "\n",
        "9.42%"
       ]
      },
      {
       "output_type": "stream",
       "stream": "stdout",
       "text": [
        "\n",
        "9.64%"
       ]
      },
      {
       "output_type": "stream",
       "stream": "stdout",
       "text": [
        "\n",
        "9.85%"
       ]
      },
      {
       "output_type": "stream",
       "stream": "stdout",
       "text": [
        "\n",
        "10.06%"
       ]
      },
      {
       "output_type": "stream",
       "stream": "stdout",
       "text": [
        "\n",
        "10.28%"
       ]
      },
      {
       "output_type": "stream",
       "stream": "stdout",
       "text": [
        "\n",
        "10.49%"
       ]
      },
      {
       "output_type": "stream",
       "stream": "stdout",
       "text": [
        "\n",
        "10.71%"
       ]
      },
      {
       "output_type": "stream",
       "stream": "stdout",
       "text": [
        "\n",
        "10.92%"
       ]
      },
      {
       "output_type": "stream",
       "stream": "stdout",
       "text": [
        "\n",
        "11.13%"
       ]
      },
      {
       "output_type": "stream",
       "stream": "stdout",
       "text": [
        "\n",
        "11.35%"
       ]
      },
      {
       "output_type": "stream",
       "stream": "stdout",
       "text": [
        "\n",
        "11.56%"
       ]
      },
      {
       "output_type": "stream",
       "stream": "stdout",
       "text": [
        "\n",
        "11.78%"
       ]
      },
      {
       "output_type": "stream",
       "stream": "stdout",
       "text": [
        "\n",
        "11.99%"
       ]
      },
      {
       "output_type": "stream",
       "stream": "stdout",
       "text": [
        "\n",
        "12.21%"
       ]
      },
      {
       "output_type": "stream",
       "stream": "stdout",
       "text": [
        "\n",
        "12.42%"
       ]
      },
      {
       "output_type": "stream",
       "stream": "stdout",
       "text": [
        "\n",
        "12.63%"
       ]
      },
      {
       "output_type": "stream",
       "stream": "stdout",
       "text": [
        "\n",
        "12.85%"
       ]
      },
      {
       "output_type": "stream",
       "stream": "stdout",
       "text": [
        "\n",
        "13.06%"
       ]
      },
      {
       "output_type": "stream",
       "stream": "stdout",
       "text": [
        "\n",
        "13.28%"
       ]
      },
      {
       "output_type": "stream",
       "stream": "stdout",
       "text": [
        "\n",
        "13.49%"
       ]
      },
      {
       "output_type": "stream",
       "stream": "stdout",
       "text": [
        "\n",
        "13.70%"
       ]
      },
      {
       "output_type": "stream",
       "stream": "stdout",
       "text": [
        "\n",
        "13.92%"
       ]
      },
      {
       "output_type": "stream",
       "stream": "stdout",
       "text": [
        "\n",
        "14.13%"
       ]
      },
      {
       "output_type": "stream",
       "stream": "stdout",
       "text": [
        "\n",
        "14.35%"
       ]
      },
      {
       "output_type": "stream",
       "stream": "stdout",
       "text": [
        "\n",
        "14.56%"
       ]
      },
      {
       "output_type": "stream",
       "stream": "stdout",
       "text": [
        "\n",
        "14.78%"
       ]
      },
      {
       "output_type": "stream",
       "stream": "stdout",
       "text": [
        "\n",
        "14.99%"
       ]
      },
      {
       "output_type": "stream",
       "stream": "stdout",
       "text": [
        "\n",
        "15.20%"
       ]
      },
      {
       "output_type": "stream",
       "stream": "stdout",
       "text": [
        "\n",
        "15.42%"
       ]
      },
      {
       "output_type": "stream",
       "stream": "stdout",
       "text": [
        "\n",
        "15.63%"
       ]
      },
      {
       "output_type": "stream",
       "stream": "stdout",
       "text": [
        "\n",
        "15.85%"
       ]
      },
      {
       "output_type": "stream",
       "stream": "stdout",
       "text": [
        "\n",
        "16.06%"
       ]
      },
      {
       "output_type": "stream",
       "stream": "stdout",
       "text": [
        "\n",
        "16.27%"
       ]
      },
      {
       "output_type": "stream",
       "stream": "stdout",
       "text": [
        "\n",
        "16.49%"
       ]
      },
      {
       "output_type": "stream",
       "stream": "stdout",
       "text": [
        "\n",
        "16.70%"
       ]
      },
      {
       "output_type": "stream",
       "stream": "stdout",
       "text": [
        "\n",
        "16.92%"
       ]
      },
      {
       "output_type": "stream",
       "stream": "stdout",
       "text": [
        "\n",
        "17.13%"
       ]
      },
      {
       "output_type": "stream",
       "stream": "stdout",
       "text": [
        "\n",
        "17.34%"
       ]
      },
      {
       "output_type": "stream",
       "stream": "stdout",
       "text": [
        "\n",
        "17.56%"
       ]
      },
      {
       "output_type": "stream",
       "stream": "stdout",
       "text": [
        "\n",
        "17.77%"
       ]
      },
      {
       "output_type": "stream",
       "stream": "stdout",
       "text": [
        "\n",
        "17.99%"
       ]
      },
      {
       "output_type": "stream",
       "stream": "stdout",
       "text": [
        "\n",
        "18.20%"
       ]
      },
      {
       "output_type": "stream",
       "stream": "stdout",
       "text": [
        "\n",
        "18.42%"
       ]
      },
      {
       "output_type": "stream",
       "stream": "stdout",
       "text": [
        "\n",
        "18.63%"
       ]
      },
      {
       "output_type": "stream",
       "stream": "stdout",
       "text": [
        "\n",
        "18.84%"
       ]
      },
      {
       "output_type": "stream",
       "stream": "stdout",
       "text": [
        "\n",
        "19.06%"
       ]
      },
      {
       "output_type": "stream",
       "stream": "stdout",
       "text": [
        "\n",
        "19.27%"
       ]
      },
      {
       "output_type": "stream",
       "stream": "stdout",
       "text": [
        "\n",
        "19.49%"
       ]
      },
      {
       "output_type": "stream",
       "stream": "stdout",
       "text": [
        "\n",
        "19.70%"
       ]
      },
      {
       "output_type": "stream",
       "stream": "stdout",
       "text": [
        "\n",
        "19.91%"
       ]
      },
      {
       "output_type": "stream",
       "stream": "stdout",
       "text": [
        "\n",
        "20.13%"
       ]
      },
      {
       "output_type": "stream",
       "stream": "stdout",
       "text": [
        "\n",
        "20.34%"
       ]
      },
      {
       "output_type": "stream",
       "stream": "stdout",
       "text": [
        "\n",
        "20.56%"
       ]
      },
      {
       "output_type": "stream",
       "stream": "stdout",
       "text": [
        "\n",
        "20.77%"
       ]
      },
      {
       "output_type": "stream",
       "stream": "stdout",
       "text": [
        "\n",
        "20.99%"
       ]
      },
      {
       "output_type": "stream",
       "stream": "stdout",
       "text": [
        "\n",
        "21.20%"
       ]
      },
      {
       "output_type": "stream",
       "stream": "stdout",
       "text": [
        "\n",
        "21.41%"
       ]
      },
      {
       "output_type": "stream",
       "stream": "stdout",
       "text": [
        "\n",
        "21.63%"
       ]
      },
      {
       "output_type": "stream",
       "stream": "stdout",
       "text": [
        "\n",
        "21.84%"
       ]
      },
      {
       "output_type": "stream",
       "stream": "stdout",
       "text": [
        "\n",
        "22.06%"
       ]
      },
      {
       "output_type": "stream",
       "stream": "stdout",
       "text": [
        "\n",
        "22.27%"
       ]
      },
      {
       "output_type": "stream",
       "stream": "stdout",
       "text": [
        "\n",
        "22.48%"
       ]
      },
      {
       "output_type": "stream",
       "stream": "stdout",
       "text": [
        "\n",
        "22.70%"
       ]
      },
      {
       "output_type": "stream",
       "stream": "stdout",
       "text": [
        "\n",
        "22.91%"
       ]
      },
      {
       "output_type": "stream",
       "stream": "stdout",
       "text": [
        "\n",
        "23.13%"
       ]
      },
      {
       "output_type": "stream",
       "stream": "stdout",
       "text": [
        "\n",
        "23.34%"
       ]
      },
      {
       "output_type": "stream",
       "stream": "stdout",
       "text": [
        "\n",
        "23.55%"
       ]
      },
      {
       "output_type": "stream",
       "stream": "stdout",
       "text": [
        "\n",
        "23.77%"
       ]
      },
      {
       "output_type": "stream",
       "stream": "stdout",
       "text": [
        "\n",
        "23.98%"
       ]
      },
      {
       "output_type": "stream",
       "stream": "stdout",
       "text": [
        "\n",
        "24.20%"
       ]
      },
      {
       "output_type": "stream",
       "stream": "stdout",
       "text": [
        "\n",
        "24.41%"
       ]
      },
      {
       "output_type": "stream",
       "stream": "stdout",
       "text": [
        "\n",
        "24.63%"
       ]
      },
      {
       "output_type": "stream",
       "stream": "stdout",
       "text": [
        "\n",
        "24.84%"
       ]
      },
      {
       "output_type": "stream",
       "stream": "stdout",
       "text": [
        "\n",
        "25.05%"
       ]
      },
      {
       "output_type": "stream",
       "stream": "stdout",
       "text": [
        "\n",
        "25.27%"
       ]
      },
      {
       "output_type": "stream",
       "stream": "stdout",
       "text": [
        "\n",
        "25.48%"
       ]
      },
      {
       "output_type": "stream",
       "stream": "stdout",
       "text": [
        "\n",
        "25.70%"
       ]
      },
      {
       "output_type": "stream",
       "stream": "stdout",
       "text": [
        "\n",
        "25.91%"
       ]
      },
      {
       "output_type": "stream",
       "stream": "stdout",
       "text": [
        "\n",
        "26.12%"
       ]
      },
      {
       "output_type": "stream",
       "stream": "stdout",
       "text": [
        "\n",
        "26.34%"
       ]
      },
      {
       "output_type": "stream",
       "stream": "stdout",
       "text": [
        "\n",
        "26.55%"
       ]
      },
      {
       "output_type": "stream",
       "stream": "stdout",
       "text": [
        "\n",
        "26.77%"
       ]
      },
      {
       "output_type": "stream",
       "stream": "stdout",
       "text": [
        "\n",
        "26.98%"
       ]
      },
      {
       "output_type": "stream",
       "stream": "stdout",
       "text": [
        "\n",
        "27.19%"
       ]
      },
      {
       "output_type": "stream",
       "stream": "stdout",
       "text": [
        "\n",
        "27.41%"
       ]
      },
      {
       "output_type": "stream",
       "stream": "stdout",
       "text": [
        "\n",
        "27.62%"
       ]
      },
      {
       "output_type": "stream",
       "stream": "stdout",
       "text": [
        "\n",
        "27.84%"
       ]
      },
      {
       "output_type": "stream",
       "stream": "stdout",
       "text": [
        "\n",
        "28.05%"
       ]
      },
      {
       "output_type": "stream",
       "stream": "stdout",
       "text": [
        "\n",
        "28.27%"
       ]
      },
      {
       "output_type": "stream",
       "stream": "stdout",
       "text": [
        "\n",
        "28.48%"
       ]
      },
      {
       "output_type": "stream",
       "stream": "stdout",
       "text": [
        "\n",
        "28.69%"
       ]
      },
      {
       "output_type": "stream",
       "stream": "stdout",
       "text": [
        "\n",
        "28.91%"
       ]
      },
      {
       "output_type": "stream",
       "stream": "stdout",
       "text": [
        "\n",
        "29.12%"
       ]
      },
      {
       "output_type": "stream",
       "stream": "stdout",
       "text": [
        "\n",
        "29.34%"
       ]
      },
      {
       "output_type": "stream",
       "stream": "stdout",
       "text": [
        "\n",
        "29.55%"
       ]
      },
      {
       "output_type": "stream",
       "stream": "stdout",
       "text": [
        "\n",
        "29.76%"
       ]
      },
      {
       "output_type": "stream",
       "stream": "stdout",
       "text": [
        "\n",
        "29.98%"
       ]
      },
      {
       "output_type": "stream",
       "stream": "stdout",
       "text": [
        "\n",
        "30.19%"
       ]
      },
      {
       "output_type": "stream",
       "stream": "stdout",
       "text": [
        "\n",
        "30.41%"
       ]
      },
      {
       "output_type": "stream",
       "stream": "stdout",
       "text": [
        "\n",
        "30.62%"
       ]
      },
      {
       "output_type": "stream",
       "stream": "stdout",
       "text": [
        "\n",
        "30.84%"
       ]
      },
      {
       "output_type": "stream",
       "stream": "stdout",
       "text": [
        "\n",
        "31.05%"
       ]
      },
      {
       "output_type": "stream",
       "stream": "stdout",
       "text": [
        "\n",
        "31.26%"
       ]
      },
      {
       "output_type": "stream",
       "stream": "stdout",
       "text": [
        "\n",
        "31.48%"
       ]
      },
      {
       "output_type": "stream",
       "stream": "stdout",
       "text": [
        "\n",
        "31.69%"
       ]
      },
      {
       "output_type": "stream",
       "stream": "stdout",
       "text": [
        "\n",
        "31.91%"
       ]
      },
      {
       "output_type": "stream",
       "stream": "stdout",
       "text": [
        "\n",
        "32.12%"
       ]
      },
      {
       "output_type": "stream",
       "stream": "stdout",
       "text": [
        "\n",
        "32.33%"
       ]
      },
      {
       "output_type": "stream",
       "stream": "stdout",
       "text": [
        "\n",
        "32.55%"
       ]
      },
      {
       "output_type": "stream",
       "stream": "stdout",
       "text": [
        "\n",
        "32.76%"
       ]
      },
      {
       "output_type": "stream",
       "stream": "stdout",
       "text": [
        "\n",
        "32.98%"
       ]
      },
      {
       "output_type": "stream",
       "stream": "stdout",
       "text": [
        "\n",
        "33.19%"
       ]
      },
      {
       "output_type": "stream",
       "stream": "stdout",
       "text": [
        "\n",
        "33.40%"
       ]
      },
      {
       "output_type": "stream",
       "stream": "stdout",
       "text": [
        "\n",
        "33.62%"
       ]
      },
      {
       "output_type": "stream",
       "stream": "stdout",
       "text": [
        "\n",
        "33.83%"
       ]
      },
      {
       "output_type": "stream",
       "stream": "stdout",
       "text": [
        "\n",
        "34.05%"
       ]
      },
      {
       "output_type": "stream",
       "stream": "stdout",
       "text": [
        "\n",
        "34.26%"
       ]
      },
      {
       "output_type": "stream",
       "stream": "stdout",
       "text": [
        "\n",
        "34.48%"
       ]
      },
      {
       "output_type": "stream",
       "stream": "stdout",
       "text": [
        "\n",
        "34.69%"
       ]
      },
      {
       "output_type": "stream",
       "stream": "stdout",
       "text": [
        "\n",
        "34.90%"
       ]
      },
      {
       "output_type": "stream",
       "stream": "stdout",
       "text": [
        "\n",
        "35.12%"
       ]
      },
      {
       "output_type": "stream",
       "stream": "stdout",
       "text": [
        "\n",
        "35.33%"
       ]
      },
      {
       "output_type": "stream",
       "stream": "stdout",
       "text": [
        "\n",
        "35.55%"
       ]
      },
      {
       "output_type": "stream",
       "stream": "stdout",
       "text": [
        "\n",
        "35.76%"
       ]
      },
      {
       "output_type": "stream",
       "stream": "stdout",
       "text": [
        "\n",
        "35.97%"
       ]
      },
      {
       "output_type": "stream",
       "stream": "stdout",
       "text": [
        "\n",
        "36.19%"
       ]
      },
      {
       "output_type": "stream",
       "stream": "stdout",
       "text": [
        "\n",
        "36.40%"
       ]
      },
      {
       "output_type": "stream",
       "stream": "stdout",
       "text": [
        "\n",
        "36.62%"
       ]
      },
      {
       "output_type": "stream",
       "stream": "stdout",
       "text": [
        "\n",
        "36.83%"
       ]
      },
      {
       "output_type": "stream",
       "stream": "stdout",
       "text": [
        "\n",
        "37.04%"
       ]
      },
      {
       "output_type": "stream",
       "stream": "stdout",
       "text": [
        "\n",
        "37.26%"
       ]
      },
      {
       "output_type": "stream",
       "stream": "stdout",
       "text": [
        "\n",
        "37.47%"
       ]
      },
      {
       "output_type": "stream",
       "stream": "stdout",
       "text": [
        "\n",
        "37.69%"
       ]
      },
      {
       "output_type": "stream",
       "stream": "stdout",
       "text": [
        "\n",
        "37.90%"
       ]
      },
      {
       "output_type": "stream",
       "stream": "stdout",
       "text": [
        "\n",
        "38.12%"
       ]
      },
      {
       "output_type": "stream",
       "stream": "stdout",
       "text": [
        "\n",
        "38.33%"
       ]
      },
      {
       "output_type": "stream",
       "stream": "stdout",
       "text": [
        "\n",
        "38.54%"
       ]
      },
      {
       "output_type": "stream",
       "stream": "stdout",
       "text": [
        "\n",
        "38.76%"
       ]
      },
      {
       "output_type": "stream",
       "stream": "stdout",
       "text": [
        "\n",
        "38.97%"
       ]
      },
      {
       "output_type": "stream",
       "stream": "stdout",
       "text": [
        "\n",
        "39.19%"
       ]
      },
      {
       "output_type": "stream",
       "stream": "stdout",
       "text": [
        "\n",
        "39.40%"
       ]
      },
      {
       "output_type": "stream",
       "stream": "stdout",
       "text": [
        "\n",
        "39.61%"
       ]
      },
      {
       "output_type": "stream",
       "stream": "stdout",
       "text": [
        "\n",
        "39.83%"
       ]
      },
      {
       "output_type": "stream",
       "stream": "stdout",
       "text": [
        "\n",
        "40.04%"
       ]
      },
      {
       "output_type": "stream",
       "stream": "stdout",
       "text": [
        "\n",
        "40.26%"
       ]
      },
      {
       "output_type": "stream",
       "stream": "stdout",
       "text": [
        "\n",
        "40.47%"
       ]
      },
      {
       "output_type": "stream",
       "stream": "stdout",
       "text": [
        "\n",
        "40.69%"
       ]
      },
      {
       "output_type": "stream",
       "stream": "stdout",
       "text": [
        "\n",
        "40.90%"
       ]
      },
      {
       "output_type": "stream",
       "stream": "stdout",
       "text": [
        "\n",
        "41.11%"
       ]
      },
      {
       "output_type": "stream",
       "stream": "stdout",
       "text": [
        "\n",
        "41.33%"
       ]
      },
      {
       "output_type": "stream",
       "stream": "stdout",
       "text": [
        "\n",
        "41.54%"
       ]
      },
      {
       "output_type": "stream",
       "stream": "stdout",
       "text": [
        "\n",
        "41.76%"
       ]
      },
      {
       "output_type": "stream",
       "stream": "stdout",
       "text": [
        "\n",
        "41.97%"
       ]
      },
      {
       "output_type": "stream",
       "stream": "stdout",
       "text": [
        "\n",
        "42.18%"
       ]
      },
      {
       "output_type": "stream",
       "stream": "stdout",
       "text": [
        "\n",
        "42.40%"
       ]
      },
      {
       "output_type": "stream",
       "stream": "stdout",
       "text": [
        "\n",
        "42.61%"
       ]
      },
      {
       "output_type": "stream",
       "stream": "stdout",
       "text": [
        "\n",
        "42.83%"
       ]
      },
      {
       "output_type": "stream",
       "stream": "stdout",
       "text": [
        "\n",
        "43.04%"
       ]
      },
      {
       "output_type": "stream",
       "stream": "stdout",
       "text": [
        "\n",
        "43.25%"
       ]
      },
      {
       "output_type": "stream",
       "stream": "stdout",
       "text": [
        "\n",
        "43.47%"
       ]
      },
      {
       "output_type": "stream",
       "stream": "stdout",
       "text": [
        "\n",
        "43.68%"
       ]
      },
      {
       "output_type": "stream",
       "stream": "stdout",
       "text": [
        "\n",
        "43.90%"
       ]
      },
      {
       "output_type": "stream",
       "stream": "stdout",
       "text": [
        "\n",
        "44.11%"
       ]
      },
      {
       "output_type": "stream",
       "stream": "stdout",
       "text": [
        "\n",
        "44.33%"
       ]
      },
      {
       "output_type": "stream",
       "stream": "stdout",
       "text": [
        "\n",
        "44.54%"
       ]
      },
      {
       "output_type": "stream",
       "stream": "stdout",
       "text": [
        "\n",
        "44.75%"
       ]
      },
      {
       "output_type": "stream",
       "stream": "stdout",
       "text": [
        "\n",
        "44.97%"
       ]
      },
      {
       "output_type": "stream",
       "stream": "stdout",
       "text": [
        "\n",
        "45.18%"
       ]
      },
      {
       "output_type": "stream",
       "stream": "stdout",
       "text": [
        "\n",
        "45.40%"
       ]
      },
      {
       "output_type": "stream",
       "stream": "stdout",
       "text": [
        "\n",
        "45.61%"
       ]
      },
      {
       "output_type": "stream",
       "stream": "stdout",
       "text": [
        "\n",
        "45.82%"
       ]
      },
      {
       "output_type": "stream",
       "stream": "stdout",
       "text": [
        "\n",
        "46.04%"
       ]
      },
      {
       "output_type": "stream",
       "stream": "stdout",
       "text": [
        "\n",
        "46.25%"
       ]
      },
      {
       "output_type": "stream",
       "stream": "stdout",
       "text": [
        "\n",
        "46.47%"
       ]
      },
      {
       "output_type": "stream",
       "stream": "stdout",
       "text": [
        "\n",
        "46.68%"
       ]
      },
      {
       "output_type": "stream",
       "stream": "stdout",
       "text": [
        "\n",
        "46.90%"
       ]
      },
      {
       "output_type": "stream",
       "stream": "stdout",
       "text": [
        "\n",
        "47.11%"
       ]
      },
      {
       "output_type": "stream",
       "stream": "stdout",
       "text": [
        "\n",
        "47.32%"
       ]
      },
      {
       "output_type": "stream",
       "stream": "stdout",
       "text": [
        "\n",
        "47.54%"
       ]
      },
      {
       "output_type": "stream",
       "stream": "stdout",
       "text": [
        "\n",
        "47.75%"
       ]
      },
      {
       "output_type": "stream",
       "stream": "stdout",
       "text": [
        "\n",
        "47.97%"
       ]
      },
      {
       "output_type": "stream",
       "stream": "stdout",
       "text": [
        "\n",
        "48.18%"
       ]
      },
      {
       "output_type": "stream",
       "stream": "stdout",
       "text": [
        "\n",
        "48.39%"
       ]
      },
      {
       "output_type": "stream",
       "stream": "stdout",
       "text": [
        "\n",
        "48.61%"
       ]
      },
      {
       "output_type": "stream",
       "stream": "stdout",
       "text": [
        "\n",
        "48.82%"
       ]
      },
      {
       "output_type": "stream",
       "stream": "stdout",
       "text": [
        "\n",
        "49.04%"
       ]
      },
      {
       "output_type": "stream",
       "stream": "stdout",
       "text": [
        "\n",
        "49.25%"
       ]
      },
      {
       "output_type": "stream",
       "stream": "stdout",
       "text": [
        "\n",
        "49.46%"
       ]
      },
      {
       "output_type": "stream",
       "stream": "stdout",
       "text": [
        "\n",
        "49.68%"
       ]
      },
      {
       "output_type": "stream",
       "stream": "stdout",
       "text": [
        "\n",
        "49.89%"
       ]
      },
      {
       "output_type": "stream",
       "stream": "stdout",
       "text": [
        "\n",
        "50.11%"
       ]
      },
      {
       "output_type": "stream",
       "stream": "stdout",
       "text": [
        "\n",
        "50.32%"
       ]
      },
      {
       "output_type": "stream",
       "stream": "stdout",
       "text": [
        "\n",
        "50.54%"
       ]
      },
      {
       "output_type": "stream",
       "stream": "stdout",
       "text": [
        "\n",
        "50.75%"
       ]
      },
      {
       "output_type": "stream",
       "stream": "stdout",
       "text": [
        "\n",
        "50.96%"
       ]
      },
      {
       "output_type": "stream",
       "stream": "stdout",
       "text": [
        "\n",
        "51.18%"
       ]
      },
      {
       "output_type": "stream",
       "stream": "stdout",
       "text": [
        "\n",
        "51.39%"
       ]
      },
      {
       "output_type": "stream",
       "stream": "stdout",
       "text": [
        "\n",
        "51.61%"
       ]
      },
      {
       "output_type": "stream",
       "stream": "stdout",
       "text": [
        "\n",
        "51.82%"
       ]
      },
      {
       "output_type": "stream",
       "stream": "stdout",
       "text": [
        "\n",
        "52.03%"
       ]
      },
      {
       "output_type": "stream",
       "stream": "stdout",
       "text": [
        "\n",
        "52.25%"
       ]
      },
      {
       "output_type": "stream",
       "stream": "stdout",
       "text": [
        "\n",
        "52.46%"
       ]
      },
      {
       "output_type": "stream",
       "stream": "stdout",
       "text": [
        "\n",
        "52.68%"
       ]
      },
      {
       "output_type": "stream",
       "stream": "stdout",
       "text": [
        "\n",
        "52.89%"
       ]
      },
      {
       "output_type": "stream",
       "stream": "stdout",
       "text": [
        "\n",
        "53.10%"
       ]
      },
      {
       "output_type": "stream",
       "stream": "stdout",
       "text": [
        "\n",
        "53.32%"
       ]
      },
      {
       "output_type": "stream",
       "stream": "stdout",
       "text": [
        "\n",
        "53.53%"
       ]
      },
      {
       "output_type": "stream",
       "stream": "stdout",
       "text": [
        "\n",
        "53.75%"
       ]
      },
      {
       "output_type": "stream",
       "stream": "stdout",
       "text": [
        "\n",
        "53.96%"
       ]
      },
      {
       "output_type": "stream",
       "stream": "stdout",
       "text": [
        "\n",
        "54.18%"
       ]
      },
      {
       "output_type": "stream",
       "stream": "stdout",
       "text": [
        "\n",
        "54.39%"
       ]
      },
      {
       "output_type": "stream",
       "stream": "stdout",
       "text": [
        "\n",
        "54.60%"
       ]
      },
      {
       "output_type": "stream",
       "stream": "stdout",
       "text": [
        "\n",
        "54.82%"
       ]
      },
      {
       "output_type": "stream",
       "stream": "stdout",
       "text": [
        "\n",
        "55.03%"
       ]
      },
      {
       "output_type": "stream",
       "stream": "stdout",
       "text": [
        "\n",
        "55.25%"
       ]
      },
      {
       "output_type": "stream",
       "stream": "stdout",
       "text": [
        "\n",
        "55.46%"
       ]
      },
      {
       "output_type": "stream",
       "stream": "stdout",
       "text": [
        "\n",
        "55.67%"
       ]
      },
      {
       "output_type": "stream",
       "stream": "stdout",
       "text": [
        "\n",
        "55.89%"
       ]
      },
      {
       "output_type": "stream",
       "stream": "stdout",
       "text": [
        "\n",
        "56.10%"
       ]
      },
      {
       "output_type": "stream",
       "stream": "stdout",
       "text": [
        "\n",
        "56.32%"
       ]
      },
      {
       "output_type": "stream",
       "stream": "stdout",
       "text": [
        "\n",
        "56.53%"
       ]
      },
      {
       "output_type": "stream",
       "stream": "stdout",
       "text": [
        "\n",
        "56.75%"
       ]
      },
      {
       "output_type": "stream",
       "stream": "stdout",
       "text": [
        "\n",
        "56.96%"
       ]
      },
      {
       "output_type": "stream",
       "stream": "stdout",
       "text": [
        "\n",
        "57.17%"
       ]
      },
      {
       "output_type": "stream",
       "stream": "stdout",
       "text": [
        "\n",
        "57.39%"
       ]
      },
      {
       "output_type": "stream",
       "stream": "stdout",
       "text": [
        "\n",
        "57.60%"
       ]
      },
      {
       "output_type": "stream",
       "stream": "stdout",
       "text": [
        "\n",
        "57.82%"
       ]
      },
      {
       "output_type": "stream",
       "stream": "stdout",
       "text": [
        "\n",
        "58.03%"
       ]
      },
      {
       "output_type": "stream",
       "stream": "stdout",
       "text": [
        "\n",
        "58.24%"
       ]
      },
      {
       "output_type": "stream",
       "stream": "stdout",
       "text": [
        "\n",
        "58.46%"
       ]
      },
      {
       "output_type": "stream",
       "stream": "stdout",
       "text": [
        "\n",
        "58.67%"
       ]
      },
      {
       "output_type": "stream",
       "stream": "stdout",
       "text": [
        "\n",
        "58.89%"
       ]
      },
      {
       "output_type": "stream",
       "stream": "stdout",
       "text": [
        "\n",
        "59.10%"
       ]
      },
      {
       "output_type": "stream",
       "stream": "stdout",
       "text": [
        "\n",
        "59.31%"
       ]
      },
      {
       "output_type": "stream",
       "stream": "stdout",
       "text": [
        "\n",
        "59.53%"
       ]
      },
      {
       "output_type": "stream",
       "stream": "stdout",
       "text": [
        "\n",
        "59.74%"
       ]
      },
      {
       "output_type": "stream",
       "stream": "stdout",
       "text": [
        "\n",
        "59.96%"
       ]
      },
      {
       "output_type": "stream",
       "stream": "stdout",
       "text": [
        "\n",
        "60.17%"
       ]
      },
      {
       "output_type": "stream",
       "stream": "stdout",
       "text": [
        "\n",
        "60.39%"
       ]
      },
      {
       "output_type": "stream",
       "stream": "stdout",
       "text": [
        "\n",
        "60.60%"
       ]
      },
      {
       "output_type": "stream",
       "stream": "stdout",
       "text": [
        "\n",
        "60.81%"
       ]
      },
      {
       "output_type": "stream",
       "stream": "stdout",
       "text": [
        "\n",
        "61.03%"
       ]
      },
      {
       "output_type": "stream",
       "stream": "stdout",
       "text": [
        "\n",
        "61.24%"
       ]
      },
      {
       "output_type": "stream",
       "stream": "stdout",
       "text": [
        "\n",
        "61.46%"
       ]
      },
      {
       "output_type": "stream",
       "stream": "stdout",
       "text": [
        "\n",
        "61.67%"
       ]
      },
      {
       "output_type": "stream",
       "stream": "stdout",
       "text": [
        "\n",
        "61.88%"
       ]
      },
      {
       "output_type": "stream",
       "stream": "stdout",
       "text": [
        "\n",
        "62.10%"
       ]
      },
      {
       "output_type": "stream",
       "stream": "stdout",
       "text": [
        "\n",
        "62.31%"
       ]
      },
      {
       "output_type": "stream",
       "stream": "stdout",
       "text": [
        "\n",
        "62.53%"
       ]
      },
      {
       "output_type": "stream",
       "stream": "stdout",
       "text": [
        "\n",
        "62.74%"
       ]
      },
      {
       "output_type": "stream",
       "stream": "stdout",
       "text": [
        "\n",
        "62.96%"
       ]
      },
      {
       "output_type": "stream",
       "stream": "stdout",
       "text": [
        "\n",
        "63.17%"
       ]
      },
      {
       "output_type": "stream",
       "stream": "stdout",
       "text": [
        "\n",
        "63.38%"
       ]
      },
      {
       "output_type": "stream",
       "stream": "stdout",
       "text": [
        "\n",
        "63.60%"
       ]
      },
      {
       "output_type": "stream",
       "stream": "stdout",
       "text": [
        "\n",
        "63.81%"
       ]
      },
      {
       "output_type": "stream",
       "stream": "stdout",
       "text": [
        "\n",
        "64.03%"
       ]
      },
      {
       "output_type": "stream",
       "stream": "stdout",
       "text": [
        "\n",
        "64.24%"
       ]
      },
      {
       "output_type": "stream",
       "stream": "stdout",
       "text": [
        "\n",
        "64.45%"
       ]
      },
      {
       "output_type": "stream",
       "stream": "stdout",
       "text": [
        "\n",
        "64.67%"
       ]
      },
      {
       "output_type": "stream",
       "stream": "stdout",
       "text": [
        "\n",
        "64.88%"
       ]
      },
      {
       "output_type": "stream",
       "stream": "stdout",
       "text": [
        "\n",
        "65.10%"
       ]
      },
      {
       "output_type": "stream",
       "stream": "stdout",
       "text": [
        "\n",
        "65.31%"
       ]
      },
      {
       "output_type": "stream",
       "stream": "stdout",
       "text": [
        "\n",
        "65.52%"
       ]
      },
      {
       "output_type": "stream",
       "stream": "stdout",
       "text": [
        "\n",
        "65.74%"
       ]
      },
      {
       "output_type": "stream",
       "stream": "stdout",
       "text": [
        "\n",
        "65.95%"
       ]
      },
      {
       "output_type": "stream",
       "stream": "stdout",
       "text": [
        "\n",
        "66.17%"
       ]
      },
      {
       "output_type": "stream",
       "stream": "stdout",
       "text": [
        "\n",
        "66.38%"
       ]
      },
      {
       "output_type": "stream",
       "stream": "stdout",
       "text": [
        "\n",
        "66.60%"
       ]
      },
      {
       "output_type": "stream",
       "stream": "stdout",
       "text": [
        "\n",
        "66.81%"
       ]
      },
      {
       "output_type": "stream",
       "stream": "stdout",
       "text": [
        "\n",
        "67.02%"
       ]
      },
      {
       "output_type": "stream",
       "stream": "stdout",
       "text": [
        "\n",
        "67.24%"
       ]
      },
      {
       "output_type": "stream",
       "stream": "stdout",
       "text": [
        "\n",
        "67.45%"
       ]
      },
      {
       "output_type": "stream",
       "stream": "stdout",
       "text": [
        "\n",
        "67.67%"
       ]
      },
      {
       "output_type": "stream",
       "stream": "stdout",
       "text": [
        "\n",
        "67.88%"
       ]
      },
      {
       "output_type": "stream",
       "stream": "stdout",
       "text": [
        "\n",
        "68.09%"
       ]
      },
      {
       "output_type": "stream",
       "stream": "stdout",
       "text": [
        "\n",
        "68.31%"
       ]
      },
      {
       "output_type": "stream",
       "stream": "stdout",
       "text": [
        "\n",
        "68.52%"
       ]
      },
      {
       "output_type": "stream",
       "stream": "stdout",
       "text": [
        "\n",
        "68.74%"
       ]
      },
      {
       "output_type": "stream",
       "stream": "stdout",
       "text": [
        "\n",
        "68.95%"
       ]
      },
      {
       "output_type": "stream",
       "stream": "stdout",
       "text": [
        "\n",
        "69.16%"
       ]
      },
      {
       "output_type": "stream",
       "stream": "stdout",
       "text": [
        "\n",
        "69.38%"
       ]
      },
      {
       "output_type": "stream",
       "stream": "stdout",
       "text": [
        "\n",
        "69.59%"
       ]
      },
      {
       "output_type": "stream",
       "stream": "stdout",
       "text": [
        "\n",
        "69.81%"
       ]
      },
      {
       "output_type": "stream",
       "stream": "stdout",
       "text": [
        "\n",
        "70.02%"
       ]
      },
      {
       "output_type": "stream",
       "stream": "stdout",
       "text": [
        "\n",
        "70.24%"
       ]
      },
      {
       "output_type": "stream",
       "stream": "stdout",
       "text": [
        "\n",
        "70.45%"
       ]
      },
      {
       "output_type": "stream",
       "stream": "stdout",
       "text": [
        "\n",
        "70.66%"
       ]
      },
      {
       "output_type": "stream",
       "stream": "stdout",
       "text": [
        "\n",
        "70.88%"
       ]
      },
      {
       "output_type": "stream",
       "stream": "stdout",
       "text": [
        "\n",
        "71.09%"
       ]
      },
      {
       "output_type": "stream",
       "stream": "stdout",
       "text": [
        "\n",
        "71.31%"
       ]
      },
      {
       "output_type": "stream",
       "stream": "stdout",
       "text": [
        "\n",
        "71.52%"
       ]
      },
      {
       "output_type": "stream",
       "stream": "stdout",
       "text": [
        "\n",
        "71.73%"
       ]
      },
      {
       "output_type": "stream",
       "stream": "stdout",
       "text": [
        "\n",
        "71.95%"
       ]
      },
      {
       "output_type": "stream",
       "stream": "stdout",
       "text": [
        "\n",
        "72.16%"
       ]
      },
      {
       "output_type": "stream",
       "stream": "stdout",
       "text": [
        "\n",
        "72.38%"
       ]
      },
      {
       "output_type": "stream",
       "stream": "stdout",
       "text": [
        "\n",
        "72.59%"
       ]
      },
      {
       "output_type": "stream",
       "stream": "stdout",
       "text": [
        "\n",
        "72.81%"
       ]
      },
      {
       "output_type": "stream",
       "stream": "stdout",
       "text": [
        "\n",
        "73.02%"
       ]
      },
      {
       "output_type": "stream",
       "stream": "stdout",
       "text": [
        "\n",
        "73.23%"
       ]
      },
      {
       "output_type": "stream",
       "stream": "stdout",
       "text": [
        "\n",
        "73.45%"
       ]
      },
      {
       "output_type": "stream",
       "stream": "stdout",
       "text": [
        "\n",
        "73.66%"
       ]
      },
      {
       "output_type": "stream",
       "stream": "stdout",
       "text": [
        "\n",
        "73.88%"
       ]
      },
      {
       "output_type": "stream",
       "stream": "stdout",
       "text": [
        "\n",
        "74.09%"
       ]
      },
      {
       "output_type": "stream",
       "stream": "stdout",
       "text": [
        "\n",
        "74.30%"
       ]
      },
      {
       "output_type": "stream",
       "stream": "stdout",
       "text": [
        "\n",
        "74.52%"
       ]
      },
      {
       "output_type": "stream",
       "stream": "stdout",
       "text": [
        "\n",
        "74.73%"
       ]
      },
      {
       "output_type": "stream",
       "stream": "stdout",
       "text": [
        "\n",
        "74.95%"
       ]
      },
      {
       "output_type": "stream",
       "stream": "stdout",
       "text": [
        "\n",
        "75.16%"
       ]
      },
      {
       "output_type": "stream",
       "stream": "stdout",
       "text": [
        "\n",
        "75.37%"
       ]
      },
      {
       "output_type": "stream",
       "stream": "stdout",
       "text": [
        "\n",
        "75.59%"
       ]
      },
      {
       "output_type": "stream",
       "stream": "stdout",
       "text": [
        "\n",
        "75.80%"
       ]
      },
      {
       "output_type": "stream",
       "stream": "stdout",
       "text": [
        "\n",
        "76.02%"
       ]
      },
      {
       "output_type": "stream",
       "stream": "stdout",
       "text": [
        "\n",
        "76.23%"
       ]
      },
      {
       "output_type": "stream",
       "stream": "stdout",
       "text": [
        "\n",
        "76.45%"
       ]
      },
      {
       "output_type": "stream",
       "stream": "stdout",
       "text": [
        "\n",
        "76.66%"
       ]
      },
      {
       "output_type": "stream",
       "stream": "stdout",
       "text": [
        "\n",
        "76.87%"
       ]
      },
      {
       "output_type": "stream",
       "stream": "stdout",
       "text": [
        "\n",
        "77.09%"
       ]
      },
      {
       "output_type": "stream",
       "stream": "stdout",
       "text": [
        "\n",
        "77.30%"
       ]
      },
      {
       "output_type": "stream",
       "stream": "stdout",
       "text": [
        "\n",
        "77.52%"
       ]
      },
      {
       "output_type": "stream",
       "stream": "stdout",
       "text": [
        "\n",
        "77.73%"
       ]
      },
      {
       "output_type": "stream",
       "stream": "stdout",
       "text": [
        "\n",
        "77.94%"
       ]
      },
      {
       "output_type": "stream",
       "stream": "stdout",
       "text": [
        "\n",
        "78.16%"
       ]
      },
      {
       "output_type": "stream",
       "stream": "stdout",
       "text": [
        "\n",
        "78.37%"
       ]
      },
      {
       "output_type": "stream",
       "stream": "stdout",
       "text": [
        "\n",
        "78.59%"
       ]
      },
      {
       "output_type": "stream",
       "stream": "stdout",
       "text": [
        "\n",
        "78.80%"
       ]
      },
      {
       "output_type": "stream",
       "stream": "stdout",
       "text": [
        "\n",
        "79.01%"
       ]
      },
      {
       "output_type": "stream",
       "stream": "stdout",
       "text": [
        "\n",
        "79.23%"
       ]
      },
      {
       "output_type": "stream",
       "stream": "stdout",
       "text": [
        "\n",
        "79.44%"
       ]
      },
      {
       "output_type": "stream",
       "stream": "stdout",
       "text": [
        "\n",
        "79.66%"
       ]
      },
      {
       "output_type": "stream",
       "stream": "stdout",
       "text": [
        "\n",
        "79.87%"
       ]
      },
      {
       "output_type": "stream",
       "stream": "stdout",
       "text": [
        "\n",
        "80.09%"
       ]
      },
      {
       "output_type": "stream",
       "stream": "stdout",
       "text": [
        "\n",
        "80.30%"
       ]
      },
      {
       "output_type": "stream",
       "stream": "stdout",
       "text": [
        "\n",
        "80.51%"
       ]
      },
      {
       "output_type": "stream",
       "stream": "stdout",
       "text": [
        "\n",
        "80.73%"
       ]
      },
      {
       "output_type": "stream",
       "stream": "stdout",
       "text": [
        "\n",
        "80.94%"
       ]
      },
      {
       "output_type": "stream",
       "stream": "stdout",
       "text": [
        "\n",
        "81.16%"
       ]
      },
      {
       "output_type": "stream",
       "stream": "stdout",
       "text": [
        "\n",
        "81.37%"
       ]
      },
      {
       "output_type": "stream",
       "stream": "stdout",
       "text": [
        "\n",
        "81.58%"
       ]
      },
      {
       "output_type": "stream",
       "stream": "stdout",
       "text": [
        "\n",
        "81.80%"
       ]
      },
      {
       "output_type": "stream",
       "stream": "stdout",
       "text": [
        "\n",
        "82.01%"
       ]
      },
      {
       "output_type": "stream",
       "stream": "stdout",
       "text": [
        "\n",
        "82.23%"
       ]
      },
      {
       "output_type": "stream",
       "stream": "stdout",
       "text": [
        "\n",
        "82.44%"
       ]
      },
      {
       "output_type": "stream",
       "stream": "stdout",
       "text": [
        "\n",
        "82.66%"
       ]
      },
      {
       "output_type": "stream",
       "stream": "stdout",
       "text": [
        "\n",
        "82.87%"
       ]
      },
      {
       "output_type": "stream",
       "stream": "stdout",
       "text": [
        "\n",
        "83.08%"
       ]
      },
      {
       "output_type": "stream",
       "stream": "stdout",
       "text": [
        "\n",
        "83.30%"
       ]
      },
      {
       "output_type": "stream",
       "stream": "stdout",
       "text": [
        "\n",
        "83.51%"
       ]
      },
      {
       "output_type": "stream",
       "stream": "stdout",
       "text": [
        "\n",
        "83.73%"
       ]
      },
      {
       "output_type": "stream",
       "stream": "stdout",
       "text": [
        "\n",
        "83.94%"
       ]
      },
      {
       "output_type": "stream",
       "stream": "stdout",
       "text": [
        "\n",
        "84.15%"
       ]
      },
      {
       "output_type": "stream",
       "stream": "stdout",
       "text": [
        "\n",
        "84.37%"
       ]
      },
      {
       "output_type": "stream",
       "stream": "stdout",
       "text": [
        "\n",
        "84.58%"
       ]
      },
      {
       "output_type": "stream",
       "stream": "stdout",
       "text": [
        "\n",
        "84.80%"
       ]
      },
      {
       "output_type": "stream",
       "stream": "stdout",
       "text": [
        "\n",
        "85.01%"
       ]
      },
      {
       "output_type": "stream",
       "stream": "stdout",
       "text": [
        "\n",
        "85.22%"
       ]
      },
      {
       "output_type": "stream",
       "stream": "stdout",
       "text": [
        "\n",
        "85.44%"
       ]
      },
      {
       "output_type": "stream",
       "stream": "stdout",
       "text": [
        "\n",
        "85.65%"
       ]
      },
      {
       "output_type": "stream",
       "stream": "stdout",
       "text": [
        "\n",
        "85.87%"
       ]
      },
      {
       "output_type": "stream",
       "stream": "stdout",
       "text": [
        "\n",
        "86.08%"
       ]
      },
      {
       "output_type": "stream",
       "stream": "stdout",
       "text": [
        "\n",
        "86.30%"
       ]
      },
      {
       "output_type": "stream",
       "stream": "stdout",
       "text": [
        "\n",
        "86.51%"
       ]
      },
      {
       "output_type": "stream",
       "stream": "stdout",
       "text": [
        "\n",
        "86.72%"
       ]
      },
      {
       "output_type": "stream",
       "stream": "stdout",
       "text": [
        "\n",
        "86.94%"
       ]
      },
      {
       "output_type": "stream",
       "stream": "stdout",
       "text": [
        "\n",
        "87.15%"
       ]
      },
      {
       "output_type": "stream",
       "stream": "stdout",
       "text": [
        "\n",
        "87.37%"
       ]
      },
      {
       "output_type": "stream",
       "stream": "stdout",
       "text": [
        "\n",
        "87.58%"
       ]
      },
      {
       "output_type": "stream",
       "stream": "stdout",
       "text": [
        "\n",
        "87.79%"
       ]
      },
      {
       "output_type": "stream",
       "stream": "stdout",
       "text": [
        "\n",
        "88.01%"
       ]
      },
      {
       "output_type": "stream",
       "stream": "stdout",
       "text": [
        "\n",
        "88.22%"
       ]
      },
      {
       "output_type": "stream",
       "stream": "stdout",
       "text": [
        "\n",
        "88.44%"
       ]
      },
      {
       "output_type": "stream",
       "stream": "stdout",
       "text": [
        "\n",
        "88.65%"
       ]
      },
      {
       "output_type": "stream",
       "stream": "stdout",
       "text": [
        "\n",
        "88.87%"
       ]
      },
      {
       "output_type": "stream",
       "stream": "stdout",
       "text": [
        "\n",
        "89.08%"
       ]
      },
      {
       "output_type": "stream",
       "stream": "stdout",
       "text": [
        "\n",
        "89.29%"
       ]
      },
      {
       "output_type": "stream",
       "stream": "stdout",
       "text": [
        "\n",
        "89.51%"
       ]
      },
      {
       "output_type": "stream",
       "stream": "stdout",
       "text": [
        "\n",
        "89.72%"
       ]
      },
      {
       "output_type": "stream",
       "stream": "stdout",
       "text": [
        "\n",
        "89.94%"
       ]
      },
      {
       "output_type": "stream",
       "stream": "stdout",
       "text": [
        "\n",
        "90.15%"
       ]
      },
      {
       "output_type": "stream",
       "stream": "stdout",
       "text": [
        "\n",
        "90.36%"
       ]
      },
      {
       "output_type": "stream",
       "stream": "stdout",
       "text": [
        "\n",
        "90.58%"
       ]
      },
      {
       "output_type": "stream",
       "stream": "stdout",
       "text": [
        "\n",
        "90.79%"
       ]
      },
      {
       "output_type": "stream",
       "stream": "stdout",
       "text": [
        "\n",
        "91.01%"
       ]
      },
      {
       "output_type": "stream",
       "stream": "stdout",
       "text": [
        "\n",
        "91.22%"
       ]
      },
      {
       "output_type": "stream",
       "stream": "stdout",
       "text": [
        "\n",
        "91.43%"
       ]
      },
      {
       "output_type": "stream",
       "stream": "stdout",
       "text": [
        "\n",
        "91.65%"
       ]
      },
      {
       "output_type": "stream",
       "stream": "stdout",
       "text": [
        "\n",
        "91.86%"
       ]
      },
      {
       "output_type": "stream",
       "stream": "stdout",
       "text": [
        "\n",
        "92.08%"
       ]
      },
      {
       "output_type": "stream",
       "stream": "stdout",
       "text": [
        "\n",
        "92.29%"
       ]
      },
      {
       "output_type": "stream",
       "stream": "stdout",
       "text": [
        "\n",
        "92.51%"
       ]
      },
      {
       "output_type": "stream",
       "stream": "stdout",
       "text": [
        "\n",
        "92.72%"
       ]
      },
      {
       "output_type": "stream",
       "stream": "stdout",
       "text": [
        "\n",
        "92.93%"
       ]
      },
      {
       "output_type": "stream",
       "stream": "stdout",
       "text": [
        "\n",
        "93.15%"
       ]
      },
      {
       "output_type": "stream",
       "stream": "stdout",
       "text": [
        "\n",
        "93.36%"
       ]
      },
      {
       "output_type": "stream",
       "stream": "stdout",
       "text": [
        "\n",
        "93.58%"
       ]
      },
      {
       "output_type": "stream",
       "stream": "stdout",
       "text": [
        "\n",
        "93.79%"
       ]
      },
      {
       "output_type": "stream",
       "stream": "stdout",
       "text": [
        "\n",
        "94.00%"
       ]
      },
      {
       "output_type": "stream",
       "stream": "stdout",
       "text": [
        "\n",
        "94.22%"
       ]
      },
      {
       "output_type": "stream",
       "stream": "stdout",
       "text": [
        "\n",
        "94.43%"
       ]
      },
      {
       "output_type": "stream",
       "stream": "stdout",
       "text": [
        "\n",
        "94.65%"
       ]
      },
      {
       "output_type": "stream",
       "stream": "stdout",
       "text": [
        "\n",
        "94.86%"
       ]
      },
      {
       "output_type": "stream",
       "stream": "stdout",
       "text": [
        "\n",
        "95.07%"
       ]
      },
      {
       "output_type": "stream",
       "stream": "stdout",
       "text": [
        "\n",
        "95.29%"
       ]
      },
      {
       "output_type": "stream",
       "stream": "stdout",
       "text": [
        "\n",
        "95.50%"
       ]
      },
      {
       "output_type": "stream",
       "stream": "stdout",
       "text": [
        "\n",
        "95.72%"
       ]
      },
      {
       "output_type": "stream",
       "stream": "stdout",
       "text": [
        "\n",
        "95.93%"
       ]
      },
      {
       "output_type": "stream",
       "stream": "stdout",
       "text": [
        "\n",
        "96.15%"
       ]
      },
      {
       "output_type": "stream",
       "stream": "stdout",
       "text": [
        "\n",
        "96.36%"
       ]
      },
      {
       "output_type": "stream",
       "stream": "stdout",
       "text": [
        "\n",
        "96.57%"
       ]
      },
      {
       "output_type": "stream",
       "stream": "stdout",
       "text": [
        "\n",
        "96.79%"
       ]
      },
      {
       "output_type": "stream",
       "stream": "stdout",
       "text": [
        "\n",
        "97.00%"
       ]
      },
      {
       "output_type": "stream",
       "stream": "stdout",
       "text": [
        "\n",
        "97.22%"
       ]
      },
      {
       "output_type": "stream",
       "stream": "stdout",
       "text": [
        "\n",
        "97.43%"
       ]
      },
      {
       "output_type": "stream",
       "stream": "stdout",
       "text": [
        "\n",
        "97.64%"
       ]
      },
      {
       "output_type": "stream",
       "stream": "stdout",
       "text": [
        "\n",
        "97.86%"
       ]
      },
      {
       "output_type": "stream",
       "stream": "stdout",
       "text": [
        "\n",
        "98.07%"
       ]
      },
      {
       "output_type": "stream",
       "stream": "stdout",
       "text": [
        "\n",
        "98.29%"
       ]
      },
      {
       "output_type": "stream",
       "stream": "stdout",
       "text": [
        "\n",
        "98.50%"
       ]
      },
      {
       "output_type": "stream",
       "stream": "stdout",
       "text": [
        "\n",
        "98.72%"
       ]
      },
      {
       "output_type": "stream",
       "stream": "stdout",
       "text": [
        "\n",
        "98.93%"
       ]
      },
      {
       "output_type": "stream",
       "stream": "stdout",
       "text": [
        "\n",
        "99.14%"
       ]
      },
      {
       "output_type": "stream",
       "stream": "stdout",
       "text": [
        "\n",
        "99.36%"
       ]
      },
      {
       "output_type": "stream",
       "stream": "stdout",
       "text": [
        "\n",
        "99.57%"
       ]
      },
      {
       "output_type": "stream",
       "stream": "stdout",
       "text": [
        "\n",
        "99.79%"
       ]
      },
      {
       "output_type": "stream",
       "stream": "stdout",
       "text": [
        "\n"
       ]
      }
     ],
     "prompt_number": 4
    },
    {
     "cell_type": "heading",
     "level": 2,
     "metadata": {},
     "source": [
      "Time history"
     ]
    },
    {
     "cell_type": "code",
     "collapsed": false,
     "input": [
      "print 'From %.2f to %.2f, altogether %.2f sec.' % (start_time[0], start_time[-1], start_time[-1]-start_time[0])"
     ],
     "language": "python",
     "metadata": {},
     "outputs": [
      {
       "output_type": "stream",
       "stream": "stdout",
       "text": [
        "From 2336.05 to 3350.15, altogether 1014.10 sec.\n"
       ]
      }
     ],
     "prompt_number": 5
    },
    {
     "cell_type": "code",
     "collapsed": false,
     "input": [
      "from helperfuncs.Onset_Time.PlotHistory import PlotHistory\n",
      "\n",
      "end_time_scale = start_time[-1]-start_time[0]\n",
      "\n",
      "PlotHistory(qty_min, 0, qty_max, TD_meas, -1, 1, start_time, 0, end_time_scale, title=\"Measurements\\nmin and max quality idx\")\n",
      "PlotHistory(qty2, 0, qty1, TD_meas, -1, 1, start_time, 0, end_time_scale, title=\"Measurements\\nchannel 1 and 2 quality idx\")"
     ],
     "language": "python",
     "metadata": {},
     "outputs": [
      {
       "metadata": {},
       "output_type": "display_data",
       "png": "[encoded data removed]",
       "text": [
        "<matplotlib.figure.Figure at 0x2fa9550>"
       ]
      },
      {
       "metadata": {},
       "output_type": "display_data",
       "png": "[encoded data removed]",
       "text": [
        "<matplotlib.figure.Figure at 0x2fa94d0>"
       ]
      }
     ],
     "prompt_number": 6
    },
    {
     "cell_type": "code",
     "collapsed": false,
     "input": [
      "from helperfuncs.Onset_Time.PlotHistory import PlotHistory\n",
      "\n",
      "#From 2336.045376 to 3350.14512\n",
      "PlotHistory(qty_min, 0, qty_max, TD_meas, -1, 1, start_time, 0, end_time_scale, title=\"Measurements\\nmin and max quality idx\")\n",
      "PlotHistory(qty_min, 0, qty_max, TD_meas, 0.16*1e-3, 0.24*1e-3, start_time, 0, end_time_scale, title=\"Measurements\\nmin and max quality idx for 0.16<TD<0.24\")\n",
      "PlotHistory(qty_min, 0, qty_max, TD_meas, 0.76*1e-3, 0.84*1e-3, start_time, 0, end_time_scale, title=\"Measurements\\nmin and max quality idx for 0.76<TD<0.84\")"
     ],
     "language": "python",
     "metadata": {},
     "outputs": [
      {
       "metadata": {},
       "output_type": "display_data",
       "png": "[encoded data removed]",
       "text": [
        "<matplotlib.figure.Figure at 0x2fbd4d0>"
       ]
      },
      {
       "metadata": {},
       "output_type": "display_data",
       "png": "[encoded data removed]",
       "text": [
        "<matplotlib.figure.Figure at 0x2fbd1d0>"
       ]
      },
      {
       "metadata": {},
       "output_type": "display_data",
       "png": "[encoded data removed]",
       "text": [
        "<matplotlib.figure.Figure at 0x3bab090>"
       ]
      }
     ],
     "prompt_number": 7
    },
    {
     "cell_type": "heading",
     "level": 2,
     "metadata": {},
     "source": [
      "GMM model estimate with EM"
     ]
    },
    {
     "cell_type": "heading",
     "level": 3,
     "metadata": {},
     "source": [
      "1D: TD"
     ]
    },
    {
     "cell_type": "code",
     "collapsed": false,
     "input": [
      "from helperfuncs.Statistics.Plot_Hist import Plot_Hist\n",
      "\n",
      "Plot_Hist(TD_meas*1e3,\n",
      "           'Histogram of TD', 'Time differences [msec]' , 'Probability',)"
     ],
     "language": "python",
     "metadata": {},
     "outputs": [
      {
       "metadata": {},
       "output_type": "display_data",
       "png": "[encoded data removed]",
       "text": [
        "<matplotlib.figure.Figure at 0x40ee590>"
       ]
      }
     ],
     "prompt_number": 8
    },
    {
     "cell_type": "code",
     "collapsed": false,
     "input": [
      "from helperfuncs.Statistics.Plot_Hist import Plot_Hist\n",
      "\n",
      "pickbest = 20\n",
      "TD_meas_p = (np.array(TD_meas)[np.argsort(qty_min)])[-pickbest:]\n",
      "Plot_Hist(TD_meas_p*1e3,\n",
      "           'Histogram of TD', 'Time differences [msec]' , 'Probability')"
     ],
     "language": "python",
     "metadata": {},
     "outputs": [
      {
       "metadata": {},
       "output_type": "display_data",
       "png": "[encoded data removed]",
       "text": [
        "<matplotlib.figure.Figure at 0x40da150>"
       ]
      }
     ],
     "prompt_number": 9
    },
    {
     "cell_type": "heading",
     "level": 3,
     "metadata": {},
     "source": [
      "2D: TD and quality idx"
     ]
    },
    {
     "cell_type": "code",
     "collapsed": false,
     "input": [
      "TD_meas = TD_meas[np.log10(qty_min) > -100]\n",
      "qty_min = qty_min[np.log10(qty_min) > -100]"
     ],
     "language": "python",
     "metadata": {},
     "outputs": [],
     "prompt_number": 10
    },
    {
     "cell_type": "code",
     "collapsed": false,
     "input": [
      "from helperfuncs.Statistics.GMM_estimate_EM import GMM_estimate_EM\n",
      "import numpy as np\n",
      "\n",
      "alpha0 = np.array([0.8, 0.2])\n",
      "mu0 = np.array([ [0.1, -3.5], [0.8, -4.5] ])\n",
      "sigma0 = np.array( [[[0.2, 0.0],[0.0, 0.4]], [[0.005, 0.0],[0.0, 0.3]]] )\n",
      "x1 = TD_meas*1e3\n",
      "x2 = np.log10(qty_min)\n",
      "x = np.concatenate((np.reshape(x1, (x1.shape[0],-1)),np.reshape(x2, (x2.shape[0],-1))), axis=1)\n",
      "\n",
      "alpha_4, mu_4, sigma_4 = GMM_estimate_EM( x, alpha = alpha0, mu = mu0, sigma = sigma0 )"
     ],
     "language": "python",
     "metadata": {},
     "outputs": [
      {
       "output_type": "stream",
       "stream": "stdout",
       "text": [
        "Iterations left: 10\n",
        "alpha: "
       ]
      },
      {
       "output_type": "stream",
       "stream": "stdout",
       "text": [
        "\n",
        "[ 0.84472539  0.15527461]\n",
        "mu: \n",
        "[[ 0.18992569 -4.34933987]\n",
        " [ 0.80728873 -3.92113841]]\n",
        "sigma: \n",
        "[[[ 0.14668924  0.09699962]\n",
        "  [ 0.09699962  0.32811387]]\n",
        "\n",
        " [[ 0.00388061  0.01072772]\n",
        "  [ 0.01072772  0.2472727 ]]]\n",
        "Likelihood: -513.00\n",
        "change: 97.02%\n",
        "Iterations left: 10"
       ]
      },
      {
       "output_type": "stream",
       "stream": "stdout",
       "text": [
        "\n",
        "alpha: "
       ]
      },
      {
       "output_type": "stream",
       "stream": "stdout",
       "text": [
        "\n",
        "[ 0.80761813  0.19238187]\n",
        "mu: \n",
        "[[ 0.1587001  -4.42641499]\n",
        " [ 0.81929452 -3.6801704 ]]\n",
        "sigma: \n",
        "[[[ 0.1317023   0.05032742]\n",
        "  [ 0.05032742  0.2592566 ]]\n",
        "\n",
        " [[ 0.0017649   0.0054059 ]\n",
        "  [ 0.0054059   0.2271919 ]]]\n",
        "Likelihood: -456.17\n",
        "change: 12.46%\n",
        "Iterations left: 10"
       ]
      },
      {
       "output_type": "stream",
       "stream": "stdout",
       "text": [
        "\n",
        "alpha: "
       ]
      },
      {
       "output_type": "stream",
       "stream": "stdout",
       "text": [
        "\n",
        "[ 0.79193534  0.20806466]\n",
        "mu: \n",
        "[[ 0.1446687  -4.46116886]\n",
        " [ 0.8229088  -3.60413816]]\n",
        "sigma: \n",
        "[[[ 0.12436769  0.0279371 ]\n",
        "  [ 0.0279371   0.22980158]]\n",
        "\n",
        " [[ 0.00104593  0.00180233]\n",
        "  [ 0.00180233  0.17589031]]]\n",
        "Likelihood: -439.88\n",
        "change: 3.70%\n",
        "Iterations left: 10"
       ]
      },
      {
       "output_type": "stream",
       "stream": "stdout",
       "text": [
        "\n",
        "alpha: "
       ]
      },
      {
       "output_type": "stream",
       "stream": "stdout",
       "text": [
        "\n",
        "[ 0.79328017  0.20671983]\n",
        "mu: \n",
        "[[ 0.14540706 -4.46617511]\n",
        " [ 0.82448769 -3.57935136]]\n",
        "sigma: \n",
        "[[[ 0.12441897  0.0244613 ]\n",
        "  [ 0.0244613   0.22574556]]\n",
        "\n",
        " [[ 0.00089319  0.00056256]\n",
        "  [ 0.00056256  0.15268609]]]\n",
        "Likelihood: -437.68\n",
        "change: 0.50%\n"
       ]
      }
     ],
     "prompt_number": 11
    },
    {
     "cell_type": "code",
     "collapsed": false,
     "input": [
      "from helperfuncs.Statistics.Plot_Scatter_Hists import Plot_Scatter_Hists\n",
      "\n",
      "Plot_Scatter_Hists(TD_meas*1e3, qty_min, \n",
      "                   '', 'time diff [msec]', 'quality idx []', \n",
      "                   ylim_min=0)\n",
      "Plot_Scatter_Hists(TD_meas*1e3, np.log10(qty_min), \n",
      "                   '', 'time diff [msec]', 'log10(quality idx) []', \n",
      "                   fitcurve=True, alpha=alpha_4, mu=mu_4, sigma=sigma_4)\n",
      "#Plot_Scatter_Hists(TD_meas*1e3, np.log10(qty_min), 'time diff [msec]', 'log10(quality idx) []')"
     ],
     "language": "python",
     "metadata": {},
     "outputs": [
      {
       "metadata": {},
       "output_type": "display_data",
       "png": "[encoded data removed]",
       "text": [
        "<matplotlib.figure.Figure at 0x40cd6d0>"
       ]
      },
      {
       "metadata": {},
       "output_type": "display_data",
       "png": "[encoded data removed]",
       "text": [
        "<matplotlib.figure.Figure at 0x40cd490>"
       ]
      }
     ],
     "prompt_number": 12
    },
    {
     "cell_type": "heading",
     "level": 2,
     "metadata": {},
     "source": [
      "Clustering results"
     ]
    },
    {
     "cell_type": "code",
     "collapsed": false,
     "input": [
      "from helperfuncs.AE_Clustering import AE_Clustering\n",
      "\n",
      "AE_Clustering(x=TD_meas*1e3, y=np.log10(qty_min), sound_speed_mps=v, \n",
      "#              epsilon=1, \n",
      "#              min_pts=3, \n",
      "#              xi=0.06, \n",
      "#              steep_tolerance_pts=0, \n",
      "              min_cluster_pts=4, \n",
      "              standard_deviation_th_m = 0.3, \n",
      "              log_qty_th = -3.5)"
     ],
     "language": "python",
     "metadata": {},
     "outputs": [
      {
       "metadata": {},
       "output_type": "display_data",
       "png": "[encoded data removed]",
       "text": [
        "<matplotlib.figure.Figure at 0x4620c10>"
       ]
      }
     ],
     "prompt_number": 13
    },
    {
     "cell_type": "heading",
     "level": 2,
     "metadata": {},
     "source": [
      "Distance calculated"
     ]
    },
    {
     "cell_type": "code",
     "collapsed": false,
     "input": [
      "from helperfuncs.Statistics.Plot_Scatter_Hists import Plot_Scatter_Hists\n",
      "\n",
      "Plot_Scatter_Hists(TD_meas*v, np.log10(qty_min), \n",
      "                   '', 'distance diff [m]', 'log10(quality idx) []', \n",
      "                   xlim_min = -max_dist_diff, xlim_max = max_dist_diff)\n",
      "Plot_Scatter_Hists( (TD_meas*v + sensor1_pos + sensor2_pos)/2, np.log10(qty_min), \n",
      "                   '', 'position [m]', 'log10(quality idx) []', \n",
      "                   xlim_min = min(sensor1_pos, sensor2_pos), xlim_max = max(sensor1_pos, sensor2_pos) )"
     ],
     "language": "python",
     "metadata": {},
     "outputs": [
      {
       "metadata": {},
       "output_type": "display_data",
       "png": "[encoded data removed]",
       "text": [
        "<matplotlib.figure.Figure at 0x458f450>"
       ]
      },
      {
       "metadata": {},
       "output_type": "display_data",
       "png": "[encoded data removed]",
       "text": [
        "<matplotlib.figure.Figure at 0x458f110>"
       ]
      }
     ],
     "prompt_number": 14
    }
   ],
   "metadata": {}
  }
 ]
}
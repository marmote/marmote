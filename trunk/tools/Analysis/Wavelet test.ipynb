{
 "metadata": {
  "name": "Wavelet test"
 },
 "nbformat": 3,
 "nbformat_minor": 0,
 "worksheets": [
  {
   "cells": [
    {
     "cell_type": "heading",
     "level": 1,
     "metadata": {},
     "source": [
      "Test 1 - Basic DWT test"
     ]
    },
    {
     "cell_type": "code",
     "collapsed": false,
     "input": [
      "x=np.array([56, 40, 8, 24, 48, 48, 40, 16])"
     ],
     "language": "python",
     "metadata": {},
     "outputs": [],
     "prompt_number": 10
    },
    {
     "cell_type": "code",
     "collapsed": false,
     "input": [
      "import pywt\n",
      "w = pywt.Wavelet('haar')\n",
      "cA, cD = pywt.dwt(x, w)\n",
      "\n",
      "print cA\n",
      "print cD"
     ],
     "language": "python",
     "metadata": {},
     "outputs": [
      {
       "output_type": "stream",
       "stream": "stdout",
       "text": [
        "[ 67.88225099  22.627417    67.88225099  39.59797975]\n",
        "[ 11.3137085  -11.3137085    0.          16.97056275]\n"
       ]
      }
     ],
     "prompt_number": 118
    },
    {
     "cell_type": "heading",
     "level": 1,
     "metadata": {},
     "source": [
      "Test 2 - Basic DWT test 2., minimal ploting"
     ]
    },
    {
     "cell_type": "code",
     "collapsed": false,
     "input": [
      "import pywt\n",
      "x = [3, 7, 1, 1, -2, 5, 4, 6]\n",
      "cA, cD = pywt.dwt(x, 'db20')"
     ],
     "language": "python",
     "metadata": {},
     "outputs": [],
     "prompt_number": 3
    },
    {
     "cell_type": "code",
     "collapsed": false,
     "input": [
      "import matplotlib.pyplot as plt\n",
      "fig, axarr = plt.subplots(3, 1, sharex=False, sharey=True ) \n",
      "    \n",
      "axarr[0].plot(x, '.-')\n",
      "axarr[1].plot(cA, '.-')\n",
      "axarr[2].plot(cD, '.-')"
     ],
     "language": "python",
     "metadata": {},
     "outputs": [
      {
       "output_type": "pyout",
       "prompt_number": 4,
       "text": [
        "[<matplotlib.lines.Line2D at 0x57623f0>]"
       ]
      }
     ],
     "prompt_number": 4
    },
    {
     "cell_type": "heading",
     "level": 1,
     "metadata": {},
     "source": [
      "Test 3 - Somewhat more complex signal, with more complex ploting"
     ]
    },
    {
     "cell_type": "code",
     "collapsed": false,
     "input": [
      "import pywt\n",
      "#print pywt.families()\n",
      "print pywt.MODES.modes\n",
      "for family in pywt.families():\n",
      "    print \"%s family:\" % family, ', '.join(pywt.wavelist(family))"
     ],
     "language": "python",
     "metadata": {},
     "outputs": [
      {
       "output_type": "stream",
       "stream": "stdout",
       "text": [
        "['zpd', 'cpd', 'sym', 'ppd', 'sp1', 'per']\n",
        "haar family: haar\n",
        "db family: db1, db2, db3, db4, db5, db6, db7, db8, db9, db10, db11, db12, db13, db14, db15, db16, db17, db18, db19, db20\n",
        "sym family: sym2, sym3, sym4, sym5, sym6, sym7, sym8, sym9, sym10, sym11, sym12, sym13, sym14, sym15, sym16, sym17, sym18, sym19, sym20\n",
        "coif family: coif1, coif2, coif3, coif4, coif5\n",
        "bior family: bior1.1, bior1.3, bior1.5, bior2.2, bior2.4, bior2.6, bior2.8, bior3.1, bior3.3, bior3.5, bior3.7, bior3.9, bior4.4, bior5.5, bior6.8\n",
        "rbio family: rbio1.1, rbio1.3, rbio1.5, rbio2.2, rbio2.4, rbio2.6, rbio2.8, rbio3.1, rbio3.3, rbio3.5, rbio3.7, rbio3.9, rbio4.4, rbio5.5, rbio6.8\n",
        "dmey family: dmey\n"
       ]
      }
     ],
     "prompt_number": 19
    },
    {
     "cell_type": "code",
     "collapsed": false,
     "input": [
      "#x = [1, 0, 0, 0, 0, 0, 0, 0, 0, 0, 0, 0, 0, 0, 0, 0, 0, 0, 0, 0, 0, 0, 0, 0, 0, 0, 0, 0, 0, 0, 0, 0, 0, 0, 0, 0, 0, 0, 0, 0, 0, 0, 0, 0, 0, 0, 0, 0, 0, 0, 0, 0, 0, 0, 0, 0, 0, 0, 0, 0, 0, 0, 0, 0] #32\n",
      "x = np.array(xrange(64))*0\n",
      "x[40] = 1\n",
      "\n",
      "w = pywt.Wavelet('haar')\n",
      "\n",
      "c = pywt.wavedec(x, w, mode='zpd')"
     ],
     "language": "python",
     "metadata": {},
     "outputs": [],
     "prompt_number": 20
    },
    {
     "cell_type": "code",
     "collapsed": false,
     "input": [
      "print 'Decomposing filter length: %d' % w.dec_len\n",
      "\n",
      "print 'Decomposed signal number of Approximations and Details: %d' % len(c)\n",
      "print 'Decomposed signal Approximations and Details:'\n",
      "print c\n",
      "cum_len = 0\n",
      "for jj in c :\n",
      "    cum_len = cum_len + len(jj)\n",
      "print 'Decomposed signal cumulative length of Approximations and Details: %d' % cum_len"
     ],
     "language": "python",
     "metadata": {},
     "outputs": [
      {
       "output_type": "stream",
       "stream": "stdout",
       "text": [
        "Decomposing filter length: 2\n",
        "Decomposed signal number of Approximations and Details: 7\n",
        "Decomposed signal Approximations and Details:\n",
        "[array([ 0.125]), array([-0.125]), array([ 0.       ,  0.1767767]), array([ 0.  ,  0.  , -0.25,  0.  ]), array([ 0.        ,  0.        ,  0.        ,  0.        ,  0.        ,\n",
        "        0.35355339,  0.        ,  0.        ]), array([ 0. ,  0. ,  0. ,  0. ,  0. ,  0. ,  0. ,  0. ,  0. ,  0. ,  0.5,\n",
        "        0. ,  0. ,  0. ,  0. ,  0. ]), array([ 0.        ,  0.        ,  0.        ,  0.        ,  0.        ,\n",
        "        0.        ,  0.        ,  0.        ,  0.        ,  0.        ,\n",
        "        0.        ,  0.        ,  0.        ,  0.        ,  0.        ,\n",
        "        0.        ,  0.        ,  0.        ,  0.        ,  0.        ,\n",
        "        0.70710678,  0.        ,  0.        ,  0.        ,  0.        ,\n",
        "        0.        ,  0.        ,  0.        ,  0.        ,  0.        ,\n",
        "        0.        ,  0.        ])]\n",
        "Decomposed signal cumulative length of Approximations and Details: 64\n"
       ]
      }
     ],
     "prompt_number": 21
    },
    {
     "cell_type": "code",
     "collapsed": false,
     "input": [
      "from helperfuncs.PlotDWT import PlotDWT\n",
      "\n",
      "Ts = 1\n",
      "\n",
      "PlotDWT(Ts, x, c, None, None)"
     ],
     "language": "python",
     "metadata": {},
     "outputs": [],
     "prompt_number": 22
    },
    {
     "cell_type": "heading",
     "level": 1,
     "metadata": {},
     "source": [
      "Test 4 - Ploting solution"
     ]
    },
    {
     "cell_type": "code",
     "collapsed": false,
     "input": [
      "c = [ np.array([1, 0]),\n",
      "    np.array([0, 1]),\n",
      "    np.array([1, 0, 1, 0]),\n",
      "    np.array([0, 1, 0, 0.9, 0, 1, 0, 1]),\n",
      "    np.array([1, 0, 1, 0, 1, 0, 1, 0, 1, 0, 0.5, 0, 1, 0, 1, 0]) ]"
     ],
     "language": "python",
     "metadata": {},
     "outputs": [],
     "prompt_number": 1
    },
    {
     "cell_type": "code",
     "collapsed": false,
     "input": [
      "from helperfuncs.FancyPlotDWT import FancyPlotDWT\n",
      "\n",
      "Fs = 1\n",
      "\n",
      "FancyPlotDWT(c, Fs)"
     ],
     "language": "python",
     "metadata": {},
     "outputs": [],
     "prompt_number": 2
    },
    {
     "cell_type": "heading",
     "level": 1,
     "metadata": {},
     "source": [
      "Test 5 - Complete DWT with fancy ploting"
     ]
    },
    {
     "cell_type": "code",
     "collapsed": false,
     "input": [
      "x = np.array(xrange(16))*0\n",
      "x[2] = 1\n",
      "#x=np.array([1, 2, 3, 4, 5, 6, 7, 8, 9])*0"
     ],
     "language": "python",
     "metadata": {},
     "outputs": [],
     "prompt_number": 1
    },
    {
     "cell_type": "code",
     "collapsed": false,
     "input": [
      "from helperfuncs.TrimToPowerof2 import TrimToPowerof2\n",
      "\n",
      "x = TrimToPowerof2(x)"
     ],
     "language": "python",
     "metadata": {},
     "outputs": [],
     "prompt_number": 11
    },
    {
     "cell_type": "code",
     "collapsed": false,
     "input": [
      "from helperfuncs.CompleteDWT import CompleteDWT\n",
      "\n",
      "cll = CompleteDWT(x)\n",
      "\n",
      "print cll"
     ],
     "language": "python",
     "metadata": {},
     "outputs": [
      {
       "output_type": "stream",
       "stream": "stdout",
       "text": [
        "[[array([ 56.,  40.,   8.,  24.,  48.,  48.,  40.,  16.])], [array([ 67.88225099,  22.627417  ,  67.88225099,  39.59797975]), array([ 11.3137085 , -11.3137085 ,   0.        ,  16.97056275])], [array([ 64.,  76.]), array([ 32.,  20.]), array([ 16., -12.]), array([ -1.77635684e-15,   1.20000000e+01])], [array([ 98.99494937]), array([-8.48528137]), array([ 8.48528137]), array([ 36.76955262]), array([ 2.82842712]), array([ 19.79898987]), array([-8.48528137]), array([ 8.48528137])]]\n"
       ]
      }
     ],
     "prompt_number": 12
    },
    {
     "cell_type": "code",
     "collapsed": false,
     "input": [
      "cost = []\n",
      "\n",
      "for ii in xrange(len(cll)) :\n",
      "    cost_l = []\n",
      "    for jj in xrange(len(cll[ii])) :\n",
      "        a = np.abs(cll[ii][jj])**2\n",
      "        cost_l.append(np.sum(a))\n",
      "    cost.append(cost_l)\n",
      "    \n",
      "print cost        "
     ],
     "language": "python",
     "metadata": {},
     "outputs": [
      {
       "output_type": "stream",
       "stream": "stdout",
       "text": [
        "[[11840.0], [11296.000000000002, 544.0], [9872.0000000000036, 1424.0000000000002, 400.00000000000006, 144.00000000000006], [9800.0000000000055, 72.000000000000071, 71.999999999999957, 1352.0000000000005, 7.9999999999999982, 392.00000000000011, 72.000000000000043, 71.999999999999986]]\n"
       ]
      }
     ],
     "prompt_number": 13
    },
    {
     "cell_type": "code",
     "collapsed": false,
     "input": [
      "from helperfuncs.CalculateCost_ShannonEntropy import CalculateCost_ShannonEntropy\n",
      "\n",
      "cost = CalculateCost_ShannonEntropy(cll)\n",
      "\n",
      "print cost     "
     ],
     "language": "python",
     "metadata": {},
     "outputs": [
      {
       "output_type": "stream",
       "stream": "stdout",
       "text": [
        "[[-129668.96108590136], [-133409.89384886503, -4144.9384004153872], [-121328.05863530035, -13697.542475909891, -3080.4692002076936, -1032.4692002076936], [-129933.94713212144, -444.23460010384701, -444.23460010384616, -14061.988997853519, -23.999999999999993, -3376.9662588931628, -444.23460010384679, -444.23460010384639]]\n"
       ]
      }
     ],
     "prompt_number": 14
    },
    {
     "cell_type": "code",
     "collapsed": false,
     "input": [
      "from helperfuncs.CalculateTotalCostofEachLevel import CalculateTotalCostofEachLevel\n",
      "\n",
      "line_costs = CalculateTotalCostofEachLevel(cost)\n",
      "    \n",
      "print line_costs"
     ],
     "language": "python",
     "metadata": {},
     "outputs": [
      {
       "output_type": "stream",
       "stream": "stdout",
       "text": [
        "[-129668.96108590136, -137554.83224928041, -139138.53951162565, -149173.84078928351]\n"
       ]
      }
     ],
     "prompt_number": 15
    },
    {
     "cell_type": "code",
     "collapsed": false,
     "input": [
      "from helperfuncs.FindBestBasis import FindBestBasis\n",
      "\n",
      "val, levels, items = FindBestBasis(cost)\n",
      "    \n",
      "print val\n",
      "print levels\n",
      "print items    "
     ],
     "language": "python",
     "metadata": {},
     "outputs": [
      {
       "output_type": "stream",
       "stream": "stdout",
       "text": [
        "[-129668.96108590136]\n",
        "[0]\n",
        "[0]\n"
       ]
      }
     ],
     "prompt_number": 16
    },
    {
     "cell_type": "code",
     "collapsed": false,
     "input": [
      "from helperfuncs.PickBasisFromCompleteDWT import PickBasisFromCompleteDWT\n",
      "\n",
      "c = PickBasisFromCompleteDWT(cll, levels, items)\n",
      "\n",
      "print c"
     ],
     "language": "python",
     "metadata": {},
     "outputs": [
      {
       "output_type": "stream",
       "stream": "stdout",
       "text": [
        "[array([ 56.,  40.,   8.,  24.,  48.,  48.,  40.,  16.])]\n"
       ]
      }
     ],
     "prompt_number": 17
    },
    {
     "cell_type": "code",
     "collapsed": false,
     "input": [
      "from helperfuncs.FancyPlotDWT_image import FancyPlotDWT\n",
      "\n",
      "Fs = 750e3\n",
      "\n",
      "FancyPlotDWT(c, Fs)"
     ],
     "language": "python",
     "metadata": {},
     "outputs": [],
     "prompt_number": 18
    },
    {
     "cell_type": "heading",
     "level": 1,
     "metadata": {},
     "source": [
      "Test 6 - Complete DWT of sweeping frequency sin with fancy ploting"
     ]
    },
    {
     "cell_type": "code",
     "collapsed": false,
     "input": [
      "N = 2048*2\n",
      "Fs = 1e3\n",
      "f_start = 100\n",
      "f_stop = 300\n",
      "f_steps = 5\n",
      "\n",
      "Fs = float(Fs)\n",
      "Ts = 1/Fs\n",
      "f_start = float(f_start)\n",
      "f_stop = float(f_stop)\n",
      "\n",
      "#f = (f_stop - f_start)/(N-1)*np.array(range(N)) + f_start\n",
      "\n",
      "#f = np.concatenate((f[0:N/2], np.ones(N/2)*f_stop/2))\n",
      "\n",
      "f = (f_stop - f_start)/(N-1)*np.array(range(N))\n",
      "f_max = float(f_stop-f_start)\n",
      "f_temp = f/f_max*f_steps\n",
      "f = f_temp.astype(int)*f_max/(f_steps-1) + f_start\n",
      "\n",
      "fint = np.zeros(N)\n",
      "fint[0] = f[0]\n",
      "for ii in xrange(N-1) :\n",
      "    fint[ii+1] = fint[ii] + (f[ii+1]-f[ii])*Ts/2 + f[ii]*Ts\n",
      "    \n",
      "y = np.sin(2*np.pi*fint)"
     ],
     "language": "python",
     "metadata": {},
     "outputs": [],
     "prompt_number": 1
    },
    {
     "cell_type": "code",
     "collapsed": false,
     "input": [
      "import matplotlib.pyplot as plt\n",
      "\n",
      "#print t\n",
      "#print f\n",
      "#print y\n",
      "\n",
      "fig, axarr = plt.subplots(3, 1, sharex=True)\n",
      "t = np.array(range(N))/Fs\n",
      "axarr[0].plot(t, f)\n",
      "axarr[1].plot(t, 2*np.pi*fint)\n",
      "axarr[2].plot(t, y)"
     ],
     "language": "python",
     "metadata": {},
     "outputs": [
      {
       "output_type": "pyout",
       "prompt_number": 2,
       "text": [
        "[<matplotlib.lines.Line2D at 0x54e9f10>]"
       ]
      }
     ],
     "prompt_number": 2
    },
    {
     "cell_type": "code",
     "collapsed": false,
     "input": [
      "from helperfuncs.TrimToPowerof2 import TrimToPowerof2\n",
      "\n",
      "y = TrimToPowerof2(y)"
     ],
     "language": "python",
     "metadata": {},
     "outputs": [],
     "prompt_number": 3
    },
    {
     "cell_type": "code",
     "collapsed": false,
     "input": [
      "from helperfuncs.PlotSpecgram import PlotSpecgram\n",
      "\n",
      "PlotSpecgram(y, Fs)"
     ],
     "language": "python",
     "metadata": {},
     "outputs": [],
     "prompt_number": 4
    },
    {
     "cell_type": "code",
     "collapsed": false,
     "input": [
      "from helperfuncs.CompleteDWT import CompleteDWT\n",
      "\n",
      "cll = CompleteDWT(y, wavelet='sym20')\n",
      "\n",
      "#print cll"
     ],
     "language": "python",
     "metadata": {},
     "outputs": [],
     "prompt_number": 5
    },
    {
     "cell_type": "code",
     "collapsed": false,
     "input": [
      "from helperfuncs.GetUsefulDWTlevels import GetUsefulDWTlevels\n",
      "\n",
      "start_level, stop_level = GetUsefulDWTlevels(32, cll)\n",
      "\n",
      "print start_level\n",
      "print stop_level\n",
      "\n",
      "cll = cll[start_level:stop_level+1]"
     ],
     "language": "python",
     "metadata": {},
     "outputs": [
      {
       "output_type": "stream",
       "stream": "stdout",
       "text": [
        "5\n",
        "7\n"
       ]
      }
     ],
     "prompt_number": 6
    },
    {
     "cell_type": "code",
     "collapsed": false,
     "input": [
      "from helperfuncs.CalculateCost_ShannonEntropy import CalculateCost_ShannonEntropy\n",
      "\n",
      "cost = CalculateCost_ShannonEntropy(cll)\n",
      "\n",
      "#print cost "
     ],
     "language": "python",
     "metadata": {},
     "outputs": [],
     "prompt_number": 7
    },
    {
     "cell_type": "code",
     "collapsed": false,
     "input": [
      "from helperfuncs.CalculateTotalCostofEachLevel import CalculateTotalCostofEachLevel\n",
      "\n",
      "line_costs = CalculateTotalCostofEachLevel(cost)\n",
      "    \n",
      "print line_costs"
     ],
     "language": "python",
     "metadata": {},
     "outputs": [
      {
       "output_type": "stream",
       "stream": "stdout",
       "text": [
        "[-7619.086518283676, -9304.9330104211895, -10654.347919723847]\n"
       ]
      }
     ],
     "prompt_number": 8
    },
    {
     "cell_type": "code",
     "collapsed": false,
     "input": [
      "from helperfuncs.FancyPlotDWT_image import FancyPlotDWT\n",
      "\n",
      "FancyPlotDWT(cll[0], Fs, subtitle='Fixed resolution')"
     ],
     "language": "python",
     "metadata": {},
     "outputs": [
      {
       "output_type": "stream",
       "stream": "stdout",
       "text": [
        "Generated row 100\n",
        "Generated row 200\n",
        "Generated row 300\n",
        "Generated row 400\n",
        "Generated row 500\n",
        "Generated row 600\n",
        "Generated row 700"
       ]
      },
      {
       "output_type": "stream",
       "stream": "stdout",
       "text": [
        "\n",
        "Generated row 800\n",
        "Generated row 900\n",
        "Generated row 1000\n",
        "Generated row 1100\n",
        "Generated row 1200\n",
        "Generated row 1300"
       ]
      },
      {
       "output_type": "stream",
       "stream": "stdout",
       "text": [
        "\n",
        "Generated row 1400\n",
        "Generated row 1500\n",
        "Generated row 1600\n",
        "Generated row 1700\n",
        "Generated row 1800\n",
        "Generated row 1900"
       ]
      },
      {
       "output_type": "stream",
       "stream": "stdout",
       "text": [
        "\n",
        "Generated row 2000\n",
        "Generated row 2100\n",
        "Generated row 2200\n",
        "Generated row 2300\n",
        "Generated row 2400\n",
        "Generated row 2500"
       ]
      },
      {
       "output_type": "stream",
       "stream": "stdout",
       "text": [
        "\n",
        "Generated row 2600\n",
        "Generated row 2700\n",
        "Generated row 2800\n",
        "Generated row 2900\n",
        "Generated row 3000"
       ]
      },
      {
       "output_type": "stream",
       "stream": "stdout",
       "text": [
        "\n",
        "Generated row 3100\n",
        "Generated row 3200\n",
        "Generated row 3300\n",
        "Generated row 3400\n",
        "Generated row 3500"
       ]
      },
      {
       "output_type": "stream",
       "stream": "stdout",
       "text": [
        "\n",
        "Generated row 3600\n",
        "Generated row 3700\n",
        "Generated row 3800\n",
        "Generated row 3900\n",
        "Generated row 4000"
       ]
      },
      {
       "output_type": "stream",
       "stream": "stdout",
       "text": [
        "\n"
       ]
      }
     ],
     "prompt_number": 9
    },
    {
     "cell_type": "code",
     "collapsed": false,
     "input": [
      "from helperfuncs.FindBestBasis import FindBestBasis\n",
      "\n",
      "val, levels, items = FindBestBasis(cost)\n",
      "\n",
      "print val\n",
      "print levels\n",
      "print items"
     ],
     "language": "python",
     "metadata": {},
     "outputs": [
      {
       "output_type": "stream",
       "stream": "stdout",
       "text": [
        "[15.341842189578074, 20.746614139649097, 35.239542299807077, 24.444600059988097, 35.56251020713659, -142.64882742724402, -447.60153491844585, 20.33500278217846, 21.117723443642294, -399.64180032514707, -137.73196586007546, -60.274101979224767, -283.3749607275974, -61.511869102092298, 33.185240547666055, 27.360697162768531, -1582.8569123469363, 18.765533088002488, -77.220289057898512, -280.86132080645723, -74.049278176806823, 6.3252039479302322, 3.9558303874642671, 29.208979087512585, 15.483509299141684, 13.281748588949569, 32.652857828457876, 24.854379600916008, 20.661625637639649, 24.580694388975751, 15.808606522908084, 9.318451865703901]\n",
        "[0, 0, 0, 0, 0, 0, 0, 0, 0, 0, 0, 0, 0, 0, 0, 0, 0, 2, 2, 2, 2, 0, 0, 0, 0, 0, 0, 0, 0, 0, 0, 0, 0, 0, 0]\n",
        "[0, 1, 2, 3, 4, 5, 6, 7, 8, 9, 10, 11, 12, 13, 14, 15, 16, 68, 69, 70, 71, 18, 19, 20, 21, 22, 23, 24, 25, 26, 27, 28, 29, 30, 31]\n"
       ]
      }
     ],
     "prompt_number": 10
    },
    {
     "cell_type": "code",
     "collapsed": false,
     "input": [
      "from helperfuncs.PickBasisFromCompleteDWT import PickBasisFromCompleteDWT\n",
      "\n",
      "c_bb = PickBasisFromCompleteDWT(cll, levels, items)\n",
      "\n",
      "#print c_bb"
     ],
     "language": "python",
     "metadata": {},
     "outputs": [],
     "prompt_number": 11
    },
    {
     "cell_type": "code",
     "collapsed": false,
     "input": [
      "from helperfuncs.FancyPlotDWT_image import FancyPlotDWT\n",
      "\n",
      "FancyPlotDWT(c_bb, Fs, subtitle='Resolution based on Shannon\\'s entropy')"
     ],
     "language": "python",
     "metadata": {},
     "outputs": [
      {
       "output_type": "stream",
       "stream": "stdout",
       "text": [
        "Generated row 100\n",
        "Generated row 200\n",
        "Generated row 300\n",
        "Generated row 400\n",
        "Generated row 500\n",
        "Generated row 600"
       ]
      },
      {
       "output_type": "stream",
       "stream": "stdout",
       "text": [
        "\n",
        "Generated row 700\n",
        "Generated row 800\n",
        "Generated row 900\n",
        "Generated row 1000\n",
        "Generated row 1100"
       ]
      },
      {
       "output_type": "stream",
       "stream": "stdout",
       "text": [
        "\n",
        "Generated row 1200\n",
        "Generated row 1300\n",
        "Generated row 1400\n",
        "Generated row 1500\n",
        "Generated row 1600\n",
        "Generated row 1700"
       ]
      },
      {
       "output_type": "stream",
       "stream": "stdout",
       "text": [
        "\n",
        "Generated row 1800\n",
        "Generated row 1900\n",
        "Generated row 2000\n",
        "Generated row 2100\n",
        "Generated row 2200"
       ]
      },
      {
       "output_type": "stream",
       "stream": "stdout",
       "text": [
        "\n",
        "Generated row 2300\n",
        "Generated row 2400\n",
        "Generated row 2500"
       ]
      },
      {
       "output_type": "stream",
       "stream": "stdout",
       "text": [
        "\n",
        "Generated row 2600\n",
        "Generated row 2700\n",
        "Generated row 2800\n",
        "Generated row 2900\n",
        "Generated row 3000"
       ]
      },
      {
       "output_type": "stream",
       "stream": "stdout",
       "text": [
        "\n",
        "Generated row 3100\n",
        "Generated row 3200\n",
        "Generated row 3300\n",
        "Generated row 3400\n",
        "Generated row 3500"
       ]
      },
      {
       "output_type": "stream",
       "stream": "stdout",
       "text": [
        "\n",
        "Generated row 3600\n",
        "Generated row 3700\n",
        "Generated row 3800\n",
        "Generated row 3900\n",
        "Generated row 4000"
       ]
      },
      {
       "output_type": "stream",
       "stream": "stdout",
       "text": [
        "\n"
       ]
      }
     ],
     "prompt_number": 12
    },
    {
     "cell_type": "code",
     "collapsed": false,
     "input": [],
     "language": "python",
     "metadata": {},
     "outputs": []
    }
   ],
   "metadata": {}
  }
 ]
}
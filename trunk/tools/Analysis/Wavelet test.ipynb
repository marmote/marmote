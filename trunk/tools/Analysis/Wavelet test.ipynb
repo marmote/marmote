{
 "metadata": {
  "name": "Wavelet test"
 },
 "nbformat": 3,
 "nbformat_minor": 0,
 "worksheets": [
  {
   "cells": [
    {
     "cell_type": "heading",
     "level": 1,
     "metadata": {},
     "source": [
      "Test 1"
     ]
    },
    {
     "cell_type": "code",
     "collapsed": false,
     "input": [
      "import pywt\n",
      "x = [3, 7, 1, 1, -2, 5, 4, 6]\n",
      "cA, cD = pywt.dwt(x, 'db20')"
     ],
     "language": "python",
     "metadata": {},
     "outputs": []
    },
    {
     "cell_type": "code",
     "collapsed": false,
     "input": [
      "fig, axarr = plt.subplots(3, 1, sharex=False, sharey=True ) \n",
      "    \n",
      "axarr[0].plot(x, '.-')\n",
      "axarr[1].plot(cA, '.-')\n",
      "axarr[2].plot(cD, '.-')"
     ],
     "language": "python",
     "metadata": {},
     "outputs": []
    },
    {
     "cell_type": "heading",
     "level": 1,
     "metadata": {},
     "source": [
      "Test 2"
     ]
    },
    {
     "cell_type": "code",
     "collapsed": false,
     "input": [
      "import pywt\n",
      "#print pywt.families()\n",
      "print pywt.MODES.modes\n",
      "for family in pywt.families():\n",
      "    print \"%s family:\" % family, ', '.join(pywt.wavelist(family))"
     ],
     "language": "python",
     "metadata": {},
     "outputs": [
      {
       "output_type": "stream",
       "stream": "stdout",
       "text": [
        "['zpd', 'cpd', 'sym', 'ppd', 'sp1', 'per']\n",
        "haar family: haar\n",
        "db family: db1, db2, db3, db4, db5, db6, db7, db8, db9, db10, db11, db12, db13, db14, db15, db16, db17, db18, db19, db20\n",
        "sym family: sym2, sym3, sym4, sym5, sym6, sym7, sym8, sym9, sym10, sym11, sym12, sym13, sym14, sym15, sym16, sym17, sym18, sym19, sym20\n",
        "coif family: coif1, coif2, coif3, coif4, coif5\n",
        "bior family: bior1.1, bior1.3, bior1.5, bior2.2, bior2.4, bior2.6, bior2.8, bior3.1, bior3.3, bior3.5, bior3.7, bior3.9, bior4.4, bior5.5, bior6.8\n",
        "rbio family: rbio1.1, rbio1.3, rbio1.5, rbio2.2, rbio2.4, rbio2.6, rbio2.8, rbio3.1, rbio3.3, rbio3.5, rbio3.7, rbio3.9, rbio4.4, rbio5.5, rbio6.8\n",
        "dmey family: dmey\n"
       ]
      }
     ],
     "prompt_number": 1
    },
    {
     "cell_type": "code",
     "collapsed": false,
     "input": [
      "#x = [1, 0, 0, 0, 0, 0, 0, 0, 0, 0, 0, 0, 0, 0, 0, 0, 0, 0, 0, 0, 0, 0, 0, 0, 0, 0, 0, 0, 0, 0, 0, 0, 0, 0, 0, 0, 0, 0, 0, 0, 0, 0, 0, 0, 0, 0, 0, 0, 0, 0, 0, 0, 0, 0, 0, 0, 0, 0, 0, 0, 0, 0, 0, 0] #32\n",
      "x = np.array(xrange(64))*0\n",
      "x[40] = 1\n",
      "\n",
      "w = pywt.Wavelet('haar')\n",
      "\n",
      "c = pywt.wavedec(x, w, mode='zpd')"
     ],
     "language": "python",
     "metadata": {},
     "outputs": [],
     "prompt_number": 2
    },
    {
     "cell_type": "code",
     "collapsed": false,
     "input": [
      "print 'Decomposing filter length: %d' % w.dec_len\n",
      "\n",
      "print 'Decomposed signal number of Approximations and Details: %d' % len(c)\n",
      "print 'Decomposed signal Approximations and Details:'\n",
      "print c\n",
      "cum_len = 0\n",
      "for jj in c :\n",
      "    cum_len = cum_len + len(jj)\n",
      "print 'Decomposed signal cumulative length of Approximations and Details: %d' % cum_len"
     ],
     "language": "python",
     "metadata": {},
     "outputs": [
      {
       "output_type": "stream",
       "stream": "stdout",
       "text": [
        "Decomposing filter length: 2\n",
        "Decomposed signal number of Approximations and Details: 7\n",
        "Decomposed signal Approximations and Details:\n",
        "[array([ 0.125]), array([-0.125]), array([ 0.       ,  0.1767767]), array([ 0.  ,  0.  , -0.25,  0.  ]), array([ 0.        ,  0.        ,  0.        ,  0.        ,  0.        ,\n",
        "        0.35355339,  0.        ,  0.        ]), array([ 0. ,  0. ,  0. ,  0. ,  0. ,  0. ,  0. ,  0. ,  0. ,  0. ,  0.5,\n",
        "        0. ,  0. ,  0. ,  0. ,  0. ]), array([ 0.        ,  0.        ,  0.        ,  0.        ,  0.        ,\n",
        "        0.        ,  0.        ,  0.        ,  0.        ,  0.        ,\n",
        "        0.        ,  0.        ,  0.        ,  0.        ,  0.        ,\n",
        "        0.        ,  0.        ,  0.        ,  0.        ,  0.        ,\n",
        "        0.70710678,  0.        ,  0.        ,  0.        ,  0.        ,\n",
        "        0.        ,  0.        ,  0.        ,  0.        ,  0.        ,\n",
        "        0.        ,  0.        ])]\n",
        "Decomposed signal cumulative length of Approximations and Details: 64\n"
       ]
      }
     ],
     "prompt_number": 106
    },
    {
     "cell_type": "code",
     "collapsed": false,
     "input": [
      "import matplotlib.widgets as widgets\n",
      "\n",
      "Ts = 1\n",
      "\n",
      "fig, axarr = plt.subplots(len(c)+1, 1, sharex=True, sharey=False )\n",
      "\n",
      "time = np.arange(0, x.size)*Ts  \n",
      "axarr[0].step(time, x, '.-', where='post')\n",
      "for ii in xrange(len(c)) :\n",
      "    start_t = w.dec_len * Ts / 2\n",
      "    if ii < len(c)-1 :\n",
      "        Ts = Ts*2\n",
      "    time = (np.arange(0, c[-ii-1].size))*Ts #- start_t      \n",
      "    axarr[ii+1].step(time, c[-ii-1], '.-', where='post')\n",
      "#axarr[0].set_xlim(0, 1000)\n",
      "\n",
      "multi = widgets.MultiCursor(fig.canvas, axarr, color='red', lw=2)  "
     ],
     "language": "python",
     "metadata": {},
     "outputs": [],
     "prompt_number": 3
    },
    {
     "cell_type": "code",
     "collapsed": false,
     "input": [],
     "language": "python",
     "metadata": {},
     "outputs": []
    }
   ],
   "metadata": {}
  }
 ]
}